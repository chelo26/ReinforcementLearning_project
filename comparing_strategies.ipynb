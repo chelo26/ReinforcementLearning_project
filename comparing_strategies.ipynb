{
 "cells": [
  {
   "cell_type": "code",
   "execution_count": 1,
   "metadata": {
    "collapsed": true
   },
   "outputs": [],
   "source": [
    "--- Libraries:\n",
    "arguments = require 'Settings.arguments'\n",
    "constants = require 'Settings.constants'\n",
    "card_to_string = require 'Game.card_to_string_conversion'\n",
    "card_tools = require 'Game.card_tools'\n",
    "game_settings = require 'Settings.game_settings'\n",
    "Plot = require 'itorch.Plot'\n",
    "nninit = require 'nninit'\n",
    "require 'torch'\n",
    "require 'math'\n",
    "require 'Tree.tree_builder'\n",
    "require 'Tree.tree_data_generation'\n",
    "require 'Tree.tree_visualiser'\n",
    "require 'nn'\n",
    "require 'Tree.tree_cfr'\n",
    "require 'nngraph'\n",
    "require 'optim'\n",
    "require 'image'\n",
    "require 'NN.strategy_net_builder'\n",
    "require 'NN.strategy_net_trainer'\n",
    "require 'Nn.StrategyCriterion'\n",
    "\n",
    "\n"
   ]
  },
  {
   "cell_type": "code",
   "execution_count": 2,
   "metadata": {
    "collapsed": true
   },
   "outputs": [],
   "source": [
    "--- Create the tree\n",
    "builder = PokerTreeBuilder()\n",
    "--- Parameters for the tree\n",
    "params = {}\n",
    "params.root_node = {}\n",
    "params.root_node.board = card_to_string:string_to_board('')\n",
    "params.root_node.street = 1\n",
    "params.root_node.current_player = constants.players.P1\n",
    "params.root_node.bets = arguments.Tensor{200, 200}\n",
    "--- CFR Solver\n",
    "starting_ranges = arguments.Tensor(constants.players_count, game_settings.card_count)\n",
    "starting_ranges[1]:copy(card_tools:get_uniform_range(params.root_node.board))\n",
    "starting_ranges[2]:copy(card_tools:get_uniform_range(params.root_node.board))"
   ]
  },
  {
   "cell_type": "code",
   "execution_count": 3,
   "metadata": {
    "collapsed": true
   },
   "outputs": [],
   "source": [
    "--- BUild trees\n",
    "tree = builder:build_tree(params)\n",
    "tree0 = builder:build_tree(params)\n",
    "tree1 = builder:build_tree(params)\n",
    "\n",
    "--- build data\n",
    "game = TreeData(tree)\n",
    "---game0 = TreeData(tree0)\n",
    "---game1 = TreeData(tree1)\n",
    "---game:get_training_set(tree,1)"
   ]
  },
  {
   "cell_type": "code",
   "execution_count": 4,
   "metadata": {},
   "outputs": [
    {
     "data": {
      "text/plain": [
       "Solver\n"
      ]
     },
     "execution_count": 4,
     "metadata": {},
     "output_type": "execute_result"
    },
    {
     "data": {
      "text/plain": [
       "getting training set\n"
      ]
     },
     "execution_count": 4,
     "metadata": {},
     "output_type": "execute_result"
    }
   ],
   "source": [
    "tree_cfr = TreeCFR()\n",
    "print(\"Solver\")\n",
    "tree_cfr:run_cfr(tree, starting_ranges,400)\n",
    "print(\"getting training set\")\n",
    "game:get_training_set(tree,1)"
   ]
  },
  {
   "cell_type": "markdown",
   "metadata": {},
   "source": [
    "## Using the modules"
   ]
  },
  {
   "cell_type": "code",
   "execution_count": 5,
   "metadata": {
    "collapsed": true
   },
   "outputs": [],
   "source": [
    "-- Building the neural net model\n",
    "strategy_nn = StrategyNN()\n",
    "nn_model = strategy_nn.model\n",
    "-- Building trainer:\n",
    "nn_trainer = NNTrainer(game,nn_model)\n",
    "-- Options:\n",
    "opt = {}\n",
    "opt.learningRate = 0.001\n",
    "opt.momentum = 0.95\n",
    "opt.validate = false"
   ]
  },
  {
   "cell_type": "code",
   "execution_count": 6,
   "metadata": {
    "collapsed": true
   },
   "outputs": [],
   "source": [
    "---current_criterion = nn.SmoothL1Criterion()\n",
    "current_criterion = StrategyLoss()\n",
    "train_loss,test_loss = nn_trainer:train(nn_model,current_criterion,opt,10000)"
   ]
  },
  {
   "cell_type": "code",
   "execution_count": 7,
   "metadata": {},
   "outputs": [
    {
     "data": {
      "text/plain": [
       "0.0026265346874302\n"
      ]
     },
     "execution_count": 7,
     "metadata": {},
     "output_type": "execute_result"
    }
   ],
   "source": [
    "pred_strat = nn_model:forward({nn_trainer.all_data.features,nn_trainer.all_data.masks})\n",
    "true_strat =nn_trainer.all_data.targets\n",
    "print(torch.mean(torch.abs(pred_strat- true_strat)))"
   ]
  },
  {
   "cell_type": "code",
   "execution_count": 8,
   "metadata": {
    "collapsed": true
   },
   "outputs": [],
   "source": [
    "--- Generating new initial strategies\n",
    "game0 = TreeData(tree0)\n",
    "game0:get_training_set(tree0,1)\n",
    "game0:generate_new_initial_strategies(tree0,nn_trainer)"
   ]
  },
  {
   "cell_type": "code",
   "execution_count": 9,
   "metadata": {},
   "outputs": [
    {
     "data": {
      "text/plain": [
       "Solver\n"
      ]
     },
     "execution_count": 9,
     "metadata": {},
     "output_type": "execute_result"
    }
   ],
   "source": [
    "--- CFR:\n",
    "tree_cfr0 = TreeCFR()\n",
    "print(\"Solver\")\n",
    "tree_cfr0:run_cfr(tree0, starting_ranges,400)"
   ]
  },
  {
   "cell_type": "code",
   "execution_count": 10,
   "metadata": {},
   "outputs": [
    {
     "data": {
      "text/plain": [
       "Solver\n"
      ]
     },
     "execution_count": 10,
     "metadata": {},
     "output_type": "execute_result"
    }
   ],
   "source": [
    "--- CFR:\n",
    "tree_cfr = TreeCFR()\n",
    "print(\"Solver\")\n",
    "tree_cfr:run_cfr(tree, starting_ranges,400)"
   ]
  },
  {
   "cell_type": "code",
   "execution_count": 11,
   "metadata": {},
   "outputs": [
    {
     "data": {
      "text/plain": [
       " 0.0003  0.0003  0.0003  0.0003  0.0044  0.0044\n",
       " 0.4932  0.4932  0.9801  0.9801  0.8038  0.8038\n",
       " 0.0869  0.0869  0.0165  0.0165  0.0151  0.0151\n",
       " 0.4196  0.4196  0.0030  0.0030  0.1767  0.1767\n",
       "[torch.FloatTensor of size 4x6]\n",
       "\n"
      ]
     },
     "execution_count": 11,
     "metadata": {},
     "output_type": "execute_result"
    }
   ],
   "source": [
    "tree.strategy"
   ]
  },
  {
   "cell_type": "code",
   "execution_count": 12,
   "metadata": {},
   "outputs": [
    {
     "data": {
      "text/plain": [
       " 0.0006  0.0006  0.0006  0.0006  0.0089  0.0089\n",
       " 0.4967  0.4967  0.9634  0.9634  0.8178  0.8178\n",
       " 0.1242  0.1242  0.0299  0.0299  0.0216  0.0216\n",
       " 0.3785  0.3785  0.0061  0.0061  0.1517  0.1517\n",
       "[torch.FloatTensor of size 4x6]\n",
       "\n"
      ]
     },
     "execution_count": 12,
     "metadata": {},
     "output_type": "execute_result"
    }
   ],
   "source": [
    "tree0.strategy"
   ]
  },
  {
   "cell_type": "code",
   "execution_count": 13,
   "metadata": {
    "collapsed": true
   },
   "outputs": [],
   "source": [
    "function compare_two_trees(table1,table2)\n",
    "    local difference = {}\n",
    "    for i = 1, #table1 do\n",
    "        difference[i] = torch.sqrt(torch.sum(torch.pow((table1[i] - table2[i]),2)))\n",
    "    end\n",
    "    return torch.FloatTensor(difference)\n",
    "end"
   ]
  },
  {
   "cell_type": "code",
   "execution_count": 14,
   "metadata": {
    "collapsed": true
   },
   "outputs": [],
   "source": [
    "dif = compare_two_trees(tree_cfr.total_strategies,tree_cfr0.total_strategies)"
   ]
  },
  {
   "cell_type": "code",
   "execution_count": 15,
   "metadata": {},
   "outputs": [
    {
     "data": {
      "text/html": [
       "<script type=\"text/javascript\">\n",
       "$(function() {\n",
       "    if (typeof (window._bokeh_onload_callbacks) === \"undefined\"){\n",
       "  window._bokeh_onload_callbacks = [];\n",
       "    }\n",
       "    function load_lib(url, callback){\n",
       "  window._bokeh_onload_callbacks.push(callback);\n",
       "  if (window._bokeh_is_loading){\n",
       "      console.log(\"Bokeh: BokehJS is being loaded, scheduling callback at\", new Date());\n",
       "      return null;\n",
       "  }\n",
       "  console.log(\"Bokeh: BokehJS not loaded, scheduling load and callback at\", new Date());\n",
       "  window._bokeh_is_loading = true;\n",
       "  var s = document.createElement('script');\n",
       "  s.src = url;\n",
       "  s.async = true;\n",
       "  s.onreadystatechange = s.onload = function(){\n",
       "      Bokeh.embed.inject_css(\"https://cdn.pydata.org/bokeh-0.7.0.min.css\");\n",
       "      window._bokeh_onload_callbacks.forEach(function(callback){callback()});\n",
       "  };\n",
       "  s.onerror = function(){\n",
       "      console.warn(\"failed to load library \" + url);\n",
       "  };\n",
       "  document.getElementsByTagName(\"head\")[0].appendChild(s);\n",
       "    }\n",
       "\n",
       "    bokehjs_url = \"https://cdn.pydata.org/bokeh-0.7.0.min.js\"\n",
       "\n",
       "    var elt = document.getElementById(\"502bb0eb-2a00-4d2d-cdab-ac8452775217\");\n",
       "    if(elt==null) {\n",
       "  console.log(\"Bokeh: ERROR: autoload.js configured with elementid '502bb0eb-2a00-4d2d-cdab-ac8452775217'\"\n",
       "        + \"but no matching script tag was found. \")\n",
       "  return false;\n",
       "    }\n",
       "\n",
       "    if(typeof(Bokeh) !== \"undefined\") {\n",
       "  console.log(\"Bokeh: BokehJS loaded, going straight to plotting\");\n",
       "  var modelid = \"f23ef47a-20f6-4b37-cbc8-0cf5a4922321\";\n",
       "  var modeltype = \"Plot\";\n",
       "  var all_models = [{\"id\":\"d380a781-861e-47ab-c762-64d43e1fbaa5\",\"attributes\":{\"tags\":[],\"discrete_ranges\":{},\"data\":{\"y\":[2.9617829322815,2.9351534843445,2.9100475311279,2.8854508399963,2.8615381717682,2.8384177684784,2.8142974376678,2.7883274555206,2.762077331543,2.7374999523163,2.7148594856262,2.693962097168,2.6762382984161,2.6573970317841,2.63716340065,2.6162157058716,2.5961925983429,2.5778095722198,2.5612018108368,2.5456922054291,2.5289192199707,2.5092952251434,2.4878318309784,2.4656336307526,2.444518327713,2.424770116806,2.4028744697571,2.3826258182526,2.3640298843384,2.3420875072479,2.3176884651184,2.293524980545,2.2712788581848,2.2518672943115,2.2361211776733,2.2239096164703,2.2140023708344,2.2017498016357,2.1858973503113,2.1670479774475,2.1480042934418,2.1307899951935,2.1142814159393,2.1016812324524,2.0909514427185,2.0786511898041,2.0649409294128,2.0502958297729,2.0356333255768,2.0209014415741,2.0058627128601,1.9914311170578,1.9783216714859,1.9667626619339,1.956495642662,1.9472385644913,1.9384614229202,1.9286124706268,1.9173570871353,1.9055589437485,1.8944348096848,1.8846246004105,1.8743962049484,1.8641327619553,1.8541320562363,1.8448784351349,1.837021112442,1.8306455612183,1.824672460556,1.8188673257828,1.8127492666245,1.8056817054749,1.7966291904449,1.7851465940475,1.770770907402,1.7548096179962,1.7395595312119,1.7271035909653,1.7156140804291,1.705642580986,1.6976320743561,1.691307425499,1.6857342720032,1.6809657812119,1.6771433353424,1.6748733520508,1.6737767457962,1.6728134155273,1.6713889837265,1.6690682172775,1.6657140254974,1.661061167717,1.6559075117111,1.6511228084564,1.6464604139328,1.6425417661667,1.6379746198654,1.6327141523361,1.6269849538803,1.62127161026,1.6158758401871,1.6111739873886,1.6076925992966,1.6044478416443,1.6010549068451,1.5972712039948,1.592694401741,1.5869932174683,1.5798900127411,1.5714486837387,1.5617361068726,1.5507947206497,1.5408967733383,1.5307894945145,1.5204018354416,1.5110105276108,1.5029667615891,1.4962873458862,1.4905673265457,1.4861882925034,1.4821951389313,1.4781928062439,1.4743330478668,1.4699079990387,1.4639581441879,1.4560724496841,1.4469192028046,1.4371480941772,1.4275411367416,1.4184675216675,1.4117274284363,1.4074020385742,1.4026635885239,1.3978970050812,1.3935333490372,1.3897377252579,1.3862293958664,1.3827404975891,1.379376411438,1.3760315179825,1.3730531930923,1.3700935840607,1.3666115999222,1.3618309497833,1.3554538488388,1.3471524715424,1.336881518364,1.3254631757736,1.3137580156326,1.301762342453,1.2901759147644,1.2805007696152,1.273837685585,1.2679505348206,1.2628298997879,1.2583903074265,1.2544430494308,1.2508617639542,1.2476809024811,1.244920372963,1.2426743507385,1.2407124042511,1.2379839420319,1.2342743873596,1.2306780815125,1.2271707057953,1.2235240936279,1.219596862793,1.2153489589691,1.2114335298538,1.2085764408112,1.205775976181,1.2025245428085,1.1989275217056,1.1952364444733,1.1914999485016,1.1878026723862,1.1843816041946,1.1813716888428,1.1790927648544,1.177535533905,1.175701379776,1.1731778383255,1.1699768304825,1.1662527322769,1.1618964672089,1.1568475961685,1.1508412361145,1.1449630260468,1.1406618356705,1.1370875835419,1.1339297294617,1.130863904953,1.1277104616165,1.1244850158691,1.1214807033539,1.1188915967941,1.1165055036545,1.1140792369843,1.111524105072,1.1086966991425,1.105402469635,1.1014350652695,1.0966584682465,1.0913083553314,1.0854786634445,1.0796802043915,1.0743644237518,1.0702031850815,1.0682932138443,1.0666366815567,1.0651072263718,1.0635347366333,1.0617700815201,1.060190320015,1.058833360672,1.0576584339142,1.0566132068634,1.0561454296112,1.0555480718613,1.0543458461761,1.0520830154419,1.0483087301254,1.0429855585098,1.0364804267883,1.0291124582291,1.0215166807175,1.0149321556091,1.0090179443359,1.0039508342743,0.99985611438751,0.9970161318779,0.99479711055756,0.99303424358368,0.99179077148438,0.99099969863892,0.99060589075089,0.99044549465179,0.99041146039963,0.99047493934631,0.99037605524063,0.99002826213837,0.98783153295517,0.9817773103714,0.97454768419266,0.97019064426422,0.96829986572266,0.96643388271332,0.96407318115234,0.96120685338974,0.95785856246948,0.95425856113434,0.95060557126999,0.94711309671402,0.94406169652939,0.94171249866486,0.93991929292679,0.93827271461487,0.93669128417969,0.93509602546692,0.93344837427139,0.93183833360672,0.92929309606552,0.92514330148697,0.9192618727684,0.91192895174026,0.90382999181747,0.8957661986351,0.88788443803787,0.88095504045486,0.87578427791595,0.87261897325516,0.86895245313644,0.86475318670273,0.86045372486115,0.85637384653091,0.85272139310837,0.84964442253113,0.84727090597153,0.84573197364807,0.84432512521744,0.84297621250153,0.84161579608917,0.84026628732681,0.83890438079834,0.8375591635704,0.83630061149597,0.83509701490402,0.83383750915527,0.83301877975464,0.83272910118103,0.83196812868118,0.8308162689209,0.82987666130066,0.82931703329086,0.82907003164291,0.82878893613815,0.82814085483551,0.8277086019516,0.82708913087845],\"x\":[1,2,3,4,5,6,7,8,9,10,11,12,13,14,15,16,17,18,19,20,21,22,23,24,25,26,27,28,29,30,31,32,33,34,35,36,37,38,39,40,41,42,43,44,45,46,47,48,49,50,51,52,53,54,55,56,57,58,59,60,61,62,63,64,65,66,67,68,69,70,71,72,73,74,75,76,77,78,79,80,81,82,83,84,85,86,87,88,89,90,91,92,93,94,95,96,97,98,99,100,101,102,103,104,105,106,107,108,109,110,111,112,113,114,115,116,117,118,119,120,121,122,123,124,125,126,127,128,129,130,131,132,133,134,135,136,137,138,139,140,141,142,143,144,145,146,147,148,149,150,151,152,153,154,155,156,157,158,159,160,161,162,163,164,165,166,167,168,169,170,171,172,173,174,175,176,177,178,179,180,181,182,183,184,185,186,187,188,189,190,191,192,193,194,195,196,197,198,199,200,201,202,203,204,205,206,207,208,209,210,211,212,213,214,215,216,217,218,219,220,221,222,223,224,225,226,227,228,229,230,231,232,233,234,235,236,237,238,239,240,241,242,243,244,245,246,247,248,249,250,251,252,253,254,255,256,257,258,259,260,261,262,263,264,265,266,267,268,269,270,271,272,273,274,275,276,277,278,279,280,281,282,283,284,285,286,287,288,289,290,291,292,293,294,295,296,297,298,299,300]},\"cont_ranges\":{},\"column_names\":[\"y\",\"x\"],\"doc\":null,\"id\":\"d380a781-861e-47ab-c762-64d43e1fbaa5\",\"selected\":[]},\"type\":\"ColumnDataSource\"},{\"id\":\"33d9051b-305c-47b8-c794-59284a2b39ab\",\"attributes\":{\"line_alpha\":{\"units\":\"data\",\"value\":1},\"doc\":null,\"id\":\"33d9051b-305c-47b8-c794-59284a2b39ab\",\"size\":{\"units\":\"screen\",\"value\":10},\"fill_color\":{\"value\":\"red\"},\"x\":{\"units\":\"data\",\"field\":\"x\"},\"line_color\":{\"value\":\"red\"},\"tags\":[],\"fill_alpha\":{\"units\":\"data\",\"value\":0.2},\"y\":{\"units\":\"data\",\"field\":\"y\"}},\"type\":\"Line\"},{\"id\":\"67e29457-6fb3-45ca-c548-432b8812ffc0\",\"attributes\":{\"line_alpha\":{\"units\":\"data\",\"value\":1},\"doc\":null,\"id\":\"67e29457-6fb3-45ca-c548-432b8812ffc0\",\"size\":{\"units\":\"screen\",\"value\":10},\"fill_color\":{\"value\":\"red\"},\"x\":{\"units\":\"data\",\"field\":\"x\"},\"line_color\":{\"value\":\"red\"},\"tags\":[],\"fill_alpha\":{\"units\":\"data\",\"value\":0.2},\"y\":{\"units\":\"data\",\"field\":\"y\"}},\"type\":\"Line\"},{\"id\":\"1f2a6cc5-366f-48ed-c844-7bca41364861\",\"attributes\":{\"server_data_source\":null,\"nonselection_glyph\":{\"id\":\"67e29457-6fb3-45ca-c548-432b8812ffc0\",\"type\":\"Line\"},\"doc\":null,\"selection_glyph\":null,\"id\":\"1f2a6cc5-366f-48ed-c844-7bca41364861\",\"glyph\":{\"id\":\"33d9051b-305c-47b8-c794-59284a2b39ab\",\"type\":\"Line\"},\"tags\":[],\"name\":null,\"data_source\":{\"id\":\"d380a781-861e-47ab-c762-64d43e1fbaa5\",\"type\":\"ColumnDataSource\"}},\"type\":\"GlyphRenderer\"},{\"id\":\"35edc39d-935b-4832-c8ca-b204bf1de5a7\",\"attributes\":{\"id\":\"35edc39d-935b-4832-c8ca-b204bf1de5a7\",\"doc\":null,\"sources\":[{\"source\":{\"id\":\"d380a781-861e-47ab-c762-64d43e1fbaa5\",\"type\":\"ColumnDataSource\"},\"columns\":[\"x\"]}],\"tags\":[]},\"type\":\"DataRange1d\"},{\"id\":\"58613754-04ea-4964-c9d4-e02157f15c5a\",\"attributes\":{\"id\":\"58613754-04ea-4964-c9d4-e02157f15c5a\",\"doc\":null,\"sources\":[{\"source\":{\"id\":\"d380a781-861e-47ab-c762-64d43e1fbaa5\",\"type\":\"ColumnDataSource\"},\"columns\":[\"y\"]}],\"tags\":[]},\"type\":\"DataRange1d\"},{\"id\":\"1492c6d8-7ed1-446f-c459-48eba0be28c6\",\"attributes\":{\"id\":\"1492c6d8-7ed1-446f-c459-48eba0be28c6\",\"doc\":null,\"geometries\":[],\"tags\":[]},\"type\":\"ToolEvents\"},{\"id\":\"409cda50-9b20-4f22-cf20-33c01275f63c\",\"attributes\":{\"id\":\"409cda50-9b20-4f22-cf20-33c01275f63c\",\"doc\":null,\"tags\":[]},\"type\":\"BasicTickFormatter\"},{\"id\":\"32af14da-271e-4ff1-cf0f-d424cd3a6699\",\"attributes\":{\"id\":\"32af14da-271e-4ff1-cf0f-d424cd3a6699\",\"doc\":null,\"num_minor_ticks\":5,\"tags\":[]},\"type\":\"BasicTicker\"},{\"id\":\"a70dfccf-6908-4bf9-cbab-d53cb796383a\",\"attributes\":{\"tags\":[],\"ticker\":{\"id\":\"32af14da-271e-4ff1-cf0f-d424cd3a6699\",\"type\":\"BasicTicker\"},\"formatter\":{\"id\":\"409cda50-9b20-4f22-cf20-33c01275f63c\",\"type\":\"BasicTickFormatter\"},\"axis_label\":null,\"doc\":null,\"id\":\"a70dfccf-6908-4bf9-cbab-d53cb796383a\",\"plot\":{\"id\":\"f23ef47a-20f6-4b37-cbc8-0cf5a4922321\",\"subtype\":\"Figure\",\"type\":\"Plot\"}},\"type\":\"LinearAxis\"},{\"id\":\"007268ee-0583-40dc-c09c-549fa7a44206\",\"attributes\":{\"tags\":[],\"dimension\":0,\"ticker\":{\"id\":\"32af14da-271e-4ff1-cf0f-d424cd3a6699\",\"type\":\"BasicTicker\"},\"doc\":null,\"id\":\"007268ee-0583-40dc-c09c-549fa7a44206\",\"plot\":{\"id\":\"f23ef47a-20f6-4b37-cbc8-0cf5a4922321\",\"subtype\":\"Figure\",\"type\":\"Plot\"}},\"type\":\"Grid\"},{\"id\":\"fc35a48f-601e-4223-c28a-7be2145c194c\",\"attributes\":{\"id\":\"fc35a48f-601e-4223-c28a-7be2145c194c\",\"doc\":null,\"tags\":[]},\"type\":\"BasicTickFormatter\"},{\"id\":\"d7e9d3f8-d0cc-4672-c6b1-d0773166ee77\",\"attributes\":{\"id\":\"d7e9d3f8-d0cc-4672-c6b1-d0773166ee77\",\"doc\":null,\"num_minor_ticks\":5,\"tags\":[]},\"type\":\"BasicTicker\"},{\"id\":\"60843ae6-fc23-45b0-c568-bd084d31d046\",\"attributes\":{\"tags\":[],\"ticker\":{\"id\":\"d7e9d3f8-d0cc-4672-c6b1-d0773166ee77\",\"type\":\"BasicTicker\"},\"formatter\":{\"id\":\"fc35a48f-601e-4223-c28a-7be2145c194c\",\"type\":\"BasicTickFormatter\"},\"axis_label\":null,\"doc\":null,\"id\":\"60843ae6-fc23-45b0-c568-bd084d31d046\",\"plot\":{\"id\":\"f23ef47a-20f6-4b37-cbc8-0cf5a4922321\",\"subtype\":\"Figure\",\"type\":\"Plot\"}},\"type\":\"LinearAxis\"},{\"id\":\"b768c8b8-93a2-4c00-cc58-787e8751db23\",\"attributes\":{\"tags\":[],\"dimension\":1,\"ticker\":{\"id\":\"d7e9d3f8-d0cc-4672-c6b1-d0773166ee77\",\"type\":\"BasicTicker\"},\"doc\":null,\"id\":\"b768c8b8-93a2-4c00-cc58-787e8751db23\",\"plot\":{\"id\":\"f23ef47a-20f6-4b37-cbc8-0cf5a4922321\",\"subtype\":\"Figure\",\"type\":\"Plot\"}},\"type\":\"Grid\"},{\"id\":\"6663d80e-74c3-4af6-caff-bd59cb32998a\",\"attributes\":{\"tags\":[],\"dimensions\":[\"width\",\"height\"],\"doc\":null,\"id\":\"6663d80e-74c3-4af6-caff-bd59cb32998a\",\"plot\":{\"id\":\"f23ef47a-20f6-4b37-cbc8-0cf5a4922321\",\"subtype\":\"Figure\",\"type\":\"Plot\"}},\"type\":\"PanTool\"},{\"id\":\"40339383-bf9b-4dcc-cd25-1b863f9255ad\",\"attributes\":{\"tags\":[],\"dimensions\":[\"width\",\"height\"],\"doc\":null,\"id\":\"40339383-bf9b-4dcc-cd25-1b863f9255ad\",\"plot\":{\"id\":\"f23ef47a-20f6-4b37-cbc8-0cf5a4922321\",\"subtype\":\"Figure\",\"type\":\"Plot\"}},\"type\":\"WheelZoomTool\"},{\"id\":\"11d8e055-25be-4967-c98e-7e9dec9d410a\",\"attributes\":{\"id\":\"11d8e055-25be-4967-c98e-7e9dec9d410a\",\"doc\":null,\"tags\":[],\"plot\":{\"id\":\"f23ef47a-20f6-4b37-cbc8-0cf5a4922321\",\"subtype\":\"Figure\",\"type\":\"Plot\"}},\"type\":\"BoxZoomTool\"},{\"id\":\"9e57062b-9c6c-41ba-c15d-6016956b1c53\",\"attributes\":{\"id\":\"9e57062b-9c6c-41ba-c15d-6016956b1c53\",\"doc\":null,\"tags\":[],\"plot\":{\"id\":\"f23ef47a-20f6-4b37-cbc8-0cf5a4922321\",\"subtype\":\"Figure\",\"type\":\"Plot\"}},\"type\":\"PreviewSaveTool\"},{\"id\":\"af90df88-f90f-491c-c98c-b220790f71eb\",\"attributes\":{\"id\":\"af90df88-f90f-491c-c98c-b220790f71eb\",\"doc\":null,\"tags\":[],\"plot\":{\"id\":\"f23ef47a-20f6-4b37-cbc8-0cf5a4922321\",\"subtype\":\"Figure\",\"type\":\"Plot\"}},\"type\":\"ResizeTool\"},{\"id\":\"70dbff8c-1fd8-40aa-c0f9-75282348f999\",\"attributes\":{\"id\":\"70dbff8c-1fd8-40aa-c0f9-75282348f999\",\"doc\":null,\"tags\":[],\"plot\":{\"id\":\"f23ef47a-20f6-4b37-cbc8-0cf5a4922321\",\"subtype\":\"Figure\",\"type\":\"Plot\"}},\"type\":\"ResetTool\"},{\"id\":\"da10ecf3-7748-456e-c532-62c2d0acb8ae\",\"attributes\":{\"tags\":[],\"legends\":[[\"train loss\",[{\"id\":\"1f2a6cc5-366f-48ed-c844-7bca41364861\",\"type\":\"GlyphRenderer\"}]]],\"doc\":null,\"id\":\"da10ecf3-7748-456e-c532-62c2d0acb8ae\",\"plot\":{\"id\":\"f23ef47a-20f6-4b37-cbc8-0cf5a4922321\",\"subtype\":\"Figure\",\"type\":\"Plot\"}},\"type\":\"Legend\"},{\"id\":\"f23ef47a-20f6-4b37-cbc8-0cf5a4922321\",\"attributes\":{\"above\":[],\"x_range\":{\"id\":\"35edc39d-935b-4832-c8ca-b204bf1de5a7\",\"type\":\"DataRange1d\"},\"title\":\"Mean Square Error\",\"tool_events\":{\"id\":\"1492c6d8-7ed1-446f-c459-48eba0be28c6\",\"type\":\"ToolEvents\"},\"doc\":null,\"extra_y_ranges\":{},\"extra_x_ranges\":{},\"id\":\"f23ef47a-20f6-4b37-cbc8-0cf5a4922321\",\"renderers\":[{\"id\":\"1f2a6cc5-366f-48ed-c844-7bca41364861\",\"type\":\"GlyphRenderer\"},{\"id\":\"a70dfccf-6908-4bf9-cbab-d53cb796383a\",\"type\":\"LinearAxis\"},{\"id\":\"007268ee-0583-40dc-c09c-549fa7a44206\",\"type\":\"Grid\"},{\"id\":\"60843ae6-fc23-45b0-c568-bd084d31d046\",\"type\":\"LinearAxis\"},{\"id\":\"b768c8b8-93a2-4c00-cc58-787e8751db23\",\"type\":\"Grid\"},{\"id\":\"da10ecf3-7748-456e-c532-62c2d0acb8ae\",\"type\":\"Legend\"}],\"tools\":[{\"id\":\"6663d80e-74c3-4af6-caff-bd59cb32998a\",\"type\":\"PanTool\"},{\"id\":\"40339383-bf9b-4dcc-cd25-1b863f9255ad\",\"type\":\"WheelZoomTool\"},{\"id\":\"11d8e055-25be-4967-c98e-7e9dec9d410a\",\"type\":\"BoxZoomTool\"},{\"id\":\"9e57062b-9c6c-41ba-c15d-6016956b1c53\",\"type\":\"PreviewSaveTool\"},{\"id\":\"af90df88-f90f-491c-c98c-b220790f71eb\",\"type\":\"ResizeTool\"},{\"id\":\"70dbff8c-1fd8-40aa-c0f9-75282348f999\",\"type\":\"ResetTool\"}],\"left\":[{\"id\":\"60843ae6-fc23-45b0-c568-bd084d31d046\",\"type\":\"LinearAxis\"}],\"below\":[{\"id\":\"a70dfccf-6908-4bf9-cbab-d53cb796383a\",\"type\":\"LinearAxis\"}],\"y_range\":{\"id\":\"58613754-04ea-4964-c9d4-e02157f15c5a\",\"type\":\"DataRange1d\"},\"tags\":[],\"right\":[]},\"type\":\"Plot\"}];\n",
       "  Bokeh.load_models(all_models);\n",
       "  var model = Bokeh.Collections(modeltype).get(modelid);\n",
       "  $(\"#502bb0eb-2a00-4d2d-cdab-ac8452775217\").html(''); // clear any previous plot in window_id\n",
       "  var view = new model.default_view({model: model, el: \"#502bb0eb-2a00-4d2d-cdab-ac8452775217\"});\n",
       "    } else {\n",
       "  load_lib(bokehjs_url, function() {\n",
       "      console.log(\"Bokeh: BokehJS plotting callback run at\", new Date())\n",
       "      var modelid = \"f23ef47a-20f6-4b37-cbc8-0cf5a4922321\";\n",
       "      var modeltype = \"Plot\";\n",
       "      var all_models = [{\"id\":\"d380a781-861e-47ab-c762-64d43e1fbaa5\",\"attributes\":{\"tags\":[],\"discrete_ranges\":{},\"data\":{\"y\":[2.9617829322815,2.9351534843445,2.9100475311279,2.8854508399963,2.8615381717682,2.8384177684784,2.8142974376678,2.7883274555206,2.762077331543,2.7374999523163,2.7148594856262,2.693962097168,2.6762382984161,2.6573970317841,2.63716340065,2.6162157058716,2.5961925983429,2.5778095722198,2.5612018108368,2.5456922054291,2.5289192199707,2.5092952251434,2.4878318309784,2.4656336307526,2.444518327713,2.424770116806,2.4028744697571,2.3826258182526,2.3640298843384,2.3420875072479,2.3176884651184,2.293524980545,2.2712788581848,2.2518672943115,2.2361211776733,2.2239096164703,2.2140023708344,2.2017498016357,2.1858973503113,2.1670479774475,2.1480042934418,2.1307899951935,2.1142814159393,2.1016812324524,2.0909514427185,2.0786511898041,2.0649409294128,2.0502958297729,2.0356333255768,2.0209014415741,2.0058627128601,1.9914311170578,1.9783216714859,1.9667626619339,1.956495642662,1.9472385644913,1.9384614229202,1.9286124706268,1.9173570871353,1.9055589437485,1.8944348096848,1.8846246004105,1.8743962049484,1.8641327619553,1.8541320562363,1.8448784351349,1.837021112442,1.8306455612183,1.824672460556,1.8188673257828,1.8127492666245,1.8056817054749,1.7966291904449,1.7851465940475,1.770770907402,1.7548096179962,1.7395595312119,1.7271035909653,1.7156140804291,1.705642580986,1.6976320743561,1.691307425499,1.6857342720032,1.6809657812119,1.6771433353424,1.6748733520508,1.6737767457962,1.6728134155273,1.6713889837265,1.6690682172775,1.6657140254974,1.661061167717,1.6559075117111,1.6511228084564,1.6464604139328,1.6425417661667,1.6379746198654,1.6327141523361,1.6269849538803,1.62127161026,1.6158758401871,1.6111739873886,1.6076925992966,1.6044478416443,1.6010549068451,1.5972712039948,1.592694401741,1.5869932174683,1.5798900127411,1.5714486837387,1.5617361068726,1.5507947206497,1.5408967733383,1.5307894945145,1.5204018354416,1.5110105276108,1.5029667615891,1.4962873458862,1.4905673265457,1.4861882925034,1.4821951389313,1.4781928062439,1.4743330478668,1.4699079990387,1.4639581441879,1.4560724496841,1.4469192028046,1.4371480941772,1.4275411367416,1.4184675216675,1.4117274284363,1.4074020385742,1.4026635885239,1.3978970050812,1.3935333490372,1.3897377252579,1.3862293958664,1.3827404975891,1.379376411438,1.3760315179825,1.3730531930923,1.3700935840607,1.3666115999222,1.3618309497833,1.3554538488388,1.3471524715424,1.336881518364,1.3254631757736,1.3137580156326,1.301762342453,1.2901759147644,1.2805007696152,1.273837685585,1.2679505348206,1.2628298997879,1.2583903074265,1.2544430494308,1.2508617639542,1.2476809024811,1.244920372963,1.2426743507385,1.2407124042511,1.2379839420319,1.2342743873596,1.2306780815125,1.2271707057953,1.2235240936279,1.219596862793,1.2153489589691,1.2114335298538,1.2085764408112,1.205775976181,1.2025245428085,1.1989275217056,1.1952364444733,1.1914999485016,1.1878026723862,1.1843816041946,1.1813716888428,1.1790927648544,1.177535533905,1.175701379776,1.1731778383255,1.1699768304825,1.1662527322769,1.1618964672089,1.1568475961685,1.1508412361145,1.1449630260468,1.1406618356705,1.1370875835419,1.1339297294617,1.130863904953,1.1277104616165,1.1244850158691,1.1214807033539,1.1188915967941,1.1165055036545,1.1140792369843,1.111524105072,1.1086966991425,1.105402469635,1.1014350652695,1.0966584682465,1.0913083553314,1.0854786634445,1.0796802043915,1.0743644237518,1.0702031850815,1.0682932138443,1.0666366815567,1.0651072263718,1.0635347366333,1.0617700815201,1.060190320015,1.058833360672,1.0576584339142,1.0566132068634,1.0561454296112,1.0555480718613,1.0543458461761,1.0520830154419,1.0483087301254,1.0429855585098,1.0364804267883,1.0291124582291,1.0215166807175,1.0149321556091,1.0090179443359,1.0039508342743,0.99985611438751,0.9970161318779,0.99479711055756,0.99303424358368,0.99179077148438,0.99099969863892,0.99060589075089,0.99044549465179,0.99041146039963,0.99047493934631,0.99037605524063,0.99002826213837,0.98783153295517,0.9817773103714,0.97454768419266,0.97019064426422,0.96829986572266,0.96643388271332,0.96407318115234,0.96120685338974,0.95785856246948,0.95425856113434,0.95060557126999,0.94711309671402,0.94406169652939,0.94171249866486,0.93991929292679,0.93827271461487,0.93669128417969,0.93509602546692,0.93344837427139,0.93183833360672,0.92929309606552,0.92514330148697,0.9192618727684,0.91192895174026,0.90382999181747,0.8957661986351,0.88788443803787,0.88095504045486,0.87578427791595,0.87261897325516,0.86895245313644,0.86475318670273,0.86045372486115,0.85637384653091,0.85272139310837,0.84964442253113,0.84727090597153,0.84573197364807,0.84432512521744,0.84297621250153,0.84161579608917,0.84026628732681,0.83890438079834,0.8375591635704,0.83630061149597,0.83509701490402,0.83383750915527,0.83301877975464,0.83272910118103,0.83196812868118,0.8308162689209,0.82987666130066,0.82931703329086,0.82907003164291,0.82878893613815,0.82814085483551,0.8277086019516,0.82708913087845],\"x\":[1,2,3,4,5,6,7,8,9,10,11,12,13,14,15,16,17,18,19,20,21,22,23,24,25,26,27,28,29,30,31,32,33,34,35,36,37,38,39,40,41,42,43,44,45,46,47,48,49,50,51,52,53,54,55,56,57,58,59,60,61,62,63,64,65,66,67,68,69,70,71,72,73,74,75,76,77,78,79,80,81,82,83,84,85,86,87,88,89,90,91,92,93,94,95,96,97,98,99,100,101,102,103,104,105,106,107,108,109,110,111,112,113,114,115,116,117,118,119,120,121,122,123,124,125,126,127,128,129,130,131,132,133,134,135,136,137,138,139,140,141,142,143,144,145,146,147,148,149,150,151,152,153,154,155,156,157,158,159,160,161,162,163,164,165,166,167,168,169,170,171,172,173,174,175,176,177,178,179,180,181,182,183,184,185,186,187,188,189,190,191,192,193,194,195,196,197,198,199,200,201,202,203,204,205,206,207,208,209,210,211,212,213,214,215,216,217,218,219,220,221,222,223,224,225,226,227,228,229,230,231,232,233,234,235,236,237,238,239,240,241,242,243,244,245,246,247,248,249,250,251,252,253,254,255,256,257,258,259,260,261,262,263,264,265,266,267,268,269,270,271,272,273,274,275,276,277,278,279,280,281,282,283,284,285,286,287,288,289,290,291,292,293,294,295,296,297,298,299,300]},\"cont_ranges\":{},\"column_names\":[\"y\",\"x\"],\"doc\":null,\"id\":\"d380a781-861e-47ab-c762-64d43e1fbaa5\",\"selected\":[]},\"type\":\"ColumnDataSource\"},{\"id\":\"33d9051b-305c-47b8-c794-59284a2b39ab\",\"attributes\":{\"line_alpha\":{\"units\":\"data\",\"value\":1},\"doc\":null,\"id\":\"33d9051b-305c-47b8-c794-59284a2b39ab\",\"size\":{\"units\":\"screen\",\"value\":10},\"fill_color\":{\"value\":\"red\"},\"x\":{\"units\":\"data\",\"field\":\"x\"},\"line_color\":{\"value\":\"red\"},\"tags\":[],\"fill_alpha\":{\"units\":\"data\",\"value\":0.2},\"y\":{\"units\":\"data\",\"field\":\"y\"}},\"type\":\"Line\"},{\"id\":\"67e29457-6fb3-45ca-c548-432b8812ffc0\",\"attributes\":{\"line_alpha\":{\"units\":\"data\",\"value\":1},\"doc\":null,\"id\":\"67e29457-6fb3-45ca-c548-432b8812ffc0\",\"size\":{\"units\":\"screen\",\"value\":10},\"fill_color\":{\"value\":\"red\"},\"x\":{\"units\":\"data\",\"field\":\"x\"},\"line_color\":{\"value\":\"red\"},\"tags\":[],\"fill_alpha\":{\"units\":\"data\",\"value\":0.2},\"y\":{\"units\":\"data\",\"field\":\"y\"}},\"type\":\"Line\"},{\"id\":\"1f2a6cc5-366f-48ed-c844-7bca41364861\",\"attributes\":{\"server_data_source\":null,\"nonselection_glyph\":{\"id\":\"67e29457-6fb3-45ca-c548-432b8812ffc0\",\"type\":\"Line\"},\"doc\":null,\"selection_glyph\":null,\"id\":\"1f2a6cc5-366f-48ed-c844-7bca41364861\",\"glyph\":{\"id\":\"33d9051b-305c-47b8-c794-59284a2b39ab\",\"type\":\"Line\"},\"tags\":[],\"name\":null,\"data_source\":{\"id\":\"d380a781-861e-47ab-c762-64d43e1fbaa5\",\"type\":\"ColumnDataSource\"}},\"type\":\"GlyphRenderer\"},{\"id\":\"35edc39d-935b-4832-c8ca-b204bf1de5a7\",\"attributes\":{\"id\":\"35edc39d-935b-4832-c8ca-b204bf1de5a7\",\"doc\":null,\"sources\":[{\"source\":{\"id\":\"d380a781-861e-47ab-c762-64d43e1fbaa5\",\"type\":\"ColumnDataSource\"},\"columns\":[\"x\"]}],\"tags\":[]},\"type\":\"DataRange1d\"},{\"id\":\"58613754-04ea-4964-c9d4-e02157f15c5a\",\"attributes\":{\"id\":\"58613754-04ea-4964-c9d4-e02157f15c5a\",\"doc\":null,\"sources\":[{\"source\":{\"id\":\"d380a781-861e-47ab-c762-64d43e1fbaa5\",\"type\":\"ColumnDataSource\"},\"columns\":[\"y\"]}],\"tags\":[]},\"type\":\"DataRange1d\"},{\"id\":\"1492c6d8-7ed1-446f-c459-48eba0be28c6\",\"attributes\":{\"id\":\"1492c6d8-7ed1-446f-c459-48eba0be28c6\",\"doc\":null,\"geometries\":[],\"tags\":[]},\"type\":\"ToolEvents\"},{\"id\":\"409cda50-9b20-4f22-cf20-33c01275f63c\",\"attributes\":{\"id\":\"409cda50-9b20-4f22-cf20-33c01275f63c\",\"doc\":null,\"tags\":[]},\"type\":\"BasicTickFormatter\"},{\"id\":\"32af14da-271e-4ff1-cf0f-d424cd3a6699\",\"attributes\":{\"id\":\"32af14da-271e-4ff1-cf0f-d424cd3a6699\",\"doc\":null,\"num_minor_ticks\":5,\"tags\":[]},\"type\":\"BasicTicker\"},{\"id\":\"a70dfccf-6908-4bf9-cbab-d53cb796383a\",\"attributes\":{\"tags\":[],\"ticker\":{\"id\":\"32af14da-271e-4ff1-cf0f-d424cd3a6699\",\"type\":\"BasicTicker\"},\"formatter\":{\"id\":\"409cda50-9b20-4f22-cf20-33c01275f63c\",\"type\":\"BasicTickFormatter\"},\"axis_label\":null,\"doc\":null,\"id\":\"a70dfccf-6908-4bf9-cbab-d53cb796383a\",\"plot\":{\"id\":\"f23ef47a-20f6-4b37-cbc8-0cf5a4922321\",\"subtype\":\"Figure\",\"type\":\"Plot\"}},\"type\":\"LinearAxis\"},{\"id\":\"007268ee-0583-40dc-c09c-549fa7a44206\",\"attributes\":{\"tags\":[],\"dimension\":0,\"ticker\":{\"id\":\"32af14da-271e-4ff1-cf0f-d424cd3a6699\",\"type\":\"BasicTicker\"},\"doc\":null,\"id\":\"007268ee-0583-40dc-c09c-549fa7a44206\",\"plot\":{\"id\":\"f23ef47a-20f6-4b37-cbc8-0cf5a4922321\",\"subtype\":\"Figure\",\"type\":\"Plot\"}},\"type\":\"Grid\"},{\"id\":\"fc35a48f-601e-4223-c28a-7be2145c194c\",\"attributes\":{\"id\":\"fc35a48f-601e-4223-c28a-7be2145c194c\",\"doc\":null,\"tags\":[]},\"type\":\"BasicTickFormatter\"},{\"id\":\"d7e9d3f8-d0cc-4672-c6b1-d0773166ee77\",\"attributes\":{\"id\":\"d7e9d3f8-d0cc-4672-c6b1-d0773166ee77\",\"doc\":null,\"num_minor_ticks\":5,\"tags\":[]},\"type\":\"BasicTicker\"},{\"id\":\"60843ae6-fc23-45b0-c568-bd084d31d046\",\"attributes\":{\"tags\":[],\"ticker\":{\"id\":\"d7e9d3f8-d0cc-4672-c6b1-d0773166ee77\",\"type\":\"BasicTicker\"},\"formatter\":{\"id\":\"fc35a48f-601e-4223-c28a-7be2145c194c\",\"type\":\"BasicTickFormatter\"},\"axis_label\":null,\"doc\":null,\"id\":\"60843ae6-fc23-45b0-c568-bd084d31d046\",\"plot\":{\"id\":\"f23ef47a-20f6-4b37-cbc8-0cf5a4922321\",\"subtype\":\"Figure\",\"type\":\"Plot\"}},\"type\":\"LinearAxis\"},{\"id\":\"b768c8b8-93a2-4c00-cc58-787e8751db23\",\"attributes\":{\"tags\":[],\"dimension\":1,\"ticker\":{\"id\":\"d7e9d3f8-d0cc-4672-c6b1-d0773166ee77\",\"type\":\"BasicTicker\"},\"doc\":null,\"id\":\"b768c8b8-93a2-4c00-cc58-787e8751db23\",\"plot\":{\"id\":\"f23ef47a-20f6-4b37-cbc8-0cf5a4922321\",\"subtype\":\"Figure\",\"type\":\"Plot\"}},\"type\":\"Grid\"},{\"id\":\"6663d80e-74c3-4af6-caff-bd59cb32998a\",\"attributes\":{\"tags\":[],\"dimensions\":[\"width\",\"height\"],\"doc\":null,\"id\":\"6663d80e-74c3-4af6-caff-bd59cb32998a\",\"plot\":{\"id\":\"f23ef47a-20f6-4b37-cbc8-0cf5a4922321\",\"subtype\":\"Figure\",\"type\":\"Plot\"}},\"type\":\"PanTool\"},{\"id\":\"40339383-bf9b-4dcc-cd25-1b863f9255ad\",\"attributes\":{\"tags\":[],\"dimensions\":[\"width\",\"height\"],\"doc\":null,\"id\":\"40339383-bf9b-4dcc-cd25-1b863f9255ad\",\"plot\":{\"id\":\"f23ef47a-20f6-4b37-cbc8-0cf5a4922321\",\"subtype\":\"Figure\",\"type\":\"Plot\"}},\"type\":\"WheelZoomTool\"},{\"id\":\"11d8e055-25be-4967-c98e-7e9dec9d410a\",\"attributes\":{\"id\":\"11d8e055-25be-4967-c98e-7e9dec9d410a\",\"doc\":null,\"tags\":[],\"plot\":{\"id\":\"f23ef47a-20f6-4b37-cbc8-0cf5a4922321\",\"subtype\":\"Figure\",\"type\":\"Plot\"}},\"type\":\"BoxZoomTool\"},{\"id\":\"9e57062b-9c6c-41ba-c15d-6016956b1c53\",\"attributes\":{\"id\":\"9e57062b-9c6c-41ba-c15d-6016956b1c53\",\"doc\":null,\"tags\":[],\"plot\":{\"id\":\"f23ef47a-20f6-4b37-cbc8-0cf5a4922321\",\"subtype\":\"Figure\",\"type\":\"Plot\"}},\"type\":\"PreviewSaveTool\"},{\"id\":\"af90df88-f90f-491c-c98c-b220790f71eb\",\"attributes\":{\"id\":\"af90df88-f90f-491c-c98c-b220790f71eb\",\"doc\":null,\"tags\":[],\"plot\":{\"id\":\"f23ef47a-20f6-4b37-cbc8-0cf5a4922321\",\"subtype\":\"Figure\",\"type\":\"Plot\"}},\"type\":\"ResizeTool\"},{\"id\":\"70dbff8c-1fd8-40aa-c0f9-75282348f999\",\"attributes\":{\"id\":\"70dbff8c-1fd8-40aa-c0f9-75282348f999\",\"doc\":null,\"tags\":[],\"plot\":{\"id\":\"f23ef47a-20f6-4b37-cbc8-0cf5a4922321\",\"subtype\":\"Figure\",\"type\":\"Plot\"}},\"type\":\"ResetTool\"},{\"id\":\"da10ecf3-7748-456e-c532-62c2d0acb8ae\",\"attributes\":{\"tags\":[],\"legends\":[[\"train loss\",[{\"id\":\"1f2a6cc5-366f-48ed-c844-7bca41364861\",\"type\":\"GlyphRenderer\"}]]],\"doc\":null,\"id\":\"da10ecf3-7748-456e-c532-62c2d0acb8ae\",\"plot\":{\"id\":\"f23ef47a-20f6-4b37-cbc8-0cf5a4922321\",\"subtype\":\"Figure\",\"type\":\"Plot\"}},\"type\":\"Legend\"},{\"id\":\"f23ef47a-20f6-4b37-cbc8-0cf5a4922321\",\"attributes\":{\"above\":[],\"x_range\":{\"id\":\"35edc39d-935b-4832-c8ca-b204bf1de5a7\",\"type\":\"DataRange1d\"},\"title\":\"Mean Square Error\",\"tool_events\":{\"id\":\"1492c6d8-7ed1-446f-c459-48eba0be28c6\",\"type\":\"ToolEvents\"},\"doc\":null,\"extra_y_ranges\":{},\"extra_x_ranges\":{},\"id\":\"f23ef47a-20f6-4b37-cbc8-0cf5a4922321\",\"renderers\":[{\"id\":\"1f2a6cc5-366f-48ed-c844-7bca41364861\",\"type\":\"GlyphRenderer\"},{\"id\":\"a70dfccf-6908-4bf9-cbab-d53cb796383a\",\"type\":\"LinearAxis\"},{\"id\":\"007268ee-0583-40dc-c09c-549fa7a44206\",\"type\":\"Grid\"},{\"id\":\"60843ae6-fc23-45b0-c568-bd084d31d046\",\"type\":\"LinearAxis\"},{\"id\":\"b768c8b8-93a2-4c00-cc58-787e8751db23\",\"type\":\"Grid\"},{\"id\":\"da10ecf3-7748-456e-c532-62c2d0acb8ae\",\"type\":\"Legend\"}],\"tools\":[{\"id\":\"6663d80e-74c3-4af6-caff-bd59cb32998a\",\"type\":\"PanTool\"},{\"id\":\"40339383-bf9b-4dcc-cd25-1b863f9255ad\",\"type\":\"WheelZoomTool\"},{\"id\":\"11d8e055-25be-4967-c98e-7e9dec9d410a\",\"type\":\"BoxZoomTool\"},{\"id\":\"9e57062b-9c6c-41ba-c15d-6016956b1c53\",\"type\":\"PreviewSaveTool\"},{\"id\":\"af90df88-f90f-491c-c98c-b220790f71eb\",\"type\":\"ResizeTool\"},{\"id\":\"70dbff8c-1fd8-40aa-c0f9-75282348f999\",\"type\":\"ResetTool\"}],\"left\":[{\"id\":\"60843ae6-fc23-45b0-c568-bd084d31d046\",\"type\":\"LinearAxis\"}],\"below\":[{\"id\":\"a70dfccf-6908-4bf9-cbab-d53cb796383a\",\"type\":\"LinearAxis\"}],\"y_range\":{\"id\":\"58613754-04ea-4964-c9d4-e02157f15c5a\",\"type\":\"DataRange1d\"},\"tags\":[],\"right\":[]},\"type\":\"Plot\"}];\n",
       "      Bokeh.load_models(all_models);\n",
       "      var model = Bokeh.Collections(modeltype).get(modelid);\n",
       "      $(\"#502bb0eb-2a00-4d2d-cdab-ac8452775217\").html(''); // clear any previous plot in window_id\n",
       "      var view = new model.default_view({model: model, el: \"#502bb0eb-2a00-4d2d-cdab-ac8452775217\"});\n",
       "  });\n",
       "    }\n",
       "});\n",
       "</script>\n",
       "<div class=\"plotdiv\" id=\"502bb0eb-2a00-4d2d-cdab-ac8452775217\"></div>\n"
      ]
     },
     "metadata": {},
     "output_type": "display_data"
    }
   ],
   "source": [
    "local t2 = torch.range(1,dif:narrow(1,101,300):size(1))\n",
    "local plot = Plot()\n",
    "\n",
    "plot:line(t2,dif:narrow(1,101,300),'red' ,'train loss')\n",
    "---plot:line(t2,test_loss1,'blue' ,'test loss')\n",
    "plot:legend(true):title('Mean Square Error')\n",
    "plot:draw()"
   ]
  },
  {
   "cell_type": "code",
   "execution_count": 108,
   "metadata": {
    "collapsed": true
   },
   "outputs": [],
   "source": [
    "function compare_two_trees2(table1,table2)\n",
    "    local difference = {}\n",
    "    for i = 500,#table2 do\n",
    "\n",
    "        table.insert(difference, torch.sqrt(torch.sum(torch.pow((table1[i-400] - table2[i]),2))))\n",
    "---        print(difference[i])    \n",
    "    end\n",
    "    return torch.FloatTensor(difference)\n",
    "end"
   ]
  },
  {
   "cell_type": "code",
   "execution_count": 109,
   "metadata": {
    "collapsed": true
   },
   "outputs": [],
   "source": [
    "diff = compare_two_trees2(tree_cfr.total_strategies,tree_cfr1.total_strategies)\n",
    "diff_nn = compare_two_trees2(tree_cfr0.total_strategies,tree_cfr1.total_strategies)"
   ]
  },
  {
   "cell_type": "code",
   "execution_count": 134,
   "metadata": {},
   "outputs": [
    {
     "data": {
      "text/html": [
       "<script type=\"text/javascript\">\n",
       "$(function() {\n",
       "    if (typeof (window._bokeh_onload_callbacks) === \"undefined\"){\n",
       "  window._bokeh_onload_callbacks = [];\n",
       "    }\n",
       "    function load_lib(url, callback){\n",
       "  window._bokeh_onload_callbacks.push(callback);\n",
       "  if (window._bokeh_is_loading){\n",
       "      console.log(\"Bokeh: BokehJS is being loaded, scheduling callback at\", new Date());\n",
       "      return null;\n",
       "  }\n",
       "  console.log(\"Bokeh: BokehJS not loaded, scheduling load and callback at\", new Date());\n",
       "  window._bokeh_is_loading = true;\n",
       "  var s = document.createElement('script');\n",
       "  s.src = url;\n",
       "  s.async = true;\n",
       "  s.onreadystatechange = s.onload = function(){\n",
       "      Bokeh.embed.inject_css(\"https://cdn.pydata.org/bokeh-0.7.0.min.css\");\n",
       "      window._bokeh_onload_callbacks.forEach(function(callback){callback()});\n",
       "  };\n",
       "  s.onerror = function(){\n",
       "      console.warn(\"failed to load library \" + url);\n",
       "  };\n",
       "  document.getElementsByTagName(\"head\")[0].appendChild(s);\n",
       "    }\n",
       "\n",
       "    bokehjs_url = \"https://cdn.pydata.org/bokeh-0.7.0.min.js\"\n",
       "\n",
       "    var elt = document.getElementById(\"2821eb7a-7338-4127-c1ed-ab7799c09774\");\n",
       "    if(elt==null) {\n",
       "  console.log(\"Bokeh: ERROR: autoload.js configured with elementid '2821eb7a-7338-4127-c1ed-ab7799c09774'\"\n",
       "        + \"but no matching script tag was found. \")\n",
       "  return false;\n",
       "    }\n",
       "\n",
       "    if(typeof(Bokeh) !== \"undefined\") {\n",
       "  console.log(\"Bokeh: BokehJS loaded, going straight to plotting\");\n",
       "  var modelid = \"bd3aebc1-caee-4598-c518-78ff43ed551e\";\n",
       "  var modeltype = \"Plot\";\n",
       "  var all_models = [{\"type\":\"ColumnDataSource\",\"id\":\"91877d44-c1e2-4354-c31a-d45184e84b4a\",\"attributes\":{\"column_names\":[\"y\",\"x\"],\"id\":\"91877d44-c1e2-4354-c31a-d45184e84b4a\",\"selected\":[],\"data\":{\"x\":[2,3,4,5,6,7,8,9,10,11,12,13,14,15,16,17,18,19,20,21,22,23,24,25,26,27,28,29,30,31,32,33,34,35,36,37,38,39,40,41,42,43,44,45,46,47,48,49,50,51,52,53,54,55,56,57,58,59,60,61,62,63,64,65,66,67,68,69,70,71,72,73,74,75,76,77,78,79,80,81,82,83,84,85,86,87,88,89,90,91,92,93,94,95,96,97,98,99,100,101,102,103,104,105,106,107,108,109,110,111,112,113,114,115,116,117,118,119,120,121,122,123,124,125,126,127,128,129,130,131,132,133,134,135,136,137,138,139,140,141,142,143,144,145,146,147,148,149,150,151,152,153,154,155,156,157,158,159,160,161,162,163,164,165,166,167,168,169,170,171,172,173,174,175,176,177,178,179,180,181,182,183,184,185,186,187,188,189,190,191,192,193,194,195,196,197,198,199,200,201],\"y\":[0.34659862518311,0.34632822871208,0.34606131911278,0.34579822421074,0.34553915262222,0.3452672958374,0.34467417001724,0.34356799721718,0.34195199608803,0.34007978439331,0.3384293615818,0.33759698271751,0.3372163772583,0.33680352568626,0.33639052510262,0.33600577712059,0.33560964465141,0.33521071076393,0.33482038974762,0.33444166183472,0.33407628536224,0.33373475074768,0.33343023061752,0.33316805958748,0.33289703726768,0.33258685469627,0.33220487833023,0.33173072338104,0.33114695549011,0.33047273755074,0.32978278398514,0.32910212874413,0.32831707596779,0.32743507623672,0.32649248838425,0.32557085156441,0.32477778196335,0.32412350177765,0.32355418801308,0.32306307554245,0.32264491915703,0.32228970527649,0.32197761535645,0.32169914245605,0.32145172357559,0.32120415568352,0.32096153497696,0.32073271274567,0.32049161195755,0.32024466991425,0.32000449299812,0.31977275013924,0.31954383850098,0.31930303573608,0.31902694702148,0.31871181726456,0.31837141513824,0.31801635026932,0.31764206290245,0.31727233529091,0.31693509221077,0.31661987304688,0.31633114814758,0.31607761979103,0.31587338447571,0.31573963165283,0.31563359498978,0.31553763151169,0.3154422044754,0.31534013152122,0.31522193551064,0.31508502364159,0.31492850184441,0.31473580002785,0.31449043750763,0.31418055295944,0.31382164359093,0.31343924999237,0.31306341290474,0.31272739171982,0.31250211596489,0.31229573488235,0.31205272674561,0.31176626682281,0.3114709854126,0.31116905808449,0.31086573004723,0.31056991219521,0.31029513478279,0.31004804372787,0.30982908606529,0.30963876843452,0.30947735905647,0.30934724211693,0.30921670794487,0.30908218026161,0.30894520878792,0.30880686640739,0.30866867303848,0.30852818489075,0.30838459730148,0.30823662877083,0.30807808041573,0.30789515376091,0.30768257379532,0.30746084451675,0.30728974938393,0.30720344185829,0.30717706680298,0.30716636776924,0.30711334943771,0.30705642700195,0.30698963999748,0.30689996480942,0.30677017569542,0.30662322044373,0.30650305747986,0.30640479922295,0.30630519986153,0.30619961023331,0.30608782172203,0.30596235394478,0.30581620335579,0.30564370751381,0.3054051399231,0.30508342385292,0.30471700429916,0.30440133810043,0.30419874191284,0.30399921536446,0.30380699038506,0.30363556742668,0.30347582697868,0.30332514643669,0.3031884431839,0.30306199193001,0.30294623970985,0.30284398794174,0.30276137590408,0.30269858241081,0.30263975262642,0.30258134007454,0.30252119898796,0.30245718359947,0.30238965153694,0.30231881141663,0.3022435605526,0.30215501785278,0.30200380086899,0.30162593722343,0.3009030520916,0.29985666275024,0.29872593283653,0.29787895083427,0.29768124222755,0.29750683903694,0.29732683300972,0.29714864492416,0.29697832465172,0.29680669307709,0.29663726687431,0.29647967219353,0.29633089900017,0.29618442058563,0.29605162143707,0.29592967033386,0.2958250939846,0.29572969675064,0.29563900828362,0.29555454850197,0.29546317458153,0.29536390304565,0.29526236653328,0.2951488494873,0.29501268267632,0.29486402869225,0.29470983147621,0.29454511404037,0.29437229037285,0.29420387744904,0.29403913021088,0.29388076066971,0.29372745752335,0.29358080029488,0.29344293475151,0.29331824183464,0.29321101307869,0.29312327504158,0.2930500805378,0.29299038648605,0.29294565320015,0.29291659593582,0.29289269447327,0.29286882281303,0.29284396767616,0.29281824827194,0.29279157519341,0.292760014534,0.29271632432938,0.29244384169579]},\"tags\":[],\"discrete_ranges\":{},\"cont_ranges\":{},\"doc\":null}},{\"type\":\"Line\",\"id\":\"550b67e4-2199-474f-c71f-deabe06a145b\",\"attributes\":{\"line_alpha\":{\"units\":\"data\",\"value\":1},\"size\":{\"units\":\"screen\",\"value\":10},\"line_color\":{\"value\":\"red\"},\"y\":{\"units\":\"data\",\"field\":\"y\"},\"fill_alpha\":{\"units\":\"data\",\"value\":0.2},\"fill_color\":{\"value\":\"red\"},\"tags\":[],\"x\":{\"units\":\"data\",\"field\":\"x\"},\"id\":\"550b67e4-2199-474f-c71f-deabe06a145b\",\"doc\":null}},{\"type\":\"Line\",\"id\":\"e5b10313-0a66-431a-c3a5-8f05ea4a2b77\",\"attributes\":{\"line_alpha\":{\"units\":\"data\",\"value\":1},\"size\":{\"units\":\"screen\",\"value\":10},\"line_color\":{\"value\":\"red\"},\"y\":{\"units\":\"data\",\"field\":\"y\"},\"fill_alpha\":{\"units\":\"data\",\"value\":0.2},\"fill_color\":{\"value\":\"red\"},\"tags\":[],\"x\":{\"units\":\"data\",\"field\":\"x\"},\"id\":\"e5b10313-0a66-431a-c3a5-8f05ea4a2b77\",\"doc\":null}},{\"type\":\"GlyphRenderer\",\"id\":\"c63a0b70-de68-4d26-cd64-f4994964df22\",\"attributes\":{\"selection_glyph\":null,\"glyph\":{\"type\":\"Line\",\"id\":\"550b67e4-2199-474f-c71f-deabe06a145b\"},\"data_source\":{\"type\":\"ColumnDataSource\",\"id\":\"91877d44-c1e2-4354-c31a-d45184e84b4a\"},\"id\":\"c63a0b70-de68-4d26-cd64-f4994964df22\",\"name\":null,\"tags\":[],\"server_data_source\":null,\"nonselection_glyph\":{\"type\":\"Line\",\"id\":\"e5b10313-0a66-431a-c3a5-8f05ea4a2b77\"},\"doc\":null}},{\"type\":\"ColumnDataSource\",\"id\":\"1d471c9f-985b-4555-c528-66d22ae0534f\",\"attributes\":{\"column_names\":[\"y\",\"x\"],\"id\":\"1d471c9f-985b-4555-c528-66d22ae0534f\",\"selected\":[],\"data\":{\"x\":[2,3,4,5,6,7,8,9,10,11,12,13,14,15,16,17,18,19,20,21,22,23,24,25,26,27,28,29,30,31,32,33,34,35,36,37,38,39,40,41,42,43,44,45,46,47,48,49,50,51,52,53,54,55,56,57,58,59,60,61,62,63,64,65,66,67,68,69,70,71,72,73,74,75,76,77,78,79,80,81,82,83,84,85,86,87,88,89,90,91,92,93,94,95,96,97,98,99,100,101,102,103,104,105,106,107,108,109,110,111,112,113,114,115,116,117,118,119,120,121,122,123,124,125,126,127,128,129,130,131,132,133,134,135,136,137,138,139,140,141,142,143,144,145,146,147,148,149,150,151,152,153,154,155,156,157,158,159,160,161,162,163,164,165,166,167,168,169,170,171,172,173,174,175,176,177,178,179,180,181,182,183,184,185,186,187,188,189,190,191,192,193,194,195,196,197,198,199,200,201],\"y\":[2.3779997825623,2.2725691795349,2.145054101944,2.022296667099,1.9232252836227,1.8480513095856,1.7870209217072,1.733922958374,1.6915738582611,1.6549338102341,1.618017911911,1.586027264595,1.6548941135406,1.627693772316,1.602565407753,1.5809379816055,1.5729407072067,1.5583097934723,1.5388405323029,1.5166741609573,1.4908239841461,1.4621071815491,1.4352885484695,1.4118647575378,1.3934012651443,1.3781603574753,1.3688281774521,1.3717089891434,1.3785916566849,1.389554142952,1.4013067483902,1.4090467691422,1.410573720932,1.4105104207993,1.4119104146957,1.4150100946426,1.4145261049271,1.4109896421432,1.4074032306671,1.4055743217468,1.4020863771439,1.3943175077438,1.3844590187073,1.373882651329,1.3643122911453,1.3568655252457,1.3520662784576,1.3492662906647,1.3453100919724,1.3396666049957,1.3328615427017,1.3258094787598,1.3179142475128,1.3013657331467,1.273135304451,1.2376754283905,1.2071915864944,1.1913570165634,1.1876268386841,1.1833883523941,1.1801971197128,1.1771229505539,1.1734877824783,1.1690264940262,1.1624035835266,1.1526916027069,1.1407630443573,1.1293067932129,1.1210726499557,1.116353392601,1.1164481639862,1.1213316917419,1.1267449855804,1.1316857337952,1.1347477436066,1.1346920728683,1.1341086626053,1.1329870223999,1.1324739456177,1.1342351436615,1.1361249685287,1.1396615505219,1.1465511322021,1.1558654308319,1.1651045084,1.1718199253082,1.1734591722488,1.1724035739899,1.1713670492172,1.1702374219894,1.1689492464066,1.1670128107071,1.1646980047226,1.16339802742,1.162416100502,1.1616611480713,1.1608153581619,1.1596336364746,1.1578594446182,1.1563085317612,1.1544905900955,1.1499341726303,1.1420449018478,1.1319978237152,1.1209152936935,1.1108946800232,1.1031000614166,1.0976634025574,1.0939166545868,1.091535449028,1.0906627178192,1.0900259017944,1.0897564888,1.0903013944626,1.0913659334183,1.0923098325729,1.0927834510803,1.0941517353058,1.0962034463882,1.0971281528473,1.0973769426346,1.0964369773865,1.0944745540619,1.0914877653122,1.0863007307053,1.0793335437775,1.0728352069855,1.0686845779419,1.067377448082,1.0663183927536,1.0653228759766,1.0650480985641,1.0650925636292,1.0654479265213,1.0659877061844,1.0664125680923,1.0661536455154,1.0648145675659,1.0624072551727,1.0606741905212,1.0577921867371,1.0537792444229,1.0496462583542,1.0467270612717,1.0447503328323,1.0435985326767,1.0430934429169,1.0430026054382,1.0426068305969,1.0394598245621,1.032710313797,1.0236248970032,1.0150094032288,1.0078902244568,1.0058244466782,1.0066680908203,1.0077377557755,1.0087835788727,1.0095378160477,1.0097345113754,1.00943338871,1.0089998245239,1.0083235502243,1.0073469877243,1.0064321756363,1.0059580802917,1.0055866241455,1.0057338476181,1.0060411691666,1.0063205957413,1.00645840168,1.0066422224045,1.0067224502563,1.0065474510193,1.0059778690338,1.0049279928207,1.0035618543625,1.0018696784973,0.99982041120529,0.99790471792221,0.99673908948898,0.99619746208191,0.99558860063553,0.99363106489182,0.98936295509338,0.98287856578827,0.97669041156769,0.97530633211136,0.97652447223663,0.97708642482758,0.97710430622101,0.97697335481644,0.97675865888596,0.97433072328568,0.970458984375,0.96890503168106,0.96918165683746,0.96943801641464,0.96958857774734,0.9689553976059]},\"tags\":[],\"discrete_ranges\":{},\"cont_ranges\":{},\"doc\":null}},{\"type\":\"Line\",\"id\":\"5fd973d5-69cd-4203-c276-3f92b13ec300\",\"attributes\":{\"line_alpha\":{\"units\":\"data\",\"value\":1},\"size\":{\"units\":\"screen\",\"value\":10},\"line_color\":{\"value\":\"blue\"},\"y\":{\"units\":\"data\",\"field\":\"y\"},\"fill_alpha\":{\"units\":\"data\",\"value\":0.2},\"fill_color\":{\"value\":\"blue\"},\"tags\":[],\"x\":{\"units\":\"data\",\"field\":\"x\"},\"id\":\"5fd973d5-69cd-4203-c276-3f92b13ec300\",\"doc\":null}},{\"type\":\"Line\",\"id\":\"38540f91-46c8-4929-c9f1-283ed9008011\",\"attributes\":{\"line_alpha\":{\"units\":\"data\",\"value\":1},\"size\":{\"units\":\"screen\",\"value\":10},\"line_color\":{\"value\":\"blue\"},\"y\":{\"units\":\"data\",\"field\":\"y\"},\"fill_alpha\":{\"units\":\"data\",\"value\":0.2},\"fill_color\":{\"value\":\"blue\"},\"tags\":[],\"x\":{\"units\":\"data\",\"field\":\"x\"},\"id\":\"38540f91-46c8-4929-c9f1-283ed9008011\",\"doc\":null}},{\"type\":\"GlyphRenderer\",\"id\":\"cd0df925-3737-46bf-c6d8-ac4ea5e789f0\",\"attributes\":{\"selection_glyph\":null,\"glyph\":{\"type\":\"Line\",\"id\":\"5fd973d5-69cd-4203-c276-3f92b13ec300\"},\"data_source\":{\"type\":\"ColumnDataSource\",\"id\":\"1d471c9f-985b-4555-c528-66d22ae0534f\"},\"id\":\"cd0df925-3737-46bf-c6d8-ac4ea5e789f0\",\"name\":null,\"tags\":[],\"server_data_source\":null,\"nonselection_glyph\":{\"type\":\"Line\",\"id\":\"38540f91-46c8-4929-c9f1-283ed9008011\"},\"doc\":null}},{\"type\":\"DataRange1d\",\"id\":\"b473efda-cf9e-44e8-c48e-faae2ee2d5cd\",\"attributes\":{\"tags\":[],\"id\":\"b473efda-cf9e-44e8-c48e-faae2ee2d5cd\",\"sources\":[{\"columns\":[\"x\"],\"source\":{\"type\":\"ColumnDataSource\",\"id\":\"91877d44-c1e2-4354-c31a-d45184e84b4a\"}},{\"columns\":[\"x\"],\"source\":{\"type\":\"ColumnDataSource\",\"id\":\"1d471c9f-985b-4555-c528-66d22ae0534f\"}}],\"doc\":null}},{\"type\":\"DataRange1d\",\"id\":\"20d294d7-1567-45ce-c528-204340bdea6d\",\"attributes\":{\"tags\":[],\"id\":\"20d294d7-1567-45ce-c528-204340bdea6d\",\"sources\":[{\"columns\":[\"y\"],\"source\":{\"type\":\"ColumnDataSource\",\"id\":\"91877d44-c1e2-4354-c31a-d45184e84b4a\"}},{\"columns\":[\"y\"],\"source\":{\"type\":\"ColumnDataSource\",\"id\":\"1d471c9f-985b-4555-c528-66d22ae0534f\"}}],\"doc\":null}},{\"type\":\"ToolEvents\",\"id\":\"fcfece1e-de66-4e38-ce26-a8c1016ab0d3\",\"attributes\":{\"tags\":[],\"id\":\"fcfece1e-de66-4e38-ce26-a8c1016ab0d3\",\"geometries\":[],\"doc\":null}},{\"type\":\"BasicTickFormatter\",\"id\":\"071374e9-e793-4fd2-cf0e-eeccb5a216c6\",\"attributes\":{\"tags\":[],\"id\":\"071374e9-e793-4fd2-cf0e-eeccb5a216c6\",\"doc\":null}},{\"type\":\"BasicTicker\",\"id\":\"9ec4d0a7-ec57-48df-c889-d8460c3d6c66\",\"attributes\":{\"tags\":[],\"id\":\"9ec4d0a7-ec57-48df-c889-d8460c3d6c66\",\"num_minor_ticks\":5,\"doc\":null}},{\"type\":\"LinearAxis\",\"id\":\"dcdf03b6-eed4-4a85-caf2-01286a4495b7\",\"attributes\":{\"formatter\":{\"type\":\"BasicTickFormatter\",\"id\":\"071374e9-e793-4fd2-cf0e-eeccb5a216c6\"},\"id\":\"dcdf03b6-eed4-4a85-caf2-01286a4495b7\",\"axis_label\":null,\"tags\":[],\"plot\":{\"type\":\"Plot\",\"subtype\":\"Figure\",\"id\":\"bd3aebc1-caee-4598-c518-78ff43ed551e\"},\"ticker\":{\"type\":\"BasicTicker\",\"id\":\"9ec4d0a7-ec57-48df-c889-d8460c3d6c66\"},\"doc\":null}},{\"type\":\"Grid\",\"id\":\"d81c7ec9-f577-42ce-c25d-f6043293fb20\",\"attributes\":{\"ticker\":{\"type\":\"BasicTicker\",\"id\":\"9ec4d0a7-ec57-48df-c889-d8460c3d6c66\"},\"id\":\"d81c7ec9-f577-42ce-c25d-f6043293fb20\",\"tags\":[],\"plot\":{\"type\":\"Plot\",\"subtype\":\"Figure\",\"id\":\"bd3aebc1-caee-4598-c518-78ff43ed551e\"},\"dimension\":0,\"doc\":null}},{\"type\":\"BasicTickFormatter\",\"id\":\"eb5c7902-a68d-43b3-c3a4-e51f2e622a27\",\"attributes\":{\"tags\":[],\"id\":\"eb5c7902-a68d-43b3-c3a4-e51f2e622a27\",\"doc\":null}},{\"type\":\"BasicTicker\",\"id\":\"af54b7f1-9f9e-4774-c77c-e60c0a709ecb\",\"attributes\":{\"tags\":[],\"id\":\"af54b7f1-9f9e-4774-c77c-e60c0a709ecb\",\"num_minor_ticks\":5,\"doc\":null}},{\"type\":\"LinearAxis\",\"id\":\"b9c75cc8-8334-436d-c318-7bb6f7383fd1\",\"attributes\":{\"formatter\":{\"type\":\"BasicTickFormatter\",\"id\":\"eb5c7902-a68d-43b3-c3a4-e51f2e622a27\"},\"id\":\"b9c75cc8-8334-436d-c318-7bb6f7383fd1\",\"axis_label\":null,\"tags\":[],\"plot\":{\"type\":\"Plot\",\"subtype\":\"Figure\",\"id\":\"bd3aebc1-caee-4598-c518-78ff43ed551e\"},\"ticker\":{\"type\":\"BasicTicker\",\"id\":\"af54b7f1-9f9e-4774-c77c-e60c0a709ecb\"},\"doc\":null}},{\"type\":\"Grid\",\"id\":\"e7b2a48e-da2d-4060-c029-2de0aa393a15\",\"attributes\":{\"ticker\":{\"type\":\"BasicTicker\",\"id\":\"af54b7f1-9f9e-4774-c77c-e60c0a709ecb\"},\"id\":\"e7b2a48e-da2d-4060-c029-2de0aa393a15\",\"tags\":[],\"plot\":{\"type\":\"Plot\",\"subtype\":\"Figure\",\"id\":\"bd3aebc1-caee-4598-c518-78ff43ed551e\"},\"dimension\":1,\"doc\":null}},{\"type\":\"PanTool\",\"id\":\"aca3ae6c-7c91-41ea-c1cb-9a00db37c5b3\",\"attributes\":{\"dimensions\":[\"width\",\"height\"],\"id\":\"aca3ae6c-7c91-41ea-c1cb-9a00db37c5b3\",\"tags\":[],\"plot\":{\"type\":\"Plot\",\"subtype\":\"Figure\",\"id\":\"bd3aebc1-caee-4598-c518-78ff43ed551e\"},\"doc\":null}},{\"type\":\"WheelZoomTool\",\"id\":\"c3eaab76-6292-4c28-cc94-be74b87987fe\",\"attributes\":{\"dimensions\":[\"width\",\"height\"],\"id\":\"c3eaab76-6292-4c28-cc94-be74b87987fe\",\"tags\":[],\"plot\":{\"type\":\"Plot\",\"subtype\":\"Figure\",\"id\":\"bd3aebc1-caee-4598-c518-78ff43ed551e\"},\"doc\":null}},{\"type\":\"BoxZoomTool\",\"id\":\"818091bb-af50-4e05-ceb4-e96e9ca53d54\",\"attributes\":{\"tags\":[],\"id\":\"818091bb-af50-4e05-ceb4-e96e9ca53d54\",\"plot\":{\"type\":\"Plot\",\"subtype\":\"Figure\",\"id\":\"bd3aebc1-caee-4598-c518-78ff43ed551e\"},\"doc\":null}},{\"type\":\"PreviewSaveTool\",\"id\":\"bc292741-99d3-4fa1-cf3f-b05b101f3a78\",\"attributes\":{\"tags\":[],\"id\":\"bc292741-99d3-4fa1-cf3f-b05b101f3a78\",\"plot\":{\"type\":\"Plot\",\"subtype\":\"Figure\",\"id\":\"bd3aebc1-caee-4598-c518-78ff43ed551e\"},\"doc\":null}},{\"type\":\"ResizeTool\",\"id\":\"a8d1bfe5-c66e-47f7-c731-fcf1fd0e7e2c\",\"attributes\":{\"tags\":[],\"id\":\"a8d1bfe5-c66e-47f7-c731-fcf1fd0e7e2c\",\"plot\":{\"type\":\"Plot\",\"subtype\":\"Figure\",\"id\":\"bd3aebc1-caee-4598-c518-78ff43ed551e\"},\"doc\":null}},{\"type\":\"ResetTool\",\"id\":\"2230721e-c6ac-46c8-c69b-10c369c7b48e\",\"attributes\":{\"tags\":[],\"id\":\"2230721e-c6ac-46c8-c69b-10c369c7b48e\",\"plot\":{\"type\":\"Plot\",\"subtype\":\"Figure\",\"id\":\"bd3aebc1-caee-4598-c518-78ff43ed551e\"},\"doc\":null}},{\"type\":\"Legend\",\"id\":\"26c10519-7257-4f83-cf62-a0bdc2fa1264\",\"attributes\":{\"id\":\"26c10519-7257-4f83-cf62-a0bdc2fa1264\",\"tags\":[],\"plot\":{\"type\":\"Plot\",\"subtype\":\"Figure\",\"id\":\"bd3aebc1-caee-4598-c518-78ff43ed551e\"},\"legends\":[[\"S0: Strategy initialized with target values\",[{\"type\":\"GlyphRenderer\",\"id\":\"c63a0b70-de68-4d26-cd64-f4994964df22\"}]],[\"SNN : Strategy initialized with NN\",[{\"type\":\"GlyphRenderer\",\"id\":\"cd0df925-3737-46bf-c6d8-ac4ea5e789f0\"}]]],\"doc\":null}},{\"type\":\"Plot\",\"id\":\"bd3aebc1-caee-4598-c518-78ff43ed551e\",\"attributes\":{\"tool_events\":{\"type\":\"ToolEvents\",\"id\":\"fcfece1e-de66-4e38-ce26-a8c1016ab0d3\"},\"above\":[],\"extra_y_ranges\":{},\"extra_x_ranges\":{},\"left\":[{\"type\":\"LinearAxis\",\"id\":\"b9c75cc8-8334-436d-c318-7bb6f7383fd1\"}],\"y_range\":{\"type\":\"DataRange1d\",\"id\":\"20d294d7-1567-45ce-c528-204340bdea6d\"},\"tools\":[{\"type\":\"PanTool\",\"id\":\"aca3ae6c-7c91-41ea-c1cb-9a00db37c5b3\"},{\"type\":\"WheelZoomTool\",\"id\":\"c3eaab76-6292-4c28-cc94-be74b87987fe\"},{\"type\":\"BoxZoomTool\",\"id\":\"818091bb-af50-4e05-ceb4-e96e9ca53d54\"},{\"type\":\"PreviewSaveTool\",\"id\":\"bc292741-99d3-4fa1-cf3f-b05b101f3a78\"},{\"type\":\"ResizeTool\",\"id\":\"a8d1bfe5-c66e-47f7-c731-fcf1fd0e7e2c\"},{\"type\":\"ResetTool\",\"id\":\"2230721e-c6ac-46c8-c69b-10c369c7b48e\"}],\"below\":[{\"type\":\"LinearAxis\",\"id\":\"dcdf03b6-eed4-4a85-caf2-01286a4495b7\"}],\"id\":\"bd3aebc1-caee-4598-c518-78ff43ed551e\",\"title\":\"MSE between optimal strategies and S0\\/SNN \",\"right\":[],\"tags\":[],\"x_range\":{\"type\":\"DataRange1d\",\"id\":\"b473efda-cf9e-44e8-c48e-faae2ee2d5cd\"},\"renderers\":[{\"type\":\"GlyphRenderer\",\"id\":\"c63a0b70-de68-4d26-cd64-f4994964df22\"},{\"type\":\"GlyphRenderer\",\"id\":\"cd0df925-3737-46bf-c6d8-ac4ea5e789f0\"},{\"type\":\"LinearAxis\",\"id\":\"dcdf03b6-eed4-4a85-caf2-01286a4495b7\"},{\"type\":\"Grid\",\"id\":\"d81c7ec9-f577-42ce-c25d-f6043293fb20\"},{\"type\":\"LinearAxis\",\"id\":\"b9c75cc8-8334-436d-c318-7bb6f7383fd1\"},{\"type\":\"Grid\",\"id\":\"e7b2a48e-da2d-4060-c029-2de0aa393a15\"},{\"type\":\"Legend\",\"id\":\"26c10519-7257-4f83-cf62-a0bdc2fa1264\"}],\"doc\":null}}];\n",
       "  Bokeh.load_models(all_models);\n",
       "  var model = Bokeh.Collections(modeltype).get(modelid);\n",
       "  $(\"#2821eb7a-7338-4127-c1ed-ab7799c09774\").html(''); // clear any previous plot in window_id\n",
       "  var view = new model.default_view({model: model, el: \"#2821eb7a-7338-4127-c1ed-ab7799c09774\"});\n",
       "    } else {\n",
       "  load_lib(bokehjs_url, function() {\n",
       "      console.log(\"Bokeh: BokehJS plotting callback run at\", new Date())\n",
       "      var modelid = \"bd3aebc1-caee-4598-c518-78ff43ed551e\";\n",
       "      var modeltype = \"Plot\";\n",
       "      var all_models = [{\"type\":\"ColumnDataSource\",\"id\":\"91877d44-c1e2-4354-c31a-d45184e84b4a\",\"attributes\":{\"column_names\":[\"y\",\"x\"],\"id\":\"91877d44-c1e2-4354-c31a-d45184e84b4a\",\"selected\":[],\"data\":{\"x\":[2,3,4,5,6,7,8,9,10,11,12,13,14,15,16,17,18,19,20,21,22,23,24,25,26,27,28,29,30,31,32,33,34,35,36,37,38,39,40,41,42,43,44,45,46,47,48,49,50,51,52,53,54,55,56,57,58,59,60,61,62,63,64,65,66,67,68,69,70,71,72,73,74,75,76,77,78,79,80,81,82,83,84,85,86,87,88,89,90,91,92,93,94,95,96,97,98,99,100,101,102,103,104,105,106,107,108,109,110,111,112,113,114,115,116,117,118,119,120,121,122,123,124,125,126,127,128,129,130,131,132,133,134,135,136,137,138,139,140,141,142,143,144,145,146,147,148,149,150,151,152,153,154,155,156,157,158,159,160,161,162,163,164,165,166,167,168,169,170,171,172,173,174,175,176,177,178,179,180,181,182,183,184,185,186,187,188,189,190,191,192,193,194,195,196,197,198,199,200,201],\"y\":[0.34659862518311,0.34632822871208,0.34606131911278,0.34579822421074,0.34553915262222,0.3452672958374,0.34467417001724,0.34356799721718,0.34195199608803,0.34007978439331,0.3384293615818,0.33759698271751,0.3372163772583,0.33680352568626,0.33639052510262,0.33600577712059,0.33560964465141,0.33521071076393,0.33482038974762,0.33444166183472,0.33407628536224,0.33373475074768,0.33343023061752,0.33316805958748,0.33289703726768,0.33258685469627,0.33220487833023,0.33173072338104,0.33114695549011,0.33047273755074,0.32978278398514,0.32910212874413,0.32831707596779,0.32743507623672,0.32649248838425,0.32557085156441,0.32477778196335,0.32412350177765,0.32355418801308,0.32306307554245,0.32264491915703,0.32228970527649,0.32197761535645,0.32169914245605,0.32145172357559,0.32120415568352,0.32096153497696,0.32073271274567,0.32049161195755,0.32024466991425,0.32000449299812,0.31977275013924,0.31954383850098,0.31930303573608,0.31902694702148,0.31871181726456,0.31837141513824,0.31801635026932,0.31764206290245,0.31727233529091,0.31693509221077,0.31661987304688,0.31633114814758,0.31607761979103,0.31587338447571,0.31573963165283,0.31563359498978,0.31553763151169,0.3154422044754,0.31534013152122,0.31522193551064,0.31508502364159,0.31492850184441,0.31473580002785,0.31449043750763,0.31418055295944,0.31382164359093,0.31343924999237,0.31306341290474,0.31272739171982,0.31250211596489,0.31229573488235,0.31205272674561,0.31176626682281,0.3114709854126,0.31116905808449,0.31086573004723,0.31056991219521,0.31029513478279,0.31004804372787,0.30982908606529,0.30963876843452,0.30947735905647,0.30934724211693,0.30921670794487,0.30908218026161,0.30894520878792,0.30880686640739,0.30866867303848,0.30852818489075,0.30838459730148,0.30823662877083,0.30807808041573,0.30789515376091,0.30768257379532,0.30746084451675,0.30728974938393,0.30720344185829,0.30717706680298,0.30716636776924,0.30711334943771,0.30705642700195,0.30698963999748,0.30689996480942,0.30677017569542,0.30662322044373,0.30650305747986,0.30640479922295,0.30630519986153,0.30619961023331,0.30608782172203,0.30596235394478,0.30581620335579,0.30564370751381,0.3054051399231,0.30508342385292,0.30471700429916,0.30440133810043,0.30419874191284,0.30399921536446,0.30380699038506,0.30363556742668,0.30347582697868,0.30332514643669,0.3031884431839,0.30306199193001,0.30294623970985,0.30284398794174,0.30276137590408,0.30269858241081,0.30263975262642,0.30258134007454,0.30252119898796,0.30245718359947,0.30238965153694,0.30231881141663,0.3022435605526,0.30215501785278,0.30200380086899,0.30162593722343,0.3009030520916,0.29985666275024,0.29872593283653,0.29787895083427,0.29768124222755,0.29750683903694,0.29732683300972,0.29714864492416,0.29697832465172,0.29680669307709,0.29663726687431,0.29647967219353,0.29633089900017,0.29618442058563,0.29605162143707,0.29592967033386,0.2958250939846,0.29572969675064,0.29563900828362,0.29555454850197,0.29546317458153,0.29536390304565,0.29526236653328,0.2951488494873,0.29501268267632,0.29486402869225,0.29470983147621,0.29454511404037,0.29437229037285,0.29420387744904,0.29403913021088,0.29388076066971,0.29372745752335,0.29358080029488,0.29344293475151,0.29331824183464,0.29321101307869,0.29312327504158,0.2930500805378,0.29299038648605,0.29294565320015,0.29291659593582,0.29289269447327,0.29286882281303,0.29284396767616,0.29281824827194,0.29279157519341,0.292760014534,0.29271632432938,0.29244384169579]},\"tags\":[],\"discrete_ranges\":{},\"cont_ranges\":{},\"doc\":null}},{\"type\":\"Line\",\"id\":\"550b67e4-2199-474f-c71f-deabe06a145b\",\"attributes\":{\"line_alpha\":{\"units\":\"data\",\"value\":1},\"size\":{\"units\":\"screen\",\"value\":10},\"line_color\":{\"value\":\"red\"},\"y\":{\"units\":\"data\",\"field\":\"y\"},\"fill_alpha\":{\"units\":\"data\",\"value\":0.2},\"fill_color\":{\"value\":\"red\"},\"tags\":[],\"x\":{\"units\":\"data\",\"field\":\"x\"},\"id\":\"550b67e4-2199-474f-c71f-deabe06a145b\",\"doc\":null}},{\"type\":\"Line\",\"id\":\"e5b10313-0a66-431a-c3a5-8f05ea4a2b77\",\"attributes\":{\"line_alpha\":{\"units\":\"data\",\"value\":1},\"size\":{\"units\":\"screen\",\"value\":10},\"line_color\":{\"value\":\"red\"},\"y\":{\"units\":\"data\",\"field\":\"y\"},\"fill_alpha\":{\"units\":\"data\",\"value\":0.2},\"fill_color\":{\"value\":\"red\"},\"tags\":[],\"x\":{\"units\":\"data\",\"field\":\"x\"},\"id\":\"e5b10313-0a66-431a-c3a5-8f05ea4a2b77\",\"doc\":null}},{\"type\":\"GlyphRenderer\",\"id\":\"c63a0b70-de68-4d26-cd64-f4994964df22\",\"attributes\":{\"selection_glyph\":null,\"glyph\":{\"type\":\"Line\",\"id\":\"550b67e4-2199-474f-c71f-deabe06a145b\"},\"data_source\":{\"type\":\"ColumnDataSource\",\"id\":\"91877d44-c1e2-4354-c31a-d45184e84b4a\"},\"id\":\"c63a0b70-de68-4d26-cd64-f4994964df22\",\"name\":null,\"tags\":[],\"server_data_source\":null,\"nonselection_glyph\":{\"type\":\"Line\",\"id\":\"e5b10313-0a66-431a-c3a5-8f05ea4a2b77\"},\"doc\":null}},{\"type\":\"ColumnDataSource\",\"id\":\"1d471c9f-985b-4555-c528-66d22ae0534f\",\"attributes\":{\"column_names\":[\"y\",\"x\"],\"id\":\"1d471c9f-985b-4555-c528-66d22ae0534f\",\"selected\":[],\"data\":{\"x\":[2,3,4,5,6,7,8,9,10,11,12,13,14,15,16,17,18,19,20,21,22,23,24,25,26,27,28,29,30,31,32,33,34,35,36,37,38,39,40,41,42,43,44,45,46,47,48,49,50,51,52,53,54,55,56,57,58,59,60,61,62,63,64,65,66,67,68,69,70,71,72,73,74,75,76,77,78,79,80,81,82,83,84,85,86,87,88,89,90,91,92,93,94,95,96,97,98,99,100,101,102,103,104,105,106,107,108,109,110,111,112,113,114,115,116,117,118,119,120,121,122,123,124,125,126,127,128,129,130,131,132,133,134,135,136,137,138,139,140,141,142,143,144,145,146,147,148,149,150,151,152,153,154,155,156,157,158,159,160,161,162,163,164,165,166,167,168,169,170,171,172,173,174,175,176,177,178,179,180,181,182,183,184,185,186,187,188,189,190,191,192,193,194,195,196,197,198,199,200,201],\"y\":[2.3779997825623,2.2725691795349,2.145054101944,2.022296667099,1.9232252836227,1.8480513095856,1.7870209217072,1.733922958374,1.6915738582611,1.6549338102341,1.618017911911,1.586027264595,1.6548941135406,1.627693772316,1.602565407753,1.5809379816055,1.5729407072067,1.5583097934723,1.5388405323029,1.5166741609573,1.4908239841461,1.4621071815491,1.4352885484695,1.4118647575378,1.3934012651443,1.3781603574753,1.3688281774521,1.3717089891434,1.3785916566849,1.389554142952,1.4013067483902,1.4090467691422,1.410573720932,1.4105104207993,1.4119104146957,1.4150100946426,1.4145261049271,1.4109896421432,1.4074032306671,1.4055743217468,1.4020863771439,1.3943175077438,1.3844590187073,1.373882651329,1.3643122911453,1.3568655252457,1.3520662784576,1.3492662906647,1.3453100919724,1.3396666049957,1.3328615427017,1.3258094787598,1.3179142475128,1.3013657331467,1.273135304451,1.2376754283905,1.2071915864944,1.1913570165634,1.1876268386841,1.1833883523941,1.1801971197128,1.1771229505539,1.1734877824783,1.1690264940262,1.1624035835266,1.1526916027069,1.1407630443573,1.1293067932129,1.1210726499557,1.116353392601,1.1164481639862,1.1213316917419,1.1267449855804,1.1316857337952,1.1347477436066,1.1346920728683,1.1341086626053,1.1329870223999,1.1324739456177,1.1342351436615,1.1361249685287,1.1396615505219,1.1465511322021,1.1558654308319,1.1651045084,1.1718199253082,1.1734591722488,1.1724035739899,1.1713670492172,1.1702374219894,1.1689492464066,1.1670128107071,1.1646980047226,1.16339802742,1.162416100502,1.1616611480713,1.1608153581619,1.1596336364746,1.1578594446182,1.1563085317612,1.1544905900955,1.1499341726303,1.1420449018478,1.1319978237152,1.1209152936935,1.1108946800232,1.1031000614166,1.0976634025574,1.0939166545868,1.091535449028,1.0906627178192,1.0900259017944,1.0897564888,1.0903013944626,1.0913659334183,1.0923098325729,1.0927834510803,1.0941517353058,1.0962034463882,1.0971281528473,1.0973769426346,1.0964369773865,1.0944745540619,1.0914877653122,1.0863007307053,1.0793335437775,1.0728352069855,1.0686845779419,1.067377448082,1.0663183927536,1.0653228759766,1.0650480985641,1.0650925636292,1.0654479265213,1.0659877061844,1.0664125680923,1.0661536455154,1.0648145675659,1.0624072551727,1.0606741905212,1.0577921867371,1.0537792444229,1.0496462583542,1.0467270612717,1.0447503328323,1.0435985326767,1.0430934429169,1.0430026054382,1.0426068305969,1.0394598245621,1.032710313797,1.0236248970032,1.0150094032288,1.0078902244568,1.0058244466782,1.0066680908203,1.0077377557755,1.0087835788727,1.0095378160477,1.0097345113754,1.00943338871,1.0089998245239,1.0083235502243,1.0073469877243,1.0064321756363,1.0059580802917,1.0055866241455,1.0057338476181,1.0060411691666,1.0063205957413,1.00645840168,1.0066422224045,1.0067224502563,1.0065474510193,1.0059778690338,1.0049279928207,1.0035618543625,1.0018696784973,0.99982041120529,0.99790471792221,0.99673908948898,0.99619746208191,0.99558860063553,0.99363106489182,0.98936295509338,0.98287856578827,0.97669041156769,0.97530633211136,0.97652447223663,0.97708642482758,0.97710430622101,0.97697335481644,0.97675865888596,0.97433072328568,0.970458984375,0.96890503168106,0.96918165683746,0.96943801641464,0.96958857774734,0.9689553976059]},\"tags\":[],\"discrete_ranges\":{},\"cont_ranges\":{},\"doc\":null}},{\"type\":\"Line\",\"id\":\"5fd973d5-69cd-4203-c276-3f92b13ec300\",\"attributes\":{\"line_alpha\":{\"units\":\"data\",\"value\":1},\"size\":{\"units\":\"screen\",\"value\":10},\"line_color\":{\"value\":\"blue\"},\"y\":{\"units\":\"data\",\"field\":\"y\"},\"fill_alpha\":{\"units\":\"data\",\"value\":0.2},\"fill_color\":{\"value\":\"blue\"},\"tags\":[],\"x\":{\"units\":\"data\",\"field\":\"x\"},\"id\":\"5fd973d5-69cd-4203-c276-3f92b13ec300\",\"doc\":null}},{\"type\":\"Line\",\"id\":\"38540f91-46c8-4929-c9f1-283ed9008011\",\"attributes\":{\"line_alpha\":{\"units\":\"data\",\"value\":1},\"size\":{\"units\":\"screen\",\"value\":10},\"line_color\":{\"value\":\"blue\"},\"y\":{\"units\":\"data\",\"field\":\"y\"},\"fill_alpha\":{\"units\":\"data\",\"value\":0.2},\"fill_color\":{\"value\":\"blue\"},\"tags\":[],\"x\":{\"units\":\"data\",\"field\":\"x\"},\"id\":\"38540f91-46c8-4929-c9f1-283ed9008011\",\"doc\":null}},{\"type\":\"GlyphRenderer\",\"id\":\"cd0df925-3737-46bf-c6d8-ac4ea5e789f0\",\"attributes\":{\"selection_glyph\":null,\"glyph\":{\"type\":\"Line\",\"id\":\"5fd973d5-69cd-4203-c276-3f92b13ec300\"},\"data_source\":{\"type\":\"ColumnDataSource\",\"id\":\"1d471c9f-985b-4555-c528-66d22ae0534f\"},\"id\":\"cd0df925-3737-46bf-c6d8-ac4ea5e789f0\",\"name\":null,\"tags\":[],\"server_data_source\":null,\"nonselection_glyph\":{\"type\":\"Line\",\"id\":\"38540f91-46c8-4929-c9f1-283ed9008011\"},\"doc\":null}},{\"type\":\"DataRange1d\",\"id\":\"b473efda-cf9e-44e8-c48e-faae2ee2d5cd\",\"attributes\":{\"tags\":[],\"id\":\"b473efda-cf9e-44e8-c48e-faae2ee2d5cd\",\"sources\":[{\"columns\":[\"x\"],\"source\":{\"type\":\"ColumnDataSource\",\"id\":\"91877d44-c1e2-4354-c31a-d45184e84b4a\"}},{\"columns\":[\"x\"],\"source\":{\"type\":\"ColumnDataSource\",\"id\":\"1d471c9f-985b-4555-c528-66d22ae0534f\"}}],\"doc\":null}},{\"type\":\"DataRange1d\",\"id\":\"20d294d7-1567-45ce-c528-204340bdea6d\",\"attributes\":{\"tags\":[],\"id\":\"20d294d7-1567-45ce-c528-204340bdea6d\",\"sources\":[{\"columns\":[\"y\"],\"source\":{\"type\":\"ColumnDataSource\",\"id\":\"91877d44-c1e2-4354-c31a-d45184e84b4a\"}},{\"columns\":[\"y\"],\"source\":{\"type\":\"ColumnDataSource\",\"id\":\"1d471c9f-985b-4555-c528-66d22ae0534f\"}}],\"doc\":null}},{\"type\":\"ToolEvents\",\"id\":\"fcfece1e-de66-4e38-ce26-a8c1016ab0d3\",\"attributes\":{\"tags\":[],\"id\":\"fcfece1e-de66-4e38-ce26-a8c1016ab0d3\",\"geometries\":[],\"doc\":null}},{\"type\":\"BasicTickFormatter\",\"id\":\"071374e9-e793-4fd2-cf0e-eeccb5a216c6\",\"attributes\":{\"tags\":[],\"id\":\"071374e9-e793-4fd2-cf0e-eeccb5a216c6\",\"doc\":null}},{\"type\":\"BasicTicker\",\"id\":\"9ec4d0a7-ec57-48df-c889-d8460c3d6c66\",\"attributes\":{\"tags\":[],\"id\":\"9ec4d0a7-ec57-48df-c889-d8460c3d6c66\",\"num_minor_ticks\":5,\"doc\":null}},{\"type\":\"LinearAxis\",\"id\":\"dcdf03b6-eed4-4a85-caf2-01286a4495b7\",\"attributes\":{\"formatter\":{\"type\":\"BasicTickFormatter\",\"id\":\"071374e9-e793-4fd2-cf0e-eeccb5a216c6\"},\"id\":\"dcdf03b6-eed4-4a85-caf2-01286a4495b7\",\"axis_label\":null,\"tags\":[],\"plot\":{\"type\":\"Plot\",\"subtype\":\"Figure\",\"id\":\"bd3aebc1-caee-4598-c518-78ff43ed551e\"},\"ticker\":{\"type\":\"BasicTicker\",\"id\":\"9ec4d0a7-ec57-48df-c889-d8460c3d6c66\"},\"doc\":null}},{\"type\":\"Grid\",\"id\":\"d81c7ec9-f577-42ce-c25d-f6043293fb20\",\"attributes\":{\"ticker\":{\"type\":\"BasicTicker\",\"id\":\"9ec4d0a7-ec57-48df-c889-d8460c3d6c66\"},\"id\":\"d81c7ec9-f577-42ce-c25d-f6043293fb20\",\"tags\":[],\"plot\":{\"type\":\"Plot\",\"subtype\":\"Figure\",\"id\":\"bd3aebc1-caee-4598-c518-78ff43ed551e\"},\"dimension\":0,\"doc\":null}},{\"type\":\"BasicTickFormatter\",\"id\":\"eb5c7902-a68d-43b3-c3a4-e51f2e622a27\",\"attributes\":{\"tags\":[],\"id\":\"eb5c7902-a68d-43b3-c3a4-e51f2e622a27\",\"doc\":null}},{\"type\":\"BasicTicker\",\"id\":\"af54b7f1-9f9e-4774-c77c-e60c0a709ecb\",\"attributes\":{\"tags\":[],\"id\":\"af54b7f1-9f9e-4774-c77c-e60c0a709ecb\",\"num_minor_ticks\":5,\"doc\":null}},{\"type\":\"LinearAxis\",\"id\":\"b9c75cc8-8334-436d-c318-7bb6f7383fd1\",\"attributes\":{\"formatter\":{\"type\":\"BasicTickFormatter\",\"id\":\"eb5c7902-a68d-43b3-c3a4-e51f2e622a27\"},\"id\":\"b9c75cc8-8334-436d-c318-7bb6f7383fd1\",\"axis_label\":null,\"tags\":[],\"plot\":{\"type\":\"Plot\",\"subtype\":\"Figure\",\"id\":\"bd3aebc1-caee-4598-c518-78ff43ed551e\"},\"ticker\":{\"type\":\"BasicTicker\",\"id\":\"af54b7f1-9f9e-4774-c77c-e60c0a709ecb\"},\"doc\":null}},{\"type\":\"Grid\",\"id\":\"e7b2a48e-da2d-4060-c029-2de0aa393a15\",\"attributes\":{\"ticker\":{\"type\":\"BasicTicker\",\"id\":\"af54b7f1-9f9e-4774-c77c-e60c0a709ecb\"},\"id\":\"e7b2a48e-da2d-4060-c029-2de0aa393a15\",\"tags\":[],\"plot\":{\"type\":\"Plot\",\"subtype\":\"Figure\",\"id\":\"bd3aebc1-caee-4598-c518-78ff43ed551e\"},\"dimension\":1,\"doc\":null}},{\"type\":\"PanTool\",\"id\":\"aca3ae6c-7c91-41ea-c1cb-9a00db37c5b3\",\"attributes\":{\"dimensions\":[\"width\",\"height\"],\"id\":\"aca3ae6c-7c91-41ea-c1cb-9a00db37c5b3\",\"tags\":[],\"plot\":{\"type\":\"Plot\",\"subtype\":\"Figure\",\"id\":\"bd3aebc1-caee-4598-c518-78ff43ed551e\"},\"doc\":null}},{\"type\":\"WheelZoomTool\",\"id\":\"c3eaab76-6292-4c28-cc94-be74b87987fe\",\"attributes\":{\"dimensions\":[\"width\",\"height\"],\"id\":\"c3eaab76-6292-4c28-cc94-be74b87987fe\",\"tags\":[],\"plot\":{\"type\":\"Plot\",\"subtype\":\"Figure\",\"id\":\"bd3aebc1-caee-4598-c518-78ff43ed551e\"},\"doc\":null}},{\"type\":\"BoxZoomTool\",\"id\":\"818091bb-af50-4e05-ceb4-e96e9ca53d54\",\"attributes\":{\"tags\":[],\"id\":\"818091bb-af50-4e05-ceb4-e96e9ca53d54\",\"plot\":{\"type\":\"Plot\",\"subtype\":\"Figure\",\"id\":\"bd3aebc1-caee-4598-c518-78ff43ed551e\"},\"doc\":null}},{\"type\":\"PreviewSaveTool\",\"id\":\"bc292741-99d3-4fa1-cf3f-b05b101f3a78\",\"attributes\":{\"tags\":[],\"id\":\"bc292741-99d3-4fa1-cf3f-b05b101f3a78\",\"plot\":{\"type\":\"Plot\",\"subtype\":\"Figure\",\"id\":\"bd3aebc1-caee-4598-c518-78ff43ed551e\"},\"doc\":null}},{\"type\":\"ResizeTool\",\"id\":\"a8d1bfe5-c66e-47f7-c731-fcf1fd0e7e2c\",\"attributes\":{\"tags\":[],\"id\":\"a8d1bfe5-c66e-47f7-c731-fcf1fd0e7e2c\",\"plot\":{\"type\":\"Plot\",\"subtype\":\"Figure\",\"id\":\"bd3aebc1-caee-4598-c518-78ff43ed551e\"},\"doc\":null}},{\"type\":\"ResetTool\",\"id\":\"2230721e-c6ac-46c8-c69b-10c369c7b48e\",\"attributes\":{\"tags\":[],\"id\":\"2230721e-c6ac-46c8-c69b-10c369c7b48e\",\"plot\":{\"type\":\"Plot\",\"subtype\":\"Figure\",\"id\":\"bd3aebc1-caee-4598-c518-78ff43ed551e\"},\"doc\":null}},{\"type\":\"Legend\",\"id\":\"26c10519-7257-4f83-cf62-a0bdc2fa1264\",\"attributes\":{\"id\":\"26c10519-7257-4f83-cf62-a0bdc2fa1264\",\"tags\":[],\"plot\":{\"type\":\"Plot\",\"subtype\":\"Figure\",\"id\":\"bd3aebc1-caee-4598-c518-78ff43ed551e\"},\"legends\":[[\"S0: Strategy initialized with target values\",[{\"type\":\"GlyphRenderer\",\"id\":\"c63a0b70-de68-4d26-cd64-f4994964df22\"}]],[\"SNN : Strategy initialized with NN\",[{\"type\":\"GlyphRenderer\",\"id\":\"cd0df925-3737-46bf-c6d8-ac4ea5e789f0\"}]]],\"doc\":null}},{\"type\":\"Plot\",\"id\":\"bd3aebc1-caee-4598-c518-78ff43ed551e\",\"attributes\":{\"tool_events\":{\"type\":\"ToolEvents\",\"id\":\"fcfece1e-de66-4e38-ce26-a8c1016ab0d3\"},\"above\":[],\"extra_y_ranges\":{},\"extra_x_ranges\":{},\"left\":[{\"type\":\"LinearAxis\",\"id\":\"b9c75cc8-8334-436d-c318-7bb6f7383fd1\"}],\"y_range\":{\"type\":\"DataRange1d\",\"id\":\"20d294d7-1567-45ce-c528-204340bdea6d\"},\"tools\":[{\"type\":\"PanTool\",\"id\":\"aca3ae6c-7c91-41ea-c1cb-9a00db37c5b3\"},{\"type\":\"WheelZoomTool\",\"id\":\"c3eaab76-6292-4c28-cc94-be74b87987fe\"},{\"type\":\"BoxZoomTool\",\"id\":\"818091bb-af50-4e05-ceb4-e96e9ca53d54\"},{\"type\":\"PreviewSaveTool\",\"id\":\"bc292741-99d3-4fa1-cf3f-b05b101f3a78\"},{\"type\":\"ResizeTool\",\"id\":\"a8d1bfe5-c66e-47f7-c731-fcf1fd0e7e2c\"},{\"type\":\"ResetTool\",\"id\":\"2230721e-c6ac-46c8-c69b-10c369c7b48e\"}],\"below\":[{\"type\":\"LinearAxis\",\"id\":\"dcdf03b6-eed4-4a85-caf2-01286a4495b7\"}],\"id\":\"bd3aebc1-caee-4598-c518-78ff43ed551e\",\"title\":\"MSE between optimal strategies and S0\\/SNN \",\"right\":[],\"tags\":[],\"x_range\":{\"type\":\"DataRange1d\",\"id\":\"b473efda-cf9e-44e8-c48e-faae2ee2d5cd\"},\"renderers\":[{\"type\":\"GlyphRenderer\",\"id\":\"c63a0b70-de68-4d26-cd64-f4994964df22\"},{\"type\":\"GlyphRenderer\",\"id\":\"cd0df925-3737-46bf-c6d8-ac4ea5e789f0\"},{\"type\":\"LinearAxis\",\"id\":\"dcdf03b6-eed4-4a85-caf2-01286a4495b7\"},{\"type\":\"Grid\",\"id\":\"d81c7ec9-f577-42ce-c25d-f6043293fb20\"},{\"type\":\"LinearAxis\",\"id\":\"b9c75cc8-8334-436d-c318-7bb6f7383fd1\"},{\"type\":\"Grid\",\"id\":\"e7b2a48e-da2d-4060-c029-2de0aa393a15\"},{\"type\":\"Legend\",\"id\":\"26c10519-7257-4f83-cf62-a0bdc2fa1264\"}],\"doc\":null}}];\n",
       "      Bokeh.load_models(all_models);\n",
       "      var model = Bokeh.Collections(modeltype).get(modelid);\n",
       "      $(\"#2821eb7a-7338-4127-c1ed-ab7799c09774\").html(''); // clear any previous plot in window_id\n",
       "      var view = new model.default_view({model: model, el: \"#2821eb7a-7338-4127-c1ed-ab7799c09774\"});\n",
       "  });\n",
       "    }\n",
       "});\n",
       "</script>\n",
       "<div class=\"plotdiv\" id=\"2821eb7a-7338-4127-c1ed-ab7799c09774\"></div>\n"
      ]
     },
     "metadata": {},
     "output_type": "display_data"
    }
   ],
   "source": [
    "t2 = torch.range(2,diff:narrow(1,10,201):size(1))\n",
    "local plot = Plot()\n",
    "\n",
    "plot:line(t2,diff:narrow(1,10,200),'red' ,'S0: Strategy initialized with target values')\n",
    "plot:line(t2,diff_nn:narrow(1,10,200),'blue' ,'SNN : Strategy initialized with NN')\n",
    "plot:legend(true):title('MSE between optimal strategies and S0/SNN ')\n",
    "plot:draw()"
   ]
  },
  {
   "cell_type": "code",
   "execution_count": 132,
   "metadata": {},
   "outputs": [
    {
     "data": {
      "text/plain": [
       " 199\n",
       "[torch.LongStorage of size 1]\n",
       "\n"
      ]
     },
     "execution_count": 132,
     "metadata": {},
     "output_type": "execute_result"
    }
   ],
   "source": [
    "t2:size()"
   ]
  },
  {
   "cell_type": "code",
   "execution_count": 133,
   "metadata": {},
   "outputs": [
    {
     "data": {
      "text/plain": [
       " 200\n",
       "[torch.LongStorage of size 1]\n",
       "\n"
      ]
     },
     "execution_count": 133,
     "metadata": {},
     "output_type": "execute_result"
    }
   ],
   "source": [
    "diff:narrow(1,10,200):size()"
   ]
  },
  {
   "cell_type": "code",
   "execution_count": null,
   "metadata": {
    "collapsed": true
   },
   "outputs": [],
   "source": []
  },
  {
   "cell_type": "code",
   "execution_count": null,
   "metadata": {
    "collapsed": true
   },
   "outputs": [],
   "source": [
    "--- CFR:\n",
    "tree_cfr1 = TreeCFR()\n",
    "print(\"Solver\")\n",
    "tree_cfr1:run_cfr(tree, starting_ranges,400)"
   ]
  },
  {
   "cell_type": "code",
   "execution_count": 76,
   "metadata": {},
   "outputs": [
    {
     "data": {
      "text/plain": [
       "400\n"
      ]
     },
     "execution_count": 76,
     "metadata": {},
     "output_type": "execute_result"
    }
   ],
   "source": [
    "#tree_cfr0.total_strategies"
   ]
  },
  {
   "cell_type": "code",
   "execution_count": 72,
   "metadata": {},
   "outputs": [
    {
     "data": {
      "text/plain": [
       "800\n"
      ]
     },
     "execution_count": 72,
     "metadata": {},
     "output_type": "execute_result"
    }
   ],
   "source": [
    "#tree_cfr1.total_strategies"
   ]
  },
  {
   "cell_type": "code",
   "execution_count": 73,
   "metadata": {},
   "outputs": [
    {
     "data": {
      "text/plain": [
       "400\n"
      ]
     },
     "execution_count": 73,
     "metadata": {},
     "output_type": "execute_result"
    }
   ],
   "source": [
    "#tree_cfr.total_strategies"
   ]
  },
  {
   "cell_type": "code",
   "execution_count": null,
   "metadata": {
    "collapsed": true
   },
   "outputs": [],
   "source": [
    "tree3 = builder:build_tree(params)\n"
   ]
  },
  {
   "cell_type": "code",
   "execution_count": null,
   "metadata": {
    "collapsed": true
   },
   "outputs": [],
   "source": [
    "game3 = TreeData(tree3)\n",
    "game3:get_training_set(tree3,1)\n",
    "game3:generate_new_initial_strategies(tree3,nn_trainer)"
   ]
  },
  {
   "cell_type": "code",
   "execution_count": null,
   "metadata": {
    "collapsed": true
   },
   "outputs": [],
   "source": [
    "local starting_ranges = arguments.Tensor(constants.players_count, game_settings.card_count)\n",
    "starting_ranges[1]:copy(card_tools:get_uniform_range(params.root_node.board))\n",
    "starting_ranges[2]:copy(card_tools:get_uniform_range(params.root_node.board))\n",
    "tree_cfr0 = TreeCFR()\n",
    "tree_cfr0:run_cfr(tree0, starting_ranges,300)"
   ]
  },
  {
   "cell_type": "code",
   "execution_count": null,
   "metadata": {
    "collapsed": true
   },
   "outputs": [],
   "source": [
    "tree2 = builder:build_tree(params)\n",
    "--- CFR Solver\n",
    "local starting_ranges = arguments.Tensor(constants.players_count, game_settings.card_count)\n",
    "starting_ranges[1]:copy(card_tools:get_uniform_range(params.root_node.board))\n",
    "starting_ranges[2]:copy(card_tools:get_uniform_range(params.root_node.board))\n",
    "tree_cfr2 = TreeCFR()\n",
    "print(\"Solver\")\n",
    "tree_cfr2:run_cfr(tree2, starting_ranges,300)\n",
    "---tree_cfr:run_cfr(tree0, starting_ranges,50)"
   ]
  },
  {
   "cell_type": "code",
   "execution_count": null,
   "metadata": {
    "collapsed": true
   },
   "outputs": [],
   "source": [
    "tree0.strategy"
   ]
  },
  {
   "cell_type": "code",
   "execution_count": null,
   "metadata": {
    "collapsed": true
   },
   "outputs": [],
   "source": [
    "tree2.strategy"
   ]
  },
  {
   "cell_type": "code",
   "execution_count": null,
   "metadata": {
    "collapsed": true
   },
   "outputs": [],
   "source": [
    "tree.strategy"
   ]
  },
  {
   "cell_type": "code",
   "execution_count": null,
   "metadata": {
    "collapsed": true
   },
   "outputs": [],
   "source": [
    "print(torch.sum(tree0.children[2].regrets)/300)\n",
    "print(torch.sum(tree.children[2].regrets)/500)\n",
    "print(torch.sum(tree2.children[2].regrets)/300)"
   ]
  },
  {
   "cell_type": "code",
   "execution_count": null,
   "metadata": {
    "collapsed": true
   },
   "outputs": [],
   "source": []
  },
  {
   "cell_type": "code",
   "execution_count": null,
   "metadata": {
    "collapsed": true
   },
   "outputs": [],
   "source": []
  },
  {
   "cell_type": "code",
   "execution_count": null,
   "metadata": {
    "collapsed": true
   },
   "outputs": [],
   "source": []
  },
  {
   "cell_type": "code",
   "execution_count": null,
   "metadata": {
    "collapsed": true
   },
   "outputs": [],
   "source": [
    "local new_model = nn_trainer.set_new_model()\n",
    "local current_criterion = nn.SmoothL1Criterion()\n",
    "\n",
    "-- Options:\n",
    "local opt = {}\n",
    "opt.learningRate = 0.001\n",
    "opt.momentum = 0.95\n",
    "opt.validate = true\n",
    "\n",
    "train_loss1,test_loss1 = nn_trainer:train(new_model,current_criterion,opt,10000)"
   ]
  },
  {
   "cell_type": "code",
   "execution_count": null,
   "metadata": {
    "collapsed": true
   },
   "outputs": [],
   "source": [
    "local t2 = torch.range(1,train_loss1:size(1))\n",
    "local plot = Plot()\n",
    "\n",
    "plot:line(t2,train_loss1,'red' ,'train loss')\n",
    "plot:line(t2,test_loss1,'blue' ,'test loss')\n",
    "plot:legend(true):title('Mean Square Error')\n",
    "plot:draw()"
   ]
  }
 ],
 "metadata": {
  "kernelspec": {
   "display_name": "iTorch",
   "language": "lua",
   "name": "itorch"
  },
  "language_info": {
   "name": "lua",
   "version": "5.2"
  }
 },
 "nbformat": 4,
 "nbformat_minor": 2
}
