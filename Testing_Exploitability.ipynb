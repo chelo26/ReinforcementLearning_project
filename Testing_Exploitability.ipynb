{
 "cells": [
  {
   "cell_type": "code",
   "execution_count": 1,
   "metadata": {
    "collapsed": true
   },
   "outputs": [],
   "source": [
    "--- Libraries:\n",
    "arguments = require 'Settings.arguments'\n",
    "constants = require 'Settings.constants'\n",
    "card_to_string = require 'Game.card_to_string_conversion'\n",
    "card_tools = require 'Game.card_tools'\n",
    "game_settings = require 'Settings.game_settings'\n",
    "Plot = require 'itorch.Plot'\n",
    "nninit = require 'nninit'\n",
    "require 'torch'\n",
    "require 'math'\n",
    "require 'Tree.tree_builder'\n",
    "require 'Tree.tree_data_generation'\n",
    "require 'Tree.tree_values'\n",
    "require 'Tree.tree_visualiser'\n",
    "require 'nn'\n",
    "require 'Tree.tree_cfr'\n",
    "require 'Tree.tree_cfr2'\n",
    "require 'nngraph'\n",
    "require 'optim'\n",
    "require 'image'\n",
    "require 'NN.strategy_net_builder'\n",
    "require 'NN.strategy_net_trainer'\n",
    "require 'Tree.tree_warm_start'\n",
    "\n",
    "\n"
   ]
  },
  {
   "cell_type": "code",
   "execution_count": 2,
   "metadata": {
    "collapsed": true
   },
   "outputs": [],
   "source": [
    "--- Create the tree\n",
    "builder = PokerTreeBuilder()\n",
    "--- Parameters for the tree\n",
    "params = {}\n",
    "params.root_node = {}\n",
    "params.root_node.board = card_to_string:string_to_board('As')\n",
    "params.root_node.street = 2\n",
    "params.root_node.current_player = constants.players.P1\n",
    "params.root_node.bets = arguments.Tensor{200, 200}\n",
    "--- CFR Solver\n",
    "starting_ranges = arguments.Tensor(constants.players_count, game_settings.card_count)\n",
    "starting_ranges[1]:copy(card_tools:get_uniform_range(params.root_node.board))\n",
    "starting_ranges[2]:copy(card_tools:get_uniform_range(params.root_node.board))"
   ]
  },
  {
   "cell_type": "markdown",
   "metadata": {},
   "source": [
    "### 1. Exploitability for original CFR and modified CFR"
   ]
  },
  {
   "cell_type": "code",
   "execution_count": 3,
   "metadata": {},
   "outputs": [
    {
     "data": {
      "text/plain": [
       "180\n"
      ]
     },
     "execution_count": 3,
     "metadata": {},
     "output_type": "execute_result"
    }
   ],
   "source": [
    "--- Building CFR Solver\n",
    "tree100 = builder:build_tree(params)\n",
    "tree100_cfr = TreeCFR()\n",
    "tree100_cfr:run_cfr(tree100, starting_ranges,100)\n",
    "print(tree100.exploitability)"
   ]
  },
  {
   "cell_type": "code",
   "execution_count": 4,
   "metadata": {},
   "outputs": [
    {
     "data": {
      "text/plain": [
       "180\n"
      ]
     },
     "execution_count": 4,
     "metadata": {},
     "output_type": "execute_result"
    }
   ],
   "source": [
    "--- Building CFR Solver\n",
    "tree102 = builder:build_tree(params)\n",
    "tree102_cfr = TreeCFR2()\n",
    "tree102_cfr:run_cfr(tree102, starting_ranges,100)\n",
    "print(tree102.exploitability)"
   ]
  },
  {
   "cell_type": "code",
   "execution_count": 5,
   "metadata": {
    "collapsed": true
   },
   "outputs": [],
   "source": [
    "exploit_cfr100 = tree100_cfr.exploitability_vec\n",
    "exploit_cfr102 = tree102_cfr.exploitability_vec"
   ]
  },
  {
   "cell_type": "code",
   "execution_count": 6,
   "metadata": {},
   "outputs": [
    {
     "data": {
      "text/html": [
       "<script type=\"text/javascript\">\n",
       "$(function() {\n",
       "    if (typeof (window._bokeh_onload_callbacks) === \"undefined\"){\n",
       "  window._bokeh_onload_callbacks = [];\n",
       "    }\n",
       "    function load_lib(url, callback){\n",
       "  window._bokeh_onload_callbacks.push(callback);\n",
       "  if (window._bokeh_is_loading){\n",
       "      console.log(\"Bokeh: BokehJS is being loaded, scheduling callback at\", new Date());\n",
       "      return null;\n",
       "  }\n",
       "  console.log(\"Bokeh: BokehJS not loaded, scheduling load and callback at\", new Date());\n",
       "  window._bokeh_is_loading = true;\n",
       "  var s = document.createElement('script');\n",
       "  s.src = url;\n",
       "  s.async = true;\n",
       "  s.onreadystatechange = s.onload = function(){\n",
       "      Bokeh.embed.inject_css(\"https://cdn.pydata.org/bokeh-0.7.0.min.css\");\n",
       "      window._bokeh_onload_callbacks.forEach(function(callback){callback()});\n",
       "  };\n",
       "  s.onerror = function(){\n",
       "      console.warn(\"failed to load library \" + url);\n",
       "  };\n",
       "  document.getElementsByTagName(\"head\")[0].appendChild(s);\n",
       "    }\n",
       "\n",
       "    bokehjs_url = \"https://cdn.pydata.org/bokeh-0.7.0.min.js\"\n",
       "\n",
       "    var elt = document.getElementById(\"b1254aaa-da50-449a-c4eb-618458434ad5\");\n",
       "    if(elt==null) {\n",
       "  console.log(\"Bokeh: ERROR: autoload.js configured with elementid 'b1254aaa-da50-449a-c4eb-618458434ad5'\"\n",
       "        + \"but no matching script tag was found. \")\n",
       "  return false;\n",
       "    }\n",
       "\n",
       "    if(typeof(Bokeh) !== \"undefined\") {\n",
       "  console.log(\"Bokeh: BokehJS loaded, going straight to plotting\");\n",
       "  var modelid = \"1d8c012d-996e-45af-c5d6-1ff907147ec4\";\n",
       "  var modeltype = \"Plot\";\n",
       "  var all_models = [{\"type\":\"ColumnDataSource\",\"id\":\"ef405cc4-7fbf-4cae-cc09-3b3890a79d5f\",\"attributes\":{\"doc\":null,\"cont_ranges\":{},\"column_names\":[\"y\",\"x\"],\"tags\":[],\"discrete_ranges\":{},\"selected\":[],\"id\":\"ef405cc4-7fbf-4cae-cc09-3b3890a79d5f\",\"data\":{\"y\":[180,180,180,180,180,180,180,180,180,180,180,180,180,180,180],\"x\":[1,2,3,4,5,6,7,8,9,10,11,12,13,14,15]}}},{\"type\":\"Line\",\"id\":\"393ba72a-be28-4ca9-ccf2-7b9ee90497b8\",\"attributes\":{\"fill_alpha\":{\"units\":\"data\",\"value\":0.2},\"line_color\":{\"value\":\"red\"},\"fill_color\":{\"value\":\"red\"},\"doc\":null,\"y\":{\"units\":\"data\",\"field\":\"y\"},\"tags\":[],\"size\":{\"units\":\"screen\",\"value\":10},\"x\":{\"units\":\"data\",\"field\":\"x\"},\"id\":\"393ba72a-be28-4ca9-ccf2-7b9ee90497b8\",\"line_alpha\":{\"units\":\"data\",\"value\":1}}},{\"type\":\"Line\",\"id\":\"7f0d7184-c510-41fa-c154-72be342b5ff0\",\"attributes\":{\"fill_alpha\":{\"units\":\"data\",\"value\":0.2},\"line_color\":{\"value\":\"red\"},\"fill_color\":{\"value\":\"red\"},\"doc\":null,\"y\":{\"units\":\"data\",\"field\":\"y\"},\"tags\":[],\"size\":{\"units\":\"screen\",\"value\":10},\"x\":{\"units\":\"data\",\"field\":\"x\"},\"id\":\"7f0d7184-c510-41fa-c154-72be342b5ff0\",\"line_alpha\":{\"units\":\"data\",\"value\":1}}},{\"type\":\"GlyphRenderer\",\"id\":\"f741121f-8628-441a-c45e-6c53b693dfc2\",\"attributes\":{\"glyph\":{\"type\":\"Line\",\"id\":\"393ba72a-be28-4ca9-ccf2-7b9ee90497b8\"},\"selection_glyph\":null,\"nonselection_glyph\":{\"type\":\"Line\",\"id\":\"7f0d7184-c510-41fa-c154-72be342b5ff0\"},\"name\":null,\"data_source\":{\"type\":\"ColumnDataSource\",\"id\":\"ef405cc4-7fbf-4cae-cc09-3b3890a79d5f\"},\"tags\":[],\"doc\":null,\"id\":\"f741121f-8628-441a-c45e-6c53b693dfc2\",\"server_data_source\":null}},{\"type\":\"ColumnDataSource\",\"id\":\"d6b363ef-9b5c-4a74-ca3d-156b784a1a37\",\"attributes\":{\"doc\":null,\"cont_ranges\":{},\"column_names\":[\"y\",\"x\"],\"tags\":[],\"discrete_ranges\":{},\"selected\":[],\"id\":\"d6b363ef-9b5c-4a74-ca3d-156b784a1a37\",\"data\":{\"y\":[180,180,180,180,180,180,180,180,180,180,180,180,180,180,180],\"x\":[1,2,3,4,5,6,7,8,9,10,11,12,13,14,15]}}},{\"type\":\"Line\",\"id\":\"cd87abdd-3eb6-4362-c375-3bcb7d0044aa\",\"attributes\":{\"fill_alpha\":{\"units\":\"data\",\"value\":0.2},\"line_color\":{\"value\":\"blue\"},\"fill_color\":{\"value\":\"blue\"},\"doc\":null,\"y\":{\"units\":\"data\",\"field\":\"y\"},\"tags\":[],\"size\":{\"units\":\"screen\",\"value\":10},\"x\":{\"units\":\"data\",\"field\":\"x\"},\"id\":\"cd87abdd-3eb6-4362-c375-3bcb7d0044aa\",\"line_alpha\":{\"units\":\"data\",\"value\":1}}},{\"type\":\"Line\",\"id\":\"6c2ff622-cbf2-4b9b-cb58-4a82d3d5b954\",\"attributes\":{\"fill_alpha\":{\"units\":\"data\",\"value\":0.2},\"line_color\":{\"value\":\"blue\"},\"fill_color\":{\"value\":\"blue\"},\"doc\":null,\"y\":{\"units\":\"data\",\"field\":\"y\"},\"tags\":[],\"size\":{\"units\":\"screen\",\"value\":10},\"x\":{\"units\":\"data\",\"field\":\"x\"},\"id\":\"6c2ff622-cbf2-4b9b-cb58-4a82d3d5b954\",\"line_alpha\":{\"units\":\"data\",\"value\":1}}},{\"type\":\"GlyphRenderer\",\"id\":\"cda10b0a-27c4-4f84-cf38-3416b3b47e43\",\"attributes\":{\"glyph\":{\"type\":\"Line\",\"id\":\"cd87abdd-3eb6-4362-c375-3bcb7d0044aa\"},\"selection_glyph\":null,\"nonselection_glyph\":{\"type\":\"Line\",\"id\":\"6c2ff622-cbf2-4b9b-cb58-4a82d3d5b954\"},\"name\":null,\"data_source\":{\"type\":\"ColumnDataSource\",\"id\":\"d6b363ef-9b5c-4a74-ca3d-156b784a1a37\"},\"tags\":[],\"doc\":null,\"id\":\"cda10b0a-27c4-4f84-cf38-3416b3b47e43\",\"server_data_source\":null}},{\"type\":\"DataRange1d\",\"id\":\"b660333b-6f78-4cfa-cc08-8608c097d254\",\"attributes\":{\"doc\":null,\"sources\":[{\"source\":{\"id\":\"ef405cc4-7fbf-4cae-cc09-3b3890a79d5f\",\"type\":\"ColumnDataSource\"},\"columns\":[\"x\"]},{\"source\":{\"id\":\"d6b363ef-9b5c-4a74-ca3d-156b784a1a37\",\"type\":\"ColumnDataSource\"},\"columns\":[\"x\"]}],\"id\":\"b660333b-6f78-4cfa-cc08-8608c097d254\",\"tags\":[]}},{\"type\":\"DataRange1d\",\"id\":\"3b896e67-fcf7-49de-c925-ffa377eeb0d0\",\"attributes\":{\"doc\":null,\"sources\":[{\"source\":{\"id\":\"ef405cc4-7fbf-4cae-cc09-3b3890a79d5f\",\"type\":\"ColumnDataSource\"},\"columns\":[\"y\"]},{\"source\":{\"id\":\"d6b363ef-9b5c-4a74-ca3d-156b784a1a37\",\"type\":\"ColumnDataSource\"},\"columns\":[\"y\"]}],\"id\":\"3b896e67-fcf7-49de-c925-ffa377eeb0d0\",\"tags\":[]}},{\"type\":\"ToolEvents\",\"id\":\"8a9228f1-d227-4a57-ca18-84058fdb84ac\",\"attributes\":{\"doc\":null,\"geometries\":[],\"id\":\"8a9228f1-d227-4a57-ca18-84058fdb84ac\",\"tags\":[]}},{\"type\":\"BasicTickFormatter\",\"id\":\"bcb20531-ab58-4024-c038-61962a06b0c3\",\"attributes\":{\"doc\":null,\"id\":\"bcb20531-ab58-4024-c038-61962a06b0c3\",\"tags\":[]}},{\"type\":\"BasicTicker\",\"id\":\"b61396ec-ee6e-41d4-c19a-b9847d29f993\",\"attributes\":{\"doc\":null,\"num_minor_ticks\":5,\"id\":\"b61396ec-ee6e-41d4-c19a-b9847d29f993\",\"tags\":[]}},{\"type\":\"LinearAxis\",\"id\":\"4588b2aa-188c-4caa-cc92-96702680bb08\",\"attributes\":{\"doc\":null,\"ticker\":{\"type\":\"BasicTicker\",\"id\":\"b61396ec-ee6e-41d4-c19a-b9847d29f993\"},\"tags\":[],\"formatter\":{\"type\":\"BasicTickFormatter\",\"id\":\"bcb20531-ab58-4024-c038-61962a06b0c3\"},\"axis_label\":\"Scaled number of iterations\",\"id\":\"4588b2aa-188c-4caa-cc92-96702680bb08\",\"plot\":{\"type\":\"Plot\",\"id\":\"1d8c012d-996e-45af-c5d6-1ff907147ec4\",\"subtype\":\"Figure\"}}},{\"type\":\"Grid\",\"id\":\"0d855208-3e1b-428d-c29c-efc5837ca6b2\",\"attributes\":{\"doc\":null,\"dimension\":0,\"tags\":[],\"ticker\":{\"type\":\"BasicTicker\",\"id\":\"b61396ec-ee6e-41d4-c19a-b9847d29f993\"},\"id\":\"0d855208-3e1b-428d-c29c-efc5837ca6b2\",\"plot\":{\"type\":\"Plot\",\"id\":\"1d8c012d-996e-45af-c5d6-1ff907147ec4\",\"subtype\":\"Figure\"}}},{\"type\":\"BasicTickFormatter\",\"id\":\"687c7ab5-8846-4b47-cb87-f03c6998c8eb\",\"attributes\":{\"doc\":null,\"id\":\"687c7ab5-8846-4b47-cb87-f03c6998c8eb\",\"tags\":[]}},{\"type\":\"BasicTicker\",\"id\":\"aed2873a-24e6-40a6-c0ef-46db47f3811f\",\"attributes\":{\"doc\":null,\"num_minor_ticks\":5,\"id\":\"aed2873a-24e6-40a6-c0ef-46db47f3811f\",\"tags\":[]}},{\"type\":\"LinearAxis\",\"id\":\"6ab36f1b-c419-4058-c0c1-56540e927c33\",\"attributes\":{\"doc\":null,\"ticker\":{\"type\":\"BasicTicker\",\"id\":\"aed2873a-24e6-40a6-c0ef-46db47f3811f\"},\"tags\":[],\"formatter\":{\"type\":\"BasicTickFormatter\",\"id\":\"687c7ab5-8846-4b47-cb87-f03c6998c8eb\"},\"axis_label\":\"Exploitability\",\"id\":\"6ab36f1b-c419-4058-c0c1-56540e927c33\",\"plot\":{\"type\":\"Plot\",\"id\":\"1d8c012d-996e-45af-c5d6-1ff907147ec4\",\"subtype\":\"Figure\"}}},{\"type\":\"Grid\",\"id\":\"1df9dd7d-5ece-4928-c926-7761e26c69a6\",\"attributes\":{\"doc\":null,\"dimension\":1,\"tags\":[],\"ticker\":{\"type\":\"BasicTicker\",\"id\":\"aed2873a-24e6-40a6-c0ef-46db47f3811f\"},\"id\":\"1df9dd7d-5ece-4928-c926-7761e26c69a6\",\"plot\":{\"type\":\"Plot\",\"id\":\"1d8c012d-996e-45af-c5d6-1ff907147ec4\",\"subtype\":\"Figure\"}}},{\"type\":\"PanTool\",\"id\":\"4e0fd0e5-ebe6-452b-c508-cd85dc46de96\",\"attributes\":{\"doc\":null,\"dimensions\":[\"width\",\"height\"],\"tags\":[],\"id\":\"4e0fd0e5-ebe6-452b-c508-cd85dc46de96\",\"plot\":{\"type\":\"Plot\",\"id\":\"1d8c012d-996e-45af-c5d6-1ff907147ec4\",\"subtype\":\"Figure\"}}},{\"type\":\"WheelZoomTool\",\"id\":\"63cf86f0-6b94-4fe1-cf30-beb8e112b5e1\",\"attributes\":{\"doc\":null,\"dimensions\":[\"width\",\"height\"],\"tags\":[],\"id\":\"63cf86f0-6b94-4fe1-cf30-beb8e112b5e1\",\"plot\":{\"type\":\"Plot\",\"id\":\"1d8c012d-996e-45af-c5d6-1ff907147ec4\",\"subtype\":\"Figure\"}}},{\"type\":\"BoxZoomTool\",\"id\":\"5c17296a-18ac-40d0-c0c4-a2e5e07c1c60\",\"attributes\":{\"doc\":null,\"plot\":{\"type\":\"Plot\",\"id\":\"1d8c012d-996e-45af-c5d6-1ff907147ec4\",\"subtype\":\"Figure\"},\"id\":\"5c17296a-18ac-40d0-c0c4-a2e5e07c1c60\",\"tags\":[]}},{\"type\":\"PreviewSaveTool\",\"id\":\"61b01f13-247a-453c-c5f9-a0aee85cdbcb\",\"attributes\":{\"doc\":null,\"plot\":{\"type\":\"Plot\",\"id\":\"1d8c012d-996e-45af-c5d6-1ff907147ec4\",\"subtype\":\"Figure\"},\"id\":\"61b01f13-247a-453c-c5f9-a0aee85cdbcb\",\"tags\":[]}},{\"type\":\"ResizeTool\",\"id\":\"6d127f7b-737f-4dee-cd25-1c14f8683df6\",\"attributes\":{\"doc\":null,\"plot\":{\"type\":\"Plot\",\"id\":\"1d8c012d-996e-45af-c5d6-1ff907147ec4\",\"subtype\":\"Figure\"},\"id\":\"6d127f7b-737f-4dee-cd25-1c14f8683df6\",\"tags\":[]}},{\"type\":\"ResetTool\",\"id\":\"d5322132-5693-4095-c05e-61996d26abfe\",\"attributes\":{\"doc\":null,\"plot\":{\"type\":\"Plot\",\"id\":\"1d8c012d-996e-45af-c5d6-1ff907147ec4\",\"subtype\":\"Figure\"},\"id\":\"d5322132-5693-4095-c05e-61996d26abfe\",\"tags\":[]}},{\"type\":\"Legend\",\"id\":\"b267d9d1-cb5f-427a-c2a5-a5cc605b6355\",\"attributes\":{\"doc\":null,\"tags\":[],\"legends\":[[\"Original\",[{\"type\":\"GlyphRenderer\",\"id\":\"f741121f-8628-441a-c45e-6c53b693dfc2\"}]],[\"New CFR\",[{\"type\":\"GlyphRenderer\",\"id\":\"cda10b0a-27c4-4f84-cf38-3416b3b47e43\"}]]],\"id\":\"b267d9d1-cb5f-427a-c2a5-a5cc605b6355\",\"plot\":{\"type\":\"Plot\",\"id\":\"1d8c012d-996e-45af-c5d6-1ff907147ec4\",\"subtype\":\"Figure\"}}},{\"type\":\"Plot\",\"id\":\"1d8c012d-996e-45af-c5d6-1ff907147ec4\",\"attributes\":{\"below\":[{\"type\":\"LinearAxis\",\"id\":\"4588b2aa-188c-4caa-cc92-96702680bb08\"}],\"extra_x_ranges\":{},\"x_range\":{\"type\":\"DataRange1d\",\"id\":\"b660333b-6f78-4cfa-cc08-8608c097d254\"},\"tool_events\":{\"type\":\"ToolEvents\",\"id\":\"8a9228f1-d227-4a57-ca18-84058fdb84ac\"},\"right\":[],\"renderers\":[{\"type\":\"GlyphRenderer\",\"id\":\"f741121f-8628-441a-c45e-6c53b693dfc2\"},{\"type\":\"GlyphRenderer\",\"id\":\"cda10b0a-27c4-4f84-cf38-3416b3b47e43\"},{\"type\":\"LinearAxis\",\"id\":\"4588b2aa-188c-4caa-cc92-96702680bb08\"},{\"type\":\"Grid\",\"id\":\"0d855208-3e1b-428d-c29c-efc5837ca6b2\"},{\"type\":\"LinearAxis\",\"id\":\"6ab36f1b-c419-4058-c0c1-56540e927c33\"},{\"type\":\"Grid\",\"id\":\"1df9dd7d-5ece-4928-c926-7761e26c69a6\"},{\"type\":\"Legend\",\"id\":\"b267d9d1-cb5f-427a-c2a5-a5cc605b6355\"}],\"tools\":[{\"type\":\"PanTool\",\"id\":\"4e0fd0e5-ebe6-452b-c508-cd85dc46de96\"},{\"type\":\"WheelZoomTool\",\"id\":\"63cf86f0-6b94-4fe1-cf30-beb8e112b5e1\"},{\"type\":\"BoxZoomTool\",\"id\":\"5c17296a-18ac-40d0-c0c4-a2e5e07c1c60\"},{\"type\":\"PreviewSaveTool\",\"id\":\"61b01f13-247a-453c-c5f9-a0aee85cdbcb\"},{\"type\":\"ResizeTool\",\"id\":\"6d127f7b-737f-4dee-cd25-1c14f8683df6\"},{\"type\":\"ResetTool\",\"id\":\"d5322132-5693-4095-c05e-61996d26abfe\"}],\"doc\":null,\"title\":\"Exploitability of different strategies, 800 iterations\",\"left\":[{\"type\":\"LinearAxis\",\"id\":\"6ab36f1b-c419-4058-c0c1-56540e927c33\"}],\"tags\":[],\"above\":[],\"extra_y_ranges\":{},\"id\":\"1d8c012d-996e-45af-c5d6-1ff907147ec4\",\"y_range\":{\"type\":\"DataRange1d\",\"id\":\"3b896e67-fcf7-49de-c925-ffa377eeb0d0\"}}}];\n",
       "  Bokeh.load_models(all_models);\n",
       "  var model = Bokeh.Collections(modeltype).get(modelid);\n",
       "  $(\"#b1254aaa-da50-449a-c4eb-618458434ad5\").html(''); // clear any previous plot in window_id\n",
       "  var view = new model.default_view({model: model, el: \"#b1254aaa-da50-449a-c4eb-618458434ad5\"});\n",
       "    } else {\n",
       "  load_lib(bokehjs_url, function() {\n",
       "      console.log(\"Bokeh: BokehJS plotting callback run at\", new Date())\n",
       "      var modelid = \"1d8c012d-996e-45af-c5d6-1ff907147ec4\";\n",
       "      var modeltype = \"Plot\";\n",
       "      var all_models = [{\"type\":\"ColumnDataSource\",\"id\":\"ef405cc4-7fbf-4cae-cc09-3b3890a79d5f\",\"attributes\":{\"doc\":null,\"cont_ranges\":{},\"column_names\":[\"y\",\"x\"],\"tags\":[],\"discrete_ranges\":{},\"selected\":[],\"id\":\"ef405cc4-7fbf-4cae-cc09-3b3890a79d5f\",\"data\":{\"y\":[180,180,180,180,180,180,180,180,180,180,180,180,180,180,180],\"x\":[1,2,3,4,5,6,7,8,9,10,11,12,13,14,15]}}},{\"type\":\"Line\",\"id\":\"393ba72a-be28-4ca9-ccf2-7b9ee90497b8\",\"attributes\":{\"fill_alpha\":{\"units\":\"data\",\"value\":0.2},\"line_color\":{\"value\":\"red\"},\"fill_color\":{\"value\":\"red\"},\"doc\":null,\"y\":{\"units\":\"data\",\"field\":\"y\"},\"tags\":[],\"size\":{\"units\":\"screen\",\"value\":10},\"x\":{\"units\":\"data\",\"field\":\"x\"},\"id\":\"393ba72a-be28-4ca9-ccf2-7b9ee90497b8\",\"line_alpha\":{\"units\":\"data\",\"value\":1}}},{\"type\":\"Line\",\"id\":\"7f0d7184-c510-41fa-c154-72be342b5ff0\",\"attributes\":{\"fill_alpha\":{\"units\":\"data\",\"value\":0.2},\"line_color\":{\"value\":\"red\"},\"fill_color\":{\"value\":\"red\"},\"doc\":null,\"y\":{\"units\":\"data\",\"field\":\"y\"},\"tags\":[],\"size\":{\"units\":\"screen\",\"value\":10},\"x\":{\"units\":\"data\",\"field\":\"x\"},\"id\":\"7f0d7184-c510-41fa-c154-72be342b5ff0\",\"line_alpha\":{\"units\":\"data\",\"value\":1}}},{\"type\":\"GlyphRenderer\",\"id\":\"f741121f-8628-441a-c45e-6c53b693dfc2\",\"attributes\":{\"glyph\":{\"type\":\"Line\",\"id\":\"393ba72a-be28-4ca9-ccf2-7b9ee90497b8\"},\"selection_glyph\":null,\"nonselection_glyph\":{\"type\":\"Line\",\"id\":\"7f0d7184-c510-41fa-c154-72be342b5ff0\"},\"name\":null,\"data_source\":{\"type\":\"ColumnDataSource\",\"id\":\"ef405cc4-7fbf-4cae-cc09-3b3890a79d5f\"},\"tags\":[],\"doc\":null,\"id\":\"f741121f-8628-441a-c45e-6c53b693dfc2\",\"server_data_source\":null}},{\"type\":\"ColumnDataSource\",\"id\":\"d6b363ef-9b5c-4a74-ca3d-156b784a1a37\",\"attributes\":{\"doc\":null,\"cont_ranges\":{},\"column_names\":[\"y\",\"x\"],\"tags\":[],\"discrete_ranges\":{},\"selected\":[],\"id\":\"d6b363ef-9b5c-4a74-ca3d-156b784a1a37\",\"data\":{\"y\":[180,180,180,180,180,180,180,180,180,180,180,180,180,180,180],\"x\":[1,2,3,4,5,6,7,8,9,10,11,12,13,14,15]}}},{\"type\":\"Line\",\"id\":\"cd87abdd-3eb6-4362-c375-3bcb7d0044aa\",\"attributes\":{\"fill_alpha\":{\"units\":\"data\",\"value\":0.2},\"line_color\":{\"value\":\"blue\"},\"fill_color\":{\"value\":\"blue\"},\"doc\":null,\"y\":{\"units\":\"data\",\"field\":\"y\"},\"tags\":[],\"size\":{\"units\":\"screen\",\"value\":10},\"x\":{\"units\":\"data\",\"field\":\"x\"},\"id\":\"cd87abdd-3eb6-4362-c375-3bcb7d0044aa\",\"line_alpha\":{\"units\":\"data\",\"value\":1}}},{\"type\":\"Line\",\"id\":\"6c2ff622-cbf2-4b9b-cb58-4a82d3d5b954\",\"attributes\":{\"fill_alpha\":{\"units\":\"data\",\"value\":0.2},\"line_color\":{\"value\":\"blue\"},\"fill_color\":{\"value\":\"blue\"},\"doc\":null,\"y\":{\"units\":\"data\",\"field\":\"y\"},\"tags\":[],\"size\":{\"units\":\"screen\",\"value\":10},\"x\":{\"units\":\"data\",\"field\":\"x\"},\"id\":\"6c2ff622-cbf2-4b9b-cb58-4a82d3d5b954\",\"line_alpha\":{\"units\":\"data\",\"value\":1}}},{\"type\":\"GlyphRenderer\",\"id\":\"cda10b0a-27c4-4f84-cf38-3416b3b47e43\",\"attributes\":{\"glyph\":{\"type\":\"Line\",\"id\":\"cd87abdd-3eb6-4362-c375-3bcb7d0044aa\"},\"selection_glyph\":null,\"nonselection_glyph\":{\"type\":\"Line\",\"id\":\"6c2ff622-cbf2-4b9b-cb58-4a82d3d5b954\"},\"name\":null,\"data_source\":{\"type\":\"ColumnDataSource\",\"id\":\"d6b363ef-9b5c-4a74-ca3d-156b784a1a37\"},\"tags\":[],\"doc\":null,\"id\":\"cda10b0a-27c4-4f84-cf38-3416b3b47e43\",\"server_data_source\":null}},{\"type\":\"DataRange1d\",\"id\":\"b660333b-6f78-4cfa-cc08-8608c097d254\",\"attributes\":{\"doc\":null,\"sources\":[{\"source\":{\"id\":\"ef405cc4-7fbf-4cae-cc09-3b3890a79d5f\",\"type\":\"ColumnDataSource\"},\"columns\":[\"x\"]},{\"source\":{\"id\":\"d6b363ef-9b5c-4a74-ca3d-156b784a1a37\",\"type\":\"ColumnDataSource\"},\"columns\":[\"x\"]}],\"id\":\"b660333b-6f78-4cfa-cc08-8608c097d254\",\"tags\":[]}},{\"type\":\"DataRange1d\",\"id\":\"3b896e67-fcf7-49de-c925-ffa377eeb0d0\",\"attributes\":{\"doc\":null,\"sources\":[{\"source\":{\"id\":\"ef405cc4-7fbf-4cae-cc09-3b3890a79d5f\",\"type\":\"ColumnDataSource\"},\"columns\":[\"y\"]},{\"source\":{\"id\":\"d6b363ef-9b5c-4a74-ca3d-156b784a1a37\",\"type\":\"ColumnDataSource\"},\"columns\":[\"y\"]}],\"id\":\"3b896e67-fcf7-49de-c925-ffa377eeb0d0\",\"tags\":[]}},{\"type\":\"ToolEvents\",\"id\":\"8a9228f1-d227-4a57-ca18-84058fdb84ac\",\"attributes\":{\"doc\":null,\"geometries\":[],\"id\":\"8a9228f1-d227-4a57-ca18-84058fdb84ac\",\"tags\":[]}},{\"type\":\"BasicTickFormatter\",\"id\":\"bcb20531-ab58-4024-c038-61962a06b0c3\",\"attributes\":{\"doc\":null,\"id\":\"bcb20531-ab58-4024-c038-61962a06b0c3\",\"tags\":[]}},{\"type\":\"BasicTicker\",\"id\":\"b61396ec-ee6e-41d4-c19a-b9847d29f993\",\"attributes\":{\"doc\":null,\"num_minor_ticks\":5,\"id\":\"b61396ec-ee6e-41d4-c19a-b9847d29f993\",\"tags\":[]}},{\"type\":\"LinearAxis\",\"id\":\"4588b2aa-188c-4caa-cc92-96702680bb08\",\"attributes\":{\"doc\":null,\"ticker\":{\"type\":\"BasicTicker\",\"id\":\"b61396ec-ee6e-41d4-c19a-b9847d29f993\"},\"tags\":[],\"formatter\":{\"type\":\"BasicTickFormatter\",\"id\":\"bcb20531-ab58-4024-c038-61962a06b0c3\"},\"axis_label\":\"Scaled number of iterations\",\"id\":\"4588b2aa-188c-4caa-cc92-96702680bb08\",\"plot\":{\"type\":\"Plot\",\"id\":\"1d8c012d-996e-45af-c5d6-1ff907147ec4\",\"subtype\":\"Figure\"}}},{\"type\":\"Grid\",\"id\":\"0d855208-3e1b-428d-c29c-efc5837ca6b2\",\"attributes\":{\"doc\":null,\"dimension\":0,\"tags\":[],\"ticker\":{\"type\":\"BasicTicker\",\"id\":\"b61396ec-ee6e-41d4-c19a-b9847d29f993\"},\"id\":\"0d855208-3e1b-428d-c29c-efc5837ca6b2\",\"plot\":{\"type\":\"Plot\",\"id\":\"1d8c012d-996e-45af-c5d6-1ff907147ec4\",\"subtype\":\"Figure\"}}},{\"type\":\"BasicTickFormatter\",\"id\":\"687c7ab5-8846-4b47-cb87-f03c6998c8eb\",\"attributes\":{\"doc\":null,\"id\":\"687c7ab5-8846-4b47-cb87-f03c6998c8eb\",\"tags\":[]}},{\"type\":\"BasicTicker\",\"id\":\"aed2873a-24e6-40a6-c0ef-46db47f3811f\",\"attributes\":{\"doc\":null,\"num_minor_ticks\":5,\"id\":\"aed2873a-24e6-40a6-c0ef-46db47f3811f\",\"tags\":[]}},{\"type\":\"LinearAxis\",\"id\":\"6ab36f1b-c419-4058-c0c1-56540e927c33\",\"attributes\":{\"doc\":null,\"ticker\":{\"type\":\"BasicTicker\",\"id\":\"aed2873a-24e6-40a6-c0ef-46db47f3811f\"},\"tags\":[],\"formatter\":{\"type\":\"BasicTickFormatter\",\"id\":\"687c7ab5-8846-4b47-cb87-f03c6998c8eb\"},\"axis_label\":\"Exploitability\",\"id\":\"6ab36f1b-c419-4058-c0c1-56540e927c33\",\"plot\":{\"type\":\"Plot\",\"id\":\"1d8c012d-996e-45af-c5d6-1ff907147ec4\",\"subtype\":\"Figure\"}}},{\"type\":\"Grid\",\"id\":\"1df9dd7d-5ece-4928-c926-7761e26c69a6\",\"attributes\":{\"doc\":null,\"dimension\":1,\"tags\":[],\"ticker\":{\"type\":\"BasicTicker\",\"id\":\"aed2873a-24e6-40a6-c0ef-46db47f3811f\"},\"id\":\"1df9dd7d-5ece-4928-c926-7761e26c69a6\",\"plot\":{\"type\":\"Plot\",\"id\":\"1d8c012d-996e-45af-c5d6-1ff907147ec4\",\"subtype\":\"Figure\"}}},{\"type\":\"PanTool\",\"id\":\"4e0fd0e5-ebe6-452b-c508-cd85dc46de96\",\"attributes\":{\"doc\":null,\"dimensions\":[\"width\",\"height\"],\"tags\":[],\"id\":\"4e0fd0e5-ebe6-452b-c508-cd85dc46de96\",\"plot\":{\"type\":\"Plot\",\"id\":\"1d8c012d-996e-45af-c5d6-1ff907147ec4\",\"subtype\":\"Figure\"}}},{\"type\":\"WheelZoomTool\",\"id\":\"63cf86f0-6b94-4fe1-cf30-beb8e112b5e1\",\"attributes\":{\"doc\":null,\"dimensions\":[\"width\",\"height\"],\"tags\":[],\"id\":\"63cf86f0-6b94-4fe1-cf30-beb8e112b5e1\",\"plot\":{\"type\":\"Plot\",\"id\":\"1d8c012d-996e-45af-c5d6-1ff907147ec4\",\"subtype\":\"Figure\"}}},{\"type\":\"BoxZoomTool\",\"id\":\"5c17296a-18ac-40d0-c0c4-a2e5e07c1c60\",\"attributes\":{\"doc\":null,\"plot\":{\"type\":\"Plot\",\"id\":\"1d8c012d-996e-45af-c5d6-1ff907147ec4\",\"subtype\":\"Figure\"},\"id\":\"5c17296a-18ac-40d0-c0c4-a2e5e07c1c60\",\"tags\":[]}},{\"type\":\"PreviewSaveTool\",\"id\":\"61b01f13-247a-453c-c5f9-a0aee85cdbcb\",\"attributes\":{\"doc\":null,\"plot\":{\"type\":\"Plot\",\"id\":\"1d8c012d-996e-45af-c5d6-1ff907147ec4\",\"subtype\":\"Figure\"},\"id\":\"61b01f13-247a-453c-c5f9-a0aee85cdbcb\",\"tags\":[]}},{\"type\":\"ResizeTool\",\"id\":\"6d127f7b-737f-4dee-cd25-1c14f8683df6\",\"attributes\":{\"doc\":null,\"plot\":{\"type\":\"Plot\",\"id\":\"1d8c012d-996e-45af-c5d6-1ff907147ec4\",\"subtype\":\"Figure\"},\"id\":\"6d127f7b-737f-4dee-cd25-1c14f8683df6\",\"tags\":[]}},{\"type\":\"ResetTool\",\"id\":\"d5322132-5693-4095-c05e-61996d26abfe\",\"attributes\":{\"doc\":null,\"plot\":{\"type\":\"Plot\",\"id\":\"1d8c012d-996e-45af-c5d6-1ff907147ec4\",\"subtype\":\"Figure\"},\"id\":\"d5322132-5693-4095-c05e-61996d26abfe\",\"tags\":[]}},{\"type\":\"Legend\",\"id\":\"b267d9d1-cb5f-427a-c2a5-a5cc605b6355\",\"attributes\":{\"doc\":null,\"tags\":[],\"legends\":[[\"Original\",[{\"type\":\"GlyphRenderer\",\"id\":\"f741121f-8628-441a-c45e-6c53b693dfc2\"}]],[\"New CFR\",[{\"type\":\"GlyphRenderer\",\"id\":\"cda10b0a-27c4-4f84-cf38-3416b3b47e43\"}]]],\"id\":\"b267d9d1-cb5f-427a-c2a5-a5cc605b6355\",\"plot\":{\"type\":\"Plot\",\"id\":\"1d8c012d-996e-45af-c5d6-1ff907147ec4\",\"subtype\":\"Figure\"}}},{\"type\":\"Plot\",\"id\":\"1d8c012d-996e-45af-c5d6-1ff907147ec4\",\"attributes\":{\"below\":[{\"type\":\"LinearAxis\",\"id\":\"4588b2aa-188c-4caa-cc92-96702680bb08\"}],\"extra_x_ranges\":{},\"x_range\":{\"type\":\"DataRange1d\",\"id\":\"b660333b-6f78-4cfa-cc08-8608c097d254\"},\"tool_events\":{\"type\":\"ToolEvents\",\"id\":\"8a9228f1-d227-4a57-ca18-84058fdb84ac\"},\"right\":[],\"renderers\":[{\"type\":\"GlyphRenderer\",\"id\":\"f741121f-8628-441a-c45e-6c53b693dfc2\"},{\"type\":\"GlyphRenderer\",\"id\":\"cda10b0a-27c4-4f84-cf38-3416b3b47e43\"},{\"type\":\"LinearAxis\",\"id\":\"4588b2aa-188c-4caa-cc92-96702680bb08\"},{\"type\":\"Grid\",\"id\":\"0d855208-3e1b-428d-c29c-efc5837ca6b2\"},{\"type\":\"LinearAxis\",\"id\":\"6ab36f1b-c419-4058-c0c1-56540e927c33\"},{\"type\":\"Grid\",\"id\":\"1df9dd7d-5ece-4928-c926-7761e26c69a6\"},{\"type\":\"Legend\",\"id\":\"b267d9d1-cb5f-427a-c2a5-a5cc605b6355\"}],\"tools\":[{\"type\":\"PanTool\",\"id\":\"4e0fd0e5-ebe6-452b-c508-cd85dc46de96\"},{\"type\":\"WheelZoomTool\",\"id\":\"63cf86f0-6b94-4fe1-cf30-beb8e112b5e1\"},{\"type\":\"BoxZoomTool\",\"id\":\"5c17296a-18ac-40d0-c0c4-a2e5e07c1c60\"},{\"type\":\"PreviewSaveTool\",\"id\":\"61b01f13-247a-453c-c5f9-a0aee85cdbcb\"},{\"type\":\"ResizeTool\",\"id\":\"6d127f7b-737f-4dee-cd25-1c14f8683df6\"},{\"type\":\"ResetTool\",\"id\":\"d5322132-5693-4095-c05e-61996d26abfe\"}],\"doc\":null,\"title\":\"Exploitability of different strategies, 800 iterations\",\"left\":[{\"type\":\"LinearAxis\",\"id\":\"6ab36f1b-c419-4058-c0c1-56540e927c33\"}],\"tags\":[],\"above\":[],\"extra_y_ranges\":{},\"id\":\"1d8c012d-996e-45af-c5d6-1ff907147ec4\",\"y_range\":{\"type\":\"DataRange1d\",\"id\":\"3b896e67-fcf7-49de-c925-ffa377eeb0d0\"}}}];\n",
       "      Bokeh.load_models(all_models);\n",
       "      var model = Bokeh.Collections(modeltype).get(modelid);\n",
       "      $(\"#b1254aaa-da50-449a-c4eb-618458434ad5\").html(''); // clear any previous plot in window_id\n",
       "      var view = new model.default_view({model: model, el: \"#b1254aaa-da50-449a-c4eb-618458434ad5\"});\n",
       "  });\n",
       "    }\n",
       "});\n",
       "</script>\n",
       "<div class=\"plotdiv\" id=\"b1254aaa-da50-449a-c4eb-618458434ad5\"></div>\n"
      ]
     },
     "metadata": {},
     "output_type": "display_data"
    }
   ],
   "source": [
    "local num_iter = torch.range(1,exploit_cfr100:size(1))\n",
    "local plot = Plot()\n",
    "\n",
    "plot:line(num_iter,exploit_cfr100,'red' ,'Original')\n",
    "plot:line(num_iter,exploit_cfr102,'blue' ,'New CFR')\n",
    "plot:legend(true):title('Exploitability of different strategies, 800 iterations')\n",
    "plot:xaxis('Scaled number of iterations'):yaxis('Exploitability'):redraw()\n"
   ]
  },
  {
   "cell_type": "markdown",
   "metadata": {},
   "source": [
    "### 2. Exploitability for different Strategies"
   ]
  },
  {
   "cell_type": "code",
   "execution_count": 7,
   "metadata": {
    "collapsed": true
   },
   "outputs": [],
   "source": [
    "number_of_iterations = 100"
   ]
  },
  {
   "cell_type": "code",
   "execution_count": 8,
   "metadata": {
    "collapsed": true
   },
   "outputs": [],
   "source": [
    "--- Get Data from 2000 iterations\n",
    "tree800 = builder:build_tree(params)\n",
    "tree_data800 = TreeData(tree800)\n",
    "tree800_cfr = TreeCFR()\n",
    "tree800_cfr:run_cfr(tree800, starting_ranges,number_of_iterations)\n",
    "tree_data800:get_training_set(tree800,1)"
   ]
  },
  {
   "cell_type": "markdown",
   "metadata": {},
   "source": [
    "### Training the Model"
   ]
  },
  {
   "cell_type": "code",
   "execution_count": 9,
   "metadata": {
    "collapsed": true
   },
   "outputs": [],
   "source": [
    "-- Building the neural net model\n",
    "strategy_nn = StrategyNN()\n",
    "nn_model = strategy_nn.model\n",
    "-- Building trainer:\n",
    "nn_trainer = NNTrainer(tree_data800,nn_model)\n",
    "-- Options:\n",
    "opt = {}\n",
    "opt.learningRate = 0.001\n",
    "opt.momentum = 0.95\n",
    "opt.validate = false"
   ]
  },
  {
   "cell_type": "code",
   "execution_count": 10,
   "metadata": {
    "collapsed": true
   },
   "outputs": [],
   "source": [
    "current_criterion = nn.SmoothL1Criterion()\n",
    "train_loss,test_loss = nn_trainer:train(nn_model,current_criterion,opt,10000)"
   ]
  },
  {
   "cell_type": "code",
   "execution_count": 11,
   "metadata": {},
   "outputs": [
    {
     "data": {
      "text/plain": [
       "0.022816972030948\n"
      ]
     },
     "execution_count": 11,
     "metadata": {},
     "output_type": "execute_result"
    }
   ],
   "source": [
    "pred_strat = nn_model:forward({nn_trainer.all_data.features,nn_trainer.all_data.masks})\n",
    "true_strat =nn_trainer.all_data.targets\n",
    "print(torch.mean(torch.abs(pred_strat- true_strat)))"
   ]
  },
  {
   "cell_type": "markdown",
   "metadata": {},
   "source": [
    "### No Warm Start"
   ]
  },
  {
   "cell_type": "code",
   "execution_count": 12,
   "metadata": {
    "collapsed": true
   },
   "outputs": [],
   "source": [
    "--- Building CFR Solver\n",
    "treeNoWarm = builder:build_tree(params)\n",
    "treeNoWarm_cfr = TreeCFR2()\n",
    "treeNoWarm_cfr:run_cfr(treeNoWarm, starting_ranges,number_of_iterations)"
   ]
  },
  {
   "cell_type": "markdown",
   "metadata": {},
   "source": [
    "### Neural Net Start "
   ]
  },
  {
   "cell_type": "code",
   "execution_count": 13,
   "metadata": {
    "collapsed": true
   },
   "outputs": [],
   "source": [
    "--- NNWarm Starting\n",
    "treeNNWarm = builder:build_tree(params)\n",
    "dataNN = TreeData(treeNNWarm)\n",
    "dataNN:get_training_set(treeNNWarm,1)\n",
    "dataNN:generate_new_initial_strategies(treeNNWarm,nn_trainer)\n",
    "---Warm start the regrets:\n",
    "dataNN:warm_start_regrets(treeNNWarm,tree800)\n",
    "--- Building CFR Solver\n",
    "treeNNWarm_cfr = TreeCFR2()\n",
    "treeNNWarm_cfr:run_cfr(treeNNWarm, starting_ranges,number_of_iterations)"
   ]
  },
  {
   "cell_type": "code",
   "execution_count": 14,
   "metadata": {
    "collapsed": true
   },
   "outputs": [],
   "source": [
    "---tree_warm_start = TreeWarmStart()\n",
    "---tree_warm_start:run_warm_start(treeNNWarm, starting_ranges,80)"
   ]
  },
  {
   "cell_type": "code",
   "execution_count": 15,
   "metadata": {
    "collapsed": true
   },
   "outputs": [],
   "source": [
    "--- NNWarm Starting\n",
    "treeNN_NoRegWarm = builder:build_tree(params)\n",
    "dataNN_NoReg = TreeData(treeNN_NoRegWarm)\n",
    "dataNN_NoReg:get_training_set(treeNN_NoRegWarm,1)\n",
    "dataNN_NoReg:generate_new_initial_strategies(treeNN_NoRegWarm,nn_trainer)\n",
    "---Warm start the regrets:\n",
    "---dataNN:warm_start_regrets(treeNN_NoRegWarm,tree800)\n",
    "--- Building CFR Solver\n",
    "treeNN_NoRegWarm_cfr = TreeCFR2()\n",
    "treeNN_NoRegWarm_cfr:run_cfr(treeNN_NoRegWarm, starting_ranges,number_of_iterations)"
   ]
  },
  {
   "cell_type": "markdown",
   "metadata": {},
   "source": [
    "### Target Warm Start "
   ]
  },
  {
   "cell_type": "code",
   "execution_count": 16,
   "metadata": {
    "collapsed": true
   },
   "outputs": [],
   "source": [
    "--- Target Warm Starting\n",
    "treeTarRegWarm = builder:build_tree(params)\n",
    "dataTargReg = TreeData(treeTarRegWarm)\n",
    "---dataTarg:get_training_set(treeTargWarm,1)\n",
    "---dataTarg:warm_start_targets(treeTargWarm,tree800)\n",
    "---dataTarg:warm_start_regrets(treeTargWarm,tree800)\n",
    "---tree_warm_start = TreeWarmStart()\n",
    "---tree_warm_start:run_warm_start(treeTargWarm, starting_ranges,number_of_iterations)\n",
    "dataTargReg:warm_start_targets_and_regrets(treeTarRegWarm,tree800)\n",
    "--- Building CFR Solver\n",
    "treeTarRegWarm_cfr = TreeCFR2()\n",
    "treeTarRegWarm_cfr:run_cfr(treeTarRegWarm, starting_ranges,number_of_iterations)"
   ]
  },
  {
   "cell_type": "code",
   "execution_count": 17,
   "metadata": {
    "collapsed": true
   },
   "outputs": [],
   "source": [
    "--- Target Warm Starting\n",
    "treeTarWarm = builder:build_tree(params)\n",
    "dataTarg = TreeData(treeTarWarm)\n",
    "dataTarg:warm_start_targets(treeTarWarm,tree800)\n",
    "--- Building CFR Solver\n",
    "treeTarWarm_cfr = TreeCFR2()\n",
    "treeTarWarm_cfr:run_cfr(treeTarWarm, starting_ranges,number_of_iterations)"
   ]
  },
  {
   "cell_type": "code",
   "execution_count": 18,
   "metadata": {
    "collapsed": true
   },
   "outputs": [],
   "source": [
    "--- Target Warm Starting\n",
    "treeRegWarm = builder:build_tree(params)\n",
    "dataReg = TreeData(treeRegWarm)\n",
    "dataReg:warm_start_regrets(treeRegWarm,tree800)\n",
    "--- Building CFR Solver\n",
    "treeRegWarm_cfr = TreeCFR2()\n",
    "treeRegWarm_cfr:run_cfr(treeRegWarm, starting_ranges,number_of_iterations)"
   ]
  },
  {
   "cell_type": "markdown",
   "metadata": {},
   "source": [
    "### Plot different starts"
   ]
  },
  {
   "cell_type": "code",
   "execution_count": 19,
   "metadata": {
    "collapsed": true
   },
   "outputs": [],
   "source": [
    "exploit_unif = tree800_cfr.exploitability_vec\n",
    "exploit_NoW = treeNoWarm_cfr.exploitability_vec\n",
    "exploit_NNW = treeNNWarm_cfr.exploitability_vec\n",
    "---exploit_NN_NoReg = treeNN_NoRegWarm_cfr.exploitability_vec\n",
    "exploit_TarRegW = treeTarRegWarm_cfr.exploitability_vec\n",
    "exploit_TarW = treeTarWarm_cfr.exploitability_vec\n",
    "exploit_RegW = treeRegWarm_cfr.exploitability_vec"
   ]
  },
  {
   "cell_type": "code",
   "execution_count": 20,
   "metadata": {},
   "outputs": [
    {
     "data": {
      "text/html": [
       "<script type=\"text/javascript\">\n",
       "$(function() {\n",
       "    if (typeof (window._bokeh_onload_callbacks) === \"undefined\"){\n",
       "  window._bokeh_onload_callbacks = [];\n",
       "    }\n",
       "    function load_lib(url, callback){\n",
       "  window._bokeh_onload_callbacks.push(callback);\n",
       "  if (window._bokeh_is_loading){\n",
       "      console.log(\"Bokeh: BokehJS is being loaded, scheduling callback at\", new Date());\n",
       "      return null;\n",
       "  }\n",
       "  console.log(\"Bokeh: BokehJS not loaded, scheduling load and callback at\", new Date());\n",
       "  window._bokeh_is_loading = true;\n",
       "  var s = document.createElement('script');\n",
       "  s.src = url;\n",
       "  s.async = true;\n",
       "  s.onreadystatechange = s.onload = function(){\n",
       "      Bokeh.embed.inject_css(\"https://cdn.pydata.org/bokeh-0.7.0.min.css\");\n",
       "      window._bokeh_onload_callbacks.forEach(function(callback){callback()});\n",
       "  };\n",
       "  s.onerror = function(){\n",
       "      console.warn(\"failed to load library \" + url);\n",
       "  };\n",
       "  document.getElementsByTagName(\"head\")[0].appendChild(s);\n",
       "    }\n",
       "\n",
       "    bokehjs_url = \"https://cdn.pydata.org/bokeh-0.7.0.min.js\"\n",
       "\n",
       "    var elt = document.getElementById(\"8d62c131-208f-42b3-c243-c51e620d1f0c\");\n",
       "    if(elt==null) {\n",
       "  console.log(\"Bokeh: ERROR: autoload.js configured with elementid '8d62c131-208f-42b3-c243-c51e620d1f0c'\"\n",
       "        + \"but no matching script tag was found. \")\n",
       "  return false;\n",
       "    }\n",
       "\n",
       "    if(typeof(Bokeh) !== \"undefined\") {\n",
       "  console.log(\"Bokeh: BokehJS loaded, going straight to plotting\");\n",
       "  var modelid = \"c5c5c674-6ba2-45bd-c545-c72e1ec9fd13\";\n",
       "  var modeltype = \"Plot\";\n",
       "  var all_models = [{\"type\":\"ColumnDataSource\",\"id\":\"6cd7a2f1-6ef2-4c60-ccd4-0a3a18dc0bf4\",\"attributes\":{\"doc\":null,\"cont_ranges\":{},\"column_names\":[\"y\",\"x\"],\"tags\":[],\"discrete_ranges\":{},\"selected\":[],\"id\":\"6cd7a2f1-6ef2-4c60-ccd4-0a3a18dc0bf4\",\"data\":{\"y\":[180,180,180,180,180,180,180,180,180,180,180,180,180,180,180],\"x\":[1,2,3,4,5,6,7,8,9,10,11,12,13,14,15]}}},{\"type\":\"Line\",\"id\":\"d3de83c0-ff6a-4667-c65c-183463d2e6f7\",\"attributes\":{\"fill_alpha\":{\"units\":\"data\",\"value\":0.2},\"line_color\":{\"value\":\"red\"},\"fill_color\":{\"value\":\"red\"},\"doc\":null,\"y\":{\"units\":\"data\",\"field\":\"y\"},\"tags\":[],\"size\":{\"units\":\"screen\",\"value\":10},\"x\":{\"units\":\"data\",\"field\":\"x\"},\"id\":\"d3de83c0-ff6a-4667-c65c-183463d2e6f7\",\"line_alpha\":{\"units\":\"data\",\"value\":1}}},{\"type\":\"Line\",\"id\":\"d16ad1b9-756a-479a-c7fc-bd01a021e5ad\",\"attributes\":{\"fill_alpha\":{\"units\":\"data\",\"value\":0.2},\"line_color\":{\"value\":\"red\"},\"fill_color\":{\"value\":\"red\"},\"doc\":null,\"y\":{\"units\":\"data\",\"field\":\"y\"},\"tags\":[],\"size\":{\"units\":\"screen\",\"value\":10},\"x\":{\"units\":\"data\",\"field\":\"x\"},\"id\":\"d16ad1b9-756a-479a-c7fc-bd01a021e5ad\",\"line_alpha\":{\"units\":\"data\",\"value\":1}}},{\"type\":\"GlyphRenderer\",\"id\":\"543c73ae-4225-4499-c412-e13337bbc9f5\",\"attributes\":{\"glyph\":{\"type\":\"Line\",\"id\":\"d3de83c0-ff6a-4667-c65c-183463d2e6f7\"},\"selection_glyph\":null,\"nonselection_glyph\":{\"type\":\"Line\",\"id\":\"d16ad1b9-756a-479a-c7fc-bd01a021e5ad\"},\"name\":null,\"data_source\":{\"type\":\"ColumnDataSource\",\"id\":\"6cd7a2f1-6ef2-4c60-ccd4-0a3a18dc0bf4\"},\"tags\":[],\"doc\":null,\"id\":\"543c73ae-4225-4499-c412-e13337bbc9f5\",\"server_data_source\":null}},{\"type\":\"ColumnDataSource\",\"id\":\"b7bd3137-05d6-4237-c245-add50c9fa275\",\"attributes\":{\"doc\":null,\"cont_ranges\":{},\"column_names\":[\"y\",\"x\"],\"tags\":[],\"discrete_ranges\":{},\"selected\":[],\"id\":\"b7bd3137-05d6-4237-c245-add50c9fa275\",\"data\":{\"y\":[185.12530517578,185.12530517578,185.12530517578,185.12530517578,185.12530517578,185.12530517578,185.12530517578,185.12530517578,185.12530517578,185.12530517578,185.12530517578,185.12530517578,185.12530517578,185.12530517578,185.12530517578],\"x\":[1,2,3,4,5,6,7,8,9,10,11,12,13,14,15]}}},{\"type\":\"Line\",\"id\":\"1cb90469-891a-436f-c33e-54a1608bc414\",\"attributes\":{\"fill_alpha\":{\"units\":\"data\",\"value\":0.2},\"line_color\":{\"value\":\"blue\"},\"fill_color\":{\"value\":\"blue\"},\"doc\":null,\"y\":{\"units\":\"data\",\"field\":\"y\"},\"tags\":[],\"size\":{\"units\":\"screen\",\"value\":10},\"x\":{\"units\":\"data\",\"field\":\"x\"},\"id\":\"1cb90469-891a-436f-c33e-54a1608bc414\",\"line_alpha\":{\"units\":\"data\",\"value\":1}}},{\"type\":\"Line\",\"id\":\"c30c2f78-d656-4eda-ce47-d0b4e5de692e\",\"attributes\":{\"fill_alpha\":{\"units\":\"data\",\"value\":0.2},\"line_color\":{\"value\":\"blue\"},\"fill_color\":{\"value\":\"blue\"},\"doc\":null,\"y\":{\"units\":\"data\",\"field\":\"y\"},\"tags\":[],\"size\":{\"units\":\"screen\",\"value\":10},\"x\":{\"units\":\"data\",\"field\":\"x\"},\"id\":\"c30c2f78-d656-4eda-ce47-d0b4e5de692e\",\"line_alpha\":{\"units\":\"data\",\"value\":1}}},{\"type\":\"GlyphRenderer\",\"id\":\"8d8759b9-f83c-443c-c4d2-66de9a09c17c\",\"attributes\":{\"glyph\":{\"type\":\"Line\",\"id\":\"1cb90469-891a-436f-c33e-54a1608bc414\"},\"selection_glyph\":null,\"nonselection_glyph\":{\"type\":\"Line\",\"id\":\"c30c2f78-d656-4eda-ce47-d0b4e5de692e\"},\"name\":null,\"data_source\":{\"type\":\"ColumnDataSource\",\"id\":\"b7bd3137-05d6-4237-c245-add50c9fa275\"},\"tags\":[],\"doc\":null,\"id\":\"8d8759b9-f83c-443c-c4d2-66de9a09c17c\",\"server_data_source\":null}},{\"type\":\"ColumnDataSource\",\"id\":\"fa5aba2a-e04f-4d26-cde8-0597f1d49136\",\"attributes\":{\"doc\":null,\"cont_ranges\":{},\"column_names\":[\"y\",\"x\"],\"tags\":[],\"discrete_ranges\":{},\"selected\":[],\"id\":\"fa5aba2a-e04f-4d26-cde8-0597f1d49136\",\"data\":{\"y\":[180,180,180,180,180,180,180,180,180,180,180,180,180,180,180],\"x\":[1,2,3,4,5,6,7,8,9,10,11,12,13,14,15]}}},{\"type\":\"Line\",\"id\":\"0795a427-114e-435e-c308-c11046c55f4d\",\"attributes\":{\"fill_alpha\":{\"units\":\"data\",\"value\":0.2},\"line_color\":{\"value\":\"green\"},\"fill_color\":{\"value\":\"green\"},\"doc\":null,\"y\":{\"units\":\"data\",\"field\":\"y\"},\"tags\":[],\"size\":{\"units\":\"screen\",\"value\":10},\"x\":{\"units\":\"data\",\"field\":\"x\"},\"id\":\"0795a427-114e-435e-c308-c11046c55f4d\",\"line_alpha\":{\"units\":\"data\",\"value\":1}}},{\"type\":\"Line\",\"id\":\"5af79fb2-5827-4490-c4b0-ce75bc295303\",\"attributes\":{\"fill_alpha\":{\"units\":\"data\",\"value\":0.2},\"line_color\":{\"value\":\"green\"},\"fill_color\":{\"value\":\"green\"},\"doc\":null,\"y\":{\"units\":\"data\",\"field\":\"y\"},\"tags\":[],\"size\":{\"units\":\"screen\",\"value\":10},\"x\":{\"units\":\"data\",\"field\":\"x\"},\"id\":\"5af79fb2-5827-4490-c4b0-ce75bc295303\",\"line_alpha\":{\"units\":\"data\",\"value\":1}}},{\"type\":\"GlyphRenderer\",\"id\":\"70ceee90-9193-4cba-cc82-71798b9526b9\",\"attributes\":{\"glyph\":{\"type\":\"Line\",\"id\":\"0795a427-114e-435e-c308-c11046c55f4d\"},\"selection_glyph\":null,\"nonselection_glyph\":{\"type\":\"Line\",\"id\":\"5af79fb2-5827-4490-c4b0-ce75bc295303\"},\"name\":null,\"data_source\":{\"type\":\"ColumnDataSource\",\"id\":\"fa5aba2a-e04f-4d26-cde8-0597f1d49136\"},\"tags\":[],\"doc\":null,\"id\":\"70ceee90-9193-4cba-cc82-71798b9526b9\",\"server_data_source\":null}},{\"type\":\"ColumnDataSource\",\"id\":\"86589608-e8c1-4268-c229-b108b12b40f2\",\"attributes\":{\"doc\":null,\"cont_ranges\":{},\"column_names\":[\"y\",\"x\"],\"tags\":[],\"discrete_ranges\":{},\"selected\":[],\"id\":\"86589608-e8c1-4268-c229-b108b12b40f2\",\"data\":{\"y\":[180,180,180,180,180,180,180,180,180,180,180,180,180,180,180],\"x\":[1,2,3,4,5,6,7,8,9,10,11,12,13,14,15]}}},{\"type\":\"Line\",\"id\":\"bed14955-a7d5-4c70-cc0f-62a48435bcb0\",\"attributes\":{\"fill_alpha\":{\"units\":\"data\",\"value\":0.2},\"line_color\":{\"value\":\"orange\"},\"fill_color\":{\"value\":\"orange\"},\"doc\":null,\"y\":{\"units\":\"data\",\"field\":\"y\"},\"tags\":[],\"size\":{\"units\":\"screen\",\"value\":10},\"x\":{\"units\":\"data\",\"field\":\"x\"},\"id\":\"bed14955-a7d5-4c70-cc0f-62a48435bcb0\",\"line_alpha\":{\"units\":\"data\",\"value\":1}}},{\"type\":\"Line\",\"id\":\"835d801f-6ad0-478a-c7bb-a18c82b483b8\",\"attributes\":{\"fill_alpha\":{\"units\":\"data\",\"value\":0.2},\"line_color\":{\"value\":\"orange\"},\"fill_color\":{\"value\":\"orange\"},\"doc\":null,\"y\":{\"units\":\"data\",\"field\":\"y\"},\"tags\":[],\"size\":{\"units\":\"screen\",\"value\":10},\"x\":{\"units\":\"data\",\"field\":\"x\"},\"id\":\"835d801f-6ad0-478a-c7bb-a18c82b483b8\",\"line_alpha\":{\"units\":\"data\",\"value\":1}}},{\"type\":\"GlyphRenderer\",\"id\":\"f9b4f261-a12f-4d4d-cdb3-d97dcc2d733b\",\"attributes\":{\"glyph\":{\"type\":\"Line\",\"id\":\"bed14955-a7d5-4c70-cc0f-62a48435bcb0\"},\"selection_glyph\":null,\"nonselection_glyph\":{\"type\":\"Line\",\"id\":\"835d801f-6ad0-478a-c7bb-a18c82b483b8\"},\"name\":null,\"data_source\":{\"type\":\"ColumnDataSource\",\"id\":\"86589608-e8c1-4268-c229-b108b12b40f2\"},\"tags\":[],\"doc\":null,\"id\":\"f9b4f261-a12f-4d4d-cdb3-d97dcc2d733b\",\"server_data_source\":null}},{\"type\":\"DataRange1d\",\"id\":\"0687df56-75ac-4098-c0d2-6c0dd823ecdb\",\"attributes\":{\"doc\":null,\"sources\":[{\"source\":{\"id\":\"6cd7a2f1-6ef2-4c60-ccd4-0a3a18dc0bf4\",\"type\":\"ColumnDataSource\"},\"columns\":[\"x\"]},{\"source\":{\"id\":\"b7bd3137-05d6-4237-c245-add50c9fa275\",\"type\":\"ColumnDataSource\"},\"columns\":[\"x\"]},{\"source\":{\"id\":\"fa5aba2a-e04f-4d26-cde8-0597f1d49136\",\"type\":\"ColumnDataSource\"},\"columns\":[\"x\"]},{\"source\":{\"id\":\"86589608-e8c1-4268-c229-b108b12b40f2\",\"type\":\"ColumnDataSource\"},\"columns\":[\"x\"]}],\"id\":\"0687df56-75ac-4098-c0d2-6c0dd823ecdb\",\"tags\":[]}},{\"type\":\"DataRange1d\",\"id\":\"d105f946-bc19-44c8-c4cc-9a048ca0074f\",\"attributes\":{\"doc\":null,\"sources\":[{\"source\":{\"id\":\"6cd7a2f1-6ef2-4c60-ccd4-0a3a18dc0bf4\",\"type\":\"ColumnDataSource\"},\"columns\":[\"y\"]},{\"source\":{\"id\":\"b7bd3137-05d6-4237-c245-add50c9fa275\",\"type\":\"ColumnDataSource\"},\"columns\":[\"y\"]},{\"source\":{\"id\":\"fa5aba2a-e04f-4d26-cde8-0597f1d49136\",\"type\":\"ColumnDataSource\"},\"columns\":[\"y\"]},{\"source\":{\"id\":\"86589608-e8c1-4268-c229-b108b12b40f2\",\"type\":\"ColumnDataSource\"},\"columns\":[\"y\"]}],\"id\":\"d105f946-bc19-44c8-c4cc-9a048ca0074f\",\"tags\":[]}},{\"type\":\"ToolEvents\",\"id\":\"9352a6d0-bcbc-4f21-cf50-001a91e2369d\",\"attributes\":{\"doc\":null,\"geometries\":[],\"id\":\"9352a6d0-bcbc-4f21-cf50-001a91e2369d\",\"tags\":[]}},{\"type\":\"BasicTickFormatter\",\"id\":\"3de01660-97cd-43a5-c310-fb97f654dd40\",\"attributes\":{\"doc\":null,\"id\":\"3de01660-97cd-43a5-c310-fb97f654dd40\",\"tags\":[]}},{\"type\":\"BasicTicker\",\"id\":\"7928deb6-0a12-4a2f-ca3c-ae31a6584551\",\"attributes\":{\"doc\":null,\"num_minor_ticks\":5,\"id\":\"7928deb6-0a12-4a2f-ca3c-ae31a6584551\",\"tags\":[]}},{\"type\":\"LinearAxis\",\"id\":\"05fa3aa9-38ed-4fc9-cfa6-622ebd418806\",\"attributes\":{\"doc\":null,\"ticker\":{\"type\":\"BasicTicker\",\"id\":\"7928deb6-0a12-4a2f-ca3c-ae31a6584551\"},\"tags\":[],\"formatter\":{\"type\":\"BasicTickFormatter\",\"id\":\"3de01660-97cd-43a5-c310-fb97f654dd40\"},\"axis_label\":\"Scaled number of iterations\",\"id\":\"05fa3aa9-38ed-4fc9-cfa6-622ebd418806\",\"plot\":{\"type\":\"Plot\",\"id\":\"c5c5c674-6ba2-45bd-c545-c72e1ec9fd13\",\"subtype\":\"Figure\"}}},{\"type\":\"Grid\",\"id\":\"487beff7-96e2-48de-c831-4f3982d1388b\",\"attributes\":{\"doc\":null,\"dimension\":0,\"tags\":[],\"ticker\":{\"type\":\"BasicTicker\",\"id\":\"7928deb6-0a12-4a2f-ca3c-ae31a6584551\"},\"id\":\"487beff7-96e2-48de-c831-4f3982d1388b\",\"plot\":{\"type\":\"Plot\",\"id\":\"c5c5c674-6ba2-45bd-c545-c72e1ec9fd13\",\"subtype\":\"Figure\"}}},{\"type\":\"BasicTickFormatter\",\"id\":\"312ea5e4-7e47-435a-c3b1-150b5c3e4b92\",\"attributes\":{\"doc\":null,\"id\":\"312ea5e4-7e47-435a-c3b1-150b5c3e4b92\",\"tags\":[]}},{\"type\":\"BasicTicker\",\"id\":\"6259dd4a-eb52-4fa9-cfef-84cbcf4e9352\",\"attributes\":{\"doc\":null,\"num_minor_ticks\":5,\"id\":\"6259dd4a-eb52-4fa9-cfef-84cbcf4e9352\",\"tags\":[]}},{\"type\":\"LinearAxis\",\"id\":\"190fb031-6e84-428b-c29c-01fb86a4a030\",\"attributes\":{\"doc\":null,\"ticker\":{\"type\":\"BasicTicker\",\"id\":\"6259dd4a-eb52-4fa9-cfef-84cbcf4e9352\"},\"tags\":[],\"formatter\":{\"type\":\"BasicTickFormatter\",\"id\":\"312ea5e4-7e47-435a-c3b1-150b5c3e4b92\"},\"axis_label\":\"Exploitability\",\"id\":\"190fb031-6e84-428b-c29c-01fb86a4a030\",\"plot\":{\"type\":\"Plot\",\"id\":\"c5c5c674-6ba2-45bd-c545-c72e1ec9fd13\",\"subtype\":\"Figure\"}}},{\"type\":\"Grid\",\"id\":\"492b71ed-2465-4f32-cfcd-ded354929a15\",\"attributes\":{\"doc\":null,\"dimension\":1,\"tags\":[],\"ticker\":{\"type\":\"BasicTicker\",\"id\":\"6259dd4a-eb52-4fa9-cfef-84cbcf4e9352\"},\"id\":\"492b71ed-2465-4f32-cfcd-ded354929a15\",\"plot\":{\"type\":\"Plot\",\"id\":\"c5c5c674-6ba2-45bd-c545-c72e1ec9fd13\",\"subtype\":\"Figure\"}}},{\"type\":\"PanTool\",\"id\":\"ce1b6abe-52a8-4081-c02d-73446874f4f5\",\"attributes\":{\"doc\":null,\"dimensions\":[\"width\",\"height\"],\"tags\":[],\"id\":\"ce1b6abe-52a8-4081-c02d-73446874f4f5\",\"plot\":{\"type\":\"Plot\",\"id\":\"c5c5c674-6ba2-45bd-c545-c72e1ec9fd13\",\"subtype\":\"Figure\"}}},{\"type\":\"WheelZoomTool\",\"id\":\"7b2caf84-e898-46be-c658-61f6d419211a\",\"attributes\":{\"doc\":null,\"dimensions\":[\"width\",\"height\"],\"tags\":[],\"id\":\"7b2caf84-e898-46be-c658-61f6d419211a\",\"plot\":{\"type\":\"Plot\",\"id\":\"c5c5c674-6ba2-45bd-c545-c72e1ec9fd13\",\"subtype\":\"Figure\"}}},{\"type\":\"BoxZoomTool\",\"id\":\"c9cbc761-5923-4e18-ce1e-b4b61694ee96\",\"attributes\":{\"doc\":null,\"plot\":{\"type\":\"Plot\",\"id\":\"c5c5c674-6ba2-45bd-c545-c72e1ec9fd13\",\"subtype\":\"Figure\"},\"id\":\"c9cbc761-5923-4e18-ce1e-b4b61694ee96\",\"tags\":[]}},{\"type\":\"PreviewSaveTool\",\"id\":\"96fe9310-4560-413d-c1fb-46220ba494a7\",\"attributes\":{\"doc\":null,\"plot\":{\"type\":\"Plot\",\"id\":\"c5c5c674-6ba2-45bd-c545-c72e1ec9fd13\",\"subtype\":\"Figure\"},\"id\":\"96fe9310-4560-413d-c1fb-46220ba494a7\",\"tags\":[]}},{\"type\":\"ResizeTool\",\"id\":\"8959ebe1-132b-4a7b-ca18-991f6f1e6522\",\"attributes\":{\"doc\":null,\"plot\":{\"type\":\"Plot\",\"id\":\"c5c5c674-6ba2-45bd-c545-c72e1ec9fd13\",\"subtype\":\"Figure\"},\"id\":\"8959ebe1-132b-4a7b-ca18-991f6f1e6522\",\"tags\":[]}},{\"type\":\"ResetTool\",\"id\":\"a96bac42-7991-472f-c727-a2997c180757\",\"attributes\":{\"doc\":null,\"plot\":{\"type\":\"Plot\",\"id\":\"c5c5c674-6ba2-45bd-c545-c72e1ec9fd13\",\"subtype\":\"Figure\"},\"id\":\"a96bac42-7991-472f-c727-a2997c180757\",\"tags\":[]}},{\"type\":\"Legend\",\"id\":\"c8ea69ee-443e-48cc-c896-97cfae84d2a8\",\"attributes\":{\"doc\":null,\"tags\":[],\"legends\":[[\"No Warm start CFR = Uniform warm start\",[{\"type\":\"GlyphRenderer\",\"id\":\"543c73ae-4225-4499-c412-e13337bbc9f5\"}]],[\"Neural Net warm start CFR\",[{\"type\":\"GlyphRenderer\",\"id\":\"8d8759b9-f83c-443c-c4d2-66de9a09c17c\"}]],[\"Warm start target and regrets\",[{\"type\":\"GlyphRenderer\",\"id\":\"70ceee90-9193-4cba-cc82-71798b9526b9\"}]],[\"Warm start only targets\",[{\"type\":\"GlyphRenderer\",\"id\":\"f9b4f261-a12f-4d4d-cdb3-d97dcc2d733b\"}]]],\"id\":\"c8ea69ee-443e-48cc-c896-97cfae84d2a8\",\"plot\":{\"type\":\"Plot\",\"id\":\"c5c5c674-6ba2-45bd-c545-c72e1ec9fd13\",\"subtype\":\"Figure\"}}},{\"type\":\"Plot\",\"id\":\"c5c5c674-6ba2-45bd-c545-c72e1ec9fd13\",\"attributes\":{\"below\":[{\"type\":\"LinearAxis\",\"id\":\"05fa3aa9-38ed-4fc9-cfa6-622ebd418806\"}],\"extra_x_ranges\":{},\"x_range\":{\"type\":\"DataRange1d\",\"id\":\"0687df56-75ac-4098-c0d2-6c0dd823ecdb\"},\"tool_events\":{\"type\":\"ToolEvents\",\"id\":\"9352a6d0-bcbc-4f21-cf50-001a91e2369d\"},\"right\":[],\"renderers\":[{\"type\":\"GlyphRenderer\",\"id\":\"543c73ae-4225-4499-c412-e13337bbc9f5\"},{\"type\":\"GlyphRenderer\",\"id\":\"8d8759b9-f83c-443c-c4d2-66de9a09c17c\"},{\"type\":\"GlyphRenderer\",\"id\":\"70ceee90-9193-4cba-cc82-71798b9526b9\"},{\"type\":\"GlyphRenderer\",\"id\":\"f9b4f261-a12f-4d4d-cdb3-d97dcc2d733b\"},{\"type\":\"LinearAxis\",\"id\":\"05fa3aa9-38ed-4fc9-cfa6-622ebd418806\"},{\"type\":\"Grid\",\"id\":\"487beff7-96e2-48de-c831-4f3982d1388b\"},{\"type\":\"LinearAxis\",\"id\":\"190fb031-6e84-428b-c29c-01fb86a4a030\"},{\"type\":\"Grid\",\"id\":\"492b71ed-2465-4f32-cfcd-ded354929a15\"},{\"type\":\"Legend\",\"id\":\"c8ea69ee-443e-48cc-c896-97cfae84d2a8\"}],\"tools\":[{\"type\":\"PanTool\",\"id\":\"ce1b6abe-52a8-4081-c02d-73446874f4f5\"},{\"type\":\"WheelZoomTool\",\"id\":\"7b2caf84-e898-46be-c658-61f6d419211a\"},{\"type\":\"BoxZoomTool\",\"id\":\"c9cbc761-5923-4e18-ce1e-b4b61694ee96\"},{\"type\":\"PreviewSaveTool\",\"id\":\"96fe9310-4560-413d-c1fb-46220ba494a7\"},{\"type\":\"ResizeTool\",\"id\":\"8959ebe1-132b-4a7b-ca18-991f6f1e6522\"},{\"type\":\"ResetTool\",\"id\":\"a96bac42-7991-472f-c727-a2997c180757\"}],\"doc\":null,\"title\":\"Exploitability of different strategies, 800 iterations\",\"left\":[{\"type\":\"LinearAxis\",\"id\":\"190fb031-6e84-428b-c29c-01fb86a4a030\"}],\"tags\":[],\"above\":[],\"extra_y_ranges\":{},\"id\":\"c5c5c674-6ba2-45bd-c545-c72e1ec9fd13\",\"y_range\":{\"type\":\"DataRange1d\",\"id\":\"d105f946-bc19-44c8-c4cc-9a048ca0074f\"}}}];\n",
       "  Bokeh.load_models(all_models);\n",
       "  var model = Bokeh.Collections(modeltype).get(modelid);\n",
       "  $(\"#8d62c131-208f-42b3-c243-c51e620d1f0c\").html(''); // clear any previous plot in window_id\n",
       "  var view = new model.default_view({model: model, el: \"#8d62c131-208f-42b3-c243-c51e620d1f0c\"});\n",
       "    } else {\n",
       "  load_lib(bokehjs_url, function() {\n",
       "      console.log(\"Bokeh: BokehJS plotting callback run at\", new Date())\n",
       "      var modelid = \"c5c5c674-6ba2-45bd-c545-c72e1ec9fd13\";\n",
       "      var modeltype = \"Plot\";\n",
       "      var all_models = [{\"type\":\"ColumnDataSource\",\"id\":\"6cd7a2f1-6ef2-4c60-ccd4-0a3a18dc0bf4\",\"attributes\":{\"doc\":null,\"cont_ranges\":{},\"column_names\":[\"y\",\"x\"],\"tags\":[],\"discrete_ranges\":{},\"selected\":[],\"id\":\"6cd7a2f1-6ef2-4c60-ccd4-0a3a18dc0bf4\",\"data\":{\"y\":[180,180,180,180,180,180,180,180,180,180,180,180,180,180,180],\"x\":[1,2,3,4,5,6,7,8,9,10,11,12,13,14,15]}}},{\"type\":\"Line\",\"id\":\"d3de83c0-ff6a-4667-c65c-183463d2e6f7\",\"attributes\":{\"fill_alpha\":{\"units\":\"data\",\"value\":0.2},\"line_color\":{\"value\":\"red\"},\"fill_color\":{\"value\":\"red\"},\"doc\":null,\"y\":{\"units\":\"data\",\"field\":\"y\"},\"tags\":[],\"size\":{\"units\":\"screen\",\"value\":10},\"x\":{\"units\":\"data\",\"field\":\"x\"},\"id\":\"d3de83c0-ff6a-4667-c65c-183463d2e6f7\",\"line_alpha\":{\"units\":\"data\",\"value\":1}}},{\"type\":\"Line\",\"id\":\"d16ad1b9-756a-479a-c7fc-bd01a021e5ad\",\"attributes\":{\"fill_alpha\":{\"units\":\"data\",\"value\":0.2},\"line_color\":{\"value\":\"red\"},\"fill_color\":{\"value\":\"red\"},\"doc\":null,\"y\":{\"units\":\"data\",\"field\":\"y\"},\"tags\":[],\"size\":{\"units\":\"screen\",\"value\":10},\"x\":{\"units\":\"data\",\"field\":\"x\"},\"id\":\"d16ad1b9-756a-479a-c7fc-bd01a021e5ad\",\"line_alpha\":{\"units\":\"data\",\"value\":1}}},{\"type\":\"GlyphRenderer\",\"id\":\"543c73ae-4225-4499-c412-e13337bbc9f5\",\"attributes\":{\"glyph\":{\"type\":\"Line\",\"id\":\"d3de83c0-ff6a-4667-c65c-183463d2e6f7\"},\"selection_glyph\":null,\"nonselection_glyph\":{\"type\":\"Line\",\"id\":\"d16ad1b9-756a-479a-c7fc-bd01a021e5ad\"},\"name\":null,\"data_source\":{\"type\":\"ColumnDataSource\",\"id\":\"6cd7a2f1-6ef2-4c60-ccd4-0a3a18dc0bf4\"},\"tags\":[],\"doc\":null,\"id\":\"543c73ae-4225-4499-c412-e13337bbc9f5\",\"server_data_source\":null}},{\"type\":\"ColumnDataSource\",\"id\":\"b7bd3137-05d6-4237-c245-add50c9fa275\",\"attributes\":{\"doc\":null,\"cont_ranges\":{},\"column_names\":[\"y\",\"x\"],\"tags\":[],\"discrete_ranges\":{},\"selected\":[],\"id\":\"b7bd3137-05d6-4237-c245-add50c9fa275\",\"data\":{\"y\":[185.12530517578,185.12530517578,185.12530517578,185.12530517578,185.12530517578,185.12530517578,185.12530517578,185.12530517578,185.12530517578,185.12530517578,185.12530517578,185.12530517578,185.12530517578,185.12530517578,185.12530517578],\"x\":[1,2,3,4,5,6,7,8,9,10,11,12,13,14,15]}}},{\"type\":\"Line\",\"id\":\"1cb90469-891a-436f-c33e-54a1608bc414\",\"attributes\":{\"fill_alpha\":{\"units\":\"data\",\"value\":0.2},\"line_color\":{\"value\":\"blue\"},\"fill_color\":{\"value\":\"blue\"},\"doc\":null,\"y\":{\"units\":\"data\",\"field\":\"y\"},\"tags\":[],\"size\":{\"units\":\"screen\",\"value\":10},\"x\":{\"units\":\"data\",\"field\":\"x\"},\"id\":\"1cb90469-891a-436f-c33e-54a1608bc414\",\"line_alpha\":{\"units\":\"data\",\"value\":1}}},{\"type\":\"Line\",\"id\":\"c30c2f78-d656-4eda-ce47-d0b4e5de692e\",\"attributes\":{\"fill_alpha\":{\"units\":\"data\",\"value\":0.2},\"line_color\":{\"value\":\"blue\"},\"fill_color\":{\"value\":\"blue\"},\"doc\":null,\"y\":{\"units\":\"data\",\"field\":\"y\"},\"tags\":[],\"size\":{\"units\":\"screen\",\"value\":10},\"x\":{\"units\":\"data\",\"field\":\"x\"},\"id\":\"c30c2f78-d656-4eda-ce47-d0b4e5de692e\",\"line_alpha\":{\"units\":\"data\",\"value\":1}}},{\"type\":\"GlyphRenderer\",\"id\":\"8d8759b9-f83c-443c-c4d2-66de9a09c17c\",\"attributes\":{\"glyph\":{\"type\":\"Line\",\"id\":\"1cb90469-891a-436f-c33e-54a1608bc414\"},\"selection_glyph\":null,\"nonselection_glyph\":{\"type\":\"Line\",\"id\":\"c30c2f78-d656-4eda-ce47-d0b4e5de692e\"},\"name\":null,\"data_source\":{\"type\":\"ColumnDataSource\",\"id\":\"b7bd3137-05d6-4237-c245-add50c9fa275\"},\"tags\":[],\"doc\":null,\"id\":\"8d8759b9-f83c-443c-c4d2-66de9a09c17c\",\"server_data_source\":null}},{\"type\":\"ColumnDataSource\",\"id\":\"fa5aba2a-e04f-4d26-cde8-0597f1d49136\",\"attributes\":{\"doc\":null,\"cont_ranges\":{},\"column_names\":[\"y\",\"x\"],\"tags\":[],\"discrete_ranges\":{},\"selected\":[],\"id\":\"fa5aba2a-e04f-4d26-cde8-0597f1d49136\",\"data\":{\"y\":[180,180,180,180,180,180,180,180,180,180,180,180,180,180,180],\"x\":[1,2,3,4,5,6,7,8,9,10,11,12,13,14,15]}}},{\"type\":\"Line\",\"id\":\"0795a427-114e-435e-c308-c11046c55f4d\",\"attributes\":{\"fill_alpha\":{\"units\":\"data\",\"value\":0.2},\"line_color\":{\"value\":\"green\"},\"fill_color\":{\"value\":\"green\"},\"doc\":null,\"y\":{\"units\":\"data\",\"field\":\"y\"},\"tags\":[],\"size\":{\"units\":\"screen\",\"value\":10},\"x\":{\"units\":\"data\",\"field\":\"x\"},\"id\":\"0795a427-114e-435e-c308-c11046c55f4d\",\"line_alpha\":{\"units\":\"data\",\"value\":1}}},{\"type\":\"Line\",\"id\":\"5af79fb2-5827-4490-c4b0-ce75bc295303\",\"attributes\":{\"fill_alpha\":{\"units\":\"data\",\"value\":0.2},\"line_color\":{\"value\":\"green\"},\"fill_color\":{\"value\":\"green\"},\"doc\":null,\"y\":{\"units\":\"data\",\"field\":\"y\"},\"tags\":[],\"size\":{\"units\":\"screen\",\"value\":10},\"x\":{\"units\":\"data\",\"field\":\"x\"},\"id\":\"5af79fb2-5827-4490-c4b0-ce75bc295303\",\"line_alpha\":{\"units\":\"data\",\"value\":1}}},{\"type\":\"GlyphRenderer\",\"id\":\"70ceee90-9193-4cba-cc82-71798b9526b9\",\"attributes\":{\"glyph\":{\"type\":\"Line\",\"id\":\"0795a427-114e-435e-c308-c11046c55f4d\"},\"selection_glyph\":null,\"nonselection_glyph\":{\"type\":\"Line\",\"id\":\"5af79fb2-5827-4490-c4b0-ce75bc295303\"},\"name\":null,\"data_source\":{\"type\":\"ColumnDataSource\",\"id\":\"fa5aba2a-e04f-4d26-cde8-0597f1d49136\"},\"tags\":[],\"doc\":null,\"id\":\"70ceee90-9193-4cba-cc82-71798b9526b9\",\"server_data_source\":null}},{\"type\":\"ColumnDataSource\",\"id\":\"86589608-e8c1-4268-c229-b108b12b40f2\",\"attributes\":{\"doc\":null,\"cont_ranges\":{},\"column_names\":[\"y\",\"x\"],\"tags\":[],\"discrete_ranges\":{},\"selected\":[],\"id\":\"86589608-e8c1-4268-c229-b108b12b40f2\",\"data\":{\"y\":[180,180,180,180,180,180,180,180,180,180,180,180,180,180,180],\"x\":[1,2,3,4,5,6,7,8,9,10,11,12,13,14,15]}}},{\"type\":\"Line\",\"id\":\"bed14955-a7d5-4c70-cc0f-62a48435bcb0\",\"attributes\":{\"fill_alpha\":{\"units\":\"data\",\"value\":0.2},\"line_color\":{\"value\":\"orange\"},\"fill_color\":{\"value\":\"orange\"},\"doc\":null,\"y\":{\"units\":\"data\",\"field\":\"y\"},\"tags\":[],\"size\":{\"units\":\"screen\",\"value\":10},\"x\":{\"units\":\"data\",\"field\":\"x\"},\"id\":\"bed14955-a7d5-4c70-cc0f-62a48435bcb0\",\"line_alpha\":{\"units\":\"data\",\"value\":1}}},{\"type\":\"Line\",\"id\":\"835d801f-6ad0-478a-c7bb-a18c82b483b8\",\"attributes\":{\"fill_alpha\":{\"units\":\"data\",\"value\":0.2},\"line_color\":{\"value\":\"orange\"},\"fill_color\":{\"value\":\"orange\"},\"doc\":null,\"y\":{\"units\":\"data\",\"field\":\"y\"},\"tags\":[],\"size\":{\"units\":\"screen\",\"value\":10},\"x\":{\"units\":\"data\",\"field\":\"x\"},\"id\":\"835d801f-6ad0-478a-c7bb-a18c82b483b8\",\"line_alpha\":{\"units\":\"data\",\"value\":1}}},{\"type\":\"GlyphRenderer\",\"id\":\"f9b4f261-a12f-4d4d-cdb3-d97dcc2d733b\",\"attributes\":{\"glyph\":{\"type\":\"Line\",\"id\":\"bed14955-a7d5-4c70-cc0f-62a48435bcb0\"},\"selection_glyph\":null,\"nonselection_glyph\":{\"type\":\"Line\",\"id\":\"835d801f-6ad0-478a-c7bb-a18c82b483b8\"},\"name\":null,\"data_source\":{\"type\":\"ColumnDataSource\",\"id\":\"86589608-e8c1-4268-c229-b108b12b40f2\"},\"tags\":[],\"doc\":null,\"id\":\"f9b4f261-a12f-4d4d-cdb3-d97dcc2d733b\",\"server_data_source\":null}},{\"type\":\"DataRange1d\",\"id\":\"0687df56-75ac-4098-c0d2-6c0dd823ecdb\",\"attributes\":{\"doc\":null,\"sources\":[{\"source\":{\"id\":\"6cd7a2f1-6ef2-4c60-ccd4-0a3a18dc0bf4\",\"type\":\"ColumnDataSource\"},\"columns\":[\"x\"]},{\"source\":{\"id\":\"b7bd3137-05d6-4237-c245-add50c9fa275\",\"type\":\"ColumnDataSource\"},\"columns\":[\"x\"]},{\"source\":{\"id\":\"fa5aba2a-e04f-4d26-cde8-0597f1d49136\",\"type\":\"ColumnDataSource\"},\"columns\":[\"x\"]},{\"source\":{\"id\":\"86589608-e8c1-4268-c229-b108b12b40f2\",\"type\":\"ColumnDataSource\"},\"columns\":[\"x\"]}],\"id\":\"0687df56-75ac-4098-c0d2-6c0dd823ecdb\",\"tags\":[]}},{\"type\":\"DataRange1d\",\"id\":\"d105f946-bc19-44c8-c4cc-9a048ca0074f\",\"attributes\":{\"doc\":null,\"sources\":[{\"source\":{\"id\":\"6cd7a2f1-6ef2-4c60-ccd4-0a3a18dc0bf4\",\"type\":\"ColumnDataSource\"},\"columns\":[\"y\"]},{\"source\":{\"id\":\"b7bd3137-05d6-4237-c245-add50c9fa275\",\"type\":\"ColumnDataSource\"},\"columns\":[\"y\"]},{\"source\":{\"id\":\"fa5aba2a-e04f-4d26-cde8-0597f1d49136\",\"type\":\"ColumnDataSource\"},\"columns\":[\"y\"]},{\"source\":{\"id\":\"86589608-e8c1-4268-c229-b108b12b40f2\",\"type\":\"ColumnDataSource\"},\"columns\":[\"y\"]}],\"id\":\"d105f946-bc19-44c8-c4cc-9a048ca0074f\",\"tags\":[]}},{\"type\":\"ToolEvents\",\"id\":\"9352a6d0-bcbc-4f21-cf50-001a91e2369d\",\"attributes\":{\"doc\":null,\"geometries\":[],\"id\":\"9352a6d0-bcbc-4f21-cf50-001a91e2369d\",\"tags\":[]}},{\"type\":\"BasicTickFormatter\",\"id\":\"3de01660-97cd-43a5-c310-fb97f654dd40\",\"attributes\":{\"doc\":null,\"id\":\"3de01660-97cd-43a5-c310-fb97f654dd40\",\"tags\":[]}},{\"type\":\"BasicTicker\",\"id\":\"7928deb6-0a12-4a2f-ca3c-ae31a6584551\",\"attributes\":{\"doc\":null,\"num_minor_ticks\":5,\"id\":\"7928deb6-0a12-4a2f-ca3c-ae31a6584551\",\"tags\":[]}},{\"type\":\"LinearAxis\",\"id\":\"05fa3aa9-38ed-4fc9-cfa6-622ebd418806\",\"attributes\":{\"doc\":null,\"ticker\":{\"type\":\"BasicTicker\",\"id\":\"7928deb6-0a12-4a2f-ca3c-ae31a6584551\"},\"tags\":[],\"formatter\":{\"type\":\"BasicTickFormatter\",\"id\":\"3de01660-97cd-43a5-c310-fb97f654dd40\"},\"axis_label\":\"Scaled number of iterations\",\"id\":\"05fa3aa9-38ed-4fc9-cfa6-622ebd418806\",\"plot\":{\"type\":\"Plot\",\"id\":\"c5c5c674-6ba2-45bd-c545-c72e1ec9fd13\",\"subtype\":\"Figure\"}}},{\"type\":\"Grid\",\"id\":\"487beff7-96e2-48de-c831-4f3982d1388b\",\"attributes\":{\"doc\":null,\"dimension\":0,\"tags\":[],\"ticker\":{\"type\":\"BasicTicker\",\"id\":\"7928deb6-0a12-4a2f-ca3c-ae31a6584551\"},\"id\":\"487beff7-96e2-48de-c831-4f3982d1388b\",\"plot\":{\"type\":\"Plot\",\"id\":\"c5c5c674-6ba2-45bd-c545-c72e1ec9fd13\",\"subtype\":\"Figure\"}}},{\"type\":\"BasicTickFormatter\",\"id\":\"312ea5e4-7e47-435a-c3b1-150b5c3e4b92\",\"attributes\":{\"doc\":null,\"id\":\"312ea5e4-7e47-435a-c3b1-150b5c3e4b92\",\"tags\":[]}},{\"type\":\"BasicTicker\",\"id\":\"6259dd4a-eb52-4fa9-cfef-84cbcf4e9352\",\"attributes\":{\"doc\":null,\"num_minor_ticks\":5,\"id\":\"6259dd4a-eb52-4fa9-cfef-84cbcf4e9352\",\"tags\":[]}},{\"type\":\"LinearAxis\",\"id\":\"190fb031-6e84-428b-c29c-01fb86a4a030\",\"attributes\":{\"doc\":null,\"ticker\":{\"type\":\"BasicTicker\",\"id\":\"6259dd4a-eb52-4fa9-cfef-84cbcf4e9352\"},\"tags\":[],\"formatter\":{\"type\":\"BasicTickFormatter\",\"id\":\"312ea5e4-7e47-435a-c3b1-150b5c3e4b92\"},\"axis_label\":\"Exploitability\",\"id\":\"190fb031-6e84-428b-c29c-01fb86a4a030\",\"plot\":{\"type\":\"Plot\",\"id\":\"c5c5c674-6ba2-45bd-c545-c72e1ec9fd13\",\"subtype\":\"Figure\"}}},{\"type\":\"Grid\",\"id\":\"492b71ed-2465-4f32-cfcd-ded354929a15\",\"attributes\":{\"doc\":null,\"dimension\":1,\"tags\":[],\"ticker\":{\"type\":\"BasicTicker\",\"id\":\"6259dd4a-eb52-4fa9-cfef-84cbcf4e9352\"},\"id\":\"492b71ed-2465-4f32-cfcd-ded354929a15\",\"plot\":{\"type\":\"Plot\",\"id\":\"c5c5c674-6ba2-45bd-c545-c72e1ec9fd13\",\"subtype\":\"Figure\"}}},{\"type\":\"PanTool\",\"id\":\"ce1b6abe-52a8-4081-c02d-73446874f4f5\",\"attributes\":{\"doc\":null,\"dimensions\":[\"width\",\"height\"],\"tags\":[],\"id\":\"ce1b6abe-52a8-4081-c02d-73446874f4f5\",\"plot\":{\"type\":\"Plot\",\"id\":\"c5c5c674-6ba2-45bd-c545-c72e1ec9fd13\",\"subtype\":\"Figure\"}}},{\"type\":\"WheelZoomTool\",\"id\":\"7b2caf84-e898-46be-c658-61f6d419211a\",\"attributes\":{\"doc\":null,\"dimensions\":[\"width\",\"height\"],\"tags\":[],\"id\":\"7b2caf84-e898-46be-c658-61f6d419211a\",\"plot\":{\"type\":\"Plot\",\"id\":\"c5c5c674-6ba2-45bd-c545-c72e1ec9fd13\",\"subtype\":\"Figure\"}}},{\"type\":\"BoxZoomTool\",\"id\":\"c9cbc761-5923-4e18-ce1e-b4b61694ee96\",\"attributes\":{\"doc\":null,\"plot\":{\"type\":\"Plot\",\"id\":\"c5c5c674-6ba2-45bd-c545-c72e1ec9fd13\",\"subtype\":\"Figure\"},\"id\":\"c9cbc761-5923-4e18-ce1e-b4b61694ee96\",\"tags\":[]}},{\"type\":\"PreviewSaveTool\",\"id\":\"96fe9310-4560-413d-c1fb-46220ba494a7\",\"attributes\":{\"doc\":null,\"plot\":{\"type\":\"Plot\",\"id\":\"c5c5c674-6ba2-45bd-c545-c72e1ec9fd13\",\"subtype\":\"Figure\"},\"id\":\"96fe9310-4560-413d-c1fb-46220ba494a7\",\"tags\":[]}},{\"type\":\"ResizeTool\",\"id\":\"8959ebe1-132b-4a7b-ca18-991f6f1e6522\",\"attributes\":{\"doc\":null,\"plot\":{\"type\":\"Plot\",\"id\":\"c5c5c674-6ba2-45bd-c545-c72e1ec9fd13\",\"subtype\":\"Figure\"},\"id\":\"8959ebe1-132b-4a7b-ca18-991f6f1e6522\",\"tags\":[]}},{\"type\":\"ResetTool\",\"id\":\"a96bac42-7991-472f-c727-a2997c180757\",\"attributes\":{\"doc\":null,\"plot\":{\"type\":\"Plot\",\"id\":\"c5c5c674-6ba2-45bd-c545-c72e1ec9fd13\",\"subtype\":\"Figure\"},\"id\":\"a96bac42-7991-472f-c727-a2997c180757\",\"tags\":[]}},{\"type\":\"Legend\",\"id\":\"c8ea69ee-443e-48cc-c896-97cfae84d2a8\",\"attributes\":{\"doc\":null,\"tags\":[],\"legends\":[[\"No Warm start CFR = Uniform warm start\",[{\"type\":\"GlyphRenderer\",\"id\":\"543c73ae-4225-4499-c412-e13337bbc9f5\"}]],[\"Neural Net warm start CFR\",[{\"type\":\"GlyphRenderer\",\"id\":\"8d8759b9-f83c-443c-c4d2-66de9a09c17c\"}]],[\"Warm start target and regrets\",[{\"type\":\"GlyphRenderer\",\"id\":\"70ceee90-9193-4cba-cc82-71798b9526b9\"}]],[\"Warm start only targets\",[{\"type\":\"GlyphRenderer\",\"id\":\"f9b4f261-a12f-4d4d-cdb3-d97dcc2d733b\"}]]],\"id\":\"c8ea69ee-443e-48cc-c896-97cfae84d2a8\",\"plot\":{\"type\":\"Plot\",\"id\":\"c5c5c674-6ba2-45bd-c545-c72e1ec9fd13\",\"subtype\":\"Figure\"}}},{\"type\":\"Plot\",\"id\":\"c5c5c674-6ba2-45bd-c545-c72e1ec9fd13\",\"attributes\":{\"below\":[{\"type\":\"LinearAxis\",\"id\":\"05fa3aa9-38ed-4fc9-cfa6-622ebd418806\"}],\"extra_x_ranges\":{},\"x_range\":{\"type\":\"DataRange1d\",\"id\":\"0687df56-75ac-4098-c0d2-6c0dd823ecdb\"},\"tool_events\":{\"type\":\"ToolEvents\",\"id\":\"9352a6d0-bcbc-4f21-cf50-001a91e2369d\"},\"right\":[],\"renderers\":[{\"type\":\"GlyphRenderer\",\"id\":\"543c73ae-4225-4499-c412-e13337bbc9f5\"},{\"type\":\"GlyphRenderer\",\"id\":\"8d8759b9-f83c-443c-c4d2-66de9a09c17c\"},{\"type\":\"GlyphRenderer\",\"id\":\"70ceee90-9193-4cba-cc82-71798b9526b9\"},{\"type\":\"GlyphRenderer\",\"id\":\"f9b4f261-a12f-4d4d-cdb3-d97dcc2d733b\"},{\"type\":\"LinearAxis\",\"id\":\"05fa3aa9-38ed-4fc9-cfa6-622ebd418806\"},{\"type\":\"Grid\",\"id\":\"487beff7-96e2-48de-c831-4f3982d1388b\"},{\"type\":\"LinearAxis\",\"id\":\"190fb031-6e84-428b-c29c-01fb86a4a030\"},{\"type\":\"Grid\",\"id\":\"492b71ed-2465-4f32-cfcd-ded354929a15\"},{\"type\":\"Legend\",\"id\":\"c8ea69ee-443e-48cc-c896-97cfae84d2a8\"}],\"tools\":[{\"type\":\"PanTool\",\"id\":\"ce1b6abe-52a8-4081-c02d-73446874f4f5\"},{\"type\":\"WheelZoomTool\",\"id\":\"7b2caf84-e898-46be-c658-61f6d419211a\"},{\"type\":\"BoxZoomTool\",\"id\":\"c9cbc761-5923-4e18-ce1e-b4b61694ee96\"},{\"type\":\"PreviewSaveTool\",\"id\":\"96fe9310-4560-413d-c1fb-46220ba494a7\"},{\"type\":\"ResizeTool\",\"id\":\"8959ebe1-132b-4a7b-ca18-991f6f1e6522\"},{\"type\":\"ResetTool\",\"id\":\"a96bac42-7991-472f-c727-a2997c180757\"}],\"doc\":null,\"title\":\"Exploitability of different strategies, 800 iterations\",\"left\":[{\"type\":\"LinearAxis\",\"id\":\"190fb031-6e84-428b-c29c-01fb86a4a030\"}],\"tags\":[],\"above\":[],\"extra_y_ranges\":{},\"id\":\"c5c5c674-6ba2-45bd-c545-c72e1ec9fd13\",\"y_range\":{\"type\":\"DataRange1d\",\"id\":\"d105f946-bc19-44c8-c4cc-9a048ca0074f\"}}}];\n",
       "      Bokeh.load_models(all_models);\n",
       "      var model = Bokeh.Collections(modeltype).get(modelid);\n",
       "      $(\"#8d62c131-208f-42b3-c243-c51e620d1f0c\").html(''); // clear any previous plot in window_id\n",
       "      var view = new model.default_view({model: model, el: \"#8d62c131-208f-42b3-c243-c51e620d1f0c\"});\n",
       "  });\n",
       "    }\n",
       "});\n",
       "</script>\n",
       "<div class=\"plotdiv\" id=\"8d62c131-208f-42b3-c243-c51e620d1f0c\"></div>\n"
      ]
     },
     "metadata": {},
     "output_type": "display_data"
    }
   ],
   "source": [
    "local num_iter = torch.range(1,exploit_NoW:size(1))\n",
    "local plot = Plot()\n",
    "\n",
    "---plot:line(num_iter,exploit_unif,'black' ,'Original CFR in the paper')\n",
    "plot:line(num_iter,exploit_NoW,'red' ,'No Warm start CFR = Uniform warm start')\n",
    "plot:line(num_iter,exploit_NNW,'blue' ,'Neural Net warm start CFR')\n",
    "---plot:line(num_iter,exploit_NNW,'pink' ,'Neural Net warm start CFR no Regrets')\n",
    "plot:line(num_iter,exploit_TarRegW,'green' ,'Warm start target and regrets')\n",
    "plot:line(num_iter,exploit_TarW,'orange' ,'Warm start only targets')\n",
    "---plot:line(num_iter,exploit_RegW,'pink' ,'Warm start with target values')\n",
    "plot:legend(true):title('Exploitability of different strategies, 800 iterations')\n",
    "plot:xaxis('Scaled number of iterations'):yaxis('Exploitability'):redraw()\n"
   ]
  },
  {
   "cell_type": "markdown",
   "metadata": {},
   "source": [
    "### Graphical Comparaison"
   ]
  },
  {
   "cell_type": "markdown",
   "metadata": {},
   "source": [
    "### 3. Comparaision with 2000 CFR2"
   ]
  },
  {
   "cell_type": "code",
   "execution_count": 21,
   "metadata": {
    "collapsed": true
   },
   "outputs": [],
   "source": [
    "--- Get Data from 2000 iterations\n",
    "tree802 = builder:build_tree(params)\n",
    "tree_data802 = TreeData(tree802)\n",
    "tree802_cfr = TreeCFR2()\n",
    "tree802_cfr:run_cfr(tree802, starting_ranges,number_of_iterations)\n",
    "tree_data802:get_training_set(tree802,1)"
   ]
  },
  {
   "cell_type": "code",
   "execution_count": 22,
   "metadata": {
    "collapsed": true
   },
   "outputs": [],
   "source": [
    "-- Building the neural net model\n",
    "strategy_nn2 = StrategyNN()\n",
    "nn_model2 = strategy_nn2.model\n",
    "-- Building trainer:\n",
    "nn_trainer2 = NNTrainer(tree_data802,nn_model2)\n",
    "-- Options:\n",
    "opt = {}\n",
    "opt.learningRate = 0.001\n",
    "opt.momentum = 0.95\n",
    "opt.validate = false"
   ]
  },
  {
   "cell_type": "code",
   "execution_count": 23,
   "metadata": {
    "collapsed": true
   },
   "outputs": [],
   "source": [
    "current_criterion2 = nn.SmoothL1Criterion()\n",
    "train_loss,test_loss = nn_trainer:train(nn_model2,current_criterion2,opt,10000)"
   ]
  },
  {
   "cell_type": "code",
   "execution_count": 24,
   "metadata": {
    "collapsed": true
   },
   "outputs": [],
   "source": [
    "--- No Warm Start\n",
    "treeNoWarm2 = builder:build_tree(params)\n",
    "treeNoWarm_cfr2 = TreeCFR2()\n",
    "treeNoWarm_cfr2:run_cfr(treeNoWarm2, starting_ranges,number_of_iterations)"
   ]
  },
  {
   "cell_type": "code",
   "execution_count": 25,
   "metadata": {
    "collapsed": true
   },
   "outputs": [],
   "source": [
    "--- NNWarm Starting\n",
    "treeNNWarm2 = builder:build_tree(params)\n",
    "dataNN2 = TreeData(treeNNWarm2)\n",
    "dataNN2:get_training_set(treeNNWarm2,1)\n",
    "dataNN2:generate_new_initial_strategies(treeNNWarm2,nn_trainer2)"
   ]
  },
  {
   "cell_type": "code",
   "execution_count": 26,
   "metadata": {
    "collapsed": true
   },
   "outputs": [],
   "source": [
    "--- NNWarm CFR Solver\n",
    "treeNNWarm_cfr2 = TreeCFR2()\n",
    "treeNNWarm_cfr2:run_cfr(treeNNWarm2, starting_ranges,number_of_iterations)"
   ]
  },
  {
   "cell_type": "code",
   "execution_count": 27,
   "metadata": {
    "collapsed": true
   },
   "outputs": [],
   "source": [
    "--- Target Warm Starting\n",
    "treeTargWarm2 = builder:build_tree(params)\n",
    "dataTarg2 = TreeData(treeTargWarm2)\n",
    "dataTarg2:get_training_set(treeTargWarm2,1)\n",
    "dataTarg2:warm_start_targets(treeTargWarm2,tree802)"
   ]
  },
  {
   "cell_type": "code",
   "execution_count": 28,
   "metadata": {
    "collapsed": true
   },
   "outputs": [],
   "source": [
    "--- Building CFR Solver\n",
    "treeTargWarm_cfr2 = TreeCFR2()\n",
    "treeTargWarm_cfr2:run_cfr(treeTargWarm2, starting_ranges,number_of_iterations)"
   ]
  },
  {
   "cell_type": "code",
   "execution_count": 29,
   "metadata": {
    "collapsed": true
   },
   "outputs": [],
   "source": [
    "exploit_unif2 = tree802_cfr.exploitability_vec\n",
    "exploit_NoW2 = treeNoWarm_cfr2.exploitability_vec\n",
    "exploit_NNW2 = treeNNWarm_cfr2.exploitability_vec\n",
    "exploit_TargW2 = treeTargWarm_cfr2.exploitability_vec"
   ]
  },
  {
   "cell_type": "code",
   "execution_count": 30,
   "metadata": {},
   "outputs": [
    {
     "data": {
      "text/html": [
       "<script type=\"text/javascript\">\n",
       "$(function() {\n",
       "    if (typeof (window._bokeh_onload_callbacks) === \"undefined\"){\n",
       "  window._bokeh_onload_callbacks = [];\n",
       "    }\n",
       "    function load_lib(url, callback){\n",
       "  window._bokeh_onload_callbacks.push(callback);\n",
       "  if (window._bokeh_is_loading){\n",
       "      console.log(\"Bokeh: BokehJS is being loaded, scheduling callback at\", new Date());\n",
       "      return null;\n",
       "  }\n",
       "  console.log(\"Bokeh: BokehJS not loaded, scheduling load and callback at\", new Date());\n",
       "  window._bokeh_is_loading = true;\n",
       "  var s = document.createElement('script');\n",
       "  s.src = url;\n",
       "  s.async = true;\n",
       "  s.onreadystatechange = s.onload = function(){\n",
       "      Bokeh.embed.inject_css(\"https://cdn.pydata.org/bokeh-0.7.0.min.css\");\n",
       "      window._bokeh_onload_callbacks.forEach(function(callback){callback()});\n",
       "  };\n",
       "  s.onerror = function(){\n",
       "      console.warn(\"failed to load library \" + url);\n",
       "  };\n",
       "  document.getElementsByTagName(\"head\")[0].appendChild(s);\n",
       "    }\n",
       "\n",
       "    bokehjs_url = \"https://cdn.pydata.org/bokeh-0.7.0.min.js\"\n",
       "\n",
       "    var elt = document.getElementById(\"de81e847-c7c5-432d-c35a-42b2c4fed59a\");\n",
       "    if(elt==null) {\n",
       "  console.log(\"Bokeh: ERROR: autoload.js configured with elementid 'de81e847-c7c5-432d-c35a-42b2c4fed59a'\"\n",
       "        + \"but no matching script tag was found. \")\n",
       "  return false;\n",
       "    }\n",
       "\n",
       "    if(typeof(Bokeh) !== \"undefined\") {\n",
       "  console.log(\"Bokeh: BokehJS loaded, going straight to plotting\");\n",
       "  var modelid = \"fb6d1801-de73-4970-c9ac-058d5068c87e\";\n",
       "  var modeltype = \"Plot\";\n",
       "  var all_models = [{\"type\":\"ColumnDataSource\",\"id\":\"8a4b8edd-5f55-46dd-c61c-460394de9e17\",\"attributes\":{\"doc\":null,\"cont_ranges\":{},\"column_names\":[\"y\",\"x\"],\"tags\":[],\"discrete_ranges\":{},\"selected\":[],\"id\":\"8a4b8edd-5f55-46dd-c61c-460394de9e17\",\"data\":{\"y\":[180,180,180,180,180,180,180,180,180,180,180,180,180,180,180],\"x\":[1,2,3,4,5,6,7,8,9,10,11,12,13,14,15]}}},{\"type\":\"Line\",\"id\":\"cde8fac2-35d9-4cfe-cc58-c53b8e8c5016\",\"attributes\":{\"fill_alpha\":{\"units\":\"data\",\"value\":0.2},\"line_color\":{\"value\":\"black\"},\"fill_color\":{\"value\":\"black\"},\"doc\":null,\"y\":{\"units\":\"data\",\"field\":\"y\"},\"tags\":[],\"size\":{\"units\":\"screen\",\"value\":10},\"x\":{\"units\":\"data\",\"field\":\"x\"},\"id\":\"cde8fac2-35d9-4cfe-cc58-c53b8e8c5016\",\"line_alpha\":{\"units\":\"data\",\"value\":1}}},{\"type\":\"Line\",\"id\":\"8e3266ee-227e-495c-c9c1-5fae1c71ec8d\",\"attributes\":{\"fill_alpha\":{\"units\":\"data\",\"value\":0.2},\"line_color\":{\"value\":\"black\"},\"fill_color\":{\"value\":\"black\"},\"doc\":null,\"y\":{\"units\":\"data\",\"field\":\"y\"},\"tags\":[],\"size\":{\"units\":\"screen\",\"value\":10},\"x\":{\"units\":\"data\",\"field\":\"x\"},\"id\":\"8e3266ee-227e-495c-c9c1-5fae1c71ec8d\",\"line_alpha\":{\"units\":\"data\",\"value\":1}}},{\"type\":\"GlyphRenderer\",\"id\":\"ecb8aab3-06c8-42db-c2ca-1e76c0810183\",\"attributes\":{\"glyph\":{\"type\":\"Line\",\"id\":\"cde8fac2-35d9-4cfe-cc58-c53b8e8c5016\"},\"selection_glyph\":null,\"nonselection_glyph\":{\"type\":\"Line\",\"id\":\"8e3266ee-227e-495c-c9c1-5fae1c71ec8d\"},\"name\":null,\"data_source\":{\"type\":\"ColumnDataSource\",\"id\":\"8a4b8edd-5f55-46dd-c61c-460394de9e17\"},\"tags\":[],\"doc\":null,\"id\":\"ecb8aab3-06c8-42db-c2ca-1e76c0810183\",\"server_data_source\":null}},{\"type\":\"ColumnDataSource\",\"id\":\"9b04476f-2fef-4dc7-cd7e-1214a0f109b5\",\"attributes\":{\"doc\":null,\"cont_ranges\":{},\"column_names\":[\"y\",\"x\"],\"tags\":[],\"discrete_ranges\":{},\"selected\":[],\"id\":\"9b04476f-2fef-4dc7-cd7e-1214a0f109b5\",\"data\":{\"y\":[180,180,180,180,180,180,180,180,180,180,180,180,180,180,180],\"x\":[1,2,3,4,5,6,7,8,9,10,11,12,13,14,15]}}},{\"type\":\"Line\",\"id\":\"6e826614-445d-4f5f-cf2c-7b1812f44263\",\"attributes\":{\"fill_alpha\":{\"units\":\"data\",\"value\":0.2},\"line_color\":{\"value\":\"red\"},\"fill_color\":{\"value\":\"red\"},\"doc\":null,\"y\":{\"units\":\"data\",\"field\":\"y\"},\"tags\":[],\"size\":{\"units\":\"screen\",\"value\":10},\"x\":{\"units\":\"data\",\"field\":\"x\"},\"id\":\"6e826614-445d-4f5f-cf2c-7b1812f44263\",\"line_alpha\":{\"units\":\"data\",\"value\":1}}},{\"type\":\"Line\",\"id\":\"319cfc32-9374-4b5d-cbc3-581876b1f638\",\"attributes\":{\"fill_alpha\":{\"units\":\"data\",\"value\":0.2},\"line_color\":{\"value\":\"red\"},\"fill_color\":{\"value\":\"red\"},\"doc\":null,\"y\":{\"units\":\"data\",\"field\":\"y\"},\"tags\":[],\"size\":{\"units\":\"screen\",\"value\":10},\"x\":{\"units\":\"data\",\"field\":\"x\"},\"id\":\"319cfc32-9374-4b5d-cbc3-581876b1f638\",\"line_alpha\":{\"units\":\"data\",\"value\":1}}},{\"type\":\"GlyphRenderer\",\"id\":\"a52de7cf-d93f-4291-c243-8372e60d5fe9\",\"attributes\":{\"glyph\":{\"type\":\"Line\",\"id\":\"6e826614-445d-4f5f-cf2c-7b1812f44263\"},\"selection_glyph\":null,\"nonselection_glyph\":{\"type\":\"Line\",\"id\":\"319cfc32-9374-4b5d-cbc3-581876b1f638\"},\"name\":null,\"data_source\":{\"type\":\"ColumnDataSource\",\"id\":\"9b04476f-2fef-4dc7-cd7e-1214a0f109b5\"},\"tags\":[],\"doc\":null,\"id\":\"a52de7cf-d93f-4291-c243-8372e60d5fe9\",\"server_data_source\":null}},{\"type\":\"ColumnDataSource\",\"id\":\"87a108f9-105a-4ad9-caf6-74db04ded801\",\"attributes\":{\"doc\":null,\"cont_ranges\":{},\"column_names\":[\"y\",\"x\"],\"tags\":[],\"discrete_ranges\":{},\"selected\":[],\"id\":\"87a108f9-105a-4ad9-caf6-74db04ded801\",\"data\":{\"y\":[180.10595703125,180.10595703125,180.10595703125,180.10595703125,180.10595703125,180.10595703125,180.10595703125,180.10595703125,180.10595703125,180.10595703125,180.10595703125,180.10595703125,180.10595703125,180.10595703125,180.10595703125],\"x\":[1,2,3,4,5,6,7,8,9,10,11,12,13,14,15]}}},{\"type\":\"Line\",\"id\":\"1a5a02a0-a8be-4341-c37c-0a24c07de74b\",\"attributes\":{\"fill_alpha\":{\"units\":\"data\",\"value\":0.2},\"line_color\":{\"value\":\"blue\"},\"fill_color\":{\"value\":\"blue\"},\"doc\":null,\"y\":{\"units\":\"data\",\"field\":\"y\"},\"tags\":[],\"size\":{\"units\":\"screen\",\"value\":10},\"x\":{\"units\":\"data\",\"field\":\"x\"},\"id\":\"1a5a02a0-a8be-4341-c37c-0a24c07de74b\",\"line_alpha\":{\"units\":\"data\",\"value\":1}}},{\"type\":\"Line\",\"id\":\"dff71c92-23b8-43c6-c3bb-b469d2d0d786\",\"attributes\":{\"fill_alpha\":{\"units\":\"data\",\"value\":0.2},\"line_color\":{\"value\":\"blue\"},\"fill_color\":{\"value\":\"blue\"},\"doc\":null,\"y\":{\"units\":\"data\",\"field\":\"y\"},\"tags\":[],\"size\":{\"units\":\"screen\",\"value\":10},\"x\":{\"units\":\"data\",\"field\":\"x\"},\"id\":\"dff71c92-23b8-43c6-c3bb-b469d2d0d786\",\"line_alpha\":{\"units\":\"data\",\"value\":1}}},{\"type\":\"GlyphRenderer\",\"id\":\"669671bc-bd45-45bd-c56c-69d8091de3af\",\"attributes\":{\"glyph\":{\"type\":\"Line\",\"id\":\"1a5a02a0-a8be-4341-c37c-0a24c07de74b\"},\"selection_glyph\":null,\"nonselection_glyph\":{\"type\":\"Line\",\"id\":\"dff71c92-23b8-43c6-c3bb-b469d2d0d786\"},\"name\":null,\"data_source\":{\"type\":\"ColumnDataSource\",\"id\":\"87a108f9-105a-4ad9-caf6-74db04ded801\"},\"tags\":[],\"doc\":null,\"id\":\"669671bc-bd45-45bd-c56c-69d8091de3af\",\"server_data_source\":null}},{\"type\":\"ColumnDataSource\",\"id\":\"6949dd3f-b3a9-4b04-cb7b-532083676c7b\",\"attributes\":{\"doc\":null,\"cont_ranges\":{},\"column_names\":[\"y\",\"x\"],\"tags\":[],\"discrete_ranges\":{},\"selected\":[],\"id\":\"6949dd3f-b3a9-4b04-cb7b-532083676c7b\",\"data\":{\"y\":[180,180,180,180,180,180,180,180,180,180,180,180,180,180,180],\"x\":[1,2,3,4,5,6,7,8,9,10,11,12,13,14,15]}}},{\"type\":\"Line\",\"id\":\"ca55da0c-0066-4e9b-ce6d-5c6dcc197b79\",\"attributes\":{\"fill_alpha\":{\"units\":\"data\",\"value\":0.2},\"line_color\":{\"value\":\"green\"},\"fill_color\":{\"value\":\"green\"},\"doc\":null,\"y\":{\"units\":\"data\",\"field\":\"y\"},\"tags\":[],\"size\":{\"units\":\"screen\",\"value\":10},\"x\":{\"units\":\"data\",\"field\":\"x\"},\"id\":\"ca55da0c-0066-4e9b-ce6d-5c6dcc197b79\",\"line_alpha\":{\"units\":\"data\",\"value\":1}}},{\"type\":\"Line\",\"id\":\"79910314-5361-4da2-cd31-6f0f9c97dde2\",\"attributes\":{\"fill_alpha\":{\"units\":\"data\",\"value\":0.2},\"line_color\":{\"value\":\"green\"},\"fill_color\":{\"value\":\"green\"},\"doc\":null,\"y\":{\"units\":\"data\",\"field\":\"y\"},\"tags\":[],\"size\":{\"units\":\"screen\",\"value\":10},\"x\":{\"units\":\"data\",\"field\":\"x\"},\"id\":\"79910314-5361-4da2-cd31-6f0f9c97dde2\",\"line_alpha\":{\"units\":\"data\",\"value\":1}}},{\"type\":\"GlyphRenderer\",\"id\":\"ccd00dcb-1624-4837-c84f-c69b3bf88de2\",\"attributes\":{\"glyph\":{\"type\":\"Line\",\"id\":\"ca55da0c-0066-4e9b-ce6d-5c6dcc197b79\"},\"selection_glyph\":null,\"nonselection_glyph\":{\"type\":\"Line\",\"id\":\"79910314-5361-4da2-cd31-6f0f9c97dde2\"},\"name\":null,\"data_source\":{\"type\":\"ColumnDataSource\",\"id\":\"6949dd3f-b3a9-4b04-cb7b-532083676c7b\"},\"tags\":[],\"doc\":null,\"id\":\"ccd00dcb-1624-4837-c84f-c69b3bf88de2\",\"server_data_source\":null}},{\"type\":\"DataRange1d\",\"id\":\"90c2a238-396a-4f1a-cf70-edc81ec6d30c\",\"attributes\":{\"doc\":null,\"sources\":[{\"source\":{\"id\":\"8a4b8edd-5f55-46dd-c61c-460394de9e17\",\"type\":\"ColumnDataSource\"},\"columns\":[\"x\"]},{\"source\":{\"id\":\"9b04476f-2fef-4dc7-cd7e-1214a0f109b5\",\"type\":\"ColumnDataSource\"},\"columns\":[\"x\"]},{\"source\":{\"id\":\"87a108f9-105a-4ad9-caf6-74db04ded801\",\"type\":\"ColumnDataSource\"},\"columns\":[\"x\"]},{\"source\":{\"id\":\"6949dd3f-b3a9-4b04-cb7b-532083676c7b\",\"type\":\"ColumnDataSource\"},\"columns\":[\"x\"]}],\"id\":\"90c2a238-396a-4f1a-cf70-edc81ec6d30c\",\"tags\":[]}},{\"type\":\"DataRange1d\",\"id\":\"f5d02d8f-1f13-4a44-ca94-faa314ea24c3\",\"attributes\":{\"doc\":null,\"sources\":[{\"source\":{\"id\":\"8a4b8edd-5f55-46dd-c61c-460394de9e17\",\"type\":\"ColumnDataSource\"},\"columns\":[\"y\"]},{\"source\":{\"id\":\"9b04476f-2fef-4dc7-cd7e-1214a0f109b5\",\"type\":\"ColumnDataSource\"},\"columns\":[\"y\"]},{\"source\":{\"id\":\"87a108f9-105a-4ad9-caf6-74db04ded801\",\"type\":\"ColumnDataSource\"},\"columns\":[\"y\"]},{\"source\":{\"id\":\"6949dd3f-b3a9-4b04-cb7b-532083676c7b\",\"type\":\"ColumnDataSource\"},\"columns\":[\"y\"]}],\"id\":\"f5d02d8f-1f13-4a44-ca94-faa314ea24c3\",\"tags\":[]}},{\"type\":\"ToolEvents\",\"id\":\"de8269f4-22c7-4cf4-cc8d-43e9c4691774\",\"attributes\":{\"doc\":null,\"geometries\":[],\"id\":\"de8269f4-22c7-4cf4-cc8d-43e9c4691774\",\"tags\":[]}},{\"type\":\"BasicTickFormatter\",\"id\":\"6cbba5ca-aa9f-4b8c-cbaf-3cbf02985ed3\",\"attributes\":{\"doc\":null,\"id\":\"6cbba5ca-aa9f-4b8c-cbaf-3cbf02985ed3\",\"tags\":[]}},{\"type\":\"BasicTicker\",\"id\":\"2f35aae6-9d4e-4853-c877-212435d1da46\",\"attributes\":{\"doc\":null,\"num_minor_ticks\":5,\"id\":\"2f35aae6-9d4e-4853-c877-212435d1da46\",\"tags\":[]}},{\"type\":\"LinearAxis\",\"id\":\"c9dfafc9-be3b-4791-c7eb-fbfae9d0b2dd\",\"attributes\":{\"doc\":null,\"ticker\":{\"type\":\"BasicTicker\",\"id\":\"2f35aae6-9d4e-4853-c877-212435d1da46\"},\"tags\":[],\"formatter\":{\"type\":\"BasicTickFormatter\",\"id\":\"6cbba5ca-aa9f-4b8c-cbaf-3cbf02985ed3\"},\"axis_label\":\"Scaled number of iterations\",\"id\":\"c9dfafc9-be3b-4791-c7eb-fbfae9d0b2dd\",\"plot\":{\"type\":\"Plot\",\"id\":\"fb6d1801-de73-4970-c9ac-058d5068c87e\",\"subtype\":\"Figure\"}}},{\"type\":\"Grid\",\"id\":\"6be908a1-7ed4-4490-c4c7-008649a1cf10\",\"attributes\":{\"doc\":null,\"dimension\":0,\"tags\":[],\"ticker\":{\"type\":\"BasicTicker\",\"id\":\"2f35aae6-9d4e-4853-c877-212435d1da46\"},\"id\":\"6be908a1-7ed4-4490-c4c7-008649a1cf10\",\"plot\":{\"type\":\"Plot\",\"id\":\"fb6d1801-de73-4970-c9ac-058d5068c87e\",\"subtype\":\"Figure\"}}},{\"type\":\"BasicTickFormatter\",\"id\":\"ce698aaa-805b-4282-c2a0-ecf37a6e870c\",\"attributes\":{\"doc\":null,\"id\":\"ce698aaa-805b-4282-c2a0-ecf37a6e870c\",\"tags\":[]}},{\"type\":\"BasicTicker\",\"id\":\"20b64522-c2c9-4873-c836-577492cdeb29\",\"attributes\":{\"doc\":null,\"num_minor_ticks\":5,\"id\":\"20b64522-c2c9-4873-c836-577492cdeb29\",\"tags\":[]}},{\"type\":\"LinearAxis\",\"id\":\"92fe1663-a657-4035-c0d0-a36f0c483a5d\",\"attributes\":{\"doc\":null,\"ticker\":{\"type\":\"BasicTicker\",\"id\":\"20b64522-c2c9-4873-c836-577492cdeb29\"},\"tags\":[],\"formatter\":{\"type\":\"BasicTickFormatter\",\"id\":\"ce698aaa-805b-4282-c2a0-ecf37a6e870c\"},\"axis_label\":\"Exploitability\",\"id\":\"92fe1663-a657-4035-c0d0-a36f0c483a5d\",\"plot\":{\"type\":\"Plot\",\"id\":\"fb6d1801-de73-4970-c9ac-058d5068c87e\",\"subtype\":\"Figure\"}}},{\"type\":\"Grid\",\"id\":\"4d832f56-3fd6-4b89-cb62-fc152a1c2e44\",\"attributes\":{\"doc\":null,\"dimension\":1,\"tags\":[],\"ticker\":{\"type\":\"BasicTicker\",\"id\":\"20b64522-c2c9-4873-c836-577492cdeb29\"},\"id\":\"4d832f56-3fd6-4b89-cb62-fc152a1c2e44\",\"plot\":{\"type\":\"Plot\",\"id\":\"fb6d1801-de73-4970-c9ac-058d5068c87e\",\"subtype\":\"Figure\"}}},{\"type\":\"PanTool\",\"id\":\"e38ec0e6-48e6-493d-c9cf-cfd41e6eedbd\",\"attributes\":{\"doc\":null,\"dimensions\":[\"width\",\"height\"],\"tags\":[],\"id\":\"e38ec0e6-48e6-493d-c9cf-cfd41e6eedbd\",\"plot\":{\"type\":\"Plot\",\"id\":\"fb6d1801-de73-4970-c9ac-058d5068c87e\",\"subtype\":\"Figure\"}}},{\"type\":\"WheelZoomTool\",\"id\":\"c3385696-94de-41ae-c172-fe2eb191cd70\",\"attributes\":{\"doc\":null,\"dimensions\":[\"width\",\"height\"],\"tags\":[],\"id\":\"c3385696-94de-41ae-c172-fe2eb191cd70\",\"plot\":{\"type\":\"Plot\",\"id\":\"fb6d1801-de73-4970-c9ac-058d5068c87e\",\"subtype\":\"Figure\"}}},{\"type\":\"BoxZoomTool\",\"id\":\"4577716c-cb55-47ea-c722-c72553f38a62\",\"attributes\":{\"doc\":null,\"plot\":{\"type\":\"Plot\",\"id\":\"fb6d1801-de73-4970-c9ac-058d5068c87e\",\"subtype\":\"Figure\"},\"id\":\"4577716c-cb55-47ea-c722-c72553f38a62\",\"tags\":[]}},{\"type\":\"PreviewSaveTool\",\"id\":\"22ec61ba-288d-4cdd-cc31-2bdd6239ceeb\",\"attributes\":{\"doc\":null,\"plot\":{\"type\":\"Plot\",\"id\":\"fb6d1801-de73-4970-c9ac-058d5068c87e\",\"subtype\":\"Figure\"},\"id\":\"22ec61ba-288d-4cdd-cc31-2bdd6239ceeb\",\"tags\":[]}},{\"type\":\"ResizeTool\",\"id\":\"158c4247-e7cb-464a-c638-62eec5083a88\",\"attributes\":{\"doc\":null,\"plot\":{\"type\":\"Plot\",\"id\":\"fb6d1801-de73-4970-c9ac-058d5068c87e\",\"subtype\":\"Figure\"},\"id\":\"158c4247-e7cb-464a-c638-62eec5083a88\",\"tags\":[]}},{\"type\":\"ResetTool\",\"id\":\"5699ae76-798e-45c5-c572-e991434bc40f\",\"attributes\":{\"doc\":null,\"plot\":{\"type\":\"Plot\",\"id\":\"fb6d1801-de73-4970-c9ac-058d5068c87e\",\"subtype\":\"Figure\"},\"id\":\"5699ae76-798e-45c5-c572-e991434bc40f\",\"tags\":[]}},{\"type\":\"Legend\",\"id\":\"cb882bd6-ca8d-4b44-cbe2-4dd47399e3e1\",\"attributes\":{\"doc\":null,\"tags\":[],\"legends\":[[\"Original CFR in the paper\",[{\"type\":\"GlyphRenderer\",\"id\":\"ecb8aab3-06c8-42db-c2ca-1e76c0810183\"}]],[\"No Warm start CFR\",[{\"type\":\"GlyphRenderer\",\"id\":\"a52de7cf-d93f-4291-c243-8372e60d5fe9\"}]],[\"Neural Net warm start CFR\",[{\"type\":\"GlyphRenderer\",\"id\":\"669671bc-bd45-45bd-c56c-69d8091de3af\"}]],[\"Warm start with target values\",[{\"type\":\"GlyphRenderer\",\"id\":\"ccd00dcb-1624-4837-c84f-c69b3bf88de2\"}]]],\"id\":\"cb882bd6-ca8d-4b44-cbe2-4dd47399e3e1\",\"plot\":{\"type\":\"Plot\",\"id\":\"fb6d1801-de73-4970-c9ac-058d5068c87e\",\"subtype\":\"Figure\"}}},{\"type\":\"Plot\",\"id\":\"fb6d1801-de73-4970-c9ac-058d5068c87e\",\"attributes\":{\"below\":[{\"type\":\"LinearAxis\",\"id\":\"c9dfafc9-be3b-4791-c7eb-fbfae9d0b2dd\"}],\"extra_x_ranges\":{},\"x_range\":{\"type\":\"DataRange1d\",\"id\":\"90c2a238-396a-4f1a-cf70-edc81ec6d30c\"},\"tool_events\":{\"type\":\"ToolEvents\",\"id\":\"de8269f4-22c7-4cf4-cc8d-43e9c4691774\"},\"right\":[],\"renderers\":[{\"type\":\"GlyphRenderer\",\"id\":\"ecb8aab3-06c8-42db-c2ca-1e76c0810183\"},{\"type\":\"GlyphRenderer\",\"id\":\"a52de7cf-d93f-4291-c243-8372e60d5fe9\"},{\"type\":\"GlyphRenderer\",\"id\":\"669671bc-bd45-45bd-c56c-69d8091de3af\"},{\"type\":\"GlyphRenderer\",\"id\":\"ccd00dcb-1624-4837-c84f-c69b3bf88de2\"},{\"type\":\"LinearAxis\",\"id\":\"c9dfafc9-be3b-4791-c7eb-fbfae9d0b2dd\"},{\"type\":\"Grid\",\"id\":\"6be908a1-7ed4-4490-c4c7-008649a1cf10\"},{\"type\":\"LinearAxis\",\"id\":\"92fe1663-a657-4035-c0d0-a36f0c483a5d\"},{\"type\":\"Grid\",\"id\":\"4d832f56-3fd6-4b89-cb62-fc152a1c2e44\"},{\"type\":\"Legend\",\"id\":\"cb882bd6-ca8d-4b44-cbe2-4dd47399e3e1\"}],\"tools\":[{\"type\":\"PanTool\",\"id\":\"e38ec0e6-48e6-493d-c9cf-cfd41e6eedbd\"},{\"type\":\"WheelZoomTool\",\"id\":\"c3385696-94de-41ae-c172-fe2eb191cd70\"},{\"type\":\"BoxZoomTool\",\"id\":\"4577716c-cb55-47ea-c722-c72553f38a62\"},{\"type\":\"PreviewSaveTool\",\"id\":\"22ec61ba-288d-4cdd-cc31-2bdd6239ceeb\"},{\"type\":\"ResizeTool\",\"id\":\"158c4247-e7cb-464a-c638-62eec5083a88\"},{\"type\":\"ResetTool\",\"id\":\"5699ae76-798e-45c5-c572-e991434bc40f\"}],\"doc\":null,\"title\":\"Exploitability of different strategoes\",\"left\":[{\"type\":\"LinearAxis\",\"id\":\"92fe1663-a657-4035-c0d0-a36f0c483a5d\"}],\"tags\":[],\"above\":[],\"extra_y_ranges\":{},\"id\":\"fb6d1801-de73-4970-c9ac-058d5068c87e\",\"y_range\":{\"type\":\"DataRange1d\",\"id\":\"f5d02d8f-1f13-4a44-ca94-faa314ea24c3\"}}}];\n",
       "  Bokeh.load_models(all_models);\n",
       "  var model = Bokeh.Collections(modeltype).get(modelid);\n",
       "  $(\"#de81e847-c7c5-432d-c35a-42b2c4fed59a\").html(''); // clear any previous plot in window_id\n",
       "  var view = new model.default_view({model: model, el: \"#de81e847-c7c5-432d-c35a-42b2c4fed59a\"});\n",
       "    } else {\n",
       "  load_lib(bokehjs_url, function() {\n",
       "      console.log(\"Bokeh: BokehJS plotting callback run at\", new Date())\n",
       "      var modelid = \"fb6d1801-de73-4970-c9ac-058d5068c87e\";\n",
       "      var modeltype = \"Plot\";\n",
       "      var all_models = [{\"type\":\"ColumnDataSource\",\"id\":\"8a4b8edd-5f55-46dd-c61c-460394de9e17\",\"attributes\":{\"doc\":null,\"cont_ranges\":{},\"column_names\":[\"y\",\"x\"],\"tags\":[],\"discrete_ranges\":{},\"selected\":[],\"id\":\"8a4b8edd-5f55-46dd-c61c-460394de9e17\",\"data\":{\"y\":[180,180,180,180,180,180,180,180,180,180,180,180,180,180,180],\"x\":[1,2,3,4,5,6,7,8,9,10,11,12,13,14,15]}}},{\"type\":\"Line\",\"id\":\"cde8fac2-35d9-4cfe-cc58-c53b8e8c5016\",\"attributes\":{\"fill_alpha\":{\"units\":\"data\",\"value\":0.2},\"line_color\":{\"value\":\"black\"},\"fill_color\":{\"value\":\"black\"},\"doc\":null,\"y\":{\"units\":\"data\",\"field\":\"y\"},\"tags\":[],\"size\":{\"units\":\"screen\",\"value\":10},\"x\":{\"units\":\"data\",\"field\":\"x\"},\"id\":\"cde8fac2-35d9-4cfe-cc58-c53b8e8c5016\",\"line_alpha\":{\"units\":\"data\",\"value\":1}}},{\"type\":\"Line\",\"id\":\"8e3266ee-227e-495c-c9c1-5fae1c71ec8d\",\"attributes\":{\"fill_alpha\":{\"units\":\"data\",\"value\":0.2},\"line_color\":{\"value\":\"black\"},\"fill_color\":{\"value\":\"black\"},\"doc\":null,\"y\":{\"units\":\"data\",\"field\":\"y\"},\"tags\":[],\"size\":{\"units\":\"screen\",\"value\":10},\"x\":{\"units\":\"data\",\"field\":\"x\"},\"id\":\"8e3266ee-227e-495c-c9c1-5fae1c71ec8d\",\"line_alpha\":{\"units\":\"data\",\"value\":1}}},{\"type\":\"GlyphRenderer\",\"id\":\"ecb8aab3-06c8-42db-c2ca-1e76c0810183\",\"attributes\":{\"glyph\":{\"type\":\"Line\",\"id\":\"cde8fac2-35d9-4cfe-cc58-c53b8e8c5016\"},\"selection_glyph\":null,\"nonselection_glyph\":{\"type\":\"Line\",\"id\":\"8e3266ee-227e-495c-c9c1-5fae1c71ec8d\"},\"name\":null,\"data_source\":{\"type\":\"ColumnDataSource\",\"id\":\"8a4b8edd-5f55-46dd-c61c-460394de9e17\"},\"tags\":[],\"doc\":null,\"id\":\"ecb8aab3-06c8-42db-c2ca-1e76c0810183\",\"server_data_source\":null}},{\"type\":\"ColumnDataSource\",\"id\":\"9b04476f-2fef-4dc7-cd7e-1214a0f109b5\",\"attributes\":{\"doc\":null,\"cont_ranges\":{},\"column_names\":[\"y\",\"x\"],\"tags\":[],\"discrete_ranges\":{},\"selected\":[],\"id\":\"9b04476f-2fef-4dc7-cd7e-1214a0f109b5\",\"data\":{\"y\":[180,180,180,180,180,180,180,180,180,180,180,180,180,180,180],\"x\":[1,2,3,4,5,6,7,8,9,10,11,12,13,14,15]}}},{\"type\":\"Line\",\"id\":\"6e826614-445d-4f5f-cf2c-7b1812f44263\",\"attributes\":{\"fill_alpha\":{\"units\":\"data\",\"value\":0.2},\"line_color\":{\"value\":\"red\"},\"fill_color\":{\"value\":\"red\"},\"doc\":null,\"y\":{\"units\":\"data\",\"field\":\"y\"},\"tags\":[],\"size\":{\"units\":\"screen\",\"value\":10},\"x\":{\"units\":\"data\",\"field\":\"x\"},\"id\":\"6e826614-445d-4f5f-cf2c-7b1812f44263\",\"line_alpha\":{\"units\":\"data\",\"value\":1}}},{\"type\":\"Line\",\"id\":\"319cfc32-9374-4b5d-cbc3-581876b1f638\",\"attributes\":{\"fill_alpha\":{\"units\":\"data\",\"value\":0.2},\"line_color\":{\"value\":\"red\"},\"fill_color\":{\"value\":\"red\"},\"doc\":null,\"y\":{\"units\":\"data\",\"field\":\"y\"},\"tags\":[],\"size\":{\"units\":\"screen\",\"value\":10},\"x\":{\"units\":\"data\",\"field\":\"x\"},\"id\":\"319cfc32-9374-4b5d-cbc3-581876b1f638\",\"line_alpha\":{\"units\":\"data\",\"value\":1}}},{\"type\":\"GlyphRenderer\",\"id\":\"a52de7cf-d93f-4291-c243-8372e60d5fe9\",\"attributes\":{\"glyph\":{\"type\":\"Line\",\"id\":\"6e826614-445d-4f5f-cf2c-7b1812f44263\"},\"selection_glyph\":null,\"nonselection_glyph\":{\"type\":\"Line\",\"id\":\"319cfc32-9374-4b5d-cbc3-581876b1f638\"},\"name\":null,\"data_source\":{\"type\":\"ColumnDataSource\",\"id\":\"9b04476f-2fef-4dc7-cd7e-1214a0f109b5\"},\"tags\":[],\"doc\":null,\"id\":\"a52de7cf-d93f-4291-c243-8372e60d5fe9\",\"server_data_source\":null}},{\"type\":\"ColumnDataSource\",\"id\":\"87a108f9-105a-4ad9-caf6-74db04ded801\",\"attributes\":{\"doc\":null,\"cont_ranges\":{},\"column_names\":[\"y\",\"x\"],\"tags\":[],\"discrete_ranges\":{},\"selected\":[],\"id\":\"87a108f9-105a-4ad9-caf6-74db04ded801\",\"data\":{\"y\":[180.10595703125,180.10595703125,180.10595703125,180.10595703125,180.10595703125,180.10595703125,180.10595703125,180.10595703125,180.10595703125,180.10595703125,180.10595703125,180.10595703125,180.10595703125,180.10595703125,180.10595703125],\"x\":[1,2,3,4,5,6,7,8,9,10,11,12,13,14,15]}}},{\"type\":\"Line\",\"id\":\"1a5a02a0-a8be-4341-c37c-0a24c07de74b\",\"attributes\":{\"fill_alpha\":{\"units\":\"data\",\"value\":0.2},\"line_color\":{\"value\":\"blue\"},\"fill_color\":{\"value\":\"blue\"},\"doc\":null,\"y\":{\"units\":\"data\",\"field\":\"y\"},\"tags\":[],\"size\":{\"units\":\"screen\",\"value\":10},\"x\":{\"units\":\"data\",\"field\":\"x\"},\"id\":\"1a5a02a0-a8be-4341-c37c-0a24c07de74b\",\"line_alpha\":{\"units\":\"data\",\"value\":1}}},{\"type\":\"Line\",\"id\":\"dff71c92-23b8-43c6-c3bb-b469d2d0d786\",\"attributes\":{\"fill_alpha\":{\"units\":\"data\",\"value\":0.2},\"line_color\":{\"value\":\"blue\"},\"fill_color\":{\"value\":\"blue\"},\"doc\":null,\"y\":{\"units\":\"data\",\"field\":\"y\"},\"tags\":[],\"size\":{\"units\":\"screen\",\"value\":10},\"x\":{\"units\":\"data\",\"field\":\"x\"},\"id\":\"dff71c92-23b8-43c6-c3bb-b469d2d0d786\",\"line_alpha\":{\"units\":\"data\",\"value\":1}}},{\"type\":\"GlyphRenderer\",\"id\":\"669671bc-bd45-45bd-c56c-69d8091de3af\",\"attributes\":{\"glyph\":{\"type\":\"Line\",\"id\":\"1a5a02a0-a8be-4341-c37c-0a24c07de74b\"},\"selection_glyph\":null,\"nonselection_glyph\":{\"type\":\"Line\",\"id\":\"dff71c92-23b8-43c6-c3bb-b469d2d0d786\"},\"name\":null,\"data_source\":{\"type\":\"ColumnDataSource\",\"id\":\"87a108f9-105a-4ad9-caf6-74db04ded801\"},\"tags\":[],\"doc\":null,\"id\":\"669671bc-bd45-45bd-c56c-69d8091de3af\",\"server_data_source\":null}},{\"type\":\"ColumnDataSource\",\"id\":\"6949dd3f-b3a9-4b04-cb7b-532083676c7b\",\"attributes\":{\"doc\":null,\"cont_ranges\":{},\"column_names\":[\"y\",\"x\"],\"tags\":[],\"discrete_ranges\":{},\"selected\":[],\"id\":\"6949dd3f-b3a9-4b04-cb7b-532083676c7b\",\"data\":{\"y\":[180,180,180,180,180,180,180,180,180,180,180,180,180,180,180],\"x\":[1,2,3,4,5,6,7,8,9,10,11,12,13,14,15]}}},{\"type\":\"Line\",\"id\":\"ca55da0c-0066-4e9b-ce6d-5c6dcc197b79\",\"attributes\":{\"fill_alpha\":{\"units\":\"data\",\"value\":0.2},\"line_color\":{\"value\":\"green\"},\"fill_color\":{\"value\":\"green\"},\"doc\":null,\"y\":{\"units\":\"data\",\"field\":\"y\"},\"tags\":[],\"size\":{\"units\":\"screen\",\"value\":10},\"x\":{\"units\":\"data\",\"field\":\"x\"},\"id\":\"ca55da0c-0066-4e9b-ce6d-5c6dcc197b79\",\"line_alpha\":{\"units\":\"data\",\"value\":1}}},{\"type\":\"Line\",\"id\":\"79910314-5361-4da2-cd31-6f0f9c97dde2\",\"attributes\":{\"fill_alpha\":{\"units\":\"data\",\"value\":0.2},\"line_color\":{\"value\":\"green\"},\"fill_color\":{\"value\":\"green\"},\"doc\":null,\"y\":{\"units\":\"data\",\"field\":\"y\"},\"tags\":[],\"size\":{\"units\":\"screen\",\"value\":10},\"x\":{\"units\":\"data\",\"field\":\"x\"},\"id\":\"79910314-5361-4da2-cd31-6f0f9c97dde2\",\"line_alpha\":{\"units\":\"data\",\"value\":1}}},{\"type\":\"GlyphRenderer\",\"id\":\"ccd00dcb-1624-4837-c84f-c69b3bf88de2\",\"attributes\":{\"glyph\":{\"type\":\"Line\",\"id\":\"ca55da0c-0066-4e9b-ce6d-5c6dcc197b79\"},\"selection_glyph\":null,\"nonselection_glyph\":{\"type\":\"Line\",\"id\":\"79910314-5361-4da2-cd31-6f0f9c97dde2\"},\"name\":null,\"data_source\":{\"type\":\"ColumnDataSource\",\"id\":\"6949dd3f-b3a9-4b04-cb7b-532083676c7b\"},\"tags\":[],\"doc\":null,\"id\":\"ccd00dcb-1624-4837-c84f-c69b3bf88de2\",\"server_data_source\":null}},{\"type\":\"DataRange1d\",\"id\":\"90c2a238-396a-4f1a-cf70-edc81ec6d30c\",\"attributes\":{\"doc\":null,\"sources\":[{\"source\":{\"id\":\"8a4b8edd-5f55-46dd-c61c-460394de9e17\",\"type\":\"ColumnDataSource\"},\"columns\":[\"x\"]},{\"source\":{\"id\":\"9b04476f-2fef-4dc7-cd7e-1214a0f109b5\",\"type\":\"ColumnDataSource\"},\"columns\":[\"x\"]},{\"source\":{\"id\":\"87a108f9-105a-4ad9-caf6-74db04ded801\",\"type\":\"ColumnDataSource\"},\"columns\":[\"x\"]},{\"source\":{\"id\":\"6949dd3f-b3a9-4b04-cb7b-532083676c7b\",\"type\":\"ColumnDataSource\"},\"columns\":[\"x\"]}],\"id\":\"90c2a238-396a-4f1a-cf70-edc81ec6d30c\",\"tags\":[]}},{\"type\":\"DataRange1d\",\"id\":\"f5d02d8f-1f13-4a44-ca94-faa314ea24c3\",\"attributes\":{\"doc\":null,\"sources\":[{\"source\":{\"id\":\"8a4b8edd-5f55-46dd-c61c-460394de9e17\",\"type\":\"ColumnDataSource\"},\"columns\":[\"y\"]},{\"source\":{\"id\":\"9b04476f-2fef-4dc7-cd7e-1214a0f109b5\",\"type\":\"ColumnDataSource\"},\"columns\":[\"y\"]},{\"source\":{\"id\":\"87a108f9-105a-4ad9-caf6-74db04ded801\",\"type\":\"ColumnDataSource\"},\"columns\":[\"y\"]},{\"source\":{\"id\":\"6949dd3f-b3a9-4b04-cb7b-532083676c7b\",\"type\":\"ColumnDataSource\"},\"columns\":[\"y\"]}],\"id\":\"f5d02d8f-1f13-4a44-ca94-faa314ea24c3\",\"tags\":[]}},{\"type\":\"ToolEvents\",\"id\":\"de8269f4-22c7-4cf4-cc8d-43e9c4691774\",\"attributes\":{\"doc\":null,\"geometries\":[],\"id\":\"de8269f4-22c7-4cf4-cc8d-43e9c4691774\",\"tags\":[]}},{\"type\":\"BasicTickFormatter\",\"id\":\"6cbba5ca-aa9f-4b8c-cbaf-3cbf02985ed3\",\"attributes\":{\"doc\":null,\"id\":\"6cbba5ca-aa9f-4b8c-cbaf-3cbf02985ed3\",\"tags\":[]}},{\"type\":\"BasicTicker\",\"id\":\"2f35aae6-9d4e-4853-c877-212435d1da46\",\"attributes\":{\"doc\":null,\"num_minor_ticks\":5,\"id\":\"2f35aae6-9d4e-4853-c877-212435d1da46\",\"tags\":[]}},{\"type\":\"LinearAxis\",\"id\":\"c9dfafc9-be3b-4791-c7eb-fbfae9d0b2dd\",\"attributes\":{\"doc\":null,\"ticker\":{\"type\":\"BasicTicker\",\"id\":\"2f35aae6-9d4e-4853-c877-212435d1da46\"},\"tags\":[],\"formatter\":{\"type\":\"BasicTickFormatter\",\"id\":\"6cbba5ca-aa9f-4b8c-cbaf-3cbf02985ed3\"},\"axis_label\":\"Scaled number of iterations\",\"id\":\"c9dfafc9-be3b-4791-c7eb-fbfae9d0b2dd\",\"plot\":{\"type\":\"Plot\",\"id\":\"fb6d1801-de73-4970-c9ac-058d5068c87e\",\"subtype\":\"Figure\"}}},{\"type\":\"Grid\",\"id\":\"6be908a1-7ed4-4490-c4c7-008649a1cf10\",\"attributes\":{\"doc\":null,\"dimension\":0,\"tags\":[],\"ticker\":{\"type\":\"BasicTicker\",\"id\":\"2f35aae6-9d4e-4853-c877-212435d1da46\"},\"id\":\"6be908a1-7ed4-4490-c4c7-008649a1cf10\",\"plot\":{\"type\":\"Plot\",\"id\":\"fb6d1801-de73-4970-c9ac-058d5068c87e\",\"subtype\":\"Figure\"}}},{\"type\":\"BasicTickFormatter\",\"id\":\"ce698aaa-805b-4282-c2a0-ecf37a6e870c\",\"attributes\":{\"doc\":null,\"id\":\"ce698aaa-805b-4282-c2a0-ecf37a6e870c\",\"tags\":[]}},{\"type\":\"BasicTicker\",\"id\":\"20b64522-c2c9-4873-c836-577492cdeb29\",\"attributes\":{\"doc\":null,\"num_minor_ticks\":5,\"id\":\"20b64522-c2c9-4873-c836-577492cdeb29\",\"tags\":[]}},{\"type\":\"LinearAxis\",\"id\":\"92fe1663-a657-4035-c0d0-a36f0c483a5d\",\"attributes\":{\"doc\":null,\"ticker\":{\"type\":\"BasicTicker\",\"id\":\"20b64522-c2c9-4873-c836-577492cdeb29\"},\"tags\":[],\"formatter\":{\"type\":\"BasicTickFormatter\",\"id\":\"ce698aaa-805b-4282-c2a0-ecf37a6e870c\"},\"axis_label\":\"Exploitability\",\"id\":\"92fe1663-a657-4035-c0d0-a36f0c483a5d\",\"plot\":{\"type\":\"Plot\",\"id\":\"fb6d1801-de73-4970-c9ac-058d5068c87e\",\"subtype\":\"Figure\"}}},{\"type\":\"Grid\",\"id\":\"4d832f56-3fd6-4b89-cb62-fc152a1c2e44\",\"attributes\":{\"doc\":null,\"dimension\":1,\"tags\":[],\"ticker\":{\"type\":\"BasicTicker\",\"id\":\"20b64522-c2c9-4873-c836-577492cdeb29\"},\"id\":\"4d832f56-3fd6-4b89-cb62-fc152a1c2e44\",\"plot\":{\"type\":\"Plot\",\"id\":\"fb6d1801-de73-4970-c9ac-058d5068c87e\",\"subtype\":\"Figure\"}}},{\"type\":\"PanTool\",\"id\":\"e38ec0e6-48e6-493d-c9cf-cfd41e6eedbd\",\"attributes\":{\"doc\":null,\"dimensions\":[\"width\",\"height\"],\"tags\":[],\"id\":\"e38ec0e6-48e6-493d-c9cf-cfd41e6eedbd\",\"plot\":{\"type\":\"Plot\",\"id\":\"fb6d1801-de73-4970-c9ac-058d5068c87e\",\"subtype\":\"Figure\"}}},{\"type\":\"WheelZoomTool\",\"id\":\"c3385696-94de-41ae-c172-fe2eb191cd70\",\"attributes\":{\"doc\":null,\"dimensions\":[\"width\",\"height\"],\"tags\":[],\"id\":\"c3385696-94de-41ae-c172-fe2eb191cd70\",\"plot\":{\"type\":\"Plot\",\"id\":\"fb6d1801-de73-4970-c9ac-058d5068c87e\",\"subtype\":\"Figure\"}}},{\"type\":\"BoxZoomTool\",\"id\":\"4577716c-cb55-47ea-c722-c72553f38a62\",\"attributes\":{\"doc\":null,\"plot\":{\"type\":\"Plot\",\"id\":\"fb6d1801-de73-4970-c9ac-058d5068c87e\",\"subtype\":\"Figure\"},\"id\":\"4577716c-cb55-47ea-c722-c72553f38a62\",\"tags\":[]}},{\"type\":\"PreviewSaveTool\",\"id\":\"22ec61ba-288d-4cdd-cc31-2bdd6239ceeb\",\"attributes\":{\"doc\":null,\"plot\":{\"type\":\"Plot\",\"id\":\"fb6d1801-de73-4970-c9ac-058d5068c87e\",\"subtype\":\"Figure\"},\"id\":\"22ec61ba-288d-4cdd-cc31-2bdd6239ceeb\",\"tags\":[]}},{\"type\":\"ResizeTool\",\"id\":\"158c4247-e7cb-464a-c638-62eec5083a88\",\"attributes\":{\"doc\":null,\"plot\":{\"type\":\"Plot\",\"id\":\"fb6d1801-de73-4970-c9ac-058d5068c87e\",\"subtype\":\"Figure\"},\"id\":\"158c4247-e7cb-464a-c638-62eec5083a88\",\"tags\":[]}},{\"type\":\"ResetTool\",\"id\":\"5699ae76-798e-45c5-c572-e991434bc40f\",\"attributes\":{\"doc\":null,\"plot\":{\"type\":\"Plot\",\"id\":\"fb6d1801-de73-4970-c9ac-058d5068c87e\",\"subtype\":\"Figure\"},\"id\":\"5699ae76-798e-45c5-c572-e991434bc40f\",\"tags\":[]}},{\"type\":\"Legend\",\"id\":\"cb882bd6-ca8d-4b44-cbe2-4dd47399e3e1\",\"attributes\":{\"doc\":null,\"tags\":[],\"legends\":[[\"Original CFR in the paper\",[{\"type\":\"GlyphRenderer\",\"id\":\"ecb8aab3-06c8-42db-c2ca-1e76c0810183\"}]],[\"No Warm start CFR\",[{\"type\":\"GlyphRenderer\",\"id\":\"a52de7cf-d93f-4291-c243-8372e60d5fe9\"}]],[\"Neural Net warm start CFR\",[{\"type\":\"GlyphRenderer\",\"id\":\"669671bc-bd45-45bd-c56c-69d8091de3af\"}]],[\"Warm start with target values\",[{\"type\":\"GlyphRenderer\",\"id\":\"ccd00dcb-1624-4837-c84f-c69b3bf88de2\"}]]],\"id\":\"cb882bd6-ca8d-4b44-cbe2-4dd47399e3e1\",\"plot\":{\"type\":\"Plot\",\"id\":\"fb6d1801-de73-4970-c9ac-058d5068c87e\",\"subtype\":\"Figure\"}}},{\"type\":\"Plot\",\"id\":\"fb6d1801-de73-4970-c9ac-058d5068c87e\",\"attributes\":{\"below\":[{\"type\":\"LinearAxis\",\"id\":\"c9dfafc9-be3b-4791-c7eb-fbfae9d0b2dd\"}],\"extra_x_ranges\":{},\"x_range\":{\"type\":\"DataRange1d\",\"id\":\"90c2a238-396a-4f1a-cf70-edc81ec6d30c\"},\"tool_events\":{\"type\":\"ToolEvents\",\"id\":\"de8269f4-22c7-4cf4-cc8d-43e9c4691774\"},\"right\":[],\"renderers\":[{\"type\":\"GlyphRenderer\",\"id\":\"ecb8aab3-06c8-42db-c2ca-1e76c0810183\"},{\"type\":\"GlyphRenderer\",\"id\":\"a52de7cf-d93f-4291-c243-8372e60d5fe9\"},{\"type\":\"GlyphRenderer\",\"id\":\"669671bc-bd45-45bd-c56c-69d8091de3af\"},{\"type\":\"GlyphRenderer\",\"id\":\"ccd00dcb-1624-4837-c84f-c69b3bf88de2\"},{\"type\":\"LinearAxis\",\"id\":\"c9dfafc9-be3b-4791-c7eb-fbfae9d0b2dd\"},{\"type\":\"Grid\",\"id\":\"6be908a1-7ed4-4490-c4c7-008649a1cf10\"},{\"type\":\"LinearAxis\",\"id\":\"92fe1663-a657-4035-c0d0-a36f0c483a5d\"},{\"type\":\"Grid\",\"id\":\"4d832f56-3fd6-4b89-cb62-fc152a1c2e44\"},{\"type\":\"Legend\",\"id\":\"cb882bd6-ca8d-4b44-cbe2-4dd47399e3e1\"}],\"tools\":[{\"type\":\"PanTool\",\"id\":\"e38ec0e6-48e6-493d-c9cf-cfd41e6eedbd\"},{\"type\":\"WheelZoomTool\",\"id\":\"c3385696-94de-41ae-c172-fe2eb191cd70\"},{\"type\":\"BoxZoomTool\",\"id\":\"4577716c-cb55-47ea-c722-c72553f38a62\"},{\"type\":\"PreviewSaveTool\",\"id\":\"22ec61ba-288d-4cdd-cc31-2bdd6239ceeb\"},{\"type\":\"ResizeTool\",\"id\":\"158c4247-e7cb-464a-c638-62eec5083a88\"},{\"type\":\"ResetTool\",\"id\":\"5699ae76-798e-45c5-c572-e991434bc40f\"}],\"doc\":null,\"title\":\"Exploitability of different strategoes\",\"left\":[{\"type\":\"LinearAxis\",\"id\":\"92fe1663-a657-4035-c0d0-a36f0c483a5d\"}],\"tags\":[],\"above\":[],\"extra_y_ranges\":{},\"id\":\"fb6d1801-de73-4970-c9ac-058d5068c87e\",\"y_range\":{\"type\":\"DataRange1d\",\"id\":\"f5d02d8f-1f13-4a44-ca94-faa314ea24c3\"}}}];\n",
       "      Bokeh.load_models(all_models);\n",
       "      var model = Bokeh.Collections(modeltype).get(modelid);\n",
       "      $(\"#de81e847-c7c5-432d-c35a-42b2c4fed59a\").html(''); // clear any previous plot in window_id\n",
       "      var view = new model.default_view({model: model, el: \"#de81e847-c7c5-432d-c35a-42b2c4fed59a\"});\n",
       "  });\n",
       "    }\n",
       "});\n",
       "</script>\n",
       "<div class=\"plotdiv\" id=\"de81e847-c7c5-432d-c35a-42b2c4fed59a\"></div>\n"
      ]
     },
     "metadata": {},
     "output_type": "display_data"
    }
   ],
   "source": [
    "local num_iter = torch.range(1,exploit_NoW:size(1))\n",
    "local plot = Plot()\n",
    "\n",
    "plot:line(num_iter,exploit_unif2,'black' ,'Original CFR in the paper')\n",
    "plot:line(num_iter,exploit_NoW2,'red' ,'No Warm start CFR')\n",
    "plot:line(num_iter,exploit_NNW2,'blue' ,'Neural Net warm start CFR')\n",
    "plot:line(num_iter,exploit_TargW2,'green' ,'Warm start with target values')\n",
    "plot:legend(true):title('Exploitability of different strategoes')\n",
    "plot:xaxis('Scaled number of iterations'):yaxis('Exploitability'):redraw()\n"
   ]
  },
  {
   "cell_type": "code",
   "execution_count": null,
   "metadata": {
    "collapsed": true
   },
   "outputs": [],
   "source": []
  }
 ],
 "metadata": {
  "kernelspec": {
   "display_name": "iTorch",
   "language": "lua",
   "name": "itorch"
  },
  "language_info": {
   "name": "lua",
   "version": "5.2"
  }
 },
 "nbformat": 4,
 "nbformat_minor": 2
}
