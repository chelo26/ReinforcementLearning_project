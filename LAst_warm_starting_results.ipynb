{
 "cells": [
  {
   "cell_type": "code",
   "execution_count": 1,
   "metadata": {
    "collapsed": true
   },
   "outputs": [],
   "source": [
    "--- Libraries:\n",
    "arguments = require 'Settings.arguments'\n",
    "constants = require 'Settings.constants'\n",
    "card_to_string = require 'Game.card_to_string_conversion'\n",
    "card_tools = require 'Game.card_tools'\n",
    "game_settings = require 'Settings.game_settings'\n",
    "Plot = require 'itorch.Plot'\n",
    "nninit = require 'nninit'\n",
    "require 'torch'\n",
    "require 'math'\n",
    "require 'Tree.tree_builder'\n",
    "require 'Tree.tree_data_generation'\n",
    "require 'Tree.tree_values'\n",
    "require 'Tree.tree_visualiser'\n",
    "require 'nn'\n",
    "require 'Tree.tree_cfr'\n",
    "require 'Tree.tree_cfr2'\n",
    "require 'nngraph'\n",
    "require 'optim'\n",
    "require 'image'\n",
    "require 'NN.strategy_net_builder'\n",
    "require 'NN.strategy_net_trainer'\n",
    "require 'Tree.tree_warm_start'\n",
    "\n",
    "\n"
   ]
  },
  {
   "cell_type": "code",
   "execution_count": 2,
   "metadata": {
    "collapsed": true
   },
   "outputs": [],
   "source": [
    "--- FUNCTIONS\n",
    "--- Comparing with 2000\n",
    "function compare_cfrs(tree_cfr1,tree_cfr2000)\n",
    "    local difference = {}\n",
    "    local table1 = tree_cfr1.total_strategies\n",
    "    local table2 = tree_cfr2000.total_strategies\n",
    "    \n",
    "    for i = 1, #table1 do\n",
    "        difference[i] = torch.sqrt(torch.sum(torch.pow((table1[i] - table2[#table2]),2)))\n",
    "    end\n",
    "    return torch.FloatTensor(difference)\n",
    "end\n",
    "--- Comparing 2000 with itself\n",
    "function get_convergence(tree_cfr)\n",
    "    local difference = {}\n",
    "    local table_cfr = tree_cfr.total_strategies\n",
    "    local end_strategy = table_cfr[#table_cfr]\n",
    "    \n",
    "    for i = 1, #table_cfr do\n",
    "        difference[i] = torch.sqrt(torch.sum(torch.pow((table_cfr[i] - end_strategy),2)))\n",
    "    end\n",
    "    return torch.FloatTensor(difference)\n",
    "end"
   ]
  },
  {
   "cell_type": "code",
   "execution_count": 3,
   "metadata": {
    "collapsed": true
   },
   "outputs": [],
   "source": [
    "--- Create the tree\n",
    "builder = PokerTreeBuilder()\n",
    "--- Parameters for the tree\n",
    "params = {}\n",
    "params.root_node = {}\n",
    "params.root_node.board = card_to_string:string_to_board('')\n",
    "params.root_node.street = 1\n",
    "params.root_node.current_player = constants.players.P1\n",
    "params.root_node.bets = arguments.Tensor{200, 200}\n",
    "--- CFR Solver\n",
    "starting_ranges = arguments.Tensor(constants.players_count, game_settings.card_count)\n",
    "starting_ranges[1]:copy(card_tools:get_uniform_range(params.root_node.board))\n",
    "starting_ranges[2]:copy(card_tools:get_uniform_range(params.root_node.board))"
   ]
  },
  {
   "cell_type": "markdown",
   "metadata": {},
   "source": [
    "### 1. Exploitability for original CFR and modified CFR"
   ]
  },
  {
   "cell_type": "code",
   "execution_count": 4,
   "metadata": {},
   "outputs": [
    {
     "data": {
      "text/plain": [
       "10.468984603882\n"
      ]
     },
     "execution_count": 4,
     "metadata": {},
     "output_type": "execute_result"
    }
   ],
   "source": [
    "--- Building CFR Solver\n",
    "tree100 = builder:build_tree(params)\n",
    "tree100_cfr = TreeCFR()\n",
    "tree100_cfr:run_cfr(tree100, starting_ranges,100)\n",
    "print(tree100.exploitability)"
   ]
  },
  {
   "cell_type": "code",
   "execution_count": 5,
   "metadata": {},
   "outputs": [
    {
     "data": {
      "text/plain": [
       "9.5666027069092\n"
      ]
     },
     "execution_count": 5,
     "metadata": {},
     "output_type": "execute_result"
    }
   ],
   "source": [
    "--- Building CFR Solver\n",
    "tree102 = builder:build_tree(params)\n",
    "tree102_cfr = TreeCFR2()\n",
    "tree102_cfr:run_cfr(tree102, starting_ranges,100)\n",
    "print(tree102.exploitability)"
   ]
  },
  {
   "cell_type": "code",
   "execution_count": 34,
   "metadata": {},
   "outputs": [],
   "source": [
    "exploit_cfr100 = tree100_cfr.exploitability_vec\n",
    "exploit_cfr102 = tree102_cfr.exploitability_vec"
   ]
  },
  {
   "cell_type": "code",
   "execution_count": 35,
   "metadata": {},
   "outputs": [
    {
     "data": {
      "text/html": [
       "<script type=\"text/javascript\">\n",
       "$(function() {\n",
       "    if (typeof (window._bokeh_onload_callbacks) === \"undefined\"){\n",
       "  window._bokeh_onload_callbacks = [];\n",
       "    }\n",
       "    function load_lib(url, callback){\n",
       "  window._bokeh_onload_callbacks.push(callback);\n",
       "  if (window._bokeh_is_loading){\n",
       "      console.log(\"Bokeh: BokehJS is being loaded, scheduling callback at\", new Date());\n",
       "      return null;\n",
       "  }\n",
       "  console.log(\"Bokeh: BokehJS not loaded, scheduling load and callback at\", new Date());\n",
       "  window._bokeh_is_loading = true;\n",
       "  var s = document.createElement('script');\n",
       "  s.src = url;\n",
       "  s.async = true;\n",
       "  s.onreadystatechange = s.onload = function(){\n",
       "      Bokeh.embed.inject_css(\"https://cdn.pydata.org/bokeh-0.7.0.min.css\");\n",
       "      window._bokeh_onload_callbacks.forEach(function(callback){callback()});\n",
       "  };\n",
       "  s.onerror = function(){\n",
       "      console.warn(\"failed to load library \" + url);\n",
       "  };\n",
       "  document.getElementsByTagName(\"head\")[0].appendChild(s);\n",
       "    }\n",
       "\n",
       "    bokehjs_url = \"https://cdn.pydata.org/bokeh-0.7.0.min.js\"\n",
       "\n",
       "    var elt = document.getElementById(\"f15ed5e0-6851-440d-c40d-dd6437c9de72\");\n",
       "    if(elt==null) {\n",
       "  console.log(\"Bokeh: ERROR: autoload.js configured with elementid 'f15ed5e0-6851-440d-c40d-dd6437c9de72'\"\n",
       "        + \"but no matching script tag was found. \")\n",
       "  return false;\n",
       "    }\n",
       "\n",
       "    if(typeof(Bokeh) !== \"undefined\") {\n",
       "  console.log(\"Bokeh: BokehJS loaded, going straight to plotting\");\n",
       "  var modelid = \"4a1c8661-6036-4e4a-ce3d-bc8302119b8c\";\n",
       "  var modeltype = \"Plot\";\n",
       "  var all_models = [{\"attributes\":{\"doc\":null,\"data\":{\"x\":[1,2,3,4,5,6,7,8,9,10,11,12,13,14,15],\"y\":[180,62.563228607178,44.321582794189,36.535919189453,28.797355651855,23.521865844727,20.436218261719,18.710445404053,15.785946846008,15.607656478882,13.597037315369,12.619162559509,11.863741874695,10.715699195862,10.468984603882]},\"column_names\":[\"x\",\"y\"],\"id\":\"75ef4de7-6fdb-4f4c-cfd2-349b6b5f1238\",\"discrete_ranges\":{},\"cont_ranges\":{},\"tags\":[],\"selected\":[]},\"type\":\"ColumnDataSource\",\"id\":\"75ef4de7-6fdb-4f4c-cfd2-349b6b5f1238\"},{\"attributes\":{\"x\":{\"units\":\"data\",\"field\":\"x\"},\"y\":{\"units\":\"data\",\"field\":\"y\"},\"fill_alpha\":{\"units\":\"data\",\"value\":0.2},\"tags\":[],\"line_color\":{\"value\":\"red\"},\"doc\":null,\"id\":\"53bf55d4-2fb7-4101-c116-e8e6989a7004\",\"fill_color\":{\"value\":\"red\"},\"size\":{\"units\":\"screen\",\"value\":10},\"line_alpha\":{\"units\":\"data\",\"value\":1}},\"type\":\"Line\",\"id\":\"53bf55d4-2fb7-4101-c116-e8e6989a7004\"},{\"attributes\":{\"x\":{\"units\":\"data\",\"field\":\"x\"},\"y\":{\"units\":\"data\",\"field\":\"y\"},\"fill_alpha\":{\"units\":\"data\",\"value\":0.2},\"tags\":[],\"line_color\":{\"value\":\"red\"},\"doc\":null,\"id\":\"c9764a7f-a3ef-42ca-c211-5d4a71e4f0ac\",\"fill_color\":{\"value\":\"red\"},\"size\":{\"units\":\"screen\",\"value\":10},\"line_alpha\":{\"units\":\"data\",\"value\":1}},\"type\":\"Line\",\"id\":\"c9764a7f-a3ef-42ca-c211-5d4a71e4f0ac\"},{\"attributes\":{\"glyph\":{\"id\":\"53bf55d4-2fb7-4101-c116-e8e6989a7004\",\"type\":\"Line\"},\"name\":null,\"tags\":[],\"doc\":null,\"server_data_source\":null,\"data_source\":{\"id\":\"75ef4de7-6fdb-4f4c-cfd2-349b6b5f1238\",\"type\":\"ColumnDataSource\"},\"id\":\"0658008c-ed2a-45c6-c559-ae2979a12747\",\"selection_glyph\":null,\"nonselection_glyph\":{\"id\":\"c9764a7f-a3ef-42ca-c211-5d4a71e4f0ac\",\"type\":\"Line\"}},\"type\":\"GlyphRenderer\",\"id\":\"0658008c-ed2a-45c6-c559-ae2979a12747\"},{\"attributes\":{\"doc\":null,\"data\":{\"x\":[1,2,3,4,5,6,7,8,9,10,11,12,13,14,15],\"y\":[180,53.434875488281,40.648181915283,32.29606628418,26.654033660889,21.550388336182,18.479387283325,16.989151000977,14.485082626343,14.224984169006,12.429265022278,11.581164360046,10.793830871582,9.9014234542847,9.5666027069092]},\"column_names\":[\"x\",\"y\"],\"id\":\"a8fd77f5-5384-4fd0-cfda-a95ab10f2572\",\"discrete_ranges\":{},\"cont_ranges\":{},\"tags\":[],\"selected\":[]},\"type\":\"ColumnDataSource\",\"id\":\"a8fd77f5-5384-4fd0-cfda-a95ab10f2572\"},{\"attributes\":{\"x\":{\"units\":\"data\",\"field\":\"x\"},\"y\":{\"units\":\"data\",\"field\":\"y\"},\"fill_alpha\":{\"units\":\"data\",\"value\":0.2},\"tags\":[],\"line_color\":{\"value\":\"blue\"},\"doc\":null,\"id\":\"73899894-7e4f-4c65-cc4d-136ac3b5bed8\",\"fill_color\":{\"value\":\"blue\"},\"size\":{\"units\":\"screen\",\"value\":10},\"line_alpha\":{\"units\":\"data\",\"value\":1}},\"type\":\"Line\",\"id\":\"73899894-7e4f-4c65-cc4d-136ac3b5bed8\"},{\"attributes\":{\"x\":{\"units\":\"data\",\"field\":\"x\"},\"y\":{\"units\":\"data\",\"field\":\"y\"},\"fill_alpha\":{\"units\":\"data\",\"value\":0.2},\"tags\":[],\"line_color\":{\"value\":\"blue\"},\"doc\":null,\"id\":\"9a9fbe92-4265-44f4-c46a-41cbd1346743\",\"fill_color\":{\"value\":\"blue\"},\"size\":{\"units\":\"screen\",\"value\":10},\"line_alpha\":{\"units\":\"data\",\"value\":1}},\"type\":\"Line\",\"id\":\"9a9fbe92-4265-44f4-c46a-41cbd1346743\"},{\"attributes\":{\"glyph\":{\"id\":\"73899894-7e4f-4c65-cc4d-136ac3b5bed8\",\"type\":\"Line\"},\"name\":null,\"tags\":[],\"doc\":null,\"server_data_source\":null,\"data_source\":{\"id\":\"a8fd77f5-5384-4fd0-cfda-a95ab10f2572\",\"type\":\"ColumnDataSource\"},\"id\":\"157c08fd-d18a-4cbf-cc83-5e3ee7cf6161\",\"selection_glyph\":null,\"nonselection_glyph\":{\"id\":\"9a9fbe92-4265-44f4-c46a-41cbd1346743\",\"type\":\"Line\"}},\"type\":\"GlyphRenderer\",\"id\":\"157c08fd-d18a-4cbf-cc83-5e3ee7cf6161\"},{\"attributes\":{\"doc\":null,\"sources\":[{\"columns\":[\"x\"],\"source\":{\"type\":\"ColumnDataSource\",\"id\":\"75ef4de7-6fdb-4f4c-cfd2-349b6b5f1238\"}},{\"columns\":[\"x\"],\"source\":{\"type\":\"ColumnDataSource\",\"id\":\"a8fd77f5-5384-4fd0-cfda-a95ab10f2572\"}}],\"tags\":[],\"id\":\"2e33f8ee-b9fa-487b-c88d-8ea7122617e1\"},\"type\":\"DataRange1d\",\"id\":\"2e33f8ee-b9fa-487b-c88d-8ea7122617e1\"},{\"attributes\":{\"doc\":null,\"sources\":[{\"columns\":[\"y\"],\"source\":{\"type\":\"ColumnDataSource\",\"id\":\"75ef4de7-6fdb-4f4c-cfd2-349b6b5f1238\"}},{\"columns\":[\"y\"],\"source\":{\"type\":\"ColumnDataSource\",\"id\":\"a8fd77f5-5384-4fd0-cfda-a95ab10f2572\"}}],\"tags\":[],\"id\":\"d6fda786-5cc8-4418-c435-d83ff02901f2\"},\"type\":\"DataRange1d\",\"id\":\"d6fda786-5cc8-4418-c435-d83ff02901f2\"},{\"attributes\":{\"doc\":null,\"geometries\":[],\"tags\":[],\"id\":\"8bf02db3-d108-4bba-cb6f-081679f49fcd\"},\"type\":\"ToolEvents\",\"id\":\"8bf02db3-d108-4bba-cb6f-081679f49fcd\"},{\"attributes\":{\"doc\":null,\"tags\":[],\"id\":\"16fbfa61-52e8-4afe-ca8e-e138286948fe\"},\"type\":\"BasicTickFormatter\",\"id\":\"16fbfa61-52e8-4afe-ca8e-e138286948fe\"},{\"attributes\":{\"doc\":null,\"num_minor_ticks\":5,\"tags\":[],\"id\":\"750da339-4ddf-47cd-c726-687c1ff23766\"},\"type\":\"BasicTicker\",\"id\":\"750da339-4ddf-47cd-c726-687c1ff23766\"},{\"attributes\":{\"doc\":null,\"formatter\":{\"id\":\"16fbfa61-52e8-4afe-ca8e-e138286948fe\",\"type\":\"BasicTickFormatter\"},\"axis_label\":\"Scaled number of iterations\",\"id\":\"67604964-bc7c-4d99-cd2d-bace7ec51e64\",\"plot\":{\"type\":\"Plot\",\"id\":\"4a1c8661-6036-4e4a-ce3d-bc8302119b8c\",\"subtype\":\"Figure\"},\"tags\":[],\"ticker\":{\"id\":\"750da339-4ddf-47cd-c726-687c1ff23766\",\"type\":\"BasicTicker\"}},\"type\":\"LinearAxis\",\"id\":\"67604964-bc7c-4d99-cd2d-bace7ec51e64\"},{\"attributes\":{\"doc\":null,\"id\":\"185e2524-24f1-49a0-c9ed-c7168cc3889e\",\"plot\":{\"type\":\"Plot\",\"id\":\"4a1c8661-6036-4e4a-ce3d-bc8302119b8c\",\"subtype\":\"Figure\"},\"ticker\":{\"id\":\"750da339-4ddf-47cd-c726-687c1ff23766\",\"type\":\"BasicTicker\"},\"tags\":[],\"dimension\":0},\"type\":\"Grid\",\"id\":\"185e2524-24f1-49a0-c9ed-c7168cc3889e\"},{\"attributes\":{\"doc\":null,\"tags\":[],\"id\":\"b71fd490-2a55-4738-c73c-27cca4aaa6c2\"},\"type\":\"BasicTickFormatter\",\"id\":\"b71fd490-2a55-4738-c73c-27cca4aaa6c2\"},{\"attributes\":{\"doc\":null,\"num_minor_ticks\":5,\"tags\":[],\"id\":\"ca35b90e-313d-477e-c7c8-0d6ecbe881e8\"},\"type\":\"BasicTicker\",\"id\":\"ca35b90e-313d-477e-c7c8-0d6ecbe881e8\"},{\"attributes\":{\"doc\":null,\"formatter\":{\"id\":\"b71fd490-2a55-4738-c73c-27cca4aaa6c2\",\"type\":\"BasicTickFormatter\"},\"axis_label\":\"Exploitability\",\"id\":\"47ff1a77-1fcc-4a08-ca4b-7dbf24bfa8b4\",\"plot\":{\"type\":\"Plot\",\"id\":\"4a1c8661-6036-4e4a-ce3d-bc8302119b8c\",\"subtype\":\"Figure\"},\"tags\":[],\"ticker\":{\"id\":\"ca35b90e-313d-477e-c7c8-0d6ecbe881e8\",\"type\":\"BasicTicker\"}},\"type\":\"LinearAxis\",\"id\":\"47ff1a77-1fcc-4a08-ca4b-7dbf24bfa8b4\"},{\"attributes\":{\"doc\":null,\"id\":\"8b7d3b83-7f6f-4e50-ce16-609c26d30d34\",\"plot\":{\"type\":\"Plot\",\"id\":\"4a1c8661-6036-4e4a-ce3d-bc8302119b8c\",\"subtype\":\"Figure\"},\"ticker\":{\"id\":\"ca35b90e-313d-477e-c7c8-0d6ecbe881e8\",\"type\":\"BasicTicker\"},\"tags\":[],\"dimension\":1},\"type\":\"Grid\",\"id\":\"8b7d3b83-7f6f-4e50-ce16-609c26d30d34\"},{\"attributes\":{\"doc\":null,\"id\":\"54ace45d-c21c-4614-c6b3-f25d26159ded\",\"plot\":{\"type\":\"Plot\",\"id\":\"4a1c8661-6036-4e4a-ce3d-bc8302119b8c\",\"subtype\":\"Figure\"},\"tags\":[],\"dimensions\":[\"width\",\"height\"]},\"type\":\"PanTool\",\"id\":\"54ace45d-c21c-4614-c6b3-f25d26159ded\"},{\"attributes\":{\"doc\":null,\"id\":\"4716584c-7a12-4ffa-cfb0-f8b1bc3a806c\",\"plot\":{\"type\":\"Plot\",\"id\":\"4a1c8661-6036-4e4a-ce3d-bc8302119b8c\",\"subtype\":\"Figure\"},\"tags\":[],\"dimensions\":[\"width\",\"height\"]},\"type\":\"WheelZoomTool\",\"id\":\"4716584c-7a12-4ffa-cfb0-f8b1bc3a806c\"},{\"attributes\":{\"doc\":null,\"plot\":{\"type\":\"Plot\",\"id\":\"4a1c8661-6036-4e4a-ce3d-bc8302119b8c\",\"subtype\":\"Figure\"},\"tags\":[],\"id\":\"c894d49c-4258-4264-c235-51b8081a2abc\"},\"type\":\"BoxZoomTool\",\"id\":\"c894d49c-4258-4264-c235-51b8081a2abc\"},{\"attributes\":{\"doc\":null,\"plot\":{\"type\":\"Plot\",\"id\":\"4a1c8661-6036-4e4a-ce3d-bc8302119b8c\",\"subtype\":\"Figure\"},\"tags\":[],\"id\":\"7b7316df-7906-46ea-c664-328a4592a288\"},\"type\":\"PreviewSaveTool\",\"id\":\"7b7316df-7906-46ea-c664-328a4592a288\"},{\"attributes\":{\"doc\":null,\"plot\":{\"type\":\"Plot\",\"id\":\"4a1c8661-6036-4e4a-ce3d-bc8302119b8c\",\"subtype\":\"Figure\"},\"tags\":[],\"id\":\"f1b9268e-9c75-4d44-cdb6-0e3f9ab6e0cf\"},\"type\":\"ResizeTool\",\"id\":\"f1b9268e-9c75-4d44-cdb6-0e3f9ab6e0cf\"},{\"attributes\":{\"doc\":null,\"plot\":{\"type\":\"Plot\",\"id\":\"4a1c8661-6036-4e4a-ce3d-bc8302119b8c\",\"subtype\":\"Figure\"},\"tags\":[],\"id\":\"5fafd818-f9fc-47a6-c70e-78f47324a36f\"},\"type\":\"ResetTool\",\"id\":\"5fafd818-f9fc-47a6-c70e-78f47324a36f\"},{\"attributes\":{\"doc\":null,\"id\":\"0776a955-5261-44da-c492-ad62608be40d\",\"plot\":{\"type\":\"Plot\",\"id\":\"4a1c8661-6036-4e4a-ce3d-bc8302119b8c\",\"subtype\":\"Figure\"},\"tags\":[],\"legends\":[[\"Original\",[{\"id\":\"0658008c-ed2a-45c6-c559-ae2979a12747\",\"type\":\"GlyphRenderer\"}]],[\"New CFR\",[{\"id\":\"157c08fd-d18a-4cbf-cc83-5e3ee7cf6161\",\"type\":\"GlyphRenderer\"}]]]},\"type\":\"Legend\",\"id\":\"0776a955-5261-44da-c492-ad62608be40d\"},{\"attributes\":{\"title\":\"Exploitability of different strategies, 800 iterations\",\"renderers\":[{\"id\":\"0658008c-ed2a-45c6-c559-ae2979a12747\",\"type\":\"GlyphRenderer\"},{\"id\":\"157c08fd-d18a-4cbf-cc83-5e3ee7cf6161\",\"type\":\"GlyphRenderer\"},{\"id\":\"67604964-bc7c-4d99-cd2d-bace7ec51e64\",\"type\":\"LinearAxis\"},{\"id\":\"185e2524-24f1-49a0-c9ed-c7168cc3889e\",\"type\":\"Grid\"},{\"id\":\"47ff1a77-1fcc-4a08-ca4b-7dbf24bfa8b4\",\"type\":\"LinearAxis\"},{\"id\":\"8b7d3b83-7f6f-4e50-ce16-609c26d30d34\",\"type\":\"Grid\"},{\"id\":\"0776a955-5261-44da-c492-ad62608be40d\",\"type\":\"Legend\"}],\"extra_y_ranges\":{},\"tools\":[{\"id\":\"54ace45d-c21c-4614-c6b3-f25d26159ded\",\"type\":\"PanTool\"},{\"id\":\"4716584c-7a12-4ffa-cfb0-f8b1bc3a806c\",\"type\":\"WheelZoomTool\"},{\"id\":\"c894d49c-4258-4264-c235-51b8081a2abc\",\"type\":\"BoxZoomTool\"},{\"id\":\"7b7316df-7906-46ea-c664-328a4592a288\",\"type\":\"PreviewSaveTool\"},{\"id\":\"f1b9268e-9c75-4d44-cdb6-0e3f9ab6e0cf\",\"type\":\"ResizeTool\"},{\"id\":\"5fafd818-f9fc-47a6-c70e-78f47324a36f\",\"type\":\"ResetTool\"}],\"extra_x_ranges\":{},\"tags\":[],\"tool_events\":{\"id\":\"8bf02db3-d108-4bba-cb6f-081679f49fcd\",\"type\":\"ToolEvents\"},\"doc\":null,\"right\":[],\"below\":[{\"id\":\"67604964-bc7c-4d99-cd2d-bace7ec51e64\",\"type\":\"LinearAxis\"}],\"id\":\"4a1c8661-6036-4e4a-ce3d-bc8302119b8c\",\"x_range\":{\"id\":\"2e33f8ee-b9fa-487b-c88d-8ea7122617e1\",\"type\":\"DataRange1d\"},\"y_range\":{\"id\":\"d6fda786-5cc8-4418-c435-d83ff02901f2\",\"type\":\"DataRange1d\"},\"above\":[],\"left\":[{\"id\":\"47ff1a77-1fcc-4a08-ca4b-7dbf24bfa8b4\",\"type\":\"LinearAxis\"}]},\"type\":\"Plot\",\"id\":\"4a1c8661-6036-4e4a-ce3d-bc8302119b8c\"}];\n",
       "  Bokeh.load_models(all_models);\n",
       "  var model = Bokeh.Collections(modeltype).get(modelid);\n",
       "  $(\"#f15ed5e0-6851-440d-c40d-dd6437c9de72\").html(''); // clear any previous plot in window_id\n",
       "  var view = new model.default_view({model: model, el: \"#f15ed5e0-6851-440d-c40d-dd6437c9de72\"});\n",
       "    } else {\n",
       "  load_lib(bokehjs_url, function() {\n",
       "      console.log(\"Bokeh: BokehJS plotting callback run at\", new Date())\n",
       "      var modelid = \"4a1c8661-6036-4e4a-ce3d-bc8302119b8c\";\n",
       "      var modeltype = \"Plot\";\n",
       "      var all_models = [{\"attributes\":{\"doc\":null,\"data\":{\"x\":[1,2,3,4,5,6,7,8,9,10,11,12,13,14,15],\"y\":[180,62.563228607178,44.321582794189,36.535919189453,28.797355651855,23.521865844727,20.436218261719,18.710445404053,15.785946846008,15.607656478882,13.597037315369,12.619162559509,11.863741874695,10.715699195862,10.468984603882]},\"column_names\":[\"x\",\"y\"],\"id\":\"75ef4de7-6fdb-4f4c-cfd2-349b6b5f1238\",\"discrete_ranges\":{},\"cont_ranges\":{},\"tags\":[],\"selected\":[]},\"type\":\"ColumnDataSource\",\"id\":\"75ef4de7-6fdb-4f4c-cfd2-349b6b5f1238\"},{\"attributes\":{\"x\":{\"units\":\"data\",\"field\":\"x\"},\"y\":{\"units\":\"data\",\"field\":\"y\"},\"fill_alpha\":{\"units\":\"data\",\"value\":0.2},\"tags\":[],\"line_color\":{\"value\":\"red\"},\"doc\":null,\"id\":\"53bf55d4-2fb7-4101-c116-e8e6989a7004\",\"fill_color\":{\"value\":\"red\"},\"size\":{\"units\":\"screen\",\"value\":10},\"line_alpha\":{\"units\":\"data\",\"value\":1}},\"type\":\"Line\",\"id\":\"53bf55d4-2fb7-4101-c116-e8e6989a7004\"},{\"attributes\":{\"x\":{\"units\":\"data\",\"field\":\"x\"},\"y\":{\"units\":\"data\",\"field\":\"y\"},\"fill_alpha\":{\"units\":\"data\",\"value\":0.2},\"tags\":[],\"line_color\":{\"value\":\"red\"},\"doc\":null,\"id\":\"c9764a7f-a3ef-42ca-c211-5d4a71e4f0ac\",\"fill_color\":{\"value\":\"red\"},\"size\":{\"units\":\"screen\",\"value\":10},\"line_alpha\":{\"units\":\"data\",\"value\":1}},\"type\":\"Line\",\"id\":\"c9764a7f-a3ef-42ca-c211-5d4a71e4f0ac\"},{\"attributes\":{\"glyph\":{\"id\":\"53bf55d4-2fb7-4101-c116-e8e6989a7004\",\"type\":\"Line\"},\"name\":null,\"tags\":[],\"doc\":null,\"server_data_source\":null,\"data_source\":{\"id\":\"75ef4de7-6fdb-4f4c-cfd2-349b6b5f1238\",\"type\":\"ColumnDataSource\"},\"id\":\"0658008c-ed2a-45c6-c559-ae2979a12747\",\"selection_glyph\":null,\"nonselection_glyph\":{\"id\":\"c9764a7f-a3ef-42ca-c211-5d4a71e4f0ac\",\"type\":\"Line\"}},\"type\":\"GlyphRenderer\",\"id\":\"0658008c-ed2a-45c6-c559-ae2979a12747\"},{\"attributes\":{\"doc\":null,\"data\":{\"x\":[1,2,3,4,5,6,7,8,9,10,11,12,13,14,15],\"y\":[180,53.434875488281,40.648181915283,32.29606628418,26.654033660889,21.550388336182,18.479387283325,16.989151000977,14.485082626343,14.224984169006,12.429265022278,11.581164360046,10.793830871582,9.9014234542847,9.5666027069092]},\"column_names\":[\"x\",\"y\"],\"id\":\"a8fd77f5-5384-4fd0-cfda-a95ab10f2572\",\"discrete_ranges\":{},\"cont_ranges\":{},\"tags\":[],\"selected\":[]},\"type\":\"ColumnDataSource\",\"id\":\"a8fd77f5-5384-4fd0-cfda-a95ab10f2572\"},{\"attributes\":{\"x\":{\"units\":\"data\",\"field\":\"x\"},\"y\":{\"units\":\"data\",\"field\":\"y\"},\"fill_alpha\":{\"units\":\"data\",\"value\":0.2},\"tags\":[],\"line_color\":{\"value\":\"blue\"},\"doc\":null,\"id\":\"73899894-7e4f-4c65-cc4d-136ac3b5bed8\",\"fill_color\":{\"value\":\"blue\"},\"size\":{\"units\":\"screen\",\"value\":10},\"line_alpha\":{\"units\":\"data\",\"value\":1}},\"type\":\"Line\",\"id\":\"73899894-7e4f-4c65-cc4d-136ac3b5bed8\"},{\"attributes\":{\"x\":{\"units\":\"data\",\"field\":\"x\"},\"y\":{\"units\":\"data\",\"field\":\"y\"},\"fill_alpha\":{\"units\":\"data\",\"value\":0.2},\"tags\":[],\"line_color\":{\"value\":\"blue\"},\"doc\":null,\"id\":\"9a9fbe92-4265-44f4-c46a-41cbd1346743\",\"fill_color\":{\"value\":\"blue\"},\"size\":{\"units\":\"screen\",\"value\":10},\"line_alpha\":{\"units\":\"data\",\"value\":1}},\"type\":\"Line\",\"id\":\"9a9fbe92-4265-44f4-c46a-41cbd1346743\"},{\"attributes\":{\"glyph\":{\"id\":\"73899894-7e4f-4c65-cc4d-136ac3b5bed8\",\"type\":\"Line\"},\"name\":null,\"tags\":[],\"doc\":null,\"server_data_source\":null,\"data_source\":{\"id\":\"a8fd77f5-5384-4fd0-cfda-a95ab10f2572\",\"type\":\"ColumnDataSource\"},\"id\":\"157c08fd-d18a-4cbf-cc83-5e3ee7cf6161\",\"selection_glyph\":null,\"nonselection_glyph\":{\"id\":\"9a9fbe92-4265-44f4-c46a-41cbd1346743\",\"type\":\"Line\"}},\"type\":\"GlyphRenderer\",\"id\":\"157c08fd-d18a-4cbf-cc83-5e3ee7cf6161\"},{\"attributes\":{\"doc\":null,\"sources\":[{\"columns\":[\"x\"],\"source\":{\"type\":\"ColumnDataSource\",\"id\":\"75ef4de7-6fdb-4f4c-cfd2-349b6b5f1238\"}},{\"columns\":[\"x\"],\"source\":{\"type\":\"ColumnDataSource\",\"id\":\"a8fd77f5-5384-4fd0-cfda-a95ab10f2572\"}}],\"tags\":[],\"id\":\"2e33f8ee-b9fa-487b-c88d-8ea7122617e1\"},\"type\":\"DataRange1d\",\"id\":\"2e33f8ee-b9fa-487b-c88d-8ea7122617e1\"},{\"attributes\":{\"doc\":null,\"sources\":[{\"columns\":[\"y\"],\"source\":{\"type\":\"ColumnDataSource\",\"id\":\"75ef4de7-6fdb-4f4c-cfd2-349b6b5f1238\"}},{\"columns\":[\"y\"],\"source\":{\"type\":\"ColumnDataSource\",\"id\":\"a8fd77f5-5384-4fd0-cfda-a95ab10f2572\"}}],\"tags\":[],\"id\":\"d6fda786-5cc8-4418-c435-d83ff02901f2\"},\"type\":\"DataRange1d\",\"id\":\"d6fda786-5cc8-4418-c435-d83ff02901f2\"},{\"attributes\":{\"doc\":null,\"geometries\":[],\"tags\":[],\"id\":\"8bf02db3-d108-4bba-cb6f-081679f49fcd\"},\"type\":\"ToolEvents\",\"id\":\"8bf02db3-d108-4bba-cb6f-081679f49fcd\"},{\"attributes\":{\"doc\":null,\"tags\":[],\"id\":\"16fbfa61-52e8-4afe-ca8e-e138286948fe\"},\"type\":\"BasicTickFormatter\",\"id\":\"16fbfa61-52e8-4afe-ca8e-e138286948fe\"},{\"attributes\":{\"doc\":null,\"num_minor_ticks\":5,\"tags\":[],\"id\":\"750da339-4ddf-47cd-c726-687c1ff23766\"},\"type\":\"BasicTicker\",\"id\":\"750da339-4ddf-47cd-c726-687c1ff23766\"},{\"attributes\":{\"doc\":null,\"formatter\":{\"id\":\"16fbfa61-52e8-4afe-ca8e-e138286948fe\",\"type\":\"BasicTickFormatter\"},\"axis_label\":\"Scaled number of iterations\",\"id\":\"67604964-bc7c-4d99-cd2d-bace7ec51e64\",\"plot\":{\"type\":\"Plot\",\"id\":\"4a1c8661-6036-4e4a-ce3d-bc8302119b8c\",\"subtype\":\"Figure\"},\"tags\":[],\"ticker\":{\"id\":\"750da339-4ddf-47cd-c726-687c1ff23766\",\"type\":\"BasicTicker\"}},\"type\":\"LinearAxis\",\"id\":\"67604964-bc7c-4d99-cd2d-bace7ec51e64\"},{\"attributes\":{\"doc\":null,\"id\":\"185e2524-24f1-49a0-c9ed-c7168cc3889e\",\"plot\":{\"type\":\"Plot\",\"id\":\"4a1c8661-6036-4e4a-ce3d-bc8302119b8c\",\"subtype\":\"Figure\"},\"ticker\":{\"id\":\"750da339-4ddf-47cd-c726-687c1ff23766\",\"type\":\"BasicTicker\"},\"tags\":[],\"dimension\":0},\"type\":\"Grid\",\"id\":\"185e2524-24f1-49a0-c9ed-c7168cc3889e\"},{\"attributes\":{\"doc\":null,\"tags\":[],\"id\":\"b71fd490-2a55-4738-c73c-27cca4aaa6c2\"},\"type\":\"BasicTickFormatter\",\"id\":\"b71fd490-2a55-4738-c73c-27cca4aaa6c2\"},{\"attributes\":{\"doc\":null,\"num_minor_ticks\":5,\"tags\":[],\"id\":\"ca35b90e-313d-477e-c7c8-0d6ecbe881e8\"},\"type\":\"BasicTicker\",\"id\":\"ca35b90e-313d-477e-c7c8-0d6ecbe881e8\"},{\"attributes\":{\"doc\":null,\"formatter\":{\"id\":\"b71fd490-2a55-4738-c73c-27cca4aaa6c2\",\"type\":\"BasicTickFormatter\"},\"axis_label\":\"Exploitability\",\"id\":\"47ff1a77-1fcc-4a08-ca4b-7dbf24bfa8b4\",\"plot\":{\"type\":\"Plot\",\"id\":\"4a1c8661-6036-4e4a-ce3d-bc8302119b8c\",\"subtype\":\"Figure\"},\"tags\":[],\"ticker\":{\"id\":\"ca35b90e-313d-477e-c7c8-0d6ecbe881e8\",\"type\":\"BasicTicker\"}},\"type\":\"LinearAxis\",\"id\":\"47ff1a77-1fcc-4a08-ca4b-7dbf24bfa8b4\"},{\"attributes\":{\"doc\":null,\"id\":\"8b7d3b83-7f6f-4e50-ce16-609c26d30d34\",\"plot\":{\"type\":\"Plot\",\"id\":\"4a1c8661-6036-4e4a-ce3d-bc8302119b8c\",\"subtype\":\"Figure\"},\"ticker\":{\"id\":\"ca35b90e-313d-477e-c7c8-0d6ecbe881e8\",\"type\":\"BasicTicker\"},\"tags\":[],\"dimension\":1},\"type\":\"Grid\",\"id\":\"8b7d3b83-7f6f-4e50-ce16-609c26d30d34\"},{\"attributes\":{\"doc\":null,\"id\":\"54ace45d-c21c-4614-c6b3-f25d26159ded\",\"plot\":{\"type\":\"Plot\",\"id\":\"4a1c8661-6036-4e4a-ce3d-bc8302119b8c\",\"subtype\":\"Figure\"},\"tags\":[],\"dimensions\":[\"width\",\"height\"]},\"type\":\"PanTool\",\"id\":\"54ace45d-c21c-4614-c6b3-f25d26159ded\"},{\"attributes\":{\"doc\":null,\"id\":\"4716584c-7a12-4ffa-cfb0-f8b1bc3a806c\",\"plot\":{\"type\":\"Plot\",\"id\":\"4a1c8661-6036-4e4a-ce3d-bc8302119b8c\",\"subtype\":\"Figure\"},\"tags\":[],\"dimensions\":[\"width\",\"height\"]},\"type\":\"WheelZoomTool\",\"id\":\"4716584c-7a12-4ffa-cfb0-f8b1bc3a806c\"},{\"attributes\":{\"doc\":null,\"plot\":{\"type\":\"Plot\",\"id\":\"4a1c8661-6036-4e4a-ce3d-bc8302119b8c\",\"subtype\":\"Figure\"},\"tags\":[],\"id\":\"c894d49c-4258-4264-c235-51b8081a2abc\"},\"type\":\"BoxZoomTool\",\"id\":\"c894d49c-4258-4264-c235-51b8081a2abc\"},{\"attributes\":{\"doc\":null,\"plot\":{\"type\":\"Plot\",\"id\":\"4a1c8661-6036-4e4a-ce3d-bc8302119b8c\",\"subtype\":\"Figure\"},\"tags\":[],\"id\":\"7b7316df-7906-46ea-c664-328a4592a288\"},\"type\":\"PreviewSaveTool\",\"id\":\"7b7316df-7906-46ea-c664-328a4592a288\"},{\"attributes\":{\"doc\":null,\"plot\":{\"type\":\"Plot\",\"id\":\"4a1c8661-6036-4e4a-ce3d-bc8302119b8c\",\"subtype\":\"Figure\"},\"tags\":[],\"id\":\"f1b9268e-9c75-4d44-cdb6-0e3f9ab6e0cf\"},\"type\":\"ResizeTool\",\"id\":\"f1b9268e-9c75-4d44-cdb6-0e3f9ab6e0cf\"},{\"attributes\":{\"doc\":null,\"plot\":{\"type\":\"Plot\",\"id\":\"4a1c8661-6036-4e4a-ce3d-bc8302119b8c\",\"subtype\":\"Figure\"},\"tags\":[],\"id\":\"5fafd818-f9fc-47a6-c70e-78f47324a36f\"},\"type\":\"ResetTool\",\"id\":\"5fafd818-f9fc-47a6-c70e-78f47324a36f\"},{\"attributes\":{\"doc\":null,\"id\":\"0776a955-5261-44da-c492-ad62608be40d\",\"plot\":{\"type\":\"Plot\",\"id\":\"4a1c8661-6036-4e4a-ce3d-bc8302119b8c\",\"subtype\":\"Figure\"},\"tags\":[],\"legends\":[[\"Original\",[{\"id\":\"0658008c-ed2a-45c6-c559-ae2979a12747\",\"type\":\"GlyphRenderer\"}]],[\"New CFR\",[{\"id\":\"157c08fd-d18a-4cbf-cc83-5e3ee7cf6161\",\"type\":\"GlyphRenderer\"}]]]},\"type\":\"Legend\",\"id\":\"0776a955-5261-44da-c492-ad62608be40d\"},{\"attributes\":{\"title\":\"Exploitability of different strategies, 800 iterations\",\"renderers\":[{\"id\":\"0658008c-ed2a-45c6-c559-ae2979a12747\",\"type\":\"GlyphRenderer\"},{\"id\":\"157c08fd-d18a-4cbf-cc83-5e3ee7cf6161\",\"type\":\"GlyphRenderer\"},{\"id\":\"67604964-bc7c-4d99-cd2d-bace7ec51e64\",\"type\":\"LinearAxis\"},{\"id\":\"185e2524-24f1-49a0-c9ed-c7168cc3889e\",\"type\":\"Grid\"},{\"id\":\"47ff1a77-1fcc-4a08-ca4b-7dbf24bfa8b4\",\"type\":\"LinearAxis\"},{\"id\":\"8b7d3b83-7f6f-4e50-ce16-609c26d30d34\",\"type\":\"Grid\"},{\"id\":\"0776a955-5261-44da-c492-ad62608be40d\",\"type\":\"Legend\"}],\"extra_y_ranges\":{},\"tools\":[{\"id\":\"54ace45d-c21c-4614-c6b3-f25d26159ded\",\"type\":\"PanTool\"},{\"id\":\"4716584c-7a12-4ffa-cfb0-f8b1bc3a806c\",\"type\":\"WheelZoomTool\"},{\"id\":\"c894d49c-4258-4264-c235-51b8081a2abc\",\"type\":\"BoxZoomTool\"},{\"id\":\"7b7316df-7906-46ea-c664-328a4592a288\",\"type\":\"PreviewSaveTool\"},{\"id\":\"f1b9268e-9c75-4d44-cdb6-0e3f9ab6e0cf\",\"type\":\"ResizeTool\"},{\"id\":\"5fafd818-f9fc-47a6-c70e-78f47324a36f\",\"type\":\"ResetTool\"}],\"extra_x_ranges\":{},\"tags\":[],\"tool_events\":{\"id\":\"8bf02db3-d108-4bba-cb6f-081679f49fcd\",\"type\":\"ToolEvents\"},\"doc\":null,\"right\":[],\"below\":[{\"id\":\"67604964-bc7c-4d99-cd2d-bace7ec51e64\",\"type\":\"LinearAxis\"}],\"id\":\"4a1c8661-6036-4e4a-ce3d-bc8302119b8c\",\"x_range\":{\"id\":\"2e33f8ee-b9fa-487b-c88d-8ea7122617e1\",\"type\":\"DataRange1d\"},\"y_range\":{\"id\":\"d6fda786-5cc8-4418-c435-d83ff02901f2\",\"type\":\"DataRange1d\"},\"above\":[],\"left\":[{\"id\":\"47ff1a77-1fcc-4a08-ca4b-7dbf24bfa8b4\",\"type\":\"LinearAxis\"}]},\"type\":\"Plot\",\"id\":\"4a1c8661-6036-4e4a-ce3d-bc8302119b8c\"}];\n",
       "      Bokeh.load_models(all_models);\n",
       "      var model = Bokeh.Collections(modeltype).get(modelid);\n",
       "      $(\"#f15ed5e0-6851-440d-c40d-dd6437c9de72\").html(''); // clear any previous plot in window_id\n",
       "      var view = new model.default_view({model: model, el: \"#f15ed5e0-6851-440d-c40d-dd6437c9de72\"});\n",
       "  });\n",
       "    }\n",
       "});\n",
       "</script>\n",
       "<div class=\"plotdiv\" id=\"f15ed5e0-6851-440d-c40d-dd6437c9de72\"></div>\n"
      ]
     },
     "metadata": {},
     "output_type": "display_data"
    }
   ],
   "source": [
    "local num_iter = torch.range(1,exploit_cfr100:size(1))\n",
    "local plot = Plot()\n",
    "\n",
    "plot:line(num_iter,exploit_cfr100,'red' ,'Original')\n",
    "plot:line(num_iter,exploit_cfr102,'blue' ,'New CFR')\n",
    "plot:legend(true):title('Exploitability of different strategies, 800 iterations')\n",
    "plot:xaxis('Scaled number of iterations'):yaxis('Exploitability'):redraw()\n"
   ]
  },
  {
   "cell_type": "markdown",
   "metadata": {},
   "source": [
    "### 2. Exploitability for different Strategies"
   ]
  },
  {
   "cell_type": "code",
   "execution_count": 8,
   "metadata": {
    "collapsed": true
   },
   "outputs": [],
   "source": [
    "number_of_iterations = 800"
   ]
  },
  {
   "cell_type": "code",
   "execution_count": 9,
   "metadata": {},
   "outputs": [],
   "source": [
    "--- Get Data from 2000 iterations\n",
    "tree800 = builder:build_tree(params)\n",
    "tree_data800 = TreeData(tree800)\n",
    "tree800_cfr = TreeCFR()\n",
    "tree800_cfr:run_cfr(tree800, starting_ranges,number_of_iterations)\n",
    "tree_data800:get_training_set(tree800,1)"
   ]
  },
  {
   "cell_type": "markdown",
   "metadata": {},
   "source": [
    "### Training the Model"
   ]
  },
  {
   "cell_type": "code",
   "execution_count": 10,
   "metadata": {
    "collapsed": true
   },
   "outputs": [],
   "source": [
    "-- Building the neural net model\n",
    "strategy_nn = StrategyNN()\n",
    "nn_model = strategy_nn.model\n",
    "-- Building trainer:\n",
    "nn_trainer = NNTrainer(tree_data800,nn_model)\n",
    "-- Options:\n",
    "opt = {}\n",
    "opt.learningRate = 0.001\n",
    "opt.momentum = 0.95\n",
    "opt.validate = false"
   ]
  },
  {
   "cell_type": "code",
   "execution_count": 11,
   "metadata": {
    "collapsed": true
   },
   "outputs": [],
   "source": [
    "current_criterion = nn.SmoothL1Criterion()\n",
    "train_loss,test_loss = nn_trainer:train(nn_model,current_criterion,opt,10000)"
   ]
  },
  {
   "cell_type": "code",
   "execution_count": 12,
   "metadata": {},
   "outputs": [
    {
     "data": {
      "text/plain": [
       "0.22899035201408\n"
      ]
     },
     "execution_count": 12,
     "metadata": {},
     "output_type": "execute_result"
    }
   ],
   "source": [
    "pred_strat = nn_model:forward({nn_trainer.all_data.features,nn_trainer.all_data.masks})\n",
    "true_strat =nn_trainer.all_data.targets\n",
    "print(torch.mean(torch.abs(pred_strat- true_strat)))"
   ]
  },
  {
   "cell_type": "markdown",
   "metadata": {},
   "source": [
    "### No Warm Start"
   ]
  },
  {
   "cell_type": "code",
   "execution_count": 13,
   "metadata": {},
   "outputs": [],
   "source": [
    "--- Building CFR Solver\n",
    "treeNoWarm = builder:build_tree(params)\n",
    "treeNoWarm_cfr = TreeCFR2()\n",
    "treeNoWarm_cfr:run_cfr(treeNoWarm, starting_ranges,number_of_iterations)"
   ]
  },
  {
   "cell_type": "markdown",
   "metadata": {},
   "source": [
    "### Neural Net Start "
   ]
  },
  {
   "cell_type": "code",
   "execution_count": 14,
   "metadata": {},
   "outputs": [],
   "source": [
    "--- NNWarm Starting\n",
    "treeNNWarm = builder:build_tree(params)\n",
    "dataNN = TreeData(treeNNWarm)\n",
    "dataNN:get_training_set(treeNNWarm,1)\n",
    "dataNN:generate_new_initial_strategies(treeNNWarm,nn_trainer)\n",
    "---Warm start the regrets:\n",
    "dataNN:warm_start_regrets(treeNNWarm,tree800)\n",
    "---tree_warm_start = TreeWarmStart()\n",
    "---tree_warm_start:run_warm_start(treeNNWarm, starting_ranges,80)\n",
    "--- Building CFR Solver\n",
    "treeNNWarm_cfr = TreeCFR2()\n",
    "treeNNWarm_cfr:run_cfr(treeNNWarm, starting_ranges,number_of_iterations)"
   ]
  },
  {
   "cell_type": "code",
   "execution_count": 15,
   "metadata": {
    "collapsed": true
   },
   "outputs": [],
   "source": [
    "---tree_warm_start = TreeWarmStart()\n",
    "---tree_warm_start:run_warm_start(treeNNWarm, starting_ranges,80)"
   ]
  },
  {
   "cell_type": "code",
   "execution_count": 16,
   "metadata": {},
   "outputs": [],
   "source": [
    "--- NNWarm Starting\n",
    "treeNN_NoRegWarm = builder:build_tree(params)\n",
    "dataNN_NoReg = TreeData(treeNN_NoRegWarm)\n",
    "dataNN_NoReg:get_training_set(treeNN_NoRegWarm,1)\n",
    "dataNN_NoReg:generate_new_initial_strategies(treeNN_NoRegWarm,nn_trainer)\n",
    "---Warm start the regrets:\n",
    "---dataNN:warm_start_regrets(treeNN_NoRegWarm,tree800)\n",
    "--- Building CFR Solver\n",
    "treeNN_NoRegWarm_cfr = TreeCFR2()\n",
    "treeNN_NoRegWarm_cfr:run_cfr(treeNN_NoRegWarm, starting_ranges,number_of_iterations)"
   ]
  },
  {
   "cell_type": "markdown",
   "metadata": {},
   "source": [
    "### Target Warm Start "
   ]
  },
  {
   "cell_type": "code",
   "execution_count": 17,
   "metadata": {},
   "outputs": [],
   "source": [
    "--- Target Warm Starting\n",
    "treeTarRegWarm = builder:build_tree(params)\n",
    "dataTargReg = TreeData(treeTarRegWarm)\n",
    "---dataTarg:get_training_set(treeTargWarm,1)\n",
    "---dataTarg:warm_start_targets(treeTargWarm,tree800)\n",
    "---dataTarg:warm_start_regrets(treeTargWarm,tree800)\n",
    "---tree_warm_start = TreeWarmStart()\n",
    "---tree_warm_start:run_warm_start(treeTargWarm, starting_ranges,number_of_iterations)\n",
    "dataTargReg:warm_start_targets_and_regrets(treeTarRegWarm,tree800)\n",
    "--- Building CFR Solver\n",
    "treeTarRegWarm_cfr = TreeCFR2()\n",
    "treeTarRegWarm_cfr:run_cfr(treeTarRegWarm, starting_ranges,number_of_iterations)"
   ]
  },
  {
   "cell_type": "code",
   "execution_count": 18,
   "metadata": {},
   "outputs": [],
   "source": [
    "--- Target Warm Starting\n",
    "treeTarWarm = builder:build_tree(params)\n",
    "dataTarg = TreeData(treeTarWarm)\n",
    "dataTarg:warm_start_targets(treeTarWarm,tree800)\n",
    "--- Building CFR Solver\n",
    "treeTarWarm_cfr = TreeCFR2()\n",
    "treeTarWarm_cfr:run_cfr(treeTarWarm, starting_ranges,number_of_iterations)"
   ]
  },
  {
   "cell_type": "code",
   "execution_count": 19,
   "metadata": {},
   "outputs": [],
   "source": [
    "--- Target Warm Starting\n",
    "treeRegWarm = builder:build_tree(params)\n",
    "dataReg = TreeData(treeRegWarm)\n",
    "dataReg:warm_start_regrets(treeRegWarm,tree800)\n",
    "--- Building CFR Solver\n",
    "treeRegWarm_cfr = TreeCFR2()\n",
    "treeRegWarm_cfr:run_cfr(treeRegWarm, starting_ranges,number_of_iterations)"
   ]
  },
  {
   "cell_type": "markdown",
   "metadata": {},
   "source": [
    "### Plot different starts"
   ]
  },
  {
   "cell_type": "code",
   "execution_count": 20,
   "metadata": {
    "collapsed": true
   },
   "outputs": [],
   "source": [
    "exploit_unif = tree800_cfr.exploitability_vec\n",
    "exploit_NoW = treeNoWarm_cfr.exploitability_vec\n",
    "exploit_NNW = treeNNWarm_cfr.exploitability_vec\n",
    "---exploit_NN_NoReg = treeNN_NoRegWarm_cfr.exploitability_vec\n",
    "exploit_TarRegW = treeTarRegWarm_cfr.exploitability_vec\n",
    "exploit_TarW = treeTarWarm_cfr.exploitability_vec\n",
    "exploit_RegW = treeRegWarm_cfr.exploitability_vec"
   ]
  },
  {
   "cell_type": "code",
   "execution_count": 21,
   "metadata": {},
   "outputs": [
    {
     "data": {
      "text/html": [
       "<script type=\"text/javascript\">\n",
       "$(function() {\n",
       "    if (typeof (window._bokeh_onload_callbacks) === \"undefined\"){\n",
       "  window._bokeh_onload_callbacks = [];\n",
       "    }\n",
       "    function load_lib(url, callback){\n",
       "  window._bokeh_onload_callbacks.push(callback);\n",
       "  if (window._bokeh_is_loading){\n",
       "      console.log(\"Bokeh: BokehJS is being loaded, scheduling callback at\", new Date());\n",
       "      return null;\n",
       "  }\n",
       "  console.log(\"Bokeh: BokehJS not loaded, scheduling load and callback at\", new Date());\n",
       "  window._bokeh_is_loading = true;\n",
       "  var s = document.createElement('script');\n",
       "  s.src = url;\n",
       "  s.async = true;\n",
       "  s.onreadystatechange = s.onload = function(){\n",
       "      Bokeh.embed.inject_css(\"https://cdn.pydata.org/bokeh-0.7.0.min.css\");\n",
       "      window._bokeh_onload_callbacks.forEach(function(callback){callback()});\n",
       "  };\n",
       "  s.onerror = function(){\n",
       "      console.warn(\"failed to load library \" + url);\n",
       "  };\n",
       "  document.getElementsByTagName(\"head\")[0].appendChild(s);\n",
       "    }\n",
       "\n",
       "    bokehjs_url = \"https://cdn.pydata.org/bokeh-0.7.0.min.js\"\n",
       "\n",
       "    var elt = document.getElementById(\"a30d91ef-eee2-4c52-cc2c-f729b8fc29a4\");\n",
       "    if(elt==null) {\n",
       "  console.log(\"Bokeh: ERROR: autoload.js configured with elementid 'a30d91ef-eee2-4c52-cc2c-f729b8fc29a4'\"\n",
       "        + \"but no matching script tag was found. \")\n",
       "  return false;\n",
       "    }\n",
       "\n",
       "    if(typeof(Bokeh) !== \"undefined\") {\n",
       "  console.log(\"Bokeh: BokehJS loaded, going straight to plotting\");\n",
       "  var modelid = \"543c73ae-4225-4499-c412-e13337bbc9f5\";\n",
       "  var modeltype = \"Plot\";\n",
       "  var all_models = [{\"attributes\":{\"doc\":null,\"data\":{\"x\":[1,2,3,4,5,6,7,8,9,10,11,12,13,14,15],\"y\":[180,15.661748886108,8.5285968780518,6.1420564651489,4.8337373733521,4.3138008117676,3.6568517684937,3.3066091537476,3.092170715332,2.8121633529663,2.6074485778809,2.4663677215576,2.3445730209351,2.1809225082397,2.0300731658936]},\"column_names\":[\"x\",\"y\"],\"id\":\"b7bd3137-05d6-4237-c245-add50c9fa275\",\"discrete_ranges\":{},\"cont_ranges\":{},\"tags\":[],\"selected\":[]},\"type\":\"ColumnDataSource\",\"id\":\"b7bd3137-05d6-4237-c245-add50c9fa275\"},{\"attributes\":{\"x\":{\"units\":\"data\",\"field\":\"x\"},\"y\":{\"units\":\"data\",\"field\":\"y\"},\"fill_alpha\":{\"units\":\"data\",\"value\":0.2},\"tags\":[],\"line_color\":{\"value\":\"red\"},\"doc\":null,\"id\":\"1cb90469-891a-436f-c33e-54a1608bc414\",\"fill_color\":{\"value\":\"red\"},\"size\":{\"units\":\"screen\",\"value\":10},\"line_alpha\":{\"units\":\"data\",\"value\":1}},\"type\":\"Line\",\"id\":\"1cb90469-891a-436f-c33e-54a1608bc414\"},{\"attributes\":{\"x\":{\"units\":\"data\",\"field\":\"x\"},\"y\":{\"units\":\"data\",\"field\":\"y\"},\"fill_alpha\":{\"units\":\"data\",\"value\":0.2},\"tags\":[],\"line_color\":{\"value\":\"red\"},\"doc\":null,\"id\":\"c30c2f78-d656-4eda-ce47-d0b4e5de692e\",\"fill_color\":{\"value\":\"red\"},\"size\":{\"units\":\"screen\",\"value\":10},\"line_alpha\":{\"units\":\"data\",\"value\":1}},\"type\":\"Line\",\"id\":\"c30c2f78-d656-4eda-ce47-d0b4e5de692e\"},{\"attributes\":{\"glyph\":{\"id\":\"1cb90469-891a-436f-c33e-54a1608bc414\",\"type\":\"Line\"},\"name\":null,\"tags\":[],\"doc\":null,\"server_data_source\":null,\"data_source\":{\"id\":\"b7bd3137-05d6-4237-c245-add50c9fa275\",\"type\":\"ColumnDataSource\"},\"id\":\"8d8759b9-f83c-443c-c4d2-66de9a09c17c\",\"selection_glyph\":null,\"nonselection_glyph\":{\"id\":\"c30c2f78-d656-4eda-ce47-d0b4e5de692e\",\"type\":\"Line\"}},\"type\":\"GlyphRenderer\",\"id\":\"8d8759b9-f83c-443c-c4d2-66de9a09c17c\"},{\"attributes\":{\"doc\":null,\"data\":{\"x\":[1,2,3,4,5,6,7,8,9,10,11,12,13,14,15],\"y\":[155.31634521484,15.852822303772,8.8844537734985,6.5633277893066,5.1736907958984,4.4210443496704,3.8899955749512,3.3822345733643,3.0940942764282,2.8227968215942,2.6216621398926,2.45387840271,2.3121891021729,2.1722726821899,2.0927352905273]},\"column_names\":[\"x\",\"y\"],\"id\":\"fa5aba2a-e04f-4d26-cde8-0597f1d49136\",\"discrete_ranges\":{},\"cont_ranges\":{},\"tags\":[],\"selected\":[]},\"type\":\"ColumnDataSource\",\"id\":\"fa5aba2a-e04f-4d26-cde8-0597f1d49136\"},{\"attributes\":{\"x\":{\"units\":\"data\",\"field\":\"x\"},\"y\":{\"units\":\"data\",\"field\":\"y\"},\"fill_alpha\":{\"units\":\"data\",\"value\":0.2},\"tags\":[],\"line_color\":{\"value\":\"blue\"},\"doc\":null,\"id\":\"0795a427-114e-435e-c308-c11046c55f4d\",\"fill_color\":{\"value\":\"blue\"},\"size\":{\"units\":\"screen\",\"value\":10},\"line_alpha\":{\"units\":\"data\",\"value\":1}},\"type\":\"Line\",\"id\":\"0795a427-114e-435e-c308-c11046c55f4d\"},{\"attributes\":{\"x\":{\"units\":\"data\",\"field\":\"x\"},\"y\":{\"units\":\"data\",\"field\":\"y\"},\"fill_alpha\":{\"units\":\"data\",\"value\":0.2},\"tags\":[],\"line_color\":{\"value\":\"blue\"},\"doc\":null,\"id\":\"5af79fb2-5827-4490-c4b0-ce75bc295303\",\"fill_color\":{\"value\":\"blue\"},\"size\":{\"units\":\"screen\",\"value\":10},\"line_alpha\":{\"units\":\"data\",\"value\":1}},\"type\":\"Line\",\"id\":\"5af79fb2-5827-4490-c4b0-ce75bc295303\"},{\"attributes\":{\"glyph\":{\"id\":\"0795a427-114e-435e-c308-c11046c55f4d\",\"type\":\"Line\"},\"name\":null,\"tags\":[],\"doc\":null,\"server_data_source\":null,\"data_source\":{\"id\":\"fa5aba2a-e04f-4d26-cde8-0597f1d49136\",\"type\":\"ColumnDataSource\"},\"id\":\"70ceee90-9193-4cba-cc82-71798b9526b9\",\"selection_glyph\":null,\"nonselection_glyph\":{\"id\":\"5af79fb2-5827-4490-c4b0-ce75bc295303\",\"type\":\"Line\"}},\"type\":\"GlyphRenderer\",\"id\":\"70ceee90-9193-4cba-cc82-71798b9526b9\"},{\"attributes\":{\"doc\":null,\"data\":{\"x\":[1,2,3,4,5,6,7,8,9,10,11,12,13,14,15],\"y\":[2.1299057006836,2.8772077560425,2.7954654693604,0.88096618652344,0.93127346038818,1.324501991272,0.55014324188232,0.89248943328857,0.61874771118164,0.69593238830566,0.64936447143555,0.63094139099121,0.57739543914795,0.59471988677979,0.47852420806885]},\"column_names\":[\"x\",\"y\"],\"id\":\"86589608-e8c1-4268-c229-b108b12b40f2\",\"discrete_ranges\":{},\"cont_ranges\":{},\"tags\":[],\"selected\":[]},\"type\":\"ColumnDataSource\",\"id\":\"86589608-e8c1-4268-c229-b108b12b40f2\"},{\"attributes\":{\"x\":{\"units\":\"data\",\"field\":\"x\"},\"y\":{\"units\":\"data\",\"field\":\"y\"},\"fill_alpha\":{\"units\":\"data\",\"value\":0.2},\"tags\":[],\"line_color\":{\"value\":\"green\"},\"doc\":null,\"id\":\"bed14955-a7d5-4c70-cc0f-62a48435bcb0\",\"fill_color\":{\"value\":\"green\"},\"size\":{\"units\":\"screen\",\"value\":10},\"line_alpha\":{\"units\":\"data\",\"value\":1}},\"type\":\"Line\",\"id\":\"bed14955-a7d5-4c70-cc0f-62a48435bcb0\"},{\"attributes\":{\"x\":{\"units\":\"data\",\"field\":\"x\"},\"y\":{\"units\":\"data\",\"field\":\"y\"},\"fill_alpha\":{\"units\":\"data\",\"value\":0.2},\"tags\":[],\"line_color\":{\"value\":\"green\"},\"doc\":null,\"id\":\"835d801f-6ad0-478a-c7bb-a18c82b483b8\",\"fill_color\":{\"value\":\"green\"},\"size\":{\"units\":\"screen\",\"value\":10},\"line_alpha\":{\"units\":\"data\",\"value\":1}},\"type\":\"Line\",\"id\":\"835d801f-6ad0-478a-c7bb-a18c82b483b8\"},{\"attributes\":{\"glyph\":{\"id\":\"bed14955-a7d5-4c70-cc0f-62a48435bcb0\",\"type\":\"Line\"},\"name\":null,\"tags\":[],\"doc\":null,\"server_data_source\":null,\"data_source\":{\"id\":\"86589608-e8c1-4268-c229-b108b12b40f2\",\"type\":\"ColumnDataSource\"},\"id\":\"f9b4f261-a12f-4d4d-cdb3-d97dcc2d733b\",\"selection_glyph\":null,\"nonselection_glyph\":{\"id\":\"835d801f-6ad0-478a-c7bb-a18c82b483b8\",\"type\":\"Line\"}},\"type\":\"GlyphRenderer\",\"id\":\"f9b4f261-a12f-4d4d-cdb3-d97dcc2d733b\"},{\"attributes\":{\"doc\":null,\"data\":{\"x\":[1,2,3,4,5,6,7,8,9,10,11,12,13,14,15],\"y\":[2.1299057006836,14.222500801086,8.3162851333618,6.1857528686523,4.9508171081543,3.9334363937378,3.58434009552,3.2795391082764,2.9206428527832,2.560601234436,2.436203956604,2.3319931030273,2.1217098236084,2.0617713928223,1.9159364700317]},\"column_names\":[\"x\",\"y\"],\"id\":\"0687df56-75ac-4098-c0d2-6c0dd823ecdb\",\"discrete_ranges\":{},\"cont_ranges\":{},\"tags\":[],\"selected\":[]},\"type\":\"ColumnDataSource\",\"id\":\"0687df56-75ac-4098-c0d2-6c0dd823ecdb\"},{\"attributes\":{\"x\":{\"units\":\"data\",\"field\":\"x\"},\"y\":{\"units\":\"data\",\"field\":\"y\"},\"fill_alpha\":{\"units\":\"data\",\"value\":0.2},\"tags\":[],\"line_color\":{\"value\":\"orange\"},\"doc\":null,\"id\":\"d105f946-bc19-44c8-c4cc-9a048ca0074f\",\"fill_color\":{\"value\":\"orange\"},\"size\":{\"units\":\"screen\",\"value\":10},\"line_alpha\":{\"units\":\"data\",\"value\":1}},\"type\":\"Line\",\"id\":\"d105f946-bc19-44c8-c4cc-9a048ca0074f\"},{\"attributes\":{\"x\":{\"units\":\"data\",\"field\":\"x\"},\"y\":{\"units\":\"data\",\"field\":\"y\"},\"fill_alpha\":{\"units\":\"data\",\"value\":0.2},\"tags\":[],\"line_color\":{\"value\":\"orange\"},\"doc\":null,\"id\":\"9352a6d0-bcbc-4f21-cf50-001a91e2369d\",\"fill_color\":{\"value\":\"orange\"},\"size\":{\"units\":\"screen\",\"value\":10},\"line_alpha\":{\"units\":\"data\",\"value\":1}},\"type\":\"Line\",\"id\":\"9352a6d0-bcbc-4f21-cf50-001a91e2369d\"},{\"attributes\":{\"glyph\":{\"id\":\"d105f946-bc19-44c8-c4cc-9a048ca0074f\",\"type\":\"Line\"},\"name\":null,\"tags\":[],\"doc\":null,\"server_data_source\":null,\"data_source\":{\"id\":\"0687df56-75ac-4098-c0d2-6c0dd823ecdb\",\"type\":\"ColumnDataSource\"},\"id\":\"3de01660-97cd-43a5-c310-fb97f654dd40\",\"selection_glyph\":null,\"nonselection_glyph\":{\"id\":\"9352a6d0-bcbc-4f21-cf50-001a91e2369d\",\"type\":\"Line\"}},\"type\":\"GlyphRenderer\",\"id\":\"3de01660-97cd-43a5-c310-fb97f654dd40\"},{\"attributes\":{\"doc\":null,\"sources\":[{\"columns\":[\"x\"],\"source\":{\"type\":\"ColumnDataSource\",\"id\":\"b7bd3137-05d6-4237-c245-add50c9fa275\"}},{\"columns\":[\"x\"],\"source\":{\"type\":\"ColumnDataSource\",\"id\":\"fa5aba2a-e04f-4d26-cde8-0597f1d49136\"}},{\"columns\":[\"x\"],\"source\":{\"type\":\"ColumnDataSource\",\"id\":\"86589608-e8c1-4268-c229-b108b12b40f2\"}},{\"columns\":[\"x\"],\"source\":{\"type\":\"ColumnDataSource\",\"id\":\"0687df56-75ac-4098-c0d2-6c0dd823ecdb\"}}],\"tags\":[],\"id\":\"7928deb6-0a12-4a2f-ca3c-ae31a6584551\"},\"type\":\"DataRange1d\",\"id\":\"7928deb6-0a12-4a2f-ca3c-ae31a6584551\"},{\"attributes\":{\"doc\":null,\"sources\":[{\"columns\":[\"y\"],\"source\":{\"type\":\"ColumnDataSource\",\"id\":\"b7bd3137-05d6-4237-c245-add50c9fa275\"}},{\"columns\":[\"y\"],\"source\":{\"type\":\"ColumnDataSource\",\"id\":\"fa5aba2a-e04f-4d26-cde8-0597f1d49136\"}},{\"columns\":[\"y\"],\"source\":{\"type\":\"ColumnDataSource\",\"id\":\"86589608-e8c1-4268-c229-b108b12b40f2\"}},{\"columns\":[\"y\"],\"source\":{\"type\":\"ColumnDataSource\",\"id\":\"0687df56-75ac-4098-c0d2-6c0dd823ecdb\"}}],\"tags\":[],\"id\":\"05fa3aa9-38ed-4fc9-cfa6-622ebd418806\"},\"type\":\"DataRange1d\",\"id\":\"05fa3aa9-38ed-4fc9-cfa6-622ebd418806\"},{\"attributes\":{\"doc\":null,\"geometries\":[],\"tags\":[],\"id\":\"487beff7-96e2-48de-c831-4f3982d1388b\"},\"type\":\"ToolEvents\",\"id\":\"487beff7-96e2-48de-c831-4f3982d1388b\"},{\"attributes\":{\"doc\":null,\"tags\":[],\"id\":\"312ea5e4-7e47-435a-c3b1-150b5c3e4b92\"},\"type\":\"BasicTickFormatter\",\"id\":\"312ea5e4-7e47-435a-c3b1-150b5c3e4b92\"},{\"attributes\":{\"doc\":null,\"num_minor_ticks\":5,\"tags\":[],\"id\":\"6259dd4a-eb52-4fa9-cfef-84cbcf4e9352\"},\"type\":\"BasicTicker\",\"id\":\"6259dd4a-eb52-4fa9-cfef-84cbcf4e9352\"},{\"attributes\":{\"doc\":null,\"formatter\":{\"id\":\"312ea5e4-7e47-435a-c3b1-150b5c3e4b92\",\"type\":\"BasicTickFormatter\"},\"axis_label\":\"Scaled number of iterations\",\"id\":\"190fb031-6e84-428b-c29c-01fb86a4a030\",\"plot\":{\"type\":\"Plot\",\"id\":\"543c73ae-4225-4499-c412-e13337bbc9f5\",\"subtype\":\"Figure\"},\"tags\":[],\"ticker\":{\"id\":\"6259dd4a-eb52-4fa9-cfef-84cbcf4e9352\",\"type\":\"BasicTicker\"}},\"type\":\"LinearAxis\",\"id\":\"190fb031-6e84-428b-c29c-01fb86a4a030\"},{\"attributes\":{\"doc\":null,\"id\":\"492b71ed-2465-4f32-cfcd-ded354929a15\",\"plot\":{\"type\":\"Plot\",\"id\":\"543c73ae-4225-4499-c412-e13337bbc9f5\",\"subtype\":\"Figure\"},\"ticker\":{\"id\":\"6259dd4a-eb52-4fa9-cfef-84cbcf4e9352\",\"type\":\"BasicTicker\"},\"tags\":[],\"dimension\":0},\"type\":\"Grid\",\"id\":\"492b71ed-2465-4f32-cfcd-ded354929a15\"},{\"attributes\":{\"doc\":null,\"tags\":[],\"id\":\"ce1b6abe-52a8-4081-c02d-73446874f4f5\"},\"type\":\"BasicTickFormatter\",\"id\":\"ce1b6abe-52a8-4081-c02d-73446874f4f5\"},{\"attributes\":{\"doc\":null,\"num_minor_ticks\":5,\"tags\":[],\"id\":\"7b2caf84-e898-46be-c658-61f6d419211a\"},\"type\":\"BasicTicker\",\"id\":\"7b2caf84-e898-46be-c658-61f6d419211a\"},{\"attributes\":{\"doc\":null,\"formatter\":{\"id\":\"ce1b6abe-52a8-4081-c02d-73446874f4f5\",\"type\":\"BasicTickFormatter\"},\"axis_label\":\"Exploitability\",\"id\":\"c9cbc761-5923-4e18-ce1e-b4b61694ee96\",\"plot\":{\"type\":\"Plot\",\"id\":\"543c73ae-4225-4499-c412-e13337bbc9f5\",\"subtype\":\"Figure\"},\"tags\":[],\"ticker\":{\"id\":\"7b2caf84-e898-46be-c658-61f6d419211a\",\"type\":\"BasicTicker\"}},\"type\":\"LinearAxis\",\"id\":\"c9cbc761-5923-4e18-ce1e-b4b61694ee96\"},{\"attributes\":{\"doc\":null,\"id\":\"96fe9310-4560-413d-c1fb-46220ba494a7\",\"plot\":{\"type\":\"Plot\",\"id\":\"543c73ae-4225-4499-c412-e13337bbc9f5\",\"subtype\":\"Figure\"},\"ticker\":{\"id\":\"7b2caf84-e898-46be-c658-61f6d419211a\",\"type\":\"BasicTicker\"},\"tags\":[],\"dimension\":1},\"type\":\"Grid\",\"id\":\"96fe9310-4560-413d-c1fb-46220ba494a7\"},{\"attributes\":{\"doc\":null,\"id\":\"8959ebe1-132b-4a7b-ca18-991f6f1e6522\",\"plot\":{\"type\":\"Plot\",\"id\":\"543c73ae-4225-4499-c412-e13337bbc9f5\",\"subtype\":\"Figure\"},\"tags\":[],\"dimensions\":[\"width\",\"height\"]},\"type\":\"PanTool\",\"id\":\"8959ebe1-132b-4a7b-ca18-991f6f1e6522\"},{\"attributes\":{\"doc\":null,\"id\":\"a96bac42-7991-472f-c727-a2997c180757\",\"plot\":{\"type\":\"Plot\",\"id\":\"543c73ae-4225-4499-c412-e13337bbc9f5\",\"subtype\":\"Figure\"},\"tags\":[],\"dimensions\":[\"width\",\"height\"]},\"type\":\"WheelZoomTool\",\"id\":\"a96bac42-7991-472f-c727-a2997c180757\"},{\"attributes\":{\"doc\":null,\"plot\":{\"type\":\"Plot\",\"id\":\"543c73ae-4225-4499-c412-e13337bbc9f5\",\"subtype\":\"Figure\"},\"tags\":[],\"id\":\"c8ea69ee-443e-48cc-c896-97cfae84d2a8\"},\"type\":\"BoxZoomTool\",\"id\":\"c8ea69ee-443e-48cc-c896-97cfae84d2a8\"},{\"attributes\":{\"doc\":null,\"plot\":{\"type\":\"Plot\",\"id\":\"543c73ae-4225-4499-c412-e13337bbc9f5\",\"subtype\":\"Figure\"},\"tags\":[],\"id\":\"8d62c131-208f-42b3-c243-c51e620d1f0c\"},\"type\":\"PreviewSaveTool\",\"id\":\"8d62c131-208f-42b3-c243-c51e620d1f0c\"},{\"attributes\":{\"doc\":null,\"plot\":{\"type\":\"Plot\",\"id\":\"543c73ae-4225-4499-c412-e13337bbc9f5\",\"subtype\":\"Figure\"},\"tags\":[],\"id\":\"2acb5847-d739-4182-c14c-481c8225fad2\"},\"type\":\"ResizeTool\",\"id\":\"2acb5847-d739-4182-c14c-481c8225fad2\"},{\"attributes\":{\"doc\":null,\"plot\":{\"type\":\"Plot\",\"id\":\"543c73ae-4225-4499-c412-e13337bbc9f5\",\"subtype\":\"Figure\"},\"tags\":[],\"id\":\"e8b04e39-aa29-42b2-c215-09202f3bd8db\"},\"type\":\"ResetTool\",\"id\":\"e8b04e39-aa29-42b2-c215-09202f3bd8db\"},{\"attributes\":{\"doc\":null,\"id\":\"4a5e7a33-aab0-4bc3-cb03-e23cb62f10e0\",\"plot\":{\"type\":\"Plot\",\"id\":\"543c73ae-4225-4499-c412-e13337bbc9f5\",\"subtype\":\"Figure\"},\"tags\":[],\"legends\":[[\"No Warm start CFR = Uniform warm start\",[{\"id\":\"8d8759b9-f83c-443c-c4d2-66de9a09c17c\",\"type\":\"GlyphRenderer\"}]],[\"Neural Net warm start CFR\",[{\"id\":\"70ceee90-9193-4cba-cc82-71798b9526b9\",\"type\":\"GlyphRenderer\"}]],[\"Warm start target and regrets\",[{\"id\":\"f9b4f261-a12f-4d4d-cdb3-d97dcc2d733b\",\"type\":\"GlyphRenderer\"}]],[\"Warm start only targets\",[{\"id\":\"3de01660-97cd-43a5-c310-fb97f654dd40\",\"type\":\"GlyphRenderer\"}]]]},\"type\":\"Legend\",\"id\":\"4a5e7a33-aab0-4bc3-cb03-e23cb62f10e0\"},{\"attributes\":{\"title\":\"Exploitability of different strategies, 800 iterations\",\"renderers\":[{\"id\":\"8d8759b9-f83c-443c-c4d2-66de9a09c17c\",\"type\":\"GlyphRenderer\"},{\"id\":\"70ceee90-9193-4cba-cc82-71798b9526b9\",\"type\":\"GlyphRenderer\"},{\"id\":\"f9b4f261-a12f-4d4d-cdb3-d97dcc2d733b\",\"type\":\"GlyphRenderer\"},{\"id\":\"3de01660-97cd-43a5-c310-fb97f654dd40\",\"type\":\"GlyphRenderer\"},{\"id\":\"190fb031-6e84-428b-c29c-01fb86a4a030\",\"type\":\"LinearAxis\"},{\"id\":\"492b71ed-2465-4f32-cfcd-ded354929a15\",\"type\":\"Grid\"},{\"id\":\"c9cbc761-5923-4e18-ce1e-b4b61694ee96\",\"type\":\"LinearAxis\"},{\"id\":\"96fe9310-4560-413d-c1fb-46220ba494a7\",\"type\":\"Grid\"},{\"id\":\"4a5e7a33-aab0-4bc3-cb03-e23cb62f10e0\",\"type\":\"Legend\"}],\"extra_y_ranges\":{},\"tools\":[{\"id\":\"8959ebe1-132b-4a7b-ca18-991f6f1e6522\",\"type\":\"PanTool\"},{\"id\":\"a96bac42-7991-472f-c727-a2997c180757\",\"type\":\"WheelZoomTool\"},{\"id\":\"c8ea69ee-443e-48cc-c896-97cfae84d2a8\",\"type\":\"BoxZoomTool\"},{\"id\":\"8d62c131-208f-42b3-c243-c51e620d1f0c\",\"type\":\"PreviewSaveTool\"},{\"id\":\"2acb5847-d739-4182-c14c-481c8225fad2\",\"type\":\"ResizeTool\"},{\"id\":\"e8b04e39-aa29-42b2-c215-09202f3bd8db\",\"type\":\"ResetTool\"}],\"extra_x_ranges\":{},\"tags\":[],\"tool_events\":{\"id\":\"487beff7-96e2-48de-c831-4f3982d1388b\",\"type\":\"ToolEvents\"},\"doc\":null,\"right\":[],\"below\":[{\"id\":\"190fb031-6e84-428b-c29c-01fb86a4a030\",\"type\":\"LinearAxis\"}],\"id\":\"543c73ae-4225-4499-c412-e13337bbc9f5\",\"x_range\":{\"id\":\"7928deb6-0a12-4a2f-ca3c-ae31a6584551\",\"type\":\"DataRange1d\"},\"y_range\":{\"id\":\"05fa3aa9-38ed-4fc9-cfa6-622ebd418806\",\"type\":\"DataRange1d\"},\"above\":[],\"left\":[{\"id\":\"c9cbc761-5923-4e18-ce1e-b4b61694ee96\",\"type\":\"LinearAxis\"}]},\"type\":\"Plot\",\"id\":\"543c73ae-4225-4499-c412-e13337bbc9f5\"}];\n",
       "  Bokeh.load_models(all_models);\n",
       "  var model = Bokeh.Collections(modeltype).get(modelid);\n",
       "  $(\"#a30d91ef-eee2-4c52-cc2c-f729b8fc29a4\").html(''); // clear any previous plot in window_id\n",
       "  var view = new model.default_view({model: model, el: \"#a30d91ef-eee2-4c52-cc2c-f729b8fc29a4\"});\n",
       "    } else {\n",
       "  load_lib(bokehjs_url, function() {\n",
       "      console.log(\"Bokeh: BokehJS plotting callback run at\", new Date())\n",
       "      var modelid = \"543c73ae-4225-4499-c412-e13337bbc9f5\";\n",
       "      var modeltype = \"Plot\";\n",
       "      var all_models = [{\"attributes\":{\"doc\":null,\"data\":{\"x\":[1,2,3,4,5,6,7,8,9,10,11,12,13,14,15],\"y\":[180,15.661748886108,8.5285968780518,6.1420564651489,4.8337373733521,4.3138008117676,3.6568517684937,3.3066091537476,3.092170715332,2.8121633529663,2.6074485778809,2.4663677215576,2.3445730209351,2.1809225082397,2.0300731658936]},\"column_names\":[\"x\",\"y\"],\"id\":\"b7bd3137-05d6-4237-c245-add50c9fa275\",\"discrete_ranges\":{},\"cont_ranges\":{},\"tags\":[],\"selected\":[]},\"type\":\"ColumnDataSource\",\"id\":\"b7bd3137-05d6-4237-c245-add50c9fa275\"},{\"attributes\":{\"x\":{\"units\":\"data\",\"field\":\"x\"},\"y\":{\"units\":\"data\",\"field\":\"y\"},\"fill_alpha\":{\"units\":\"data\",\"value\":0.2},\"tags\":[],\"line_color\":{\"value\":\"red\"},\"doc\":null,\"id\":\"1cb90469-891a-436f-c33e-54a1608bc414\",\"fill_color\":{\"value\":\"red\"},\"size\":{\"units\":\"screen\",\"value\":10},\"line_alpha\":{\"units\":\"data\",\"value\":1}},\"type\":\"Line\",\"id\":\"1cb90469-891a-436f-c33e-54a1608bc414\"},{\"attributes\":{\"x\":{\"units\":\"data\",\"field\":\"x\"},\"y\":{\"units\":\"data\",\"field\":\"y\"},\"fill_alpha\":{\"units\":\"data\",\"value\":0.2},\"tags\":[],\"line_color\":{\"value\":\"red\"},\"doc\":null,\"id\":\"c30c2f78-d656-4eda-ce47-d0b4e5de692e\",\"fill_color\":{\"value\":\"red\"},\"size\":{\"units\":\"screen\",\"value\":10},\"line_alpha\":{\"units\":\"data\",\"value\":1}},\"type\":\"Line\",\"id\":\"c30c2f78-d656-4eda-ce47-d0b4e5de692e\"},{\"attributes\":{\"glyph\":{\"id\":\"1cb90469-891a-436f-c33e-54a1608bc414\",\"type\":\"Line\"},\"name\":null,\"tags\":[],\"doc\":null,\"server_data_source\":null,\"data_source\":{\"id\":\"b7bd3137-05d6-4237-c245-add50c9fa275\",\"type\":\"ColumnDataSource\"},\"id\":\"8d8759b9-f83c-443c-c4d2-66de9a09c17c\",\"selection_glyph\":null,\"nonselection_glyph\":{\"id\":\"c30c2f78-d656-4eda-ce47-d0b4e5de692e\",\"type\":\"Line\"}},\"type\":\"GlyphRenderer\",\"id\":\"8d8759b9-f83c-443c-c4d2-66de9a09c17c\"},{\"attributes\":{\"doc\":null,\"data\":{\"x\":[1,2,3,4,5,6,7,8,9,10,11,12,13,14,15],\"y\":[155.31634521484,15.852822303772,8.8844537734985,6.5633277893066,5.1736907958984,4.4210443496704,3.8899955749512,3.3822345733643,3.0940942764282,2.8227968215942,2.6216621398926,2.45387840271,2.3121891021729,2.1722726821899,2.0927352905273]},\"column_names\":[\"x\",\"y\"],\"id\":\"fa5aba2a-e04f-4d26-cde8-0597f1d49136\",\"discrete_ranges\":{},\"cont_ranges\":{},\"tags\":[],\"selected\":[]},\"type\":\"ColumnDataSource\",\"id\":\"fa5aba2a-e04f-4d26-cde8-0597f1d49136\"},{\"attributes\":{\"x\":{\"units\":\"data\",\"field\":\"x\"},\"y\":{\"units\":\"data\",\"field\":\"y\"},\"fill_alpha\":{\"units\":\"data\",\"value\":0.2},\"tags\":[],\"line_color\":{\"value\":\"blue\"},\"doc\":null,\"id\":\"0795a427-114e-435e-c308-c11046c55f4d\",\"fill_color\":{\"value\":\"blue\"},\"size\":{\"units\":\"screen\",\"value\":10},\"line_alpha\":{\"units\":\"data\",\"value\":1}},\"type\":\"Line\",\"id\":\"0795a427-114e-435e-c308-c11046c55f4d\"},{\"attributes\":{\"x\":{\"units\":\"data\",\"field\":\"x\"},\"y\":{\"units\":\"data\",\"field\":\"y\"},\"fill_alpha\":{\"units\":\"data\",\"value\":0.2},\"tags\":[],\"line_color\":{\"value\":\"blue\"},\"doc\":null,\"id\":\"5af79fb2-5827-4490-c4b0-ce75bc295303\",\"fill_color\":{\"value\":\"blue\"},\"size\":{\"units\":\"screen\",\"value\":10},\"line_alpha\":{\"units\":\"data\",\"value\":1}},\"type\":\"Line\",\"id\":\"5af79fb2-5827-4490-c4b0-ce75bc295303\"},{\"attributes\":{\"glyph\":{\"id\":\"0795a427-114e-435e-c308-c11046c55f4d\",\"type\":\"Line\"},\"name\":null,\"tags\":[],\"doc\":null,\"server_data_source\":null,\"data_source\":{\"id\":\"fa5aba2a-e04f-4d26-cde8-0597f1d49136\",\"type\":\"ColumnDataSource\"},\"id\":\"70ceee90-9193-4cba-cc82-71798b9526b9\",\"selection_glyph\":null,\"nonselection_glyph\":{\"id\":\"5af79fb2-5827-4490-c4b0-ce75bc295303\",\"type\":\"Line\"}},\"type\":\"GlyphRenderer\",\"id\":\"70ceee90-9193-4cba-cc82-71798b9526b9\"},{\"attributes\":{\"doc\":null,\"data\":{\"x\":[1,2,3,4,5,6,7,8,9,10,11,12,13,14,15],\"y\":[2.1299057006836,2.8772077560425,2.7954654693604,0.88096618652344,0.93127346038818,1.324501991272,0.55014324188232,0.89248943328857,0.61874771118164,0.69593238830566,0.64936447143555,0.63094139099121,0.57739543914795,0.59471988677979,0.47852420806885]},\"column_names\":[\"x\",\"y\"],\"id\":\"86589608-e8c1-4268-c229-b108b12b40f2\",\"discrete_ranges\":{},\"cont_ranges\":{},\"tags\":[],\"selected\":[]},\"type\":\"ColumnDataSource\",\"id\":\"86589608-e8c1-4268-c229-b108b12b40f2\"},{\"attributes\":{\"x\":{\"units\":\"data\",\"field\":\"x\"},\"y\":{\"units\":\"data\",\"field\":\"y\"},\"fill_alpha\":{\"units\":\"data\",\"value\":0.2},\"tags\":[],\"line_color\":{\"value\":\"green\"},\"doc\":null,\"id\":\"bed14955-a7d5-4c70-cc0f-62a48435bcb0\",\"fill_color\":{\"value\":\"green\"},\"size\":{\"units\":\"screen\",\"value\":10},\"line_alpha\":{\"units\":\"data\",\"value\":1}},\"type\":\"Line\",\"id\":\"bed14955-a7d5-4c70-cc0f-62a48435bcb0\"},{\"attributes\":{\"x\":{\"units\":\"data\",\"field\":\"x\"},\"y\":{\"units\":\"data\",\"field\":\"y\"},\"fill_alpha\":{\"units\":\"data\",\"value\":0.2},\"tags\":[],\"line_color\":{\"value\":\"green\"},\"doc\":null,\"id\":\"835d801f-6ad0-478a-c7bb-a18c82b483b8\",\"fill_color\":{\"value\":\"green\"},\"size\":{\"units\":\"screen\",\"value\":10},\"line_alpha\":{\"units\":\"data\",\"value\":1}},\"type\":\"Line\",\"id\":\"835d801f-6ad0-478a-c7bb-a18c82b483b8\"},{\"attributes\":{\"glyph\":{\"id\":\"bed14955-a7d5-4c70-cc0f-62a48435bcb0\",\"type\":\"Line\"},\"name\":null,\"tags\":[],\"doc\":null,\"server_data_source\":null,\"data_source\":{\"id\":\"86589608-e8c1-4268-c229-b108b12b40f2\",\"type\":\"ColumnDataSource\"},\"id\":\"f9b4f261-a12f-4d4d-cdb3-d97dcc2d733b\",\"selection_glyph\":null,\"nonselection_glyph\":{\"id\":\"835d801f-6ad0-478a-c7bb-a18c82b483b8\",\"type\":\"Line\"}},\"type\":\"GlyphRenderer\",\"id\":\"f9b4f261-a12f-4d4d-cdb3-d97dcc2d733b\"},{\"attributes\":{\"doc\":null,\"data\":{\"x\":[1,2,3,4,5,6,7,8,9,10,11,12,13,14,15],\"y\":[2.1299057006836,14.222500801086,8.3162851333618,6.1857528686523,4.9508171081543,3.9334363937378,3.58434009552,3.2795391082764,2.9206428527832,2.560601234436,2.436203956604,2.3319931030273,2.1217098236084,2.0617713928223,1.9159364700317]},\"column_names\":[\"x\",\"y\"],\"id\":\"0687df56-75ac-4098-c0d2-6c0dd823ecdb\",\"discrete_ranges\":{},\"cont_ranges\":{},\"tags\":[],\"selected\":[]},\"type\":\"ColumnDataSource\",\"id\":\"0687df56-75ac-4098-c0d2-6c0dd823ecdb\"},{\"attributes\":{\"x\":{\"units\":\"data\",\"field\":\"x\"},\"y\":{\"units\":\"data\",\"field\":\"y\"},\"fill_alpha\":{\"units\":\"data\",\"value\":0.2},\"tags\":[],\"line_color\":{\"value\":\"orange\"},\"doc\":null,\"id\":\"d105f946-bc19-44c8-c4cc-9a048ca0074f\",\"fill_color\":{\"value\":\"orange\"},\"size\":{\"units\":\"screen\",\"value\":10},\"line_alpha\":{\"units\":\"data\",\"value\":1}},\"type\":\"Line\",\"id\":\"d105f946-bc19-44c8-c4cc-9a048ca0074f\"},{\"attributes\":{\"x\":{\"units\":\"data\",\"field\":\"x\"},\"y\":{\"units\":\"data\",\"field\":\"y\"},\"fill_alpha\":{\"units\":\"data\",\"value\":0.2},\"tags\":[],\"line_color\":{\"value\":\"orange\"},\"doc\":null,\"id\":\"9352a6d0-bcbc-4f21-cf50-001a91e2369d\",\"fill_color\":{\"value\":\"orange\"},\"size\":{\"units\":\"screen\",\"value\":10},\"line_alpha\":{\"units\":\"data\",\"value\":1}},\"type\":\"Line\",\"id\":\"9352a6d0-bcbc-4f21-cf50-001a91e2369d\"},{\"attributes\":{\"glyph\":{\"id\":\"d105f946-bc19-44c8-c4cc-9a048ca0074f\",\"type\":\"Line\"},\"name\":null,\"tags\":[],\"doc\":null,\"server_data_source\":null,\"data_source\":{\"id\":\"0687df56-75ac-4098-c0d2-6c0dd823ecdb\",\"type\":\"ColumnDataSource\"},\"id\":\"3de01660-97cd-43a5-c310-fb97f654dd40\",\"selection_glyph\":null,\"nonselection_glyph\":{\"id\":\"9352a6d0-bcbc-4f21-cf50-001a91e2369d\",\"type\":\"Line\"}},\"type\":\"GlyphRenderer\",\"id\":\"3de01660-97cd-43a5-c310-fb97f654dd40\"},{\"attributes\":{\"doc\":null,\"sources\":[{\"columns\":[\"x\"],\"source\":{\"type\":\"ColumnDataSource\",\"id\":\"b7bd3137-05d6-4237-c245-add50c9fa275\"}},{\"columns\":[\"x\"],\"source\":{\"type\":\"ColumnDataSource\",\"id\":\"fa5aba2a-e04f-4d26-cde8-0597f1d49136\"}},{\"columns\":[\"x\"],\"source\":{\"type\":\"ColumnDataSource\",\"id\":\"86589608-e8c1-4268-c229-b108b12b40f2\"}},{\"columns\":[\"x\"],\"source\":{\"type\":\"ColumnDataSource\",\"id\":\"0687df56-75ac-4098-c0d2-6c0dd823ecdb\"}}],\"tags\":[],\"id\":\"7928deb6-0a12-4a2f-ca3c-ae31a6584551\"},\"type\":\"DataRange1d\",\"id\":\"7928deb6-0a12-4a2f-ca3c-ae31a6584551\"},{\"attributes\":{\"doc\":null,\"sources\":[{\"columns\":[\"y\"],\"source\":{\"type\":\"ColumnDataSource\",\"id\":\"b7bd3137-05d6-4237-c245-add50c9fa275\"}},{\"columns\":[\"y\"],\"source\":{\"type\":\"ColumnDataSource\",\"id\":\"fa5aba2a-e04f-4d26-cde8-0597f1d49136\"}},{\"columns\":[\"y\"],\"source\":{\"type\":\"ColumnDataSource\",\"id\":\"86589608-e8c1-4268-c229-b108b12b40f2\"}},{\"columns\":[\"y\"],\"source\":{\"type\":\"ColumnDataSource\",\"id\":\"0687df56-75ac-4098-c0d2-6c0dd823ecdb\"}}],\"tags\":[],\"id\":\"05fa3aa9-38ed-4fc9-cfa6-622ebd418806\"},\"type\":\"DataRange1d\",\"id\":\"05fa3aa9-38ed-4fc9-cfa6-622ebd418806\"},{\"attributes\":{\"doc\":null,\"geometries\":[],\"tags\":[],\"id\":\"487beff7-96e2-48de-c831-4f3982d1388b\"},\"type\":\"ToolEvents\",\"id\":\"487beff7-96e2-48de-c831-4f3982d1388b\"},{\"attributes\":{\"doc\":null,\"tags\":[],\"id\":\"312ea5e4-7e47-435a-c3b1-150b5c3e4b92\"},\"type\":\"BasicTickFormatter\",\"id\":\"312ea5e4-7e47-435a-c3b1-150b5c3e4b92\"},{\"attributes\":{\"doc\":null,\"num_minor_ticks\":5,\"tags\":[],\"id\":\"6259dd4a-eb52-4fa9-cfef-84cbcf4e9352\"},\"type\":\"BasicTicker\",\"id\":\"6259dd4a-eb52-4fa9-cfef-84cbcf4e9352\"},{\"attributes\":{\"doc\":null,\"formatter\":{\"id\":\"312ea5e4-7e47-435a-c3b1-150b5c3e4b92\",\"type\":\"BasicTickFormatter\"},\"axis_label\":\"Scaled number of iterations\",\"id\":\"190fb031-6e84-428b-c29c-01fb86a4a030\",\"plot\":{\"type\":\"Plot\",\"id\":\"543c73ae-4225-4499-c412-e13337bbc9f5\",\"subtype\":\"Figure\"},\"tags\":[],\"ticker\":{\"id\":\"6259dd4a-eb52-4fa9-cfef-84cbcf4e9352\",\"type\":\"BasicTicker\"}},\"type\":\"LinearAxis\",\"id\":\"190fb031-6e84-428b-c29c-01fb86a4a030\"},{\"attributes\":{\"doc\":null,\"id\":\"492b71ed-2465-4f32-cfcd-ded354929a15\",\"plot\":{\"type\":\"Plot\",\"id\":\"543c73ae-4225-4499-c412-e13337bbc9f5\",\"subtype\":\"Figure\"},\"ticker\":{\"id\":\"6259dd4a-eb52-4fa9-cfef-84cbcf4e9352\",\"type\":\"BasicTicker\"},\"tags\":[],\"dimension\":0},\"type\":\"Grid\",\"id\":\"492b71ed-2465-4f32-cfcd-ded354929a15\"},{\"attributes\":{\"doc\":null,\"tags\":[],\"id\":\"ce1b6abe-52a8-4081-c02d-73446874f4f5\"},\"type\":\"BasicTickFormatter\",\"id\":\"ce1b6abe-52a8-4081-c02d-73446874f4f5\"},{\"attributes\":{\"doc\":null,\"num_minor_ticks\":5,\"tags\":[],\"id\":\"7b2caf84-e898-46be-c658-61f6d419211a\"},\"type\":\"BasicTicker\",\"id\":\"7b2caf84-e898-46be-c658-61f6d419211a\"},{\"attributes\":{\"doc\":null,\"formatter\":{\"id\":\"ce1b6abe-52a8-4081-c02d-73446874f4f5\",\"type\":\"BasicTickFormatter\"},\"axis_label\":\"Exploitability\",\"id\":\"c9cbc761-5923-4e18-ce1e-b4b61694ee96\",\"plot\":{\"type\":\"Plot\",\"id\":\"543c73ae-4225-4499-c412-e13337bbc9f5\",\"subtype\":\"Figure\"},\"tags\":[],\"ticker\":{\"id\":\"7b2caf84-e898-46be-c658-61f6d419211a\",\"type\":\"BasicTicker\"}},\"type\":\"LinearAxis\",\"id\":\"c9cbc761-5923-4e18-ce1e-b4b61694ee96\"},{\"attributes\":{\"doc\":null,\"id\":\"96fe9310-4560-413d-c1fb-46220ba494a7\",\"plot\":{\"type\":\"Plot\",\"id\":\"543c73ae-4225-4499-c412-e13337bbc9f5\",\"subtype\":\"Figure\"},\"ticker\":{\"id\":\"7b2caf84-e898-46be-c658-61f6d419211a\",\"type\":\"BasicTicker\"},\"tags\":[],\"dimension\":1},\"type\":\"Grid\",\"id\":\"96fe9310-4560-413d-c1fb-46220ba494a7\"},{\"attributes\":{\"doc\":null,\"id\":\"8959ebe1-132b-4a7b-ca18-991f6f1e6522\",\"plot\":{\"type\":\"Plot\",\"id\":\"543c73ae-4225-4499-c412-e13337bbc9f5\",\"subtype\":\"Figure\"},\"tags\":[],\"dimensions\":[\"width\",\"height\"]},\"type\":\"PanTool\",\"id\":\"8959ebe1-132b-4a7b-ca18-991f6f1e6522\"},{\"attributes\":{\"doc\":null,\"id\":\"a96bac42-7991-472f-c727-a2997c180757\",\"plot\":{\"type\":\"Plot\",\"id\":\"543c73ae-4225-4499-c412-e13337bbc9f5\",\"subtype\":\"Figure\"},\"tags\":[],\"dimensions\":[\"width\",\"height\"]},\"type\":\"WheelZoomTool\",\"id\":\"a96bac42-7991-472f-c727-a2997c180757\"},{\"attributes\":{\"doc\":null,\"plot\":{\"type\":\"Plot\",\"id\":\"543c73ae-4225-4499-c412-e13337bbc9f5\",\"subtype\":\"Figure\"},\"tags\":[],\"id\":\"c8ea69ee-443e-48cc-c896-97cfae84d2a8\"},\"type\":\"BoxZoomTool\",\"id\":\"c8ea69ee-443e-48cc-c896-97cfae84d2a8\"},{\"attributes\":{\"doc\":null,\"plot\":{\"type\":\"Plot\",\"id\":\"543c73ae-4225-4499-c412-e13337bbc9f5\",\"subtype\":\"Figure\"},\"tags\":[],\"id\":\"8d62c131-208f-42b3-c243-c51e620d1f0c\"},\"type\":\"PreviewSaveTool\",\"id\":\"8d62c131-208f-42b3-c243-c51e620d1f0c\"},{\"attributes\":{\"doc\":null,\"plot\":{\"type\":\"Plot\",\"id\":\"543c73ae-4225-4499-c412-e13337bbc9f5\",\"subtype\":\"Figure\"},\"tags\":[],\"id\":\"2acb5847-d739-4182-c14c-481c8225fad2\"},\"type\":\"ResizeTool\",\"id\":\"2acb5847-d739-4182-c14c-481c8225fad2\"},{\"attributes\":{\"doc\":null,\"plot\":{\"type\":\"Plot\",\"id\":\"543c73ae-4225-4499-c412-e13337bbc9f5\",\"subtype\":\"Figure\"},\"tags\":[],\"id\":\"e8b04e39-aa29-42b2-c215-09202f3bd8db\"},\"type\":\"ResetTool\",\"id\":\"e8b04e39-aa29-42b2-c215-09202f3bd8db\"},{\"attributes\":{\"doc\":null,\"id\":\"4a5e7a33-aab0-4bc3-cb03-e23cb62f10e0\",\"plot\":{\"type\":\"Plot\",\"id\":\"543c73ae-4225-4499-c412-e13337bbc9f5\",\"subtype\":\"Figure\"},\"tags\":[],\"legends\":[[\"No Warm start CFR = Uniform warm start\",[{\"id\":\"8d8759b9-f83c-443c-c4d2-66de9a09c17c\",\"type\":\"GlyphRenderer\"}]],[\"Neural Net warm start CFR\",[{\"id\":\"70ceee90-9193-4cba-cc82-71798b9526b9\",\"type\":\"GlyphRenderer\"}]],[\"Warm start target and regrets\",[{\"id\":\"f9b4f261-a12f-4d4d-cdb3-d97dcc2d733b\",\"type\":\"GlyphRenderer\"}]],[\"Warm start only targets\",[{\"id\":\"3de01660-97cd-43a5-c310-fb97f654dd40\",\"type\":\"GlyphRenderer\"}]]]},\"type\":\"Legend\",\"id\":\"4a5e7a33-aab0-4bc3-cb03-e23cb62f10e0\"},{\"attributes\":{\"title\":\"Exploitability of different strategies, 800 iterations\",\"renderers\":[{\"id\":\"8d8759b9-f83c-443c-c4d2-66de9a09c17c\",\"type\":\"GlyphRenderer\"},{\"id\":\"70ceee90-9193-4cba-cc82-71798b9526b9\",\"type\":\"GlyphRenderer\"},{\"id\":\"f9b4f261-a12f-4d4d-cdb3-d97dcc2d733b\",\"type\":\"GlyphRenderer\"},{\"id\":\"3de01660-97cd-43a5-c310-fb97f654dd40\",\"type\":\"GlyphRenderer\"},{\"id\":\"190fb031-6e84-428b-c29c-01fb86a4a030\",\"type\":\"LinearAxis\"},{\"id\":\"492b71ed-2465-4f32-cfcd-ded354929a15\",\"type\":\"Grid\"},{\"id\":\"c9cbc761-5923-4e18-ce1e-b4b61694ee96\",\"type\":\"LinearAxis\"},{\"id\":\"96fe9310-4560-413d-c1fb-46220ba494a7\",\"type\":\"Grid\"},{\"id\":\"4a5e7a33-aab0-4bc3-cb03-e23cb62f10e0\",\"type\":\"Legend\"}],\"extra_y_ranges\":{},\"tools\":[{\"id\":\"8959ebe1-132b-4a7b-ca18-991f6f1e6522\",\"type\":\"PanTool\"},{\"id\":\"a96bac42-7991-472f-c727-a2997c180757\",\"type\":\"WheelZoomTool\"},{\"id\":\"c8ea69ee-443e-48cc-c896-97cfae84d2a8\",\"type\":\"BoxZoomTool\"},{\"id\":\"8d62c131-208f-42b3-c243-c51e620d1f0c\",\"type\":\"PreviewSaveTool\"},{\"id\":\"2acb5847-d739-4182-c14c-481c8225fad2\",\"type\":\"ResizeTool\"},{\"id\":\"e8b04e39-aa29-42b2-c215-09202f3bd8db\",\"type\":\"ResetTool\"}],\"extra_x_ranges\":{},\"tags\":[],\"tool_events\":{\"id\":\"487beff7-96e2-48de-c831-4f3982d1388b\",\"type\":\"ToolEvents\"},\"doc\":null,\"right\":[],\"below\":[{\"id\":\"190fb031-6e84-428b-c29c-01fb86a4a030\",\"type\":\"LinearAxis\"}],\"id\":\"543c73ae-4225-4499-c412-e13337bbc9f5\",\"x_range\":{\"id\":\"7928deb6-0a12-4a2f-ca3c-ae31a6584551\",\"type\":\"DataRange1d\"},\"y_range\":{\"id\":\"05fa3aa9-38ed-4fc9-cfa6-622ebd418806\",\"type\":\"DataRange1d\"},\"above\":[],\"left\":[{\"id\":\"c9cbc761-5923-4e18-ce1e-b4b61694ee96\",\"type\":\"LinearAxis\"}]},\"type\":\"Plot\",\"id\":\"543c73ae-4225-4499-c412-e13337bbc9f5\"}];\n",
       "      Bokeh.load_models(all_models);\n",
       "      var model = Bokeh.Collections(modeltype).get(modelid);\n",
       "      $(\"#a30d91ef-eee2-4c52-cc2c-f729b8fc29a4\").html(''); // clear any previous plot in window_id\n",
       "      var view = new model.default_view({model: model, el: \"#a30d91ef-eee2-4c52-cc2c-f729b8fc29a4\"});\n",
       "  });\n",
       "    }\n",
       "});\n",
       "</script>\n",
       "<div class=\"plotdiv\" id=\"a30d91ef-eee2-4c52-cc2c-f729b8fc29a4\"></div>\n"
      ]
     },
     "metadata": {},
     "output_type": "display_data"
    }
   ],
   "source": [
    "local num_iter = torch.range(1,exploit_NoW:size(1))\n",
    "local plot = Plot()\n",
    "\n",
    "---plot:line(num_iter,exploit_unif,'black' ,'Original CFR in the paper')\n",
    "plot:line(num_iter,exploit_NoW,'red' ,'No Warm start CFR = Uniform warm start')\n",
    "plot:line(num_iter,exploit_NNW,'blue' ,'Neural Net warm start CFR')\n",
    "---plot:line(num_iter,exploit_NNW,'pink' ,'Neural Net warm start CFR no Regrets')\n",
    "plot:line(num_iter,exploit_TarRegW,'green' ,'Warm start target and regrets')\n",
    "plot:line(num_iter,exploit_TarW,'orange' ,'Warm start only targets')\n",
    "---plot:line(num_iter,exploit_RegW,'pink' ,'Warm start with target values')\n",
    "plot:legend(true):title('Exploitability of different strategies, 800 iterations')\n",
    "plot:xaxis('Scaled number of iterations'):yaxis('Exploitability'):redraw()\n"
   ]
  },
  {
   "cell_type": "markdown",
   "metadata": {},
   "source": [
    "### Graphical Comparaison"
   ]
  },
  {
   "cell_type": "markdown",
   "metadata": {},
   "source": [
    "### 3. Comparaision with 2000 CFR2"
   ]
  },
  {
   "cell_type": "code",
   "execution_count": 22,
   "metadata": {},
   "outputs": [],
   "source": [
    "--- Get Data from 2000 iterations\n",
    "tree802 = builder:build_tree(params)\n",
    "tree_data802 = TreeData(tree802)\n",
    "tree802_cfr = TreeCFR2()\n",
    "tree802_cfr:run_cfr(tree802, starting_ranges,number_of_iterations)\n",
    "tree_data802:get_training_set(tree802,1)"
   ]
  },
  {
   "cell_type": "code",
   "execution_count": 23,
   "metadata": {
    "collapsed": true
   },
   "outputs": [],
   "source": [
    "-- Building the neural net model\n",
    "strategy_nn2 = StrategyNN()\n",
    "nn_model2 = strategy_nn2.model\n",
    "-- Building trainer:\n",
    "nn_trainer2 = NNTrainer(tree_data802,nn_model2)\n",
    "-- Options:\n",
    "opt = {}\n",
    "opt.learningRate = 0.001\n",
    "opt.momentum = 0.95\n",
    "opt.validate = false"
   ]
  },
  {
   "cell_type": "code",
   "execution_count": 24,
   "metadata": {
    "collapsed": true
   },
   "outputs": [],
   "source": [
    "current_criterion2 = nn.SmoothL1Criterion()\n",
    "train_loss,test_loss = nn_trainer:train(nn_model2,current_criterion2,opt,10000)"
   ]
  },
  {
   "cell_type": "code",
   "execution_count": 25,
   "metadata": {},
   "outputs": [],
   "source": [
    "--- No Warm Start\n",
    "treeNoWarm2 = builder:build_tree(params)\n",
    "treeNoWarm_cfr2 = TreeCFR2()\n",
    "treeNoWarm_cfr2:run_cfr(treeNoWarm2, starting_ranges,number_of_iterations)"
   ]
  },
  {
   "cell_type": "code",
   "execution_count": 26,
   "metadata": {
    "collapsed": true
   },
   "outputs": [],
   "source": [
    "--- NNWarm Starting\n",
    "treeNNWarm2 = builder:build_tree(params)\n",
    "dataNN2 = TreeData(treeNNWarm2)\n",
    "dataNN2:get_training_set(treeNNWarm2,1)\n",
    "dataNN2:generate_new_initial_strategies(treeNNWarm2,nn_trainer2)"
   ]
  },
  {
   "cell_type": "code",
   "execution_count": 27,
   "metadata": {},
   "outputs": [],
   "source": [
    "--- NNWarm CFR Solver\n",
    "treeNNWarm_cfr2 = TreeCFR2()\n",
    "treeNNWarm_cfr2:run_cfr(treeNNWarm2, starting_ranges,number_of_iterations)"
   ]
  },
  {
   "cell_type": "code",
   "execution_count": 28,
   "metadata": {
    "collapsed": true
   },
   "outputs": [],
   "source": [
    "--- Target Warm Starting\n",
    "treeTargWarm2 = builder:build_tree(params)\n",
    "dataTarg2 = TreeData(treeTargWarm2)\n",
    "dataTarg2:get_training_set(treeTargWarm2,1)\n",
    "dataTarg2:warm_start_targets(treeTargWarm2,tree802)"
   ]
  },
  {
   "cell_type": "code",
   "execution_count": 29,
   "metadata": {},
   "outputs": [],
   "source": [
    "--- Building CFR Solver\n",
    "treeTargWarm_cfr2 = TreeCFR2()\n",
    "treeTargWarm_cfr2:run_cfr(treeTargWarm2, starting_ranges,number_of_iterations)"
   ]
  },
  {
   "cell_type": "code",
   "execution_count": 30,
   "metadata": {
    "collapsed": true
   },
   "outputs": [],
   "source": [
    "exploit_unif2 = tree802_cfr.exploitability_vec\n",
    "exploit_NoW2 = treeNoWarm_cfr2.exploitability_vec\n",
    "exploit_NNW2 = treeNNWarm_cfr2.exploitability_vec\n",
    "exploit_TargW2 = treeTargWarm_cfr2.exploitability_vec"
   ]
  },
  {
   "cell_type": "code",
   "execution_count": 31,
   "metadata": {},
   "outputs": [
    {
     "data": {
      "text/html": [
       "<script type=\"text/javascript\">\n",
       "$(function() {\n",
       "    if (typeof (window._bokeh_onload_callbacks) === \"undefined\"){\n",
       "  window._bokeh_onload_callbacks = [];\n",
       "    }\n",
       "    function load_lib(url, callback){\n",
       "  window._bokeh_onload_callbacks.push(callback);\n",
       "  if (window._bokeh_is_loading){\n",
       "      console.log(\"Bokeh: BokehJS is being loaded, scheduling callback at\", new Date());\n",
       "      return null;\n",
       "  }\n",
       "  console.log(\"Bokeh: BokehJS not loaded, scheduling load and callback at\", new Date());\n",
       "  window._bokeh_is_loading = true;\n",
       "  var s = document.createElement('script');\n",
       "  s.src = url;\n",
       "  s.async = true;\n",
       "  s.onreadystatechange = s.onload = function(){\n",
       "      Bokeh.embed.inject_css(\"https://cdn.pydata.org/bokeh-0.7.0.min.css\");\n",
       "      window._bokeh_onload_callbacks.forEach(function(callback){callback()});\n",
       "  };\n",
       "  s.onerror = function(){\n",
       "      console.warn(\"failed to load library \" + url);\n",
       "  };\n",
       "  document.getElementsByTagName(\"head\")[0].appendChild(s);\n",
       "    }\n",
       "\n",
       "    bokehjs_url = \"https://cdn.pydata.org/bokeh-0.7.0.min.js\"\n",
       "\n",
       "    var elt = document.getElementById(\"a012f827-86c7-4288-c23c-d3111780920b\");\n",
       "    if(elt==null) {\n",
       "  console.log(\"Bokeh: ERROR: autoload.js configured with elementid 'a012f827-86c7-4288-c23c-d3111780920b'\"\n",
       "        + \"but no matching script tag was found. \")\n",
       "  return false;\n",
       "    }\n",
       "\n",
       "    if(typeof(Bokeh) !== \"undefined\") {\n",
       "  console.log(\"Bokeh: BokehJS loaded, going straight to plotting\");\n",
       "  var modelid = \"ecb8aab3-06c8-42db-c2ca-1e76c0810183\";\n",
       "  var modeltype = \"Plot\";\n",
       "  var all_models = [{\"attributes\":{\"doc\":null,\"data\":{\"x\":[1,2,3,4,5,6,7,8,9,10,11,12,13,14,15],\"y\":[180,15.661748886108,8.5285968780518,6.1420564651489,4.8337373733521,4.3138008117676,3.6568517684937,3.3066091537476,3.092170715332,2.8121633529663,2.6074485778809,2.4663677215576,2.3445730209351,2.1809225082397,2.0300731658936]},\"column_names\":[\"x\",\"y\"],\"id\":\"9b04476f-2fef-4dc7-cd7e-1214a0f109b5\",\"discrete_ranges\":{},\"cont_ranges\":{},\"tags\":[],\"selected\":[]},\"type\":\"ColumnDataSource\",\"id\":\"9b04476f-2fef-4dc7-cd7e-1214a0f109b5\"},{\"attributes\":{\"x\":{\"units\":\"data\",\"field\":\"x\"},\"y\":{\"units\":\"data\",\"field\":\"y\"},\"fill_alpha\":{\"units\":\"data\",\"value\":0.2},\"tags\":[],\"line_color\":{\"value\":\"black\"},\"doc\":null,\"id\":\"6e826614-445d-4f5f-cf2c-7b1812f44263\",\"fill_color\":{\"value\":\"black\"},\"size\":{\"units\":\"screen\",\"value\":10},\"line_alpha\":{\"units\":\"data\",\"value\":1}},\"type\":\"Line\",\"id\":\"6e826614-445d-4f5f-cf2c-7b1812f44263\"},{\"attributes\":{\"x\":{\"units\":\"data\",\"field\":\"x\"},\"y\":{\"units\":\"data\",\"field\":\"y\"},\"fill_alpha\":{\"units\":\"data\",\"value\":0.2},\"tags\":[],\"line_color\":{\"value\":\"black\"},\"doc\":null,\"id\":\"319cfc32-9374-4b5d-cbc3-581876b1f638\",\"fill_color\":{\"value\":\"black\"},\"size\":{\"units\":\"screen\",\"value\":10},\"line_alpha\":{\"units\":\"data\",\"value\":1}},\"type\":\"Line\",\"id\":\"319cfc32-9374-4b5d-cbc3-581876b1f638\"},{\"attributes\":{\"glyph\":{\"id\":\"6e826614-445d-4f5f-cf2c-7b1812f44263\",\"type\":\"Line\"},\"name\":null,\"tags\":[],\"doc\":null,\"server_data_source\":null,\"data_source\":{\"id\":\"9b04476f-2fef-4dc7-cd7e-1214a0f109b5\",\"type\":\"ColumnDataSource\"},\"id\":\"a52de7cf-d93f-4291-c243-8372e60d5fe9\",\"selection_glyph\":null,\"nonselection_glyph\":{\"id\":\"319cfc32-9374-4b5d-cbc3-581876b1f638\",\"type\":\"Line\"}},\"type\":\"GlyphRenderer\",\"id\":\"a52de7cf-d93f-4291-c243-8372e60d5fe9\"},{\"attributes\":{\"doc\":null,\"data\":{\"x\":[1,2,3,4,5,6,7,8,9,10,11,12,13,14,15],\"y\":[180,15.661748886108,8.5285968780518,6.1420564651489,4.8337373733521,4.3138008117676,3.6568517684937,3.3066091537476,3.092170715332,2.8121633529663,2.6074485778809,2.4663677215576,2.3445730209351,2.1809225082397,2.0300731658936]},\"column_names\":[\"x\",\"y\"],\"id\":\"87a108f9-105a-4ad9-caf6-74db04ded801\",\"discrete_ranges\":{},\"cont_ranges\":{},\"tags\":[],\"selected\":[]},\"type\":\"ColumnDataSource\",\"id\":\"87a108f9-105a-4ad9-caf6-74db04ded801\"},{\"attributes\":{\"x\":{\"units\":\"data\",\"field\":\"x\"},\"y\":{\"units\":\"data\",\"field\":\"y\"},\"fill_alpha\":{\"units\":\"data\",\"value\":0.2},\"tags\":[],\"line_color\":{\"value\":\"red\"},\"doc\":null,\"id\":\"1a5a02a0-a8be-4341-c37c-0a24c07de74b\",\"fill_color\":{\"value\":\"red\"},\"size\":{\"units\":\"screen\",\"value\":10},\"line_alpha\":{\"units\":\"data\",\"value\":1}},\"type\":\"Line\",\"id\":\"1a5a02a0-a8be-4341-c37c-0a24c07de74b\"},{\"attributes\":{\"x\":{\"units\":\"data\",\"field\":\"x\"},\"y\":{\"units\":\"data\",\"field\":\"y\"},\"fill_alpha\":{\"units\":\"data\",\"value\":0.2},\"tags\":[],\"line_color\":{\"value\":\"red\"},\"doc\":null,\"id\":\"dff71c92-23b8-43c6-c3bb-b469d2d0d786\",\"fill_color\":{\"value\":\"red\"},\"size\":{\"units\":\"screen\",\"value\":10},\"line_alpha\":{\"units\":\"data\",\"value\":1}},\"type\":\"Line\",\"id\":\"dff71c92-23b8-43c6-c3bb-b469d2d0d786\"},{\"attributes\":{\"glyph\":{\"id\":\"1a5a02a0-a8be-4341-c37c-0a24c07de74b\",\"type\":\"Line\"},\"name\":null,\"tags\":[],\"doc\":null,\"server_data_source\":null,\"data_source\":{\"id\":\"87a108f9-105a-4ad9-caf6-74db04ded801\",\"type\":\"ColumnDataSource\"},\"id\":\"669671bc-bd45-45bd-c56c-69d8091de3af\",\"selection_glyph\":null,\"nonselection_glyph\":{\"id\":\"dff71c92-23b8-43c6-c3bb-b469d2d0d786\",\"type\":\"Line\"}},\"type\":\"GlyphRenderer\",\"id\":\"669671bc-bd45-45bd-c56c-69d8091de3af\"},{\"attributes\":{\"doc\":null,\"data\":{\"x\":[1,2,3,4,5,6,7,8,9,10,11,12,13,14,15],\"y\":[164.61618041992,14.252799034119,8.2869625091553,5.963981628418,4.8189811706543,3.9183588027954,3.5596485137939,3.228967666626,2.9522294998169,2.7138662338257,2.5424680709839,2.3638496398926,2.157543182373,2.0312623977661,1.9514560699463]},\"column_names\":[\"x\",\"y\"],\"id\":\"6949dd3f-b3a9-4b04-cb7b-532083676c7b\",\"discrete_ranges\":{},\"cont_ranges\":{},\"tags\":[],\"selected\":[]},\"type\":\"ColumnDataSource\",\"id\":\"6949dd3f-b3a9-4b04-cb7b-532083676c7b\"},{\"attributes\":{\"x\":{\"units\":\"data\",\"field\":\"x\"},\"y\":{\"units\":\"data\",\"field\":\"y\"},\"fill_alpha\":{\"units\":\"data\",\"value\":0.2},\"tags\":[],\"line_color\":{\"value\":\"blue\"},\"doc\":null,\"id\":\"ca55da0c-0066-4e9b-ce6d-5c6dcc197b79\",\"fill_color\":{\"value\":\"blue\"},\"size\":{\"units\":\"screen\",\"value\":10},\"line_alpha\":{\"units\":\"data\",\"value\":1}},\"type\":\"Line\",\"id\":\"ca55da0c-0066-4e9b-ce6d-5c6dcc197b79\"},{\"attributes\":{\"x\":{\"units\":\"data\",\"field\":\"x\"},\"y\":{\"units\":\"data\",\"field\":\"y\"},\"fill_alpha\":{\"units\":\"data\",\"value\":0.2},\"tags\":[],\"line_color\":{\"value\":\"blue\"},\"doc\":null,\"id\":\"79910314-5361-4da2-cd31-6f0f9c97dde2\",\"fill_color\":{\"value\":\"blue\"},\"size\":{\"units\":\"screen\",\"value\":10},\"line_alpha\":{\"units\":\"data\",\"value\":1}},\"type\":\"Line\",\"id\":\"79910314-5361-4da2-cd31-6f0f9c97dde2\"},{\"attributes\":{\"glyph\":{\"id\":\"ca55da0c-0066-4e9b-ce6d-5c6dcc197b79\",\"type\":\"Line\"},\"name\":null,\"tags\":[],\"doc\":null,\"server_data_source\":null,\"data_source\":{\"id\":\"6949dd3f-b3a9-4b04-cb7b-532083676c7b\",\"type\":\"ColumnDataSource\"},\"id\":\"ccd00dcb-1624-4837-c84f-c69b3bf88de2\",\"selection_glyph\":null,\"nonselection_glyph\":{\"id\":\"79910314-5361-4da2-cd31-6f0f9c97dde2\",\"type\":\"Line\"}},\"type\":\"GlyphRenderer\",\"id\":\"ccd00dcb-1624-4837-c84f-c69b3bf88de2\"},{\"attributes\":{\"doc\":null,\"data\":{\"x\":[1,2,3,4,5,6,7,8,9,10,11,12,13,14,15],\"y\":[2.0240888595581,16.338188171387,9.1999025344849,6.4619512557983,4.9502582550049,4.4176292419434,3.7792320251465,3.2962160110474,2.9437389373779,2.7350063323975,2.5782623291016,2.404278755188,2.2169618606567,2.0714530944824,1.9800357818604]},\"column_names\":[\"x\",\"y\"],\"id\":\"90c2a238-396a-4f1a-cf70-edc81ec6d30c\",\"discrete_ranges\":{},\"cont_ranges\":{},\"tags\":[],\"selected\":[]},\"type\":\"ColumnDataSource\",\"id\":\"90c2a238-396a-4f1a-cf70-edc81ec6d30c\"},{\"attributes\":{\"x\":{\"units\":\"data\",\"field\":\"x\"},\"y\":{\"units\":\"data\",\"field\":\"y\"},\"fill_alpha\":{\"units\":\"data\",\"value\":0.2},\"tags\":[],\"line_color\":{\"value\":\"green\"},\"doc\":null,\"id\":\"f5d02d8f-1f13-4a44-ca94-faa314ea24c3\",\"fill_color\":{\"value\":\"green\"},\"size\":{\"units\":\"screen\",\"value\":10},\"line_alpha\":{\"units\":\"data\",\"value\":1}},\"type\":\"Line\",\"id\":\"f5d02d8f-1f13-4a44-ca94-faa314ea24c3\"},{\"attributes\":{\"x\":{\"units\":\"data\",\"field\":\"x\"},\"y\":{\"units\":\"data\",\"field\":\"y\"},\"fill_alpha\":{\"units\":\"data\",\"value\":0.2},\"tags\":[],\"line_color\":{\"value\":\"green\"},\"doc\":null,\"id\":\"de8269f4-22c7-4cf4-cc8d-43e9c4691774\",\"fill_color\":{\"value\":\"green\"},\"size\":{\"units\":\"screen\",\"value\":10},\"line_alpha\":{\"units\":\"data\",\"value\":1}},\"type\":\"Line\",\"id\":\"de8269f4-22c7-4cf4-cc8d-43e9c4691774\"},{\"attributes\":{\"glyph\":{\"id\":\"f5d02d8f-1f13-4a44-ca94-faa314ea24c3\",\"type\":\"Line\"},\"name\":null,\"tags\":[],\"doc\":null,\"server_data_source\":null,\"data_source\":{\"id\":\"90c2a238-396a-4f1a-cf70-edc81ec6d30c\",\"type\":\"ColumnDataSource\"},\"id\":\"6cbba5ca-aa9f-4b8c-cbaf-3cbf02985ed3\",\"selection_glyph\":null,\"nonselection_glyph\":{\"id\":\"de8269f4-22c7-4cf4-cc8d-43e9c4691774\",\"type\":\"Line\"}},\"type\":\"GlyphRenderer\",\"id\":\"6cbba5ca-aa9f-4b8c-cbaf-3cbf02985ed3\"},{\"attributes\":{\"doc\":null,\"sources\":[{\"columns\":[\"x\"],\"source\":{\"type\":\"ColumnDataSource\",\"id\":\"9b04476f-2fef-4dc7-cd7e-1214a0f109b5\"}},{\"columns\":[\"x\"],\"source\":{\"type\":\"ColumnDataSource\",\"id\":\"87a108f9-105a-4ad9-caf6-74db04ded801\"}},{\"columns\":[\"x\"],\"source\":{\"type\":\"ColumnDataSource\",\"id\":\"6949dd3f-b3a9-4b04-cb7b-532083676c7b\"}},{\"columns\":[\"x\"],\"source\":{\"type\":\"ColumnDataSource\",\"id\":\"90c2a238-396a-4f1a-cf70-edc81ec6d30c\"}}],\"tags\":[],\"id\":\"2f35aae6-9d4e-4853-c877-212435d1da46\"},\"type\":\"DataRange1d\",\"id\":\"2f35aae6-9d4e-4853-c877-212435d1da46\"},{\"attributes\":{\"doc\":null,\"sources\":[{\"columns\":[\"y\"],\"source\":{\"type\":\"ColumnDataSource\",\"id\":\"9b04476f-2fef-4dc7-cd7e-1214a0f109b5\"}},{\"columns\":[\"y\"],\"source\":{\"type\":\"ColumnDataSource\",\"id\":\"87a108f9-105a-4ad9-caf6-74db04ded801\"}},{\"columns\":[\"y\"],\"source\":{\"type\":\"ColumnDataSource\",\"id\":\"6949dd3f-b3a9-4b04-cb7b-532083676c7b\"}},{\"columns\":[\"y\"],\"source\":{\"type\":\"ColumnDataSource\",\"id\":\"90c2a238-396a-4f1a-cf70-edc81ec6d30c\"}}],\"tags\":[],\"id\":\"c9dfafc9-be3b-4791-c7eb-fbfae9d0b2dd\"},\"type\":\"DataRange1d\",\"id\":\"c9dfafc9-be3b-4791-c7eb-fbfae9d0b2dd\"},{\"attributes\":{\"doc\":null,\"geometries\":[],\"tags\":[],\"id\":\"6be908a1-7ed4-4490-c4c7-008649a1cf10\"},\"type\":\"ToolEvents\",\"id\":\"6be908a1-7ed4-4490-c4c7-008649a1cf10\"},{\"attributes\":{\"doc\":null,\"tags\":[],\"id\":\"ce698aaa-805b-4282-c2a0-ecf37a6e870c\"},\"type\":\"BasicTickFormatter\",\"id\":\"ce698aaa-805b-4282-c2a0-ecf37a6e870c\"},{\"attributes\":{\"doc\":null,\"num_minor_ticks\":5,\"tags\":[],\"id\":\"20b64522-c2c9-4873-c836-577492cdeb29\"},\"type\":\"BasicTicker\",\"id\":\"20b64522-c2c9-4873-c836-577492cdeb29\"},{\"attributes\":{\"doc\":null,\"formatter\":{\"id\":\"ce698aaa-805b-4282-c2a0-ecf37a6e870c\",\"type\":\"BasicTickFormatter\"},\"axis_label\":\"Scaled number of iterations\",\"id\":\"92fe1663-a657-4035-c0d0-a36f0c483a5d\",\"plot\":{\"type\":\"Plot\",\"id\":\"ecb8aab3-06c8-42db-c2ca-1e76c0810183\",\"subtype\":\"Figure\"},\"tags\":[],\"ticker\":{\"id\":\"20b64522-c2c9-4873-c836-577492cdeb29\",\"type\":\"BasicTicker\"}},\"type\":\"LinearAxis\",\"id\":\"92fe1663-a657-4035-c0d0-a36f0c483a5d\"},{\"attributes\":{\"doc\":null,\"id\":\"4d832f56-3fd6-4b89-cb62-fc152a1c2e44\",\"plot\":{\"type\":\"Plot\",\"id\":\"ecb8aab3-06c8-42db-c2ca-1e76c0810183\",\"subtype\":\"Figure\"},\"ticker\":{\"id\":\"20b64522-c2c9-4873-c836-577492cdeb29\",\"type\":\"BasicTicker\"},\"tags\":[],\"dimension\":0},\"type\":\"Grid\",\"id\":\"4d832f56-3fd6-4b89-cb62-fc152a1c2e44\"},{\"attributes\":{\"doc\":null,\"tags\":[],\"id\":\"e38ec0e6-48e6-493d-c9cf-cfd41e6eedbd\"},\"type\":\"BasicTickFormatter\",\"id\":\"e38ec0e6-48e6-493d-c9cf-cfd41e6eedbd\"},{\"attributes\":{\"doc\":null,\"num_minor_ticks\":5,\"tags\":[],\"id\":\"c3385696-94de-41ae-c172-fe2eb191cd70\"},\"type\":\"BasicTicker\",\"id\":\"c3385696-94de-41ae-c172-fe2eb191cd70\"},{\"attributes\":{\"doc\":null,\"formatter\":{\"id\":\"e38ec0e6-48e6-493d-c9cf-cfd41e6eedbd\",\"type\":\"BasicTickFormatter\"},\"axis_label\":\"Exploitability\",\"id\":\"4577716c-cb55-47ea-c722-c72553f38a62\",\"plot\":{\"type\":\"Plot\",\"id\":\"ecb8aab3-06c8-42db-c2ca-1e76c0810183\",\"subtype\":\"Figure\"},\"tags\":[],\"ticker\":{\"id\":\"c3385696-94de-41ae-c172-fe2eb191cd70\",\"type\":\"BasicTicker\"}},\"type\":\"LinearAxis\",\"id\":\"4577716c-cb55-47ea-c722-c72553f38a62\"},{\"attributes\":{\"doc\":null,\"id\":\"22ec61ba-288d-4cdd-cc31-2bdd6239ceeb\",\"plot\":{\"type\":\"Plot\",\"id\":\"ecb8aab3-06c8-42db-c2ca-1e76c0810183\",\"subtype\":\"Figure\"},\"ticker\":{\"id\":\"c3385696-94de-41ae-c172-fe2eb191cd70\",\"type\":\"BasicTicker\"},\"tags\":[],\"dimension\":1},\"type\":\"Grid\",\"id\":\"22ec61ba-288d-4cdd-cc31-2bdd6239ceeb\"},{\"attributes\":{\"doc\":null,\"id\":\"158c4247-e7cb-464a-c638-62eec5083a88\",\"plot\":{\"type\":\"Plot\",\"id\":\"ecb8aab3-06c8-42db-c2ca-1e76c0810183\",\"subtype\":\"Figure\"},\"tags\":[],\"dimensions\":[\"width\",\"height\"]},\"type\":\"PanTool\",\"id\":\"158c4247-e7cb-464a-c638-62eec5083a88\"},{\"attributes\":{\"doc\":null,\"id\":\"5699ae76-798e-45c5-c572-e991434bc40f\",\"plot\":{\"type\":\"Plot\",\"id\":\"ecb8aab3-06c8-42db-c2ca-1e76c0810183\",\"subtype\":\"Figure\"},\"tags\":[],\"dimensions\":[\"width\",\"height\"]},\"type\":\"WheelZoomTool\",\"id\":\"5699ae76-798e-45c5-c572-e991434bc40f\"},{\"attributes\":{\"doc\":null,\"plot\":{\"type\":\"Plot\",\"id\":\"ecb8aab3-06c8-42db-c2ca-1e76c0810183\",\"subtype\":\"Figure\"},\"tags\":[],\"id\":\"cb882bd6-ca8d-4b44-cbe2-4dd47399e3e1\"},\"type\":\"BoxZoomTool\",\"id\":\"cb882bd6-ca8d-4b44-cbe2-4dd47399e3e1\"},{\"attributes\":{\"doc\":null,\"plot\":{\"type\":\"Plot\",\"id\":\"ecb8aab3-06c8-42db-c2ca-1e76c0810183\",\"subtype\":\"Figure\"},\"tags\":[],\"id\":\"de81e847-c7c5-432d-c35a-42b2c4fed59a\"},\"type\":\"PreviewSaveTool\",\"id\":\"de81e847-c7c5-432d-c35a-42b2c4fed59a\"},{\"attributes\":{\"doc\":null,\"plot\":{\"type\":\"Plot\",\"id\":\"ecb8aab3-06c8-42db-c2ca-1e76c0810183\",\"subtype\":\"Figure\"},\"tags\":[],\"id\":\"8a228063-6637-46fd-c623-71d190dcf1e8\"},\"type\":\"ResizeTool\",\"id\":\"8a228063-6637-46fd-c623-71d190dcf1e8\"},{\"attributes\":{\"doc\":null,\"plot\":{\"type\":\"Plot\",\"id\":\"ecb8aab3-06c8-42db-c2ca-1e76c0810183\",\"subtype\":\"Figure\"},\"tags\":[],\"id\":\"4553ff01-182c-4c09-ccab-b9b207fd724d\"},\"type\":\"ResetTool\",\"id\":\"4553ff01-182c-4c09-ccab-b9b207fd724d\"},{\"attributes\":{\"doc\":null,\"id\":\"18dc1715-e377-4cfa-cc7f-54acba662df1\",\"plot\":{\"type\":\"Plot\",\"id\":\"ecb8aab3-06c8-42db-c2ca-1e76c0810183\",\"subtype\":\"Figure\"},\"tags\":[],\"legends\":[[\"Original CFR in the paper\",[{\"id\":\"a52de7cf-d93f-4291-c243-8372e60d5fe9\",\"type\":\"GlyphRenderer\"}]],[\"No Warm start CFR\",[{\"id\":\"669671bc-bd45-45bd-c56c-69d8091de3af\",\"type\":\"GlyphRenderer\"}]],[\"Neural Net warm start CFR\",[{\"id\":\"ccd00dcb-1624-4837-c84f-c69b3bf88de2\",\"type\":\"GlyphRenderer\"}]],[\"Warm start with target values\",[{\"id\":\"6cbba5ca-aa9f-4b8c-cbaf-3cbf02985ed3\",\"type\":\"GlyphRenderer\"}]]]},\"type\":\"Legend\",\"id\":\"18dc1715-e377-4cfa-cc7f-54acba662df1\"},{\"attributes\":{\"title\":\"Exploitability of different strategoes\",\"renderers\":[{\"id\":\"a52de7cf-d93f-4291-c243-8372e60d5fe9\",\"type\":\"GlyphRenderer\"},{\"id\":\"669671bc-bd45-45bd-c56c-69d8091de3af\",\"type\":\"GlyphRenderer\"},{\"id\":\"ccd00dcb-1624-4837-c84f-c69b3bf88de2\",\"type\":\"GlyphRenderer\"},{\"id\":\"6cbba5ca-aa9f-4b8c-cbaf-3cbf02985ed3\",\"type\":\"GlyphRenderer\"},{\"id\":\"92fe1663-a657-4035-c0d0-a36f0c483a5d\",\"type\":\"LinearAxis\"},{\"id\":\"4d832f56-3fd6-4b89-cb62-fc152a1c2e44\",\"type\":\"Grid\"},{\"id\":\"4577716c-cb55-47ea-c722-c72553f38a62\",\"type\":\"LinearAxis\"},{\"id\":\"22ec61ba-288d-4cdd-cc31-2bdd6239ceeb\",\"type\":\"Grid\"},{\"id\":\"18dc1715-e377-4cfa-cc7f-54acba662df1\",\"type\":\"Legend\"}],\"extra_y_ranges\":{},\"tools\":[{\"id\":\"158c4247-e7cb-464a-c638-62eec5083a88\",\"type\":\"PanTool\"},{\"id\":\"5699ae76-798e-45c5-c572-e991434bc40f\",\"type\":\"WheelZoomTool\"},{\"id\":\"cb882bd6-ca8d-4b44-cbe2-4dd47399e3e1\",\"type\":\"BoxZoomTool\"},{\"id\":\"de81e847-c7c5-432d-c35a-42b2c4fed59a\",\"type\":\"PreviewSaveTool\"},{\"id\":\"8a228063-6637-46fd-c623-71d190dcf1e8\",\"type\":\"ResizeTool\"},{\"id\":\"4553ff01-182c-4c09-ccab-b9b207fd724d\",\"type\":\"ResetTool\"}],\"extra_x_ranges\":{},\"tags\":[],\"tool_events\":{\"id\":\"6be908a1-7ed4-4490-c4c7-008649a1cf10\",\"type\":\"ToolEvents\"},\"doc\":null,\"right\":[],\"below\":[{\"id\":\"92fe1663-a657-4035-c0d0-a36f0c483a5d\",\"type\":\"LinearAxis\"}],\"id\":\"ecb8aab3-06c8-42db-c2ca-1e76c0810183\",\"x_range\":{\"id\":\"2f35aae6-9d4e-4853-c877-212435d1da46\",\"type\":\"DataRange1d\"},\"y_range\":{\"id\":\"c9dfafc9-be3b-4791-c7eb-fbfae9d0b2dd\",\"type\":\"DataRange1d\"},\"above\":[],\"left\":[{\"id\":\"4577716c-cb55-47ea-c722-c72553f38a62\",\"type\":\"LinearAxis\"}]},\"type\":\"Plot\",\"id\":\"ecb8aab3-06c8-42db-c2ca-1e76c0810183\"}];\n",
       "  Bokeh.load_models(all_models);\n",
       "  var model = Bokeh.Collections(modeltype).get(modelid);\n",
       "  $(\"#a012f827-86c7-4288-c23c-d3111780920b\").html(''); // clear any previous plot in window_id\n",
       "  var view = new model.default_view({model: model, el: \"#a012f827-86c7-4288-c23c-d3111780920b\"});\n",
       "    } else {\n",
       "  load_lib(bokehjs_url, function() {\n",
       "      console.log(\"Bokeh: BokehJS plotting callback run at\", new Date())\n",
       "      var modelid = \"ecb8aab3-06c8-42db-c2ca-1e76c0810183\";\n",
       "      var modeltype = \"Plot\";\n",
       "      var all_models = [{\"attributes\":{\"doc\":null,\"data\":{\"x\":[1,2,3,4,5,6,7,8,9,10,11,12,13,14,15],\"y\":[180,15.661748886108,8.5285968780518,6.1420564651489,4.8337373733521,4.3138008117676,3.6568517684937,3.3066091537476,3.092170715332,2.8121633529663,2.6074485778809,2.4663677215576,2.3445730209351,2.1809225082397,2.0300731658936]},\"column_names\":[\"x\",\"y\"],\"id\":\"9b04476f-2fef-4dc7-cd7e-1214a0f109b5\",\"discrete_ranges\":{},\"cont_ranges\":{},\"tags\":[],\"selected\":[]},\"type\":\"ColumnDataSource\",\"id\":\"9b04476f-2fef-4dc7-cd7e-1214a0f109b5\"},{\"attributes\":{\"x\":{\"units\":\"data\",\"field\":\"x\"},\"y\":{\"units\":\"data\",\"field\":\"y\"},\"fill_alpha\":{\"units\":\"data\",\"value\":0.2},\"tags\":[],\"line_color\":{\"value\":\"black\"},\"doc\":null,\"id\":\"6e826614-445d-4f5f-cf2c-7b1812f44263\",\"fill_color\":{\"value\":\"black\"},\"size\":{\"units\":\"screen\",\"value\":10},\"line_alpha\":{\"units\":\"data\",\"value\":1}},\"type\":\"Line\",\"id\":\"6e826614-445d-4f5f-cf2c-7b1812f44263\"},{\"attributes\":{\"x\":{\"units\":\"data\",\"field\":\"x\"},\"y\":{\"units\":\"data\",\"field\":\"y\"},\"fill_alpha\":{\"units\":\"data\",\"value\":0.2},\"tags\":[],\"line_color\":{\"value\":\"black\"},\"doc\":null,\"id\":\"319cfc32-9374-4b5d-cbc3-581876b1f638\",\"fill_color\":{\"value\":\"black\"},\"size\":{\"units\":\"screen\",\"value\":10},\"line_alpha\":{\"units\":\"data\",\"value\":1}},\"type\":\"Line\",\"id\":\"319cfc32-9374-4b5d-cbc3-581876b1f638\"},{\"attributes\":{\"glyph\":{\"id\":\"6e826614-445d-4f5f-cf2c-7b1812f44263\",\"type\":\"Line\"},\"name\":null,\"tags\":[],\"doc\":null,\"server_data_source\":null,\"data_source\":{\"id\":\"9b04476f-2fef-4dc7-cd7e-1214a0f109b5\",\"type\":\"ColumnDataSource\"},\"id\":\"a52de7cf-d93f-4291-c243-8372e60d5fe9\",\"selection_glyph\":null,\"nonselection_glyph\":{\"id\":\"319cfc32-9374-4b5d-cbc3-581876b1f638\",\"type\":\"Line\"}},\"type\":\"GlyphRenderer\",\"id\":\"a52de7cf-d93f-4291-c243-8372e60d5fe9\"},{\"attributes\":{\"doc\":null,\"data\":{\"x\":[1,2,3,4,5,6,7,8,9,10,11,12,13,14,15],\"y\":[180,15.661748886108,8.5285968780518,6.1420564651489,4.8337373733521,4.3138008117676,3.6568517684937,3.3066091537476,3.092170715332,2.8121633529663,2.6074485778809,2.4663677215576,2.3445730209351,2.1809225082397,2.0300731658936]},\"column_names\":[\"x\",\"y\"],\"id\":\"87a108f9-105a-4ad9-caf6-74db04ded801\",\"discrete_ranges\":{},\"cont_ranges\":{},\"tags\":[],\"selected\":[]},\"type\":\"ColumnDataSource\",\"id\":\"87a108f9-105a-4ad9-caf6-74db04ded801\"},{\"attributes\":{\"x\":{\"units\":\"data\",\"field\":\"x\"},\"y\":{\"units\":\"data\",\"field\":\"y\"},\"fill_alpha\":{\"units\":\"data\",\"value\":0.2},\"tags\":[],\"line_color\":{\"value\":\"red\"},\"doc\":null,\"id\":\"1a5a02a0-a8be-4341-c37c-0a24c07de74b\",\"fill_color\":{\"value\":\"red\"},\"size\":{\"units\":\"screen\",\"value\":10},\"line_alpha\":{\"units\":\"data\",\"value\":1}},\"type\":\"Line\",\"id\":\"1a5a02a0-a8be-4341-c37c-0a24c07de74b\"},{\"attributes\":{\"x\":{\"units\":\"data\",\"field\":\"x\"},\"y\":{\"units\":\"data\",\"field\":\"y\"},\"fill_alpha\":{\"units\":\"data\",\"value\":0.2},\"tags\":[],\"line_color\":{\"value\":\"red\"},\"doc\":null,\"id\":\"dff71c92-23b8-43c6-c3bb-b469d2d0d786\",\"fill_color\":{\"value\":\"red\"},\"size\":{\"units\":\"screen\",\"value\":10},\"line_alpha\":{\"units\":\"data\",\"value\":1}},\"type\":\"Line\",\"id\":\"dff71c92-23b8-43c6-c3bb-b469d2d0d786\"},{\"attributes\":{\"glyph\":{\"id\":\"1a5a02a0-a8be-4341-c37c-0a24c07de74b\",\"type\":\"Line\"},\"name\":null,\"tags\":[],\"doc\":null,\"server_data_source\":null,\"data_source\":{\"id\":\"87a108f9-105a-4ad9-caf6-74db04ded801\",\"type\":\"ColumnDataSource\"},\"id\":\"669671bc-bd45-45bd-c56c-69d8091de3af\",\"selection_glyph\":null,\"nonselection_glyph\":{\"id\":\"dff71c92-23b8-43c6-c3bb-b469d2d0d786\",\"type\":\"Line\"}},\"type\":\"GlyphRenderer\",\"id\":\"669671bc-bd45-45bd-c56c-69d8091de3af\"},{\"attributes\":{\"doc\":null,\"data\":{\"x\":[1,2,3,4,5,6,7,8,9,10,11,12,13,14,15],\"y\":[164.61618041992,14.252799034119,8.2869625091553,5.963981628418,4.8189811706543,3.9183588027954,3.5596485137939,3.228967666626,2.9522294998169,2.7138662338257,2.5424680709839,2.3638496398926,2.157543182373,2.0312623977661,1.9514560699463]},\"column_names\":[\"x\",\"y\"],\"id\":\"6949dd3f-b3a9-4b04-cb7b-532083676c7b\",\"discrete_ranges\":{},\"cont_ranges\":{},\"tags\":[],\"selected\":[]},\"type\":\"ColumnDataSource\",\"id\":\"6949dd3f-b3a9-4b04-cb7b-532083676c7b\"},{\"attributes\":{\"x\":{\"units\":\"data\",\"field\":\"x\"},\"y\":{\"units\":\"data\",\"field\":\"y\"},\"fill_alpha\":{\"units\":\"data\",\"value\":0.2},\"tags\":[],\"line_color\":{\"value\":\"blue\"},\"doc\":null,\"id\":\"ca55da0c-0066-4e9b-ce6d-5c6dcc197b79\",\"fill_color\":{\"value\":\"blue\"},\"size\":{\"units\":\"screen\",\"value\":10},\"line_alpha\":{\"units\":\"data\",\"value\":1}},\"type\":\"Line\",\"id\":\"ca55da0c-0066-4e9b-ce6d-5c6dcc197b79\"},{\"attributes\":{\"x\":{\"units\":\"data\",\"field\":\"x\"},\"y\":{\"units\":\"data\",\"field\":\"y\"},\"fill_alpha\":{\"units\":\"data\",\"value\":0.2},\"tags\":[],\"line_color\":{\"value\":\"blue\"},\"doc\":null,\"id\":\"79910314-5361-4da2-cd31-6f0f9c97dde2\",\"fill_color\":{\"value\":\"blue\"},\"size\":{\"units\":\"screen\",\"value\":10},\"line_alpha\":{\"units\":\"data\",\"value\":1}},\"type\":\"Line\",\"id\":\"79910314-5361-4da2-cd31-6f0f9c97dde2\"},{\"attributes\":{\"glyph\":{\"id\":\"ca55da0c-0066-4e9b-ce6d-5c6dcc197b79\",\"type\":\"Line\"},\"name\":null,\"tags\":[],\"doc\":null,\"server_data_source\":null,\"data_source\":{\"id\":\"6949dd3f-b3a9-4b04-cb7b-532083676c7b\",\"type\":\"ColumnDataSource\"},\"id\":\"ccd00dcb-1624-4837-c84f-c69b3bf88de2\",\"selection_glyph\":null,\"nonselection_glyph\":{\"id\":\"79910314-5361-4da2-cd31-6f0f9c97dde2\",\"type\":\"Line\"}},\"type\":\"GlyphRenderer\",\"id\":\"ccd00dcb-1624-4837-c84f-c69b3bf88de2\"},{\"attributes\":{\"doc\":null,\"data\":{\"x\":[1,2,3,4,5,6,7,8,9,10,11,12,13,14,15],\"y\":[2.0240888595581,16.338188171387,9.1999025344849,6.4619512557983,4.9502582550049,4.4176292419434,3.7792320251465,3.2962160110474,2.9437389373779,2.7350063323975,2.5782623291016,2.404278755188,2.2169618606567,2.0714530944824,1.9800357818604]},\"column_names\":[\"x\",\"y\"],\"id\":\"90c2a238-396a-4f1a-cf70-edc81ec6d30c\",\"discrete_ranges\":{},\"cont_ranges\":{},\"tags\":[],\"selected\":[]},\"type\":\"ColumnDataSource\",\"id\":\"90c2a238-396a-4f1a-cf70-edc81ec6d30c\"},{\"attributes\":{\"x\":{\"units\":\"data\",\"field\":\"x\"},\"y\":{\"units\":\"data\",\"field\":\"y\"},\"fill_alpha\":{\"units\":\"data\",\"value\":0.2},\"tags\":[],\"line_color\":{\"value\":\"green\"},\"doc\":null,\"id\":\"f5d02d8f-1f13-4a44-ca94-faa314ea24c3\",\"fill_color\":{\"value\":\"green\"},\"size\":{\"units\":\"screen\",\"value\":10},\"line_alpha\":{\"units\":\"data\",\"value\":1}},\"type\":\"Line\",\"id\":\"f5d02d8f-1f13-4a44-ca94-faa314ea24c3\"},{\"attributes\":{\"x\":{\"units\":\"data\",\"field\":\"x\"},\"y\":{\"units\":\"data\",\"field\":\"y\"},\"fill_alpha\":{\"units\":\"data\",\"value\":0.2},\"tags\":[],\"line_color\":{\"value\":\"green\"},\"doc\":null,\"id\":\"de8269f4-22c7-4cf4-cc8d-43e9c4691774\",\"fill_color\":{\"value\":\"green\"},\"size\":{\"units\":\"screen\",\"value\":10},\"line_alpha\":{\"units\":\"data\",\"value\":1}},\"type\":\"Line\",\"id\":\"de8269f4-22c7-4cf4-cc8d-43e9c4691774\"},{\"attributes\":{\"glyph\":{\"id\":\"f5d02d8f-1f13-4a44-ca94-faa314ea24c3\",\"type\":\"Line\"},\"name\":null,\"tags\":[],\"doc\":null,\"server_data_source\":null,\"data_source\":{\"id\":\"90c2a238-396a-4f1a-cf70-edc81ec6d30c\",\"type\":\"ColumnDataSource\"},\"id\":\"6cbba5ca-aa9f-4b8c-cbaf-3cbf02985ed3\",\"selection_glyph\":null,\"nonselection_glyph\":{\"id\":\"de8269f4-22c7-4cf4-cc8d-43e9c4691774\",\"type\":\"Line\"}},\"type\":\"GlyphRenderer\",\"id\":\"6cbba5ca-aa9f-4b8c-cbaf-3cbf02985ed3\"},{\"attributes\":{\"doc\":null,\"sources\":[{\"columns\":[\"x\"],\"source\":{\"type\":\"ColumnDataSource\",\"id\":\"9b04476f-2fef-4dc7-cd7e-1214a0f109b5\"}},{\"columns\":[\"x\"],\"source\":{\"type\":\"ColumnDataSource\",\"id\":\"87a108f9-105a-4ad9-caf6-74db04ded801\"}},{\"columns\":[\"x\"],\"source\":{\"type\":\"ColumnDataSource\",\"id\":\"6949dd3f-b3a9-4b04-cb7b-532083676c7b\"}},{\"columns\":[\"x\"],\"source\":{\"type\":\"ColumnDataSource\",\"id\":\"90c2a238-396a-4f1a-cf70-edc81ec6d30c\"}}],\"tags\":[],\"id\":\"2f35aae6-9d4e-4853-c877-212435d1da46\"},\"type\":\"DataRange1d\",\"id\":\"2f35aae6-9d4e-4853-c877-212435d1da46\"},{\"attributes\":{\"doc\":null,\"sources\":[{\"columns\":[\"y\"],\"source\":{\"type\":\"ColumnDataSource\",\"id\":\"9b04476f-2fef-4dc7-cd7e-1214a0f109b5\"}},{\"columns\":[\"y\"],\"source\":{\"type\":\"ColumnDataSource\",\"id\":\"87a108f9-105a-4ad9-caf6-74db04ded801\"}},{\"columns\":[\"y\"],\"source\":{\"type\":\"ColumnDataSource\",\"id\":\"6949dd3f-b3a9-4b04-cb7b-532083676c7b\"}},{\"columns\":[\"y\"],\"source\":{\"type\":\"ColumnDataSource\",\"id\":\"90c2a238-396a-4f1a-cf70-edc81ec6d30c\"}}],\"tags\":[],\"id\":\"c9dfafc9-be3b-4791-c7eb-fbfae9d0b2dd\"},\"type\":\"DataRange1d\",\"id\":\"c9dfafc9-be3b-4791-c7eb-fbfae9d0b2dd\"},{\"attributes\":{\"doc\":null,\"geometries\":[],\"tags\":[],\"id\":\"6be908a1-7ed4-4490-c4c7-008649a1cf10\"},\"type\":\"ToolEvents\",\"id\":\"6be908a1-7ed4-4490-c4c7-008649a1cf10\"},{\"attributes\":{\"doc\":null,\"tags\":[],\"id\":\"ce698aaa-805b-4282-c2a0-ecf37a6e870c\"},\"type\":\"BasicTickFormatter\",\"id\":\"ce698aaa-805b-4282-c2a0-ecf37a6e870c\"},{\"attributes\":{\"doc\":null,\"num_minor_ticks\":5,\"tags\":[],\"id\":\"20b64522-c2c9-4873-c836-577492cdeb29\"},\"type\":\"BasicTicker\",\"id\":\"20b64522-c2c9-4873-c836-577492cdeb29\"},{\"attributes\":{\"doc\":null,\"formatter\":{\"id\":\"ce698aaa-805b-4282-c2a0-ecf37a6e870c\",\"type\":\"BasicTickFormatter\"},\"axis_label\":\"Scaled number of iterations\",\"id\":\"92fe1663-a657-4035-c0d0-a36f0c483a5d\",\"plot\":{\"type\":\"Plot\",\"id\":\"ecb8aab3-06c8-42db-c2ca-1e76c0810183\",\"subtype\":\"Figure\"},\"tags\":[],\"ticker\":{\"id\":\"20b64522-c2c9-4873-c836-577492cdeb29\",\"type\":\"BasicTicker\"}},\"type\":\"LinearAxis\",\"id\":\"92fe1663-a657-4035-c0d0-a36f0c483a5d\"},{\"attributes\":{\"doc\":null,\"id\":\"4d832f56-3fd6-4b89-cb62-fc152a1c2e44\",\"plot\":{\"type\":\"Plot\",\"id\":\"ecb8aab3-06c8-42db-c2ca-1e76c0810183\",\"subtype\":\"Figure\"},\"ticker\":{\"id\":\"20b64522-c2c9-4873-c836-577492cdeb29\",\"type\":\"BasicTicker\"},\"tags\":[],\"dimension\":0},\"type\":\"Grid\",\"id\":\"4d832f56-3fd6-4b89-cb62-fc152a1c2e44\"},{\"attributes\":{\"doc\":null,\"tags\":[],\"id\":\"e38ec0e6-48e6-493d-c9cf-cfd41e6eedbd\"},\"type\":\"BasicTickFormatter\",\"id\":\"e38ec0e6-48e6-493d-c9cf-cfd41e6eedbd\"},{\"attributes\":{\"doc\":null,\"num_minor_ticks\":5,\"tags\":[],\"id\":\"c3385696-94de-41ae-c172-fe2eb191cd70\"},\"type\":\"BasicTicker\",\"id\":\"c3385696-94de-41ae-c172-fe2eb191cd70\"},{\"attributes\":{\"doc\":null,\"formatter\":{\"id\":\"e38ec0e6-48e6-493d-c9cf-cfd41e6eedbd\",\"type\":\"BasicTickFormatter\"},\"axis_label\":\"Exploitability\",\"id\":\"4577716c-cb55-47ea-c722-c72553f38a62\",\"plot\":{\"type\":\"Plot\",\"id\":\"ecb8aab3-06c8-42db-c2ca-1e76c0810183\",\"subtype\":\"Figure\"},\"tags\":[],\"ticker\":{\"id\":\"c3385696-94de-41ae-c172-fe2eb191cd70\",\"type\":\"BasicTicker\"}},\"type\":\"LinearAxis\",\"id\":\"4577716c-cb55-47ea-c722-c72553f38a62\"},{\"attributes\":{\"doc\":null,\"id\":\"22ec61ba-288d-4cdd-cc31-2bdd6239ceeb\",\"plot\":{\"type\":\"Plot\",\"id\":\"ecb8aab3-06c8-42db-c2ca-1e76c0810183\",\"subtype\":\"Figure\"},\"ticker\":{\"id\":\"c3385696-94de-41ae-c172-fe2eb191cd70\",\"type\":\"BasicTicker\"},\"tags\":[],\"dimension\":1},\"type\":\"Grid\",\"id\":\"22ec61ba-288d-4cdd-cc31-2bdd6239ceeb\"},{\"attributes\":{\"doc\":null,\"id\":\"158c4247-e7cb-464a-c638-62eec5083a88\",\"plot\":{\"type\":\"Plot\",\"id\":\"ecb8aab3-06c8-42db-c2ca-1e76c0810183\",\"subtype\":\"Figure\"},\"tags\":[],\"dimensions\":[\"width\",\"height\"]},\"type\":\"PanTool\",\"id\":\"158c4247-e7cb-464a-c638-62eec5083a88\"},{\"attributes\":{\"doc\":null,\"id\":\"5699ae76-798e-45c5-c572-e991434bc40f\",\"plot\":{\"type\":\"Plot\",\"id\":\"ecb8aab3-06c8-42db-c2ca-1e76c0810183\",\"subtype\":\"Figure\"},\"tags\":[],\"dimensions\":[\"width\",\"height\"]},\"type\":\"WheelZoomTool\",\"id\":\"5699ae76-798e-45c5-c572-e991434bc40f\"},{\"attributes\":{\"doc\":null,\"plot\":{\"type\":\"Plot\",\"id\":\"ecb8aab3-06c8-42db-c2ca-1e76c0810183\",\"subtype\":\"Figure\"},\"tags\":[],\"id\":\"cb882bd6-ca8d-4b44-cbe2-4dd47399e3e1\"},\"type\":\"BoxZoomTool\",\"id\":\"cb882bd6-ca8d-4b44-cbe2-4dd47399e3e1\"},{\"attributes\":{\"doc\":null,\"plot\":{\"type\":\"Plot\",\"id\":\"ecb8aab3-06c8-42db-c2ca-1e76c0810183\",\"subtype\":\"Figure\"},\"tags\":[],\"id\":\"de81e847-c7c5-432d-c35a-42b2c4fed59a\"},\"type\":\"PreviewSaveTool\",\"id\":\"de81e847-c7c5-432d-c35a-42b2c4fed59a\"},{\"attributes\":{\"doc\":null,\"plot\":{\"type\":\"Plot\",\"id\":\"ecb8aab3-06c8-42db-c2ca-1e76c0810183\",\"subtype\":\"Figure\"},\"tags\":[],\"id\":\"8a228063-6637-46fd-c623-71d190dcf1e8\"},\"type\":\"ResizeTool\",\"id\":\"8a228063-6637-46fd-c623-71d190dcf1e8\"},{\"attributes\":{\"doc\":null,\"plot\":{\"type\":\"Plot\",\"id\":\"ecb8aab3-06c8-42db-c2ca-1e76c0810183\",\"subtype\":\"Figure\"},\"tags\":[],\"id\":\"4553ff01-182c-4c09-ccab-b9b207fd724d\"},\"type\":\"ResetTool\",\"id\":\"4553ff01-182c-4c09-ccab-b9b207fd724d\"},{\"attributes\":{\"doc\":null,\"id\":\"18dc1715-e377-4cfa-cc7f-54acba662df1\",\"plot\":{\"type\":\"Plot\",\"id\":\"ecb8aab3-06c8-42db-c2ca-1e76c0810183\",\"subtype\":\"Figure\"},\"tags\":[],\"legends\":[[\"Original CFR in the paper\",[{\"id\":\"a52de7cf-d93f-4291-c243-8372e60d5fe9\",\"type\":\"GlyphRenderer\"}]],[\"No Warm start CFR\",[{\"id\":\"669671bc-bd45-45bd-c56c-69d8091de3af\",\"type\":\"GlyphRenderer\"}]],[\"Neural Net warm start CFR\",[{\"id\":\"ccd00dcb-1624-4837-c84f-c69b3bf88de2\",\"type\":\"GlyphRenderer\"}]],[\"Warm start with target values\",[{\"id\":\"6cbba5ca-aa9f-4b8c-cbaf-3cbf02985ed3\",\"type\":\"GlyphRenderer\"}]]]},\"type\":\"Legend\",\"id\":\"18dc1715-e377-4cfa-cc7f-54acba662df1\"},{\"attributes\":{\"title\":\"Exploitability of different strategoes\",\"renderers\":[{\"id\":\"a52de7cf-d93f-4291-c243-8372e60d5fe9\",\"type\":\"GlyphRenderer\"},{\"id\":\"669671bc-bd45-45bd-c56c-69d8091de3af\",\"type\":\"GlyphRenderer\"},{\"id\":\"ccd00dcb-1624-4837-c84f-c69b3bf88de2\",\"type\":\"GlyphRenderer\"},{\"id\":\"6cbba5ca-aa9f-4b8c-cbaf-3cbf02985ed3\",\"type\":\"GlyphRenderer\"},{\"id\":\"92fe1663-a657-4035-c0d0-a36f0c483a5d\",\"type\":\"LinearAxis\"},{\"id\":\"4d832f56-3fd6-4b89-cb62-fc152a1c2e44\",\"type\":\"Grid\"},{\"id\":\"4577716c-cb55-47ea-c722-c72553f38a62\",\"type\":\"LinearAxis\"},{\"id\":\"22ec61ba-288d-4cdd-cc31-2bdd6239ceeb\",\"type\":\"Grid\"},{\"id\":\"18dc1715-e377-4cfa-cc7f-54acba662df1\",\"type\":\"Legend\"}],\"extra_y_ranges\":{},\"tools\":[{\"id\":\"158c4247-e7cb-464a-c638-62eec5083a88\",\"type\":\"PanTool\"},{\"id\":\"5699ae76-798e-45c5-c572-e991434bc40f\",\"type\":\"WheelZoomTool\"},{\"id\":\"cb882bd6-ca8d-4b44-cbe2-4dd47399e3e1\",\"type\":\"BoxZoomTool\"},{\"id\":\"de81e847-c7c5-432d-c35a-42b2c4fed59a\",\"type\":\"PreviewSaveTool\"},{\"id\":\"8a228063-6637-46fd-c623-71d190dcf1e8\",\"type\":\"ResizeTool\"},{\"id\":\"4553ff01-182c-4c09-ccab-b9b207fd724d\",\"type\":\"ResetTool\"}],\"extra_x_ranges\":{},\"tags\":[],\"tool_events\":{\"id\":\"6be908a1-7ed4-4490-c4c7-008649a1cf10\",\"type\":\"ToolEvents\"},\"doc\":null,\"right\":[],\"below\":[{\"id\":\"92fe1663-a657-4035-c0d0-a36f0c483a5d\",\"type\":\"LinearAxis\"}],\"id\":\"ecb8aab3-06c8-42db-c2ca-1e76c0810183\",\"x_range\":{\"id\":\"2f35aae6-9d4e-4853-c877-212435d1da46\",\"type\":\"DataRange1d\"},\"y_range\":{\"id\":\"c9dfafc9-be3b-4791-c7eb-fbfae9d0b2dd\",\"type\":\"DataRange1d\"},\"above\":[],\"left\":[{\"id\":\"4577716c-cb55-47ea-c722-c72553f38a62\",\"type\":\"LinearAxis\"}]},\"type\":\"Plot\",\"id\":\"ecb8aab3-06c8-42db-c2ca-1e76c0810183\"}];\n",
       "      Bokeh.load_models(all_models);\n",
       "      var model = Bokeh.Collections(modeltype).get(modelid);\n",
       "      $(\"#a012f827-86c7-4288-c23c-d3111780920b\").html(''); // clear any previous plot in window_id\n",
       "      var view = new model.default_view({model: model, el: \"#a012f827-86c7-4288-c23c-d3111780920b\"});\n",
       "  });\n",
       "    }\n",
       "});\n",
       "</script>\n",
       "<div class=\"plotdiv\" id=\"a012f827-86c7-4288-c23c-d3111780920b\"></div>\n"
      ]
     },
     "metadata": {},
     "output_type": "display_data"
    }
   ],
   "source": [
    "local num_iter = torch.range(1,exploit_NoW:size(1))\n",
    "local plot = Plot()\n",
    "\n",
    "plot:line(num_iter,exploit_unif2,'black' ,'Original CFR in the paper')\n",
    "plot:line(num_iter,exploit_NoW2,'red' ,'No Warm start CFR')\n",
    "plot:line(num_iter,exploit_NNW2,'blue' ,'Neural Net warm start CFR')\n",
    "plot:line(num_iter,exploit_TargW2,'green' ,'Warm start with target values')\n",
    "plot:legend(true):title('Exploitability of different strategoes')\n",
    "plot:xaxis('Scaled number of iterations'):yaxis('Exploitability'):redraw()\n"
   ]
  },
  {
   "cell_type": "code",
   "execution_count": null,
   "metadata": {
    "collapsed": true
   },
   "outputs": [],
   "source": []
  }
 ],
 "metadata": {
  "kernelspec": {
   "display_name": "iTorch",
   "language": "lua",
   "name": "itorch"
  },
  "language_info": {
   "name": "lua",
   "version": "5.2"
  }
 },
 "nbformat": 4,
 "nbformat_minor": 2
}
