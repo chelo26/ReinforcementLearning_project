{
 "cells": [
  {
   "cell_type": "code",
   "execution_count": 1,
   "metadata": {
    "collapsed": true
   },
   "outputs": [],
   "source": [
    "--- Libraries:\n",
    "arguments = require 'Settings.arguments'\n",
    "constants = require 'Settings.constants'\n",
    "card_to_string = require 'Game.card_to_string_conversion'\n",
    "card_tools = require 'Game.card_tools'\n",
    "game_settings = require 'Settings.game_settings'\n",
    "Plot = require 'itorch.Plot'\n",
    "nninit = require 'nninit'\n",
    "require 'torch'\n",
    "require 'math'\n",
    "require 'Tree.tree_builder'\n",
    "require 'Tree.tree_data_generation'\n",
    "require 'Tree.tree_visualiser'\n",
    "require 'nn'\n",
    "require 'Tree.tree_cfr'\n",
    "require 'nngraph'\n",
    "require 'optim'\n",
    "require 'image'\n",
    "require 'NN.strategy_net_builder'\n",
    "require 'NN.strategy_net_trainer'\n",
    "\n"
   ]
  },
  {
   "cell_type": "code",
   "execution_count": 2,
   "metadata": {
    "collapsed": true
   },
   "outputs": [],
   "source": [
    "--- Create the tree\n",
    "builder = PokerTreeBuilder()\n",
    "--- Parameters for the tree\n",
    "params = {}\n",
    "params.root_node = {}\n",
    "params.root_node.board = card_to_string:string_to_board('')\n",
    "params.root_node.street = 1\n",
    "params.root_node.current_player = constants.players.P1\n",
    "params.root_node.bets = arguments.Tensor{200, 200}\n",
    "\n",
    "--- BUild tree\n",
    "tree = builder:build_tree(params)\n",
    "--- build data\n",
    "game = TreeData(tree)\n"
   ]
  },
  {
   "cell_type": "code",
   "execution_count": 16,
   "metadata": {},
   "outputs": [
    {
     "data": {
      "text/plain": [
       "1.2558139534884\n"
      ]
     },
     "execution_count": 16,
     "metadata": {},
     "output_type": "execute_result"
    }
   ],
   "source": [
    "0.97/0.43-1"
   ]
  },
  {
   "cell_type": "code",
   "execution_count": null,
   "metadata": {
    "collapsed": true
   },
   "outputs": [],
   "source": []
  },
  {
   "cell_type": "code",
   "execution_count": 3,
   "metadata": {},
   "outputs": [
    {
     "data": {
      "text/plain": [
       "Solver\n"
      ]
     },
     "execution_count": 3,
     "metadata": {},
     "output_type": "execute_result"
    },
    {
     "data": {
      "text/plain": [
       "geting training set\n"
      ]
     },
     "execution_count": 3,
     "metadata": {},
     "output_type": "execute_result"
    }
   ],
   "source": [
    "--- CFR Solver\n",
    "local starting_ranges = arguments.Tensor(constants.players_count, game_settings.card_count)\n",
    "starting_ranges[1]:copy(card_tools:get_uniform_range(params.root_node.board))\n",
    "starting_ranges[2]:copy(card_tools:get_uniform_range(params.root_node.board))\n",
    "local tree_cfr = TreeCFR()\n",
    "print(\"Solver\")\n",
    "tree_cfr:run_cfr(tree, starting_ranges,20)\n",
    "print(\"geting training set\")\n",
    "game:get_training_set(tree,1)"
   ]
  },
  {
   "cell_type": "markdown",
   "metadata": {},
   "source": [
    "## Using the modules"
   ]
  },
  {
   "cell_type": "code",
   "execution_count": 4,
   "metadata": {
    "collapsed": true
   },
   "outputs": [],
   "source": [
    "strategy_nn = StrategyNN()\n",
    "nn_model = strategy_nn.model"
   ]
  },
  {
   "cell_type": "code",
   "execution_count": 5,
   "metadata": {
    "collapsed": true
   },
   "outputs": [],
   "source": [
    "-- Building the neural net model\n",
    "strategy_nn = StrategyNN()\n",
    "nn_model = strategy_nn.model\n",
    "\n",
    "-- Building trainer:\n",
    "nn_trainer = NNTrainer(game,nn_model)\n",
    "\n",
    "-- Criterion definition:\n",
    "---criterion = nn.SmoothL1Criterion()\n",
    "\n",
    "train_data = nn_trainer.train_data\n",
    "\n",
    "---loss_x = criterion:forward(nn_model:forward({train_data.features,train_data.masks}), train_data.targets)\n",
    "---print(loss_x)\n",
    "---print(nn_model:getParameters())\n",
    "\n",
    "-- Options:\n",
    "opt = {}\n",
    "opt.learningRate = 0.001\n",
    "opt.momentum = 0.95\n",
    "opt.validate = true"
   ]
  },
  {
   "cell_type": "code",
   "execution_count": 14,
   "metadata": {},
   "outputs": [
    {
     "data": {
      "text/plain": [
       " 312\n",
       "  34\n",
       "[torch.LongStorage of size 2]\n",
       "\n"
      ]
     },
     "execution_count": 14,
     "metadata": {},
     "output_type": "execute_result"
    }
   ],
   "source": [
    "game.input_tensor:size()"
   ]
  },
  {
   "cell_type": "code",
   "execution_count": null,
   "metadata": {},
   "outputs": [],
   "source": [
    "number_ok = {}\n",
    "train_loss_table = {}\n",
    "\n",
    "test_loss_table = {}\n",
    "\n",
    "local current_criterion = nn.BCECriterion()\n",
    "\n",
    "for i = 1,1 do\n",
    "    --- Trying a new model: \n",
    "    nn_model2 = nn_trainer:set_new_model()\n",
    "\n",
    "    nn_trainer:generate_training_and_validation_sets()\n",
    "\n",
    "    train_loss2,test_loss2= nn_trainer:train(nn_model2,current_criterion,opt,10000)\n",
    "\n",
    "    ---train_loss,test_loss = train_and_test(data_train,data_test,mlp,criterion,opt)\n",
    "    table.insert(train_loss_table, train_loss2)\n",
    "    table.insert(test_loss_table, test_loss2)\n",
    "\n",
    "\n",
    "    if torch.sum(train_loss2) < torch.sum(test_loss2) then\n",
    "        table.insert(number_ok,1)\n",
    "    end\n",
    "end\n",
    "print(torch.sum((torch.Tensor(number_ok))))"
   ]
  },
  {
   "cell_type": "code",
   "execution_count": null,
   "metadata": {
    "collapsed": true
   },
   "outputs": [],
   "source": [
    "function print_avg_losses(train_loss_table,test_loss_table)\n",
    "    n_samples = #train_loss_table\n",
    "\n",
    "    local last_loss_train = torch.Tensor(n_samples):fill(0)\n",
    "    local last_loss_test = torch.Tensor(n_samples):fill(0)\n",
    "    for i = 1,n_samples do        \n",
    "        last_loss_train[i] = train_loss_table[i][-1]\n",
    "        last_loss_test[i] = test_loss_table[i][-1]\n",
    "    end\n",
    "    print(torch.mean(last_loss_train),torch.mean(last_loss_test))\n",
    "---    print(torch.mean(starting_loss_test),torch.mean(last_loss_test))\n",
    "end"
   ]
  },
  {
   "cell_type": "code",
   "execution_count": null,
   "metadata": {},
   "outputs": [],
   "source": [
    "print_avg_losses(train_loss_table,test_loss_table)"
   ]
  },
  {
   "cell_type": "code",
   "execution_count": null,
   "metadata": {},
   "outputs": [],
   "source": [
    "torch.std(train_loss_table[1])"
   ]
  },
  {
   "cell_type": "code",
   "execution_count": null,
   "metadata": {},
   "outputs": [],
   "source": [
    "local i = 1\n",
    "\n",
    "t2 = torch.range(1,train_loss_table[i]:size(1))\n",
    "local plot = Plot()\n",
    "plot:line(t2,train_loss_table[i],'red' ,'train loss')\n",
    "plot:line(t2,test_loss_table[i],'blue' ,'test loss')\n",
    "plot:legend(true):title('Mean Square Error')\n",
    "plot:draw()"
   ]
  },
  {
   "cell_type": "code",
   "execution_count": null,
   "metadata": {
    "collapsed": true
   },
   "outputs": [],
   "source": [
    "--- Training NN\n",
    "function train_and_test_minibatch(data_train,data_test,model,criterion,opt)\n",
    "    local epochs = 1000\n",
    "---    torch.manualSeed(1)\n",
    "    --- Defining the parameters and the gradient\n",
    "    local params, gradParameters = model:getParameters()\n",
    "    local training_loss_tensor = {}\n",
    "    local test_loss_tensor = {}\n",
    "    --- Defining the function that gives back the loss and the gradient\n",
    "    local train_loss = 0\n",
    "    local test_loss = 0\n",
    "    feval = function(params)\n",
    "        --- Features:\n",
    "        gradParameters:zero()\n",
    "        \n",
    "        -- Forward pass:\n",
    "        model:forward({data_train.features,data_train.masks})\n",
    "        local predictions = model.output\n",
    "\n",
    "        -- Errors: \n",
    "        local loss = criterion:forward(predictions, data_train.targets)\n",
    "        --Backprop:\n",
    "        local gradCriterion = criterion:backward(predictions, data_train.targets)\n",
    "        model:backward({data_train.features,data_train.masks}, gradCriterion)\n",
    "\n",
    "        return loss,gradParameters\n",
    "    end\n",
    "    \n",
    "    -- Perform SGD step:\n",
    "    sgdState = sgdState or {\n",
    "    learningRate = opt.learningRate,\n",
    "    momentum = opt.momentum or 0,\n",
    "    nesterov = opt.nesteov or false,\n",
    "    learningRateDecay = 5e-7}\n",
    "    \n",
    "    adamState = adamState or {\n",
    "    learningRate = opt.learningRate or 0.001,\n",
    "    learningRateDecay = opt.learningRateDecay or 0.9,\n",
    "    weightDecay = opt.weightDecay or 0.999}\n",
    "\n",
    "    for i = 1,10000 do\n",
    "        optim.sgd(feval, params, sgdState)\n",
    "\n",
    "        -- Training loss:\n",
    "        train_loss = criterion:forward(model:forward({data_train.features,data_train.masks}), data_train.targets)\n",
    "        table.insert(training_loss_tensor,train_loss)\n",
    "\n",
    "        -- Test loss:\n",
    "        test_loss = criterion:forward(model:forward({data_test.features,data_test.masks}), data_test.targets)\n",
    "        table.insert(test_loss_tensor,test_loss)\n",
    "    end\n",
    "    return torch.Tensor(training_loss_tensor),torch.Tensor(test_loss_tensor)\n",
    "end"
   ]
  },
  {
   "cell_type": "code",
   "execution_count": null,
   "metadata": {
    "collapsed": true
   },
   "outputs": [],
   "source": []
  },
  {
   "cell_type": "code",
   "execution_count": null,
   "metadata": {
    "collapsed": true
   },
   "outputs": [],
   "source": []
  },
  {
   "cell_type": "code",
   "execution_count": null,
   "metadata": {
    "collapsed": true
   },
   "outputs": [],
   "source": []
  },
  {
   "cell_type": "code",
   "execution_count": null,
   "metadata": {
    "collapsed": true
   },
   "outputs": [],
   "source": []
  },
  {
   "cell_type": "code",
   "execution_count": null,
   "metadata": {
    "collapsed": true
   },
   "outputs": [],
   "source": [
    "local StrategyCriterion, parent = torch.class('nn.StrategyCriterion', 'nn.Criterion')\n",
    "\n",
    "function StrategyCriterion:__init(sizeAverage)\n",
    "   parent.__init(self)\n",
    "   if sizeAverage ~= nil then\n",
    "     self.sizeAverage = sizeAverage\n",
    "   else\n",
    "     self.sizeAverage = true\n",
    "   end\n",
    "end\n",
    "\n",
    "function StrategyCriterion:updateOutput(input, target)\n",
    "   self.output_tensor = self.output_tensor or input.new(1)\n",
    "   input.THNN.MSECriterion_updateOutput(\n",
    "      input:cdata(),\n",
    "      target:cdata(),\n",
    "      self.output_tensor:cdata(),\n",
    "      self.sizeAverage\n",
    "   )\n",
    "   self.output = self.output_tensor[1]\n",
    "   return self.output\n",
    "end\n",
    "\n",
    "function StrategyCriterion:updateGradInput(input, target)\n",
    "   input.THNN.MSECriterion_updateGradInput(\n",
    "      input:cdata(),\n",
    "      target:cdata(),\n",
    "      self.gradInput:cdata(),\n",
    "      self.sizeAverage\n",
    "   )\n",
    "   return self.gradInput\n",
    "end"
   ]
  },
  {
   "cell_type": "code",
   "execution_count": null,
   "metadata": {
    "collapsed": true
   },
   "outputs": [],
   "source": []
  }
 ],
 "metadata": {
  "kernelspec": {
   "display_name": "iTorch",
   "language": "lua",
   "name": "itorch"
  },
  "language_info": {
   "name": "lua",
   "version": "5.2"
  }
 },
 "nbformat": 4,
 "nbformat_minor": 2
}
