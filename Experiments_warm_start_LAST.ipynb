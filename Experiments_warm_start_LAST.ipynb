{
 "cells": [
  {
   "cell_type": "code",
   "execution_count": 1,
   "metadata": {
    "collapsed": true
   },
   "outputs": [],
   "source": [
    "--- Libraries:\n",
    "arguments = require 'Settings.arguments'\n",
    "constants = require 'Settings.constants'\n",
    "card_to_string = require 'Game.card_to_string_conversion'\n",
    "card_tools = require 'Game.card_tools'\n",
    "game_settings = require 'Settings.game_settings'\n",
    "Plot = require 'itorch.Plot'\n",
    "nninit = require 'nninit'\n",
    "require 'torch'\n",
    "require 'math'\n",
    "require 'Tree.tree_builder'\n",
    "require 'Tree.tree_data_generation'\n",
    "require 'Tree.tree_values'\n",
    "require 'Tree.tree_visualiser'\n",
    "require 'nn'\n",
    "require 'Tree.tree_cfr'\n",
    "require 'Tree.tree_cfr2'\n",
    "require 'nngraph'\n",
    "require 'optim'\n",
    "require 'image'\n",
    "require 'NN.strategy_net_builder'\n",
    "require 'NN.strategy_net_trainer'\n",
    "require 'Tree.tree_warm_start'\n",
    "require 'Nn.StrategyCriterion'\n",
    "\n",
    "\n",
    "\n"
   ]
  },
  {
   "cell_type": "code",
   "execution_count": 2,
   "metadata": {
    "collapsed": true
   },
   "outputs": [],
   "source": [
    "--- FUNCTIONS\n",
    "--- Comparing with 2000\n",
    "function compare_cfrs(tree_cfr1,tree_cfr2000)\n",
    "    local difference = {}\n",
    "    local table1 = tree_cfr1.total_strategies\n",
    "    local table2 = tree_cfr2000.total_strategies\n",
    "    \n",
    "    for i = 1, #table1 do\n",
    "        difference[i] = torch.sqrt(torch.sum(torch.pow((table1[i] - table2[#table2]),2)))\n",
    "    end\n",
    "    return torch.FloatTensor(difference)\n",
    "end\n",
    "--- Comparing 2000 with itself\n",
    "function get_convergence(tree_cfr)\n",
    "    local difference = {}\n",
    "    local table_cfr = tree_cfr.total_strategies\n",
    "    local end_strategy = table_cfr[#table_cfr]\n",
    "    \n",
    "    for i = 1, #table_cfr do\n",
    "        difference[i] = torch.sqrt(torch.sum(torch.pow((table_cfr[i] - end_strategy),2)))\n",
    "    end\n",
    "    return torch.FloatTensor(difference)\n",
    "end"
   ]
  },
  {
   "cell_type": "code",
   "execution_count": 3,
   "metadata": {
    "collapsed": true
   },
   "outputs": [],
   "source": [
    "--- Create the tree\n",
    "builder = PokerTreeBuilder()\n",
    "--- Parameters for the tree\n",
    "params = {}\n",
    "params.root_node = {}\n",
    "params.root_node.board = card_to_string:string_to_board('')\n",
    "params.root_node.street = 1\n",
    "params.root_node.current_player = constants.players.P1\n",
    "params.root_node.bets = arguments.Tensor{50, 100}\n",
    "--- CFR Solver\n",
    "starting_ranges = arguments.Tensor(constants.players_count, game_settings.card_count)\n",
    "starting_ranges[1]:copy(card_tools:get_uniform_range(params.root_node.board))\n",
    "starting_ranges[2]:copy(card_tools:get_uniform_range(params.root_node.board))"
   ]
  },
  {
   "cell_type": "markdown",
   "metadata": {},
   "source": [
    "### 1. Exploitability for original CFR and modified CFR"
   ]
  },
  {
   "cell_type": "code",
   "execution_count": 4,
   "metadata": {},
   "outputs": [
    {
     "data": {
      "text/plain": [
       "64.818511962891\n"
      ]
     },
     "execution_count": 4,
     "metadata": {},
     "output_type": "execute_result"
    }
   ],
   "source": [
    "--- Building CFR Solver\n",
    "tree100 = builder:build_tree(params)\n",
    "tree100_cfr = TreeCFR()\n",
    "tree100_cfr.cfr_skip = 0\n",
    "tree100_cfr:run_cfr(tree100, starting_ranges,10)\n",
    "\n",
    "print(tree100.exploitability)"
   ]
  },
  {
   "cell_type": "code",
   "execution_count": 5,
   "metadata": {},
   "outputs": [
    {
     "data": {
      "text/plain": [
       "49.326740264893\n"
      ]
     },
     "execution_count": 5,
     "metadata": {},
     "output_type": "execute_result"
    }
   ],
   "source": [
    "--- Building CFR Solver\n",
    "tree102 = builder:build_tree(params)\n",
    "tree102_cfr = TreeCFR2()\n",
    "tree102_cfr.cfr_skip = 0\n",
    "tree102_cfr:run_cfr(tree102, starting_ranges,10)\n",
    "print(tree102.exploitability)"
   ]
  },
  {
   "cell_type": "code",
   "execution_count": 6,
   "metadata": {
    "collapsed": true
   },
   "outputs": [],
   "source": [
    "exploit_cfr100 = tree100_cfr.exploitability_vec\n",
    "exploit_cfr102 = tree102_cfr.exploitability_vec"
   ]
  },
  {
   "cell_type": "code",
   "execution_count": 7,
   "metadata": {},
   "outputs": [
    {
     "data": {
      "text/html": [
       "<script type=\"text/javascript\">\n",
       "$(function() {\n",
       "    if (typeof (window._bokeh_onload_callbacks) === \"undefined\"){\n",
       "  window._bokeh_onload_callbacks = [];\n",
       "    }\n",
       "    function load_lib(url, callback){\n",
       "  window._bokeh_onload_callbacks.push(callback);\n",
       "  if (window._bokeh_is_loading){\n",
       "      console.log(\"Bokeh: BokehJS is being loaded, scheduling callback at\", new Date());\n",
       "      return null;\n",
       "  }\n",
       "  console.log(\"Bokeh: BokehJS not loaded, scheduling load and callback at\", new Date());\n",
       "  window._bokeh_is_loading = true;\n",
       "  var s = document.createElement('script');\n",
       "  s.src = url;\n",
       "  s.async = true;\n",
       "  s.onreadystatechange = s.onload = function(){\n",
       "      Bokeh.embed.inject_css(\"https://cdn.pydata.org/bokeh-0.7.0.min.css\");\n",
       "      window._bokeh_onload_callbacks.forEach(function(callback){callback()});\n",
       "  };\n",
       "  s.onerror = function(){\n",
       "      console.warn(\"failed to load library \" + url);\n",
       "  };\n",
       "  document.getElementsByTagName(\"head\")[0].appendChild(s);\n",
       "    }\n",
       "\n",
       "    bokehjs_url = \"https://cdn.pydata.org/bokeh-0.7.0.min.js\"\n",
       "\n",
       "    var elt = document.getElementById(\"93259eec-032b-40e2-c0c1-e80803ed14c8\");\n",
       "    if(elt==null) {\n",
       "  console.log(\"Bokeh: ERROR: autoload.js configured with elementid '93259eec-032b-40e2-c0c1-e80803ed14c8'\"\n",
       "        + \"but no matching script tag was found. \")\n",
       "  return false;\n",
       "    }\n",
       "\n",
       "    if(typeof(Bokeh) !== \"undefined\") {\n",
       "  console.log(\"Bokeh: BokehJS loaded, going straight to plotting\");\n",
       "  var modelid = \"10fb1cb7-e62c-422b-c2cd-4fa3130a6009\";\n",
       "  var modeltype = \"Plot\";\n",
       "  var all_models = [{\"id\":\"0baea373-715c-4e20-cea5-ca024da23596\",\"attributes\":{\"id\":\"0baea373-715c-4e20-cea5-ca024da23596\",\"data\":{\"y\":[175.52084350586,131.62905883789,118.12203979492,106.04130554199,97.395950317383,91.319839477539,85.257232666016,78.866989135742,70.23641204834,64.818511962891],\"x\":[1,2,3,4,5,6,7,8,9,10]},\"discrete_ranges\":{},\"column_names\":[\"y\",\"x\"],\"doc\":null,\"selected\":[],\"cont_ranges\":{},\"tags\":[]},\"type\":\"ColumnDataSource\"},{\"id\":\"34aac190-f021-4964-c968-732163e2505a\",\"attributes\":{\"id\":\"34aac190-f021-4964-c968-732163e2505a\",\"line_color\":{\"value\":\"red\"},\"tags\":[],\"x\":{\"units\":\"data\",\"field\":\"x\"},\"fill_alpha\":{\"units\":\"data\",\"value\":0.2},\"fill_color\":{\"value\":\"red\"},\"line_alpha\":{\"units\":\"data\",\"value\":1},\"size\":{\"units\":\"screen\",\"value\":10},\"y\":{\"units\":\"data\",\"field\":\"y\"},\"doc\":null},\"type\":\"Line\"},{\"id\":\"27bc3d09-aa73-4298-c214-941ce0ae2d26\",\"attributes\":{\"id\":\"27bc3d09-aa73-4298-c214-941ce0ae2d26\",\"line_color\":{\"value\":\"red\"},\"tags\":[],\"x\":{\"units\":\"data\",\"field\":\"x\"},\"fill_alpha\":{\"units\":\"data\",\"value\":0.2},\"fill_color\":{\"value\":\"red\"},\"line_alpha\":{\"units\":\"data\",\"value\":1},\"size\":{\"units\":\"screen\",\"value\":10},\"y\":{\"units\":\"data\",\"field\":\"y\"},\"doc\":null},\"type\":\"Line\"},{\"id\":\"12fc63ca-80d0-4be9-cbb1-a00302c4dcfb\",\"attributes\":{\"selection_glyph\":null,\"name\":null,\"data_source\":{\"type\":\"ColumnDataSource\",\"id\":\"0baea373-715c-4e20-cea5-ca024da23596\"},\"tags\":[],\"server_data_source\":null,\"glyph\":{\"type\":\"Line\",\"id\":\"34aac190-f021-4964-c968-732163e2505a\"},\"id\":\"12fc63ca-80d0-4be9-cbb1-a00302c4dcfb\",\"nonselection_glyph\":{\"type\":\"Line\",\"id\":\"27bc3d09-aa73-4298-c214-941ce0ae2d26\"},\"doc\":null},\"type\":\"GlyphRenderer\"},{\"id\":\"40e38707-753b-4b2c-cb79-a9fd51b195b2\",\"attributes\":{\"id\":\"40e38707-753b-4b2c-cb79-a9fd51b195b2\",\"data\":{\"y\":[156.45834350586,98.505813598633,96.923858642578,86.756507873535,79.148666381836,70.643119812012,65.751281738281,60.5927734375,53.51180267334,49.326740264893],\"x\":[1,2,3,4,5,6,7,8,9,10]},\"discrete_ranges\":{},\"column_names\":[\"y\",\"x\"],\"doc\":null,\"selected\":[],\"cont_ranges\":{},\"tags\":[]},\"type\":\"ColumnDataSource\"},{\"id\":\"11c7e856-ed49-4706-c750-8026cb7b6907\",\"attributes\":{\"id\":\"11c7e856-ed49-4706-c750-8026cb7b6907\",\"line_color\":{\"value\":\"blue\"},\"tags\":[],\"x\":{\"units\":\"data\",\"field\":\"x\"},\"fill_alpha\":{\"units\":\"data\",\"value\":0.2},\"fill_color\":{\"value\":\"blue\"},\"line_alpha\":{\"units\":\"data\",\"value\":1},\"size\":{\"units\":\"screen\",\"value\":10},\"y\":{\"units\":\"data\",\"field\":\"y\"},\"doc\":null},\"type\":\"Line\"},{\"id\":\"db3c4f40-d513-445c-c46f-1d7cdda6faa2\",\"attributes\":{\"id\":\"db3c4f40-d513-445c-c46f-1d7cdda6faa2\",\"line_color\":{\"value\":\"blue\"},\"tags\":[],\"x\":{\"units\":\"data\",\"field\":\"x\"},\"fill_alpha\":{\"units\":\"data\",\"value\":0.2},\"fill_color\":{\"value\":\"blue\"},\"line_alpha\":{\"units\":\"data\",\"value\":1},\"size\":{\"units\":\"screen\",\"value\":10},\"y\":{\"units\":\"data\",\"field\":\"y\"},\"doc\":null},\"type\":\"Line\"},{\"id\":\"085092fe-aef5-411f-c1ee-50f281fad651\",\"attributes\":{\"selection_glyph\":null,\"name\":null,\"data_source\":{\"type\":\"ColumnDataSource\",\"id\":\"40e38707-753b-4b2c-cb79-a9fd51b195b2\"},\"tags\":[],\"server_data_source\":null,\"glyph\":{\"type\":\"Line\",\"id\":\"11c7e856-ed49-4706-c750-8026cb7b6907\"},\"id\":\"085092fe-aef5-411f-c1ee-50f281fad651\",\"nonselection_glyph\":{\"type\":\"Line\",\"id\":\"db3c4f40-d513-445c-c46f-1d7cdda6faa2\"},\"doc\":null},\"type\":\"GlyphRenderer\"},{\"id\":\"d3610186-bd8e-4db4-cdc2-20351be327e7\",\"attributes\":{\"doc\":null,\"tags\":[],\"sources\":[{\"source\":{\"id\":\"0baea373-715c-4e20-cea5-ca024da23596\",\"type\":\"ColumnDataSource\"},\"columns\":[\"x\"]},{\"source\":{\"id\":\"40e38707-753b-4b2c-cb79-a9fd51b195b2\",\"type\":\"ColumnDataSource\"},\"columns\":[\"x\"]}],\"id\":\"d3610186-bd8e-4db4-cdc2-20351be327e7\"},\"type\":\"DataRange1d\"},{\"id\":\"017ef3b9-27e3-4a5c-ca67-860296a513cc\",\"attributes\":{\"doc\":null,\"tags\":[],\"sources\":[{\"source\":{\"id\":\"0baea373-715c-4e20-cea5-ca024da23596\",\"type\":\"ColumnDataSource\"},\"columns\":[\"y\"]},{\"source\":{\"id\":\"40e38707-753b-4b2c-cb79-a9fd51b195b2\",\"type\":\"ColumnDataSource\"},\"columns\":[\"y\"]}],\"id\":\"017ef3b9-27e3-4a5c-ca67-860296a513cc\"},\"type\":\"DataRange1d\"},{\"id\":\"d70f7647-bfee-4c2d-cc57-3e9347d979e1\",\"attributes\":{\"doc\":null,\"tags\":[],\"geometries\":[],\"id\":\"d70f7647-bfee-4c2d-cc57-3e9347d979e1\"},\"type\":\"ToolEvents\"},{\"id\":\"6dd36830-6562-451d-c58d-e0aa6a1413d5\",\"attributes\":{\"doc\":null,\"tags\":[],\"id\":\"6dd36830-6562-451d-c58d-e0aa6a1413d5\"},\"type\":\"BasicTickFormatter\"},{\"id\":\"95ab9a67-8787-4d86-cd77-a128f3dbeadd\",\"attributes\":{\"doc\":null,\"tags\":[],\"num_minor_ticks\":5,\"id\":\"95ab9a67-8787-4d86-cd77-a128f3dbeadd\"},\"type\":\"BasicTicker\"},{\"id\":\"c30e1863-25e7-4296-c2a0-7c2dcdbbe63d\",\"attributes\":{\"tags\":[],\"ticker\":{\"type\":\"BasicTicker\",\"id\":\"95ab9a67-8787-4d86-cd77-a128f3dbeadd\"},\"formatter\":{\"type\":\"BasicTickFormatter\",\"id\":\"6dd36830-6562-451d-c58d-e0aa6a1413d5\"},\"axis_label\":\"Scaled number of iterations\",\"doc\":null,\"id\":\"c30e1863-25e7-4296-c2a0-7c2dcdbbe63d\",\"plot\":{\"id\":\"10fb1cb7-e62c-422b-c2cd-4fa3130a6009\",\"type\":\"Plot\",\"subtype\":\"Figure\"}},\"type\":\"LinearAxis\"},{\"id\":\"64e546a8-b9df-413d-c15a-9e51604d9d75\",\"attributes\":{\"tags\":[],\"ticker\":{\"type\":\"BasicTicker\",\"id\":\"95ab9a67-8787-4d86-cd77-a128f3dbeadd\"},\"dimension\":0,\"doc\":null,\"id\":\"64e546a8-b9df-413d-c15a-9e51604d9d75\",\"plot\":{\"id\":\"10fb1cb7-e62c-422b-c2cd-4fa3130a6009\",\"type\":\"Plot\",\"subtype\":\"Figure\"}},\"type\":\"Grid\"},{\"id\":\"efe582be-289c-4407-c4e9-f52fc8864d98\",\"attributes\":{\"doc\":null,\"tags\":[],\"id\":\"efe582be-289c-4407-c4e9-f52fc8864d98\"},\"type\":\"BasicTickFormatter\"},{\"id\":\"41b8c69c-a624-4fc3-cf5c-dddca0be9f1c\",\"attributes\":{\"doc\":null,\"tags\":[],\"num_minor_ticks\":5,\"id\":\"41b8c69c-a624-4fc3-cf5c-dddca0be9f1c\"},\"type\":\"BasicTicker\"},{\"id\":\"405258a8-15fe-416f-c15f-ebaab1ef646c\",\"attributes\":{\"tags\":[],\"ticker\":{\"type\":\"BasicTicker\",\"id\":\"41b8c69c-a624-4fc3-cf5c-dddca0be9f1c\"},\"formatter\":{\"type\":\"BasicTickFormatter\",\"id\":\"efe582be-289c-4407-c4e9-f52fc8864d98\"},\"axis_label\":\"Exploitability\",\"doc\":null,\"id\":\"405258a8-15fe-416f-c15f-ebaab1ef646c\",\"plot\":{\"id\":\"10fb1cb7-e62c-422b-c2cd-4fa3130a6009\",\"type\":\"Plot\",\"subtype\":\"Figure\"}},\"type\":\"LinearAxis\"},{\"id\":\"aa565e3e-1394-4cba-cc24-151705a19edc\",\"attributes\":{\"tags\":[],\"ticker\":{\"type\":\"BasicTicker\",\"id\":\"41b8c69c-a624-4fc3-cf5c-dddca0be9f1c\"},\"dimension\":1,\"doc\":null,\"id\":\"aa565e3e-1394-4cba-cc24-151705a19edc\",\"plot\":{\"id\":\"10fb1cb7-e62c-422b-c2cd-4fa3130a6009\",\"type\":\"Plot\",\"subtype\":\"Figure\"}},\"type\":\"Grid\"},{\"id\":\"04c4cef0-b6c7-4b05-cbef-315736c7d5ab\",\"attributes\":{\"tags\":[],\"dimensions\":[\"width\",\"height\"],\"doc\":null,\"id\":\"04c4cef0-b6c7-4b05-cbef-315736c7d5ab\",\"plot\":{\"id\":\"10fb1cb7-e62c-422b-c2cd-4fa3130a6009\",\"type\":\"Plot\",\"subtype\":\"Figure\"}},\"type\":\"PanTool\"},{\"id\":\"ceae4a33-6c60-4f7c-cf10-b31cb3cb07c4\",\"attributes\":{\"tags\":[],\"dimensions\":[\"width\",\"height\"],\"doc\":null,\"id\":\"ceae4a33-6c60-4f7c-cf10-b31cb3cb07c4\",\"plot\":{\"id\":\"10fb1cb7-e62c-422b-c2cd-4fa3130a6009\",\"type\":\"Plot\",\"subtype\":\"Figure\"}},\"type\":\"WheelZoomTool\"},{\"id\":\"c0f758f8-e94d-41d8-c103-4f21dc7db6bd\",\"attributes\":{\"doc\":null,\"id\":\"c0f758f8-e94d-41d8-c103-4f21dc7db6bd\",\"tags\":[],\"plot\":{\"id\":\"10fb1cb7-e62c-422b-c2cd-4fa3130a6009\",\"type\":\"Plot\",\"subtype\":\"Figure\"}},\"type\":\"BoxZoomTool\"},{\"id\":\"c90aafe0-1617-4d1a-cd38-e896a5246dcd\",\"attributes\":{\"doc\":null,\"id\":\"c90aafe0-1617-4d1a-cd38-e896a5246dcd\",\"tags\":[],\"plot\":{\"id\":\"10fb1cb7-e62c-422b-c2cd-4fa3130a6009\",\"type\":\"Plot\",\"subtype\":\"Figure\"}},\"type\":\"PreviewSaveTool\"},{\"id\":\"c366d06f-3655-47cd-c7c7-ec43e990bca8\",\"attributes\":{\"doc\":null,\"id\":\"c366d06f-3655-47cd-c7c7-ec43e990bca8\",\"tags\":[],\"plot\":{\"id\":\"10fb1cb7-e62c-422b-c2cd-4fa3130a6009\",\"type\":\"Plot\",\"subtype\":\"Figure\"}},\"type\":\"ResizeTool\"},{\"id\":\"e19ee9b2-9008-443f-c48a-c8e54682bb88\",\"attributes\":{\"doc\":null,\"id\":\"e19ee9b2-9008-443f-c48a-c8e54682bb88\",\"tags\":[],\"plot\":{\"id\":\"10fb1cb7-e62c-422b-c2cd-4fa3130a6009\",\"type\":\"Plot\",\"subtype\":\"Figure\"}},\"type\":\"ResetTool\"},{\"id\":\"99b51066-d40b-4d88-cd14-64498cd49c60\",\"attributes\":{\"tags\":[],\"legends\":[[\"Original\",[{\"type\":\"GlyphRenderer\",\"id\":\"12fc63ca-80d0-4be9-cbb1-a00302c4dcfb\"}]],[\"New CFR\",[{\"type\":\"GlyphRenderer\",\"id\":\"085092fe-aef5-411f-c1ee-50f281fad651\"}]]],\"doc\":null,\"id\":\"99b51066-d40b-4d88-cd14-64498cd49c60\",\"plot\":{\"id\":\"10fb1cb7-e62c-422b-c2cd-4fa3130a6009\",\"type\":\"Plot\",\"subtype\":\"Figure\"}},\"type\":\"Legend\"},{\"id\":\"10fb1cb7-e62c-422b-c2cd-4fa3130a6009\",\"attributes\":{\"id\":\"10fb1cb7-e62c-422b-c2cd-4fa3130a6009\",\"right\":[],\"extra_x_ranges\":{},\"x_range\":{\"type\":\"DataRange1d\",\"id\":\"d3610186-bd8e-4db4-cdc2-20351be327e7\"},\"tool_events\":{\"type\":\"ToolEvents\",\"id\":\"d70f7647-bfee-4c2d-cc57-3e9347d979e1\"},\"renderers\":[{\"type\":\"GlyphRenderer\",\"id\":\"12fc63ca-80d0-4be9-cbb1-a00302c4dcfb\"},{\"type\":\"GlyphRenderer\",\"id\":\"085092fe-aef5-411f-c1ee-50f281fad651\"},{\"type\":\"LinearAxis\",\"id\":\"c30e1863-25e7-4296-c2a0-7c2dcdbbe63d\"},{\"type\":\"Grid\",\"id\":\"64e546a8-b9df-413d-c15a-9e51604d9d75\"},{\"type\":\"LinearAxis\",\"id\":\"405258a8-15fe-416f-c15f-ebaab1ef646c\"},{\"type\":\"Grid\",\"id\":\"aa565e3e-1394-4cba-cc24-151705a19edc\"},{\"type\":\"Legend\",\"id\":\"99b51066-d40b-4d88-cd14-64498cd49c60\"}],\"y_range\":{\"type\":\"DataRange1d\",\"id\":\"017ef3b9-27e3-4a5c-ca67-860296a513cc\"},\"doc\":null,\"tools\":[{\"type\":\"PanTool\",\"id\":\"04c4cef0-b6c7-4b05-cbef-315736c7d5ab\"},{\"type\":\"WheelZoomTool\",\"id\":\"ceae4a33-6c60-4f7c-cf10-b31cb3cb07c4\"},{\"type\":\"BoxZoomTool\",\"id\":\"c0f758f8-e94d-41d8-c103-4f21dc7db6bd\"},{\"type\":\"PreviewSaveTool\",\"id\":\"c90aafe0-1617-4d1a-cd38-e896a5246dcd\"},{\"type\":\"ResizeTool\",\"id\":\"c366d06f-3655-47cd-c7c7-ec43e990bca8\"},{\"type\":\"ResetTool\",\"id\":\"e19ee9b2-9008-443f-c48a-c8e54682bb88\"}],\"below\":[{\"type\":\"LinearAxis\",\"id\":\"c30e1863-25e7-4296-c2a0-7c2dcdbbe63d\"}],\"title\":\"Exploitability of different strategies, 800 iterations\",\"left\":[{\"type\":\"LinearAxis\",\"id\":\"405258a8-15fe-416f-c15f-ebaab1ef646c\"}],\"extra_y_ranges\":{},\"above\":[],\"tags\":[]},\"type\":\"Plot\"}];\n",
       "  Bokeh.load_models(all_models);\n",
       "  var model = Bokeh.Collections(modeltype).get(modelid);\n",
       "  $(\"#93259eec-032b-40e2-c0c1-e80803ed14c8\").html(''); // clear any previous plot in window_id\n",
       "  var view = new model.default_view({model: model, el: \"#93259eec-032b-40e2-c0c1-e80803ed14c8\"});\n",
       "    } else {\n",
       "  load_lib(bokehjs_url, function() {\n",
       "      console.log(\"Bokeh: BokehJS plotting callback run at\", new Date())\n",
       "      var modelid = \"10fb1cb7-e62c-422b-c2cd-4fa3130a6009\";\n",
       "      var modeltype = \"Plot\";\n",
       "      var all_models = [{\"id\":\"0baea373-715c-4e20-cea5-ca024da23596\",\"attributes\":{\"id\":\"0baea373-715c-4e20-cea5-ca024da23596\",\"data\":{\"y\":[175.52084350586,131.62905883789,118.12203979492,106.04130554199,97.395950317383,91.319839477539,85.257232666016,78.866989135742,70.23641204834,64.818511962891],\"x\":[1,2,3,4,5,6,7,8,9,10]},\"discrete_ranges\":{},\"column_names\":[\"y\",\"x\"],\"doc\":null,\"selected\":[],\"cont_ranges\":{},\"tags\":[]},\"type\":\"ColumnDataSource\"},{\"id\":\"34aac190-f021-4964-c968-732163e2505a\",\"attributes\":{\"id\":\"34aac190-f021-4964-c968-732163e2505a\",\"line_color\":{\"value\":\"red\"},\"tags\":[],\"x\":{\"units\":\"data\",\"field\":\"x\"},\"fill_alpha\":{\"units\":\"data\",\"value\":0.2},\"fill_color\":{\"value\":\"red\"},\"line_alpha\":{\"units\":\"data\",\"value\":1},\"size\":{\"units\":\"screen\",\"value\":10},\"y\":{\"units\":\"data\",\"field\":\"y\"},\"doc\":null},\"type\":\"Line\"},{\"id\":\"27bc3d09-aa73-4298-c214-941ce0ae2d26\",\"attributes\":{\"id\":\"27bc3d09-aa73-4298-c214-941ce0ae2d26\",\"line_color\":{\"value\":\"red\"},\"tags\":[],\"x\":{\"units\":\"data\",\"field\":\"x\"},\"fill_alpha\":{\"units\":\"data\",\"value\":0.2},\"fill_color\":{\"value\":\"red\"},\"line_alpha\":{\"units\":\"data\",\"value\":1},\"size\":{\"units\":\"screen\",\"value\":10},\"y\":{\"units\":\"data\",\"field\":\"y\"},\"doc\":null},\"type\":\"Line\"},{\"id\":\"12fc63ca-80d0-4be9-cbb1-a00302c4dcfb\",\"attributes\":{\"selection_glyph\":null,\"name\":null,\"data_source\":{\"type\":\"ColumnDataSource\",\"id\":\"0baea373-715c-4e20-cea5-ca024da23596\"},\"tags\":[],\"server_data_source\":null,\"glyph\":{\"type\":\"Line\",\"id\":\"34aac190-f021-4964-c968-732163e2505a\"},\"id\":\"12fc63ca-80d0-4be9-cbb1-a00302c4dcfb\",\"nonselection_glyph\":{\"type\":\"Line\",\"id\":\"27bc3d09-aa73-4298-c214-941ce0ae2d26\"},\"doc\":null},\"type\":\"GlyphRenderer\"},{\"id\":\"40e38707-753b-4b2c-cb79-a9fd51b195b2\",\"attributes\":{\"id\":\"40e38707-753b-4b2c-cb79-a9fd51b195b2\",\"data\":{\"y\":[156.45834350586,98.505813598633,96.923858642578,86.756507873535,79.148666381836,70.643119812012,65.751281738281,60.5927734375,53.51180267334,49.326740264893],\"x\":[1,2,3,4,5,6,7,8,9,10]},\"discrete_ranges\":{},\"column_names\":[\"y\",\"x\"],\"doc\":null,\"selected\":[],\"cont_ranges\":{},\"tags\":[]},\"type\":\"ColumnDataSource\"},{\"id\":\"11c7e856-ed49-4706-c750-8026cb7b6907\",\"attributes\":{\"id\":\"11c7e856-ed49-4706-c750-8026cb7b6907\",\"line_color\":{\"value\":\"blue\"},\"tags\":[],\"x\":{\"units\":\"data\",\"field\":\"x\"},\"fill_alpha\":{\"units\":\"data\",\"value\":0.2},\"fill_color\":{\"value\":\"blue\"},\"line_alpha\":{\"units\":\"data\",\"value\":1},\"size\":{\"units\":\"screen\",\"value\":10},\"y\":{\"units\":\"data\",\"field\":\"y\"},\"doc\":null},\"type\":\"Line\"},{\"id\":\"db3c4f40-d513-445c-c46f-1d7cdda6faa2\",\"attributes\":{\"id\":\"db3c4f40-d513-445c-c46f-1d7cdda6faa2\",\"line_color\":{\"value\":\"blue\"},\"tags\":[],\"x\":{\"units\":\"data\",\"field\":\"x\"},\"fill_alpha\":{\"units\":\"data\",\"value\":0.2},\"fill_color\":{\"value\":\"blue\"},\"line_alpha\":{\"units\":\"data\",\"value\":1},\"size\":{\"units\":\"screen\",\"value\":10},\"y\":{\"units\":\"data\",\"field\":\"y\"},\"doc\":null},\"type\":\"Line\"},{\"id\":\"085092fe-aef5-411f-c1ee-50f281fad651\",\"attributes\":{\"selection_glyph\":null,\"name\":null,\"data_source\":{\"type\":\"ColumnDataSource\",\"id\":\"40e38707-753b-4b2c-cb79-a9fd51b195b2\"},\"tags\":[],\"server_data_source\":null,\"glyph\":{\"type\":\"Line\",\"id\":\"11c7e856-ed49-4706-c750-8026cb7b6907\"},\"id\":\"085092fe-aef5-411f-c1ee-50f281fad651\",\"nonselection_glyph\":{\"type\":\"Line\",\"id\":\"db3c4f40-d513-445c-c46f-1d7cdda6faa2\"},\"doc\":null},\"type\":\"GlyphRenderer\"},{\"id\":\"d3610186-bd8e-4db4-cdc2-20351be327e7\",\"attributes\":{\"doc\":null,\"tags\":[],\"sources\":[{\"source\":{\"id\":\"0baea373-715c-4e20-cea5-ca024da23596\",\"type\":\"ColumnDataSource\"},\"columns\":[\"x\"]},{\"source\":{\"id\":\"40e38707-753b-4b2c-cb79-a9fd51b195b2\",\"type\":\"ColumnDataSource\"},\"columns\":[\"x\"]}],\"id\":\"d3610186-bd8e-4db4-cdc2-20351be327e7\"},\"type\":\"DataRange1d\"},{\"id\":\"017ef3b9-27e3-4a5c-ca67-860296a513cc\",\"attributes\":{\"doc\":null,\"tags\":[],\"sources\":[{\"source\":{\"id\":\"0baea373-715c-4e20-cea5-ca024da23596\",\"type\":\"ColumnDataSource\"},\"columns\":[\"y\"]},{\"source\":{\"id\":\"40e38707-753b-4b2c-cb79-a9fd51b195b2\",\"type\":\"ColumnDataSource\"},\"columns\":[\"y\"]}],\"id\":\"017ef3b9-27e3-4a5c-ca67-860296a513cc\"},\"type\":\"DataRange1d\"},{\"id\":\"d70f7647-bfee-4c2d-cc57-3e9347d979e1\",\"attributes\":{\"doc\":null,\"tags\":[],\"geometries\":[],\"id\":\"d70f7647-bfee-4c2d-cc57-3e9347d979e1\"},\"type\":\"ToolEvents\"},{\"id\":\"6dd36830-6562-451d-c58d-e0aa6a1413d5\",\"attributes\":{\"doc\":null,\"tags\":[],\"id\":\"6dd36830-6562-451d-c58d-e0aa6a1413d5\"},\"type\":\"BasicTickFormatter\"},{\"id\":\"95ab9a67-8787-4d86-cd77-a128f3dbeadd\",\"attributes\":{\"doc\":null,\"tags\":[],\"num_minor_ticks\":5,\"id\":\"95ab9a67-8787-4d86-cd77-a128f3dbeadd\"},\"type\":\"BasicTicker\"},{\"id\":\"c30e1863-25e7-4296-c2a0-7c2dcdbbe63d\",\"attributes\":{\"tags\":[],\"ticker\":{\"type\":\"BasicTicker\",\"id\":\"95ab9a67-8787-4d86-cd77-a128f3dbeadd\"},\"formatter\":{\"type\":\"BasicTickFormatter\",\"id\":\"6dd36830-6562-451d-c58d-e0aa6a1413d5\"},\"axis_label\":\"Scaled number of iterations\",\"doc\":null,\"id\":\"c30e1863-25e7-4296-c2a0-7c2dcdbbe63d\",\"plot\":{\"id\":\"10fb1cb7-e62c-422b-c2cd-4fa3130a6009\",\"type\":\"Plot\",\"subtype\":\"Figure\"}},\"type\":\"LinearAxis\"},{\"id\":\"64e546a8-b9df-413d-c15a-9e51604d9d75\",\"attributes\":{\"tags\":[],\"ticker\":{\"type\":\"BasicTicker\",\"id\":\"95ab9a67-8787-4d86-cd77-a128f3dbeadd\"},\"dimension\":0,\"doc\":null,\"id\":\"64e546a8-b9df-413d-c15a-9e51604d9d75\",\"plot\":{\"id\":\"10fb1cb7-e62c-422b-c2cd-4fa3130a6009\",\"type\":\"Plot\",\"subtype\":\"Figure\"}},\"type\":\"Grid\"},{\"id\":\"efe582be-289c-4407-c4e9-f52fc8864d98\",\"attributes\":{\"doc\":null,\"tags\":[],\"id\":\"efe582be-289c-4407-c4e9-f52fc8864d98\"},\"type\":\"BasicTickFormatter\"},{\"id\":\"41b8c69c-a624-4fc3-cf5c-dddca0be9f1c\",\"attributes\":{\"doc\":null,\"tags\":[],\"num_minor_ticks\":5,\"id\":\"41b8c69c-a624-4fc3-cf5c-dddca0be9f1c\"},\"type\":\"BasicTicker\"},{\"id\":\"405258a8-15fe-416f-c15f-ebaab1ef646c\",\"attributes\":{\"tags\":[],\"ticker\":{\"type\":\"BasicTicker\",\"id\":\"41b8c69c-a624-4fc3-cf5c-dddca0be9f1c\"},\"formatter\":{\"type\":\"BasicTickFormatter\",\"id\":\"efe582be-289c-4407-c4e9-f52fc8864d98\"},\"axis_label\":\"Exploitability\",\"doc\":null,\"id\":\"405258a8-15fe-416f-c15f-ebaab1ef646c\",\"plot\":{\"id\":\"10fb1cb7-e62c-422b-c2cd-4fa3130a6009\",\"type\":\"Plot\",\"subtype\":\"Figure\"}},\"type\":\"LinearAxis\"},{\"id\":\"aa565e3e-1394-4cba-cc24-151705a19edc\",\"attributes\":{\"tags\":[],\"ticker\":{\"type\":\"BasicTicker\",\"id\":\"41b8c69c-a624-4fc3-cf5c-dddca0be9f1c\"},\"dimension\":1,\"doc\":null,\"id\":\"aa565e3e-1394-4cba-cc24-151705a19edc\",\"plot\":{\"id\":\"10fb1cb7-e62c-422b-c2cd-4fa3130a6009\",\"type\":\"Plot\",\"subtype\":\"Figure\"}},\"type\":\"Grid\"},{\"id\":\"04c4cef0-b6c7-4b05-cbef-315736c7d5ab\",\"attributes\":{\"tags\":[],\"dimensions\":[\"width\",\"height\"],\"doc\":null,\"id\":\"04c4cef0-b6c7-4b05-cbef-315736c7d5ab\",\"plot\":{\"id\":\"10fb1cb7-e62c-422b-c2cd-4fa3130a6009\",\"type\":\"Plot\",\"subtype\":\"Figure\"}},\"type\":\"PanTool\"},{\"id\":\"ceae4a33-6c60-4f7c-cf10-b31cb3cb07c4\",\"attributes\":{\"tags\":[],\"dimensions\":[\"width\",\"height\"],\"doc\":null,\"id\":\"ceae4a33-6c60-4f7c-cf10-b31cb3cb07c4\",\"plot\":{\"id\":\"10fb1cb7-e62c-422b-c2cd-4fa3130a6009\",\"type\":\"Plot\",\"subtype\":\"Figure\"}},\"type\":\"WheelZoomTool\"},{\"id\":\"c0f758f8-e94d-41d8-c103-4f21dc7db6bd\",\"attributes\":{\"doc\":null,\"id\":\"c0f758f8-e94d-41d8-c103-4f21dc7db6bd\",\"tags\":[],\"plot\":{\"id\":\"10fb1cb7-e62c-422b-c2cd-4fa3130a6009\",\"type\":\"Plot\",\"subtype\":\"Figure\"}},\"type\":\"BoxZoomTool\"},{\"id\":\"c90aafe0-1617-4d1a-cd38-e896a5246dcd\",\"attributes\":{\"doc\":null,\"id\":\"c90aafe0-1617-4d1a-cd38-e896a5246dcd\",\"tags\":[],\"plot\":{\"id\":\"10fb1cb7-e62c-422b-c2cd-4fa3130a6009\",\"type\":\"Plot\",\"subtype\":\"Figure\"}},\"type\":\"PreviewSaveTool\"},{\"id\":\"c366d06f-3655-47cd-c7c7-ec43e990bca8\",\"attributes\":{\"doc\":null,\"id\":\"c366d06f-3655-47cd-c7c7-ec43e990bca8\",\"tags\":[],\"plot\":{\"id\":\"10fb1cb7-e62c-422b-c2cd-4fa3130a6009\",\"type\":\"Plot\",\"subtype\":\"Figure\"}},\"type\":\"ResizeTool\"},{\"id\":\"e19ee9b2-9008-443f-c48a-c8e54682bb88\",\"attributes\":{\"doc\":null,\"id\":\"e19ee9b2-9008-443f-c48a-c8e54682bb88\",\"tags\":[],\"plot\":{\"id\":\"10fb1cb7-e62c-422b-c2cd-4fa3130a6009\",\"type\":\"Plot\",\"subtype\":\"Figure\"}},\"type\":\"ResetTool\"},{\"id\":\"99b51066-d40b-4d88-cd14-64498cd49c60\",\"attributes\":{\"tags\":[],\"legends\":[[\"Original\",[{\"type\":\"GlyphRenderer\",\"id\":\"12fc63ca-80d0-4be9-cbb1-a00302c4dcfb\"}]],[\"New CFR\",[{\"type\":\"GlyphRenderer\",\"id\":\"085092fe-aef5-411f-c1ee-50f281fad651\"}]]],\"doc\":null,\"id\":\"99b51066-d40b-4d88-cd14-64498cd49c60\",\"plot\":{\"id\":\"10fb1cb7-e62c-422b-c2cd-4fa3130a6009\",\"type\":\"Plot\",\"subtype\":\"Figure\"}},\"type\":\"Legend\"},{\"id\":\"10fb1cb7-e62c-422b-c2cd-4fa3130a6009\",\"attributes\":{\"id\":\"10fb1cb7-e62c-422b-c2cd-4fa3130a6009\",\"right\":[],\"extra_x_ranges\":{},\"x_range\":{\"type\":\"DataRange1d\",\"id\":\"d3610186-bd8e-4db4-cdc2-20351be327e7\"},\"tool_events\":{\"type\":\"ToolEvents\",\"id\":\"d70f7647-bfee-4c2d-cc57-3e9347d979e1\"},\"renderers\":[{\"type\":\"GlyphRenderer\",\"id\":\"12fc63ca-80d0-4be9-cbb1-a00302c4dcfb\"},{\"type\":\"GlyphRenderer\",\"id\":\"085092fe-aef5-411f-c1ee-50f281fad651\"},{\"type\":\"LinearAxis\",\"id\":\"c30e1863-25e7-4296-c2a0-7c2dcdbbe63d\"},{\"type\":\"Grid\",\"id\":\"64e546a8-b9df-413d-c15a-9e51604d9d75\"},{\"type\":\"LinearAxis\",\"id\":\"405258a8-15fe-416f-c15f-ebaab1ef646c\"},{\"type\":\"Grid\",\"id\":\"aa565e3e-1394-4cba-cc24-151705a19edc\"},{\"type\":\"Legend\",\"id\":\"99b51066-d40b-4d88-cd14-64498cd49c60\"}],\"y_range\":{\"type\":\"DataRange1d\",\"id\":\"017ef3b9-27e3-4a5c-ca67-860296a513cc\"},\"doc\":null,\"tools\":[{\"type\":\"PanTool\",\"id\":\"04c4cef0-b6c7-4b05-cbef-315736c7d5ab\"},{\"type\":\"WheelZoomTool\",\"id\":\"ceae4a33-6c60-4f7c-cf10-b31cb3cb07c4\"},{\"type\":\"BoxZoomTool\",\"id\":\"c0f758f8-e94d-41d8-c103-4f21dc7db6bd\"},{\"type\":\"PreviewSaveTool\",\"id\":\"c90aafe0-1617-4d1a-cd38-e896a5246dcd\"},{\"type\":\"ResizeTool\",\"id\":\"c366d06f-3655-47cd-c7c7-ec43e990bca8\"},{\"type\":\"ResetTool\",\"id\":\"e19ee9b2-9008-443f-c48a-c8e54682bb88\"}],\"below\":[{\"type\":\"LinearAxis\",\"id\":\"c30e1863-25e7-4296-c2a0-7c2dcdbbe63d\"}],\"title\":\"Exploitability of different strategies, 800 iterations\",\"left\":[{\"type\":\"LinearAxis\",\"id\":\"405258a8-15fe-416f-c15f-ebaab1ef646c\"}],\"extra_y_ranges\":{},\"above\":[],\"tags\":[]},\"type\":\"Plot\"}];\n",
       "      Bokeh.load_models(all_models);\n",
       "      var model = Bokeh.Collections(modeltype).get(modelid);\n",
       "      $(\"#93259eec-032b-40e2-c0c1-e80803ed14c8\").html(''); // clear any previous plot in window_id\n",
       "      var view = new model.default_view({model: model, el: \"#93259eec-032b-40e2-c0c1-e80803ed14c8\"});\n",
       "  });\n",
       "    }\n",
       "});\n",
       "</script>\n",
       "<div class=\"plotdiv\" id=\"93259eec-032b-40e2-c0c1-e80803ed14c8\"></div>\n"
      ]
     },
     "metadata": {},
     "output_type": "display_data"
    }
   ],
   "source": [
    "local num_iter = torch.range(1,exploit_cfr100:size(1))\n",
    "local plot = Plot()\n",
    "\n",
    "plot:line(num_iter,exploit_cfr100,'red' ,'Original')\n",
    "plot:line(num_iter,exploit_cfr102,'blue' ,'New CFR')\n",
    "plot:legend(true):title('Exploitability of different strategies, 800 iterations')\n",
    "plot:xaxis('Scaled number of iterations'):yaxis('Exploitability'):redraw()\n"
   ]
  },
  {
   "cell_type": "markdown",
   "metadata": {},
   "source": [
    "### 2. Exploitability for different Strategies"
   ]
  },
  {
   "cell_type": "code",
   "execution_count": 8,
   "metadata": {
    "collapsed": true
   },
   "outputs": [],
   "source": [
    "number_of_iterations = 200"
   ]
  },
  {
   "cell_type": "code",
   "execution_count": 9,
   "metadata": {},
   "outputs": [
    {
     "ename": "invalid element (not a number) at /tmp/luarocks_torch-scm-1-6004/torch7/generic/Tensor.c:143\nstack traceback:\n\t/usr/local/share/lua/5.2/itorch/main.lua:167: in function </usr/local/share/lua/5.2/itorch/main.lua:160>\n\t[C]: in ?\n\t[C]: in function 'Tensor'\n\t./Tree/tree_data_generation.lua:84: in function 'get_possible_actions_and_strategy_indexes'\n\t./Tree/tree_data_generation.lua:184: in function 'get_strategy_from_node'\n\t./Tree/tree_data_generation.lua:103: in function 'generate_features_and_strategy'\n\t./Tree/tree_data_generation.lua:48: in function 'get_node_data'\n\t./Tree/tree_data_generation.lua:57: in function 'get_node_data'\n\t./Tree/tree_data_generation.lua:57: in function 'get_node_data'\n\t./Tree/tree_data_generation.lua:57: in function 'get_node_data'\n\t...\n\t[string \"--- Get Data from 2000 iterations...\"]:7: in main chunk\n\t[C]: in function 'xpcall'\n\t/usr/local/share/lua/5.2/itorch/main.lua:210: in function </usr/local/share/lua/5.2/itorch/main.lua:174>\n\t(...tail calls...)\n\t/usr/local/share/lua/5.2/lzmq/poller.lua:75: in function 'poll'\n\t/usr/local/share/lua/5.2/lzmq/impl/loop.lua:307: in function 'poll'\n\t/usr/local/share/lua/5.2/lzmq/impl/loop.lua:325: in function 'sleep_ex'\n\t/usr/local/share/lua/5.2/lzmq/impl/loop.lua:370: in function 'start'\n\t/usr/local/share/lua/5.2/itorch/main.lua:389: in main chunk\n\t[C]: in function 'require'\n\t(command line):1: in main chunk\n\t[C]: in ?",
     "evalue": "",
     "output_type": "error",
     "traceback": [
      "invalid element (not a number) at /tmp/luarocks_torch-scm-1-6004/torch7/generic/Tensor.c:143\nstack traceback:\n\t/usr/local/share/lua/5.2/itorch/main.lua:167: in function </usr/local/share/lua/5.2/itorch/main.lua:160>\n\t[C]: in ?\n\t[C]: in function 'Tensor'\n\t./Tree/tree_data_generation.lua:84: in function 'get_possible_actions_and_strategy_indexes'\n\t./Tree/tree_data_generation.lua:184: in function 'get_strategy_from_node'\n\t./Tree/tree_data_generation.lua:103: in function 'generate_features_and_strategy'\n\t./Tree/tree_data_generation.lua:48: in function 'get_node_data'\n\t./Tree/tree_data_generation.lua:57: in function 'get_node_data'\n\t./Tree/tree_data_generation.lua:57: in function 'get_node_data'\n\t./Tree/tree_data_generation.lua:57: in function 'get_node_data'\n\t...\n\t[string \"--- Get Data from 2000 iterations...\"]:7: in main chunk\n\t[C]: in function 'xpcall'\n\t/usr/local/share/lua/5.2/itorch/main.lua:210: in function </usr/local/share/lua/5.2/itorch/main.lua:174>\n\t(...tail calls...)\n\t/usr/local/share/lua/5.2/lzmq/poller.lua:75: in function 'poll'\n\t/usr/local/share/lua/5.2/lzmq/impl/loop.lua:307: in function 'poll'\n\t/usr/local/share/lua/5.2/lzmq/impl/loop.lua:325: in function 'sleep_ex'\n\t/usr/local/share/lua/5.2/lzmq/impl/loop.lua:370: in function 'start'\n\t/usr/local/share/lua/5.2/itorch/main.lua:389: in main chunk\n\t[C]: in function 'require'\n\t(command line):1: in main chunk\n\t[C]: in ?"
     ]
    }
   ],
   "source": [
    "--- Get Data from 2000 iterations\n",
    "tree800 = builder:build_tree(params)\n",
    "tree_data800 = TreeData(tree800)\n",
    "tree800_cfr = TreeCFR2()\n",
    "tree800_cfr.cfr_skip = 0\n",
    "tree800_cfr:run_cfr(tree800, starting_ranges,number_of_iterations)\n",
    "tree_data800:get_training_set(tree800,1)"
   ]
  },
  {
   "cell_type": "markdown",
   "metadata": {},
   "source": [
    "### Training the Model"
   ]
  },
  {
   "cell_type": "code",
   "execution_count": 10,
   "metadata": {
    "collapsed": true
   },
   "outputs": [],
   "source": [
    "-- Building the neural net model\n",
    "strategy_nn = StrategyNN()\n",
    "nn_model = strategy_nn.model\n",
    "-- Building trainer:\n",
    "nn_trainer = NNTrainer(tree_data800,nn_model)\n",
    "-- Options:\n",
    "opt = {}\n",
    "opt.learningRate = 0.001\n",
    "opt.momentum = 0.95\n",
    "opt.validate = false"
   ]
  },
  {
   "cell_type": "code",
   "execution_count": 11,
   "metadata": {
    "collapsed": true
   },
   "outputs": [],
   "source": [
    "current_criterion = StrategyLoss()---nn.SmoothL1Criterion()\n",
    "train_loss,test_loss = nn_trainer:train(nn_model,current_criterion,opt,10000)"
   ]
  },
  {
   "cell_type": "code",
   "execution_count": 12,
   "metadata": {},
   "outputs": [
    {
     "data": {
      "text/plain": [
       "0.0020748296963373\n"
      ]
     },
     "execution_count": 12,
     "metadata": {},
     "output_type": "execute_result"
    }
   ],
   "source": [
    "pred_strat = nn_model:forward({nn_trainer.all_data.features,nn_trainer.all_data.masks})\n",
    "true_strat =nn_trainer.all_data.targets\n",
    "print(torch.mean(torch.abs(pred_strat- true_strat)))"
   ]
  },
  {
   "cell_type": "markdown",
   "metadata": {},
   "source": [
    "### No Warm Start"
   ]
  },
  {
   "cell_type": "code",
   "execution_count": 13,
   "metadata": {
    "collapsed": true
   },
   "outputs": [],
   "source": [
    "--- Building CFR Solver\n",
    "treeNoWarm = builder:build_tree(params)\n",
    "treeNoWarm_cfr = TreeCFR2()\n",
    "treeNoWarm_cfr.cfr_skip = 0\n",
    "treeNoWarm_cfr:run_cfr(treeNoWarm, starting_ranges,number_of_iterations)"
   ]
  },
  {
   "cell_type": "markdown",
   "metadata": {},
   "source": [
    "### Neural Net Start "
   ]
  },
  {
   "cell_type": "code",
   "execution_count": 14,
   "metadata": {},
   "outputs": [
    {
     "ename": "invalid element (not a number) at /tmp/luarocks_torch-scm-1-6004/torch7/generic/Tensor.c:143\nstack traceback:\n\t/usr/local/share/lua/5.2/itorch/main.lua:167: in function </usr/local/share/lua/5.2/itorch/main.lua:160>\n\t[C]: in ?\n\t[C]: in function 'Tensor'\n\t./Tree/tree_data_generation.lua:84: in function 'get_possible_actions_and_strategy_indexes'\n\t./Tree/tree_data_generation.lua:184: in function 'get_strategy_from_node'\n\t./Tree/tree_data_generation.lua:103: in function 'generate_features_and_strategy'\n\t./Tree/tree_data_generation.lua:48: in function 'get_node_data'\n\t./Tree/tree_data_generation.lua:57: in function 'get_node_data'\n\t./Tree/tree_data_generation.lua:57: in function 'get_node_data'\n\t./Tree/tree_data_generation.lua:57: in function 'get_node_data'\n\t...\n\t[string \"--- NNWarm Starting...\"]:4: in main chunk\n\t[C]: in function 'xpcall'\n\t/usr/local/share/lua/5.2/itorch/main.lua:210: in function </usr/local/share/lua/5.2/itorch/main.lua:174>\n\t(...tail calls...)\n\t/usr/local/share/lua/5.2/lzmq/poller.lua:75: in function 'poll'\n\t/usr/local/share/lua/5.2/lzmq/impl/loop.lua:307: in function 'poll'\n\t/usr/local/share/lua/5.2/lzmq/impl/loop.lua:325: in function 'sleep_ex'\n\t/usr/local/share/lua/5.2/lzmq/impl/loop.lua:370: in function 'start'\n\t/usr/local/share/lua/5.2/itorch/main.lua:389: in main chunk\n\t[C]: in function 'require'\n\t(command line):1: in main chunk\n\t[C]: in ?",
     "evalue": "",
     "output_type": "error",
     "traceback": [
      "invalid element (not a number) at /tmp/luarocks_torch-scm-1-6004/torch7/generic/Tensor.c:143\nstack traceback:\n\t/usr/local/share/lua/5.2/itorch/main.lua:167: in function </usr/local/share/lua/5.2/itorch/main.lua:160>\n\t[C]: in ?\n\t[C]: in function 'Tensor'\n\t./Tree/tree_data_generation.lua:84: in function 'get_possible_actions_and_strategy_indexes'\n\t./Tree/tree_data_generation.lua:184: in function 'get_strategy_from_node'\n\t./Tree/tree_data_generation.lua:103: in function 'generate_features_and_strategy'\n\t./Tree/tree_data_generation.lua:48: in function 'get_node_data'\n\t./Tree/tree_data_generation.lua:57: in function 'get_node_data'\n\t./Tree/tree_data_generation.lua:57: in function 'get_node_data'\n\t./Tree/tree_data_generation.lua:57: in function 'get_node_data'\n\t...\n\t[string \"--- NNWarm Starting...\"]:4: in main chunk\n\t[C]: in function 'xpcall'\n\t/usr/local/share/lua/5.2/itorch/main.lua:210: in function </usr/local/share/lua/5.2/itorch/main.lua:174>\n\t(...tail calls...)\n\t/usr/local/share/lua/5.2/lzmq/poller.lua:75: in function 'poll'\n\t/usr/local/share/lua/5.2/lzmq/impl/loop.lua:307: in function 'poll'\n\t/usr/local/share/lua/5.2/lzmq/impl/loop.lua:325: in function 'sleep_ex'\n\t/usr/local/share/lua/5.2/lzmq/impl/loop.lua:370: in function 'start'\n\t/usr/local/share/lua/5.2/itorch/main.lua:389: in main chunk\n\t[C]: in function 'require'\n\t(command line):1: in main chunk\n\t[C]: in ?"
     ]
    }
   ],
   "source": [
    "--- NNWarm Starting\n",
    "treeNNWarm = builder:build_tree(params)\n",
    "dataNN = TreeData(treeNNWarm)\n",
    "dataNN:get_training_set(treeNNWarm,1)\n",
    "dataNN:generate_new_initial_strategies(treeNNWarm,nn_trainer)\n",
    "---Warm start the regrets:\n",
    "dataNN:warm_start_regrets(treeNNWarm,tree800)\n",
    "---tree_warm_start = TreeWarmStart()\n",
    "---tree_warm_start:run_warm_start(treeNNWarm, starting_ranges,80)\n",
    "--- Building CFR Solver\n",
    "treeNNWarm_cfr = TreeCFR2()\n",
    "treeNNWarm_cfr.cfr_skip = 0\n",
    "treeNNWarm_cfr:run_cfr(treeNNWarm, starting_ranges,number_of_iterations)"
   ]
  },
  {
   "cell_type": "code",
   "execution_count": 15,
   "metadata": {
    "collapsed": true
   },
   "outputs": [],
   "source": [
    "---tree_warm_start = TreeWarmStart()\n",
    "---tree_warm_start:run_warm_start(treeNNWarm, starting_ranges,80)"
   ]
  },
  {
   "cell_type": "code",
   "execution_count": 16,
   "metadata": {},
   "outputs": [
    {
     "ename": "invalid element (not a number) at /tmp/luarocks_torch-scm-1-6004/torch7/generic/Tensor.c:143\nstack traceback:\n\t/usr/local/share/lua/5.2/itorch/main.lua:167: in function </usr/local/share/lua/5.2/itorch/main.lua:160>\n\t[C]: in ?\n\t[C]: in function 'Tensor'\n\t./Tree/tree_data_generation.lua:84: in function 'get_possible_actions_and_strategy_indexes'\n\t./Tree/tree_data_generation.lua:184: in function 'get_strategy_from_node'\n\t./Tree/tree_data_generation.lua:103: in function 'generate_features_and_strategy'\n\t./Tree/tree_data_generation.lua:48: in function 'get_node_data'\n\t./Tree/tree_data_generation.lua:57: in function 'get_node_data'\n\t./Tree/tree_data_generation.lua:57: in function 'get_node_data'\n\t./Tree/tree_data_generation.lua:57: in function 'get_node_data'\n\t...\n\t[string \"--- NNWarm Starting...\"]:4: in main chunk\n\t[C]: in function 'xpcall'\n\t/usr/local/share/lua/5.2/itorch/main.lua:210: in function </usr/local/share/lua/5.2/itorch/main.lua:174>\n\t(...tail calls...)\n\t/usr/local/share/lua/5.2/lzmq/poller.lua:75: in function 'poll'\n\t/usr/local/share/lua/5.2/lzmq/impl/loop.lua:307: in function 'poll'\n\t/usr/local/share/lua/5.2/lzmq/impl/loop.lua:325: in function 'sleep_ex'\n\t/usr/local/share/lua/5.2/lzmq/impl/loop.lua:370: in function 'start'\n\t/usr/local/share/lua/5.2/itorch/main.lua:389: in main chunk\n\t[C]: in function 'require'\n\t(command line):1: in main chunk\n\t[C]: in ?",
     "evalue": "",
     "output_type": "error",
     "traceback": [
      "invalid element (not a number) at /tmp/luarocks_torch-scm-1-6004/torch7/generic/Tensor.c:143\nstack traceback:\n\t/usr/local/share/lua/5.2/itorch/main.lua:167: in function </usr/local/share/lua/5.2/itorch/main.lua:160>\n\t[C]: in ?\n\t[C]: in function 'Tensor'\n\t./Tree/tree_data_generation.lua:84: in function 'get_possible_actions_and_strategy_indexes'\n\t./Tree/tree_data_generation.lua:184: in function 'get_strategy_from_node'\n\t./Tree/tree_data_generation.lua:103: in function 'generate_features_and_strategy'\n\t./Tree/tree_data_generation.lua:48: in function 'get_node_data'\n\t./Tree/tree_data_generation.lua:57: in function 'get_node_data'\n\t./Tree/tree_data_generation.lua:57: in function 'get_node_data'\n\t./Tree/tree_data_generation.lua:57: in function 'get_node_data'\n\t...\n\t[string \"--- NNWarm Starting...\"]:4: in main chunk\n\t[C]: in function 'xpcall'\n\t/usr/local/share/lua/5.2/itorch/main.lua:210: in function </usr/local/share/lua/5.2/itorch/main.lua:174>\n\t(...tail calls...)\n\t/usr/local/share/lua/5.2/lzmq/poller.lua:75: in function 'poll'\n\t/usr/local/share/lua/5.2/lzmq/impl/loop.lua:307: in function 'poll'\n\t/usr/local/share/lua/5.2/lzmq/impl/loop.lua:325: in function 'sleep_ex'\n\t/usr/local/share/lua/5.2/lzmq/impl/loop.lua:370: in function 'start'\n\t/usr/local/share/lua/5.2/itorch/main.lua:389: in main chunk\n\t[C]: in function 'require'\n\t(command line):1: in main chunk\n\t[C]: in ?"
     ]
    }
   ],
   "source": [
    "--- NNWarm Starting\n",
    "treeNN_NoRegWarm = builder:build_tree(params)\n",
    "dataNN_NoReg = TreeData(treeNN_NoRegWarm)\n",
    "dataNN_NoReg:get_training_set(treeNN_NoRegWarm,1)\n",
    "dataNN_NoReg:generate_new_initial_strategies(treeNN_NoRegWarm,nn_trainer)\n",
    "---Warm start the regrets:\n",
    "---dataNN:warm_start_regrets(treeNN_NoRegWarm,tree800)\n",
    "--- Building CFR Solver\n",
    "treeNN_NoRegWarm_cfr = TreeCFR2()\n",
    "treeNN_NoRegWarm_cfr.cfr_skip = 0\n",
    "treeNN_NoRegWarm_cfr:run_cfr(treeNN_NoRegWarm, starting_ranges,number_of_iterations)"
   ]
  },
  {
   "cell_type": "markdown",
   "metadata": {},
   "source": [
    "### Target Warm Start "
   ]
  },
  {
   "cell_type": "code",
   "execution_count": 17,
   "metadata": {
    "collapsed": true
   },
   "outputs": [],
   "source": [
    "--- Target Warm Starting\n",
    "treeTarRegWarm = builder:build_tree(params)\n",
    "dataTargReg = TreeData(treeTarRegWarm)\n",
    "---dataTarg:get_training_set(treeTargWarm,1)\n",
    "---dataTarg:warm_start_targets(treeTargWarm,tree800)\n",
    "---dataTarg:warm_start_regrets(treeTargWarm,tree800)\n",
    "---tree_warm_start = TreeWarmStart()\n",
    "---tree_warm_start:run_warm_start(treeTargWarm, starting_ranges,number_of_iterations)\n",
    "dataTargReg:warm_start_targets_and_regrets(treeTarRegWarm,tree800)\n",
    "--- Building CFR Solver\n",
    "treeTarRegWarm_cfr = TreeCFR2()\n",
    "treeTarRegWarm_cfr.cfr_skip = 0\n",
    "treeTarRegWarm_cfr:run_cfr(treeTarRegWarm, starting_ranges,number_of_iterations)"
   ]
  },
  {
   "cell_type": "code",
   "execution_count": 18,
   "metadata": {
    "collapsed": true
   },
   "outputs": [],
   "source": [
    "--- Target Warm Starting\n",
    "treeTarWarm = builder:build_tree(params)\n",
    "dataTarg = TreeData(treeTarWarm)\n",
    "dataTarg:warm_start_targets(treeTarWarm,tree800)\n",
    "--- Building CFR Solver\n",
    "treeTarWarm_cfr = TreeCFR2()\n",
    "treeTarWarm_cfr.cfr_skip = 0\n",
    "treeTarWarm_cfr:run_cfr(treeTarWarm, starting_ranges,number_of_iterations)"
   ]
  },
  {
   "cell_type": "code",
   "execution_count": 19,
   "metadata": {
    "collapsed": true
   },
   "outputs": [],
   "source": [
    "--- Target Warm Starting\n",
    "treeRegWarm = builder:build_tree(params)\n",
    "dataReg = TreeData(treeRegWarm)\n",
    "dataReg:warm_start_regrets(treeRegWarm,tree800)\n",
    "--- Building CFR Solver\n",
    "treeRegWarm_cfr = TreeCFR2()\n",
    "treeRegWarm_cfr.cfr_skip = 0\n",
    "treeRegWarm_cfr:run_cfr(treeRegWarm, starting_ranges,number_of_iterations)"
   ]
  },
  {
   "cell_type": "markdown",
   "metadata": {},
   "source": [
    "### Plot different starts"
   ]
  },
  {
   "cell_type": "code",
   "execution_count": 20,
   "metadata": {
    "collapsed": true
   },
   "outputs": [],
   "source": [
    "exploit_unif = tree800_cfr.exploitability_vec\n",
    "exploit_NoW = treeNoWarm_cfr.exploitability_vec\n",
    "exploit_NNW = treeNNWarm_cfr.exploitability_vec\n",
    "exploit_NN_NoReg = treeNN_NoRegWarm_cfr.exploitability_vec\n",
    "exploit_TarRegW = treeTarRegWarm_cfr.exploitability_vec\n",
    "exploit_TarW = treeTarWarm_cfr.exploitability_vec\n",
    "exploit_RegW = treeRegWarm_cfr.exploitability_vec"
   ]
  },
  {
   "cell_type": "code",
   "execution_count": 21,
   "metadata": {},
   "outputs": [
    {
     "data": {
      "text/html": [
       "<script type=\"text/javascript\">\n",
       "$(function() {\n",
       "    if (typeof (window._bokeh_onload_callbacks) === \"undefined\"){\n",
       "  window._bokeh_onload_callbacks = [];\n",
       "    }\n",
       "    function load_lib(url, callback){\n",
       "  window._bokeh_onload_callbacks.push(callback);\n",
       "  if (window._bokeh_is_loading){\n",
       "      console.log(\"Bokeh: BokehJS is being loaded, scheduling callback at\", new Date());\n",
       "      return null;\n",
       "  }\n",
       "  console.log(\"Bokeh: BokehJS not loaded, scheduling load and callback at\", new Date());\n",
       "  window._bokeh_is_loading = true;\n",
       "  var s = document.createElement('script');\n",
       "  s.src = url;\n",
       "  s.async = true;\n",
       "  s.onreadystatechange = s.onload = function(){\n",
       "      Bokeh.embed.inject_css(\"https://cdn.pydata.org/bokeh-0.7.0.min.css\");\n",
       "      window._bokeh_onload_callbacks.forEach(function(callback){callback()});\n",
       "  };\n",
       "  s.onerror = function(){\n",
       "      console.warn(\"failed to load library \" + url);\n",
       "  };\n",
       "  document.getElementsByTagName(\"head\")[0].appendChild(s);\n",
       "    }\n",
       "\n",
       "    bokehjs_url = \"https://cdn.pydata.org/bokeh-0.7.0.min.js\"\n",
       "\n",
       "    var elt = document.getElementById(\"d3324c51-459b-45b0-c5fa-9cd90b24933a\");\n",
       "    if(elt==null) {\n",
       "  console.log(\"Bokeh: ERROR: autoload.js configured with elementid 'd3324c51-459b-45b0-c5fa-9cd90b24933a'\"\n",
       "        + \"but no matching script tag was found. \")\n",
       "  return false;\n",
       "    }\n",
       "\n",
       "    if(typeof(Bokeh) !== \"undefined\") {\n",
       "  console.log(\"Bokeh: BokehJS loaded, going straight to plotting\");\n",
       "  var modelid = \"aca3ae6c-7c91-41ea-c1cb-9a00db37c5b3\";\n",
       "  var modeltype = \"Plot\";\n",
       "  var all_models = [{\"id\":\"c3eaab76-6292-4c28-cc94-be74b87987fe\",\"attributes\":{\"id\":\"c3eaab76-6292-4c28-cc94-be74b87987fe\",\"data\":{\"y\":[156.45834350586,40.851928710938,19.918455123901,13.322124481201,10.090456008911,8.0616216659546,6.9668984413147,6.2650513648987,5.4744772911072,5.0738706588745,4.6549558639526,4.3480648994446,3.9349644184113,3.6483891010284,3.4783623218536],\"x\":[1,2,3,4,5,6,7,8,9,10,11,12,13,14,15]},\"discrete_ranges\":{},\"column_names\":[\"y\",\"x\"],\"doc\":null,\"selected\":[],\"cont_ranges\":{},\"tags\":[]},\"type\":\"ColumnDataSource\"},{\"id\":\"818091bb-af50-4e05-ceb4-e96e9ca53d54\",\"attributes\":{\"id\":\"818091bb-af50-4e05-ceb4-e96e9ca53d54\",\"line_color\":{\"value\":\"black\"},\"tags\":[],\"x\":{\"units\":\"data\",\"field\":\"x\"},\"fill_alpha\":{\"units\":\"data\",\"value\":0.2},\"fill_color\":{\"value\":\"black\"},\"line_alpha\":{\"units\":\"data\",\"value\":1},\"size\":{\"units\":\"screen\",\"value\":10},\"y\":{\"units\":\"data\",\"field\":\"y\"},\"doc\":null},\"type\":\"Line\"},{\"id\":\"bc292741-99d3-4fa1-cf3f-b05b101f3a78\",\"attributes\":{\"id\":\"bc292741-99d3-4fa1-cf3f-b05b101f3a78\",\"line_color\":{\"value\":\"black\"},\"tags\":[],\"x\":{\"units\":\"data\",\"field\":\"x\"},\"fill_alpha\":{\"units\":\"data\",\"value\":0.2},\"fill_color\":{\"value\":\"black\"},\"line_alpha\":{\"units\":\"data\",\"value\":1},\"size\":{\"units\":\"screen\",\"value\":10},\"y\":{\"units\":\"data\",\"field\":\"y\"},\"doc\":null},\"type\":\"Line\"},{\"id\":\"a8d1bfe5-c66e-47f7-c731-fcf1fd0e7e2c\",\"attributes\":{\"selection_glyph\":null,\"name\":null,\"data_source\":{\"type\":\"ColumnDataSource\",\"id\":\"c3eaab76-6292-4c28-cc94-be74b87987fe\"},\"tags\":[],\"server_data_source\":null,\"glyph\":{\"type\":\"Line\",\"id\":\"818091bb-af50-4e05-ceb4-e96e9ca53d54\"},\"id\":\"a8d1bfe5-c66e-47f7-c731-fcf1fd0e7e2c\",\"nonselection_glyph\":{\"type\":\"Line\",\"id\":\"bc292741-99d3-4fa1-cf3f-b05b101f3a78\"},\"doc\":null},\"type\":\"GlyphRenderer\"},{\"id\":\"2230721e-c6ac-46c8-c69b-10c369c7b48e\",\"attributes\":{\"id\":\"2230721e-c6ac-46c8-c69b-10c369c7b48e\",\"data\":{\"y\":[12.407117843628,5.4467010498047,2.5033044815063,1.3167428970337,1.0415787696838,0.91696453094482,0.70635318756104,0.80567264556885,0.78231525421143,0.59236097335815,0.70626354217529,0.49120998382568,0.60299968719482,0.54094505310059,0.45717620849609],\"x\":[1,2,3,4,5,6,7,8,9,10,11,12,13,14,15]},\"discrete_ranges\":{},\"column_names\":[\"y\",\"x\"],\"doc\":null,\"selected\":[],\"cont_ranges\":{},\"tags\":[]},\"type\":\"ColumnDataSource\"},{\"id\":\"26c10519-7257-4f83-cf62-a0bdc2fa1264\",\"attributes\":{\"id\":\"26c10519-7257-4f83-cf62-a0bdc2fa1264\",\"line_color\":{\"value\":\"blue\"},\"tags\":[],\"x\":{\"units\":\"data\",\"field\":\"x\"},\"fill_alpha\":{\"units\":\"data\",\"value\":0.2},\"fill_color\":{\"value\":\"blue\"},\"line_alpha\":{\"units\":\"data\",\"value\":1},\"size\":{\"units\":\"screen\",\"value\":10},\"y\":{\"units\":\"data\",\"field\":\"y\"},\"doc\":null},\"type\":\"Line\"},{\"id\":\"2821eb7a-7338-4127-c1ed-ab7799c09774\",\"attributes\":{\"id\":\"2821eb7a-7338-4127-c1ed-ab7799c09774\",\"line_color\":{\"value\":\"blue\"},\"tags\":[],\"x\":{\"units\":\"data\",\"field\":\"x\"},\"fill_alpha\":{\"units\":\"data\",\"value\":0.2},\"fill_color\":{\"value\":\"blue\"},\"line_alpha\":{\"units\":\"data\",\"value\":1},\"size\":{\"units\":\"screen\",\"value\":10},\"y\":{\"units\":\"data\",\"field\":\"y\"},\"doc\":null},\"type\":\"Line\"},{\"id\":\"41fef8fc-ef58-4820-c895-97fc2b944751\",\"attributes\":{\"selection_glyph\":null,\"name\":null,\"data_source\":{\"type\":\"ColumnDataSource\",\"id\":\"2230721e-c6ac-46c8-c69b-10c369c7b48e\"},\"tags\":[],\"server_data_source\":null,\"glyph\":{\"type\":\"Line\",\"id\":\"26c10519-7257-4f83-cf62-a0bdc2fa1264\"},\"id\":\"41fef8fc-ef58-4820-c895-97fc2b944751\",\"nonselection_glyph\":{\"type\":\"Line\",\"id\":\"2821eb7a-7338-4127-c1ed-ab7799c09774\"},\"doc\":null},\"type\":\"GlyphRenderer\"},{\"id\":\"2ad697cc-969f-476d-c730-f22fba6ae96d\",\"attributes\":{\"id\":\"2ad697cc-969f-476d-c730-f22fba6ae96d\",\"data\":{\"y\":[3.3987185955048,3.7229008674622,1.2723956108093,1.1183362007141,0.78102397918701,0.9320502281189,0.54828643798828,0.70377349853516,0.69820976257324,0.4656343460083,0.68203544616699,0.47566032409668,0.55090618133545,0.57010507583618,0.42053747177124],\"x\":[1,2,3,4,5,6,7,8,9,10,11,12,13,14,15]},\"discrete_ranges\":{},\"column_names\":[\"y\",\"x\"],\"doc\":null,\"selected\":[],\"cont_ranges\":{},\"tags\":[]},\"type\":\"ColumnDataSource\"},{\"id\":\"f3c3d4d9-3744-4cb8-cc98-750c01c80e6f\",\"attributes\":{\"id\":\"f3c3d4d9-3744-4cb8-cc98-750c01c80e6f\",\"line_color\":{\"value\":\"green\"},\"tags\":[],\"x\":{\"units\":\"data\",\"field\":\"x\"},\"fill_alpha\":{\"units\":\"data\",\"value\":0.2},\"fill_color\":{\"value\":\"green\"},\"line_alpha\":{\"units\":\"data\",\"value\":1},\"size\":{\"units\":\"screen\",\"value\":10},\"y\":{\"units\":\"data\",\"field\":\"y\"},\"doc\":null},\"type\":\"Line\"},{\"id\":\"67252e6a-5226-438e-c3ca-eb58cc8233a8\",\"attributes\":{\"id\":\"67252e6a-5226-438e-c3ca-eb58cc8233a8\",\"line_color\":{\"value\":\"green\"},\"tags\":[],\"x\":{\"units\":\"data\",\"field\":\"x\"},\"fill_alpha\":{\"units\":\"data\",\"value\":0.2},\"fill_color\":{\"value\":\"green\"},\"line_alpha\":{\"units\":\"data\",\"value\":1},\"size\":{\"units\":\"screen\",\"value\":10},\"y\":{\"units\":\"data\",\"field\":\"y\"},\"doc\":null},\"type\":\"Line\"},{\"id\":\"a5087d41-7d3b-417d-c15e-9c5d707ae8ea\",\"attributes\":{\"selection_glyph\":null,\"name\":null,\"data_source\":{\"type\":\"ColumnDataSource\",\"id\":\"2ad697cc-969f-476d-c730-f22fba6ae96d\"},\"tags\":[],\"server_data_source\":null,\"glyph\":{\"type\":\"Line\",\"id\":\"f3c3d4d9-3744-4cb8-cc98-750c01c80e6f\"},\"id\":\"a5087d41-7d3b-417d-c15e-9c5d707ae8ea\",\"nonselection_glyph\":{\"type\":\"Line\",\"id\":\"67252e6a-5226-438e-c3ca-eb58cc8233a8\"},\"doc\":null},\"type\":\"GlyphRenderer\"},{\"id\":\"d0f8e3f0-c9f4-4966-c90d-565de2fe40cc\",\"attributes\":{\"doc\":null,\"tags\":[],\"sources\":[{\"source\":{\"id\":\"c3eaab76-6292-4c28-cc94-be74b87987fe\",\"type\":\"ColumnDataSource\"},\"columns\":[\"x\"]},{\"source\":{\"id\":\"2230721e-c6ac-46c8-c69b-10c369c7b48e\",\"type\":\"ColumnDataSource\"},\"columns\":[\"x\"]},{\"source\":{\"id\":\"2ad697cc-969f-476d-c730-f22fba6ae96d\",\"type\":\"ColumnDataSource\"},\"columns\":[\"x\"]}],\"id\":\"d0f8e3f0-c9f4-4966-c90d-565de2fe40cc\"},\"type\":\"DataRange1d\"},{\"id\":\"209c151d-6190-489a-c868-4043d24c1b84\",\"attributes\":{\"doc\":null,\"tags\":[],\"sources\":[{\"source\":{\"id\":\"c3eaab76-6292-4c28-cc94-be74b87987fe\",\"type\":\"ColumnDataSource\"},\"columns\":[\"y\"]},{\"source\":{\"id\":\"2230721e-c6ac-46c8-c69b-10c369c7b48e\",\"type\":\"ColumnDataSource\"},\"columns\":[\"y\"]},{\"source\":{\"id\":\"2ad697cc-969f-476d-c730-f22fba6ae96d\",\"type\":\"ColumnDataSource\"},\"columns\":[\"y\"]}],\"id\":\"209c151d-6190-489a-c868-4043d24c1b84\"},\"type\":\"DataRange1d\"},{\"id\":\"211a879f-26c9-4e94-ce90-e69995b5bd9f\",\"attributes\":{\"doc\":null,\"tags\":[],\"geometries\":[],\"id\":\"211a879f-26c9-4e94-ce90-e69995b5bd9f\"},\"type\":\"ToolEvents\"},{\"id\":\"b2c64960-f537-4077-c0fa-df375b4340c1\",\"attributes\":{\"doc\":null,\"tags\":[],\"id\":\"b2c64960-f537-4077-c0fa-df375b4340c1\"},\"type\":\"BasicTickFormatter\"},{\"id\":\"346440bc-2962-4845-c88a-befb5d870169\",\"attributes\":{\"doc\":null,\"tags\":[],\"num_minor_ticks\":5,\"id\":\"346440bc-2962-4845-c88a-befb5d870169\"},\"type\":\"BasicTicker\"},{\"id\":\"68b4542b-6063-477b-c7e3-3930528c9fd9\",\"attributes\":{\"tags\":[],\"ticker\":{\"type\":\"BasicTicker\",\"id\":\"346440bc-2962-4845-c88a-befb5d870169\"},\"formatter\":{\"type\":\"BasicTickFormatter\",\"id\":\"b2c64960-f537-4077-c0fa-df375b4340c1\"},\"axis_label\":\"Scaled number of iterations\",\"doc\":null,\"id\":\"68b4542b-6063-477b-c7e3-3930528c9fd9\",\"plot\":{\"id\":\"aca3ae6c-7c91-41ea-c1cb-9a00db37c5b3\",\"type\":\"Plot\",\"subtype\":\"Figure\"}},\"type\":\"LinearAxis\"},{\"id\":\"364c3970-1ac9-4b5b-cb4b-cefcbff35c70\",\"attributes\":{\"tags\":[],\"ticker\":{\"type\":\"BasicTicker\",\"id\":\"346440bc-2962-4845-c88a-befb5d870169\"},\"dimension\":0,\"doc\":null,\"id\":\"364c3970-1ac9-4b5b-cb4b-cefcbff35c70\",\"plot\":{\"id\":\"aca3ae6c-7c91-41ea-c1cb-9a00db37c5b3\",\"type\":\"Plot\",\"subtype\":\"Figure\"}},\"type\":\"Grid\"},{\"id\":\"b86b7be5-9aa9-410f-c195-8e4fa1323bf6\",\"attributes\":{\"doc\":null,\"tags\":[],\"id\":\"b86b7be5-9aa9-410f-c195-8e4fa1323bf6\"},\"type\":\"BasicTickFormatter\"},{\"id\":\"d1070393-6a7e-4b33-cbd0-2b8e59adff56\",\"attributes\":{\"doc\":null,\"tags\":[],\"num_minor_ticks\":5,\"id\":\"d1070393-6a7e-4b33-cbd0-2b8e59adff56\"},\"type\":\"BasicTicker\"},{\"id\":\"b01f699e-315e-4985-c903-47e511c6ee7f\",\"attributes\":{\"tags\":[],\"ticker\":{\"type\":\"BasicTicker\",\"id\":\"d1070393-6a7e-4b33-cbd0-2b8e59adff56\"},\"formatter\":{\"type\":\"BasicTickFormatter\",\"id\":\"b86b7be5-9aa9-410f-c195-8e4fa1323bf6\"},\"axis_label\":\"Exploitability\",\"doc\":null,\"id\":\"b01f699e-315e-4985-c903-47e511c6ee7f\",\"plot\":{\"id\":\"aca3ae6c-7c91-41ea-c1cb-9a00db37c5b3\",\"type\":\"Plot\",\"subtype\":\"Figure\"}},\"type\":\"LinearAxis\"},{\"id\":\"fe309b06-4dff-4140-c137-95d99b3eab10\",\"attributes\":{\"tags\":[],\"ticker\":{\"type\":\"BasicTicker\",\"id\":\"d1070393-6a7e-4b33-cbd0-2b8e59adff56\"},\"dimension\":1,\"doc\":null,\"id\":\"fe309b06-4dff-4140-c137-95d99b3eab10\",\"plot\":{\"id\":\"aca3ae6c-7c91-41ea-c1cb-9a00db37c5b3\",\"type\":\"Plot\",\"subtype\":\"Figure\"}},\"type\":\"Grid\"},{\"id\":\"cb02d504-6839-47e5-c71b-ffdbc8490e99\",\"attributes\":{\"tags\":[],\"dimensions\":[\"width\",\"height\"],\"doc\":null,\"id\":\"cb02d504-6839-47e5-c71b-ffdbc8490e99\",\"plot\":{\"id\":\"aca3ae6c-7c91-41ea-c1cb-9a00db37c5b3\",\"type\":\"Plot\",\"subtype\":\"Figure\"}},\"type\":\"PanTool\"},{\"id\":\"f0d6ef01-a073-47ff-c7f6-efa897092c33\",\"attributes\":{\"tags\":[],\"dimensions\":[\"width\",\"height\"],\"doc\":null,\"id\":\"f0d6ef01-a073-47ff-c7f6-efa897092c33\",\"plot\":{\"id\":\"aca3ae6c-7c91-41ea-c1cb-9a00db37c5b3\",\"type\":\"Plot\",\"subtype\":\"Figure\"}},\"type\":\"WheelZoomTool\"},{\"id\":\"ac16cfc2-d8b2-4982-c951-2f001fe9aa0f\",\"attributes\":{\"doc\":null,\"id\":\"ac16cfc2-d8b2-4982-c951-2f001fe9aa0f\",\"tags\":[],\"plot\":{\"id\":\"aca3ae6c-7c91-41ea-c1cb-9a00db37c5b3\",\"type\":\"Plot\",\"subtype\":\"Figure\"}},\"type\":\"BoxZoomTool\"},{\"id\":\"7ea21824-8873-4b41-cb80-d0978f418b52\",\"attributes\":{\"doc\":null,\"id\":\"7ea21824-8873-4b41-cb80-d0978f418b52\",\"tags\":[],\"plot\":{\"id\":\"aca3ae6c-7c91-41ea-c1cb-9a00db37c5b3\",\"type\":\"Plot\",\"subtype\":\"Figure\"}},\"type\":\"PreviewSaveTool\"},{\"id\":\"3ca96d29-f3c1-4e6d-ce3b-af5e24315384\",\"attributes\":{\"doc\":null,\"id\":\"3ca96d29-f3c1-4e6d-ce3b-af5e24315384\",\"tags\":[],\"plot\":{\"id\":\"aca3ae6c-7c91-41ea-c1cb-9a00db37c5b3\",\"type\":\"Plot\",\"subtype\":\"Figure\"}},\"type\":\"ResizeTool\"},{\"id\":\"4d82b148-1611-4823-c8be-1cd22986c32b\",\"attributes\":{\"doc\":null,\"id\":\"4d82b148-1611-4823-c8be-1cd22986c32b\",\"tags\":[],\"plot\":{\"id\":\"aca3ae6c-7c91-41ea-c1cb-9a00db37c5b3\",\"type\":\"Plot\",\"subtype\":\"Figure\"}},\"type\":\"ResetTool\"},{\"id\":\"ea4ae8f5-d171-4c33-ccd5-2a7d4ae99d43\",\"attributes\":{\"tags\":[],\"legends\":[[\"No Warm start = Random initialization\",[{\"type\":\"GlyphRenderer\",\"id\":\"a8d1bfe5-c66e-47f7-c731-fcf1fd0e7e2c\"}]],[\"Neural Network warm start\",[{\"type\":\"GlyphRenderer\",\"id\":\"41fef8fc-ef58-4820-c895-97fc2b944751\"}]],[\"Oracle warm start\",[{\"type\":\"GlyphRenderer\",\"id\":\"a5087d41-7d3b-417d-c15e-9c5d707ae8ea\"}]]],\"doc\":null,\"id\":\"ea4ae8f5-d171-4c33-ccd5-2a7d4ae99d43\",\"plot\":{\"id\":\"aca3ae6c-7c91-41ea-c1cb-9a00db37c5b3\",\"type\":\"Plot\",\"subtype\":\"Figure\"}},\"type\":\"Legend\"},{\"id\":\"aca3ae6c-7c91-41ea-c1cb-9a00db37c5b3\",\"attributes\":{\"id\":\"aca3ae6c-7c91-41ea-c1cb-9a00db37c5b3\",\"right\":[],\"extra_x_ranges\":{},\"x_range\":{\"type\":\"DataRange1d\",\"id\":\"d0f8e3f0-c9f4-4966-c90d-565de2fe40cc\"},\"tool_events\":{\"type\":\"ToolEvents\",\"id\":\"211a879f-26c9-4e94-ce90-e69995b5bd9f\"},\"renderers\":[{\"type\":\"GlyphRenderer\",\"id\":\"a8d1bfe5-c66e-47f7-c731-fcf1fd0e7e2c\"},{\"type\":\"GlyphRenderer\",\"id\":\"41fef8fc-ef58-4820-c895-97fc2b944751\"},{\"type\":\"GlyphRenderer\",\"id\":\"a5087d41-7d3b-417d-c15e-9c5d707ae8ea\"},{\"type\":\"LinearAxis\",\"id\":\"68b4542b-6063-477b-c7e3-3930528c9fd9\"},{\"type\":\"Grid\",\"id\":\"364c3970-1ac9-4b5b-cb4b-cefcbff35c70\"},{\"type\":\"LinearAxis\",\"id\":\"b01f699e-315e-4985-c903-47e511c6ee7f\"},{\"type\":\"Grid\",\"id\":\"fe309b06-4dff-4140-c137-95d99b3eab10\"},{\"type\":\"Legend\",\"id\":\"ea4ae8f5-d171-4c33-ccd5-2a7d4ae99d43\"}],\"y_range\":{\"type\":\"DataRange1d\",\"id\":\"209c151d-6190-489a-c868-4043d24c1b84\"},\"doc\":null,\"tools\":[{\"type\":\"PanTool\",\"id\":\"cb02d504-6839-47e5-c71b-ffdbc8490e99\"},{\"type\":\"WheelZoomTool\",\"id\":\"f0d6ef01-a073-47ff-c7f6-efa897092c33\"},{\"type\":\"BoxZoomTool\",\"id\":\"ac16cfc2-d8b2-4982-c951-2f001fe9aa0f\"},{\"type\":\"PreviewSaveTool\",\"id\":\"7ea21824-8873-4b41-cb80-d0978f418b52\"},{\"type\":\"ResizeTool\",\"id\":\"3ca96d29-f3c1-4e6d-ce3b-af5e24315384\"},{\"type\":\"ResetTool\",\"id\":\"4d82b148-1611-4823-c8be-1cd22986c32b\"}],\"below\":[{\"type\":\"LinearAxis\",\"id\":\"68b4542b-6063-477b-c7e3-3930528c9fd9\"}],\"title\":\"Exploitability of different initializations, 200 iter.\",\"left\":[{\"type\":\"LinearAxis\",\"id\":\"b01f699e-315e-4985-c903-47e511c6ee7f\"}],\"extra_y_ranges\":{},\"above\":[],\"tags\":[]},\"type\":\"Plot\"}];\n",
       "  Bokeh.load_models(all_models);\n",
       "  var model = Bokeh.Collections(modeltype).get(modelid);\n",
       "  $(\"#d3324c51-459b-45b0-c5fa-9cd90b24933a\").html(''); // clear any previous plot in window_id\n",
       "  var view = new model.default_view({model: model, el: \"#d3324c51-459b-45b0-c5fa-9cd90b24933a\"});\n",
       "    } else {\n",
       "  load_lib(bokehjs_url, function() {\n",
       "      console.log(\"Bokeh: BokehJS plotting callback run at\", new Date())\n",
       "      var modelid = \"aca3ae6c-7c91-41ea-c1cb-9a00db37c5b3\";\n",
       "      var modeltype = \"Plot\";\n",
       "      var all_models = [{\"id\":\"c3eaab76-6292-4c28-cc94-be74b87987fe\",\"attributes\":{\"id\":\"c3eaab76-6292-4c28-cc94-be74b87987fe\",\"data\":{\"y\":[156.45834350586,40.851928710938,19.918455123901,13.322124481201,10.090456008911,8.0616216659546,6.9668984413147,6.2650513648987,5.4744772911072,5.0738706588745,4.6549558639526,4.3480648994446,3.9349644184113,3.6483891010284,3.4783623218536],\"x\":[1,2,3,4,5,6,7,8,9,10,11,12,13,14,15]},\"discrete_ranges\":{},\"column_names\":[\"y\",\"x\"],\"doc\":null,\"selected\":[],\"cont_ranges\":{},\"tags\":[]},\"type\":\"ColumnDataSource\"},{\"id\":\"818091bb-af50-4e05-ceb4-e96e9ca53d54\",\"attributes\":{\"id\":\"818091bb-af50-4e05-ceb4-e96e9ca53d54\",\"line_color\":{\"value\":\"black\"},\"tags\":[],\"x\":{\"units\":\"data\",\"field\":\"x\"},\"fill_alpha\":{\"units\":\"data\",\"value\":0.2},\"fill_color\":{\"value\":\"black\"},\"line_alpha\":{\"units\":\"data\",\"value\":1},\"size\":{\"units\":\"screen\",\"value\":10},\"y\":{\"units\":\"data\",\"field\":\"y\"},\"doc\":null},\"type\":\"Line\"},{\"id\":\"bc292741-99d3-4fa1-cf3f-b05b101f3a78\",\"attributes\":{\"id\":\"bc292741-99d3-4fa1-cf3f-b05b101f3a78\",\"line_color\":{\"value\":\"black\"},\"tags\":[],\"x\":{\"units\":\"data\",\"field\":\"x\"},\"fill_alpha\":{\"units\":\"data\",\"value\":0.2},\"fill_color\":{\"value\":\"black\"},\"line_alpha\":{\"units\":\"data\",\"value\":1},\"size\":{\"units\":\"screen\",\"value\":10},\"y\":{\"units\":\"data\",\"field\":\"y\"},\"doc\":null},\"type\":\"Line\"},{\"id\":\"a8d1bfe5-c66e-47f7-c731-fcf1fd0e7e2c\",\"attributes\":{\"selection_glyph\":null,\"name\":null,\"data_source\":{\"type\":\"ColumnDataSource\",\"id\":\"c3eaab76-6292-4c28-cc94-be74b87987fe\"},\"tags\":[],\"server_data_source\":null,\"glyph\":{\"type\":\"Line\",\"id\":\"818091bb-af50-4e05-ceb4-e96e9ca53d54\"},\"id\":\"a8d1bfe5-c66e-47f7-c731-fcf1fd0e7e2c\",\"nonselection_glyph\":{\"type\":\"Line\",\"id\":\"bc292741-99d3-4fa1-cf3f-b05b101f3a78\"},\"doc\":null},\"type\":\"GlyphRenderer\"},{\"id\":\"2230721e-c6ac-46c8-c69b-10c369c7b48e\",\"attributes\":{\"id\":\"2230721e-c6ac-46c8-c69b-10c369c7b48e\",\"data\":{\"y\":[12.407117843628,5.4467010498047,2.5033044815063,1.3167428970337,1.0415787696838,0.91696453094482,0.70635318756104,0.80567264556885,0.78231525421143,0.59236097335815,0.70626354217529,0.49120998382568,0.60299968719482,0.54094505310059,0.45717620849609],\"x\":[1,2,3,4,5,6,7,8,9,10,11,12,13,14,15]},\"discrete_ranges\":{},\"column_names\":[\"y\",\"x\"],\"doc\":null,\"selected\":[],\"cont_ranges\":{},\"tags\":[]},\"type\":\"ColumnDataSource\"},{\"id\":\"26c10519-7257-4f83-cf62-a0bdc2fa1264\",\"attributes\":{\"id\":\"26c10519-7257-4f83-cf62-a0bdc2fa1264\",\"line_color\":{\"value\":\"blue\"},\"tags\":[],\"x\":{\"units\":\"data\",\"field\":\"x\"},\"fill_alpha\":{\"units\":\"data\",\"value\":0.2},\"fill_color\":{\"value\":\"blue\"},\"line_alpha\":{\"units\":\"data\",\"value\":1},\"size\":{\"units\":\"screen\",\"value\":10},\"y\":{\"units\":\"data\",\"field\":\"y\"},\"doc\":null},\"type\":\"Line\"},{\"id\":\"2821eb7a-7338-4127-c1ed-ab7799c09774\",\"attributes\":{\"id\":\"2821eb7a-7338-4127-c1ed-ab7799c09774\",\"line_color\":{\"value\":\"blue\"},\"tags\":[],\"x\":{\"units\":\"data\",\"field\":\"x\"},\"fill_alpha\":{\"units\":\"data\",\"value\":0.2},\"fill_color\":{\"value\":\"blue\"},\"line_alpha\":{\"units\":\"data\",\"value\":1},\"size\":{\"units\":\"screen\",\"value\":10},\"y\":{\"units\":\"data\",\"field\":\"y\"},\"doc\":null},\"type\":\"Line\"},{\"id\":\"41fef8fc-ef58-4820-c895-97fc2b944751\",\"attributes\":{\"selection_glyph\":null,\"name\":null,\"data_source\":{\"type\":\"ColumnDataSource\",\"id\":\"2230721e-c6ac-46c8-c69b-10c369c7b48e\"},\"tags\":[],\"server_data_source\":null,\"glyph\":{\"type\":\"Line\",\"id\":\"26c10519-7257-4f83-cf62-a0bdc2fa1264\"},\"id\":\"41fef8fc-ef58-4820-c895-97fc2b944751\",\"nonselection_glyph\":{\"type\":\"Line\",\"id\":\"2821eb7a-7338-4127-c1ed-ab7799c09774\"},\"doc\":null},\"type\":\"GlyphRenderer\"},{\"id\":\"2ad697cc-969f-476d-c730-f22fba6ae96d\",\"attributes\":{\"id\":\"2ad697cc-969f-476d-c730-f22fba6ae96d\",\"data\":{\"y\":[3.3987185955048,3.7229008674622,1.2723956108093,1.1183362007141,0.78102397918701,0.9320502281189,0.54828643798828,0.70377349853516,0.69820976257324,0.4656343460083,0.68203544616699,0.47566032409668,0.55090618133545,0.57010507583618,0.42053747177124],\"x\":[1,2,3,4,5,6,7,8,9,10,11,12,13,14,15]},\"discrete_ranges\":{},\"column_names\":[\"y\",\"x\"],\"doc\":null,\"selected\":[],\"cont_ranges\":{},\"tags\":[]},\"type\":\"ColumnDataSource\"},{\"id\":\"f3c3d4d9-3744-4cb8-cc98-750c01c80e6f\",\"attributes\":{\"id\":\"f3c3d4d9-3744-4cb8-cc98-750c01c80e6f\",\"line_color\":{\"value\":\"green\"},\"tags\":[],\"x\":{\"units\":\"data\",\"field\":\"x\"},\"fill_alpha\":{\"units\":\"data\",\"value\":0.2},\"fill_color\":{\"value\":\"green\"},\"line_alpha\":{\"units\":\"data\",\"value\":1},\"size\":{\"units\":\"screen\",\"value\":10},\"y\":{\"units\":\"data\",\"field\":\"y\"},\"doc\":null},\"type\":\"Line\"},{\"id\":\"67252e6a-5226-438e-c3ca-eb58cc8233a8\",\"attributes\":{\"id\":\"67252e6a-5226-438e-c3ca-eb58cc8233a8\",\"line_color\":{\"value\":\"green\"},\"tags\":[],\"x\":{\"units\":\"data\",\"field\":\"x\"},\"fill_alpha\":{\"units\":\"data\",\"value\":0.2},\"fill_color\":{\"value\":\"green\"},\"line_alpha\":{\"units\":\"data\",\"value\":1},\"size\":{\"units\":\"screen\",\"value\":10},\"y\":{\"units\":\"data\",\"field\":\"y\"},\"doc\":null},\"type\":\"Line\"},{\"id\":\"a5087d41-7d3b-417d-c15e-9c5d707ae8ea\",\"attributes\":{\"selection_glyph\":null,\"name\":null,\"data_source\":{\"type\":\"ColumnDataSource\",\"id\":\"2ad697cc-969f-476d-c730-f22fba6ae96d\"},\"tags\":[],\"server_data_source\":null,\"glyph\":{\"type\":\"Line\",\"id\":\"f3c3d4d9-3744-4cb8-cc98-750c01c80e6f\"},\"id\":\"a5087d41-7d3b-417d-c15e-9c5d707ae8ea\",\"nonselection_glyph\":{\"type\":\"Line\",\"id\":\"67252e6a-5226-438e-c3ca-eb58cc8233a8\"},\"doc\":null},\"type\":\"GlyphRenderer\"},{\"id\":\"d0f8e3f0-c9f4-4966-c90d-565de2fe40cc\",\"attributes\":{\"doc\":null,\"tags\":[],\"sources\":[{\"source\":{\"id\":\"c3eaab76-6292-4c28-cc94-be74b87987fe\",\"type\":\"ColumnDataSource\"},\"columns\":[\"x\"]},{\"source\":{\"id\":\"2230721e-c6ac-46c8-c69b-10c369c7b48e\",\"type\":\"ColumnDataSource\"},\"columns\":[\"x\"]},{\"source\":{\"id\":\"2ad697cc-969f-476d-c730-f22fba6ae96d\",\"type\":\"ColumnDataSource\"},\"columns\":[\"x\"]}],\"id\":\"d0f8e3f0-c9f4-4966-c90d-565de2fe40cc\"},\"type\":\"DataRange1d\"},{\"id\":\"209c151d-6190-489a-c868-4043d24c1b84\",\"attributes\":{\"doc\":null,\"tags\":[],\"sources\":[{\"source\":{\"id\":\"c3eaab76-6292-4c28-cc94-be74b87987fe\",\"type\":\"ColumnDataSource\"},\"columns\":[\"y\"]},{\"source\":{\"id\":\"2230721e-c6ac-46c8-c69b-10c369c7b48e\",\"type\":\"ColumnDataSource\"},\"columns\":[\"y\"]},{\"source\":{\"id\":\"2ad697cc-969f-476d-c730-f22fba6ae96d\",\"type\":\"ColumnDataSource\"},\"columns\":[\"y\"]}],\"id\":\"209c151d-6190-489a-c868-4043d24c1b84\"},\"type\":\"DataRange1d\"},{\"id\":\"211a879f-26c9-4e94-ce90-e69995b5bd9f\",\"attributes\":{\"doc\":null,\"tags\":[],\"geometries\":[],\"id\":\"211a879f-26c9-4e94-ce90-e69995b5bd9f\"},\"type\":\"ToolEvents\"},{\"id\":\"b2c64960-f537-4077-c0fa-df375b4340c1\",\"attributes\":{\"doc\":null,\"tags\":[],\"id\":\"b2c64960-f537-4077-c0fa-df375b4340c1\"},\"type\":\"BasicTickFormatter\"},{\"id\":\"346440bc-2962-4845-c88a-befb5d870169\",\"attributes\":{\"doc\":null,\"tags\":[],\"num_minor_ticks\":5,\"id\":\"346440bc-2962-4845-c88a-befb5d870169\"},\"type\":\"BasicTicker\"},{\"id\":\"68b4542b-6063-477b-c7e3-3930528c9fd9\",\"attributes\":{\"tags\":[],\"ticker\":{\"type\":\"BasicTicker\",\"id\":\"346440bc-2962-4845-c88a-befb5d870169\"},\"formatter\":{\"type\":\"BasicTickFormatter\",\"id\":\"b2c64960-f537-4077-c0fa-df375b4340c1\"},\"axis_label\":\"Scaled number of iterations\",\"doc\":null,\"id\":\"68b4542b-6063-477b-c7e3-3930528c9fd9\",\"plot\":{\"id\":\"aca3ae6c-7c91-41ea-c1cb-9a00db37c5b3\",\"type\":\"Plot\",\"subtype\":\"Figure\"}},\"type\":\"LinearAxis\"},{\"id\":\"364c3970-1ac9-4b5b-cb4b-cefcbff35c70\",\"attributes\":{\"tags\":[],\"ticker\":{\"type\":\"BasicTicker\",\"id\":\"346440bc-2962-4845-c88a-befb5d870169\"},\"dimension\":0,\"doc\":null,\"id\":\"364c3970-1ac9-4b5b-cb4b-cefcbff35c70\",\"plot\":{\"id\":\"aca3ae6c-7c91-41ea-c1cb-9a00db37c5b3\",\"type\":\"Plot\",\"subtype\":\"Figure\"}},\"type\":\"Grid\"},{\"id\":\"b86b7be5-9aa9-410f-c195-8e4fa1323bf6\",\"attributes\":{\"doc\":null,\"tags\":[],\"id\":\"b86b7be5-9aa9-410f-c195-8e4fa1323bf6\"},\"type\":\"BasicTickFormatter\"},{\"id\":\"d1070393-6a7e-4b33-cbd0-2b8e59adff56\",\"attributes\":{\"doc\":null,\"tags\":[],\"num_minor_ticks\":5,\"id\":\"d1070393-6a7e-4b33-cbd0-2b8e59adff56\"},\"type\":\"BasicTicker\"},{\"id\":\"b01f699e-315e-4985-c903-47e511c6ee7f\",\"attributes\":{\"tags\":[],\"ticker\":{\"type\":\"BasicTicker\",\"id\":\"d1070393-6a7e-4b33-cbd0-2b8e59adff56\"},\"formatter\":{\"type\":\"BasicTickFormatter\",\"id\":\"b86b7be5-9aa9-410f-c195-8e4fa1323bf6\"},\"axis_label\":\"Exploitability\",\"doc\":null,\"id\":\"b01f699e-315e-4985-c903-47e511c6ee7f\",\"plot\":{\"id\":\"aca3ae6c-7c91-41ea-c1cb-9a00db37c5b3\",\"type\":\"Plot\",\"subtype\":\"Figure\"}},\"type\":\"LinearAxis\"},{\"id\":\"fe309b06-4dff-4140-c137-95d99b3eab10\",\"attributes\":{\"tags\":[],\"ticker\":{\"type\":\"BasicTicker\",\"id\":\"d1070393-6a7e-4b33-cbd0-2b8e59adff56\"},\"dimension\":1,\"doc\":null,\"id\":\"fe309b06-4dff-4140-c137-95d99b3eab10\",\"plot\":{\"id\":\"aca3ae6c-7c91-41ea-c1cb-9a00db37c5b3\",\"type\":\"Plot\",\"subtype\":\"Figure\"}},\"type\":\"Grid\"},{\"id\":\"cb02d504-6839-47e5-c71b-ffdbc8490e99\",\"attributes\":{\"tags\":[],\"dimensions\":[\"width\",\"height\"],\"doc\":null,\"id\":\"cb02d504-6839-47e5-c71b-ffdbc8490e99\",\"plot\":{\"id\":\"aca3ae6c-7c91-41ea-c1cb-9a00db37c5b3\",\"type\":\"Plot\",\"subtype\":\"Figure\"}},\"type\":\"PanTool\"},{\"id\":\"f0d6ef01-a073-47ff-c7f6-efa897092c33\",\"attributes\":{\"tags\":[],\"dimensions\":[\"width\",\"height\"],\"doc\":null,\"id\":\"f0d6ef01-a073-47ff-c7f6-efa897092c33\",\"plot\":{\"id\":\"aca3ae6c-7c91-41ea-c1cb-9a00db37c5b3\",\"type\":\"Plot\",\"subtype\":\"Figure\"}},\"type\":\"WheelZoomTool\"},{\"id\":\"ac16cfc2-d8b2-4982-c951-2f001fe9aa0f\",\"attributes\":{\"doc\":null,\"id\":\"ac16cfc2-d8b2-4982-c951-2f001fe9aa0f\",\"tags\":[],\"plot\":{\"id\":\"aca3ae6c-7c91-41ea-c1cb-9a00db37c5b3\",\"type\":\"Plot\",\"subtype\":\"Figure\"}},\"type\":\"BoxZoomTool\"},{\"id\":\"7ea21824-8873-4b41-cb80-d0978f418b52\",\"attributes\":{\"doc\":null,\"id\":\"7ea21824-8873-4b41-cb80-d0978f418b52\",\"tags\":[],\"plot\":{\"id\":\"aca3ae6c-7c91-41ea-c1cb-9a00db37c5b3\",\"type\":\"Plot\",\"subtype\":\"Figure\"}},\"type\":\"PreviewSaveTool\"},{\"id\":\"3ca96d29-f3c1-4e6d-ce3b-af5e24315384\",\"attributes\":{\"doc\":null,\"id\":\"3ca96d29-f3c1-4e6d-ce3b-af5e24315384\",\"tags\":[],\"plot\":{\"id\":\"aca3ae6c-7c91-41ea-c1cb-9a00db37c5b3\",\"type\":\"Plot\",\"subtype\":\"Figure\"}},\"type\":\"ResizeTool\"},{\"id\":\"4d82b148-1611-4823-c8be-1cd22986c32b\",\"attributes\":{\"doc\":null,\"id\":\"4d82b148-1611-4823-c8be-1cd22986c32b\",\"tags\":[],\"plot\":{\"id\":\"aca3ae6c-7c91-41ea-c1cb-9a00db37c5b3\",\"type\":\"Plot\",\"subtype\":\"Figure\"}},\"type\":\"ResetTool\"},{\"id\":\"ea4ae8f5-d171-4c33-ccd5-2a7d4ae99d43\",\"attributes\":{\"tags\":[],\"legends\":[[\"No Warm start = Random initialization\",[{\"type\":\"GlyphRenderer\",\"id\":\"a8d1bfe5-c66e-47f7-c731-fcf1fd0e7e2c\"}]],[\"Neural Network warm start\",[{\"type\":\"GlyphRenderer\",\"id\":\"41fef8fc-ef58-4820-c895-97fc2b944751\"}]],[\"Oracle warm start\",[{\"type\":\"GlyphRenderer\",\"id\":\"a5087d41-7d3b-417d-c15e-9c5d707ae8ea\"}]]],\"doc\":null,\"id\":\"ea4ae8f5-d171-4c33-ccd5-2a7d4ae99d43\",\"plot\":{\"id\":\"aca3ae6c-7c91-41ea-c1cb-9a00db37c5b3\",\"type\":\"Plot\",\"subtype\":\"Figure\"}},\"type\":\"Legend\"},{\"id\":\"aca3ae6c-7c91-41ea-c1cb-9a00db37c5b3\",\"attributes\":{\"id\":\"aca3ae6c-7c91-41ea-c1cb-9a00db37c5b3\",\"right\":[],\"extra_x_ranges\":{},\"x_range\":{\"type\":\"DataRange1d\",\"id\":\"d0f8e3f0-c9f4-4966-c90d-565de2fe40cc\"},\"tool_events\":{\"type\":\"ToolEvents\",\"id\":\"211a879f-26c9-4e94-ce90-e69995b5bd9f\"},\"renderers\":[{\"type\":\"GlyphRenderer\",\"id\":\"a8d1bfe5-c66e-47f7-c731-fcf1fd0e7e2c\"},{\"type\":\"GlyphRenderer\",\"id\":\"41fef8fc-ef58-4820-c895-97fc2b944751\"},{\"type\":\"GlyphRenderer\",\"id\":\"a5087d41-7d3b-417d-c15e-9c5d707ae8ea\"},{\"type\":\"LinearAxis\",\"id\":\"68b4542b-6063-477b-c7e3-3930528c9fd9\"},{\"type\":\"Grid\",\"id\":\"364c3970-1ac9-4b5b-cb4b-cefcbff35c70\"},{\"type\":\"LinearAxis\",\"id\":\"b01f699e-315e-4985-c903-47e511c6ee7f\"},{\"type\":\"Grid\",\"id\":\"fe309b06-4dff-4140-c137-95d99b3eab10\"},{\"type\":\"Legend\",\"id\":\"ea4ae8f5-d171-4c33-ccd5-2a7d4ae99d43\"}],\"y_range\":{\"type\":\"DataRange1d\",\"id\":\"209c151d-6190-489a-c868-4043d24c1b84\"},\"doc\":null,\"tools\":[{\"type\":\"PanTool\",\"id\":\"cb02d504-6839-47e5-c71b-ffdbc8490e99\"},{\"type\":\"WheelZoomTool\",\"id\":\"f0d6ef01-a073-47ff-c7f6-efa897092c33\"},{\"type\":\"BoxZoomTool\",\"id\":\"ac16cfc2-d8b2-4982-c951-2f001fe9aa0f\"},{\"type\":\"PreviewSaveTool\",\"id\":\"7ea21824-8873-4b41-cb80-d0978f418b52\"},{\"type\":\"ResizeTool\",\"id\":\"3ca96d29-f3c1-4e6d-ce3b-af5e24315384\"},{\"type\":\"ResetTool\",\"id\":\"4d82b148-1611-4823-c8be-1cd22986c32b\"}],\"below\":[{\"type\":\"LinearAxis\",\"id\":\"68b4542b-6063-477b-c7e3-3930528c9fd9\"}],\"title\":\"Exploitability of different initializations, 200 iter.\",\"left\":[{\"type\":\"LinearAxis\",\"id\":\"b01f699e-315e-4985-c903-47e511c6ee7f\"}],\"extra_y_ranges\":{},\"above\":[],\"tags\":[]},\"type\":\"Plot\"}];\n",
       "      Bokeh.load_models(all_models);\n",
       "      var model = Bokeh.Collections(modeltype).get(modelid);\n",
       "      $(\"#d3324c51-459b-45b0-c5fa-9cd90b24933a\").html(''); // clear any previous plot in window_id\n",
       "      var view = new model.default_view({model: model, el: \"#d3324c51-459b-45b0-c5fa-9cd90b24933a\"});\n",
       "  });\n",
       "    }\n",
       "});\n",
       "</script>\n",
       "<div class=\"plotdiv\" id=\"d3324c51-459b-45b0-c5fa-9cd90b24933a\"></div>\n"
      ]
     },
     "metadata": {},
     "output_type": "display_data"
    }
   ],
   "source": [
    "local num_iter = torch.range(1,exploit_NoW:size(1))\n",
    "local plot = Plot()\n",
    "\n",
    "---plot:line(num_iter,exploit_unif,'black' ,'No Warm start CFR = Uniform warm start')\n",
    "plot:line(num_iter,exploit_NoW,'black' ,'No Warm start = Random initialization')\n",
    "plot:line(num_iter,exploit_NNW,'blue' ,'Neural Network warm start')\n",
    "---plot:line(num_iter,exploit_NN_NoReg,'brown' ,'Neural Net warm start CFR no Regrets')\n",
    "plot:line(num_iter,exploit_TarRegW,'green' ,'Oracle warm start')\n",
    "---plot:line(num_iter,exploit_TarW,'orange' ,'Warm start only targets')\n",
    "---plot:line(num_iter,exploit_RegW,'red' ,'Warm start with target values ')\n",
    "plot:legend(true):title('Exploitability of different initializations, 200 iter.')\n",
    "plot:xaxis('Scaled number of iterations'):yaxis('Exploitability'):redraw()\n"
   ]
  },
  {
   "cell_type": "code",
   "execution_count": null,
   "metadata": {
    "collapsed": true
   },
   "outputs": [],
   "source": []
  },
  {
   "cell_type": "code",
   "execution_count": null,
   "metadata": {
    "collapsed": true
   },
   "outputs": [],
   "source": []
  },
  {
   "cell_type": "code",
   "execution_count": 22,
   "metadata": {},
   "outputs": [
    {
     "data": {
      "text/html": [
       "<script type=\"text/javascript\">\n",
       "$(function() {\n",
       "    if (typeof (window._bokeh_onload_callbacks) === \"undefined\"){\n",
       "  window._bokeh_onload_callbacks = [];\n",
       "    }\n",
       "    function load_lib(url, callback){\n",
       "  window._bokeh_onload_callbacks.push(callback);\n",
       "  if (window._bokeh_is_loading){\n",
       "      console.log(\"Bokeh: BokehJS is being loaded, scheduling callback at\", new Date());\n",
       "      return null;\n",
       "  }\n",
       "  console.log(\"Bokeh: BokehJS not loaded, scheduling load and callback at\", new Date());\n",
       "  window._bokeh_is_loading = true;\n",
       "  var s = document.createElement('script');\n",
       "  s.src = url;\n",
       "  s.async = true;\n",
       "  s.onreadystatechange = s.onload = function(){\n",
       "      Bokeh.embed.inject_css(\"https://cdn.pydata.org/bokeh-0.7.0.min.css\");\n",
       "      window._bokeh_onload_callbacks.forEach(function(callback){callback()});\n",
       "  };\n",
       "  s.onerror = function(){\n",
       "      console.warn(\"failed to load library \" + url);\n",
       "  };\n",
       "  document.getElementsByTagName(\"head\")[0].appendChild(s);\n",
       "    }\n",
       "\n",
       "    bokehjs_url = \"https://cdn.pydata.org/bokeh-0.7.0.min.js\"\n",
       "\n",
       "    var elt = document.getElementById(\"89c34d17-f222-4166-c13a-41ea4c9133c7\");\n",
       "    if(elt==null) {\n",
       "  console.log(\"Bokeh: ERROR: autoload.js configured with elementid '89c34d17-f222-4166-c13a-41ea4c9133c7'\"\n",
       "        + \"but no matching script tag was found. \")\n",
       "  return false;\n",
       "    }\n",
       "\n",
       "    if(typeof(Bokeh) !== \"undefined\") {\n",
       "  console.log(\"Bokeh: BokehJS loaded, going straight to plotting\");\n",
       "  var modelid = \"39f0221c-2a1f-4a07-ca06-5905b54a5dee\";\n",
       "  var modeltype = \"Plot\";\n",
       "  var all_models = [{\"id\":\"437e5d91-a66b-4a7e-ca39-74259a677060\",\"attributes\":{\"id\":\"437e5d91-a66b-4a7e-ca39-74259a677060\",\"data\":{\"y\":[156.45834350586,40.851928710938,19.918455123901,13.322124481201,10.090456008911,8.0616216659546,6.9668984413147,6.2650513648987,5.4744772911072,5.0738706588745,4.6549558639526,4.3480648994446,3.9349644184113,3.6483891010284,3.4783623218536],\"x\":[1,2,3,4,5,6,7,8,9,10,11,12,13,14,15]},\"discrete_ranges\":{},\"column_names\":[\"y\",\"x\"],\"doc\":null,\"selected\":[],\"cont_ranges\":{},\"tags\":[]},\"type\":\"ColumnDataSource\"},{\"id\":\"5a993f36-2091-46e4-c64f-38a6aee8a569\",\"attributes\":{\"id\":\"5a993f36-2091-46e4-c64f-38a6aee8a569\",\"line_color\":{\"value\":\"black\"},\"tags\":[],\"x\":{\"units\":\"data\",\"field\":\"x\"},\"fill_alpha\":{\"units\":\"data\",\"value\":0.2},\"fill_color\":{\"value\":\"black\"},\"line_alpha\":{\"units\":\"data\",\"value\":1},\"size\":{\"units\":\"screen\",\"value\":10},\"y\":{\"units\":\"data\",\"field\":\"y\"},\"doc\":null},\"type\":\"Line\"},{\"id\":\"9b39708f-4211-4a4b-ca06-d543c18bcdd6\",\"attributes\":{\"id\":\"9b39708f-4211-4a4b-ca06-d543c18bcdd6\",\"line_color\":{\"value\":\"black\"},\"tags\":[],\"x\":{\"units\":\"data\",\"field\":\"x\"},\"fill_alpha\":{\"units\":\"data\",\"value\":0.2},\"fill_color\":{\"value\":\"black\"},\"line_alpha\":{\"units\":\"data\",\"value\":1},\"size\":{\"units\":\"screen\",\"value\":10},\"y\":{\"units\":\"data\",\"field\":\"y\"},\"doc\":null},\"type\":\"Line\"},{\"id\":\"763b8ffe-65bf-4bfe-cbc7-8bc7cb8c8fc0\",\"attributes\":{\"selection_glyph\":null,\"name\":null,\"data_source\":{\"type\":\"ColumnDataSource\",\"id\":\"437e5d91-a66b-4a7e-ca39-74259a677060\"},\"tags\":[],\"server_data_source\":null,\"glyph\":{\"type\":\"Line\",\"id\":\"5a993f36-2091-46e4-c64f-38a6aee8a569\"},\"id\":\"763b8ffe-65bf-4bfe-cbc7-8bc7cb8c8fc0\",\"nonselection_glyph\":{\"type\":\"Line\",\"id\":\"9b39708f-4211-4a4b-ca06-d543c18bcdd6\"},\"doc\":null},\"type\":\"GlyphRenderer\"},{\"id\":\"2ed51402-2163-41f7-c175-7f0be2f3a295\",\"attributes\":{\"id\":\"2ed51402-2163-41f7-c175-7f0be2f3a295\",\"data\":{\"y\":[12.407117843628,49.116291046143,26.390697479248,18.82434463501,15.448791503906,12.358655929565,10.526251792908,9.0267696380615,7.9284114837646,7.2118062973022,6.4084386825562,5.8651051521301,5.586049079895,5.2434310913086,4.7845582962036],\"x\":[1,2,3,4,5,6,7,8,9,10,11,12,13,14,15]},\"discrete_ranges\":{},\"column_names\":[\"y\",\"x\"],\"doc\":null,\"selected\":[],\"cont_ranges\":{},\"tags\":[]},\"type\":\"ColumnDataSource\"},{\"id\":\"110405a5-e00a-4fb7-cf93-863d5b185ebd\",\"attributes\":{\"id\":\"110405a5-e00a-4fb7-cf93-863d5b185ebd\",\"line_color\":{\"value\":\"blue\"},\"tags\":[],\"x\":{\"units\":\"data\",\"field\":\"x\"},\"fill_alpha\":{\"units\":\"data\",\"value\":0.2},\"fill_color\":{\"value\":\"blue\"},\"line_alpha\":{\"units\":\"data\",\"value\":1},\"size\":{\"units\":\"screen\",\"value\":10},\"y\":{\"units\":\"data\",\"field\":\"y\"},\"doc\":null},\"type\":\"Line\"},{\"id\":\"cd56a433-3b5b-4966-c90f-831f7b5f4215\",\"attributes\":{\"id\":\"cd56a433-3b5b-4966-c90f-831f7b5f4215\",\"line_color\":{\"value\":\"blue\"},\"tags\":[],\"x\":{\"units\":\"data\",\"field\":\"x\"},\"fill_alpha\":{\"units\":\"data\",\"value\":0.2},\"fill_color\":{\"value\":\"blue\"},\"line_alpha\":{\"units\":\"data\",\"value\":1},\"size\":{\"units\":\"screen\",\"value\":10},\"y\":{\"units\":\"data\",\"field\":\"y\"},\"doc\":null},\"type\":\"Line\"},{\"id\":\"1809d752-c151-40a8-c043-edaa6235b3ff\",\"attributes\":{\"selection_glyph\":null,\"name\":null,\"data_source\":{\"type\":\"ColumnDataSource\",\"id\":\"2ed51402-2163-41f7-c175-7f0be2f3a295\"},\"tags\":[],\"server_data_source\":null,\"glyph\":{\"type\":\"Line\",\"id\":\"110405a5-e00a-4fb7-cf93-863d5b185ebd\"},\"id\":\"1809d752-c151-40a8-c043-edaa6235b3ff\",\"nonselection_glyph\":{\"type\":\"Line\",\"id\":\"cd56a433-3b5b-4966-c90f-831f7b5f4215\"},\"doc\":null},\"type\":\"GlyphRenderer\"},{\"id\":\"34803137-d573-4443-c48e-8fbb01ee6af6\",\"attributes\":{\"id\":\"34803137-d573-4443-c48e-8fbb01ee6af6\",\"data\":{\"y\":[3.3987185955048,3.7229008674622,1.2723956108093,1.1183362007141,0.78102397918701,0.9320502281189,0.54828643798828,0.70377349853516,0.69820976257324,0.4656343460083,0.68203544616699,0.47566032409668,0.55090618133545,0.57010507583618,0.42053747177124],\"x\":[1,2,3,4,5,6,7,8,9,10,11,12,13,14,15]},\"discrete_ranges\":{},\"column_names\":[\"y\",\"x\"],\"doc\":null,\"selected\":[],\"cont_ranges\":{},\"tags\":[]},\"type\":\"ColumnDataSource\"},{\"id\":\"6a538bb6-5f0a-4e04-ce94-7ac2047a4caa\",\"attributes\":{\"id\":\"6a538bb6-5f0a-4e04-ce94-7ac2047a4caa\",\"line_color\":{\"value\":\"brown\"},\"tags\":[],\"x\":{\"units\":\"data\",\"field\":\"x\"},\"fill_alpha\":{\"units\":\"data\",\"value\":0.2},\"fill_color\":{\"value\":\"brown\"},\"line_alpha\":{\"units\":\"data\",\"value\":1},\"size\":{\"units\":\"screen\",\"value\":10},\"y\":{\"units\":\"data\",\"field\":\"y\"},\"doc\":null},\"type\":\"Line\"},{\"id\":\"583409f0-6381-4687-c6a6-4b9ddca6015d\",\"attributes\":{\"id\":\"583409f0-6381-4687-c6a6-4b9ddca6015d\",\"line_color\":{\"value\":\"brown\"},\"tags\":[],\"x\":{\"units\":\"data\",\"field\":\"x\"},\"fill_alpha\":{\"units\":\"data\",\"value\":0.2},\"fill_color\":{\"value\":\"brown\"},\"line_alpha\":{\"units\":\"data\",\"value\":1},\"size\":{\"units\":\"screen\",\"value\":10},\"y\":{\"units\":\"data\",\"field\":\"y\"},\"doc\":null},\"type\":\"Line\"},{\"id\":\"4238404b-820b-4109-c106-7ecd2ed98054\",\"attributes\":{\"selection_glyph\":null,\"name\":null,\"data_source\":{\"type\":\"ColumnDataSource\",\"id\":\"34803137-d573-4443-c48e-8fbb01ee6af6\"},\"tags\":[],\"server_data_source\":null,\"glyph\":{\"type\":\"Line\",\"id\":\"6a538bb6-5f0a-4e04-ce94-7ac2047a4caa\"},\"id\":\"4238404b-820b-4109-c106-7ecd2ed98054\",\"nonselection_glyph\":{\"type\":\"Line\",\"id\":\"583409f0-6381-4687-c6a6-4b9ddca6015d\"},\"doc\":null},\"type\":\"GlyphRenderer\"},{\"id\":\"5f2464ff-814b-497c-c93c-9582ed2f007b\",\"attributes\":{\"id\":\"5f2464ff-814b-497c-c93c-9582ed2f007b\",\"data\":{\"y\":[3.3987185955048,32.247009277344,19.57445526123,20.188726425171,15.34552192688,12.439214706421,10.699605941772,9.0880317687988,8.0344667434692,7.1886215209961,6.3413915634155,5.9714179039001,5.5703821182251,5.0714044570923,4.7220001220703],\"x\":[1,2,3,4,5,6,7,8,9,10,11,12,13,14,15]},\"discrete_ranges\":{},\"column_names\":[\"y\",\"x\"],\"doc\":null,\"selected\":[],\"cont_ranges\":{},\"tags\":[]},\"type\":\"ColumnDataSource\"},{\"id\":\"3664546e-ed86-47d6-c7b0-a53cf2c78e99\",\"attributes\":{\"id\":\"3664546e-ed86-47d6-c7b0-a53cf2c78e99\",\"line_color\":{\"value\":\"green\"},\"tags\":[],\"x\":{\"units\":\"data\",\"field\":\"x\"},\"fill_alpha\":{\"units\":\"data\",\"value\":0.2},\"fill_color\":{\"value\":\"green\"},\"line_alpha\":{\"units\":\"data\",\"value\":1},\"size\":{\"units\":\"screen\",\"value\":10},\"y\":{\"units\":\"data\",\"field\":\"y\"},\"doc\":null},\"type\":\"Line\"},{\"id\":\"c4c69647-1158-404a-c06e-8fa020c8bd79\",\"attributes\":{\"id\":\"c4c69647-1158-404a-c06e-8fa020c8bd79\",\"line_color\":{\"value\":\"green\"},\"tags\":[],\"x\":{\"units\":\"data\",\"field\":\"x\"},\"fill_alpha\":{\"units\":\"data\",\"value\":0.2},\"fill_color\":{\"value\":\"green\"},\"line_alpha\":{\"units\":\"data\",\"value\":1},\"size\":{\"units\":\"screen\",\"value\":10},\"y\":{\"units\":\"data\",\"field\":\"y\"},\"doc\":null},\"type\":\"Line\"},{\"id\":\"73a5e9f5-2bb0-4f1e-cf32-382ef18f5db4\",\"attributes\":{\"selection_glyph\":null,\"name\":null,\"data_source\":{\"type\":\"ColumnDataSource\",\"id\":\"5f2464ff-814b-497c-c93c-9582ed2f007b\"},\"tags\":[],\"server_data_source\":null,\"glyph\":{\"type\":\"Line\",\"id\":\"3664546e-ed86-47d6-c7b0-a53cf2c78e99\"},\"id\":\"73a5e9f5-2bb0-4f1e-cf32-382ef18f5db4\",\"nonselection_glyph\":{\"type\":\"Line\",\"id\":\"c4c69647-1158-404a-c06e-8fa020c8bd79\"},\"doc\":null},\"type\":\"GlyphRenderer\"},{\"id\":\"8ce49e53-875e-466f-c6ed-b8e79aa1fe38\",\"attributes\":{\"doc\":null,\"tags\":[],\"sources\":[{\"source\":{\"id\":\"437e5d91-a66b-4a7e-ca39-74259a677060\",\"type\":\"ColumnDataSource\"},\"columns\":[\"x\"]},{\"source\":{\"id\":\"2ed51402-2163-41f7-c175-7f0be2f3a295\",\"type\":\"ColumnDataSource\"},\"columns\":[\"x\"]},{\"source\":{\"id\":\"34803137-d573-4443-c48e-8fbb01ee6af6\",\"type\":\"ColumnDataSource\"},\"columns\":[\"x\"]},{\"source\":{\"id\":\"5f2464ff-814b-497c-c93c-9582ed2f007b\",\"type\":\"ColumnDataSource\"},\"columns\":[\"x\"]}],\"id\":\"8ce49e53-875e-466f-c6ed-b8e79aa1fe38\"},\"type\":\"DataRange1d\"},{\"id\":\"34cbe572-2452-4fce-cfe3-f6a03190fc7b\",\"attributes\":{\"doc\":null,\"tags\":[],\"sources\":[{\"source\":{\"id\":\"437e5d91-a66b-4a7e-ca39-74259a677060\",\"type\":\"ColumnDataSource\"},\"columns\":[\"y\"]},{\"source\":{\"id\":\"2ed51402-2163-41f7-c175-7f0be2f3a295\",\"type\":\"ColumnDataSource\"},\"columns\":[\"y\"]},{\"source\":{\"id\":\"34803137-d573-4443-c48e-8fbb01ee6af6\",\"type\":\"ColumnDataSource\"},\"columns\":[\"y\"]},{\"source\":{\"id\":\"5f2464ff-814b-497c-c93c-9582ed2f007b\",\"type\":\"ColumnDataSource\"},\"columns\":[\"y\"]}],\"id\":\"34cbe572-2452-4fce-cfe3-f6a03190fc7b\"},\"type\":\"DataRange1d\"},{\"id\":\"8ba052d4-138c-49ed-c9e3-ee1603466028\",\"attributes\":{\"doc\":null,\"tags\":[],\"geometries\":[],\"id\":\"8ba052d4-138c-49ed-c9e3-ee1603466028\"},\"type\":\"ToolEvents\"},{\"id\":\"f049b0a6-4628-4862-c80f-91b6cc15ee2f\",\"attributes\":{\"doc\":null,\"tags\":[],\"id\":\"f049b0a6-4628-4862-c80f-91b6cc15ee2f\"},\"type\":\"BasicTickFormatter\"},{\"id\":\"2fa5af03-05b3-4e3c-ce16-e18e28dd345b\",\"attributes\":{\"doc\":null,\"tags\":[],\"num_minor_ticks\":5,\"id\":\"2fa5af03-05b3-4e3c-ce16-e18e28dd345b\"},\"type\":\"BasicTicker\"},{\"id\":\"c888895a-8caf-42d6-c250-59cc05da47d2\",\"attributes\":{\"tags\":[],\"ticker\":{\"type\":\"BasicTicker\",\"id\":\"2fa5af03-05b3-4e3c-ce16-e18e28dd345b\"},\"formatter\":{\"type\":\"BasicTickFormatter\",\"id\":\"f049b0a6-4628-4862-c80f-91b6cc15ee2f\"},\"axis_label\":\"Scaled number of iterations\",\"doc\":null,\"id\":\"c888895a-8caf-42d6-c250-59cc05da47d2\",\"plot\":{\"id\":\"39f0221c-2a1f-4a07-ca06-5905b54a5dee\",\"type\":\"Plot\",\"subtype\":\"Figure\"}},\"type\":\"LinearAxis\"},{\"id\":\"33b87870-bf8c-45c6-c502-9e772a84b0a8\",\"attributes\":{\"tags\":[],\"ticker\":{\"type\":\"BasicTicker\",\"id\":\"2fa5af03-05b3-4e3c-ce16-e18e28dd345b\"},\"dimension\":0,\"doc\":null,\"id\":\"33b87870-bf8c-45c6-c502-9e772a84b0a8\",\"plot\":{\"id\":\"39f0221c-2a1f-4a07-ca06-5905b54a5dee\",\"type\":\"Plot\",\"subtype\":\"Figure\"}},\"type\":\"Grid\"},{\"id\":\"54aa37ea-d5ed-4b0c-cbfd-eca7163509f7\",\"attributes\":{\"doc\":null,\"tags\":[],\"id\":\"54aa37ea-d5ed-4b0c-cbfd-eca7163509f7\"},\"type\":\"BasicTickFormatter\"},{\"id\":\"9f832322-25c1-480e-c872-59624b60031f\",\"attributes\":{\"doc\":null,\"tags\":[],\"num_minor_ticks\":5,\"id\":\"9f832322-25c1-480e-c872-59624b60031f\"},\"type\":\"BasicTicker\"},{\"id\":\"6325ca5c-3b59-48d9-c8a0-fdd6d3f31d50\",\"attributes\":{\"tags\":[],\"ticker\":{\"type\":\"BasicTicker\",\"id\":\"9f832322-25c1-480e-c872-59624b60031f\"},\"formatter\":{\"type\":\"BasicTickFormatter\",\"id\":\"54aa37ea-d5ed-4b0c-cbfd-eca7163509f7\"},\"axis_label\":\"Exploitability\",\"doc\":null,\"id\":\"6325ca5c-3b59-48d9-c8a0-fdd6d3f31d50\",\"plot\":{\"id\":\"39f0221c-2a1f-4a07-ca06-5905b54a5dee\",\"type\":\"Plot\",\"subtype\":\"Figure\"}},\"type\":\"LinearAxis\"},{\"id\":\"f7f583f8-9ed4-469a-c61f-371c98efa832\",\"attributes\":{\"tags\":[],\"ticker\":{\"type\":\"BasicTicker\",\"id\":\"9f832322-25c1-480e-c872-59624b60031f\"},\"dimension\":1,\"doc\":null,\"id\":\"f7f583f8-9ed4-469a-c61f-371c98efa832\",\"plot\":{\"id\":\"39f0221c-2a1f-4a07-ca06-5905b54a5dee\",\"type\":\"Plot\",\"subtype\":\"Figure\"}},\"type\":\"Grid\"},{\"id\":\"cb8c1d5b-b2eb-437f-c30d-b0a7711b0aea\",\"attributes\":{\"tags\":[],\"dimensions\":[\"width\",\"height\"],\"doc\":null,\"id\":\"cb8c1d5b-b2eb-437f-c30d-b0a7711b0aea\",\"plot\":{\"id\":\"39f0221c-2a1f-4a07-ca06-5905b54a5dee\",\"type\":\"Plot\",\"subtype\":\"Figure\"}},\"type\":\"PanTool\"},{\"id\":\"a7d5fb31-7390-4e50-cefe-64ac79a12ab2\",\"attributes\":{\"tags\":[],\"dimensions\":[\"width\",\"height\"],\"doc\":null,\"id\":\"a7d5fb31-7390-4e50-cefe-64ac79a12ab2\",\"plot\":{\"id\":\"39f0221c-2a1f-4a07-ca06-5905b54a5dee\",\"type\":\"Plot\",\"subtype\":\"Figure\"}},\"type\":\"WheelZoomTool\"},{\"id\":\"8121a1ca-6f61-43d8-c38d-84d94e2ee3bb\",\"attributes\":{\"doc\":null,\"id\":\"8121a1ca-6f61-43d8-c38d-84d94e2ee3bb\",\"tags\":[],\"plot\":{\"id\":\"39f0221c-2a1f-4a07-ca06-5905b54a5dee\",\"type\":\"Plot\",\"subtype\":\"Figure\"}},\"type\":\"BoxZoomTool\"},{\"id\":\"93a6362f-f842-435c-c30a-99b7844cb793\",\"attributes\":{\"doc\":null,\"id\":\"93a6362f-f842-435c-c30a-99b7844cb793\",\"tags\":[],\"plot\":{\"id\":\"39f0221c-2a1f-4a07-ca06-5905b54a5dee\",\"type\":\"Plot\",\"subtype\":\"Figure\"}},\"type\":\"PreviewSaveTool\"},{\"id\":\"80da371f-fdfb-4340-c39c-825d93f927cd\",\"attributes\":{\"doc\":null,\"id\":\"80da371f-fdfb-4340-c39c-825d93f927cd\",\"tags\":[],\"plot\":{\"id\":\"39f0221c-2a1f-4a07-ca06-5905b54a5dee\",\"type\":\"Plot\",\"subtype\":\"Figure\"}},\"type\":\"ResizeTool\"},{\"id\":\"e2f00fde-be4e-45de-c5ce-6f36e386f507\",\"attributes\":{\"doc\":null,\"id\":\"e2f00fde-be4e-45de-c5ce-6f36e386f507\",\"tags\":[],\"plot\":{\"id\":\"39f0221c-2a1f-4a07-ca06-5905b54a5dee\",\"type\":\"Plot\",\"subtype\":\"Figure\"}},\"type\":\"ResetTool\"},{\"id\":\"e2b0cbf3-2caa-42a0-c28a-ca0a545ccb39\",\"attributes\":{\"tags\":[],\"legends\":[[\"No Warm start = Random initialization\",[{\"type\":\"GlyphRenderer\",\"id\":\"763b8ffe-65bf-4bfe-cbc7-8bc7cb8c8fc0\"}]],[\"Neural Network warm start without regrets\",[{\"type\":\"GlyphRenderer\",\"id\":\"1809d752-c151-40a8-c043-edaa6235b3ff\"}]],[\"Oracle warm start with regrets\",[{\"type\":\"GlyphRenderer\",\"id\":\"4238404b-820b-4109-c106-7ecd2ed98054\"}]],[\"Oracle warm start without regrets\",[{\"type\":\"GlyphRenderer\",\"id\":\"73a5e9f5-2bb0-4f1e-cf32-382ef18f5db4\"}]]],\"doc\":null,\"id\":\"e2b0cbf3-2caa-42a0-c28a-ca0a545ccb39\",\"plot\":{\"id\":\"39f0221c-2a1f-4a07-ca06-5905b54a5dee\",\"type\":\"Plot\",\"subtype\":\"Figure\"}},\"type\":\"Legend\"},{\"id\":\"39f0221c-2a1f-4a07-ca06-5905b54a5dee\",\"attributes\":{\"id\":\"39f0221c-2a1f-4a07-ca06-5905b54a5dee\",\"right\":[],\"extra_x_ranges\":{},\"x_range\":{\"type\":\"DataRange1d\",\"id\":\"8ce49e53-875e-466f-c6ed-b8e79aa1fe38\"},\"tool_events\":{\"type\":\"ToolEvents\",\"id\":\"8ba052d4-138c-49ed-c9e3-ee1603466028\"},\"renderers\":[{\"type\":\"GlyphRenderer\",\"id\":\"763b8ffe-65bf-4bfe-cbc7-8bc7cb8c8fc0\"},{\"type\":\"GlyphRenderer\",\"id\":\"1809d752-c151-40a8-c043-edaa6235b3ff\"},{\"type\":\"GlyphRenderer\",\"id\":\"4238404b-820b-4109-c106-7ecd2ed98054\"},{\"type\":\"GlyphRenderer\",\"id\":\"73a5e9f5-2bb0-4f1e-cf32-382ef18f5db4\"},{\"type\":\"LinearAxis\",\"id\":\"c888895a-8caf-42d6-c250-59cc05da47d2\"},{\"type\":\"Grid\",\"id\":\"33b87870-bf8c-45c6-c502-9e772a84b0a8\"},{\"type\":\"LinearAxis\",\"id\":\"6325ca5c-3b59-48d9-c8a0-fdd6d3f31d50\"},{\"type\":\"Grid\",\"id\":\"f7f583f8-9ed4-469a-c61f-371c98efa832\"},{\"type\":\"Legend\",\"id\":\"e2b0cbf3-2caa-42a0-c28a-ca0a545ccb39\"}],\"y_range\":{\"type\":\"DataRange1d\",\"id\":\"34cbe572-2452-4fce-cfe3-f6a03190fc7b\"},\"doc\":null,\"tools\":[{\"type\":\"PanTool\",\"id\":\"cb8c1d5b-b2eb-437f-c30d-b0a7711b0aea\"},{\"type\":\"WheelZoomTool\",\"id\":\"a7d5fb31-7390-4e50-cefe-64ac79a12ab2\"},{\"type\":\"BoxZoomTool\",\"id\":\"8121a1ca-6f61-43d8-c38d-84d94e2ee3bb\"},{\"type\":\"PreviewSaveTool\",\"id\":\"93a6362f-f842-435c-c30a-99b7844cb793\"},{\"type\":\"ResizeTool\",\"id\":\"80da371f-fdfb-4340-c39c-825d93f927cd\"},{\"type\":\"ResetTool\",\"id\":\"e2f00fde-be4e-45de-c5ce-6f36e386f507\"}],\"below\":[{\"type\":\"LinearAxis\",\"id\":\"c888895a-8caf-42d6-c250-59cc05da47d2\"}],\"title\":\"Exploitability of different initializations, 200 iter.\",\"left\":[{\"type\":\"LinearAxis\",\"id\":\"6325ca5c-3b59-48d9-c8a0-fdd6d3f31d50\"}],\"extra_y_ranges\":{},\"above\":[],\"tags\":[]},\"type\":\"Plot\"}];\n",
       "  Bokeh.load_models(all_models);\n",
       "  var model = Bokeh.Collections(modeltype).get(modelid);\n",
       "  $(\"#89c34d17-f222-4166-c13a-41ea4c9133c7\").html(''); // clear any previous plot in window_id\n",
       "  var view = new model.default_view({model: model, el: \"#89c34d17-f222-4166-c13a-41ea4c9133c7\"});\n",
       "    } else {\n",
       "  load_lib(bokehjs_url, function() {\n",
       "      console.log(\"Bokeh: BokehJS plotting callback run at\", new Date())\n",
       "      var modelid = \"39f0221c-2a1f-4a07-ca06-5905b54a5dee\";\n",
       "      var modeltype = \"Plot\";\n",
       "      var all_models = [{\"id\":\"437e5d91-a66b-4a7e-ca39-74259a677060\",\"attributes\":{\"id\":\"437e5d91-a66b-4a7e-ca39-74259a677060\",\"data\":{\"y\":[156.45834350586,40.851928710938,19.918455123901,13.322124481201,10.090456008911,8.0616216659546,6.9668984413147,6.2650513648987,5.4744772911072,5.0738706588745,4.6549558639526,4.3480648994446,3.9349644184113,3.6483891010284,3.4783623218536],\"x\":[1,2,3,4,5,6,7,8,9,10,11,12,13,14,15]},\"discrete_ranges\":{},\"column_names\":[\"y\",\"x\"],\"doc\":null,\"selected\":[],\"cont_ranges\":{},\"tags\":[]},\"type\":\"ColumnDataSource\"},{\"id\":\"5a993f36-2091-46e4-c64f-38a6aee8a569\",\"attributes\":{\"id\":\"5a993f36-2091-46e4-c64f-38a6aee8a569\",\"line_color\":{\"value\":\"black\"},\"tags\":[],\"x\":{\"units\":\"data\",\"field\":\"x\"},\"fill_alpha\":{\"units\":\"data\",\"value\":0.2},\"fill_color\":{\"value\":\"black\"},\"line_alpha\":{\"units\":\"data\",\"value\":1},\"size\":{\"units\":\"screen\",\"value\":10},\"y\":{\"units\":\"data\",\"field\":\"y\"},\"doc\":null},\"type\":\"Line\"},{\"id\":\"9b39708f-4211-4a4b-ca06-d543c18bcdd6\",\"attributes\":{\"id\":\"9b39708f-4211-4a4b-ca06-d543c18bcdd6\",\"line_color\":{\"value\":\"black\"},\"tags\":[],\"x\":{\"units\":\"data\",\"field\":\"x\"},\"fill_alpha\":{\"units\":\"data\",\"value\":0.2},\"fill_color\":{\"value\":\"black\"},\"line_alpha\":{\"units\":\"data\",\"value\":1},\"size\":{\"units\":\"screen\",\"value\":10},\"y\":{\"units\":\"data\",\"field\":\"y\"},\"doc\":null},\"type\":\"Line\"},{\"id\":\"763b8ffe-65bf-4bfe-cbc7-8bc7cb8c8fc0\",\"attributes\":{\"selection_glyph\":null,\"name\":null,\"data_source\":{\"type\":\"ColumnDataSource\",\"id\":\"437e5d91-a66b-4a7e-ca39-74259a677060\"},\"tags\":[],\"server_data_source\":null,\"glyph\":{\"type\":\"Line\",\"id\":\"5a993f36-2091-46e4-c64f-38a6aee8a569\"},\"id\":\"763b8ffe-65bf-4bfe-cbc7-8bc7cb8c8fc0\",\"nonselection_glyph\":{\"type\":\"Line\",\"id\":\"9b39708f-4211-4a4b-ca06-d543c18bcdd6\"},\"doc\":null},\"type\":\"GlyphRenderer\"},{\"id\":\"2ed51402-2163-41f7-c175-7f0be2f3a295\",\"attributes\":{\"id\":\"2ed51402-2163-41f7-c175-7f0be2f3a295\",\"data\":{\"y\":[12.407117843628,49.116291046143,26.390697479248,18.82434463501,15.448791503906,12.358655929565,10.526251792908,9.0267696380615,7.9284114837646,7.2118062973022,6.4084386825562,5.8651051521301,5.586049079895,5.2434310913086,4.7845582962036],\"x\":[1,2,3,4,5,6,7,8,9,10,11,12,13,14,15]},\"discrete_ranges\":{},\"column_names\":[\"y\",\"x\"],\"doc\":null,\"selected\":[],\"cont_ranges\":{},\"tags\":[]},\"type\":\"ColumnDataSource\"},{\"id\":\"110405a5-e00a-4fb7-cf93-863d5b185ebd\",\"attributes\":{\"id\":\"110405a5-e00a-4fb7-cf93-863d5b185ebd\",\"line_color\":{\"value\":\"blue\"},\"tags\":[],\"x\":{\"units\":\"data\",\"field\":\"x\"},\"fill_alpha\":{\"units\":\"data\",\"value\":0.2},\"fill_color\":{\"value\":\"blue\"},\"line_alpha\":{\"units\":\"data\",\"value\":1},\"size\":{\"units\":\"screen\",\"value\":10},\"y\":{\"units\":\"data\",\"field\":\"y\"},\"doc\":null},\"type\":\"Line\"},{\"id\":\"cd56a433-3b5b-4966-c90f-831f7b5f4215\",\"attributes\":{\"id\":\"cd56a433-3b5b-4966-c90f-831f7b5f4215\",\"line_color\":{\"value\":\"blue\"},\"tags\":[],\"x\":{\"units\":\"data\",\"field\":\"x\"},\"fill_alpha\":{\"units\":\"data\",\"value\":0.2},\"fill_color\":{\"value\":\"blue\"},\"line_alpha\":{\"units\":\"data\",\"value\":1},\"size\":{\"units\":\"screen\",\"value\":10},\"y\":{\"units\":\"data\",\"field\":\"y\"},\"doc\":null},\"type\":\"Line\"},{\"id\":\"1809d752-c151-40a8-c043-edaa6235b3ff\",\"attributes\":{\"selection_glyph\":null,\"name\":null,\"data_source\":{\"type\":\"ColumnDataSource\",\"id\":\"2ed51402-2163-41f7-c175-7f0be2f3a295\"},\"tags\":[],\"server_data_source\":null,\"glyph\":{\"type\":\"Line\",\"id\":\"110405a5-e00a-4fb7-cf93-863d5b185ebd\"},\"id\":\"1809d752-c151-40a8-c043-edaa6235b3ff\",\"nonselection_glyph\":{\"type\":\"Line\",\"id\":\"cd56a433-3b5b-4966-c90f-831f7b5f4215\"},\"doc\":null},\"type\":\"GlyphRenderer\"},{\"id\":\"34803137-d573-4443-c48e-8fbb01ee6af6\",\"attributes\":{\"id\":\"34803137-d573-4443-c48e-8fbb01ee6af6\",\"data\":{\"y\":[3.3987185955048,3.7229008674622,1.2723956108093,1.1183362007141,0.78102397918701,0.9320502281189,0.54828643798828,0.70377349853516,0.69820976257324,0.4656343460083,0.68203544616699,0.47566032409668,0.55090618133545,0.57010507583618,0.42053747177124],\"x\":[1,2,3,4,5,6,7,8,9,10,11,12,13,14,15]},\"discrete_ranges\":{},\"column_names\":[\"y\",\"x\"],\"doc\":null,\"selected\":[],\"cont_ranges\":{},\"tags\":[]},\"type\":\"ColumnDataSource\"},{\"id\":\"6a538bb6-5f0a-4e04-ce94-7ac2047a4caa\",\"attributes\":{\"id\":\"6a538bb6-5f0a-4e04-ce94-7ac2047a4caa\",\"line_color\":{\"value\":\"brown\"},\"tags\":[],\"x\":{\"units\":\"data\",\"field\":\"x\"},\"fill_alpha\":{\"units\":\"data\",\"value\":0.2},\"fill_color\":{\"value\":\"brown\"},\"line_alpha\":{\"units\":\"data\",\"value\":1},\"size\":{\"units\":\"screen\",\"value\":10},\"y\":{\"units\":\"data\",\"field\":\"y\"},\"doc\":null},\"type\":\"Line\"},{\"id\":\"583409f0-6381-4687-c6a6-4b9ddca6015d\",\"attributes\":{\"id\":\"583409f0-6381-4687-c6a6-4b9ddca6015d\",\"line_color\":{\"value\":\"brown\"},\"tags\":[],\"x\":{\"units\":\"data\",\"field\":\"x\"},\"fill_alpha\":{\"units\":\"data\",\"value\":0.2},\"fill_color\":{\"value\":\"brown\"},\"line_alpha\":{\"units\":\"data\",\"value\":1},\"size\":{\"units\":\"screen\",\"value\":10},\"y\":{\"units\":\"data\",\"field\":\"y\"},\"doc\":null},\"type\":\"Line\"},{\"id\":\"4238404b-820b-4109-c106-7ecd2ed98054\",\"attributes\":{\"selection_glyph\":null,\"name\":null,\"data_source\":{\"type\":\"ColumnDataSource\",\"id\":\"34803137-d573-4443-c48e-8fbb01ee6af6\"},\"tags\":[],\"server_data_source\":null,\"glyph\":{\"type\":\"Line\",\"id\":\"6a538bb6-5f0a-4e04-ce94-7ac2047a4caa\"},\"id\":\"4238404b-820b-4109-c106-7ecd2ed98054\",\"nonselection_glyph\":{\"type\":\"Line\",\"id\":\"583409f0-6381-4687-c6a6-4b9ddca6015d\"},\"doc\":null},\"type\":\"GlyphRenderer\"},{\"id\":\"5f2464ff-814b-497c-c93c-9582ed2f007b\",\"attributes\":{\"id\":\"5f2464ff-814b-497c-c93c-9582ed2f007b\",\"data\":{\"y\":[3.3987185955048,32.247009277344,19.57445526123,20.188726425171,15.34552192688,12.439214706421,10.699605941772,9.0880317687988,8.0344667434692,7.1886215209961,6.3413915634155,5.9714179039001,5.5703821182251,5.0714044570923,4.7220001220703],\"x\":[1,2,3,4,5,6,7,8,9,10,11,12,13,14,15]},\"discrete_ranges\":{},\"column_names\":[\"y\",\"x\"],\"doc\":null,\"selected\":[],\"cont_ranges\":{},\"tags\":[]},\"type\":\"ColumnDataSource\"},{\"id\":\"3664546e-ed86-47d6-c7b0-a53cf2c78e99\",\"attributes\":{\"id\":\"3664546e-ed86-47d6-c7b0-a53cf2c78e99\",\"line_color\":{\"value\":\"green\"},\"tags\":[],\"x\":{\"units\":\"data\",\"field\":\"x\"},\"fill_alpha\":{\"units\":\"data\",\"value\":0.2},\"fill_color\":{\"value\":\"green\"},\"line_alpha\":{\"units\":\"data\",\"value\":1},\"size\":{\"units\":\"screen\",\"value\":10},\"y\":{\"units\":\"data\",\"field\":\"y\"},\"doc\":null},\"type\":\"Line\"},{\"id\":\"c4c69647-1158-404a-c06e-8fa020c8bd79\",\"attributes\":{\"id\":\"c4c69647-1158-404a-c06e-8fa020c8bd79\",\"line_color\":{\"value\":\"green\"},\"tags\":[],\"x\":{\"units\":\"data\",\"field\":\"x\"},\"fill_alpha\":{\"units\":\"data\",\"value\":0.2},\"fill_color\":{\"value\":\"green\"},\"line_alpha\":{\"units\":\"data\",\"value\":1},\"size\":{\"units\":\"screen\",\"value\":10},\"y\":{\"units\":\"data\",\"field\":\"y\"},\"doc\":null},\"type\":\"Line\"},{\"id\":\"73a5e9f5-2bb0-4f1e-cf32-382ef18f5db4\",\"attributes\":{\"selection_glyph\":null,\"name\":null,\"data_source\":{\"type\":\"ColumnDataSource\",\"id\":\"5f2464ff-814b-497c-c93c-9582ed2f007b\"},\"tags\":[],\"server_data_source\":null,\"glyph\":{\"type\":\"Line\",\"id\":\"3664546e-ed86-47d6-c7b0-a53cf2c78e99\"},\"id\":\"73a5e9f5-2bb0-4f1e-cf32-382ef18f5db4\",\"nonselection_glyph\":{\"type\":\"Line\",\"id\":\"c4c69647-1158-404a-c06e-8fa020c8bd79\"},\"doc\":null},\"type\":\"GlyphRenderer\"},{\"id\":\"8ce49e53-875e-466f-c6ed-b8e79aa1fe38\",\"attributes\":{\"doc\":null,\"tags\":[],\"sources\":[{\"source\":{\"id\":\"437e5d91-a66b-4a7e-ca39-74259a677060\",\"type\":\"ColumnDataSource\"},\"columns\":[\"x\"]},{\"source\":{\"id\":\"2ed51402-2163-41f7-c175-7f0be2f3a295\",\"type\":\"ColumnDataSource\"},\"columns\":[\"x\"]},{\"source\":{\"id\":\"34803137-d573-4443-c48e-8fbb01ee6af6\",\"type\":\"ColumnDataSource\"},\"columns\":[\"x\"]},{\"source\":{\"id\":\"5f2464ff-814b-497c-c93c-9582ed2f007b\",\"type\":\"ColumnDataSource\"},\"columns\":[\"x\"]}],\"id\":\"8ce49e53-875e-466f-c6ed-b8e79aa1fe38\"},\"type\":\"DataRange1d\"},{\"id\":\"34cbe572-2452-4fce-cfe3-f6a03190fc7b\",\"attributes\":{\"doc\":null,\"tags\":[],\"sources\":[{\"source\":{\"id\":\"437e5d91-a66b-4a7e-ca39-74259a677060\",\"type\":\"ColumnDataSource\"},\"columns\":[\"y\"]},{\"source\":{\"id\":\"2ed51402-2163-41f7-c175-7f0be2f3a295\",\"type\":\"ColumnDataSource\"},\"columns\":[\"y\"]},{\"source\":{\"id\":\"34803137-d573-4443-c48e-8fbb01ee6af6\",\"type\":\"ColumnDataSource\"},\"columns\":[\"y\"]},{\"source\":{\"id\":\"5f2464ff-814b-497c-c93c-9582ed2f007b\",\"type\":\"ColumnDataSource\"},\"columns\":[\"y\"]}],\"id\":\"34cbe572-2452-4fce-cfe3-f6a03190fc7b\"},\"type\":\"DataRange1d\"},{\"id\":\"8ba052d4-138c-49ed-c9e3-ee1603466028\",\"attributes\":{\"doc\":null,\"tags\":[],\"geometries\":[],\"id\":\"8ba052d4-138c-49ed-c9e3-ee1603466028\"},\"type\":\"ToolEvents\"},{\"id\":\"f049b0a6-4628-4862-c80f-91b6cc15ee2f\",\"attributes\":{\"doc\":null,\"tags\":[],\"id\":\"f049b0a6-4628-4862-c80f-91b6cc15ee2f\"},\"type\":\"BasicTickFormatter\"},{\"id\":\"2fa5af03-05b3-4e3c-ce16-e18e28dd345b\",\"attributes\":{\"doc\":null,\"tags\":[],\"num_minor_ticks\":5,\"id\":\"2fa5af03-05b3-4e3c-ce16-e18e28dd345b\"},\"type\":\"BasicTicker\"},{\"id\":\"c888895a-8caf-42d6-c250-59cc05da47d2\",\"attributes\":{\"tags\":[],\"ticker\":{\"type\":\"BasicTicker\",\"id\":\"2fa5af03-05b3-4e3c-ce16-e18e28dd345b\"},\"formatter\":{\"type\":\"BasicTickFormatter\",\"id\":\"f049b0a6-4628-4862-c80f-91b6cc15ee2f\"},\"axis_label\":\"Scaled number of iterations\",\"doc\":null,\"id\":\"c888895a-8caf-42d6-c250-59cc05da47d2\",\"plot\":{\"id\":\"39f0221c-2a1f-4a07-ca06-5905b54a5dee\",\"type\":\"Plot\",\"subtype\":\"Figure\"}},\"type\":\"LinearAxis\"},{\"id\":\"33b87870-bf8c-45c6-c502-9e772a84b0a8\",\"attributes\":{\"tags\":[],\"ticker\":{\"type\":\"BasicTicker\",\"id\":\"2fa5af03-05b3-4e3c-ce16-e18e28dd345b\"},\"dimension\":0,\"doc\":null,\"id\":\"33b87870-bf8c-45c6-c502-9e772a84b0a8\",\"plot\":{\"id\":\"39f0221c-2a1f-4a07-ca06-5905b54a5dee\",\"type\":\"Plot\",\"subtype\":\"Figure\"}},\"type\":\"Grid\"},{\"id\":\"54aa37ea-d5ed-4b0c-cbfd-eca7163509f7\",\"attributes\":{\"doc\":null,\"tags\":[],\"id\":\"54aa37ea-d5ed-4b0c-cbfd-eca7163509f7\"},\"type\":\"BasicTickFormatter\"},{\"id\":\"9f832322-25c1-480e-c872-59624b60031f\",\"attributes\":{\"doc\":null,\"tags\":[],\"num_minor_ticks\":5,\"id\":\"9f832322-25c1-480e-c872-59624b60031f\"},\"type\":\"BasicTicker\"},{\"id\":\"6325ca5c-3b59-48d9-c8a0-fdd6d3f31d50\",\"attributes\":{\"tags\":[],\"ticker\":{\"type\":\"BasicTicker\",\"id\":\"9f832322-25c1-480e-c872-59624b60031f\"},\"formatter\":{\"type\":\"BasicTickFormatter\",\"id\":\"54aa37ea-d5ed-4b0c-cbfd-eca7163509f7\"},\"axis_label\":\"Exploitability\",\"doc\":null,\"id\":\"6325ca5c-3b59-48d9-c8a0-fdd6d3f31d50\",\"plot\":{\"id\":\"39f0221c-2a1f-4a07-ca06-5905b54a5dee\",\"type\":\"Plot\",\"subtype\":\"Figure\"}},\"type\":\"LinearAxis\"},{\"id\":\"f7f583f8-9ed4-469a-c61f-371c98efa832\",\"attributes\":{\"tags\":[],\"ticker\":{\"type\":\"BasicTicker\",\"id\":\"9f832322-25c1-480e-c872-59624b60031f\"},\"dimension\":1,\"doc\":null,\"id\":\"f7f583f8-9ed4-469a-c61f-371c98efa832\",\"plot\":{\"id\":\"39f0221c-2a1f-4a07-ca06-5905b54a5dee\",\"type\":\"Plot\",\"subtype\":\"Figure\"}},\"type\":\"Grid\"},{\"id\":\"cb8c1d5b-b2eb-437f-c30d-b0a7711b0aea\",\"attributes\":{\"tags\":[],\"dimensions\":[\"width\",\"height\"],\"doc\":null,\"id\":\"cb8c1d5b-b2eb-437f-c30d-b0a7711b0aea\",\"plot\":{\"id\":\"39f0221c-2a1f-4a07-ca06-5905b54a5dee\",\"type\":\"Plot\",\"subtype\":\"Figure\"}},\"type\":\"PanTool\"},{\"id\":\"a7d5fb31-7390-4e50-cefe-64ac79a12ab2\",\"attributes\":{\"tags\":[],\"dimensions\":[\"width\",\"height\"],\"doc\":null,\"id\":\"a7d5fb31-7390-4e50-cefe-64ac79a12ab2\",\"plot\":{\"id\":\"39f0221c-2a1f-4a07-ca06-5905b54a5dee\",\"type\":\"Plot\",\"subtype\":\"Figure\"}},\"type\":\"WheelZoomTool\"},{\"id\":\"8121a1ca-6f61-43d8-c38d-84d94e2ee3bb\",\"attributes\":{\"doc\":null,\"id\":\"8121a1ca-6f61-43d8-c38d-84d94e2ee3bb\",\"tags\":[],\"plot\":{\"id\":\"39f0221c-2a1f-4a07-ca06-5905b54a5dee\",\"type\":\"Plot\",\"subtype\":\"Figure\"}},\"type\":\"BoxZoomTool\"},{\"id\":\"93a6362f-f842-435c-c30a-99b7844cb793\",\"attributes\":{\"doc\":null,\"id\":\"93a6362f-f842-435c-c30a-99b7844cb793\",\"tags\":[],\"plot\":{\"id\":\"39f0221c-2a1f-4a07-ca06-5905b54a5dee\",\"type\":\"Plot\",\"subtype\":\"Figure\"}},\"type\":\"PreviewSaveTool\"},{\"id\":\"80da371f-fdfb-4340-c39c-825d93f927cd\",\"attributes\":{\"doc\":null,\"id\":\"80da371f-fdfb-4340-c39c-825d93f927cd\",\"tags\":[],\"plot\":{\"id\":\"39f0221c-2a1f-4a07-ca06-5905b54a5dee\",\"type\":\"Plot\",\"subtype\":\"Figure\"}},\"type\":\"ResizeTool\"},{\"id\":\"e2f00fde-be4e-45de-c5ce-6f36e386f507\",\"attributes\":{\"doc\":null,\"id\":\"e2f00fde-be4e-45de-c5ce-6f36e386f507\",\"tags\":[],\"plot\":{\"id\":\"39f0221c-2a1f-4a07-ca06-5905b54a5dee\",\"type\":\"Plot\",\"subtype\":\"Figure\"}},\"type\":\"ResetTool\"},{\"id\":\"e2b0cbf3-2caa-42a0-c28a-ca0a545ccb39\",\"attributes\":{\"tags\":[],\"legends\":[[\"No Warm start = Random initialization\",[{\"type\":\"GlyphRenderer\",\"id\":\"763b8ffe-65bf-4bfe-cbc7-8bc7cb8c8fc0\"}]],[\"Neural Network warm start without regrets\",[{\"type\":\"GlyphRenderer\",\"id\":\"1809d752-c151-40a8-c043-edaa6235b3ff\"}]],[\"Oracle warm start with regrets\",[{\"type\":\"GlyphRenderer\",\"id\":\"4238404b-820b-4109-c106-7ecd2ed98054\"}]],[\"Oracle warm start without regrets\",[{\"type\":\"GlyphRenderer\",\"id\":\"73a5e9f5-2bb0-4f1e-cf32-382ef18f5db4\"}]]],\"doc\":null,\"id\":\"e2b0cbf3-2caa-42a0-c28a-ca0a545ccb39\",\"plot\":{\"id\":\"39f0221c-2a1f-4a07-ca06-5905b54a5dee\",\"type\":\"Plot\",\"subtype\":\"Figure\"}},\"type\":\"Legend\"},{\"id\":\"39f0221c-2a1f-4a07-ca06-5905b54a5dee\",\"attributes\":{\"id\":\"39f0221c-2a1f-4a07-ca06-5905b54a5dee\",\"right\":[],\"extra_x_ranges\":{},\"x_range\":{\"type\":\"DataRange1d\",\"id\":\"8ce49e53-875e-466f-c6ed-b8e79aa1fe38\"},\"tool_events\":{\"type\":\"ToolEvents\",\"id\":\"8ba052d4-138c-49ed-c9e3-ee1603466028\"},\"renderers\":[{\"type\":\"GlyphRenderer\",\"id\":\"763b8ffe-65bf-4bfe-cbc7-8bc7cb8c8fc0\"},{\"type\":\"GlyphRenderer\",\"id\":\"1809d752-c151-40a8-c043-edaa6235b3ff\"},{\"type\":\"GlyphRenderer\",\"id\":\"4238404b-820b-4109-c106-7ecd2ed98054\"},{\"type\":\"GlyphRenderer\",\"id\":\"73a5e9f5-2bb0-4f1e-cf32-382ef18f5db4\"},{\"type\":\"LinearAxis\",\"id\":\"c888895a-8caf-42d6-c250-59cc05da47d2\"},{\"type\":\"Grid\",\"id\":\"33b87870-bf8c-45c6-c502-9e772a84b0a8\"},{\"type\":\"LinearAxis\",\"id\":\"6325ca5c-3b59-48d9-c8a0-fdd6d3f31d50\"},{\"type\":\"Grid\",\"id\":\"f7f583f8-9ed4-469a-c61f-371c98efa832\"},{\"type\":\"Legend\",\"id\":\"e2b0cbf3-2caa-42a0-c28a-ca0a545ccb39\"}],\"y_range\":{\"type\":\"DataRange1d\",\"id\":\"34cbe572-2452-4fce-cfe3-f6a03190fc7b\"},\"doc\":null,\"tools\":[{\"type\":\"PanTool\",\"id\":\"cb8c1d5b-b2eb-437f-c30d-b0a7711b0aea\"},{\"type\":\"WheelZoomTool\",\"id\":\"a7d5fb31-7390-4e50-cefe-64ac79a12ab2\"},{\"type\":\"BoxZoomTool\",\"id\":\"8121a1ca-6f61-43d8-c38d-84d94e2ee3bb\"},{\"type\":\"PreviewSaveTool\",\"id\":\"93a6362f-f842-435c-c30a-99b7844cb793\"},{\"type\":\"ResizeTool\",\"id\":\"80da371f-fdfb-4340-c39c-825d93f927cd\"},{\"type\":\"ResetTool\",\"id\":\"e2f00fde-be4e-45de-c5ce-6f36e386f507\"}],\"below\":[{\"type\":\"LinearAxis\",\"id\":\"c888895a-8caf-42d6-c250-59cc05da47d2\"}],\"title\":\"Exploitability of different initializations, 200 iter.\",\"left\":[{\"type\":\"LinearAxis\",\"id\":\"6325ca5c-3b59-48d9-c8a0-fdd6d3f31d50\"}],\"extra_y_ranges\":{},\"above\":[],\"tags\":[]},\"type\":\"Plot\"}];\n",
       "      Bokeh.load_models(all_models);\n",
       "      var model = Bokeh.Collections(modeltype).get(modelid);\n",
       "      $(\"#89c34d17-f222-4166-c13a-41ea4c9133c7\").html(''); // clear any previous plot in window_id\n",
       "      var view = new model.default_view({model: model, el: \"#89c34d17-f222-4166-c13a-41ea4c9133c7\"});\n",
       "  });\n",
       "    }\n",
       "});\n",
       "</script>\n",
       "<div class=\"plotdiv\" id=\"89c34d17-f222-4166-c13a-41ea4c9133c7\"></div>\n"
      ]
     },
     "metadata": {},
     "output_type": "display_data"
    }
   ],
   "source": [
    "local num_iter = torch.range(1,exploit_NoW:size(1))\n",
    "local plot = Plot()\n",
    "\n",
    "---plot:line(num_iter,exploit_unif,'black' ,'No Warm start CFR = Uniform warm start')\n",
    "plot:line(num_iter,exploit_NoW,'black' ,'No Warm start = Random initialization')\n",
    "---plot:line(num_iter,exploit_NNW,'blue' ,'Neural Net warm start CFR')\n",
    "plot:line(num_iter,exploit_NN_NoReg,'blue' ,'Neural Network warm start without regrets')\n",
    "plot:line(num_iter,exploit_TarRegW,'brown' ,'Oracle warm start with regrets')\n",
    "plot:line(num_iter,exploit_TarW,'green' ,'Oracle warm start without regrets')\n",
    "---plot:line(num_iter,exploit_RegW,'red' ,'Warm start with target values')\n",
    "plot:legend(true):title('Exploitability of different initializations, 200 iter.')\n",
    "plot:xaxis('Scaled number of iterations'):yaxis('Exploitability'):redraw()\n"
   ]
  },
  {
   "cell_type": "code",
   "execution_count": null,
   "metadata": {
    "collapsed": true
   },
   "outputs": [],
   "source": []
  },
  {
   "cell_type": "code",
   "execution_count": null,
   "metadata": {
    "collapsed": true
   },
   "outputs": [],
   "source": []
  },
  {
   "cell_type": "code",
   "execution_count": null,
   "metadata": {
    "collapsed": true
   },
   "outputs": [],
   "source": []
  },
  {
   "cell_type": "code",
   "execution_count": null,
   "metadata": {
    "collapsed": true
   },
   "outputs": [],
   "source": []
  },
  {
   "cell_type": "markdown",
   "metadata": {},
   "source": [
    "### Graphical Comparaison"
   ]
  },
  {
   "cell_type": "markdown",
   "metadata": {},
   "source": [
    "### 3. Comparaision with 2000 CFR2"
   ]
  },
  {
   "cell_type": "code",
   "execution_count": null,
   "metadata": {
    "collapsed": true
   },
   "outputs": [],
   "source": [
    "--- Get Data from 2000 iterations\n",
    "tree802 = builder:build_tree(params)\n",
    "tree_data802 = TreeData(tree802)\n",
    "tree802_cfr = TreeCFR2()\n",
    "tree802_cfr:run_cfr(tree802, starting_ranges,number_of_iterations)\n",
    "tree_data802:get_training_set(tree802,1)"
   ]
  },
  {
   "cell_type": "code",
   "execution_count": null,
   "metadata": {
    "collapsed": true
   },
   "outputs": [],
   "source": [
    "-- Building the neural net model\n",
    "strategy_nn2 = StrategyNN()\n",
    "nn_model2 = strategy_nn2.model\n",
    "-- Building trainer:\n",
    "nn_trainer2 = NNTrainer(tree_data802,nn_model2)\n",
    "-- Options:\n",
    "opt = {}\n",
    "opt.learningRate = 0.001\n",
    "opt.momentum = 0.95\n",
    "opt.validate = false"
   ]
  },
  {
   "cell_type": "code",
   "execution_count": null,
   "metadata": {
    "collapsed": true
   },
   "outputs": [],
   "source": [
    "current_criterion2 = nn.SmoothL1Criterion()\n",
    "train_loss,test_loss = nn_trainer:train(nn_model2,current_criterion2,opt,10000)"
   ]
  },
  {
   "cell_type": "code",
   "execution_count": null,
   "metadata": {
    "collapsed": true
   },
   "outputs": [],
   "source": [
    "--- No Warm Start\n",
    "treeNoWarm2 = builder:build_tree(params)\n",
    "treeNoWarm_cfr2 = TreeCFR2()\n",
    "treeNoWarm_cfr2:run_cfr(treeNoWarm2, starting_ranges,number_of_iterations)"
   ]
  },
  {
   "cell_type": "code",
   "execution_count": null,
   "metadata": {
    "collapsed": true
   },
   "outputs": [],
   "source": [
    "--- NNWarm Starting\n",
    "treeNNWarm2 = builder:build_tree(params)\n",
    "dataNN2 = TreeData(treeNNWarm2)\n",
    "dataNN2:get_training_set(treeNNWarm2,1)\n",
    "dataNN2:generate_new_initial_strategies(treeNNWarm2,nn_trainer2)"
   ]
  },
  {
   "cell_type": "code",
   "execution_count": null,
   "metadata": {
    "collapsed": true
   },
   "outputs": [],
   "source": [
    "--- NNWarm CFR Solver\n",
    "treeNNWarm_cfr2 = TreeCFR2()\n",
    "treeNNWarm_cfr2:run_cfr(treeNNWarm2, starting_ranges,number_of_iterations)"
   ]
  },
  {
   "cell_type": "code",
   "execution_count": null,
   "metadata": {
    "collapsed": true
   },
   "outputs": [],
   "source": [
    "--- Target Warm Starting\n",
    "treeTargWarm2 = builder:build_tree(params)\n",
    "dataTarg2 = TreeData(treeTargWarm2)\n",
    "dataTarg2:get_training_set(treeTargWarm2,1)\n",
    "dataTarg2:warm_start_targets(treeTargWarm2,tree802)"
   ]
  },
  {
   "cell_type": "code",
   "execution_count": null,
   "metadata": {
    "collapsed": true
   },
   "outputs": [],
   "source": [
    "--- Building CFR Solver\n",
    "treeTargWarm_cfr2 = TreeCFR2()\n",
    "treeTargWarm_cfr2:run_cfr(treeTargWarm2, starting_ranges,number_of_iterations)"
   ]
  },
  {
   "cell_type": "code",
   "execution_count": null,
   "metadata": {
    "collapsed": true
   },
   "outputs": [],
   "source": [
    "exploit_unif2 = tree802_cfr.exploitability_vec\n",
    "exploit_NoW2 = treeNoWarm_cfr2.exploitability_vec\n",
    "exploit_NNW2 = treeNNWarm_cfr2.exploitability_vec\n",
    "exploit_TargW2 = treeTargWarm_cfr2.exploitability_vec"
   ]
  },
  {
   "cell_type": "code",
   "execution_count": null,
   "metadata": {
    "collapsed": true
   },
   "outputs": [],
   "source": [
    "local num_iter = torch.range(1,exploit_NoW:size(1))\n",
    "local plot = Plot()\n",
    "\n",
    "plot:line(num_iter,exploit_unif2,'black' ,'Original CFR in the paper')\n",
    "plot:line(num_iter,exploit_NoW2,'red' ,'No Warm start CFR')\n",
    "plot:line(num_iter,exploit_NNW2,'blue' ,'Neural Net warm start CFR')\n",
    "plot:line(num_iter,exploit_TargW2,'green' ,'Warm start with target values')\n",
    "plot:legend(true):title('Exploitability of different strategoes')\n",
    "plot:xaxis('Scaled number of iterations'):yaxis('Exploitability'):redraw()\n"
   ]
  },
  {
   "cell_type": "code",
   "execution_count": null,
   "metadata": {
    "collapsed": true
   },
   "outputs": [],
   "source": []
  }
 ],
 "metadata": {
  "kernelspec": {
   "display_name": "iTorch",
   "language": "lua",
   "name": "itorch"
  },
  "language_info": {
   "name": "lua",
   "version": "5.2"
  }
 },
 "nbformat": 4,
 "nbformat_minor": 2
}
