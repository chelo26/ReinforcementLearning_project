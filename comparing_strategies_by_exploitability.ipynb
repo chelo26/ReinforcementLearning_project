{
 "cells": [
  {
   "cell_type": "code",
   "execution_count": 1,
   "metadata": {
    "collapsed": true
   },
   "outputs": [],
   "source": [
    "--- Libraries:\n",
    "arguments = require 'Settings.arguments'\n",
    "constants = require 'Settings.constants'\n",
    "card_to_string = require 'Game.card_to_string_conversion'\n",
    "card_tools = require 'Game.card_tools'\n",
    "game_settings = require 'Settings.game_settings'\n",
    "Plot = require 'itorch.Plot'\n",
    "nninit = require 'nninit'\n",
    "require 'torch'\n",
    "require 'math'\n",
    "require 'Tree.tree_builder'\n",
    "require 'Tree.tree_data_generation'\n",
    "require 'Tree.tree_values'\n",
    "require 'Tree.tree_visualiser'\n",
    "require 'nn'\n",
    "require 'Tree.tree_cfr'\n",
    "require 'Tree.tree_cfr2'\n",
    "require 'nngraph'\n",
    "require 'optim'\n",
    "require 'image'\n",
    "require 'NN.strategy_net_builder'\n",
    "require 'NN.strategy_net_trainer'\n",
    "\n"
   ]
  },
  {
   "cell_type": "code",
   "execution_count": 2,
   "metadata": {
    "collapsed": true
   },
   "outputs": [],
   "source": [
    "--- FUNCTIONS\n",
    "--- Comparing with 2000\n",
    "function compare_cfrs(tree_cfr1,tree_cfr2000)\n",
    "    local difference = {}\n",
    "    local table1 = tree_cfr1.total_strategies\n",
    "    local table2 = tree_cfr2000.total_strategies\n",
    "    \n",
    "    for i = 1, #table1 do\n",
    "        difference[i] = torch.sqrt(torch.sum(torch.pow((table1[i] - table2[#table2]),2)))\n",
    "    end\n",
    "    return torch.FloatTensor(difference)\n",
    "end\n",
    "--- Comparing 2000 with itself\n",
    "function get_convergence(tree_cfr)\n",
    "    local difference = {}\n",
    "    local table_cfr = tree_cfr.total_strategies\n",
    "    local end_strategy = table_cfr[#table_cfr]\n",
    "    \n",
    "    for i = 1, #table_cfr do\n",
    "        difference[i] = torch.sqrt(torch.sum(torch.pow((table_cfr[i] - end_strategy),2)))\n",
    "    end\n",
    "    return torch.FloatTensor(difference)\n",
    "end"
   ]
  },
  {
   "cell_type": "code",
   "execution_count": 3,
   "metadata": {
    "collapsed": true
   },
   "outputs": [],
   "source": [
    "--- Create the tree\n",
    "builder = PokerTreeBuilder()\n",
    "--- Parameters for the tree\n",
    "params = {}\n",
    "params.root_node = {}\n",
    "params.root_node.board = card_to_string:string_to_board('')\n",
    "params.root_node.street = 1\n",
    "params.root_node.current_player = constants.players.P1\n",
    "params.root_node.bets = arguments.Tensor{200, 200}\n",
    "--- CFR Solver\n",
    "starting_ranges = arguments.Tensor(constants.players_count, game_settings.card_count)\n",
    "starting_ranges[1]:copy(card_tools:get_uniform_range(params.root_node.board))\n",
    "starting_ranges[2]:copy(card_tools:get_uniform_range(params.root_node.board))"
   ]
  },
  {
   "cell_type": "markdown",
   "metadata": {},
   "source": [
    "### 1. Exploitability for original CFR and modified CFR"
   ]
  },
  {
   "cell_type": "code",
   "execution_count": 4,
   "metadata": {
    "collapsed": true
   },
   "outputs": [],
   "source": [
    "--- Building CFR Solver\n",
    "tree2000 = builder:build_tree(params)\n",
    "tree2000_cfr = TreeCFR()\n",
    "tree2000_cfr:run_cfr(tree2000, starting_ranges,2000)"
   ]
  },
  {
   "cell_type": "code",
   "execution_count": 5,
   "metadata": {
    "collapsed": true
   },
   "outputs": [],
   "source": [
    "--- Building CFR Solver\n",
    "tree2001 = builder:build_tree(params)\n",
    "tree2001_cfr = TreeCFR2()\n",
    "tree2001_cfr:run_cfr(tree2001, starting_ranges,2000)"
   ]
  },
  {
   "cell_type": "code",
   "execution_count": 6,
   "metadata": {
    "collapsed": true
   },
   "outputs": [],
   "source": [
    "exploit_2000_original = tree2000_cfr.exploitability_vec\n",
    "exploit_2000_mod = tree2001_cfr.exploitability_vec"
   ]
  },
  {
   "cell_type": "code",
   "execution_count": 7,
   "metadata": {},
   "outputs": [
    {
     "data": {
      "text/html": [
       "<script type=\"text/javascript\">\n",
       "$(function() {\n",
       "    if (typeof (window._bokeh_onload_callbacks) === \"undefined\"){\n",
       "  window._bokeh_onload_callbacks = [];\n",
       "    }\n",
       "    function load_lib(url, callback){\n",
       "  window._bokeh_onload_callbacks.push(callback);\n",
       "  if (window._bokeh_is_loading){\n",
       "      console.log(\"Bokeh: BokehJS is being loaded, scheduling callback at\", new Date());\n",
       "      return null;\n",
       "  }\n",
       "  console.log(\"Bokeh: BokehJS not loaded, scheduling load and callback at\", new Date());\n",
       "  window._bokeh_is_loading = true;\n",
       "  var s = document.createElement('script');\n",
       "  s.src = url;\n",
       "  s.async = true;\n",
       "  s.onreadystatechange = s.onload = function(){\n",
       "      Bokeh.embed.inject_css(\"https://cdn.pydata.org/bokeh-0.7.0.min.css\");\n",
       "      window._bokeh_onload_callbacks.forEach(function(callback){callback()});\n",
       "  };\n",
       "  s.onerror = function(){\n",
       "      console.warn(\"failed to load library \" + url);\n",
       "  };\n",
       "  document.getElementsByTagName(\"head\")[0].appendChild(s);\n",
       "    }\n",
       "\n",
       "    bokehjs_url = \"https://cdn.pydata.org/bokeh-0.7.0.min.js\"\n",
       "\n",
       "    var elt = document.getElementById(\"fb04eb31-f785-47b8-c7d6-d5a8baa45988\");\n",
       "    if(elt==null) {\n",
       "  console.log(\"Bokeh: ERROR: autoload.js configured with elementid 'fb04eb31-f785-47b8-c7d6-d5a8baa45988'\"\n",
       "        + \"but no matching script tag was found. \")\n",
       "  return false;\n",
       "    }\n",
       "\n",
       "    if(typeof(Bokeh) !== \"undefined\") {\n",
       "  console.log(\"Bokeh: BokehJS loaded, going straight to plotting\");\n",
       "  var modelid = \"f741121f-8628-441a-c45e-6c53b693dfc2\";\n",
       "  var modeltype = \"Plot\";\n",
       "  var all_models = [{\"attributes\":{\"tags\":[],\"doc\":null,\"data\":{\"y\":[177.5463104248,3.599458694458,1.5688414573669,1.1115288734436,1.006422996521,0.96253299713135,0.84747505187988,0.74834632873535,0.72391176223755,0.67082929611206,0.62429761886597,0.56333541870117,0.52658843994141,0.49684524536133,0.47880792617798],\"x\":[1,2,3,4,5,6,7,8,9,10,11,12,13,14,15]},\"cont_ranges\":{},\"selected\":[],\"column_names\":[\"y\",\"x\"],\"discrete_ranges\":{},\"id\":\"d6b363ef-9b5c-4a74-ca3d-156b784a1a37\"},\"type\":\"ColumnDataSource\",\"id\":\"d6b363ef-9b5c-4a74-ca3d-156b784a1a37\"},{\"attributes\":{\"tags\":[],\"y\":{\"units\":\"data\",\"field\":\"y\"},\"x\":{\"units\":\"data\",\"field\":\"x\"},\"fill_color\":{\"value\":\"red\"},\"doc\":null,\"size\":{\"units\":\"screen\",\"value\":10},\"line_alpha\":{\"units\":\"data\",\"value\":1},\"line_color\":{\"value\":\"red\"},\"fill_alpha\":{\"units\":\"data\",\"value\":0.2},\"id\":\"cd87abdd-3eb6-4362-c375-3bcb7d0044aa\"},\"type\":\"Line\",\"id\":\"cd87abdd-3eb6-4362-c375-3bcb7d0044aa\"},{\"attributes\":{\"tags\":[],\"y\":{\"units\":\"data\",\"field\":\"y\"},\"x\":{\"units\":\"data\",\"field\":\"x\"},\"fill_color\":{\"value\":\"red\"},\"doc\":null,\"size\":{\"units\":\"screen\",\"value\":10},\"line_alpha\":{\"units\":\"data\",\"value\":1},\"line_color\":{\"value\":\"red\"},\"fill_alpha\":{\"units\":\"data\",\"value\":0.2},\"id\":\"6c2ff622-cbf2-4b9b-cb58-4a82d3d5b954\"},\"type\":\"Line\",\"id\":\"6c2ff622-cbf2-4b9b-cb58-4a82d3d5b954\"},{\"attributes\":{\"tags\":[],\"nonselection_glyph\":{\"type\":\"Line\",\"id\":\"6c2ff622-cbf2-4b9b-cb58-4a82d3d5b954\"},\"data_source\":{\"type\":\"ColumnDataSource\",\"id\":\"d6b363ef-9b5c-4a74-ca3d-156b784a1a37\"},\"server_data_source\":null,\"selection_glyph\":null,\"glyph\":{\"type\":\"Line\",\"id\":\"cd87abdd-3eb6-4362-c375-3bcb7d0044aa\"},\"doc\":null,\"name\":null,\"id\":\"cda10b0a-27c4-4f84-cf38-3416b3b47e43\"},\"type\":\"GlyphRenderer\",\"id\":\"cda10b0a-27c4-4f84-cf38-3416b3b47e43\"},{\"attributes\":{\"tags\":[],\"doc\":null,\"data\":{\"y\":[164.95370483398,2.2665209770203,0.77763175964355,0.56665134429932,0.4871563911438,0.43731069564819,0.40493679046631,0.37117528915405,0.33636665344238,0.31521224975586,0.30710458755493,0.28521394729614,0.27927780151367,0.26665210723877,0.26366710662842],\"x\":[1,2,3,4,5,6,7,8,9,10,11,12,13,14,15]},\"cont_ranges\":{},\"selected\":[],\"column_names\":[\"y\",\"x\"],\"discrete_ranges\":{},\"id\":\"b660333b-6f78-4cfa-cc08-8608c097d254\"},\"type\":\"ColumnDataSource\",\"id\":\"b660333b-6f78-4cfa-cc08-8608c097d254\"},{\"attributes\":{\"tags\":[],\"y\":{\"units\":\"data\",\"field\":\"y\"},\"x\":{\"units\":\"data\",\"field\":\"x\"},\"fill_color\":{\"value\":\"blue\"},\"doc\":null,\"size\":{\"units\":\"screen\",\"value\":10},\"line_alpha\":{\"units\":\"data\",\"value\":1},\"line_color\":{\"value\":\"blue\"},\"fill_alpha\":{\"units\":\"data\",\"value\":0.2},\"id\":\"3b896e67-fcf7-49de-c925-ffa377eeb0d0\"},\"type\":\"Line\",\"id\":\"3b896e67-fcf7-49de-c925-ffa377eeb0d0\"},{\"attributes\":{\"tags\":[],\"y\":{\"units\":\"data\",\"field\":\"y\"},\"x\":{\"units\":\"data\",\"field\":\"x\"},\"fill_color\":{\"value\":\"blue\"},\"doc\":null,\"size\":{\"units\":\"screen\",\"value\":10},\"line_alpha\":{\"units\":\"data\",\"value\":1},\"line_color\":{\"value\":\"blue\"},\"fill_alpha\":{\"units\":\"data\",\"value\":0.2},\"id\":\"8a9228f1-d227-4a57-ca18-84058fdb84ac\"},\"type\":\"Line\",\"id\":\"8a9228f1-d227-4a57-ca18-84058fdb84ac\"},{\"attributes\":{\"tags\":[],\"nonselection_glyph\":{\"type\":\"Line\",\"id\":\"8a9228f1-d227-4a57-ca18-84058fdb84ac\"},\"data_source\":{\"type\":\"ColumnDataSource\",\"id\":\"b660333b-6f78-4cfa-cc08-8608c097d254\"},\"server_data_source\":null,\"selection_glyph\":null,\"glyph\":{\"type\":\"Line\",\"id\":\"3b896e67-fcf7-49de-c925-ffa377eeb0d0\"},\"doc\":null,\"name\":null,\"id\":\"bcb20531-ab58-4024-c038-61962a06b0c3\"},\"type\":\"GlyphRenderer\",\"id\":\"bcb20531-ab58-4024-c038-61962a06b0c3\"},{\"attributes\":{\"tags\":[],\"doc\":null,\"sources\":[{\"columns\":[\"x\"],\"source\":{\"type\":\"ColumnDataSource\",\"id\":\"d6b363ef-9b5c-4a74-ca3d-156b784a1a37\"}},{\"columns\":[\"x\"],\"source\":{\"type\":\"ColumnDataSource\",\"id\":\"b660333b-6f78-4cfa-cc08-8608c097d254\"}}],\"id\":\"b61396ec-ee6e-41d4-c19a-b9847d29f993\"},\"type\":\"DataRange1d\",\"id\":\"b61396ec-ee6e-41d4-c19a-b9847d29f993\"},{\"attributes\":{\"tags\":[],\"doc\":null,\"sources\":[{\"columns\":[\"y\"],\"source\":{\"type\":\"ColumnDataSource\",\"id\":\"d6b363ef-9b5c-4a74-ca3d-156b784a1a37\"}},{\"columns\":[\"y\"],\"source\":{\"type\":\"ColumnDataSource\",\"id\":\"b660333b-6f78-4cfa-cc08-8608c097d254\"}}],\"id\":\"4588b2aa-188c-4caa-cc92-96702680bb08\"},\"type\":\"DataRange1d\",\"id\":\"4588b2aa-188c-4caa-cc92-96702680bb08\"},{\"attributes\":{\"tags\":[],\"doc\":null,\"geometries\":[],\"id\":\"0d855208-3e1b-428d-c29c-efc5837ca6b2\"},\"type\":\"ToolEvents\",\"id\":\"0d855208-3e1b-428d-c29c-efc5837ca6b2\"},{\"attributes\":{\"tags\":[],\"doc\":null,\"id\":\"687c7ab5-8846-4b47-cb87-f03c6998c8eb\"},\"type\":\"BasicTickFormatter\",\"id\":\"687c7ab5-8846-4b47-cb87-f03c6998c8eb\"},{\"attributes\":{\"tags\":[],\"doc\":null,\"num_minor_ticks\":5,\"id\":\"aed2873a-24e6-40a6-c0ef-46db47f3811f\"},\"type\":\"BasicTicker\",\"id\":\"aed2873a-24e6-40a6-c0ef-46db47f3811f\"},{\"attributes\":{\"tags\":[],\"doc\":null,\"ticker\":{\"type\":\"BasicTicker\",\"id\":\"aed2873a-24e6-40a6-c0ef-46db47f3811f\"},\"formatter\":{\"type\":\"BasicTickFormatter\",\"id\":\"687c7ab5-8846-4b47-cb87-f03c6998c8eb\"},\"plot\":{\"id\":\"f741121f-8628-441a-c45e-6c53b693dfc2\",\"type\":\"Plot\",\"subtype\":\"Figure\"},\"axis_label\":\"Scaled number of iterations\",\"id\":\"6ab36f1b-c419-4058-c0c1-56540e927c33\"},\"type\":\"LinearAxis\",\"id\":\"6ab36f1b-c419-4058-c0c1-56540e927c33\"},{\"attributes\":{\"tags\":[],\"doc\":null,\"ticker\":{\"type\":\"BasicTicker\",\"id\":\"aed2873a-24e6-40a6-c0ef-46db47f3811f\"},\"plot\":{\"id\":\"f741121f-8628-441a-c45e-6c53b693dfc2\",\"type\":\"Plot\",\"subtype\":\"Figure\"},\"dimension\":0,\"id\":\"1df9dd7d-5ece-4928-c926-7761e26c69a6\"},\"type\":\"Grid\",\"id\":\"1df9dd7d-5ece-4928-c926-7761e26c69a6\"},{\"attributes\":{\"tags\":[],\"doc\":null,\"id\":\"4e0fd0e5-ebe6-452b-c508-cd85dc46de96\"},\"type\":\"BasicTickFormatter\",\"id\":\"4e0fd0e5-ebe6-452b-c508-cd85dc46de96\"},{\"attributes\":{\"tags\":[],\"doc\":null,\"num_minor_ticks\":5,\"id\":\"63cf86f0-6b94-4fe1-cf30-beb8e112b5e1\"},\"type\":\"BasicTicker\",\"id\":\"63cf86f0-6b94-4fe1-cf30-beb8e112b5e1\"},{\"attributes\":{\"tags\":[],\"doc\":null,\"ticker\":{\"type\":\"BasicTicker\",\"id\":\"63cf86f0-6b94-4fe1-cf30-beb8e112b5e1\"},\"formatter\":{\"type\":\"BasicTickFormatter\",\"id\":\"4e0fd0e5-ebe6-452b-c508-cd85dc46de96\"},\"plot\":{\"id\":\"f741121f-8628-441a-c45e-6c53b693dfc2\",\"type\":\"Plot\",\"subtype\":\"Figure\"},\"axis_label\":\"Exploitability\",\"id\":\"5c17296a-18ac-40d0-c0c4-a2e5e07c1c60\"},\"type\":\"LinearAxis\",\"id\":\"5c17296a-18ac-40d0-c0c4-a2e5e07c1c60\"},{\"attributes\":{\"tags\":[],\"doc\":null,\"ticker\":{\"type\":\"BasicTicker\",\"id\":\"63cf86f0-6b94-4fe1-cf30-beb8e112b5e1\"},\"plot\":{\"id\":\"f741121f-8628-441a-c45e-6c53b693dfc2\",\"type\":\"Plot\",\"subtype\":\"Figure\"},\"dimension\":1,\"id\":\"61b01f13-247a-453c-c5f9-a0aee85cdbcb\"},\"type\":\"Grid\",\"id\":\"61b01f13-247a-453c-c5f9-a0aee85cdbcb\"},{\"attributes\":{\"tags\":[],\"doc\":null,\"plot\":{\"id\":\"f741121f-8628-441a-c45e-6c53b693dfc2\",\"type\":\"Plot\",\"subtype\":\"Figure\"},\"dimensions\":[\"width\",\"height\"],\"id\":\"6d127f7b-737f-4dee-cd25-1c14f8683df6\"},\"type\":\"PanTool\",\"id\":\"6d127f7b-737f-4dee-cd25-1c14f8683df6\"},{\"attributes\":{\"tags\":[],\"doc\":null,\"plot\":{\"id\":\"f741121f-8628-441a-c45e-6c53b693dfc2\",\"type\":\"Plot\",\"subtype\":\"Figure\"},\"dimensions\":[\"width\",\"height\"],\"id\":\"d5322132-5693-4095-c05e-61996d26abfe\"},\"type\":\"WheelZoomTool\",\"id\":\"d5322132-5693-4095-c05e-61996d26abfe\"},{\"attributes\":{\"tags\":[],\"doc\":null,\"plot\":{\"id\":\"f741121f-8628-441a-c45e-6c53b693dfc2\",\"type\":\"Plot\",\"subtype\":\"Figure\"},\"id\":\"b267d9d1-cb5f-427a-c2a5-a5cc605b6355\"},\"type\":\"BoxZoomTool\",\"id\":\"b267d9d1-cb5f-427a-c2a5-a5cc605b6355\"},{\"attributes\":{\"tags\":[],\"doc\":null,\"plot\":{\"id\":\"f741121f-8628-441a-c45e-6c53b693dfc2\",\"type\":\"Plot\",\"subtype\":\"Figure\"},\"id\":\"b1254aaa-da50-449a-c4eb-618458434ad5\"},\"type\":\"PreviewSaveTool\",\"id\":\"b1254aaa-da50-449a-c4eb-618458434ad5\"},{\"attributes\":{\"tags\":[],\"doc\":null,\"plot\":{\"id\":\"f741121f-8628-441a-c45e-6c53b693dfc2\",\"type\":\"Plot\",\"subtype\":\"Figure\"},\"id\":\"1fa20c75-6027-41aa-c1cb-8f496a5283b8\"},\"type\":\"ResizeTool\",\"id\":\"1fa20c75-6027-41aa-c1cb-8f496a5283b8\"},{\"attributes\":{\"tags\":[],\"doc\":null,\"plot\":{\"id\":\"f741121f-8628-441a-c45e-6c53b693dfc2\",\"type\":\"Plot\",\"subtype\":\"Figure\"},\"id\":\"d73b775f-0c12-4390-c36c-d64b2e5bef96\"},\"type\":\"ResetTool\",\"id\":\"d73b775f-0c12-4390-c36c-d64b2e5bef96\"},{\"attributes\":{\"tags\":[],\"doc\":null,\"legends\":[[\"Original CFR\",[{\"type\":\"GlyphRenderer\",\"id\":\"cda10b0a-27c4-4f84-cf38-3416b3b47e43\"}]],[\"Modified CFR\",[{\"type\":\"GlyphRenderer\",\"id\":\"bcb20531-ab58-4024-c038-61962a06b0c3\"}]]],\"plot\":{\"id\":\"f741121f-8628-441a-c45e-6c53b693dfc2\",\"type\":\"Plot\",\"subtype\":\"Figure\"},\"id\":\"5e76a0f1-670c-4198-c1dd-211aaad594a8\"},\"type\":\"Legend\",\"id\":\"5e76a0f1-670c-4198-c1dd-211aaad594a8\"},{\"attributes\":{\"tags\":[],\"extra_y_ranges\":{},\"left\":[{\"type\":\"LinearAxis\",\"id\":\"5c17296a-18ac-40d0-c0c4-a2e5e07c1c60\"}],\"tool_events\":{\"type\":\"ToolEvents\",\"id\":\"0d855208-3e1b-428d-c29c-efc5837ca6b2\"},\"tools\":[{\"type\":\"PanTool\",\"id\":\"6d127f7b-737f-4dee-cd25-1c14f8683df6\"},{\"type\":\"WheelZoomTool\",\"id\":\"d5322132-5693-4095-c05e-61996d26abfe\"},{\"type\":\"BoxZoomTool\",\"id\":\"b267d9d1-cb5f-427a-c2a5-a5cc605b6355\"},{\"type\":\"PreviewSaveTool\",\"id\":\"b1254aaa-da50-449a-c4eb-618458434ad5\"},{\"type\":\"ResizeTool\",\"id\":\"1fa20c75-6027-41aa-c1cb-8f496a5283b8\"},{\"type\":\"ResetTool\",\"id\":\"d73b775f-0c12-4390-c36c-d64b2e5bef96\"}],\"title\":\"Exploitability of the CFRs - 2000 iterations\",\"renderers\":[{\"type\":\"GlyphRenderer\",\"id\":\"cda10b0a-27c4-4f84-cf38-3416b3b47e43\"},{\"type\":\"GlyphRenderer\",\"id\":\"bcb20531-ab58-4024-c038-61962a06b0c3\"},{\"type\":\"LinearAxis\",\"id\":\"6ab36f1b-c419-4058-c0c1-56540e927c33\"},{\"type\":\"Grid\",\"id\":\"1df9dd7d-5ece-4928-c926-7761e26c69a6\"},{\"type\":\"LinearAxis\",\"id\":\"5c17296a-18ac-40d0-c0c4-a2e5e07c1c60\"},{\"type\":\"Grid\",\"id\":\"61b01f13-247a-453c-c5f9-a0aee85cdbcb\"},{\"type\":\"Legend\",\"id\":\"5e76a0f1-670c-4198-c1dd-211aaad594a8\"}],\"below\":[{\"type\":\"LinearAxis\",\"id\":\"6ab36f1b-c419-4058-c0c1-56540e927c33\"}],\"doc\":null,\"above\":[],\"right\":[],\"y_range\":{\"type\":\"DataRange1d\",\"id\":\"4588b2aa-188c-4caa-cc92-96702680bb08\"},\"x_range\":{\"type\":\"DataRange1d\",\"id\":\"b61396ec-ee6e-41d4-c19a-b9847d29f993\"},\"extra_x_ranges\":{},\"id\":\"f741121f-8628-441a-c45e-6c53b693dfc2\"},\"type\":\"Plot\",\"id\":\"f741121f-8628-441a-c45e-6c53b693dfc2\"}];\n",
       "  Bokeh.load_models(all_models);\n",
       "  var model = Bokeh.Collections(modeltype).get(modelid);\n",
       "  $(\"#fb04eb31-f785-47b8-c7d6-d5a8baa45988\").html(''); // clear any previous plot in window_id\n",
       "  var view = new model.default_view({model: model, el: \"#fb04eb31-f785-47b8-c7d6-d5a8baa45988\"});\n",
       "    } else {\n",
       "  load_lib(bokehjs_url, function() {\n",
       "      console.log(\"Bokeh: BokehJS plotting callback run at\", new Date())\n",
       "      var modelid = \"f741121f-8628-441a-c45e-6c53b693dfc2\";\n",
       "      var modeltype = \"Plot\";\n",
       "      var all_models = [{\"attributes\":{\"tags\":[],\"doc\":null,\"data\":{\"y\":[177.5463104248,3.599458694458,1.5688414573669,1.1115288734436,1.006422996521,0.96253299713135,0.84747505187988,0.74834632873535,0.72391176223755,0.67082929611206,0.62429761886597,0.56333541870117,0.52658843994141,0.49684524536133,0.47880792617798],\"x\":[1,2,3,4,5,6,7,8,9,10,11,12,13,14,15]},\"cont_ranges\":{},\"selected\":[],\"column_names\":[\"y\",\"x\"],\"discrete_ranges\":{},\"id\":\"d6b363ef-9b5c-4a74-ca3d-156b784a1a37\"},\"type\":\"ColumnDataSource\",\"id\":\"d6b363ef-9b5c-4a74-ca3d-156b784a1a37\"},{\"attributes\":{\"tags\":[],\"y\":{\"units\":\"data\",\"field\":\"y\"},\"x\":{\"units\":\"data\",\"field\":\"x\"},\"fill_color\":{\"value\":\"red\"},\"doc\":null,\"size\":{\"units\":\"screen\",\"value\":10},\"line_alpha\":{\"units\":\"data\",\"value\":1},\"line_color\":{\"value\":\"red\"},\"fill_alpha\":{\"units\":\"data\",\"value\":0.2},\"id\":\"cd87abdd-3eb6-4362-c375-3bcb7d0044aa\"},\"type\":\"Line\",\"id\":\"cd87abdd-3eb6-4362-c375-3bcb7d0044aa\"},{\"attributes\":{\"tags\":[],\"y\":{\"units\":\"data\",\"field\":\"y\"},\"x\":{\"units\":\"data\",\"field\":\"x\"},\"fill_color\":{\"value\":\"red\"},\"doc\":null,\"size\":{\"units\":\"screen\",\"value\":10},\"line_alpha\":{\"units\":\"data\",\"value\":1},\"line_color\":{\"value\":\"red\"},\"fill_alpha\":{\"units\":\"data\",\"value\":0.2},\"id\":\"6c2ff622-cbf2-4b9b-cb58-4a82d3d5b954\"},\"type\":\"Line\",\"id\":\"6c2ff622-cbf2-4b9b-cb58-4a82d3d5b954\"},{\"attributes\":{\"tags\":[],\"nonselection_glyph\":{\"type\":\"Line\",\"id\":\"6c2ff622-cbf2-4b9b-cb58-4a82d3d5b954\"},\"data_source\":{\"type\":\"ColumnDataSource\",\"id\":\"d6b363ef-9b5c-4a74-ca3d-156b784a1a37\"},\"server_data_source\":null,\"selection_glyph\":null,\"glyph\":{\"type\":\"Line\",\"id\":\"cd87abdd-3eb6-4362-c375-3bcb7d0044aa\"},\"doc\":null,\"name\":null,\"id\":\"cda10b0a-27c4-4f84-cf38-3416b3b47e43\"},\"type\":\"GlyphRenderer\",\"id\":\"cda10b0a-27c4-4f84-cf38-3416b3b47e43\"},{\"attributes\":{\"tags\":[],\"doc\":null,\"data\":{\"y\":[164.95370483398,2.2665209770203,0.77763175964355,0.56665134429932,0.4871563911438,0.43731069564819,0.40493679046631,0.37117528915405,0.33636665344238,0.31521224975586,0.30710458755493,0.28521394729614,0.27927780151367,0.26665210723877,0.26366710662842],\"x\":[1,2,3,4,5,6,7,8,9,10,11,12,13,14,15]},\"cont_ranges\":{},\"selected\":[],\"column_names\":[\"y\",\"x\"],\"discrete_ranges\":{},\"id\":\"b660333b-6f78-4cfa-cc08-8608c097d254\"},\"type\":\"ColumnDataSource\",\"id\":\"b660333b-6f78-4cfa-cc08-8608c097d254\"},{\"attributes\":{\"tags\":[],\"y\":{\"units\":\"data\",\"field\":\"y\"},\"x\":{\"units\":\"data\",\"field\":\"x\"},\"fill_color\":{\"value\":\"blue\"},\"doc\":null,\"size\":{\"units\":\"screen\",\"value\":10},\"line_alpha\":{\"units\":\"data\",\"value\":1},\"line_color\":{\"value\":\"blue\"},\"fill_alpha\":{\"units\":\"data\",\"value\":0.2},\"id\":\"3b896e67-fcf7-49de-c925-ffa377eeb0d0\"},\"type\":\"Line\",\"id\":\"3b896e67-fcf7-49de-c925-ffa377eeb0d0\"},{\"attributes\":{\"tags\":[],\"y\":{\"units\":\"data\",\"field\":\"y\"},\"x\":{\"units\":\"data\",\"field\":\"x\"},\"fill_color\":{\"value\":\"blue\"},\"doc\":null,\"size\":{\"units\":\"screen\",\"value\":10},\"line_alpha\":{\"units\":\"data\",\"value\":1},\"line_color\":{\"value\":\"blue\"},\"fill_alpha\":{\"units\":\"data\",\"value\":0.2},\"id\":\"8a9228f1-d227-4a57-ca18-84058fdb84ac\"},\"type\":\"Line\",\"id\":\"8a9228f1-d227-4a57-ca18-84058fdb84ac\"},{\"attributes\":{\"tags\":[],\"nonselection_glyph\":{\"type\":\"Line\",\"id\":\"8a9228f1-d227-4a57-ca18-84058fdb84ac\"},\"data_source\":{\"type\":\"ColumnDataSource\",\"id\":\"b660333b-6f78-4cfa-cc08-8608c097d254\"},\"server_data_source\":null,\"selection_glyph\":null,\"glyph\":{\"type\":\"Line\",\"id\":\"3b896e67-fcf7-49de-c925-ffa377eeb0d0\"},\"doc\":null,\"name\":null,\"id\":\"bcb20531-ab58-4024-c038-61962a06b0c3\"},\"type\":\"GlyphRenderer\",\"id\":\"bcb20531-ab58-4024-c038-61962a06b0c3\"},{\"attributes\":{\"tags\":[],\"doc\":null,\"sources\":[{\"columns\":[\"x\"],\"source\":{\"type\":\"ColumnDataSource\",\"id\":\"d6b363ef-9b5c-4a74-ca3d-156b784a1a37\"}},{\"columns\":[\"x\"],\"source\":{\"type\":\"ColumnDataSource\",\"id\":\"b660333b-6f78-4cfa-cc08-8608c097d254\"}}],\"id\":\"b61396ec-ee6e-41d4-c19a-b9847d29f993\"},\"type\":\"DataRange1d\",\"id\":\"b61396ec-ee6e-41d4-c19a-b9847d29f993\"},{\"attributes\":{\"tags\":[],\"doc\":null,\"sources\":[{\"columns\":[\"y\"],\"source\":{\"type\":\"ColumnDataSource\",\"id\":\"d6b363ef-9b5c-4a74-ca3d-156b784a1a37\"}},{\"columns\":[\"y\"],\"source\":{\"type\":\"ColumnDataSource\",\"id\":\"b660333b-6f78-4cfa-cc08-8608c097d254\"}}],\"id\":\"4588b2aa-188c-4caa-cc92-96702680bb08\"},\"type\":\"DataRange1d\",\"id\":\"4588b2aa-188c-4caa-cc92-96702680bb08\"},{\"attributes\":{\"tags\":[],\"doc\":null,\"geometries\":[],\"id\":\"0d855208-3e1b-428d-c29c-efc5837ca6b2\"},\"type\":\"ToolEvents\",\"id\":\"0d855208-3e1b-428d-c29c-efc5837ca6b2\"},{\"attributes\":{\"tags\":[],\"doc\":null,\"id\":\"687c7ab5-8846-4b47-cb87-f03c6998c8eb\"},\"type\":\"BasicTickFormatter\",\"id\":\"687c7ab5-8846-4b47-cb87-f03c6998c8eb\"},{\"attributes\":{\"tags\":[],\"doc\":null,\"num_minor_ticks\":5,\"id\":\"aed2873a-24e6-40a6-c0ef-46db47f3811f\"},\"type\":\"BasicTicker\",\"id\":\"aed2873a-24e6-40a6-c0ef-46db47f3811f\"},{\"attributes\":{\"tags\":[],\"doc\":null,\"ticker\":{\"type\":\"BasicTicker\",\"id\":\"aed2873a-24e6-40a6-c0ef-46db47f3811f\"},\"formatter\":{\"type\":\"BasicTickFormatter\",\"id\":\"687c7ab5-8846-4b47-cb87-f03c6998c8eb\"},\"plot\":{\"id\":\"f741121f-8628-441a-c45e-6c53b693dfc2\",\"type\":\"Plot\",\"subtype\":\"Figure\"},\"axis_label\":\"Scaled number of iterations\",\"id\":\"6ab36f1b-c419-4058-c0c1-56540e927c33\"},\"type\":\"LinearAxis\",\"id\":\"6ab36f1b-c419-4058-c0c1-56540e927c33\"},{\"attributes\":{\"tags\":[],\"doc\":null,\"ticker\":{\"type\":\"BasicTicker\",\"id\":\"aed2873a-24e6-40a6-c0ef-46db47f3811f\"},\"plot\":{\"id\":\"f741121f-8628-441a-c45e-6c53b693dfc2\",\"type\":\"Plot\",\"subtype\":\"Figure\"},\"dimension\":0,\"id\":\"1df9dd7d-5ece-4928-c926-7761e26c69a6\"},\"type\":\"Grid\",\"id\":\"1df9dd7d-5ece-4928-c926-7761e26c69a6\"},{\"attributes\":{\"tags\":[],\"doc\":null,\"id\":\"4e0fd0e5-ebe6-452b-c508-cd85dc46de96\"},\"type\":\"BasicTickFormatter\",\"id\":\"4e0fd0e5-ebe6-452b-c508-cd85dc46de96\"},{\"attributes\":{\"tags\":[],\"doc\":null,\"num_minor_ticks\":5,\"id\":\"63cf86f0-6b94-4fe1-cf30-beb8e112b5e1\"},\"type\":\"BasicTicker\",\"id\":\"63cf86f0-6b94-4fe1-cf30-beb8e112b5e1\"},{\"attributes\":{\"tags\":[],\"doc\":null,\"ticker\":{\"type\":\"BasicTicker\",\"id\":\"63cf86f0-6b94-4fe1-cf30-beb8e112b5e1\"},\"formatter\":{\"type\":\"BasicTickFormatter\",\"id\":\"4e0fd0e5-ebe6-452b-c508-cd85dc46de96\"},\"plot\":{\"id\":\"f741121f-8628-441a-c45e-6c53b693dfc2\",\"type\":\"Plot\",\"subtype\":\"Figure\"},\"axis_label\":\"Exploitability\",\"id\":\"5c17296a-18ac-40d0-c0c4-a2e5e07c1c60\"},\"type\":\"LinearAxis\",\"id\":\"5c17296a-18ac-40d0-c0c4-a2e5e07c1c60\"},{\"attributes\":{\"tags\":[],\"doc\":null,\"ticker\":{\"type\":\"BasicTicker\",\"id\":\"63cf86f0-6b94-4fe1-cf30-beb8e112b5e1\"},\"plot\":{\"id\":\"f741121f-8628-441a-c45e-6c53b693dfc2\",\"type\":\"Plot\",\"subtype\":\"Figure\"},\"dimension\":1,\"id\":\"61b01f13-247a-453c-c5f9-a0aee85cdbcb\"},\"type\":\"Grid\",\"id\":\"61b01f13-247a-453c-c5f9-a0aee85cdbcb\"},{\"attributes\":{\"tags\":[],\"doc\":null,\"plot\":{\"id\":\"f741121f-8628-441a-c45e-6c53b693dfc2\",\"type\":\"Plot\",\"subtype\":\"Figure\"},\"dimensions\":[\"width\",\"height\"],\"id\":\"6d127f7b-737f-4dee-cd25-1c14f8683df6\"},\"type\":\"PanTool\",\"id\":\"6d127f7b-737f-4dee-cd25-1c14f8683df6\"},{\"attributes\":{\"tags\":[],\"doc\":null,\"plot\":{\"id\":\"f741121f-8628-441a-c45e-6c53b693dfc2\",\"type\":\"Plot\",\"subtype\":\"Figure\"},\"dimensions\":[\"width\",\"height\"],\"id\":\"d5322132-5693-4095-c05e-61996d26abfe\"},\"type\":\"WheelZoomTool\",\"id\":\"d5322132-5693-4095-c05e-61996d26abfe\"},{\"attributes\":{\"tags\":[],\"doc\":null,\"plot\":{\"id\":\"f741121f-8628-441a-c45e-6c53b693dfc2\",\"type\":\"Plot\",\"subtype\":\"Figure\"},\"id\":\"b267d9d1-cb5f-427a-c2a5-a5cc605b6355\"},\"type\":\"BoxZoomTool\",\"id\":\"b267d9d1-cb5f-427a-c2a5-a5cc605b6355\"},{\"attributes\":{\"tags\":[],\"doc\":null,\"plot\":{\"id\":\"f741121f-8628-441a-c45e-6c53b693dfc2\",\"type\":\"Plot\",\"subtype\":\"Figure\"},\"id\":\"b1254aaa-da50-449a-c4eb-618458434ad5\"},\"type\":\"PreviewSaveTool\",\"id\":\"b1254aaa-da50-449a-c4eb-618458434ad5\"},{\"attributes\":{\"tags\":[],\"doc\":null,\"plot\":{\"id\":\"f741121f-8628-441a-c45e-6c53b693dfc2\",\"type\":\"Plot\",\"subtype\":\"Figure\"},\"id\":\"1fa20c75-6027-41aa-c1cb-8f496a5283b8\"},\"type\":\"ResizeTool\",\"id\":\"1fa20c75-6027-41aa-c1cb-8f496a5283b8\"},{\"attributes\":{\"tags\":[],\"doc\":null,\"plot\":{\"id\":\"f741121f-8628-441a-c45e-6c53b693dfc2\",\"type\":\"Plot\",\"subtype\":\"Figure\"},\"id\":\"d73b775f-0c12-4390-c36c-d64b2e5bef96\"},\"type\":\"ResetTool\",\"id\":\"d73b775f-0c12-4390-c36c-d64b2e5bef96\"},{\"attributes\":{\"tags\":[],\"doc\":null,\"legends\":[[\"Original CFR\",[{\"type\":\"GlyphRenderer\",\"id\":\"cda10b0a-27c4-4f84-cf38-3416b3b47e43\"}]],[\"Modified CFR\",[{\"type\":\"GlyphRenderer\",\"id\":\"bcb20531-ab58-4024-c038-61962a06b0c3\"}]]],\"plot\":{\"id\":\"f741121f-8628-441a-c45e-6c53b693dfc2\",\"type\":\"Plot\",\"subtype\":\"Figure\"},\"id\":\"5e76a0f1-670c-4198-c1dd-211aaad594a8\"},\"type\":\"Legend\",\"id\":\"5e76a0f1-670c-4198-c1dd-211aaad594a8\"},{\"attributes\":{\"tags\":[],\"extra_y_ranges\":{},\"left\":[{\"type\":\"LinearAxis\",\"id\":\"5c17296a-18ac-40d0-c0c4-a2e5e07c1c60\"}],\"tool_events\":{\"type\":\"ToolEvents\",\"id\":\"0d855208-3e1b-428d-c29c-efc5837ca6b2\"},\"tools\":[{\"type\":\"PanTool\",\"id\":\"6d127f7b-737f-4dee-cd25-1c14f8683df6\"},{\"type\":\"WheelZoomTool\",\"id\":\"d5322132-5693-4095-c05e-61996d26abfe\"},{\"type\":\"BoxZoomTool\",\"id\":\"b267d9d1-cb5f-427a-c2a5-a5cc605b6355\"},{\"type\":\"PreviewSaveTool\",\"id\":\"b1254aaa-da50-449a-c4eb-618458434ad5\"},{\"type\":\"ResizeTool\",\"id\":\"1fa20c75-6027-41aa-c1cb-8f496a5283b8\"},{\"type\":\"ResetTool\",\"id\":\"d73b775f-0c12-4390-c36c-d64b2e5bef96\"}],\"title\":\"Exploitability of the CFRs - 2000 iterations\",\"renderers\":[{\"type\":\"GlyphRenderer\",\"id\":\"cda10b0a-27c4-4f84-cf38-3416b3b47e43\"},{\"type\":\"GlyphRenderer\",\"id\":\"bcb20531-ab58-4024-c038-61962a06b0c3\"},{\"type\":\"LinearAxis\",\"id\":\"6ab36f1b-c419-4058-c0c1-56540e927c33\"},{\"type\":\"Grid\",\"id\":\"1df9dd7d-5ece-4928-c926-7761e26c69a6\"},{\"type\":\"LinearAxis\",\"id\":\"5c17296a-18ac-40d0-c0c4-a2e5e07c1c60\"},{\"type\":\"Grid\",\"id\":\"61b01f13-247a-453c-c5f9-a0aee85cdbcb\"},{\"type\":\"Legend\",\"id\":\"5e76a0f1-670c-4198-c1dd-211aaad594a8\"}],\"below\":[{\"type\":\"LinearAxis\",\"id\":\"6ab36f1b-c419-4058-c0c1-56540e927c33\"}],\"doc\":null,\"above\":[],\"right\":[],\"y_range\":{\"type\":\"DataRange1d\",\"id\":\"4588b2aa-188c-4caa-cc92-96702680bb08\"},\"x_range\":{\"type\":\"DataRange1d\",\"id\":\"b61396ec-ee6e-41d4-c19a-b9847d29f993\"},\"extra_x_ranges\":{},\"id\":\"f741121f-8628-441a-c45e-6c53b693dfc2\"},\"type\":\"Plot\",\"id\":\"f741121f-8628-441a-c45e-6c53b693dfc2\"}];\n",
       "      Bokeh.load_models(all_models);\n",
       "      var model = Bokeh.Collections(modeltype).get(modelid);\n",
       "      $(\"#fb04eb31-f785-47b8-c7d6-d5a8baa45988\").html(''); // clear any previous plot in window_id\n",
       "      var view = new model.default_view({model: model, el: \"#fb04eb31-f785-47b8-c7d6-d5a8baa45988\"});\n",
       "  });\n",
       "    }\n",
       "});\n",
       "</script>\n",
       "<div class=\"plotdiv\" id=\"fb04eb31-f785-47b8-c7d6-d5a8baa45988\"></div>\n"
      ]
     },
     "metadata": {},
     "output_type": "display_data"
    }
   ],
   "source": [
    "local num_iter = torch.range(1,exploit_2000_original:size(1))\n",
    "local plot = Plot()\n",
    "\n",
    "plot:line(num_iter,exploit_2000_original,'red' ,'Original CFR')\n",
    "plot:line(num_iter,exploit_2000_mod,'blue' ,'Modified CFR')\n",
    "plot:legend(true):title('Exploitability of the CFRs - 2000 iterations')\n",
    "plot:xaxis('Scaled number of iterations'):yaxis('Exploitability'):redraw()\n"
   ]
  },
  {
   "cell_type": "markdown",
   "metadata": {},
   "source": [
    "### 2. Exploitability for different Strategies"
   ]
  },
  {
   "cell_type": "code",
   "execution_count": 8,
   "metadata": {
    "collapsed": true
   },
   "outputs": [],
   "source": [
    "number_of_iterations = 800"
   ]
  },
  {
   "cell_type": "code",
   "execution_count": 9,
   "metadata": {
    "collapsed": true
   },
   "outputs": [],
   "source": [
    "--- Get Data from 2000 iterations\n",
    "tree800 = builder:build_tree(params)\n",
    "tree_data800 = TreeData(tree800)\n",
    "tree800_cfr = TreeCFR()\n",
    "tree800_cfr:run_cfr(tree800, starting_ranges,number_of_iterations)\n",
    "tree_data800:get_training_set(tree800,1)"
   ]
  },
  {
   "cell_type": "markdown",
   "metadata": {},
   "source": [
    "### Training the Model"
   ]
  },
  {
   "cell_type": "code",
   "execution_count": 10,
   "metadata": {
    "collapsed": true
   },
   "outputs": [],
   "source": [
    "-- Building the neural net model\n",
    "strategy_nn = StrategyNN()\n",
    "nn_model = strategy_nn.model\n",
    "-- Building trainer:\n",
    "nn_trainer = NNTrainer(tree_data800,nn_model)\n",
    "-- Options:\n",
    "opt = {}\n",
    "opt.learningRate = 0.001\n",
    "opt.momentum = 0.95\n",
    "opt.validate = false"
   ]
  },
  {
   "cell_type": "code",
   "execution_count": 11,
   "metadata": {
    "collapsed": true
   },
   "outputs": [],
   "source": [
    "current_criterion = nn.SmoothL1Criterion()\n",
    "train_loss,test_loss = nn_trainer:train(nn_model,current_criterion,opt,10000)"
   ]
  },
  {
   "cell_type": "code",
   "execution_count": 12,
   "metadata": {},
   "outputs": [
    {
     "data": {
      "text/plain": [
       "0.25429344602311\n"
      ]
     },
     "execution_count": 12,
     "metadata": {},
     "output_type": "execute_result"
    }
   ],
   "source": [
    "pred_strat = nn_model:forward({nn_trainer.all_data.features,nn_trainer.all_data.masks})\n",
    "true_strat =nn_trainer.all_data.targets\n",
    "print(torch.mean(torch.abs(pred_strat- true_strat)))"
   ]
  },
  {
   "cell_type": "markdown",
   "metadata": {},
   "source": [
    "### No Warm Start"
   ]
  },
  {
   "cell_type": "code",
   "execution_count": 13,
   "metadata": {},
   "outputs": [
    {
     "data": {
      "text/plain": [
       "Solver\n"
      ]
     },
     "execution_count": 13,
     "metadata": {},
     "output_type": "execute_result"
    }
   ],
   "source": [
    "--- Building CFR Solver\n",
    "treeNoWarm = builder:build_tree(params)\n",
    "treeNoWarm_cfr = TreeCFR2()\n",
    "print(\"Solver\")\n",
    "treeNoWarm_cfr:run_cfr(treeNoWarm, starting_ranges,number_of_iterations)"
   ]
  },
  {
   "cell_type": "markdown",
   "metadata": {},
   "source": [
    "### Neural Net Start "
   ]
  },
  {
   "cell_type": "code",
   "execution_count": 14,
   "metadata": {
    "collapsed": true
   },
   "outputs": [],
   "source": [
    "--- NNWarm Starting\n",
    "treeNNWarm = builder:build_tree(params)\n",
    "dataNN = TreeData(treeNNWarm)\n",
    "dataNN:get_training_set(treeNNWarm,1)\n",
    "dataNN:generate_new_initial_strategies(treeNNWarm,nn_trainer)"
   ]
  },
  {
   "cell_type": "code",
   "execution_count": 15,
   "metadata": {
    "collapsed": true
   },
   "outputs": [],
   "source": [
    "--- Building CFR Solver\n",
    "treeNNWarm_cfr = TreeCFR2()\n",
    "treeNNWarm_cfr:run_cfr(treeNNWarm, starting_ranges,number_of_iterations)"
   ]
  },
  {
   "cell_type": "markdown",
   "metadata": {},
   "source": [
    "### Target Warm Start "
   ]
  },
  {
   "cell_type": "code",
   "execution_count": 30,
   "metadata": {},
   "outputs": [],
   "source": [
    "--- Target Warm Starting\n",
    "treeTargWarm = builder:build_tree(params)\n",
    "dataTarg = TreeData(treeTargWarm)\n",
    "dataTarg:get_training_set(treeTargWarm,1)\n",
    "dataTarg:warm_start_targets(treeTargWarm,tree800)"
   ]
  },
  {
   "cell_type": "code",
   "execution_count": 17,
   "metadata": {
    "collapsed": true
   },
   "outputs": [],
   "source": [
    "--- Building CFR Solver\n",
    "treeTargWarm_cfr = TreeCFR2()\n",
    "treeTargWarm_cfr:run_cfr(treeTargWarm, starting_ranges,number_of_iterations)"
   ]
  },
  {
   "cell_type": "markdown",
   "metadata": {},
   "source": [
    "### Plot different starts"
   ]
  },
  {
   "cell_type": "code",
   "execution_count": 18,
   "metadata": {
    "collapsed": true
   },
   "outputs": [],
   "source": [
    "exploit_unif = tree800_cfr.exploitability_vec\n",
    "exploit_NoW = treeNoWarm_cfr.exploitability_vec\n",
    "exploit_NNW = treeNNWarm_cfr.exploitability_vec\n",
    "exploit_TargW = treeTargWarm_cfr.exploitability_vec"
   ]
  },
  {
   "cell_type": "code",
   "execution_count": 19,
   "metadata": {},
   "outputs": [
    {
     "data": {
      "text/html": [
       "<script type=\"text/javascript\">\n",
       "$(function() {\n",
       "    if (typeof (window._bokeh_onload_callbacks) === \"undefined\"){\n",
       "  window._bokeh_onload_callbacks = [];\n",
       "    }\n",
       "    function load_lib(url, callback){\n",
       "  window._bokeh_onload_callbacks.push(callback);\n",
       "  if (window._bokeh_is_loading){\n",
       "      console.log(\"Bokeh: BokehJS is being loaded, scheduling callback at\", new Date());\n",
       "      return null;\n",
       "  }\n",
       "  console.log(\"Bokeh: BokehJS not loaded, scheduling load and callback at\", new Date());\n",
       "  window._bokeh_is_loading = true;\n",
       "  var s = document.createElement('script');\n",
       "  s.src = url;\n",
       "  s.async = true;\n",
       "  s.onreadystatechange = s.onload = function(){\n",
       "      Bokeh.embed.inject_css(\"https://cdn.pydata.org/bokeh-0.7.0.min.css\");\n",
       "      window._bokeh_onload_callbacks.forEach(function(callback){callback()});\n",
       "  };\n",
       "  s.onerror = function(){\n",
       "      console.warn(\"failed to load library \" + url);\n",
       "  };\n",
       "  document.getElementsByTagName(\"head\")[0].appendChild(s);\n",
       "    }\n",
       "\n",
       "    bokehjs_url = \"https://cdn.pydata.org/bokeh-0.7.0.min.js\"\n",
       "\n",
       "    var elt = document.getElementById(\"8959ebe1-132b-4a7b-ca18-991f6f1e6522\");\n",
       "    if(elt==null) {\n",
       "  console.log(\"Bokeh: ERROR: autoload.js configured with elementid '8959ebe1-132b-4a7b-ca18-991f6f1e6522'\"\n",
       "        + \"but no matching script tag was found. \")\n",
       "  return false;\n",
       "    }\n",
       "\n",
       "    if(typeof(Bokeh) !== \"undefined\") {\n",
       "  console.log(\"Bokeh: BokehJS loaded, going straight to plotting\");\n",
       "  var modelid = \"8d4b9679-e66d-4276-c2a8-178fadaabea7\";\n",
       "  var modeltype = \"Plot\";\n",
       "  var all_models = [{\"attributes\":{\"tags\":[],\"doc\":null,\"data\":{\"y\":[177.5463104248,177.5463104248,17.380949020386,2.3958253860474,1.7116341590881,1.5014753341675,1.3976902961731,1.2272520065308,1.0780372619629,1.0933475494385,0.97545480728149,0.98008680343628,1.0009431838989,0.92289686203003,0.82773494720459],\"x\":[1,2,3,4,5,6,7,8,9,10,11,12,13,14,15]},\"cont_ranges\":{},\"selected\":[],\"column_names\":[\"y\",\"x\"],\"discrete_ranges\":{},\"id\":\"fb47c801-160f-4d36-cd40-49bc4b79e8ec\"},\"type\":\"ColumnDataSource\",\"id\":\"fb47c801-160f-4d36-cd40-49bc4b79e8ec\"},{\"attributes\":{\"tags\":[],\"y\":{\"units\":\"data\",\"field\":\"y\"},\"x\":{\"units\":\"data\",\"field\":\"x\"},\"fill_color\":{\"value\":\"black\"},\"doc\":null,\"size\":{\"units\":\"screen\",\"value\":10},\"line_alpha\":{\"units\":\"data\",\"value\":1},\"line_color\":{\"value\":\"black\"},\"fill_alpha\":{\"units\":\"data\",\"value\":0.2},\"id\":\"e440c0af-7779-4581-c5d5-f5f9eb264365\"},\"type\":\"Line\",\"id\":\"e440c0af-7779-4581-c5d5-f5f9eb264365\"},{\"attributes\":{\"tags\":[],\"y\":{\"units\":\"data\",\"field\":\"y\"},\"x\":{\"units\":\"data\",\"field\":\"x\"},\"fill_color\":{\"value\":\"black\"},\"doc\":null,\"size\":{\"units\":\"screen\",\"value\":10},\"line_alpha\":{\"units\":\"data\",\"value\":1},\"line_color\":{\"value\":\"black\"},\"fill_alpha\":{\"units\":\"data\",\"value\":0.2},\"id\":\"c5c5c674-6ba2-45bd-c545-c72e1ec9fd13\"},\"type\":\"Line\",\"id\":\"c5c5c674-6ba2-45bd-c545-c72e1ec9fd13\"},{\"attributes\":{\"tags\":[],\"nonselection_glyph\":{\"type\":\"Line\",\"id\":\"c5c5c674-6ba2-45bd-c545-c72e1ec9fd13\"},\"data_source\":{\"type\":\"ColumnDataSource\",\"id\":\"fb47c801-160f-4d36-cd40-49bc4b79e8ec\"},\"server_data_source\":null,\"selection_glyph\":null,\"glyph\":{\"type\":\"Line\",\"id\":\"e440c0af-7779-4581-c5d5-f5f9eb264365\"},\"doc\":null,\"name\":null,\"id\":\"6cd7a2f1-6ef2-4c60-ccd4-0a3a18dc0bf4\"},\"type\":\"GlyphRenderer\",\"id\":\"6cd7a2f1-6ef2-4c60-ccd4-0a3a18dc0bf4\"},{\"attributes\":{\"tags\":[],\"doc\":null,\"data\":{\"y\":[164.95370483398,164.95370483398,4.6617827415466,1.2012395858765,1.0567245483398,0.81769704818726,0.6415548324585,0.65268087387085,0.55257940292358,0.53331995010376,0.46295833587646,0.4601583480835,0.43121957778931,0.40767383575439,0.40735721588135],\"x\":[1,2,3,4,5,6,7,8,9,10,11,12,13,14,15]},\"cont_ranges\":{},\"selected\":[],\"column_names\":[\"y\",\"x\"],\"discrete_ranges\":{},\"id\":\"d3de83c0-ff6a-4667-c65c-183463d2e6f7\"},\"type\":\"ColumnDataSource\",\"id\":\"d3de83c0-ff6a-4667-c65c-183463d2e6f7\"},{\"attributes\":{\"tags\":[],\"y\":{\"units\":\"data\",\"field\":\"y\"},\"x\":{\"units\":\"data\",\"field\":\"x\"},\"fill_color\":{\"value\":\"red\"},\"doc\":null,\"size\":{\"units\":\"screen\",\"value\":10},\"line_alpha\":{\"units\":\"data\",\"value\":1},\"line_color\":{\"value\":\"red\"},\"fill_alpha\":{\"units\":\"data\",\"value\":0.2},\"id\":\"d16ad1b9-756a-479a-c7fc-bd01a021e5ad\"},\"type\":\"Line\",\"id\":\"d16ad1b9-756a-479a-c7fc-bd01a021e5ad\"},{\"attributes\":{\"tags\":[],\"y\":{\"units\":\"data\",\"field\":\"y\"},\"x\":{\"units\":\"data\",\"field\":\"x\"},\"fill_color\":{\"value\":\"red\"},\"doc\":null,\"size\":{\"units\":\"screen\",\"value\":10},\"line_alpha\":{\"units\":\"data\",\"value\":1},\"line_color\":{\"value\":\"red\"},\"fill_alpha\":{\"units\":\"data\",\"value\":0.2},\"id\":\"543c73ae-4225-4499-c412-e13337bbc9f5\"},\"type\":\"Line\",\"id\":\"543c73ae-4225-4499-c412-e13337bbc9f5\"},{\"attributes\":{\"tags\":[],\"nonselection_glyph\":{\"type\":\"Line\",\"id\":\"543c73ae-4225-4499-c412-e13337bbc9f5\"},\"data_source\":{\"type\":\"ColumnDataSource\",\"id\":\"d3de83c0-ff6a-4667-c65c-183463d2e6f7\"},\"server_data_source\":null,\"selection_glyph\":null,\"glyph\":{\"type\":\"Line\",\"id\":\"d16ad1b9-756a-479a-c7fc-bd01a021e5ad\"},\"doc\":null,\"name\":null,\"id\":\"b7bd3137-05d6-4237-c245-add50c9fa275\"},\"type\":\"GlyphRenderer\",\"id\":\"b7bd3137-05d6-4237-c245-add50c9fa275\"},{\"attributes\":{\"tags\":[],\"doc\":null,\"data\":{\"y\":[147.75653076172,147.75653076172,6.4388856887817,1.2578768730164,1.032660484314,0.80910062789917,0.821852684021,0.71317481994629,0.65324544906616,0.55342864990234,0.53327941894531,0.53677082061768,0.49428224563599,0.45545196533203,0.44715118408203],\"x\":[1,2,3,4,5,6,7,8,9,10,11,12,13,14,15]},\"cont_ranges\":{},\"selected\":[],\"column_names\":[\"y\",\"x\"],\"discrete_ranges\":{},\"id\":\"1cb90469-891a-436f-c33e-54a1608bc414\"},\"type\":\"ColumnDataSource\",\"id\":\"1cb90469-891a-436f-c33e-54a1608bc414\"},{\"attributes\":{\"tags\":[],\"y\":{\"units\":\"data\",\"field\":\"y\"},\"x\":{\"units\":\"data\",\"field\":\"x\"},\"fill_color\":{\"value\":\"blue\"},\"doc\":null,\"size\":{\"units\":\"screen\",\"value\":10},\"line_alpha\":{\"units\":\"data\",\"value\":1},\"line_color\":{\"value\":\"blue\"},\"fill_alpha\":{\"units\":\"data\",\"value\":0.2},\"id\":\"c30c2f78-d656-4eda-ce47-d0b4e5de692e\"},\"type\":\"Line\",\"id\":\"c30c2f78-d656-4eda-ce47-d0b4e5de692e\"},{\"attributes\":{\"tags\":[],\"y\":{\"units\":\"data\",\"field\":\"y\"},\"x\":{\"units\":\"data\",\"field\":\"x\"},\"fill_color\":{\"value\":\"blue\"},\"doc\":null,\"size\":{\"units\":\"screen\",\"value\":10},\"line_alpha\":{\"units\":\"data\",\"value\":1},\"line_color\":{\"value\":\"blue\"},\"fill_alpha\":{\"units\":\"data\",\"value\":0.2},\"id\":\"8d8759b9-f83c-443c-c4d2-66de9a09c17c\"},\"type\":\"Line\",\"id\":\"8d8759b9-f83c-443c-c4d2-66de9a09c17c\"},{\"attributes\":{\"tags\":[],\"nonselection_glyph\":{\"type\":\"Line\",\"id\":\"8d8759b9-f83c-443c-c4d2-66de9a09c17c\"},\"data_source\":{\"type\":\"ColumnDataSource\",\"id\":\"1cb90469-891a-436f-c33e-54a1608bc414\"},\"server_data_source\":null,\"selection_glyph\":null,\"glyph\":{\"type\":\"Line\",\"id\":\"c30c2f78-d656-4eda-ce47-d0b4e5de692e\"},\"doc\":null,\"name\":null,\"id\":\"fa5aba2a-e04f-4d26-cde8-0597f1d49136\"},\"type\":\"GlyphRenderer\",\"id\":\"fa5aba2a-e04f-4d26-cde8-0597f1d49136\"},{\"attributes\":{\"tags\":[],\"doc\":null,\"data\":{\"y\":[164.95370483398,164.95370483398,4.6617827415466,1.2012395858765,1.0567245483398,0.81769704818726,0.6415548324585,0.65268087387085,0.55257940292358,0.53331995010376,0.46295833587646,0.4601583480835,0.43121957778931,0.40767383575439,0.40735721588135],\"x\":[1,2,3,4,5,6,7,8,9,10,11,12,13,14,15]},\"cont_ranges\":{},\"selected\":[],\"column_names\":[\"y\",\"x\"],\"discrete_ranges\":{},\"id\":\"0795a427-114e-435e-c308-c11046c55f4d\"},\"type\":\"ColumnDataSource\",\"id\":\"0795a427-114e-435e-c308-c11046c55f4d\"},{\"attributes\":{\"tags\":[],\"y\":{\"units\":\"data\",\"field\":\"y\"},\"x\":{\"units\":\"data\",\"field\":\"x\"},\"fill_color\":{\"value\":\"green\"},\"doc\":null,\"size\":{\"units\":\"screen\",\"value\":10},\"line_alpha\":{\"units\":\"data\",\"value\":1},\"line_color\":{\"value\":\"green\"},\"fill_alpha\":{\"units\":\"data\",\"value\":0.2},\"id\":\"5af79fb2-5827-4490-c4b0-ce75bc295303\"},\"type\":\"Line\",\"id\":\"5af79fb2-5827-4490-c4b0-ce75bc295303\"},{\"attributes\":{\"tags\":[],\"y\":{\"units\":\"data\",\"field\":\"y\"},\"x\":{\"units\":\"data\",\"field\":\"x\"},\"fill_color\":{\"value\":\"green\"},\"doc\":null,\"size\":{\"units\":\"screen\",\"value\":10},\"line_alpha\":{\"units\":\"data\",\"value\":1},\"line_color\":{\"value\":\"green\"},\"fill_alpha\":{\"units\":\"data\",\"value\":0.2},\"id\":\"70ceee90-9193-4cba-cc82-71798b9526b9\"},\"type\":\"Line\",\"id\":\"70ceee90-9193-4cba-cc82-71798b9526b9\"},{\"attributes\":{\"tags\":[],\"nonselection_glyph\":{\"type\":\"Line\",\"id\":\"70ceee90-9193-4cba-cc82-71798b9526b9\"},\"data_source\":{\"type\":\"ColumnDataSource\",\"id\":\"0795a427-114e-435e-c308-c11046c55f4d\"},\"server_data_source\":null,\"selection_glyph\":null,\"glyph\":{\"type\":\"Line\",\"id\":\"5af79fb2-5827-4490-c4b0-ce75bc295303\"},\"doc\":null,\"name\":null,\"id\":\"86589608-e8c1-4268-c229-b108b12b40f2\"},\"type\":\"GlyphRenderer\",\"id\":\"86589608-e8c1-4268-c229-b108b12b40f2\"},{\"attributes\":{\"tags\":[],\"doc\":null,\"sources\":[{\"columns\":[\"x\"],\"source\":{\"type\":\"ColumnDataSource\",\"id\":\"fb47c801-160f-4d36-cd40-49bc4b79e8ec\"}},{\"columns\":[\"x\"],\"source\":{\"type\":\"ColumnDataSource\",\"id\":\"d3de83c0-ff6a-4667-c65c-183463d2e6f7\"}},{\"columns\":[\"x\"],\"source\":{\"type\":\"ColumnDataSource\",\"id\":\"1cb90469-891a-436f-c33e-54a1608bc414\"}},{\"columns\":[\"x\"],\"source\":{\"type\":\"ColumnDataSource\",\"id\":\"0795a427-114e-435e-c308-c11046c55f4d\"}}],\"id\":\"bed14955-a7d5-4c70-cc0f-62a48435bcb0\"},\"type\":\"DataRange1d\",\"id\":\"bed14955-a7d5-4c70-cc0f-62a48435bcb0\"},{\"attributes\":{\"tags\":[],\"doc\":null,\"sources\":[{\"columns\":[\"y\"],\"source\":{\"type\":\"ColumnDataSource\",\"id\":\"fb47c801-160f-4d36-cd40-49bc4b79e8ec\"}},{\"columns\":[\"y\"],\"source\":{\"type\":\"ColumnDataSource\",\"id\":\"d3de83c0-ff6a-4667-c65c-183463d2e6f7\"}},{\"columns\":[\"y\"],\"source\":{\"type\":\"ColumnDataSource\",\"id\":\"1cb90469-891a-436f-c33e-54a1608bc414\"}},{\"columns\":[\"y\"],\"source\":{\"type\":\"ColumnDataSource\",\"id\":\"0795a427-114e-435e-c308-c11046c55f4d\"}}],\"id\":\"835d801f-6ad0-478a-c7bb-a18c82b483b8\"},\"type\":\"DataRange1d\",\"id\":\"835d801f-6ad0-478a-c7bb-a18c82b483b8\"},{\"attributes\":{\"tags\":[],\"doc\":null,\"geometries\":[],\"id\":\"f9b4f261-a12f-4d4d-cdb3-d97dcc2d733b\"},\"type\":\"ToolEvents\",\"id\":\"f9b4f261-a12f-4d4d-cdb3-d97dcc2d733b\"},{\"attributes\":{\"tags\":[],\"doc\":null,\"id\":\"0687df56-75ac-4098-c0d2-6c0dd823ecdb\"},\"type\":\"BasicTickFormatter\",\"id\":\"0687df56-75ac-4098-c0d2-6c0dd823ecdb\"},{\"attributes\":{\"tags\":[],\"doc\":null,\"num_minor_ticks\":5,\"id\":\"d105f946-bc19-44c8-c4cc-9a048ca0074f\"},\"type\":\"BasicTicker\",\"id\":\"d105f946-bc19-44c8-c4cc-9a048ca0074f\"},{\"attributes\":{\"tags\":[],\"doc\":null,\"ticker\":{\"type\":\"BasicTicker\",\"id\":\"d105f946-bc19-44c8-c4cc-9a048ca0074f\"},\"formatter\":{\"type\":\"BasicTickFormatter\",\"id\":\"0687df56-75ac-4098-c0d2-6c0dd823ecdb\"},\"plot\":{\"id\":\"8d4b9679-e66d-4276-c2a8-178fadaabea7\",\"type\":\"Plot\",\"subtype\":\"Figure\"},\"axis_label\":\"Scaled number of iterations\",\"id\":\"9352a6d0-bcbc-4f21-cf50-001a91e2369d\"},\"type\":\"LinearAxis\",\"id\":\"9352a6d0-bcbc-4f21-cf50-001a91e2369d\"},{\"attributes\":{\"tags\":[],\"doc\":null,\"ticker\":{\"type\":\"BasicTicker\",\"id\":\"d105f946-bc19-44c8-c4cc-9a048ca0074f\"},\"plot\":{\"id\":\"8d4b9679-e66d-4276-c2a8-178fadaabea7\",\"type\":\"Plot\",\"subtype\":\"Figure\"},\"dimension\":0,\"id\":\"3de01660-97cd-43a5-c310-fb97f654dd40\"},\"type\":\"Grid\",\"id\":\"3de01660-97cd-43a5-c310-fb97f654dd40\"},{\"attributes\":{\"tags\":[],\"doc\":null,\"id\":\"7928deb6-0a12-4a2f-ca3c-ae31a6584551\"},\"type\":\"BasicTickFormatter\",\"id\":\"7928deb6-0a12-4a2f-ca3c-ae31a6584551\"},{\"attributes\":{\"tags\":[],\"doc\":null,\"num_minor_ticks\":5,\"id\":\"05fa3aa9-38ed-4fc9-cfa6-622ebd418806\"},\"type\":\"BasicTicker\",\"id\":\"05fa3aa9-38ed-4fc9-cfa6-622ebd418806\"},{\"attributes\":{\"tags\":[],\"doc\":null,\"ticker\":{\"type\":\"BasicTicker\",\"id\":\"05fa3aa9-38ed-4fc9-cfa6-622ebd418806\"},\"formatter\":{\"type\":\"BasicTickFormatter\",\"id\":\"7928deb6-0a12-4a2f-ca3c-ae31a6584551\"},\"plot\":{\"id\":\"8d4b9679-e66d-4276-c2a8-178fadaabea7\",\"type\":\"Plot\",\"subtype\":\"Figure\"},\"axis_label\":\"Exploitability\",\"id\":\"487beff7-96e2-48de-c831-4f3982d1388b\"},\"type\":\"LinearAxis\",\"id\":\"487beff7-96e2-48de-c831-4f3982d1388b\"},{\"attributes\":{\"tags\":[],\"doc\":null,\"ticker\":{\"type\":\"BasicTicker\",\"id\":\"05fa3aa9-38ed-4fc9-cfa6-622ebd418806\"},\"plot\":{\"id\":\"8d4b9679-e66d-4276-c2a8-178fadaabea7\",\"type\":\"Plot\",\"subtype\":\"Figure\"},\"dimension\":1,\"id\":\"312ea5e4-7e47-435a-c3b1-150b5c3e4b92\"},\"type\":\"Grid\",\"id\":\"312ea5e4-7e47-435a-c3b1-150b5c3e4b92\"},{\"attributes\":{\"tags\":[],\"doc\":null,\"plot\":{\"id\":\"8d4b9679-e66d-4276-c2a8-178fadaabea7\",\"type\":\"Plot\",\"subtype\":\"Figure\"},\"dimensions\":[\"width\",\"height\"],\"id\":\"6259dd4a-eb52-4fa9-cfef-84cbcf4e9352\"},\"type\":\"PanTool\",\"id\":\"6259dd4a-eb52-4fa9-cfef-84cbcf4e9352\"},{\"attributes\":{\"tags\":[],\"doc\":null,\"plot\":{\"id\":\"8d4b9679-e66d-4276-c2a8-178fadaabea7\",\"type\":\"Plot\",\"subtype\":\"Figure\"},\"dimensions\":[\"width\",\"height\"],\"id\":\"190fb031-6e84-428b-c29c-01fb86a4a030\"},\"type\":\"WheelZoomTool\",\"id\":\"190fb031-6e84-428b-c29c-01fb86a4a030\"},{\"attributes\":{\"tags\":[],\"doc\":null,\"plot\":{\"id\":\"8d4b9679-e66d-4276-c2a8-178fadaabea7\",\"type\":\"Plot\",\"subtype\":\"Figure\"},\"id\":\"492b71ed-2465-4f32-cfcd-ded354929a15\"},\"type\":\"BoxZoomTool\",\"id\":\"492b71ed-2465-4f32-cfcd-ded354929a15\"},{\"attributes\":{\"tags\":[],\"doc\":null,\"plot\":{\"id\":\"8d4b9679-e66d-4276-c2a8-178fadaabea7\",\"type\":\"Plot\",\"subtype\":\"Figure\"},\"id\":\"ce1b6abe-52a8-4081-c02d-73446874f4f5\"},\"type\":\"PreviewSaveTool\",\"id\":\"ce1b6abe-52a8-4081-c02d-73446874f4f5\"},{\"attributes\":{\"tags\":[],\"doc\":null,\"plot\":{\"id\":\"8d4b9679-e66d-4276-c2a8-178fadaabea7\",\"type\":\"Plot\",\"subtype\":\"Figure\"},\"id\":\"7b2caf84-e898-46be-c658-61f6d419211a\"},\"type\":\"ResizeTool\",\"id\":\"7b2caf84-e898-46be-c658-61f6d419211a\"},{\"attributes\":{\"tags\":[],\"doc\":null,\"plot\":{\"id\":\"8d4b9679-e66d-4276-c2a8-178fadaabea7\",\"type\":\"Plot\",\"subtype\":\"Figure\"},\"id\":\"c9cbc761-5923-4e18-ce1e-b4b61694ee96\"},\"type\":\"ResetTool\",\"id\":\"c9cbc761-5923-4e18-ce1e-b4b61694ee96\"},{\"attributes\":{\"tags\":[],\"doc\":null,\"legends\":[[\"Original CFR in the paper\",[{\"type\":\"GlyphRenderer\",\"id\":\"6cd7a2f1-6ef2-4c60-ccd4-0a3a18dc0bf4\"}]],[\"No Warm start CFR\",[{\"type\":\"GlyphRenderer\",\"id\":\"b7bd3137-05d6-4237-c245-add50c9fa275\"}]],[\"Neural Net warm start CFR\",[{\"type\":\"GlyphRenderer\",\"id\":\"fa5aba2a-e04f-4d26-cde8-0597f1d49136\"}]],[\"Warm start with target values\",[{\"type\":\"GlyphRenderer\",\"id\":\"86589608-e8c1-4268-c229-b108b12b40f2\"}]]],\"plot\":{\"id\":\"8d4b9679-e66d-4276-c2a8-178fadaabea7\",\"type\":\"Plot\",\"subtype\":\"Figure\"},\"id\":\"96fe9310-4560-413d-c1fb-46220ba494a7\"},\"type\":\"Legend\",\"id\":\"96fe9310-4560-413d-c1fb-46220ba494a7\"},{\"attributes\":{\"tags\":[],\"extra_y_ranges\":{},\"left\":[{\"type\":\"LinearAxis\",\"id\":\"487beff7-96e2-48de-c831-4f3982d1388b\"}],\"tool_events\":{\"type\":\"ToolEvents\",\"id\":\"f9b4f261-a12f-4d4d-cdb3-d97dcc2d733b\"},\"tools\":[{\"type\":\"PanTool\",\"id\":\"6259dd4a-eb52-4fa9-cfef-84cbcf4e9352\"},{\"type\":\"WheelZoomTool\",\"id\":\"190fb031-6e84-428b-c29c-01fb86a4a030\"},{\"type\":\"BoxZoomTool\",\"id\":\"492b71ed-2465-4f32-cfcd-ded354929a15\"},{\"type\":\"PreviewSaveTool\",\"id\":\"ce1b6abe-52a8-4081-c02d-73446874f4f5\"},{\"type\":\"ResizeTool\",\"id\":\"7b2caf84-e898-46be-c658-61f6d419211a\"},{\"type\":\"ResetTool\",\"id\":\"c9cbc761-5923-4e18-ce1e-b4b61694ee96\"}],\"title\":\"Exploitability of different strategies, 800 iterations\",\"renderers\":[{\"type\":\"GlyphRenderer\",\"id\":\"6cd7a2f1-6ef2-4c60-ccd4-0a3a18dc0bf4\"},{\"type\":\"GlyphRenderer\",\"id\":\"b7bd3137-05d6-4237-c245-add50c9fa275\"},{\"type\":\"GlyphRenderer\",\"id\":\"fa5aba2a-e04f-4d26-cde8-0597f1d49136\"},{\"type\":\"GlyphRenderer\",\"id\":\"86589608-e8c1-4268-c229-b108b12b40f2\"},{\"type\":\"LinearAxis\",\"id\":\"9352a6d0-bcbc-4f21-cf50-001a91e2369d\"},{\"type\":\"Grid\",\"id\":\"3de01660-97cd-43a5-c310-fb97f654dd40\"},{\"type\":\"LinearAxis\",\"id\":\"487beff7-96e2-48de-c831-4f3982d1388b\"},{\"type\":\"Grid\",\"id\":\"312ea5e4-7e47-435a-c3b1-150b5c3e4b92\"},{\"type\":\"Legend\",\"id\":\"96fe9310-4560-413d-c1fb-46220ba494a7\"}],\"below\":[{\"type\":\"LinearAxis\",\"id\":\"9352a6d0-bcbc-4f21-cf50-001a91e2369d\"}],\"doc\":null,\"above\":[],\"right\":[],\"y_range\":{\"type\":\"DataRange1d\",\"id\":\"835d801f-6ad0-478a-c7bb-a18c82b483b8\"},\"x_range\":{\"type\":\"DataRange1d\",\"id\":\"bed14955-a7d5-4c70-cc0f-62a48435bcb0\"},\"extra_x_ranges\":{},\"id\":\"8d4b9679-e66d-4276-c2a8-178fadaabea7\"},\"type\":\"Plot\",\"id\":\"8d4b9679-e66d-4276-c2a8-178fadaabea7\"}];\n",
       "  Bokeh.load_models(all_models);\n",
       "  var model = Bokeh.Collections(modeltype).get(modelid);\n",
       "  $(\"#8959ebe1-132b-4a7b-ca18-991f6f1e6522\").html(''); // clear any previous plot in window_id\n",
       "  var view = new model.default_view({model: model, el: \"#8959ebe1-132b-4a7b-ca18-991f6f1e6522\"});\n",
       "    } else {\n",
       "  load_lib(bokehjs_url, function() {\n",
       "      console.log(\"Bokeh: BokehJS plotting callback run at\", new Date())\n",
       "      var modelid = \"8d4b9679-e66d-4276-c2a8-178fadaabea7\";\n",
       "      var modeltype = \"Plot\";\n",
       "      var all_models = [{\"attributes\":{\"tags\":[],\"doc\":null,\"data\":{\"y\":[177.5463104248,177.5463104248,17.380949020386,2.3958253860474,1.7116341590881,1.5014753341675,1.3976902961731,1.2272520065308,1.0780372619629,1.0933475494385,0.97545480728149,0.98008680343628,1.0009431838989,0.92289686203003,0.82773494720459],\"x\":[1,2,3,4,5,6,7,8,9,10,11,12,13,14,15]},\"cont_ranges\":{},\"selected\":[],\"column_names\":[\"y\",\"x\"],\"discrete_ranges\":{},\"id\":\"fb47c801-160f-4d36-cd40-49bc4b79e8ec\"},\"type\":\"ColumnDataSource\",\"id\":\"fb47c801-160f-4d36-cd40-49bc4b79e8ec\"},{\"attributes\":{\"tags\":[],\"y\":{\"units\":\"data\",\"field\":\"y\"},\"x\":{\"units\":\"data\",\"field\":\"x\"},\"fill_color\":{\"value\":\"black\"},\"doc\":null,\"size\":{\"units\":\"screen\",\"value\":10},\"line_alpha\":{\"units\":\"data\",\"value\":1},\"line_color\":{\"value\":\"black\"},\"fill_alpha\":{\"units\":\"data\",\"value\":0.2},\"id\":\"e440c0af-7779-4581-c5d5-f5f9eb264365\"},\"type\":\"Line\",\"id\":\"e440c0af-7779-4581-c5d5-f5f9eb264365\"},{\"attributes\":{\"tags\":[],\"y\":{\"units\":\"data\",\"field\":\"y\"},\"x\":{\"units\":\"data\",\"field\":\"x\"},\"fill_color\":{\"value\":\"black\"},\"doc\":null,\"size\":{\"units\":\"screen\",\"value\":10},\"line_alpha\":{\"units\":\"data\",\"value\":1},\"line_color\":{\"value\":\"black\"},\"fill_alpha\":{\"units\":\"data\",\"value\":0.2},\"id\":\"c5c5c674-6ba2-45bd-c545-c72e1ec9fd13\"},\"type\":\"Line\",\"id\":\"c5c5c674-6ba2-45bd-c545-c72e1ec9fd13\"},{\"attributes\":{\"tags\":[],\"nonselection_glyph\":{\"type\":\"Line\",\"id\":\"c5c5c674-6ba2-45bd-c545-c72e1ec9fd13\"},\"data_source\":{\"type\":\"ColumnDataSource\",\"id\":\"fb47c801-160f-4d36-cd40-49bc4b79e8ec\"},\"server_data_source\":null,\"selection_glyph\":null,\"glyph\":{\"type\":\"Line\",\"id\":\"e440c0af-7779-4581-c5d5-f5f9eb264365\"},\"doc\":null,\"name\":null,\"id\":\"6cd7a2f1-6ef2-4c60-ccd4-0a3a18dc0bf4\"},\"type\":\"GlyphRenderer\",\"id\":\"6cd7a2f1-6ef2-4c60-ccd4-0a3a18dc0bf4\"},{\"attributes\":{\"tags\":[],\"doc\":null,\"data\":{\"y\":[164.95370483398,164.95370483398,4.6617827415466,1.2012395858765,1.0567245483398,0.81769704818726,0.6415548324585,0.65268087387085,0.55257940292358,0.53331995010376,0.46295833587646,0.4601583480835,0.43121957778931,0.40767383575439,0.40735721588135],\"x\":[1,2,3,4,5,6,7,8,9,10,11,12,13,14,15]},\"cont_ranges\":{},\"selected\":[],\"column_names\":[\"y\",\"x\"],\"discrete_ranges\":{},\"id\":\"d3de83c0-ff6a-4667-c65c-183463d2e6f7\"},\"type\":\"ColumnDataSource\",\"id\":\"d3de83c0-ff6a-4667-c65c-183463d2e6f7\"},{\"attributes\":{\"tags\":[],\"y\":{\"units\":\"data\",\"field\":\"y\"},\"x\":{\"units\":\"data\",\"field\":\"x\"},\"fill_color\":{\"value\":\"red\"},\"doc\":null,\"size\":{\"units\":\"screen\",\"value\":10},\"line_alpha\":{\"units\":\"data\",\"value\":1},\"line_color\":{\"value\":\"red\"},\"fill_alpha\":{\"units\":\"data\",\"value\":0.2},\"id\":\"d16ad1b9-756a-479a-c7fc-bd01a021e5ad\"},\"type\":\"Line\",\"id\":\"d16ad1b9-756a-479a-c7fc-bd01a021e5ad\"},{\"attributes\":{\"tags\":[],\"y\":{\"units\":\"data\",\"field\":\"y\"},\"x\":{\"units\":\"data\",\"field\":\"x\"},\"fill_color\":{\"value\":\"red\"},\"doc\":null,\"size\":{\"units\":\"screen\",\"value\":10},\"line_alpha\":{\"units\":\"data\",\"value\":1},\"line_color\":{\"value\":\"red\"},\"fill_alpha\":{\"units\":\"data\",\"value\":0.2},\"id\":\"543c73ae-4225-4499-c412-e13337bbc9f5\"},\"type\":\"Line\",\"id\":\"543c73ae-4225-4499-c412-e13337bbc9f5\"},{\"attributes\":{\"tags\":[],\"nonselection_glyph\":{\"type\":\"Line\",\"id\":\"543c73ae-4225-4499-c412-e13337bbc9f5\"},\"data_source\":{\"type\":\"ColumnDataSource\",\"id\":\"d3de83c0-ff6a-4667-c65c-183463d2e6f7\"},\"server_data_source\":null,\"selection_glyph\":null,\"glyph\":{\"type\":\"Line\",\"id\":\"d16ad1b9-756a-479a-c7fc-bd01a021e5ad\"},\"doc\":null,\"name\":null,\"id\":\"b7bd3137-05d6-4237-c245-add50c9fa275\"},\"type\":\"GlyphRenderer\",\"id\":\"b7bd3137-05d6-4237-c245-add50c9fa275\"},{\"attributes\":{\"tags\":[],\"doc\":null,\"data\":{\"y\":[147.75653076172,147.75653076172,6.4388856887817,1.2578768730164,1.032660484314,0.80910062789917,0.821852684021,0.71317481994629,0.65324544906616,0.55342864990234,0.53327941894531,0.53677082061768,0.49428224563599,0.45545196533203,0.44715118408203],\"x\":[1,2,3,4,5,6,7,8,9,10,11,12,13,14,15]},\"cont_ranges\":{},\"selected\":[],\"column_names\":[\"y\",\"x\"],\"discrete_ranges\":{},\"id\":\"1cb90469-891a-436f-c33e-54a1608bc414\"},\"type\":\"ColumnDataSource\",\"id\":\"1cb90469-891a-436f-c33e-54a1608bc414\"},{\"attributes\":{\"tags\":[],\"y\":{\"units\":\"data\",\"field\":\"y\"},\"x\":{\"units\":\"data\",\"field\":\"x\"},\"fill_color\":{\"value\":\"blue\"},\"doc\":null,\"size\":{\"units\":\"screen\",\"value\":10},\"line_alpha\":{\"units\":\"data\",\"value\":1},\"line_color\":{\"value\":\"blue\"},\"fill_alpha\":{\"units\":\"data\",\"value\":0.2},\"id\":\"c30c2f78-d656-4eda-ce47-d0b4e5de692e\"},\"type\":\"Line\",\"id\":\"c30c2f78-d656-4eda-ce47-d0b4e5de692e\"},{\"attributes\":{\"tags\":[],\"y\":{\"units\":\"data\",\"field\":\"y\"},\"x\":{\"units\":\"data\",\"field\":\"x\"},\"fill_color\":{\"value\":\"blue\"},\"doc\":null,\"size\":{\"units\":\"screen\",\"value\":10},\"line_alpha\":{\"units\":\"data\",\"value\":1},\"line_color\":{\"value\":\"blue\"},\"fill_alpha\":{\"units\":\"data\",\"value\":0.2},\"id\":\"8d8759b9-f83c-443c-c4d2-66de9a09c17c\"},\"type\":\"Line\",\"id\":\"8d8759b9-f83c-443c-c4d2-66de9a09c17c\"},{\"attributes\":{\"tags\":[],\"nonselection_glyph\":{\"type\":\"Line\",\"id\":\"8d8759b9-f83c-443c-c4d2-66de9a09c17c\"},\"data_source\":{\"type\":\"ColumnDataSource\",\"id\":\"1cb90469-891a-436f-c33e-54a1608bc414\"},\"server_data_source\":null,\"selection_glyph\":null,\"glyph\":{\"type\":\"Line\",\"id\":\"c30c2f78-d656-4eda-ce47-d0b4e5de692e\"},\"doc\":null,\"name\":null,\"id\":\"fa5aba2a-e04f-4d26-cde8-0597f1d49136\"},\"type\":\"GlyphRenderer\",\"id\":\"fa5aba2a-e04f-4d26-cde8-0597f1d49136\"},{\"attributes\":{\"tags\":[],\"doc\":null,\"data\":{\"y\":[164.95370483398,164.95370483398,4.6617827415466,1.2012395858765,1.0567245483398,0.81769704818726,0.6415548324585,0.65268087387085,0.55257940292358,0.53331995010376,0.46295833587646,0.4601583480835,0.43121957778931,0.40767383575439,0.40735721588135],\"x\":[1,2,3,4,5,6,7,8,9,10,11,12,13,14,15]},\"cont_ranges\":{},\"selected\":[],\"column_names\":[\"y\",\"x\"],\"discrete_ranges\":{},\"id\":\"0795a427-114e-435e-c308-c11046c55f4d\"},\"type\":\"ColumnDataSource\",\"id\":\"0795a427-114e-435e-c308-c11046c55f4d\"},{\"attributes\":{\"tags\":[],\"y\":{\"units\":\"data\",\"field\":\"y\"},\"x\":{\"units\":\"data\",\"field\":\"x\"},\"fill_color\":{\"value\":\"green\"},\"doc\":null,\"size\":{\"units\":\"screen\",\"value\":10},\"line_alpha\":{\"units\":\"data\",\"value\":1},\"line_color\":{\"value\":\"green\"},\"fill_alpha\":{\"units\":\"data\",\"value\":0.2},\"id\":\"5af79fb2-5827-4490-c4b0-ce75bc295303\"},\"type\":\"Line\",\"id\":\"5af79fb2-5827-4490-c4b0-ce75bc295303\"},{\"attributes\":{\"tags\":[],\"y\":{\"units\":\"data\",\"field\":\"y\"},\"x\":{\"units\":\"data\",\"field\":\"x\"},\"fill_color\":{\"value\":\"green\"},\"doc\":null,\"size\":{\"units\":\"screen\",\"value\":10},\"line_alpha\":{\"units\":\"data\",\"value\":1},\"line_color\":{\"value\":\"green\"},\"fill_alpha\":{\"units\":\"data\",\"value\":0.2},\"id\":\"70ceee90-9193-4cba-cc82-71798b9526b9\"},\"type\":\"Line\",\"id\":\"70ceee90-9193-4cba-cc82-71798b9526b9\"},{\"attributes\":{\"tags\":[],\"nonselection_glyph\":{\"type\":\"Line\",\"id\":\"70ceee90-9193-4cba-cc82-71798b9526b9\"},\"data_source\":{\"type\":\"ColumnDataSource\",\"id\":\"0795a427-114e-435e-c308-c11046c55f4d\"},\"server_data_source\":null,\"selection_glyph\":null,\"glyph\":{\"type\":\"Line\",\"id\":\"5af79fb2-5827-4490-c4b0-ce75bc295303\"},\"doc\":null,\"name\":null,\"id\":\"86589608-e8c1-4268-c229-b108b12b40f2\"},\"type\":\"GlyphRenderer\",\"id\":\"86589608-e8c1-4268-c229-b108b12b40f2\"},{\"attributes\":{\"tags\":[],\"doc\":null,\"sources\":[{\"columns\":[\"x\"],\"source\":{\"type\":\"ColumnDataSource\",\"id\":\"fb47c801-160f-4d36-cd40-49bc4b79e8ec\"}},{\"columns\":[\"x\"],\"source\":{\"type\":\"ColumnDataSource\",\"id\":\"d3de83c0-ff6a-4667-c65c-183463d2e6f7\"}},{\"columns\":[\"x\"],\"source\":{\"type\":\"ColumnDataSource\",\"id\":\"1cb90469-891a-436f-c33e-54a1608bc414\"}},{\"columns\":[\"x\"],\"source\":{\"type\":\"ColumnDataSource\",\"id\":\"0795a427-114e-435e-c308-c11046c55f4d\"}}],\"id\":\"bed14955-a7d5-4c70-cc0f-62a48435bcb0\"},\"type\":\"DataRange1d\",\"id\":\"bed14955-a7d5-4c70-cc0f-62a48435bcb0\"},{\"attributes\":{\"tags\":[],\"doc\":null,\"sources\":[{\"columns\":[\"y\"],\"source\":{\"type\":\"ColumnDataSource\",\"id\":\"fb47c801-160f-4d36-cd40-49bc4b79e8ec\"}},{\"columns\":[\"y\"],\"source\":{\"type\":\"ColumnDataSource\",\"id\":\"d3de83c0-ff6a-4667-c65c-183463d2e6f7\"}},{\"columns\":[\"y\"],\"source\":{\"type\":\"ColumnDataSource\",\"id\":\"1cb90469-891a-436f-c33e-54a1608bc414\"}},{\"columns\":[\"y\"],\"source\":{\"type\":\"ColumnDataSource\",\"id\":\"0795a427-114e-435e-c308-c11046c55f4d\"}}],\"id\":\"835d801f-6ad0-478a-c7bb-a18c82b483b8\"},\"type\":\"DataRange1d\",\"id\":\"835d801f-6ad0-478a-c7bb-a18c82b483b8\"},{\"attributes\":{\"tags\":[],\"doc\":null,\"geometries\":[],\"id\":\"f9b4f261-a12f-4d4d-cdb3-d97dcc2d733b\"},\"type\":\"ToolEvents\",\"id\":\"f9b4f261-a12f-4d4d-cdb3-d97dcc2d733b\"},{\"attributes\":{\"tags\":[],\"doc\":null,\"id\":\"0687df56-75ac-4098-c0d2-6c0dd823ecdb\"},\"type\":\"BasicTickFormatter\",\"id\":\"0687df56-75ac-4098-c0d2-6c0dd823ecdb\"},{\"attributes\":{\"tags\":[],\"doc\":null,\"num_minor_ticks\":5,\"id\":\"d105f946-bc19-44c8-c4cc-9a048ca0074f\"},\"type\":\"BasicTicker\",\"id\":\"d105f946-bc19-44c8-c4cc-9a048ca0074f\"},{\"attributes\":{\"tags\":[],\"doc\":null,\"ticker\":{\"type\":\"BasicTicker\",\"id\":\"d105f946-bc19-44c8-c4cc-9a048ca0074f\"},\"formatter\":{\"type\":\"BasicTickFormatter\",\"id\":\"0687df56-75ac-4098-c0d2-6c0dd823ecdb\"},\"plot\":{\"id\":\"8d4b9679-e66d-4276-c2a8-178fadaabea7\",\"type\":\"Plot\",\"subtype\":\"Figure\"},\"axis_label\":\"Scaled number of iterations\",\"id\":\"9352a6d0-bcbc-4f21-cf50-001a91e2369d\"},\"type\":\"LinearAxis\",\"id\":\"9352a6d0-bcbc-4f21-cf50-001a91e2369d\"},{\"attributes\":{\"tags\":[],\"doc\":null,\"ticker\":{\"type\":\"BasicTicker\",\"id\":\"d105f946-bc19-44c8-c4cc-9a048ca0074f\"},\"plot\":{\"id\":\"8d4b9679-e66d-4276-c2a8-178fadaabea7\",\"type\":\"Plot\",\"subtype\":\"Figure\"},\"dimension\":0,\"id\":\"3de01660-97cd-43a5-c310-fb97f654dd40\"},\"type\":\"Grid\",\"id\":\"3de01660-97cd-43a5-c310-fb97f654dd40\"},{\"attributes\":{\"tags\":[],\"doc\":null,\"id\":\"7928deb6-0a12-4a2f-ca3c-ae31a6584551\"},\"type\":\"BasicTickFormatter\",\"id\":\"7928deb6-0a12-4a2f-ca3c-ae31a6584551\"},{\"attributes\":{\"tags\":[],\"doc\":null,\"num_minor_ticks\":5,\"id\":\"05fa3aa9-38ed-4fc9-cfa6-622ebd418806\"},\"type\":\"BasicTicker\",\"id\":\"05fa3aa9-38ed-4fc9-cfa6-622ebd418806\"},{\"attributes\":{\"tags\":[],\"doc\":null,\"ticker\":{\"type\":\"BasicTicker\",\"id\":\"05fa3aa9-38ed-4fc9-cfa6-622ebd418806\"},\"formatter\":{\"type\":\"BasicTickFormatter\",\"id\":\"7928deb6-0a12-4a2f-ca3c-ae31a6584551\"},\"plot\":{\"id\":\"8d4b9679-e66d-4276-c2a8-178fadaabea7\",\"type\":\"Plot\",\"subtype\":\"Figure\"},\"axis_label\":\"Exploitability\",\"id\":\"487beff7-96e2-48de-c831-4f3982d1388b\"},\"type\":\"LinearAxis\",\"id\":\"487beff7-96e2-48de-c831-4f3982d1388b\"},{\"attributes\":{\"tags\":[],\"doc\":null,\"ticker\":{\"type\":\"BasicTicker\",\"id\":\"05fa3aa9-38ed-4fc9-cfa6-622ebd418806\"},\"plot\":{\"id\":\"8d4b9679-e66d-4276-c2a8-178fadaabea7\",\"type\":\"Plot\",\"subtype\":\"Figure\"},\"dimension\":1,\"id\":\"312ea5e4-7e47-435a-c3b1-150b5c3e4b92\"},\"type\":\"Grid\",\"id\":\"312ea5e4-7e47-435a-c3b1-150b5c3e4b92\"},{\"attributes\":{\"tags\":[],\"doc\":null,\"plot\":{\"id\":\"8d4b9679-e66d-4276-c2a8-178fadaabea7\",\"type\":\"Plot\",\"subtype\":\"Figure\"},\"dimensions\":[\"width\",\"height\"],\"id\":\"6259dd4a-eb52-4fa9-cfef-84cbcf4e9352\"},\"type\":\"PanTool\",\"id\":\"6259dd4a-eb52-4fa9-cfef-84cbcf4e9352\"},{\"attributes\":{\"tags\":[],\"doc\":null,\"plot\":{\"id\":\"8d4b9679-e66d-4276-c2a8-178fadaabea7\",\"type\":\"Plot\",\"subtype\":\"Figure\"},\"dimensions\":[\"width\",\"height\"],\"id\":\"190fb031-6e84-428b-c29c-01fb86a4a030\"},\"type\":\"WheelZoomTool\",\"id\":\"190fb031-6e84-428b-c29c-01fb86a4a030\"},{\"attributes\":{\"tags\":[],\"doc\":null,\"plot\":{\"id\":\"8d4b9679-e66d-4276-c2a8-178fadaabea7\",\"type\":\"Plot\",\"subtype\":\"Figure\"},\"id\":\"492b71ed-2465-4f32-cfcd-ded354929a15\"},\"type\":\"BoxZoomTool\",\"id\":\"492b71ed-2465-4f32-cfcd-ded354929a15\"},{\"attributes\":{\"tags\":[],\"doc\":null,\"plot\":{\"id\":\"8d4b9679-e66d-4276-c2a8-178fadaabea7\",\"type\":\"Plot\",\"subtype\":\"Figure\"},\"id\":\"ce1b6abe-52a8-4081-c02d-73446874f4f5\"},\"type\":\"PreviewSaveTool\",\"id\":\"ce1b6abe-52a8-4081-c02d-73446874f4f5\"},{\"attributes\":{\"tags\":[],\"doc\":null,\"plot\":{\"id\":\"8d4b9679-e66d-4276-c2a8-178fadaabea7\",\"type\":\"Plot\",\"subtype\":\"Figure\"},\"id\":\"7b2caf84-e898-46be-c658-61f6d419211a\"},\"type\":\"ResizeTool\",\"id\":\"7b2caf84-e898-46be-c658-61f6d419211a\"},{\"attributes\":{\"tags\":[],\"doc\":null,\"plot\":{\"id\":\"8d4b9679-e66d-4276-c2a8-178fadaabea7\",\"type\":\"Plot\",\"subtype\":\"Figure\"},\"id\":\"c9cbc761-5923-4e18-ce1e-b4b61694ee96\"},\"type\":\"ResetTool\",\"id\":\"c9cbc761-5923-4e18-ce1e-b4b61694ee96\"},{\"attributes\":{\"tags\":[],\"doc\":null,\"legends\":[[\"Original CFR in the paper\",[{\"type\":\"GlyphRenderer\",\"id\":\"6cd7a2f1-6ef2-4c60-ccd4-0a3a18dc0bf4\"}]],[\"No Warm start CFR\",[{\"type\":\"GlyphRenderer\",\"id\":\"b7bd3137-05d6-4237-c245-add50c9fa275\"}]],[\"Neural Net warm start CFR\",[{\"type\":\"GlyphRenderer\",\"id\":\"fa5aba2a-e04f-4d26-cde8-0597f1d49136\"}]],[\"Warm start with target values\",[{\"type\":\"GlyphRenderer\",\"id\":\"86589608-e8c1-4268-c229-b108b12b40f2\"}]]],\"plot\":{\"id\":\"8d4b9679-e66d-4276-c2a8-178fadaabea7\",\"type\":\"Plot\",\"subtype\":\"Figure\"},\"id\":\"96fe9310-4560-413d-c1fb-46220ba494a7\"},\"type\":\"Legend\",\"id\":\"96fe9310-4560-413d-c1fb-46220ba494a7\"},{\"attributes\":{\"tags\":[],\"extra_y_ranges\":{},\"left\":[{\"type\":\"LinearAxis\",\"id\":\"487beff7-96e2-48de-c831-4f3982d1388b\"}],\"tool_events\":{\"type\":\"ToolEvents\",\"id\":\"f9b4f261-a12f-4d4d-cdb3-d97dcc2d733b\"},\"tools\":[{\"type\":\"PanTool\",\"id\":\"6259dd4a-eb52-4fa9-cfef-84cbcf4e9352\"},{\"type\":\"WheelZoomTool\",\"id\":\"190fb031-6e84-428b-c29c-01fb86a4a030\"},{\"type\":\"BoxZoomTool\",\"id\":\"492b71ed-2465-4f32-cfcd-ded354929a15\"},{\"type\":\"PreviewSaveTool\",\"id\":\"ce1b6abe-52a8-4081-c02d-73446874f4f5\"},{\"type\":\"ResizeTool\",\"id\":\"7b2caf84-e898-46be-c658-61f6d419211a\"},{\"type\":\"ResetTool\",\"id\":\"c9cbc761-5923-4e18-ce1e-b4b61694ee96\"}],\"title\":\"Exploitability of different strategies, 800 iterations\",\"renderers\":[{\"type\":\"GlyphRenderer\",\"id\":\"6cd7a2f1-6ef2-4c60-ccd4-0a3a18dc0bf4\"},{\"type\":\"GlyphRenderer\",\"id\":\"b7bd3137-05d6-4237-c245-add50c9fa275\"},{\"type\":\"GlyphRenderer\",\"id\":\"fa5aba2a-e04f-4d26-cde8-0597f1d49136\"},{\"type\":\"GlyphRenderer\",\"id\":\"86589608-e8c1-4268-c229-b108b12b40f2\"},{\"type\":\"LinearAxis\",\"id\":\"9352a6d0-bcbc-4f21-cf50-001a91e2369d\"},{\"type\":\"Grid\",\"id\":\"3de01660-97cd-43a5-c310-fb97f654dd40\"},{\"type\":\"LinearAxis\",\"id\":\"487beff7-96e2-48de-c831-4f3982d1388b\"},{\"type\":\"Grid\",\"id\":\"312ea5e4-7e47-435a-c3b1-150b5c3e4b92\"},{\"type\":\"Legend\",\"id\":\"96fe9310-4560-413d-c1fb-46220ba494a7\"}],\"below\":[{\"type\":\"LinearAxis\",\"id\":\"9352a6d0-bcbc-4f21-cf50-001a91e2369d\"}],\"doc\":null,\"above\":[],\"right\":[],\"y_range\":{\"type\":\"DataRange1d\",\"id\":\"835d801f-6ad0-478a-c7bb-a18c82b483b8\"},\"x_range\":{\"type\":\"DataRange1d\",\"id\":\"bed14955-a7d5-4c70-cc0f-62a48435bcb0\"},\"extra_x_ranges\":{},\"id\":\"8d4b9679-e66d-4276-c2a8-178fadaabea7\"},\"type\":\"Plot\",\"id\":\"8d4b9679-e66d-4276-c2a8-178fadaabea7\"}];\n",
       "      Bokeh.load_models(all_models);\n",
       "      var model = Bokeh.Collections(modeltype).get(modelid);\n",
       "      $(\"#8959ebe1-132b-4a7b-ca18-991f6f1e6522\").html(''); // clear any previous plot in window_id\n",
       "      var view = new model.default_view({model: model, el: \"#8959ebe1-132b-4a7b-ca18-991f6f1e6522\"});\n",
       "  });\n",
       "    }\n",
       "});\n",
       "</script>\n",
       "<div class=\"plotdiv\" id=\"8959ebe1-132b-4a7b-ca18-991f6f1e6522\"></div>\n"
      ]
     },
     "metadata": {},
     "output_type": "display_data"
    }
   ],
   "source": [
    "local num_iter = torch.range(1,exploit_NoW:size(1))\n",
    "local plot = Plot()\n",
    "\n",
    "plot:line(num_iter,exploit_unif,'black' ,'Original CFR in the paper')\n",
    "plot:line(num_iter,exploit_NoW,'red' ,'No Warm start CFR')\n",
    "plot:line(num_iter,exploit_NNW,'blue' ,'Neural Net warm start CFR')\n",
    "plot:line(num_iter,exploit_TargW,'green' ,'Warm start with target values')\n",
    "plot:legend(true):title('Exploitability of different strategies, 800 iterations')\n",
    "plot:xaxis('Scaled number of iterations'):yaxis('Exploitability'):redraw()\n"
   ]
  },
  {
   "cell_type": "markdown",
   "metadata": {},
   "source": [
    "### Graphical Comparaison"
   ]
  },
  {
   "cell_type": "markdown",
   "metadata": {},
   "source": [
    "### 3. Comparaision with 2000 CFR2"
   ]
  },
  {
   "cell_type": "code",
   "execution_count": 20,
   "metadata": {
    "collapsed": true
   },
   "outputs": [],
   "source": [
    "--- Get Data from 2000 iterations\n",
    "tree802 = builder:build_tree(params)\n",
    "tree_data802 = TreeData(tree802)\n",
    "tree802_cfr = TreeCFR2()\n",
    "tree802_cfr:run_cfr(tree802, starting_ranges,number_of_iterations)\n",
    "tree_data802:get_training_set(tree802,1)"
   ]
  },
  {
   "cell_type": "code",
   "execution_count": 21,
   "metadata": {
    "collapsed": true
   },
   "outputs": [],
   "source": [
    "-- Building the neural net model\n",
    "strategy_nn2 = StrategyNN()\n",
    "nn_model2 = strategy_nn2.model\n",
    "-- Building trainer:\n",
    "nn_trainer2 = NNTrainer(tree_data802,nn_model2)\n",
    "-- Options:\n",
    "opt = {}\n",
    "opt.learningRate = 0.001\n",
    "opt.momentum = 0.95\n",
    "opt.validate = false"
   ]
  },
  {
   "cell_type": "code",
   "execution_count": 22,
   "metadata": {
    "collapsed": true
   },
   "outputs": [],
   "source": [
    "current_criterion2 = nn.SmoothL1Criterion()\n",
    "train_loss,test_loss = nn_trainer:train(nn_model2,current_criterion2,opt,10000)"
   ]
  },
  {
   "cell_type": "code",
   "execution_count": 23,
   "metadata": {
    "collapsed": true
   },
   "outputs": [],
   "source": [
    "--- No Warm Start\n",
    "treeNoWarm2 = builder:build_tree(params)\n",
    "treeNoWarm_cfr2 = TreeCFR2()\n",
    "treeNoWarm_cfr2:run_cfr(treeNoWarm2, starting_ranges,number_of_iterations)"
   ]
  },
  {
   "cell_type": "code",
   "execution_count": 24,
   "metadata": {
    "collapsed": true
   },
   "outputs": [],
   "source": [
    "--- NNWarm Starting\n",
    "treeNNWarm2 = builder:build_tree(params)\n",
    "dataNN2 = TreeData(treeNNWarm2)\n",
    "dataNN2:get_training_set(treeNNWarm2,1)\n",
    "dataNN2:generate_new_initial_strategies(treeNNWarm2,nn_trainer2)"
   ]
  },
  {
   "cell_type": "code",
   "execution_count": 25,
   "metadata": {
    "collapsed": true
   },
   "outputs": [],
   "source": [
    "--- NNWarm CFR Solver\n",
    "treeNNWarm_cfr2 = TreeCFR2()\n",
    "treeNNWarm_cfr2:run_cfr(treeNNWarm2, starting_ranges,number_of_iterations)"
   ]
  },
  {
   "cell_type": "code",
   "execution_count": 26,
   "metadata": {},
   "outputs": [
    {
     "ename": "[string \"--- Target Warm Starting...\"]:5: attempt to call method 'warm_start_from_targets' (a nil value)\nstack traceback:\n\t/usr/local/share/lua/5.2/itorch/main.lua:167: in function 'warm_start_from_targets'\n\t[string \"--- Target Warm Starting...\"]:5: in main chunk\n\t[C]: in function 'xpcall'\n\t/usr/local/share/lua/5.2/itorch/main.lua:210: in function </usr/local/share/lua/5.2/itorch/main.lua:174>\n\t(...tail calls...)\n\t/usr/local/share/lua/5.2/lzmq/poller.lua:75: in function 'poll'\n\t/usr/local/share/lua/5.2/lzmq/impl/loop.lua:307: in function 'poll'\n\t/usr/local/share/lua/5.2/lzmq/impl/loop.lua:325: in function 'sleep_ex'\n\t/usr/local/share/lua/5.2/lzmq/impl/loop.lua:370: in function 'start'\n\t/usr/local/share/lua/5.2/itorch/main.lua:389: in main chunk\n\t[C]: in function 'require'\n\t(command line):1: in main chunk\n\t[C]: in ?",
     "evalue": "",
     "output_type": "error",
     "traceback": [
      "[string \"--- Target Warm Starting...\"]:5: attempt to call method 'warm_start_from_targets' (a nil value)\nstack traceback:\n\t/usr/local/share/lua/5.2/itorch/main.lua:167: in function 'warm_start_from_targets'\n\t[string \"--- Target Warm Starting...\"]:5: in main chunk\n\t[C]: in function 'xpcall'\n\t/usr/local/share/lua/5.2/itorch/main.lua:210: in function </usr/local/share/lua/5.2/itorch/main.lua:174>\n\t(...tail calls...)\n\t/usr/local/share/lua/5.2/lzmq/poller.lua:75: in function 'poll'\n\t/usr/local/share/lua/5.2/lzmq/impl/loop.lua:307: in function 'poll'\n\t/usr/local/share/lua/5.2/lzmq/impl/loop.lua:325: in function 'sleep_ex'\n\t/usr/local/share/lua/5.2/lzmq/impl/loop.lua:370: in function 'start'\n\t/usr/local/share/lua/5.2/itorch/main.lua:389: in main chunk\n\t[C]: in function 'require'\n\t(command line):1: in main chunk\n\t[C]: in ?"
     ]
    }
   ],
   "source": [
    "--- Target Warm Starting\n",
    "treeTargWarm2 = builder:build_tree(params)\n",
    "dataTarg2 = TreeData(treeTargWarm2)\n",
    "dataTarg2:get_training_set(treeTargWarm2,1)\n",
    "dataTarg2:warm_start_from_targets(treeTargWarm2,tree802)"
   ]
  },
  {
   "cell_type": "code",
   "execution_count": 27,
   "metadata": {
    "collapsed": true
   },
   "outputs": [],
   "source": [
    "--- Building CFR Solver\n",
    "treeTargWarm_cfr2 = TreeCFR2()\n",
    "treeTargWarm_cfr2:run_cfr(treeTargWarm2, starting_ranges,number_of_iterations)"
   ]
  },
  {
   "cell_type": "code",
   "execution_count": 28,
   "metadata": {
    "collapsed": true
   },
   "outputs": [],
   "source": [
    "exploit_unif2 = tree802_cfr.exploitability_vec\n",
    "exploit_NoW2 = treeNoWarm_cfr2.exploitability_vec\n",
    "exploit_NNW2 = treeNNWarm_cfr2.exploitability_vec\n",
    "exploit_TargW2 = treeTargWarm_cfr2.exploitability_vec"
   ]
  },
  {
   "cell_type": "code",
   "execution_count": 29,
   "metadata": {},
   "outputs": [
    {
     "data": {
      "text/html": [
       "<script type=\"text/javascript\">\n",
       "$(function() {\n",
       "    if (typeof (window._bokeh_onload_callbacks) === \"undefined\"){\n",
       "  window._bokeh_onload_callbacks = [];\n",
       "    }\n",
       "    function load_lib(url, callback){\n",
       "  window._bokeh_onload_callbacks.push(callback);\n",
       "  if (window._bokeh_is_loading){\n",
       "      console.log(\"Bokeh: BokehJS is being loaded, scheduling callback at\", new Date());\n",
       "      return null;\n",
       "  }\n",
       "  console.log(\"Bokeh: BokehJS not loaded, scheduling load and callback at\", new Date());\n",
       "  window._bokeh_is_loading = true;\n",
       "  var s = document.createElement('script');\n",
       "  s.src = url;\n",
       "  s.async = true;\n",
       "  s.onreadystatechange = s.onload = function(){\n",
       "      Bokeh.embed.inject_css(\"https://cdn.pydata.org/bokeh-0.7.0.min.css\");\n",
       "      window._bokeh_onload_callbacks.forEach(function(callback){callback()});\n",
       "  };\n",
       "  s.onerror = function(){\n",
       "      console.warn(\"failed to load library \" + url);\n",
       "  };\n",
       "  document.getElementsByTagName(\"head\")[0].appendChild(s);\n",
       "    }\n",
       "\n",
       "    bokehjs_url = \"https://cdn.pydata.org/bokeh-0.7.0.min.js\"\n",
       "\n",
       "    var elt = document.getElementById(\"5699ae76-798e-45c5-c572-e991434bc40f\");\n",
       "    if(elt==null) {\n",
       "  console.log(\"Bokeh: ERROR: autoload.js configured with elementid '5699ae76-798e-45c5-c572-e991434bc40f'\"\n",
       "        + \"but no matching script tag was found. \")\n",
       "  return false;\n",
       "    }\n",
       "\n",
       "    if(typeof(Bokeh) !== \"undefined\") {\n",
       "  console.log(\"Bokeh: BokehJS loaded, going straight to plotting\");\n",
       "  var modelid = \"2ea2c7b2-093e-4ad4-caa5-f6bae85592f7\";\n",
       "  var modeltype = \"Plot\";\n",
       "  var all_models = [{\"attributes\":{\"tags\":[],\"doc\":null,\"data\":{\"y\":[164.95370483398,164.95370483398,4.6617827415466,1.2012395858765,1.0567245483398,0.81769704818726,0.6415548324585,0.65268087387085,0.55257940292358,0.53331995010376,0.46295833587646,0.4601583480835,0.43121957778931,0.40767383575439,0.40735721588135],\"x\":[1,2,3,4,5,6,7,8,9,10,11,12,13,14,15]},\"cont_ranges\":{},\"selected\":[],\"column_names\":[\"y\",\"x\"],\"discrete_ranges\":{},\"id\":\"f697a406-7f8d-4f4a-cf7f-714ded0151c0\"},\"type\":\"ColumnDataSource\",\"id\":\"f697a406-7f8d-4f4a-cf7f-714ded0151c0\"},{\"attributes\":{\"tags\":[],\"y\":{\"units\":\"data\",\"field\":\"y\"},\"x\":{\"units\":\"data\",\"field\":\"x\"},\"fill_color\":{\"value\":\"black\"},\"doc\":null,\"size\":{\"units\":\"screen\",\"value\":10},\"line_alpha\":{\"units\":\"data\",\"value\":1},\"line_color\":{\"value\":\"black\"},\"fill_alpha\":{\"units\":\"data\",\"value\":0.2},\"id\":\"fb6d1801-de73-4970-c9ac-058d5068c87e\"},\"type\":\"Line\",\"id\":\"fb6d1801-de73-4970-c9ac-058d5068c87e\"},{\"attributes\":{\"tags\":[],\"y\":{\"units\":\"data\",\"field\":\"y\"},\"x\":{\"units\":\"data\",\"field\":\"x\"},\"fill_color\":{\"value\":\"black\"},\"doc\":null,\"size\":{\"units\":\"screen\",\"value\":10},\"line_alpha\":{\"units\":\"data\",\"value\":1},\"line_color\":{\"value\":\"black\"},\"fill_alpha\":{\"units\":\"data\",\"value\":0.2},\"id\":\"8a4b8edd-5f55-46dd-c61c-460394de9e17\"},\"type\":\"Line\",\"id\":\"8a4b8edd-5f55-46dd-c61c-460394de9e17\"},{\"attributes\":{\"tags\":[],\"nonselection_glyph\":{\"type\":\"Line\",\"id\":\"8a4b8edd-5f55-46dd-c61c-460394de9e17\"},\"data_source\":{\"type\":\"ColumnDataSource\",\"id\":\"f697a406-7f8d-4f4a-cf7f-714ded0151c0\"},\"server_data_source\":null,\"selection_glyph\":null,\"glyph\":{\"type\":\"Line\",\"id\":\"fb6d1801-de73-4970-c9ac-058d5068c87e\"},\"doc\":null,\"name\":null,\"id\":\"cde8fac2-35d9-4cfe-cc58-c53b8e8c5016\"},\"type\":\"GlyphRenderer\",\"id\":\"cde8fac2-35d9-4cfe-cc58-c53b8e8c5016\"},{\"attributes\":{\"tags\":[],\"doc\":null,\"data\":{\"y\":[164.95370483398,164.95370483398,4.6617827415466,1.2012395858765,1.0567245483398,0.81769704818726,0.6415548324585,0.65268087387085,0.55257940292358,0.53331995010376,0.46295833587646,0.4601583480835,0.43121957778931,0.40767383575439,0.40735721588135],\"x\":[1,2,3,4,5,6,7,8,9,10,11,12,13,14,15]},\"cont_ranges\":{},\"selected\":[],\"column_names\":[\"y\",\"x\"],\"discrete_ranges\":{},\"id\":\"8e3266ee-227e-495c-c9c1-5fae1c71ec8d\"},\"type\":\"ColumnDataSource\",\"id\":\"8e3266ee-227e-495c-c9c1-5fae1c71ec8d\"},{\"attributes\":{\"tags\":[],\"y\":{\"units\":\"data\",\"field\":\"y\"},\"x\":{\"units\":\"data\",\"field\":\"x\"},\"fill_color\":{\"value\":\"red\"},\"doc\":null,\"size\":{\"units\":\"screen\",\"value\":10},\"line_alpha\":{\"units\":\"data\",\"value\":1},\"line_color\":{\"value\":\"red\"},\"fill_alpha\":{\"units\":\"data\",\"value\":0.2},\"id\":\"ecb8aab3-06c8-42db-c2ca-1e76c0810183\"},\"type\":\"Line\",\"id\":\"ecb8aab3-06c8-42db-c2ca-1e76c0810183\"},{\"attributes\":{\"tags\":[],\"y\":{\"units\":\"data\",\"field\":\"y\"},\"x\":{\"units\":\"data\",\"field\":\"x\"},\"fill_color\":{\"value\":\"red\"},\"doc\":null,\"size\":{\"units\":\"screen\",\"value\":10},\"line_alpha\":{\"units\":\"data\",\"value\":1},\"line_color\":{\"value\":\"red\"},\"fill_alpha\":{\"units\":\"data\",\"value\":0.2},\"id\":\"9b04476f-2fef-4dc7-cd7e-1214a0f109b5\"},\"type\":\"Line\",\"id\":\"9b04476f-2fef-4dc7-cd7e-1214a0f109b5\"},{\"attributes\":{\"tags\":[],\"nonselection_glyph\":{\"type\":\"Line\",\"id\":\"9b04476f-2fef-4dc7-cd7e-1214a0f109b5\"},\"data_source\":{\"type\":\"ColumnDataSource\",\"id\":\"8e3266ee-227e-495c-c9c1-5fae1c71ec8d\"},\"server_data_source\":null,\"selection_glyph\":null,\"glyph\":{\"type\":\"Line\",\"id\":\"ecb8aab3-06c8-42db-c2ca-1e76c0810183\"},\"doc\":null,\"name\":null,\"id\":\"6e826614-445d-4f5f-cf2c-7b1812f44263\"},\"type\":\"GlyphRenderer\",\"id\":\"6e826614-445d-4f5f-cf2c-7b1812f44263\"},{\"attributes\":{\"tags\":[],\"doc\":null,\"data\":{\"y\":[161.37551879883,161.37551879883,9.4831285476685,1.331335067749,0.93647003173828,0.75207567214966,0.67797756195068,0.66294193267822,0.55876159667969,0.50382852554321,0.5130934715271,0.51183843612671,0.48243761062622,0.45122241973877,0.43930673599243],\"x\":[1,2,3,4,5,6,7,8,9,10,11,12,13,14,15]},\"cont_ranges\":{},\"selected\":[],\"column_names\":[\"y\",\"x\"],\"discrete_ranges\":{},\"id\":\"319cfc32-9374-4b5d-cbc3-581876b1f638\"},\"type\":\"ColumnDataSource\",\"id\":\"319cfc32-9374-4b5d-cbc3-581876b1f638\"},{\"attributes\":{\"tags\":[],\"y\":{\"units\":\"data\",\"field\":\"y\"},\"x\":{\"units\":\"data\",\"field\":\"x\"},\"fill_color\":{\"value\":\"blue\"},\"doc\":null,\"size\":{\"units\":\"screen\",\"value\":10},\"line_alpha\":{\"units\":\"data\",\"value\":1},\"line_color\":{\"value\":\"blue\"},\"fill_alpha\":{\"units\":\"data\",\"value\":0.2},\"id\":\"a52de7cf-d93f-4291-c243-8372e60d5fe9\"},\"type\":\"Line\",\"id\":\"a52de7cf-d93f-4291-c243-8372e60d5fe9\"},{\"attributes\":{\"tags\":[],\"y\":{\"units\":\"data\",\"field\":\"y\"},\"x\":{\"units\":\"data\",\"field\":\"x\"},\"fill_color\":{\"value\":\"blue\"},\"doc\":null,\"size\":{\"units\":\"screen\",\"value\":10},\"line_alpha\":{\"units\":\"data\",\"value\":1},\"line_color\":{\"value\":\"blue\"},\"fill_alpha\":{\"units\":\"data\",\"value\":0.2},\"id\":\"87a108f9-105a-4ad9-caf6-74db04ded801\"},\"type\":\"Line\",\"id\":\"87a108f9-105a-4ad9-caf6-74db04ded801\"},{\"attributes\":{\"tags\":[],\"nonselection_glyph\":{\"type\":\"Line\",\"id\":\"87a108f9-105a-4ad9-caf6-74db04ded801\"},\"data_source\":{\"type\":\"ColumnDataSource\",\"id\":\"319cfc32-9374-4b5d-cbc3-581876b1f638\"},\"server_data_source\":null,\"selection_glyph\":null,\"glyph\":{\"type\":\"Line\",\"id\":\"a52de7cf-d93f-4291-c243-8372e60d5fe9\"},\"doc\":null,\"name\":null,\"id\":\"1a5a02a0-a8be-4341-c37c-0a24c07de74b\"},\"type\":\"GlyphRenderer\",\"id\":\"1a5a02a0-a8be-4341-c37c-0a24c07de74b\"},{\"attributes\":{\"tags\":[],\"doc\":null,\"data\":{\"y\":[164.95370483398,164.95370483398,4.6617827415466,1.2012395858765,1.0567245483398,0.81769704818726,0.6415548324585,0.65268087387085,0.55257940292358,0.53331995010376,0.46295833587646,0.4601583480835,0.43121957778931,0.40767383575439,0.40735721588135],\"x\":[1,2,3,4,5,6,7,8,9,10,11,12,13,14,15]},\"cont_ranges\":{},\"selected\":[],\"column_names\":[\"y\",\"x\"],\"discrete_ranges\":{},\"id\":\"dff71c92-23b8-43c6-c3bb-b469d2d0d786\"},\"type\":\"ColumnDataSource\",\"id\":\"dff71c92-23b8-43c6-c3bb-b469d2d0d786\"},{\"attributes\":{\"tags\":[],\"y\":{\"units\":\"data\",\"field\":\"y\"},\"x\":{\"units\":\"data\",\"field\":\"x\"},\"fill_color\":{\"value\":\"green\"},\"doc\":null,\"size\":{\"units\":\"screen\",\"value\":10},\"line_alpha\":{\"units\":\"data\",\"value\":1},\"line_color\":{\"value\":\"green\"},\"fill_alpha\":{\"units\":\"data\",\"value\":0.2},\"id\":\"669671bc-bd45-45bd-c56c-69d8091de3af\"},\"type\":\"Line\",\"id\":\"669671bc-bd45-45bd-c56c-69d8091de3af\"},{\"attributes\":{\"tags\":[],\"y\":{\"units\":\"data\",\"field\":\"y\"},\"x\":{\"units\":\"data\",\"field\":\"x\"},\"fill_color\":{\"value\":\"green\"},\"doc\":null,\"size\":{\"units\":\"screen\",\"value\":10},\"line_alpha\":{\"units\":\"data\",\"value\":1},\"line_color\":{\"value\":\"green\"},\"fill_alpha\":{\"units\":\"data\",\"value\":0.2},\"id\":\"6949dd3f-b3a9-4b04-cb7b-532083676c7b\"},\"type\":\"Line\",\"id\":\"6949dd3f-b3a9-4b04-cb7b-532083676c7b\"},{\"attributes\":{\"tags\":[],\"nonselection_glyph\":{\"type\":\"Line\",\"id\":\"6949dd3f-b3a9-4b04-cb7b-532083676c7b\"},\"data_source\":{\"type\":\"ColumnDataSource\",\"id\":\"dff71c92-23b8-43c6-c3bb-b469d2d0d786\"},\"server_data_source\":null,\"selection_glyph\":null,\"glyph\":{\"type\":\"Line\",\"id\":\"669671bc-bd45-45bd-c56c-69d8091de3af\"},\"doc\":null,\"name\":null,\"id\":\"ca55da0c-0066-4e9b-ce6d-5c6dcc197b79\"},\"type\":\"GlyphRenderer\",\"id\":\"ca55da0c-0066-4e9b-ce6d-5c6dcc197b79\"},{\"attributes\":{\"tags\":[],\"doc\":null,\"sources\":[{\"columns\":[\"x\"],\"source\":{\"type\":\"ColumnDataSource\",\"id\":\"f697a406-7f8d-4f4a-cf7f-714ded0151c0\"}},{\"columns\":[\"x\"],\"source\":{\"type\":\"ColumnDataSource\",\"id\":\"8e3266ee-227e-495c-c9c1-5fae1c71ec8d\"}},{\"columns\":[\"x\"],\"source\":{\"type\":\"ColumnDataSource\",\"id\":\"319cfc32-9374-4b5d-cbc3-581876b1f638\"}},{\"columns\":[\"x\"],\"source\":{\"type\":\"ColumnDataSource\",\"id\":\"dff71c92-23b8-43c6-c3bb-b469d2d0d786\"}}],\"id\":\"79910314-5361-4da2-cd31-6f0f9c97dde2\"},\"type\":\"DataRange1d\",\"id\":\"79910314-5361-4da2-cd31-6f0f9c97dde2\"},{\"attributes\":{\"tags\":[],\"doc\":null,\"sources\":[{\"columns\":[\"y\"],\"source\":{\"type\":\"ColumnDataSource\",\"id\":\"f697a406-7f8d-4f4a-cf7f-714ded0151c0\"}},{\"columns\":[\"y\"],\"source\":{\"type\":\"ColumnDataSource\",\"id\":\"8e3266ee-227e-495c-c9c1-5fae1c71ec8d\"}},{\"columns\":[\"y\"],\"source\":{\"type\":\"ColumnDataSource\",\"id\":\"319cfc32-9374-4b5d-cbc3-581876b1f638\"}},{\"columns\":[\"y\"],\"source\":{\"type\":\"ColumnDataSource\",\"id\":\"dff71c92-23b8-43c6-c3bb-b469d2d0d786\"}}],\"id\":\"ccd00dcb-1624-4837-c84f-c69b3bf88de2\"},\"type\":\"DataRange1d\",\"id\":\"ccd00dcb-1624-4837-c84f-c69b3bf88de2\"},{\"attributes\":{\"tags\":[],\"doc\":null,\"geometries\":[],\"id\":\"90c2a238-396a-4f1a-cf70-edc81ec6d30c\"},\"type\":\"ToolEvents\",\"id\":\"90c2a238-396a-4f1a-cf70-edc81ec6d30c\"},{\"attributes\":{\"tags\":[],\"doc\":null,\"id\":\"f5d02d8f-1f13-4a44-ca94-faa314ea24c3\"},\"type\":\"BasicTickFormatter\",\"id\":\"f5d02d8f-1f13-4a44-ca94-faa314ea24c3\"},{\"attributes\":{\"tags\":[],\"doc\":null,\"num_minor_ticks\":5,\"id\":\"de8269f4-22c7-4cf4-cc8d-43e9c4691774\"},\"type\":\"BasicTicker\",\"id\":\"de8269f4-22c7-4cf4-cc8d-43e9c4691774\"},{\"attributes\":{\"tags\":[],\"doc\":null,\"ticker\":{\"type\":\"BasicTicker\",\"id\":\"de8269f4-22c7-4cf4-cc8d-43e9c4691774\"},\"formatter\":{\"type\":\"BasicTickFormatter\",\"id\":\"f5d02d8f-1f13-4a44-ca94-faa314ea24c3\"},\"plot\":{\"id\":\"2ea2c7b2-093e-4ad4-caa5-f6bae85592f7\",\"type\":\"Plot\",\"subtype\":\"Figure\"},\"axis_label\":\"Scaled number of iterations\",\"id\":\"6cbba5ca-aa9f-4b8c-cbaf-3cbf02985ed3\"},\"type\":\"LinearAxis\",\"id\":\"6cbba5ca-aa9f-4b8c-cbaf-3cbf02985ed3\"},{\"attributes\":{\"tags\":[],\"doc\":null,\"ticker\":{\"type\":\"BasicTicker\",\"id\":\"de8269f4-22c7-4cf4-cc8d-43e9c4691774\"},\"plot\":{\"id\":\"2ea2c7b2-093e-4ad4-caa5-f6bae85592f7\",\"type\":\"Plot\",\"subtype\":\"Figure\"},\"dimension\":0,\"id\":\"2f35aae6-9d4e-4853-c877-212435d1da46\"},\"type\":\"Grid\",\"id\":\"2f35aae6-9d4e-4853-c877-212435d1da46\"},{\"attributes\":{\"tags\":[],\"doc\":null,\"id\":\"c9dfafc9-be3b-4791-c7eb-fbfae9d0b2dd\"},\"type\":\"BasicTickFormatter\",\"id\":\"c9dfafc9-be3b-4791-c7eb-fbfae9d0b2dd\"},{\"attributes\":{\"tags\":[],\"doc\":null,\"num_minor_ticks\":5,\"id\":\"6be908a1-7ed4-4490-c4c7-008649a1cf10\"},\"type\":\"BasicTicker\",\"id\":\"6be908a1-7ed4-4490-c4c7-008649a1cf10\"},{\"attributes\":{\"tags\":[],\"doc\":null,\"ticker\":{\"type\":\"BasicTicker\",\"id\":\"6be908a1-7ed4-4490-c4c7-008649a1cf10\"},\"formatter\":{\"type\":\"BasicTickFormatter\",\"id\":\"c9dfafc9-be3b-4791-c7eb-fbfae9d0b2dd\"},\"plot\":{\"id\":\"2ea2c7b2-093e-4ad4-caa5-f6bae85592f7\",\"type\":\"Plot\",\"subtype\":\"Figure\"},\"axis_label\":\"Exploitability\",\"id\":\"ce698aaa-805b-4282-c2a0-ecf37a6e870c\"},\"type\":\"LinearAxis\",\"id\":\"ce698aaa-805b-4282-c2a0-ecf37a6e870c\"},{\"attributes\":{\"tags\":[],\"doc\":null,\"ticker\":{\"type\":\"BasicTicker\",\"id\":\"6be908a1-7ed4-4490-c4c7-008649a1cf10\"},\"plot\":{\"id\":\"2ea2c7b2-093e-4ad4-caa5-f6bae85592f7\",\"type\":\"Plot\",\"subtype\":\"Figure\"},\"dimension\":1,\"id\":\"20b64522-c2c9-4873-c836-577492cdeb29\"},\"type\":\"Grid\",\"id\":\"20b64522-c2c9-4873-c836-577492cdeb29\"},{\"attributes\":{\"tags\":[],\"doc\":null,\"plot\":{\"id\":\"2ea2c7b2-093e-4ad4-caa5-f6bae85592f7\",\"type\":\"Plot\",\"subtype\":\"Figure\"},\"dimensions\":[\"width\",\"height\"],\"id\":\"92fe1663-a657-4035-c0d0-a36f0c483a5d\"},\"type\":\"PanTool\",\"id\":\"92fe1663-a657-4035-c0d0-a36f0c483a5d\"},{\"attributes\":{\"tags\":[],\"doc\":null,\"plot\":{\"id\":\"2ea2c7b2-093e-4ad4-caa5-f6bae85592f7\",\"type\":\"Plot\",\"subtype\":\"Figure\"},\"dimensions\":[\"width\",\"height\"],\"id\":\"4d832f56-3fd6-4b89-cb62-fc152a1c2e44\"},\"type\":\"WheelZoomTool\",\"id\":\"4d832f56-3fd6-4b89-cb62-fc152a1c2e44\"},{\"attributes\":{\"tags\":[],\"doc\":null,\"plot\":{\"id\":\"2ea2c7b2-093e-4ad4-caa5-f6bae85592f7\",\"type\":\"Plot\",\"subtype\":\"Figure\"},\"id\":\"e38ec0e6-48e6-493d-c9cf-cfd41e6eedbd\"},\"type\":\"BoxZoomTool\",\"id\":\"e38ec0e6-48e6-493d-c9cf-cfd41e6eedbd\"},{\"attributes\":{\"tags\":[],\"doc\":null,\"plot\":{\"id\":\"2ea2c7b2-093e-4ad4-caa5-f6bae85592f7\",\"type\":\"Plot\",\"subtype\":\"Figure\"},\"id\":\"c3385696-94de-41ae-c172-fe2eb191cd70\"},\"type\":\"PreviewSaveTool\",\"id\":\"c3385696-94de-41ae-c172-fe2eb191cd70\"},{\"attributes\":{\"tags\":[],\"doc\":null,\"plot\":{\"id\":\"2ea2c7b2-093e-4ad4-caa5-f6bae85592f7\",\"type\":\"Plot\",\"subtype\":\"Figure\"},\"id\":\"4577716c-cb55-47ea-c722-c72553f38a62\"},\"type\":\"ResizeTool\",\"id\":\"4577716c-cb55-47ea-c722-c72553f38a62\"},{\"attributes\":{\"tags\":[],\"doc\":null,\"plot\":{\"id\":\"2ea2c7b2-093e-4ad4-caa5-f6bae85592f7\",\"type\":\"Plot\",\"subtype\":\"Figure\"},\"id\":\"22ec61ba-288d-4cdd-cc31-2bdd6239ceeb\"},\"type\":\"ResetTool\",\"id\":\"22ec61ba-288d-4cdd-cc31-2bdd6239ceeb\"},{\"attributes\":{\"tags\":[],\"doc\":null,\"legends\":[[\"Original CFR in the paper\",[{\"type\":\"GlyphRenderer\",\"id\":\"cde8fac2-35d9-4cfe-cc58-c53b8e8c5016\"}]],[\"No Warm start CFR\",[{\"type\":\"GlyphRenderer\",\"id\":\"6e826614-445d-4f5f-cf2c-7b1812f44263\"}]],[\"Neural Net warm start CFR\",[{\"type\":\"GlyphRenderer\",\"id\":\"1a5a02a0-a8be-4341-c37c-0a24c07de74b\"}]],[\"Warm start with target values\",[{\"type\":\"GlyphRenderer\",\"id\":\"ca55da0c-0066-4e9b-ce6d-5c6dcc197b79\"}]]],\"plot\":{\"id\":\"2ea2c7b2-093e-4ad4-caa5-f6bae85592f7\",\"type\":\"Plot\",\"subtype\":\"Figure\"},\"id\":\"158c4247-e7cb-464a-c638-62eec5083a88\"},\"type\":\"Legend\",\"id\":\"158c4247-e7cb-464a-c638-62eec5083a88\"},{\"attributes\":{\"tags\":[],\"extra_y_ranges\":{},\"left\":[{\"type\":\"LinearAxis\",\"id\":\"ce698aaa-805b-4282-c2a0-ecf37a6e870c\"}],\"tool_events\":{\"type\":\"ToolEvents\",\"id\":\"90c2a238-396a-4f1a-cf70-edc81ec6d30c\"},\"tools\":[{\"type\":\"PanTool\",\"id\":\"92fe1663-a657-4035-c0d0-a36f0c483a5d\"},{\"type\":\"WheelZoomTool\",\"id\":\"4d832f56-3fd6-4b89-cb62-fc152a1c2e44\"},{\"type\":\"BoxZoomTool\",\"id\":\"e38ec0e6-48e6-493d-c9cf-cfd41e6eedbd\"},{\"type\":\"PreviewSaveTool\",\"id\":\"c3385696-94de-41ae-c172-fe2eb191cd70\"},{\"type\":\"ResizeTool\",\"id\":\"4577716c-cb55-47ea-c722-c72553f38a62\"},{\"type\":\"ResetTool\",\"id\":\"22ec61ba-288d-4cdd-cc31-2bdd6239ceeb\"}],\"title\":\"Exploitability of different strategoes\",\"renderers\":[{\"type\":\"GlyphRenderer\",\"id\":\"cde8fac2-35d9-4cfe-cc58-c53b8e8c5016\"},{\"type\":\"GlyphRenderer\",\"id\":\"6e826614-445d-4f5f-cf2c-7b1812f44263\"},{\"type\":\"GlyphRenderer\",\"id\":\"1a5a02a0-a8be-4341-c37c-0a24c07de74b\"},{\"type\":\"GlyphRenderer\",\"id\":\"ca55da0c-0066-4e9b-ce6d-5c6dcc197b79\"},{\"type\":\"LinearAxis\",\"id\":\"6cbba5ca-aa9f-4b8c-cbaf-3cbf02985ed3\"},{\"type\":\"Grid\",\"id\":\"2f35aae6-9d4e-4853-c877-212435d1da46\"},{\"type\":\"LinearAxis\",\"id\":\"ce698aaa-805b-4282-c2a0-ecf37a6e870c\"},{\"type\":\"Grid\",\"id\":\"20b64522-c2c9-4873-c836-577492cdeb29\"},{\"type\":\"Legend\",\"id\":\"158c4247-e7cb-464a-c638-62eec5083a88\"}],\"below\":[{\"type\":\"LinearAxis\",\"id\":\"6cbba5ca-aa9f-4b8c-cbaf-3cbf02985ed3\"}],\"doc\":null,\"above\":[],\"right\":[],\"y_range\":{\"type\":\"DataRange1d\",\"id\":\"ccd00dcb-1624-4837-c84f-c69b3bf88de2\"},\"x_range\":{\"type\":\"DataRange1d\",\"id\":\"79910314-5361-4da2-cd31-6f0f9c97dde2\"},\"extra_x_ranges\":{},\"id\":\"2ea2c7b2-093e-4ad4-caa5-f6bae85592f7\"},\"type\":\"Plot\",\"id\":\"2ea2c7b2-093e-4ad4-caa5-f6bae85592f7\"}];\n",
       "  Bokeh.load_models(all_models);\n",
       "  var model = Bokeh.Collections(modeltype).get(modelid);\n",
       "  $(\"#5699ae76-798e-45c5-c572-e991434bc40f\").html(''); // clear any previous plot in window_id\n",
       "  var view = new model.default_view({model: model, el: \"#5699ae76-798e-45c5-c572-e991434bc40f\"});\n",
       "    } else {\n",
       "  load_lib(bokehjs_url, function() {\n",
       "      console.log(\"Bokeh: BokehJS plotting callback run at\", new Date())\n",
       "      var modelid = \"2ea2c7b2-093e-4ad4-caa5-f6bae85592f7\";\n",
       "      var modeltype = \"Plot\";\n",
       "      var all_models = [{\"attributes\":{\"tags\":[],\"doc\":null,\"data\":{\"y\":[164.95370483398,164.95370483398,4.6617827415466,1.2012395858765,1.0567245483398,0.81769704818726,0.6415548324585,0.65268087387085,0.55257940292358,0.53331995010376,0.46295833587646,0.4601583480835,0.43121957778931,0.40767383575439,0.40735721588135],\"x\":[1,2,3,4,5,6,7,8,9,10,11,12,13,14,15]},\"cont_ranges\":{},\"selected\":[],\"column_names\":[\"y\",\"x\"],\"discrete_ranges\":{},\"id\":\"f697a406-7f8d-4f4a-cf7f-714ded0151c0\"},\"type\":\"ColumnDataSource\",\"id\":\"f697a406-7f8d-4f4a-cf7f-714ded0151c0\"},{\"attributes\":{\"tags\":[],\"y\":{\"units\":\"data\",\"field\":\"y\"},\"x\":{\"units\":\"data\",\"field\":\"x\"},\"fill_color\":{\"value\":\"black\"},\"doc\":null,\"size\":{\"units\":\"screen\",\"value\":10},\"line_alpha\":{\"units\":\"data\",\"value\":1},\"line_color\":{\"value\":\"black\"},\"fill_alpha\":{\"units\":\"data\",\"value\":0.2},\"id\":\"fb6d1801-de73-4970-c9ac-058d5068c87e\"},\"type\":\"Line\",\"id\":\"fb6d1801-de73-4970-c9ac-058d5068c87e\"},{\"attributes\":{\"tags\":[],\"y\":{\"units\":\"data\",\"field\":\"y\"},\"x\":{\"units\":\"data\",\"field\":\"x\"},\"fill_color\":{\"value\":\"black\"},\"doc\":null,\"size\":{\"units\":\"screen\",\"value\":10},\"line_alpha\":{\"units\":\"data\",\"value\":1},\"line_color\":{\"value\":\"black\"},\"fill_alpha\":{\"units\":\"data\",\"value\":0.2},\"id\":\"8a4b8edd-5f55-46dd-c61c-460394de9e17\"},\"type\":\"Line\",\"id\":\"8a4b8edd-5f55-46dd-c61c-460394de9e17\"},{\"attributes\":{\"tags\":[],\"nonselection_glyph\":{\"type\":\"Line\",\"id\":\"8a4b8edd-5f55-46dd-c61c-460394de9e17\"},\"data_source\":{\"type\":\"ColumnDataSource\",\"id\":\"f697a406-7f8d-4f4a-cf7f-714ded0151c0\"},\"server_data_source\":null,\"selection_glyph\":null,\"glyph\":{\"type\":\"Line\",\"id\":\"fb6d1801-de73-4970-c9ac-058d5068c87e\"},\"doc\":null,\"name\":null,\"id\":\"cde8fac2-35d9-4cfe-cc58-c53b8e8c5016\"},\"type\":\"GlyphRenderer\",\"id\":\"cde8fac2-35d9-4cfe-cc58-c53b8e8c5016\"},{\"attributes\":{\"tags\":[],\"doc\":null,\"data\":{\"y\":[164.95370483398,164.95370483398,4.6617827415466,1.2012395858765,1.0567245483398,0.81769704818726,0.6415548324585,0.65268087387085,0.55257940292358,0.53331995010376,0.46295833587646,0.4601583480835,0.43121957778931,0.40767383575439,0.40735721588135],\"x\":[1,2,3,4,5,6,7,8,9,10,11,12,13,14,15]},\"cont_ranges\":{},\"selected\":[],\"column_names\":[\"y\",\"x\"],\"discrete_ranges\":{},\"id\":\"8e3266ee-227e-495c-c9c1-5fae1c71ec8d\"},\"type\":\"ColumnDataSource\",\"id\":\"8e3266ee-227e-495c-c9c1-5fae1c71ec8d\"},{\"attributes\":{\"tags\":[],\"y\":{\"units\":\"data\",\"field\":\"y\"},\"x\":{\"units\":\"data\",\"field\":\"x\"},\"fill_color\":{\"value\":\"red\"},\"doc\":null,\"size\":{\"units\":\"screen\",\"value\":10},\"line_alpha\":{\"units\":\"data\",\"value\":1},\"line_color\":{\"value\":\"red\"},\"fill_alpha\":{\"units\":\"data\",\"value\":0.2},\"id\":\"ecb8aab3-06c8-42db-c2ca-1e76c0810183\"},\"type\":\"Line\",\"id\":\"ecb8aab3-06c8-42db-c2ca-1e76c0810183\"},{\"attributes\":{\"tags\":[],\"y\":{\"units\":\"data\",\"field\":\"y\"},\"x\":{\"units\":\"data\",\"field\":\"x\"},\"fill_color\":{\"value\":\"red\"},\"doc\":null,\"size\":{\"units\":\"screen\",\"value\":10},\"line_alpha\":{\"units\":\"data\",\"value\":1},\"line_color\":{\"value\":\"red\"},\"fill_alpha\":{\"units\":\"data\",\"value\":0.2},\"id\":\"9b04476f-2fef-4dc7-cd7e-1214a0f109b5\"},\"type\":\"Line\",\"id\":\"9b04476f-2fef-4dc7-cd7e-1214a0f109b5\"},{\"attributes\":{\"tags\":[],\"nonselection_glyph\":{\"type\":\"Line\",\"id\":\"9b04476f-2fef-4dc7-cd7e-1214a0f109b5\"},\"data_source\":{\"type\":\"ColumnDataSource\",\"id\":\"8e3266ee-227e-495c-c9c1-5fae1c71ec8d\"},\"server_data_source\":null,\"selection_glyph\":null,\"glyph\":{\"type\":\"Line\",\"id\":\"ecb8aab3-06c8-42db-c2ca-1e76c0810183\"},\"doc\":null,\"name\":null,\"id\":\"6e826614-445d-4f5f-cf2c-7b1812f44263\"},\"type\":\"GlyphRenderer\",\"id\":\"6e826614-445d-4f5f-cf2c-7b1812f44263\"},{\"attributes\":{\"tags\":[],\"doc\":null,\"data\":{\"y\":[161.37551879883,161.37551879883,9.4831285476685,1.331335067749,0.93647003173828,0.75207567214966,0.67797756195068,0.66294193267822,0.55876159667969,0.50382852554321,0.5130934715271,0.51183843612671,0.48243761062622,0.45122241973877,0.43930673599243],\"x\":[1,2,3,4,5,6,7,8,9,10,11,12,13,14,15]},\"cont_ranges\":{},\"selected\":[],\"column_names\":[\"y\",\"x\"],\"discrete_ranges\":{},\"id\":\"319cfc32-9374-4b5d-cbc3-581876b1f638\"},\"type\":\"ColumnDataSource\",\"id\":\"319cfc32-9374-4b5d-cbc3-581876b1f638\"},{\"attributes\":{\"tags\":[],\"y\":{\"units\":\"data\",\"field\":\"y\"},\"x\":{\"units\":\"data\",\"field\":\"x\"},\"fill_color\":{\"value\":\"blue\"},\"doc\":null,\"size\":{\"units\":\"screen\",\"value\":10},\"line_alpha\":{\"units\":\"data\",\"value\":1},\"line_color\":{\"value\":\"blue\"},\"fill_alpha\":{\"units\":\"data\",\"value\":0.2},\"id\":\"a52de7cf-d93f-4291-c243-8372e60d5fe9\"},\"type\":\"Line\",\"id\":\"a52de7cf-d93f-4291-c243-8372e60d5fe9\"},{\"attributes\":{\"tags\":[],\"y\":{\"units\":\"data\",\"field\":\"y\"},\"x\":{\"units\":\"data\",\"field\":\"x\"},\"fill_color\":{\"value\":\"blue\"},\"doc\":null,\"size\":{\"units\":\"screen\",\"value\":10},\"line_alpha\":{\"units\":\"data\",\"value\":1},\"line_color\":{\"value\":\"blue\"},\"fill_alpha\":{\"units\":\"data\",\"value\":0.2},\"id\":\"87a108f9-105a-4ad9-caf6-74db04ded801\"},\"type\":\"Line\",\"id\":\"87a108f9-105a-4ad9-caf6-74db04ded801\"},{\"attributes\":{\"tags\":[],\"nonselection_glyph\":{\"type\":\"Line\",\"id\":\"87a108f9-105a-4ad9-caf6-74db04ded801\"},\"data_source\":{\"type\":\"ColumnDataSource\",\"id\":\"319cfc32-9374-4b5d-cbc3-581876b1f638\"},\"server_data_source\":null,\"selection_glyph\":null,\"glyph\":{\"type\":\"Line\",\"id\":\"a52de7cf-d93f-4291-c243-8372e60d5fe9\"},\"doc\":null,\"name\":null,\"id\":\"1a5a02a0-a8be-4341-c37c-0a24c07de74b\"},\"type\":\"GlyphRenderer\",\"id\":\"1a5a02a0-a8be-4341-c37c-0a24c07de74b\"},{\"attributes\":{\"tags\":[],\"doc\":null,\"data\":{\"y\":[164.95370483398,164.95370483398,4.6617827415466,1.2012395858765,1.0567245483398,0.81769704818726,0.6415548324585,0.65268087387085,0.55257940292358,0.53331995010376,0.46295833587646,0.4601583480835,0.43121957778931,0.40767383575439,0.40735721588135],\"x\":[1,2,3,4,5,6,7,8,9,10,11,12,13,14,15]},\"cont_ranges\":{},\"selected\":[],\"column_names\":[\"y\",\"x\"],\"discrete_ranges\":{},\"id\":\"dff71c92-23b8-43c6-c3bb-b469d2d0d786\"},\"type\":\"ColumnDataSource\",\"id\":\"dff71c92-23b8-43c6-c3bb-b469d2d0d786\"},{\"attributes\":{\"tags\":[],\"y\":{\"units\":\"data\",\"field\":\"y\"},\"x\":{\"units\":\"data\",\"field\":\"x\"},\"fill_color\":{\"value\":\"green\"},\"doc\":null,\"size\":{\"units\":\"screen\",\"value\":10},\"line_alpha\":{\"units\":\"data\",\"value\":1},\"line_color\":{\"value\":\"green\"},\"fill_alpha\":{\"units\":\"data\",\"value\":0.2},\"id\":\"669671bc-bd45-45bd-c56c-69d8091de3af\"},\"type\":\"Line\",\"id\":\"669671bc-bd45-45bd-c56c-69d8091de3af\"},{\"attributes\":{\"tags\":[],\"y\":{\"units\":\"data\",\"field\":\"y\"},\"x\":{\"units\":\"data\",\"field\":\"x\"},\"fill_color\":{\"value\":\"green\"},\"doc\":null,\"size\":{\"units\":\"screen\",\"value\":10},\"line_alpha\":{\"units\":\"data\",\"value\":1},\"line_color\":{\"value\":\"green\"},\"fill_alpha\":{\"units\":\"data\",\"value\":0.2},\"id\":\"6949dd3f-b3a9-4b04-cb7b-532083676c7b\"},\"type\":\"Line\",\"id\":\"6949dd3f-b3a9-4b04-cb7b-532083676c7b\"},{\"attributes\":{\"tags\":[],\"nonselection_glyph\":{\"type\":\"Line\",\"id\":\"6949dd3f-b3a9-4b04-cb7b-532083676c7b\"},\"data_source\":{\"type\":\"ColumnDataSource\",\"id\":\"dff71c92-23b8-43c6-c3bb-b469d2d0d786\"},\"server_data_source\":null,\"selection_glyph\":null,\"glyph\":{\"type\":\"Line\",\"id\":\"669671bc-bd45-45bd-c56c-69d8091de3af\"},\"doc\":null,\"name\":null,\"id\":\"ca55da0c-0066-4e9b-ce6d-5c6dcc197b79\"},\"type\":\"GlyphRenderer\",\"id\":\"ca55da0c-0066-4e9b-ce6d-5c6dcc197b79\"},{\"attributes\":{\"tags\":[],\"doc\":null,\"sources\":[{\"columns\":[\"x\"],\"source\":{\"type\":\"ColumnDataSource\",\"id\":\"f697a406-7f8d-4f4a-cf7f-714ded0151c0\"}},{\"columns\":[\"x\"],\"source\":{\"type\":\"ColumnDataSource\",\"id\":\"8e3266ee-227e-495c-c9c1-5fae1c71ec8d\"}},{\"columns\":[\"x\"],\"source\":{\"type\":\"ColumnDataSource\",\"id\":\"319cfc32-9374-4b5d-cbc3-581876b1f638\"}},{\"columns\":[\"x\"],\"source\":{\"type\":\"ColumnDataSource\",\"id\":\"dff71c92-23b8-43c6-c3bb-b469d2d0d786\"}}],\"id\":\"79910314-5361-4da2-cd31-6f0f9c97dde2\"},\"type\":\"DataRange1d\",\"id\":\"79910314-5361-4da2-cd31-6f0f9c97dde2\"},{\"attributes\":{\"tags\":[],\"doc\":null,\"sources\":[{\"columns\":[\"y\"],\"source\":{\"type\":\"ColumnDataSource\",\"id\":\"f697a406-7f8d-4f4a-cf7f-714ded0151c0\"}},{\"columns\":[\"y\"],\"source\":{\"type\":\"ColumnDataSource\",\"id\":\"8e3266ee-227e-495c-c9c1-5fae1c71ec8d\"}},{\"columns\":[\"y\"],\"source\":{\"type\":\"ColumnDataSource\",\"id\":\"319cfc32-9374-4b5d-cbc3-581876b1f638\"}},{\"columns\":[\"y\"],\"source\":{\"type\":\"ColumnDataSource\",\"id\":\"dff71c92-23b8-43c6-c3bb-b469d2d0d786\"}}],\"id\":\"ccd00dcb-1624-4837-c84f-c69b3bf88de2\"},\"type\":\"DataRange1d\",\"id\":\"ccd00dcb-1624-4837-c84f-c69b3bf88de2\"},{\"attributes\":{\"tags\":[],\"doc\":null,\"geometries\":[],\"id\":\"90c2a238-396a-4f1a-cf70-edc81ec6d30c\"},\"type\":\"ToolEvents\",\"id\":\"90c2a238-396a-4f1a-cf70-edc81ec6d30c\"},{\"attributes\":{\"tags\":[],\"doc\":null,\"id\":\"f5d02d8f-1f13-4a44-ca94-faa314ea24c3\"},\"type\":\"BasicTickFormatter\",\"id\":\"f5d02d8f-1f13-4a44-ca94-faa314ea24c3\"},{\"attributes\":{\"tags\":[],\"doc\":null,\"num_minor_ticks\":5,\"id\":\"de8269f4-22c7-4cf4-cc8d-43e9c4691774\"},\"type\":\"BasicTicker\",\"id\":\"de8269f4-22c7-4cf4-cc8d-43e9c4691774\"},{\"attributes\":{\"tags\":[],\"doc\":null,\"ticker\":{\"type\":\"BasicTicker\",\"id\":\"de8269f4-22c7-4cf4-cc8d-43e9c4691774\"},\"formatter\":{\"type\":\"BasicTickFormatter\",\"id\":\"f5d02d8f-1f13-4a44-ca94-faa314ea24c3\"},\"plot\":{\"id\":\"2ea2c7b2-093e-4ad4-caa5-f6bae85592f7\",\"type\":\"Plot\",\"subtype\":\"Figure\"},\"axis_label\":\"Scaled number of iterations\",\"id\":\"6cbba5ca-aa9f-4b8c-cbaf-3cbf02985ed3\"},\"type\":\"LinearAxis\",\"id\":\"6cbba5ca-aa9f-4b8c-cbaf-3cbf02985ed3\"},{\"attributes\":{\"tags\":[],\"doc\":null,\"ticker\":{\"type\":\"BasicTicker\",\"id\":\"de8269f4-22c7-4cf4-cc8d-43e9c4691774\"},\"plot\":{\"id\":\"2ea2c7b2-093e-4ad4-caa5-f6bae85592f7\",\"type\":\"Plot\",\"subtype\":\"Figure\"},\"dimension\":0,\"id\":\"2f35aae6-9d4e-4853-c877-212435d1da46\"},\"type\":\"Grid\",\"id\":\"2f35aae6-9d4e-4853-c877-212435d1da46\"},{\"attributes\":{\"tags\":[],\"doc\":null,\"id\":\"c9dfafc9-be3b-4791-c7eb-fbfae9d0b2dd\"},\"type\":\"BasicTickFormatter\",\"id\":\"c9dfafc9-be3b-4791-c7eb-fbfae9d0b2dd\"},{\"attributes\":{\"tags\":[],\"doc\":null,\"num_minor_ticks\":5,\"id\":\"6be908a1-7ed4-4490-c4c7-008649a1cf10\"},\"type\":\"BasicTicker\",\"id\":\"6be908a1-7ed4-4490-c4c7-008649a1cf10\"},{\"attributes\":{\"tags\":[],\"doc\":null,\"ticker\":{\"type\":\"BasicTicker\",\"id\":\"6be908a1-7ed4-4490-c4c7-008649a1cf10\"},\"formatter\":{\"type\":\"BasicTickFormatter\",\"id\":\"c9dfafc9-be3b-4791-c7eb-fbfae9d0b2dd\"},\"plot\":{\"id\":\"2ea2c7b2-093e-4ad4-caa5-f6bae85592f7\",\"type\":\"Plot\",\"subtype\":\"Figure\"},\"axis_label\":\"Exploitability\",\"id\":\"ce698aaa-805b-4282-c2a0-ecf37a6e870c\"},\"type\":\"LinearAxis\",\"id\":\"ce698aaa-805b-4282-c2a0-ecf37a6e870c\"},{\"attributes\":{\"tags\":[],\"doc\":null,\"ticker\":{\"type\":\"BasicTicker\",\"id\":\"6be908a1-7ed4-4490-c4c7-008649a1cf10\"},\"plot\":{\"id\":\"2ea2c7b2-093e-4ad4-caa5-f6bae85592f7\",\"type\":\"Plot\",\"subtype\":\"Figure\"},\"dimension\":1,\"id\":\"20b64522-c2c9-4873-c836-577492cdeb29\"},\"type\":\"Grid\",\"id\":\"20b64522-c2c9-4873-c836-577492cdeb29\"},{\"attributes\":{\"tags\":[],\"doc\":null,\"plot\":{\"id\":\"2ea2c7b2-093e-4ad4-caa5-f6bae85592f7\",\"type\":\"Plot\",\"subtype\":\"Figure\"},\"dimensions\":[\"width\",\"height\"],\"id\":\"92fe1663-a657-4035-c0d0-a36f0c483a5d\"},\"type\":\"PanTool\",\"id\":\"92fe1663-a657-4035-c0d0-a36f0c483a5d\"},{\"attributes\":{\"tags\":[],\"doc\":null,\"plot\":{\"id\":\"2ea2c7b2-093e-4ad4-caa5-f6bae85592f7\",\"type\":\"Plot\",\"subtype\":\"Figure\"},\"dimensions\":[\"width\",\"height\"],\"id\":\"4d832f56-3fd6-4b89-cb62-fc152a1c2e44\"},\"type\":\"WheelZoomTool\",\"id\":\"4d832f56-3fd6-4b89-cb62-fc152a1c2e44\"},{\"attributes\":{\"tags\":[],\"doc\":null,\"plot\":{\"id\":\"2ea2c7b2-093e-4ad4-caa5-f6bae85592f7\",\"type\":\"Plot\",\"subtype\":\"Figure\"},\"id\":\"e38ec0e6-48e6-493d-c9cf-cfd41e6eedbd\"},\"type\":\"BoxZoomTool\",\"id\":\"e38ec0e6-48e6-493d-c9cf-cfd41e6eedbd\"},{\"attributes\":{\"tags\":[],\"doc\":null,\"plot\":{\"id\":\"2ea2c7b2-093e-4ad4-caa5-f6bae85592f7\",\"type\":\"Plot\",\"subtype\":\"Figure\"},\"id\":\"c3385696-94de-41ae-c172-fe2eb191cd70\"},\"type\":\"PreviewSaveTool\",\"id\":\"c3385696-94de-41ae-c172-fe2eb191cd70\"},{\"attributes\":{\"tags\":[],\"doc\":null,\"plot\":{\"id\":\"2ea2c7b2-093e-4ad4-caa5-f6bae85592f7\",\"type\":\"Plot\",\"subtype\":\"Figure\"},\"id\":\"4577716c-cb55-47ea-c722-c72553f38a62\"},\"type\":\"ResizeTool\",\"id\":\"4577716c-cb55-47ea-c722-c72553f38a62\"},{\"attributes\":{\"tags\":[],\"doc\":null,\"plot\":{\"id\":\"2ea2c7b2-093e-4ad4-caa5-f6bae85592f7\",\"type\":\"Plot\",\"subtype\":\"Figure\"},\"id\":\"22ec61ba-288d-4cdd-cc31-2bdd6239ceeb\"},\"type\":\"ResetTool\",\"id\":\"22ec61ba-288d-4cdd-cc31-2bdd6239ceeb\"},{\"attributes\":{\"tags\":[],\"doc\":null,\"legends\":[[\"Original CFR in the paper\",[{\"type\":\"GlyphRenderer\",\"id\":\"cde8fac2-35d9-4cfe-cc58-c53b8e8c5016\"}]],[\"No Warm start CFR\",[{\"type\":\"GlyphRenderer\",\"id\":\"6e826614-445d-4f5f-cf2c-7b1812f44263\"}]],[\"Neural Net warm start CFR\",[{\"type\":\"GlyphRenderer\",\"id\":\"1a5a02a0-a8be-4341-c37c-0a24c07de74b\"}]],[\"Warm start with target values\",[{\"type\":\"GlyphRenderer\",\"id\":\"ca55da0c-0066-4e9b-ce6d-5c6dcc197b79\"}]]],\"plot\":{\"id\":\"2ea2c7b2-093e-4ad4-caa5-f6bae85592f7\",\"type\":\"Plot\",\"subtype\":\"Figure\"},\"id\":\"158c4247-e7cb-464a-c638-62eec5083a88\"},\"type\":\"Legend\",\"id\":\"158c4247-e7cb-464a-c638-62eec5083a88\"},{\"attributes\":{\"tags\":[],\"extra_y_ranges\":{},\"left\":[{\"type\":\"LinearAxis\",\"id\":\"ce698aaa-805b-4282-c2a0-ecf37a6e870c\"}],\"tool_events\":{\"type\":\"ToolEvents\",\"id\":\"90c2a238-396a-4f1a-cf70-edc81ec6d30c\"},\"tools\":[{\"type\":\"PanTool\",\"id\":\"92fe1663-a657-4035-c0d0-a36f0c483a5d\"},{\"type\":\"WheelZoomTool\",\"id\":\"4d832f56-3fd6-4b89-cb62-fc152a1c2e44\"},{\"type\":\"BoxZoomTool\",\"id\":\"e38ec0e6-48e6-493d-c9cf-cfd41e6eedbd\"},{\"type\":\"PreviewSaveTool\",\"id\":\"c3385696-94de-41ae-c172-fe2eb191cd70\"},{\"type\":\"ResizeTool\",\"id\":\"4577716c-cb55-47ea-c722-c72553f38a62\"},{\"type\":\"ResetTool\",\"id\":\"22ec61ba-288d-4cdd-cc31-2bdd6239ceeb\"}],\"title\":\"Exploitability of different strategoes\",\"renderers\":[{\"type\":\"GlyphRenderer\",\"id\":\"cde8fac2-35d9-4cfe-cc58-c53b8e8c5016\"},{\"type\":\"GlyphRenderer\",\"id\":\"6e826614-445d-4f5f-cf2c-7b1812f44263\"},{\"type\":\"GlyphRenderer\",\"id\":\"1a5a02a0-a8be-4341-c37c-0a24c07de74b\"},{\"type\":\"GlyphRenderer\",\"id\":\"ca55da0c-0066-4e9b-ce6d-5c6dcc197b79\"},{\"type\":\"LinearAxis\",\"id\":\"6cbba5ca-aa9f-4b8c-cbaf-3cbf02985ed3\"},{\"type\":\"Grid\",\"id\":\"2f35aae6-9d4e-4853-c877-212435d1da46\"},{\"type\":\"LinearAxis\",\"id\":\"ce698aaa-805b-4282-c2a0-ecf37a6e870c\"},{\"type\":\"Grid\",\"id\":\"20b64522-c2c9-4873-c836-577492cdeb29\"},{\"type\":\"Legend\",\"id\":\"158c4247-e7cb-464a-c638-62eec5083a88\"}],\"below\":[{\"type\":\"LinearAxis\",\"id\":\"6cbba5ca-aa9f-4b8c-cbaf-3cbf02985ed3\"}],\"doc\":null,\"above\":[],\"right\":[],\"y_range\":{\"type\":\"DataRange1d\",\"id\":\"ccd00dcb-1624-4837-c84f-c69b3bf88de2\"},\"x_range\":{\"type\":\"DataRange1d\",\"id\":\"79910314-5361-4da2-cd31-6f0f9c97dde2\"},\"extra_x_ranges\":{},\"id\":\"2ea2c7b2-093e-4ad4-caa5-f6bae85592f7\"},\"type\":\"Plot\",\"id\":\"2ea2c7b2-093e-4ad4-caa5-f6bae85592f7\"}];\n",
       "      Bokeh.load_models(all_models);\n",
       "      var model = Bokeh.Collections(modeltype).get(modelid);\n",
       "      $(\"#5699ae76-798e-45c5-c572-e991434bc40f\").html(''); // clear any previous plot in window_id\n",
       "      var view = new model.default_view({model: model, el: \"#5699ae76-798e-45c5-c572-e991434bc40f\"});\n",
       "  });\n",
       "    }\n",
       "});\n",
       "</script>\n",
       "<div class=\"plotdiv\" id=\"5699ae76-798e-45c5-c572-e991434bc40f\"></div>\n"
      ]
     },
     "metadata": {},
     "output_type": "display_data"
    }
   ],
   "source": [
    "local num_iter = torch.range(1,exploit_NoW:size(1))\n",
    "local plot = Plot()\n",
    "\n",
    "plot:line(num_iter,exploit_unif2,'black' ,'Original CFR in the paper')\n",
    "plot:line(num_iter,exploit_NoW2,'red' ,'No Warm start CFR')\n",
    "plot:line(num_iter,exploit_NNW2,'blue' ,'Neural Net warm start CFR')\n",
    "plot:line(num_iter,exploit_TargW2,'green' ,'Warm start with target values')\n",
    "plot:legend(true):title('Exploitability of different strategoes')\n",
    "plot:xaxis('Scaled number of iterations'):yaxis('Exploitability'):redraw()\n"
   ]
  },
  {
   "cell_type": "code",
   "execution_count": null,
   "metadata": {
    "collapsed": true
   },
   "outputs": [],
   "source": []
  }
 ],
 "metadata": {
  "kernelspec": {
   "display_name": "iTorch",
   "language": "lua",
   "name": "itorch"
  },
  "language_info": {
   "name": "lua",
   "version": "5.2"
  }
 },
 "nbformat": 4,
 "nbformat_minor": 2
}
