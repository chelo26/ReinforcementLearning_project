{
 "cells": [
  {
   "cell_type": "code",
   "execution_count": 1,
   "metadata": {},
   "outputs": [
    {
     "ename": "[string \"local arguments = require 'Settings.arguments...\"]:1: module 'Settings.arguments' not found:\n\tno field package.preload['Settings.arguments']\n\tno file '/usr/local/share/lua/5.2/Settings/arguments.lua'\n\tno file '/usr/local/share/lua/5.2/Settings/arguments/init.lua'\n\tno file '/usr/local/lib/lua/5.2/Settings/arguments.lua'\n\tno file '/usr/local/lib/lua/5.2/Settings/arguments/init.lua'\n\tno file './Settings/arguments.lua'\n\tno file '/usr/local/lib/lua/5.2/Settings/arguments.so'\n\tno file '/usr/local/lib/lua/5.2/loadall.so'\n\tno file './Settings/arguments.so'\n\tno file '/usr/local/lib/lua/5.2/Settings.so'\n\tno file '/usr/local/lib/lua/5.2/loadall.so'\n\tno file './Settings.so'\nstack traceback:\n\t/usr/local/share/lua/5.2/itorch/main.lua:167: in function </usr/local/share/lua/5.2/itorch/main.lua:160>\n\t[C]: in function 'require'\n\t[string \"local arguments = require 'Settings.arguments...\"]:1: in main chunk\n\t[C]: in function 'xpcall'\n\t/usr/local/share/lua/5.2/itorch/main.lua:210: in function </usr/local/share/lua/5.2/itorch/main.lua:174>\n\t(...tail calls...)\n\t/usr/local/share/lua/5.2/lzmq/poller.lua:75: in function 'poll'\n\t/usr/local/share/lua/5.2/lzmq/impl/loop.lua:307: in function 'poll'\n\t/usr/local/share/lua/5.2/lzmq/impl/loop.lua:325: in function 'sleep_ex'\n\t/usr/local/share/lua/5.2/lzmq/impl/loop.lua:370: in function 'start'\n\t/usr/local/share/lua/5.2/itorch/main.lua:389: in main chunk\n\t[C]: in function 'require'\n\t(command line):1: in main chunk\n\t[C]: in ?",
     "evalue": "",
     "output_type": "error",
     "traceback": [
      "[string \"local arguments = require 'Settings.arguments...\"]:1: module 'Settings.arguments' not found:\n\tno field package.preload['Settings.arguments']\n\tno file '/usr/local/share/lua/5.2/Settings/arguments.lua'\n\tno file '/usr/local/share/lua/5.2/Settings/arguments/init.lua'\n\tno file '/usr/local/lib/lua/5.2/Settings/arguments.lua'\n\tno file '/usr/local/lib/lua/5.2/Settings/arguments/init.lua'\n\tno file './Settings/arguments.lua'\n\tno file '/usr/local/lib/lua/5.2/Settings/arguments.so'\n\tno file '/usr/local/lib/lua/5.2/loadall.so'\n\tno file './Settings/arguments.so'\n\tno file '/usr/local/lib/lua/5.2/Settings.so'\n\tno file '/usr/local/lib/lua/5.2/loadall.so'\n\tno file './Settings.so'\nstack traceback:\n\t/usr/local/share/lua/5.2/itorch/main.lua:167: in function </usr/local/share/lua/5.2/itorch/main.lua:160>\n\t[C]: in function 'require'\n\t[string \"local arguments = require 'Settings.arguments...\"]:1: in main chunk\n\t[C]: in function 'xpcall'\n\t/usr/local/share/lua/5.2/itorch/main.lua:210: in function </usr/local/share/lua/5.2/itorch/main.lua:174>\n\t(...tail calls...)\n\t/usr/local/share/lua/5.2/lzmq/poller.lua:75: in function 'poll'\n\t/usr/local/share/lua/5.2/lzmq/impl/loop.lua:307: in function 'poll'\n\t/usr/local/share/lua/5.2/lzmq/impl/loop.lua:325: in function 'sleep_ex'\n\t/usr/local/share/lua/5.2/lzmq/impl/loop.lua:370: in function 'start'\n\t/usr/local/share/lua/5.2/itorch/main.lua:389: in main chunk\n\t[C]: in function 'require'\n\t(command line):1: in main chunk\n\t[C]: in ?"
     ]
    }
   ],
   "source": [
    "local arguments = require 'Settings.arguments'\n",
    "local constants = require 'Settings.constants'\n",
    "local game_settings = require 'Settings.game_settings'\n",
    "local card_tools = require 'Game.card_tools'\n",
    "local card_to_string = require 'Game.card_to_string_conversion'\n",
    "require 'Tree.tree_builder'\n",
    "require 'Tree.tree_visualiser'\n",
    "require 'Tree.tree_values'\n",
    "require 'Tree.tree_cfr'\n",
    "require 'Tree.tree_visualiser'\n",
    "\n",
    "\n"
   ]
  },
  {
   "cell_type": "code",
   "execution_count": null,
   "metadata": {
    "collapsed": true
   },
   "outputs": [],
   "source": []
  }
 ],
 "metadata": {
  "kernelspec": {
   "display_name": "iTorch",
   "language": "lua",
   "name": "itorch"
  },
  "language_info": {
   "name": "lua",
   "version": "5.2"
  }
 },
 "nbformat": 4,
 "nbformat_minor": 2
}
