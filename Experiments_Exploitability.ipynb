{
 "cells": [
  {
   "cell_type": "code",
   "execution_count": 1,
   "metadata": {
    "collapsed": true
   },
   "outputs": [],
   "source": [
    "--- Libraries:\n",
    "arguments = require 'Settings.arguments'\n",
    "constants = require 'Settings.constants'\n",
    "card_to_string = require 'Game.card_to_string_conversion'\n",
    "card_tools = require 'Game.card_tools'\n",
    "game_settings = require 'Settings.game_settings'\n",
    "Plot = require 'itorch.Plot'\n",
    "nninit = require 'nninit'\n",
    "require 'torch'\n",
    "require 'math'\n",
    "require 'Tree.tree_builder'\n",
    "require 'Tree.tree_data_generation'\n",
    "require 'Tree.tree_values'\n",
    "require 'Tree.tree_visualiser'\n",
    "require 'nn'\n",
    "require 'Tree.tree_cfr'\n",
    "require 'Tree.tree_cfr2'\n",
    "require 'nngraph'\n",
    "require 'optim'\n",
    "require 'image'\n",
    "require 'NN.strategy_net_builder'\n",
    "require 'NN.strategy_net_trainer'\n",
    "\n"
   ]
  },
  {
   "cell_type": "code",
   "execution_count": 2,
   "metadata": {
    "collapsed": true
   },
   "outputs": [],
   "source": [
    "--- FUNCTIONS\n",
    "--- Comparing with 2000\n",
    "function compare_cfrs(tree_cfr1,tree_cfr2000)\n",
    "    local difference = {}\n",
    "    local table1 = tree_cfr1.total_strategies\n",
    "    local table2 = tree_cfr2000.total_strategies\n",
    "    \n",
    "    for i = 1, #table1 do\n",
    "        difference[i] = torch.sqrt(torch.sum(torch.pow((table1[i] - table2[#table2]),2)))\n",
    "    end\n",
    "    return torch.FloatTensor(difference)\n",
    "end\n",
    "--- Comparing 2000 with itself\n",
    "function get_convergence(tree_cfr)\n",
    "    local difference = {}\n",
    "    local table_cfr = tree_cfr.total_strategies\n",
    "    local end_strategy = table_cfr[#table_cfr]\n",
    "    \n",
    "    for i = 1, #table_cfr do\n",
    "        difference[i] = torch.sqrt(torch.sum(torch.pow((table_cfr[i] - end_strategy),2)))\n",
    "    end\n",
    "    return torch.FloatTensor(difference)\n",
    "end"
   ]
  },
  {
   "cell_type": "code",
   "execution_count": 3,
   "metadata": {
    "collapsed": true
   },
   "outputs": [],
   "source": [
    "--- Create the tree\n",
    "builder = PokerTreeBuilder()\n",
    "--- Parameters for the tree\n",
    "params = {}\n",
    "params.root_node = {}\n",
    "params.root_node.board = card_to_string:string_to_board('')\n",
    "params.root_node.street = 1\n",
    "params.root_node.current_player = constants.players.P1\n",
    "params.root_node.bets = arguments.Tensor{200, 200}\n",
    "--- CFR Solver\n",
    "starting_ranges = arguments.Tensor(constants.players_count, game_settings.card_count)\n",
    "starting_ranges[1]:copy(card_tools:get_uniform_range(params.root_node.board))\n",
    "starting_ranges[2]:copy(card_tools:get_uniform_range(params.root_node.board))"
   ]
  },
  {
   "cell_type": "markdown",
   "metadata": {},
   "source": [
    "### 1. Exploitability for original CFR and modified CFR"
   ]
  },
  {
   "cell_type": "code",
   "execution_count": 4,
   "metadata": {
    "collapsed": true
   },
   "outputs": [],
   "source": [
    "--- Building CFR Solver\n",
    "tree2000 = builder:build_tree(params)\n",
    "tree2000_cfr = TreeCFR()\n",
    "tree2000_cfr:run_cfr(tree2000, starting_ranges,2000)"
   ]
  },
  {
   "cell_type": "code",
   "execution_count": 5,
   "metadata": {
    "collapsed": true
   },
   "outputs": [],
   "source": [
    "--- Building CFR Solver\n",
    "tree2001 = builder:build_tree(params)\n",
    "tree2001_cfr = TreeCFR2()\n",
    "tree2001_cfr:run_cfr(tree2001, starting_ranges,2000)"
   ]
  },
  {
   "cell_type": "code",
   "execution_count": 6,
   "metadata": {
    "collapsed": true
   },
   "outputs": [],
   "source": [
    "exploit_2000_original = tree2000_cfr.exploitability_vec\n",
    "exploit_2000_mod = tree2001_cfr.exploitability_vec"
   ]
  },
  {
   "cell_type": "code",
   "execution_count": 7,
   "metadata": {},
   "outputs": [
    {
     "data": {
      "text/html": [
       "<script type=\"text/javascript\">\n",
       "$(function() {\n",
       "    if (typeof (window._bokeh_onload_callbacks) === \"undefined\"){\n",
       "  window._bokeh_onload_callbacks = [];\n",
       "    }\n",
       "    function load_lib(url, callback){\n",
       "  window._bokeh_onload_callbacks.push(callback);\n",
       "  if (window._bokeh_is_loading){\n",
       "      console.log(\"Bokeh: BokehJS is being loaded, scheduling callback at\", new Date());\n",
       "      return null;\n",
       "  }\n",
       "  console.log(\"Bokeh: BokehJS not loaded, scheduling load and callback at\", new Date());\n",
       "  window._bokeh_is_loading = true;\n",
       "  var s = document.createElement('script');\n",
       "  s.src = url;\n",
       "  s.async = true;\n",
       "  s.onreadystatechange = s.onload = function(){\n",
       "      Bokeh.embed.inject_css(\"https://cdn.pydata.org/bokeh-0.7.0.min.css\");\n",
       "      window._bokeh_onload_callbacks.forEach(function(callback){callback()});\n",
       "  };\n",
       "  s.onerror = function(){\n",
       "      console.warn(\"failed to load library \" + url);\n",
       "  };\n",
       "  document.getElementsByTagName(\"head\")[0].appendChild(s);\n",
       "    }\n",
       "\n",
       "    bokehjs_url = \"https://cdn.pydata.org/bokeh-0.7.0.min.js\"\n",
       "\n",
       "    var elt = document.getElementById(\"fb04eb31-f785-47b8-c7d6-d5a8baa45988\");\n",
       "    if(elt==null) {\n",
       "  console.log(\"Bokeh: ERROR: autoload.js configured with elementid 'fb04eb31-f785-47b8-c7d6-d5a8baa45988'\"\n",
       "        + \"but no matching script tag was found. \")\n",
       "  return false;\n",
       "    }\n",
       "\n",
       "    if(typeof(Bokeh) !== \"undefined\") {\n",
       "  console.log(\"Bokeh: BokehJS loaded, going straight to plotting\");\n",
       "  var modelid = \"f741121f-8628-441a-c45e-6c53b693dfc2\";\n",
       "  var modeltype = \"Plot\";\n",
       "  var all_models = [{\"type\":\"ColumnDataSource\",\"attributes\":{\"id\":\"d6b363ef-9b5c-4a74-ca3d-156b784a1a37\",\"tags\":[],\"selected\":[],\"data\":{\"y\":[177.5463104248,177.5463104248,177.5463104248,177.5463104248,3.7483515739441,0.95369291305542,0.66943693161011,0.55704164505005,0.53119897842407,0.49349594116211,0.44495964050293,0.38252973556519,0.36157655715942,0.33770847320557,0.33253955841064],\"x\":[1,2,3,4,5,6,7,8,9,10,11,12,13,14,15]},\"discrete_ranges\":{},\"column_names\":[\"y\",\"x\"],\"cont_ranges\":{},\"doc\":null},\"id\":\"d6b363ef-9b5c-4a74-ca3d-156b784a1a37\"},{\"type\":\"Line\",\"attributes\":{\"id\":\"cd87abdd-3eb6-4362-c375-3bcb7d0044aa\",\"line_color\":{\"value\":\"red\"},\"fill_color\":{\"value\":\"red\"},\"y\":{\"units\":\"data\",\"field\":\"y\"},\"tags\":[],\"fill_alpha\":{\"units\":\"data\",\"value\":0.2},\"x\":{\"units\":\"data\",\"field\":\"x\"},\"line_alpha\":{\"units\":\"data\",\"value\":1},\"size\":{\"units\":\"screen\",\"value\":10},\"doc\":null},\"id\":\"cd87abdd-3eb6-4362-c375-3bcb7d0044aa\"},{\"type\":\"Line\",\"attributes\":{\"id\":\"6c2ff622-cbf2-4b9b-cb58-4a82d3d5b954\",\"line_color\":{\"value\":\"red\"},\"fill_color\":{\"value\":\"red\"},\"y\":{\"units\":\"data\",\"field\":\"y\"},\"tags\":[],\"fill_alpha\":{\"units\":\"data\",\"value\":0.2},\"x\":{\"units\":\"data\",\"field\":\"x\"},\"line_alpha\":{\"units\":\"data\",\"value\":1},\"size\":{\"units\":\"screen\",\"value\":10},\"doc\":null},\"id\":\"6c2ff622-cbf2-4b9b-cb58-4a82d3d5b954\"},{\"type\":\"GlyphRenderer\",\"attributes\":{\"id\":\"cda10b0a-27c4-4f84-cf38-3416b3b47e43\",\"data_source\":{\"type\":\"ColumnDataSource\",\"id\":\"d6b363ef-9b5c-4a74-ca3d-156b784a1a37\"},\"nonselection_glyph\":{\"type\":\"Line\",\"id\":\"6c2ff622-cbf2-4b9b-cb58-4a82d3d5b954\"},\"server_data_source\":null,\"tags\":[],\"selection_glyph\":null,\"glyph\":{\"type\":\"Line\",\"id\":\"cd87abdd-3eb6-4362-c375-3bcb7d0044aa\"},\"name\":null,\"doc\":null},\"id\":\"cda10b0a-27c4-4f84-cf38-3416b3b47e43\"},{\"type\":\"ColumnDataSource\",\"attributes\":{\"id\":\"b660333b-6f78-4cfa-cc08-8608c097d254\",\"tags\":[],\"selected\":[],\"data\":{\"y\":[164.95370483398,6.9816427230835,3.7362909317017,2.5506057739258,1.9561100006104,1.63219165802,1.4095568656921,1.2454280853271,1.1068730354309,0.99226474761963,0.90947532653809,0.8532338142395,0.7959623336792,0.7380166053772,0.70703601837158],\"x\":[1,2,3,4,5,6,7,8,9,10,11,12,13,14,15]},\"discrete_ranges\":{},\"column_names\":[\"y\",\"x\"],\"cont_ranges\":{},\"doc\":null},\"id\":\"b660333b-6f78-4cfa-cc08-8608c097d254\"},{\"type\":\"Line\",\"attributes\":{\"id\":\"3b896e67-fcf7-49de-c925-ffa377eeb0d0\",\"line_color\":{\"value\":\"blue\"},\"fill_color\":{\"value\":\"blue\"},\"y\":{\"units\":\"data\",\"field\":\"y\"},\"tags\":[],\"fill_alpha\":{\"units\":\"data\",\"value\":0.2},\"x\":{\"units\":\"data\",\"field\":\"x\"},\"line_alpha\":{\"units\":\"data\",\"value\":1},\"size\":{\"units\":\"screen\",\"value\":10},\"doc\":null},\"id\":\"3b896e67-fcf7-49de-c925-ffa377eeb0d0\"},{\"type\":\"Line\",\"attributes\":{\"id\":\"8a9228f1-d227-4a57-ca18-84058fdb84ac\",\"line_color\":{\"value\":\"blue\"},\"fill_color\":{\"value\":\"blue\"},\"y\":{\"units\":\"data\",\"field\":\"y\"},\"tags\":[],\"fill_alpha\":{\"units\":\"data\",\"value\":0.2},\"x\":{\"units\":\"data\",\"field\":\"x\"},\"line_alpha\":{\"units\":\"data\",\"value\":1},\"size\":{\"units\":\"screen\",\"value\":10},\"doc\":null},\"id\":\"8a9228f1-d227-4a57-ca18-84058fdb84ac\"},{\"type\":\"GlyphRenderer\",\"attributes\":{\"id\":\"bcb20531-ab58-4024-c038-61962a06b0c3\",\"data_source\":{\"type\":\"ColumnDataSource\",\"id\":\"b660333b-6f78-4cfa-cc08-8608c097d254\"},\"nonselection_glyph\":{\"type\":\"Line\",\"id\":\"8a9228f1-d227-4a57-ca18-84058fdb84ac\"},\"server_data_source\":null,\"tags\":[],\"selection_glyph\":null,\"glyph\":{\"type\":\"Line\",\"id\":\"3b896e67-fcf7-49de-c925-ffa377eeb0d0\"},\"name\":null,\"doc\":null},\"id\":\"bcb20531-ab58-4024-c038-61962a06b0c3\"},{\"type\":\"DataRange1d\",\"attributes\":{\"id\":\"b61396ec-ee6e-41d4-c19a-b9847d29f993\",\"tags\":[],\"sources\":[{\"source\":{\"id\":\"d6b363ef-9b5c-4a74-ca3d-156b784a1a37\",\"type\":\"ColumnDataSource\"},\"columns\":[\"x\"]},{\"source\":{\"id\":\"b660333b-6f78-4cfa-cc08-8608c097d254\",\"type\":\"ColumnDataSource\"},\"columns\":[\"x\"]}],\"doc\":null},\"id\":\"b61396ec-ee6e-41d4-c19a-b9847d29f993\"},{\"type\":\"DataRange1d\",\"attributes\":{\"id\":\"4588b2aa-188c-4caa-cc92-96702680bb08\",\"tags\":[],\"sources\":[{\"source\":{\"id\":\"d6b363ef-9b5c-4a74-ca3d-156b784a1a37\",\"type\":\"ColumnDataSource\"},\"columns\":[\"y\"]},{\"source\":{\"id\":\"b660333b-6f78-4cfa-cc08-8608c097d254\",\"type\":\"ColumnDataSource\"},\"columns\":[\"y\"]}],\"doc\":null},\"id\":\"4588b2aa-188c-4caa-cc92-96702680bb08\"},{\"type\":\"ToolEvents\",\"attributes\":{\"id\":\"0d855208-3e1b-428d-c29c-efc5837ca6b2\",\"tags\":[],\"geometries\":[],\"doc\":null},\"id\":\"0d855208-3e1b-428d-c29c-efc5837ca6b2\"},{\"type\":\"BasicTickFormatter\",\"attributes\":{\"id\":\"687c7ab5-8846-4b47-cb87-f03c6998c8eb\",\"tags\":[],\"doc\":null},\"id\":\"687c7ab5-8846-4b47-cb87-f03c6998c8eb\"},{\"type\":\"BasicTicker\",\"attributes\":{\"id\":\"aed2873a-24e6-40a6-c0ef-46db47f3811f\",\"tags\":[],\"num_minor_ticks\":5,\"doc\":null},\"id\":\"aed2873a-24e6-40a6-c0ef-46db47f3811f\"},{\"type\":\"LinearAxis\",\"attributes\":{\"id\":\"6ab36f1b-c419-4058-c0c1-56540e927c33\",\"tags\":[],\"plot\":{\"type\":\"Plot\",\"id\":\"f741121f-8628-441a-c45e-6c53b693dfc2\",\"subtype\":\"Figure\"},\"ticker\":{\"type\":\"BasicTicker\",\"id\":\"aed2873a-24e6-40a6-c0ef-46db47f3811f\"},\"axis_label\":\"Scaled number of iterations\",\"formatter\":{\"type\":\"BasicTickFormatter\",\"id\":\"687c7ab5-8846-4b47-cb87-f03c6998c8eb\"},\"doc\":null},\"id\":\"6ab36f1b-c419-4058-c0c1-56540e927c33\"},{\"type\":\"Grid\",\"attributes\":{\"id\":\"1df9dd7d-5ece-4928-c926-7761e26c69a6\",\"tags\":[],\"plot\":{\"type\":\"Plot\",\"id\":\"f741121f-8628-441a-c45e-6c53b693dfc2\",\"subtype\":\"Figure\"},\"ticker\":{\"type\":\"BasicTicker\",\"id\":\"aed2873a-24e6-40a6-c0ef-46db47f3811f\"},\"dimension\":0,\"doc\":null},\"id\":\"1df9dd7d-5ece-4928-c926-7761e26c69a6\"},{\"type\":\"BasicTickFormatter\",\"attributes\":{\"id\":\"4e0fd0e5-ebe6-452b-c508-cd85dc46de96\",\"tags\":[],\"doc\":null},\"id\":\"4e0fd0e5-ebe6-452b-c508-cd85dc46de96\"},{\"type\":\"BasicTicker\",\"attributes\":{\"id\":\"63cf86f0-6b94-4fe1-cf30-beb8e112b5e1\",\"tags\":[],\"num_minor_ticks\":5,\"doc\":null},\"id\":\"63cf86f0-6b94-4fe1-cf30-beb8e112b5e1\"},{\"type\":\"LinearAxis\",\"attributes\":{\"id\":\"5c17296a-18ac-40d0-c0c4-a2e5e07c1c60\",\"tags\":[],\"plot\":{\"type\":\"Plot\",\"id\":\"f741121f-8628-441a-c45e-6c53b693dfc2\",\"subtype\":\"Figure\"},\"ticker\":{\"type\":\"BasicTicker\",\"id\":\"63cf86f0-6b94-4fe1-cf30-beb8e112b5e1\"},\"axis_label\":\"Exploitability\",\"formatter\":{\"type\":\"BasicTickFormatter\",\"id\":\"4e0fd0e5-ebe6-452b-c508-cd85dc46de96\"},\"doc\":null},\"id\":\"5c17296a-18ac-40d0-c0c4-a2e5e07c1c60\"},{\"type\":\"Grid\",\"attributes\":{\"id\":\"61b01f13-247a-453c-c5f9-a0aee85cdbcb\",\"tags\":[],\"plot\":{\"type\":\"Plot\",\"id\":\"f741121f-8628-441a-c45e-6c53b693dfc2\",\"subtype\":\"Figure\"},\"ticker\":{\"type\":\"BasicTicker\",\"id\":\"63cf86f0-6b94-4fe1-cf30-beb8e112b5e1\"},\"dimension\":1,\"doc\":null},\"id\":\"61b01f13-247a-453c-c5f9-a0aee85cdbcb\"},{\"type\":\"PanTool\",\"attributes\":{\"id\":\"6d127f7b-737f-4dee-cd25-1c14f8683df6\",\"tags\":[],\"plot\":{\"type\":\"Plot\",\"id\":\"f741121f-8628-441a-c45e-6c53b693dfc2\",\"subtype\":\"Figure\"},\"dimensions\":[\"width\",\"height\"],\"doc\":null},\"id\":\"6d127f7b-737f-4dee-cd25-1c14f8683df6\"},{\"type\":\"WheelZoomTool\",\"attributes\":{\"id\":\"d5322132-5693-4095-c05e-61996d26abfe\",\"tags\":[],\"plot\":{\"type\":\"Plot\",\"id\":\"f741121f-8628-441a-c45e-6c53b693dfc2\",\"subtype\":\"Figure\"},\"dimensions\":[\"width\",\"height\"],\"doc\":null},\"id\":\"d5322132-5693-4095-c05e-61996d26abfe\"},{\"type\":\"BoxZoomTool\",\"attributes\":{\"id\":\"b267d9d1-cb5f-427a-c2a5-a5cc605b6355\",\"tags\":[],\"plot\":{\"type\":\"Plot\",\"id\":\"f741121f-8628-441a-c45e-6c53b693dfc2\",\"subtype\":\"Figure\"},\"doc\":null},\"id\":\"b267d9d1-cb5f-427a-c2a5-a5cc605b6355\"},{\"type\":\"PreviewSaveTool\",\"attributes\":{\"id\":\"b1254aaa-da50-449a-c4eb-618458434ad5\",\"tags\":[],\"plot\":{\"type\":\"Plot\",\"id\":\"f741121f-8628-441a-c45e-6c53b693dfc2\",\"subtype\":\"Figure\"},\"doc\":null},\"id\":\"b1254aaa-da50-449a-c4eb-618458434ad5\"},{\"type\":\"ResizeTool\",\"attributes\":{\"id\":\"1fa20c75-6027-41aa-c1cb-8f496a5283b8\",\"tags\":[],\"plot\":{\"type\":\"Plot\",\"id\":\"f741121f-8628-441a-c45e-6c53b693dfc2\",\"subtype\":\"Figure\"},\"doc\":null},\"id\":\"1fa20c75-6027-41aa-c1cb-8f496a5283b8\"},{\"type\":\"ResetTool\",\"attributes\":{\"id\":\"d73b775f-0c12-4390-c36c-d64b2e5bef96\",\"tags\":[],\"plot\":{\"type\":\"Plot\",\"id\":\"f741121f-8628-441a-c45e-6c53b693dfc2\",\"subtype\":\"Figure\"},\"doc\":null},\"id\":\"d73b775f-0c12-4390-c36c-d64b2e5bef96\"},{\"type\":\"Legend\",\"attributes\":{\"id\":\"5e76a0f1-670c-4198-c1dd-211aaad594a8\",\"tags\":[],\"plot\":{\"type\":\"Plot\",\"id\":\"f741121f-8628-441a-c45e-6c53b693dfc2\",\"subtype\":\"Figure\"},\"legends\":[[\"Original CFR\",[{\"type\":\"GlyphRenderer\",\"id\":\"cda10b0a-27c4-4f84-cf38-3416b3b47e43\"}]],[\"Modified CFR\",[{\"type\":\"GlyphRenderer\",\"id\":\"bcb20531-ab58-4024-c038-61962a06b0c3\"}]]],\"doc\":null},\"id\":\"5e76a0f1-670c-4198-c1dd-211aaad594a8\"},{\"type\":\"Plot\",\"attributes\":{\"id\":\"f741121f-8628-441a-c45e-6c53b693dfc2\",\"below\":[{\"type\":\"LinearAxis\",\"id\":\"6ab36f1b-c419-4058-c0c1-56540e927c33\"}],\"extra_y_ranges\":{},\"tool_events\":{\"type\":\"ToolEvents\",\"id\":\"0d855208-3e1b-428d-c29c-efc5837ca6b2\"},\"renderers\":[{\"type\":\"GlyphRenderer\",\"id\":\"cda10b0a-27c4-4f84-cf38-3416b3b47e43\"},{\"type\":\"GlyphRenderer\",\"id\":\"bcb20531-ab58-4024-c038-61962a06b0c3\"},{\"type\":\"LinearAxis\",\"id\":\"6ab36f1b-c419-4058-c0c1-56540e927c33\"},{\"type\":\"Grid\",\"id\":\"1df9dd7d-5ece-4928-c926-7761e26c69a6\"},{\"type\":\"LinearAxis\",\"id\":\"5c17296a-18ac-40d0-c0c4-a2e5e07c1c60\"},{\"type\":\"Grid\",\"id\":\"61b01f13-247a-453c-c5f9-a0aee85cdbcb\"},{\"type\":\"Legend\",\"id\":\"5e76a0f1-670c-4198-c1dd-211aaad594a8\"}],\"extra_x_ranges\":{},\"tools\":[{\"type\":\"PanTool\",\"id\":\"6d127f7b-737f-4dee-cd25-1c14f8683df6\"},{\"type\":\"WheelZoomTool\",\"id\":\"d5322132-5693-4095-c05e-61996d26abfe\"},{\"type\":\"BoxZoomTool\",\"id\":\"b267d9d1-cb5f-427a-c2a5-a5cc605b6355\"},{\"type\":\"PreviewSaveTool\",\"id\":\"b1254aaa-da50-449a-c4eb-618458434ad5\"},{\"type\":\"ResizeTool\",\"id\":\"1fa20c75-6027-41aa-c1cb-8f496a5283b8\"},{\"type\":\"ResetTool\",\"id\":\"d73b775f-0c12-4390-c36c-d64b2e5bef96\"}],\"left\":[{\"type\":\"LinearAxis\",\"id\":\"5c17296a-18ac-40d0-c0c4-a2e5e07c1c60\"}],\"tags\":[],\"above\":[],\"right\":[],\"title\":\"Exploitability of the CFRs - 2000 iterations\",\"x_range\":{\"type\":\"DataRange1d\",\"id\":\"b61396ec-ee6e-41d4-c19a-b9847d29f993\"},\"y_range\":{\"type\":\"DataRange1d\",\"id\":\"4588b2aa-188c-4caa-cc92-96702680bb08\"},\"doc\":null},\"id\":\"f741121f-8628-441a-c45e-6c53b693dfc2\"}];\n",
       "  Bokeh.load_models(all_models);\n",
       "  var model = Bokeh.Collections(modeltype).get(modelid);\n",
       "  $(\"#fb04eb31-f785-47b8-c7d6-d5a8baa45988\").html(''); // clear any previous plot in window_id\n",
       "  var view = new model.default_view({model: model, el: \"#fb04eb31-f785-47b8-c7d6-d5a8baa45988\"});\n",
       "    } else {\n",
       "  load_lib(bokehjs_url, function() {\n",
       "      console.log(\"Bokeh: BokehJS plotting callback run at\", new Date())\n",
       "      var modelid = \"f741121f-8628-441a-c45e-6c53b693dfc2\";\n",
       "      var modeltype = \"Plot\";\n",
       "      var all_models = [{\"type\":\"ColumnDataSource\",\"attributes\":{\"id\":\"d6b363ef-9b5c-4a74-ca3d-156b784a1a37\",\"tags\":[],\"selected\":[],\"data\":{\"y\":[177.5463104248,177.5463104248,177.5463104248,177.5463104248,3.7483515739441,0.95369291305542,0.66943693161011,0.55704164505005,0.53119897842407,0.49349594116211,0.44495964050293,0.38252973556519,0.36157655715942,0.33770847320557,0.33253955841064],\"x\":[1,2,3,4,5,6,7,8,9,10,11,12,13,14,15]},\"discrete_ranges\":{},\"column_names\":[\"y\",\"x\"],\"cont_ranges\":{},\"doc\":null},\"id\":\"d6b363ef-9b5c-4a74-ca3d-156b784a1a37\"},{\"type\":\"Line\",\"attributes\":{\"id\":\"cd87abdd-3eb6-4362-c375-3bcb7d0044aa\",\"line_color\":{\"value\":\"red\"},\"fill_color\":{\"value\":\"red\"},\"y\":{\"units\":\"data\",\"field\":\"y\"},\"tags\":[],\"fill_alpha\":{\"units\":\"data\",\"value\":0.2},\"x\":{\"units\":\"data\",\"field\":\"x\"},\"line_alpha\":{\"units\":\"data\",\"value\":1},\"size\":{\"units\":\"screen\",\"value\":10},\"doc\":null},\"id\":\"cd87abdd-3eb6-4362-c375-3bcb7d0044aa\"},{\"type\":\"Line\",\"attributes\":{\"id\":\"6c2ff622-cbf2-4b9b-cb58-4a82d3d5b954\",\"line_color\":{\"value\":\"red\"},\"fill_color\":{\"value\":\"red\"},\"y\":{\"units\":\"data\",\"field\":\"y\"},\"tags\":[],\"fill_alpha\":{\"units\":\"data\",\"value\":0.2},\"x\":{\"units\":\"data\",\"field\":\"x\"},\"line_alpha\":{\"units\":\"data\",\"value\":1},\"size\":{\"units\":\"screen\",\"value\":10},\"doc\":null},\"id\":\"6c2ff622-cbf2-4b9b-cb58-4a82d3d5b954\"},{\"type\":\"GlyphRenderer\",\"attributes\":{\"id\":\"cda10b0a-27c4-4f84-cf38-3416b3b47e43\",\"data_source\":{\"type\":\"ColumnDataSource\",\"id\":\"d6b363ef-9b5c-4a74-ca3d-156b784a1a37\"},\"nonselection_glyph\":{\"type\":\"Line\",\"id\":\"6c2ff622-cbf2-4b9b-cb58-4a82d3d5b954\"},\"server_data_source\":null,\"tags\":[],\"selection_glyph\":null,\"glyph\":{\"type\":\"Line\",\"id\":\"cd87abdd-3eb6-4362-c375-3bcb7d0044aa\"},\"name\":null,\"doc\":null},\"id\":\"cda10b0a-27c4-4f84-cf38-3416b3b47e43\"},{\"type\":\"ColumnDataSource\",\"attributes\":{\"id\":\"b660333b-6f78-4cfa-cc08-8608c097d254\",\"tags\":[],\"selected\":[],\"data\":{\"y\":[164.95370483398,6.9816427230835,3.7362909317017,2.5506057739258,1.9561100006104,1.63219165802,1.4095568656921,1.2454280853271,1.1068730354309,0.99226474761963,0.90947532653809,0.8532338142395,0.7959623336792,0.7380166053772,0.70703601837158],\"x\":[1,2,3,4,5,6,7,8,9,10,11,12,13,14,15]},\"discrete_ranges\":{},\"column_names\":[\"y\",\"x\"],\"cont_ranges\":{},\"doc\":null},\"id\":\"b660333b-6f78-4cfa-cc08-8608c097d254\"},{\"type\":\"Line\",\"attributes\":{\"id\":\"3b896e67-fcf7-49de-c925-ffa377eeb0d0\",\"line_color\":{\"value\":\"blue\"},\"fill_color\":{\"value\":\"blue\"},\"y\":{\"units\":\"data\",\"field\":\"y\"},\"tags\":[],\"fill_alpha\":{\"units\":\"data\",\"value\":0.2},\"x\":{\"units\":\"data\",\"field\":\"x\"},\"line_alpha\":{\"units\":\"data\",\"value\":1},\"size\":{\"units\":\"screen\",\"value\":10},\"doc\":null},\"id\":\"3b896e67-fcf7-49de-c925-ffa377eeb0d0\"},{\"type\":\"Line\",\"attributes\":{\"id\":\"8a9228f1-d227-4a57-ca18-84058fdb84ac\",\"line_color\":{\"value\":\"blue\"},\"fill_color\":{\"value\":\"blue\"},\"y\":{\"units\":\"data\",\"field\":\"y\"},\"tags\":[],\"fill_alpha\":{\"units\":\"data\",\"value\":0.2},\"x\":{\"units\":\"data\",\"field\":\"x\"},\"line_alpha\":{\"units\":\"data\",\"value\":1},\"size\":{\"units\":\"screen\",\"value\":10},\"doc\":null},\"id\":\"8a9228f1-d227-4a57-ca18-84058fdb84ac\"},{\"type\":\"GlyphRenderer\",\"attributes\":{\"id\":\"bcb20531-ab58-4024-c038-61962a06b0c3\",\"data_source\":{\"type\":\"ColumnDataSource\",\"id\":\"b660333b-6f78-4cfa-cc08-8608c097d254\"},\"nonselection_glyph\":{\"type\":\"Line\",\"id\":\"8a9228f1-d227-4a57-ca18-84058fdb84ac\"},\"server_data_source\":null,\"tags\":[],\"selection_glyph\":null,\"glyph\":{\"type\":\"Line\",\"id\":\"3b896e67-fcf7-49de-c925-ffa377eeb0d0\"},\"name\":null,\"doc\":null},\"id\":\"bcb20531-ab58-4024-c038-61962a06b0c3\"},{\"type\":\"DataRange1d\",\"attributes\":{\"id\":\"b61396ec-ee6e-41d4-c19a-b9847d29f993\",\"tags\":[],\"sources\":[{\"source\":{\"id\":\"d6b363ef-9b5c-4a74-ca3d-156b784a1a37\",\"type\":\"ColumnDataSource\"},\"columns\":[\"x\"]},{\"source\":{\"id\":\"b660333b-6f78-4cfa-cc08-8608c097d254\",\"type\":\"ColumnDataSource\"},\"columns\":[\"x\"]}],\"doc\":null},\"id\":\"b61396ec-ee6e-41d4-c19a-b9847d29f993\"},{\"type\":\"DataRange1d\",\"attributes\":{\"id\":\"4588b2aa-188c-4caa-cc92-96702680bb08\",\"tags\":[],\"sources\":[{\"source\":{\"id\":\"d6b363ef-9b5c-4a74-ca3d-156b784a1a37\",\"type\":\"ColumnDataSource\"},\"columns\":[\"y\"]},{\"source\":{\"id\":\"b660333b-6f78-4cfa-cc08-8608c097d254\",\"type\":\"ColumnDataSource\"},\"columns\":[\"y\"]}],\"doc\":null},\"id\":\"4588b2aa-188c-4caa-cc92-96702680bb08\"},{\"type\":\"ToolEvents\",\"attributes\":{\"id\":\"0d855208-3e1b-428d-c29c-efc5837ca6b2\",\"tags\":[],\"geometries\":[],\"doc\":null},\"id\":\"0d855208-3e1b-428d-c29c-efc5837ca6b2\"},{\"type\":\"BasicTickFormatter\",\"attributes\":{\"id\":\"687c7ab5-8846-4b47-cb87-f03c6998c8eb\",\"tags\":[],\"doc\":null},\"id\":\"687c7ab5-8846-4b47-cb87-f03c6998c8eb\"},{\"type\":\"BasicTicker\",\"attributes\":{\"id\":\"aed2873a-24e6-40a6-c0ef-46db47f3811f\",\"tags\":[],\"num_minor_ticks\":5,\"doc\":null},\"id\":\"aed2873a-24e6-40a6-c0ef-46db47f3811f\"},{\"type\":\"LinearAxis\",\"attributes\":{\"id\":\"6ab36f1b-c419-4058-c0c1-56540e927c33\",\"tags\":[],\"plot\":{\"type\":\"Plot\",\"id\":\"f741121f-8628-441a-c45e-6c53b693dfc2\",\"subtype\":\"Figure\"},\"ticker\":{\"type\":\"BasicTicker\",\"id\":\"aed2873a-24e6-40a6-c0ef-46db47f3811f\"},\"axis_label\":\"Scaled number of iterations\",\"formatter\":{\"type\":\"BasicTickFormatter\",\"id\":\"687c7ab5-8846-4b47-cb87-f03c6998c8eb\"},\"doc\":null},\"id\":\"6ab36f1b-c419-4058-c0c1-56540e927c33\"},{\"type\":\"Grid\",\"attributes\":{\"id\":\"1df9dd7d-5ece-4928-c926-7761e26c69a6\",\"tags\":[],\"plot\":{\"type\":\"Plot\",\"id\":\"f741121f-8628-441a-c45e-6c53b693dfc2\",\"subtype\":\"Figure\"},\"ticker\":{\"type\":\"BasicTicker\",\"id\":\"aed2873a-24e6-40a6-c0ef-46db47f3811f\"},\"dimension\":0,\"doc\":null},\"id\":\"1df9dd7d-5ece-4928-c926-7761e26c69a6\"},{\"type\":\"BasicTickFormatter\",\"attributes\":{\"id\":\"4e0fd0e5-ebe6-452b-c508-cd85dc46de96\",\"tags\":[],\"doc\":null},\"id\":\"4e0fd0e5-ebe6-452b-c508-cd85dc46de96\"},{\"type\":\"BasicTicker\",\"attributes\":{\"id\":\"63cf86f0-6b94-4fe1-cf30-beb8e112b5e1\",\"tags\":[],\"num_minor_ticks\":5,\"doc\":null},\"id\":\"63cf86f0-6b94-4fe1-cf30-beb8e112b5e1\"},{\"type\":\"LinearAxis\",\"attributes\":{\"id\":\"5c17296a-18ac-40d0-c0c4-a2e5e07c1c60\",\"tags\":[],\"plot\":{\"type\":\"Plot\",\"id\":\"f741121f-8628-441a-c45e-6c53b693dfc2\",\"subtype\":\"Figure\"},\"ticker\":{\"type\":\"BasicTicker\",\"id\":\"63cf86f0-6b94-4fe1-cf30-beb8e112b5e1\"},\"axis_label\":\"Exploitability\",\"formatter\":{\"type\":\"BasicTickFormatter\",\"id\":\"4e0fd0e5-ebe6-452b-c508-cd85dc46de96\"},\"doc\":null},\"id\":\"5c17296a-18ac-40d0-c0c4-a2e5e07c1c60\"},{\"type\":\"Grid\",\"attributes\":{\"id\":\"61b01f13-247a-453c-c5f9-a0aee85cdbcb\",\"tags\":[],\"plot\":{\"type\":\"Plot\",\"id\":\"f741121f-8628-441a-c45e-6c53b693dfc2\",\"subtype\":\"Figure\"},\"ticker\":{\"type\":\"BasicTicker\",\"id\":\"63cf86f0-6b94-4fe1-cf30-beb8e112b5e1\"},\"dimension\":1,\"doc\":null},\"id\":\"61b01f13-247a-453c-c5f9-a0aee85cdbcb\"},{\"type\":\"PanTool\",\"attributes\":{\"id\":\"6d127f7b-737f-4dee-cd25-1c14f8683df6\",\"tags\":[],\"plot\":{\"type\":\"Plot\",\"id\":\"f741121f-8628-441a-c45e-6c53b693dfc2\",\"subtype\":\"Figure\"},\"dimensions\":[\"width\",\"height\"],\"doc\":null},\"id\":\"6d127f7b-737f-4dee-cd25-1c14f8683df6\"},{\"type\":\"WheelZoomTool\",\"attributes\":{\"id\":\"d5322132-5693-4095-c05e-61996d26abfe\",\"tags\":[],\"plot\":{\"type\":\"Plot\",\"id\":\"f741121f-8628-441a-c45e-6c53b693dfc2\",\"subtype\":\"Figure\"},\"dimensions\":[\"width\",\"height\"],\"doc\":null},\"id\":\"d5322132-5693-4095-c05e-61996d26abfe\"},{\"type\":\"BoxZoomTool\",\"attributes\":{\"id\":\"b267d9d1-cb5f-427a-c2a5-a5cc605b6355\",\"tags\":[],\"plot\":{\"type\":\"Plot\",\"id\":\"f741121f-8628-441a-c45e-6c53b693dfc2\",\"subtype\":\"Figure\"},\"doc\":null},\"id\":\"b267d9d1-cb5f-427a-c2a5-a5cc605b6355\"},{\"type\":\"PreviewSaveTool\",\"attributes\":{\"id\":\"b1254aaa-da50-449a-c4eb-618458434ad5\",\"tags\":[],\"plot\":{\"type\":\"Plot\",\"id\":\"f741121f-8628-441a-c45e-6c53b693dfc2\",\"subtype\":\"Figure\"},\"doc\":null},\"id\":\"b1254aaa-da50-449a-c4eb-618458434ad5\"},{\"type\":\"ResizeTool\",\"attributes\":{\"id\":\"1fa20c75-6027-41aa-c1cb-8f496a5283b8\",\"tags\":[],\"plot\":{\"type\":\"Plot\",\"id\":\"f741121f-8628-441a-c45e-6c53b693dfc2\",\"subtype\":\"Figure\"},\"doc\":null},\"id\":\"1fa20c75-6027-41aa-c1cb-8f496a5283b8\"},{\"type\":\"ResetTool\",\"attributes\":{\"id\":\"d73b775f-0c12-4390-c36c-d64b2e5bef96\",\"tags\":[],\"plot\":{\"type\":\"Plot\",\"id\":\"f741121f-8628-441a-c45e-6c53b693dfc2\",\"subtype\":\"Figure\"},\"doc\":null},\"id\":\"d73b775f-0c12-4390-c36c-d64b2e5bef96\"},{\"type\":\"Legend\",\"attributes\":{\"id\":\"5e76a0f1-670c-4198-c1dd-211aaad594a8\",\"tags\":[],\"plot\":{\"type\":\"Plot\",\"id\":\"f741121f-8628-441a-c45e-6c53b693dfc2\",\"subtype\":\"Figure\"},\"legends\":[[\"Original CFR\",[{\"type\":\"GlyphRenderer\",\"id\":\"cda10b0a-27c4-4f84-cf38-3416b3b47e43\"}]],[\"Modified CFR\",[{\"type\":\"GlyphRenderer\",\"id\":\"bcb20531-ab58-4024-c038-61962a06b0c3\"}]]],\"doc\":null},\"id\":\"5e76a0f1-670c-4198-c1dd-211aaad594a8\"},{\"type\":\"Plot\",\"attributes\":{\"id\":\"f741121f-8628-441a-c45e-6c53b693dfc2\",\"below\":[{\"type\":\"LinearAxis\",\"id\":\"6ab36f1b-c419-4058-c0c1-56540e927c33\"}],\"extra_y_ranges\":{},\"tool_events\":{\"type\":\"ToolEvents\",\"id\":\"0d855208-3e1b-428d-c29c-efc5837ca6b2\"},\"renderers\":[{\"type\":\"GlyphRenderer\",\"id\":\"cda10b0a-27c4-4f84-cf38-3416b3b47e43\"},{\"type\":\"GlyphRenderer\",\"id\":\"bcb20531-ab58-4024-c038-61962a06b0c3\"},{\"type\":\"LinearAxis\",\"id\":\"6ab36f1b-c419-4058-c0c1-56540e927c33\"},{\"type\":\"Grid\",\"id\":\"1df9dd7d-5ece-4928-c926-7761e26c69a6\"},{\"type\":\"LinearAxis\",\"id\":\"5c17296a-18ac-40d0-c0c4-a2e5e07c1c60\"},{\"type\":\"Grid\",\"id\":\"61b01f13-247a-453c-c5f9-a0aee85cdbcb\"},{\"type\":\"Legend\",\"id\":\"5e76a0f1-670c-4198-c1dd-211aaad594a8\"}],\"extra_x_ranges\":{},\"tools\":[{\"type\":\"PanTool\",\"id\":\"6d127f7b-737f-4dee-cd25-1c14f8683df6\"},{\"type\":\"WheelZoomTool\",\"id\":\"d5322132-5693-4095-c05e-61996d26abfe\"},{\"type\":\"BoxZoomTool\",\"id\":\"b267d9d1-cb5f-427a-c2a5-a5cc605b6355\"},{\"type\":\"PreviewSaveTool\",\"id\":\"b1254aaa-da50-449a-c4eb-618458434ad5\"},{\"type\":\"ResizeTool\",\"id\":\"1fa20c75-6027-41aa-c1cb-8f496a5283b8\"},{\"type\":\"ResetTool\",\"id\":\"d73b775f-0c12-4390-c36c-d64b2e5bef96\"}],\"left\":[{\"type\":\"LinearAxis\",\"id\":\"5c17296a-18ac-40d0-c0c4-a2e5e07c1c60\"}],\"tags\":[],\"above\":[],\"right\":[],\"title\":\"Exploitability of the CFRs - 2000 iterations\",\"x_range\":{\"type\":\"DataRange1d\",\"id\":\"b61396ec-ee6e-41d4-c19a-b9847d29f993\"},\"y_range\":{\"type\":\"DataRange1d\",\"id\":\"4588b2aa-188c-4caa-cc92-96702680bb08\"},\"doc\":null},\"id\":\"f741121f-8628-441a-c45e-6c53b693dfc2\"}];\n",
       "      Bokeh.load_models(all_models);\n",
       "      var model = Bokeh.Collections(modeltype).get(modelid);\n",
       "      $(\"#fb04eb31-f785-47b8-c7d6-d5a8baa45988\").html(''); // clear any previous plot in window_id\n",
       "      var view = new model.default_view({model: model, el: \"#fb04eb31-f785-47b8-c7d6-d5a8baa45988\"});\n",
       "  });\n",
       "    }\n",
       "});\n",
       "</script>\n",
       "<div class=\"plotdiv\" id=\"fb04eb31-f785-47b8-c7d6-d5a8baa45988\"></div>\n"
      ]
     },
     "metadata": {},
     "output_type": "display_data"
    }
   ],
   "source": [
    "local num_iter = torch.range(1,exploit_2000_original:size(1))\n",
    "local plot = Plot()\n",
    "\n",
    "plot:line(num_iter,exploit_2000_original,'red' ,'Original CFR')\n",
    "plot:line(num_iter,exploit_2000_mod,'blue' ,'Modified CFR')\n",
    "plot:legend(true):title('Exploitability of the CFRs - 2000 iterations')\n",
    "plot:xaxis('Scaled number of iterations'):yaxis('Exploitability'):redraw()\n"
   ]
  },
  {
   "cell_type": "markdown",
   "metadata": {},
   "source": [
    "### 2. Exploitability for different Strategies"
   ]
  },
  {
   "cell_type": "code",
   "execution_count": 8,
   "metadata": {
    "collapsed": true
   },
   "outputs": [],
   "source": [
    "number_of_iterations = 10"
   ]
  },
  {
   "cell_type": "code",
   "execution_count": 9,
   "metadata": {
    "collapsed": true
   },
   "outputs": [],
   "source": [
    "--- Get Data from 2000 iterations\n",
    "tree800 = builder:build_tree(params)\n",
    "tree_data800 = TreeData(tree800)\n",
    "tree800_cfr = TreeCFR()\n",
    "tree800_cfr:run_cfr(tree800, starting_ranges,number_of_iterations)\n",
    "tree_data800:get_training_set(tree800,1)"
   ]
  },
  {
   "cell_type": "markdown",
   "metadata": {},
   "source": [
    "### Training the Model"
   ]
  },
  {
   "cell_type": "code",
   "execution_count": 10,
   "metadata": {
    "collapsed": true
   },
   "outputs": [],
   "source": [
    "-- Building the neural net model\n",
    "strategy_nn = StrategyNN()\n",
    "nn_model = strategy_nn.model\n",
    "-- Building trainer:\n",
    "nn_trainer = NNTrainer(tree_data800,nn_model)\n",
    "-- Options:\n",
    "opt = {}\n",
    "opt.learningRate = 0.001\n",
    "opt.momentum = 0.95\n",
    "opt.validate = false"
   ]
  },
  {
   "cell_type": "code",
   "execution_count": 11,
   "metadata": {
    "collapsed": true
   },
   "outputs": [],
   "source": [
    "current_criterion = nn.SmoothL1Criterion()\n",
    "train_loss,test_loss = nn_trainer:train(nn_model,current_criterion,opt,10000)"
   ]
  },
  {
   "cell_type": "code",
   "execution_count": 12,
   "metadata": {},
   "outputs": [],
   "source": [
    "pred_strat = nn_model:forward({nn_trainer.all_data.features,nn_trainer.all_data.masks})\n",
    "true_strat =nn_trainer.all_data.targets\n",
    "print(torch.mean(torch.abs(pred_strat- true_strat)))"
   ]
  },
  {
   "cell_type": "markdown",
   "metadata": {},
   "source": [
    "### No Warm Start"
   ]
  },
  {
   "cell_type": "code",
   "execution_count": 13,
   "metadata": {},
   "outputs": [
    {
     "data": {
      "text/plain": [
       "0.011948538741145\n"
      ]
     },
     "execution_count": 12,
     "metadata": {},
     "output_type": "execute_result"
    },
    {
     "data": {
      "text/plain": [
       "Solver\n"
      ]
     },
     "execution_count": 13,
     "metadata": {},
     "output_type": "execute_result"
    }
   ],
   "source": [
    "--- Building CFR Solver\n",
    "treeNoWarm = builder:build_tree(params)\n",
    "treeNoWarm_cfr = TreeCFR2()\n",
    "print(\"Solver\")\n",
    "treeNoWarm_cfr:run_cfr(treeNoWarm, starting_ranges,number_of_iterations)"
   ]
  },
  {
   "cell_type": "markdown",
   "metadata": {},
   "source": [
    "### Neural Net Start "
   ]
  },
  {
   "cell_type": "code",
   "execution_count": 14,
   "metadata": {
    "collapsed": true
   },
   "outputs": [],
   "source": [
    "--- NNWarm Starting\n",
    "treeNNWarm = builder:build_tree(params)\n",
    "dataNN = TreeData(treeNNWarm)\n",
    "dataNN:get_training_set(treeNNWarm,1)\n",
    "dataNN:generate_new_initial_strategies(treeNNWarm,nn_trainer)"
   ]
  },
  {
   "cell_type": "code",
   "execution_count": 15,
   "metadata": {
    "collapsed": true
   },
   "outputs": [],
   "source": [
    "--- Building CFR Solver\n",
    "treeNNWarm_cfr = TreeCFR2()\n",
    "treeNNWarm_cfr:run_cfr(treeNNWarm, starting_ranges,number_of_iterations)"
   ]
  },
  {
   "cell_type": "markdown",
   "metadata": {},
   "source": [
    "### Target Warm Start "
   ]
  },
  {
   "cell_type": "code",
   "execution_count": 16,
   "metadata": {
    "collapsed": true
   },
   "outputs": [],
   "source": [
    "--- Target Warm Starting\n",
    "treeTargWarm = builder:build_tree(params)\n",
    "dataTarg = TreeData(treeTargWarm)\n",
    "dataTarg:get_training_set(treeTargWarm,1)\n",
    "dataTarg:warm_start_targets(treeTargWarm,tree800)"
   ]
  },
  {
   "cell_type": "code",
   "execution_count": 17,
   "metadata": {
    "collapsed": true
   },
   "outputs": [],
   "source": [
    "--- Building CFR Solver\n",
    "treeTargWarm_cfr = TreeCFR2()\n",
    "treeTargWarm_cfr:run_cfr(treeTargWarm, starting_ranges,number_of_iterations)"
   ]
  },
  {
   "cell_type": "markdown",
   "metadata": {},
   "source": [
    "### Plot different starts"
   ]
  },
  {
   "cell_type": "code",
   "execution_count": 18,
   "metadata": {
    "collapsed": true
   },
   "outputs": [],
   "source": [
    "exploit_unif = tree800_cfr.exploitability_vec\n",
    "exploit_NoW = treeNoWarm_cfr.exploitability_vec\n",
    "exploit_NNW = treeNNWarm_cfr.exploitability_vec\n",
    "exploit_TargW = treeTargWarm_cfr.exploitability_vec"
   ]
  },
  {
   "cell_type": "code",
   "execution_count": 19,
   "metadata": {},
   "outputs": [
    {
     "data": {
      "text/html": [
       "<script type=\"text/javascript\">\n",
       "$(function() {\n",
       "    if (typeof (window._bokeh_onload_callbacks) === \"undefined\"){\n",
       "  window._bokeh_onload_callbacks = [];\n",
       "    }\n",
       "    function load_lib(url, callback){\n",
       "  window._bokeh_onload_callbacks.push(callback);\n",
       "  if (window._bokeh_is_loading){\n",
       "      console.log(\"Bokeh: BokehJS is being loaded, scheduling callback at\", new Date());\n",
       "      return null;\n",
       "  }\n",
       "  console.log(\"Bokeh: BokehJS not loaded, scheduling load and callback at\", new Date());\n",
       "  window._bokeh_is_loading = true;\n",
       "  var s = document.createElement('script');\n",
       "  s.src = url;\n",
       "  s.async = true;\n",
       "  s.onreadystatechange = s.onload = function(){\n",
       "      Bokeh.embed.inject_css(\"https://cdn.pydata.org/bokeh-0.7.0.min.css\");\n",
       "      window._bokeh_onload_callbacks.forEach(function(callback){callback()});\n",
       "  };\n",
       "  s.onerror = function(){\n",
       "      console.warn(\"failed to load library \" + url);\n",
       "  };\n",
       "  document.getElementsByTagName(\"head\")[0].appendChild(s);\n",
       "    }\n",
       "\n",
       "    bokehjs_url = \"https://cdn.pydata.org/bokeh-0.7.0.min.js\"\n",
       "\n",
       "    var elt = document.getElementById(\"96fe9310-4560-413d-c1fb-46220ba494a7\");\n",
       "    if(elt==null) {\n",
       "  console.log(\"Bokeh: ERROR: autoload.js configured with elementid '96fe9310-4560-413d-c1fb-46220ba494a7'\"\n",
       "        + \"but no matching script tag was found. \")\n",
       "  return false;\n",
       "    }\n",
       "\n",
       "    if(typeof(Bokeh) !== \"undefined\") {\n",
       "  console.log(\"Bokeh: BokehJS loaded, going straight to plotting\");\n",
       "  var modelid = \"c7fcf4d2-c6af-47a0-c765-956bcd7ab0d0\";\n",
       "  var modeltype = \"Plot\";\n",
       "  var all_models = [{\"type\":\"ColumnDataSource\",\"attributes\":{\"id\":\"8d4b9679-e66d-4276-c2a8-178fadaabea7\",\"tags\":[],\"selected\":[],\"data\":{\"y\":[177.5463104248,177.5463104248,177.5463104248,177.5463104248,177.5463104248,177.5463104248,177.5463104248,177.5463104248,177.5463104248,177.5463104248],\"x\":[1,2,3,4,5,6,7,8,9,10]},\"discrete_ranges\":{},\"column_names\":[\"y\",\"x\"],\"cont_ranges\":{},\"doc\":null},\"id\":\"8d4b9679-e66d-4276-c2a8-178fadaabea7\"},{\"type\":\"Line\",\"attributes\":{\"id\":\"fb47c801-160f-4d36-cd40-49bc4b79e8ec\",\"line_color\":{\"value\":\"black\"},\"fill_color\":{\"value\":\"black\"},\"y\":{\"units\":\"data\",\"field\":\"y\"},\"tags\":[],\"fill_alpha\":{\"units\":\"data\",\"value\":0.2},\"x\":{\"units\":\"data\",\"field\":\"x\"},\"line_alpha\":{\"units\":\"data\",\"value\":1},\"size\":{\"units\":\"screen\",\"value\":10},\"doc\":null},\"id\":\"fb47c801-160f-4d36-cd40-49bc4b79e8ec\"},{\"type\":\"Line\",\"attributes\":{\"id\":\"e440c0af-7779-4581-c5d5-f5f9eb264365\",\"line_color\":{\"value\":\"black\"},\"fill_color\":{\"value\":\"black\"},\"y\":{\"units\":\"data\",\"field\":\"y\"},\"tags\":[],\"fill_alpha\":{\"units\":\"data\",\"value\":0.2},\"x\":{\"units\":\"data\",\"field\":\"x\"},\"line_alpha\":{\"units\":\"data\",\"value\":1},\"size\":{\"units\":\"screen\",\"value\":10},\"doc\":null},\"id\":\"e440c0af-7779-4581-c5d5-f5f9eb264365\"},{\"type\":\"GlyphRenderer\",\"attributes\":{\"id\":\"c5c5c674-6ba2-45bd-c545-c72e1ec9fd13\",\"data_source\":{\"type\":\"ColumnDataSource\",\"id\":\"8d4b9679-e66d-4276-c2a8-178fadaabea7\"},\"nonselection_glyph\":{\"type\":\"Line\",\"id\":\"e440c0af-7779-4581-c5d5-f5f9eb264365\"},\"server_data_source\":null,\"tags\":[],\"selection_glyph\":null,\"glyph\":{\"type\":\"Line\",\"id\":\"fb47c801-160f-4d36-cd40-49bc4b79e8ec\"},\"name\":null,\"doc\":null},\"id\":\"c5c5c674-6ba2-45bd-c545-c72e1ec9fd13\"},{\"type\":\"ColumnDataSource\",\"attributes\":{\"id\":\"6cd7a2f1-6ef2-4c60-ccd4-0a3a18dc0bf4\",\"tags\":[],\"selected\":[],\"data\":{\"y\":[164.95370483398,117.27606964111,109.86892700195,86.46208190918,75.331481933594,72.891540527344,66.38353729248,58.317928314209,53.105262756348,50.271194458008],\"x\":[1,2,3,4,5,6,7,8,9,10]},\"discrete_ranges\":{},\"column_names\":[\"y\",\"x\"],\"cont_ranges\":{},\"doc\":null},\"id\":\"6cd7a2f1-6ef2-4c60-ccd4-0a3a18dc0bf4\"},{\"type\":\"Line\",\"attributes\":{\"id\":\"d3de83c0-ff6a-4667-c65c-183463d2e6f7\",\"line_color\":{\"value\":\"red\"},\"fill_color\":{\"value\":\"red\"},\"y\":{\"units\":\"data\",\"field\":\"y\"},\"tags\":[],\"fill_alpha\":{\"units\":\"data\",\"value\":0.2},\"x\":{\"units\":\"data\",\"field\":\"x\"},\"line_alpha\":{\"units\":\"data\",\"value\":1},\"size\":{\"units\":\"screen\",\"value\":10},\"doc\":null},\"id\":\"d3de83c0-ff6a-4667-c65c-183463d2e6f7\"},{\"type\":\"Line\",\"attributes\":{\"id\":\"d16ad1b9-756a-479a-c7fc-bd01a021e5ad\",\"line_color\":{\"value\":\"red\"},\"fill_color\":{\"value\":\"red\"},\"y\":{\"units\":\"data\",\"field\":\"y\"},\"tags\":[],\"fill_alpha\":{\"units\":\"data\",\"value\":0.2},\"x\":{\"units\":\"data\",\"field\":\"x\"},\"line_alpha\":{\"units\":\"data\",\"value\":1},\"size\":{\"units\":\"screen\",\"value\":10},\"doc\":null},\"id\":\"d16ad1b9-756a-479a-c7fc-bd01a021e5ad\"},{\"type\":\"GlyphRenderer\",\"attributes\":{\"id\":\"543c73ae-4225-4499-c412-e13337bbc9f5\",\"data_source\":{\"type\":\"ColumnDataSource\",\"id\":\"6cd7a2f1-6ef2-4c60-ccd4-0a3a18dc0bf4\"},\"nonselection_glyph\":{\"type\":\"Line\",\"id\":\"d16ad1b9-756a-479a-c7fc-bd01a021e5ad\"},\"server_data_source\":null,\"tags\":[],\"selection_glyph\":null,\"glyph\":{\"type\":\"Line\",\"id\":\"d3de83c0-ff6a-4667-c65c-183463d2e6f7\"},\"name\":null,\"doc\":null},\"id\":\"543c73ae-4225-4499-c412-e13337bbc9f5\"},{\"type\":\"ColumnDataSource\",\"attributes\":{\"id\":\"b7bd3137-05d6-4237-c245-add50c9fa275\",\"tags\":[],\"selected\":[],\"data\":{\"y\":[164.97024536133,123.10029602051,113.68503570557,89.112686157227,82.533935546875,76.631408691406,66.417953491211,55.434886932373,47.841968536377,46.1594581604],\"x\":[1,2,3,4,5,6,7,8,9,10]},\"discrete_ranges\":{},\"column_names\":[\"y\",\"x\"],\"cont_ranges\":{},\"doc\":null},\"id\":\"b7bd3137-05d6-4237-c245-add50c9fa275\"},{\"type\":\"Line\",\"attributes\":{\"id\":\"1cb90469-891a-436f-c33e-54a1608bc414\",\"line_color\":{\"value\":\"blue\"},\"fill_color\":{\"value\":\"blue\"},\"y\":{\"units\":\"data\",\"field\":\"y\"},\"tags\":[],\"fill_alpha\":{\"units\":\"data\",\"value\":0.2},\"x\":{\"units\":\"data\",\"field\":\"x\"},\"line_alpha\":{\"units\":\"data\",\"value\":1},\"size\":{\"units\":\"screen\",\"value\":10},\"doc\":null},\"id\":\"1cb90469-891a-436f-c33e-54a1608bc414\"},{\"type\":\"Line\",\"attributes\":{\"id\":\"c30c2f78-d656-4eda-ce47-d0b4e5de692e\",\"line_color\":{\"value\":\"blue\"},\"fill_color\":{\"value\":\"blue\"},\"y\":{\"units\":\"data\",\"field\":\"y\"},\"tags\":[],\"fill_alpha\":{\"units\":\"data\",\"value\":0.2},\"x\":{\"units\":\"data\",\"field\":\"x\"},\"line_alpha\":{\"units\":\"data\",\"value\":1},\"size\":{\"units\":\"screen\",\"value\":10},\"doc\":null},\"id\":\"c30c2f78-d656-4eda-ce47-d0b4e5de692e\"},{\"type\":\"GlyphRenderer\",\"attributes\":{\"id\":\"8d8759b9-f83c-443c-c4d2-66de9a09c17c\",\"data_source\":{\"type\":\"ColumnDataSource\",\"id\":\"b7bd3137-05d6-4237-c245-add50c9fa275\"},\"nonselection_glyph\":{\"type\":\"Line\",\"id\":\"c30c2f78-d656-4eda-ce47-d0b4e5de692e\"},\"server_data_source\":null,\"tags\":[],\"selection_glyph\":null,\"glyph\":{\"type\":\"Line\",\"id\":\"1cb90469-891a-436f-c33e-54a1608bc414\"},\"name\":null,\"doc\":null},\"id\":\"8d8759b9-f83c-443c-c4d2-66de9a09c17c\"},{\"type\":\"ColumnDataSource\",\"attributes\":{\"id\":\"fa5aba2a-e04f-4d26-cde8-0597f1d49136\",\"tags\":[],\"selected\":[],\"data\":{\"y\":[164.95370483398,117.27606964111,109.86892700195,86.46208190918,75.331481933594,72.891540527344,66.38353729248,58.317928314209,53.105262756348,50.271194458008],\"x\":[1,2,3,4,5,6,7,8,9,10]},\"discrete_ranges\":{},\"column_names\":[\"y\",\"x\"],\"cont_ranges\":{},\"doc\":null},\"id\":\"fa5aba2a-e04f-4d26-cde8-0597f1d49136\"},{\"type\":\"Line\",\"attributes\":{\"id\":\"0795a427-114e-435e-c308-c11046c55f4d\",\"line_color\":{\"value\":\"green\"},\"fill_color\":{\"value\":\"green\"},\"y\":{\"units\":\"data\",\"field\":\"y\"},\"tags\":[],\"fill_alpha\":{\"units\":\"data\",\"value\":0.2},\"x\":{\"units\":\"data\",\"field\":\"x\"},\"line_alpha\":{\"units\":\"data\",\"value\":1},\"size\":{\"units\":\"screen\",\"value\":10},\"doc\":null},\"id\":\"0795a427-114e-435e-c308-c11046c55f4d\"},{\"type\":\"Line\",\"attributes\":{\"id\":\"5af79fb2-5827-4490-c4b0-ce75bc295303\",\"line_color\":{\"value\":\"green\"},\"fill_color\":{\"value\":\"green\"},\"y\":{\"units\":\"data\",\"field\":\"y\"},\"tags\":[],\"fill_alpha\":{\"units\":\"data\",\"value\":0.2},\"x\":{\"units\":\"data\",\"field\":\"x\"},\"line_alpha\":{\"units\":\"data\",\"value\":1},\"size\":{\"units\":\"screen\",\"value\":10},\"doc\":null},\"id\":\"5af79fb2-5827-4490-c4b0-ce75bc295303\"},{\"type\":\"GlyphRenderer\",\"attributes\":{\"id\":\"70ceee90-9193-4cba-cc82-71798b9526b9\",\"data_source\":{\"type\":\"ColumnDataSource\",\"id\":\"fa5aba2a-e04f-4d26-cde8-0597f1d49136\"},\"nonselection_glyph\":{\"type\":\"Line\",\"id\":\"5af79fb2-5827-4490-c4b0-ce75bc295303\"},\"server_data_source\":null,\"tags\":[],\"selection_glyph\":null,\"glyph\":{\"type\":\"Line\",\"id\":\"0795a427-114e-435e-c308-c11046c55f4d\"},\"name\":null,\"doc\":null},\"id\":\"70ceee90-9193-4cba-cc82-71798b9526b9\"},{\"type\":\"DataRange1d\",\"attributes\":{\"id\":\"86589608-e8c1-4268-c229-b108b12b40f2\",\"tags\":[],\"sources\":[{\"source\":{\"id\":\"8d4b9679-e66d-4276-c2a8-178fadaabea7\",\"type\":\"ColumnDataSource\"},\"columns\":[\"x\"]},{\"source\":{\"id\":\"6cd7a2f1-6ef2-4c60-ccd4-0a3a18dc0bf4\",\"type\":\"ColumnDataSource\"},\"columns\":[\"x\"]},{\"source\":{\"id\":\"b7bd3137-05d6-4237-c245-add50c9fa275\",\"type\":\"ColumnDataSource\"},\"columns\":[\"x\"]},{\"source\":{\"id\":\"fa5aba2a-e04f-4d26-cde8-0597f1d49136\",\"type\":\"ColumnDataSource\"},\"columns\":[\"x\"]}],\"doc\":null},\"id\":\"86589608-e8c1-4268-c229-b108b12b40f2\"},{\"type\":\"DataRange1d\",\"attributes\":{\"id\":\"bed14955-a7d5-4c70-cc0f-62a48435bcb0\",\"tags\":[],\"sources\":[{\"source\":{\"id\":\"8d4b9679-e66d-4276-c2a8-178fadaabea7\",\"type\":\"ColumnDataSource\"},\"columns\":[\"y\"]},{\"source\":{\"id\":\"6cd7a2f1-6ef2-4c60-ccd4-0a3a18dc0bf4\",\"type\":\"ColumnDataSource\"},\"columns\":[\"y\"]},{\"source\":{\"id\":\"b7bd3137-05d6-4237-c245-add50c9fa275\",\"type\":\"ColumnDataSource\"},\"columns\":[\"y\"]},{\"source\":{\"id\":\"fa5aba2a-e04f-4d26-cde8-0597f1d49136\",\"type\":\"ColumnDataSource\"},\"columns\":[\"y\"]}],\"doc\":null},\"id\":\"bed14955-a7d5-4c70-cc0f-62a48435bcb0\"},{\"type\":\"ToolEvents\",\"attributes\":{\"id\":\"835d801f-6ad0-478a-c7bb-a18c82b483b8\",\"tags\":[],\"geometries\":[],\"doc\":null},\"id\":\"835d801f-6ad0-478a-c7bb-a18c82b483b8\"},{\"type\":\"BasicTickFormatter\",\"attributes\":{\"id\":\"f9b4f261-a12f-4d4d-cdb3-d97dcc2d733b\",\"tags\":[],\"doc\":null},\"id\":\"f9b4f261-a12f-4d4d-cdb3-d97dcc2d733b\"},{\"type\":\"BasicTicker\",\"attributes\":{\"id\":\"0687df56-75ac-4098-c0d2-6c0dd823ecdb\",\"tags\":[],\"num_minor_ticks\":5,\"doc\":null},\"id\":\"0687df56-75ac-4098-c0d2-6c0dd823ecdb\"},{\"type\":\"LinearAxis\",\"attributes\":{\"id\":\"d105f946-bc19-44c8-c4cc-9a048ca0074f\",\"tags\":[],\"plot\":{\"type\":\"Plot\",\"id\":\"c7fcf4d2-c6af-47a0-c765-956bcd7ab0d0\",\"subtype\":\"Figure\"},\"ticker\":{\"type\":\"BasicTicker\",\"id\":\"0687df56-75ac-4098-c0d2-6c0dd823ecdb\"},\"axis_label\":\"Scaled number of iterations\",\"formatter\":{\"type\":\"BasicTickFormatter\",\"id\":\"f9b4f261-a12f-4d4d-cdb3-d97dcc2d733b\"},\"doc\":null},\"id\":\"d105f946-bc19-44c8-c4cc-9a048ca0074f\"},{\"type\":\"Grid\",\"attributes\":{\"id\":\"9352a6d0-bcbc-4f21-cf50-001a91e2369d\",\"tags\":[],\"plot\":{\"type\":\"Plot\",\"id\":\"c7fcf4d2-c6af-47a0-c765-956bcd7ab0d0\",\"subtype\":\"Figure\"},\"ticker\":{\"type\":\"BasicTicker\",\"id\":\"0687df56-75ac-4098-c0d2-6c0dd823ecdb\"},\"dimension\":0,\"doc\":null},\"id\":\"9352a6d0-bcbc-4f21-cf50-001a91e2369d\"},{\"type\":\"BasicTickFormatter\",\"attributes\":{\"id\":\"3de01660-97cd-43a5-c310-fb97f654dd40\",\"tags\":[],\"doc\":null},\"id\":\"3de01660-97cd-43a5-c310-fb97f654dd40\"},{\"type\":\"BasicTicker\",\"attributes\":{\"id\":\"7928deb6-0a12-4a2f-ca3c-ae31a6584551\",\"tags\":[],\"num_minor_ticks\":5,\"doc\":null},\"id\":\"7928deb6-0a12-4a2f-ca3c-ae31a6584551\"},{\"type\":\"LinearAxis\",\"attributes\":{\"id\":\"05fa3aa9-38ed-4fc9-cfa6-622ebd418806\",\"tags\":[],\"plot\":{\"type\":\"Plot\",\"id\":\"c7fcf4d2-c6af-47a0-c765-956bcd7ab0d0\",\"subtype\":\"Figure\"},\"ticker\":{\"type\":\"BasicTicker\",\"id\":\"7928deb6-0a12-4a2f-ca3c-ae31a6584551\"},\"axis_label\":\"Exploitability\",\"formatter\":{\"type\":\"BasicTickFormatter\",\"id\":\"3de01660-97cd-43a5-c310-fb97f654dd40\"},\"doc\":null},\"id\":\"05fa3aa9-38ed-4fc9-cfa6-622ebd418806\"},{\"type\":\"Grid\",\"attributes\":{\"id\":\"487beff7-96e2-48de-c831-4f3982d1388b\",\"tags\":[],\"plot\":{\"type\":\"Plot\",\"id\":\"c7fcf4d2-c6af-47a0-c765-956bcd7ab0d0\",\"subtype\":\"Figure\"},\"ticker\":{\"type\":\"BasicTicker\",\"id\":\"7928deb6-0a12-4a2f-ca3c-ae31a6584551\"},\"dimension\":1,\"doc\":null},\"id\":\"487beff7-96e2-48de-c831-4f3982d1388b\"},{\"type\":\"PanTool\",\"attributes\":{\"id\":\"312ea5e4-7e47-435a-c3b1-150b5c3e4b92\",\"tags\":[],\"plot\":{\"type\":\"Plot\",\"id\":\"c7fcf4d2-c6af-47a0-c765-956bcd7ab0d0\",\"subtype\":\"Figure\"},\"dimensions\":[\"width\",\"height\"],\"doc\":null},\"id\":\"312ea5e4-7e47-435a-c3b1-150b5c3e4b92\"},{\"type\":\"WheelZoomTool\",\"attributes\":{\"id\":\"6259dd4a-eb52-4fa9-cfef-84cbcf4e9352\",\"tags\":[],\"plot\":{\"type\":\"Plot\",\"id\":\"c7fcf4d2-c6af-47a0-c765-956bcd7ab0d0\",\"subtype\":\"Figure\"},\"dimensions\":[\"width\",\"height\"],\"doc\":null},\"id\":\"6259dd4a-eb52-4fa9-cfef-84cbcf4e9352\"},{\"type\":\"BoxZoomTool\",\"attributes\":{\"id\":\"190fb031-6e84-428b-c29c-01fb86a4a030\",\"tags\":[],\"plot\":{\"type\":\"Plot\",\"id\":\"c7fcf4d2-c6af-47a0-c765-956bcd7ab0d0\",\"subtype\":\"Figure\"},\"doc\":null},\"id\":\"190fb031-6e84-428b-c29c-01fb86a4a030\"},{\"type\":\"PreviewSaveTool\",\"attributes\":{\"id\":\"492b71ed-2465-4f32-cfcd-ded354929a15\",\"tags\":[],\"plot\":{\"type\":\"Plot\",\"id\":\"c7fcf4d2-c6af-47a0-c765-956bcd7ab0d0\",\"subtype\":\"Figure\"},\"doc\":null},\"id\":\"492b71ed-2465-4f32-cfcd-ded354929a15\"},{\"type\":\"ResizeTool\",\"attributes\":{\"id\":\"ce1b6abe-52a8-4081-c02d-73446874f4f5\",\"tags\":[],\"plot\":{\"type\":\"Plot\",\"id\":\"c7fcf4d2-c6af-47a0-c765-956bcd7ab0d0\",\"subtype\":\"Figure\"},\"doc\":null},\"id\":\"ce1b6abe-52a8-4081-c02d-73446874f4f5\"},{\"type\":\"ResetTool\",\"attributes\":{\"id\":\"7b2caf84-e898-46be-c658-61f6d419211a\",\"tags\":[],\"plot\":{\"type\":\"Plot\",\"id\":\"c7fcf4d2-c6af-47a0-c765-956bcd7ab0d0\",\"subtype\":\"Figure\"},\"doc\":null},\"id\":\"7b2caf84-e898-46be-c658-61f6d419211a\"},{\"type\":\"Legend\",\"attributes\":{\"id\":\"c9cbc761-5923-4e18-ce1e-b4b61694ee96\",\"tags\":[],\"plot\":{\"type\":\"Plot\",\"id\":\"c7fcf4d2-c6af-47a0-c765-956bcd7ab0d0\",\"subtype\":\"Figure\"},\"legends\":[[\"Original CFR in the paper\",[{\"type\":\"GlyphRenderer\",\"id\":\"c5c5c674-6ba2-45bd-c545-c72e1ec9fd13\"}]],[\"No Warm start CFR\",[{\"type\":\"GlyphRenderer\",\"id\":\"543c73ae-4225-4499-c412-e13337bbc9f5\"}]],[\"Neural Net warm start CFR\",[{\"type\":\"GlyphRenderer\",\"id\":\"8d8759b9-f83c-443c-c4d2-66de9a09c17c\"}]],[\"Warm start with target values\",[{\"type\":\"GlyphRenderer\",\"id\":\"70ceee90-9193-4cba-cc82-71798b9526b9\"}]]],\"doc\":null},\"id\":\"c9cbc761-5923-4e18-ce1e-b4b61694ee96\"},{\"type\":\"Plot\",\"attributes\":{\"id\":\"c7fcf4d2-c6af-47a0-c765-956bcd7ab0d0\",\"below\":[{\"type\":\"LinearAxis\",\"id\":\"d105f946-bc19-44c8-c4cc-9a048ca0074f\"}],\"extra_y_ranges\":{},\"tool_events\":{\"type\":\"ToolEvents\",\"id\":\"835d801f-6ad0-478a-c7bb-a18c82b483b8\"},\"renderers\":[{\"type\":\"GlyphRenderer\",\"id\":\"c5c5c674-6ba2-45bd-c545-c72e1ec9fd13\"},{\"type\":\"GlyphRenderer\",\"id\":\"543c73ae-4225-4499-c412-e13337bbc9f5\"},{\"type\":\"GlyphRenderer\",\"id\":\"8d8759b9-f83c-443c-c4d2-66de9a09c17c\"},{\"type\":\"GlyphRenderer\",\"id\":\"70ceee90-9193-4cba-cc82-71798b9526b9\"},{\"type\":\"LinearAxis\",\"id\":\"d105f946-bc19-44c8-c4cc-9a048ca0074f\"},{\"type\":\"Grid\",\"id\":\"9352a6d0-bcbc-4f21-cf50-001a91e2369d\"},{\"type\":\"LinearAxis\",\"id\":\"05fa3aa9-38ed-4fc9-cfa6-622ebd418806\"},{\"type\":\"Grid\",\"id\":\"487beff7-96e2-48de-c831-4f3982d1388b\"},{\"type\":\"Legend\",\"id\":\"c9cbc761-5923-4e18-ce1e-b4b61694ee96\"}],\"extra_x_ranges\":{},\"tools\":[{\"type\":\"PanTool\",\"id\":\"312ea5e4-7e47-435a-c3b1-150b5c3e4b92\"},{\"type\":\"WheelZoomTool\",\"id\":\"6259dd4a-eb52-4fa9-cfef-84cbcf4e9352\"},{\"type\":\"BoxZoomTool\",\"id\":\"190fb031-6e84-428b-c29c-01fb86a4a030\"},{\"type\":\"PreviewSaveTool\",\"id\":\"492b71ed-2465-4f32-cfcd-ded354929a15\"},{\"type\":\"ResizeTool\",\"id\":\"ce1b6abe-52a8-4081-c02d-73446874f4f5\"},{\"type\":\"ResetTool\",\"id\":\"7b2caf84-e898-46be-c658-61f6d419211a\"}],\"left\":[{\"type\":\"LinearAxis\",\"id\":\"05fa3aa9-38ed-4fc9-cfa6-622ebd418806\"}],\"tags\":[],\"above\":[],\"right\":[],\"title\":\"Exploitability of different strategies, 800 iterations\",\"x_range\":{\"type\":\"DataRange1d\",\"id\":\"86589608-e8c1-4268-c229-b108b12b40f2\"},\"y_range\":{\"type\":\"DataRange1d\",\"id\":\"bed14955-a7d5-4c70-cc0f-62a48435bcb0\"},\"doc\":null},\"id\":\"c7fcf4d2-c6af-47a0-c765-956bcd7ab0d0\"}];\n",
       "  Bokeh.load_models(all_models);\n",
       "  var model = Bokeh.Collections(modeltype).get(modelid);\n",
       "  $(\"#96fe9310-4560-413d-c1fb-46220ba494a7\").html(''); // clear any previous plot in window_id\n",
       "  var view = new model.default_view({model: model, el: \"#96fe9310-4560-413d-c1fb-46220ba494a7\"});\n",
       "    } else {\n",
       "  load_lib(bokehjs_url, function() {\n",
       "      console.log(\"Bokeh: BokehJS plotting callback run at\", new Date())\n",
       "      var modelid = \"c7fcf4d2-c6af-47a0-c765-956bcd7ab0d0\";\n",
       "      var modeltype = \"Plot\";\n",
       "      var all_models = [{\"type\":\"ColumnDataSource\",\"attributes\":{\"id\":\"8d4b9679-e66d-4276-c2a8-178fadaabea7\",\"tags\":[],\"selected\":[],\"data\":{\"y\":[177.5463104248,177.5463104248,177.5463104248,177.5463104248,177.5463104248,177.5463104248,177.5463104248,177.5463104248,177.5463104248,177.5463104248],\"x\":[1,2,3,4,5,6,7,8,9,10]},\"discrete_ranges\":{},\"column_names\":[\"y\",\"x\"],\"cont_ranges\":{},\"doc\":null},\"id\":\"8d4b9679-e66d-4276-c2a8-178fadaabea7\"},{\"type\":\"Line\",\"attributes\":{\"id\":\"fb47c801-160f-4d36-cd40-49bc4b79e8ec\",\"line_color\":{\"value\":\"black\"},\"fill_color\":{\"value\":\"black\"},\"y\":{\"units\":\"data\",\"field\":\"y\"},\"tags\":[],\"fill_alpha\":{\"units\":\"data\",\"value\":0.2},\"x\":{\"units\":\"data\",\"field\":\"x\"},\"line_alpha\":{\"units\":\"data\",\"value\":1},\"size\":{\"units\":\"screen\",\"value\":10},\"doc\":null},\"id\":\"fb47c801-160f-4d36-cd40-49bc4b79e8ec\"},{\"type\":\"Line\",\"attributes\":{\"id\":\"e440c0af-7779-4581-c5d5-f5f9eb264365\",\"line_color\":{\"value\":\"black\"},\"fill_color\":{\"value\":\"black\"},\"y\":{\"units\":\"data\",\"field\":\"y\"},\"tags\":[],\"fill_alpha\":{\"units\":\"data\",\"value\":0.2},\"x\":{\"units\":\"data\",\"field\":\"x\"},\"line_alpha\":{\"units\":\"data\",\"value\":1},\"size\":{\"units\":\"screen\",\"value\":10},\"doc\":null},\"id\":\"e440c0af-7779-4581-c5d5-f5f9eb264365\"},{\"type\":\"GlyphRenderer\",\"attributes\":{\"id\":\"c5c5c674-6ba2-45bd-c545-c72e1ec9fd13\",\"data_source\":{\"type\":\"ColumnDataSource\",\"id\":\"8d4b9679-e66d-4276-c2a8-178fadaabea7\"},\"nonselection_glyph\":{\"type\":\"Line\",\"id\":\"e440c0af-7779-4581-c5d5-f5f9eb264365\"},\"server_data_source\":null,\"tags\":[],\"selection_glyph\":null,\"glyph\":{\"type\":\"Line\",\"id\":\"fb47c801-160f-4d36-cd40-49bc4b79e8ec\"},\"name\":null,\"doc\":null},\"id\":\"c5c5c674-6ba2-45bd-c545-c72e1ec9fd13\"},{\"type\":\"ColumnDataSource\",\"attributes\":{\"id\":\"6cd7a2f1-6ef2-4c60-ccd4-0a3a18dc0bf4\",\"tags\":[],\"selected\":[],\"data\":{\"y\":[164.95370483398,117.27606964111,109.86892700195,86.46208190918,75.331481933594,72.891540527344,66.38353729248,58.317928314209,53.105262756348,50.271194458008],\"x\":[1,2,3,4,5,6,7,8,9,10]},\"discrete_ranges\":{},\"column_names\":[\"y\",\"x\"],\"cont_ranges\":{},\"doc\":null},\"id\":\"6cd7a2f1-6ef2-4c60-ccd4-0a3a18dc0bf4\"},{\"type\":\"Line\",\"attributes\":{\"id\":\"d3de83c0-ff6a-4667-c65c-183463d2e6f7\",\"line_color\":{\"value\":\"red\"},\"fill_color\":{\"value\":\"red\"},\"y\":{\"units\":\"data\",\"field\":\"y\"},\"tags\":[],\"fill_alpha\":{\"units\":\"data\",\"value\":0.2},\"x\":{\"units\":\"data\",\"field\":\"x\"},\"line_alpha\":{\"units\":\"data\",\"value\":1},\"size\":{\"units\":\"screen\",\"value\":10},\"doc\":null},\"id\":\"d3de83c0-ff6a-4667-c65c-183463d2e6f7\"},{\"type\":\"Line\",\"attributes\":{\"id\":\"d16ad1b9-756a-479a-c7fc-bd01a021e5ad\",\"line_color\":{\"value\":\"red\"},\"fill_color\":{\"value\":\"red\"},\"y\":{\"units\":\"data\",\"field\":\"y\"},\"tags\":[],\"fill_alpha\":{\"units\":\"data\",\"value\":0.2},\"x\":{\"units\":\"data\",\"field\":\"x\"},\"line_alpha\":{\"units\":\"data\",\"value\":1},\"size\":{\"units\":\"screen\",\"value\":10},\"doc\":null},\"id\":\"d16ad1b9-756a-479a-c7fc-bd01a021e5ad\"},{\"type\":\"GlyphRenderer\",\"attributes\":{\"id\":\"543c73ae-4225-4499-c412-e13337bbc9f5\",\"data_source\":{\"type\":\"ColumnDataSource\",\"id\":\"6cd7a2f1-6ef2-4c60-ccd4-0a3a18dc0bf4\"},\"nonselection_glyph\":{\"type\":\"Line\",\"id\":\"d16ad1b9-756a-479a-c7fc-bd01a021e5ad\"},\"server_data_source\":null,\"tags\":[],\"selection_glyph\":null,\"glyph\":{\"type\":\"Line\",\"id\":\"d3de83c0-ff6a-4667-c65c-183463d2e6f7\"},\"name\":null,\"doc\":null},\"id\":\"543c73ae-4225-4499-c412-e13337bbc9f5\"},{\"type\":\"ColumnDataSource\",\"attributes\":{\"id\":\"b7bd3137-05d6-4237-c245-add50c9fa275\",\"tags\":[],\"selected\":[],\"data\":{\"y\":[164.97024536133,123.10029602051,113.68503570557,89.112686157227,82.533935546875,76.631408691406,66.417953491211,55.434886932373,47.841968536377,46.1594581604],\"x\":[1,2,3,4,5,6,7,8,9,10]},\"discrete_ranges\":{},\"column_names\":[\"y\",\"x\"],\"cont_ranges\":{},\"doc\":null},\"id\":\"b7bd3137-05d6-4237-c245-add50c9fa275\"},{\"type\":\"Line\",\"attributes\":{\"id\":\"1cb90469-891a-436f-c33e-54a1608bc414\",\"line_color\":{\"value\":\"blue\"},\"fill_color\":{\"value\":\"blue\"},\"y\":{\"units\":\"data\",\"field\":\"y\"},\"tags\":[],\"fill_alpha\":{\"units\":\"data\",\"value\":0.2},\"x\":{\"units\":\"data\",\"field\":\"x\"},\"line_alpha\":{\"units\":\"data\",\"value\":1},\"size\":{\"units\":\"screen\",\"value\":10},\"doc\":null},\"id\":\"1cb90469-891a-436f-c33e-54a1608bc414\"},{\"type\":\"Line\",\"attributes\":{\"id\":\"c30c2f78-d656-4eda-ce47-d0b4e5de692e\",\"line_color\":{\"value\":\"blue\"},\"fill_color\":{\"value\":\"blue\"},\"y\":{\"units\":\"data\",\"field\":\"y\"},\"tags\":[],\"fill_alpha\":{\"units\":\"data\",\"value\":0.2},\"x\":{\"units\":\"data\",\"field\":\"x\"},\"line_alpha\":{\"units\":\"data\",\"value\":1},\"size\":{\"units\":\"screen\",\"value\":10},\"doc\":null},\"id\":\"c30c2f78-d656-4eda-ce47-d0b4e5de692e\"},{\"type\":\"GlyphRenderer\",\"attributes\":{\"id\":\"8d8759b9-f83c-443c-c4d2-66de9a09c17c\",\"data_source\":{\"type\":\"ColumnDataSource\",\"id\":\"b7bd3137-05d6-4237-c245-add50c9fa275\"},\"nonselection_glyph\":{\"type\":\"Line\",\"id\":\"c30c2f78-d656-4eda-ce47-d0b4e5de692e\"},\"server_data_source\":null,\"tags\":[],\"selection_glyph\":null,\"glyph\":{\"type\":\"Line\",\"id\":\"1cb90469-891a-436f-c33e-54a1608bc414\"},\"name\":null,\"doc\":null},\"id\":\"8d8759b9-f83c-443c-c4d2-66de9a09c17c\"},{\"type\":\"ColumnDataSource\",\"attributes\":{\"id\":\"fa5aba2a-e04f-4d26-cde8-0597f1d49136\",\"tags\":[],\"selected\":[],\"data\":{\"y\":[164.95370483398,117.27606964111,109.86892700195,86.46208190918,75.331481933594,72.891540527344,66.38353729248,58.317928314209,53.105262756348,50.271194458008],\"x\":[1,2,3,4,5,6,7,8,9,10]},\"discrete_ranges\":{},\"column_names\":[\"y\",\"x\"],\"cont_ranges\":{},\"doc\":null},\"id\":\"fa5aba2a-e04f-4d26-cde8-0597f1d49136\"},{\"type\":\"Line\",\"attributes\":{\"id\":\"0795a427-114e-435e-c308-c11046c55f4d\",\"line_color\":{\"value\":\"green\"},\"fill_color\":{\"value\":\"green\"},\"y\":{\"units\":\"data\",\"field\":\"y\"},\"tags\":[],\"fill_alpha\":{\"units\":\"data\",\"value\":0.2},\"x\":{\"units\":\"data\",\"field\":\"x\"},\"line_alpha\":{\"units\":\"data\",\"value\":1},\"size\":{\"units\":\"screen\",\"value\":10},\"doc\":null},\"id\":\"0795a427-114e-435e-c308-c11046c55f4d\"},{\"type\":\"Line\",\"attributes\":{\"id\":\"5af79fb2-5827-4490-c4b0-ce75bc295303\",\"line_color\":{\"value\":\"green\"},\"fill_color\":{\"value\":\"green\"},\"y\":{\"units\":\"data\",\"field\":\"y\"},\"tags\":[],\"fill_alpha\":{\"units\":\"data\",\"value\":0.2},\"x\":{\"units\":\"data\",\"field\":\"x\"},\"line_alpha\":{\"units\":\"data\",\"value\":1},\"size\":{\"units\":\"screen\",\"value\":10},\"doc\":null},\"id\":\"5af79fb2-5827-4490-c4b0-ce75bc295303\"},{\"type\":\"GlyphRenderer\",\"attributes\":{\"id\":\"70ceee90-9193-4cba-cc82-71798b9526b9\",\"data_source\":{\"type\":\"ColumnDataSource\",\"id\":\"fa5aba2a-e04f-4d26-cde8-0597f1d49136\"},\"nonselection_glyph\":{\"type\":\"Line\",\"id\":\"5af79fb2-5827-4490-c4b0-ce75bc295303\"},\"server_data_source\":null,\"tags\":[],\"selection_glyph\":null,\"glyph\":{\"type\":\"Line\",\"id\":\"0795a427-114e-435e-c308-c11046c55f4d\"},\"name\":null,\"doc\":null},\"id\":\"70ceee90-9193-4cba-cc82-71798b9526b9\"},{\"type\":\"DataRange1d\",\"attributes\":{\"id\":\"86589608-e8c1-4268-c229-b108b12b40f2\",\"tags\":[],\"sources\":[{\"source\":{\"id\":\"8d4b9679-e66d-4276-c2a8-178fadaabea7\",\"type\":\"ColumnDataSource\"},\"columns\":[\"x\"]},{\"source\":{\"id\":\"6cd7a2f1-6ef2-4c60-ccd4-0a3a18dc0bf4\",\"type\":\"ColumnDataSource\"},\"columns\":[\"x\"]},{\"source\":{\"id\":\"b7bd3137-05d6-4237-c245-add50c9fa275\",\"type\":\"ColumnDataSource\"},\"columns\":[\"x\"]},{\"source\":{\"id\":\"fa5aba2a-e04f-4d26-cde8-0597f1d49136\",\"type\":\"ColumnDataSource\"},\"columns\":[\"x\"]}],\"doc\":null},\"id\":\"86589608-e8c1-4268-c229-b108b12b40f2\"},{\"type\":\"DataRange1d\",\"attributes\":{\"id\":\"bed14955-a7d5-4c70-cc0f-62a48435bcb0\",\"tags\":[],\"sources\":[{\"source\":{\"id\":\"8d4b9679-e66d-4276-c2a8-178fadaabea7\",\"type\":\"ColumnDataSource\"},\"columns\":[\"y\"]},{\"source\":{\"id\":\"6cd7a2f1-6ef2-4c60-ccd4-0a3a18dc0bf4\",\"type\":\"ColumnDataSource\"},\"columns\":[\"y\"]},{\"source\":{\"id\":\"b7bd3137-05d6-4237-c245-add50c9fa275\",\"type\":\"ColumnDataSource\"},\"columns\":[\"y\"]},{\"source\":{\"id\":\"fa5aba2a-e04f-4d26-cde8-0597f1d49136\",\"type\":\"ColumnDataSource\"},\"columns\":[\"y\"]}],\"doc\":null},\"id\":\"bed14955-a7d5-4c70-cc0f-62a48435bcb0\"},{\"type\":\"ToolEvents\",\"attributes\":{\"id\":\"835d801f-6ad0-478a-c7bb-a18c82b483b8\",\"tags\":[],\"geometries\":[],\"doc\":null},\"id\":\"835d801f-6ad0-478a-c7bb-a18c82b483b8\"},{\"type\":\"BasicTickFormatter\",\"attributes\":{\"id\":\"f9b4f261-a12f-4d4d-cdb3-d97dcc2d733b\",\"tags\":[],\"doc\":null},\"id\":\"f9b4f261-a12f-4d4d-cdb3-d97dcc2d733b\"},{\"type\":\"BasicTicker\",\"attributes\":{\"id\":\"0687df56-75ac-4098-c0d2-6c0dd823ecdb\",\"tags\":[],\"num_minor_ticks\":5,\"doc\":null},\"id\":\"0687df56-75ac-4098-c0d2-6c0dd823ecdb\"},{\"type\":\"LinearAxis\",\"attributes\":{\"id\":\"d105f946-bc19-44c8-c4cc-9a048ca0074f\",\"tags\":[],\"plot\":{\"type\":\"Plot\",\"id\":\"c7fcf4d2-c6af-47a0-c765-956bcd7ab0d0\",\"subtype\":\"Figure\"},\"ticker\":{\"type\":\"BasicTicker\",\"id\":\"0687df56-75ac-4098-c0d2-6c0dd823ecdb\"},\"axis_label\":\"Scaled number of iterations\",\"formatter\":{\"type\":\"BasicTickFormatter\",\"id\":\"f9b4f261-a12f-4d4d-cdb3-d97dcc2d733b\"},\"doc\":null},\"id\":\"d105f946-bc19-44c8-c4cc-9a048ca0074f\"},{\"type\":\"Grid\",\"attributes\":{\"id\":\"9352a6d0-bcbc-4f21-cf50-001a91e2369d\",\"tags\":[],\"plot\":{\"type\":\"Plot\",\"id\":\"c7fcf4d2-c6af-47a0-c765-956bcd7ab0d0\",\"subtype\":\"Figure\"},\"ticker\":{\"type\":\"BasicTicker\",\"id\":\"0687df56-75ac-4098-c0d2-6c0dd823ecdb\"},\"dimension\":0,\"doc\":null},\"id\":\"9352a6d0-bcbc-4f21-cf50-001a91e2369d\"},{\"type\":\"BasicTickFormatter\",\"attributes\":{\"id\":\"3de01660-97cd-43a5-c310-fb97f654dd40\",\"tags\":[],\"doc\":null},\"id\":\"3de01660-97cd-43a5-c310-fb97f654dd40\"},{\"type\":\"BasicTicker\",\"attributes\":{\"id\":\"7928deb6-0a12-4a2f-ca3c-ae31a6584551\",\"tags\":[],\"num_minor_ticks\":5,\"doc\":null},\"id\":\"7928deb6-0a12-4a2f-ca3c-ae31a6584551\"},{\"type\":\"LinearAxis\",\"attributes\":{\"id\":\"05fa3aa9-38ed-4fc9-cfa6-622ebd418806\",\"tags\":[],\"plot\":{\"type\":\"Plot\",\"id\":\"c7fcf4d2-c6af-47a0-c765-956bcd7ab0d0\",\"subtype\":\"Figure\"},\"ticker\":{\"type\":\"BasicTicker\",\"id\":\"7928deb6-0a12-4a2f-ca3c-ae31a6584551\"},\"axis_label\":\"Exploitability\",\"formatter\":{\"type\":\"BasicTickFormatter\",\"id\":\"3de01660-97cd-43a5-c310-fb97f654dd40\"},\"doc\":null},\"id\":\"05fa3aa9-38ed-4fc9-cfa6-622ebd418806\"},{\"type\":\"Grid\",\"attributes\":{\"id\":\"487beff7-96e2-48de-c831-4f3982d1388b\",\"tags\":[],\"plot\":{\"type\":\"Plot\",\"id\":\"c7fcf4d2-c6af-47a0-c765-956bcd7ab0d0\",\"subtype\":\"Figure\"},\"ticker\":{\"type\":\"BasicTicker\",\"id\":\"7928deb6-0a12-4a2f-ca3c-ae31a6584551\"},\"dimension\":1,\"doc\":null},\"id\":\"487beff7-96e2-48de-c831-4f3982d1388b\"},{\"type\":\"PanTool\",\"attributes\":{\"id\":\"312ea5e4-7e47-435a-c3b1-150b5c3e4b92\",\"tags\":[],\"plot\":{\"type\":\"Plot\",\"id\":\"c7fcf4d2-c6af-47a0-c765-956bcd7ab0d0\",\"subtype\":\"Figure\"},\"dimensions\":[\"width\",\"height\"],\"doc\":null},\"id\":\"312ea5e4-7e47-435a-c3b1-150b5c3e4b92\"},{\"type\":\"WheelZoomTool\",\"attributes\":{\"id\":\"6259dd4a-eb52-4fa9-cfef-84cbcf4e9352\",\"tags\":[],\"plot\":{\"type\":\"Plot\",\"id\":\"c7fcf4d2-c6af-47a0-c765-956bcd7ab0d0\",\"subtype\":\"Figure\"},\"dimensions\":[\"width\",\"height\"],\"doc\":null},\"id\":\"6259dd4a-eb52-4fa9-cfef-84cbcf4e9352\"},{\"type\":\"BoxZoomTool\",\"attributes\":{\"id\":\"190fb031-6e84-428b-c29c-01fb86a4a030\",\"tags\":[],\"plot\":{\"type\":\"Plot\",\"id\":\"c7fcf4d2-c6af-47a0-c765-956bcd7ab0d0\",\"subtype\":\"Figure\"},\"doc\":null},\"id\":\"190fb031-6e84-428b-c29c-01fb86a4a030\"},{\"type\":\"PreviewSaveTool\",\"attributes\":{\"id\":\"492b71ed-2465-4f32-cfcd-ded354929a15\",\"tags\":[],\"plot\":{\"type\":\"Plot\",\"id\":\"c7fcf4d2-c6af-47a0-c765-956bcd7ab0d0\",\"subtype\":\"Figure\"},\"doc\":null},\"id\":\"492b71ed-2465-4f32-cfcd-ded354929a15\"},{\"type\":\"ResizeTool\",\"attributes\":{\"id\":\"ce1b6abe-52a8-4081-c02d-73446874f4f5\",\"tags\":[],\"plot\":{\"type\":\"Plot\",\"id\":\"c7fcf4d2-c6af-47a0-c765-956bcd7ab0d0\",\"subtype\":\"Figure\"},\"doc\":null},\"id\":\"ce1b6abe-52a8-4081-c02d-73446874f4f5\"},{\"type\":\"ResetTool\",\"attributes\":{\"id\":\"7b2caf84-e898-46be-c658-61f6d419211a\",\"tags\":[],\"plot\":{\"type\":\"Plot\",\"id\":\"c7fcf4d2-c6af-47a0-c765-956bcd7ab0d0\",\"subtype\":\"Figure\"},\"doc\":null},\"id\":\"7b2caf84-e898-46be-c658-61f6d419211a\"},{\"type\":\"Legend\",\"attributes\":{\"id\":\"c9cbc761-5923-4e18-ce1e-b4b61694ee96\",\"tags\":[],\"plot\":{\"type\":\"Plot\",\"id\":\"c7fcf4d2-c6af-47a0-c765-956bcd7ab0d0\",\"subtype\":\"Figure\"},\"legends\":[[\"Original CFR in the paper\",[{\"type\":\"GlyphRenderer\",\"id\":\"c5c5c674-6ba2-45bd-c545-c72e1ec9fd13\"}]],[\"No Warm start CFR\",[{\"type\":\"GlyphRenderer\",\"id\":\"543c73ae-4225-4499-c412-e13337bbc9f5\"}]],[\"Neural Net warm start CFR\",[{\"type\":\"GlyphRenderer\",\"id\":\"8d8759b9-f83c-443c-c4d2-66de9a09c17c\"}]],[\"Warm start with target values\",[{\"type\":\"GlyphRenderer\",\"id\":\"70ceee90-9193-4cba-cc82-71798b9526b9\"}]]],\"doc\":null},\"id\":\"c9cbc761-5923-4e18-ce1e-b4b61694ee96\"},{\"type\":\"Plot\",\"attributes\":{\"id\":\"c7fcf4d2-c6af-47a0-c765-956bcd7ab0d0\",\"below\":[{\"type\":\"LinearAxis\",\"id\":\"d105f946-bc19-44c8-c4cc-9a048ca0074f\"}],\"extra_y_ranges\":{},\"tool_events\":{\"type\":\"ToolEvents\",\"id\":\"835d801f-6ad0-478a-c7bb-a18c82b483b8\"},\"renderers\":[{\"type\":\"GlyphRenderer\",\"id\":\"c5c5c674-6ba2-45bd-c545-c72e1ec9fd13\"},{\"type\":\"GlyphRenderer\",\"id\":\"543c73ae-4225-4499-c412-e13337bbc9f5\"},{\"type\":\"GlyphRenderer\",\"id\":\"8d8759b9-f83c-443c-c4d2-66de9a09c17c\"},{\"type\":\"GlyphRenderer\",\"id\":\"70ceee90-9193-4cba-cc82-71798b9526b9\"},{\"type\":\"LinearAxis\",\"id\":\"d105f946-bc19-44c8-c4cc-9a048ca0074f\"},{\"type\":\"Grid\",\"id\":\"9352a6d0-bcbc-4f21-cf50-001a91e2369d\"},{\"type\":\"LinearAxis\",\"id\":\"05fa3aa9-38ed-4fc9-cfa6-622ebd418806\"},{\"type\":\"Grid\",\"id\":\"487beff7-96e2-48de-c831-4f3982d1388b\"},{\"type\":\"Legend\",\"id\":\"c9cbc761-5923-4e18-ce1e-b4b61694ee96\"}],\"extra_x_ranges\":{},\"tools\":[{\"type\":\"PanTool\",\"id\":\"312ea5e4-7e47-435a-c3b1-150b5c3e4b92\"},{\"type\":\"WheelZoomTool\",\"id\":\"6259dd4a-eb52-4fa9-cfef-84cbcf4e9352\"},{\"type\":\"BoxZoomTool\",\"id\":\"190fb031-6e84-428b-c29c-01fb86a4a030\"},{\"type\":\"PreviewSaveTool\",\"id\":\"492b71ed-2465-4f32-cfcd-ded354929a15\"},{\"type\":\"ResizeTool\",\"id\":\"ce1b6abe-52a8-4081-c02d-73446874f4f5\"},{\"type\":\"ResetTool\",\"id\":\"7b2caf84-e898-46be-c658-61f6d419211a\"}],\"left\":[{\"type\":\"LinearAxis\",\"id\":\"05fa3aa9-38ed-4fc9-cfa6-622ebd418806\"}],\"tags\":[],\"above\":[],\"right\":[],\"title\":\"Exploitability of different strategies, 800 iterations\",\"x_range\":{\"type\":\"DataRange1d\",\"id\":\"86589608-e8c1-4268-c229-b108b12b40f2\"},\"y_range\":{\"type\":\"DataRange1d\",\"id\":\"bed14955-a7d5-4c70-cc0f-62a48435bcb0\"},\"doc\":null},\"id\":\"c7fcf4d2-c6af-47a0-c765-956bcd7ab0d0\"}];\n",
       "      Bokeh.load_models(all_models);\n",
       "      var model = Bokeh.Collections(modeltype).get(modelid);\n",
       "      $(\"#96fe9310-4560-413d-c1fb-46220ba494a7\").html(''); // clear any previous plot in window_id\n",
       "      var view = new model.default_view({model: model, el: \"#96fe9310-4560-413d-c1fb-46220ba494a7\"});\n",
       "  });\n",
       "    }\n",
       "});\n",
       "</script>\n",
       "<div class=\"plotdiv\" id=\"96fe9310-4560-413d-c1fb-46220ba494a7\"></div>\n"
      ]
     },
     "metadata": {},
     "output_type": "display_data"
    }
   ],
   "source": [
    "local num_iter = torch.range(1,exploit_NoW:size(1))\n",
    "local plot = Plot()\n",
    "\n",
    "plot:line(num_iter,exploit_unif,'black' ,'Original CFR in the paper')\n",
    "plot:line(num_iter,exploit_NoW,'red' ,'No Warm start CFR')\n",
    "plot:line(num_iter,exploit_NNW,'blue' ,'Neural Net warm start CFR')\n",
    "plot:line(num_iter,exploit_TargW,'green' ,'Warm start with target values')\n",
    "plot:legend(true):title('Exploitability of different strategies, 800 iterations')\n",
    "plot:xaxis('Scaled number of iterations'):yaxis('Exploitability'):redraw()\n"
   ]
  },
  {
   "cell_type": "markdown",
   "metadata": {},
   "source": [
    "### Graphical Comparaison"
   ]
  },
  {
   "cell_type": "markdown",
   "metadata": {},
   "source": [
    "### 3. Comparaision with 2000 CFR2"
   ]
  },
  {
   "cell_type": "code",
   "execution_count": 20,
   "metadata": {
    "collapsed": true
   },
   "outputs": [],
   "source": [
    "--- Get Data from 2000 iterations\n",
    "tree802 = builder:build_tree(params)\n",
    "tree_data802 = TreeData(tree802)\n",
    "tree802_cfr = TreeCFR2()\n",
    "tree802_cfr:run_cfr(tree802, starting_ranges,number_of_iterations)\n",
    "tree_data802:get_training_set(tree802,1)"
   ]
  },
  {
   "cell_type": "code",
   "execution_count": 21,
   "metadata": {
    "collapsed": true
   },
   "outputs": [],
   "source": [
    "-- Building the neural net model\n",
    "strategy_nn2 = StrategyNN()\n",
    "nn_model2 = strategy_nn2.model\n",
    "-- Building trainer:\n",
    "nn_trainer2 = NNTrainer(tree_data802,nn_model2)\n",
    "-- Options:\n",
    "opt = {}\n",
    "opt.learningRate = 0.001\n",
    "opt.momentum = 0.95\n",
    "opt.validate = false"
   ]
  },
  {
   "cell_type": "code",
   "execution_count": 22,
   "metadata": {
    "collapsed": true
   },
   "outputs": [],
   "source": [
    "current_criterion2 = nn.SmoothL1Criterion()\n",
    "train_loss,test_loss = nn_trainer:train(nn_model2,current_criterion2,opt,10000)"
   ]
  },
  {
   "cell_type": "code",
   "execution_count": 23,
   "metadata": {
    "collapsed": true
   },
   "outputs": [],
   "source": [
    "--- No Warm Start\n",
    "treeNoWarm2 = builder:build_tree(params)\n",
    "treeNoWarm_cfr2 = TreeCFR2()\n",
    "treeNoWarm_cfr2:run_cfr(treeNoWarm2, starting_ranges,number_of_iterations)"
   ]
  },
  {
   "cell_type": "code",
   "execution_count": 24,
   "metadata": {
    "collapsed": true
   },
   "outputs": [],
   "source": [
    "--- NNWarm Starting\n",
    "treeNNWarm2 = builder:build_tree(params)\n",
    "dataNN2 = TreeData(treeNNWarm2)\n",
    "dataNN2:get_training_set(treeNNWarm2,1)\n",
    "dataNN2:generate_new_initial_strategies(treeNNWarm2,nn_trainer2)"
   ]
  },
  {
   "cell_type": "code",
   "execution_count": 25,
   "metadata": {
    "collapsed": true
   },
   "outputs": [],
   "source": [
    "--- NNWarm CFR Solver\n",
    "treeNNWarm_cfr2 = TreeCFR2()\n",
    "treeNNWarm_cfr2:run_cfr(treeNNWarm2, starting_ranges,number_of_iterations)"
   ]
  },
  {
   "cell_type": "code",
   "execution_count": 26,
   "metadata": {},
   "outputs": [],
   "source": [
    "--- Target Warm Starting\n",
    "treeTargWarm2 = builder:build_tree(params)\n",
    "dataTarg2 = TreeData(treeTargWarm2)\n",
    "dataTarg2:get_training_set(treeTargWarm2,1)\n",
    "dataTarg2:warm_start_targets(treeTargWarm2,tree802)"
   ]
  },
  {
   "cell_type": "code",
   "execution_count": 27,
   "metadata": {
    "collapsed": true
   },
   "outputs": [],
   "source": [
    "--- Building CFR Solver\n",
    "treeTargWarm_cfr2 = TreeCFR2()\n",
    "treeTargWarm_cfr2:run_cfr(treeTargWarm2, starting_ranges,number_of_iterations)"
   ]
  },
  {
   "cell_type": "code",
   "execution_count": 28,
   "metadata": {
    "collapsed": true
   },
   "outputs": [],
   "source": [
    "exploit_unif2 = tree802_cfr.exploitability_vec\n",
    "exploit_NoW2 = treeNoWarm_cfr2.exploitability_vec\n",
    "exploit_NNW2 = treeNNWarm_cfr2.exploitability_vec\n",
    "exploit_TargW2 = treeTargWarm_cfr2.exploitability_vec"
   ]
  },
  {
   "cell_type": "code",
   "execution_count": 29,
   "metadata": {},
   "outputs": [
    {
     "data": {
      "text/html": [
       "<script type=\"text/javascript\">\n",
       "$(function() {\n",
       "    if (typeof (window._bokeh_onload_callbacks) === \"undefined\"){\n",
       "  window._bokeh_onload_callbacks = [];\n",
       "    }\n",
       "    function load_lib(url, callback){\n",
       "  window._bokeh_onload_callbacks.push(callback);\n",
       "  if (window._bokeh_is_loading){\n",
       "      console.log(\"Bokeh: BokehJS is being loaded, scheduling callback at\", new Date());\n",
       "      return null;\n",
       "  }\n",
       "  console.log(\"Bokeh: BokehJS not loaded, scheduling load and callback at\", new Date());\n",
       "  window._bokeh_is_loading = true;\n",
       "  var s = document.createElement('script');\n",
       "  s.src = url;\n",
       "  s.async = true;\n",
       "  s.onreadystatechange = s.onload = function(){\n",
       "      Bokeh.embed.inject_css(\"https://cdn.pydata.org/bokeh-0.7.0.min.css\");\n",
       "      window._bokeh_onload_callbacks.forEach(function(callback){callback()});\n",
       "  };\n",
       "  s.onerror = function(){\n",
       "      console.warn(\"failed to load library \" + url);\n",
       "  };\n",
       "  document.getElementsByTagName(\"head\")[0].appendChild(s);\n",
       "    }\n",
       "\n",
       "    bokehjs_url = \"https://cdn.pydata.org/bokeh-0.7.0.min.js\"\n",
       "\n",
       "    var elt = document.getElementById(\"22ec61ba-288d-4cdd-cc31-2bdd6239ceeb\");\n",
       "    if(elt==null) {\n",
       "  console.log(\"Bokeh: ERROR: autoload.js configured with elementid '22ec61ba-288d-4cdd-cc31-2bdd6239ceeb'\"\n",
       "        + \"but no matching script tag was found. \")\n",
       "  return false;\n",
       "    }\n",
       "\n",
       "    if(typeof(Bokeh) !== \"undefined\") {\n",
       "  console.log(\"Bokeh: BokehJS loaded, going straight to plotting\");\n",
       "  var modelid = \"82680e02-110f-4cfa-cc3d-045c6bd2f050\";\n",
       "  var modeltype = \"Plot\";\n",
       "  var all_models = [{\"type\":\"ColumnDataSource\",\"attributes\":{\"id\":\"8b55e5a5-875e-4927-c90b-389b39912e6a\",\"tags\":[],\"selected\":[],\"data\":{\"y\":[164.95370483398,117.27606964111,109.86892700195,86.46208190918,75.331481933594,72.891540527344,66.38353729248,58.317928314209,53.105262756348,50.271194458008],\"x\":[1,2,3,4,5,6,7,8,9,10]},\"discrete_ranges\":{},\"column_names\":[\"y\",\"x\"],\"cont_ranges\":{},\"doc\":null},\"id\":\"8b55e5a5-875e-4927-c90b-389b39912e6a\"},{\"type\":\"Line\",\"attributes\":{\"id\":\"2ea2c7b2-093e-4ad4-caa5-f6bae85592f7\",\"line_color\":{\"value\":\"black\"},\"fill_color\":{\"value\":\"black\"},\"y\":{\"units\":\"data\",\"field\":\"y\"},\"tags\":[],\"fill_alpha\":{\"units\":\"data\",\"value\":0.2},\"x\":{\"units\":\"data\",\"field\":\"x\"},\"line_alpha\":{\"units\":\"data\",\"value\":1},\"size\":{\"units\":\"screen\",\"value\":10},\"doc\":null},\"id\":\"2ea2c7b2-093e-4ad4-caa5-f6bae85592f7\"},{\"type\":\"Line\",\"attributes\":{\"id\":\"f697a406-7f8d-4f4a-cf7f-714ded0151c0\",\"line_color\":{\"value\":\"black\"},\"fill_color\":{\"value\":\"black\"},\"y\":{\"units\":\"data\",\"field\":\"y\"},\"tags\":[],\"fill_alpha\":{\"units\":\"data\",\"value\":0.2},\"x\":{\"units\":\"data\",\"field\":\"x\"},\"line_alpha\":{\"units\":\"data\",\"value\":1},\"size\":{\"units\":\"screen\",\"value\":10},\"doc\":null},\"id\":\"f697a406-7f8d-4f4a-cf7f-714ded0151c0\"},{\"type\":\"GlyphRenderer\",\"attributes\":{\"id\":\"fb6d1801-de73-4970-c9ac-058d5068c87e\",\"data_source\":{\"type\":\"ColumnDataSource\",\"id\":\"8b55e5a5-875e-4927-c90b-389b39912e6a\"},\"nonselection_glyph\":{\"type\":\"Line\",\"id\":\"f697a406-7f8d-4f4a-cf7f-714ded0151c0\"},\"server_data_source\":null,\"tags\":[],\"selection_glyph\":null,\"glyph\":{\"type\":\"Line\",\"id\":\"2ea2c7b2-093e-4ad4-caa5-f6bae85592f7\"},\"name\":null,\"doc\":null},\"id\":\"fb6d1801-de73-4970-c9ac-058d5068c87e\"},{\"type\":\"ColumnDataSource\",\"attributes\":{\"id\":\"8a4b8edd-5f55-46dd-c61c-460394de9e17\",\"tags\":[],\"selected\":[],\"data\":{\"y\":[164.95370483398,117.27606964111,109.86892700195,86.46208190918,75.331481933594,72.891540527344,66.38353729248,58.317928314209,53.105262756348,50.271194458008],\"x\":[1,2,3,4,5,6,7,8,9,10]},\"discrete_ranges\":{},\"column_names\":[\"y\",\"x\"],\"cont_ranges\":{},\"doc\":null},\"id\":\"8a4b8edd-5f55-46dd-c61c-460394de9e17\"},{\"type\":\"Line\",\"attributes\":{\"id\":\"cde8fac2-35d9-4cfe-cc58-c53b8e8c5016\",\"line_color\":{\"value\":\"red\"},\"fill_color\":{\"value\":\"red\"},\"y\":{\"units\":\"data\",\"field\":\"y\"},\"tags\":[],\"fill_alpha\":{\"units\":\"data\",\"value\":0.2},\"x\":{\"units\":\"data\",\"field\":\"x\"},\"line_alpha\":{\"units\":\"data\",\"value\":1},\"size\":{\"units\":\"screen\",\"value\":10},\"doc\":null},\"id\":\"cde8fac2-35d9-4cfe-cc58-c53b8e8c5016\"},{\"type\":\"Line\",\"attributes\":{\"id\":\"8e3266ee-227e-495c-c9c1-5fae1c71ec8d\",\"line_color\":{\"value\":\"red\"},\"fill_color\":{\"value\":\"red\"},\"y\":{\"units\":\"data\",\"field\":\"y\"},\"tags\":[],\"fill_alpha\":{\"units\":\"data\",\"value\":0.2},\"x\":{\"units\":\"data\",\"field\":\"x\"},\"line_alpha\":{\"units\":\"data\",\"value\":1},\"size\":{\"units\":\"screen\",\"value\":10},\"doc\":null},\"id\":\"8e3266ee-227e-495c-c9c1-5fae1c71ec8d\"},{\"type\":\"GlyphRenderer\",\"attributes\":{\"id\":\"ecb8aab3-06c8-42db-c2ca-1e76c0810183\",\"data_source\":{\"type\":\"ColumnDataSource\",\"id\":\"8a4b8edd-5f55-46dd-c61c-460394de9e17\"},\"nonselection_glyph\":{\"type\":\"Line\",\"id\":\"8e3266ee-227e-495c-c9c1-5fae1c71ec8d\"},\"server_data_source\":null,\"tags\":[],\"selection_glyph\":null,\"glyph\":{\"type\":\"Line\",\"id\":\"cde8fac2-35d9-4cfe-cc58-c53b8e8c5016\"},\"name\":null,\"doc\":null},\"id\":\"ecb8aab3-06c8-42db-c2ca-1e76c0810183\"},{\"type\":\"ColumnDataSource\",\"attributes\":{\"id\":\"9b04476f-2fef-4dc7-cd7e-1214a0f109b5\",\"tags\":[],\"selected\":[],\"data\":{\"y\":[164.16270446777,136.4909362793,116.97905731201,93.377090454102,84.940383911133,77.243392944336,68.741096496582,58.805671691895,50.150733947754,47.750812530518],\"x\":[1,2,3,4,5,6,7,8,9,10]},\"discrete_ranges\":{},\"column_names\":[\"y\",\"x\"],\"cont_ranges\":{},\"doc\":null},\"id\":\"9b04476f-2fef-4dc7-cd7e-1214a0f109b5\"},{\"type\":\"Line\",\"attributes\":{\"id\":\"6e826614-445d-4f5f-cf2c-7b1812f44263\",\"line_color\":{\"value\":\"blue\"},\"fill_color\":{\"value\":\"blue\"},\"y\":{\"units\":\"data\",\"field\":\"y\"},\"tags\":[],\"fill_alpha\":{\"units\":\"data\",\"value\":0.2},\"x\":{\"units\":\"data\",\"field\":\"x\"},\"line_alpha\":{\"units\":\"data\",\"value\":1},\"size\":{\"units\":\"screen\",\"value\":10},\"doc\":null},\"id\":\"6e826614-445d-4f5f-cf2c-7b1812f44263\"},{\"type\":\"Line\",\"attributes\":{\"id\":\"319cfc32-9374-4b5d-cbc3-581876b1f638\",\"line_color\":{\"value\":\"blue\"},\"fill_color\":{\"value\":\"blue\"},\"y\":{\"units\":\"data\",\"field\":\"y\"},\"tags\":[],\"fill_alpha\":{\"units\":\"data\",\"value\":0.2},\"x\":{\"units\":\"data\",\"field\":\"x\"},\"line_alpha\":{\"units\":\"data\",\"value\":1},\"size\":{\"units\":\"screen\",\"value\":10},\"doc\":null},\"id\":\"319cfc32-9374-4b5d-cbc3-581876b1f638\"},{\"type\":\"GlyphRenderer\",\"attributes\":{\"id\":\"a52de7cf-d93f-4291-c243-8372e60d5fe9\",\"data_source\":{\"type\":\"ColumnDataSource\",\"id\":\"9b04476f-2fef-4dc7-cd7e-1214a0f109b5\"},\"nonselection_glyph\":{\"type\":\"Line\",\"id\":\"319cfc32-9374-4b5d-cbc3-581876b1f638\"},\"server_data_source\":null,\"tags\":[],\"selection_glyph\":null,\"glyph\":{\"type\":\"Line\",\"id\":\"6e826614-445d-4f5f-cf2c-7b1812f44263\"},\"name\":null,\"doc\":null},\"id\":\"a52de7cf-d93f-4291-c243-8372e60d5fe9\"},{\"type\":\"ColumnDataSource\",\"attributes\":{\"id\":\"87a108f9-105a-4ad9-caf6-74db04ded801\",\"tags\":[],\"selected\":[],\"data\":{\"y\":[50.271190643311,122.25387573242,95.019973754883,82.001602172852,79.594230651855,73.709587097168,72.051452636719,64.805000305176,56.516639709473,51.375347137451],\"x\":[1,2,3,4,5,6,7,8,9,10]},\"discrete_ranges\":{},\"column_names\":[\"y\",\"x\"],\"cont_ranges\":{},\"doc\":null},\"id\":\"87a108f9-105a-4ad9-caf6-74db04ded801\"},{\"type\":\"Line\",\"attributes\":{\"id\":\"1a5a02a0-a8be-4341-c37c-0a24c07de74b\",\"line_color\":{\"value\":\"green\"},\"fill_color\":{\"value\":\"green\"},\"y\":{\"units\":\"data\",\"field\":\"y\"},\"tags\":[],\"fill_alpha\":{\"units\":\"data\",\"value\":0.2},\"x\":{\"units\":\"data\",\"field\":\"x\"},\"line_alpha\":{\"units\":\"data\",\"value\":1},\"size\":{\"units\":\"screen\",\"value\":10},\"doc\":null},\"id\":\"1a5a02a0-a8be-4341-c37c-0a24c07de74b\"},{\"type\":\"Line\",\"attributes\":{\"id\":\"dff71c92-23b8-43c6-c3bb-b469d2d0d786\",\"line_color\":{\"value\":\"green\"},\"fill_color\":{\"value\":\"green\"},\"y\":{\"units\":\"data\",\"field\":\"y\"},\"tags\":[],\"fill_alpha\":{\"units\":\"data\",\"value\":0.2},\"x\":{\"units\":\"data\",\"field\":\"x\"},\"line_alpha\":{\"units\":\"data\",\"value\":1},\"size\":{\"units\":\"screen\",\"value\":10},\"doc\":null},\"id\":\"dff71c92-23b8-43c6-c3bb-b469d2d0d786\"},{\"type\":\"GlyphRenderer\",\"attributes\":{\"id\":\"669671bc-bd45-45bd-c56c-69d8091de3af\",\"data_source\":{\"type\":\"ColumnDataSource\",\"id\":\"87a108f9-105a-4ad9-caf6-74db04ded801\"},\"nonselection_glyph\":{\"type\":\"Line\",\"id\":\"dff71c92-23b8-43c6-c3bb-b469d2d0d786\"},\"server_data_source\":null,\"tags\":[],\"selection_glyph\":null,\"glyph\":{\"type\":\"Line\",\"id\":\"1a5a02a0-a8be-4341-c37c-0a24c07de74b\"},\"name\":null,\"doc\":null},\"id\":\"669671bc-bd45-45bd-c56c-69d8091de3af\"},{\"type\":\"DataRange1d\",\"attributes\":{\"id\":\"6949dd3f-b3a9-4b04-cb7b-532083676c7b\",\"tags\":[],\"sources\":[{\"source\":{\"id\":\"8b55e5a5-875e-4927-c90b-389b39912e6a\",\"type\":\"ColumnDataSource\"},\"columns\":[\"x\"]},{\"source\":{\"id\":\"8a4b8edd-5f55-46dd-c61c-460394de9e17\",\"type\":\"ColumnDataSource\"},\"columns\":[\"x\"]},{\"source\":{\"id\":\"9b04476f-2fef-4dc7-cd7e-1214a0f109b5\",\"type\":\"ColumnDataSource\"},\"columns\":[\"x\"]},{\"source\":{\"id\":\"87a108f9-105a-4ad9-caf6-74db04ded801\",\"type\":\"ColumnDataSource\"},\"columns\":[\"x\"]}],\"doc\":null},\"id\":\"6949dd3f-b3a9-4b04-cb7b-532083676c7b\"},{\"type\":\"DataRange1d\",\"attributes\":{\"id\":\"ca55da0c-0066-4e9b-ce6d-5c6dcc197b79\",\"tags\":[],\"sources\":[{\"source\":{\"id\":\"8b55e5a5-875e-4927-c90b-389b39912e6a\",\"type\":\"ColumnDataSource\"},\"columns\":[\"y\"]},{\"source\":{\"id\":\"8a4b8edd-5f55-46dd-c61c-460394de9e17\",\"type\":\"ColumnDataSource\"},\"columns\":[\"y\"]},{\"source\":{\"id\":\"9b04476f-2fef-4dc7-cd7e-1214a0f109b5\",\"type\":\"ColumnDataSource\"},\"columns\":[\"y\"]},{\"source\":{\"id\":\"87a108f9-105a-4ad9-caf6-74db04ded801\",\"type\":\"ColumnDataSource\"},\"columns\":[\"y\"]}],\"doc\":null},\"id\":\"ca55da0c-0066-4e9b-ce6d-5c6dcc197b79\"},{\"type\":\"ToolEvents\",\"attributes\":{\"id\":\"79910314-5361-4da2-cd31-6f0f9c97dde2\",\"tags\":[],\"geometries\":[],\"doc\":null},\"id\":\"79910314-5361-4da2-cd31-6f0f9c97dde2\"},{\"type\":\"BasicTickFormatter\",\"attributes\":{\"id\":\"ccd00dcb-1624-4837-c84f-c69b3bf88de2\",\"tags\":[],\"doc\":null},\"id\":\"ccd00dcb-1624-4837-c84f-c69b3bf88de2\"},{\"type\":\"BasicTicker\",\"attributes\":{\"id\":\"90c2a238-396a-4f1a-cf70-edc81ec6d30c\",\"tags\":[],\"num_minor_ticks\":5,\"doc\":null},\"id\":\"90c2a238-396a-4f1a-cf70-edc81ec6d30c\"},{\"type\":\"LinearAxis\",\"attributes\":{\"id\":\"f5d02d8f-1f13-4a44-ca94-faa314ea24c3\",\"tags\":[],\"plot\":{\"type\":\"Plot\",\"id\":\"82680e02-110f-4cfa-cc3d-045c6bd2f050\",\"subtype\":\"Figure\"},\"ticker\":{\"type\":\"BasicTicker\",\"id\":\"90c2a238-396a-4f1a-cf70-edc81ec6d30c\"},\"axis_label\":\"Scaled number of iterations\",\"formatter\":{\"type\":\"BasicTickFormatter\",\"id\":\"ccd00dcb-1624-4837-c84f-c69b3bf88de2\"},\"doc\":null},\"id\":\"f5d02d8f-1f13-4a44-ca94-faa314ea24c3\"},{\"type\":\"Grid\",\"attributes\":{\"id\":\"de8269f4-22c7-4cf4-cc8d-43e9c4691774\",\"tags\":[],\"plot\":{\"type\":\"Plot\",\"id\":\"82680e02-110f-4cfa-cc3d-045c6bd2f050\",\"subtype\":\"Figure\"},\"ticker\":{\"type\":\"BasicTicker\",\"id\":\"90c2a238-396a-4f1a-cf70-edc81ec6d30c\"},\"dimension\":0,\"doc\":null},\"id\":\"de8269f4-22c7-4cf4-cc8d-43e9c4691774\"},{\"type\":\"BasicTickFormatter\",\"attributes\":{\"id\":\"6cbba5ca-aa9f-4b8c-cbaf-3cbf02985ed3\",\"tags\":[],\"doc\":null},\"id\":\"6cbba5ca-aa9f-4b8c-cbaf-3cbf02985ed3\"},{\"type\":\"BasicTicker\",\"attributes\":{\"id\":\"2f35aae6-9d4e-4853-c877-212435d1da46\",\"tags\":[],\"num_minor_ticks\":5,\"doc\":null},\"id\":\"2f35aae6-9d4e-4853-c877-212435d1da46\"},{\"type\":\"LinearAxis\",\"attributes\":{\"id\":\"c9dfafc9-be3b-4791-c7eb-fbfae9d0b2dd\",\"tags\":[],\"plot\":{\"type\":\"Plot\",\"id\":\"82680e02-110f-4cfa-cc3d-045c6bd2f050\",\"subtype\":\"Figure\"},\"ticker\":{\"type\":\"BasicTicker\",\"id\":\"2f35aae6-9d4e-4853-c877-212435d1da46\"},\"axis_label\":\"Exploitability\",\"formatter\":{\"type\":\"BasicTickFormatter\",\"id\":\"6cbba5ca-aa9f-4b8c-cbaf-3cbf02985ed3\"},\"doc\":null},\"id\":\"c9dfafc9-be3b-4791-c7eb-fbfae9d0b2dd\"},{\"type\":\"Grid\",\"attributes\":{\"id\":\"6be908a1-7ed4-4490-c4c7-008649a1cf10\",\"tags\":[],\"plot\":{\"type\":\"Plot\",\"id\":\"82680e02-110f-4cfa-cc3d-045c6bd2f050\",\"subtype\":\"Figure\"},\"ticker\":{\"type\":\"BasicTicker\",\"id\":\"2f35aae6-9d4e-4853-c877-212435d1da46\"},\"dimension\":1,\"doc\":null},\"id\":\"6be908a1-7ed4-4490-c4c7-008649a1cf10\"},{\"type\":\"PanTool\",\"attributes\":{\"id\":\"ce698aaa-805b-4282-c2a0-ecf37a6e870c\",\"tags\":[],\"plot\":{\"type\":\"Plot\",\"id\":\"82680e02-110f-4cfa-cc3d-045c6bd2f050\",\"subtype\":\"Figure\"},\"dimensions\":[\"width\",\"height\"],\"doc\":null},\"id\":\"ce698aaa-805b-4282-c2a0-ecf37a6e870c\"},{\"type\":\"WheelZoomTool\",\"attributes\":{\"id\":\"20b64522-c2c9-4873-c836-577492cdeb29\",\"tags\":[],\"plot\":{\"type\":\"Plot\",\"id\":\"82680e02-110f-4cfa-cc3d-045c6bd2f050\",\"subtype\":\"Figure\"},\"dimensions\":[\"width\",\"height\"],\"doc\":null},\"id\":\"20b64522-c2c9-4873-c836-577492cdeb29\"},{\"type\":\"BoxZoomTool\",\"attributes\":{\"id\":\"92fe1663-a657-4035-c0d0-a36f0c483a5d\",\"tags\":[],\"plot\":{\"type\":\"Plot\",\"id\":\"82680e02-110f-4cfa-cc3d-045c6bd2f050\",\"subtype\":\"Figure\"},\"doc\":null},\"id\":\"92fe1663-a657-4035-c0d0-a36f0c483a5d\"},{\"type\":\"PreviewSaveTool\",\"attributes\":{\"id\":\"4d832f56-3fd6-4b89-cb62-fc152a1c2e44\",\"tags\":[],\"plot\":{\"type\":\"Plot\",\"id\":\"82680e02-110f-4cfa-cc3d-045c6bd2f050\",\"subtype\":\"Figure\"},\"doc\":null},\"id\":\"4d832f56-3fd6-4b89-cb62-fc152a1c2e44\"},{\"type\":\"ResizeTool\",\"attributes\":{\"id\":\"e38ec0e6-48e6-493d-c9cf-cfd41e6eedbd\",\"tags\":[],\"plot\":{\"type\":\"Plot\",\"id\":\"82680e02-110f-4cfa-cc3d-045c6bd2f050\",\"subtype\":\"Figure\"},\"doc\":null},\"id\":\"e38ec0e6-48e6-493d-c9cf-cfd41e6eedbd\"},{\"type\":\"ResetTool\",\"attributes\":{\"id\":\"c3385696-94de-41ae-c172-fe2eb191cd70\",\"tags\":[],\"plot\":{\"type\":\"Plot\",\"id\":\"82680e02-110f-4cfa-cc3d-045c6bd2f050\",\"subtype\":\"Figure\"},\"doc\":null},\"id\":\"c3385696-94de-41ae-c172-fe2eb191cd70\"},{\"type\":\"Legend\",\"attributes\":{\"id\":\"4577716c-cb55-47ea-c722-c72553f38a62\",\"tags\":[],\"plot\":{\"type\":\"Plot\",\"id\":\"82680e02-110f-4cfa-cc3d-045c6bd2f050\",\"subtype\":\"Figure\"},\"legends\":[[\"Original CFR in the paper\",[{\"type\":\"GlyphRenderer\",\"id\":\"fb6d1801-de73-4970-c9ac-058d5068c87e\"}]],[\"No Warm start CFR\",[{\"type\":\"GlyphRenderer\",\"id\":\"ecb8aab3-06c8-42db-c2ca-1e76c0810183\"}]],[\"Neural Net warm start CFR\",[{\"type\":\"GlyphRenderer\",\"id\":\"a52de7cf-d93f-4291-c243-8372e60d5fe9\"}]],[\"Warm start with target values\",[{\"type\":\"GlyphRenderer\",\"id\":\"669671bc-bd45-45bd-c56c-69d8091de3af\"}]]],\"doc\":null},\"id\":\"4577716c-cb55-47ea-c722-c72553f38a62\"},{\"type\":\"Plot\",\"attributes\":{\"id\":\"82680e02-110f-4cfa-cc3d-045c6bd2f050\",\"below\":[{\"type\":\"LinearAxis\",\"id\":\"f5d02d8f-1f13-4a44-ca94-faa314ea24c3\"}],\"extra_y_ranges\":{},\"tool_events\":{\"type\":\"ToolEvents\",\"id\":\"79910314-5361-4da2-cd31-6f0f9c97dde2\"},\"renderers\":[{\"type\":\"GlyphRenderer\",\"id\":\"fb6d1801-de73-4970-c9ac-058d5068c87e\"},{\"type\":\"GlyphRenderer\",\"id\":\"ecb8aab3-06c8-42db-c2ca-1e76c0810183\"},{\"type\":\"GlyphRenderer\",\"id\":\"a52de7cf-d93f-4291-c243-8372e60d5fe9\"},{\"type\":\"GlyphRenderer\",\"id\":\"669671bc-bd45-45bd-c56c-69d8091de3af\"},{\"type\":\"LinearAxis\",\"id\":\"f5d02d8f-1f13-4a44-ca94-faa314ea24c3\"},{\"type\":\"Grid\",\"id\":\"de8269f4-22c7-4cf4-cc8d-43e9c4691774\"},{\"type\":\"LinearAxis\",\"id\":\"c9dfafc9-be3b-4791-c7eb-fbfae9d0b2dd\"},{\"type\":\"Grid\",\"id\":\"6be908a1-7ed4-4490-c4c7-008649a1cf10\"},{\"type\":\"Legend\",\"id\":\"4577716c-cb55-47ea-c722-c72553f38a62\"}],\"extra_x_ranges\":{},\"tools\":[{\"type\":\"PanTool\",\"id\":\"ce698aaa-805b-4282-c2a0-ecf37a6e870c\"},{\"type\":\"WheelZoomTool\",\"id\":\"20b64522-c2c9-4873-c836-577492cdeb29\"},{\"type\":\"BoxZoomTool\",\"id\":\"92fe1663-a657-4035-c0d0-a36f0c483a5d\"},{\"type\":\"PreviewSaveTool\",\"id\":\"4d832f56-3fd6-4b89-cb62-fc152a1c2e44\"},{\"type\":\"ResizeTool\",\"id\":\"e38ec0e6-48e6-493d-c9cf-cfd41e6eedbd\"},{\"type\":\"ResetTool\",\"id\":\"c3385696-94de-41ae-c172-fe2eb191cd70\"}],\"left\":[{\"type\":\"LinearAxis\",\"id\":\"c9dfafc9-be3b-4791-c7eb-fbfae9d0b2dd\"}],\"tags\":[],\"above\":[],\"right\":[],\"title\":\"Exploitability of different strategoes\",\"x_range\":{\"type\":\"DataRange1d\",\"id\":\"6949dd3f-b3a9-4b04-cb7b-532083676c7b\"},\"y_range\":{\"type\":\"DataRange1d\",\"id\":\"ca55da0c-0066-4e9b-ce6d-5c6dcc197b79\"},\"doc\":null},\"id\":\"82680e02-110f-4cfa-cc3d-045c6bd2f050\"}];\n",
       "  Bokeh.load_models(all_models);\n",
       "  var model = Bokeh.Collections(modeltype).get(modelid);\n",
       "  $(\"#22ec61ba-288d-4cdd-cc31-2bdd6239ceeb\").html(''); // clear any previous plot in window_id\n",
       "  var view = new model.default_view({model: model, el: \"#22ec61ba-288d-4cdd-cc31-2bdd6239ceeb\"});\n",
       "    } else {\n",
       "  load_lib(bokehjs_url, function() {\n",
       "      console.log(\"Bokeh: BokehJS plotting callback run at\", new Date())\n",
       "      var modelid = \"82680e02-110f-4cfa-cc3d-045c6bd2f050\";\n",
       "      var modeltype = \"Plot\";\n",
       "      var all_models = [{\"type\":\"ColumnDataSource\",\"attributes\":{\"id\":\"8b55e5a5-875e-4927-c90b-389b39912e6a\",\"tags\":[],\"selected\":[],\"data\":{\"y\":[164.95370483398,117.27606964111,109.86892700195,86.46208190918,75.331481933594,72.891540527344,66.38353729248,58.317928314209,53.105262756348,50.271194458008],\"x\":[1,2,3,4,5,6,7,8,9,10]},\"discrete_ranges\":{},\"column_names\":[\"y\",\"x\"],\"cont_ranges\":{},\"doc\":null},\"id\":\"8b55e5a5-875e-4927-c90b-389b39912e6a\"},{\"type\":\"Line\",\"attributes\":{\"id\":\"2ea2c7b2-093e-4ad4-caa5-f6bae85592f7\",\"line_color\":{\"value\":\"black\"},\"fill_color\":{\"value\":\"black\"},\"y\":{\"units\":\"data\",\"field\":\"y\"},\"tags\":[],\"fill_alpha\":{\"units\":\"data\",\"value\":0.2},\"x\":{\"units\":\"data\",\"field\":\"x\"},\"line_alpha\":{\"units\":\"data\",\"value\":1},\"size\":{\"units\":\"screen\",\"value\":10},\"doc\":null},\"id\":\"2ea2c7b2-093e-4ad4-caa5-f6bae85592f7\"},{\"type\":\"Line\",\"attributes\":{\"id\":\"f697a406-7f8d-4f4a-cf7f-714ded0151c0\",\"line_color\":{\"value\":\"black\"},\"fill_color\":{\"value\":\"black\"},\"y\":{\"units\":\"data\",\"field\":\"y\"},\"tags\":[],\"fill_alpha\":{\"units\":\"data\",\"value\":0.2},\"x\":{\"units\":\"data\",\"field\":\"x\"},\"line_alpha\":{\"units\":\"data\",\"value\":1},\"size\":{\"units\":\"screen\",\"value\":10},\"doc\":null},\"id\":\"f697a406-7f8d-4f4a-cf7f-714ded0151c0\"},{\"type\":\"GlyphRenderer\",\"attributes\":{\"id\":\"fb6d1801-de73-4970-c9ac-058d5068c87e\",\"data_source\":{\"type\":\"ColumnDataSource\",\"id\":\"8b55e5a5-875e-4927-c90b-389b39912e6a\"},\"nonselection_glyph\":{\"type\":\"Line\",\"id\":\"f697a406-7f8d-4f4a-cf7f-714ded0151c0\"},\"server_data_source\":null,\"tags\":[],\"selection_glyph\":null,\"glyph\":{\"type\":\"Line\",\"id\":\"2ea2c7b2-093e-4ad4-caa5-f6bae85592f7\"},\"name\":null,\"doc\":null},\"id\":\"fb6d1801-de73-4970-c9ac-058d5068c87e\"},{\"type\":\"ColumnDataSource\",\"attributes\":{\"id\":\"8a4b8edd-5f55-46dd-c61c-460394de9e17\",\"tags\":[],\"selected\":[],\"data\":{\"y\":[164.95370483398,117.27606964111,109.86892700195,86.46208190918,75.331481933594,72.891540527344,66.38353729248,58.317928314209,53.105262756348,50.271194458008],\"x\":[1,2,3,4,5,6,7,8,9,10]},\"discrete_ranges\":{},\"column_names\":[\"y\",\"x\"],\"cont_ranges\":{},\"doc\":null},\"id\":\"8a4b8edd-5f55-46dd-c61c-460394de9e17\"},{\"type\":\"Line\",\"attributes\":{\"id\":\"cde8fac2-35d9-4cfe-cc58-c53b8e8c5016\",\"line_color\":{\"value\":\"red\"},\"fill_color\":{\"value\":\"red\"},\"y\":{\"units\":\"data\",\"field\":\"y\"},\"tags\":[],\"fill_alpha\":{\"units\":\"data\",\"value\":0.2},\"x\":{\"units\":\"data\",\"field\":\"x\"},\"line_alpha\":{\"units\":\"data\",\"value\":1},\"size\":{\"units\":\"screen\",\"value\":10},\"doc\":null},\"id\":\"cde8fac2-35d9-4cfe-cc58-c53b8e8c5016\"},{\"type\":\"Line\",\"attributes\":{\"id\":\"8e3266ee-227e-495c-c9c1-5fae1c71ec8d\",\"line_color\":{\"value\":\"red\"},\"fill_color\":{\"value\":\"red\"},\"y\":{\"units\":\"data\",\"field\":\"y\"},\"tags\":[],\"fill_alpha\":{\"units\":\"data\",\"value\":0.2},\"x\":{\"units\":\"data\",\"field\":\"x\"},\"line_alpha\":{\"units\":\"data\",\"value\":1},\"size\":{\"units\":\"screen\",\"value\":10},\"doc\":null},\"id\":\"8e3266ee-227e-495c-c9c1-5fae1c71ec8d\"},{\"type\":\"GlyphRenderer\",\"attributes\":{\"id\":\"ecb8aab3-06c8-42db-c2ca-1e76c0810183\",\"data_source\":{\"type\":\"ColumnDataSource\",\"id\":\"8a4b8edd-5f55-46dd-c61c-460394de9e17\"},\"nonselection_glyph\":{\"type\":\"Line\",\"id\":\"8e3266ee-227e-495c-c9c1-5fae1c71ec8d\"},\"server_data_source\":null,\"tags\":[],\"selection_glyph\":null,\"glyph\":{\"type\":\"Line\",\"id\":\"cde8fac2-35d9-4cfe-cc58-c53b8e8c5016\"},\"name\":null,\"doc\":null},\"id\":\"ecb8aab3-06c8-42db-c2ca-1e76c0810183\"},{\"type\":\"ColumnDataSource\",\"attributes\":{\"id\":\"9b04476f-2fef-4dc7-cd7e-1214a0f109b5\",\"tags\":[],\"selected\":[],\"data\":{\"y\":[164.16270446777,136.4909362793,116.97905731201,93.377090454102,84.940383911133,77.243392944336,68.741096496582,58.805671691895,50.150733947754,47.750812530518],\"x\":[1,2,3,4,5,6,7,8,9,10]},\"discrete_ranges\":{},\"column_names\":[\"y\",\"x\"],\"cont_ranges\":{},\"doc\":null},\"id\":\"9b04476f-2fef-4dc7-cd7e-1214a0f109b5\"},{\"type\":\"Line\",\"attributes\":{\"id\":\"6e826614-445d-4f5f-cf2c-7b1812f44263\",\"line_color\":{\"value\":\"blue\"},\"fill_color\":{\"value\":\"blue\"},\"y\":{\"units\":\"data\",\"field\":\"y\"},\"tags\":[],\"fill_alpha\":{\"units\":\"data\",\"value\":0.2},\"x\":{\"units\":\"data\",\"field\":\"x\"},\"line_alpha\":{\"units\":\"data\",\"value\":1},\"size\":{\"units\":\"screen\",\"value\":10},\"doc\":null},\"id\":\"6e826614-445d-4f5f-cf2c-7b1812f44263\"},{\"type\":\"Line\",\"attributes\":{\"id\":\"319cfc32-9374-4b5d-cbc3-581876b1f638\",\"line_color\":{\"value\":\"blue\"},\"fill_color\":{\"value\":\"blue\"},\"y\":{\"units\":\"data\",\"field\":\"y\"},\"tags\":[],\"fill_alpha\":{\"units\":\"data\",\"value\":0.2},\"x\":{\"units\":\"data\",\"field\":\"x\"},\"line_alpha\":{\"units\":\"data\",\"value\":1},\"size\":{\"units\":\"screen\",\"value\":10},\"doc\":null},\"id\":\"319cfc32-9374-4b5d-cbc3-581876b1f638\"},{\"type\":\"GlyphRenderer\",\"attributes\":{\"id\":\"a52de7cf-d93f-4291-c243-8372e60d5fe9\",\"data_source\":{\"type\":\"ColumnDataSource\",\"id\":\"9b04476f-2fef-4dc7-cd7e-1214a0f109b5\"},\"nonselection_glyph\":{\"type\":\"Line\",\"id\":\"319cfc32-9374-4b5d-cbc3-581876b1f638\"},\"server_data_source\":null,\"tags\":[],\"selection_glyph\":null,\"glyph\":{\"type\":\"Line\",\"id\":\"6e826614-445d-4f5f-cf2c-7b1812f44263\"},\"name\":null,\"doc\":null},\"id\":\"a52de7cf-d93f-4291-c243-8372e60d5fe9\"},{\"type\":\"ColumnDataSource\",\"attributes\":{\"id\":\"87a108f9-105a-4ad9-caf6-74db04ded801\",\"tags\":[],\"selected\":[],\"data\":{\"y\":[50.271190643311,122.25387573242,95.019973754883,82.001602172852,79.594230651855,73.709587097168,72.051452636719,64.805000305176,56.516639709473,51.375347137451],\"x\":[1,2,3,4,5,6,7,8,9,10]},\"discrete_ranges\":{},\"column_names\":[\"y\",\"x\"],\"cont_ranges\":{},\"doc\":null},\"id\":\"87a108f9-105a-4ad9-caf6-74db04ded801\"},{\"type\":\"Line\",\"attributes\":{\"id\":\"1a5a02a0-a8be-4341-c37c-0a24c07de74b\",\"line_color\":{\"value\":\"green\"},\"fill_color\":{\"value\":\"green\"},\"y\":{\"units\":\"data\",\"field\":\"y\"},\"tags\":[],\"fill_alpha\":{\"units\":\"data\",\"value\":0.2},\"x\":{\"units\":\"data\",\"field\":\"x\"},\"line_alpha\":{\"units\":\"data\",\"value\":1},\"size\":{\"units\":\"screen\",\"value\":10},\"doc\":null},\"id\":\"1a5a02a0-a8be-4341-c37c-0a24c07de74b\"},{\"type\":\"Line\",\"attributes\":{\"id\":\"dff71c92-23b8-43c6-c3bb-b469d2d0d786\",\"line_color\":{\"value\":\"green\"},\"fill_color\":{\"value\":\"green\"},\"y\":{\"units\":\"data\",\"field\":\"y\"},\"tags\":[],\"fill_alpha\":{\"units\":\"data\",\"value\":0.2},\"x\":{\"units\":\"data\",\"field\":\"x\"},\"line_alpha\":{\"units\":\"data\",\"value\":1},\"size\":{\"units\":\"screen\",\"value\":10},\"doc\":null},\"id\":\"dff71c92-23b8-43c6-c3bb-b469d2d0d786\"},{\"type\":\"GlyphRenderer\",\"attributes\":{\"id\":\"669671bc-bd45-45bd-c56c-69d8091de3af\",\"data_source\":{\"type\":\"ColumnDataSource\",\"id\":\"87a108f9-105a-4ad9-caf6-74db04ded801\"},\"nonselection_glyph\":{\"type\":\"Line\",\"id\":\"dff71c92-23b8-43c6-c3bb-b469d2d0d786\"},\"server_data_source\":null,\"tags\":[],\"selection_glyph\":null,\"glyph\":{\"type\":\"Line\",\"id\":\"1a5a02a0-a8be-4341-c37c-0a24c07de74b\"},\"name\":null,\"doc\":null},\"id\":\"669671bc-bd45-45bd-c56c-69d8091de3af\"},{\"type\":\"DataRange1d\",\"attributes\":{\"id\":\"6949dd3f-b3a9-4b04-cb7b-532083676c7b\",\"tags\":[],\"sources\":[{\"source\":{\"id\":\"8b55e5a5-875e-4927-c90b-389b39912e6a\",\"type\":\"ColumnDataSource\"},\"columns\":[\"x\"]},{\"source\":{\"id\":\"8a4b8edd-5f55-46dd-c61c-460394de9e17\",\"type\":\"ColumnDataSource\"},\"columns\":[\"x\"]},{\"source\":{\"id\":\"9b04476f-2fef-4dc7-cd7e-1214a0f109b5\",\"type\":\"ColumnDataSource\"},\"columns\":[\"x\"]},{\"source\":{\"id\":\"87a108f9-105a-4ad9-caf6-74db04ded801\",\"type\":\"ColumnDataSource\"},\"columns\":[\"x\"]}],\"doc\":null},\"id\":\"6949dd3f-b3a9-4b04-cb7b-532083676c7b\"},{\"type\":\"DataRange1d\",\"attributes\":{\"id\":\"ca55da0c-0066-4e9b-ce6d-5c6dcc197b79\",\"tags\":[],\"sources\":[{\"source\":{\"id\":\"8b55e5a5-875e-4927-c90b-389b39912e6a\",\"type\":\"ColumnDataSource\"},\"columns\":[\"y\"]},{\"source\":{\"id\":\"8a4b8edd-5f55-46dd-c61c-460394de9e17\",\"type\":\"ColumnDataSource\"},\"columns\":[\"y\"]},{\"source\":{\"id\":\"9b04476f-2fef-4dc7-cd7e-1214a0f109b5\",\"type\":\"ColumnDataSource\"},\"columns\":[\"y\"]},{\"source\":{\"id\":\"87a108f9-105a-4ad9-caf6-74db04ded801\",\"type\":\"ColumnDataSource\"},\"columns\":[\"y\"]}],\"doc\":null},\"id\":\"ca55da0c-0066-4e9b-ce6d-5c6dcc197b79\"},{\"type\":\"ToolEvents\",\"attributes\":{\"id\":\"79910314-5361-4da2-cd31-6f0f9c97dde2\",\"tags\":[],\"geometries\":[],\"doc\":null},\"id\":\"79910314-5361-4da2-cd31-6f0f9c97dde2\"},{\"type\":\"BasicTickFormatter\",\"attributes\":{\"id\":\"ccd00dcb-1624-4837-c84f-c69b3bf88de2\",\"tags\":[],\"doc\":null},\"id\":\"ccd00dcb-1624-4837-c84f-c69b3bf88de2\"},{\"type\":\"BasicTicker\",\"attributes\":{\"id\":\"90c2a238-396a-4f1a-cf70-edc81ec6d30c\",\"tags\":[],\"num_minor_ticks\":5,\"doc\":null},\"id\":\"90c2a238-396a-4f1a-cf70-edc81ec6d30c\"},{\"type\":\"LinearAxis\",\"attributes\":{\"id\":\"f5d02d8f-1f13-4a44-ca94-faa314ea24c3\",\"tags\":[],\"plot\":{\"type\":\"Plot\",\"id\":\"82680e02-110f-4cfa-cc3d-045c6bd2f050\",\"subtype\":\"Figure\"},\"ticker\":{\"type\":\"BasicTicker\",\"id\":\"90c2a238-396a-4f1a-cf70-edc81ec6d30c\"},\"axis_label\":\"Scaled number of iterations\",\"formatter\":{\"type\":\"BasicTickFormatter\",\"id\":\"ccd00dcb-1624-4837-c84f-c69b3bf88de2\"},\"doc\":null},\"id\":\"f5d02d8f-1f13-4a44-ca94-faa314ea24c3\"},{\"type\":\"Grid\",\"attributes\":{\"id\":\"de8269f4-22c7-4cf4-cc8d-43e9c4691774\",\"tags\":[],\"plot\":{\"type\":\"Plot\",\"id\":\"82680e02-110f-4cfa-cc3d-045c6bd2f050\",\"subtype\":\"Figure\"},\"ticker\":{\"type\":\"BasicTicker\",\"id\":\"90c2a238-396a-4f1a-cf70-edc81ec6d30c\"},\"dimension\":0,\"doc\":null},\"id\":\"de8269f4-22c7-4cf4-cc8d-43e9c4691774\"},{\"type\":\"BasicTickFormatter\",\"attributes\":{\"id\":\"6cbba5ca-aa9f-4b8c-cbaf-3cbf02985ed3\",\"tags\":[],\"doc\":null},\"id\":\"6cbba5ca-aa9f-4b8c-cbaf-3cbf02985ed3\"},{\"type\":\"BasicTicker\",\"attributes\":{\"id\":\"2f35aae6-9d4e-4853-c877-212435d1da46\",\"tags\":[],\"num_minor_ticks\":5,\"doc\":null},\"id\":\"2f35aae6-9d4e-4853-c877-212435d1da46\"},{\"type\":\"LinearAxis\",\"attributes\":{\"id\":\"c9dfafc9-be3b-4791-c7eb-fbfae9d0b2dd\",\"tags\":[],\"plot\":{\"type\":\"Plot\",\"id\":\"82680e02-110f-4cfa-cc3d-045c6bd2f050\",\"subtype\":\"Figure\"},\"ticker\":{\"type\":\"BasicTicker\",\"id\":\"2f35aae6-9d4e-4853-c877-212435d1da46\"},\"axis_label\":\"Exploitability\",\"formatter\":{\"type\":\"BasicTickFormatter\",\"id\":\"6cbba5ca-aa9f-4b8c-cbaf-3cbf02985ed3\"},\"doc\":null},\"id\":\"c9dfafc9-be3b-4791-c7eb-fbfae9d0b2dd\"},{\"type\":\"Grid\",\"attributes\":{\"id\":\"6be908a1-7ed4-4490-c4c7-008649a1cf10\",\"tags\":[],\"plot\":{\"type\":\"Plot\",\"id\":\"82680e02-110f-4cfa-cc3d-045c6bd2f050\",\"subtype\":\"Figure\"},\"ticker\":{\"type\":\"BasicTicker\",\"id\":\"2f35aae6-9d4e-4853-c877-212435d1da46\"},\"dimension\":1,\"doc\":null},\"id\":\"6be908a1-7ed4-4490-c4c7-008649a1cf10\"},{\"type\":\"PanTool\",\"attributes\":{\"id\":\"ce698aaa-805b-4282-c2a0-ecf37a6e870c\",\"tags\":[],\"plot\":{\"type\":\"Plot\",\"id\":\"82680e02-110f-4cfa-cc3d-045c6bd2f050\",\"subtype\":\"Figure\"},\"dimensions\":[\"width\",\"height\"],\"doc\":null},\"id\":\"ce698aaa-805b-4282-c2a0-ecf37a6e870c\"},{\"type\":\"WheelZoomTool\",\"attributes\":{\"id\":\"20b64522-c2c9-4873-c836-577492cdeb29\",\"tags\":[],\"plot\":{\"type\":\"Plot\",\"id\":\"82680e02-110f-4cfa-cc3d-045c6bd2f050\",\"subtype\":\"Figure\"},\"dimensions\":[\"width\",\"height\"],\"doc\":null},\"id\":\"20b64522-c2c9-4873-c836-577492cdeb29\"},{\"type\":\"BoxZoomTool\",\"attributes\":{\"id\":\"92fe1663-a657-4035-c0d0-a36f0c483a5d\",\"tags\":[],\"plot\":{\"type\":\"Plot\",\"id\":\"82680e02-110f-4cfa-cc3d-045c6bd2f050\",\"subtype\":\"Figure\"},\"doc\":null},\"id\":\"92fe1663-a657-4035-c0d0-a36f0c483a5d\"},{\"type\":\"PreviewSaveTool\",\"attributes\":{\"id\":\"4d832f56-3fd6-4b89-cb62-fc152a1c2e44\",\"tags\":[],\"plot\":{\"type\":\"Plot\",\"id\":\"82680e02-110f-4cfa-cc3d-045c6bd2f050\",\"subtype\":\"Figure\"},\"doc\":null},\"id\":\"4d832f56-3fd6-4b89-cb62-fc152a1c2e44\"},{\"type\":\"ResizeTool\",\"attributes\":{\"id\":\"e38ec0e6-48e6-493d-c9cf-cfd41e6eedbd\",\"tags\":[],\"plot\":{\"type\":\"Plot\",\"id\":\"82680e02-110f-4cfa-cc3d-045c6bd2f050\",\"subtype\":\"Figure\"},\"doc\":null},\"id\":\"e38ec0e6-48e6-493d-c9cf-cfd41e6eedbd\"},{\"type\":\"ResetTool\",\"attributes\":{\"id\":\"c3385696-94de-41ae-c172-fe2eb191cd70\",\"tags\":[],\"plot\":{\"type\":\"Plot\",\"id\":\"82680e02-110f-4cfa-cc3d-045c6bd2f050\",\"subtype\":\"Figure\"},\"doc\":null},\"id\":\"c3385696-94de-41ae-c172-fe2eb191cd70\"},{\"type\":\"Legend\",\"attributes\":{\"id\":\"4577716c-cb55-47ea-c722-c72553f38a62\",\"tags\":[],\"plot\":{\"type\":\"Plot\",\"id\":\"82680e02-110f-4cfa-cc3d-045c6bd2f050\",\"subtype\":\"Figure\"},\"legends\":[[\"Original CFR in the paper\",[{\"type\":\"GlyphRenderer\",\"id\":\"fb6d1801-de73-4970-c9ac-058d5068c87e\"}]],[\"No Warm start CFR\",[{\"type\":\"GlyphRenderer\",\"id\":\"ecb8aab3-06c8-42db-c2ca-1e76c0810183\"}]],[\"Neural Net warm start CFR\",[{\"type\":\"GlyphRenderer\",\"id\":\"a52de7cf-d93f-4291-c243-8372e60d5fe9\"}]],[\"Warm start with target values\",[{\"type\":\"GlyphRenderer\",\"id\":\"669671bc-bd45-45bd-c56c-69d8091de3af\"}]]],\"doc\":null},\"id\":\"4577716c-cb55-47ea-c722-c72553f38a62\"},{\"type\":\"Plot\",\"attributes\":{\"id\":\"82680e02-110f-4cfa-cc3d-045c6bd2f050\",\"below\":[{\"type\":\"LinearAxis\",\"id\":\"f5d02d8f-1f13-4a44-ca94-faa314ea24c3\"}],\"extra_y_ranges\":{},\"tool_events\":{\"type\":\"ToolEvents\",\"id\":\"79910314-5361-4da2-cd31-6f0f9c97dde2\"},\"renderers\":[{\"type\":\"GlyphRenderer\",\"id\":\"fb6d1801-de73-4970-c9ac-058d5068c87e\"},{\"type\":\"GlyphRenderer\",\"id\":\"ecb8aab3-06c8-42db-c2ca-1e76c0810183\"},{\"type\":\"GlyphRenderer\",\"id\":\"a52de7cf-d93f-4291-c243-8372e60d5fe9\"},{\"type\":\"GlyphRenderer\",\"id\":\"669671bc-bd45-45bd-c56c-69d8091de3af\"},{\"type\":\"LinearAxis\",\"id\":\"f5d02d8f-1f13-4a44-ca94-faa314ea24c3\"},{\"type\":\"Grid\",\"id\":\"de8269f4-22c7-4cf4-cc8d-43e9c4691774\"},{\"type\":\"LinearAxis\",\"id\":\"c9dfafc9-be3b-4791-c7eb-fbfae9d0b2dd\"},{\"type\":\"Grid\",\"id\":\"6be908a1-7ed4-4490-c4c7-008649a1cf10\"},{\"type\":\"Legend\",\"id\":\"4577716c-cb55-47ea-c722-c72553f38a62\"}],\"extra_x_ranges\":{},\"tools\":[{\"type\":\"PanTool\",\"id\":\"ce698aaa-805b-4282-c2a0-ecf37a6e870c\"},{\"type\":\"WheelZoomTool\",\"id\":\"20b64522-c2c9-4873-c836-577492cdeb29\"},{\"type\":\"BoxZoomTool\",\"id\":\"92fe1663-a657-4035-c0d0-a36f0c483a5d\"},{\"type\":\"PreviewSaveTool\",\"id\":\"4d832f56-3fd6-4b89-cb62-fc152a1c2e44\"},{\"type\":\"ResizeTool\",\"id\":\"e38ec0e6-48e6-493d-c9cf-cfd41e6eedbd\"},{\"type\":\"ResetTool\",\"id\":\"c3385696-94de-41ae-c172-fe2eb191cd70\"}],\"left\":[{\"type\":\"LinearAxis\",\"id\":\"c9dfafc9-be3b-4791-c7eb-fbfae9d0b2dd\"}],\"tags\":[],\"above\":[],\"right\":[],\"title\":\"Exploitability of different strategoes\",\"x_range\":{\"type\":\"DataRange1d\",\"id\":\"6949dd3f-b3a9-4b04-cb7b-532083676c7b\"},\"y_range\":{\"type\":\"DataRange1d\",\"id\":\"ca55da0c-0066-4e9b-ce6d-5c6dcc197b79\"},\"doc\":null},\"id\":\"82680e02-110f-4cfa-cc3d-045c6bd2f050\"}];\n",
       "      Bokeh.load_models(all_models);\n",
       "      var model = Bokeh.Collections(modeltype).get(modelid);\n",
       "      $(\"#22ec61ba-288d-4cdd-cc31-2bdd6239ceeb\").html(''); // clear any previous plot in window_id\n",
       "      var view = new model.default_view({model: model, el: \"#22ec61ba-288d-4cdd-cc31-2bdd6239ceeb\"});\n",
       "  });\n",
       "    }\n",
       "});\n",
       "</script>\n",
       "<div class=\"plotdiv\" id=\"22ec61ba-288d-4cdd-cc31-2bdd6239ceeb\"></div>\n"
      ]
     },
     "metadata": {},
     "output_type": "display_data"
    }
   ],
   "source": [
    "local num_iter = torch.range(1,exploit_NoW:size(1))\n",
    "local plot = Plot()\n",
    "\n",
    "plot:line(num_iter,exploit_unif2,'black' ,'Original CFR in the paper')\n",
    "plot:line(num_iter,exploit_NoW2,'red' ,'No Warm start CFR')\n",
    "plot:line(num_iter,exploit_NNW2,'blue' ,'Neural Net warm start CFR')\n",
    "plot:line(num_iter,exploit_TargW2,'green' ,'Warm start with target values')\n",
    "plot:legend(true):title('Exploitability of different strategoes')\n",
    "plot:xaxis('Scaled number of iterations'):yaxis('Exploitability'):redraw()\n"
   ]
  },
  {
   "cell_type": "code",
   "execution_count": null,
   "metadata": {
    "collapsed": true
   },
   "outputs": [],
   "source": []
  }
 ],
 "metadata": {
  "kernelspec": {
   "display_name": "iTorch",
   "language": "lua",
   "name": "itorch"
  },
  "language_info": {
   "name": "lua",
   "version": "5.2"
  }
 },
 "nbformat": 4,
 "nbformat_minor": 2
}
