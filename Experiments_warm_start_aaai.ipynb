{
 "cells": [
  {
   "cell_type": "code",
   "execution_count": 1,
   "metadata": {},
   "outputs": [],
   "source": [
    "--- Libraries:\n",
    "arguments = require 'Settings.arguments'\n",
    "constants = require 'Settings.constants'\n",
    "card_to_string = require 'Game.card_to_string_conversion'\n",
    "card_tools = require 'Game.card_tools'\n",
    "game_settings = require 'Settings.game_settings'\n",
    "Plot = require 'itorch.Plot'\n",
    "nninit = require 'nninit'\n",
    "require 'torch'\n",
    "require 'math'\n",
    "require 'Tree.tree_builder'\n",
    "require 'Tree.tree_data_generation'\n",
    "require 'Tree.tree_values'\n",
    "require 'Tree.tree_visualiser'\n",
    "require 'nn'\n",
    "require 'Tree.tree_cfr'\n",
    "require 'Tree.tree_cfr2'\n",
    "require 'nngraph'\n",
    "require 'optim'\n",
    "require 'image'\n",
    "require 'NN.strategy_net_builder'\n",
    "require 'NN.strategy_net_trainer'\n",
    "require 'Tree.tree_warm_start'\n",
    "require 'Nn.StrategyCriterion'\n",
    "\n",
    "\n",
    "\n"
   ]
  },
  {
   "cell_type": "code",
   "execution_count": 2,
   "metadata": {
    "collapsed": true
   },
   "outputs": [],
   "source": [
    "--- FUNCTIONS\n",
    "--- Comparing with 2000\n",
    "function compare_cfrs(tree_cfr1,tree_cfr2000)\n",
    "    local difference = {}\n",
    "    local table1 = tree_cfr1.total_strategies\n",
    "    local table2 = tree_cfr2000.total_strategies\n",
    "    \n",
    "    for i = 1, #table1 do\n",
    "        difference[i] = torch.sqrt(torch.sum(torch.pow((table1[i] - table2[#table2]),2)))\n",
    "    end\n",
    "    return torch.FloatTensor(difference)\n",
    "end\n",
    "--- Comparing 2000 with itself\n",
    "function get_convergence(tree_cfr)\n",
    "    local difference = {}\n",
    "    local table_cfr = tree_cfr.total_strategies\n",
    "    local end_strategy = table_cfr[#table_cfr]\n",
    "    \n",
    "    for i = 1, #table_cfr do\n",
    "        difference[i] = torch.sqrt(torch.sum(torch.pow((table_cfr[i] - end_strategy),2)))\n",
    "    end\n",
    "    return torch.FloatTensor(difference)\n",
    "end"
   ]
  },
  {
   "cell_type": "code",
   "execution_count": 3,
   "metadata": {
    "collapsed": true
   },
   "outputs": [],
   "source": [
    "--- Create the tree\n",
    "builder = PokerTreeBuilder()\n",
    "--- Parameters for the tree\n",
    "params = {}\n",
    "params.root_node = {}\n",
    "params.root_node.board = card_to_string:string_to_board('')\n",
    "params.root_node.street = 1\n",
    "params.root_node.current_player = constants.players.P1\n",
    "params.root_node.bets = arguments.Tensor{200, 200}\n",
    "--- CFR Solver\n",
    "starting_ranges = arguments.Tensor(constants.players_count, game_settings.card_count)\n",
    "starting_ranges[1]:copy(card_tools:get_uniform_range(params.root_node.board))\n",
    "starting_ranges[2]:copy(card_tools:get_uniform_range(params.root_node.board))"
   ]
  },
  {
   "cell_type": "markdown",
   "metadata": {},
   "source": [
    "### 1. Exploitability for original CFR and modified CFR"
   ]
  },
  {
   "cell_type": "code",
   "execution_count": 4,
   "metadata": {},
   "outputs": [
    {
     "data": {
      "text/plain": [
       "88.220462799072\n"
      ]
     },
     "execution_count": 4,
     "metadata": {},
     "output_type": "execute_result"
    }
   ],
   "source": [
    "--- Building CFR Solver\n",
    "tree = builder:build_tree(params)\n",
    "tree_cfr = TreeCFR()\n",
    "tree_cfr.cfr_skip = 0\n",
    "tree_cfr:run_cfr(tree, starting_ranges,5)\n",
    "\n",
    "print(tree.exploitability)"
   ]
  },
  {
   "cell_type": "code",
   "execution_count": 5,
   "metadata": {},
   "outputs": [],
   "source": [
    "tree_data = TreeData(tree)"
   ]
  },
  {
   "cell_type": "code",
   "execution_count": 14,
   "metadata": {},
   "outputs": [
    {
     "data": {
      "text/plain": [
       "\n"
      ]
     },
     "execution_count": 14,
     "metadata": {},
     "output_type": "execute_result"
    }
   ],
   "source": [
    "tree_data:initialize_strategy_without_player(tree,2)"
   ]
  },
  {
   "cell_type": "code",
   "execution_count": 15,
   "metadata": {},
   "outputs": [
    {
     "data": {
      "text/plain": [
       " 0.0500  0.0500  0.0500  0.0500  0.2553  0.2553\n",
       " 0.1396  0.1396  0.1988  0.1988  0.4788  0.4788\n",
       " 0.3697  0.3697  0.4198  0.4198  0.0500  0.0500\n",
       " 0.4407  0.4407  0.3313  0.3313  0.2159  0.2159\n",
       "[torch.FloatTensor of size 4x6]\n",
       "\n"
      ]
     },
     "execution_count": 15,
     "metadata": {},
     "output_type": "execute_result"
    }
   ],
   "source": [
    "tree.children[2].strategy_without_player[1]"
   ]
  },
  {
   "cell_type": "code",
   "execution_count": 16,
   "metadata": {},
   "outputs": [
    {
     "data": {
      "text/plain": [
       " 0.1470  0.1470  0.2500  0.0956  0.1219  0.1219\n",
       " 0.1612  0.1612  0.2500  0.0956  0.5183  0.5183\n",
       " 0.1896  0.1896  0.2500  0.3733  0.1129  0.1129\n",
       " 0.5022  0.5022  0.2500  0.4355  0.2470  0.2470\n",
       "[torch.FloatTensor of size 4x6]\n",
       "\n"
      ]
     },
     "execution_count": 16,
     "metadata": {},
     "output_type": "execute_result"
    }
   ],
   "source": [
    "tree.children[2].children[2].children[3].children[2].strategy"
   ]
  },
  {
   "cell_type": "code",
   "execution_count": 18,
   "metadata": {},
   "outputs": [
    {
     "data": {
      "text/plain": [
       "2\n"
      ]
     },
     "execution_count": 18,
     "metadata": {},
     "output_type": "execute_result"
    }
   ],
   "source": [
    "#tree.strategy_without_player"
   ]
  },
  {
   "cell_type": "code",
   "execution_count": null,
   "metadata": {
    "collapsed": true
   },
   "outputs": [],
   "source": []
  },
  {
   "cell_type": "code",
   "execution_count": null,
   "metadata": {
    "collapsed": true
   },
   "outputs": [],
   "source": []
  },
  {
   "cell_type": "code",
   "execution_count": null,
   "metadata": {
    "collapsed": true
   },
   "outputs": [],
   "source": [
    "--- Building CFR Solver\n",
    "tree100 = builder:build_tree(params)\n",
    "tree100_cfr = TreeCFR()\n",
    "tree100_cfr.cfr_skip = 50\n",
    "tree100_cfr:run_cfr(tree100, starting_ranges,100)\n",
    "\n",
    "print(tree100.exploitability)"
   ]
  },
  {
   "cell_type": "code",
   "execution_count": null,
   "metadata": {},
   "outputs": [],
   "source": [
    "--- Building CFR Solver\n",
    "tree102 = builder:build_tree(params)\n",
    "tree102_cfr = TreeCFR2()\n",
    "tree102_cfr.cfr_skip = 50\n",
    "tree102_cfr:run_cfr(tree102, starting_ranges,100)\n",
    "print(tree102.exploitability)"
   ]
  },
  {
   "cell_type": "code",
   "execution_count": null,
   "metadata": {
    "collapsed": true
   },
   "outputs": [],
   "source": [
    "exploit_cfr100 = tree100_cfr.exploitability_vec\n",
    "exploit_cfr102 = tree102_cfr.exploitability_vec"
   ]
  },
  {
   "cell_type": "code",
   "execution_count": null,
   "metadata": {},
   "outputs": [],
   "source": [
    "local num_iter = torch.range(1,exploit_cfr100:size(1))\n",
    "local plot = Plot()\n",
    "\n",
    "plot:line(num_iter,exploit_cfr100,'red' ,'Original')\n",
    "plot:line(num_iter,exploit_cfr102,'blue' ,'New CFR')\n",
    "plot:legend(true):title('Exploitability of different strategies, 800 iterations')\n",
    "plot:xaxis('Scaled number of iterations'):yaxis('Exploitability'):redraw()\n"
   ]
  },
  {
   "cell_type": "markdown",
   "metadata": {},
   "source": [
    "### 2. Exploitability for different Strategies"
   ]
  },
  {
   "cell_type": "code",
   "execution_count": null,
   "metadata": {
    "collapsed": true
   },
   "outputs": [],
   "source": [
    "number_of_iterations = 200"
   ]
  },
  {
   "cell_type": "code",
   "execution_count": null,
   "metadata": {
    "collapsed": true
   },
   "outputs": [],
   "source": [
    "--- Get Data from 2000 iterations\n",
    "tree800 = builder:build_tree(params)\n",
    "tree_data800 = TreeData(tree800)\n",
    "tree800_cfr = TreeCFR2()\n",
    "tree800_cfr.cfr_skip = 0\n",
    "tree800_cfr:run_cfr(tree800, starting_ranges,number_of_iterations)\n",
    "tree_data800:get_training_set(tree800,1)"
   ]
  },
  {
   "cell_type": "markdown",
   "metadata": {},
   "source": [
    "### Training the Model"
   ]
  },
  {
   "cell_type": "code",
   "execution_count": null,
   "metadata": {
    "collapsed": true
   },
   "outputs": [],
   "source": [
    "-- Building the neural net model\n",
    "strategy_nn = StrategyNN()\n",
    "nn_model = strategy_nn.model\n",
    "-- Building trainer:\n",
    "nn_trainer = NNTrainer(tree_data800,nn_model)\n",
    "-- Options:\n",
    "opt = {}\n",
    "opt.learningRate = 0.001\n",
    "opt.momentum = 0.95\n",
    "opt.validate = false"
   ]
  },
  {
   "cell_type": "code",
   "execution_count": null,
   "metadata": {
    "collapsed": true
   },
   "outputs": [],
   "source": [
    "current_criterion = StrategyLoss()---nn.SmoothL1Criterion()\n",
    "train_loss,test_loss = nn_trainer:train(nn_model,current_criterion,opt,10000)"
   ]
  },
  {
   "cell_type": "code",
   "execution_count": null,
   "metadata": {},
   "outputs": [],
   "source": [
    "pred_strat = nn_model:forward({nn_trainer.all_data.features,nn_trainer.all_data.masks})\n",
    "true_strat =nn_trainer.all_data.targets\n",
    "print(torch.mean(torch.abs(pred_strat- true_strat)))"
   ]
  },
  {
   "cell_type": "markdown",
   "metadata": {},
   "source": [
    "### No Warm Start"
   ]
  },
  {
   "cell_type": "code",
   "execution_count": null,
   "metadata": {
    "collapsed": true
   },
   "outputs": [],
   "source": [
    "--- Building CFR Solver\n",
    "treeNoWarm = builder:build_tree(params)\n",
    "treeNoWarm_cfr = TreeCFR2()\n",
    "treeNoWarm_cfr.cfr_skip = 0\n",
    "treeNoWarm_cfr:run_cfr(treeNoWarm, starting_ranges,number_of_iterations)"
   ]
  },
  {
   "cell_type": "markdown",
   "metadata": {},
   "source": [
    "### Neural Net Start "
   ]
  },
  {
   "cell_type": "code",
   "execution_count": null,
   "metadata": {
    "collapsed": true
   },
   "outputs": [],
   "source": [
    "--- NNWarm Starting\n",
    "treeNNWarm = builder:build_tree(params)\n",
    "dataNN = TreeData(treeNNWarm)\n",
    "dataNN:get_training_set(treeNNWarm,1)\n",
    "dataNN:generate_new_initial_strategies(treeNNWarm,nn_trainer)\n",
    "---Warm start the regrets:\n",
    "dataNN:warm_start_regrets(treeNNWarm,tree800)\n",
    "---tree_warm_start = TreeWarmStart()\n",
    "---tree_warm_start:run_warm_start(treeNNWarm, starting_ranges,80)\n",
    "--- Building CFR Solver\n",
    "treeNNWarm_cfr = TreeCFR2()\n",
    "treeNNWarm_cfr.cfr_skip = 0\n",
    "treeNNWarm_cfr:run_cfr(treeNNWarm, starting_ranges,number_of_iterations)"
   ]
  },
  {
   "cell_type": "code",
   "execution_count": null,
   "metadata": {
    "collapsed": true
   },
   "outputs": [],
   "source": [
    "---tree_warm_start = TreeWarmStart()\n",
    "---tree_warm_start:run_warm_start(treeNNWarm, starting_ranges,80)"
   ]
  },
  {
   "cell_type": "code",
   "execution_count": null,
   "metadata": {
    "collapsed": true
   },
   "outputs": [],
   "source": [
    "--- NNWarm Starting\n",
    "treeNN_NoRegWarm = builder:build_tree(params)\n",
    "dataNN_NoReg = TreeData(treeNN_NoRegWarm)\n",
    "dataNN_NoReg:get_training_set(treeNN_NoRegWarm,1)\n",
    "dataNN_NoReg:generate_new_initial_strategies(treeNN_NoRegWarm,nn_trainer)\n",
    "---Warm start the regrets:\n",
    "---dataNN:warm_start_regrets(treeNN_NoRegWarm,tree800)\n",
    "--- Building CFR Solver\n",
    "treeNN_NoRegWarm_cfr = TreeCFR2()\n",
    "treeNN_NoRegWarm_cfr.cfr_skip = 0\n",
    "treeNN_NoRegWarm_cfr:run_cfr(treeNN_NoRegWarm, starting_ranges,number_of_iterations)"
   ]
  },
  {
   "cell_type": "markdown",
   "metadata": {},
   "source": [
    "### Target Warm Start "
   ]
  },
  {
   "cell_type": "code",
   "execution_count": null,
   "metadata": {
    "collapsed": true
   },
   "outputs": [],
   "source": [
    "--- Target Warm Starting\n",
    "treeTarRegWarm = builder:build_tree(params)\n",
    "dataTargReg = TreeData(treeTarRegWarm)\n",
    "---dataTarg:get_training_set(treeTargWarm,1)\n",
    "---dataTarg:warm_start_targets(treeTargWarm,tree800)\n",
    "---dataTarg:warm_start_regrets(treeTargWarm,tree800)\n",
    "---tree_warm_start = TreeWarmStart()\n",
    "---tree_warm_start:run_warm_start(treeTargWarm, starting_ranges,number_of_iterations)\n",
    "dataTargReg:warm_start_targets_and_regrets(treeTarRegWarm,tree800)\n",
    "--- Building CFR Solver\n",
    "treeTarRegWarm_cfr = TreeCFR2()\n",
    "treeTarRegWarm_cfr.cfr_skip = 0\n",
    "treeTarRegWarm_cfr:run_cfr(treeTarRegWarm, starting_ranges,number_of_iterations)"
   ]
  },
  {
   "cell_type": "code",
   "execution_count": null,
   "metadata": {
    "collapsed": true
   },
   "outputs": [],
   "source": [
    "--- Target Warm Starting\n",
    "treeTarWarm = builder:build_tree(params)\n",
    "dataTarg = TreeData(treeTarWarm)\n",
    "dataTarg:warm_start_targets(treeTarWarm,tree800)\n",
    "--- Building CFR Solver\n",
    "treeTarWarm_cfr = TreeCFR2()\n",
    "treeTarWarm_cfr.cfr_skip = 0\n",
    "treeTarWarm_cfr:run_cfr(treeTarWarm, starting_ranges,number_of_iterations)"
   ]
  },
  {
   "cell_type": "code",
   "execution_count": null,
   "metadata": {
    "collapsed": true
   },
   "outputs": [],
   "source": [
    "--- Target Warm Starting\n",
    "treeRegWarm = builder:build_tree(params)\n",
    "dataReg = TreeData(treeRegWarm)\n",
    "dataReg:warm_start_regrets(treeRegWarm,tree800)\n",
    "--- Building CFR Solver\n",
    "treeRegWarm_cfr = TreeCFR2()\n",
    "treeRegWarm_cfr.cfr_skip = 0\n",
    "treeRegWarm_cfr:run_cfr(treeRegWarm, starting_ranges,number_of_iterations)"
   ]
  },
  {
   "cell_type": "markdown",
   "metadata": {},
   "source": [
    "### Plot different starts"
   ]
  },
  {
   "cell_type": "code",
   "execution_count": null,
   "metadata": {
    "collapsed": true
   },
   "outputs": [],
   "source": [
    "exploit_unif = tree800_cfr.exploitability_vec\n",
    "exploit_NoW = treeNoWarm_cfr.exploitability_vec\n",
    "exploit_NNW = treeNNWarm_cfr.exploitability_vec\n",
    "exploit_NN_NoReg = treeNN_NoRegWarm_cfr.exploitability_vec\n",
    "exploit_TarRegW = treeTarRegWarm_cfr.exploitability_vec\n",
    "exploit_TarW = treeTarWarm_cfr.exploitability_vec\n",
    "exploit_RegW = treeRegWarm_cfr.exploitability_vec"
   ]
  },
  {
   "cell_type": "code",
   "execution_count": null,
   "metadata": {},
   "outputs": [],
   "source": [
    "local num_iter = torch.range(1,exploit_NoW:size(1))\n",
    "local plot = Plot()\n",
    "\n",
    "---plot:line(num_iter,exploit_unif,'black' ,'No Warm start CFR = Uniform warm start')\n",
    "plot:line(num_iter,exploit_NoW,'black' ,'No Warm start CFR = Uniform warm start')\n",
    "plot:line(num_iter,exploit_NNW,'blue' ,'Neural Net warm start CFR')\n",
    "plot:line(num_iter,exploit_NN_NoReg,'brown' ,'Neural Net warm start CFR no Regrets')\n",
    "plot:line(num_iter,exploit_TarRegW,'green' ,'Warm start target and regrets')\n",
    "plot:line(num_iter,exploit_TarW,'orange' ,'Warm start only targets')\n",
    "plot:line(num_iter,exploit_RegW,'red' ,'Warm start with target values')\n",
    "plot:legend(true):title('Exploitability of different strategies, 800 iterations')\n",
    "plot:xaxis('Scaled number of iterations'):yaxis('Exploitability'):redraw()\n"
   ]
  },
  {
   "cell_type": "markdown",
   "metadata": {},
   "source": [
    "### Graphical Comparaison"
   ]
  },
  {
   "cell_type": "markdown",
   "metadata": {},
   "source": [
    "### 3. Comparaision with 2000 CFR2"
   ]
  },
  {
   "cell_type": "code",
   "execution_count": null,
   "metadata": {
    "collapsed": true
   },
   "outputs": [],
   "source": [
    "--- Get Data from 2000 iterations\n",
    "tree802 = builder:build_tree(params)\n",
    "tree_data802 = TreeData(tree802)\n",
    "tree802_cfr = TreeCFR2()\n",
    "tree802_cfr:run_cfr(tree802, starting_ranges,number_of_iterations)\n",
    "tree_data802:get_training_set(tree802,1)"
   ]
  },
  {
   "cell_type": "code",
   "execution_count": null,
   "metadata": {
    "collapsed": true
   },
   "outputs": [],
   "source": [
    "-- Building the neural net model\n",
    "strategy_nn2 = StrategyNN()\n",
    "nn_model2 = strategy_nn2.model\n",
    "-- Building trainer:\n",
    "nn_trainer2 = NNTrainer(tree_data802,nn_model2)\n",
    "-- Options:\n",
    "opt = {}\n",
    "opt.learningRate = 0.001\n",
    "opt.momentum = 0.95\n",
    "opt.validate = false"
   ]
  },
  {
   "cell_type": "code",
   "execution_count": null,
   "metadata": {
    "collapsed": true
   },
   "outputs": [],
   "source": [
    "current_criterion2 = nn.SmoothL1Criterion()\n",
    "train_loss,test_loss = nn_trainer:train(nn_model2,current_criterion2,opt,10000)"
   ]
  },
  {
   "cell_type": "code",
   "execution_count": null,
   "metadata": {
    "collapsed": true
   },
   "outputs": [],
   "source": [
    "--- No Warm Start\n",
    "treeNoWarm2 = builder:build_tree(params)\n",
    "treeNoWarm_cfr2 = TreeCFR2()\n",
    "treeNoWarm_cfr2:run_cfr(treeNoWarm2, starting_ranges,number_of_iterations)"
   ]
  },
  {
   "cell_type": "code",
   "execution_count": null,
   "metadata": {
    "collapsed": true
   },
   "outputs": [],
   "source": [
    "--- NNWarm Starting\n",
    "treeNNWarm2 = builder:build_tree(params)\n",
    "dataNN2 = TreeData(treeNNWarm2)\n",
    "dataNN2:get_training_set(treeNNWarm2,1)\n",
    "dataNN2:generate_new_initial_strategies(treeNNWarm2,nn_trainer2)"
   ]
  },
  {
   "cell_type": "code",
   "execution_count": null,
   "metadata": {
    "collapsed": true
   },
   "outputs": [],
   "source": [
    "--- NNWarm CFR Solver\n",
    "treeNNWarm_cfr2 = TreeCFR2()\n",
    "treeNNWarm_cfr2:run_cfr(treeNNWarm2, starting_ranges,number_of_iterations)"
   ]
  },
  {
   "cell_type": "code",
   "execution_count": null,
   "metadata": {
    "collapsed": true
   },
   "outputs": [],
   "source": [
    "--- Target Warm Starting\n",
    "treeTargWarm2 = builder:build_tree(params)\n",
    "dataTarg2 = TreeData(treeTargWarm2)\n",
    "dataTarg2:get_training_set(treeTargWarm2,1)\n",
    "dataTarg2:warm_start_targets(treeTargWarm2,tree802)"
   ]
  },
  {
   "cell_type": "code",
   "execution_count": null,
   "metadata": {
    "collapsed": true
   },
   "outputs": [],
   "source": [
    "--- Building CFR Solver\n",
    "treeTargWarm_cfr2 = TreeCFR2()\n",
    "treeTargWarm_cfr2:run_cfr(treeTargWarm2, starting_ranges,number_of_iterations)"
   ]
  },
  {
   "cell_type": "code",
   "execution_count": null,
   "metadata": {
    "collapsed": true
   },
   "outputs": [],
   "source": [
    "exploit_unif2 = tree802_cfr.exploitability_vec\n",
    "exploit_NoW2 = treeNoWarm_cfr2.exploitability_vec\n",
    "exploit_NNW2 = treeNNWarm_cfr2.exploitability_vec\n",
    "exploit_TargW2 = treeTargWarm_cfr2.exploitability_vec"
   ]
  },
  {
   "cell_type": "code",
   "execution_count": null,
   "metadata": {},
   "outputs": [],
   "source": [
    "local num_iter = torch.range(1,exploit_NoW:size(1))\n",
    "local plot = Plot()\n",
    "\n",
    "plot:line(num_iter,exploit_unif2,'black' ,'Original CFR in the paper')\n",
    "plot:line(num_iter,exploit_NoW2,'red' ,'No Warm start CFR')\n",
    "plot:line(num_iter,exploit_NNW2,'blue' ,'Neural Net warm start CFR')\n",
    "plot:line(num_iter,exploit_TargW2,'green' ,'Warm start with target values')\n",
    "plot:legend(true):title('Exploitability of different strategoes')\n",
    "plot:xaxis('Scaled number of iterations'):yaxis('Exploitability'):redraw()\n"
   ]
  },
  {
   "cell_type": "code",
   "execution_count": null,
   "metadata": {
    "collapsed": true
   },
   "outputs": [],
   "source": []
  }
 ],
 "metadata": {
  "kernelspec": {
   "display_name": "iTorch",
   "language": "lua",
   "name": "itorch"
  },
  "language_info": {
   "name": "lua",
   "version": "5.2"
  }
 },
 "nbformat": 4,
 "nbformat_minor": 2
}
