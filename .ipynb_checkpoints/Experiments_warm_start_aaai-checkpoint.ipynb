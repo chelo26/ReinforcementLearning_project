{
 "cells": [
  {
   "cell_type": "code",
   "execution_count": 4,
   "metadata": {
    "collapsed": true
   },
   "outputs": [],
   "source": [
    "--- Libraries:\n",
    "arguments = require 'Settings.arguments'\n",
    "constants = require 'Settings.constants'\n",
    "card_to_string = require 'Game.card_to_string_conversion'\n",
    "card_tools = require 'Game.card_tools'\n",
    "game_settings = require 'Settings.game_settings'\n",
    "Plot = require 'itorch.Plot'\n",
    "nninit = require 'nninit'\n",
    "require 'torch'\n",
    "require 'math'\n",
    "require 'Tree.tree_builder'\n",
    "require 'Tree.tree_data_generation'\n",
    "require 'Tree.tree_values'\n",
    "require 'Tree.tree_visualiser'\n",
    "require 'nn'\n",
    "require 'Tree.tree_cfr'\n",
    "require 'Tree.tree_cfr2'\n",
    "require 'nngraph'\n",
    "require 'optim'\n",
    "require 'image'\n",
    "require 'NN.strategy_net_builder'\n",
    "require 'NN.strategy_net_trainer'\n",
    "require 'Tree.tree_warm_start'\n",
    "require 'Nn.StrategyCriterion'\n",
    "\n",
    "\n",
    "\n"
   ]
  },
  {
   "cell_type": "code",
   "execution_count": 5,
   "metadata": {
    "collapsed": true
   },
   "outputs": [],
   "source": [
    "--- FUNCTIONS\n",
    "--- Comparing with 2000\n",
    "function compare_cfrs(tree_cfr1,tree_cfr2000)\n",
    "    local difference = {}\n",
    "    local table1 = tree_cfr1.total_strategies\n",
    "    local table2 = tree_cfr2000.total_strategies\n",
    "    \n",
    "    for i = 1, #table1 do\n",
    "        difference[i] = torch.sqrt(torch.sum(torch.pow((table1[i] - table2[#table2]),2)))\n",
    "    end\n",
    "    return torch.FloatTensor(difference)\n",
    "end\n",
    "--- Comparing 2000 with itself\n",
    "function get_convergence(tree_cfr)\n",
    "    local difference = {}\n",
    "    local table_cfr = tree_cfr.total_strategies\n",
    "    local end_strategy = table_cfr[#table_cfr]\n",
    "    \n",
    "    for i = 1, #table_cfr do\n",
    "        difference[i] = torch.sqrt(torch.sum(torch.pow((table_cfr[i] - end_strategy),2)))\n",
    "    end\n",
    "    return torch.FloatTensor(difference)\n",
    "end"
   ]
  },
  {
   "cell_type": "code",
   "execution_count": 6,
   "metadata": {
    "collapsed": true
   },
   "outputs": [],
   "source": [
    "--- Create the tree\n",
    "builder = PokerTreeBuilder()\n",
    "--- Parameters for the tree\n",
    "params = {}\n",
    "params.root_node = {}\n",
    "params.root_node.board = card_to_string:string_to_board('')\n",
    "params.root_node.street = 1\n",
    "params.root_node.current_player = constants.players.P1\n",
    "params.root_node.bets = arguments.Tensor{200, 200}\n",
    "--- CFR Solver\n",
    "starting_ranges = arguments.Tensor(constants.players_count, game_settings.card_count)\n",
    "starting_ranges[1]:copy(card_tools:get_uniform_range(params.root_node.board))\n",
    "starting_ranges[2]:copy(card_tools:get_uniform_range(params.root_node.board))"
   ]
  },
  {
   "cell_type": "markdown",
   "metadata": {},
   "source": [
    "### 1. Exploitability for original CFR and modified CFR"
   ]
  },
  {
   "cell_type": "code",
   "execution_count": 12,
   "metadata": {},
   "outputs": [
    {
     "data": {
      "text/plain": [
       "3.8604526519775\n"
      ]
     },
     "execution_count": 12,
     "metadata": {},
     "output_type": "execute_result"
    }
   ],
   "source": [
    "--- Building CFR Solver\n",
    "tree100 = builder:build_tree(params)\n",
    "tree100_cfr = TreeCFR()\n",
    "tree100_cfr.cfr_skip = 50\n",
    "tree100_cfr:run_cfr(tree100, starting_ranges,100)\n",
    "\n",
    "print(tree100.exploitability)"
   ]
  },
  {
   "cell_type": "code",
   "execution_count": 13,
   "metadata": {},
   "outputs": [
    {
     "data": {
      "text/plain": [
       "2.7382593154907\n"
      ]
     },
     "execution_count": 13,
     "metadata": {},
     "output_type": "execute_result"
    }
   ],
   "source": [
    "--- Building CFR Solver\n",
    "tree102 = builder:build_tree(params)\n",
    "tree102_cfr = TreeCFR2()\n",
    "tree102_cfr.cfr_skip = 50\n",
    "tree102_cfr:run_cfr(tree102, starting_ranges,100)\n",
    "print(tree102.exploitability)"
   ]
  },
  {
   "cell_type": "code",
   "execution_count": 14,
   "metadata": {
    "collapsed": true
   },
   "outputs": [],
   "source": [
    "exploit_cfr100 = tree100_cfr.exploitability_vec\n",
    "exploit_cfr102 = tree102_cfr.exploitability_vec"
   ]
  },
  {
   "cell_type": "code",
   "execution_count": 15,
   "metadata": {},
   "outputs": [
    {
     "data": {
      "text/html": [
       "<script type=\"text/javascript\">\n",
       "$(function() {\n",
       "    if (typeof (window._bokeh_onload_callbacks) === \"undefined\"){\n",
       "  window._bokeh_onload_callbacks = [];\n",
       "    }\n",
       "    function load_lib(url, callback){\n",
       "  window._bokeh_onload_callbacks.push(callback);\n",
       "  if (window._bokeh_is_loading){\n",
       "      console.log(\"Bokeh: BokehJS is being loaded, scheduling callback at\", new Date());\n",
       "      return null;\n",
       "  }\n",
       "  console.log(\"Bokeh: BokehJS not loaded, scheduling load and callback at\", new Date());\n",
       "  window._bokeh_is_loading = true;\n",
       "  var s = document.createElement('script');\n",
       "  s.src = url;\n",
       "  s.async = true;\n",
       "  s.onreadystatechange = s.onload = function(){\n",
       "      Bokeh.embed.inject_css(\"https://cdn.pydata.org/bokeh-0.7.0.min.css\");\n",
       "      window._bokeh_onload_callbacks.forEach(function(callback){callback()});\n",
       "  };\n",
       "  s.onerror = function(){\n",
       "      console.warn(\"failed to load library \" + url);\n",
       "  };\n",
       "  document.getElementsByTagName(\"head\")[0].appendChild(s);\n",
       "    }\n",
       "\n",
       "    bokehjs_url = \"https://cdn.pydata.org/bokeh-0.7.0.min.js\"\n",
       "\n",
       "    var elt = document.getElementById(\"ec68072a-90fc-4355-c35a-295261a49a09\");\n",
       "    if(elt==null) {\n",
       "  console.log(\"Bokeh: ERROR: autoload.js configured with elementid 'ec68072a-90fc-4355-c35a-295261a49a09'\"\n",
       "        + \"but no matching script tag was found. \")\n",
       "  return false;\n",
       "    }\n",
       "\n",
       "    if(typeof(Bokeh) !== \"undefined\") {\n",
       "  console.log(\"Bokeh: BokehJS loaded, going straight to plotting\");\n",
       "  var modelid = \"d380a781-861e-47ab-c762-64d43e1fbaa5\";\n",
       "  var modeltype = \"Plot\";\n",
       "  var all_models = [{\"attributes\":{\"data\":{\"x\":[1,2,3,4,5,6,7,8,9,10,11,12,13,14,15],\"y\":[177.5463104248,177.5463104248,177.5463104248,177.5463104248,177.5463104248,177.5463104248,177.5463104248,177.5463104248,22.472620010376,8.6723031997681,7.7744083404541,5.2225365638733,4.830041885376,3.9029822349548,3.8604526519775]},\"column_names\":[\"y\",\"x\"],\"doc\":null,\"discrete_ranges\":{},\"selected\":[],\"tags\":[],\"cont_ranges\":{},\"id\":\"33d9051b-305c-47b8-c794-59284a2b39ab\"},\"type\":\"ColumnDataSource\",\"id\":\"33d9051b-305c-47b8-c794-59284a2b39ab\"},{\"attributes\":{\"line_alpha\":{\"units\":\"data\",\"value\":1},\"x\":{\"units\":\"data\",\"field\":\"x\"},\"size\":{\"units\":\"screen\",\"value\":10},\"tags\":[],\"line_color\":{\"value\":\"red\"},\"fill_alpha\":{\"units\":\"data\",\"value\":0.2},\"fill_color\":{\"value\":\"red\"},\"y\":{\"units\":\"data\",\"field\":\"y\"},\"doc\":null,\"id\":\"67e29457-6fb3-45ca-c548-432b8812ffc0\"},\"type\":\"Line\",\"id\":\"67e29457-6fb3-45ca-c548-432b8812ffc0\"},{\"attributes\":{\"line_alpha\":{\"units\":\"data\",\"value\":1},\"x\":{\"units\":\"data\",\"field\":\"x\"},\"size\":{\"units\":\"screen\",\"value\":10},\"tags\":[],\"line_color\":{\"value\":\"red\"},\"fill_alpha\":{\"units\":\"data\",\"value\":0.2},\"fill_color\":{\"value\":\"red\"},\"y\":{\"units\":\"data\",\"field\":\"y\"},\"doc\":null,\"id\":\"1f2a6cc5-366f-48ed-c844-7bca41364861\"},\"type\":\"Line\",\"id\":\"1f2a6cc5-366f-48ed-c844-7bca41364861\"},{\"attributes\":{\"data_source\":{\"type\":\"ColumnDataSource\",\"id\":\"33d9051b-305c-47b8-c794-59284a2b39ab\"},\"doc\":null,\"tags\":[],\"server_data_source\":null,\"selection_glyph\":null,\"glyph\":{\"type\":\"Line\",\"id\":\"67e29457-6fb3-45ca-c548-432b8812ffc0\"},\"nonselection_glyph\":{\"type\":\"Line\",\"id\":\"1f2a6cc5-366f-48ed-c844-7bca41364861\"},\"name\":null,\"id\":\"35edc39d-935b-4832-c8ca-b204bf1de5a7\"},\"type\":\"GlyphRenderer\",\"id\":\"35edc39d-935b-4832-c8ca-b204bf1de5a7\"},{\"attributes\":{\"data\":{\"x\":[1,2,3,4,5,6,7,8,9,10,11,12,13,14,15],\"y\":[164.95370483398,164.95370483398,164.95370483398,164.95370483398,164.95370483398,164.95370483398,164.95370483398,164.95370483398,21.007488250732,8.1651611328125,5.6186494827271,3.7363419532776,3.0579967498779,2.6466341018677,2.7382593154907]},\"column_names\":[\"y\",\"x\"],\"doc\":null,\"discrete_ranges\":{},\"selected\":[],\"tags\":[],\"cont_ranges\":{},\"id\":\"58613754-04ea-4964-c9d4-e02157f15c5a\"},\"type\":\"ColumnDataSource\",\"id\":\"58613754-04ea-4964-c9d4-e02157f15c5a\"},{\"attributes\":{\"line_alpha\":{\"units\":\"data\",\"value\":1},\"x\":{\"units\":\"data\",\"field\":\"x\"},\"size\":{\"units\":\"screen\",\"value\":10},\"tags\":[],\"line_color\":{\"value\":\"blue\"},\"fill_alpha\":{\"units\":\"data\",\"value\":0.2},\"fill_color\":{\"value\":\"blue\"},\"y\":{\"units\":\"data\",\"field\":\"y\"},\"doc\":null,\"id\":\"1492c6d8-7ed1-446f-c459-48eba0be28c6\"},\"type\":\"Line\",\"id\":\"1492c6d8-7ed1-446f-c459-48eba0be28c6\"},{\"attributes\":{\"line_alpha\":{\"units\":\"data\",\"value\":1},\"x\":{\"units\":\"data\",\"field\":\"x\"},\"size\":{\"units\":\"screen\",\"value\":10},\"tags\":[],\"line_color\":{\"value\":\"blue\"},\"fill_alpha\":{\"units\":\"data\",\"value\":0.2},\"fill_color\":{\"value\":\"blue\"},\"y\":{\"units\":\"data\",\"field\":\"y\"},\"doc\":null,\"id\":\"409cda50-9b20-4f22-cf20-33c01275f63c\"},\"type\":\"Line\",\"id\":\"409cda50-9b20-4f22-cf20-33c01275f63c\"},{\"attributes\":{\"data_source\":{\"type\":\"ColumnDataSource\",\"id\":\"58613754-04ea-4964-c9d4-e02157f15c5a\"},\"doc\":null,\"tags\":[],\"server_data_source\":null,\"selection_glyph\":null,\"glyph\":{\"type\":\"Line\",\"id\":\"1492c6d8-7ed1-446f-c459-48eba0be28c6\"},\"nonselection_glyph\":{\"type\":\"Line\",\"id\":\"409cda50-9b20-4f22-cf20-33c01275f63c\"},\"name\":null,\"id\":\"32af14da-271e-4ff1-cf0f-d424cd3a6699\"},\"type\":\"GlyphRenderer\",\"id\":\"32af14da-271e-4ff1-cf0f-d424cd3a6699\"},{\"attributes\":{\"sources\":[{\"columns\":[\"x\"],\"source\":{\"type\":\"ColumnDataSource\",\"id\":\"33d9051b-305c-47b8-c794-59284a2b39ab\"}},{\"columns\":[\"x\"],\"source\":{\"type\":\"ColumnDataSource\",\"id\":\"58613754-04ea-4964-c9d4-e02157f15c5a\"}}],\"tags\":[],\"doc\":null,\"id\":\"a70dfccf-6908-4bf9-cbab-d53cb796383a\"},\"type\":\"DataRange1d\",\"id\":\"a70dfccf-6908-4bf9-cbab-d53cb796383a\"},{\"attributes\":{\"sources\":[{\"columns\":[\"y\"],\"source\":{\"type\":\"ColumnDataSource\",\"id\":\"33d9051b-305c-47b8-c794-59284a2b39ab\"}},{\"columns\":[\"y\"],\"source\":{\"type\":\"ColumnDataSource\",\"id\":\"58613754-04ea-4964-c9d4-e02157f15c5a\"}}],\"tags\":[],\"doc\":null,\"id\":\"007268ee-0583-40dc-c09c-549fa7a44206\"},\"type\":\"DataRange1d\",\"id\":\"007268ee-0583-40dc-c09c-549fa7a44206\"},{\"attributes\":{\"geometries\":[],\"tags\":[],\"doc\":null,\"id\":\"fc35a48f-601e-4223-c28a-7be2145c194c\"},\"type\":\"ToolEvents\",\"id\":\"fc35a48f-601e-4223-c28a-7be2145c194c\"},{\"attributes\":{\"tags\":[],\"doc\":null,\"id\":\"d7e9d3f8-d0cc-4672-c6b1-d0773166ee77\"},\"type\":\"BasicTickFormatter\",\"id\":\"d7e9d3f8-d0cc-4672-c6b1-d0773166ee77\"},{\"attributes\":{\"num_minor_ticks\":5,\"tags\":[],\"doc\":null,\"id\":\"60843ae6-fc23-45b0-c568-bd084d31d046\"},\"type\":\"BasicTicker\",\"id\":\"60843ae6-fc23-45b0-c568-bd084d31d046\"},{\"attributes\":{\"axis_label\":\"Scaled number of iterations\",\"doc\":null,\"ticker\":{\"type\":\"BasicTicker\",\"id\":\"60843ae6-fc23-45b0-c568-bd084d31d046\"},\"plot\":{\"id\":\"d380a781-861e-47ab-c762-64d43e1fbaa5\",\"type\":\"Plot\",\"subtype\":\"Figure\"},\"tags\":[],\"formatter\":{\"type\":\"BasicTickFormatter\",\"id\":\"d7e9d3f8-d0cc-4672-c6b1-d0773166ee77\"},\"id\":\"b768c8b8-93a2-4c00-cc58-787e8751db23\"},\"type\":\"LinearAxis\",\"id\":\"b768c8b8-93a2-4c00-cc58-787e8751db23\"},{\"attributes\":{\"doc\":null,\"dimension\":0,\"plot\":{\"id\":\"d380a781-861e-47ab-c762-64d43e1fbaa5\",\"type\":\"Plot\",\"subtype\":\"Figure\"},\"tags\":[],\"ticker\":{\"type\":\"BasicTicker\",\"id\":\"60843ae6-fc23-45b0-c568-bd084d31d046\"},\"id\":\"6663d80e-74c3-4af6-caff-bd59cb32998a\"},\"type\":\"Grid\",\"id\":\"6663d80e-74c3-4af6-caff-bd59cb32998a\"},{\"attributes\":{\"tags\":[],\"doc\":null,\"id\":\"40339383-bf9b-4dcc-cd25-1b863f9255ad\"},\"type\":\"BasicTickFormatter\",\"id\":\"40339383-bf9b-4dcc-cd25-1b863f9255ad\"},{\"attributes\":{\"num_minor_ticks\":5,\"tags\":[],\"doc\":null,\"id\":\"11d8e055-25be-4967-c98e-7e9dec9d410a\"},\"type\":\"BasicTicker\",\"id\":\"11d8e055-25be-4967-c98e-7e9dec9d410a\"},{\"attributes\":{\"axis_label\":\"Exploitability\",\"doc\":null,\"ticker\":{\"type\":\"BasicTicker\",\"id\":\"11d8e055-25be-4967-c98e-7e9dec9d410a\"},\"plot\":{\"id\":\"d380a781-861e-47ab-c762-64d43e1fbaa5\",\"type\":\"Plot\",\"subtype\":\"Figure\"},\"tags\":[],\"formatter\":{\"type\":\"BasicTickFormatter\",\"id\":\"40339383-bf9b-4dcc-cd25-1b863f9255ad\"},\"id\":\"9e57062b-9c6c-41ba-c15d-6016956b1c53\"},\"type\":\"LinearAxis\",\"id\":\"9e57062b-9c6c-41ba-c15d-6016956b1c53\"},{\"attributes\":{\"doc\":null,\"dimension\":1,\"plot\":{\"id\":\"d380a781-861e-47ab-c762-64d43e1fbaa5\",\"type\":\"Plot\",\"subtype\":\"Figure\"},\"tags\":[],\"ticker\":{\"type\":\"BasicTicker\",\"id\":\"11d8e055-25be-4967-c98e-7e9dec9d410a\"},\"id\":\"af90df88-f90f-491c-c98c-b220790f71eb\"},\"type\":\"Grid\",\"id\":\"af90df88-f90f-491c-c98c-b220790f71eb\"},{\"attributes\":{\"doc\":null,\"plot\":{\"id\":\"d380a781-861e-47ab-c762-64d43e1fbaa5\",\"type\":\"Plot\",\"subtype\":\"Figure\"},\"tags\":[],\"dimensions\":[\"width\",\"height\"],\"id\":\"70dbff8c-1fd8-40aa-c0f9-75282348f999\"},\"type\":\"PanTool\",\"id\":\"70dbff8c-1fd8-40aa-c0f9-75282348f999\"},{\"attributes\":{\"doc\":null,\"plot\":{\"id\":\"d380a781-861e-47ab-c762-64d43e1fbaa5\",\"type\":\"Plot\",\"subtype\":\"Figure\"},\"tags\":[],\"dimensions\":[\"width\",\"height\"],\"id\":\"da10ecf3-7748-456e-c532-62c2d0acb8ae\"},\"type\":\"WheelZoomTool\",\"id\":\"da10ecf3-7748-456e-c532-62c2d0acb8ae\"},{\"attributes\":{\"plot\":{\"id\":\"d380a781-861e-47ab-c762-64d43e1fbaa5\",\"type\":\"Plot\",\"subtype\":\"Figure\"},\"tags\":[],\"doc\":null,\"id\":\"502bb0eb-2a00-4d2d-cdab-ac8452775217\"},\"type\":\"BoxZoomTool\",\"id\":\"502bb0eb-2a00-4d2d-cdab-ac8452775217\"},{\"attributes\":{\"plot\":{\"id\":\"d380a781-861e-47ab-c762-64d43e1fbaa5\",\"type\":\"Plot\",\"subtype\":\"Figure\"},\"tags\":[],\"doc\":null,\"id\":\"de7125a6-f1e1-4934-c904-2a1b5c8ff63e\"},\"type\":\"PreviewSaveTool\",\"id\":\"de7125a6-f1e1-4934-c904-2a1b5c8ff63e\"},{\"attributes\":{\"plot\":{\"id\":\"d380a781-861e-47ab-c762-64d43e1fbaa5\",\"type\":\"Plot\",\"subtype\":\"Figure\"},\"tags\":[],\"doc\":null,\"id\":\"0607e2e2-e98c-4c7c-ccef-958c78c0552c\"},\"type\":\"ResizeTool\",\"id\":\"0607e2e2-e98c-4c7c-ccef-958c78c0552c\"},{\"attributes\":{\"plot\":{\"id\":\"d380a781-861e-47ab-c762-64d43e1fbaa5\",\"type\":\"Plot\",\"subtype\":\"Figure\"},\"tags\":[],\"doc\":null,\"id\":\"8361d4f7-014d-44e3-c440-bbd66cb56786\"},\"type\":\"ResetTool\",\"id\":\"8361d4f7-014d-44e3-c440-bbd66cb56786\"},{\"attributes\":{\"doc\":null,\"legends\":[[\"Original\",[{\"type\":\"GlyphRenderer\",\"id\":\"35edc39d-935b-4832-c8ca-b204bf1de5a7\"}]],[\"New CFR\",[{\"type\":\"GlyphRenderer\",\"id\":\"32af14da-271e-4ff1-cf0f-d424cd3a6699\"}]]],\"plot\":{\"id\":\"d380a781-861e-47ab-c762-64d43e1fbaa5\",\"type\":\"Plot\",\"subtype\":\"Figure\"},\"tags\":[],\"id\":\"861767c8-434e-4fc1-cfa5-53272f748829\"},\"type\":\"Legend\",\"id\":\"861767c8-434e-4fc1-cfa5-53272f748829\"},{\"attributes\":{\"title\":\"Exploitability of different strategies, 800 iterations\",\"doc\":null,\"tool_events\":{\"type\":\"ToolEvents\",\"id\":\"fc35a48f-601e-4223-c28a-7be2145c194c\"},\"extra_x_ranges\":{},\"tags\":[],\"renderers\":[{\"type\":\"GlyphRenderer\",\"id\":\"35edc39d-935b-4832-c8ca-b204bf1de5a7\"},{\"type\":\"GlyphRenderer\",\"id\":\"32af14da-271e-4ff1-cf0f-d424cd3a6699\"},{\"type\":\"LinearAxis\",\"id\":\"b768c8b8-93a2-4c00-cc58-787e8751db23\"},{\"type\":\"Grid\",\"id\":\"6663d80e-74c3-4af6-caff-bd59cb32998a\"},{\"type\":\"LinearAxis\",\"id\":\"9e57062b-9c6c-41ba-c15d-6016956b1c53\"},{\"type\":\"Grid\",\"id\":\"af90df88-f90f-491c-c98c-b220790f71eb\"},{\"type\":\"Legend\",\"id\":\"861767c8-434e-4fc1-cfa5-53272f748829\"}],\"tools\":[{\"type\":\"PanTool\",\"id\":\"70dbff8c-1fd8-40aa-c0f9-75282348f999\"},{\"type\":\"WheelZoomTool\",\"id\":\"da10ecf3-7748-456e-c532-62c2d0acb8ae\"},{\"type\":\"BoxZoomTool\",\"id\":\"502bb0eb-2a00-4d2d-cdab-ac8452775217\"},{\"type\":\"PreviewSaveTool\",\"id\":\"de7125a6-f1e1-4934-c904-2a1b5c8ff63e\"},{\"type\":\"ResizeTool\",\"id\":\"0607e2e2-e98c-4c7c-ccef-958c78c0552c\"},{\"type\":\"ResetTool\",\"id\":\"8361d4f7-014d-44e3-c440-bbd66cb56786\"}],\"y_range\":{\"type\":\"DataRange1d\",\"id\":\"007268ee-0583-40dc-c09c-549fa7a44206\"},\"below\":[{\"type\":\"LinearAxis\",\"id\":\"b768c8b8-93a2-4c00-cc58-787e8751db23\"}],\"above\":[],\"extra_y_ranges\":{},\"x_range\":{\"type\":\"DataRange1d\",\"id\":\"a70dfccf-6908-4bf9-cbab-d53cb796383a\"},\"right\":[],\"left\":[{\"type\":\"LinearAxis\",\"id\":\"9e57062b-9c6c-41ba-c15d-6016956b1c53\"}],\"id\":\"d380a781-861e-47ab-c762-64d43e1fbaa5\"},\"type\":\"Plot\",\"id\":\"d380a781-861e-47ab-c762-64d43e1fbaa5\"}];\n",
       "  Bokeh.load_models(all_models);\n",
       "  var model = Bokeh.Collections(modeltype).get(modelid);\n",
       "  $(\"#ec68072a-90fc-4355-c35a-295261a49a09\").html(''); // clear any previous plot in window_id\n",
       "  var view = new model.default_view({model: model, el: \"#ec68072a-90fc-4355-c35a-295261a49a09\"});\n",
       "    } else {\n",
       "  load_lib(bokehjs_url, function() {\n",
       "      console.log(\"Bokeh: BokehJS plotting callback run at\", new Date())\n",
       "      var modelid = \"d380a781-861e-47ab-c762-64d43e1fbaa5\";\n",
       "      var modeltype = \"Plot\";\n",
       "      var all_models = [{\"attributes\":{\"data\":{\"x\":[1,2,3,4,5,6,7,8,9,10,11,12,13,14,15],\"y\":[177.5463104248,177.5463104248,177.5463104248,177.5463104248,177.5463104248,177.5463104248,177.5463104248,177.5463104248,22.472620010376,8.6723031997681,7.7744083404541,5.2225365638733,4.830041885376,3.9029822349548,3.8604526519775]},\"column_names\":[\"y\",\"x\"],\"doc\":null,\"discrete_ranges\":{},\"selected\":[],\"tags\":[],\"cont_ranges\":{},\"id\":\"33d9051b-305c-47b8-c794-59284a2b39ab\"},\"type\":\"ColumnDataSource\",\"id\":\"33d9051b-305c-47b8-c794-59284a2b39ab\"},{\"attributes\":{\"line_alpha\":{\"units\":\"data\",\"value\":1},\"x\":{\"units\":\"data\",\"field\":\"x\"},\"size\":{\"units\":\"screen\",\"value\":10},\"tags\":[],\"line_color\":{\"value\":\"red\"},\"fill_alpha\":{\"units\":\"data\",\"value\":0.2},\"fill_color\":{\"value\":\"red\"},\"y\":{\"units\":\"data\",\"field\":\"y\"},\"doc\":null,\"id\":\"67e29457-6fb3-45ca-c548-432b8812ffc0\"},\"type\":\"Line\",\"id\":\"67e29457-6fb3-45ca-c548-432b8812ffc0\"},{\"attributes\":{\"line_alpha\":{\"units\":\"data\",\"value\":1},\"x\":{\"units\":\"data\",\"field\":\"x\"},\"size\":{\"units\":\"screen\",\"value\":10},\"tags\":[],\"line_color\":{\"value\":\"red\"},\"fill_alpha\":{\"units\":\"data\",\"value\":0.2},\"fill_color\":{\"value\":\"red\"},\"y\":{\"units\":\"data\",\"field\":\"y\"},\"doc\":null,\"id\":\"1f2a6cc5-366f-48ed-c844-7bca41364861\"},\"type\":\"Line\",\"id\":\"1f2a6cc5-366f-48ed-c844-7bca41364861\"},{\"attributes\":{\"data_source\":{\"type\":\"ColumnDataSource\",\"id\":\"33d9051b-305c-47b8-c794-59284a2b39ab\"},\"doc\":null,\"tags\":[],\"server_data_source\":null,\"selection_glyph\":null,\"glyph\":{\"type\":\"Line\",\"id\":\"67e29457-6fb3-45ca-c548-432b8812ffc0\"},\"nonselection_glyph\":{\"type\":\"Line\",\"id\":\"1f2a6cc5-366f-48ed-c844-7bca41364861\"},\"name\":null,\"id\":\"35edc39d-935b-4832-c8ca-b204bf1de5a7\"},\"type\":\"GlyphRenderer\",\"id\":\"35edc39d-935b-4832-c8ca-b204bf1de5a7\"},{\"attributes\":{\"data\":{\"x\":[1,2,3,4,5,6,7,8,9,10,11,12,13,14,15],\"y\":[164.95370483398,164.95370483398,164.95370483398,164.95370483398,164.95370483398,164.95370483398,164.95370483398,164.95370483398,21.007488250732,8.1651611328125,5.6186494827271,3.7363419532776,3.0579967498779,2.6466341018677,2.7382593154907]},\"column_names\":[\"y\",\"x\"],\"doc\":null,\"discrete_ranges\":{},\"selected\":[],\"tags\":[],\"cont_ranges\":{},\"id\":\"58613754-04ea-4964-c9d4-e02157f15c5a\"},\"type\":\"ColumnDataSource\",\"id\":\"58613754-04ea-4964-c9d4-e02157f15c5a\"},{\"attributes\":{\"line_alpha\":{\"units\":\"data\",\"value\":1},\"x\":{\"units\":\"data\",\"field\":\"x\"},\"size\":{\"units\":\"screen\",\"value\":10},\"tags\":[],\"line_color\":{\"value\":\"blue\"},\"fill_alpha\":{\"units\":\"data\",\"value\":0.2},\"fill_color\":{\"value\":\"blue\"},\"y\":{\"units\":\"data\",\"field\":\"y\"},\"doc\":null,\"id\":\"1492c6d8-7ed1-446f-c459-48eba0be28c6\"},\"type\":\"Line\",\"id\":\"1492c6d8-7ed1-446f-c459-48eba0be28c6\"},{\"attributes\":{\"line_alpha\":{\"units\":\"data\",\"value\":1},\"x\":{\"units\":\"data\",\"field\":\"x\"},\"size\":{\"units\":\"screen\",\"value\":10},\"tags\":[],\"line_color\":{\"value\":\"blue\"},\"fill_alpha\":{\"units\":\"data\",\"value\":0.2},\"fill_color\":{\"value\":\"blue\"},\"y\":{\"units\":\"data\",\"field\":\"y\"},\"doc\":null,\"id\":\"409cda50-9b20-4f22-cf20-33c01275f63c\"},\"type\":\"Line\",\"id\":\"409cda50-9b20-4f22-cf20-33c01275f63c\"},{\"attributes\":{\"data_source\":{\"type\":\"ColumnDataSource\",\"id\":\"58613754-04ea-4964-c9d4-e02157f15c5a\"},\"doc\":null,\"tags\":[],\"server_data_source\":null,\"selection_glyph\":null,\"glyph\":{\"type\":\"Line\",\"id\":\"1492c6d8-7ed1-446f-c459-48eba0be28c6\"},\"nonselection_glyph\":{\"type\":\"Line\",\"id\":\"409cda50-9b20-4f22-cf20-33c01275f63c\"},\"name\":null,\"id\":\"32af14da-271e-4ff1-cf0f-d424cd3a6699\"},\"type\":\"GlyphRenderer\",\"id\":\"32af14da-271e-4ff1-cf0f-d424cd3a6699\"},{\"attributes\":{\"sources\":[{\"columns\":[\"x\"],\"source\":{\"type\":\"ColumnDataSource\",\"id\":\"33d9051b-305c-47b8-c794-59284a2b39ab\"}},{\"columns\":[\"x\"],\"source\":{\"type\":\"ColumnDataSource\",\"id\":\"58613754-04ea-4964-c9d4-e02157f15c5a\"}}],\"tags\":[],\"doc\":null,\"id\":\"a70dfccf-6908-4bf9-cbab-d53cb796383a\"},\"type\":\"DataRange1d\",\"id\":\"a70dfccf-6908-4bf9-cbab-d53cb796383a\"},{\"attributes\":{\"sources\":[{\"columns\":[\"y\"],\"source\":{\"type\":\"ColumnDataSource\",\"id\":\"33d9051b-305c-47b8-c794-59284a2b39ab\"}},{\"columns\":[\"y\"],\"source\":{\"type\":\"ColumnDataSource\",\"id\":\"58613754-04ea-4964-c9d4-e02157f15c5a\"}}],\"tags\":[],\"doc\":null,\"id\":\"007268ee-0583-40dc-c09c-549fa7a44206\"},\"type\":\"DataRange1d\",\"id\":\"007268ee-0583-40dc-c09c-549fa7a44206\"},{\"attributes\":{\"geometries\":[],\"tags\":[],\"doc\":null,\"id\":\"fc35a48f-601e-4223-c28a-7be2145c194c\"},\"type\":\"ToolEvents\",\"id\":\"fc35a48f-601e-4223-c28a-7be2145c194c\"},{\"attributes\":{\"tags\":[],\"doc\":null,\"id\":\"d7e9d3f8-d0cc-4672-c6b1-d0773166ee77\"},\"type\":\"BasicTickFormatter\",\"id\":\"d7e9d3f8-d0cc-4672-c6b1-d0773166ee77\"},{\"attributes\":{\"num_minor_ticks\":5,\"tags\":[],\"doc\":null,\"id\":\"60843ae6-fc23-45b0-c568-bd084d31d046\"},\"type\":\"BasicTicker\",\"id\":\"60843ae6-fc23-45b0-c568-bd084d31d046\"},{\"attributes\":{\"axis_label\":\"Scaled number of iterations\",\"doc\":null,\"ticker\":{\"type\":\"BasicTicker\",\"id\":\"60843ae6-fc23-45b0-c568-bd084d31d046\"},\"plot\":{\"id\":\"d380a781-861e-47ab-c762-64d43e1fbaa5\",\"type\":\"Plot\",\"subtype\":\"Figure\"},\"tags\":[],\"formatter\":{\"type\":\"BasicTickFormatter\",\"id\":\"d7e9d3f8-d0cc-4672-c6b1-d0773166ee77\"},\"id\":\"b768c8b8-93a2-4c00-cc58-787e8751db23\"},\"type\":\"LinearAxis\",\"id\":\"b768c8b8-93a2-4c00-cc58-787e8751db23\"},{\"attributes\":{\"doc\":null,\"dimension\":0,\"plot\":{\"id\":\"d380a781-861e-47ab-c762-64d43e1fbaa5\",\"type\":\"Plot\",\"subtype\":\"Figure\"},\"tags\":[],\"ticker\":{\"type\":\"BasicTicker\",\"id\":\"60843ae6-fc23-45b0-c568-bd084d31d046\"},\"id\":\"6663d80e-74c3-4af6-caff-bd59cb32998a\"},\"type\":\"Grid\",\"id\":\"6663d80e-74c3-4af6-caff-bd59cb32998a\"},{\"attributes\":{\"tags\":[],\"doc\":null,\"id\":\"40339383-bf9b-4dcc-cd25-1b863f9255ad\"},\"type\":\"BasicTickFormatter\",\"id\":\"40339383-bf9b-4dcc-cd25-1b863f9255ad\"},{\"attributes\":{\"num_minor_ticks\":5,\"tags\":[],\"doc\":null,\"id\":\"11d8e055-25be-4967-c98e-7e9dec9d410a\"},\"type\":\"BasicTicker\",\"id\":\"11d8e055-25be-4967-c98e-7e9dec9d410a\"},{\"attributes\":{\"axis_label\":\"Exploitability\",\"doc\":null,\"ticker\":{\"type\":\"BasicTicker\",\"id\":\"11d8e055-25be-4967-c98e-7e9dec9d410a\"},\"plot\":{\"id\":\"d380a781-861e-47ab-c762-64d43e1fbaa5\",\"type\":\"Plot\",\"subtype\":\"Figure\"},\"tags\":[],\"formatter\":{\"type\":\"BasicTickFormatter\",\"id\":\"40339383-bf9b-4dcc-cd25-1b863f9255ad\"},\"id\":\"9e57062b-9c6c-41ba-c15d-6016956b1c53\"},\"type\":\"LinearAxis\",\"id\":\"9e57062b-9c6c-41ba-c15d-6016956b1c53\"},{\"attributes\":{\"doc\":null,\"dimension\":1,\"plot\":{\"id\":\"d380a781-861e-47ab-c762-64d43e1fbaa5\",\"type\":\"Plot\",\"subtype\":\"Figure\"},\"tags\":[],\"ticker\":{\"type\":\"BasicTicker\",\"id\":\"11d8e055-25be-4967-c98e-7e9dec9d410a\"},\"id\":\"af90df88-f90f-491c-c98c-b220790f71eb\"},\"type\":\"Grid\",\"id\":\"af90df88-f90f-491c-c98c-b220790f71eb\"},{\"attributes\":{\"doc\":null,\"plot\":{\"id\":\"d380a781-861e-47ab-c762-64d43e1fbaa5\",\"type\":\"Plot\",\"subtype\":\"Figure\"},\"tags\":[],\"dimensions\":[\"width\",\"height\"],\"id\":\"70dbff8c-1fd8-40aa-c0f9-75282348f999\"},\"type\":\"PanTool\",\"id\":\"70dbff8c-1fd8-40aa-c0f9-75282348f999\"},{\"attributes\":{\"doc\":null,\"plot\":{\"id\":\"d380a781-861e-47ab-c762-64d43e1fbaa5\",\"type\":\"Plot\",\"subtype\":\"Figure\"},\"tags\":[],\"dimensions\":[\"width\",\"height\"],\"id\":\"da10ecf3-7748-456e-c532-62c2d0acb8ae\"},\"type\":\"WheelZoomTool\",\"id\":\"da10ecf3-7748-456e-c532-62c2d0acb8ae\"},{\"attributes\":{\"plot\":{\"id\":\"d380a781-861e-47ab-c762-64d43e1fbaa5\",\"type\":\"Plot\",\"subtype\":\"Figure\"},\"tags\":[],\"doc\":null,\"id\":\"502bb0eb-2a00-4d2d-cdab-ac8452775217\"},\"type\":\"BoxZoomTool\",\"id\":\"502bb0eb-2a00-4d2d-cdab-ac8452775217\"},{\"attributes\":{\"plot\":{\"id\":\"d380a781-861e-47ab-c762-64d43e1fbaa5\",\"type\":\"Plot\",\"subtype\":\"Figure\"},\"tags\":[],\"doc\":null,\"id\":\"de7125a6-f1e1-4934-c904-2a1b5c8ff63e\"},\"type\":\"PreviewSaveTool\",\"id\":\"de7125a6-f1e1-4934-c904-2a1b5c8ff63e\"},{\"attributes\":{\"plot\":{\"id\":\"d380a781-861e-47ab-c762-64d43e1fbaa5\",\"type\":\"Plot\",\"subtype\":\"Figure\"},\"tags\":[],\"doc\":null,\"id\":\"0607e2e2-e98c-4c7c-ccef-958c78c0552c\"},\"type\":\"ResizeTool\",\"id\":\"0607e2e2-e98c-4c7c-ccef-958c78c0552c\"},{\"attributes\":{\"plot\":{\"id\":\"d380a781-861e-47ab-c762-64d43e1fbaa5\",\"type\":\"Plot\",\"subtype\":\"Figure\"},\"tags\":[],\"doc\":null,\"id\":\"8361d4f7-014d-44e3-c440-bbd66cb56786\"},\"type\":\"ResetTool\",\"id\":\"8361d4f7-014d-44e3-c440-bbd66cb56786\"},{\"attributes\":{\"doc\":null,\"legends\":[[\"Original\",[{\"type\":\"GlyphRenderer\",\"id\":\"35edc39d-935b-4832-c8ca-b204bf1de5a7\"}]],[\"New CFR\",[{\"type\":\"GlyphRenderer\",\"id\":\"32af14da-271e-4ff1-cf0f-d424cd3a6699\"}]]],\"plot\":{\"id\":\"d380a781-861e-47ab-c762-64d43e1fbaa5\",\"type\":\"Plot\",\"subtype\":\"Figure\"},\"tags\":[],\"id\":\"861767c8-434e-4fc1-cfa5-53272f748829\"},\"type\":\"Legend\",\"id\":\"861767c8-434e-4fc1-cfa5-53272f748829\"},{\"attributes\":{\"title\":\"Exploitability of different strategies, 800 iterations\",\"doc\":null,\"tool_events\":{\"type\":\"ToolEvents\",\"id\":\"fc35a48f-601e-4223-c28a-7be2145c194c\"},\"extra_x_ranges\":{},\"tags\":[],\"renderers\":[{\"type\":\"GlyphRenderer\",\"id\":\"35edc39d-935b-4832-c8ca-b204bf1de5a7\"},{\"type\":\"GlyphRenderer\",\"id\":\"32af14da-271e-4ff1-cf0f-d424cd3a6699\"},{\"type\":\"LinearAxis\",\"id\":\"b768c8b8-93a2-4c00-cc58-787e8751db23\"},{\"type\":\"Grid\",\"id\":\"6663d80e-74c3-4af6-caff-bd59cb32998a\"},{\"type\":\"LinearAxis\",\"id\":\"9e57062b-9c6c-41ba-c15d-6016956b1c53\"},{\"type\":\"Grid\",\"id\":\"af90df88-f90f-491c-c98c-b220790f71eb\"},{\"type\":\"Legend\",\"id\":\"861767c8-434e-4fc1-cfa5-53272f748829\"}],\"tools\":[{\"type\":\"PanTool\",\"id\":\"70dbff8c-1fd8-40aa-c0f9-75282348f999\"},{\"type\":\"WheelZoomTool\",\"id\":\"da10ecf3-7748-456e-c532-62c2d0acb8ae\"},{\"type\":\"BoxZoomTool\",\"id\":\"502bb0eb-2a00-4d2d-cdab-ac8452775217\"},{\"type\":\"PreviewSaveTool\",\"id\":\"de7125a6-f1e1-4934-c904-2a1b5c8ff63e\"},{\"type\":\"ResizeTool\",\"id\":\"0607e2e2-e98c-4c7c-ccef-958c78c0552c\"},{\"type\":\"ResetTool\",\"id\":\"8361d4f7-014d-44e3-c440-bbd66cb56786\"}],\"y_range\":{\"type\":\"DataRange1d\",\"id\":\"007268ee-0583-40dc-c09c-549fa7a44206\"},\"below\":[{\"type\":\"LinearAxis\",\"id\":\"b768c8b8-93a2-4c00-cc58-787e8751db23\"}],\"above\":[],\"extra_y_ranges\":{},\"x_range\":{\"type\":\"DataRange1d\",\"id\":\"a70dfccf-6908-4bf9-cbab-d53cb796383a\"},\"right\":[],\"left\":[{\"type\":\"LinearAxis\",\"id\":\"9e57062b-9c6c-41ba-c15d-6016956b1c53\"}],\"id\":\"d380a781-861e-47ab-c762-64d43e1fbaa5\"},\"type\":\"Plot\",\"id\":\"d380a781-861e-47ab-c762-64d43e1fbaa5\"}];\n",
       "      Bokeh.load_models(all_models);\n",
       "      var model = Bokeh.Collections(modeltype).get(modelid);\n",
       "      $(\"#ec68072a-90fc-4355-c35a-295261a49a09\").html(''); // clear any previous plot in window_id\n",
       "      var view = new model.default_view({model: model, el: \"#ec68072a-90fc-4355-c35a-295261a49a09\"});\n",
       "  });\n",
       "    }\n",
       "});\n",
       "</script>\n",
       "<div class=\"plotdiv\" id=\"ec68072a-90fc-4355-c35a-295261a49a09\"></div>\n"
      ]
     },
     "metadata": {},
     "output_type": "display_data"
    }
   ],
   "source": [
    "local num_iter = torch.range(1,exploit_cfr100:size(1))\n",
    "local plot = Plot()\n",
    "\n",
    "plot:line(num_iter,exploit_cfr100,'red' ,'Original')\n",
    "plot:line(num_iter,exploit_cfr102,'blue' ,'New CFR')\n",
    "plot:legend(true):title('Exploitability of different strategies, 800 iterations')\n",
    "plot:xaxis('Scaled number of iterations'):yaxis('Exploitability'):redraw()\n"
   ]
  },
  {
   "cell_type": "markdown",
   "metadata": {},
   "source": [
    "### 2. Exploitability for different Strategies"
   ]
  },
  {
   "cell_type": "code",
   "execution_count": 16,
   "metadata": {
    "collapsed": true
   },
   "outputs": [],
   "source": [
    "number_of_iterations = 200"
   ]
  },
  {
   "cell_type": "code",
   "execution_count": 28,
   "metadata": {
    "collapsed": true
   },
   "outputs": [],
   "source": [
    "--- Get Data from 2000 iterations\n",
    "tree800 = builder:build_tree(params)\n",
    "tree_data800 = TreeData(tree800)\n",
    "tree800_cfr = TreeCFR2()\n",
    "tree800_cfr.cfr_skip = 0\n",
    "tree800_cfr:run_cfr(tree800, starting_ranges,number_of_iterations)\n",
    "tree_data800:get_training_set(tree800,1)"
   ]
  },
  {
   "cell_type": "markdown",
   "metadata": {},
   "source": [
    "### Training the Model"
   ]
  },
  {
   "cell_type": "code",
   "execution_count": 18,
   "metadata": {
    "collapsed": true
   },
   "outputs": [],
   "source": [
    "-- Building the neural net model\n",
    "strategy_nn = StrategyNN()\n",
    "nn_model = strategy_nn.model\n",
    "-- Building trainer:\n",
    "nn_trainer = NNTrainer(tree_data800,nn_model)\n",
    "-- Options:\n",
    "opt = {}\n",
    "opt.learningRate = 0.001\n",
    "opt.momentum = 0.95\n",
    "opt.validate = false"
   ]
  },
  {
   "cell_type": "code",
   "execution_count": 19,
   "metadata": {
    "collapsed": true
   },
   "outputs": [],
   "source": [
    "current_criterion = StrategyLoss()---nn.SmoothL1Criterion()\n",
    "train_loss,test_loss = nn_trainer:train(nn_model,current_criterion,opt,10000)"
   ]
  },
  {
   "cell_type": "code",
   "execution_count": 20,
   "metadata": {},
   "outputs": [
    {
     "data": {
      "text/plain": [
       "0.0010684262834729\n"
      ]
     },
     "execution_count": 20,
     "metadata": {},
     "output_type": "execute_result"
    }
   ],
   "source": [
    "pred_strat = nn_model:forward({nn_trainer.all_data.features,nn_trainer.all_data.masks})\n",
    "true_strat =nn_trainer.all_data.targets\n",
    "print(torch.mean(torch.abs(pred_strat- true_strat)))"
   ]
  },
  {
   "cell_type": "markdown",
   "metadata": {},
   "source": [
    "### No Warm Start"
   ]
  },
  {
   "cell_type": "code",
   "execution_count": 21,
   "metadata": {
    "collapsed": true
   },
   "outputs": [],
   "source": [
    "--- Building CFR Solver\n",
    "treeNoWarm = builder:build_tree(params)\n",
    "treeNoWarm_cfr = TreeCFR2()\n",
    "treeNoWarm_cfr.cfr_skip = 0\n",
    "treeNoWarm_cfr:run_cfr(treeNoWarm, starting_ranges,number_of_iterations)"
   ]
  },
  {
   "cell_type": "markdown",
   "metadata": {},
   "source": [
    "### Neural Net Start "
   ]
  },
  {
   "cell_type": "code",
   "execution_count": 22,
   "metadata": {
    "collapsed": true
   },
   "outputs": [],
   "source": [
    "--- NNWarm Starting\n",
    "treeNNWarm = builder:build_tree(params)\n",
    "dataNN = TreeData(treeNNWarm)\n",
    "dataNN:get_training_set(treeNNWarm,1)\n",
    "dataNN:generate_new_initial_strategies(treeNNWarm,nn_trainer)\n",
    "---Warm start the regrets:\n",
    "dataNN:warm_start_regrets(treeNNWarm,tree800)\n",
    "---tree_warm_start = TreeWarmStart()\n",
    "---tree_warm_start:run_warm_start(treeNNWarm, starting_ranges,80)\n",
    "--- Building CFR Solver\n",
    "treeNNWarm_cfr = TreeCFR2()\n",
    "treeNNWarm_cfr.cfr_skip = 0\n",
    "treeNNWarm_cfr:run_cfr(treeNNWarm, starting_ranges,number_of_iterations)"
   ]
  },
  {
   "cell_type": "code",
   "execution_count": 31,
   "metadata": {
    "collapsed": true
   },
   "outputs": [],
   "source": [
    "---tree_warm_start = TreeWarmStart()\n",
    "---tree_warm_start:run_warm_start(treeNNWarm, starting_ranges,80)"
   ]
  },
  {
   "cell_type": "code",
   "execution_count": 33,
   "metadata": {
    "collapsed": true
   },
   "outputs": [],
   "source": [
    "--- NNWarm Starting\n",
    "treeNN_NoRegWarm = builder:build_tree(params)\n",
    "dataNN_NoReg = TreeData(treeNN_NoRegWarm)\n",
    "dataNN_NoReg:get_training_set(treeNN_NoRegWarm,1)\n",
    "dataNN_NoReg:generate_new_initial_strategies(treeNN_NoRegWarm,nn_trainer)\n",
    "---Warm start the regrets:\n",
    "---dataNN:warm_start_regrets(treeNN_NoRegWarm,tree800)\n",
    "--- Building CFR Solver\n",
    "treeNN_NoRegWarm_cfr = TreeCFR2()\n",
    "treeNN_NoRegWarm_cfr.cfr_skip = 0\n",
    "treeNN_NoRegWarm_cfr:run_cfr(treeNN_NoRegWarm, starting_ranges,number_of_iterations)"
   ]
  },
  {
   "cell_type": "markdown",
   "metadata": {},
   "source": [
    "### Target Warm Start "
   ]
  },
  {
   "cell_type": "code",
   "execution_count": 34,
   "metadata": {
    "collapsed": true
   },
   "outputs": [],
   "source": [
    "--- Target Warm Starting\n",
    "treeTarRegWarm = builder:build_tree(params)\n",
    "dataTargReg = TreeData(treeTarRegWarm)\n",
    "---dataTarg:get_training_set(treeTargWarm,1)\n",
    "---dataTarg:warm_start_targets(treeTargWarm,tree800)\n",
    "---dataTarg:warm_start_regrets(treeTargWarm,tree800)\n",
    "---tree_warm_start = TreeWarmStart()\n",
    "---tree_warm_start:run_warm_start(treeTargWarm, starting_ranges,number_of_iterations)\n",
    "dataTargReg:warm_start_targets_and_regrets(treeTarRegWarm,tree800)\n",
    "--- Building CFR Solver\n",
    "treeTarRegWarm_cfr = TreeCFR2()\n",
    "treeTarRegWarm_cfr.cfr_skip = 0\n",
    "treeTarRegWarm_cfr:run_cfr(treeTarRegWarm, starting_ranges,number_of_iterations)"
   ]
  },
  {
   "cell_type": "code",
   "execution_count": 36,
   "metadata": {
    "collapsed": true
   },
   "outputs": [],
   "source": [
    "--- Target Warm Starting\n",
    "treeTarWarm = builder:build_tree(params)\n",
    "dataTarg = TreeData(treeTarWarm)\n",
    "dataTarg:warm_start_targets(treeTarWarm,tree800)\n",
    "--- Building CFR Solver\n",
    "treeTarWarm_cfr = TreeCFR2()\n",
    "treeTarWarm_cfr.cfr_skip = 0\n",
    "treeTarWarm_cfr:run_cfr(treeTarWarm, starting_ranges,number_of_iterations)"
   ]
  },
  {
   "cell_type": "code",
   "execution_count": 37,
   "metadata": {
    "collapsed": true
   },
   "outputs": [],
   "source": [
    "--- Target Warm Starting\n",
    "treeRegWarm = builder:build_tree(params)\n",
    "dataReg = TreeData(treeRegWarm)\n",
    "dataReg:warm_start_regrets(treeRegWarm,tree800)\n",
    "--- Building CFR Solver\n",
    "treeRegWarm_cfr = TreeCFR2()\n",
    "treeRegWarm_cfr.cfr_skip = 0\n",
    "treeRegWarm_cfr:run_cfr(treeRegWarm, starting_ranges,number_of_iterations)"
   ]
  },
  {
   "cell_type": "markdown",
   "metadata": {},
   "source": [
    "### Plot different starts"
   ]
  },
  {
   "cell_type": "code",
   "execution_count": 44,
   "metadata": {
    "collapsed": true
   },
   "outputs": [],
   "source": [
    "exploit_unif = tree800_cfr.exploitability_vec\n",
    "exploit_NoW = treeNoWarm_cfr.exploitability_vec\n",
    "exploit_NNW = treeNNWarm_cfr.exploitability_vec\n",
    "exploit_NN_NoReg = treeNN_NoRegWarm_cfr.exploitability_vec\n",
    "exploit_TarRegW = treeTarRegWarm_cfr.exploitability_vec\n",
    "exploit_TarW = treeTarWarm_cfr.exploitability_vec\n",
    "exploit_RegW = treeRegWarm_cfr.exploitability_vec"
   ]
  },
  {
   "cell_type": "code",
   "execution_count": 48,
   "metadata": {},
   "outputs": [
    {
     "data": {
      "text/html": [
       "<script type=\"text/javascript\">\n",
       "$(function() {\n",
       "    if (typeof (window._bokeh_onload_callbacks) === \"undefined\"){\n",
       "  window._bokeh_onload_callbacks = [];\n",
       "    }\n",
       "    function load_lib(url, callback){\n",
       "  window._bokeh_onload_callbacks.push(callback);\n",
       "  if (window._bokeh_is_loading){\n",
       "      console.log(\"Bokeh: BokehJS is being loaded, scheduling callback at\", new Date());\n",
       "      return null;\n",
       "  }\n",
       "  console.log(\"Bokeh: BokehJS not loaded, scheduling load and callback at\", new Date());\n",
       "  window._bokeh_is_loading = true;\n",
       "  var s = document.createElement('script');\n",
       "  s.src = url;\n",
       "  s.async = true;\n",
       "  s.onreadystatechange = s.onload = function(){\n",
       "      Bokeh.embed.inject_css(\"https://cdn.pydata.org/bokeh-0.7.0.min.css\");\n",
       "      window._bokeh_onload_callbacks.forEach(function(callback){callback()});\n",
       "  };\n",
       "  s.onerror = function(){\n",
       "      console.warn(\"failed to load library \" + url);\n",
       "  };\n",
       "  document.getElementsByTagName(\"head\")[0].appendChild(s);\n",
       "    }\n",
       "\n",
       "    bokehjs_url = \"https://cdn.pydata.org/bokeh-0.7.0.min.js\"\n",
       "\n",
       "    var elt = document.getElementById(\"537a2dbd-8ec7-48f4-c8c9-314212e28b65\");\n",
       "    if(elt==null) {\n",
       "  console.log(\"Bokeh: ERROR: autoload.js configured with elementid '537a2dbd-8ec7-48f4-c8c9-314212e28b65'\"\n",
       "        + \"but no matching script tag was found. \")\n",
       "  return false;\n",
       "    }\n",
       "\n",
       "    if(typeof(Bokeh) !== \"undefined\") {\n",
       "  console.log(\"Bokeh: BokehJS loaded, going straight to plotting\");\n",
       "  var modelid = \"514d8ccd-6355-4ff0-cfec-314408fcff54\";\n",
       "  var modeltype = \"Plot\";\n",
       "  var all_models = [{\"attributes\":{\"data\":{\"x\":[1,2,3,4,5,6,7,8,9,10,11,12,13,14,15],\"y\":[164.95370483398,42.218864440918,26.691440582275,19.959630966187,15.049201965332,12.372058868408,10.449928283691,9.0421495437622,7.936469078064,7.2657327651978,6.5739688873291,5.9448590278625,5.5436334609985,5.2820043563843,4.8766531944275]},\"column_names\":[\"y\",\"x\"],\"doc\":null,\"discrete_ranges\":{},\"selected\":[],\"tags\":[],\"cont_ranges\":{},\"id\":\"8a616b8f-1329-46a4-c66d-68f860215674\"},\"type\":\"ColumnDataSource\",\"id\":\"8a616b8f-1329-46a4-c66d-68f860215674\"},{\"attributes\":{\"line_alpha\":{\"units\":\"data\",\"value\":1},\"x\":{\"units\":\"data\",\"field\":\"x\"},\"size\":{\"units\":\"screen\",\"value\":10},\"tags\":[],\"line_color\":{\"value\":\"black\"},\"fill_alpha\":{\"units\":\"data\",\"value\":0.2},\"fill_color\":{\"value\":\"black\"},\"y\":{\"units\":\"data\",\"field\":\"y\"},\"doc\":null,\"id\":\"d678bd83-b927-4aba-caa4-e0fd83ed919a\"},\"type\":\"Line\",\"id\":\"d678bd83-b927-4aba-caa4-e0fd83ed919a\"},{\"attributes\":{\"line_alpha\":{\"units\":\"data\",\"value\":1},\"x\":{\"units\":\"data\",\"field\":\"x\"},\"size\":{\"units\":\"screen\",\"value\":10},\"tags\":[],\"line_color\":{\"value\":\"black\"},\"fill_alpha\":{\"units\":\"data\",\"value\":0.2},\"fill_color\":{\"value\":\"black\"},\"y\":{\"units\":\"data\",\"field\":\"y\"},\"doc\":null,\"id\":\"73d6ab14-4bc6-4a6f-ca13-42e3b4f73249\"},\"type\":\"Line\",\"id\":\"73d6ab14-4bc6-4a6f-ca13-42e3b4f73249\"},{\"attributes\":{\"data_source\":{\"type\":\"ColumnDataSource\",\"id\":\"8a616b8f-1329-46a4-c66d-68f860215674\"},\"doc\":null,\"tags\":[],\"server_data_source\":null,\"selection_glyph\":null,\"glyph\":{\"type\":\"Line\",\"id\":\"d678bd83-b927-4aba-caa4-e0fd83ed919a\"},\"nonselection_glyph\":{\"type\":\"Line\",\"id\":\"73d6ab14-4bc6-4a6f-ca13-42e3b4f73249\"},\"name\":null,\"id\":\"60b8898b-bf7c-4223-c2d0-41c4d80a4ee8\"},\"type\":\"GlyphRenderer\",\"id\":\"60b8898b-bf7c-4223-c2d0-41c4d80a4ee8\"},{\"attributes\":{\"data\":{\"x\":[1,2,3,4,5,6,7,8,9,10,11,12,13,14,15],\"y\":[7.4018068313599,10.4713306427,4.2752795219421,3.0440201759338,2.2382659912109,2.2693691253662,1.6661224365234,1.4626426696777,1.2981734275818,1.3008723258972,1.0317001342773,1.0172238349915,1.0513210296631,0.86686754226685,0.87111520767212]},\"column_names\":[\"y\",\"x\"],\"doc\":null,\"discrete_ranges\":{},\"selected\":[],\"tags\":[],\"cont_ranges\":{},\"id\":\"4486526d-00c4-4315-c3d5-64d0cc9c17ee\"},\"type\":\"ColumnDataSource\",\"id\":\"4486526d-00c4-4315-c3d5-64d0cc9c17ee\"},{\"attributes\":{\"line_alpha\":{\"units\":\"data\",\"value\":1},\"x\":{\"units\":\"data\",\"field\":\"x\"},\"size\":{\"units\":\"screen\",\"value\":10},\"tags\":[],\"line_color\":{\"value\":\"blue\"},\"fill_alpha\":{\"units\":\"data\",\"value\":0.2},\"fill_color\":{\"value\":\"blue\"},\"y\":{\"units\":\"data\",\"field\":\"y\"},\"doc\":null,\"id\":\"d3fde016-2144-416c-c1a5-3ff0259dcbb5\"},\"type\":\"Line\",\"id\":\"d3fde016-2144-416c-c1a5-3ff0259dcbb5\"},{\"attributes\":{\"line_alpha\":{\"units\":\"data\",\"value\":1},\"x\":{\"units\":\"data\",\"field\":\"x\"},\"size\":{\"units\":\"screen\",\"value\":10},\"tags\":[],\"line_color\":{\"value\":\"blue\"},\"fill_alpha\":{\"units\":\"data\",\"value\":0.2},\"fill_color\":{\"value\":\"blue\"},\"y\":{\"units\":\"data\",\"field\":\"y\"},\"doc\":null,\"id\":\"6213cb30-bcd8-48c8-c87f-66ae93d6acc1\"},\"type\":\"Line\",\"id\":\"6213cb30-bcd8-48c8-c87f-66ae93d6acc1\"},{\"attributes\":{\"data_source\":{\"type\":\"ColumnDataSource\",\"id\":\"4486526d-00c4-4315-c3d5-64d0cc9c17ee\"},\"doc\":null,\"tags\":[],\"server_data_source\":null,\"selection_glyph\":null,\"glyph\":{\"type\":\"Line\",\"id\":\"d3fde016-2144-416c-c1a5-3ff0259dcbb5\"},\"nonselection_glyph\":{\"type\":\"Line\",\"id\":\"6213cb30-bcd8-48c8-c87f-66ae93d6acc1\"},\"name\":null,\"id\":\"569e4980-f548-43e0-c341-e6cdb2d825a5\"},\"type\":\"GlyphRenderer\",\"id\":\"569e4980-f548-43e0-c341-e6cdb2d825a5\"},{\"attributes\":{\"data\":{\"x\":[1,2,3,4,5,6,7,8,9,10,11,12,13,14,15],\"y\":[7.4018068313599,53.034450531006,30.32532119751,22.204029083252,16.600034713745,13.567736625671,11.507633209229,9.9701681137085,8.8410396575928,7.7763118743896,7.126070022583,6.4703192710876,6.0503425598145,5.5432567596436,5.2362232208252]},\"column_names\":[\"y\",\"x\"],\"doc\":null,\"discrete_ranges\":{},\"selected\":[],\"tags\":[],\"cont_ranges\":{},\"id\":\"5f267c00-8e21-42ff-c219-7bc099c4c137\"},\"type\":\"ColumnDataSource\",\"id\":\"5f267c00-8e21-42ff-c219-7bc099c4c137\"},{\"attributes\":{\"line_alpha\":{\"units\":\"data\",\"value\":1},\"x\":{\"units\":\"data\",\"field\":\"x\"},\"size\":{\"units\":\"screen\",\"value\":10},\"tags\":[],\"line_color\":{\"value\":\"brown\"},\"fill_alpha\":{\"units\":\"data\",\"value\":0.2},\"fill_color\":{\"value\":\"brown\"},\"y\":{\"units\":\"data\",\"field\":\"y\"},\"doc\":null,\"id\":\"1725984c-73e4-4183-c15e-4052212a81f0\"},\"type\":\"Line\",\"id\":\"1725984c-73e4-4183-c15e-4052212a81f0\"},{\"attributes\":{\"line_alpha\":{\"units\":\"data\",\"value\":1},\"x\":{\"units\":\"data\",\"field\":\"x\"},\"size\":{\"units\":\"screen\",\"value\":10},\"tags\":[],\"line_color\":{\"value\":\"brown\"},\"fill_alpha\":{\"units\":\"data\",\"value\":0.2},\"fill_color\":{\"value\":\"brown\"},\"y\":{\"units\":\"data\",\"field\":\"y\"},\"doc\":null,\"id\":\"4b900ac0-73fb-40f8-c0d0-a8b524e1235a\"},\"type\":\"Line\",\"id\":\"4b900ac0-73fb-40f8-c0d0-a8b524e1235a\"},{\"attributes\":{\"data_source\":{\"type\":\"ColumnDataSource\",\"id\":\"5f267c00-8e21-42ff-c219-7bc099c4c137\"},\"doc\":null,\"tags\":[],\"server_data_source\":null,\"selection_glyph\":null,\"glyph\":{\"type\":\"Line\",\"id\":\"1725984c-73e4-4183-c15e-4052212a81f0\"},\"nonselection_glyph\":{\"type\":\"Line\",\"id\":\"4b900ac0-73fb-40f8-c0d0-a8b524e1235a\"},\"name\":null,\"id\":\"979a6865-3184-47a6-c712-de49ca85c210\"},\"type\":\"GlyphRenderer\",\"id\":\"979a6865-3184-47a6-c712-de49ca85c210\"},{\"attributes\":{\"data\":{\"x\":[1,2,3,4,5,6,7,8,9,10,11,12,13,14,15],\"y\":[9.8309535980225,10.810057640076,4.2174782752991,3.0691051483154,2.206582069397,2.2737016677856,1.6662702560425,1.46839427948,1.3076195716858,1.2691693305969,1.0305757522583,0.98518848419189,1.0417499542236,0.82661247253418,0.84614944458008]},\"column_names\":[\"y\",\"x\"],\"doc\":null,\"discrete_ranges\":{},\"selected\":[],\"tags\":[],\"cont_ranges\":{},\"id\":\"ee70e22a-982d-4f81-cf09-9d0b9864af8d\"},\"type\":\"ColumnDataSource\",\"id\":\"ee70e22a-982d-4f81-cf09-9d0b9864af8d\"},{\"attributes\":{\"line_alpha\":{\"units\":\"data\",\"value\":1},\"x\":{\"units\":\"data\",\"field\":\"x\"},\"size\":{\"units\":\"screen\",\"value\":10},\"tags\":[],\"line_color\":{\"value\":\"green\"},\"fill_alpha\":{\"units\":\"data\",\"value\":0.2},\"fill_color\":{\"value\":\"green\"},\"y\":{\"units\":\"data\",\"field\":\"y\"},\"doc\":null,\"id\":\"09e6c5f4-0fa8-43f9-c385-8d5431061062\"},\"type\":\"Line\",\"id\":\"09e6c5f4-0fa8-43f9-c385-8d5431061062\"},{\"attributes\":{\"line_alpha\":{\"units\":\"data\",\"value\":1},\"x\":{\"units\":\"data\",\"field\":\"x\"},\"size\":{\"units\":\"screen\",\"value\":10},\"tags\":[],\"line_color\":{\"value\":\"green\"},\"fill_alpha\":{\"units\":\"data\",\"value\":0.2},\"fill_color\":{\"value\":\"green\"},\"y\":{\"units\":\"data\",\"field\":\"y\"},\"doc\":null,\"id\":\"4ba93646-072b-4208-c2eb-33f55e8f9c33\"},\"type\":\"Line\",\"id\":\"4ba93646-072b-4208-c2eb-33f55e8f9c33\"},{\"attributes\":{\"data_source\":{\"type\":\"ColumnDataSource\",\"id\":\"ee70e22a-982d-4f81-cf09-9d0b9864af8d\"},\"doc\":null,\"tags\":[],\"server_data_source\":null,\"selection_glyph\":null,\"glyph\":{\"type\":\"Line\",\"id\":\"09e6c5f4-0fa8-43f9-c385-8d5431061062\"},\"nonselection_glyph\":{\"type\":\"Line\",\"id\":\"4ba93646-072b-4208-c2eb-33f55e8f9c33\"},\"name\":null,\"id\":\"d5c0dc78-c39e-475d-c79e-1549b3b28303\"},\"type\":\"GlyphRenderer\",\"id\":\"d5c0dc78-c39e-475d-c79e-1549b3b28303\"},{\"attributes\":{\"data\":{\"x\":[1,2,3,4,5,6,7,8,9,10,11,12,13,14,15],\"y\":[9.8309535980225,56.04838180542,32.859497070312,21.760778427124,16.728113174438,13.826934814453,11.315496444702,9.7205648422241,8.3364448547363,7.4120435714722,7.0796480178833,6.389271736145,5.9026746749878,5.2913665771484,5.1572737693787]},\"column_names\":[\"y\",\"x\"],\"doc\":null,\"discrete_ranges\":{},\"selected\":[],\"tags\":[],\"cont_ranges\":{},\"id\":\"ba90029f-af2e-42ff-c23b-a79c8000478e\"},\"type\":\"ColumnDataSource\",\"id\":\"ba90029f-af2e-42ff-c23b-a79c8000478e\"},{\"attributes\":{\"line_alpha\":{\"units\":\"data\",\"value\":1},\"x\":{\"units\":\"data\",\"field\":\"x\"},\"size\":{\"units\":\"screen\",\"value\":10},\"tags\":[],\"line_color\":{\"value\":\"orange\"},\"fill_alpha\":{\"units\":\"data\",\"value\":0.2},\"fill_color\":{\"value\":\"orange\"},\"y\":{\"units\":\"data\",\"field\":\"y\"},\"doc\":null,\"id\":\"5b6b7203-fcfa-4802-c8f5-f739fd8444fb\"},\"type\":\"Line\",\"id\":\"5b6b7203-fcfa-4802-c8f5-f739fd8444fb\"},{\"attributes\":{\"line_alpha\":{\"units\":\"data\",\"value\":1},\"x\":{\"units\":\"data\",\"field\":\"x\"},\"size\":{\"units\":\"screen\",\"value\":10},\"tags\":[],\"line_color\":{\"value\":\"orange\"},\"fill_alpha\":{\"units\":\"data\",\"value\":0.2},\"fill_color\":{\"value\":\"orange\"},\"y\":{\"units\":\"data\",\"field\":\"y\"},\"doc\":null,\"id\":\"7ceca14e-cd22-422c-c266-fbde027dad93\"},\"type\":\"Line\",\"id\":\"7ceca14e-cd22-422c-c266-fbde027dad93\"},{\"attributes\":{\"data_source\":{\"type\":\"ColumnDataSource\",\"id\":\"ba90029f-af2e-42ff-c23b-a79c8000478e\"},\"doc\":null,\"tags\":[],\"server_data_source\":null,\"selection_glyph\":null,\"glyph\":{\"type\":\"Line\",\"id\":\"5b6b7203-fcfa-4802-c8f5-f739fd8444fb\"},\"nonselection_glyph\":{\"type\":\"Line\",\"id\":\"7ceca14e-cd22-422c-c266-fbde027dad93\"},\"name\":null,\"id\":\"0473fcc7-ff63-483a-c838-f47ff02774d7\"},\"type\":\"GlyphRenderer\",\"id\":\"0473fcc7-ff63-483a-c838-f47ff02774d7\"},{\"attributes\":{\"data\":{\"x\":[1,2,3,4,5,6,7,8,9,10,11,12,13,14,15],\"y\":[164.95370483398,13.532978057861,5.444863319397,3.913384437561,3.0226192474365,2.7419638633728,1.9649238586426,2.0673041343689,1.5338168144226,1.5524110794067,1.4388823509216,1.2366027832031,1.245819568634,1.0919542312622,1.0329351425171]},\"column_names\":[\"y\",\"x\"],\"doc\":null,\"discrete_ranges\":{},\"selected\":[],\"tags\":[],\"cont_ranges\":{},\"id\":\"f9071c68-b38b-41e2-c1f2-fc9f809fb3c3\"},\"type\":\"ColumnDataSource\",\"id\":\"f9071c68-b38b-41e2-c1f2-fc9f809fb3c3\"},{\"attributes\":{\"line_alpha\":{\"units\":\"data\",\"value\":1},\"x\":{\"units\":\"data\",\"field\":\"x\"},\"size\":{\"units\":\"screen\",\"value\":10},\"tags\":[],\"line_color\":{\"value\":\"red\"},\"fill_alpha\":{\"units\":\"data\",\"value\":0.2},\"fill_color\":{\"value\":\"red\"},\"y\":{\"units\":\"data\",\"field\":\"y\"},\"doc\":null,\"id\":\"e493a189-485c-4d5d-cd8a-437f727897ca\"},\"type\":\"Line\",\"id\":\"e493a189-485c-4d5d-cd8a-437f727897ca\"},{\"attributes\":{\"line_alpha\":{\"units\":\"data\",\"value\":1},\"x\":{\"units\":\"data\",\"field\":\"x\"},\"size\":{\"units\":\"screen\",\"value\":10},\"tags\":[],\"line_color\":{\"value\":\"red\"},\"fill_alpha\":{\"units\":\"data\",\"value\":0.2},\"fill_color\":{\"value\":\"red\"},\"y\":{\"units\":\"data\",\"field\":\"y\"},\"doc\":null,\"id\":\"b11836b6-0431-4404-c47b-e4acbcdfe495\"},\"type\":\"Line\",\"id\":\"b11836b6-0431-4404-c47b-e4acbcdfe495\"},{\"attributes\":{\"data_source\":{\"type\":\"ColumnDataSource\",\"id\":\"f9071c68-b38b-41e2-c1f2-fc9f809fb3c3\"},\"doc\":null,\"tags\":[],\"server_data_source\":null,\"selection_glyph\":null,\"glyph\":{\"type\":\"Line\",\"id\":\"e493a189-485c-4d5d-cd8a-437f727897ca\"},\"nonselection_glyph\":{\"type\":\"Line\",\"id\":\"b11836b6-0431-4404-c47b-e4acbcdfe495\"},\"name\":null,\"id\":\"8d00cf3d-6f95-4da1-cd81-55666be655cd\"},\"type\":\"GlyphRenderer\",\"id\":\"8d00cf3d-6f95-4da1-cd81-55666be655cd\"},{\"attributes\":{\"sources\":[{\"columns\":[\"x\"],\"source\":{\"type\":\"ColumnDataSource\",\"id\":\"8a616b8f-1329-46a4-c66d-68f860215674\"}},{\"columns\":[\"x\"],\"source\":{\"type\":\"ColumnDataSource\",\"id\":\"4486526d-00c4-4315-c3d5-64d0cc9c17ee\"}},{\"columns\":[\"x\"],\"source\":{\"type\":\"ColumnDataSource\",\"id\":\"5f267c00-8e21-42ff-c219-7bc099c4c137\"}},{\"columns\":[\"x\"],\"source\":{\"type\":\"ColumnDataSource\",\"id\":\"ee70e22a-982d-4f81-cf09-9d0b9864af8d\"}},{\"columns\":[\"x\"],\"source\":{\"type\":\"ColumnDataSource\",\"id\":\"ba90029f-af2e-42ff-c23b-a79c8000478e\"}},{\"columns\":[\"x\"],\"source\":{\"type\":\"ColumnDataSource\",\"id\":\"f9071c68-b38b-41e2-c1f2-fc9f809fb3c3\"}}],\"tags\":[],\"doc\":null,\"id\":\"e0beee35-8847-42cd-c22d-5aab0f2c7fc5\"},\"type\":\"DataRange1d\",\"id\":\"e0beee35-8847-42cd-c22d-5aab0f2c7fc5\"},{\"attributes\":{\"sources\":[{\"columns\":[\"y\"],\"source\":{\"type\":\"ColumnDataSource\",\"id\":\"8a616b8f-1329-46a4-c66d-68f860215674\"}},{\"columns\":[\"y\"],\"source\":{\"type\":\"ColumnDataSource\",\"id\":\"4486526d-00c4-4315-c3d5-64d0cc9c17ee\"}},{\"columns\":[\"y\"],\"source\":{\"type\":\"ColumnDataSource\",\"id\":\"5f267c00-8e21-42ff-c219-7bc099c4c137\"}},{\"columns\":[\"y\"],\"source\":{\"type\":\"ColumnDataSource\",\"id\":\"ee70e22a-982d-4f81-cf09-9d0b9864af8d\"}},{\"columns\":[\"y\"],\"source\":{\"type\":\"ColumnDataSource\",\"id\":\"ba90029f-af2e-42ff-c23b-a79c8000478e\"}},{\"columns\":[\"y\"],\"source\":{\"type\":\"ColumnDataSource\",\"id\":\"f9071c68-b38b-41e2-c1f2-fc9f809fb3c3\"}}],\"tags\":[],\"doc\":null,\"id\":\"13f14799-d71e-4d57-cd91-0ca52563db34\"},\"type\":\"DataRange1d\",\"id\":\"13f14799-d71e-4d57-cd91-0ca52563db34\"},{\"attributes\":{\"geometries\":[],\"tags\":[],\"doc\":null,\"id\":\"9a02f972-4623-4e0d-ce96-7803e072cb1a\"},\"type\":\"ToolEvents\",\"id\":\"9a02f972-4623-4e0d-ce96-7803e072cb1a\"},{\"attributes\":{\"tags\":[],\"doc\":null,\"id\":\"a1be8d67-04c0-4971-c9fa-ddfa06d3c649\"},\"type\":\"BasicTickFormatter\",\"id\":\"a1be8d67-04c0-4971-c9fa-ddfa06d3c649\"},{\"attributes\":{\"num_minor_ticks\":5,\"tags\":[],\"doc\":null,\"id\":\"8dddb4ec-4597-427b-c239-c6b82c1d81ad\"},\"type\":\"BasicTicker\",\"id\":\"8dddb4ec-4597-427b-c239-c6b82c1d81ad\"},{\"attributes\":{\"axis_label\":\"Scaled number of iterations\",\"doc\":null,\"ticker\":{\"type\":\"BasicTicker\",\"id\":\"8dddb4ec-4597-427b-c239-c6b82c1d81ad\"},\"plot\":{\"id\":\"514d8ccd-6355-4ff0-cfec-314408fcff54\",\"type\":\"Plot\",\"subtype\":\"Figure\"},\"tags\":[],\"formatter\":{\"type\":\"BasicTickFormatter\",\"id\":\"a1be8d67-04c0-4971-c9fa-ddfa06d3c649\"},\"id\":\"0d8ca0aa-55bc-4f00-cf2d-71f9c5531d99\"},\"type\":\"LinearAxis\",\"id\":\"0d8ca0aa-55bc-4f00-cf2d-71f9c5531d99\"},{\"attributes\":{\"doc\":null,\"dimension\":0,\"plot\":{\"id\":\"514d8ccd-6355-4ff0-cfec-314408fcff54\",\"type\":\"Plot\",\"subtype\":\"Figure\"},\"tags\":[],\"ticker\":{\"type\":\"BasicTicker\",\"id\":\"8dddb4ec-4597-427b-c239-c6b82c1d81ad\"},\"id\":\"b9c896cc-19ef-4eee-ceef-a6a2b921715a\"},\"type\":\"Grid\",\"id\":\"b9c896cc-19ef-4eee-ceef-a6a2b921715a\"},{\"attributes\":{\"tags\":[],\"doc\":null,\"id\":\"e8deca50-5751-4295-c2a7-2be52bab9713\"},\"type\":\"BasicTickFormatter\",\"id\":\"e8deca50-5751-4295-c2a7-2be52bab9713\"},{\"attributes\":{\"num_minor_ticks\":5,\"tags\":[],\"doc\":null,\"id\":\"3989d229-53f3-4c97-cc16-ec9a5b221fb1\"},\"type\":\"BasicTicker\",\"id\":\"3989d229-53f3-4c97-cc16-ec9a5b221fb1\"},{\"attributes\":{\"axis_label\":\"Exploitability\",\"doc\":null,\"ticker\":{\"type\":\"BasicTicker\",\"id\":\"3989d229-53f3-4c97-cc16-ec9a5b221fb1\"},\"plot\":{\"id\":\"514d8ccd-6355-4ff0-cfec-314408fcff54\",\"type\":\"Plot\",\"subtype\":\"Figure\"},\"tags\":[],\"formatter\":{\"type\":\"BasicTickFormatter\",\"id\":\"e8deca50-5751-4295-c2a7-2be52bab9713\"},\"id\":\"03888c00-a728-4b2e-cb60-8872ea6fe28b\"},\"type\":\"LinearAxis\",\"id\":\"03888c00-a728-4b2e-cb60-8872ea6fe28b\"},{\"attributes\":{\"doc\":null,\"dimension\":1,\"plot\":{\"id\":\"514d8ccd-6355-4ff0-cfec-314408fcff54\",\"type\":\"Plot\",\"subtype\":\"Figure\"},\"tags\":[],\"ticker\":{\"type\":\"BasicTicker\",\"id\":\"3989d229-53f3-4c97-cc16-ec9a5b221fb1\"},\"id\":\"34aa54f6-bbb6-4c01-cc13-0bfdb48da55d\"},\"type\":\"Grid\",\"id\":\"34aa54f6-bbb6-4c01-cc13-0bfdb48da55d\"},{\"attributes\":{\"doc\":null,\"plot\":{\"id\":\"514d8ccd-6355-4ff0-cfec-314408fcff54\",\"type\":\"Plot\",\"subtype\":\"Figure\"},\"tags\":[],\"dimensions\":[\"width\",\"height\"],\"id\":\"3cd817c6-c37f-4899-c8bf-2f180f49b727\"},\"type\":\"PanTool\",\"id\":\"3cd817c6-c37f-4899-c8bf-2f180f49b727\"},{\"attributes\":{\"doc\":null,\"plot\":{\"id\":\"514d8ccd-6355-4ff0-cfec-314408fcff54\",\"type\":\"Plot\",\"subtype\":\"Figure\"},\"tags\":[],\"dimensions\":[\"width\",\"height\"],\"id\":\"1c356547-a675-4b80-cbec-873eb799c821\"},\"type\":\"WheelZoomTool\",\"id\":\"1c356547-a675-4b80-cbec-873eb799c821\"},{\"attributes\":{\"plot\":{\"id\":\"514d8ccd-6355-4ff0-cfec-314408fcff54\",\"type\":\"Plot\",\"subtype\":\"Figure\"},\"tags\":[],\"doc\":null,\"id\":\"fad16465-edf1-43ad-c365-ff9af7f1fd02\"},\"type\":\"BoxZoomTool\",\"id\":\"fad16465-edf1-43ad-c365-ff9af7f1fd02\"},{\"attributes\":{\"plot\":{\"id\":\"514d8ccd-6355-4ff0-cfec-314408fcff54\",\"type\":\"Plot\",\"subtype\":\"Figure\"},\"tags\":[],\"doc\":null,\"id\":\"94fea861-0584-4455-c465-09e0fe191d2c\"},\"type\":\"PreviewSaveTool\",\"id\":\"94fea861-0584-4455-c465-09e0fe191d2c\"},{\"attributes\":{\"plot\":{\"id\":\"514d8ccd-6355-4ff0-cfec-314408fcff54\",\"type\":\"Plot\",\"subtype\":\"Figure\"},\"tags\":[],\"doc\":null,\"id\":\"69c85835-72a6-4b01-cb2a-ddd37f038b0e\"},\"type\":\"ResizeTool\",\"id\":\"69c85835-72a6-4b01-cb2a-ddd37f038b0e\"},{\"attributes\":{\"plot\":{\"id\":\"514d8ccd-6355-4ff0-cfec-314408fcff54\",\"type\":\"Plot\",\"subtype\":\"Figure\"},\"tags\":[],\"doc\":null,\"id\":\"9aad0b2f-109e-4a84-ca47-48e1d330e602\"},\"type\":\"ResetTool\",\"id\":\"9aad0b2f-109e-4a84-ca47-48e1d330e602\"},{\"attributes\":{\"doc\":null,\"legends\":[[\"No Warm start CFR = Uniform warm start\",[{\"type\":\"GlyphRenderer\",\"id\":\"60b8898b-bf7c-4223-c2d0-41c4d80a4ee8\"}]],[\"Neural Net warm start CFR\",[{\"type\":\"GlyphRenderer\",\"id\":\"569e4980-f548-43e0-c341-e6cdb2d825a5\"}]],[\"Neural Net warm start CFR no Regrets\",[{\"type\":\"GlyphRenderer\",\"id\":\"979a6865-3184-47a6-c712-de49ca85c210\"}]],[\"Warm start target and regrets\",[{\"type\":\"GlyphRenderer\",\"id\":\"d5c0dc78-c39e-475d-c79e-1549b3b28303\"}]],[\"Warm start only targets\",[{\"type\":\"GlyphRenderer\",\"id\":\"0473fcc7-ff63-483a-c838-f47ff02774d7\"}]],[\"Warm start with target values\",[{\"type\":\"GlyphRenderer\",\"id\":\"8d00cf3d-6f95-4da1-cd81-55666be655cd\"}]]],\"plot\":{\"id\":\"514d8ccd-6355-4ff0-cfec-314408fcff54\",\"type\":\"Plot\",\"subtype\":\"Figure\"},\"tags\":[],\"id\":\"0ef6eb69-656e-4e2e-ce8d-2ddd2410a5c7\"},\"type\":\"Legend\",\"id\":\"0ef6eb69-656e-4e2e-ce8d-2ddd2410a5c7\"},{\"attributes\":{\"title\":\"Exploitability of different strategies, 800 iterations\",\"doc\":null,\"tool_events\":{\"type\":\"ToolEvents\",\"id\":\"9a02f972-4623-4e0d-ce96-7803e072cb1a\"},\"extra_x_ranges\":{},\"tags\":[],\"renderers\":[{\"type\":\"GlyphRenderer\",\"id\":\"60b8898b-bf7c-4223-c2d0-41c4d80a4ee8\"},{\"type\":\"GlyphRenderer\",\"id\":\"569e4980-f548-43e0-c341-e6cdb2d825a5\"},{\"type\":\"GlyphRenderer\",\"id\":\"979a6865-3184-47a6-c712-de49ca85c210\"},{\"type\":\"GlyphRenderer\",\"id\":\"d5c0dc78-c39e-475d-c79e-1549b3b28303\"},{\"type\":\"GlyphRenderer\",\"id\":\"0473fcc7-ff63-483a-c838-f47ff02774d7\"},{\"type\":\"GlyphRenderer\",\"id\":\"8d00cf3d-6f95-4da1-cd81-55666be655cd\"},{\"type\":\"LinearAxis\",\"id\":\"0d8ca0aa-55bc-4f00-cf2d-71f9c5531d99\"},{\"type\":\"Grid\",\"id\":\"b9c896cc-19ef-4eee-ceef-a6a2b921715a\"},{\"type\":\"LinearAxis\",\"id\":\"03888c00-a728-4b2e-cb60-8872ea6fe28b\"},{\"type\":\"Grid\",\"id\":\"34aa54f6-bbb6-4c01-cc13-0bfdb48da55d\"},{\"type\":\"Legend\",\"id\":\"0ef6eb69-656e-4e2e-ce8d-2ddd2410a5c7\"}],\"tools\":[{\"type\":\"PanTool\",\"id\":\"3cd817c6-c37f-4899-c8bf-2f180f49b727\"},{\"type\":\"WheelZoomTool\",\"id\":\"1c356547-a675-4b80-cbec-873eb799c821\"},{\"type\":\"BoxZoomTool\",\"id\":\"fad16465-edf1-43ad-c365-ff9af7f1fd02\"},{\"type\":\"PreviewSaveTool\",\"id\":\"94fea861-0584-4455-c465-09e0fe191d2c\"},{\"type\":\"ResizeTool\",\"id\":\"69c85835-72a6-4b01-cb2a-ddd37f038b0e\"},{\"type\":\"ResetTool\",\"id\":\"9aad0b2f-109e-4a84-ca47-48e1d330e602\"}],\"y_range\":{\"type\":\"DataRange1d\",\"id\":\"13f14799-d71e-4d57-cd91-0ca52563db34\"},\"below\":[{\"type\":\"LinearAxis\",\"id\":\"0d8ca0aa-55bc-4f00-cf2d-71f9c5531d99\"}],\"above\":[],\"extra_y_ranges\":{},\"x_range\":{\"type\":\"DataRange1d\",\"id\":\"e0beee35-8847-42cd-c22d-5aab0f2c7fc5\"},\"right\":[],\"left\":[{\"type\":\"LinearAxis\",\"id\":\"03888c00-a728-4b2e-cb60-8872ea6fe28b\"}],\"id\":\"514d8ccd-6355-4ff0-cfec-314408fcff54\"},\"type\":\"Plot\",\"id\":\"514d8ccd-6355-4ff0-cfec-314408fcff54\"}];\n",
       "  Bokeh.load_models(all_models);\n",
       "  var model = Bokeh.Collections(modeltype).get(modelid);\n",
       "  $(\"#537a2dbd-8ec7-48f4-c8c9-314212e28b65\").html(''); // clear any previous plot in window_id\n",
       "  var view = new model.default_view({model: model, el: \"#537a2dbd-8ec7-48f4-c8c9-314212e28b65\"});\n",
       "    } else {\n",
       "  load_lib(bokehjs_url, function() {\n",
       "      console.log(\"Bokeh: BokehJS plotting callback run at\", new Date())\n",
       "      var modelid = \"514d8ccd-6355-4ff0-cfec-314408fcff54\";\n",
       "      var modeltype = \"Plot\";\n",
       "      var all_models = [{\"attributes\":{\"data\":{\"x\":[1,2,3,4,5,6,7,8,9,10,11,12,13,14,15],\"y\":[164.95370483398,42.218864440918,26.691440582275,19.959630966187,15.049201965332,12.372058868408,10.449928283691,9.0421495437622,7.936469078064,7.2657327651978,6.5739688873291,5.9448590278625,5.5436334609985,5.2820043563843,4.8766531944275]},\"column_names\":[\"y\",\"x\"],\"doc\":null,\"discrete_ranges\":{},\"selected\":[],\"tags\":[],\"cont_ranges\":{},\"id\":\"8a616b8f-1329-46a4-c66d-68f860215674\"},\"type\":\"ColumnDataSource\",\"id\":\"8a616b8f-1329-46a4-c66d-68f860215674\"},{\"attributes\":{\"line_alpha\":{\"units\":\"data\",\"value\":1},\"x\":{\"units\":\"data\",\"field\":\"x\"},\"size\":{\"units\":\"screen\",\"value\":10},\"tags\":[],\"line_color\":{\"value\":\"black\"},\"fill_alpha\":{\"units\":\"data\",\"value\":0.2},\"fill_color\":{\"value\":\"black\"},\"y\":{\"units\":\"data\",\"field\":\"y\"},\"doc\":null,\"id\":\"d678bd83-b927-4aba-caa4-e0fd83ed919a\"},\"type\":\"Line\",\"id\":\"d678bd83-b927-4aba-caa4-e0fd83ed919a\"},{\"attributes\":{\"line_alpha\":{\"units\":\"data\",\"value\":1},\"x\":{\"units\":\"data\",\"field\":\"x\"},\"size\":{\"units\":\"screen\",\"value\":10},\"tags\":[],\"line_color\":{\"value\":\"black\"},\"fill_alpha\":{\"units\":\"data\",\"value\":0.2},\"fill_color\":{\"value\":\"black\"},\"y\":{\"units\":\"data\",\"field\":\"y\"},\"doc\":null,\"id\":\"73d6ab14-4bc6-4a6f-ca13-42e3b4f73249\"},\"type\":\"Line\",\"id\":\"73d6ab14-4bc6-4a6f-ca13-42e3b4f73249\"},{\"attributes\":{\"data_source\":{\"type\":\"ColumnDataSource\",\"id\":\"8a616b8f-1329-46a4-c66d-68f860215674\"},\"doc\":null,\"tags\":[],\"server_data_source\":null,\"selection_glyph\":null,\"glyph\":{\"type\":\"Line\",\"id\":\"d678bd83-b927-4aba-caa4-e0fd83ed919a\"},\"nonselection_glyph\":{\"type\":\"Line\",\"id\":\"73d6ab14-4bc6-4a6f-ca13-42e3b4f73249\"},\"name\":null,\"id\":\"60b8898b-bf7c-4223-c2d0-41c4d80a4ee8\"},\"type\":\"GlyphRenderer\",\"id\":\"60b8898b-bf7c-4223-c2d0-41c4d80a4ee8\"},{\"attributes\":{\"data\":{\"x\":[1,2,3,4,5,6,7,8,9,10,11,12,13,14,15],\"y\":[7.4018068313599,10.4713306427,4.2752795219421,3.0440201759338,2.2382659912109,2.2693691253662,1.6661224365234,1.4626426696777,1.2981734275818,1.3008723258972,1.0317001342773,1.0172238349915,1.0513210296631,0.86686754226685,0.87111520767212]},\"column_names\":[\"y\",\"x\"],\"doc\":null,\"discrete_ranges\":{},\"selected\":[],\"tags\":[],\"cont_ranges\":{},\"id\":\"4486526d-00c4-4315-c3d5-64d0cc9c17ee\"},\"type\":\"ColumnDataSource\",\"id\":\"4486526d-00c4-4315-c3d5-64d0cc9c17ee\"},{\"attributes\":{\"line_alpha\":{\"units\":\"data\",\"value\":1},\"x\":{\"units\":\"data\",\"field\":\"x\"},\"size\":{\"units\":\"screen\",\"value\":10},\"tags\":[],\"line_color\":{\"value\":\"blue\"},\"fill_alpha\":{\"units\":\"data\",\"value\":0.2},\"fill_color\":{\"value\":\"blue\"},\"y\":{\"units\":\"data\",\"field\":\"y\"},\"doc\":null,\"id\":\"d3fde016-2144-416c-c1a5-3ff0259dcbb5\"},\"type\":\"Line\",\"id\":\"d3fde016-2144-416c-c1a5-3ff0259dcbb5\"},{\"attributes\":{\"line_alpha\":{\"units\":\"data\",\"value\":1},\"x\":{\"units\":\"data\",\"field\":\"x\"},\"size\":{\"units\":\"screen\",\"value\":10},\"tags\":[],\"line_color\":{\"value\":\"blue\"},\"fill_alpha\":{\"units\":\"data\",\"value\":0.2},\"fill_color\":{\"value\":\"blue\"},\"y\":{\"units\":\"data\",\"field\":\"y\"},\"doc\":null,\"id\":\"6213cb30-bcd8-48c8-c87f-66ae93d6acc1\"},\"type\":\"Line\",\"id\":\"6213cb30-bcd8-48c8-c87f-66ae93d6acc1\"},{\"attributes\":{\"data_source\":{\"type\":\"ColumnDataSource\",\"id\":\"4486526d-00c4-4315-c3d5-64d0cc9c17ee\"},\"doc\":null,\"tags\":[],\"server_data_source\":null,\"selection_glyph\":null,\"glyph\":{\"type\":\"Line\",\"id\":\"d3fde016-2144-416c-c1a5-3ff0259dcbb5\"},\"nonselection_glyph\":{\"type\":\"Line\",\"id\":\"6213cb30-bcd8-48c8-c87f-66ae93d6acc1\"},\"name\":null,\"id\":\"569e4980-f548-43e0-c341-e6cdb2d825a5\"},\"type\":\"GlyphRenderer\",\"id\":\"569e4980-f548-43e0-c341-e6cdb2d825a5\"},{\"attributes\":{\"data\":{\"x\":[1,2,3,4,5,6,7,8,9,10,11,12,13,14,15],\"y\":[7.4018068313599,53.034450531006,30.32532119751,22.204029083252,16.600034713745,13.567736625671,11.507633209229,9.9701681137085,8.8410396575928,7.7763118743896,7.126070022583,6.4703192710876,6.0503425598145,5.5432567596436,5.2362232208252]},\"column_names\":[\"y\",\"x\"],\"doc\":null,\"discrete_ranges\":{},\"selected\":[],\"tags\":[],\"cont_ranges\":{},\"id\":\"5f267c00-8e21-42ff-c219-7bc099c4c137\"},\"type\":\"ColumnDataSource\",\"id\":\"5f267c00-8e21-42ff-c219-7bc099c4c137\"},{\"attributes\":{\"line_alpha\":{\"units\":\"data\",\"value\":1},\"x\":{\"units\":\"data\",\"field\":\"x\"},\"size\":{\"units\":\"screen\",\"value\":10},\"tags\":[],\"line_color\":{\"value\":\"brown\"},\"fill_alpha\":{\"units\":\"data\",\"value\":0.2},\"fill_color\":{\"value\":\"brown\"},\"y\":{\"units\":\"data\",\"field\":\"y\"},\"doc\":null,\"id\":\"1725984c-73e4-4183-c15e-4052212a81f0\"},\"type\":\"Line\",\"id\":\"1725984c-73e4-4183-c15e-4052212a81f0\"},{\"attributes\":{\"line_alpha\":{\"units\":\"data\",\"value\":1},\"x\":{\"units\":\"data\",\"field\":\"x\"},\"size\":{\"units\":\"screen\",\"value\":10},\"tags\":[],\"line_color\":{\"value\":\"brown\"},\"fill_alpha\":{\"units\":\"data\",\"value\":0.2},\"fill_color\":{\"value\":\"brown\"},\"y\":{\"units\":\"data\",\"field\":\"y\"},\"doc\":null,\"id\":\"4b900ac0-73fb-40f8-c0d0-a8b524e1235a\"},\"type\":\"Line\",\"id\":\"4b900ac0-73fb-40f8-c0d0-a8b524e1235a\"},{\"attributes\":{\"data_source\":{\"type\":\"ColumnDataSource\",\"id\":\"5f267c00-8e21-42ff-c219-7bc099c4c137\"},\"doc\":null,\"tags\":[],\"server_data_source\":null,\"selection_glyph\":null,\"glyph\":{\"type\":\"Line\",\"id\":\"1725984c-73e4-4183-c15e-4052212a81f0\"},\"nonselection_glyph\":{\"type\":\"Line\",\"id\":\"4b900ac0-73fb-40f8-c0d0-a8b524e1235a\"},\"name\":null,\"id\":\"979a6865-3184-47a6-c712-de49ca85c210\"},\"type\":\"GlyphRenderer\",\"id\":\"979a6865-3184-47a6-c712-de49ca85c210\"},{\"attributes\":{\"data\":{\"x\":[1,2,3,4,5,6,7,8,9,10,11,12,13,14,15],\"y\":[9.8309535980225,10.810057640076,4.2174782752991,3.0691051483154,2.206582069397,2.2737016677856,1.6662702560425,1.46839427948,1.3076195716858,1.2691693305969,1.0305757522583,0.98518848419189,1.0417499542236,0.82661247253418,0.84614944458008]},\"column_names\":[\"y\",\"x\"],\"doc\":null,\"discrete_ranges\":{},\"selected\":[],\"tags\":[],\"cont_ranges\":{},\"id\":\"ee70e22a-982d-4f81-cf09-9d0b9864af8d\"},\"type\":\"ColumnDataSource\",\"id\":\"ee70e22a-982d-4f81-cf09-9d0b9864af8d\"},{\"attributes\":{\"line_alpha\":{\"units\":\"data\",\"value\":1},\"x\":{\"units\":\"data\",\"field\":\"x\"},\"size\":{\"units\":\"screen\",\"value\":10},\"tags\":[],\"line_color\":{\"value\":\"green\"},\"fill_alpha\":{\"units\":\"data\",\"value\":0.2},\"fill_color\":{\"value\":\"green\"},\"y\":{\"units\":\"data\",\"field\":\"y\"},\"doc\":null,\"id\":\"09e6c5f4-0fa8-43f9-c385-8d5431061062\"},\"type\":\"Line\",\"id\":\"09e6c5f4-0fa8-43f9-c385-8d5431061062\"},{\"attributes\":{\"line_alpha\":{\"units\":\"data\",\"value\":1},\"x\":{\"units\":\"data\",\"field\":\"x\"},\"size\":{\"units\":\"screen\",\"value\":10},\"tags\":[],\"line_color\":{\"value\":\"green\"},\"fill_alpha\":{\"units\":\"data\",\"value\":0.2},\"fill_color\":{\"value\":\"green\"},\"y\":{\"units\":\"data\",\"field\":\"y\"},\"doc\":null,\"id\":\"4ba93646-072b-4208-c2eb-33f55e8f9c33\"},\"type\":\"Line\",\"id\":\"4ba93646-072b-4208-c2eb-33f55e8f9c33\"},{\"attributes\":{\"data_source\":{\"type\":\"ColumnDataSource\",\"id\":\"ee70e22a-982d-4f81-cf09-9d0b9864af8d\"},\"doc\":null,\"tags\":[],\"server_data_source\":null,\"selection_glyph\":null,\"glyph\":{\"type\":\"Line\",\"id\":\"09e6c5f4-0fa8-43f9-c385-8d5431061062\"},\"nonselection_glyph\":{\"type\":\"Line\",\"id\":\"4ba93646-072b-4208-c2eb-33f55e8f9c33\"},\"name\":null,\"id\":\"d5c0dc78-c39e-475d-c79e-1549b3b28303\"},\"type\":\"GlyphRenderer\",\"id\":\"d5c0dc78-c39e-475d-c79e-1549b3b28303\"},{\"attributes\":{\"data\":{\"x\":[1,2,3,4,5,6,7,8,9,10,11,12,13,14,15],\"y\":[9.8309535980225,56.04838180542,32.859497070312,21.760778427124,16.728113174438,13.826934814453,11.315496444702,9.7205648422241,8.3364448547363,7.4120435714722,7.0796480178833,6.389271736145,5.9026746749878,5.2913665771484,5.1572737693787]},\"column_names\":[\"y\",\"x\"],\"doc\":null,\"discrete_ranges\":{},\"selected\":[],\"tags\":[],\"cont_ranges\":{},\"id\":\"ba90029f-af2e-42ff-c23b-a79c8000478e\"},\"type\":\"ColumnDataSource\",\"id\":\"ba90029f-af2e-42ff-c23b-a79c8000478e\"},{\"attributes\":{\"line_alpha\":{\"units\":\"data\",\"value\":1},\"x\":{\"units\":\"data\",\"field\":\"x\"},\"size\":{\"units\":\"screen\",\"value\":10},\"tags\":[],\"line_color\":{\"value\":\"orange\"},\"fill_alpha\":{\"units\":\"data\",\"value\":0.2},\"fill_color\":{\"value\":\"orange\"},\"y\":{\"units\":\"data\",\"field\":\"y\"},\"doc\":null,\"id\":\"5b6b7203-fcfa-4802-c8f5-f739fd8444fb\"},\"type\":\"Line\",\"id\":\"5b6b7203-fcfa-4802-c8f5-f739fd8444fb\"},{\"attributes\":{\"line_alpha\":{\"units\":\"data\",\"value\":1},\"x\":{\"units\":\"data\",\"field\":\"x\"},\"size\":{\"units\":\"screen\",\"value\":10},\"tags\":[],\"line_color\":{\"value\":\"orange\"},\"fill_alpha\":{\"units\":\"data\",\"value\":0.2},\"fill_color\":{\"value\":\"orange\"},\"y\":{\"units\":\"data\",\"field\":\"y\"},\"doc\":null,\"id\":\"7ceca14e-cd22-422c-c266-fbde027dad93\"},\"type\":\"Line\",\"id\":\"7ceca14e-cd22-422c-c266-fbde027dad93\"},{\"attributes\":{\"data_source\":{\"type\":\"ColumnDataSource\",\"id\":\"ba90029f-af2e-42ff-c23b-a79c8000478e\"},\"doc\":null,\"tags\":[],\"server_data_source\":null,\"selection_glyph\":null,\"glyph\":{\"type\":\"Line\",\"id\":\"5b6b7203-fcfa-4802-c8f5-f739fd8444fb\"},\"nonselection_glyph\":{\"type\":\"Line\",\"id\":\"7ceca14e-cd22-422c-c266-fbde027dad93\"},\"name\":null,\"id\":\"0473fcc7-ff63-483a-c838-f47ff02774d7\"},\"type\":\"GlyphRenderer\",\"id\":\"0473fcc7-ff63-483a-c838-f47ff02774d7\"},{\"attributes\":{\"data\":{\"x\":[1,2,3,4,5,6,7,8,9,10,11,12,13,14,15],\"y\":[164.95370483398,13.532978057861,5.444863319397,3.913384437561,3.0226192474365,2.7419638633728,1.9649238586426,2.0673041343689,1.5338168144226,1.5524110794067,1.4388823509216,1.2366027832031,1.245819568634,1.0919542312622,1.0329351425171]},\"column_names\":[\"y\",\"x\"],\"doc\":null,\"discrete_ranges\":{},\"selected\":[],\"tags\":[],\"cont_ranges\":{},\"id\":\"f9071c68-b38b-41e2-c1f2-fc9f809fb3c3\"},\"type\":\"ColumnDataSource\",\"id\":\"f9071c68-b38b-41e2-c1f2-fc9f809fb3c3\"},{\"attributes\":{\"line_alpha\":{\"units\":\"data\",\"value\":1},\"x\":{\"units\":\"data\",\"field\":\"x\"},\"size\":{\"units\":\"screen\",\"value\":10},\"tags\":[],\"line_color\":{\"value\":\"red\"},\"fill_alpha\":{\"units\":\"data\",\"value\":0.2},\"fill_color\":{\"value\":\"red\"},\"y\":{\"units\":\"data\",\"field\":\"y\"},\"doc\":null,\"id\":\"e493a189-485c-4d5d-cd8a-437f727897ca\"},\"type\":\"Line\",\"id\":\"e493a189-485c-4d5d-cd8a-437f727897ca\"},{\"attributes\":{\"line_alpha\":{\"units\":\"data\",\"value\":1},\"x\":{\"units\":\"data\",\"field\":\"x\"},\"size\":{\"units\":\"screen\",\"value\":10},\"tags\":[],\"line_color\":{\"value\":\"red\"},\"fill_alpha\":{\"units\":\"data\",\"value\":0.2},\"fill_color\":{\"value\":\"red\"},\"y\":{\"units\":\"data\",\"field\":\"y\"},\"doc\":null,\"id\":\"b11836b6-0431-4404-c47b-e4acbcdfe495\"},\"type\":\"Line\",\"id\":\"b11836b6-0431-4404-c47b-e4acbcdfe495\"},{\"attributes\":{\"data_source\":{\"type\":\"ColumnDataSource\",\"id\":\"f9071c68-b38b-41e2-c1f2-fc9f809fb3c3\"},\"doc\":null,\"tags\":[],\"server_data_source\":null,\"selection_glyph\":null,\"glyph\":{\"type\":\"Line\",\"id\":\"e493a189-485c-4d5d-cd8a-437f727897ca\"},\"nonselection_glyph\":{\"type\":\"Line\",\"id\":\"b11836b6-0431-4404-c47b-e4acbcdfe495\"},\"name\":null,\"id\":\"8d00cf3d-6f95-4da1-cd81-55666be655cd\"},\"type\":\"GlyphRenderer\",\"id\":\"8d00cf3d-6f95-4da1-cd81-55666be655cd\"},{\"attributes\":{\"sources\":[{\"columns\":[\"x\"],\"source\":{\"type\":\"ColumnDataSource\",\"id\":\"8a616b8f-1329-46a4-c66d-68f860215674\"}},{\"columns\":[\"x\"],\"source\":{\"type\":\"ColumnDataSource\",\"id\":\"4486526d-00c4-4315-c3d5-64d0cc9c17ee\"}},{\"columns\":[\"x\"],\"source\":{\"type\":\"ColumnDataSource\",\"id\":\"5f267c00-8e21-42ff-c219-7bc099c4c137\"}},{\"columns\":[\"x\"],\"source\":{\"type\":\"ColumnDataSource\",\"id\":\"ee70e22a-982d-4f81-cf09-9d0b9864af8d\"}},{\"columns\":[\"x\"],\"source\":{\"type\":\"ColumnDataSource\",\"id\":\"ba90029f-af2e-42ff-c23b-a79c8000478e\"}},{\"columns\":[\"x\"],\"source\":{\"type\":\"ColumnDataSource\",\"id\":\"f9071c68-b38b-41e2-c1f2-fc9f809fb3c3\"}}],\"tags\":[],\"doc\":null,\"id\":\"e0beee35-8847-42cd-c22d-5aab0f2c7fc5\"},\"type\":\"DataRange1d\",\"id\":\"e0beee35-8847-42cd-c22d-5aab0f2c7fc5\"},{\"attributes\":{\"sources\":[{\"columns\":[\"y\"],\"source\":{\"type\":\"ColumnDataSource\",\"id\":\"8a616b8f-1329-46a4-c66d-68f860215674\"}},{\"columns\":[\"y\"],\"source\":{\"type\":\"ColumnDataSource\",\"id\":\"4486526d-00c4-4315-c3d5-64d0cc9c17ee\"}},{\"columns\":[\"y\"],\"source\":{\"type\":\"ColumnDataSource\",\"id\":\"5f267c00-8e21-42ff-c219-7bc099c4c137\"}},{\"columns\":[\"y\"],\"source\":{\"type\":\"ColumnDataSource\",\"id\":\"ee70e22a-982d-4f81-cf09-9d0b9864af8d\"}},{\"columns\":[\"y\"],\"source\":{\"type\":\"ColumnDataSource\",\"id\":\"ba90029f-af2e-42ff-c23b-a79c8000478e\"}},{\"columns\":[\"y\"],\"source\":{\"type\":\"ColumnDataSource\",\"id\":\"f9071c68-b38b-41e2-c1f2-fc9f809fb3c3\"}}],\"tags\":[],\"doc\":null,\"id\":\"13f14799-d71e-4d57-cd91-0ca52563db34\"},\"type\":\"DataRange1d\",\"id\":\"13f14799-d71e-4d57-cd91-0ca52563db34\"},{\"attributes\":{\"geometries\":[],\"tags\":[],\"doc\":null,\"id\":\"9a02f972-4623-4e0d-ce96-7803e072cb1a\"},\"type\":\"ToolEvents\",\"id\":\"9a02f972-4623-4e0d-ce96-7803e072cb1a\"},{\"attributes\":{\"tags\":[],\"doc\":null,\"id\":\"a1be8d67-04c0-4971-c9fa-ddfa06d3c649\"},\"type\":\"BasicTickFormatter\",\"id\":\"a1be8d67-04c0-4971-c9fa-ddfa06d3c649\"},{\"attributes\":{\"num_minor_ticks\":5,\"tags\":[],\"doc\":null,\"id\":\"8dddb4ec-4597-427b-c239-c6b82c1d81ad\"},\"type\":\"BasicTicker\",\"id\":\"8dddb4ec-4597-427b-c239-c6b82c1d81ad\"},{\"attributes\":{\"axis_label\":\"Scaled number of iterations\",\"doc\":null,\"ticker\":{\"type\":\"BasicTicker\",\"id\":\"8dddb4ec-4597-427b-c239-c6b82c1d81ad\"},\"plot\":{\"id\":\"514d8ccd-6355-4ff0-cfec-314408fcff54\",\"type\":\"Plot\",\"subtype\":\"Figure\"},\"tags\":[],\"formatter\":{\"type\":\"BasicTickFormatter\",\"id\":\"a1be8d67-04c0-4971-c9fa-ddfa06d3c649\"},\"id\":\"0d8ca0aa-55bc-4f00-cf2d-71f9c5531d99\"},\"type\":\"LinearAxis\",\"id\":\"0d8ca0aa-55bc-4f00-cf2d-71f9c5531d99\"},{\"attributes\":{\"doc\":null,\"dimension\":0,\"plot\":{\"id\":\"514d8ccd-6355-4ff0-cfec-314408fcff54\",\"type\":\"Plot\",\"subtype\":\"Figure\"},\"tags\":[],\"ticker\":{\"type\":\"BasicTicker\",\"id\":\"8dddb4ec-4597-427b-c239-c6b82c1d81ad\"},\"id\":\"b9c896cc-19ef-4eee-ceef-a6a2b921715a\"},\"type\":\"Grid\",\"id\":\"b9c896cc-19ef-4eee-ceef-a6a2b921715a\"},{\"attributes\":{\"tags\":[],\"doc\":null,\"id\":\"e8deca50-5751-4295-c2a7-2be52bab9713\"},\"type\":\"BasicTickFormatter\",\"id\":\"e8deca50-5751-4295-c2a7-2be52bab9713\"},{\"attributes\":{\"num_minor_ticks\":5,\"tags\":[],\"doc\":null,\"id\":\"3989d229-53f3-4c97-cc16-ec9a5b221fb1\"},\"type\":\"BasicTicker\",\"id\":\"3989d229-53f3-4c97-cc16-ec9a5b221fb1\"},{\"attributes\":{\"axis_label\":\"Exploitability\",\"doc\":null,\"ticker\":{\"type\":\"BasicTicker\",\"id\":\"3989d229-53f3-4c97-cc16-ec9a5b221fb1\"},\"plot\":{\"id\":\"514d8ccd-6355-4ff0-cfec-314408fcff54\",\"type\":\"Plot\",\"subtype\":\"Figure\"},\"tags\":[],\"formatter\":{\"type\":\"BasicTickFormatter\",\"id\":\"e8deca50-5751-4295-c2a7-2be52bab9713\"},\"id\":\"03888c00-a728-4b2e-cb60-8872ea6fe28b\"},\"type\":\"LinearAxis\",\"id\":\"03888c00-a728-4b2e-cb60-8872ea6fe28b\"},{\"attributes\":{\"doc\":null,\"dimension\":1,\"plot\":{\"id\":\"514d8ccd-6355-4ff0-cfec-314408fcff54\",\"type\":\"Plot\",\"subtype\":\"Figure\"},\"tags\":[],\"ticker\":{\"type\":\"BasicTicker\",\"id\":\"3989d229-53f3-4c97-cc16-ec9a5b221fb1\"},\"id\":\"34aa54f6-bbb6-4c01-cc13-0bfdb48da55d\"},\"type\":\"Grid\",\"id\":\"34aa54f6-bbb6-4c01-cc13-0bfdb48da55d\"},{\"attributes\":{\"doc\":null,\"plot\":{\"id\":\"514d8ccd-6355-4ff0-cfec-314408fcff54\",\"type\":\"Plot\",\"subtype\":\"Figure\"},\"tags\":[],\"dimensions\":[\"width\",\"height\"],\"id\":\"3cd817c6-c37f-4899-c8bf-2f180f49b727\"},\"type\":\"PanTool\",\"id\":\"3cd817c6-c37f-4899-c8bf-2f180f49b727\"},{\"attributes\":{\"doc\":null,\"plot\":{\"id\":\"514d8ccd-6355-4ff0-cfec-314408fcff54\",\"type\":\"Plot\",\"subtype\":\"Figure\"},\"tags\":[],\"dimensions\":[\"width\",\"height\"],\"id\":\"1c356547-a675-4b80-cbec-873eb799c821\"},\"type\":\"WheelZoomTool\",\"id\":\"1c356547-a675-4b80-cbec-873eb799c821\"},{\"attributes\":{\"plot\":{\"id\":\"514d8ccd-6355-4ff0-cfec-314408fcff54\",\"type\":\"Plot\",\"subtype\":\"Figure\"},\"tags\":[],\"doc\":null,\"id\":\"fad16465-edf1-43ad-c365-ff9af7f1fd02\"},\"type\":\"BoxZoomTool\",\"id\":\"fad16465-edf1-43ad-c365-ff9af7f1fd02\"},{\"attributes\":{\"plot\":{\"id\":\"514d8ccd-6355-4ff0-cfec-314408fcff54\",\"type\":\"Plot\",\"subtype\":\"Figure\"},\"tags\":[],\"doc\":null,\"id\":\"94fea861-0584-4455-c465-09e0fe191d2c\"},\"type\":\"PreviewSaveTool\",\"id\":\"94fea861-0584-4455-c465-09e0fe191d2c\"},{\"attributes\":{\"plot\":{\"id\":\"514d8ccd-6355-4ff0-cfec-314408fcff54\",\"type\":\"Plot\",\"subtype\":\"Figure\"},\"tags\":[],\"doc\":null,\"id\":\"69c85835-72a6-4b01-cb2a-ddd37f038b0e\"},\"type\":\"ResizeTool\",\"id\":\"69c85835-72a6-4b01-cb2a-ddd37f038b0e\"},{\"attributes\":{\"plot\":{\"id\":\"514d8ccd-6355-4ff0-cfec-314408fcff54\",\"type\":\"Plot\",\"subtype\":\"Figure\"},\"tags\":[],\"doc\":null,\"id\":\"9aad0b2f-109e-4a84-ca47-48e1d330e602\"},\"type\":\"ResetTool\",\"id\":\"9aad0b2f-109e-4a84-ca47-48e1d330e602\"},{\"attributes\":{\"doc\":null,\"legends\":[[\"No Warm start CFR = Uniform warm start\",[{\"type\":\"GlyphRenderer\",\"id\":\"60b8898b-bf7c-4223-c2d0-41c4d80a4ee8\"}]],[\"Neural Net warm start CFR\",[{\"type\":\"GlyphRenderer\",\"id\":\"569e4980-f548-43e0-c341-e6cdb2d825a5\"}]],[\"Neural Net warm start CFR no Regrets\",[{\"type\":\"GlyphRenderer\",\"id\":\"979a6865-3184-47a6-c712-de49ca85c210\"}]],[\"Warm start target and regrets\",[{\"type\":\"GlyphRenderer\",\"id\":\"d5c0dc78-c39e-475d-c79e-1549b3b28303\"}]],[\"Warm start only targets\",[{\"type\":\"GlyphRenderer\",\"id\":\"0473fcc7-ff63-483a-c838-f47ff02774d7\"}]],[\"Warm start with target values\",[{\"type\":\"GlyphRenderer\",\"id\":\"8d00cf3d-6f95-4da1-cd81-55666be655cd\"}]]],\"plot\":{\"id\":\"514d8ccd-6355-4ff0-cfec-314408fcff54\",\"type\":\"Plot\",\"subtype\":\"Figure\"},\"tags\":[],\"id\":\"0ef6eb69-656e-4e2e-ce8d-2ddd2410a5c7\"},\"type\":\"Legend\",\"id\":\"0ef6eb69-656e-4e2e-ce8d-2ddd2410a5c7\"},{\"attributes\":{\"title\":\"Exploitability of different strategies, 800 iterations\",\"doc\":null,\"tool_events\":{\"type\":\"ToolEvents\",\"id\":\"9a02f972-4623-4e0d-ce96-7803e072cb1a\"},\"extra_x_ranges\":{},\"tags\":[],\"renderers\":[{\"type\":\"GlyphRenderer\",\"id\":\"60b8898b-bf7c-4223-c2d0-41c4d80a4ee8\"},{\"type\":\"GlyphRenderer\",\"id\":\"569e4980-f548-43e0-c341-e6cdb2d825a5\"},{\"type\":\"GlyphRenderer\",\"id\":\"979a6865-3184-47a6-c712-de49ca85c210\"},{\"type\":\"GlyphRenderer\",\"id\":\"d5c0dc78-c39e-475d-c79e-1549b3b28303\"},{\"type\":\"GlyphRenderer\",\"id\":\"0473fcc7-ff63-483a-c838-f47ff02774d7\"},{\"type\":\"GlyphRenderer\",\"id\":\"8d00cf3d-6f95-4da1-cd81-55666be655cd\"},{\"type\":\"LinearAxis\",\"id\":\"0d8ca0aa-55bc-4f00-cf2d-71f9c5531d99\"},{\"type\":\"Grid\",\"id\":\"b9c896cc-19ef-4eee-ceef-a6a2b921715a\"},{\"type\":\"LinearAxis\",\"id\":\"03888c00-a728-4b2e-cb60-8872ea6fe28b\"},{\"type\":\"Grid\",\"id\":\"34aa54f6-bbb6-4c01-cc13-0bfdb48da55d\"},{\"type\":\"Legend\",\"id\":\"0ef6eb69-656e-4e2e-ce8d-2ddd2410a5c7\"}],\"tools\":[{\"type\":\"PanTool\",\"id\":\"3cd817c6-c37f-4899-c8bf-2f180f49b727\"},{\"type\":\"WheelZoomTool\",\"id\":\"1c356547-a675-4b80-cbec-873eb799c821\"},{\"type\":\"BoxZoomTool\",\"id\":\"fad16465-edf1-43ad-c365-ff9af7f1fd02\"},{\"type\":\"PreviewSaveTool\",\"id\":\"94fea861-0584-4455-c465-09e0fe191d2c\"},{\"type\":\"ResizeTool\",\"id\":\"69c85835-72a6-4b01-cb2a-ddd37f038b0e\"},{\"type\":\"ResetTool\",\"id\":\"9aad0b2f-109e-4a84-ca47-48e1d330e602\"}],\"y_range\":{\"type\":\"DataRange1d\",\"id\":\"13f14799-d71e-4d57-cd91-0ca52563db34\"},\"below\":[{\"type\":\"LinearAxis\",\"id\":\"0d8ca0aa-55bc-4f00-cf2d-71f9c5531d99\"}],\"above\":[],\"extra_y_ranges\":{},\"x_range\":{\"type\":\"DataRange1d\",\"id\":\"e0beee35-8847-42cd-c22d-5aab0f2c7fc5\"},\"right\":[],\"left\":[{\"type\":\"LinearAxis\",\"id\":\"03888c00-a728-4b2e-cb60-8872ea6fe28b\"}],\"id\":\"514d8ccd-6355-4ff0-cfec-314408fcff54\"},\"type\":\"Plot\",\"id\":\"514d8ccd-6355-4ff0-cfec-314408fcff54\"}];\n",
       "      Bokeh.load_models(all_models);\n",
       "      var model = Bokeh.Collections(modeltype).get(modelid);\n",
       "      $(\"#537a2dbd-8ec7-48f4-c8c9-314212e28b65\").html(''); // clear any previous plot in window_id\n",
       "      var view = new model.default_view({model: model, el: \"#537a2dbd-8ec7-48f4-c8c9-314212e28b65\"});\n",
       "  });\n",
       "    }\n",
       "});\n",
       "</script>\n",
       "<div class=\"plotdiv\" id=\"537a2dbd-8ec7-48f4-c8c9-314212e28b65\"></div>\n"
      ]
     },
     "metadata": {},
     "output_type": "display_data"
    }
   ],
   "source": [
    "local num_iter = torch.range(1,exploit_NoW:size(1))\n",
    "local plot = Plot()\n",
    "\n",
    "---plot:line(num_iter,exploit_unif,'black' ,'No Warm start CFR = Uniform warm start')\n",
    "plot:line(num_iter,exploit_NoW,'black' ,'No Warm start CFR = Uniform warm start')\n",
    "plot:line(num_iter,exploit_NNW,'blue' ,'Neural Net warm start CFR')\n",
    "plot:line(num_iter,exploit_NN_NoReg,'brown' ,'Neural Net warm start CFR no Regrets')\n",
    "plot:line(num_iter,exploit_TarRegW,'green' ,'Warm start target and regrets')\n",
    "plot:line(num_iter,exploit_TarW,'orange' ,'Warm start only targets')\n",
    "plot:line(num_iter,exploit_RegW,'red' ,'Warm start with target values')\n",
    "plot:legend(true):title('Exploitability of different strategies, 800 iterations')\n",
    "plot:xaxis('Scaled number of iterations'):yaxis('Exploitability'):redraw()\n"
   ]
  },
  {
   "cell_type": "markdown",
   "metadata": {},
   "source": [
    "### Graphical Comparaison"
   ]
  },
  {
   "cell_type": "markdown",
   "metadata": {},
   "source": [
    "### 3. Comparaision with 2000 CFR2"
   ]
  },
  {
   "cell_type": "code",
   "execution_count": 22,
   "metadata": {
    "collapsed": true
   },
   "outputs": [],
   "source": [
    "--- Get Data from 2000 iterations\n",
    "tree802 = builder:build_tree(params)\n",
    "tree_data802 = TreeData(tree802)\n",
    "tree802_cfr = TreeCFR2()\n",
    "tree802_cfr:run_cfr(tree802, starting_ranges,number_of_iterations)\n",
    "tree_data802:get_training_set(tree802,1)"
   ]
  },
  {
   "cell_type": "code",
   "execution_count": 23,
   "metadata": {
    "collapsed": true
   },
   "outputs": [],
   "source": [
    "-- Building the neural net model\n",
    "strategy_nn2 = StrategyNN()\n",
    "nn_model2 = strategy_nn2.model\n",
    "-- Building trainer:\n",
    "nn_trainer2 = NNTrainer(tree_data802,nn_model2)\n",
    "-- Options:\n",
    "opt = {}\n",
    "opt.learningRate = 0.001\n",
    "opt.momentum = 0.95\n",
    "opt.validate = false"
   ]
  },
  {
   "cell_type": "code",
   "execution_count": 24,
   "metadata": {
    "collapsed": true
   },
   "outputs": [],
   "source": [
    "current_criterion2 = nn.SmoothL1Criterion()\n",
    "train_loss,test_loss = nn_trainer:train(nn_model2,current_criterion2,opt,10000)"
   ]
  },
  {
   "cell_type": "code",
   "execution_count": 25,
   "metadata": {
    "collapsed": true
   },
   "outputs": [],
   "source": [
    "--- No Warm Start\n",
    "treeNoWarm2 = builder:build_tree(params)\n",
    "treeNoWarm_cfr2 = TreeCFR2()\n",
    "treeNoWarm_cfr2:run_cfr(treeNoWarm2, starting_ranges,number_of_iterations)"
   ]
  },
  {
   "cell_type": "code",
   "execution_count": 26,
   "metadata": {
    "collapsed": true
   },
   "outputs": [],
   "source": [
    "--- NNWarm Starting\n",
    "treeNNWarm2 = builder:build_tree(params)\n",
    "dataNN2 = TreeData(treeNNWarm2)\n",
    "dataNN2:get_training_set(treeNNWarm2,1)\n",
    "dataNN2:generate_new_initial_strategies(treeNNWarm2,nn_trainer2)"
   ]
  },
  {
   "cell_type": "code",
   "execution_count": 27,
   "metadata": {
    "collapsed": true
   },
   "outputs": [],
   "source": [
    "--- NNWarm CFR Solver\n",
    "treeNNWarm_cfr2 = TreeCFR2()\n",
    "treeNNWarm_cfr2:run_cfr(treeNNWarm2, starting_ranges,number_of_iterations)"
   ]
  },
  {
   "cell_type": "code",
   "execution_count": 28,
   "metadata": {
    "collapsed": true
   },
   "outputs": [],
   "source": [
    "--- Target Warm Starting\n",
    "treeTargWarm2 = builder:build_tree(params)\n",
    "dataTarg2 = TreeData(treeTargWarm2)\n",
    "dataTarg2:get_training_set(treeTargWarm2,1)\n",
    "dataTarg2:warm_start_targets(treeTargWarm2,tree802)"
   ]
  },
  {
   "cell_type": "code",
   "execution_count": 29,
   "metadata": {
    "collapsed": true
   },
   "outputs": [],
   "source": [
    "--- Building CFR Solver\n",
    "treeTargWarm_cfr2 = TreeCFR2()\n",
    "treeTargWarm_cfr2:run_cfr(treeTargWarm2, starting_ranges,number_of_iterations)"
   ]
  },
  {
   "cell_type": "code",
   "execution_count": 30,
   "metadata": {
    "collapsed": true
   },
   "outputs": [],
   "source": [
    "exploit_unif2 = tree802_cfr.exploitability_vec\n",
    "exploit_NoW2 = treeNoWarm_cfr2.exploitability_vec\n",
    "exploit_NNW2 = treeNNWarm_cfr2.exploitability_vec\n",
    "exploit_TargW2 = treeTargWarm_cfr2.exploitability_vec"
   ]
  },
  {
   "cell_type": "code",
   "execution_count": 31,
   "metadata": {},
   "outputs": [
    {
     "data": {
      "text/html": [
       "<script type=\"text/javascript\">\n",
       "$(function() {\n",
       "    if (typeof (window._bokeh_onload_callbacks) === \"undefined\"){\n",
       "  window._bokeh_onload_callbacks = [];\n",
       "    }\n",
       "    function load_lib(url, callback){\n",
       "  window._bokeh_onload_callbacks.push(callback);\n",
       "  if (window._bokeh_is_loading){\n",
       "      console.log(\"Bokeh: BokehJS is being loaded, scheduling callback at\", new Date());\n",
       "      return null;\n",
       "  }\n",
       "  console.log(\"Bokeh: BokehJS not loaded, scheduling load and callback at\", new Date());\n",
       "  window._bokeh_is_loading = true;\n",
       "  var s = document.createElement('script');\n",
       "  s.src = url;\n",
       "  s.async = true;\n",
       "  s.onreadystatechange = s.onload = function(){\n",
       "      Bokeh.embed.inject_css(\"https://cdn.pydata.org/bokeh-0.7.0.min.css\");\n",
       "      window._bokeh_onload_callbacks.forEach(function(callback){callback()});\n",
       "  };\n",
       "  s.onerror = function(){\n",
       "      console.warn(\"failed to load library \" + url);\n",
       "  };\n",
       "  document.getElementsByTagName(\"head\")[0].appendChild(s);\n",
       "    }\n",
       "\n",
       "    bokehjs_url = \"https://cdn.pydata.org/bokeh-0.7.0.min.js\"\n",
       "\n",
       "    var elt = document.getElementById(\"de81e847-c7c5-432d-c35a-42b2c4fed59a\");\n",
       "    if(elt==null) {\n",
       "  console.log(\"Bokeh: ERROR: autoload.js configured with elementid 'de81e847-c7c5-432d-c35a-42b2c4fed59a'\"\n",
       "        + \"but no matching script tag was found. \")\n",
       "  return false;\n",
       "    }\n",
       "\n",
       "    if(typeof(Bokeh) !== \"undefined\") {\n",
       "  console.log(\"Bokeh: BokehJS loaded, going straight to plotting\");\n",
       "  var modelid = \"fb6d1801-de73-4970-c9ac-058d5068c87e\";\n",
       "  var modeltype = \"Plot\";\n",
       "  var all_models = [{\"id\":\"8a4b8edd-5f55-46dd-c61c-460394de9e17\",\"attributes\":{\"id\":\"8a4b8edd-5f55-46dd-c61c-460394de9e17\",\"data\":{\"y\":[150,17.90043258667,10.499841690063,7.7180709838867,6.0633373260498,4.9374685287476,4.3098220825195,3.6448726654053,3.5925788879395,3.1836490631104,2.9897174835205,2.7441463470459,2.6015453338623,2.3582420349121,2.3327417373657],\"x\":[1,2,3,4,5,6,7,8,9,10,11,12,13,14,15]},\"discrete_ranges\":{},\"column_names\":[\"x\",\"y\"],\"cont_ranges\":{},\"selected\":[],\"tags\":[],\"doc\":null},\"type\":\"ColumnDataSource\"},{\"id\":\"cde8fac2-35d9-4cfe-cc58-c53b8e8c5016\",\"attributes\":{\"id\":\"cde8fac2-35d9-4cfe-cc58-c53b8e8c5016\",\"fill_alpha\":{\"units\":\"data\",\"value\":0.2},\"y\":{\"units\":\"data\",\"field\":\"y\"},\"fill_color\":{\"value\":\"black\"},\"x\":{\"units\":\"data\",\"field\":\"x\"},\"line_color\":{\"value\":\"black\"},\"line_alpha\":{\"units\":\"data\",\"value\":1},\"tags\":[],\"size\":{\"units\":\"screen\",\"value\":10},\"doc\":null},\"type\":\"Line\"},{\"id\":\"8e3266ee-227e-495c-c9c1-5fae1c71ec8d\",\"attributes\":{\"id\":\"8e3266ee-227e-495c-c9c1-5fae1c71ec8d\",\"fill_alpha\":{\"units\":\"data\",\"value\":0.2},\"y\":{\"units\":\"data\",\"field\":\"y\"},\"fill_color\":{\"value\":\"black\"},\"x\":{\"units\":\"data\",\"field\":\"x\"},\"line_color\":{\"value\":\"black\"},\"line_alpha\":{\"units\":\"data\",\"value\":1},\"tags\":[],\"size\":{\"units\":\"screen\",\"value\":10},\"doc\":null},\"type\":\"Line\"},{\"id\":\"ecb8aab3-06c8-42db-c2ca-1e76c0810183\",\"attributes\":{\"id\":\"ecb8aab3-06c8-42db-c2ca-1e76c0810183\",\"glyph\":{\"id\":\"cde8fac2-35d9-4cfe-cc58-c53b8e8c5016\",\"type\":\"Line\"},\"nonselection_glyph\":{\"id\":\"8e3266ee-227e-495c-c9c1-5fae1c71ec8d\",\"type\":\"Line\"},\"selection_glyph\":null,\"server_data_source\":null,\"name\":null,\"tags\":[],\"data_source\":{\"id\":\"8a4b8edd-5f55-46dd-c61c-460394de9e17\",\"type\":\"ColumnDataSource\"},\"doc\":null},\"type\":\"GlyphRenderer\"},{\"id\":\"9b04476f-2fef-4dc7-cd7e-1214a0f109b5\",\"attributes\":{\"id\":\"9b04476f-2fef-4dc7-cd7e-1214a0f109b5\",\"data\":{\"y\":[150,17.90043258667,10.499841690063,7.7180709838867,6.0633373260498,4.9374685287476,4.3098220825195,3.6448726654053,3.5925788879395,3.1836490631104,2.9897174835205,2.7441463470459,2.6015453338623,2.3582420349121,2.3327417373657],\"x\":[1,2,3,4,5,6,7,8,9,10,11,12,13,14,15]},\"discrete_ranges\":{},\"column_names\":[\"x\",\"y\"],\"cont_ranges\":{},\"selected\":[],\"tags\":[],\"doc\":null},\"type\":\"ColumnDataSource\"},{\"id\":\"6e826614-445d-4f5f-cf2c-7b1812f44263\",\"attributes\":{\"id\":\"6e826614-445d-4f5f-cf2c-7b1812f44263\",\"fill_alpha\":{\"units\":\"data\",\"value\":0.2},\"y\":{\"units\":\"data\",\"field\":\"y\"},\"fill_color\":{\"value\":\"red\"},\"x\":{\"units\":\"data\",\"field\":\"x\"},\"line_color\":{\"value\":\"red\"},\"line_alpha\":{\"units\":\"data\",\"value\":1},\"tags\":[],\"size\":{\"units\":\"screen\",\"value\":10},\"doc\":null},\"type\":\"Line\"},{\"id\":\"319cfc32-9374-4b5d-cbc3-581876b1f638\",\"attributes\":{\"id\":\"319cfc32-9374-4b5d-cbc3-581876b1f638\",\"fill_alpha\":{\"units\":\"data\",\"value\":0.2},\"y\":{\"units\":\"data\",\"field\":\"y\"},\"fill_color\":{\"value\":\"red\"},\"x\":{\"units\":\"data\",\"field\":\"x\"},\"line_color\":{\"value\":\"red\"},\"line_alpha\":{\"units\":\"data\",\"value\":1},\"tags\":[],\"size\":{\"units\":\"screen\",\"value\":10},\"doc\":null},\"type\":\"Line\"},{\"id\":\"a52de7cf-d93f-4291-c243-8372e60d5fe9\",\"attributes\":{\"id\":\"a52de7cf-d93f-4291-c243-8372e60d5fe9\",\"glyph\":{\"id\":\"6e826614-445d-4f5f-cf2c-7b1812f44263\",\"type\":\"Line\"},\"nonselection_glyph\":{\"id\":\"319cfc32-9374-4b5d-cbc3-581876b1f638\",\"type\":\"Line\"},\"selection_glyph\":null,\"server_data_source\":null,\"name\":null,\"tags\":[],\"data_source\":{\"id\":\"9b04476f-2fef-4dc7-cd7e-1214a0f109b5\",\"type\":\"ColumnDataSource\"},\"doc\":null},\"type\":\"GlyphRenderer\"},{\"id\":\"87a108f9-105a-4ad9-caf6-74db04ded801\",\"attributes\":{\"id\":\"87a108f9-105a-4ad9-caf6-74db04ded801\",\"data\":{\"y\":[11.849899291992,39.300514221191,18.504020690918,13.584982872009,9.2702894210815,8.4121351242065,6.205114364624,6.2969169616699,5.0027284622192,4.9856576919556,4.3017015457153,3.864649772644,3.6931009292603,3.1885452270508,3.3734188079834],\"x\":[1,2,3,4,5,6,7,8,9,10,11,12,13,14,15]},\"discrete_ranges\":{},\"column_names\":[\"x\",\"y\"],\"cont_ranges\":{},\"selected\":[],\"tags\":[],\"doc\":null},\"type\":\"ColumnDataSource\"},{\"id\":\"1a5a02a0-a8be-4341-c37c-0a24c07de74b\",\"attributes\":{\"id\":\"1a5a02a0-a8be-4341-c37c-0a24c07de74b\",\"fill_alpha\":{\"units\":\"data\",\"value\":0.2},\"y\":{\"units\":\"data\",\"field\":\"y\"},\"fill_color\":{\"value\":\"blue\"},\"x\":{\"units\":\"data\",\"field\":\"x\"},\"line_color\":{\"value\":\"blue\"},\"line_alpha\":{\"units\":\"data\",\"value\":1},\"tags\":[],\"size\":{\"units\":\"screen\",\"value\":10},\"doc\":null},\"type\":\"Line\"},{\"id\":\"dff71c92-23b8-43c6-c3bb-b469d2d0d786\",\"attributes\":{\"id\":\"dff71c92-23b8-43c6-c3bb-b469d2d0d786\",\"fill_alpha\":{\"units\":\"data\",\"value\":0.2},\"y\":{\"units\":\"data\",\"field\":\"y\"},\"fill_color\":{\"value\":\"blue\"},\"x\":{\"units\":\"data\",\"field\":\"x\"},\"line_color\":{\"value\":\"blue\"},\"line_alpha\":{\"units\":\"data\",\"value\":1},\"tags\":[],\"size\":{\"units\":\"screen\",\"value\":10},\"doc\":null},\"type\":\"Line\"},{\"id\":\"669671bc-bd45-45bd-c56c-69d8091de3af\",\"attributes\":{\"id\":\"669671bc-bd45-45bd-c56c-69d8091de3af\",\"glyph\":{\"id\":\"1a5a02a0-a8be-4341-c37c-0a24c07de74b\",\"type\":\"Line\"},\"nonselection_glyph\":{\"id\":\"dff71c92-23b8-43c6-c3bb-b469d2d0d786\",\"type\":\"Line\"},\"selection_glyph\":null,\"server_data_source\":null,\"name\":null,\"tags\":[],\"data_source\":{\"id\":\"87a108f9-105a-4ad9-caf6-74db04ded801\",\"type\":\"ColumnDataSource\"},\"doc\":null},\"type\":\"GlyphRenderer\"},{\"id\":\"6949dd3f-b3a9-4b04-cb7b-532083676c7b\",\"attributes\":{\"id\":\"6949dd3f-b3a9-4b04-cb7b-532083676c7b\",\"data\":{\"y\":[2.2255220413208,32.004726409912,15.008952140808,10.360219955444,7.7540683746338,6.1530723571777,5.6360092163086,4.5069408416748,4.452657699585,3.7070331573486,3.6802701950073,3.0868349075317,3.2270412445068,2.6102848052979,2.8187322616577],\"x\":[1,2,3,4,5,6,7,8,9,10,11,12,13,14,15]},\"discrete_ranges\":{},\"column_names\":[\"x\",\"y\"],\"cont_ranges\":{},\"selected\":[],\"tags\":[],\"doc\":null},\"type\":\"ColumnDataSource\"},{\"id\":\"ca55da0c-0066-4e9b-ce6d-5c6dcc197b79\",\"attributes\":{\"id\":\"ca55da0c-0066-4e9b-ce6d-5c6dcc197b79\",\"fill_alpha\":{\"units\":\"data\",\"value\":0.2},\"y\":{\"units\":\"data\",\"field\":\"y\"},\"fill_color\":{\"value\":\"green\"},\"x\":{\"units\":\"data\",\"field\":\"x\"},\"line_color\":{\"value\":\"green\"},\"line_alpha\":{\"units\":\"data\",\"value\":1},\"tags\":[],\"size\":{\"units\":\"screen\",\"value\":10},\"doc\":null},\"type\":\"Line\"},{\"id\":\"79910314-5361-4da2-cd31-6f0f9c97dde2\",\"attributes\":{\"id\":\"79910314-5361-4da2-cd31-6f0f9c97dde2\",\"fill_alpha\":{\"units\":\"data\",\"value\":0.2},\"y\":{\"units\":\"data\",\"field\":\"y\"},\"fill_color\":{\"value\":\"green\"},\"x\":{\"units\":\"data\",\"field\":\"x\"},\"line_color\":{\"value\":\"green\"},\"line_alpha\":{\"units\":\"data\",\"value\":1},\"tags\":[],\"size\":{\"units\":\"screen\",\"value\":10},\"doc\":null},\"type\":\"Line\"},{\"id\":\"ccd00dcb-1624-4837-c84f-c69b3bf88de2\",\"attributes\":{\"id\":\"ccd00dcb-1624-4837-c84f-c69b3bf88de2\",\"glyph\":{\"id\":\"ca55da0c-0066-4e9b-ce6d-5c6dcc197b79\",\"type\":\"Line\"},\"nonselection_glyph\":{\"id\":\"79910314-5361-4da2-cd31-6f0f9c97dde2\",\"type\":\"Line\"},\"selection_glyph\":null,\"server_data_source\":null,\"name\":null,\"tags\":[],\"data_source\":{\"id\":\"6949dd3f-b3a9-4b04-cb7b-532083676c7b\",\"type\":\"ColumnDataSource\"},\"doc\":null},\"type\":\"GlyphRenderer\"},{\"id\":\"90c2a238-396a-4f1a-cf70-edc81ec6d30c\",\"attributes\":{\"id\":\"90c2a238-396a-4f1a-cf70-edc81ec6d30c\",\"tags\":[],\"sources\":[{\"source\":{\"id\":\"8a4b8edd-5f55-46dd-c61c-460394de9e17\",\"type\":\"ColumnDataSource\"},\"columns\":[\"x\"]},{\"source\":{\"id\":\"9b04476f-2fef-4dc7-cd7e-1214a0f109b5\",\"type\":\"ColumnDataSource\"},\"columns\":[\"x\"]},{\"source\":{\"id\":\"87a108f9-105a-4ad9-caf6-74db04ded801\",\"type\":\"ColumnDataSource\"},\"columns\":[\"x\"]},{\"source\":{\"id\":\"6949dd3f-b3a9-4b04-cb7b-532083676c7b\",\"type\":\"ColumnDataSource\"},\"columns\":[\"x\"]}],\"doc\":null},\"type\":\"DataRange1d\"},{\"id\":\"f5d02d8f-1f13-4a44-ca94-faa314ea24c3\",\"attributes\":{\"id\":\"f5d02d8f-1f13-4a44-ca94-faa314ea24c3\",\"tags\":[],\"sources\":[{\"source\":{\"id\":\"8a4b8edd-5f55-46dd-c61c-460394de9e17\",\"type\":\"ColumnDataSource\"},\"columns\":[\"y\"]},{\"source\":{\"id\":\"9b04476f-2fef-4dc7-cd7e-1214a0f109b5\",\"type\":\"ColumnDataSource\"},\"columns\":[\"y\"]},{\"source\":{\"id\":\"87a108f9-105a-4ad9-caf6-74db04ded801\",\"type\":\"ColumnDataSource\"},\"columns\":[\"y\"]},{\"source\":{\"id\":\"6949dd3f-b3a9-4b04-cb7b-532083676c7b\",\"type\":\"ColumnDataSource\"},\"columns\":[\"y\"]}],\"doc\":null},\"type\":\"DataRange1d\"},{\"id\":\"de8269f4-22c7-4cf4-cc8d-43e9c4691774\",\"attributes\":{\"id\":\"de8269f4-22c7-4cf4-cc8d-43e9c4691774\",\"tags\":[],\"geometries\":[],\"doc\":null},\"type\":\"ToolEvents\"},{\"id\":\"6cbba5ca-aa9f-4b8c-cbaf-3cbf02985ed3\",\"attributes\":{\"id\":\"6cbba5ca-aa9f-4b8c-cbaf-3cbf02985ed3\",\"tags\":[],\"doc\":null},\"type\":\"BasicTickFormatter\"},{\"id\":\"2f35aae6-9d4e-4853-c877-212435d1da46\",\"attributes\":{\"id\":\"2f35aae6-9d4e-4853-c877-212435d1da46\",\"tags\":[],\"num_minor_ticks\":5,\"doc\":null},\"type\":\"BasicTicker\"},{\"id\":\"c9dfafc9-be3b-4791-c7eb-fbfae9d0b2dd\",\"attributes\":{\"id\":\"c9dfafc9-be3b-4791-c7eb-fbfae9d0b2dd\",\"axis_label\":\"Scaled number of iterations\",\"formatter\":{\"id\":\"6cbba5ca-aa9f-4b8c-cbaf-3cbf02985ed3\",\"type\":\"BasicTickFormatter\"},\"ticker\":{\"id\":\"2f35aae6-9d4e-4853-c877-212435d1da46\",\"type\":\"BasicTicker\"},\"plot\":{\"subtype\":\"Figure\",\"id\":\"fb6d1801-de73-4970-c9ac-058d5068c87e\",\"type\":\"Plot\"},\"tags\":[],\"doc\":null},\"type\":\"LinearAxis\"},{\"id\":\"6be908a1-7ed4-4490-c4c7-008649a1cf10\",\"attributes\":{\"id\":\"6be908a1-7ed4-4490-c4c7-008649a1cf10\",\"dimension\":0,\"ticker\":{\"id\":\"2f35aae6-9d4e-4853-c877-212435d1da46\",\"type\":\"BasicTicker\"},\"plot\":{\"subtype\":\"Figure\",\"id\":\"fb6d1801-de73-4970-c9ac-058d5068c87e\",\"type\":\"Plot\"},\"tags\":[],\"doc\":null},\"type\":\"Grid\"},{\"id\":\"ce698aaa-805b-4282-c2a0-ecf37a6e870c\",\"attributes\":{\"id\":\"ce698aaa-805b-4282-c2a0-ecf37a6e870c\",\"tags\":[],\"doc\":null},\"type\":\"BasicTickFormatter\"},{\"id\":\"20b64522-c2c9-4873-c836-577492cdeb29\",\"attributes\":{\"id\":\"20b64522-c2c9-4873-c836-577492cdeb29\",\"tags\":[],\"num_minor_ticks\":5,\"doc\":null},\"type\":\"BasicTicker\"},{\"id\":\"92fe1663-a657-4035-c0d0-a36f0c483a5d\",\"attributes\":{\"id\":\"92fe1663-a657-4035-c0d0-a36f0c483a5d\",\"axis_label\":\"Exploitability\",\"formatter\":{\"id\":\"ce698aaa-805b-4282-c2a0-ecf37a6e870c\",\"type\":\"BasicTickFormatter\"},\"ticker\":{\"id\":\"20b64522-c2c9-4873-c836-577492cdeb29\",\"type\":\"BasicTicker\"},\"plot\":{\"subtype\":\"Figure\",\"id\":\"fb6d1801-de73-4970-c9ac-058d5068c87e\",\"type\":\"Plot\"},\"tags\":[],\"doc\":null},\"type\":\"LinearAxis\"},{\"id\":\"4d832f56-3fd6-4b89-cb62-fc152a1c2e44\",\"attributes\":{\"id\":\"4d832f56-3fd6-4b89-cb62-fc152a1c2e44\",\"dimension\":1,\"ticker\":{\"id\":\"20b64522-c2c9-4873-c836-577492cdeb29\",\"type\":\"BasicTicker\"},\"plot\":{\"subtype\":\"Figure\",\"id\":\"fb6d1801-de73-4970-c9ac-058d5068c87e\",\"type\":\"Plot\"},\"tags\":[],\"doc\":null},\"type\":\"Grid\"},{\"id\":\"e38ec0e6-48e6-493d-c9cf-cfd41e6eedbd\",\"attributes\":{\"id\":\"e38ec0e6-48e6-493d-c9cf-cfd41e6eedbd\",\"dimensions\":[\"width\",\"height\"],\"plot\":{\"subtype\":\"Figure\",\"id\":\"fb6d1801-de73-4970-c9ac-058d5068c87e\",\"type\":\"Plot\"},\"tags\":[],\"doc\":null},\"type\":\"PanTool\"},{\"id\":\"c3385696-94de-41ae-c172-fe2eb191cd70\",\"attributes\":{\"id\":\"c3385696-94de-41ae-c172-fe2eb191cd70\",\"dimensions\":[\"width\",\"height\"],\"plot\":{\"subtype\":\"Figure\",\"id\":\"fb6d1801-de73-4970-c9ac-058d5068c87e\",\"type\":\"Plot\"},\"tags\":[],\"doc\":null},\"type\":\"WheelZoomTool\"},{\"id\":\"4577716c-cb55-47ea-c722-c72553f38a62\",\"attributes\":{\"id\":\"4577716c-cb55-47ea-c722-c72553f38a62\",\"tags\":[],\"plot\":{\"subtype\":\"Figure\",\"id\":\"fb6d1801-de73-4970-c9ac-058d5068c87e\",\"type\":\"Plot\"},\"doc\":null},\"type\":\"BoxZoomTool\"},{\"id\":\"22ec61ba-288d-4cdd-cc31-2bdd6239ceeb\",\"attributes\":{\"id\":\"22ec61ba-288d-4cdd-cc31-2bdd6239ceeb\",\"tags\":[],\"plot\":{\"subtype\":\"Figure\",\"id\":\"fb6d1801-de73-4970-c9ac-058d5068c87e\",\"type\":\"Plot\"},\"doc\":null},\"type\":\"PreviewSaveTool\"},{\"id\":\"158c4247-e7cb-464a-c638-62eec5083a88\",\"attributes\":{\"id\":\"158c4247-e7cb-464a-c638-62eec5083a88\",\"tags\":[],\"plot\":{\"subtype\":\"Figure\",\"id\":\"fb6d1801-de73-4970-c9ac-058d5068c87e\",\"type\":\"Plot\"},\"doc\":null},\"type\":\"ResizeTool\"},{\"id\":\"5699ae76-798e-45c5-c572-e991434bc40f\",\"attributes\":{\"id\":\"5699ae76-798e-45c5-c572-e991434bc40f\",\"tags\":[],\"plot\":{\"subtype\":\"Figure\",\"id\":\"fb6d1801-de73-4970-c9ac-058d5068c87e\",\"type\":\"Plot\"},\"doc\":null},\"type\":\"ResetTool\"},{\"id\":\"cb882bd6-ca8d-4b44-cbe2-4dd47399e3e1\",\"attributes\":{\"id\":\"cb882bd6-ca8d-4b44-cbe2-4dd47399e3e1\",\"legends\":[[\"Original CFR in the paper\",[{\"id\":\"ecb8aab3-06c8-42db-c2ca-1e76c0810183\",\"type\":\"GlyphRenderer\"}]],[\"No Warm start CFR\",[{\"id\":\"a52de7cf-d93f-4291-c243-8372e60d5fe9\",\"type\":\"GlyphRenderer\"}]],[\"Neural Net warm start CFR\",[{\"id\":\"669671bc-bd45-45bd-c56c-69d8091de3af\",\"type\":\"GlyphRenderer\"}]],[\"Warm start with target values\",[{\"id\":\"ccd00dcb-1624-4837-c84f-c69b3bf88de2\",\"type\":\"GlyphRenderer\"}]]],\"plot\":{\"subtype\":\"Figure\",\"id\":\"fb6d1801-de73-4970-c9ac-058d5068c87e\",\"type\":\"Plot\"},\"tags\":[],\"doc\":null},\"type\":\"Legend\"},{\"id\":\"fb6d1801-de73-4970-c9ac-058d5068c87e\",\"attributes\":{\"id\":\"fb6d1801-de73-4970-c9ac-058d5068c87e\",\"renderers\":[{\"id\":\"ecb8aab3-06c8-42db-c2ca-1e76c0810183\",\"type\":\"GlyphRenderer\"},{\"id\":\"a52de7cf-d93f-4291-c243-8372e60d5fe9\",\"type\":\"GlyphRenderer\"},{\"id\":\"669671bc-bd45-45bd-c56c-69d8091de3af\",\"type\":\"GlyphRenderer\"},{\"id\":\"ccd00dcb-1624-4837-c84f-c69b3bf88de2\",\"type\":\"GlyphRenderer\"},{\"id\":\"c9dfafc9-be3b-4791-c7eb-fbfae9d0b2dd\",\"type\":\"LinearAxis\"},{\"id\":\"6be908a1-7ed4-4490-c4c7-008649a1cf10\",\"type\":\"Grid\"},{\"id\":\"92fe1663-a657-4035-c0d0-a36f0c483a5d\",\"type\":\"LinearAxis\"},{\"id\":\"4d832f56-3fd6-4b89-cb62-fc152a1c2e44\",\"type\":\"Grid\"},{\"id\":\"cb882bd6-ca8d-4b44-cbe2-4dd47399e3e1\",\"type\":\"Legend\"}],\"above\":[],\"tool_events\":{\"id\":\"de8269f4-22c7-4cf4-cc8d-43e9c4691774\",\"type\":\"ToolEvents\"},\"tools\":[{\"id\":\"e38ec0e6-48e6-493d-c9cf-cfd41e6eedbd\",\"type\":\"PanTool\"},{\"id\":\"c3385696-94de-41ae-c172-fe2eb191cd70\",\"type\":\"WheelZoomTool\"},{\"id\":\"4577716c-cb55-47ea-c722-c72553f38a62\",\"type\":\"BoxZoomTool\"},{\"id\":\"22ec61ba-288d-4cdd-cc31-2bdd6239ceeb\",\"type\":\"PreviewSaveTool\"},{\"id\":\"158c4247-e7cb-464a-c638-62eec5083a88\",\"type\":\"ResizeTool\"},{\"id\":\"5699ae76-798e-45c5-c572-e991434bc40f\",\"type\":\"ResetTool\"}],\"left\":[{\"id\":\"92fe1663-a657-4035-c0d0-a36f0c483a5d\",\"type\":\"LinearAxis\"}],\"title\":\"Exploitability of different strategoes\",\"extra_y_ranges\":{},\"below\":[{\"id\":\"c9dfafc9-be3b-4791-c7eb-fbfae9d0b2dd\",\"type\":\"LinearAxis\"}],\"right\":[],\"y_range\":{\"id\":\"f5d02d8f-1f13-4a44-ca94-faa314ea24c3\",\"type\":\"DataRange1d\"},\"extra_x_ranges\":{},\"tags\":[],\"x_range\":{\"id\":\"90c2a238-396a-4f1a-cf70-edc81ec6d30c\",\"type\":\"DataRange1d\"},\"doc\":null},\"type\":\"Plot\"}];\n",
       "  Bokeh.load_models(all_models);\n",
       "  var model = Bokeh.Collections(modeltype).get(modelid);\n",
       "  $(\"#de81e847-c7c5-432d-c35a-42b2c4fed59a\").html(''); // clear any previous plot in window_id\n",
       "  var view = new model.default_view({model: model, el: \"#de81e847-c7c5-432d-c35a-42b2c4fed59a\"});\n",
       "    } else {\n",
       "  load_lib(bokehjs_url, function() {\n",
       "      console.log(\"Bokeh: BokehJS plotting callback run at\", new Date())\n",
       "      var modelid = \"fb6d1801-de73-4970-c9ac-058d5068c87e\";\n",
       "      var modeltype = \"Plot\";\n",
       "      var all_models = [{\"id\":\"8a4b8edd-5f55-46dd-c61c-460394de9e17\",\"attributes\":{\"id\":\"8a4b8edd-5f55-46dd-c61c-460394de9e17\",\"data\":{\"y\":[150,17.90043258667,10.499841690063,7.7180709838867,6.0633373260498,4.9374685287476,4.3098220825195,3.6448726654053,3.5925788879395,3.1836490631104,2.9897174835205,2.7441463470459,2.6015453338623,2.3582420349121,2.3327417373657],\"x\":[1,2,3,4,5,6,7,8,9,10,11,12,13,14,15]},\"discrete_ranges\":{},\"column_names\":[\"x\",\"y\"],\"cont_ranges\":{},\"selected\":[],\"tags\":[],\"doc\":null},\"type\":\"ColumnDataSource\"},{\"id\":\"cde8fac2-35d9-4cfe-cc58-c53b8e8c5016\",\"attributes\":{\"id\":\"cde8fac2-35d9-4cfe-cc58-c53b8e8c5016\",\"fill_alpha\":{\"units\":\"data\",\"value\":0.2},\"y\":{\"units\":\"data\",\"field\":\"y\"},\"fill_color\":{\"value\":\"black\"},\"x\":{\"units\":\"data\",\"field\":\"x\"},\"line_color\":{\"value\":\"black\"},\"line_alpha\":{\"units\":\"data\",\"value\":1},\"tags\":[],\"size\":{\"units\":\"screen\",\"value\":10},\"doc\":null},\"type\":\"Line\"},{\"id\":\"8e3266ee-227e-495c-c9c1-5fae1c71ec8d\",\"attributes\":{\"id\":\"8e3266ee-227e-495c-c9c1-5fae1c71ec8d\",\"fill_alpha\":{\"units\":\"data\",\"value\":0.2},\"y\":{\"units\":\"data\",\"field\":\"y\"},\"fill_color\":{\"value\":\"black\"},\"x\":{\"units\":\"data\",\"field\":\"x\"},\"line_color\":{\"value\":\"black\"},\"line_alpha\":{\"units\":\"data\",\"value\":1},\"tags\":[],\"size\":{\"units\":\"screen\",\"value\":10},\"doc\":null},\"type\":\"Line\"},{\"id\":\"ecb8aab3-06c8-42db-c2ca-1e76c0810183\",\"attributes\":{\"id\":\"ecb8aab3-06c8-42db-c2ca-1e76c0810183\",\"glyph\":{\"id\":\"cde8fac2-35d9-4cfe-cc58-c53b8e8c5016\",\"type\":\"Line\"},\"nonselection_glyph\":{\"id\":\"8e3266ee-227e-495c-c9c1-5fae1c71ec8d\",\"type\":\"Line\"},\"selection_glyph\":null,\"server_data_source\":null,\"name\":null,\"tags\":[],\"data_source\":{\"id\":\"8a4b8edd-5f55-46dd-c61c-460394de9e17\",\"type\":\"ColumnDataSource\"},\"doc\":null},\"type\":\"GlyphRenderer\"},{\"id\":\"9b04476f-2fef-4dc7-cd7e-1214a0f109b5\",\"attributes\":{\"id\":\"9b04476f-2fef-4dc7-cd7e-1214a0f109b5\",\"data\":{\"y\":[150,17.90043258667,10.499841690063,7.7180709838867,6.0633373260498,4.9374685287476,4.3098220825195,3.6448726654053,3.5925788879395,3.1836490631104,2.9897174835205,2.7441463470459,2.6015453338623,2.3582420349121,2.3327417373657],\"x\":[1,2,3,4,5,6,7,8,9,10,11,12,13,14,15]},\"discrete_ranges\":{},\"column_names\":[\"x\",\"y\"],\"cont_ranges\":{},\"selected\":[],\"tags\":[],\"doc\":null},\"type\":\"ColumnDataSource\"},{\"id\":\"6e826614-445d-4f5f-cf2c-7b1812f44263\",\"attributes\":{\"id\":\"6e826614-445d-4f5f-cf2c-7b1812f44263\",\"fill_alpha\":{\"units\":\"data\",\"value\":0.2},\"y\":{\"units\":\"data\",\"field\":\"y\"},\"fill_color\":{\"value\":\"red\"},\"x\":{\"units\":\"data\",\"field\":\"x\"},\"line_color\":{\"value\":\"red\"},\"line_alpha\":{\"units\":\"data\",\"value\":1},\"tags\":[],\"size\":{\"units\":\"screen\",\"value\":10},\"doc\":null},\"type\":\"Line\"},{\"id\":\"319cfc32-9374-4b5d-cbc3-581876b1f638\",\"attributes\":{\"id\":\"319cfc32-9374-4b5d-cbc3-581876b1f638\",\"fill_alpha\":{\"units\":\"data\",\"value\":0.2},\"y\":{\"units\":\"data\",\"field\":\"y\"},\"fill_color\":{\"value\":\"red\"},\"x\":{\"units\":\"data\",\"field\":\"x\"},\"line_color\":{\"value\":\"red\"},\"line_alpha\":{\"units\":\"data\",\"value\":1},\"tags\":[],\"size\":{\"units\":\"screen\",\"value\":10},\"doc\":null},\"type\":\"Line\"},{\"id\":\"a52de7cf-d93f-4291-c243-8372e60d5fe9\",\"attributes\":{\"id\":\"a52de7cf-d93f-4291-c243-8372e60d5fe9\",\"glyph\":{\"id\":\"6e826614-445d-4f5f-cf2c-7b1812f44263\",\"type\":\"Line\"},\"nonselection_glyph\":{\"id\":\"319cfc32-9374-4b5d-cbc3-581876b1f638\",\"type\":\"Line\"},\"selection_glyph\":null,\"server_data_source\":null,\"name\":null,\"tags\":[],\"data_source\":{\"id\":\"9b04476f-2fef-4dc7-cd7e-1214a0f109b5\",\"type\":\"ColumnDataSource\"},\"doc\":null},\"type\":\"GlyphRenderer\"},{\"id\":\"87a108f9-105a-4ad9-caf6-74db04ded801\",\"attributes\":{\"id\":\"87a108f9-105a-4ad9-caf6-74db04ded801\",\"data\":{\"y\":[11.849899291992,39.300514221191,18.504020690918,13.584982872009,9.2702894210815,8.4121351242065,6.205114364624,6.2969169616699,5.0027284622192,4.9856576919556,4.3017015457153,3.864649772644,3.6931009292603,3.1885452270508,3.3734188079834],\"x\":[1,2,3,4,5,6,7,8,9,10,11,12,13,14,15]},\"discrete_ranges\":{},\"column_names\":[\"x\",\"y\"],\"cont_ranges\":{},\"selected\":[],\"tags\":[],\"doc\":null},\"type\":\"ColumnDataSource\"},{\"id\":\"1a5a02a0-a8be-4341-c37c-0a24c07de74b\",\"attributes\":{\"id\":\"1a5a02a0-a8be-4341-c37c-0a24c07de74b\",\"fill_alpha\":{\"units\":\"data\",\"value\":0.2},\"y\":{\"units\":\"data\",\"field\":\"y\"},\"fill_color\":{\"value\":\"blue\"},\"x\":{\"units\":\"data\",\"field\":\"x\"},\"line_color\":{\"value\":\"blue\"},\"line_alpha\":{\"units\":\"data\",\"value\":1},\"tags\":[],\"size\":{\"units\":\"screen\",\"value\":10},\"doc\":null},\"type\":\"Line\"},{\"id\":\"dff71c92-23b8-43c6-c3bb-b469d2d0d786\",\"attributes\":{\"id\":\"dff71c92-23b8-43c6-c3bb-b469d2d0d786\",\"fill_alpha\":{\"units\":\"data\",\"value\":0.2},\"y\":{\"units\":\"data\",\"field\":\"y\"},\"fill_color\":{\"value\":\"blue\"},\"x\":{\"units\":\"data\",\"field\":\"x\"},\"line_color\":{\"value\":\"blue\"},\"line_alpha\":{\"units\":\"data\",\"value\":1},\"tags\":[],\"size\":{\"units\":\"screen\",\"value\":10},\"doc\":null},\"type\":\"Line\"},{\"id\":\"669671bc-bd45-45bd-c56c-69d8091de3af\",\"attributes\":{\"id\":\"669671bc-bd45-45bd-c56c-69d8091de3af\",\"glyph\":{\"id\":\"1a5a02a0-a8be-4341-c37c-0a24c07de74b\",\"type\":\"Line\"},\"nonselection_glyph\":{\"id\":\"dff71c92-23b8-43c6-c3bb-b469d2d0d786\",\"type\":\"Line\"},\"selection_glyph\":null,\"server_data_source\":null,\"name\":null,\"tags\":[],\"data_source\":{\"id\":\"87a108f9-105a-4ad9-caf6-74db04ded801\",\"type\":\"ColumnDataSource\"},\"doc\":null},\"type\":\"GlyphRenderer\"},{\"id\":\"6949dd3f-b3a9-4b04-cb7b-532083676c7b\",\"attributes\":{\"id\":\"6949dd3f-b3a9-4b04-cb7b-532083676c7b\",\"data\":{\"y\":[2.2255220413208,32.004726409912,15.008952140808,10.360219955444,7.7540683746338,6.1530723571777,5.6360092163086,4.5069408416748,4.452657699585,3.7070331573486,3.6802701950073,3.0868349075317,3.2270412445068,2.6102848052979,2.8187322616577],\"x\":[1,2,3,4,5,6,7,8,9,10,11,12,13,14,15]},\"discrete_ranges\":{},\"column_names\":[\"x\",\"y\"],\"cont_ranges\":{},\"selected\":[],\"tags\":[],\"doc\":null},\"type\":\"ColumnDataSource\"},{\"id\":\"ca55da0c-0066-4e9b-ce6d-5c6dcc197b79\",\"attributes\":{\"id\":\"ca55da0c-0066-4e9b-ce6d-5c6dcc197b79\",\"fill_alpha\":{\"units\":\"data\",\"value\":0.2},\"y\":{\"units\":\"data\",\"field\":\"y\"},\"fill_color\":{\"value\":\"green\"},\"x\":{\"units\":\"data\",\"field\":\"x\"},\"line_color\":{\"value\":\"green\"},\"line_alpha\":{\"units\":\"data\",\"value\":1},\"tags\":[],\"size\":{\"units\":\"screen\",\"value\":10},\"doc\":null},\"type\":\"Line\"},{\"id\":\"79910314-5361-4da2-cd31-6f0f9c97dde2\",\"attributes\":{\"id\":\"79910314-5361-4da2-cd31-6f0f9c97dde2\",\"fill_alpha\":{\"units\":\"data\",\"value\":0.2},\"y\":{\"units\":\"data\",\"field\":\"y\"},\"fill_color\":{\"value\":\"green\"},\"x\":{\"units\":\"data\",\"field\":\"x\"},\"line_color\":{\"value\":\"green\"},\"line_alpha\":{\"units\":\"data\",\"value\":1},\"tags\":[],\"size\":{\"units\":\"screen\",\"value\":10},\"doc\":null},\"type\":\"Line\"},{\"id\":\"ccd00dcb-1624-4837-c84f-c69b3bf88de2\",\"attributes\":{\"id\":\"ccd00dcb-1624-4837-c84f-c69b3bf88de2\",\"glyph\":{\"id\":\"ca55da0c-0066-4e9b-ce6d-5c6dcc197b79\",\"type\":\"Line\"},\"nonselection_glyph\":{\"id\":\"79910314-5361-4da2-cd31-6f0f9c97dde2\",\"type\":\"Line\"},\"selection_glyph\":null,\"server_data_source\":null,\"name\":null,\"tags\":[],\"data_source\":{\"id\":\"6949dd3f-b3a9-4b04-cb7b-532083676c7b\",\"type\":\"ColumnDataSource\"},\"doc\":null},\"type\":\"GlyphRenderer\"},{\"id\":\"90c2a238-396a-4f1a-cf70-edc81ec6d30c\",\"attributes\":{\"id\":\"90c2a238-396a-4f1a-cf70-edc81ec6d30c\",\"tags\":[],\"sources\":[{\"source\":{\"id\":\"8a4b8edd-5f55-46dd-c61c-460394de9e17\",\"type\":\"ColumnDataSource\"},\"columns\":[\"x\"]},{\"source\":{\"id\":\"9b04476f-2fef-4dc7-cd7e-1214a0f109b5\",\"type\":\"ColumnDataSource\"},\"columns\":[\"x\"]},{\"source\":{\"id\":\"87a108f9-105a-4ad9-caf6-74db04ded801\",\"type\":\"ColumnDataSource\"},\"columns\":[\"x\"]},{\"source\":{\"id\":\"6949dd3f-b3a9-4b04-cb7b-532083676c7b\",\"type\":\"ColumnDataSource\"},\"columns\":[\"x\"]}],\"doc\":null},\"type\":\"DataRange1d\"},{\"id\":\"f5d02d8f-1f13-4a44-ca94-faa314ea24c3\",\"attributes\":{\"id\":\"f5d02d8f-1f13-4a44-ca94-faa314ea24c3\",\"tags\":[],\"sources\":[{\"source\":{\"id\":\"8a4b8edd-5f55-46dd-c61c-460394de9e17\",\"type\":\"ColumnDataSource\"},\"columns\":[\"y\"]},{\"source\":{\"id\":\"9b04476f-2fef-4dc7-cd7e-1214a0f109b5\",\"type\":\"ColumnDataSource\"},\"columns\":[\"y\"]},{\"source\":{\"id\":\"87a108f9-105a-4ad9-caf6-74db04ded801\",\"type\":\"ColumnDataSource\"},\"columns\":[\"y\"]},{\"source\":{\"id\":\"6949dd3f-b3a9-4b04-cb7b-532083676c7b\",\"type\":\"ColumnDataSource\"},\"columns\":[\"y\"]}],\"doc\":null},\"type\":\"DataRange1d\"},{\"id\":\"de8269f4-22c7-4cf4-cc8d-43e9c4691774\",\"attributes\":{\"id\":\"de8269f4-22c7-4cf4-cc8d-43e9c4691774\",\"tags\":[],\"geometries\":[],\"doc\":null},\"type\":\"ToolEvents\"},{\"id\":\"6cbba5ca-aa9f-4b8c-cbaf-3cbf02985ed3\",\"attributes\":{\"id\":\"6cbba5ca-aa9f-4b8c-cbaf-3cbf02985ed3\",\"tags\":[],\"doc\":null},\"type\":\"BasicTickFormatter\"},{\"id\":\"2f35aae6-9d4e-4853-c877-212435d1da46\",\"attributes\":{\"id\":\"2f35aae6-9d4e-4853-c877-212435d1da46\",\"tags\":[],\"num_minor_ticks\":5,\"doc\":null},\"type\":\"BasicTicker\"},{\"id\":\"c9dfafc9-be3b-4791-c7eb-fbfae9d0b2dd\",\"attributes\":{\"id\":\"c9dfafc9-be3b-4791-c7eb-fbfae9d0b2dd\",\"axis_label\":\"Scaled number of iterations\",\"formatter\":{\"id\":\"6cbba5ca-aa9f-4b8c-cbaf-3cbf02985ed3\",\"type\":\"BasicTickFormatter\"},\"ticker\":{\"id\":\"2f35aae6-9d4e-4853-c877-212435d1da46\",\"type\":\"BasicTicker\"},\"plot\":{\"subtype\":\"Figure\",\"id\":\"fb6d1801-de73-4970-c9ac-058d5068c87e\",\"type\":\"Plot\"},\"tags\":[],\"doc\":null},\"type\":\"LinearAxis\"},{\"id\":\"6be908a1-7ed4-4490-c4c7-008649a1cf10\",\"attributes\":{\"id\":\"6be908a1-7ed4-4490-c4c7-008649a1cf10\",\"dimension\":0,\"ticker\":{\"id\":\"2f35aae6-9d4e-4853-c877-212435d1da46\",\"type\":\"BasicTicker\"},\"plot\":{\"subtype\":\"Figure\",\"id\":\"fb6d1801-de73-4970-c9ac-058d5068c87e\",\"type\":\"Plot\"},\"tags\":[],\"doc\":null},\"type\":\"Grid\"},{\"id\":\"ce698aaa-805b-4282-c2a0-ecf37a6e870c\",\"attributes\":{\"id\":\"ce698aaa-805b-4282-c2a0-ecf37a6e870c\",\"tags\":[],\"doc\":null},\"type\":\"BasicTickFormatter\"},{\"id\":\"20b64522-c2c9-4873-c836-577492cdeb29\",\"attributes\":{\"id\":\"20b64522-c2c9-4873-c836-577492cdeb29\",\"tags\":[],\"num_minor_ticks\":5,\"doc\":null},\"type\":\"BasicTicker\"},{\"id\":\"92fe1663-a657-4035-c0d0-a36f0c483a5d\",\"attributes\":{\"id\":\"92fe1663-a657-4035-c0d0-a36f0c483a5d\",\"axis_label\":\"Exploitability\",\"formatter\":{\"id\":\"ce698aaa-805b-4282-c2a0-ecf37a6e870c\",\"type\":\"BasicTickFormatter\"},\"ticker\":{\"id\":\"20b64522-c2c9-4873-c836-577492cdeb29\",\"type\":\"BasicTicker\"},\"plot\":{\"subtype\":\"Figure\",\"id\":\"fb6d1801-de73-4970-c9ac-058d5068c87e\",\"type\":\"Plot\"},\"tags\":[],\"doc\":null},\"type\":\"LinearAxis\"},{\"id\":\"4d832f56-3fd6-4b89-cb62-fc152a1c2e44\",\"attributes\":{\"id\":\"4d832f56-3fd6-4b89-cb62-fc152a1c2e44\",\"dimension\":1,\"ticker\":{\"id\":\"20b64522-c2c9-4873-c836-577492cdeb29\",\"type\":\"BasicTicker\"},\"plot\":{\"subtype\":\"Figure\",\"id\":\"fb6d1801-de73-4970-c9ac-058d5068c87e\",\"type\":\"Plot\"},\"tags\":[],\"doc\":null},\"type\":\"Grid\"},{\"id\":\"e38ec0e6-48e6-493d-c9cf-cfd41e6eedbd\",\"attributes\":{\"id\":\"e38ec0e6-48e6-493d-c9cf-cfd41e6eedbd\",\"dimensions\":[\"width\",\"height\"],\"plot\":{\"subtype\":\"Figure\",\"id\":\"fb6d1801-de73-4970-c9ac-058d5068c87e\",\"type\":\"Plot\"},\"tags\":[],\"doc\":null},\"type\":\"PanTool\"},{\"id\":\"c3385696-94de-41ae-c172-fe2eb191cd70\",\"attributes\":{\"id\":\"c3385696-94de-41ae-c172-fe2eb191cd70\",\"dimensions\":[\"width\",\"height\"],\"plot\":{\"subtype\":\"Figure\",\"id\":\"fb6d1801-de73-4970-c9ac-058d5068c87e\",\"type\":\"Plot\"},\"tags\":[],\"doc\":null},\"type\":\"WheelZoomTool\"},{\"id\":\"4577716c-cb55-47ea-c722-c72553f38a62\",\"attributes\":{\"id\":\"4577716c-cb55-47ea-c722-c72553f38a62\",\"tags\":[],\"plot\":{\"subtype\":\"Figure\",\"id\":\"fb6d1801-de73-4970-c9ac-058d5068c87e\",\"type\":\"Plot\"},\"doc\":null},\"type\":\"BoxZoomTool\"},{\"id\":\"22ec61ba-288d-4cdd-cc31-2bdd6239ceeb\",\"attributes\":{\"id\":\"22ec61ba-288d-4cdd-cc31-2bdd6239ceeb\",\"tags\":[],\"plot\":{\"subtype\":\"Figure\",\"id\":\"fb6d1801-de73-4970-c9ac-058d5068c87e\",\"type\":\"Plot\"},\"doc\":null},\"type\":\"PreviewSaveTool\"},{\"id\":\"158c4247-e7cb-464a-c638-62eec5083a88\",\"attributes\":{\"id\":\"158c4247-e7cb-464a-c638-62eec5083a88\",\"tags\":[],\"plot\":{\"subtype\":\"Figure\",\"id\":\"fb6d1801-de73-4970-c9ac-058d5068c87e\",\"type\":\"Plot\"},\"doc\":null},\"type\":\"ResizeTool\"},{\"id\":\"5699ae76-798e-45c5-c572-e991434bc40f\",\"attributes\":{\"id\":\"5699ae76-798e-45c5-c572-e991434bc40f\",\"tags\":[],\"plot\":{\"subtype\":\"Figure\",\"id\":\"fb6d1801-de73-4970-c9ac-058d5068c87e\",\"type\":\"Plot\"},\"doc\":null},\"type\":\"ResetTool\"},{\"id\":\"cb882bd6-ca8d-4b44-cbe2-4dd47399e3e1\",\"attributes\":{\"id\":\"cb882bd6-ca8d-4b44-cbe2-4dd47399e3e1\",\"legends\":[[\"Original CFR in the paper\",[{\"id\":\"ecb8aab3-06c8-42db-c2ca-1e76c0810183\",\"type\":\"GlyphRenderer\"}]],[\"No Warm start CFR\",[{\"id\":\"a52de7cf-d93f-4291-c243-8372e60d5fe9\",\"type\":\"GlyphRenderer\"}]],[\"Neural Net warm start CFR\",[{\"id\":\"669671bc-bd45-45bd-c56c-69d8091de3af\",\"type\":\"GlyphRenderer\"}]],[\"Warm start with target values\",[{\"id\":\"ccd00dcb-1624-4837-c84f-c69b3bf88de2\",\"type\":\"GlyphRenderer\"}]]],\"plot\":{\"subtype\":\"Figure\",\"id\":\"fb6d1801-de73-4970-c9ac-058d5068c87e\",\"type\":\"Plot\"},\"tags\":[],\"doc\":null},\"type\":\"Legend\"},{\"id\":\"fb6d1801-de73-4970-c9ac-058d5068c87e\",\"attributes\":{\"id\":\"fb6d1801-de73-4970-c9ac-058d5068c87e\",\"renderers\":[{\"id\":\"ecb8aab3-06c8-42db-c2ca-1e76c0810183\",\"type\":\"GlyphRenderer\"},{\"id\":\"a52de7cf-d93f-4291-c243-8372e60d5fe9\",\"type\":\"GlyphRenderer\"},{\"id\":\"669671bc-bd45-45bd-c56c-69d8091de3af\",\"type\":\"GlyphRenderer\"},{\"id\":\"ccd00dcb-1624-4837-c84f-c69b3bf88de2\",\"type\":\"GlyphRenderer\"},{\"id\":\"c9dfafc9-be3b-4791-c7eb-fbfae9d0b2dd\",\"type\":\"LinearAxis\"},{\"id\":\"6be908a1-7ed4-4490-c4c7-008649a1cf10\",\"type\":\"Grid\"},{\"id\":\"92fe1663-a657-4035-c0d0-a36f0c483a5d\",\"type\":\"LinearAxis\"},{\"id\":\"4d832f56-3fd6-4b89-cb62-fc152a1c2e44\",\"type\":\"Grid\"},{\"id\":\"cb882bd6-ca8d-4b44-cbe2-4dd47399e3e1\",\"type\":\"Legend\"}],\"above\":[],\"tool_events\":{\"id\":\"de8269f4-22c7-4cf4-cc8d-43e9c4691774\",\"type\":\"ToolEvents\"},\"tools\":[{\"id\":\"e38ec0e6-48e6-493d-c9cf-cfd41e6eedbd\",\"type\":\"PanTool\"},{\"id\":\"c3385696-94de-41ae-c172-fe2eb191cd70\",\"type\":\"WheelZoomTool\"},{\"id\":\"4577716c-cb55-47ea-c722-c72553f38a62\",\"type\":\"BoxZoomTool\"},{\"id\":\"22ec61ba-288d-4cdd-cc31-2bdd6239ceeb\",\"type\":\"PreviewSaveTool\"},{\"id\":\"158c4247-e7cb-464a-c638-62eec5083a88\",\"type\":\"ResizeTool\"},{\"id\":\"5699ae76-798e-45c5-c572-e991434bc40f\",\"type\":\"ResetTool\"}],\"left\":[{\"id\":\"92fe1663-a657-4035-c0d0-a36f0c483a5d\",\"type\":\"LinearAxis\"}],\"title\":\"Exploitability of different strategoes\",\"extra_y_ranges\":{},\"below\":[{\"id\":\"c9dfafc9-be3b-4791-c7eb-fbfae9d0b2dd\",\"type\":\"LinearAxis\"}],\"right\":[],\"y_range\":{\"id\":\"f5d02d8f-1f13-4a44-ca94-faa314ea24c3\",\"type\":\"DataRange1d\"},\"extra_x_ranges\":{},\"tags\":[],\"x_range\":{\"id\":\"90c2a238-396a-4f1a-cf70-edc81ec6d30c\",\"type\":\"DataRange1d\"},\"doc\":null},\"type\":\"Plot\"}];\n",
       "      Bokeh.load_models(all_models);\n",
       "      var model = Bokeh.Collections(modeltype).get(modelid);\n",
       "      $(\"#de81e847-c7c5-432d-c35a-42b2c4fed59a\").html(''); // clear any previous plot in window_id\n",
       "      var view = new model.default_view({model: model, el: \"#de81e847-c7c5-432d-c35a-42b2c4fed59a\"});\n",
       "  });\n",
       "    }\n",
       "});\n",
       "</script>\n",
       "<div class=\"plotdiv\" id=\"de81e847-c7c5-432d-c35a-42b2c4fed59a\"></div>\n"
      ]
     },
     "metadata": {},
     "output_type": "display_data"
    }
   ],
   "source": [
    "local num_iter = torch.range(1,exploit_NoW:size(1))\n",
    "local plot = Plot()\n",
    "\n",
    "plot:line(num_iter,exploit_unif2,'black' ,'Original CFR in the paper')\n",
    "plot:line(num_iter,exploit_NoW2,'red' ,'No Warm start CFR')\n",
    "plot:line(num_iter,exploit_NNW2,'blue' ,'Neural Net warm start CFR')\n",
    "plot:line(num_iter,exploit_TargW2,'green' ,'Warm start with target values')\n",
    "plot:legend(true):title('Exploitability of different strategoes')\n",
    "plot:xaxis('Scaled number of iterations'):yaxis('Exploitability'):redraw()\n"
   ]
  },
  {
   "cell_type": "code",
   "execution_count": null,
   "metadata": {
    "collapsed": true
   },
   "outputs": [],
   "source": []
  }
 ],
 "metadata": {
  "kernelspec": {
   "display_name": "iTorch",
   "language": "lua",
   "name": "itorch"
  },
  "language_info": {
   "name": "lua",
   "version": "5.2"
  }
 },
 "nbformat": 4,
 "nbformat_minor": 2
}
