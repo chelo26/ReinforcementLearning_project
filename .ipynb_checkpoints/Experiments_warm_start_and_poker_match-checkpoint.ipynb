{
 "cells": [
  {
   "cell_type": "code",
   "execution_count": null,
   "metadata": {
    "collapsed": true
   },
   "outputs": [],
   "source": [
    "--- Libraries:\n",
    "arguments = require 'Settings.arguments'\n",
    "constants = require 'Settings.constants'\n",
    "card_to_string = require 'Game.card_to_string_conversion'\n",
    "card_tools = require 'Game.card_tools'\n",
    "game_settings = require 'Settings.game_settings'\n",
    "Plot = require 'itorch.Plot'\n",
    "nninit = require 'nninit'\n",
    "require 'torch'\n",
    "require 'math'\n",
    "require 'Tree.tree_builder'\n",
    "require 'Tree.tree_data_generation'\n",
    "require 'Tree.tree_values'\n",
    "require 'Tree.tree_visualiser'\n",
    "require 'nn'\n",
    "require 'Tree.tree_cfr'\n",
    "require 'Tree.tree_cfr2'\n",
    "require 'nngraph'\n",
    "require 'optim'\n",
    "require 'image'\n",
    "require 'NN.strategy_net_builder'\n",
    "require 'NN.strategy_net_trainer'\n",
    "require 'Tree.tree_warm_start'\n",
    "require 'Nn.StrategyCriterion'\n",
    "\n",
    "\n",
    "require 'Adversarials.exploitabilityVS'\n"
   ]
  },
  {
   "cell_type": "code",
   "execution_count": null,
   "metadata": {
    "collapsed": true
   },
   "outputs": [],
   "source": [
    "function strategies_initializer(params, starting_ranges,num_iter,num_skip)\n",
    "    local timer = torch.Timer()\n",
    "    local num_iter = num_iter or 200\n",
    "    local num_skip = num_skip or 50\n",
    "    local params = params\n",
    "    local tree_train= builder:build_tree(params)\n",
    "    local tree_data = TreeData(tree_train)\n",
    "    \n",
    "    --- running CFR for nn_iter skiping num_skip\n",
    "    local solver_train = TreeCFR2()\n",
    "    solver_train.cfr_skip = num_skip\n",
    "    solver_train:run_clean_cfr(tree_train,starting_ranges,num_iter)\n",
    "\n",
    "    --- Getting training set:\n",
    "    tree_data:get_training_set(tree_train,1)\n",
    "    print('training train tree with CFR: ')--- ..timer:time().. ' secs')\n",
    "\n",
    "    -- Building the neural net model\n",
    "    local strategy_nn = StrategyNN()\n",
    "    local nn_model = strategy_nn.model\n",
    "\n",
    "    -- Building trainer:\n",
    "    local nn_trainer = NNTrainer(tree_data,nn_model)\n",
    "    -- Options:\n",
    "    local opt = {}\n",
    "    opt.learningRate = 0.001\n",
    "    opt.momentum = 0.95\n",
    "    opt.validate = false\n",
    "    local current_criterion = StrategyLoss()---nn.SmoothL1Criterion()\n",
    "    local train,test= nn_trainer:train(nn_model,current_criterion,opt,10000)\n",
    "    print(\"training neural network: \")--- ..timer:time().. ' secs')\n",
    "\n",
    "    --- NNWarm Starting\n",
    "    local treeNNWarm = builder:build_tree(params)\n",
    "    local dataNN = TreeData(treeNNWarm)\n",
    "    dataNN:get_training_set(treeNNWarm,1)\n",
    "    dataNN:generate_new_initial_strategies(treeNNWarm,nn_trainer)\n",
    "    \n",
    "    ---Warm start the regrets for NN:\n",
    "    dataNN:warm_start_regrets(treeNNWarm,tree_train)\n",
    "    print(\"target warm-start\")\n",
    "    \n",
    "    --- Target Warm Starting\n",
    "    local treeTargetWarm = builder:build_tree(params)\n",
    "    local tree_data_target = TreeData(treeTargetWarm)\n",
    "    tree_data_target:warm_start_targets_and_regrets(treeTargetWarm,tree_train)\n",
    "    print(\"Whole Process: \")--- ..timer:time().. ' secs')\n",
    "    ---timer:stop()\n",
    "    return treeNNWarm,treeTargetWarm\n",
    "end\n",
    "\n",
    "\n",
    "function get_returns(tree1,tree2,num_iter)\n",
    "    --- default number of iterations:\n",
    "    local num_iter = num_iter or 100\n",
    "    \n",
    "    --- Evaluator : Poker match for num_iter times each combination\n",
    "    local evaluator = StrategyEvaluator(tree1,tree2)\n",
    "    evaluator:play_all_combinations_n_times(tree1,tree2,num_iter)\n",
    "    local win_rate = evaluator.A2_winning_rate\n",
    "    local avg_gain= evaluator.A2_avg_pot_won\n",
    "\n",
    "    --- Return the avg pot won and the win rate:\n",
    "    return avg_gain,win_rate\n",
    "end\n",
    "\n",
    "\n",
    "function get_tensor_returns(tree1,tree2,number_of_tests,num_iter)\n",
    "\n",
    "    --- num_iter is the number of games played all 60 combinations:\n",
    "    local num_iter = num_iter or 100\n",
    "    local number_of_tests = number_of_tests or 10\n",
    "    local avg_gain_tensor = torch.FloatTensor(1,number_of_tests)\n",
    "    local win_rate_tensor = torch.FloatTensor(1,number_of_tests)\n",
    "    \n",
    "    --- Playing for number_of_tests times the 60 combinations num iter times\n",
    "    for i =1,number_of_tests do\n",
    "        local avg_gain,win_rate = get_returns(tree1,tree2,num_iter) \n",
    "        avg_gain_tensor[{1,i}]= avg_gain\n",
    "        win_rate_tensor[{1,i}]= win_rate\n",
    "    end\n",
    "    print('avg gains: '..avg_gain_tensor:mean()..' ,win rate :'..win_rate_tensor:mean())\n",
    "    return avg_gain_tensor,win_rate_tensor\n",
    "end\n",
    "\n",
    "function get_CFR_tensor_returns(tree1,tree2,num_tests,num_games,cfr_iter,cfr_skip)\n",
    "    --- Cfr iterations and number of skpis:\n",
    "    local cfr_iter = cfr_iter or 100\n",
    "    local cfr_skip = cfr_skip or 50\n",
    "\n",
    "    --- CFR Solver:\n",
    "    local solver = TreeCFR2()\n",
    "    solver.cfr_skip = cfr_skip \n",
    "    local starting_ranges = arguments.Tensor(constants.players_count, game_settings.card_count)\n",
    "    starting_ranges[1]:copy(card_tools:get_uniform_range(tree2.board))\n",
    "    starting_ranges[2]:copy(card_tools:get_uniform_range(tree2.board))\n",
    "    \n",
    "    --- Clean CFR : without exploitability computation\n",
    "    ---local tree_data2 = TreeData(tree2)\n",
    "    local solver_train = TreeCFR2()\n",
    "    solver:run_clean_cfr(tree2, starting_ranges,cfr_iter)\n",
    "    \n",
    "    ---print(\"CFR completed iterations\")\n",
    "    --- Starts poker_match\n",
    "    local num_games = num_games or 100\n",
    "    local num_tests = num_tests or 10\n",
    "    local avg_gain_tensor = torch.FloatTensor(1,num_tests)\n",
    "    local win_rate_tensor = torch.FloatTensor(1,num_tests)\n",
    "    \n",
    "    for i =1,num_tests do\n",
    "        local avg_gain,win_rate = get_returns(tree1,tree2,num_games) \n",
    "        avg_gain_tensor[{1,i}]= avg_gain\n",
    "        win_rate_tensor[{1,i}]= win_rate\n",
    "\n",
    "    end\n",
    "    print('avg gains: '..avg_gain_tensor:mean()..' ,win rate :'..win_rate_tensor:mean())\n",
    "    return avg_gain_tensor,win_rate_tensor\n",
    "end\n"
   ]
  },
  {
   "cell_type": "code",
   "execution_count": null,
   "metadata": {
    "collapsed": true
   },
   "outputs": [],
   "source": [
    "--- FUNCTIONS\n",
    "--- Comparing with 2000\n",
    "function compare_cfrs(tree_cfr1,tree_cfr2000)\n",
    "    local difference = {}\n",
    "    local table1 = tree_cfr1.total_strategies\n",
    "    local table2 = tree_cfr2000.total_strategies\n",
    "    \n",
    "    for i = 1, #table1 do\n",
    "        difference[i] = torch.sqrt(torch.sum(torch.pow((table1[i] - table2[#table2]),2)))\n",
    "    end\n",
    "    return torch.FloatTensor(difference)\n",
    "end\n",
    "--- Comparing 2000 with itself\n",
    "function get_convergence(tree_cfr)\n",
    "    local difference = {}\n",
    "    local table_cfr = tree_cfr.total_strategies\n",
    "    local end_strategy = table_cfr[#table_cfr]\n",
    "    \n",
    "    for i = 1, #table_cfr do\n",
    "        difference[i] = torch.sqrt(torch.sum(torch.pow((table_cfr[i] - end_strategy),2)))\n",
    "    end\n",
    "    return torch.FloatTensor(difference)\n",
    "end"
   ]
  },
  {
   "cell_type": "code",
   "execution_count": null,
   "metadata": {
    "collapsed": true
   },
   "outputs": [],
   "source": [
    "--- Create the tree\n",
    "builder = PokerTreeBuilder()\n",
    "--- Parameters for the tree\n",
    "params = {}\n",
    "params.root_node = {}\n",
    "params.root_node.board = card_to_string:string_to_board('')\n",
    "params.root_node.street = 1\n",
    "params.root_node.current_player = constants.players.P1\n",
    "params.root_node.bets = arguments.Tensor{200, 200}\n",
    "--- CFR Solver\n",
    "starting_ranges = arguments.Tensor(constants.players_count, game_settings.card_count)\n",
    "starting_ranges[1]:copy(card_tools:get_uniform_range(params.root_node.board))\n",
    "starting_ranges[2]:copy(card_tools:get_uniform_range(params.root_node.board))"
   ]
  },
  {
   "cell_type": "markdown",
   "metadata": {},
   "source": [
    "### 1. Exploitability for original CFR and modified CFR"
   ]
  },
  {
   "cell_type": "code",
   "execution_count": null,
   "metadata": {},
   "outputs": [],
   "source": [
    "--- Building CFR Solver\n",
    "tree100 = builder:build_tree(params)\n",
    "tree100_cfr = TreeCFR()\n",
    "tree100_cfr.cfr_skip = 0\n",
    "tree100_cfr:run_cfr(tree100, starting_ranges,10)\n",
    "\n",
    "print(tree100.exploitability)"
   ]
  },
  {
   "cell_type": "code",
   "execution_count": null,
   "metadata": {},
   "outputs": [],
   "source": [
    "--- Building CFR Solver\n",
    "tree102 = builder:build_tree(params)\n",
    "tree102_cfr = TreeCFR2()\n",
    "tree102_cfr.cfr_skip = 1\n",
    "tree102_cfr:run_cfr(tree102, starting_ranges,10)\n",
    "print(tree102.exploitability)"
   ]
  },
  {
   "cell_type": "code",
   "execution_count": null,
   "metadata": {
    "collapsed": true
   },
   "outputs": [],
   "source": [
    "exploit_cfr100 = tree100_cfr.exploitability_vec\n",
    "exploit_cfr102 = tree102_cfr.exploitability_vec"
   ]
  },
  {
   "cell_type": "code",
   "execution_count": null,
   "metadata": {},
   "outputs": [],
   "source": [
    "local num_iter = torch.range(1,exploit_cfr100:size(1))\n",
    "local plot = Plot()\n",
    "\n",
    "plot:line(num_iter,exploit_cfr100,'red' ,'Original')\n",
    "plot:line(num_iter,exploit_cfr102,'blue' ,'New CFR')\n",
    "plot:legend(true):title('Exploitability of different strategies, 800 iterations')\n",
    "plot:xaxis('Scaled number of iterations'):yaxis('Exploitability'):redraw()\n"
   ]
  },
  {
   "cell_type": "markdown",
   "metadata": {},
   "source": [
    "### 2. Exploitability for different Strategies"
   ]
  },
  {
   "cell_type": "code",
   "execution_count": null,
   "metadata": {
    "collapsed": true
   },
   "outputs": [],
   "source": [
    "number_of_iterations = 200"
   ]
  },
  {
   "cell_type": "code",
   "execution_count": null,
   "metadata": {},
   "outputs": [],
   "source": [
    "num_tests =10\n",
    "num_games = 100"
   ]
  },
  {
   "cell_type": "code",
   "execution_count": null,
   "metadata": {
    "collapsed": true
   },
   "outputs": [],
   "source": [
    "tree_bench = builder:build_tree(params)"
   ]
  },
  {
   "cell_type": "code",
   "execution_count": null,
   "metadata": {},
   "outputs": [],
   "source": [
    "--- Get Data from 2000 iterations\n",
    "tree_data800 = TreeData(tree800)\n",
    "tree800_cfr = TreeCFR2()\n",
    "tree800_cfr.cfr_skip = 1\n",
    "gain_unif_after,win_unif_after = get_tensor_returns(tree_bench,treeTarRegWarm,tree,num_tests,num_games)\n",
    "tree800_cfr:run_cfr(tree800, starting_ranges,number_of_iterations)\n",
    "tree_data800:get_training_set(tree800,1)\n",
    "gain_unif_after,win_unif_after = get_tensor_returns(tree_bench,treeTarRegWarm,tree,num_tests,num_games)"
   ]
  },
  {
   "cell_type": "markdown",
   "metadata": {},
   "source": [
    "### Training the Model"
   ]
  },
  {
   "cell_type": "code",
   "execution_count": null,
   "metadata": {},
   "outputs": [],
   "source": [
    "-- Building the neural net model\n",
    "strategy_nn = StrategyNN()\n",
    "nn_model = strategy_nn.model\n",
    "-- Building trainer:\n",
    "nn_trainer = NNTrainer(tree_data800,nn_model)\n",
    "-- Options:\n",
    "opt = {}\n",
    "opt.learningRate = 0.001\n",
    "opt.momentum = 0.95\n",
    "opt.validate = false"
   ]
  },
  {
   "cell_type": "code",
   "execution_count": null,
   "metadata": {},
   "outputs": [],
   "source": [
    "current_criterion = StrategyLoss()---nn.SmoothL1Criterion()\n",
    "train_loss,test_loss = nn_trainer:train(nn_model,current_criterion,opt,10000)"
   ]
  },
  {
   "cell_type": "code",
   "execution_count": null,
   "metadata": {},
   "outputs": [],
   "source": [
    "pred_strat = nn_model:forward({nn_trainer.all_data.features,nn_trainer.all_data.masks})\n",
    "true_strat =nn_trainer.all_data.targets\n",
    "print(torch.mean(torch.abs(pred_strat- true_strat)))"
   ]
  },
  {
   "cell_type": "markdown",
   "metadata": {},
   "source": [
    "### No Warm Start"
   ]
  },
  {
   "cell_type": "code",
   "execution_count": null,
   "metadata": {},
   "outputs": [],
   "source": [
    "--- Building CFR Solver\n",
    "treeNoWarm = builder:build_tree(params)\n",
    "treeNoWarm_cfr = TreeCFR2()\n",
    "treeNoWarm_cfr.cfr_skip = 1\n",
    "treeNoWarm_cfr:run_cfr(treeNoWarm, starting_ranges,number_of_iterations)"
   ]
  },
  {
   "cell_type": "markdown",
   "metadata": {},
   "source": [
    "### Neural Net Start "
   ]
  },
  {
   "cell_type": "code",
   "execution_count": null,
   "metadata": {},
   "outputs": [],
   "source": [
    "--- NNWarm Starting\n",
    "treeNNWarm = builder:build_tree(params)\n",
    "dataNN = TreeData(treeNNWarm)\n",
    "dataNN:get_training_set(treeNNWarm,1)\n",
    "dataNN:generate_new_initial_strategies(treeNNWarm,nn_trainer)\n",
    "---Warm start the regrets:\n",
    "dataNN:warm_start_regrets(treeNNWarm,tree800)\n",
    "---tree_warm_start = TreeWarmStart()\n",
    "---tree_warm_start:run_warm_start(treeNNWarm, starting_ranges,80)\n",
    "--- Building CFR Solver\n"
   ]
  },
  {
   "cell_type": "code",
   "execution_count": null,
   "metadata": {},
   "outputs": [],
   "source": [
    "gain_unif_after,win_unif_after = get_tensor_returns(tree_bench,treeNNWarm,tree,num_tests,num_games)"
   ]
  },
  {
   "cell_type": "code",
   "execution_count": null,
   "metadata": {
    "collapsed": true
   },
   "outputs": [],
   "source": [
    "treeNNWarm_cfr = TreeCFR2()\n",
    "treeNNWarm_cfr.cfr_skip = 1\n",
    "treeNNWarm_cfr:run_cfr(treeNNWarm, starting_ranges,number_of_iterations)"
   ]
  },
  {
   "cell_type": "code",
   "execution_count": null,
   "metadata": {},
   "outputs": [],
   "source": [
    "gain_unif_after,win_unif_after = get_tensor_returns(tree_bench,treeNNWarm,tree,num_tests,num_games)"
   ]
  },
  {
   "cell_type": "code",
   "execution_count": null,
   "metadata": {},
   "outputs": [],
   "source": [
    "--- NNWarm Starting\n",
    "treeNN_NoRegWarm = builder:build_tree(params)\n",
    "dataNN_NoReg = TreeData(treeNN_NoRegWarm)\n",
    "dataNN_NoReg:get_training_set(treeNN_NoRegWarm,1)\n",
    "dataNN_NoReg:generate_new_initial_strategies(treeNN_NoRegWarm,nn_trainer)\n",
    "---Warm start the regrets:\n",
    "---dataNN:warm_start_regrets(treeNN_NoRegWarm,tree800)\n",
    "--- Building CFR Solver\n",
    "treeNN_NoRegWarm_cfr = TreeCFR2()\n",
    "treeNN_NoRegWarm_cfr.cfr_skip = 1\n",
    "treeNN_NoRegWarm_cfr:run_cfr(treeNN_NoRegWarm, starting_ranges,number_of_iterations)"
   ]
  },
  {
   "cell_type": "markdown",
   "metadata": {},
   "source": [
    "### Target Warm Start "
   ]
  },
  {
   "cell_type": "code",
   "execution_count": null,
   "metadata": {
    "collapsed": true
   },
   "outputs": [],
   "source": [
    "--- Target Warm Starting\n",
    "treeTarRegWarm = builder:build_tree(params)\n",
    "dataTargReg = TreeData(treeTarRegWarm)\n",
    "---dataTarg:get_training_set(treeTargWarm,1)\n",
    "---dataTarg:warm_start_targets(treeTargWarm,tree800)\n",
    "---dataTarg:warm_start_regrets(treeTargWarm,tree800)\n",
    "---tree_warm_start = TreeWarmStart()\n",
    "---tree_warm_start:run_warm_start(treeTargWarm, starting_ranges,number_of_iterations)\n",
    "dataTargReg:warm_start_targets_and_regrets(treeTarRegWarm,tree800)\n",
    "--- Building CFR Solver\n",
    "treeTarRegWarm_cfr = TreeCFR2()\n",
    "treeTarRegWarm_cfr.cfr_skip = 1\n",
    "treeTarRegWarm_cfr:run_cfr(treeTarRegWarm, starting_ranges,number_of_iterations)"
   ]
  },
  {
   "cell_type": "code",
   "execution_count": null,
   "metadata": {
    "collapsed": true
   },
   "outputs": [],
   "source": [
    "--- Target Warm Starting\n",
    "treeTarWarm = builder:build_tree(params)\n",
    "dataTarg = TreeData(treeTarWarm)\n",
    "dataTarg:warm_start_targets(treeTarWarm,tree800)\n",
    "--- Building CFR Solver\n",
    "treeTarWarm_cfr = TreeCFR2()\n",
    "treeTarWarm_cfr.cfr_skip = 1\n",
    "treeTarWarm_cfr:run_cfr(treeTarWarm, starting_ranges,number_of_iterations)"
   ]
  },
  {
   "cell_type": "code",
   "execution_count": null,
   "metadata": {
    "collapsed": true
   },
   "outputs": [],
   "source": [
    "--- Target Warm Starting\n",
    "treeRegWarm = builder:build_tree(params)\n",
    "dataReg = TreeData(treeRegWarm)\n",
    "dataReg:warm_start_regrets(treeRegWarm,tree800)\n",
    "--- Building CFR Solver\n",
    "treeRegWarm_cfr = TreeCFR2()\n",
    "treeRegWarm_cfr.cfr_skip = 1\n",
    "treeRegWarm_cfr:run_cfr(treeRegWarm, starting_ranges,number_of_iterations)"
   ]
  },
  {
   "cell_type": "markdown",
   "metadata": {},
   "source": [
    "### Plot different starts"
   ]
  },
  {
   "cell_type": "code",
   "execution_count": null,
   "metadata": {
    "collapsed": true
   },
   "outputs": [],
   "source": [
    "exploit_unif = tree800_cfr.exploitability_vec\n",
    "exploit_NoW = treeNoWarm_cfr.exploitability_vec\n",
    "exploit_NNW = treeNNWarm_cfr.exploitability_vec\n",
    "exploit_NN_NoReg = treeNN_NoRegWarm_cfr.exploitability_vec\n",
    "exploit_TarRegW = treeTarRegWarm_cfr.exploitability_vec\n",
    "exploit_TarW = treeTarWarm_cfr.exploitability_vec\n",
    "exploit_RegW = treeRegWarm_cfr.exploitability_vec"
   ]
  },
  {
   "cell_type": "code",
   "execution_count": null,
   "metadata": {},
   "outputs": [],
   "source": [
    "local num_iter = torch.range(1,exploit_NoW:size(1))\n",
    "local plot = Plot()\n",
    "\n",
    "---plot:line(num_iter,exploit_unif,'black' ,'No Warm start CFR = Uniform warm start')\n",
    "plot:line(num_iter,exploit_NoW,'black' ,'No Warm start = Random initialization')\n",
    "plot:line(num_iter,exploit_NNW,'blue' ,'Neural Network warm start')\n",
    "---plot:line(num_iter,exploit_NN_NoReg,'brown' ,'Neural Net warm start CFR no Regrets')\n",
    "plot:line(num_iter,exploit_TarRegW,'green' ,'Oracle warm start')\n",
    "---plot:line(num_iter,exploit_TarW,'orange' ,'Warm start only targets')\n",
    "---plot:line(num_iter,exploit_RegW,'red' ,'Warm start with target values ')\n",
    "plot:legend(true):title('Exploitability of different initializations, 200 iter.')\n",
    "plot:xaxis('Scaled number of iterations'):yaxis('Exploitability'):redraw()\n"
   ]
  },
  {
   "cell_type": "code",
   "execution_count": null,
   "metadata": {
    "collapsed": true
   },
   "outputs": [],
   "source": []
  },
  {
   "cell_type": "code",
   "execution_count": null,
   "metadata": {
    "collapsed": true
   },
   "outputs": [],
   "source": []
  },
  {
   "cell_type": "code",
   "execution_count": null,
   "metadata": {
    "collapsed": true
   },
   "outputs": [],
   "source": [
    "function strategies_initializer(params, starting_ranges,num_iter,num_skip)\n",
    "    local timer = torch.Timer()\n",
    "    local num_iter = num_iter or 200\n",
    "    local num_skip = num_skip or 50\n",
    "    local params = params\n",
    "    local tree_train= builder:build_tree(params)\n",
    "    local tree_data = TreeData(tree_train)\n",
    "    \n",
    "    --- running CFR for nn_iter skiping num_skip\n",
    "    local solver_train = TreeCFR2()\n",
    "    solver_train.cfr_skip = num_skip\n",
    "    solver_train:run_clean_cfr(tree_train,starting_ranges,num_iter)\n",
    "\n",
    "    --- Getting training set:\n",
    "    tree_data:get_training_set(tree_train,1)\n",
    "    print('training train tree with CFR: ')--- ..timer:time().. ' secs')\n",
    "\n",
    "    -- Building the neural net model\n",
    "    local strategy_nn = StrategyNN()\n",
    "    local nn_model = strategy_nn.model\n",
    "\n",
    "    -- Building trainer:\n",
    "    local nn_trainer = NNTrainer(tree_data,nn_model)\n",
    "    -- Options:\n",
    "    local opt = {}\n",
    "    opt.learningRate = 0.001\n",
    "    opt.momentum = 0.95\n",
    "    opt.validate = false\n",
    "    local current_criterion = StrategyLoss()---nn.SmoothL1Criterion()\n",
    "    local train,test= nn_trainer:train(nn_model,current_criterion,opt,10000)\n",
    "    print(\"training neural network: \")--- ..timer:time().. ' secs')\n",
    "\n",
    "    --- NNWarm Starting\n",
    "    local treeNNWarm = builder:build_tree(params)\n",
    "    local dataNN = TreeData(treeNNWarm)\n",
    "    dataNN:get_training_set(treeNNWarm,1)\n",
    "    dataNN:generate_new_initial_strategies(treeNNWarm,nn_trainer)\n",
    "    \n",
    "    ---Warm start the regrets for NN:\n",
    "    dataNN:warm_start_regrets(treeNNWarm,tree_train)\n",
    "    print(\"target warm-start\")\n",
    "    \n",
    "    --- Target Warm Starting\n",
    "    local treeTargetWarm = builder:build_tree(params)\n",
    "    local tree_data_target = TreeData(treeTargetWarm)\n",
    "    tree_data_target:warm_start_targets_and_regrets(treeTargetWarm,tree_train)\n",
    "    print(\"Whole Process: \")--- ..timer:time().. ' secs')\n",
    "    ---timer:stop()\n",
    "    return treeNNWarm,treeTargetWarm\n",
    "end\n",
    "\n",
    "\n",
    "function get_returns(tree1,tree2,num_iter)\n",
    "    --- default number of iterations:\n",
    "    local num_iter = num_iter or 100\n",
    "    \n",
    "    --- Evaluator : Poker match for num_iter times each combination\n",
    "    local evaluator = StrategyEvaluator(tree1,tree2)\n",
    "    evaluator:play_all_combinations_n_times(tree1,tree2,num_iter)\n",
    "    local win_rate = evaluator.A2_winning_rate\n",
    "    local avg_gain= evaluator.A2_avg_pot_won\n",
    "\n",
    "    --- Return the avg pot won and the win rate:\n",
    "    return avg_gain,win_rate\n",
    "end\n",
    "\n",
    "\n",
    "function get_tensor_returns(tree1,tree2,number_of_tests,num_iter)\n",
    "\n",
    "    --- num_iter is the number of games played all 60 combinations:\n",
    "    local num_iter = num_iter or 100\n",
    "    local number_of_tests = number_of_tests or 10\n",
    "    local avg_gain_tensor = torch.FloatTensor(1,number_of_tests)\n",
    "    local win_rate_tensor = torch.FloatTensor(1,number_of_tests)\n",
    "    \n",
    "    --- Playing for number_of_tests times the 60 combinations num iter times\n",
    "    for i =1,number_of_tests do\n",
    "        local avg_gain,win_rate = get_returns(tree1,tree2,num_iter) \n",
    "        avg_gain_tensor[{1,i}]= avg_gain\n",
    "        win_rate_tensor[{1,i}]= win_rate\n",
    "    end\n",
    "    print('avg gains: '..avg_gain_tensor:mean()..' ,win rate :'..win_rate_tensor:mean())\n",
    "    return avg_gain_tensor,win_rate_tensor\n",
    "end\n",
    "\n",
    "function get_CFR_tensor_returns(tree1,tree2,num_tests,num_games,cfr_iter,cfr_skip)\n",
    "    --- Cfr iterations and number of skpis:\n",
    "    local cfr_iter = cfr_iter or 100\n",
    "    local cfr_skip = cfr_skip or 50\n",
    "\n",
    "    --- CFR Solver:\n",
    "    local solver = TreeCFR2()\n",
    "    solver.cfr_skip = cfr_skip \n",
    "    local starting_ranges = arguments.Tensor(constants.players_count, game_settings.card_count)\n",
    "    starting_ranges[1]:copy(card_tools:get_uniform_range(tree2.board))\n",
    "    starting_ranges[2]:copy(card_tools:get_uniform_range(tree2.board))\n",
    "    \n",
    "    --- Clean CFR : without exploitability computation\n",
    "    ---local tree_data2 = TreeData(tree2)\n",
    "    local solver_train = TreeCFR2()\n",
    "    solver:run_clean_cfr(tree2, starting_ranges,cfr_iter)\n",
    "    \n",
    "    ---print(\"CFR completed iterations\")\n",
    "    --- Starts poker_match\n",
    "    local num_games = num_games or 100\n",
    "    local num_tests = num_tests or 10\n",
    "    local avg_gain_tensor = torch.FloatTensor(1,num_tests)\n",
    "    local win_rate_tensor = torch.FloatTensor(1,num_tests)\n",
    "    \n",
    "    for i =1,num_tests do\n",
    "        local avg_gain,win_rate = get_returns(tree1,tree2,num_games) \n",
    "        avg_gain_tensor[{1,i}]= avg_gain\n",
    "        win_rate_tensor[{1,i}]= win_rate\n",
    "\n",
    "    end\n",
    "    print('avg gains: '..avg_gain_tensor:mean()..' ,win rate :'..win_rate_tensor:mean())\n",
    "    return avg_gain_tensor,win_rate_tensor\n",
    "end\n"
   ]
  },
  {
   "cell_type": "code",
   "execution_count": null,
   "metadata": {},
   "outputs": [],
   "source": [
    "local num_iter = torch.range(1,exploit_NoW:size(1))\n",
    "local plot = Plot()\n",
    "\n",
    "---plot:line(num_iter,exploit_unif,'black' ,'No Warm start CFR = Uniform warm start')\n",
    "plot:line(num_iter,exploit_NoW,'black' ,'No Warm start = Random initialization')\n",
    "---plot:line(num_iter,exploit_NNW,'blue' ,'Neural Net warm start CFR')\n",
    "plot:line(num_iter,exploit_NN_NoReg,'blue' ,'Neural Network warm start without regrets')\n",
    "plot:line(num_iter,exploit_TarRegW,'brown' ,'Oracle warm start with regrets')\n",
    "plot:line(num_iter,exploit_TarW,'green' ,'Oracle warm start without regrets')\n",
    "---plot:line(num_iter,exploit_RegW,'red' ,'Warm start with target values')\n",
    "plot:legend(true):title('Exploitability of different initializations, 200 iter.')\n",
    "plot:xaxis('Scaled number of iterations'):yaxis('Exploitability'):redraw()\n"
   ]
  },
  {
   "cell_type": "code",
   "execution_count": null,
   "metadata": {
    "collapsed": true
   },
   "outputs": [],
   "source": []
  },
  {
   "cell_type": "code",
   "execution_count": null,
   "metadata": {
    "collapsed": true
   },
   "outputs": [],
   "source": []
  },
  {
   "cell_type": "code",
   "execution_count": null,
   "metadata": {
    "collapsed": true
   },
   "outputs": [],
   "source": []
  },
  {
   "cell_type": "code",
   "execution_count": null,
   "metadata": {
    "collapsed": true
   },
   "outputs": [],
   "source": []
  },
  {
   "cell_type": "markdown",
   "metadata": {},
   "source": [
    "### Graphical Comparaison"
   ]
  },
  {
   "cell_type": "markdown",
   "metadata": {},
   "source": [
    "### 3. Comparaision with 2000 CFR2"
   ]
  },
  {
   "cell_type": "code",
   "execution_count": null,
   "metadata": {
    "collapsed": true
   },
   "outputs": [],
   "source": [
    "--- Get Data from 2000 iterations\n",
    "tree802 = builder:build_tree(params)\n",
    "tree_data802 = TreeData(tree802)\n",
    "tree802_cfr = TreeCFR2()\n",
    "tree802_cfr:run_cfr(tree802, starting_ranges,number_of_iterations)\n",
    "tree_data802:get_training_set(tree802,1)"
   ]
  },
  {
   "cell_type": "code",
   "execution_count": null,
   "metadata": {
    "collapsed": true
   },
   "outputs": [],
   "source": [
    "-- Building the neural net model\n",
    "strategy_nn2 = StrategyNN()\n",
    "nn_model2 = strategy_nn2.model\n",
    "-- Building trainer:\n",
    "nn_trainer2 = NNTrainer(tree_data802,nn_model2)\n",
    "-- Options:\n",
    "opt = {}\n",
    "opt.learningRate = 0.001\n",
    "opt.momentum = 0.95\n",
    "opt.validate = false"
   ]
  },
  {
   "cell_type": "code",
   "execution_count": null,
   "metadata": {
    "collapsed": true
   },
   "outputs": [],
   "source": [
    "current_criterion2 = nn.SmoothL1Criterion()\n",
    "train_loss,test_loss = nn_trainer:train(nn_model2,current_criterion2,opt,10000)"
   ]
  },
  {
   "cell_type": "code",
   "execution_count": null,
   "metadata": {
    "collapsed": true
   },
   "outputs": [],
   "source": [
    "--- No Warm Start\n",
    "treeNoWarm2 = builder:build_tree(params)\n",
    "treeNoWarm_cfr2 = TreeCFR2()\n",
    "treeNoWarm_cfr2:run_cfr(treeNoWarm2, starting_ranges,number_of_iterations)"
   ]
  },
  {
   "cell_type": "code",
   "execution_count": null,
   "metadata": {
    "collapsed": true
   },
   "outputs": [],
   "source": [
    "--- NNWarm Starting\n",
    "treeNNWarm2 = builder:build_tree(params)\n",
    "dataNN2 = TreeData(treeNNWarm2)\n",
    "dataNN2:get_training_set(treeNNWarm2,1)\n",
    "dataNN2:generate_new_initial_strategies(treeNNWarm2,nn_trainer2)"
   ]
  },
  {
   "cell_type": "code",
   "execution_count": null,
   "metadata": {
    "collapsed": true
   },
   "outputs": [],
   "source": [
    "--- NNWarm CFR Solver\n",
    "treeNNWarm_cfr2 = TreeCFR2()\n",
    "treeNNWarm_cfr2:run_cfr(treeNNWarm2, starting_ranges,number_of_iterations)"
   ]
  },
  {
   "cell_type": "code",
   "execution_count": null,
   "metadata": {
    "collapsed": true
   },
   "outputs": [],
   "source": [
    "--- Target Warm Starting\n",
    "treeTargWarm2 = builder:build_tree(params)\n",
    "dataTarg2 = TreeData(treeTargWarm2)\n",
    "dataTarg2:get_training_set(treeTargWarm2,1)\n",
    "dataTarg2:warm_start_targets(treeTargWarm2,tree802)"
   ]
  },
  {
   "cell_type": "code",
   "execution_count": null,
   "metadata": {
    "collapsed": true
   },
   "outputs": [],
   "source": [
    "--- Building CFR Solver\n",
    "treeTargWarm_cfr2 = TreeCFR2()\n",
    "treeTargWarm_cfr2:run_cfr(treeTargWarm2, starting_ranges,number_of_iterations)"
   ]
  },
  {
   "cell_type": "code",
   "execution_count": null,
   "metadata": {
    "collapsed": true
   },
   "outputs": [],
   "source": [
    "exploit_unif2 = tree802_cfr.exploitability_vec\n",
    "exploit_NoW2 = treeNoWarm_cfr2.exploitability_vec\n",
    "exploit_NNW2 = treeNNWarm_cfr2.exploitability_vec\n",
    "exploit_TargW2 = treeTargWarm_cfr2.exploitability_vec"
   ]
  },
  {
   "cell_type": "code",
   "execution_count": null,
   "metadata": {
    "collapsed": true
   },
   "outputs": [],
   "source": [
    "local num_iter = torch.range(1,exploit_NoW:size(1))\n",
    "local plot = Plot()\n",
    "\n",
    "plot:line(num_iter,exploit_unif2,'black' ,'Original CFR in the paper')\n",
    "plot:line(num_iter,exploit_NoW2,'red' ,'No Warm start CFR')\n",
    "plot:line(num_iter,exploit_NNW2,'blue' ,'Neural Net warm start CFR')\n",
    "plot:line(num_iter,exploit_TargW2,'green' ,'Warm start with target values')\n",
    "plot:legend(true):title('Exploitability of different strategoes')\n",
    "plot:xaxis('Scaled number of iterations'):yaxis('Exploitability'):redraw()\n"
   ]
  },
  {
   "cell_type": "code",
   "execution_count": null,
   "metadata": {
    "collapsed": true
   },
   "outputs": [],
   "source": []
  }
 ],
 "metadata": {
  "kernelspec": {
   "display_name": "iTorch",
   "language": "lua",
   "name": "itorch"
  },
  "language_info": {
   "name": "lua",
   "version": "5.2"
  }
 },
 "nbformat": 4,
 "nbformat_minor": 2
}
