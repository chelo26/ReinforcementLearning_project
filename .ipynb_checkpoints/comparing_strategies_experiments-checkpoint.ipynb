{
 "cells": [
  {
   "cell_type": "code",
   "execution_count": 1,
   "metadata": {
    "collapsed": true
   },
   "outputs": [],
   "source": [
    "--- Libraries:\n",
    "arguments = require 'Settings.arguments'\n",
    "constants = require 'Settings.constants'\n",
    "card_to_string = require 'Game.card_to_string_conversion'\n",
    "card_tools = require 'Game.card_tools'\n",
    "game_settings = require 'Settings.game_settings'\n",
    "Plot = require 'itorch.Plot'\n",
    "nninit = require 'nninit'\n",
    "require 'torch'\n",
    "require 'math'\n",
    "require 'Tree.tree_builder'\n",
    "require 'Tree.tree_data_generation'\n",
    "require 'Tree.tree_visualiser'\n",
    "require 'nn'\n",
    "require 'Tree.tree_cfr'\n",
    "require 'nngraph'\n",
    "require 'optim'\n",
    "require 'image'\n",
    "require 'NN.strategy_net_builder'\n",
    "require 'NN.strategy_net_trainer'\n",
    "\n"
   ]
  },
  {
   "cell_type": "code",
   "execution_count": 4,
   "metadata": {
    "collapsed": true
   },
   "outputs": [],
   "source": [
    "--- Create the tree\n",
    "builder = PokerTreeBuilder()\n",
    "--- Parameters for the tree\n",
    "params = {}\n",
    "params.root_node = {}\n",
    "params.root_node.board = card_to_string:string_to_board('')\n",
    "params.root_node.street = 1\n",
    "params.root_node.current_player = constants.players.P1\n",
    "params.root_node.bets = arguments.Tensor{200, 200}\n",
    "--- CFR Solver\n",
    "starting_ranges = arguments.Tensor(constants.players_count, game_settings.card_count)\n",
    "starting_ranges[1]:copy(card_tools:get_uniform_range(params.root_node.board))\n",
    "starting_ranges[2]:copy(card_tools:get_uniform_range(params.root_node.board))"
   ]
  },
  {
   "cell_type": "code",
   "execution_count": 5,
   "metadata": {
    "collapsed": true
   },
   "outputs": [],
   "source": [
    "--- BUild trees\n",
    "tree = builder:build_tree(params)\n",
    "tree0 = builder:build_tree(params)\n",
    "tree1 = builder:build_tree(params)\n",
    "\n",
    "--- build data\n",
    "game = TreeData(tree)\n",
    "---game0 = TreeData(tree0)\n",
    "---game1 = TreeData(tree1)\n",
    "---game:get_training_set(tree,1)"
   ]
  },
  {
   "cell_type": "code",
   "execution_count": 6,
   "metadata": {},
   "outputs": [
    {
     "data": {
      "text/plain": [
       "Solver\n"
      ]
     },
     "execution_count": 6,
     "metadata": {},
     "output_type": "execute_result"
    },
    {
     "data": {
      "text/plain": [
       "getting training set\n"
      ]
     },
     "execution_count": 6,
     "metadata": {},
     "output_type": "execute_result"
    }
   ],
   "source": [
    "tree_cfr = TreeCFR()\n",
    "print(\"Solver\")\n",
    "tree_cfr:run_cfr(tree, starting_ranges,400)\n",
    "print(\"getting training set\")\n",
    "game:get_training_set(tree,1)"
   ]
  },
  {
   "cell_type": "markdown",
   "metadata": {},
   "source": [
    "## Using the modules"
   ]
  },
  {
   "cell_type": "code",
   "execution_count": 9,
   "metadata": {
    "collapsed": true
   },
   "outputs": [],
   "source": [
    "-- Building the neural net model\n",
    "strategy_nn = StrategyNN()\n",
    "nn_model = strategy_nn.model\n",
    "-- Building trainer:\n",
    "nn_trainer = NNTrainer(game,nn_model)\n",
    "-- Options:\n",
    "opt = {}\n",
    "opt.learningRate = 0.001\n",
    "opt.momentum = 0.95\n",
    "opt.validate = false"
   ]
  },
  {
   "cell_type": "code",
   "execution_count": 10,
   "metadata": {
    "collapsed": true
   },
   "outputs": [],
   "source": [
    "current_criterion = nn.SmoothL1Criterion()\n",
    "train_loss,test_loss = nn_trainer:train(nn_model,current_criterion,opt,10000)"
   ]
  },
  {
   "cell_type": "code",
   "execution_count": 11,
   "metadata": {},
   "outputs": [
    {
     "data": {
      "text/plain": [
       "0.24968182244219\n"
      ]
     },
     "execution_count": 11,
     "metadata": {},
     "output_type": "execute_result"
    }
   ],
   "source": [
    "pred_strat = nn_model:forward({nn_trainer.all_data.features,nn_trainer.all_data.masks})\n",
    "true_strat =nn_trainer.all_data.targets\n",
    "print(torch.mean(torch.abs(pred_strat- true_strat)))"
   ]
  },
  {
   "cell_type": "code",
   "execution_count": 13,
   "metadata": {
    "collapsed": true
   },
   "outputs": [],
   "source": [
    "--- Generating new initial strategies\n",
    "game0 = TreeData(tree0)\n",
    "game0:get_training_set(tree0,1)\n",
    "game0:generate_new_initial_strategies(tree0,nn_trainer)"
   ]
  },
  {
   "cell_type": "code",
   "execution_count": 15,
   "metadata": {},
   "outputs": [
    {
     "data": {
      "text/plain": [
       "Solver\n"
      ]
     },
     "execution_count": 15,
     "metadata": {},
     "output_type": "execute_result"
    }
   ],
   "source": [
    "--- CFR:\n",
    "tree_cfr0 = TreeCFR()\n",
    "print(\"Solver\")\n",
    "tree_cfr0:run_cfr(tree0, starting_ranges,400)"
   ]
  },
  {
   "cell_type": "code",
   "execution_count": 56,
   "metadata": {},
   "outputs": [
    {
     "data": {
      "text/plain": [
       "Solver\n"
      ]
     },
     "execution_count": 56,
     "metadata": {},
     "output_type": "execute_result"
    }
   ],
   "source": [
    "--- CFR:\n",
    "tree_cfr = TreeCFR()\n",
    "print(\"Solver\")\n",
    "tree_cfr:run_cfr(tree, starting_ranges,400)"
   ]
  },
  {
   "cell_type": "code",
   "execution_count": 57,
   "metadata": {},
   "outputs": [
    {
     "data": {
      "text/plain": [
       " 9.1896e-13  9.1896e-13  3.2314e-12  3.2314e-12  1.4837e-12  1.4837e-12\n",
       " 4.9461e-01  4.9461e-01  9.9397e-01  9.9397e-01  8.0333e-01  8.0333e-01\n",
       " 7.8511e-02  7.8511e-02  6.0293e-03  6.0293e-03  1.3306e-02  1.3305e-02\n",
       " 4.2688e-01  4.2688e-01  3.2314e-12  3.2314e-12  1.8337e-01  1.8337e-01\n",
       "[torch.FloatTensor of size 4x6]\n",
       "\n"
      ]
     },
     "execution_count": 57,
     "metadata": {},
     "output_type": "execute_result"
    }
   ],
   "source": [
    "tree.strategy"
   ]
  },
  {
   "cell_type": "code",
   "execution_count": 58,
   "metadata": {},
   "outputs": [
    {
     "data": {
      "text/plain": [
       " 9.3380e-13  9.3380e-13  3.2661e-12  3.2661e-12  1.6228e-12  1.6228e-12\n",
       " 5.0088e-01  5.0088e-01  9.9138e-01  9.9138e-01  8.1930e-01  8.1930e-01\n",
       " 1.0805e-01  1.0805e-01  8.6192e-03  8.6193e-03  1.8558e-02  1.8558e-02\n",
       " 3.9107e-01  3.9107e-01  3.2661e-12  3.2661e-12  1.6215e-01  1.6215e-01\n",
       "[torch.FloatTensor of size 4x6]\n",
       "\n"
      ]
     },
     "execution_count": 58,
     "metadata": {},
     "output_type": "execute_result"
    }
   ],
   "source": [
    "tree0.strategy"
   ]
  },
  {
   "cell_type": "code",
   "execution_count": 59,
   "metadata": {
    "collapsed": true
   },
   "outputs": [],
   "source": [
    "function compare_two_trees(table1,table2)\n",
    "    local difference = {}\n",
    "    for i = 1, #table1 do\n",
    "        difference[i] = torch.sqrt(torch.sum(torch.pow((table1[i] - table2[i]),2)))\n",
    "    end\n",
    "    return torch.FloatTensor(difference)\n",
    "end"
   ]
  },
  {
   "cell_type": "code",
   "execution_count": 60,
   "metadata": {},
   "outputs": [],
   "source": [
    "dif = compare_two_trees(tree_cfr.total_strategies,tree_cfr0.total_strategies)"
   ]
  },
  {
   "cell_type": "code",
   "execution_count": 65,
   "metadata": {},
   "outputs": [
    {
     "data": {
      "text/html": [
       "<script type=\"text/javascript\">\n",
       "$(function() {\n",
       "    if (typeof (window._bokeh_onload_callbacks) === \"undefined\"){\n",
       "  window._bokeh_onload_callbacks = [];\n",
       "    }\n",
       "    function load_lib(url, callback){\n",
       "  window._bokeh_onload_callbacks.push(callback);\n",
       "  if (window._bokeh_is_loading){\n",
       "      console.log(\"Bokeh: BokehJS is being loaded, scheduling callback at\", new Date());\n",
       "      return null;\n",
       "  }\n",
       "  console.log(\"Bokeh: BokehJS not loaded, scheduling load and callback at\", new Date());\n",
       "  window._bokeh_is_loading = true;\n",
       "  var s = document.createElement('script');\n",
       "  s.src = url;\n",
       "  s.async = true;\n",
       "  s.onreadystatechange = s.onload = function(){\n",
       "      Bokeh.embed.inject_css(\"https://cdn.pydata.org/bokeh-0.7.0.min.css\");\n",
       "      window._bokeh_onload_callbacks.forEach(function(callback){callback()});\n",
       "  };\n",
       "  s.onerror = function(){\n",
       "      console.warn(\"failed to load library \" + url);\n",
       "  };\n",
       "  document.getElementsByTagName(\"head\")[0].appendChild(s);\n",
       "    }\n",
       "\n",
       "    bokehjs_url = \"https://cdn.pydata.org/bokeh-0.7.0.min.js\"\n",
       "\n",
       "    var elt = document.getElementById(\"12df992f-796a-4ab0-ca50-ea564e0118de\");\n",
       "    if(elt==null) {\n",
       "  console.log(\"Bokeh: ERROR: autoload.js configured with elementid '12df992f-796a-4ab0-ca50-ea564e0118de'\"\n",
       "        + \"but no matching script tag was found. \")\n",
       "  return false;\n",
       "    }\n",
       "\n",
       "    if(typeof(Bokeh) !== \"undefined\") {\n",
       "  console.log(\"Bokeh: BokehJS loaded, going straight to plotting\");\n",
       "  var modelid = \"8eb0850e-2ce8-48d2-c8b9-d78938144c6b\";\n",
       "  var modeltype = \"Plot\";\n",
       "  var all_models = [{\"type\":\"ColumnDataSource\",\"id\":\"86869c1f-0f0a-49e0-c912-7fd55d4d5ad4\",\"attributes\":{\"column_names\":[\"y\",\"x\"],\"id\":\"86869c1f-0f0a-49e0-c912-7fd55d4d5ad4\",\"selected\":[],\"data\":{\"x\":[1,2,3,4,5,6,7,8,9,10,11,12,13,14,15,16,17,18,19,20,21,22,23,24,25,26,27,28,29,30,31,32,33,34,35,36,37,38,39,40,41,42,43,44,45,46,47,48,49,50,51,52,53,54,55,56,57,58,59,60,61,62,63,64,65,66,67,68,69,70,71,72,73,74,75,76,77,78,79,80,81,82,83,84,85,86,87,88,89,90,91,92,93,94,95,96,97,98,99,100,101,102,103,104,105,106,107,108,109,110,111,112,113,114,115,116,117,118,119,120,121,122,123,124,125,126,127,128,129,130,131,132,133,134,135,136,137,138,139,140,141,142,143,144,145,146,147,148,149,150,151,152,153,154,155,156,157,158,159,160,161,162,163,164,165,166,167,168,169,170,171,172,173,174,175,176,177,178,179,180,181,182,183,184,185,186,187,188,189,190,191,192,193,194,195,196,197,198,199,200,201,202,203,204,205,206,207,208,209,210,211,212,213,214,215,216,217,218,219,220,221,222,223,224,225,226,227,228,229,230,231,232,233,234,235,236,237,238,239,240,241,242,243,244,245,246,247,248,249,250,251,252,253,254,255,256,257,258,259,260,261,262,263,264,265,266,267,268,269,270,271,272,273,274,275,276,277,278,279,280,281,282,283,284,285,286,287,288,289,290,291,292,293,294,295,296,297,298,299,300],\"y\":[2.6246738433838,2.7259650230408,2.8274078369141,2.8154559135437,2.7642283439636,2.588981628418,2.5050363540649,2.4070756435394,2.3025302886963,2.1964132785797,2.0683987140656,1.9450533390045,1.8450472354889,1.768917798996,1.7056312561035,1.6497782468796,1.6056809425354,1.5680733919144,1.5295453071594,1.4956985712051,1.5103104114532,1.4813092947006,1.4546484947205,1.4321336746216,1.4253154993057,1.4128354787827,1.3955007791519,1.3746348619461,1.3494005203247,1.319898724556,1.2908977270126,1.2642258405685,1.2430468797684,1.2262704372406,1.2153058052063,1.2166150808334,1.2228486537933,1.2331632375717,1.2449896335602,1.2534618377686,1.2560931444168,1.2571338415146,1.2596210241318,1.2636173963547,1.2628643512726,1.2576067447662,1.2517132759094,1.2479079961777,1.2427822351456,1.2340539693832,1.2231998443604,1.2116048336029,1.2010691165924,1.1927791833878,1.1872963905334,1.1839009523392,1.1791630983353,1.1725158691406,1.1645220518112,1.1560553312302,1.1463478803635,1.1266071796417,1.0933989286423,1.0519441366196,1.0160211324692,0.99681669473648,0.9917294383049,0.98650616407394,0.98266476392746,0.9789679646492,0.97469854354858,0.96971642971039,0.96260660886765,0.95242977142334,0.94010281562805,0.92817997932434,0.91927766799927,0.91392987966537,0.91371530294418,0.91866540908813,0.92406272888184,0.9288512468338,0.93157839775085,0.93114596605301,0.93032723665237,0.92901211977005,0.92848217487335,0.93068671226501,0.93302166461945,0.93721067905426,0.94523656368256,0.956090092659,0.96699702739716,0.97514241933823,0.97759175300598,0.9768842458725,0.9759846329689,0.97479915618896,0.97342967987061,0.97133386135101,0.96881741285324,0.96740937232971,0.96639293432236,0.965665102005,0.96485841274261,0.96369612216949,0.96189397573471,0.96045333147049,0.95884424448013,0.95425873994827,0.94600611925125,0.93522477149963,0.92330765724182,0.91257083415985,0.90421789884567,0.89851933717728,0.89483028650284,0.89270710945129,0.89217638969421,0.89190673828125,0.89201909303665,0.89304101467133,0.89459162950516,0.89594531059265,0.89672714471817,0.89849036931992,0.90098440647125,0.90212970972061,0.90251940488815,0.90168362855911,0.89977687597275,0.89664858579636,0.89072662591934,0.88253426551819,0.87506848573685,0.87016069889069,0.8684269785881,0.86709862947464,0.86612159013748,0.86592382192612,0.86604601144791,0.86638903617859,0.8668332695961,0.86702585220337,0.86639696359634,0.86458134651184,0.86175459623337,0.85997831821442,0.856993496418,0.85279506444931,0.84839540719986,0.84518945217133,0.8429673910141,0.84161621332169,0.8409765958786,0.84082359075546,0.84038776159286,0.83699685335159,0.8298282623291,0.82036083936691,0.81157302856445,0.80418819189072,0.80190885066986,0.80303972959518,0.80449497699738,0.80592614412308,0.80703765153885,0.80751067399979,0.80742275714874,0.80720967054367,0.80671471357346,0.80577337741852,0.80478650331497,0.80419903993607,0.8037623167038,0.80402588844299,0.80439656972885,0.80467307567596,0.80471056699753,0.80473673343658,0.80467873811722,0.80438035726547,0.80369806289673,0.80252891778946,0.80107253789902,0.79931205511093,0.79721760749817,0.79527944326401,0.79415482282639,0.79362094402313,0.79293406009674,0.79061752557755,0.78553611040115,0.77781015634537,0.7704029083252,0.76865494251251,0.76998668909073,0.7705682516098,0.77054464817047,0.77038109302521,0.7701455950737,0.76732707023621,0.76284611225128,0.7611455321312,0.76161020994186,0.76205569505692,0.76237058639526,0.76205724477768,0.76059484481812,0.75834423303604,0.75589567422867,0.75431537628174,0.75407832860947,0.75402009487152,0.75408393144608,0.75417178869247,0.75432896614075,0.75494718551636,0.75560092926025,0.75609302520752,0.75116902589798,0.73439937829971,0.7074471116066,0.67968088388443,0.6562123298645,0.639508664608,0.63677227497101,0.63373750448227,0.63065713644028,0.62788730859756,0.62590223550797,0.62436270713806,0.6232425570488,0.62248903512955,0.62234890460968,0.6225603222847,0.62292712926865,0.62356579303741,0.62476801872253,0.62648749351501,0.62857472896576,0.60341495275497,0.54273450374603,0.54504984617233,0.58304524421692,0.58384191989899,0.58423483371735,0.5837082862854,0.58222633600235,0.58035731315613,0.57857978343964,0.57669180631638,0.57467436790466,0.57270574569702,0.57108944654465,0.56999880075455,0.56910508871078,0.56830453872681,0.56755596399307,0.56730496883392,0.5681911110878,0.56164526939392,0.54450929164886,0.52684158086777,0.51932972669601,0.52086544036865,0.52212244272232,0.52110111713409,0.51901388168335,0.51558256149292,0.51115763187408,0.50597333908081,0.50034165382385,0.49490505456924,0.49006345868111,0.48605632781982,0.48299643397331,0.48093485832214,0.47981756925583,0.47865411639214,0.47744876146317,0.47623851895332,0.47514253854752,0.47378522157669,0.47189661860466,0.46986585855484,0.46880221366882,0.46769714355469,0.4665245115757,0.46563971042633,0.46458038687706,0.46324950456619,0.46240726113319,0.46289539337158,0.46425014734268,0.46538588404655,0.46546906232834,0.46583944559097,0.46630185842514,0.46679151058197]},\"tags\":[],\"discrete_ranges\":{},\"cont_ranges\":{},\"doc\":null}},{\"type\":\"Line\",\"id\":\"301f2338-a1c2-4c58-cc98-182057a96f6c\",\"attributes\":{\"line_alpha\":{\"units\":\"data\",\"value\":1},\"size\":{\"units\":\"screen\",\"value\":10},\"line_color\":{\"value\":\"red\"},\"y\":{\"units\":\"data\",\"field\":\"y\"},\"fill_alpha\":{\"units\":\"data\",\"value\":0.2},\"fill_color\":{\"value\":\"red\"},\"tags\":[],\"x\":{\"units\":\"data\",\"field\":\"x\"},\"id\":\"301f2338-a1c2-4c58-cc98-182057a96f6c\",\"doc\":null}},{\"type\":\"Line\",\"id\":\"8b6b67c5-e00e-4490-c416-a57673f81715\",\"attributes\":{\"line_alpha\":{\"units\":\"data\",\"value\":1},\"size\":{\"units\":\"screen\",\"value\":10},\"line_color\":{\"value\":\"red\"},\"y\":{\"units\":\"data\",\"field\":\"y\"},\"fill_alpha\":{\"units\":\"data\",\"value\":0.2},\"fill_color\":{\"value\":\"red\"},\"tags\":[],\"x\":{\"units\":\"data\",\"field\":\"x\"},\"id\":\"8b6b67c5-e00e-4490-c416-a57673f81715\",\"doc\":null}},{\"type\":\"GlyphRenderer\",\"id\":\"33ded55f-7fa7-4751-c782-7aaada657ed0\",\"attributes\":{\"selection_glyph\":null,\"glyph\":{\"type\":\"Line\",\"id\":\"301f2338-a1c2-4c58-cc98-182057a96f6c\"},\"data_source\":{\"type\":\"ColumnDataSource\",\"id\":\"86869c1f-0f0a-49e0-c912-7fd55d4d5ad4\"},\"id\":\"33ded55f-7fa7-4751-c782-7aaada657ed0\",\"name\":null,\"tags\":[],\"server_data_source\":null,\"nonselection_glyph\":{\"type\":\"Line\",\"id\":\"8b6b67c5-e00e-4490-c416-a57673f81715\"},\"doc\":null}},{\"type\":\"DataRange1d\",\"id\":\"8ee9ff55-979a-4152-c12f-9a3ed2a05244\",\"attributes\":{\"tags\":[],\"id\":\"8ee9ff55-979a-4152-c12f-9a3ed2a05244\",\"sources\":[{\"columns\":[\"x\"],\"source\":{\"type\":\"ColumnDataSource\",\"id\":\"86869c1f-0f0a-49e0-c912-7fd55d4d5ad4\"}}],\"doc\":null}},{\"type\":\"DataRange1d\",\"id\":\"2816999b-d8f7-4a74-ca91-8918f10eccc2\",\"attributes\":{\"tags\":[],\"id\":\"2816999b-d8f7-4a74-ca91-8918f10eccc2\",\"sources\":[{\"columns\":[\"y\"],\"source\":{\"type\":\"ColumnDataSource\",\"id\":\"86869c1f-0f0a-49e0-c912-7fd55d4d5ad4\"}}],\"doc\":null}},{\"type\":\"ToolEvents\",\"id\":\"854438c7-7a87-437f-c397-06b64c11b635\",\"attributes\":{\"tags\":[],\"id\":\"854438c7-7a87-437f-c397-06b64c11b635\",\"geometries\":[],\"doc\":null}},{\"type\":\"BasicTickFormatter\",\"id\":\"ddfd3b3d-ce88-4704-c7f3-5ee5effd9ea6\",\"attributes\":{\"tags\":[],\"id\":\"ddfd3b3d-ce88-4704-c7f3-5ee5effd9ea6\",\"doc\":null}},{\"type\":\"BasicTicker\",\"id\":\"f30f8f3c-1832-4d05-cd5a-26790adff4b5\",\"attributes\":{\"tags\":[],\"id\":\"f30f8f3c-1832-4d05-cd5a-26790adff4b5\",\"num_minor_ticks\":5,\"doc\":null}},{\"type\":\"LinearAxis\",\"id\":\"98dcc07c-0877-40c7-c03d-a74acce609e4\",\"attributes\":{\"formatter\":{\"type\":\"BasicTickFormatter\",\"id\":\"ddfd3b3d-ce88-4704-c7f3-5ee5effd9ea6\"},\"id\":\"98dcc07c-0877-40c7-c03d-a74acce609e4\",\"axis_label\":null,\"tags\":[],\"plot\":{\"type\":\"Plot\",\"subtype\":\"Figure\",\"id\":\"8eb0850e-2ce8-48d2-c8b9-d78938144c6b\"},\"ticker\":{\"type\":\"BasicTicker\",\"id\":\"f30f8f3c-1832-4d05-cd5a-26790adff4b5\"},\"doc\":null}},{\"type\":\"Grid\",\"id\":\"d4c881f9-e43c-48e9-c828-f3002c3e7061\",\"attributes\":{\"ticker\":{\"type\":\"BasicTicker\",\"id\":\"f30f8f3c-1832-4d05-cd5a-26790adff4b5\"},\"id\":\"d4c881f9-e43c-48e9-c828-f3002c3e7061\",\"tags\":[],\"plot\":{\"type\":\"Plot\",\"subtype\":\"Figure\",\"id\":\"8eb0850e-2ce8-48d2-c8b9-d78938144c6b\"},\"dimension\":0,\"doc\":null}},{\"type\":\"BasicTickFormatter\",\"id\":\"6352042f-5b18-4c22-ccfa-a7f6e7a8ba27\",\"attributes\":{\"tags\":[],\"id\":\"6352042f-5b18-4c22-ccfa-a7f6e7a8ba27\",\"doc\":null}},{\"type\":\"BasicTicker\",\"id\":\"bb30f316-632c-4e7a-ce98-20947951e3ab\",\"attributes\":{\"tags\":[],\"id\":\"bb30f316-632c-4e7a-ce98-20947951e3ab\",\"num_minor_ticks\":5,\"doc\":null}},{\"type\":\"LinearAxis\",\"id\":\"f90e0cdd-3e6d-40d1-c0bf-6bdf64311790\",\"attributes\":{\"formatter\":{\"type\":\"BasicTickFormatter\",\"id\":\"6352042f-5b18-4c22-ccfa-a7f6e7a8ba27\"},\"id\":\"f90e0cdd-3e6d-40d1-c0bf-6bdf64311790\",\"axis_label\":null,\"tags\":[],\"plot\":{\"type\":\"Plot\",\"subtype\":\"Figure\",\"id\":\"8eb0850e-2ce8-48d2-c8b9-d78938144c6b\"},\"ticker\":{\"type\":\"BasicTicker\",\"id\":\"bb30f316-632c-4e7a-ce98-20947951e3ab\"},\"doc\":null}},{\"type\":\"Grid\",\"id\":\"069286f2-2bbc-4dbc-cd39-d80c56b00fdc\",\"attributes\":{\"ticker\":{\"type\":\"BasicTicker\",\"id\":\"bb30f316-632c-4e7a-ce98-20947951e3ab\"},\"id\":\"069286f2-2bbc-4dbc-cd39-d80c56b00fdc\",\"tags\":[],\"plot\":{\"type\":\"Plot\",\"subtype\":\"Figure\",\"id\":\"8eb0850e-2ce8-48d2-c8b9-d78938144c6b\"},\"dimension\":1,\"doc\":null}},{\"type\":\"PanTool\",\"id\":\"1282f1be-ab12-46c3-c6b8-4bba634c77f8\",\"attributes\":{\"dimensions\":[\"width\",\"height\"],\"id\":\"1282f1be-ab12-46c3-c6b8-4bba634c77f8\",\"tags\":[],\"plot\":{\"type\":\"Plot\",\"subtype\":\"Figure\",\"id\":\"8eb0850e-2ce8-48d2-c8b9-d78938144c6b\"},\"doc\":null}},{\"type\":\"WheelZoomTool\",\"id\":\"d8e1d5fe-874a-4b7c-cb73-a1c120117310\",\"attributes\":{\"dimensions\":[\"width\",\"height\"],\"id\":\"d8e1d5fe-874a-4b7c-cb73-a1c120117310\",\"tags\":[],\"plot\":{\"type\":\"Plot\",\"subtype\":\"Figure\",\"id\":\"8eb0850e-2ce8-48d2-c8b9-d78938144c6b\"},\"doc\":null}},{\"type\":\"BoxZoomTool\",\"id\":\"7db53f6b-62f7-408a-c0b7-a4a3691f74b1\",\"attributes\":{\"tags\":[],\"id\":\"7db53f6b-62f7-408a-c0b7-a4a3691f74b1\",\"plot\":{\"type\":\"Plot\",\"subtype\":\"Figure\",\"id\":\"8eb0850e-2ce8-48d2-c8b9-d78938144c6b\"},\"doc\":null}},{\"type\":\"PreviewSaveTool\",\"id\":\"5b0392a1-b753-4393-c38e-e774575a31d4\",\"attributes\":{\"tags\":[],\"id\":\"5b0392a1-b753-4393-c38e-e774575a31d4\",\"plot\":{\"type\":\"Plot\",\"subtype\":\"Figure\",\"id\":\"8eb0850e-2ce8-48d2-c8b9-d78938144c6b\"},\"doc\":null}},{\"type\":\"ResizeTool\",\"id\":\"81dc83a6-4c7d-442a-c41a-3fad90ae0947\",\"attributes\":{\"tags\":[],\"id\":\"81dc83a6-4c7d-442a-c41a-3fad90ae0947\",\"plot\":{\"type\":\"Plot\",\"subtype\":\"Figure\",\"id\":\"8eb0850e-2ce8-48d2-c8b9-d78938144c6b\"},\"doc\":null}},{\"type\":\"ResetTool\",\"id\":\"d12b8f7f-5311-451e-c5b2-cfb0d54eb963\",\"attributes\":{\"tags\":[],\"id\":\"d12b8f7f-5311-451e-c5b2-cfb0d54eb963\",\"plot\":{\"type\":\"Plot\",\"subtype\":\"Figure\",\"id\":\"8eb0850e-2ce8-48d2-c8b9-d78938144c6b\"},\"doc\":null}},{\"type\":\"Legend\",\"id\":\"3df0cf9f-4586-400f-c04d-35a670ae6acf\",\"attributes\":{\"id\":\"3df0cf9f-4586-400f-c04d-35a670ae6acf\",\"tags\":[],\"plot\":{\"type\":\"Plot\",\"subtype\":\"Figure\",\"id\":\"8eb0850e-2ce8-48d2-c8b9-d78938144c6b\"},\"legends\":[[\"train loss\",[{\"type\":\"GlyphRenderer\",\"id\":\"33ded55f-7fa7-4751-c782-7aaada657ed0\"}]]],\"doc\":null}},{\"type\":\"Plot\",\"id\":\"8eb0850e-2ce8-48d2-c8b9-d78938144c6b\",\"attributes\":{\"tool_events\":{\"type\":\"ToolEvents\",\"id\":\"854438c7-7a87-437f-c397-06b64c11b635\"},\"above\":[],\"extra_y_ranges\":{},\"extra_x_ranges\":{},\"left\":[{\"type\":\"LinearAxis\",\"id\":\"f90e0cdd-3e6d-40d1-c0bf-6bdf64311790\"}],\"y_range\":{\"type\":\"DataRange1d\",\"id\":\"2816999b-d8f7-4a74-ca91-8918f10eccc2\"},\"tools\":[{\"type\":\"PanTool\",\"id\":\"1282f1be-ab12-46c3-c6b8-4bba634c77f8\"},{\"type\":\"WheelZoomTool\",\"id\":\"d8e1d5fe-874a-4b7c-cb73-a1c120117310\"},{\"type\":\"BoxZoomTool\",\"id\":\"7db53f6b-62f7-408a-c0b7-a4a3691f74b1\"},{\"type\":\"PreviewSaveTool\",\"id\":\"5b0392a1-b753-4393-c38e-e774575a31d4\"},{\"type\":\"ResizeTool\",\"id\":\"81dc83a6-4c7d-442a-c41a-3fad90ae0947\"},{\"type\":\"ResetTool\",\"id\":\"d12b8f7f-5311-451e-c5b2-cfb0d54eb963\"}],\"below\":[{\"type\":\"LinearAxis\",\"id\":\"98dcc07c-0877-40c7-c03d-a74acce609e4\"}],\"id\":\"8eb0850e-2ce8-48d2-c8b9-d78938144c6b\",\"title\":\"Mean Square Error\",\"right\":[],\"tags\":[],\"x_range\":{\"type\":\"DataRange1d\",\"id\":\"8ee9ff55-979a-4152-c12f-9a3ed2a05244\"},\"renderers\":[{\"type\":\"GlyphRenderer\",\"id\":\"33ded55f-7fa7-4751-c782-7aaada657ed0\"},{\"type\":\"LinearAxis\",\"id\":\"98dcc07c-0877-40c7-c03d-a74acce609e4\"},{\"type\":\"Grid\",\"id\":\"d4c881f9-e43c-48e9-c828-f3002c3e7061\"},{\"type\":\"LinearAxis\",\"id\":\"f90e0cdd-3e6d-40d1-c0bf-6bdf64311790\"},{\"type\":\"Grid\",\"id\":\"069286f2-2bbc-4dbc-cd39-d80c56b00fdc\"},{\"type\":\"Legend\",\"id\":\"3df0cf9f-4586-400f-c04d-35a670ae6acf\"}],\"doc\":null}}];\n",
       "  Bokeh.load_models(all_models);\n",
       "  var model = Bokeh.Collections(modeltype).get(modelid);\n",
       "  $(\"#12df992f-796a-4ab0-ca50-ea564e0118de\").html(''); // clear any previous plot in window_id\n",
       "  var view = new model.default_view({model: model, el: \"#12df992f-796a-4ab0-ca50-ea564e0118de\"});\n",
       "    } else {\n",
       "  load_lib(bokehjs_url, function() {\n",
       "      console.log(\"Bokeh: BokehJS plotting callback run at\", new Date())\n",
       "      var modelid = \"8eb0850e-2ce8-48d2-c8b9-d78938144c6b\";\n",
       "      var modeltype = \"Plot\";\n",
       "      var all_models = [{\"type\":\"ColumnDataSource\",\"id\":\"86869c1f-0f0a-49e0-c912-7fd55d4d5ad4\",\"attributes\":{\"column_names\":[\"y\",\"x\"],\"id\":\"86869c1f-0f0a-49e0-c912-7fd55d4d5ad4\",\"selected\":[],\"data\":{\"x\":[1,2,3,4,5,6,7,8,9,10,11,12,13,14,15,16,17,18,19,20,21,22,23,24,25,26,27,28,29,30,31,32,33,34,35,36,37,38,39,40,41,42,43,44,45,46,47,48,49,50,51,52,53,54,55,56,57,58,59,60,61,62,63,64,65,66,67,68,69,70,71,72,73,74,75,76,77,78,79,80,81,82,83,84,85,86,87,88,89,90,91,92,93,94,95,96,97,98,99,100,101,102,103,104,105,106,107,108,109,110,111,112,113,114,115,116,117,118,119,120,121,122,123,124,125,126,127,128,129,130,131,132,133,134,135,136,137,138,139,140,141,142,143,144,145,146,147,148,149,150,151,152,153,154,155,156,157,158,159,160,161,162,163,164,165,166,167,168,169,170,171,172,173,174,175,176,177,178,179,180,181,182,183,184,185,186,187,188,189,190,191,192,193,194,195,196,197,198,199,200,201,202,203,204,205,206,207,208,209,210,211,212,213,214,215,216,217,218,219,220,221,222,223,224,225,226,227,228,229,230,231,232,233,234,235,236,237,238,239,240,241,242,243,244,245,246,247,248,249,250,251,252,253,254,255,256,257,258,259,260,261,262,263,264,265,266,267,268,269,270,271,272,273,274,275,276,277,278,279,280,281,282,283,284,285,286,287,288,289,290,291,292,293,294,295,296,297,298,299,300],\"y\":[2.6246738433838,2.7259650230408,2.8274078369141,2.8154559135437,2.7642283439636,2.588981628418,2.5050363540649,2.4070756435394,2.3025302886963,2.1964132785797,2.0683987140656,1.9450533390045,1.8450472354889,1.768917798996,1.7056312561035,1.6497782468796,1.6056809425354,1.5680733919144,1.5295453071594,1.4956985712051,1.5103104114532,1.4813092947006,1.4546484947205,1.4321336746216,1.4253154993057,1.4128354787827,1.3955007791519,1.3746348619461,1.3494005203247,1.319898724556,1.2908977270126,1.2642258405685,1.2430468797684,1.2262704372406,1.2153058052063,1.2166150808334,1.2228486537933,1.2331632375717,1.2449896335602,1.2534618377686,1.2560931444168,1.2571338415146,1.2596210241318,1.2636173963547,1.2628643512726,1.2576067447662,1.2517132759094,1.2479079961777,1.2427822351456,1.2340539693832,1.2231998443604,1.2116048336029,1.2010691165924,1.1927791833878,1.1872963905334,1.1839009523392,1.1791630983353,1.1725158691406,1.1645220518112,1.1560553312302,1.1463478803635,1.1266071796417,1.0933989286423,1.0519441366196,1.0160211324692,0.99681669473648,0.9917294383049,0.98650616407394,0.98266476392746,0.9789679646492,0.97469854354858,0.96971642971039,0.96260660886765,0.95242977142334,0.94010281562805,0.92817997932434,0.91927766799927,0.91392987966537,0.91371530294418,0.91866540908813,0.92406272888184,0.9288512468338,0.93157839775085,0.93114596605301,0.93032723665237,0.92901211977005,0.92848217487335,0.93068671226501,0.93302166461945,0.93721067905426,0.94523656368256,0.956090092659,0.96699702739716,0.97514241933823,0.97759175300598,0.9768842458725,0.9759846329689,0.97479915618896,0.97342967987061,0.97133386135101,0.96881741285324,0.96740937232971,0.96639293432236,0.965665102005,0.96485841274261,0.96369612216949,0.96189397573471,0.96045333147049,0.95884424448013,0.95425873994827,0.94600611925125,0.93522477149963,0.92330765724182,0.91257083415985,0.90421789884567,0.89851933717728,0.89483028650284,0.89270710945129,0.89217638969421,0.89190673828125,0.89201909303665,0.89304101467133,0.89459162950516,0.89594531059265,0.89672714471817,0.89849036931992,0.90098440647125,0.90212970972061,0.90251940488815,0.90168362855911,0.89977687597275,0.89664858579636,0.89072662591934,0.88253426551819,0.87506848573685,0.87016069889069,0.8684269785881,0.86709862947464,0.86612159013748,0.86592382192612,0.86604601144791,0.86638903617859,0.8668332695961,0.86702585220337,0.86639696359634,0.86458134651184,0.86175459623337,0.85997831821442,0.856993496418,0.85279506444931,0.84839540719986,0.84518945217133,0.8429673910141,0.84161621332169,0.8409765958786,0.84082359075546,0.84038776159286,0.83699685335159,0.8298282623291,0.82036083936691,0.81157302856445,0.80418819189072,0.80190885066986,0.80303972959518,0.80449497699738,0.80592614412308,0.80703765153885,0.80751067399979,0.80742275714874,0.80720967054367,0.80671471357346,0.80577337741852,0.80478650331497,0.80419903993607,0.8037623167038,0.80402588844299,0.80439656972885,0.80467307567596,0.80471056699753,0.80473673343658,0.80467873811722,0.80438035726547,0.80369806289673,0.80252891778946,0.80107253789902,0.79931205511093,0.79721760749817,0.79527944326401,0.79415482282639,0.79362094402313,0.79293406009674,0.79061752557755,0.78553611040115,0.77781015634537,0.7704029083252,0.76865494251251,0.76998668909073,0.7705682516098,0.77054464817047,0.77038109302521,0.7701455950737,0.76732707023621,0.76284611225128,0.7611455321312,0.76161020994186,0.76205569505692,0.76237058639526,0.76205724477768,0.76059484481812,0.75834423303604,0.75589567422867,0.75431537628174,0.75407832860947,0.75402009487152,0.75408393144608,0.75417178869247,0.75432896614075,0.75494718551636,0.75560092926025,0.75609302520752,0.75116902589798,0.73439937829971,0.7074471116066,0.67968088388443,0.6562123298645,0.639508664608,0.63677227497101,0.63373750448227,0.63065713644028,0.62788730859756,0.62590223550797,0.62436270713806,0.6232425570488,0.62248903512955,0.62234890460968,0.6225603222847,0.62292712926865,0.62356579303741,0.62476801872253,0.62648749351501,0.62857472896576,0.60341495275497,0.54273450374603,0.54504984617233,0.58304524421692,0.58384191989899,0.58423483371735,0.5837082862854,0.58222633600235,0.58035731315613,0.57857978343964,0.57669180631638,0.57467436790466,0.57270574569702,0.57108944654465,0.56999880075455,0.56910508871078,0.56830453872681,0.56755596399307,0.56730496883392,0.5681911110878,0.56164526939392,0.54450929164886,0.52684158086777,0.51932972669601,0.52086544036865,0.52212244272232,0.52110111713409,0.51901388168335,0.51558256149292,0.51115763187408,0.50597333908081,0.50034165382385,0.49490505456924,0.49006345868111,0.48605632781982,0.48299643397331,0.48093485832214,0.47981756925583,0.47865411639214,0.47744876146317,0.47623851895332,0.47514253854752,0.47378522157669,0.47189661860466,0.46986585855484,0.46880221366882,0.46769714355469,0.4665245115757,0.46563971042633,0.46458038687706,0.46324950456619,0.46240726113319,0.46289539337158,0.46425014734268,0.46538588404655,0.46546906232834,0.46583944559097,0.46630185842514,0.46679151058197]},\"tags\":[],\"discrete_ranges\":{},\"cont_ranges\":{},\"doc\":null}},{\"type\":\"Line\",\"id\":\"301f2338-a1c2-4c58-cc98-182057a96f6c\",\"attributes\":{\"line_alpha\":{\"units\":\"data\",\"value\":1},\"size\":{\"units\":\"screen\",\"value\":10},\"line_color\":{\"value\":\"red\"},\"y\":{\"units\":\"data\",\"field\":\"y\"},\"fill_alpha\":{\"units\":\"data\",\"value\":0.2},\"fill_color\":{\"value\":\"red\"},\"tags\":[],\"x\":{\"units\":\"data\",\"field\":\"x\"},\"id\":\"301f2338-a1c2-4c58-cc98-182057a96f6c\",\"doc\":null}},{\"type\":\"Line\",\"id\":\"8b6b67c5-e00e-4490-c416-a57673f81715\",\"attributes\":{\"line_alpha\":{\"units\":\"data\",\"value\":1},\"size\":{\"units\":\"screen\",\"value\":10},\"line_color\":{\"value\":\"red\"},\"y\":{\"units\":\"data\",\"field\":\"y\"},\"fill_alpha\":{\"units\":\"data\",\"value\":0.2},\"fill_color\":{\"value\":\"red\"},\"tags\":[],\"x\":{\"units\":\"data\",\"field\":\"x\"},\"id\":\"8b6b67c5-e00e-4490-c416-a57673f81715\",\"doc\":null}},{\"type\":\"GlyphRenderer\",\"id\":\"33ded55f-7fa7-4751-c782-7aaada657ed0\",\"attributes\":{\"selection_glyph\":null,\"glyph\":{\"type\":\"Line\",\"id\":\"301f2338-a1c2-4c58-cc98-182057a96f6c\"},\"data_source\":{\"type\":\"ColumnDataSource\",\"id\":\"86869c1f-0f0a-49e0-c912-7fd55d4d5ad4\"},\"id\":\"33ded55f-7fa7-4751-c782-7aaada657ed0\",\"name\":null,\"tags\":[],\"server_data_source\":null,\"nonselection_glyph\":{\"type\":\"Line\",\"id\":\"8b6b67c5-e00e-4490-c416-a57673f81715\"},\"doc\":null}},{\"type\":\"DataRange1d\",\"id\":\"8ee9ff55-979a-4152-c12f-9a3ed2a05244\",\"attributes\":{\"tags\":[],\"id\":\"8ee9ff55-979a-4152-c12f-9a3ed2a05244\",\"sources\":[{\"columns\":[\"x\"],\"source\":{\"type\":\"ColumnDataSource\",\"id\":\"86869c1f-0f0a-49e0-c912-7fd55d4d5ad4\"}}],\"doc\":null}},{\"type\":\"DataRange1d\",\"id\":\"2816999b-d8f7-4a74-ca91-8918f10eccc2\",\"attributes\":{\"tags\":[],\"id\":\"2816999b-d8f7-4a74-ca91-8918f10eccc2\",\"sources\":[{\"columns\":[\"y\"],\"source\":{\"type\":\"ColumnDataSource\",\"id\":\"86869c1f-0f0a-49e0-c912-7fd55d4d5ad4\"}}],\"doc\":null}},{\"type\":\"ToolEvents\",\"id\":\"854438c7-7a87-437f-c397-06b64c11b635\",\"attributes\":{\"tags\":[],\"id\":\"854438c7-7a87-437f-c397-06b64c11b635\",\"geometries\":[],\"doc\":null}},{\"type\":\"BasicTickFormatter\",\"id\":\"ddfd3b3d-ce88-4704-c7f3-5ee5effd9ea6\",\"attributes\":{\"tags\":[],\"id\":\"ddfd3b3d-ce88-4704-c7f3-5ee5effd9ea6\",\"doc\":null}},{\"type\":\"BasicTicker\",\"id\":\"f30f8f3c-1832-4d05-cd5a-26790adff4b5\",\"attributes\":{\"tags\":[],\"id\":\"f30f8f3c-1832-4d05-cd5a-26790adff4b5\",\"num_minor_ticks\":5,\"doc\":null}},{\"type\":\"LinearAxis\",\"id\":\"98dcc07c-0877-40c7-c03d-a74acce609e4\",\"attributes\":{\"formatter\":{\"type\":\"BasicTickFormatter\",\"id\":\"ddfd3b3d-ce88-4704-c7f3-5ee5effd9ea6\"},\"id\":\"98dcc07c-0877-40c7-c03d-a74acce609e4\",\"axis_label\":null,\"tags\":[],\"plot\":{\"type\":\"Plot\",\"subtype\":\"Figure\",\"id\":\"8eb0850e-2ce8-48d2-c8b9-d78938144c6b\"},\"ticker\":{\"type\":\"BasicTicker\",\"id\":\"f30f8f3c-1832-4d05-cd5a-26790adff4b5\"},\"doc\":null}},{\"type\":\"Grid\",\"id\":\"d4c881f9-e43c-48e9-c828-f3002c3e7061\",\"attributes\":{\"ticker\":{\"type\":\"BasicTicker\",\"id\":\"f30f8f3c-1832-4d05-cd5a-26790adff4b5\"},\"id\":\"d4c881f9-e43c-48e9-c828-f3002c3e7061\",\"tags\":[],\"plot\":{\"type\":\"Plot\",\"subtype\":\"Figure\",\"id\":\"8eb0850e-2ce8-48d2-c8b9-d78938144c6b\"},\"dimension\":0,\"doc\":null}},{\"type\":\"BasicTickFormatter\",\"id\":\"6352042f-5b18-4c22-ccfa-a7f6e7a8ba27\",\"attributes\":{\"tags\":[],\"id\":\"6352042f-5b18-4c22-ccfa-a7f6e7a8ba27\",\"doc\":null}},{\"type\":\"BasicTicker\",\"id\":\"bb30f316-632c-4e7a-ce98-20947951e3ab\",\"attributes\":{\"tags\":[],\"id\":\"bb30f316-632c-4e7a-ce98-20947951e3ab\",\"num_minor_ticks\":5,\"doc\":null}},{\"type\":\"LinearAxis\",\"id\":\"f90e0cdd-3e6d-40d1-c0bf-6bdf64311790\",\"attributes\":{\"formatter\":{\"type\":\"BasicTickFormatter\",\"id\":\"6352042f-5b18-4c22-ccfa-a7f6e7a8ba27\"},\"id\":\"f90e0cdd-3e6d-40d1-c0bf-6bdf64311790\",\"axis_label\":null,\"tags\":[],\"plot\":{\"type\":\"Plot\",\"subtype\":\"Figure\",\"id\":\"8eb0850e-2ce8-48d2-c8b9-d78938144c6b\"},\"ticker\":{\"type\":\"BasicTicker\",\"id\":\"bb30f316-632c-4e7a-ce98-20947951e3ab\"},\"doc\":null}},{\"type\":\"Grid\",\"id\":\"069286f2-2bbc-4dbc-cd39-d80c56b00fdc\",\"attributes\":{\"ticker\":{\"type\":\"BasicTicker\",\"id\":\"bb30f316-632c-4e7a-ce98-20947951e3ab\"},\"id\":\"069286f2-2bbc-4dbc-cd39-d80c56b00fdc\",\"tags\":[],\"plot\":{\"type\":\"Plot\",\"subtype\":\"Figure\",\"id\":\"8eb0850e-2ce8-48d2-c8b9-d78938144c6b\"},\"dimension\":1,\"doc\":null}},{\"type\":\"PanTool\",\"id\":\"1282f1be-ab12-46c3-c6b8-4bba634c77f8\",\"attributes\":{\"dimensions\":[\"width\",\"height\"],\"id\":\"1282f1be-ab12-46c3-c6b8-4bba634c77f8\",\"tags\":[],\"plot\":{\"type\":\"Plot\",\"subtype\":\"Figure\",\"id\":\"8eb0850e-2ce8-48d2-c8b9-d78938144c6b\"},\"doc\":null}},{\"type\":\"WheelZoomTool\",\"id\":\"d8e1d5fe-874a-4b7c-cb73-a1c120117310\",\"attributes\":{\"dimensions\":[\"width\",\"height\"],\"id\":\"d8e1d5fe-874a-4b7c-cb73-a1c120117310\",\"tags\":[],\"plot\":{\"type\":\"Plot\",\"subtype\":\"Figure\",\"id\":\"8eb0850e-2ce8-48d2-c8b9-d78938144c6b\"},\"doc\":null}},{\"type\":\"BoxZoomTool\",\"id\":\"7db53f6b-62f7-408a-c0b7-a4a3691f74b1\",\"attributes\":{\"tags\":[],\"id\":\"7db53f6b-62f7-408a-c0b7-a4a3691f74b1\",\"plot\":{\"type\":\"Plot\",\"subtype\":\"Figure\",\"id\":\"8eb0850e-2ce8-48d2-c8b9-d78938144c6b\"},\"doc\":null}},{\"type\":\"PreviewSaveTool\",\"id\":\"5b0392a1-b753-4393-c38e-e774575a31d4\",\"attributes\":{\"tags\":[],\"id\":\"5b0392a1-b753-4393-c38e-e774575a31d4\",\"plot\":{\"type\":\"Plot\",\"subtype\":\"Figure\",\"id\":\"8eb0850e-2ce8-48d2-c8b9-d78938144c6b\"},\"doc\":null}},{\"type\":\"ResizeTool\",\"id\":\"81dc83a6-4c7d-442a-c41a-3fad90ae0947\",\"attributes\":{\"tags\":[],\"id\":\"81dc83a6-4c7d-442a-c41a-3fad90ae0947\",\"plot\":{\"type\":\"Plot\",\"subtype\":\"Figure\",\"id\":\"8eb0850e-2ce8-48d2-c8b9-d78938144c6b\"},\"doc\":null}},{\"type\":\"ResetTool\",\"id\":\"d12b8f7f-5311-451e-c5b2-cfb0d54eb963\",\"attributes\":{\"tags\":[],\"id\":\"d12b8f7f-5311-451e-c5b2-cfb0d54eb963\",\"plot\":{\"type\":\"Plot\",\"subtype\":\"Figure\",\"id\":\"8eb0850e-2ce8-48d2-c8b9-d78938144c6b\"},\"doc\":null}},{\"type\":\"Legend\",\"id\":\"3df0cf9f-4586-400f-c04d-35a670ae6acf\",\"attributes\":{\"id\":\"3df0cf9f-4586-400f-c04d-35a670ae6acf\",\"tags\":[],\"plot\":{\"type\":\"Plot\",\"subtype\":\"Figure\",\"id\":\"8eb0850e-2ce8-48d2-c8b9-d78938144c6b\"},\"legends\":[[\"train loss\",[{\"type\":\"GlyphRenderer\",\"id\":\"33ded55f-7fa7-4751-c782-7aaada657ed0\"}]]],\"doc\":null}},{\"type\":\"Plot\",\"id\":\"8eb0850e-2ce8-48d2-c8b9-d78938144c6b\",\"attributes\":{\"tool_events\":{\"type\":\"ToolEvents\",\"id\":\"854438c7-7a87-437f-c397-06b64c11b635\"},\"above\":[],\"extra_y_ranges\":{},\"extra_x_ranges\":{},\"left\":[{\"type\":\"LinearAxis\",\"id\":\"f90e0cdd-3e6d-40d1-c0bf-6bdf64311790\"}],\"y_range\":{\"type\":\"DataRange1d\",\"id\":\"2816999b-d8f7-4a74-ca91-8918f10eccc2\"},\"tools\":[{\"type\":\"PanTool\",\"id\":\"1282f1be-ab12-46c3-c6b8-4bba634c77f8\"},{\"type\":\"WheelZoomTool\",\"id\":\"d8e1d5fe-874a-4b7c-cb73-a1c120117310\"},{\"type\":\"BoxZoomTool\",\"id\":\"7db53f6b-62f7-408a-c0b7-a4a3691f74b1\"},{\"type\":\"PreviewSaveTool\",\"id\":\"5b0392a1-b753-4393-c38e-e774575a31d4\"},{\"type\":\"ResizeTool\",\"id\":\"81dc83a6-4c7d-442a-c41a-3fad90ae0947\"},{\"type\":\"ResetTool\",\"id\":\"d12b8f7f-5311-451e-c5b2-cfb0d54eb963\"}],\"below\":[{\"type\":\"LinearAxis\",\"id\":\"98dcc07c-0877-40c7-c03d-a74acce609e4\"}],\"id\":\"8eb0850e-2ce8-48d2-c8b9-d78938144c6b\",\"title\":\"Mean Square Error\",\"right\":[],\"tags\":[],\"x_range\":{\"type\":\"DataRange1d\",\"id\":\"8ee9ff55-979a-4152-c12f-9a3ed2a05244\"},\"renderers\":[{\"type\":\"GlyphRenderer\",\"id\":\"33ded55f-7fa7-4751-c782-7aaada657ed0\"},{\"type\":\"LinearAxis\",\"id\":\"98dcc07c-0877-40c7-c03d-a74acce609e4\"},{\"type\":\"Grid\",\"id\":\"d4c881f9-e43c-48e9-c828-f3002c3e7061\"},{\"type\":\"LinearAxis\",\"id\":\"f90e0cdd-3e6d-40d1-c0bf-6bdf64311790\"},{\"type\":\"Grid\",\"id\":\"069286f2-2bbc-4dbc-cd39-d80c56b00fdc\"},{\"type\":\"Legend\",\"id\":\"3df0cf9f-4586-400f-c04d-35a670ae6acf\"}],\"doc\":null}}];\n",
       "      Bokeh.load_models(all_models);\n",
       "      var model = Bokeh.Collections(modeltype).get(modelid);\n",
       "      $(\"#12df992f-796a-4ab0-ca50-ea564e0118de\").html(''); // clear any previous plot in window_id\n",
       "      var view = new model.default_view({model: model, el: \"#12df992f-796a-4ab0-ca50-ea564e0118de\"});\n",
       "  });\n",
       "    }\n",
       "});\n",
       "</script>\n",
       "<div class=\"plotdiv\" id=\"12df992f-796a-4ab0-ca50-ea564e0118de\"></div>\n"
      ]
     },
     "metadata": {},
     "output_type": "display_data"
    }
   ],
   "source": [
    "local t2 = torch.range(1,dif:narrow(1,101,300):size(1))\n",
    "local plot = Plot()\n",
    "\n",
    "plot:line(t2,dif:narrow(1,101,300),'red' ,'train loss')\n",
    "---plot:line(t2,test_loss1,'blue' ,'test loss')\n",
    "plot:legend(true):title('Mean Square Error')\n",
    "plot:draw()"
   ]
  },
  {
   "cell_type": "code",
   "execution_count": 108,
   "metadata": {
    "collapsed": true
   },
   "outputs": [],
   "source": [
    "function compare_two_trees2(table1,table2)\n",
    "    local difference = {}\n",
    "    for i = 500,#table2 do\n",
    "\n",
    "        table.insert(difference, torch.sqrt(torch.sum(torch.pow((table1[i-400] - table2[i]),2))))\n",
    "---        print(difference[i])    \n",
    "    end\n",
    "    return torch.FloatTensor(difference)\n",
    "end"
   ]
  },
  {
   "cell_type": "code",
   "execution_count": 109,
   "metadata": {},
   "outputs": [],
   "source": [
    "diff = compare_two_trees2(tree_cfr.total_strategies,tree_cfr1.total_strategies)\n",
    "diff_nn = compare_two_trees2(tree_cfr0.total_strategies,tree_cfr1.total_strategies)"
   ]
  },
  {
   "cell_type": "code",
   "execution_count": 134,
   "metadata": {},
   "outputs": [
    {
     "data": {
      "text/html": [
       "<script type=\"text/javascript\">\n",
       "$(function() {\n",
       "    if (typeof (window._bokeh_onload_callbacks) === \"undefined\"){\n",
       "  window._bokeh_onload_callbacks = [];\n",
       "    }\n",
       "    function load_lib(url, callback){\n",
       "  window._bokeh_onload_callbacks.push(callback);\n",
       "  if (window._bokeh_is_loading){\n",
       "      console.log(\"Bokeh: BokehJS is being loaded, scheduling callback at\", new Date());\n",
       "      return null;\n",
       "  }\n",
       "  console.log(\"Bokeh: BokehJS not loaded, scheduling load and callback at\", new Date());\n",
       "  window._bokeh_is_loading = true;\n",
       "  var s = document.createElement('script');\n",
       "  s.src = url;\n",
       "  s.async = true;\n",
       "  s.onreadystatechange = s.onload = function(){\n",
       "      Bokeh.embed.inject_css(\"https://cdn.pydata.org/bokeh-0.7.0.min.css\");\n",
       "      window._bokeh_onload_callbacks.forEach(function(callback){callback()});\n",
       "  };\n",
       "  s.onerror = function(){\n",
       "      console.warn(\"failed to load library \" + url);\n",
       "  };\n",
       "  document.getElementsByTagName(\"head\")[0].appendChild(s);\n",
       "    }\n",
       "\n",
       "    bokehjs_url = \"https://cdn.pydata.org/bokeh-0.7.0.min.js\"\n",
       "\n",
       "    var elt = document.getElementById(\"2821eb7a-7338-4127-c1ed-ab7799c09774\");\n",
       "    if(elt==null) {\n",
       "  console.log(\"Bokeh: ERROR: autoload.js configured with elementid '2821eb7a-7338-4127-c1ed-ab7799c09774'\"\n",
       "        + \"but no matching script tag was found. \")\n",
       "  return false;\n",
       "    }\n",
       "\n",
       "    if(typeof(Bokeh) !== \"undefined\") {\n",
       "  console.log(\"Bokeh: BokehJS loaded, going straight to plotting\");\n",
       "  var modelid = \"bd3aebc1-caee-4598-c518-78ff43ed551e\";\n",
       "  var modeltype = \"Plot\";\n",
       "  var all_models = [{\"type\":\"ColumnDataSource\",\"id\":\"91877d44-c1e2-4354-c31a-d45184e84b4a\",\"attributes\":{\"column_names\":[\"y\",\"x\"],\"id\":\"91877d44-c1e2-4354-c31a-d45184e84b4a\",\"selected\":[],\"data\":{\"x\":[2,3,4,5,6,7,8,9,10,11,12,13,14,15,16,17,18,19,20,21,22,23,24,25,26,27,28,29,30,31,32,33,34,35,36,37,38,39,40,41,42,43,44,45,46,47,48,49,50,51,52,53,54,55,56,57,58,59,60,61,62,63,64,65,66,67,68,69,70,71,72,73,74,75,76,77,78,79,80,81,82,83,84,85,86,87,88,89,90,91,92,93,94,95,96,97,98,99,100,101,102,103,104,105,106,107,108,109,110,111,112,113,114,115,116,117,118,119,120,121,122,123,124,125,126,127,128,129,130,131,132,133,134,135,136,137,138,139,140,141,142,143,144,145,146,147,148,149,150,151,152,153,154,155,156,157,158,159,160,161,162,163,164,165,166,167,168,169,170,171,172,173,174,175,176,177,178,179,180,181,182,183,184,185,186,187,188,189,190,191,192,193,194,195,196,197,198,199,200,201],\"y\":[0.34659862518311,0.34632822871208,0.34606131911278,0.34579822421074,0.34553915262222,0.3452672958374,0.34467417001724,0.34356799721718,0.34195199608803,0.34007978439331,0.3384293615818,0.33759698271751,0.3372163772583,0.33680352568626,0.33639052510262,0.33600577712059,0.33560964465141,0.33521071076393,0.33482038974762,0.33444166183472,0.33407628536224,0.33373475074768,0.33343023061752,0.33316805958748,0.33289703726768,0.33258685469627,0.33220487833023,0.33173072338104,0.33114695549011,0.33047273755074,0.32978278398514,0.32910212874413,0.32831707596779,0.32743507623672,0.32649248838425,0.32557085156441,0.32477778196335,0.32412350177765,0.32355418801308,0.32306307554245,0.32264491915703,0.32228970527649,0.32197761535645,0.32169914245605,0.32145172357559,0.32120415568352,0.32096153497696,0.32073271274567,0.32049161195755,0.32024466991425,0.32000449299812,0.31977275013924,0.31954383850098,0.31930303573608,0.31902694702148,0.31871181726456,0.31837141513824,0.31801635026932,0.31764206290245,0.31727233529091,0.31693509221077,0.31661987304688,0.31633114814758,0.31607761979103,0.31587338447571,0.31573963165283,0.31563359498978,0.31553763151169,0.3154422044754,0.31534013152122,0.31522193551064,0.31508502364159,0.31492850184441,0.31473580002785,0.31449043750763,0.31418055295944,0.31382164359093,0.31343924999237,0.31306341290474,0.31272739171982,0.31250211596489,0.31229573488235,0.31205272674561,0.31176626682281,0.3114709854126,0.31116905808449,0.31086573004723,0.31056991219521,0.31029513478279,0.31004804372787,0.30982908606529,0.30963876843452,0.30947735905647,0.30934724211693,0.30921670794487,0.30908218026161,0.30894520878792,0.30880686640739,0.30866867303848,0.30852818489075,0.30838459730148,0.30823662877083,0.30807808041573,0.30789515376091,0.30768257379532,0.30746084451675,0.30728974938393,0.30720344185829,0.30717706680298,0.30716636776924,0.30711334943771,0.30705642700195,0.30698963999748,0.30689996480942,0.30677017569542,0.30662322044373,0.30650305747986,0.30640479922295,0.30630519986153,0.30619961023331,0.30608782172203,0.30596235394478,0.30581620335579,0.30564370751381,0.3054051399231,0.30508342385292,0.30471700429916,0.30440133810043,0.30419874191284,0.30399921536446,0.30380699038506,0.30363556742668,0.30347582697868,0.30332514643669,0.3031884431839,0.30306199193001,0.30294623970985,0.30284398794174,0.30276137590408,0.30269858241081,0.30263975262642,0.30258134007454,0.30252119898796,0.30245718359947,0.30238965153694,0.30231881141663,0.3022435605526,0.30215501785278,0.30200380086899,0.30162593722343,0.3009030520916,0.29985666275024,0.29872593283653,0.29787895083427,0.29768124222755,0.29750683903694,0.29732683300972,0.29714864492416,0.29697832465172,0.29680669307709,0.29663726687431,0.29647967219353,0.29633089900017,0.29618442058563,0.29605162143707,0.29592967033386,0.2958250939846,0.29572969675064,0.29563900828362,0.29555454850197,0.29546317458153,0.29536390304565,0.29526236653328,0.2951488494873,0.29501268267632,0.29486402869225,0.29470983147621,0.29454511404037,0.29437229037285,0.29420387744904,0.29403913021088,0.29388076066971,0.29372745752335,0.29358080029488,0.29344293475151,0.29331824183464,0.29321101307869,0.29312327504158,0.2930500805378,0.29299038648605,0.29294565320015,0.29291659593582,0.29289269447327,0.29286882281303,0.29284396767616,0.29281824827194,0.29279157519341,0.292760014534,0.29271632432938,0.29244384169579]},\"tags\":[],\"discrete_ranges\":{},\"cont_ranges\":{},\"doc\":null}},{\"type\":\"Line\",\"id\":\"550b67e4-2199-474f-c71f-deabe06a145b\",\"attributes\":{\"line_alpha\":{\"units\":\"data\",\"value\":1},\"size\":{\"units\":\"screen\",\"value\":10},\"line_color\":{\"value\":\"red\"},\"y\":{\"units\":\"data\",\"field\":\"y\"},\"fill_alpha\":{\"units\":\"data\",\"value\":0.2},\"fill_color\":{\"value\":\"red\"},\"tags\":[],\"x\":{\"units\":\"data\",\"field\":\"x\"},\"id\":\"550b67e4-2199-474f-c71f-deabe06a145b\",\"doc\":null}},{\"type\":\"Line\",\"id\":\"e5b10313-0a66-431a-c3a5-8f05ea4a2b77\",\"attributes\":{\"line_alpha\":{\"units\":\"data\",\"value\":1},\"size\":{\"units\":\"screen\",\"value\":10},\"line_color\":{\"value\":\"red\"},\"y\":{\"units\":\"data\",\"field\":\"y\"},\"fill_alpha\":{\"units\":\"data\",\"value\":0.2},\"fill_color\":{\"value\":\"red\"},\"tags\":[],\"x\":{\"units\":\"data\",\"field\":\"x\"},\"id\":\"e5b10313-0a66-431a-c3a5-8f05ea4a2b77\",\"doc\":null}},{\"type\":\"GlyphRenderer\",\"id\":\"c63a0b70-de68-4d26-cd64-f4994964df22\",\"attributes\":{\"selection_glyph\":null,\"glyph\":{\"type\":\"Line\",\"id\":\"550b67e4-2199-474f-c71f-deabe06a145b\"},\"data_source\":{\"type\":\"ColumnDataSource\",\"id\":\"91877d44-c1e2-4354-c31a-d45184e84b4a\"},\"id\":\"c63a0b70-de68-4d26-cd64-f4994964df22\",\"name\":null,\"tags\":[],\"server_data_source\":null,\"nonselection_glyph\":{\"type\":\"Line\",\"id\":\"e5b10313-0a66-431a-c3a5-8f05ea4a2b77\"},\"doc\":null}},{\"type\":\"ColumnDataSource\",\"id\":\"1d471c9f-985b-4555-c528-66d22ae0534f\",\"attributes\":{\"column_names\":[\"y\",\"x\"],\"id\":\"1d471c9f-985b-4555-c528-66d22ae0534f\",\"selected\":[],\"data\":{\"x\":[2,3,4,5,6,7,8,9,10,11,12,13,14,15,16,17,18,19,20,21,22,23,24,25,26,27,28,29,30,31,32,33,34,35,36,37,38,39,40,41,42,43,44,45,46,47,48,49,50,51,52,53,54,55,56,57,58,59,60,61,62,63,64,65,66,67,68,69,70,71,72,73,74,75,76,77,78,79,80,81,82,83,84,85,86,87,88,89,90,91,92,93,94,95,96,97,98,99,100,101,102,103,104,105,106,107,108,109,110,111,112,113,114,115,116,117,118,119,120,121,122,123,124,125,126,127,128,129,130,131,132,133,134,135,136,137,138,139,140,141,142,143,144,145,146,147,148,149,150,151,152,153,154,155,156,157,158,159,160,161,162,163,164,165,166,167,168,169,170,171,172,173,174,175,176,177,178,179,180,181,182,183,184,185,186,187,188,189,190,191,192,193,194,195,196,197,198,199,200,201],\"y\":[2.3779997825623,2.2725691795349,2.145054101944,2.022296667099,1.9232252836227,1.8480513095856,1.7870209217072,1.733922958374,1.6915738582611,1.6549338102341,1.618017911911,1.586027264595,1.6548941135406,1.627693772316,1.602565407753,1.5809379816055,1.5729407072067,1.5583097934723,1.5388405323029,1.5166741609573,1.4908239841461,1.4621071815491,1.4352885484695,1.4118647575378,1.3934012651443,1.3781603574753,1.3688281774521,1.3717089891434,1.3785916566849,1.389554142952,1.4013067483902,1.4090467691422,1.410573720932,1.4105104207993,1.4119104146957,1.4150100946426,1.4145261049271,1.4109896421432,1.4074032306671,1.4055743217468,1.4020863771439,1.3943175077438,1.3844590187073,1.373882651329,1.3643122911453,1.3568655252457,1.3520662784576,1.3492662906647,1.3453100919724,1.3396666049957,1.3328615427017,1.3258094787598,1.3179142475128,1.3013657331467,1.273135304451,1.2376754283905,1.2071915864944,1.1913570165634,1.1876268386841,1.1833883523941,1.1801971197128,1.1771229505539,1.1734877824783,1.1690264940262,1.1624035835266,1.1526916027069,1.1407630443573,1.1293067932129,1.1210726499557,1.116353392601,1.1164481639862,1.1213316917419,1.1267449855804,1.1316857337952,1.1347477436066,1.1346920728683,1.1341086626053,1.1329870223999,1.1324739456177,1.1342351436615,1.1361249685287,1.1396615505219,1.1465511322021,1.1558654308319,1.1651045084,1.1718199253082,1.1734591722488,1.1724035739899,1.1713670492172,1.1702374219894,1.1689492464066,1.1670128107071,1.1646980047226,1.16339802742,1.162416100502,1.1616611480713,1.1608153581619,1.1596336364746,1.1578594446182,1.1563085317612,1.1544905900955,1.1499341726303,1.1420449018478,1.1319978237152,1.1209152936935,1.1108946800232,1.1031000614166,1.0976634025574,1.0939166545868,1.091535449028,1.0906627178192,1.0900259017944,1.0897564888,1.0903013944626,1.0913659334183,1.0923098325729,1.0927834510803,1.0941517353058,1.0962034463882,1.0971281528473,1.0973769426346,1.0964369773865,1.0944745540619,1.0914877653122,1.0863007307053,1.0793335437775,1.0728352069855,1.0686845779419,1.067377448082,1.0663183927536,1.0653228759766,1.0650480985641,1.0650925636292,1.0654479265213,1.0659877061844,1.0664125680923,1.0661536455154,1.0648145675659,1.0624072551727,1.0606741905212,1.0577921867371,1.0537792444229,1.0496462583542,1.0467270612717,1.0447503328323,1.0435985326767,1.0430934429169,1.0430026054382,1.0426068305969,1.0394598245621,1.032710313797,1.0236248970032,1.0150094032288,1.0078902244568,1.0058244466782,1.0066680908203,1.0077377557755,1.0087835788727,1.0095378160477,1.0097345113754,1.00943338871,1.0089998245239,1.0083235502243,1.0073469877243,1.0064321756363,1.0059580802917,1.0055866241455,1.0057338476181,1.0060411691666,1.0063205957413,1.00645840168,1.0066422224045,1.0067224502563,1.0065474510193,1.0059778690338,1.0049279928207,1.0035618543625,1.0018696784973,0.99982041120529,0.99790471792221,0.99673908948898,0.99619746208191,0.99558860063553,0.99363106489182,0.98936295509338,0.98287856578827,0.97669041156769,0.97530633211136,0.97652447223663,0.97708642482758,0.97710430622101,0.97697335481644,0.97675865888596,0.97433072328568,0.970458984375,0.96890503168106,0.96918165683746,0.96943801641464,0.96958857774734,0.9689553976059]},\"tags\":[],\"discrete_ranges\":{},\"cont_ranges\":{},\"doc\":null}},{\"type\":\"Line\",\"id\":\"5fd973d5-69cd-4203-c276-3f92b13ec300\",\"attributes\":{\"line_alpha\":{\"units\":\"data\",\"value\":1},\"size\":{\"units\":\"screen\",\"value\":10},\"line_color\":{\"value\":\"blue\"},\"y\":{\"units\":\"data\",\"field\":\"y\"},\"fill_alpha\":{\"units\":\"data\",\"value\":0.2},\"fill_color\":{\"value\":\"blue\"},\"tags\":[],\"x\":{\"units\":\"data\",\"field\":\"x\"},\"id\":\"5fd973d5-69cd-4203-c276-3f92b13ec300\",\"doc\":null}},{\"type\":\"Line\",\"id\":\"38540f91-46c8-4929-c9f1-283ed9008011\",\"attributes\":{\"line_alpha\":{\"units\":\"data\",\"value\":1},\"size\":{\"units\":\"screen\",\"value\":10},\"line_color\":{\"value\":\"blue\"},\"y\":{\"units\":\"data\",\"field\":\"y\"},\"fill_alpha\":{\"units\":\"data\",\"value\":0.2},\"fill_color\":{\"value\":\"blue\"},\"tags\":[],\"x\":{\"units\":\"data\",\"field\":\"x\"},\"id\":\"38540f91-46c8-4929-c9f1-283ed9008011\",\"doc\":null}},{\"type\":\"GlyphRenderer\",\"id\":\"cd0df925-3737-46bf-c6d8-ac4ea5e789f0\",\"attributes\":{\"selection_glyph\":null,\"glyph\":{\"type\":\"Line\",\"id\":\"5fd973d5-69cd-4203-c276-3f92b13ec300\"},\"data_source\":{\"type\":\"ColumnDataSource\",\"id\":\"1d471c9f-985b-4555-c528-66d22ae0534f\"},\"id\":\"cd0df925-3737-46bf-c6d8-ac4ea5e789f0\",\"name\":null,\"tags\":[],\"server_data_source\":null,\"nonselection_glyph\":{\"type\":\"Line\",\"id\":\"38540f91-46c8-4929-c9f1-283ed9008011\"},\"doc\":null}},{\"type\":\"DataRange1d\",\"id\":\"b473efda-cf9e-44e8-c48e-faae2ee2d5cd\",\"attributes\":{\"tags\":[],\"id\":\"b473efda-cf9e-44e8-c48e-faae2ee2d5cd\",\"sources\":[{\"columns\":[\"x\"],\"source\":{\"type\":\"ColumnDataSource\",\"id\":\"91877d44-c1e2-4354-c31a-d45184e84b4a\"}},{\"columns\":[\"x\"],\"source\":{\"type\":\"ColumnDataSource\",\"id\":\"1d471c9f-985b-4555-c528-66d22ae0534f\"}}],\"doc\":null}},{\"type\":\"DataRange1d\",\"id\":\"20d294d7-1567-45ce-c528-204340bdea6d\",\"attributes\":{\"tags\":[],\"id\":\"20d294d7-1567-45ce-c528-204340bdea6d\",\"sources\":[{\"columns\":[\"y\"],\"source\":{\"type\":\"ColumnDataSource\",\"id\":\"91877d44-c1e2-4354-c31a-d45184e84b4a\"}},{\"columns\":[\"y\"],\"source\":{\"type\":\"ColumnDataSource\",\"id\":\"1d471c9f-985b-4555-c528-66d22ae0534f\"}}],\"doc\":null}},{\"type\":\"ToolEvents\",\"id\":\"fcfece1e-de66-4e38-ce26-a8c1016ab0d3\",\"attributes\":{\"tags\":[],\"id\":\"fcfece1e-de66-4e38-ce26-a8c1016ab0d3\",\"geometries\":[],\"doc\":null}},{\"type\":\"BasicTickFormatter\",\"id\":\"071374e9-e793-4fd2-cf0e-eeccb5a216c6\",\"attributes\":{\"tags\":[],\"id\":\"071374e9-e793-4fd2-cf0e-eeccb5a216c6\",\"doc\":null}},{\"type\":\"BasicTicker\",\"id\":\"9ec4d0a7-ec57-48df-c889-d8460c3d6c66\",\"attributes\":{\"tags\":[],\"id\":\"9ec4d0a7-ec57-48df-c889-d8460c3d6c66\",\"num_minor_ticks\":5,\"doc\":null}},{\"type\":\"LinearAxis\",\"id\":\"dcdf03b6-eed4-4a85-caf2-01286a4495b7\",\"attributes\":{\"formatter\":{\"type\":\"BasicTickFormatter\",\"id\":\"071374e9-e793-4fd2-cf0e-eeccb5a216c6\"},\"id\":\"dcdf03b6-eed4-4a85-caf2-01286a4495b7\",\"axis_label\":null,\"tags\":[],\"plot\":{\"type\":\"Plot\",\"subtype\":\"Figure\",\"id\":\"bd3aebc1-caee-4598-c518-78ff43ed551e\"},\"ticker\":{\"type\":\"BasicTicker\",\"id\":\"9ec4d0a7-ec57-48df-c889-d8460c3d6c66\"},\"doc\":null}},{\"type\":\"Grid\",\"id\":\"d81c7ec9-f577-42ce-c25d-f6043293fb20\",\"attributes\":{\"ticker\":{\"type\":\"BasicTicker\",\"id\":\"9ec4d0a7-ec57-48df-c889-d8460c3d6c66\"},\"id\":\"d81c7ec9-f577-42ce-c25d-f6043293fb20\",\"tags\":[],\"plot\":{\"type\":\"Plot\",\"subtype\":\"Figure\",\"id\":\"bd3aebc1-caee-4598-c518-78ff43ed551e\"},\"dimension\":0,\"doc\":null}},{\"type\":\"BasicTickFormatter\",\"id\":\"eb5c7902-a68d-43b3-c3a4-e51f2e622a27\",\"attributes\":{\"tags\":[],\"id\":\"eb5c7902-a68d-43b3-c3a4-e51f2e622a27\",\"doc\":null}},{\"type\":\"BasicTicker\",\"id\":\"af54b7f1-9f9e-4774-c77c-e60c0a709ecb\",\"attributes\":{\"tags\":[],\"id\":\"af54b7f1-9f9e-4774-c77c-e60c0a709ecb\",\"num_minor_ticks\":5,\"doc\":null}},{\"type\":\"LinearAxis\",\"id\":\"b9c75cc8-8334-436d-c318-7bb6f7383fd1\",\"attributes\":{\"formatter\":{\"type\":\"BasicTickFormatter\",\"id\":\"eb5c7902-a68d-43b3-c3a4-e51f2e622a27\"},\"id\":\"b9c75cc8-8334-436d-c318-7bb6f7383fd1\",\"axis_label\":null,\"tags\":[],\"plot\":{\"type\":\"Plot\",\"subtype\":\"Figure\",\"id\":\"bd3aebc1-caee-4598-c518-78ff43ed551e\"},\"ticker\":{\"type\":\"BasicTicker\",\"id\":\"af54b7f1-9f9e-4774-c77c-e60c0a709ecb\"},\"doc\":null}},{\"type\":\"Grid\",\"id\":\"e7b2a48e-da2d-4060-c029-2de0aa393a15\",\"attributes\":{\"ticker\":{\"type\":\"BasicTicker\",\"id\":\"af54b7f1-9f9e-4774-c77c-e60c0a709ecb\"},\"id\":\"e7b2a48e-da2d-4060-c029-2de0aa393a15\",\"tags\":[],\"plot\":{\"type\":\"Plot\",\"subtype\":\"Figure\",\"id\":\"bd3aebc1-caee-4598-c518-78ff43ed551e\"},\"dimension\":1,\"doc\":null}},{\"type\":\"PanTool\",\"id\":\"aca3ae6c-7c91-41ea-c1cb-9a00db37c5b3\",\"attributes\":{\"dimensions\":[\"width\",\"height\"],\"id\":\"aca3ae6c-7c91-41ea-c1cb-9a00db37c5b3\",\"tags\":[],\"plot\":{\"type\":\"Plot\",\"subtype\":\"Figure\",\"id\":\"bd3aebc1-caee-4598-c518-78ff43ed551e\"},\"doc\":null}},{\"type\":\"WheelZoomTool\",\"id\":\"c3eaab76-6292-4c28-cc94-be74b87987fe\",\"attributes\":{\"dimensions\":[\"width\",\"height\"],\"id\":\"c3eaab76-6292-4c28-cc94-be74b87987fe\",\"tags\":[],\"plot\":{\"type\":\"Plot\",\"subtype\":\"Figure\",\"id\":\"bd3aebc1-caee-4598-c518-78ff43ed551e\"},\"doc\":null}},{\"type\":\"BoxZoomTool\",\"id\":\"818091bb-af50-4e05-ceb4-e96e9ca53d54\",\"attributes\":{\"tags\":[],\"id\":\"818091bb-af50-4e05-ceb4-e96e9ca53d54\",\"plot\":{\"type\":\"Plot\",\"subtype\":\"Figure\",\"id\":\"bd3aebc1-caee-4598-c518-78ff43ed551e\"},\"doc\":null}},{\"type\":\"PreviewSaveTool\",\"id\":\"bc292741-99d3-4fa1-cf3f-b05b101f3a78\",\"attributes\":{\"tags\":[],\"id\":\"bc292741-99d3-4fa1-cf3f-b05b101f3a78\",\"plot\":{\"type\":\"Plot\",\"subtype\":\"Figure\",\"id\":\"bd3aebc1-caee-4598-c518-78ff43ed551e\"},\"doc\":null}},{\"type\":\"ResizeTool\",\"id\":\"a8d1bfe5-c66e-47f7-c731-fcf1fd0e7e2c\",\"attributes\":{\"tags\":[],\"id\":\"a8d1bfe5-c66e-47f7-c731-fcf1fd0e7e2c\",\"plot\":{\"type\":\"Plot\",\"subtype\":\"Figure\",\"id\":\"bd3aebc1-caee-4598-c518-78ff43ed551e\"},\"doc\":null}},{\"type\":\"ResetTool\",\"id\":\"2230721e-c6ac-46c8-c69b-10c369c7b48e\",\"attributes\":{\"tags\":[],\"id\":\"2230721e-c6ac-46c8-c69b-10c369c7b48e\",\"plot\":{\"type\":\"Plot\",\"subtype\":\"Figure\",\"id\":\"bd3aebc1-caee-4598-c518-78ff43ed551e\"},\"doc\":null}},{\"type\":\"Legend\",\"id\":\"26c10519-7257-4f83-cf62-a0bdc2fa1264\",\"attributes\":{\"id\":\"26c10519-7257-4f83-cf62-a0bdc2fa1264\",\"tags\":[],\"plot\":{\"type\":\"Plot\",\"subtype\":\"Figure\",\"id\":\"bd3aebc1-caee-4598-c518-78ff43ed551e\"},\"legends\":[[\"S0: Strategy initialized with target values\",[{\"type\":\"GlyphRenderer\",\"id\":\"c63a0b70-de68-4d26-cd64-f4994964df22\"}]],[\"SNN : Strategy initialized with NN\",[{\"type\":\"GlyphRenderer\",\"id\":\"cd0df925-3737-46bf-c6d8-ac4ea5e789f0\"}]]],\"doc\":null}},{\"type\":\"Plot\",\"id\":\"bd3aebc1-caee-4598-c518-78ff43ed551e\",\"attributes\":{\"tool_events\":{\"type\":\"ToolEvents\",\"id\":\"fcfece1e-de66-4e38-ce26-a8c1016ab0d3\"},\"above\":[],\"extra_y_ranges\":{},\"extra_x_ranges\":{},\"left\":[{\"type\":\"LinearAxis\",\"id\":\"b9c75cc8-8334-436d-c318-7bb6f7383fd1\"}],\"y_range\":{\"type\":\"DataRange1d\",\"id\":\"20d294d7-1567-45ce-c528-204340bdea6d\"},\"tools\":[{\"type\":\"PanTool\",\"id\":\"aca3ae6c-7c91-41ea-c1cb-9a00db37c5b3\"},{\"type\":\"WheelZoomTool\",\"id\":\"c3eaab76-6292-4c28-cc94-be74b87987fe\"},{\"type\":\"BoxZoomTool\",\"id\":\"818091bb-af50-4e05-ceb4-e96e9ca53d54\"},{\"type\":\"PreviewSaveTool\",\"id\":\"bc292741-99d3-4fa1-cf3f-b05b101f3a78\"},{\"type\":\"ResizeTool\",\"id\":\"a8d1bfe5-c66e-47f7-c731-fcf1fd0e7e2c\"},{\"type\":\"ResetTool\",\"id\":\"2230721e-c6ac-46c8-c69b-10c369c7b48e\"}],\"below\":[{\"type\":\"LinearAxis\",\"id\":\"dcdf03b6-eed4-4a85-caf2-01286a4495b7\"}],\"id\":\"bd3aebc1-caee-4598-c518-78ff43ed551e\",\"title\":\"MSE between optimal strategies and S0\\/SNN \",\"right\":[],\"tags\":[],\"x_range\":{\"type\":\"DataRange1d\",\"id\":\"b473efda-cf9e-44e8-c48e-faae2ee2d5cd\"},\"renderers\":[{\"type\":\"GlyphRenderer\",\"id\":\"c63a0b70-de68-4d26-cd64-f4994964df22\"},{\"type\":\"GlyphRenderer\",\"id\":\"cd0df925-3737-46bf-c6d8-ac4ea5e789f0\"},{\"type\":\"LinearAxis\",\"id\":\"dcdf03b6-eed4-4a85-caf2-01286a4495b7\"},{\"type\":\"Grid\",\"id\":\"d81c7ec9-f577-42ce-c25d-f6043293fb20\"},{\"type\":\"LinearAxis\",\"id\":\"b9c75cc8-8334-436d-c318-7bb6f7383fd1\"},{\"type\":\"Grid\",\"id\":\"e7b2a48e-da2d-4060-c029-2de0aa393a15\"},{\"type\":\"Legend\",\"id\":\"26c10519-7257-4f83-cf62-a0bdc2fa1264\"}],\"doc\":null}}];\n",
       "  Bokeh.load_models(all_models);\n",
       "  var model = Bokeh.Collections(modeltype).get(modelid);\n",
       "  $(\"#2821eb7a-7338-4127-c1ed-ab7799c09774\").html(''); // clear any previous plot in window_id\n",
       "  var view = new model.default_view({model: model, el: \"#2821eb7a-7338-4127-c1ed-ab7799c09774\"});\n",
       "    } else {\n",
       "  load_lib(bokehjs_url, function() {\n",
       "      console.log(\"Bokeh: BokehJS plotting callback run at\", new Date())\n",
       "      var modelid = \"bd3aebc1-caee-4598-c518-78ff43ed551e\";\n",
       "      var modeltype = \"Plot\";\n",
       "      var all_models = [{\"type\":\"ColumnDataSource\",\"id\":\"91877d44-c1e2-4354-c31a-d45184e84b4a\",\"attributes\":{\"column_names\":[\"y\",\"x\"],\"id\":\"91877d44-c1e2-4354-c31a-d45184e84b4a\",\"selected\":[],\"data\":{\"x\":[2,3,4,5,6,7,8,9,10,11,12,13,14,15,16,17,18,19,20,21,22,23,24,25,26,27,28,29,30,31,32,33,34,35,36,37,38,39,40,41,42,43,44,45,46,47,48,49,50,51,52,53,54,55,56,57,58,59,60,61,62,63,64,65,66,67,68,69,70,71,72,73,74,75,76,77,78,79,80,81,82,83,84,85,86,87,88,89,90,91,92,93,94,95,96,97,98,99,100,101,102,103,104,105,106,107,108,109,110,111,112,113,114,115,116,117,118,119,120,121,122,123,124,125,126,127,128,129,130,131,132,133,134,135,136,137,138,139,140,141,142,143,144,145,146,147,148,149,150,151,152,153,154,155,156,157,158,159,160,161,162,163,164,165,166,167,168,169,170,171,172,173,174,175,176,177,178,179,180,181,182,183,184,185,186,187,188,189,190,191,192,193,194,195,196,197,198,199,200,201],\"y\":[0.34659862518311,0.34632822871208,0.34606131911278,0.34579822421074,0.34553915262222,0.3452672958374,0.34467417001724,0.34356799721718,0.34195199608803,0.34007978439331,0.3384293615818,0.33759698271751,0.3372163772583,0.33680352568626,0.33639052510262,0.33600577712059,0.33560964465141,0.33521071076393,0.33482038974762,0.33444166183472,0.33407628536224,0.33373475074768,0.33343023061752,0.33316805958748,0.33289703726768,0.33258685469627,0.33220487833023,0.33173072338104,0.33114695549011,0.33047273755074,0.32978278398514,0.32910212874413,0.32831707596779,0.32743507623672,0.32649248838425,0.32557085156441,0.32477778196335,0.32412350177765,0.32355418801308,0.32306307554245,0.32264491915703,0.32228970527649,0.32197761535645,0.32169914245605,0.32145172357559,0.32120415568352,0.32096153497696,0.32073271274567,0.32049161195755,0.32024466991425,0.32000449299812,0.31977275013924,0.31954383850098,0.31930303573608,0.31902694702148,0.31871181726456,0.31837141513824,0.31801635026932,0.31764206290245,0.31727233529091,0.31693509221077,0.31661987304688,0.31633114814758,0.31607761979103,0.31587338447571,0.31573963165283,0.31563359498978,0.31553763151169,0.3154422044754,0.31534013152122,0.31522193551064,0.31508502364159,0.31492850184441,0.31473580002785,0.31449043750763,0.31418055295944,0.31382164359093,0.31343924999237,0.31306341290474,0.31272739171982,0.31250211596489,0.31229573488235,0.31205272674561,0.31176626682281,0.3114709854126,0.31116905808449,0.31086573004723,0.31056991219521,0.31029513478279,0.31004804372787,0.30982908606529,0.30963876843452,0.30947735905647,0.30934724211693,0.30921670794487,0.30908218026161,0.30894520878792,0.30880686640739,0.30866867303848,0.30852818489075,0.30838459730148,0.30823662877083,0.30807808041573,0.30789515376091,0.30768257379532,0.30746084451675,0.30728974938393,0.30720344185829,0.30717706680298,0.30716636776924,0.30711334943771,0.30705642700195,0.30698963999748,0.30689996480942,0.30677017569542,0.30662322044373,0.30650305747986,0.30640479922295,0.30630519986153,0.30619961023331,0.30608782172203,0.30596235394478,0.30581620335579,0.30564370751381,0.3054051399231,0.30508342385292,0.30471700429916,0.30440133810043,0.30419874191284,0.30399921536446,0.30380699038506,0.30363556742668,0.30347582697868,0.30332514643669,0.3031884431839,0.30306199193001,0.30294623970985,0.30284398794174,0.30276137590408,0.30269858241081,0.30263975262642,0.30258134007454,0.30252119898796,0.30245718359947,0.30238965153694,0.30231881141663,0.3022435605526,0.30215501785278,0.30200380086899,0.30162593722343,0.3009030520916,0.29985666275024,0.29872593283653,0.29787895083427,0.29768124222755,0.29750683903694,0.29732683300972,0.29714864492416,0.29697832465172,0.29680669307709,0.29663726687431,0.29647967219353,0.29633089900017,0.29618442058563,0.29605162143707,0.29592967033386,0.2958250939846,0.29572969675064,0.29563900828362,0.29555454850197,0.29546317458153,0.29536390304565,0.29526236653328,0.2951488494873,0.29501268267632,0.29486402869225,0.29470983147621,0.29454511404037,0.29437229037285,0.29420387744904,0.29403913021088,0.29388076066971,0.29372745752335,0.29358080029488,0.29344293475151,0.29331824183464,0.29321101307869,0.29312327504158,0.2930500805378,0.29299038648605,0.29294565320015,0.29291659593582,0.29289269447327,0.29286882281303,0.29284396767616,0.29281824827194,0.29279157519341,0.292760014534,0.29271632432938,0.29244384169579]},\"tags\":[],\"discrete_ranges\":{},\"cont_ranges\":{},\"doc\":null}},{\"type\":\"Line\",\"id\":\"550b67e4-2199-474f-c71f-deabe06a145b\",\"attributes\":{\"line_alpha\":{\"units\":\"data\",\"value\":1},\"size\":{\"units\":\"screen\",\"value\":10},\"line_color\":{\"value\":\"red\"},\"y\":{\"units\":\"data\",\"field\":\"y\"},\"fill_alpha\":{\"units\":\"data\",\"value\":0.2},\"fill_color\":{\"value\":\"red\"},\"tags\":[],\"x\":{\"units\":\"data\",\"field\":\"x\"},\"id\":\"550b67e4-2199-474f-c71f-deabe06a145b\",\"doc\":null}},{\"type\":\"Line\",\"id\":\"e5b10313-0a66-431a-c3a5-8f05ea4a2b77\",\"attributes\":{\"line_alpha\":{\"units\":\"data\",\"value\":1},\"size\":{\"units\":\"screen\",\"value\":10},\"line_color\":{\"value\":\"red\"},\"y\":{\"units\":\"data\",\"field\":\"y\"},\"fill_alpha\":{\"units\":\"data\",\"value\":0.2},\"fill_color\":{\"value\":\"red\"},\"tags\":[],\"x\":{\"units\":\"data\",\"field\":\"x\"},\"id\":\"e5b10313-0a66-431a-c3a5-8f05ea4a2b77\",\"doc\":null}},{\"type\":\"GlyphRenderer\",\"id\":\"c63a0b70-de68-4d26-cd64-f4994964df22\",\"attributes\":{\"selection_glyph\":null,\"glyph\":{\"type\":\"Line\",\"id\":\"550b67e4-2199-474f-c71f-deabe06a145b\"},\"data_source\":{\"type\":\"ColumnDataSource\",\"id\":\"91877d44-c1e2-4354-c31a-d45184e84b4a\"},\"id\":\"c63a0b70-de68-4d26-cd64-f4994964df22\",\"name\":null,\"tags\":[],\"server_data_source\":null,\"nonselection_glyph\":{\"type\":\"Line\",\"id\":\"e5b10313-0a66-431a-c3a5-8f05ea4a2b77\"},\"doc\":null}},{\"type\":\"ColumnDataSource\",\"id\":\"1d471c9f-985b-4555-c528-66d22ae0534f\",\"attributes\":{\"column_names\":[\"y\",\"x\"],\"id\":\"1d471c9f-985b-4555-c528-66d22ae0534f\",\"selected\":[],\"data\":{\"x\":[2,3,4,5,6,7,8,9,10,11,12,13,14,15,16,17,18,19,20,21,22,23,24,25,26,27,28,29,30,31,32,33,34,35,36,37,38,39,40,41,42,43,44,45,46,47,48,49,50,51,52,53,54,55,56,57,58,59,60,61,62,63,64,65,66,67,68,69,70,71,72,73,74,75,76,77,78,79,80,81,82,83,84,85,86,87,88,89,90,91,92,93,94,95,96,97,98,99,100,101,102,103,104,105,106,107,108,109,110,111,112,113,114,115,116,117,118,119,120,121,122,123,124,125,126,127,128,129,130,131,132,133,134,135,136,137,138,139,140,141,142,143,144,145,146,147,148,149,150,151,152,153,154,155,156,157,158,159,160,161,162,163,164,165,166,167,168,169,170,171,172,173,174,175,176,177,178,179,180,181,182,183,184,185,186,187,188,189,190,191,192,193,194,195,196,197,198,199,200,201],\"y\":[2.3779997825623,2.2725691795349,2.145054101944,2.022296667099,1.9232252836227,1.8480513095856,1.7870209217072,1.733922958374,1.6915738582611,1.6549338102341,1.618017911911,1.586027264595,1.6548941135406,1.627693772316,1.602565407753,1.5809379816055,1.5729407072067,1.5583097934723,1.5388405323029,1.5166741609573,1.4908239841461,1.4621071815491,1.4352885484695,1.4118647575378,1.3934012651443,1.3781603574753,1.3688281774521,1.3717089891434,1.3785916566849,1.389554142952,1.4013067483902,1.4090467691422,1.410573720932,1.4105104207993,1.4119104146957,1.4150100946426,1.4145261049271,1.4109896421432,1.4074032306671,1.4055743217468,1.4020863771439,1.3943175077438,1.3844590187073,1.373882651329,1.3643122911453,1.3568655252457,1.3520662784576,1.3492662906647,1.3453100919724,1.3396666049957,1.3328615427017,1.3258094787598,1.3179142475128,1.3013657331467,1.273135304451,1.2376754283905,1.2071915864944,1.1913570165634,1.1876268386841,1.1833883523941,1.1801971197128,1.1771229505539,1.1734877824783,1.1690264940262,1.1624035835266,1.1526916027069,1.1407630443573,1.1293067932129,1.1210726499557,1.116353392601,1.1164481639862,1.1213316917419,1.1267449855804,1.1316857337952,1.1347477436066,1.1346920728683,1.1341086626053,1.1329870223999,1.1324739456177,1.1342351436615,1.1361249685287,1.1396615505219,1.1465511322021,1.1558654308319,1.1651045084,1.1718199253082,1.1734591722488,1.1724035739899,1.1713670492172,1.1702374219894,1.1689492464066,1.1670128107071,1.1646980047226,1.16339802742,1.162416100502,1.1616611480713,1.1608153581619,1.1596336364746,1.1578594446182,1.1563085317612,1.1544905900955,1.1499341726303,1.1420449018478,1.1319978237152,1.1209152936935,1.1108946800232,1.1031000614166,1.0976634025574,1.0939166545868,1.091535449028,1.0906627178192,1.0900259017944,1.0897564888,1.0903013944626,1.0913659334183,1.0923098325729,1.0927834510803,1.0941517353058,1.0962034463882,1.0971281528473,1.0973769426346,1.0964369773865,1.0944745540619,1.0914877653122,1.0863007307053,1.0793335437775,1.0728352069855,1.0686845779419,1.067377448082,1.0663183927536,1.0653228759766,1.0650480985641,1.0650925636292,1.0654479265213,1.0659877061844,1.0664125680923,1.0661536455154,1.0648145675659,1.0624072551727,1.0606741905212,1.0577921867371,1.0537792444229,1.0496462583542,1.0467270612717,1.0447503328323,1.0435985326767,1.0430934429169,1.0430026054382,1.0426068305969,1.0394598245621,1.032710313797,1.0236248970032,1.0150094032288,1.0078902244568,1.0058244466782,1.0066680908203,1.0077377557755,1.0087835788727,1.0095378160477,1.0097345113754,1.00943338871,1.0089998245239,1.0083235502243,1.0073469877243,1.0064321756363,1.0059580802917,1.0055866241455,1.0057338476181,1.0060411691666,1.0063205957413,1.00645840168,1.0066422224045,1.0067224502563,1.0065474510193,1.0059778690338,1.0049279928207,1.0035618543625,1.0018696784973,0.99982041120529,0.99790471792221,0.99673908948898,0.99619746208191,0.99558860063553,0.99363106489182,0.98936295509338,0.98287856578827,0.97669041156769,0.97530633211136,0.97652447223663,0.97708642482758,0.97710430622101,0.97697335481644,0.97675865888596,0.97433072328568,0.970458984375,0.96890503168106,0.96918165683746,0.96943801641464,0.96958857774734,0.9689553976059]},\"tags\":[],\"discrete_ranges\":{},\"cont_ranges\":{},\"doc\":null}},{\"type\":\"Line\",\"id\":\"5fd973d5-69cd-4203-c276-3f92b13ec300\",\"attributes\":{\"line_alpha\":{\"units\":\"data\",\"value\":1},\"size\":{\"units\":\"screen\",\"value\":10},\"line_color\":{\"value\":\"blue\"},\"y\":{\"units\":\"data\",\"field\":\"y\"},\"fill_alpha\":{\"units\":\"data\",\"value\":0.2},\"fill_color\":{\"value\":\"blue\"},\"tags\":[],\"x\":{\"units\":\"data\",\"field\":\"x\"},\"id\":\"5fd973d5-69cd-4203-c276-3f92b13ec300\",\"doc\":null}},{\"type\":\"Line\",\"id\":\"38540f91-46c8-4929-c9f1-283ed9008011\",\"attributes\":{\"line_alpha\":{\"units\":\"data\",\"value\":1},\"size\":{\"units\":\"screen\",\"value\":10},\"line_color\":{\"value\":\"blue\"},\"y\":{\"units\":\"data\",\"field\":\"y\"},\"fill_alpha\":{\"units\":\"data\",\"value\":0.2},\"fill_color\":{\"value\":\"blue\"},\"tags\":[],\"x\":{\"units\":\"data\",\"field\":\"x\"},\"id\":\"38540f91-46c8-4929-c9f1-283ed9008011\",\"doc\":null}},{\"type\":\"GlyphRenderer\",\"id\":\"cd0df925-3737-46bf-c6d8-ac4ea5e789f0\",\"attributes\":{\"selection_glyph\":null,\"glyph\":{\"type\":\"Line\",\"id\":\"5fd973d5-69cd-4203-c276-3f92b13ec300\"},\"data_source\":{\"type\":\"ColumnDataSource\",\"id\":\"1d471c9f-985b-4555-c528-66d22ae0534f\"},\"id\":\"cd0df925-3737-46bf-c6d8-ac4ea5e789f0\",\"name\":null,\"tags\":[],\"server_data_source\":null,\"nonselection_glyph\":{\"type\":\"Line\",\"id\":\"38540f91-46c8-4929-c9f1-283ed9008011\"},\"doc\":null}},{\"type\":\"DataRange1d\",\"id\":\"b473efda-cf9e-44e8-c48e-faae2ee2d5cd\",\"attributes\":{\"tags\":[],\"id\":\"b473efda-cf9e-44e8-c48e-faae2ee2d5cd\",\"sources\":[{\"columns\":[\"x\"],\"source\":{\"type\":\"ColumnDataSource\",\"id\":\"91877d44-c1e2-4354-c31a-d45184e84b4a\"}},{\"columns\":[\"x\"],\"source\":{\"type\":\"ColumnDataSource\",\"id\":\"1d471c9f-985b-4555-c528-66d22ae0534f\"}}],\"doc\":null}},{\"type\":\"DataRange1d\",\"id\":\"20d294d7-1567-45ce-c528-204340bdea6d\",\"attributes\":{\"tags\":[],\"id\":\"20d294d7-1567-45ce-c528-204340bdea6d\",\"sources\":[{\"columns\":[\"y\"],\"source\":{\"type\":\"ColumnDataSource\",\"id\":\"91877d44-c1e2-4354-c31a-d45184e84b4a\"}},{\"columns\":[\"y\"],\"source\":{\"type\":\"ColumnDataSource\",\"id\":\"1d471c9f-985b-4555-c528-66d22ae0534f\"}}],\"doc\":null}},{\"type\":\"ToolEvents\",\"id\":\"fcfece1e-de66-4e38-ce26-a8c1016ab0d3\",\"attributes\":{\"tags\":[],\"id\":\"fcfece1e-de66-4e38-ce26-a8c1016ab0d3\",\"geometries\":[],\"doc\":null}},{\"type\":\"BasicTickFormatter\",\"id\":\"071374e9-e793-4fd2-cf0e-eeccb5a216c6\",\"attributes\":{\"tags\":[],\"id\":\"071374e9-e793-4fd2-cf0e-eeccb5a216c6\",\"doc\":null}},{\"type\":\"BasicTicker\",\"id\":\"9ec4d0a7-ec57-48df-c889-d8460c3d6c66\",\"attributes\":{\"tags\":[],\"id\":\"9ec4d0a7-ec57-48df-c889-d8460c3d6c66\",\"num_minor_ticks\":5,\"doc\":null}},{\"type\":\"LinearAxis\",\"id\":\"dcdf03b6-eed4-4a85-caf2-01286a4495b7\",\"attributes\":{\"formatter\":{\"type\":\"BasicTickFormatter\",\"id\":\"071374e9-e793-4fd2-cf0e-eeccb5a216c6\"},\"id\":\"dcdf03b6-eed4-4a85-caf2-01286a4495b7\",\"axis_label\":null,\"tags\":[],\"plot\":{\"type\":\"Plot\",\"subtype\":\"Figure\",\"id\":\"bd3aebc1-caee-4598-c518-78ff43ed551e\"},\"ticker\":{\"type\":\"BasicTicker\",\"id\":\"9ec4d0a7-ec57-48df-c889-d8460c3d6c66\"},\"doc\":null}},{\"type\":\"Grid\",\"id\":\"d81c7ec9-f577-42ce-c25d-f6043293fb20\",\"attributes\":{\"ticker\":{\"type\":\"BasicTicker\",\"id\":\"9ec4d0a7-ec57-48df-c889-d8460c3d6c66\"},\"id\":\"d81c7ec9-f577-42ce-c25d-f6043293fb20\",\"tags\":[],\"plot\":{\"type\":\"Plot\",\"subtype\":\"Figure\",\"id\":\"bd3aebc1-caee-4598-c518-78ff43ed551e\"},\"dimension\":0,\"doc\":null}},{\"type\":\"BasicTickFormatter\",\"id\":\"eb5c7902-a68d-43b3-c3a4-e51f2e622a27\",\"attributes\":{\"tags\":[],\"id\":\"eb5c7902-a68d-43b3-c3a4-e51f2e622a27\",\"doc\":null}},{\"type\":\"BasicTicker\",\"id\":\"af54b7f1-9f9e-4774-c77c-e60c0a709ecb\",\"attributes\":{\"tags\":[],\"id\":\"af54b7f1-9f9e-4774-c77c-e60c0a709ecb\",\"num_minor_ticks\":5,\"doc\":null}},{\"type\":\"LinearAxis\",\"id\":\"b9c75cc8-8334-436d-c318-7bb6f7383fd1\",\"attributes\":{\"formatter\":{\"type\":\"BasicTickFormatter\",\"id\":\"eb5c7902-a68d-43b3-c3a4-e51f2e622a27\"},\"id\":\"b9c75cc8-8334-436d-c318-7bb6f7383fd1\",\"axis_label\":null,\"tags\":[],\"plot\":{\"type\":\"Plot\",\"subtype\":\"Figure\",\"id\":\"bd3aebc1-caee-4598-c518-78ff43ed551e\"},\"ticker\":{\"type\":\"BasicTicker\",\"id\":\"af54b7f1-9f9e-4774-c77c-e60c0a709ecb\"},\"doc\":null}},{\"type\":\"Grid\",\"id\":\"e7b2a48e-da2d-4060-c029-2de0aa393a15\",\"attributes\":{\"ticker\":{\"type\":\"BasicTicker\",\"id\":\"af54b7f1-9f9e-4774-c77c-e60c0a709ecb\"},\"id\":\"e7b2a48e-da2d-4060-c029-2de0aa393a15\",\"tags\":[],\"plot\":{\"type\":\"Plot\",\"subtype\":\"Figure\",\"id\":\"bd3aebc1-caee-4598-c518-78ff43ed551e\"},\"dimension\":1,\"doc\":null}},{\"type\":\"PanTool\",\"id\":\"aca3ae6c-7c91-41ea-c1cb-9a00db37c5b3\",\"attributes\":{\"dimensions\":[\"width\",\"height\"],\"id\":\"aca3ae6c-7c91-41ea-c1cb-9a00db37c5b3\",\"tags\":[],\"plot\":{\"type\":\"Plot\",\"subtype\":\"Figure\",\"id\":\"bd3aebc1-caee-4598-c518-78ff43ed551e\"},\"doc\":null}},{\"type\":\"WheelZoomTool\",\"id\":\"c3eaab76-6292-4c28-cc94-be74b87987fe\",\"attributes\":{\"dimensions\":[\"width\",\"height\"],\"id\":\"c3eaab76-6292-4c28-cc94-be74b87987fe\",\"tags\":[],\"plot\":{\"type\":\"Plot\",\"subtype\":\"Figure\",\"id\":\"bd3aebc1-caee-4598-c518-78ff43ed551e\"},\"doc\":null}},{\"type\":\"BoxZoomTool\",\"id\":\"818091bb-af50-4e05-ceb4-e96e9ca53d54\",\"attributes\":{\"tags\":[],\"id\":\"818091bb-af50-4e05-ceb4-e96e9ca53d54\",\"plot\":{\"type\":\"Plot\",\"subtype\":\"Figure\",\"id\":\"bd3aebc1-caee-4598-c518-78ff43ed551e\"},\"doc\":null}},{\"type\":\"PreviewSaveTool\",\"id\":\"bc292741-99d3-4fa1-cf3f-b05b101f3a78\",\"attributes\":{\"tags\":[],\"id\":\"bc292741-99d3-4fa1-cf3f-b05b101f3a78\",\"plot\":{\"type\":\"Plot\",\"subtype\":\"Figure\",\"id\":\"bd3aebc1-caee-4598-c518-78ff43ed551e\"},\"doc\":null}},{\"type\":\"ResizeTool\",\"id\":\"a8d1bfe5-c66e-47f7-c731-fcf1fd0e7e2c\",\"attributes\":{\"tags\":[],\"id\":\"a8d1bfe5-c66e-47f7-c731-fcf1fd0e7e2c\",\"plot\":{\"type\":\"Plot\",\"subtype\":\"Figure\",\"id\":\"bd3aebc1-caee-4598-c518-78ff43ed551e\"},\"doc\":null}},{\"type\":\"ResetTool\",\"id\":\"2230721e-c6ac-46c8-c69b-10c369c7b48e\",\"attributes\":{\"tags\":[],\"id\":\"2230721e-c6ac-46c8-c69b-10c369c7b48e\",\"plot\":{\"type\":\"Plot\",\"subtype\":\"Figure\",\"id\":\"bd3aebc1-caee-4598-c518-78ff43ed551e\"},\"doc\":null}},{\"type\":\"Legend\",\"id\":\"26c10519-7257-4f83-cf62-a0bdc2fa1264\",\"attributes\":{\"id\":\"26c10519-7257-4f83-cf62-a0bdc2fa1264\",\"tags\":[],\"plot\":{\"type\":\"Plot\",\"subtype\":\"Figure\",\"id\":\"bd3aebc1-caee-4598-c518-78ff43ed551e\"},\"legends\":[[\"S0: Strategy initialized with target values\",[{\"type\":\"GlyphRenderer\",\"id\":\"c63a0b70-de68-4d26-cd64-f4994964df22\"}]],[\"SNN : Strategy initialized with NN\",[{\"type\":\"GlyphRenderer\",\"id\":\"cd0df925-3737-46bf-c6d8-ac4ea5e789f0\"}]]],\"doc\":null}},{\"type\":\"Plot\",\"id\":\"bd3aebc1-caee-4598-c518-78ff43ed551e\",\"attributes\":{\"tool_events\":{\"type\":\"ToolEvents\",\"id\":\"fcfece1e-de66-4e38-ce26-a8c1016ab0d3\"},\"above\":[],\"extra_y_ranges\":{},\"extra_x_ranges\":{},\"left\":[{\"type\":\"LinearAxis\",\"id\":\"b9c75cc8-8334-436d-c318-7bb6f7383fd1\"}],\"y_range\":{\"type\":\"DataRange1d\",\"id\":\"20d294d7-1567-45ce-c528-204340bdea6d\"},\"tools\":[{\"type\":\"PanTool\",\"id\":\"aca3ae6c-7c91-41ea-c1cb-9a00db37c5b3\"},{\"type\":\"WheelZoomTool\",\"id\":\"c3eaab76-6292-4c28-cc94-be74b87987fe\"},{\"type\":\"BoxZoomTool\",\"id\":\"818091bb-af50-4e05-ceb4-e96e9ca53d54\"},{\"type\":\"PreviewSaveTool\",\"id\":\"bc292741-99d3-4fa1-cf3f-b05b101f3a78\"},{\"type\":\"ResizeTool\",\"id\":\"a8d1bfe5-c66e-47f7-c731-fcf1fd0e7e2c\"},{\"type\":\"ResetTool\",\"id\":\"2230721e-c6ac-46c8-c69b-10c369c7b48e\"}],\"below\":[{\"type\":\"LinearAxis\",\"id\":\"dcdf03b6-eed4-4a85-caf2-01286a4495b7\"}],\"id\":\"bd3aebc1-caee-4598-c518-78ff43ed551e\",\"title\":\"MSE between optimal strategies and S0\\/SNN \",\"right\":[],\"tags\":[],\"x_range\":{\"type\":\"DataRange1d\",\"id\":\"b473efda-cf9e-44e8-c48e-faae2ee2d5cd\"},\"renderers\":[{\"type\":\"GlyphRenderer\",\"id\":\"c63a0b70-de68-4d26-cd64-f4994964df22\"},{\"type\":\"GlyphRenderer\",\"id\":\"cd0df925-3737-46bf-c6d8-ac4ea5e789f0\"},{\"type\":\"LinearAxis\",\"id\":\"dcdf03b6-eed4-4a85-caf2-01286a4495b7\"},{\"type\":\"Grid\",\"id\":\"d81c7ec9-f577-42ce-c25d-f6043293fb20\"},{\"type\":\"LinearAxis\",\"id\":\"b9c75cc8-8334-436d-c318-7bb6f7383fd1\"},{\"type\":\"Grid\",\"id\":\"e7b2a48e-da2d-4060-c029-2de0aa393a15\"},{\"type\":\"Legend\",\"id\":\"26c10519-7257-4f83-cf62-a0bdc2fa1264\"}],\"doc\":null}}];\n",
       "      Bokeh.load_models(all_models);\n",
       "      var model = Bokeh.Collections(modeltype).get(modelid);\n",
       "      $(\"#2821eb7a-7338-4127-c1ed-ab7799c09774\").html(''); // clear any previous plot in window_id\n",
       "      var view = new model.default_view({model: model, el: \"#2821eb7a-7338-4127-c1ed-ab7799c09774\"});\n",
       "  });\n",
       "    }\n",
       "});\n",
       "</script>\n",
       "<div class=\"plotdiv\" id=\"2821eb7a-7338-4127-c1ed-ab7799c09774\"></div>\n"
      ]
     },
     "metadata": {},
     "output_type": "display_data"
    }
   ],
   "source": [
    "t2 = torch.range(2,diff:narrow(1,10,201):size(1))\n",
    "local plot = Plot()\n",
    "\n",
    "plot:line(t2,diff:narrow(1,10,200),'red' ,'S0: Strategy initialized with target values')\n",
    "plot:line(t2,diff_nn:narrow(1,10,200),'blue' ,'SNN : Strategy initialized with NN')\n",
    "plot:legend(true):title('MSE between optimal strategies and S0/SNN ')\n",
    "plot:draw()"
   ]
  },
  {
   "cell_type": "code",
   "execution_count": 132,
   "metadata": {},
   "outputs": [
    {
     "data": {
      "text/plain": [
       " 199\n",
       "[torch.LongStorage of size 1]\n",
       "\n"
      ]
     },
     "execution_count": 132,
     "metadata": {},
     "output_type": "execute_result"
    }
   ],
   "source": [
    "t2:size()"
   ]
  },
  {
   "cell_type": "code",
   "execution_count": 133,
   "metadata": {},
   "outputs": [
    {
     "data": {
      "text/plain": [
       " 200\n",
       "[torch.LongStorage of size 1]\n",
       "\n"
      ]
     },
     "execution_count": 133,
     "metadata": {},
     "output_type": "execute_result"
    }
   ],
   "source": [
    "diff:narrow(1,10,200):size()"
   ]
  },
  {
   "cell_type": "code",
   "execution_count": null,
   "metadata": {
    "collapsed": true
   },
   "outputs": [],
   "source": []
  },
  {
   "cell_type": "code",
   "execution_count": null,
   "metadata": {
    "collapsed": true
   },
   "outputs": [],
   "source": [
    "--- CFR:\n",
    "tree_cfr1 = TreeCFR()\n",
    "print(\"Solver\")\n",
    "tree_cfr1:run_cfr(tree, starting_ranges,400)"
   ]
  },
  {
   "cell_type": "code",
   "execution_count": 76,
   "metadata": {},
   "outputs": [
    {
     "data": {
      "text/plain": [
       "400\n"
      ]
     },
     "execution_count": 76,
     "metadata": {},
     "output_type": "execute_result"
    }
   ],
   "source": [
    "#tree_cfr0.total_strategies"
   ]
  },
  {
   "cell_type": "code",
   "execution_count": 72,
   "metadata": {},
   "outputs": [
    {
     "data": {
      "text/plain": [
       "800\n"
      ]
     },
     "execution_count": 72,
     "metadata": {},
     "output_type": "execute_result"
    }
   ],
   "source": [
    "#tree_cfr1.total_strategies"
   ]
  },
  {
   "cell_type": "code",
   "execution_count": 73,
   "metadata": {},
   "outputs": [
    {
     "data": {
      "text/plain": [
       "400\n"
      ]
     },
     "execution_count": 73,
     "metadata": {},
     "output_type": "execute_result"
    }
   ],
   "source": [
    "#tree_cfr.total_strategies"
   ]
  },
  {
   "cell_type": "code",
   "execution_count": null,
   "metadata": {
    "collapsed": true
   },
   "outputs": [],
   "source": [
    "tree3 = builder:build_tree(params)\n"
   ]
  },
  {
   "cell_type": "code",
   "execution_count": null,
   "metadata": {
    "collapsed": true
   },
   "outputs": [],
   "source": [
    "game3 = TreeData(tree3)\n",
    "game3:get_training_set(tree3,1)\n",
    "game3:generate_new_initial_strategies(tree3,nn_trainer)"
   ]
  },
  {
   "cell_type": "code",
   "execution_count": null,
   "metadata": {
    "collapsed": true
   },
   "outputs": [],
   "source": [
    "local starting_ranges = arguments.Tensor(constants.players_count, game_settings.card_count)\n",
    "starting_ranges[1]:copy(card_tools:get_uniform_range(params.root_node.board))\n",
    "starting_ranges[2]:copy(card_tools:get_uniform_range(params.root_node.board))\n",
    "tree_cfr0 = TreeCFR()\n",
    "tree_cfr0:run_cfr(tree0, starting_ranges,300)"
   ]
  },
  {
   "cell_type": "code",
   "execution_count": null,
   "metadata": {
    "collapsed": true
   },
   "outputs": [],
   "source": [
    "tree2 = builder:build_tree(params)\n",
    "--- CFR Solver\n",
    "local starting_ranges = arguments.Tensor(constants.players_count, game_settings.card_count)\n",
    "starting_ranges[1]:copy(card_tools:get_uniform_range(params.root_node.board))\n",
    "starting_ranges[2]:copy(card_tools:get_uniform_range(params.root_node.board))\n",
    "tree_cfr2 = TreeCFR()\n",
    "print(\"Solver\")\n",
    "tree_cfr2:run_cfr(tree2, starting_ranges,300)\n",
    "---tree_cfr:run_cfr(tree0, starting_ranges,50)"
   ]
  },
  {
   "cell_type": "code",
   "execution_count": null,
   "metadata": {
    "collapsed": true
   },
   "outputs": [],
   "source": [
    "tree0.strategy"
   ]
  },
  {
   "cell_type": "code",
   "execution_count": null,
   "metadata": {
    "collapsed": true
   },
   "outputs": [],
   "source": [
    "tree2.strategy"
   ]
  },
  {
   "cell_type": "code",
   "execution_count": null,
   "metadata": {
    "collapsed": true
   },
   "outputs": [],
   "source": [
    "tree.strategy"
   ]
  },
  {
   "cell_type": "code",
   "execution_count": null,
   "metadata": {
    "collapsed": true
   },
   "outputs": [],
   "source": [
    "print(torch.sum(tree0.children[2].regrets)/300)\n",
    "print(torch.sum(tree.children[2].regrets)/500)\n",
    "print(torch.sum(tree2.children[2].regrets)/300)"
   ]
  },
  {
   "cell_type": "code",
   "execution_count": null,
   "metadata": {
    "collapsed": true
   },
   "outputs": [],
   "source": []
  },
  {
   "cell_type": "code",
   "execution_count": null,
   "metadata": {
    "collapsed": true
   },
   "outputs": [],
   "source": []
  },
  {
   "cell_type": "code",
   "execution_count": null,
   "metadata": {
    "collapsed": true
   },
   "outputs": [],
   "source": []
  },
  {
   "cell_type": "code",
   "execution_count": null,
   "metadata": {
    "collapsed": true
   },
   "outputs": [],
   "source": [
    "local new_model = nn_trainer.set_new_model()\n",
    "local current_criterion = nn.SmoothL1Criterion()\n",
    "\n",
    "-- Options:\n",
    "local opt = {}\n",
    "opt.learningRate = 0.001\n",
    "opt.momentum = 0.95\n",
    "opt.validate = true\n",
    "\n",
    "train_loss1,test_loss1 = nn_trainer:train(new_model,current_criterion,opt,10000)"
   ]
  },
  {
   "cell_type": "code",
   "execution_count": null,
   "metadata": {
    "collapsed": true
   },
   "outputs": [],
   "source": [
    "local t2 = torch.range(1,train_loss1:size(1))\n",
    "local plot = Plot()\n",
    "\n",
    "plot:line(t2,train_loss1,'red' ,'train loss')\n",
    "plot:line(t2,test_loss1,'blue' ,'test loss')\n",
    "plot:legend(true):title('Mean Square Error')\n",
    "plot:draw()"
   ]
  }
 ],
 "metadata": {
  "kernelspec": {
   "display_name": "iTorch",
   "language": "lua",
   "name": "itorch"
  },
  "language_info": {
   "name": "lua",
   "version": "5.2"
  }
 },
 "nbformat": 4,
 "nbformat_minor": 2
}
