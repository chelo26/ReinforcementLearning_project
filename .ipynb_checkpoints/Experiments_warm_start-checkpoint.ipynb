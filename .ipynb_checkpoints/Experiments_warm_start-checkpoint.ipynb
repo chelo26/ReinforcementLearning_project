{
 "cells": [
  {
   "cell_type": "code",
   "execution_count": 1,
   "metadata": {
    "collapsed": true
   },
   "outputs": [],
   "source": [
    "--- Libraries:\n",
    "arguments = require 'Settings.arguments'\n",
    "constants = require 'Settings.constants'\n",
    "card_to_string = require 'Game.card_to_string_conversion'\n",
    "card_tools = require 'Game.card_tools'\n",
    "game_settings = require 'Settings.game_settings'\n",
    "Plot = require 'itorch.Plot'\n",
    "nninit = require 'nninit'\n",
    "require 'torch'\n",
    "require 'math'\n",
    "require 'Tree.tree_builder'\n",
    "require 'Tree.tree_data_generation'\n",
    "require 'Tree.tree_values'\n",
    "require 'Tree.tree_visualiser'\n",
    "require 'nn'\n",
    "require 'Tree.tree_cfr'\n",
    "require 'Tree.tree_cfr2'\n",
    "require 'nngraph'\n",
    "require 'optim'\n",
    "require 'image'\n",
    "require 'NN.strategy_net_builder'\n",
    "require 'NN.strategy_net_trainer'\n",
    "require 'Tree.tree_warm_start'\n",
    "require 'Nn.StrategyCriterion'\n",
    "\n",
    "\n",
    "require 'Adversarials.exploitabilityVS'\n"
   ]
  },
  {
   "cell_type": "code",
   "execution_count": 2,
   "metadata": {
    "collapsed": true
   },
   "outputs": [],
   "source": [
    "function strategies_initializer(params, starting_ranges,num_iter,num_skip)\n",
    "    local timer = torch.Timer()\n",
    "    local num_iter = num_iter or 200\n",
    "    local num_skip = num_skip or 50\n",
    "    local params = params\n",
    "    local tree_train= builder:build_tree(params)\n",
    "    local tree_data = TreeData(tree_train)\n",
    "    \n",
    "    --- running CFR for nn_iter skiping num_skip\n",
    "    local solver_train = TreeCFR2()\n",
    "    solver_train.cfr_skip = num_skip\n",
    "    solver_train:run_clean_cfr(tree_train,starting_ranges,num_iter)\n",
    "\n",
    "    --- Getting training set:\n",
    "    tree_data:get_training_set(tree_train,1)\n",
    "    print('training train tree with CFR: ')--- ..timer:time().. ' secs')\n",
    "\n",
    "    -- Building the neural net model\n",
    "    local strategy_nn = StrategyNN()\n",
    "    local nn_model = strategy_nn.model\n",
    "\n",
    "    -- Building trainer:\n",
    "    local nn_trainer = NNTrainer(tree_data,nn_model)\n",
    "    -- Options:\n",
    "    local opt = {}\n",
    "    opt.learningRate = 0.001\n",
    "    opt.momentum = 0.95\n",
    "    opt.validate = false\n",
    "    local current_criterion = StrategyLoss()---nn.SmoothL1Criterion()\n",
    "    local train,test= nn_trainer:train(nn_model,current_criterion,opt,10000)\n",
    "    print(\"training neural network: \")--- ..timer:time().. ' secs')\n",
    "\n",
    "    --- NNWarm Starting\n",
    "    local treeNNWarm = builder:build_tree(params)\n",
    "    local dataNN = TreeData(treeNNWarm)\n",
    "    dataNN:get_training_set(treeNNWarm,1)\n",
    "    dataNN:generate_new_initial_strategies(treeNNWarm,nn_trainer)\n",
    "    \n",
    "    ---Warm start the regrets for NN:\n",
    "    dataNN:warm_start_regrets(treeNNWarm,tree_train)\n",
    "    print(\"target warm-start\")\n",
    "    \n",
    "    --- Target Warm Starting\n",
    "    local treeTargetWarm = builder:build_tree(params)\n",
    "    local tree_data_target = TreeData(treeTargetWarm)\n",
    "    tree_data_target:warm_start_targets_and_regrets(treeTargetWarm,tree_train)\n",
    "    print(\"Whole Process: \")--- ..timer:time().. ' secs')\n",
    "    ---timer:stop()\n",
    "    return treeNNWarm,treeTargetWarm\n",
    "end\n",
    "\n",
    "\n",
    "function get_returns(tree1,tree2,num_iter)\n",
    "    --- default number of iterations:\n",
    "    local num_iter = num_iter or 100\n",
    "    \n",
    "    --- Evaluator : Poker match for num_iter times each combination\n",
    "    local evaluator = StrategyEvaluator(tree1,tree2)\n",
    "    evaluator:play_all_combinations_n_times(tree1,tree2,num_iter)\n",
    "    local win_rate = evaluator.A2_winning_rate\n",
    "    local avg_gain= evaluator.A2_avg_pot_won\n",
    "\n",
    "    --- Return the avg pot won and the win rate:\n",
    "    return avg_gain,win_rate\n",
    "end\n",
    "\n",
    "\n",
    "function get_tensor_returns(tree1,tree2,number_of_tests,num_iter)\n",
    "\n",
    "    --- num_iter is the number of games played all 60 combinations:\n",
    "    local num_iter = num_iter or 100\n",
    "    local number_of_tests = number_of_tests or 10\n",
    "    local avg_gain_tensor = torch.FloatTensor(1,number_of_tests)\n",
    "    local win_rate_tensor = torch.FloatTensor(1,number_of_tests)\n",
    "    \n",
    "    --- Playing for number_of_tests times the 60 combinations num iter times\n",
    "    for i =1,number_of_tests do\n",
    "        local avg_gain,win_rate = get_returns(tree1,tree2,num_iter) \n",
    "        avg_gain_tensor[{1,i}]= avg_gain\n",
    "        win_rate_tensor[{1,i}]= win_rate\n",
    "    end\n",
    "    print('avg gains: '..avg_gain_tensor:mean()..' ,win rate :'..win_rate_tensor:mean())\n",
    "    return avg_gain_tensor,win_rate_tensor\n",
    "end\n",
    "\n",
    "function get_CFR_tensor_returns(tree1,tree2,num_tests,num_games,cfr_iter,cfr_skip)\n",
    "    --- Cfr iterations and number of skpis:\n",
    "    local cfr_iter = cfr_iter or 100\n",
    "    local cfr_skip = cfr_skip or 50\n",
    "\n",
    "    --- CFR Solver:\n",
    "    local solver = TreeCFR2()\n",
    "    solver.cfr_skip = cfr_skip \n",
    "    local starting_ranges = arguments.Tensor(constants.players_count, game_settings.card_count)\n",
    "    starting_ranges[1]:copy(card_tools:get_uniform_range(tree2.board))\n",
    "    starting_ranges[2]:copy(card_tools:get_uniform_range(tree2.board))\n",
    "    \n",
    "    --- Clean CFR : without exploitability computation\n",
    "    ---local tree_data2 = TreeData(tree2)\n",
    "    local solver_train = TreeCFR2()\n",
    "    solver:run_clean_cfr(tree2, starting_ranges,cfr_iter)\n",
    "    \n",
    "    ---print(\"CFR completed iterations\")\n",
    "    --- Starts poker_match\n",
    "    local num_games = num_games or 100\n",
    "    local num_tests = num_tests or 10\n",
    "    local avg_gain_tensor = torch.FloatTensor(1,num_tests)\n",
    "    local win_rate_tensor = torch.FloatTensor(1,num_tests)\n",
    "    \n",
    "    for i =1,num_tests do\n",
    "        local avg_gain,win_rate = get_returns(tree1,tree2,num_games) \n",
    "        avg_gain_tensor[{1,i}]= avg_gain\n",
    "        win_rate_tensor[{1,i}]= win_rate\n",
    "\n",
    "    end\n",
    "    print('avg gains: '..avg_gain_tensor:mean()..' ,win rate :'..win_rate_tensor:mean())\n",
    "    return avg_gain_tensor,win_rate_tensor\n",
    "end\n"
   ]
  },
  {
   "cell_type": "code",
   "execution_count": 3,
   "metadata": {
    "collapsed": true
   },
   "outputs": [],
   "source": [
    "--- FUNCTIONS\n",
    "--- Comparing with 2000\n",
    "function compare_cfrs(tree_cfr1,tree_cfr2000)\n",
    "    local difference = {}\n",
    "    local table1 = tree_cfr1.total_strategies\n",
    "    local table2 = tree_cfr2000.total_strategies\n",
    "    \n",
    "    for i = 1, #table1 do\n",
    "        difference[i] = torch.sqrt(torch.sum(torch.pow((table1[i] - table2[#table2]),2)))\n",
    "    end\n",
    "    return torch.FloatTensor(difference)\n",
    "end\n",
    "--- Comparing 2000 with itself\n",
    "function get_convergence(tree_cfr)\n",
    "    local difference = {}\n",
    "    local table_cfr = tree_cfr.total_strategies\n",
    "    local end_strategy = table_cfr[#table_cfr]\n",
    "    \n",
    "    for i = 1, #table_cfr do\n",
    "        difference[i] = torch.sqrt(torch.sum(torch.pow((table_cfr[i] - end_strategy),2)))\n",
    "    end\n",
    "    return torch.FloatTensor(difference)\n",
    "end"
   ]
  },
  {
   "cell_type": "code",
   "execution_count": 4,
   "metadata": {
    "collapsed": true
   },
   "outputs": [],
   "source": [
    "--- Create the tree\n",
    "builder = PokerTreeBuilder()\n",
    "--- Parameters for the tree\n",
    "params = {}\n",
    "params.root_node = {}\n",
    "params.root_node.board = card_to_string:string_to_board('')\n",
    "params.root_node.street = 1\n",
    "params.root_node.current_player = constants.players.P1\n",
    "params.root_node.bets = arguments.Tensor{200, 200}\n",
    "--- CFR Solver\n",
    "starting_ranges = arguments.Tensor(constants.players_count, game_settings.card_count)\n",
    "starting_ranges[1]:copy(card_tools:get_uniform_range(params.root_node.board))\n",
    "starting_ranges[2]:copy(card_tools:get_uniform_range(params.root_node.board))"
   ]
  },
  {
   "cell_type": "markdown",
   "metadata": {},
   "source": [
    "### 1. Exploitability for original CFR and modified CFR"
   ]
  },
  {
   "cell_type": "markdown",
   "metadata": {},
   "source": [
    "### 2. Exploitability for different Strategies"
   ]
  },
  {
   "cell_type": "code",
   "execution_count": 5,
   "metadata": {
    "collapsed": true
   },
   "outputs": [],
   "source": [
    "number_of_iterations = 100"
   ]
  },
  {
   "cell_type": "code",
   "execution_count": 6,
   "metadata": {
    "collapsed": true
   },
   "outputs": [],
   "source": [
    "tree_bench = builder:build_tree(params)"
   ]
  },
  {
   "cell_type": "code",
   "execution_count": 7,
   "metadata": {
    "collapsed": true
   },
   "outputs": [],
   "source": [
    "--- Get Data from 2000 iterations\n",
    "tree800 = builder:build_tree(params)\n",
    "tree_data800 = TreeData(tree800)\n",
    "tree800_cfr = TreeCFR2()\n",
    "tree800_cfr.cfr_skip = 1"
   ]
  },
  {
   "cell_type": "code",
   "execution_count": 8,
   "metadata": {
    "collapsed": true
   },
   "outputs": [],
   "source": [
    "tree800_cfr:run_cfr(tree800, starting_ranges,number_of_iterations)\n",
    "tree_data800:get_training_set(tree800,1)"
   ]
  },
  {
   "cell_type": "markdown",
   "metadata": {},
   "source": [
    "### Training the Model"
   ]
  },
  {
   "cell_type": "code",
   "execution_count": 9,
   "metadata": {
    "collapsed": true
   },
   "outputs": [],
   "source": [
    "-- Building the neural net model\n",
    "strategy_nn = StrategyNN()\n",
    "nn_model = strategy_nn.model\n",
    "-- Building trainer:\n",
    "nn_trainer = NNTrainer(tree_data800,nn_model)\n",
    "-- Options:\n",
    "opt = {}\n",
    "opt.learningRate = 0.001\n",
    "opt.momentum = 0.95\n",
    "opt.validate = false"
   ]
  },
  {
   "cell_type": "code",
   "execution_count": 10,
   "metadata": {
    "collapsed": true
   },
   "outputs": [],
   "source": [
    "current_criterion = StrategyLoss()---nn.SmoothL1Criterion()\n",
    "train_loss,test_loss = nn_trainer:train(nn_model,current_criterion,opt,10000)"
   ]
  },
  {
   "cell_type": "code",
   "execution_count": 11,
   "metadata": {},
   "outputs": [
    {
     "data": {
      "text/plain": [
       "0.0087194839486455\n"
      ]
     },
     "execution_count": 11,
     "metadata": {},
     "output_type": "execute_result"
    }
   ],
   "source": [
    "pred_strat = nn_model:forward({nn_trainer.all_data.features,nn_trainer.all_data.masks})\n",
    "true_strat =nn_trainer.all_data.targets\n",
    "print(torch.mean(torch.abs(pred_strat- true_strat)))"
   ]
  },
  {
   "cell_type": "markdown",
   "metadata": {},
   "source": [
    "### No Warm Start"
   ]
  },
  {
   "cell_type": "code",
   "execution_count": 12,
   "metadata": {
    "collapsed": true
   },
   "outputs": [],
   "source": [
    "--- Building CFR Solver\n",
    "treeNoWarm = builder:build_tree(params)\n",
    "treeNoWarm_cfr = TreeCFR2()\n",
    "treeNoWarm_cfr.cfr_skip = 1\n",
    "treeNoWarm_cfr:run_cfr(treeNoWarm, starting_ranges,number_of_iterations)"
   ]
  },
  {
   "cell_type": "markdown",
   "metadata": {},
   "source": [
    "### Neural Net Start "
   ]
  },
  {
   "cell_type": "code",
   "execution_count": 13,
   "metadata": {
    "collapsed": true
   },
   "outputs": [],
   "source": [
    "--- NNWarm Starting\n",
    "treeNNWarm = builder:build_tree(params)\n",
    "dataNN = TreeData(treeNNWarm)\n",
    "dataNN:get_training_set(treeNNWarm,1)\n",
    "dataNN:generate_new_initial_strategies(treeNNWarm,nn_trainer)\n",
    "---Warm start the regrets:\n",
    "dataNN:warm_start_regrets(treeNNWarm,tree800)\n",
    "---tree_warm_start = TreeWarmStart()\n",
    "---tree_warm_start:run_warm_start(treeNNWarm, starting_ranges,80)\n",
    "--- Building CFR Solver\n"
   ]
  },
  {
   "cell_type": "code",
   "execution_count": 14,
   "metadata": {
    "collapsed": true
   },
   "outputs": [],
   "source": [
    "treeNNWarm_cfr = TreeCFR2()\n",
    "treeNNWarm_cfr.cfr_skip = 1\n",
    "treeNNWarm_cfr:run_cfr(treeNNWarm, starting_ranges,number_of_iterations)"
   ]
  },
  {
   "cell_type": "code",
   "execution_count": 15,
   "metadata": {
    "collapsed": true
   },
   "outputs": [],
   "source": [
    "--- NNWarm Starting\n",
    "treeNN_NoRegWarm = builder:build_tree(params)\n",
    "dataNN_NoReg = TreeData(treeNN_NoRegWarm)\n",
    "dataNN_NoReg:get_training_set(treeNN_NoRegWarm,1)\n",
    "dataNN_NoReg:generate_new_initial_strategies(treeNN_NoRegWarm,nn_trainer)\n",
    "---Warm start the regrets:\n",
    "---dataNN:warm_start_regrets(treeNN_NoRegWarm,tree800)\n",
    "--- Building CFR Solver\n",
    "treeNN_NoRegWarm_cfr = TreeCFR2()\n",
    "treeNN_NoRegWarm_cfr.cfr_skip = 1\n",
    "treeNN_NoRegWarm_cfr:run_cfr(treeNN_NoRegWarm, starting_ranges,number_of_iterations)"
   ]
  },
  {
   "cell_type": "markdown",
   "metadata": {},
   "source": [
    "### Target Warm Start "
   ]
  },
  {
   "cell_type": "code",
   "execution_count": 16,
   "metadata": {
    "collapsed": true
   },
   "outputs": [],
   "source": [
    "--- Target Warm Starting\n",
    "treeTarRegWarm = builder:build_tree(params)\n",
    "dataTargReg = TreeData(treeTarRegWarm)\n",
    "---dataTarg:get_training_set(treeTargWarm,1)\n",
    "---dataTarg:warm_start_targets(treeTargWarm,tree800)\n",
    "---dataTarg:warm_start_regrets(treeTargWarm,tree800)\n",
    "---tree_warm_start = TreeWarmStart()\n",
    "---tree_warm_start:run_warm_start(treeTargWarm, starting_ranges,number_of_iterations)\n",
    "dataTargReg:warm_start_targets_and_regrets(treeTarRegWarm,tree800)"
   ]
  },
  {
   "cell_type": "code",
   "execution_count": 17,
   "metadata": {
    "collapsed": true
   },
   "outputs": [],
   "source": [
    "--- Building CFR Solver\n",
    "treeTarRegWarm_cfr = TreeCFR2()\n",
    "treeTarRegWarm_cfr.cfr_skip = 1\n",
    "treeTarRegWarm_cfr:run_cfr(treeTarRegWarm, starting_ranges,number_of_iterations)"
   ]
  },
  {
   "cell_type": "code",
   "execution_count": 18,
   "metadata": {
    "collapsed": true
   },
   "outputs": [],
   "source": [
    "--- Target Warm Starting\n",
    "treeTarWarm = builder:build_tree(params)\n",
    "dataTarg = TreeData(treeTarWarm)\n",
    "dataTarg:warm_start_targets(treeTarWarm,tree800)\n",
    "--- Building CFR Solver\n",
    "treeTarWarm_cfr = TreeCFR2()\n",
    "treeTarWarm_cfr.cfr_skip = 1\n",
    "treeTarWarm_cfr:run_cfr(treeTarWarm, starting_ranges,number_of_iterations)"
   ]
  },
  {
   "cell_type": "code",
   "execution_count": 19,
   "metadata": {
    "collapsed": true
   },
   "outputs": [],
   "source": [
    "--- Target Warm Starting\n",
    "treeRegWarm = builder:build_tree(params)\n",
    "dataReg = TreeData(treeRegWarm)\n",
    "dataReg:warm_start_regrets(treeRegWarm,tree800)\n",
    "--- Building CFR Solver\n",
    "treeRegWarm_cfr = TreeCFR2()\n",
    "treeRegWarm_cfr.cfr_skip = 1\n",
    "treeRegWarm_cfr:run_cfr(treeRegWarm, starting_ranges,number_of_iterations)"
   ]
  },
  {
   "cell_type": "markdown",
   "metadata": {},
   "source": [
    "### Plot different starts"
   ]
  },
  {
   "cell_type": "code",
   "execution_count": 20,
   "metadata": {
    "collapsed": true
   },
   "outputs": [],
   "source": [
    "exploit_unif = tree800_cfr.exploitability_vec\n",
    "exploit_NoW = treeNoWarm_cfr.exploitability_vec\n",
    "exploit_NNW = treeNNWarm_cfr.exploitability_vec\n",
    "exploit_NN_NoReg = treeNN_NoRegWarm_cfr.exploitability_vec\n",
    "exploit_TarRegW = treeTarRegWarm_cfr.exploitability_vec\n",
    "exploit_TarW = treeTarWarm_cfr.exploitability_vec\n",
    "exploit_RegW = treeRegWarm_cfr.exploitability_vec"
   ]
  },
  {
   "cell_type": "code",
   "execution_count": 21,
   "metadata": {},
   "outputs": [
    {
     "data": {
      "text/html": [
       "<script type=\"text/javascript\">\n",
       "$(function() {\n",
       "    if (typeof (window._bokeh_onload_callbacks) === \"undefined\"){\n",
       "  window._bokeh_onload_callbacks = [];\n",
       "    }\n",
       "    function load_lib(url, callback){\n",
       "  window._bokeh_onload_callbacks.push(callback);\n",
       "  if (window._bokeh_is_loading){\n",
       "      console.log(\"Bokeh: BokehJS is being loaded, scheduling callback at\", new Date());\n",
       "      return null;\n",
       "  }\n",
       "  console.log(\"Bokeh: BokehJS not loaded, scheduling load and callback at\", new Date());\n",
       "  window._bokeh_is_loading = true;\n",
       "  var s = document.createElement('script');\n",
       "  s.src = url;\n",
       "  s.async = true;\n",
       "  s.onreadystatechange = s.onload = function(){\n",
       "      Bokeh.embed.inject_css(\"https://cdn.pydata.org/bokeh-0.7.0.min.css\");\n",
       "      window._bokeh_onload_callbacks.forEach(function(callback){callback()});\n",
       "  };\n",
       "  s.onerror = function(){\n",
       "      console.warn(\"failed to load library \" + url);\n",
       "  };\n",
       "  document.getElementsByTagName(\"head\")[0].appendChild(s);\n",
       "    }\n",
       "\n",
       "    bokehjs_url = \"https://cdn.pydata.org/bokeh-0.7.0.min.js\"\n",
       "\n",
       "    var elt = document.getElementById(\"1cb90469-891a-436f-c33e-54a1608bc414\");\n",
       "    if(elt==null) {\n",
       "  console.log(\"Bokeh: ERROR: autoload.js configured with elementid '1cb90469-891a-436f-c33e-54a1608bc414'\"\n",
       "        + \"but no matching script tag was found. \")\n",
       "  return false;\n",
       "    }\n",
       "\n",
       "    if(typeof(Bokeh) !== \"undefined\") {\n",
       "  console.log(\"Bokeh: BokehJS loaded, going straight to plotting\");\n",
       "  var modelid = \"de7125a6-f1e1-4934-c904-2a1b5c8ff63e\";\n",
       "  var modeltype = \"Plot\";\n",
       "  var all_models = [{\"attributes\":{\"data\":{\"y\":[164.95370483398,66.383529663086,42.218864440918,32.918376922607,26.691440582275,22.278858184814,19.959638595581,16.690185546875,15.049201965332,13.397929191589,12.372065544128,11.518099784851,10.449922561646,9.7828712463379,9.0421524047852],\"x\":[1,2,3,4,5,6,7,8,9,10,11,12,13,14,15]},\"column_names\":[\"x\",\"y\"],\"discrete_ranges\":{},\"id\":\"0607e2e2-e98c-4c7c-ccef-958c78c0552c\",\"selected\":[],\"cont_ranges\":{},\"doc\":null,\"tags\":[]},\"type\":\"ColumnDataSource\",\"id\":\"0607e2e2-e98c-4c7c-ccef-958c78c0552c\"},{\"attributes\":{\"size\":{\"units\":\"screen\",\"value\":10},\"doc\":null,\"line_alpha\":{\"units\":\"data\",\"value\":1},\"fill_alpha\":{\"units\":\"data\",\"value\":0.2},\"fill_color\":{\"value\":\"black\"},\"id\":\"8361d4f7-014d-44e3-c440-bbd66cb56786\",\"tags\":[],\"x\":{\"units\":\"data\",\"field\":\"x\"},\"y\":{\"units\":\"data\",\"field\":\"y\"},\"line_color\":{\"value\":\"black\"}},\"type\":\"Line\",\"id\":\"8361d4f7-014d-44e3-c440-bbd66cb56786\"},{\"attributes\":{\"size\":{\"units\":\"screen\",\"value\":10},\"doc\":null,\"line_alpha\":{\"units\":\"data\",\"value\":1},\"fill_alpha\":{\"units\":\"data\",\"value\":0.2},\"fill_color\":{\"value\":\"black\"},\"id\":\"861767c8-434e-4fc1-cfa5-53272f748829\",\"tags\":[],\"x\":{\"units\":\"data\",\"field\":\"x\"},\"y\":{\"units\":\"data\",\"field\":\"y\"},\"line_color\":{\"value\":\"black\"}},\"type\":\"Line\",\"id\":\"861767c8-434e-4fc1-cfa5-53272f748829\"},{\"attributes\":{\"nonselection_glyph\":{\"id\":\"861767c8-434e-4fc1-cfa5-53272f748829\",\"type\":\"Line\"},\"glyph\":{\"id\":\"8361d4f7-014d-44e3-c440-bbd66cb56786\",\"type\":\"Line\"},\"doc\":null,\"selection_glyph\":null,\"data_source\":{\"id\":\"0607e2e2-e98c-4c7c-ccef-958c78c0552c\",\"type\":\"ColumnDataSource\"},\"name\":null,\"id\":\"ec68072a-90fc-4355-c35a-295261a49a09\",\"server_data_source\":null,\"tags\":[]},\"type\":\"GlyphRenderer\",\"id\":\"ec68072a-90fc-4355-c35a-295261a49a09\"},{\"attributes\":{\"data\":{\"y\":[19.860847473145,6.8118453025818,3.0912504196167,2.458206653595,1.8081016540527,2.1098175048828,1.2028026580811,1.1861152648926,1.0861210823059,1.1161932945251,1.3357486724854,0.9541163444519,1.1861214637756,0.88916969299316,0.95827627182007],\"x\":[1,2,3,4,5,6,7,8,9,10,11,12,13,14,15]},\"column_names\":[\"x\",\"y\"],\"discrete_ranges\":{},\"id\":\"55148b7d-4940-40a8-c000-f91951f4592a\",\"selected\":[],\"cont_ranges\":{},\"doc\":null,\"tags\":[]},\"type\":\"ColumnDataSource\",\"id\":\"55148b7d-4940-40a8-c000-f91951f4592a\"},{\"attributes\":{\"size\":{\"units\":\"screen\",\"value\":10},\"doc\":null,\"line_alpha\":{\"units\":\"data\",\"value\":1},\"fill_alpha\":{\"units\":\"data\",\"value\":0.2},\"fill_color\":{\"value\":\"blue\"},\"id\":\"fc1d0af6-c938-4941-c93e-488ce1daab8e\",\"tags\":[],\"x\":{\"units\":\"data\",\"field\":\"x\"},\"y\":{\"units\":\"data\",\"field\":\"y\"},\"line_color\":{\"value\":\"blue\"}},\"type\":\"Line\",\"id\":\"fc1d0af6-c938-4941-c93e-488ce1daab8e\"},{\"attributes\":{\"size\":{\"units\":\"screen\",\"value\":10},\"doc\":null,\"line_alpha\":{\"units\":\"data\",\"value\":1},\"fill_alpha\":{\"units\":\"data\",\"value\":0.2},\"fill_color\":{\"value\":\"blue\"},\"id\":\"c2e6dac2-3bff-4260-c2be-fdc46da4761a\",\"tags\":[],\"x\":{\"units\":\"data\",\"field\":\"x\"},\"y\":{\"units\":\"data\",\"field\":\"y\"},\"line_color\":{\"value\":\"blue\"}},\"type\":\"Line\",\"id\":\"c2e6dac2-3bff-4260-c2be-fdc46da4761a\"},{\"attributes\":{\"nonselection_glyph\":{\"id\":\"c2e6dac2-3bff-4260-c2be-fdc46da4761a\",\"type\":\"Line\"},\"glyph\":{\"id\":\"fc1d0af6-c938-4941-c93e-488ce1daab8e\",\"type\":\"Line\"},\"doc\":null,\"selection_glyph\":null,\"data_source\":{\"id\":\"55148b7d-4940-40a8-c000-f91951f4592a\",\"type\":\"ColumnDataSource\"},\"name\":null,\"id\":\"2edd80ee-e54a-41f9-c1d4-0e30f9c3de08\",\"server_data_source\":null,\"tags\":[]},\"type\":\"GlyphRenderer\",\"id\":\"2edd80ee-e54a-41f9-c1d4-0e30f9c3de08\"},{\"attributes\":{\"data\":{\"y\":[8.8606882095337,5.9474740028381,2.1517448425293,2.6888971328735,1.89817237854,2.1872754096985,0.99544429779053,1.2312607765198,1.1015791893005,1.1863098144531,1.2338366508484,0.93776655197144,1.1787877082825,0.85490942001343,0.96443843841553],\"x\":[1,2,3,4,5,6,7,8,9,10,11,12,13,14,15]},\"column_names\":[\"x\",\"y\"],\"discrete_ranges\":{},\"id\":\"8460f831-3a98-458c-c5c6-c5b50de212fe\",\"selected\":[],\"cont_ranges\":{},\"doc\":null,\"tags\":[]},\"type\":\"ColumnDataSource\",\"id\":\"8460f831-3a98-458c-c5c6-c5b50de212fe\"},{\"attributes\":{\"size\":{\"units\":\"screen\",\"value\":10},\"doc\":null,\"line_alpha\":{\"units\":\"data\",\"value\":1},\"fill_alpha\":{\"units\":\"data\",\"value\":0.2},\"fill_color\":{\"value\":\"green\"},\"id\":\"457fafbf-f1b0-492b-c948-7be9b4662be7\",\"tags\":[],\"x\":{\"units\":\"data\",\"field\":\"x\"},\"y\":{\"units\":\"data\",\"field\":\"y\"},\"line_color\":{\"value\":\"green\"}},\"type\":\"Line\",\"id\":\"457fafbf-f1b0-492b-c948-7be9b4662be7\"},{\"attributes\":{\"size\":{\"units\":\"screen\",\"value\":10},\"doc\":null,\"line_alpha\":{\"units\":\"data\",\"value\":1},\"fill_alpha\":{\"units\":\"data\",\"value\":0.2},\"fill_color\":{\"value\":\"green\"},\"id\":\"358c5f43-ce3c-4855-c873-9baa05d1608a\",\"tags\":[],\"x\":{\"units\":\"data\",\"field\":\"x\"},\"y\":{\"units\":\"data\",\"field\":\"y\"},\"line_color\":{\"value\":\"green\"}},\"type\":\"Line\",\"id\":\"358c5f43-ce3c-4855-c873-9baa05d1608a\"},{\"attributes\":{\"nonselection_glyph\":{\"id\":\"358c5f43-ce3c-4855-c873-9baa05d1608a\",\"type\":\"Line\"},\"glyph\":{\"id\":\"457fafbf-f1b0-492b-c948-7be9b4662be7\",\"type\":\"Line\"},\"doc\":null,\"selection_glyph\":null,\"data_source\":{\"id\":\"8460f831-3a98-458c-c5c6-c5b50de212fe\",\"type\":\"ColumnDataSource\"},\"name\":null,\"id\":\"f8bfcbc2-7468-4eb3-cea9-6846574db0f4\",\"server_data_source\":null,\"tags\":[]},\"type\":\"GlyphRenderer\",\"id\":\"f8bfcbc2-7468-4eb3-cea9-6846574db0f4\"},{\"attributes\":{\"doc\":null,\"tags\":[],\"sources\":[{\"columns\":[\"x\"],\"source\":{\"type\":\"ColumnDataSource\",\"id\":\"0607e2e2-e98c-4c7c-ccef-958c78c0552c\"}},{\"columns\":[\"x\"],\"source\":{\"type\":\"ColumnDataSource\",\"id\":\"55148b7d-4940-40a8-c000-f91951f4592a\"}},{\"columns\":[\"x\"],\"source\":{\"type\":\"ColumnDataSource\",\"id\":\"8460f831-3a98-458c-c5c6-c5b50de212fe\"}}],\"id\":\"c7e605f9-0d68-49cb-c99a-eb1c8b128e62\"},\"type\":\"DataRange1d\",\"id\":\"c7e605f9-0d68-49cb-c99a-eb1c8b128e62\"},{\"attributes\":{\"doc\":null,\"tags\":[],\"sources\":[{\"columns\":[\"y\"],\"source\":{\"type\":\"ColumnDataSource\",\"id\":\"0607e2e2-e98c-4c7c-ccef-958c78c0552c\"}},{\"columns\":[\"y\"],\"source\":{\"type\":\"ColumnDataSource\",\"id\":\"55148b7d-4940-40a8-c000-f91951f4592a\"}},{\"columns\":[\"y\"],\"source\":{\"type\":\"ColumnDataSource\",\"id\":\"8460f831-3a98-458c-c5c6-c5b50de212fe\"}}],\"id\":\"7b64688f-f0b2-4602-c663-be908d441d29\"},\"type\":\"DataRange1d\",\"id\":\"7b64688f-f0b2-4602-c663-be908d441d29\"},{\"attributes\":{\"doc\":null,\"tags\":[],\"geometries\":[],\"id\":\"5ace4431-6aa5-4712-c761-197e2237705a\"},\"type\":\"ToolEvents\",\"id\":\"5ace4431-6aa5-4712-c761-197e2237705a\"},{\"attributes\":{\"doc\":null,\"tags\":[],\"id\":\"fee45970-cdfb-4d93-cd24-817fba15372c\"},\"type\":\"BasicTickFormatter\",\"id\":\"fee45970-cdfb-4d93-cd24-817fba15372c\"},{\"attributes\":{\"doc\":null,\"num_minor_ticks\":5,\"tags\":[],\"id\":\"625f432a-db3e-44ca-c440-488cb8837c5a\"},\"type\":\"BasicTicker\",\"id\":\"625f432a-db3e-44ca-c440-488cb8837c5a\"},{\"attributes\":{\"axis_label\":\"Scaled number of iterations\",\"plot\":{\"id\":\"de7125a6-f1e1-4934-c904-2a1b5c8ff63e\",\"type\":\"Plot\",\"subtype\":\"Figure\"},\"id\":\"db6905ea-f591-4f66-cfce-680b8b2193f8\",\"doc\":null,\"ticker\":{\"id\":\"625f432a-db3e-44ca-c440-488cb8837c5a\",\"type\":\"BasicTicker\"},\"formatter\":{\"id\":\"fee45970-cdfb-4d93-cd24-817fba15372c\",\"type\":\"BasicTickFormatter\"},\"tags\":[]},\"type\":\"LinearAxis\",\"id\":\"db6905ea-f591-4f66-cfce-680b8b2193f8\"},{\"attributes\":{\"plot\":{\"id\":\"de7125a6-f1e1-4934-c904-2a1b5c8ff63e\",\"type\":\"Plot\",\"subtype\":\"Figure\"},\"id\":\"ae3590d4-4a4e-4afc-ca55-8515ceae9834\",\"doc\":null,\"dimension\":0,\"ticker\":{\"id\":\"625f432a-db3e-44ca-c440-488cb8837c5a\",\"type\":\"BasicTicker\"},\"tags\":[]},\"type\":\"Grid\",\"id\":\"ae3590d4-4a4e-4afc-ca55-8515ceae9834\"},{\"attributes\":{\"doc\":null,\"tags\":[],\"id\":\"33294732-cbdf-4a17-ca3f-c28464de5598\"},\"type\":\"BasicTickFormatter\",\"id\":\"33294732-cbdf-4a17-ca3f-c28464de5598\"},{\"attributes\":{\"doc\":null,\"num_minor_ticks\":5,\"tags\":[],\"id\":\"c7fcf4d2-c6af-47a0-c765-956bcd7ab0d0\"},\"type\":\"BasicTicker\",\"id\":\"c7fcf4d2-c6af-47a0-c765-956bcd7ab0d0\"},{\"attributes\":{\"axis_label\":\"Exploitability\",\"plot\":{\"id\":\"de7125a6-f1e1-4934-c904-2a1b5c8ff63e\",\"type\":\"Plot\",\"subtype\":\"Figure\"},\"id\":\"8d4b9679-e66d-4276-c2a8-178fadaabea7\",\"doc\":null,\"ticker\":{\"id\":\"c7fcf4d2-c6af-47a0-c765-956bcd7ab0d0\",\"type\":\"BasicTicker\"},\"formatter\":{\"id\":\"33294732-cbdf-4a17-ca3f-c28464de5598\",\"type\":\"BasicTickFormatter\"},\"tags\":[]},\"type\":\"LinearAxis\",\"id\":\"8d4b9679-e66d-4276-c2a8-178fadaabea7\"},{\"attributes\":{\"plot\":{\"id\":\"de7125a6-f1e1-4934-c904-2a1b5c8ff63e\",\"type\":\"Plot\",\"subtype\":\"Figure\"},\"id\":\"fb47c801-160f-4d36-cd40-49bc4b79e8ec\",\"doc\":null,\"dimension\":1,\"ticker\":{\"id\":\"c7fcf4d2-c6af-47a0-c765-956bcd7ab0d0\",\"type\":\"BasicTicker\"},\"tags\":[]},\"type\":\"Grid\",\"id\":\"fb47c801-160f-4d36-cd40-49bc4b79e8ec\"},{\"attributes\":{\"plot\":{\"id\":\"de7125a6-f1e1-4934-c904-2a1b5c8ff63e\",\"type\":\"Plot\",\"subtype\":\"Figure\"},\"id\":\"e440c0af-7779-4581-c5d5-f5f9eb264365\",\"doc\":null,\"dimensions\":[\"width\",\"height\"],\"tags\":[]},\"type\":\"PanTool\",\"id\":\"e440c0af-7779-4581-c5d5-f5f9eb264365\"},{\"attributes\":{\"plot\":{\"id\":\"de7125a6-f1e1-4934-c904-2a1b5c8ff63e\",\"type\":\"Plot\",\"subtype\":\"Figure\"},\"id\":\"c5c5c674-6ba2-45bd-c545-c72e1ec9fd13\",\"doc\":null,\"dimensions\":[\"width\",\"height\"],\"tags\":[]},\"type\":\"WheelZoomTool\",\"id\":\"c5c5c674-6ba2-45bd-c545-c72e1ec9fd13\"},{\"attributes\":{\"doc\":null,\"tags\":[],\"plot\":{\"id\":\"de7125a6-f1e1-4934-c904-2a1b5c8ff63e\",\"type\":\"Plot\",\"subtype\":\"Figure\"},\"id\":\"6cd7a2f1-6ef2-4c60-ccd4-0a3a18dc0bf4\"},\"type\":\"BoxZoomTool\",\"id\":\"6cd7a2f1-6ef2-4c60-ccd4-0a3a18dc0bf4\"},{\"attributes\":{\"doc\":null,\"tags\":[],\"plot\":{\"id\":\"de7125a6-f1e1-4934-c904-2a1b5c8ff63e\",\"type\":\"Plot\",\"subtype\":\"Figure\"},\"id\":\"d3de83c0-ff6a-4667-c65c-183463d2e6f7\"},\"type\":\"PreviewSaveTool\",\"id\":\"d3de83c0-ff6a-4667-c65c-183463d2e6f7\"},{\"attributes\":{\"doc\":null,\"tags\":[],\"plot\":{\"id\":\"de7125a6-f1e1-4934-c904-2a1b5c8ff63e\",\"type\":\"Plot\",\"subtype\":\"Figure\"},\"id\":\"d16ad1b9-756a-479a-c7fc-bd01a021e5ad\"},\"type\":\"ResizeTool\",\"id\":\"d16ad1b9-756a-479a-c7fc-bd01a021e5ad\"},{\"attributes\":{\"doc\":null,\"tags\":[],\"plot\":{\"id\":\"de7125a6-f1e1-4934-c904-2a1b5c8ff63e\",\"type\":\"Plot\",\"subtype\":\"Figure\"},\"id\":\"543c73ae-4225-4499-c412-e13337bbc9f5\"},\"type\":\"ResetTool\",\"id\":\"543c73ae-4225-4499-c412-e13337bbc9f5\"},{\"attributes\":{\"legends\":[[\"No Warm start = Random initialization\",[{\"id\":\"ec68072a-90fc-4355-c35a-295261a49a09\",\"type\":\"GlyphRenderer\"}]],[\"Neural Network warm start\",[{\"id\":\"2edd80ee-e54a-41f9-c1d4-0e30f9c3de08\",\"type\":\"GlyphRenderer\"}]],[\"Oracle warm start\",[{\"id\":\"f8bfcbc2-7468-4eb3-cea9-6846574db0f4\",\"type\":\"GlyphRenderer\"}]]],\"plot\":{\"id\":\"de7125a6-f1e1-4934-c904-2a1b5c8ff63e\",\"type\":\"Plot\",\"subtype\":\"Figure\"},\"id\":\"b7bd3137-05d6-4237-c245-add50c9fa275\",\"doc\":null,\"tags\":[]},\"type\":\"Legend\",\"id\":\"b7bd3137-05d6-4237-c245-add50c9fa275\"},{\"attributes\":{\"left\":[{\"id\":\"8d4b9679-e66d-4276-c2a8-178fadaabea7\",\"type\":\"LinearAxis\"}],\"extra_y_ranges\":{},\"renderers\":[{\"id\":\"ec68072a-90fc-4355-c35a-295261a49a09\",\"type\":\"GlyphRenderer\"},{\"id\":\"2edd80ee-e54a-41f9-c1d4-0e30f9c3de08\",\"type\":\"GlyphRenderer\"},{\"id\":\"f8bfcbc2-7468-4eb3-cea9-6846574db0f4\",\"type\":\"GlyphRenderer\"},{\"id\":\"db6905ea-f591-4f66-cfce-680b8b2193f8\",\"type\":\"LinearAxis\"},{\"id\":\"ae3590d4-4a4e-4afc-ca55-8515ceae9834\",\"type\":\"Grid\"},{\"id\":\"8d4b9679-e66d-4276-c2a8-178fadaabea7\",\"type\":\"LinearAxis\"},{\"id\":\"fb47c801-160f-4d36-cd40-49bc4b79e8ec\",\"type\":\"Grid\"},{\"id\":\"b7bd3137-05d6-4237-c245-add50c9fa275\",\"type\":\"Legend\"}],\"doc\":null,\"tools\":[{\"id\":\"e440c0af-7779-4581-c5d5-f5f9eb264365\",\"type\":\"PanTool\"},{\"id\":\"c5c5c674-6ba2-45bd-c545-c72e1ec9fd13\",\"type\":\"WheelZoomTool\"},{\"id\":\"6cd7a2f1-6ef2-4c60-ccd4-0a3a18dc0bf4\",\"type\":\"BoxZoomTool\"},{\"id\":\"d3de83c0-ff6a-4667-c65c-183463d2e6f7\",\"type\":\"PreviewSaveTool\"},{\"id\":\"d16ad1b9-756a-479a-c7fc-bd01a021e5ad\",\"type\":\"ResizeTool\"},{\"id\":\"543c73ae-4225-4499-c412-e13337bbc9f5\",\"type\":\"ResetTool\"}],\"extra_x_ranges\":{},\"x_range\":{\"id\":\"c7e605f9-0d68-49cb-c99a-eb1c8b128e62\",\"type\":\"DataRange1d\"},\"title\":\"Exploitability of different initializations, 200 iter.\",\"tool_events\":{\"id\":\"5ace4431-6aa5-4712-c761-197e2237705a\",\"type\":\"ToolEvents\"},\"y_range\":{\"id\":\"7b64688f-f0b2-4602-c663-be908d441d29\",\"type\":\"DataRange1d\"},\"tags\":[],\"id\":\"de7125a6-f1e1-4934-c904-2a1b5c8ff63e\",\"right\":[],\"below\":[{\"id\":\"db6905ea-f591-4f66-cfce-680b8b2193f8\",\"type\":\"LinearAxis\"}],\"above\":[]},\"type\":\"Plot\",\"id\":\"de7125a6-f1e1-4934-c904-2a1b5c8ff63e\"}];\n",
       "  Bokeh.load_models(all_models);\n",
       "  var model = Bokeh.Collections(modeltype).get(modelid);\n",
       "  $(\"#1cb90469-891a-436f-c33e-54a1608bc414\").html(''); // clear any previous plot in window_id\n",
       "  var view = new model.default_view({model: model, el: \"#1cb90469-891a-436f-c33e-54a1608bc414\"});\n",
       "    } else {\n",
       "  load_lib(bokehjs_url, function() {\n",
       "      console.log(\"Bokeh: BokehJS plotting callback run at\", new Date())\n",
       "      var modelid = \"de7125a6-f1e1-4934-c904-2a1b5c8ff63e\";\n",
       "      var modeltype = \"Plot\";\n",
       "      var all_models = [{\"attributes\":{\"data\":{\"y\":[164.95370483398,66.383529663086,42.218864440918,32.918376922607,26.691440582275,22.278858184814,19.959638595581,16.690185546875,15.049201965332,13.397929191589,12.372065544128,11.518099784851,10.449922561646,9.7828712463379,9.0421524047852],\"x\":[1,2,3,4,5,6,7,8,9,10,11,12,13,14,15]},\"column_names\":[\"x\",\"y\"],\"discrete_ranges\":{},\"id\":\"0607e2e2-e98c-4c7c-ccef-958c78c0552c\",\"selected\":[],\"cont_ranges\":{},\"doc\":null,\"tags\":[]},\"type\":\"ColumnDataSource\",\"id\":\"0607e2e2-e98c-4c7c-ccef-958c78c0552c\"},{\"attributes\":{\"size\":{\"units\":\"screen\",\"value\":10},\"doc\":null,\"line_alpha\":{\"units\":\"data\",\"value\":1},\"fill_alpha\":{\"units\":\"data\",\"value\":0.2},\"fill_color\":{\"value\":\"black\"},\"id\":\"8361d4f7-014d-44e3-c440-bbd66cb56786\",\"tags\":[],\"x\":{\"units\":\"data\",\"field\":\"x\"},\"y\":{\"units\":\"data\",\"field\":\"y\"},\"line_color\":{\"value\":\"black\"}},\"type\":\"Line\",\"id\":\"8361d4f7-014d-44e3-c440-bbd66cb56786\"},{\"attributes\":{\"size\":{\"units\":\"screen\",\"value\":10},\"doc\":null,\"line_alpha\":{\"units\":\"data\",\"value\":1},\"fill_alpha\":{\"units\":\"data\",\"value\":0.2},\"fill_color\":{\"value\":\"black\"},\"id\":\"861767c8-434e-4fc1-cfa5-53272f748829\",\"tags\":[],\"x\":{\"units\":\"data\",\"field\":\"x\"},\"y\":{\"units\":\"data\",\"field\":\"y\"},\"line_color\":{\"value\":\"black\"}},\"type\":\"Line\",\"id\":\"861767c8-434e-4fc1-cfa5-53272f748829\"},{\"attributes\":{\"nonselection_glyph\":{\"id\":\"861767c8-434e-4fc1-cfa5-53272f748829\",\"type\":\"Line\"},\"glyph\":{\"id\":\"8361d4f7-014d-44e3-c440-bbd66cb56786\",\"type\":\"Line\"},\"doc\":null,\"selection_glyph\":null,\"data_source\":{\"id\":\"0607e2e2-e98c-4c7c-ccef-958c78c0552c\",\"type\":\"ColumnDataSource\"},\"name\":null,\"id\":\"ec68072a-90fc-4355-c35a-295261a49a09\",\"server_data_source\":null,\"tags\":[]},\"type\":\"GlyphRenderer\",\"id\":\"ec68072a-90fc-4355-c35a-295261a49a09\"},{\"attributes\":{\"data\":{\"y\":[19.860847473145,6.8118453025818,3.0912504196167,2.458206653595,1.8081016540527,2.1098175048828,1.2028026580811,1.1861152648926,1.0861210823059,1.1161932945251,1.3357486724854,0.9541163444519,1.1861214637756,0.88916969299316,0.95827627182007],\"x\":[1,2,3,4,5,6,7,8,9,10,11,12,13,14,15]},\"column_names\":[\"x\",\"y\"],\"discrete_ranges\":{},\"id\":\"55148b7d-4940-40a8-c000-f91951f4592a\",\"selected\":[],\"cont_ranges\":{},\"doc\":null,\"tags\":[]},\"type\":\"ColumnDataSource\",\"id\":\"55148b7d-4940-40a8-c000-f91951f4592a\"},{\"attributes\":{\"size\":{\"units\":\"screen\",\"value\":10},\"doc\":null,\"line_alpha\":{\"units\":\"data\",\"value\":1},\"fill_alpha\":{\"units\":\"data\",\"value\":0.2},\"fill_color\":{\"value\":\"blue\"},\"id\":\"fc1d0af6-c938-4941-c93e-488ce1daab8e\",\"tags\":[],\"x\":{\"units\":\"data\",\"field\":\"x\"},\"y\":{\"units\":\"data\",\"field\":\"y\"},\"line_color\":{\"value\":\"blue\"}},\"type\":\"Line\",\"id\":\"fc1d0af6-c938-4941-c93e-488ce1daab8e\"},{\"attributes\":{\"size\":{\"units\":\"screen\",\"value\":10},\"doc\":null,\"line_alpha\":{\"units\":\"data\",\"value\":1},\"fill_alpha\":{\"units\":\"data\",\"value\":0.2},\"fill_color\":{\"value\":\"blue\"},\"id\":\"c2e6dac2-3bff-4260-c2be-fdc46da4761a\",\"tags\":[],\"x\":{\"units\":\"data\",\"field\":\"x\"},\"y\":{\"units\":\"data\",\"field\":\"y\"},\"line_color\":{\"value\":\"blue\"}},\"type\":\"Line\",\"id\":\"c2e6dac2-3bff-4260-c2be-fdc46da4761a\"},{\"attributes\":{\"nonselection_glyph\":{\"id\":\"c2e6dac2-3bff-4260-c2be-fdc46da4761a\",\"type\":\"Line\"},\"glyph\":{\"id\":\"fc1d0af6-c938-4941-c93e-488ce1daab8e\",\"type\":\"Line\"},\"doc\":null,\"selection_glyph\":null,\"data_source\":{\"id\":\"55148b7d-4940-40a8-c000-f91951f4592a\",\"type\":\"ColumnDataSource\"},\"name\":null,\"id\":\"2edd80ee-e54a-41f9-c1d4-0e30f9c3de08\",\"server_data_source\":null,\"tags\":[]},\"type\":\"GlyphRenderer\",\"id\":\"2edd80ee-e54a-41f9-c1d4-0e30f9c3de08\"},{\"attributes\":{\"data\":{\"y\":[8.8606882095337,5.9474740028381,2.1517448425293,2.6888971328735,1.89817237854,2.1872754096985,0.99544429779053,1.2312607765198,1.1015791893005,1.1863098144531,1.2338366508484,0.93776655197144,1.1787877082825,0.85490942001343,0.96443843841553],\"x\":[1,2,3,4,5,6,7,8,9,10,11,12,13,14,15]},\"column_names\":[\"x\",\"y\"],\"discrete_ranges\":{},\"id\":\"8460f831-3a98-458c-c5c6-c5b50de212fe\",\"selected\":[],\"cont_ranges\":{},\"doc\":null,\"tags\":[]},\"type\":\"ColumnDataSource\",\"id\":\"8460f831-3a98-458c-c5c6-c5b50de212fe\"},{\"attributes\":{\"size\":{\"units\":\"screen\",\"value\":10},\"doc\":null,\"line_alpha\":{\"units\":\"data\",\"value\":1},\"fill_alpha\":{\"units\":\"data\",\"value\":0.2},\"fill_color\":{\"value\":\"green\"},\"id\":\"457fafbf-f1b0-492b-c948-7be9b4662be7\",\"tags\":[],\"x\":{\"units\":\"data\",\"field\":\"x\"},\"y\":{\"units\":\"data\",\"field\":\"y\"},\"line_color\":{\"value\":\"green\"}},\"type\":\"Line\",\"id\":\"457fafbf-f1b0-492b-c948-7be9b4662be7\"},{\"attributes\":{\"size\":{\"units\":\"screen\",\"value\":10},\"doc\":null,\"line_alpha\":{\"units\":\"data\",\"value\":1},\"fill_alpha\":{\"units\":\"data\",\"value\":0.2},\"fill_color\":{\"value\":\"green\"},\"id\":\"358c5f43-ce3c-4855-c873-9baa05d1608a\",\"tags\":[],\"x\":{\"units\":\"data\",\"field\":\"x\"},\"y\":{\"units\":\"data\",\"field\":\"y\"},\"line_color\":{\"value\":\"green\"}},\"type\":\"Line\",\"id\":\"358c5f43-ce3c-4855-c873-9baa05d1608a\"},{\"attributes\":{\"nonselection_glyph\":{\"id\":\"358c5f43-ce3c-4855-c873-9baa05d1608a\",\"type\":\"Line\"},\"glyph\":{\"id\":\"457fafbf-f1b0-492b-c948-7be9b4662be7\",\"type\":\"Line\"},\"doc\":null,\"selection_glyph\":null,\"data_source\":{\"id\":\"8460f831-3a98-458c-c5c6-c5b50de212fe\",\"type\":\"ColumnDataSource\"},\"name\":null,\"id\":\"f8bfcbc2-7468-4eb3-cea9-6846574db0f4\",\"server_data_source\":null,\"tags\":[]},\"type\":\"GlyphRenderer\",\"id\":\"f8bfcbc2-7468-4eb3-cea9-6846574db0f4\"},{\"attributes\":{\"doc\":null,\"tags\":[],\"sources\":[{\"columns\":[\"x\"],\"source\":{\"type\":\"ColumnDataSource\",\"id\":\"0607e2e2-e98c-4c7c-ccef-958c78c0552c\"}},{\"columns\":[\"x\"],\"source\":{\"type\":\"ColumnDataSource\",\"id\":\"55148b7d-4940-40a8-c000-f91951f4592a\"}},{\"columns\":[\"x\"],\"source\":{\"type\":\"ColumnDataSource\",\"id\":\"8460f831-3a98-458c-c5c6-c5b50de212fe\"}}],\"id\":\"c7e605f9-0d68-49cb-c99a-eb1c8b128e62\"},\"type\":\"DataRange1d\",\"id\":\"c7e605f9-0d68-49cb-c99a-eb1c8b128e62\"},{\"attributes\":{\"doc\":null,\"tags\":[],\"sources\":[{\"columns\":[\"y\"],\"source\":{\"type\":\"ColumnDataSource\",\"id\":\"0607e2e2-e98c-4c7c-ccef-958c78c0552c\"}},{\"columns\":[\"y\"],\"source\":{\"type\":\"ColumnDataSource\",\"id\":\"55148b7d-4940-40a8-c000-f91951f4592a\"}},{\"columns\":[\"y\"],\"source\":{\"type\":\"ColumnDataSource\",\"id\":\"8460f831-3a98-458c-c5c6-c5b50de212fe\"}}],\"id\":\"7b64688f-f0b2-4602-c663-be908d441d29\"},\"type\":\"DataRange1d\",\"id\":\"7b64688f-f0b2-4602-c663-be908d441d29\"},{\"attributes\":{\"doc\":null,\"tags\":[],\"geometries\":[],\"id\":\"5ace4431-6aa5-4712-c761-197e2237705a\"},\"type\":\"ToolEvents\",\"id\":\"5ace4431-6aa5-4712-c761-197e2237705a\"},{\"attributes\":{\"doc\":null,\"tags\":[],\"id\":\"fee45970-cdfb-4d93-cd24-817fba15372c\"},\"type\":\"BasicTickFormatter\",\"id\":\"fee45970-cdfb-4d93-cd24-817fba15372c\"},{\"attributes\":{\"doc\":null,\"num_minor_ticks\":5,\"tags\":[],\"id\":\"625f432a-db3e-44ca-c440-488cb8837c5a\"},\"type\":\"BasicTicker\",\"id\":\"625f432a-db3e-44ca-c440-488cb8837c5a\"},{\"attributes\":{\"axis_label\":\"Scaled number of iterations\",\"plot\":{\"id\":\"de7125a6-f1e1-4934-c904-2a1b5c8ff63e\",\"type\":\"Plot\",\"subtype\":\"Figure\"},\"id\":\"db6905ea-f591-4f66-cfce-680b8b2193f8\",\"doc\":null,\"ticker\":{\"id\":\"625f432a-db3e-44ca-c440-488cb8837c5a\",\"type\":\"BasicTicker\"},\"formatter\":{\"id\":\"fee45970-cdfb-4d93-cd24-817fba15372c\",\"type\":\"BasicTickFormatter\"},\"tags\":[]},\"type\":\"LinearAxis\",\"id\":\"db6905ea-f591-4f66-cfce-680b8b2193f8\"},{\"attributes\":{\"plot\":{\"id\":\"de7125a6-f1e1-4934-c904-2a1b5c8ff63e\",\"type\":\"Plot\",\"subtype\":\"Figure\"},\"id\":\"ae3590d4-4a4e-4afc-ca55-8515ceae9834\",\"doc\":null,\"dimension\":0,\"ticker\":{\"id\":\"625f432a-db3e-44ca-c440-488cb8837c5a\",\"type\":\"BasicTicker\"},\"tags\":[]},\"type\":\"Grid\",\"id\":\"ae3590d4-4a4e-4afc-ca55-8515ceae9834\"},{\"attributes\":{\"doc\":null,\"tags\":[],\"id\":\"33294732-cbdf-4a17-ca3f-c28464de5598\"},\"type\":\"BasicTickFormatter\",\"id\":\"33294732-cbdf-4a17-ca3f-c28464de5598\"},{\"attributes\":{\"doc\":null,\"num_minor_ticks\":5,\"tags\":[],\"id\":\"c7fcf4d2-c6af-47a0-c765-956bcd7ab0d0\"},\"type\":\"BasicTicker\",\"id\":\"c7fcf4d2-c6af-47a0-c765-956bcd7ab0d0\"},{\"attributes\":{\"axis_label\":\"Exploitability\",\"plot\":{\"id\":\"de7125a6-f1e1-4934-c904-2a1b5c8ff63e\",\"type\":\"Plot\",\"subtype\":\"Figure\"},\"id\":\"8d4b9679-e66d-4276-c2a8-178fadaabea7\",\"doc\":null,\"ticker\":{\"id\":\"c7fcf4d2-c6af-47a0-c765-956bcd7ab0d0\",\"type\":\"BasicTicker\"},\"formatter\":{\"id\":\"33294732-cbdf-4a17-ca3f-c28464de5598\",\"type\":\"BasicTickFormatter\"},\"tags\":[]},\"type\":\"LinearAxis\",\"id\":\"8d4b9679-e66d-4276-c2a8-178fadaabea7\"},{\"attributes\":{\"plot\":{\"id\":\"de7125a6-f1e1-4934-c904-2a1b5c8ff63e\",\"type\":\"Plot\",\"subtype\":\"Figure\"},\"id\":\"fb47c801-160f-4d36-cd40-49bc4b79e8ec\",\"doc\":null,\"dimension\":1,\"ticker\":{\"id\":\"c7fcf4d2-c6af-47a0-c765-956bcd7ab0d0\",\"type\":\"BasicTicker\"},\"tags\":[]},\"type\":\"Grid\",\"id\":\"fb47c801-160f-4d36-cd40-49bc4b79e8ec\"},{\"attributes\":{\"plot\":{\"id\":\"de7125a6-f1e1-4934-c904-2a1b5c8ff63e\",\"type\":\"Plot\",\"subtype\":\"Figure\"},\"id\":\"e440c0af-7779-4581-c5d5-f5f9eb264365\",\"doc\":null,\"dimensions\":[\"width\",\"height\"],\"tags\":[]},\"type\":\"PanTool\",\"id\":\"e440c0af-7779-4581-c5d5-f5f9eb264365\"},{\"attributes\":{\"plot\":{\"id\":\"de7125a6-f1e1-4934-c904-2a1b5c8ff63e\",\"type\":\"Plot\",\"subtype\":\"Figure\"},\"id\":\"c5c5c674-6ba2-45bd-c545-c72e1ec9fd13\",\"doc\":null,\"dimensions\":[\"width\",\"height\"],\"tags\":[]},\"type\":\"WheelZoomTool\",\"id\":\"c5c5c674-6ba2-45bd-c545-c72e1ec9fd13\"},{\"attributes\":{\"doc\":null,\"tags\":[],\"plot\":{\"id\":\"de7125a6-f1e1-4934-c904-2a1b5c8ff63e\",\"type\":\"Plot\",\"subtype\":\"Figure\"},\"id\":\"6cd7a2f1-6ef2-4c60-ccd4-0a3a18dc0bf4\"},\"type\":\"BoxZoomTool\",\"id\":\"6cd7a2f1-6ef2-4c60-ccd4-0a3a18dc0bf4\"},{\"attributes\":{\"doc\":null,\"tags\":[],\"plot\":{\"id\":\"de7125a6-f1e1-4934-c904-2a1b5c8ff63e\",\"type\":\"Plot\",\"subtype\":\"Figure\"},\"id\":\"d3de83c0-ff6a-4667-c65c-183463d2e6f7\"},\"type\":\"PreviewSaveTool\",\"id\":\"d3de83c0-ff6a-4667-c65c-183463d2e6f7\"},{\"attributes\":{\"doc\":null,\"tags\":[],\"plot\":{\"id\":\"de7125a6-f1e1-4934-c904-2a1b5c8ff63e\",\"type\":\"Plot\",\"subtype\":\"Figure\"},\"id\":\"d16ad1b9-756a-479a-c7fc-bd01a021e5ad\"},\"type\":\"ResizeTool\",\"id\":\"d16ad1b9-756a-479a-c7fc-bd01a021e5ad\"},{\"attributes\":{\"doc\":null,\"tags\":[],\"plot\":{\"id\":\"de7125a6-f1e1-4934-c904-2a1b5c8ff63e\",\"type\":\"Plot\",\"subtype\":\"Figure\"},\"id\":\"543c73ae-4225-4499-c412-e13337bbc9f5\"},\"type\":\"ResetTool\",\"id\":\"543c73ae-4225-4499-c412-e13337bbc9f5\"},{\"attributes\":{\"legends\":[[\"No Warm start = Random initialization\",[{\"id\":\"ec68072a-90fc-4355-c35a-295261a49a09\",\"type\":\"GlyphRenderer\"}]],[\"Neural Network warm start\",[{\"id\":\"2edd80ee-e54a-41f9-c1d4-0e30f9c3de08\",\"type\":\"GlyphRenderer\"}]],[\"Oracle warm start\",[{\"id\":\"f8bfcbc2-7468-4eb3-cea9-6846574db0f4\",\"type\":\"GlyphRenderer\"}]]],\"plot\":{\"id\":\"de7125a6-f1e1-4934-c904-2a1b5c8ff63e\",\"type\":\"Plot\",\"subtype\":\"Figure\"},\"id\":\"b7bd3137-05d6-4237-c245-add50c9fa275\",\"doc\":null,\"tags\":[]},\"type\":\"Legend\",\"id\":\"b7bd3137-05d6-4237-c245-add50c9fa275\"},{\"attributes\":{\"left\":[{\"id\":\"8d4b9679-e66d-4276-c2a8-178fadaabea7\",\"type\":\"LinearAxis\"}],\"extra_y_ranges\":{},\"renderers\":[{\"id\":\"ec68072a-90fc-4355-c35a-295261a49a09\",\"type\":\"GlyphRenderer\"},{\"id\":\"2edd80ee-e54a-41f9-c1d4-0e30f9c3de08\",\"type\":\"GlyphRenderer\"},{\"id\":\"f8bfcbc2-7468-4eb3-cea9-6846574db0f4\",\"type\":\"GlyphRenderer\"},{\"id\":\"db6905ea-f591-4f66-cfce-680b8b2193f8\",\"type\":\"LinearAxis\"},{\"id\":\"ae3590d4-4a4e-4afc-ca55-8515ceae9834\",\"type\":\"Grid\"},{\"id\":\"8d4b9679-e66d-4276-c2a8-178fadaabea7\",\"type\":\"LinearAxis\"},{\"id\":\"fb47c801-160f-4d36-cd40-49bc4b79e8ec\",\"type\":\"Grid\"},{\"id\":\"b7bd3137-05d6-4237-c245-add50c9fa275\",\"type\":\"Legend\"}],\"doc\":null,\"tools\":[{\"id\":\"e440c0af-7779-4581-c5d5-f5f9eb264365\",\"type\":\"PanTool\"},{\"id\":\"c5c5c674-6ba2-45bd-c545-c72e1ec9fd13\",\"type\":\"WheelZoomTool\"},{\"id\":\"6cd7a2f1-6ef2-4c60-ccd4-0a3a18dc0bf4\",\"type\":\"BoxZoomTool\"},{\"id\":\"d3de83c0-ff6a-4667-c65c-183463d2e6f7\",\"type\":\"PreviewSaveTool\"},{\"id\":\"d16ad1b9-756a-479a-c7fc-bd01a021e5ad\",\"type\":\"ResizeTool\"},{\"id\":\"543c73ae-4225-4499-c412-e13337bbc9f5\",\"type\":\"ResetTool\"}],\"extra_x_ranges\":{},\"x_range\":{\"id\":\"c7e605f9-0d68-49cb-c99a-eb1c8b128e62\",\"type\":\"DataRange1d\"},\"title\":\"Exploitability of different initializations, 200 iter.\",\"tool_events\":{\"id\":\"5ace4431-6aa5-4712-c761-197e2237705a\",\"type\":\"ToolEvents\"},\"y_range\":{\"id\":\"7b64688f-f0b2-4602-c663-be908d441d29\",\"type\":\"DataRange1d\"},\"tags\":[],\"id\":\"de7125a6-f1e1-4934-c904-2a1b5c8ff63e\",\"right\":[],\"below\":[{\"id\":\"db6905ea-f591-4f66-cfce-680b8b2193f8\",\"type\":\"LinearAxis\"}],\"above\":[]},\"type\":\"Plot\",\"id\":\"de7125a6-f1e1-4934-c904-2a1b5c8ff63e\"}];\n",
       "      Bokeh.load_models(all_models);\n",
       "      var model = Bokeh.Collections(modeltype).get(modelid);\n",
       "      $(\"#1cb90469-891a-436f-c33e-54a1608bc414\").html(''); // clear any previous plot in window_id\n",
       "      var view = new model.default_view({model: model, el: \"#1cb90469-891a-436f-c33e-54a1608bc414\"});\n",
       "  });\n",
       "    }\n",
       "});\n",
       "</script>\n",
       "<div class=\"plotdiv\" id=\"1cb90469-891a-436f-c33e-54a1608bc414\"></div>\n"
      ]
     },
     "metadata": {},
     "output_type": "display_data"
    }
   ],
   "source": [
    "local num_iter = torch.range(1,exploit_NoW:size(1))\n",
    "local plot = Plot()\n",
    "\n",
    "---plot:line(num_iter,exploit_unif,'black' ,'No Warm start CFR = Uniform warm start')\n",
    "plot:line(num_iter,exploit_NoW,'black' ,'No Warm start = Random initialization')\n",
    "plot:line(num_iter,exploit_NNW,'blue' ,'Neural Network warm start')\n",
    "---plot:line(num_iter,exploit_NN_NoReg,'orange' ,'Neural Net warm start CFR no Regrets')\n",
    "plot:line(num_iter,exploit_TarRegW,'green' ,'Oracle warm start')\n",
    "--plot:line(num_iter,exploit_TarW,'brown' ,'Warm start only targets')\n",
    "---plot:line(num_iter,exploit_RegW,'red' ,'Warm start with target values ')\n",
    "plot:legend(true):title('Exploitability of different initializations, 200 iter.')\n",
    "plot:xaxis('Scaled number of iterations'):yaxis('Exploitability'):redraw()\n"
   ]
  },
  {
   "cell_type": "code",
   "execution_count": 22,
   "metadata": {},
   "outputs": [
    {
     "data": {
      "text/html": [
       "<script type=\"text/javascript\">\n",
       "$(function() {\n",
       "    if (typeof (window._bokeh_onload_callbacks) === \"undefined\"){\n",
       "  window._bokeh_onload_callbacks = [];\n",
       "    }\n",
       "    function load_lib(url, callback){\n",
       "  window._bokeh_onload_callbacks.push(callback);\n",
       "  if (window._bokeh_is_loading){\n",
       "      console.log(\"Bokeh: BokehJS is being loaded, scheduling callback at\", new Date());\n",
       "      return null;\n",
       "  }\n",
       "  console.log(\"Bokeh: BokehJS not loaded, scheduling load and callback at\", new Date());\n",
       "  window._bokeh_is_loading = true;\n",
       "  var s = document.createElement('script');\n",
       "  s.src = url;\n",
       "  s.async = true;\n",
       "  s.onreadystatechange = s.onload = function(){\n",
       "      Bokeh.embed.inject_css(\"https://cdn.pydata.org/bokeh-0.7.0.min.css\");\n",
       "      window._bokeh_onload_callbacks.forEach(function(callback){callback()});\n",
       "  };\n",
       "  s.onerror = function(){\n",
       "      console.warn(\"failed to load library \" + url);\n",
       "  };\n",
       "  document.getElementsByTagName(\"head\")[0].appendChild(s);\n",
       "    }\n",
       "\n",
       "    bokehjs_url = \"https://cdn.pydata.org/bokeh-0.7.0.min.js\"\n",
       "\n",
       "    var elt = document.getElementById(\"f594afa4-1bd0-4fa2-cf2a-5fbea7ab1dbd\");\n",
       "    if(elt==null) {\n",
       "  console.log(\"Bokeh: ERROR: autoload.js configured with elementid 'f594afa4-1bd0-4fa2-cf2a-5fbea7ab1dbd'\"\n",
       "        + \"but no matching script tag was found. \")\n",
       "  return false;\n",
       "    }\n",
       "\n",
       "    if(typeof(Bokeh) !== \"undefined\") {\n",
       "  console.log(\"Bokeh: BokehJS loaded, going straight to plotting\");\n",
       "  var modelid = \"70ceee90-9193-4cba-cc82-71798b9526b9\";\n",
       "  var modeltype = \"Plot\";\n",
       "  var all_models = [{\"attributes\":{\"data\":{\"y\":[164.95370483398,66.383529663086,42.218864440918,32.918376922607,26.691440582275,22.278858184814,19.959638595581,16.690185546875,15.049201965332,13.397929191589,12.372065544128,11.518099784851,10.449922561646,9.7828712463379,9.0421524047852],\"x\":[1,2,3,4,5,6,7,8,9,10,11,12,13,14,15]},\"column_names\":[\"x\",\"y\"],\"discrete_ranges\":{},\"id\":\"86589608-e8c1-4268-c229-b108b12b40f2\",\"selected\":[],\"cont_ranges\":{},\"doc\":null,\"tags\":[]},\"type\":\"ColumnDataSource\",\"id\":\"86589608-e8c1-4268-c229-b108b12b40f2\"},{\"attributes\":{\"size\":{\"units\":\"screen\",\"value\":10},\"doc\":null,\"line_alpha\":{\"units\":\"data\",\"value\":1},\"fill_alpha\":{\"units\":\"data\",\"value\":0.2},\"fill_color\":{\"value\":\"black\"},\"id\":\"bed14955-a7d5-4c70-cc0f-62a48435bcb0\",\"tags\":[],\"x\":{\"units\":\"data\",\"field\":\"x\"},\"y\":{\"units\":\"data\",\"field\":\"y\"},\"line_color\":{\"value\":\"black\"}},\"type\":\"Line\",\"id\":\"bed14955-a7d5-4c70-cc0f-62a48435bcb0\"},{\"attributes\":{\"size\":{\"units\":\"screen\",\"value\":10},\"doc\":null,\"line_alpha\":{\"units\":\"data\",\"value\":1},\"fill_alpha\":{\"units\":\"data\",\"value\":0.2},\"fill_color\":{\"value\":\"black\"},\"id\":\"835d801f-6ad0-478a-c7bb-a18c82b483b8\",\"tags\":[],\"x\":{\"units\":\"data\",\"field\":\"x\"},\"y\":{\"units\":\"data\",\"field\":\"y\"},\"line_color\":{\"value\":\"black\"}},\"type\":\"Line\",\"id\":\"835d801f-6ad0-478a-c7bb-a18c82b483b8\"},{\"attributes\":{\"nonselection_glyph\":{\"id\":\"835d801f-6ad0-478a-c7bb-a18c82b483b8\",\"type\":\"Line\"},\"glyph\":{\"id\":\"bed14955-a7d5-4c70-cc0f-62a48435bcb0\",\"type\":\"Line\"},\"doc\":null,\"selection_glyph\":null,\"data_source\":{\"id\":\"86589608-e8c1-4268-c229-b108b12b40f2\",\"type\":\"ColumnDataSource\"},\"name\":null,\"id\":\"f9b4f261-a12f-4d4d-cdb3-d97dcc2d733b\",\"server_data_source\":null,\"tags\":[]},\"type\":\"GlyphRenderer\",\"id\":\"f9b4f261-a12f-4d4d-cdb3-d97dcc2d733b\"},{\"attributes\":{\"data\":{\"y\":[19.860847473145,74.131149291992,50.979858398438,34.980667114258,26.661920547485,21.88501739502,18.69354057312,15.938606262207,14.998037338257,13.985810279846,12.129365921021,11.715013504028,10.478185653687,9.6292009353638,9.0431985855103],\"x\":[1,2,3,4,5,6,7,8,9,10,11,12,13,14,15]},\"column_names\":[\"x\",\"y\"],\"discrete_ranges\":{},\"id\":\"0687df56-75ac-4098-c0d2-6c0dd823ecdb\",\"selected\":[],\"cont_ranges\":{},\"doc\":null,\"tags\":[]},\"type\":\"ColumnDataSource\",\"id\":\"0687df56-75ac-4098-c0d2-6c0dd823ecdb\"},{\"attributes\":{\"size\":{\"units\":\"screen\",\"value\":10},\"doc\":null,\"line_alpha\":{\"units\":\"data\",\"value\":1},\"fill_alpha\":{\"units\":\"data\",\"value\":0.2},\"fill_color\":{\"value\":\"blue\"},\"id\":\"d105f946-bc19-44c8-c4cc-9a048ca0074f\",\"tags\":[],\"x\":{\"units\":\"data\",\"field\":\"x\"},\"y\":{\"units\":\"data\",\"field\":\"y\"},\"line_color\":{\"value\":\"blue\"}},\"type\":\"Line\",\"id\":\"d105f946-bc19-44c8-c4cc-9a048ca0074f\"},{\"attributes\":{\"size\":{\"units\":\"screen\",\"value\":10},\"doc\":null,\"line_alpha\":{\"units\":\"data\",\"value\":1},\"fill_alpha\":{\"units\":\"data\",\"value\":0.2},\"fill_color\":{\"value\":\"blue\"},\"id\":\"9352a6d0-bcbc-4f21-cf50-001a91e2369d\",\"tags\":[],\"x\":{\"units\":\"data\",\"field\":\"x\"},\"y\":{\"units\":\"data\",\"field\":\"y\"},\"line_color\":{\"value\":\"blue\"}},\"type\":\"Line\",\"id\":\"9352a6d0-bcbc-4f21-cf50-001a91e2369d\"},{\"attributes\":{\"nonselection_glyph\":{\"id\":\"9352a6d0-bcbc-4f21-cf50-001a91e2369d\",\"type\":\"Line\"},\"glyph\":{\"id\":\"d105f946-bc19-44c8-c4cc-9a048ca0074f\",\"type\":\"Line\"},\"doc\":null,\"selection_glyph\":null,\"data_source\":{\"id\":\"0687df56-75ac-4098-c0d2-6c0dd823ecdb\",\"type\":\"ColumnDataSource\"},\"name\":null,\"id\":\"3de01660-97cd-43a5-c310-fb97f654dd40\",\"server_data_source\":null,\"tags\":[]},\"type\":\"GlyphRenderer\",\"id\":\"3de01660-97cd-43a5-c310-fb97f654dd40\"},{\"attributes\":{\"data\":{\"y\":[8.8606882095337,5.9474740028381,2.1517448425293,2.6888971328735,1.89817237854,2.1872754096985,0.99544429779053,1.2312607765198,1.1015791893005,1.1863098144531,1.2338366508484,0.93776655197144,1.1787877082825,0.85490942001343,0.96443843841553],\"x\":[1,2,3,4,5,6,7,8,9,10,11,12,13,14,15]},\"column_names\":[\"x\",\"y\"],\"discrete_ranges\":{},\"id\":\"7928deb6-0a12-4a2f-ca3c-ae31a6584551\",\"selected\":[],\"cont_ranges\":{},\"doc\":null,\"tags\":[]},\"type\":\"ColumnDataSource\",\"id\":\"7928deb6-0a12-4a2f-ca3c-ae31a6584551\"},{\"attributes\":{\"size\":{\"units\":\"screen\",\"value\":10},\"doc\":null,\"line_alpha\":{\"units\":\"data\",\"value\":1},\"fill_alpha\":{\"units\":\"data\",\"value\":0.2},\"fill_color\":{\"value\":\"brown\"},\"id\":\"05fa3aa9-38ed-4fc9-cfa6-622ebd418806\",\"tags\":[],\"x\":{\"units\":\"data\",\"field\":\"x\"},\"y\":{\"units\":\"data\",\"field\":\"y\"},\"line_color\":{\"value\":\"brown\"}},\"type\":\"Line\",\"id\":\"05fa3aa9-38ed-4fc9-cfa6-622ebd418806\"},{\"attributes\":{\"size\":{\"units\":\"screen\",\"value\":10},\"doc\":null,\"line_alpha\":{\"units\":\"data\",\"value\":1},\"fill_alpha\":{\"units\":\"data\",\"value\":0.2},\"fill_color\":{\"value\":\"brown\"},\"id\":\"487beff7-96e2-48de-c831-4f3982d1388b\",\"tags\":[],\"x\":{\"units\":\"data\",\"field\":\"x\"},\"y\":{\"units\":\"data\",\"field\":\"y\"},\"line_color\":{\"value\":\"brown\"}},\"type\":\"Line\",\"id\":\"487beff7-96e2-48de-c831-4f3982d1388b\"},{\"attributes\":{\"nonselection_glyph\":{\"id\":\"487beff7-96e2-48de-c831-4f3982d1388b\",\"type\":\"Line\"},\"glyph\":{\"id\":\"05fa3aa9-38ed-4fc9-cfa6-622ebd418806\",\"type\":\"Line\"},\"doc\":null,\"selection_glyph\":null,\"data_source\":{\"id\":\"7928deb6-0a12-4a2f-ca3c-ae31a6584551\",\"type\":\"ColumnDataSource\"},\"name\":null,\"id\":\"312ea5e4-7e47-435a-c3b1-150b5c3e4b92\",\"server_data_source\":null,\"tags\":[]},\"type\":\"GlyphRenderer\",\"id\":\"312ea5e4-7e47-435a-c3b1-150b5c3e4b92\"},{\"attributes\":{\"data\":{\"y\":[8.8606882095337,89.883361816406,51.431049346924,35.171417236328,29.101314544678,22.323768615723,20.048137664795,17.517776489258,15.890510559082,14.165549278259,13.528032302856,12.283535957336,11.320134162903,10.488108634949,9.8538074493408],\"x\":[1,2,3,4,5,6,7,8,9,10,11,12,13,14,15]},\"column_names\":[\"x\",\"y\"],\"discrete_ranges\":{},\"id\":\"6259dd4a-eb52-4fa9-cfef-84cbcf4e9352\",\"selected\":[],\"cont_ranges\":{},\"doc\":null,\"tags\":[]},\"type\":\"ColumnDataSource\",\"id\":\"6259dd4a-eb52-4fa9-cfef-84cbcf4e9352\"},{\"attributes\":{\"size\":{\"units\":\"screen\",\"value\":10},\"doc\":null,\"line_alpha\":{\"units\":\"data\",\"value\":1},\"fill_alpha\":{\"units\":\"data\",\"value\":0.2},\"fill_color\":{\"value\":\"green\"},\"id\":\"190fb031-6e84-428b-c29c-01fb86a4a030\",\"tags\":[],\"x\":{\"units\":\"data\",\"field\":\"x\"},\"y\":{\"units\":\"data\",\"field\":\"y\"},\"line_color\":{\"value\":\"green\"}},\"type\":\"Line\",\"id\":\"190fb031-6e84-428b-c29c-01fb86a4a030\"},{\"attributes\":{\"size\":{\"units\":\"screen\",\"value\":10},\"doc\":null,\"line_alpha\":{\"units\":\"data\",\"value\":1},\"fill_alpha\":{\"units\":\"data\",\"value\":0.2},\"fill_color\":{\"value\":\"green\"},\"id\":\"492b71ed-2465-4f32-cfcd-ded354929a15\",\"tags\":[],\"x\":{\"units\":\"data\",\"field\":\"x\"},\"y\":{\"units\":\"data\",\"field\":\"y\"},\"line_color\":{\"value\":\"green\"}},\"type\":\"Line\",\"id\":\"492b71ed-2465-4f32-cfcd-ded354929a15\"},{\"attributes\":{\"nonselection_glyph\":{\"id\":\"492b71ed-2465-4f32-cfcd-ded354929a15\",\"type\":\"Line\"},\"glyph\":{\"id\":\"190fb031-6e84-428b-c29c-01fb86a4a030\",\"type\":\"Line\"},\"doc\":null,\"selection_glyph\":null,\"data_source\":{\"id\":\"6259dd4a-eb52-4fa9-cfef-84cbcf4e9352\",\"type\":\"ColumnDataSource\"},\"name\":null,\"id\":\"ce1b6abe-52a8-4081-c02d-73446874f4f5\",\"server_data_source\":null,\"tags\":[]},\"type\":\"GlyphRenderer\",\"id\":\"ce1b6abe-52a8-4081-c02d-73446874f4f5\"},{\"attributes\":{\"doc\":null,\"tags\":[],\"sources\":[{\"columns\":[\"x\"],\"source\":{\"type\":\"ColumnDataSource\",\"id\":\"86589608-e8c1-4268-c229-b108b12b40f2\"}},{\"columns\":[\"x\"],\"source\":{\"type\":\"ColumnDataSource\",\"id\":\"0687df56-75ac-4098-c0d2-6c0dd823ecdb\"}},{\"columns\":[\"x\"],\"source\":{\"type\":\"ColumnDataSource\",\"id\":\"7928deb6-0a12-4a2f-ca3c-ae31a6584551\"}},{\"columns\":[\"x\"],\"source\":{\"type\":\"ColumnDataSource\",\"id\":\"6259dd4a-eb52-4fa9-cfef-84cbcf4e9352\"}}],\"id\":\"7b2caf84-e898-46be-c658-61f6d419211a\"},\"type\":\"DataRange1d\",\"id\":\"7b2caf84-e898-46be-c658-61f6d419211a\"},{\"attributes\":{\"doc\":null,\"tags\":[],\"sources\":[{\"columns\":[\"y\"],\"source\":{\"type\":\"ColumnDataSource\",\"id\":\"86589608-e8c1-4268-c229-b108b12b40f2\"}},{\"columns\":[\"y\"],\"source\":{\"type\":\"ColumnDataSource\",\"id\":\"0687df56-75ac-4098-c0d2-6c0dd823ecdb\"}},{\"columns\":[\"y\"],\"source\":{\"type\":\"ColumnDataSource\",\"id\":\"7928deb6-0a12-4a2f-ca3c-ae31a6584551\"}},{\"columns\":[\"y\"],\"source\":{\"type\":\"ColumnDataSource\",\"id\":\"6259dd4a-eb52-4fa9-cfef-84cbcf4e9352\"}}],\"id\":\"c9cbc761-5923-4e18-ce1e-b4b61694ee96\"},\"type\":\"DataRange1d\",\"id\":\"c9cbc761-5923-4e18-ce1e-b4b61694ee96\"},{\"attributes\":{\"doc\":null,\"tags\":[],\"geometries\":[],\"id\":\"96fe9310-4560-413d-c1fb-46220ba494a7\"},\"type\":\"ToolEvents\",\"id\":\"96fe9310-4560-413d-c1fb-46220ba494a7\"},{\"attributes\":{\"doc\":null,\"tags\":[],\"id\":\"8959ebe1-132b-4a7b-ca18-991f6f1e6522\"},\"type\":\"BasicTickFormatter\",\"id\":\"8959ebe1-132b-4a7b-ca18-991f6f1e6522\"},{\"attributes\":{\"doc\":null,\"num_minor_ticks\":5,\"tags\":[],\"id\":\"a96bac42-7991-472f-c727-a2997c180757\"},\"type\":\"BasicTicker\",\"id\":\"a96bac42-7991-472f-c727-a2997c180757\"},{\"attributes\":{\"axis_label\":\"Scaled number of iterations\",\"plot\":{\"id\":\"70ceee90-9193-4cba-cc82-71798b9526b9\",\"type\":\"Plot\",\"subtype\":\"Figure\"},\"id\":\"c8ea69ee-443e-48cc-c896-97cfae84d2a8\",\"doc\":null,\"ticker\":{\"id\":\"a96bac42-7991-472f-c727-a2997c180757\",\"type\":\"BasicTicker\"},\"formatter\":{\"id\":\"8959ebe1-132b-4a7b-ca18-991f6f1e6522\",\"type\":\"BasicTickFormatter\"},\"tags\":[]},\"type\":\"LinearAxis\",\"id\":\"c8ea69ee-443e-48cc-c896-97cfae84d2a8\"},{\"attributes\":{\"plot\":{\"id\":\"70ceee90-9193-4cba-cc82-71798b9526b9\",\"type\":\"Plot\",\"subtype\":\"Figure\"},\"id\":\"8d62c131-208f-42b3-c243-c51e620d1f0c\",\"doc\":null,\"dimension\":0,\"ticker\":{\"id\":\"a96bac42-7991-472f-c727-a2997c180757\",\"type\":\"BasicTicker\"},\"tags\":[]},\"type\":\"Grid\",\"id\":\"8d62c131-208f-42b3-c243-c51e620d1f0c\"},{\"attributes\":{\"doc\":null,\"tags\":[],\"id\":\"2acb5847-d739-4182-c14c-481c8225fad2\"},\"type\":\"BasicTickFormatter\",\"id\":\"2acb5847-d739-4182-c14c-481c8225fad2\"},{\"attributes\":{\"doc\":null,\"num_minor_ticks\":5,\"tags\":[],\"id\":\"e8b04e39-aa29-42b2-c215-09202f3bd8db\"},\"type\":\"BasicTicker\",\"id\":\"e8b04e39-aa29-42b2-c215-09202f3bd8db\"},{\"attributes\":{\"axis_label\":\"Exploitability\",\"plot\":{\"id\":\"70ceee90-9193-4cba-cc82-71798b9526b9\",\"type\":\"Plot\",\"subtype\":\"Figure\"},\"id\":\"4a5e7a33-aab0-4bc3-cb03-e23cb62f10e0\",\"doc\":null,\"ticker\":{\"id\":\"e8b04e39-aa29-42b2-c215-09202f3bd8db\",\"type\":\"BasicTicker\"},\"formatter\":{\"id\":\"2acb5847-d739-4182-c14c-481c8225fad2\",\"type\":\"BasicTickFormatter\"},\"tags\":[]},\"type\":\"LinearAxis\",\"id\":\"4a5e7a33-aab0-4bc3-cb03-e23cb62f10e0\"},{\"attributes\":{\"plot\":{\"id\":\"70ceee90-9193-4cba-cc82-71798b9526b9\",\"type\":\"Plot\",\"subtype\":\"Figure\"},\"id\":\"a30d91ef-eee2-4c52-cc2c-f729b8fc29a4\",\"doc\":null,\"dimension\":1,\"ticker\":{\"id\":\"e8b04e39-aa29-42b2-c215-09202f3bd8db\",\"type\":\"BasicTicker\"},\"tags\":[]},\"type\":\"Grid\",\"id\":\"a30d91ef-eee2-4c52-cc2c-f729b8fc29a4\"},{\"attributes\":{\"plot\":{\"id\":\"70ceee90-9193-4cba-cc82-71798b9526b9\",\"type\":\"Plot\",\"subtype\":\"Figure\"},\"id\":\"a9f012c7-3071-4f21-cf57-615da0b9efc5\",\"doc\":null,\"dimensions\":[\"width\",\"height\"],\"tags\":[]},\"type\":\"PanTool\",\"id\":\"a9f012c7-3071-4f21-cf57-615da0b9efc5\"},{\"attributes\":{\"plot\":{\"id\":\"70ceee90-9193-4cba-cc82-71798b9526b9\",\"type\":\"Plot\",\"subtype\":\"Figure\"},\"id\":\"00dd816b-64a7-499f-c979-f0c5c443c716\",\"doc\":null,\"dimensions\":[\"width\",\"height\"],\"tags\":[]},\"type\":\"WheelZoomTool\",\"id\":\"00dd816b-64a7-499f-c979-f0c5c443c716\"},{\"attributes\":{\"doc\":null,\"tags\":[],\"plot\":{\"id\":\"70ceee90-9193-4cba-cc82-71798b9526b9\",\"type\":\"Plot\",\"subtype\":\"Figure\"},\"id\":\"a990e84d-0f24-49b8-c9c0-9f109cb07efe\"},\"type\":\"BoxZoomTool\",\"id\":\"a990e84d-0f24-49b8-c9c0-9f109cb07efe\"},{\"attributes\":{\"doc\":null,\"tags\":[],\"plot\":{\"id\":\"70ceee90-9193-4cba-cc82-71798b9526b9\",\"type\":\"Plot\",\"subtype\":\"Figure\"},\"id\":\"c494c506-4e77-466a-c636-5dd5982f94d1\"},\"type\":\"PreviewSaveTool\",\"id\":\"c494c506-4e77-466a-c636-5dd5982f94d1\"},{\"attributes\":{\"doc\":null,\"tags\":[],\"plot\":{\"id\":\"70ceee90-9193-4cba-cc82-71798b9526b9\",\"type\":\"Plot\",\"subtype\":\"Figure\"},\"id\":\"0d77c564-6f53-4be9-cb82-9d2640f1fb80\"},\"type\":\"ResizeTool\",\"id\":\"0d77c564-6f53-4be9-cb82-9d2640f1fb80\"},{\"attributes\":{\"doc\":null,\"tags\":[],\"plot\":{\"id\":\"70ceee90-9193-4cba-cc82-71798b9526b9\",\"type\":\"Plot\",\"subtype\":\"Figure\"},\"id\":\"e67d0046-ffe7-460c-c6e6-2788f04e4a5d\"},\"type\":\"ResetTool\",\"id\":\"e67d0046-ffe7-460c-c6e6-2788f04e4a5d\"},{\"attributes\":{\"legends\":[[\"No Warm start = Random initialization\",[{\"id\":\"f9b4f261-a12f-4d4d-cdb3-d97dcc2d733b\",\"type\":\"GlyphRenderer\"}]],[\"Neural Network warm start without regrets\",[{\"id\":\"3de01660-97cd-43a5-c310-fb97f654dd40\",\"type\":\"GlyphRenderer\"}]],[\"Oracle warm start with regrets\",[{\"id\":\"312ea5e4-7e47-435a-c3b1-150b5c3e4b92\",\"type\":\"GlyphRenderer\"}]],[\"Oracle warm start without regrets\",[{\"id\":\"ce1b6abe-52a8-4081-c02d-73446874f4f5\",\"type\":\"GlyphRenderer\"}]]],\"plot\":{\"id\":\"70ceee90-9193-4cba-cc82-71798b9526b9\",\"type\":\"Plot\",\"subtype\":\"Figure\"},\"id\":\"17f572a8-7295-4284-c25f-b0896b0bcd19\",\"doc\":null,\"tags\":[]},\"type\":\"Legend\",\"id\":\"17f572a8-7295-4284-c25f-b0896b0bcd19\"},{\"attributes\":{\"left\":[{\"id\":\"4a5e7a33-aab0-4bc3-cb03-e23cb62f10e0\",\"type\":\"LinearAxis\"}],\"extra_y_ranges\":{},\"renderers\":[{\"id\":\"f9b4f261-a12f-4d4d-cdb3-d97dcc2d733b\",\"type\":\"GlyphRenderer\"},{\"id\":\"3de01660-97cd-43a5-c310-fb97f654dd40\",\"type\":\"GlyphRenderer\"},{\"id\":\"312ea5e4-7e47-435a-c3b1-150b5c3e4b92\",\"type\":\"GlyphRenderer\"},{\"id\":\"ce1b6abe-52a8-4081-c02d-73446874f4f5\",\"type\":\"GlyphRenderer\"},{\"id\":\"c8ea69ee-443e-48cc-c896-97cfae84d2a8\",\"type\":\"LinearAxis\"},{\"id\":\"8d62c131-208f-42b3-c243-c51e620d1f0c\",\"type\":\"Grid\"},{\"id\":\"4a5e7a33-aab0-4bc3-cb03-e23cb62f10e0\",\"type\":\"LinearAxis\"},{\"id\":\"a30d91ef-eee2-4c52-cc2c-f729b8fc29a4\",\"type\":\"Grid\"},{\"id\":\"17f572a8-7295-4284-c25f-b0896b0bcd19\",\"type\":\"Legend\"}],\"doc\":null,\"tools\":[{\"id\":\"a9f012c7-3071-4f21-cf57-615da0b9efc5\",\"type\":\"PanTool\"},{\"id\":\"00dd816b-64a7-499f-c979-f0c5c443c716\",\"type\":\"WheelZoomTool\"},{\"id\":\"a990e84d-0f24-49b8-c9c0-9f109cb07efe\",\"type\":\"BoxZoomTool\"},{\"id\":\"c494c506-4e77-466a-c636-5dd5982f94d1\",\"type\":\"PreviewSaveTool\"},{\"id\":\"0d77c564-6f53-4be9-cb82-9d2640f1fb80\",\"type\":\"ResizeTool\"},{\"id\":\"e67d0046-ffe7-460c-c6e6-2788f04e4a5d\",\"type\":\"ResetTool\"}],\"extra_x_ranges\":{},\"x_range\":{\"id\":\"7b2caf84-e898-46be-c658-61f6d419211a\",\"type\":\"DataRange1d\"},\"title\":\"Exploitability of different initializations, 200 iter.\",\"tool_events\":{\"id\":\"96fe9310-4560-413d-c1fb-46220ba494a7\",\"type\":\"ToolEvents\"},\"y_range\":{\"id\":\"c9cbc761-5923-4e18-ce1e-b4b61694ee96\",\"type\":\"DataRange1d\"},\"tags\":[],\"id\":\"70ceee90-9193-4cba-cc82-71798b9526b9\",\"right\":[],\"below\":[{\"id\":\"c8ea69ee-443e-48cc-c896-97cfae84d2a8\",\"type\":\"LinearAxis\"}],\"above\":[]},\"type\":\"Plot\",\"id\":\"70ceee90-9193-4cba-cc82-71798b9526b9\"}];\n",
       "  Bokeh.load_models(all_models);\n",
       "  var model = Bokeh.Collections(modeltype).get(modelid);\n",
       "  $(\"#f594afa4-1bd0-4fa2-cf2a-5fbea7ab1dbd\").html(''); // clear any previous plot in window_id\n",
       "  var view = new model.default_view({model: model, el: \"#f594afa4-1bd0-4fa2-cf2a-5fbea7ab1dbd\"});\n",
       "    } else {\n",
       "  load_lib(bokehjs_url, function() {\n",
       "      console.log(\"Bokeh: BokehJS plotting callback run at\", new Date())\n",
       "      var modelid = \"70ceee90-9193-4cba-cc82-71798b9526b9\";\n",
       "      var modeltype = \"Plot\";\n",
       "      var all_models = [{\"attributes\":{\"data\":{\"y\":[164.95370483398,66.383529663086,42.218864440918,32.918376922607,26.691440582275,22.278858184814,19.959638595581,16.690185546875,15.049201965332,13.397929191589,12.372065544128,11.518099784851,10.449922561646,9.7828712463379,9.0421524047852],\"x\":[1,2,3,4,5,6,7,8,9,10,11,12,13,14,15]},\"column_names\":[\"x\",\"y\"],\"discrete_ranges\":{},\"id\":\"86589608-e8c1-4268-c229-b108b12b40f2\",\"selected\":[],\"cont_ranges\":{},\"doc\":null,\"tags\":[]},\"type\":\"ColumnDataSource\",\"id\":\"86589608-e8c1-4268-c229-b108b12b40f2\"},{\"attributes\":{\"size\":{\"units\":\"screen\",\"value\":10},\"doc\":null,\"line_alpha\":{\"units\":\"data\",\"value\":1},\"fill_alpha\":{\"units\":\"data\",\"value\":0.2},\"fill_color\":{\"value\":\"black\"},\"id\":\"bed14955-a7d5-4c70-cc0f-62a48435bcb0\",\"tags\":[],\"x\":{\"units\":\"data\",\"field\":\"x\"},\"y\":{\"units\":\"data\",\"field\":\"y\"},\"line_color\":{\"value\":\"black\"}},\"type\":\"Line\",\"id\":\"bed14955-a7d5-4c70-cc0f-62a48435bcb0\"},{\"attributes\":{\"size\":{\"units\":\"screen\",\"value\":10},\"doc\":null,\"line_alpha\":{\"units\":\"data\",\"value\":1},\"fill_alpha\":{\"units\":\"data\",\"value\":0.2},\"fill_color\":{\"value\":\"black\"},\"id\":\"835d801f-6ad0-478a-c7bb-a18c82b483b8\",\"tags\":[],\"x\":{\"units\":\"data\",\"field\":\"x\"},\"y\":{\"units\":\"data\",\"field\":\"y\"},\"line_color\":{\"value\":\"black\"}},\"type\":\"Line\",\"id\":\"835d801f-6ad0-478a-c7bb-a18c82b483b8\"},{\"attributes\":{\"nonselection_glyph\":{\"id\":\"835d801f-6ad0-478a-c7bb-a18c82b483b8\",\"type\":\"Line\"},\"glyph\":{\"id\":\"bed14955-a7d5-4c70-cc0f-62a48435bcb0\",\"type\":\"Line\"},\"doc\":null,\"selection_glyph\":null,\"data_source\":{\"id\":\"86589608-e8c1-4268-c229-b108b12b40f2\",\"type\":\"ColumnDataSource\"},\"name\":null,\"id\":\"f9b4f261-a12f-4d4d-cdb3-d97dcc2d733b\",\"server_data_source\":null,\"tags\":[]},\"type\":\"GlyphRenderer\",\"id\":\"f9b4f261-a12f-4d4d-cdb3-d97dcc2d733b\"},{\"attributes\":{\"data\":{\"y\":[19.860847473145,74.131149291992,50.979858398438,34.980667114258,26.661920547485,21.88501739502,18.69354057312,15.938606262207,14.998037338257,13.985810279846,12.129365921021,11.715013504028,10.478185653687,9.6292009353638,9.0431985855103],\"x\":[1,2,3,4,5,6,7,8,9,10,11,12,13,14,15]},\"column_names\":[\"x\",\"y\"],\"discrete_ranges\":{},\"id\":\"0687df56-75ac-4098-c0d2-6c0dd823ecdb\",\"selected\":[],\"cont_ranges\":{},\"doc\":null,\"tags\":[]},\"type\":\"ColumnDataSource\",\"id\":\"0687df56-75ac-4098-c0d2-6c0dd823ecdb\"},{\"attributes\":{\"size\":{\"units\":\"screen\",\"value\":10},\"doc\":null,\"line_alpha\":{\"units\":\"data\",\"value\":1},\"fill_alpha\":{\"units\":\"data\",\"value\":0.2},\"fill_color\":{\"value\":\"blue\"},\"id\":\"d105f946-bc19-44c8-c4cc-9a048ca0074f\",\"tags\":[],\"x\":{\"units\":\"data\",\"field\":\"x\"},\"y\":{\"units\":\"data\",\"field\":\"y\"},\"line_color\":{\"value\":\"blue\"}},\"type\":\"Line\",\"id\":\"d105f946-bc19-44c8-c4cc-9a048ca0074f\"},{\"attributes\":{\"size\":{\"units\":\"screen\",\"value\":10},\"doc\":null,\"line_alpha\":{\"units\":\"data\",\"value\":1},\"fill_alpha\":{\"units\":\"data\",\"value\":0.2},\"fill_color\":{\"value\":\"blue\"},\"id\":\"9352a6d0-bcbc-4f21-cf50-001a91e2369d\",\"tags\":[],\"x\":{\"units\":\"data\",\"field\":\"x\"},\"y\":{\"units\":\"data\",\"field\":\"y\"},\"line_color\":{\"value\":\"blue\"}},\"type\":\"Line\",\"id\":\"9352a6d0-bcbc-4f21-cf50-001a91e2369d\"},{\"attributes\":{\"nonselection_glyph\":{\"id\":\"9352a6d0-bcbc-4f21-cf50-001a91e2369d\",\"type\":\"Line\"},\"glyph\":{\"id\":\"d105f946-bc19-44c8-c4cc-9a048ca0074f\",\"type\":\"Line\"},\"doc\":null,\"selection_glyph\":null,\"data_source\":{\"id\":\"0687df56-75ac-4098-c0d2-6c0dd823ecdb\",\"type\":\"ColumnDataSource\"},\"name\":null,\"id\":\"3de01660-97cd-43a5-c310-fb97f654dd40\",\"server_data_source\":null,\"tags\":[]},\"type\":\"GlyphRenderer\",\"id\":\"3de01660-97cd-43a5-c310-fb97f654dd40\"},{\"attributes\":{\"data\":{\"y\":[8.8606882095337,5.9474740028381,2.1517448425293,2.6888971328735,1.89817237854,2.1872754096985,0.99544429779053,1.2312607765198,1.1015791893005,1.1863098144531,1.2338366508484,0.93776655197144,1.1787877082825,0.85490942001343,0.96443843841553],\"x\":[1,2,3,4,5,6,7,8,9,10,11,12,13,14,15]},\"column_names\":[\"x\",\"y\"],\"discrete_ranges\":{},\"id\":\"7928deb6-0a12-4a2f-ca3c-ae31a6584551\",\"selected\":[],\"cont_ranges\":{},\"doc\":null,\"tags\":[]},\"type\":\"ColumnDataSource\",\"id\":\"7928deb6-0a12-4a2f-ca3c-ae31a6584551\"},{\"attributes\":{\"size\":{\"units\":\"screen\",\"value\":10},\"doc\":null,\"line_alpha\":{\"units\":\"data\",\"value\":1},\"fill_alpha\":{\"units\":\"data\",\"value\":0.2},\"fill_color\":{\"value\":\"brown\"},\"id\":\"05fa3aa9-38ed-4fc9-cfa6-622ebd418806\",\"tags\":[],\"x\":{\"units\":\"data\",\"field\":\"x\"},\"y\":{\"units\":\"data\",\"field\":\"y\"},\"line_color\":{\"value\":\"brown\"}},\"type\":\"Line\",\"id\":\"05fa3aa9-38ed-4fc9-cfa6-622ebd418806\"},{\"attributes\":{\"size\":{\"units\":\"screen\",\"value\":10},\"doc\":null,\"line_alpha\":{\"units\":\"data\",\"value\":1},\"fill_alpha\":{\"units\":\"data\",\"value\":0.2},\"fill_color\":{\"value\":\"brown\"},\"id\":\"487beff7-96e2-48de-c831-4f3982d1388b\",\"tags\":[],\"x\":{\"units\":\"data\",\"field\":\"x\"},\"y\":{\"units\":\"data\",\"field\":\"y\"},\"line_color\":{\"value\":\"brown\"}},\"type\":\"Line\",\"id\":\"487beff7-96e2-48de-c831-4f3982d1388b\"},{\"attributes\":{\"nonselection_glyph\":{\"id\":\"487beff7-96e2-48de-c831-4f3982d1388b\",\"type\":\"Line\"},\"glyph\":{\"id\":\"05fa3aa9-38ed-4fc9-cfa6-622ebd418806\",\"type\":\"Line\"},\"doc\":null,\"selection_glyph\":null,\"data_source\":{\"id\":\"7928deb6-0a12-4a2f-ca3c-ae31a6584551\",\"type\":\"ColumnDataSource\"},\"name\":null,\"id\":\"312ea5e4-7e47-435a-c3b1-150b5c3e4b92\",\"server_data_source\":null,\"tags\":[]},\"type\":\"GlyphRenderer\",\"id\":\"312ea5e4-7e47-435a-c3b1-150b5c3e4b92\"},{\"attributes\":{\"data\":{\"y\":[8.8606882095337,89.883361816406,51.431049346924,35.171417236328,29.101314544678,22.323768615723,20.048137664795,17.517776489258,15.890510559082,14.165549278259,13.528032302856,12.283535957336,11.320134162903,10.488108634949,9.8538074493408],\"x\":[1,2,3,4,5,6,7,8,9,10,11,12,13,14,15]},\"column_names\":[\"x\",\"y\"],\"discrete_ranges\":{},\"id\":\"6259dd4a-eb52-4fa9-cfef-84cbcf4e9352\",\"selected\":[],\"cont_ranges\":{},\"doc\":null,\"tags\":[]},\"type\":\"ColumnDataSource\",\"id\":\"6259dd4a-eb52-4fa9-cfef-84cbcf4e9352\"},{\"attributes\":{\"size\":{\"units\":\"screen\",\"value\":10},\"doc\":null,\"line_alpha\":{\"units\":\"data\",\"value\":1},\"fill_alpha\":{\"units\":\"data\",\"value\":0.2},\"fill_color\":{\"value\":\"green\"},\"id\":\"190fb031-6e84-428b-c29c-01fb86a4a030\",\"tags\":[],\"x\":{\"units\":\"data\",\"field\":\"x\"},\"y\":{\"units\":\"data\",\"field\":\"y\"},\"line_color\":{\"value\":\"green\"}},\"type\":\"Line\",\"id\":\"190fb031-6e84-428b-c29c-01fb86a4a030\"},{\"attributes\":{\"size\":{\"units\":\"screen\",\"value\":10},\"doc\":null,\"line_alpha\":{\"units\":\"data\",\"value\":1},\"fill_alpha\":{\"units\":\"data\",\"value\":0.2},\"fill_color\":{\"value\":\"green\"},\"id\":\"492b71ed-2465-4f32-cfcd-ded354929a15\",\"tags\":[],\"x\":{\"units\":\"data\",\"field\":\"x\"},\"y\":{\"units\":\"data\",\"field\":\"y\"},\"line_color\":{\"value\":\"green\"}},\"type\":\"Line\",\"id\":\"492b71ed-2465-4f32-cfcd-ded354929a15\"},{\"attributes\":{\"nonselection_glyph\":{\"id\":\"492b71ed-2465-4f32-cfcd-ded354929a15\",\"type\":\"Line\"},\"glyph\":{\"id\":\"190fb031-6e84-428b-c29c-01fb86a4a030\",\"type\":\"Line\"},\"doc\":null,\"selection_glyph\":null,\"data_source\":{\"id\":\"6259dd4a-eb52-4fa9-cfef-84cbcf4e9352\",\"type\":\"ColumnDataSource\"},\"name\":null,\"id\":\"ce1b6abe-52a8-4081-c02d-73446874f4f5\",\"server_data_source\":null,\"tags\":[]},\"type\":\"GlyphRenderer\",\"id\":\"ce1b6abe-52a8-4081-c02d-73446874f4f5\"},{\"attributes\":{\"doc\":null,\"tags\":[],\"sources\":[{\"columns\":[\"x\"],\"source\":{\"type\":\"ColumnDataSource\",\"id\":\"86589608-e8c1-4268-c229-b108b12b40f2\"}},{\"columns\":[\"x\"],\"source\":{\"type\":\"ColumnDataSource\",\"id\":\"0687df56-75ac-4098-c0d2-6c0dd823ecdb\"}},{\"columns\":[\"x\"],\"source\":{\"type\":\"ColumnDataSource\",\"id\":\"7928deb6-0a12-4a2f-ca3c-ae31a6584551\"}},{\"columns\":[\"x\"],\"source\":{\"type\":\"ColumnDataSource\",\"id\":\"6259dd4a-eb52-4fa9-cfef-84cbcf4e9352\"}}],\"id\":\"7b2caf84-e898-46be-c658-61f6d419211a\"},\"type\":\"DataRange1d\",\"id\":\"7b2caf84-e898-46be-c658-61f6d419211a\"},{\"attributes\":{\"doc\":null,\"tags\":[],\"sources\":[{\"columns\":[\"y\"],\"source\":{\"type\":\"ColumnDataSource\",\"id\":\"86589608-e8c1-4268-c229-b108b12b40f2\"}},{\"columns\":[\"y\"],\"source\":{\"type\":\"ColumnDataSource\",\"id\":\"0687df56-75ac-4098-c0d2-6c0dd823ecdb\"}},{\"columns\":[\"y\"],\"source\":{\"type\":\"ColumnDataSource\",\"id\":\"7928deb6-0a12-4a2f-ca3c-ae31a6584551\"}},{\"columns\":[\"y\"],\"source\":{\"type\":\"ColumnDataSource\",\"id\":\"6259dd4a-eb52-4fa9-cfef-84cbcf4e9352\"}}],\"id\":\"c9cbc761-5923-4e18-ce1e-b4b61694ee96\"},\"type\":\"DataRange1d\",\"id\":\"c9cbc761-5923-4e18-ce1e-b4b61694ee96\"},{\"attributes\":{\"doc\":null,\"tags\":[],\"geometries\":[],\"id\":\"96fe9310-4560-413d-c1fb-46220ba494a7\"},\"type\":\"ToolEvents\",\"id\":\"96fe9310-4560-413d-c1fb-46220ba494a7\"},{\"attributes\":{\"doc\":null,\"tags\":[],\"id\":\"8959ebe1-132b-4a7b-ca18-991f6f1e6522\"},\"type\":\"BasicTickFormatter\",\"id\":\"8959ebe1-132b-4a7b-ca18-991f6f1e6522\"},{\"attributes\":{\"doc\":null,\"num_minor_ticks\":5,\"tags\":[],\"id\":\"a96bac42-7991-472f-c727-a2997c180757\"},\"type\":\"BasicTicker\",\"id\":\"a96bac42-7991-472f-c727-a2997c180757\"},{\"attributes\":{\"axis_label\":\"Scaled number of iterations\",\"plot\":{\"id\":\"70ceee90-9193-4cba-cc82-71798b9526b9\",\"type\":\"Plot\",\"subtype\":\"Figure\"},\"id\":\"c8ea69ee-443e-48cc-c896-97cfae84d2a8\",\"doc\":null,\"ticker\":{\"id\":\"a96bac42-7991-472f-c727-a2997c180757\",\"type\":\"BasicTicker\"},\"formatter\":{\"id\":\"8959ebe1-132b-4a7b-ca18-991f6f1e6522\",\"type\":\"BasicTickFormatter\"},\"tags\":[]},\"type\":\"LinearAxis\",\"id\":\"c8ea69ee-443e-48cc-c896-97cfae84d2a8\"},{\"attributes\":{\"plot\":{\"id\":\"70ceee90-9193-4cba-cc82-71798b9526b9\",\"type\":\"Plot\",\"subtype\":\"Figure\"},\"id\":\"8d62c131-208f-42b3-c243-c51e620d1f0c\",\"doc\":null,\"dimension\":0,\"ticker\":{\"id\":\"a96bac42-7991-472f-c727-a2997c180757\",\"type\":\"BasicTicker\"},\"tags\":[]},\"type\":\"Grid\",\"id\":\"8d62c131-208f-42b3-c243-c51e620d1f0c\"},{\"attributes\":{\"doc\":null,\"tags\":[],\"id\":\"2acb5847-d739-4182-c14c-481c8225fad2\"},\"type\":\"BasicTickFormatter\",\"id\":\"2acb5847-d739-4182-c14c-481c8225fad2\"},{\"attributes\":{\"doc\":null,\"num_minor_ticks\":5,\"tags\":[],\"id\":\"e8b04e39-aa29-42b2-c215-09202f3bd8db\"},\"type\":\"BasicTicker\",\"id\":\"e8b04e39-aa29-42b2-c215-09202f3bd8db\"},{\"attributes\":{\"axis_label\":\"Exploitability\",\"plot\":{\"id\":\"70ceee90-9193-4cba-cc82-71798b9526b9\",\"type\":\"Plot\",\"subtype\":\"Figure\"},\"id\":\"4a5e7a33-aab0-4bc3-cb03-e23cb62f10e0\",\"doc\":null,\"ticker\":{\"id\":\"e8b04e39-aa29-42b2-c215-09202f3bd8db\",\"type\":\"BasicTicker\"},\"formatter\":{\"id\":\"2acb5847-d739-4182-c14c-481c8225fad2\",\"type\":\"BasicTickFormatter\"},\"tags\":[]},\"type\":\"LinearAxis\",\"id\":\"4a5e7a33-aab0-4bc3-cb03-e23cb62f10e0\"},{\"attributes\":{\"plot\":{\"id\":\"70ceee90-9193-4cba-cc82-71798b9526b9\",\"type\":\"Plot\",\"subtype\":\"Figure\"},\"id\":\"a30d91ef-eee2-4c52-cc2c-f729b8fc29a4\",\"doc\":null,\"dimension\":1,\"ticker\":{\"id\":\"e8b04e39-aa29-42b2-c215-09202f3bd8db\",\"type\":\"BasicTicker\"},\"tags\":[]},\"type\":\"Grid\",\"id\":\"a30d91ef-eee2-4c52-cc2c-f729b8fc29a4\"},{\"attributes\":{\"plot\":{\"id\":\"70ceee90-9193-4cba-cc82-71798b9526b9\",\"type\":\"Plot\",\"subtype\":\"Figure\"},\"id\":\"a9f012c7-3071-4f21-cf57-615da0b9efc5\",\"doc\":null,\"dimensions\":[\"width\",\"height\"],\"tags\":[]},\"type\":\"PanTool\",\"id\":\"a9f012c7-3071-4f21-cf57-615da0b9efc5\"},{\"attributes\":{\"plot\":{\"id\":\"70ceee90-9193-4cba-cc82-71798b9526b9\",\"type\":\"Plot\",\"subtype\":\"Figure\"},\"id\":\"00dd816b-64a7-499f-c979-f0c5c443c716\",\"doc\":null,\"dimensions\":[\"width\",\"height\"],\"tags\":[]},\"type\":\"WheelZoomTool\",\"id\":\"00dd816b-64a7-499f-c979-f0c5c443c716\"},{\"attributes\":{\"doc\":null,\"tags\":[],\"plot\":{\"id\":\"70ceee90-9193-4cba-cc82-71798b9526b9\",\"type\":\"Plot\",\"subtype\":\"Figure\"},\"id\":\"a990e84d-0f24-49b8-c9c0-9f109cb07efe\"},\"type\":\"BoxZoomTool\",\"id\":\"a990e84d-0f24-49b8-c9c0-9f109cb07efe\"},{\"attributes\":{\"doc\":null,\"tags\":[],\"plot\":{\"id\":\"70ceee90-9193-4cba-cc82-71798b9526b9\",\"type\":\"Plot\",\"subtype\":\"Figure\"},\"id\":\"c494c506-4e77-466a-c636-5dd5982f94d1\"},\"type\":\"PreviewSaveTool\",\"id\":\"c494c506-4e77-466a-c636-5dd5982f94d1\"},{\"attributes\":{\"doc\":null,\"tags\":[],\"plot\":{\"id\":\"70ceee90-9193-4cba-cc82-71798b9526b9\",\"type\":\"Plot\",\"subtype\":\"Figure\"},\"id\":\"0d77c564-6f53-4be9-cb82-9d2640f1fb80\"},\"type\":\"ResizeTool\",\"id\":\"0d77c564-6f53-4be9-cb82-9d2640f1fb80\"},{\"attributes\":{\"doc\":null,\"tags\":[],\"plot\":{\"id\":\"70ceee90-9193-4cba-cc82-71798b9526b9\",\"type\":\"Plot\",\"subtype\":\"Figure\"},\"id\":\"e67d0046-ffe7-460c-c6e6-2788f04e4a5d\"},\"type\":\"ResetTool\",\"id\":\"e67d0046-ffe7-460c-c6e6-2788f04e4a5d\"},{\"attributes\":{\"legends\":[[\"No Warm start = Random initialization\",[{\"id\":\"f9b4f261-a12f-4d4d-cdb3-d97dcc2d733b\",\"type\":\"GlyphRenderer\"}]],[\"Neural Network warm start without regrets\",[{\"id\":\"3de01660-97cd-43a5-c310-fb97f654dd40\",\"type\":\"GlyphRenderer\"}]],[\"Oracle warm start with regrets\",[{\"id\":\"312ea5e4-7e47-435a-c3b1-150b5c3e4b92\",\"type\":\"GlyphRenderer\"}]],[\"Oracle warm start without regrets\",[{\"id\":\"ce1b6abe-52a8-4081-c02d-73446874f4f5\",\"type\":\"GlyphRenderer\"}]]],\"plot\":{\"id\":\"70ceee90-9193-4cba-cc82-71798b9526b9\",\"type\":\"Plot\",\"subtype\":\"Figure\"},\"id\":\"17f572a8-7295-4284-c25f-b0896b0bcd19\",\"doc\":null,\"tags\":[]},\"type\":\"Legend\",\"id\":\"17f572a8-7295-4284-c25f-b0896b0bcd19\"},{\"attributes\":{\"left\":[{\"id\":\"4a5e7a33-aab0-4bc3-cb03-e23cb62f10e0\",\"type\":\"LinearAxis\"}],\"extra_y_ranges\":{},\"renderers\":[{\"id\":\"f9b4f261-a12f-4d4d-cdb3-d97dcc2d733b\",\"type\":\"GlyphRenderer\"},{\"id\":\"3de01660-97cd-43a5-c310-fb97f654dd40\",\"type\":\"GlyphRenderer\"},{\"id\":\"312ea5e4-7e47-435a-c3b1-150b5c3e4b92\",\"type\":\"GlyphRenderer\"},{\"id\":\"ce1b6abe-52a8-4081-c02d-73446874f4f5\",\"type\":\"GlyphRenderer\"},{\"id\":\"c8ea69ee-443e-48cc-c896-97cfae84d2a8\",\"type\":\"LinearAxis\"},{\"id\":\"8d62c131-208f-42b3-c243-c51e620d1f0c\",\"type\":\"Grid\"},{\"id\":\"4a5e7a33-aab0-4bc3-cb03-e23cb62f10e0\",\"type\":\"LinearAxis\"},{\"id\":\"a30d91ef-eee2-4c52-cc2c-f729b8fc29a4\",\"type\":\"Grid\"},{\"id\":\"17f572a8-7295-4284-c25f-b0896b0bcd19\",\"type\":\"Legend\"}],\"doc\":null,\"tools\":[{\"id\":\"a9f012c7-3071-4f21-cf57-615da0b9efc5\",\"type\":\"PanTool\"},{\"id\":\"00dd816b-64a7-499f-c979-f0c5c443c716\",\"type\":\"WheelZoomTool\"},{\"id\":\"a990e84d-0f24-49b8-c9c0-9f109cb07efe\",\"type\":\"BoxZoomTool\"},{\"id\":\"c494c506-4e77-466a-c636-5dd5982f94d1\",\"type\":\"PreviewSaveTool\"},{\"id\":\"0d77c564-6f53-4be9-cb82-9d2640f1fb80\",\"type\":\"ResizeTool\"},{\"id\":\"e67d0046-ffe7-460c-c6e6-2788f04e4a5d\",\"type\":\"ResetTool\"}],\"extra_x_ranges\":{},\"x_range\":{\"id\":\"7b2caf84-e898-46be-c658-61f6d419211a\",\"type\":\"DataRange1d\"},\"title\":\"Exploitability of different initializations, 200 iter.\",\"tool_events\":{\"id\":\"96fe9310-4560-413d-c1fb-46220ba494a7\",\"type\":\"ToolEvents\"},\"y_range\":{\"id\":\"c9cbc761-5923-4e18-ce1e-b4b61694ee96\",\"type\":\"DataRange1d\"},\"tags\":[],\"id\":\"70ceee90-9193-4cba-cc82-71798b9526b9\",\"right\":[],\"below\":[{\"id\":\"c8ea69ee-443e-48cc-c896-97cfae84d2a8\",\"type\":\"LinearAxis\"}],\"above\":[]},\"type\":\"Plot\",\"id\":\"70ceee90-9193-4cba-cc82-71798b9526b9\"}];\n",
       "      Bokeh.load_models(all_models);\n",
       "      var model = Bokeh.Collections(modeltype).get(modelid);\n",
       "      $(\"#f594afa4-1bd0-4fa2-cf2a-5fbea7ab1dbd\").html(''); // clear any previous plot in window_id\n",
       "      var view = new model.default_view({model: model, el: \"#f594afa4-1bd0-4fa2-cf2a-5fbea7ab1dbd\"});\n",
       "  });\n",
       "    }\n",
       "});\n",
       "</script>\n",
       "<div class=\"plotdiv\" id=\"f594afa4-1bd0-4fa2-cf2a-5fbea7ab1dbd\"></div>\n"
      ]
     },
     "metadata": {},
     "output_type": "display_data"
    }
   ],
   "source": [
    "local num_iter = torch.range(1,exploit_NoW:size(1))\n",
    "local plot = Plot()\n",
    "\n",
    "---plot:line(num_iter,exploit_unif,'black' ,'No Warm start CFR = Uniform warm start')\n",
    "plot:line(num_iter,exploit_NoW,'black' ,'No Warm start = Random initialization')\n",
    "---plot:line(num_iter,exploit_NNW,'blue' ,'Neural Net warm start CFR')\n",
    "plot:line(num_iter,exploit_NN_NoReg,'blue' ,'Neural Network warm start without regrets')\n",
    "plot:line(num_iter,exploit_TarRegW,'brown' ,'Oracle warm start with regrets')\n",
    "plot:line(num_iter,exploit_TarW,'green' ,'Oracle warm start without regrets')\n",
    "---plot:line(num_iter,exploit_RegW,'red' ,'Warm start with target values')\n",
    "plot:legend(true):title('Exploitability of different initializations, 200 iter.')\n",
    "plot:xaxis('Scaled number of iterations'):yaxis('Exploitability'):redraw()\n"
   ]
  },
  {
   "cell_type": "code",
   "execution_count": null,
   "metadata": {
    "collapsed": true
   },
   "outputs": [],
   "source": []
  },
  {
   "cell_type": "code",
   "execution_count": null,
   "metadata": {
    "collapsed": true
   },
   "outputs": [],
   "source": []
  }
 ],
 "metadata": {
  "kernelspec": {
   "display_name": "iTorch",
   "language": "lua",
   "name": "itorch"
  },
  "language_info": {
   "name": "lua",
   "version": "5.2"
  }
 },
 "nbformat": 4,
 "nbformat_minor": 2
}
