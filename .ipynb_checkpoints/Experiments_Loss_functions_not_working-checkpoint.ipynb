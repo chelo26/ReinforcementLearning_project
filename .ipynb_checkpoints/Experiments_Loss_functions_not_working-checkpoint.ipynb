{
 "cells": [
  {
   "cell_type": "code",
   "execution_count": 1,
   "metadata": {
    "collapsed": true
   },
   "outputs": [],
   "source": [
    "--- Libraries:\n",
    "arguments = require 'Settings.arguments'\n",
    "constants = require 'Settings.constants'\n",
    "card_to_string = require 'Game.card_to_string_conversion'\n",
    "card_tools = require 'Game.card_tools'\n",
    "game_settings = require 'Settings.game_settings'\n",
    "Plot = require 'itorch.Plot'\n",
    "nninit = require 'nninit'\n",
    "require 'torch'\n",
    "require 'math'\n",
    "require 'Tree.tree_builder'\n",
    "require 'Tree.tree_data_generation'\n",
    "require 'Tree.tree_values'\n",
    "require 'Tree.tree_visualiser'\n",
    "require 'nn'\n",
    "require 'Tree.tree_cfr'\n",
    "require 'Tree.tree_cfr2'\n",
    "require 'nngraph'\n",
    "require 'optim'\n",
    "require 'image'\n",
    "require 'NN.strategy_net_builder'\n",
    "require 'NN.strategy_net_trainer'\n",
    "require 'Tree.tree_warm_start'\n",
    "require 'Nn.StrategyCriterion'\n",
    "\n",
    "\n"
   ]
  },
  {
   "cell_type": "code",
   "execution_count": 2,
   "metadata": {
    "collapsed": true
   },
   "outputs": [],
   "source": [
    "--- Create the tree\n",
    "builder = PokerTreeBuilder()\n",
    "--- Parameters for the tree\n",
    "params = {}\n",
    "params.root_node = {}\n",
    "params.root_node.board = card_to_string:string_to_board('')\n",
    "params.root_node.street = 1\n",
    "params.root_node.current_player = constants.players.P1\n",
    "params.root_node.bets = arguments.Tensor{200, 200}\n",
    "--- CFR Solver\n",
    "starting_ranges = arguments.Tensor(constants.players_count, game_settings.card_count)\n",
    "starting_ranges[1]:copy(card_tools:get_uniform_range(params.root_node.board))\n",
    "starting_ranges[2]:copy(card_tools:get_uniform_range(params.root_node.board))"
   ]
  },
  {
   "cell_type": "code",
   "execution_count": 3,
   "metadata": {
    "collapsed": true
   },
   "outputs": [],
   "source": [
    "--- Get Data from 2000 iterations\n",
    "number_of_iterations = 500\n",
    "train_tree = builder:build_tree(params)\n",
    "data = TreeData(train_tree)\n",
    "train_tree_cfr = TreeCFR()\n",
    "train_tree_cfr:run_cfr(train_tree, starting_ranges,number_of_iterations)\n",
    "data:get_training_set(train_tree,1)"
   ]
  },
  {
   "cell_type": "markdown",
   "metadata": {},
   "source": [
    "### Training the Model and testing the model"
   ]
  },
  {
   "cell_type": "code",
   "execution_count": 10,
   "metadata": {
    "collapsed": true
   },
   "outputs": [],
   "source": [
    "-- Building the neural net model\n",
    "number_iter = 500\n",
    "nn_builder = StrategyNN()\n",
    "nn_model = nn_builder.model\n",
    "-- Building trainer:\n",
    "nn_trainer = NNTrainer(data,nn_model)\n",
    "-- Options:\n",
    "opt = {}\n",
    "opt.learningRate = 0.001\n",
    "opt.momentum = 0.85\n",
    "opt.validate = true\n",
    "opt.weightDecay = 0.85\n",
    "---opt.nesterov = true\n"
   ]
  },
  {
   "cell_type": "code",
   "execution_count": 11,
   "metadata": {
    "collapsed": true
   },
   "outputs": [],
   "source": [
    "strategy_criterion1 = StrategyLoss()\n",
    "train_loss,test_loss = nn_trainer:train(nn_model,strategy_criterion1,opt,number_iter)"
   ]
  },
  {
   "cell_type": "code",
   "execution_count": 12,
   "metadata": {},
   "outputs": [
    {
     "data": {
      "text/plain": [
       "0.25810399081988\n"
      ]
     },
     "execution_count": 12,
     "metadata": {},
     "output_type": "execute_result"
    }
   ],
   "source": [
    "pred_strat = nn_trainer.model:forward({nn_trainer.all_data.features,nn_trainer.all_data.masks})\n",
    "true_strat = nn_trainer.all_data.targets\n",
    "abs_error =  torch.mean(torch.abs(pred_strat- true_strat))\n",
    "print(abs_error)"
   ]
  },
  {
   "cell_type": "code",
   "execution_count": null,
   "metadata": {
    "collapsed": true
   },
   "outputs": [],
   "source": [
    "train_matrix = torch.FloatTensor()\n",
    "test_matrix = torch.FloatTensor()\n",
    "number_iter = 1000\n",
    "abs_error_smooth = torch.FloatTensor()\n",
    "\n",
    "for i = 1,50 do\n",
    "    -- Building the neural net model\n",
    "    nn_builder = StrategyNN()\n",
    "    nn_model = nn_builder.model\n",
    "    -- Building trainer:\n",
    "    nn_trainer = NNTrainer(data,nn_model)\n",
    "    -- Options:\n",
    "    opt = {}\n",
    "    opt.learningRate = 0.001\n",
    "    opt.momentum = 0.85\n",
    "    opt.validate = true\n",
    "    opt.weightDecay = 0.75\n",
    "    ---opt.nesterov = true\n",
    "    strategy_criterion = StrategyLoss()\n",
    "    ---strategy_criterion = nn.SmoothL1Criterion()\n",
    "    train_loss,test_loss = nn_trainer:train(nn_model,strategy_criterion,opt,number_iter)\n",
    "    train_matrix = train_matrix:cat(train_loss:view(1,number_iter),1)\n",
    "    test_matrix = test_matrix:cat(test_loss:view(1,number_iter),1)\n",
    "    abs_error_smooth = abs_error_smooth:cat(torch.FloatTensor(nn_trainer.table_abs_error),2)\n",
    "end\n",
    "print(abs_error_smooth:mean())"
   ]
  },
  {
   "cell_type": "code",
   "execution_count": null,
   "metadata": {
    "collapsed": true
   },
   "outputs": [],
   "source": []
  },
  {
   "cell_type": "code",
   "execution_count": null,
   "metadata": {
    "collapsed": true
   },
   "outputs": [],
   "source": []
  },
  {
   "cell_type": "code",
   "execution_count": null,
   "metadata": {
    "collapsed": true
   },
   "outputs": [],
   "source": [
    "local num_iter = torch.range(1,train_loss:size(1))\n",
    "local plot = Plot()\n",
    "\n",
    "plot:line(num_iter,train_matrix:mean(1):view(-1),'blue','Average Train Error')\n",
    "plot:line(num_iter,1.96*train_matrix:std(1):view(-1)+train_matrix:mean(1):view(-1),'gray','Upper Bound 95% - Train error' )\n",
    "plot:line(num_iter,-1.96*train_matrix:std(1):view(-1)+train_matrix:mean(1):view(-1),'gray','Lower Bound 95% - Train error')\n",
    "plot:line(num_iter,1.96*test_matrix:std(1):view(-1)+test_matrix:mean(1):view(-1),'violet','Upper Bound 95% - Test error' )\n",
    "plot:line(num_iter,-1.96*test_matrix:std(1):view(-1)+test_matrix:mean(1):view(-1),'violet','Lower Bound 95% - Test error' )\n",
    "plot:line(num_iter,test_matrix:mean(1):view(-1),'red','Average Test Error')\n",
    "plot:legend(true):title('Train error vs Test error - Cross Entropy Loss ')\n",
    "plot:xaxis('Number of iterations'):yaxis('Loss')\n",
    "plot:draw()"
   ]
  },
  {
   "cell_type": "code",
   "execution_count": null,
   "metadata": {
    "collapsed": true
   },
   "outputs": [],
   "source": [
    "train_matrix = torch.FloatTensor()\n",
    "test_matrix = torch.FloatTensor()\n",
    "number_iter = 200\n",
    "abs_error_ce = torch.FloatTensor()\n",
    "\n",
    "for i = 1,50 do\n",
    "    -- Building the neural net model\n",
    "    nn_builder = StrategyNN()\n",
    "    nn_model = nn_builder.model\n",
    "    -- Building trainer:\n",
    "    nn_trainer = NNTrainer(data,nn_model)\n",
    "    -- Options:\n",
    "    opt = {}\n",
    "    opt.learningRate = 0.001\n",
    "    opt.momentum = 0.85\n",
    "    opt.validate = true\n",
    "    opt.weightDecay = 0.75\n",
    "    ---opt.nesterov = true\n",
    "    strategy_criterion = StrategyLoss()\n",
    "---    strategy_criterion = nn.SmoothL1Criterion()\n",
    "    train_loss,test_loss = nn_trainer:train(nn_model,strategy_criterion,opt,number_iter)\n",
    "    train_matrix = train_matrix:cat(train_loss:view(1,number_iter),1)\n",
    "    test_matrix = test_matrix:cat(test_loss:view(1,number_iter),1)\n",
    "    abs_error_ce = abs_error_ce:cat(torch.FloatTensor(nn_trainer.table_abs_error),2)\n",
    "end\n",
    "print(abs_error_ce:mean())"
   ]
  },
  {
   "cell_type": "code",
   "execution_count": null,
   "metadata": {
    "collapsed": true
   },
   "outputs": [],
   "source": [
    "local num_iter = torch.range(1,train_loss:size(1))\n",
    "local plot = Plot()\n",
    "\n",
    "plot:line(num_iter,train_matrix:mean(1):view(-1),'blue','Average Train Error')\n",
    "plot:line(num_iter,1.96*train_matrix:std(1):view(-1)+train_matrix:mean(1):view(-1),'gray','Upper Bound 95% - Train error' )\n",
    "plot:line(num_iter,-1.96*train_matrix:std(1):view(-1)+train_matrix:mean(1):view(-1),'gray','Lower Bound 95% - Train error')\n",
    "plot:line(num_iter,1.96*test_matrix:std(1):view(-1)+test_matrix:mean(1):view(-1),'violet','Upper Bound 95% - Test error' )\n",
    "plot:line(num_iter,-1.96*test_matrix:std(1):view(-1)+test_matrix:mean(1):view(-1),'violet','Lower Bound 95% - Test error' )\n",
    "plot:line(num_iter,test_matrix:mean(1):view(-1),'red','Average Test Error')\n",
    "plot:legend(true):title('Train error vs Test error Huber Loss')\n",
    "plot:xaxis('Number of iterations'):yaxis('Loss')\n",
    "plot:draw()"
   ]
  },
  {
   "cell_type": "code",
   "execution_count": null,
   "metadata": {
    "collapsed": true
   },
   "outputs": [],
   "source": [
    "local num_iter = torch.range(1,train_loss:size(1))\n",
    "local plot = Plot()\n",
    "\n",
    "plot:line(num_iter,abs_error_smooth:mean(2):view(-1),'red','Average Train Error'):draw()\n",
    "plot:line(num_iter,abs_error_ce:mean(2):view(-1),'blue','Average Train Error'):draw()"
   ]
  }
 ],
 "metadata": {
  "kernelspec": {
   "display_name": "iTorch",
   "language": "lua",
   "name": "itorch"
  },
  "language_info": {
   "name": "lua",
   "version": "5.2"
  }
 },
 "nbformat": 4,
 "nbformat_minor": 2
}
