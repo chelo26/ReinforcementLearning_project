{
 "cells": [
  {
   "cell_type": "code",
   "execution_count": 1,
   "metadata": {
    "collapsed": true
   },
   "outputs": [],
   "source": [
    "--- Libraries:\n",
    "arguments = require 'Settings.arguments'\n",
    "constants = require 'Settings.constants'\n",
    "card_to_string = require 'Game.card_to_string_conversion'\n",
    "card_tools = require 'Game.card_tools'\n",
    "game_settings = require 'Settings.game_settings'\n",
    "Plot = require 'itorch.Plot'\n",
    "nninit = require 'nninit'\n",
    "require 'torch'\n",
    "require 'math'\n",
    "require 'Tree.tree_builder'\n",
    "require 'Tree.tree_data_generation'\n",
    "require 'Tree.tree_values'\n",
    "require 'Tree.tree_visualiser'\n",
    "require 'nn'\n",
    "require 'Tree.tree_cfr'\n",
    "require 'Tree.tree_cfr2'\n",
    "require 'nngraph'\n",
    "require 'optim'\n",
    "require 'image'\n",
    "require 'NN.strategy_net_builder'\n",
    "require 'NN.strategy_net_trainer'\n",
    "require 'Tree.tree_warm_start'\n",
    "---require 'Adversarials.exploitability'\n",
    "require 'Adversarials.exploitabilityVS'\n",
    "\n"
   ]
  },
  {
   "cell_type": "code",
   "execution_count": 2,
   "metadata": {
    "collapsed": true
   },
   "outputs": [],
   "source": [
    "function get_first_mask_tensor(index)\n",
    "    local output = torch.range(1,6)\n",
    "    if index ==1 then\n",
    "        return torch.range(2,6)\n",
    "    end\n",
    "    local out1 = output:clone():narrow(1,1,index-1)\n",
    "    local out2 = output:clone():narrow(1,index+1,6-index)\n",
    "    local result = out1:cat(out2)\n",
    "    return result\n",
    "end\n",
    "\n",
    "function get_second_mask_tensor(input_tensor,index)\n",
    "    local result = {}\n",
    "    local input = input_tensor:clone()\n",
    "    for i = 1,input:size(1) do\n",
    "        if input[i] ~= index then\n",
    "            table.insert(result,input[i])\n",
    "        end\n",
    "    end\n",
    "    return torch.Tensor(result)\n",
    "end\n",
    "\n",
    "\n",
    "function construct_possible_game_states()\n",
    "    local states_tensor = torch.Tensor()\n",
    "    local first_card_tensor = torch.Tensor({1,3,5})\n",
    "    for i = 1,first_card_tensor:size(1) do\n",
    "        local second_card_tensor = get_first_mask_tensor(first_card_tensor[i])\n",
    "        for j =1, second_card_tensor:size(1) do\n",
    "            local third_card_tensor = get_second_mask_tensor(second_card_tensor,second_card_tensor[j])\n",
    "            for k = 1,third_card_tensor:size(1) do\n",
    "                local states = torch.Tensor({first_card_tensor[i],second_card_tensor[j],third_card_tensor[k]}):view(1,3)\n",
    "                states_tensor = states_tensor:cat(states,1)\n",
    "            end\n",
    "        end\n",
    "    end\n",
    "    return states_tensor\n",
    "end\n",
    "\n",
    "function distribute_cards(cards_tensor)\n",
    "    local cards = {}\n",
    "    cards.P1 = cards_tensor[1]\n",
    "    cards.P2 = cards_tensor[2]\n",
    "    cards.board = cards_tensor[3]\n",
    "    return cards\n",
    "end"
   ]
  },
  {
   "cell_type": "code",
   "execution_count": 3,
   "metadata": {
    "collapsed": true
   },
   "outputs": [],
   "source": [
    "--- Important variables:\n",
    "pot = 200"
   ]
  },
  {
   "cell_type": "code",
   "execution_count": 4,
   "metadata": {
    "collapsed": true
   },
   "outputs": [],
   "source": [
    "--- Create the tree\n",
    "builder = PokerTreeBuilder()\n",
    "--- Parameters for the tree\n",
    "params = {}\n",
    "params.root_node = {}\n",
    "params.root_node.board = card_to_string:string_to_board('')\n",
    "params.root_node.street = 1\n",
    "params.root_node.current_player = constants.players.P1\n",
    "params.root_node.bets = arguments.Tensor{pot,pot}\n",
    "--- CFR Solver\n",
    "starting_ranges = arguments.Tensor(constants.players_count, game_settings.card_count)\n",
    "starting_ranges[1]:copy(card_tools:get_uniform_range(params.root_node.board))\n",
    "starting_ranges[2]:copy(card_tools:get_uniform_range(params.root_node.board))\n",
    "--- exploitability\n",
    "exploit = TreeValues()"
   ]
  },
  {
   "cell_type": "code",
   "execution_count": 5,
   "metadata": {
    "collapsed": true
   },
   "outputs": [],
   "source": [
    "--- Initialize trees\n",
    "tree_bench = builder:build_tree(params)\n",
    "tree_500 = builder:build_tree(params)\n",
    "tree_200 = builder:build_tree(params)\n",
    "\n"
   ]
  },
  {
   "cell_type": "code",
   "execution_count": 6,
   "metadata": {
    "collapsed": true
   },
   "outputs": [],
   "source": [
    "---visualiser = TreeVisualiser()\n",
    "---visualiser:graphviz(tree1, \"zero_blind\")"
   ]
  },
  {
   "cell_type": "code",
   "execution_count": 7,
   "metadata": {
    "collapsed": true
   },
   "outputs": [],
   "source": [
    "solver5 = TreeCFR2()\n",
    "solver5.cfr_skip = 20\n",
    "solver5:run_cfr(tree_500,starting_ranges,500)"
   ]
  },
  {
   "cell_type": "code",
   "execution_count": 8,
   "metadata": {
    "collapsed": true
   },
   "outputs": [],
   "source": [
    "solver2 = TreeCFR2()\n",
    "solver2.cfr_skip = 20\n",
    "solver2:run_cfr(tree_200,starting_ranges,200)"
   ]
  },
  {
   "cell_type": "code",
   "execution_count": 9,
   "metadata": {
    "collapsed": true
   },
   "outputs": [],
   "source": [
    "--- NNWarm Starting\n",
    "dataNN = TreeData(tree_200)\n",
    "dataNN:get_training_set(tree_200,1)\n",
    "\n",
    "dataNN5 = TreeData(tree_500)\n",
    "dataNN5:get_training_set(tree_500,1)\n",
    "\n"
   ]
  },
  {
   "cell_type": "code",
   "execution_count": 23,
   "metadata": {
    "collapsed": true
   },
   "outputs": [],
   "source": [
    "tree_eval_200 = StrategyEvaluator(tree_bench,tree_200)\n",
    "tree_eval_500 = StrategyEvaluator(tree_bench,tree_500)\n",
    "tree_eval = StrategyEvaluator(tree_200,tree_500)\n"
   ]
  },
  {
   "cell_type": "code",
   "execution_count": 11,
   "metadata": {},
   "outputs": [
    {
     "data": {
      "text/plain": [
       "ties: \t67\n",
       "P1 won: \t440\n",
       "P2 won: \t693\n"
      ]
     },
     "execution_count": 11,
     "metadata": {},
     "output_type": "execute_result"
    }
   ],
   "source": [
    "tree_eval_200:play_all_combinations_n_times(tree_bench,tree_200,20)\n",
    "tree_eval_200:display_results()"
   ]
  },
  {
   "cell_type": "code",
   "execution_count": 12,
   "metadata": {
    "collapsed": true
   },
   "outputs": [],
   "source": [
    "tree_eval_500:play_all_combinations_n_times(tree_bench,tree_500,20)\n",
    "tree_eval_500:display_results()"
   ]
  },
  {
   "cell_type": "code",
   "execution_count": 13,
   "metadata": {},
   "outputs": [
    {
     "data": {
      "text/plain": [
       "ties: \t70\n",
       "P1 won: \t444\n",
       "P2 won: \t686\n"
      ]
     },
     "execution_count": 12,
     "metadata": {},
     "output_type": "execute_result"
    },
    {
     "data": {
      "text/plain": [
       "ties: \t772\n",
       "P1 won: \t2595\n",
       "P2 won: \t2633\n"
      ]
     },
     "execution_count": 13,
     "metadata": {},
     "output_type": "execute_result"
    }
   ],
   "source": [
    "tree_eval:play_all_combinations_n_times(tree_200,tree_500,100)\n",
    "tree_eval:display_results()"
   ]
  },
  {
   "cell_type": "code",
   "execution_count": null,
   "metadata": {
    "collapsed": true
   },
   "outputs": [],
   "source": [
    "tree_eval:play_all_combinations_n_times(tree_200,tree_500,100)\n",
    "tree_eval:display_results()"
   ]
  },
  {
   "cell_type": "code",
   "execution_count": 15,
   "metadata": {},
   "outputs": [
    {
     "data": {
      "text/plain": [
       "iteration: \t1\n",
       "Total number of pots won : \t0.2\n"
      ]
     },
     "execution_count": 15,
     "metadata": {},
     "output_type": "execute_result"
    },
    {
     "data": {
      "text/plain": [
       "iteration: \t5\n",
       "Total number of pots won : \t-0.026666666666667\n"
      ]
     },
     "execution_count": 15,
     "metadata": {},
     "output_type": "execute_result"
    }
   ],
   "source": [
    "avg_pot_won = tree_eval:calculate_return(tree_200,tree_500)"
   ]
  },
  {
   "cell_type": "code",
   "execution_count": 60,
   "metadata": {
    "collapsed": true
   },
   "outputs": [],
   "source": [
    "tree_eval = StrategyEvaluator(tree_200,tree_500)"
   ]
  },
  {
   "cell_type": "code",
   "execution_count": 61,
   "metadata": {},
   "outputs": [
    {
     "data": {
      "text/plain": [
       "Time elapsed 1.5752348899841 seconds\n",
       "1800\n"
      ]
     },
     "execution_count": 61,
     "metadata": {},
     "output_type": "execute_result"
    },
    {
     "data": {
      "text/plain": [
       "ties: \t382\n",
       "P1 won: \t1286\n",
       "P2 won: \t1332\n"
      ]
     },
     "execution_count": 61,
     "metadata": {},
     "output_type": "execute_result"
    }
   ],
   "source": [
    "timer = torch.Timer()\n",
    "for i = 1,5 do\n",
    "    tree_eval:play_all_combinations_n_times(tree_200,tree_500,10)\n",
    "end\n",
    "print('Time elapsed ' .. timer:time().real .. ' seconds')\n",
    "print(tree_eval.A2_total_pot)\n",
    "tree_eval:display_results()\n"
   ]
  },
  {
   "cell_type": "code",
   "execution_count": 62,
   "metadata": {},
   "outputs": [
    {
     "data": {
      "text/plain": [
       "Time elapsed 1.8390710353851 seconds\n",
       "-11000\n"
      ]
     },
     "execution_count": 62,
     "metadata": {},
     "output_type": "execute_result"
    },
    {
     "data": {
      "text/plain": [
       "ties: \t763\n",
       "P1 won: \t2589\n",
       "P2 won: \t2648\n"
      ]
     },
     "execution_count": 62,
     "metadata": {},
     "output_type": "execute_result"
    }
   ],
   "source": [
    "timer:reset()\n",
    "tree_eval:play_all_combinations_n_times(tree_200,tree_500,50)\n",
    "print('Time elapsed ' .. timer:time().real .. ' seconds')\n",
    "print(tree_eval.A2_total_pot)\n",
    "tree_eval:display_results()"
   ]
  },
  {
   "cell_type": "code",
   "execution_count": null,
   "metadata": {
    "collapsed": true
   },
   "outputs": [],
   "source": [
    "---timer = torch.Timer()\n",
    "--print('Time elapsed ' .. timer:time().real .. ' seconds')"
   ]
  },
  {
   "cell_type": "code",
   "execution_count": null,
   "metadata": {
    "collapsed": true
   },
   "outputs": [],
   "source": [
    "avg_pot_won2 = tree_eval_200:calculate_return(tree_bench,tree_200,200,50)"
   ]
  },
  {
   "cell_type": "code",
   "execution_count": null,
   "metadata": {
    "collapsed": true
   },
   "outputs": [],
   "source": [
    "avg_pot_won5 = tree_eval_500:calculate_return(tree_bench,tree_500,200,50)"
   ]
  },
  {
   "cell_type": "code",
   "execution_count": null,
   "metadata": {
    "collapsed": true
   },
   "outputs": [],
   "source": [
    "local plot = Plot()\n",
    "local x = tree_eval_200.range_games\n",
    "\n",
    "plot:line(x,x:clone():fill(avg_pot_won2:mean()),'red' ,'Original CFR in the paper')\n",
    "plot:line(x,avg_pot_won2:view(-1),'brown' ,'No Warm start CFR')\n",
    "\n",
    "plot:line(x,x:clone():fill(avg_pot_won5:mean()),'blue' ,'Original CFR in the paper')\n",
    "plot:line(x,avg_pot_won5:view(-1),'black' ,'No Warm start CFR')\n",
    "\n",
    "plot:draw()\n",
    "\n"
   ]
  },
  {
   "cell_type": "code",
   "execution_count": null,
   "metadata": {
    "collapsed": true
   },
   "outputs": [],
   "source": [
    "tree_eval:display_results()"
   ]
  },
  {
   "cell_type": "code",
   "execution_count": null,
   "metadata": {
    "collapsed": true
   },
   "outputs": [],
   "source": [
    "tree_eval.A2_pot_matrix:sum()"
   ]
  },
  {
   "cell_type": "code",
   "execution_count": null,
   "metadata": {
    "collapsed": true
   },
   "outputs": [],
   "source": [
    "tree_eval.A2_pot_tensor:sum()/(pot*500)"
   ]
  },
  {
   "cell_type": "code",
   "execution_count": null,
   "metadata": {
    "collapsed": true
   },
   "outputs": [],
   "source": []
  },
  {
   "cell_type": "code",
   "execution_count": null,
   "metadata": {
    "collapsed": true
   },
   "outputs": [],
   "source": []
  },
  {
   "cell_type": "code",
   "execution_count": null,
   "metadata": {
    "collapsed": true
   },
   "outputs": [],
   "source": [
    "local plot = Plot()\n",
    "local x = tree_eval.range_games\n",
    "\n",
    "plot:line(x,x:clone():fill(avg_pot_won:mean()),'red' ,'Original CFR in the paper')\n",
    "plot:line(x,avg_pot_won:view(-1),'brown' ,'No Warm start CFR')\n",
    "\n",
    "plot:draw()\n",
    "\n"
   ]
  },
  {
   "cell_type": "code",
   "execution_count": null,
   "metadata": {
    "collapsed": true
   },
   "outputs": [],
   "source": []
  },
  {
   "cell_type": "code",
   "execution_count": null,
   "metadata": {
    "collapsed": true
   },
   "outputs": [],
   "source": [
    "print(tree_eval.A2_pot_matrix:sum())\n",
    "print(tree_eval.A2_pot_matrix:std())"
   ]
  },
  {
   "cell_type": "code",
   "execution_count": null,
   "metadata": {
    "collapsed": true
   },
   "outputs": [],
   "source": [
    "print(\"Total number of pots won : \",tree_eval.A2_pot_matrix:sum()/min_pot)"
   ]
  },
  {
   "cell_type": "code",
   "execution_count": null,
   "metadata": {
    "collapsed": true
   },
   "outputs": [],
   "source": [
    "print(\"average amount won per game\",tree_eval.A2_pot_matrix:sum()/(number_of_times*60))"
   ]
  },
  {
   "cell_type": "code",
   "execution_count": null,
   "metadata": {
    "collapsed": true
   },
   "outputs": [],
   "source": [
    "avg_per_hand = tree_eval.A2_pot_matrix:mean(2)"
   ]
  },
  {
   "cell_type": "code",
   "execution_count": null,
   "metadata": {
    "collapsed": true
   },
   "outputs": [],
   "source": [
    "plot = Plot():circle(torch.range(1,avg_per_hand:size(1)),avg_per_hand:view(-1))\n",
    "plot:legend(true):title('Player 2 pot distribution, 10000 games, each possible card dealt'):draw()\n"
   ]
  },
  {
   "cell_type": "code",
   "execution_count": null,
   "metadata": {
    "collapsed": true
   },
   "outputs": [],
   "source": [
    "-- Building the neural net model\n",
    "strategy_nn = StrategyNN()\n",
    "nn_model = strategy_nn.model\n",
    "-- Building trainer:\n",
    "nn_trainer = NNTrainer(tree_data800,nn_model)\n",
    "-- Options:\n",
    "opt = {}\n",
    "opt.learningRate = 0.001\n",
    "opt.momentum = 0.95\n",
    "opt.validate = false"
   ]
  },
  {
   "cell_type": "code",
   "execution_count": null,
   "metadata": {
    "collapsed": true
   },
   "outputs": [],
   "source": []
  },
  {
   "cell_type": "code",
   "execution_count": null,
   "metadata": {
    "collapsed": true
   },
   "outputs": [],
   "source": []
  },
  {
   "cell_type": "code",
   "execution_count": null,
   "metadata": {
    "collapsed": true
   },
   "outputs": [],
   "source": [
    "cards = {}\n",
    "cards.P1 = 1\n",
    "cards.P2 = 2\n",
    "cards.board = 4\n",
    "number_of_games = 100"
   ]
  },
  {
   "cell_type": "code",
   "execution_count": null,
   "metadata": {
    "collapsed": true
   },
   "outputs": [],
   "source": [
    "tree_eval.A2_pot_tensor"
   ]
  },
  {
   "cell_type": "code",
   "execution_count": null,
   "metadata": {
    "collapsed": true
   },
   "outputs": [],
   "source": [
    "print(tree_eval.A2_pot_tensor:mean())\n",
    "print(tree_eval.A2_pot_tensor:std())"
   ]
  },
  {
   "cell_type": "code",
   "execution_count": null,
   "metadata": {
    "collapsed": true
   },
   "outputs": [],
   "source": [
    "tree_eval:display_results()"
   ]
  },
  {
   "cell_type": "code",
   "execution_count": null,
   "metadata": {
    "collapsed": true
   },
   "outputs": [],
   "source": [
    "local pot_table = {}\n",
    "local size_sample = 50\n",
    "for i = 1,50 do\n",
    "    tree_eval:play_several_games(tree1,tree2,size_sample)\n",
    "    table.insert(pot_table,tree_eval.A2_pot/size_sample)\n",
    "end\n",
    "print(\"player_2 won: \",torch.FloatTensor(pot_table):mean())"
   ]
  },
  {
   "cell_type": "code",
   "execution_count": null,
   "metadata": {
    "collapsed": true
   },
   "outputs": [],
   "source": [
    "pot_table_A2 = {}\n",
    "local number_of_games = 1000\n",
    "local cards_tensor = construct_possible_game_states()\n",
    "for i = 1,cards_tensor:size(1) do\n",
    "    local cards = distribute_cards(cards_tensor[i])\n",
    "    tree_eval:play_deterministic_games(tree1,tree2,number_of_games,cards)\n",
    "    table.insert(pot_table_A2,tree_eval.A2_pot)\n",
    "end\n",
    "print(\"player_2 won: \",torch.FloatTensor(pot_table_A2):mean())\n",
    "print(\"player_2 std: \",torch.FloatTensor(pot_table_A2):std())\n",
    "tree_eval:display_results()"
   ]
  },
  {
   "cell_type": "code",
   "execution_count": null,
   "metadata": {
    "collapsed": true
   },
   "outputs": [],
   "source": [
    "torch.sqrt(60)*(1803/150716)"
   ]
  },
  {
   "cell_type": "code",
   "execution_count": null,
   "metadata": {
    "collapsed": true
   },
   "outputs": [],
   "source": [
    "plot = Plot():histogram(torch.FloatTensor(pot_table_A2)):draw()"
   ]
  },
  {
   "cell_type": "code",
   "execution_count": null,
   "metadata": {
    "collapsed": true
   },
   "outputs": [],
   "source": []
  },
  {
   "cell_type": "code",
   "execution_count": null,
   "metadata": {
    "collapsed": true
   },
   "outputs": [],
   "source": [
    "pot_table1 = {}\n",
    "local number_of_games = 10\n",
    "local cards_tensor = construct_possible_game_states()\n",
    "for i = 1,cards_tensor:size(1) do\n",
    "    for j = 1,number_of_games do\n",
    "        local cards = distribute_cards(cards_tensor[i])\n",
    "        tree_eval:play_deterministic_games(tree1,tree2,number_of_plays,cards)\n",
    "        table.insert(pot_table1,tree_eval.A2_pot)\n",
    "    end\n",
    "end\n",
    "print(\"player_2 won: \",torch.FloatTensor(pot_table1):mean())\n",
    "print(\"player_2 std: \",torch.FloatTensor(pot_table1):std())"
   ]
  },
  {
   "cell_type": "code",
   "execution_count": null,
   "metadata": {
    "collapsed": true
   },
   "outputs": [],
   "source": [
    "pot_table1 = {}\n",
    "local number_of_games = 20\n",
    "local cards_tensor = construct_possible_game_states()\n",
    "for i = 1,cards_tensor:size(1) do\n",
    "    for j = 1,number_of_games do\n",
    "        local cards = distribute_cards(cards_tensor[i])\n",
    "        tree_eval:play_deterministic_games(tree1,tree2,number_of_plays,cards)\n",
    "        table.insert(pot_table1,tree_eval.A2_pot)\n",
    "    end\n",
    "end\n",
    "print(\"player_2 won: \",torch.FloatTensor(pot_table1):mean())\n",
    "print(\"player_2 std: \",torch.FloatTensor(pot_table1):std())"
   ]
  },
  {
   "cell_type": "code",
   "execution_count": null,
   "metadata": {
    "collapsed": true
   },
   "outputs": [],
   "source": [
    "pot_table1 = {}\n",
    "local number_of_games = 50\n",
    "local cards_tensor = construct_possible_game_states()\n",
    "for i = 1,cards_tensor:size(1) do\n",
    "    for j = 1,number_of_games do\n",
    "        local cards = distribute_cards(cards_tensor[i])\n",
    "        tree_eval:play_deterministic_games(tree1,tree2,number_of_plays,cards)   --- --> CHECK NUMBER OF GAMES!\n",
    "        table.insert(pot_table1,tree_eval.A2_pot)\n",
    "    end\n",
    "end\n",
    "print(\"player_2 won: \",torch.FloatTensor(pot_table1):mean())\n",
    "print(\"player_2 std: \",torch.FloatTensor(pot_table1):std())"
   ]
  },
  {
   "cell_type": "code",
   "execution_count": null,
   "metadata": {
    "collapsed": true
   },
   "outputs": [],
   "source": [
    " cardsInv = {}\n",
    "cardsInv.P1 = cards.P2\n",
    "cardsInv.P2 = cards.P1\n",
    "cardsInv.board = cards.board"
   ]
  },
  {
   "cell_type": "code",
   "execution_count": null,
   "metadata": {
    "collapsed": true
   },
   "outputs": [],
   "source": [
    "pot_table2 = {}\n",
    "local size_sample = 100\n",
    "for i = 1,20 do\n",
    "    tree_eval:play_deterministic_games(tree1,tree2,size_sample,cardsInv)\n",
    "    table.insert(pot_table2,tree_eval.A2_pot/size_sample)\n",
    "end\n",
    "print(\"player_2 won: \",torch.FloatTensor(pot_table2):mean())\n",
    "print(\"player_2 std: \",torch.FloatTensor(pot_table2):std())"
   ]
  },
  {
   "cell_type": "code",
   "execution_count": null,
   "metadata": {
    "collapsed": true
   },
   "outputs": [],
   "source": [
    "---plot = Plot():histogram(torch.FloatTensor(pot_table1)):draw()"
   ]
  },
  {
   "cell_type": "code",
   "execution_count": null,
   "metadata": {
    "collapsed": true
   },
   "outputs": [],
   "source": [
    "---plot = Plot():histogram(torch.FloatTensor(pot_table2)):draw()"
   ]
  },
  {
   "cell_type": "code",
   "execution_count": null,
   "metadata": {
    "collapsed": true
   },
   "outputs": [],
   "source": [
    "x[1]"
   ]
  },
  {
   "cell_type": "code",
   "execution_count": null,
   "metadata": {
    "collapsed": true
   },
   "outputs": [],
   "source": []
  },
  {
   "cell_type": "code",
   "execution_count": null,
   "metadata": {
    "collapsed": true
   },
   "outputs": [],
   "source": [
    "number_of_times = 100\n",
    "interval = 20\n",
    "range_games = torch.range(0,number_of_times,interval)\n",
    "pots_won_tensor = torch.FlaoatTensor(1,range_games:size(1))\n",
    "avg_gain_per_game = torch.FloatTensor(1,range_games:size(1))\n",
    "range_games[1] = 1\n",
    "for i = 1,range_games:size(1) do\n",
    "    print(\"iteration: \", range_games[i])\n",
    "    tree_eval:play_all_combinations_n_times(tree_bench,tree_200,range_games[i])\n",
    "    local pot_won = tree_eval.A2_pot_matrix:sum()/(pot*range_games[i]*60)\n",
    "    local avg_gain = tree_eval.A2_pot_matrix:sum()/(range_games[i]*60)\n",
    "    pots_won_tensor[{1,i}] = pot_won\n",
    "    avg_gain_per_game[{1,i}] = avg_gain\n",
    "    print(\"Total number of pots won : \",pot_won)\n",
    "    print(\"average amount won per game\",avg_gain)\n",
    "    collectgarbage()\n",
    "end\n"
   ]
  }
 ],
 "metadata": {
  "kernelspec": {
   "display_name": "iTorch",
   "language": "lua",
   "name": "itorch"
  },
  "language_info": {
   "name": "lua",
   "version": "5.2"
  }
 },
 "nbformat": 4,
 "nbformat_minor": 2
}
