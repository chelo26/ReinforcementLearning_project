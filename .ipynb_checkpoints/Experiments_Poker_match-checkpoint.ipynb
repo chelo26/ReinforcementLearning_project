{
 "cells": [
  {
   "cell_type": "code",
   "execution_count": 1,
   "metadata": {
    "collapsed": true
   },
   "outputs": [],
   "source": [
    "--- Libraries:\n",
    "arguments = require 'Settings.arguments'\n",
    "constants = require 'Settings.constants'\n",
    "card_to_string = require 'Game.card_to_string_conversion'\n",
    "card_tools = require 'Game.card_tools'\n",
    "game_settings = require 'Settings.game_settings'\n",
    "Plot = require 'itorch.Plot'\n",
    "nninit = require 'nninit'\n",
    "require 'torch'\n",
    "require 'math'\n",
    "require 'Tree.tree_builder'\n",
    "require 'Tree.tree_data_generation'\n",
    "require 'Tree.tree_values'\n",
    "require 'Tree.tree_visualiser'\n",
    "require 'nn'\n",
    "require 'Tree.tree_cfr'\n",
    "require 'Tree.tree_cfr2'\n",
    "require 'nngraph'\n",
    "require 'optim'\n",
    "require 'image'\n",
    "require 'NN.strategy_net_builder'\n",
    "require 'NN.strategy_net_trainer'\n",
    "require 'Tree.tree_warm_start'\n",
    "---require 'Adversarials.exploitability'\n",
    "require 'Adversarials.exploitabilityVS'\n",
    "\n"
   ]
  },
  {
   "cell_type": "code",
   "execution_count": 2,
   "metadata": {
    "collapsed": true
   },
   "outputs": [],
   "source": [
    "function get_first_mask_tensor(index)\n",
    "    local output = torch.range(1,6)\n",
    "    if index ==1 then\n",
    "        return torch.range(2,6)\n",
    "    end\n",
    "    local out1 = output:clone():narrow(1,1,index-1)\n",
    "    local out2 = output:clone():narrow(1,index+1,6-index)\n",
    "    local result = out1:cat(out2)\n",
    "    return result\n",
    "end\n",
    "\n",
    "function get_second_mask_tensor(input_tensor,index)\n",
    "    local result = {}\n",
    "    local input = input_tensor:clone()\n",
    "    for i = 1,input:size(1) do\n",
    "        if input[i] ~= index then\n",
    "            table.insert(result,input[i])\n",
    "        end\n",
    "    end\n",
    "    return torch.Tensor(result)\n",
    "end\n",
    "\n",
    "\n",
    "function construct_possible_game_states()\n",
    "    local states_tensor = torch.Tensor()\n",
    "    local first_card_tensor = torch.Tensor({1,3,5})\n",
    "    for i = 1,first_card_tensor:size(1) do\n",
    "        local second_card_tensor = get_first_mask_tensor(first_card_tensor[i])\n",
    "        for j =1, second_card_tensor:size(1) do\n",
    "            local third_card_tensor = get_second_mask_tensor(second_card_tensor,second_card_tensor[j])\n",
    "            for k = 1,third_card_tensor:size(1) do\n",
    "                local states = torch.Tensor({first_card_tensor[i],second_card_tensor[j],third_card_tensor[k]}):view(1,3)\n",
    "                states_tensor = states_tensor:cat(states,1)\n",
    "            end\n",
    "        end\n",
    "    end\n",
    "    return states_tensor\n",
    "end\n",
    "\n",
    "function distribute_cards(cards_tensor)\n",
    "    local cards = {}\n",
    "    cards.P1 = cards_tensor[1]\n",
    "    cards.P2 = cards_tensor[2]\n",
    "    cards.board = cards_tensor[3]\n",
    "    return cards\n",
    "end"
   ]
  },
  {
   "cell_type": "code",
   "execution_count": 3,
   "metadata": {
    "collapsed": true
   },
   "outputs": [],
   "source": [
    "--- Create the tree\n",
    "builder = PokerTreeBuilder()\n",
    "--- Parameters for the tree\n",
    "params = {}\n",
    "params.root_node = {}\n",
    "params.root_node.board = card_to_string:string_to_board('')\n",
    "params.root_node.street = 1\n",
    "params.root_node.current_player = constants.players.P1\n",
    "params.root_node.bets = arguments.Tensor{200,200}\n",
    "--- CFR Solver\n",
    "starting_ranges = arguments.Tensor(constants.players_count, game_settings.card_count)\n",
    "starting_ranges[1]:copy(card_tools:get_uniform_range(params.root_node.board))\n",
    "starting_ranges[2]:copy(card_tools:get_uniform_range(params.root_node.board))\n",
    "--- exploitability\n",
    "exploit = TreeValues()"
   ]
  },
  {
   "cell_type": "code",
   "execution_count": 4,
   "metadata": {},
   "outputs": [],
   "source": [
    "--- Initialize trees\n",
    "tree1 = builder:build_tree(params)\n",
    "tree2 = builder:build_tree(params)"
   ]
  },
  {
   "cell_type": "code",
   "execution_count": 5,
   "metadata": {
    "collapsed": true
   },
   "outputs": [],
   "source": [
    "---visualiser = TreeVisualiser()\n",
    "---visualiser:graphviz(tree1, \"zero_blind\")"
   ]
  },
  {
   "cell_type": "code",
   "execution_count": 6,
   "metadata": {},
   "outputs": [],
   "source": [
    "solver2 = TreeCFR()\n",
    "solver2.cfr_skip = 0\n",
    "solver2:run_cfr(tree2,starting_ranges,500)"
   ]
  },
  {
   "cell_type": "code",
   "execution_count": 7,
   "metadata": {},
   "outputs": [],
   "source": [
    "--- NNWarm Starting\n",
    "dataNN = TreeData(tree2)\n",
    "dataNN:get_training_set(tree2,1)"
   ]
  },
  {
   "cell_type": "code",
   "execution_count": 8,
   "metadata": {
    "collapsed": true
   },
   "outputs": [],
   "source": [
    "tree_eval = StrategyEvaluator(tree1,tree2)"
   ]
  },
  {
   "cell_type": "code",
   "execution_count": 17,
   "metadata": {
    "collapsed": true
   },
   "outputs": [],
   "source": [
    "timer = torch.Timer()"
   ]
  },
  {
   "cell_type": "code",
   "execution_count": null,
   "metadata": {},
   "outputs": [
    {
     "data": {
      "text/plain": [
       "Total number of pots won : \t160\n",
       "average amount won per game\t133.33333333333\n"
      ]
     },
     "execution_count": 19,
     "metadata": {},
     "output_type": "execute_result"
    },
    {
     "data": {
      "text/plain": [
       "Total number of pots won : \t129.2\n",
       "average amount won per game\t107.66666666667\n"
      ]
     },
     "execution_count": 19,
     "metadata": {},
     "output_type": "execute_result"
    },
    {
     "data": {
      "text/plain": [
       "Total number of pots won : \t118.9\n",
       "average amount won per game\t99.083333333333\n"
      ]
     },
     "execution_count": 19,
     "metadata": {},
     "output_type": "execute_result"
    },
    {
     "data": {
      "text/plain": [
       "Total number of pots won : \t138.93333333333\n",
       "average amount won per game\t115.77777777778\n"
      ]
     },
     "execution_count": 19,
     "metadata": {},
     "output_type": "execute_result"
    },
    {
     "data": {
      "text/plain": [
       "Total number of pots won : \t141.4\n",
       "average amount won per game\t117.83333333333\n"
      ]
     },
     "execution_count": 19,
     "metadata": {},
     "output_type": "execute_result"
    },
    {
     "data": {
      "text/plain": [
       "Total number of pots won : \t139.8\n",
       "average amount won per game\t116.5\n"
      ]
     },
     "execution_count": 19,
     "metadata": {},
     "output_type": "execute_result"
    },
    {
     "data": {
      "text/plain": [
       "Total number of pots won : \t133.26666666667\n",
       "average amount won per game\t111.05555555556\n"
      ]
     },
     "execution_count": 19,
     "metadata": {},
     "output_type": "execute_result"
    },
    {
     "data": {
      "text/plain": [
       "Total number of pots won : \t135.54285714286\n",
       "average amount won per game\t112.95238095238\n"
      ]
     },
     "execution_count": 19,
     "metadata": {},
     "output_type": "execute_result"
    },
    {
     "data": {
      "text/plain": [
       "Total number of pots won : \t154.875\n",
       "average amount won per game\t129.0625\n"
      ]
     },
     "execution_count": 19,
     "metadata": {},
     "output_type": "execute_result"
    },
    {
     "data": {
      "text/plain": [
       "Total number of pots won : \t142.57777777778\n",
       "average amount won per game\t118.81481481481\n"
      ]
     },
     "execution_count": 19,
     "metadata": {},
     "output_type": "execute_result"
    },
    {
     "data": {
      "text/plain": [
       "Total number of pots won : \t135.6\n",
       "average amount won per game\t113\n"
      ]
     },
     "execution_count": 19,
     "metadata": {},
     "output_type": "execute_result"
    },
    {
     "data": {
      "text/plain": [
       "Total number of pots won : \t139.52727272727\n",
       "average amount won per game\t116.27272727273\n"
      ]
     },
     "execution_count": 19,
     "metadata": {},
     "output_type": "execute_result"
    },
    {
     "data": {
      "text/plain": [
       "Total number of pots won : \t137.98333333333\n",
       "average amount won per game\t114.98611111111\n"
      ]
     },
     "execution_count": 19,
     "metadata": {},
     "output_type": "execute_result"
    },
    {
     "data": {
      "text/plain": [
       "Total number of pots won : \t144.50769230769\n",
       "average amount won per game\t120.42307692308\n"
      ]
     },
     "execution_count": 19,
     "metadata": {},
     "output_type": "execute_result"
    },
    {
     "data": {
      "text/plain": [
       "Total number of pots won : \t137.85714285714\n",
       "average amount won per game\t114.88095238095\n"
      ]
     },
     "execution_count": 19,
     "metadata": {},
     "output_type": "execute_result"
    },
    {
     "data": {
      "text/plain": [
       "Total number of pots won : \t137.93333333333\n",
       "average amount won per game\t114.94444444444\n"
      ]
     },
     "execution_count": 19,
     "metadata": {},
     "output_type": "execute_result"
    },
    {
     "data": {
      "text/plain": [
       "Total number of pots won : \t130.025\n",
       "average amount won per game\t108.35416666667\n"
      ]
     },
     "execution_count": 19,
     "metadata": {},
     "output_type": "execute_result"
    },
    {
     "data": {
      "text/plain": [
       "Total number of pots won : \t148.43529411765\n",
       "average amount won per game\t123.69607843137\n"
      ]
     },
     "execution_count": 19,
     "metadata": {},
     "output_type": "execute_result"
    },
    {
     "data": {
      "text/plain": [
       "Total number of pots won : \t134.72222222222\n",
       "average amount won per game\t112.26851851852\n"
      ]
     },
     "execution_count": 19,
     "metadata": {},
     "output_type": "execute_result"
    },
    {
     "data": {
      "text/plain": [
       "Total number of pots won : \t142.70526315789\n",
       "average amount won per game\t118.92105263158\n"
      ]
     },
     "execution_count": 19,
     "metadata": {},
     "output_type": "execute_result"
    },
    {
     "data": {
      "text/plain": [
       "Total number of pots won : \t137.31\n",
       "average amount won per game\t114.425\n"
      ]
     },
     "execution_count": 19,
     "metadata": {},
     "output_type": "execute_result"
    },
    {
     "data": {
      "text/plain": [
       "Total number of pots won : \t134.72380952381\n",
       "average amount won per game\t112.26984126984\n"
      ]
     },
     "execution_count": 19,
     "metadata": {},
     "output_type": "execute_result"
    },
    {
     "data": {
      "text/plain": [
       "Total number of pots won : \t136.64545454545\n",
       "average amount won per game\t113.87121212121\n"
      ]
     },
     "execution_count": 19,
     "metadata": {},
     "output_type": "execute_result"
    },
    {
     "data": {
      "text/plain": [
       "Total number of pots won : \t137.98260869565\n",
       "average amount won per game\t114.98550724638\n"
      ]
     },
     "execution_count": 19,
     "metadata": {},
     "output_type": "execute_result"
    },
    {
     "data": {
      "text/plain": [
       "Total number of pots won : \t136.91666666667\n",
       "average amount won per game\t114.09722222222\n"
      ]
     },
     "execution_count": 19,
     "metadata": {},
     "output_type": "execute_result"
    },
    {
     "data": {
      "text/plain": [
       "Total number of pots won : \t144.76\n",
       "average amount won per game\t120.63333333333\n"
      ]
     },
     "execution_count": 19,
     "metadata": {},
     "output_type": "execute_result"
    },
    {
     "data": {
      "text/plain": [
       "Total number of pots won : \t143.06923076923\n",
       "average amount won per game\t119.22435897436\n"
      ]
     },
     "execution_count": 19,
     "metadata": {},
     "output_type": "execute_result"
    },
    {
     "data": {
      "text/plain": [
       "Total number of pots won : \t140.82222222222\n",
       "average amount won per game\t117.35185185185\n"
      ]
     },
     "execution_count": 19,
     "metadata": {},
     "output_type": "execute_result"
    },
    {
     "data": {
      "text/plain": [
       "Total number of pots won : \t137.55\n",
       "average amount won per game\t114.625\n"
      ]
     },
     "execution_count": 19,
     "metadata": {},
     "output_type": "execute_result"
    },
    {
     "data": {
      "text/plain": [
       "Total number of pots won : \t138.70344827586\n",
       "average amount won per game\t115.58620689655\n"
      ]
     },
     "execution_count": 19,
     "metadata": {},
     "output_type": "execute_result"
    },
    {
     "data": {
      "text/plain": [
       "Total number of pots won : \t138.24666666667\n",
       "average amount won per game\t115.20555555556\n"
      ]
     },
     "execution_count": 19,
     "metadata": {},
     "output_type": "execute_result"
    },
    {
     "data": {
      "text/plain": [
       "Total number of pots won : \t136.78709677419\n",
       "average amount won per game\t113.98924731183\n"
      ]
     },
     "execution_count": 19,
     "metadata": {},
     "output_type": "execute_result"
    },
    {
     "data": {
      "text/plain": [
       "Total number of pots won : \t135.69375\n",
       "average amount won per game\t113.078125\n"
      ]
     },
     "execution_count": 19,
     "metadata": {},
     "output_type": "execute_result"
    },
    {
     "data": {
      "text/plain": [
       "Total number of pots won : \t137.87272727273\n",
       "average amount won per game\t114.89393939394\n"
      ]
     },
     "execution_count": 19,
     "metadata": {},
     "output_type": "execute_result"
    },
    {
     "data": {
      "text/plain": [
       "Total number of pots won : \t138.91764705882\n",
       "average amount won per game\t115.76470588235\n"
      ]
     },
     "execution_count": 19,
     "metadata": {},
     "output_type": "execute_result"
    },
    {
     "data": {
      "text/plain": [
       "Total number of pots won : \t136.6\n",
       "average amount won per game\t113.83333333333\n"
      ]
     },
     "execution_count": 19,
     "metadata": {},
     "output_type": "execute_result"
    },
    {
     "data": {
      "text/plain": [
       "Total number of pots won : \t139.31111111111\n",
       "average amount won per game\t116.09259259259\n"
      ]
     },
     "execution_count": 19,
     "metadata": {},
     "output_type": "execute_result"
    },
    {
     "data": {
      "text/plain": [
       "Total number of pots won : \t139.68108108108\n",
       "average amount won per game\t116.4009009009\n"
      ]
     },
     "execution_count": 19,
     "metadata": {},
     "output_type": "execute_result"
    },
    {
     "data": {
      "text/plain": [
       "Total number of pots won : \t137.13157894737\n",
       "average amount won per game\t114.27631578947\n"
      ]
     },
     "execution_count": 19,
     "metadata": {},
     "output_type": "execute_result"
    },
    {
     "data": {
      "text/plain": [
       "Total number of pots won : \t141.37435897436\n",
       "average amount won per game\t117.81196581197\n"
      ]
     },
     "execution_count": 19,
     "metadata": {},
     "output_type": "execute_result"
    },
    {
     "data": {
      "text/plain": [
       "Total number of pots won : \t138.49\n",
       "average amount won per game\t115.40833333333\n"
      ]
     },
     "execution_count": 19,
     "metadata": {},
     "output_type": "execute_result"
    },
    {
     "data": {
      "text/plain": [
       "Total number of pots won : \t140.06341463415\n",
       "average amount won per game\t116.71951219512\n"
      ]
     },
     "execution_count": 19,
     "metadata": {},
     "output_type": "execute_result"
    },
    {
     "data": {
      "text/plain": [
       "Total number of pots won : \t138.4380952381\n",
       "average amount won per game\t115.36507936508\n"
      ]
     },
     "execution_count": 19,
     "metadata": {},
     "output_type": "execute_result"
    },
    {
     "data": {
      "text/plain": [
       "Total number of pots won : \t135.12558139535\n"
      ]
     },
     "execution_count": 19,
     "metadata": {},
     "output_type": "execute_result"
    },
    {
     "data": {
      "text/plain": [
       "average amount won per game\t112.60465116279\n"
      ]
     },
     "execution_count": 19,
     "metadata": {},
     "output_type": "execute_result"
    },
    {
     "data": {
      "text/plain": [
       "Total number of pots won : \t142.10909090909\n",
       "average amount won per game\t118.42424242424\n"
      ]
     },
     "execution_count": 19,
     "metadata": {},
     "output_type": "execute_result"
    },
    {
     "data": {
      "text/plain": [
       "Total number of pots won : \t138.36444444444\n",
       "average amount won per game\t115.3037037037\n"
      ]
     },
     "execution_count": 19,
     "metadata": {},
     "output_type": "execute_result"
    },
    {
     "data": {
      "text/plain": [
       "Total number of pots won : \t138.44347826087\n",
       "average amount won per game\t115.36956521739\n"
      ]
     },
     "execution_count": 19,
     "metadata": {},
     "output_type": "execute_result"
    },
    {
     "data": {
      "text/plain": [
       "Total number of pots won : \t136.05957446809\n",
       "average amount won per game\t113.3829787234\n"
      ]
     },
     "execution_count": 19,
     "metadata": {},
     "output_type": "execute_result"
    },
    {
     "data": {
      "text/plain": [
       "Total number of pots won : \t138.925\n",
       "average amount won per game\t115.77083333333\n"
      ]
     },
     "execution_count": 19,
     "metadata": {},
     "output_type": "execute_result"
    }
   ],
   "source": [
    "min_pot = 50\n",
    "number_of_times = 1000\n",
    "interval = 20\n",
    "range_games = torch.range(0,number_of_times,interval)\n",
    "pots_won_tensor = torch.FloatTensor(1,range_games:size(1))\n",
    "avg_gain_per_game = torch.FloatTensor(1,range_games:size(1))\n",
    "range_games[1] = 1\n",
    "for i = 1,range_games:size(1) do\n",
    "    tree_eval:play_all_combinations_n_times(tree1,tree2,range_games[i])\n",
    "    pots_won_tensor[{1,i}] = tree_eval.A2_pot_matrix:sum()/(min_pot*range_games[i])\n",
    "    avg_gain_per_game[{1,i}] = tree_eval.A2_pot_matrix:sum()/(range_games[i]*60)\n",
    "    print(\"Total number of pots won : \",tree_eval.A2_pot_matrix:sum()/(min_pot*range_games[i]))\n",
    "    print(\"average amount won per game\",tree_eval.A2_pot_matrix:sum()/(range_games[i]*60))\n",
    "end"
   ]
  },
  {
   "cell_type": "code",
   "execution_count": null,
   "metadata": {
    "collapsed": true
   },
   "outputs": [],
   "source": [
    " print('Time elapsed' .. timer:time().real .. ' seconds')\n",
    "\n"
   ]
  },
  {
   "cell_type": "code",
   "execution_count": null,
   "metadata": {},
   "outputs": [],
   "source": [
    "range_games:view(-1)"
   ]
  },
  {
   "cell_type": "code",
   "execution_count": null,
   "metadata": {
    "collapsed": true
   },
   "outputs": [],
   "source": [
    "size_x= avg_gain_per_game:size(2)"
   ]
  },
  {
   "cell_type": "code",
   "execution_count": null,
   "metadata": {},
   "outputs": [],
   "source": [
    "x = torch.range(1,size_x)\n",
    "local plot = Plot()\n",
    "\n",
    "plot:line(x,avg_gain_per_game:view(-1),'gray' ,'Original CFR in the paper')\n",
    "plot:line(x,torch.FloatTensor(size_x):fill(avg_gain_per_game:mean()),'black' ,'Original CFR in the paper')\n",
    "\n",
    "--plot:line(x,avg_won:view(-1),'blue' ,'Original CFR in the paper'):draw()\n",
    "plot:line(x,torch.FloatTensor(size_x):fill(pots_won_tensor:mean()),'red' ,'Original CFR in the paper')\n",
    "\n",
    "plot:line(x,pots_won_tensor:view(-1),'brown' ,'No Warm start CFR'):draw()\n",
    "\n"
   ]
  },
  {
   "cell_type": "code",
   "execution_count": null,
   "metadata": {},
   "outputs": [],
   "source": [
    "tree_eval:display_results()"
   ]
  },
  {
   "cell_type": "code",
   "execution_count": null,
   "metadata": {},
   "outputs": [],
   "source": [
    "print(tree_eval.A2_pot_matrix:sum())\n",
    "print(tree_eval.A2_pot_matrix:std())"
   ]
  },
  {
   "cell_type": "code",
   "execution_count": null,
   "metadata": {},
   "outputs": [],
   "source": [
    "print(\"Total number of pots won : \",tree_eval.A2_pot_matrix:sum()/min_pot)"
   ]
  },
  {
   "cell_type": "code",
   "execution_count": null,
   "metadata": {},
   "outputs": [],
   "source": [
    "print(\"average amount won per game\",tree_eval.A2_pot_matrix:sum()/(number_of_times*60))"
   ]
  },
  {
   "cell_type": "code",
   "execution_count": null,
   "metadata": {},
   "outputs": [],
   "source": [
    "avg_per_hand = tree_eval.A2_pot_matrix:mean(2)"
   ]
  },
  {
   "cell_type": "code",
   "execution_count": null,
   "metadata": {},
   "outputs": [],
   "source": [
    "plot = Plot():circle(torch.range(1,avg_per_hand:size(1)),avg_per_hand:view(-1))\n",
    "plot:legend(true):title('Player 2 pot distribution, 10000 games, each possible card dealt'):draw()\n"
   ]
  },
  {
   "cell_type": "code",
   "execution_count": null,
   "metadata": {
    "collapsed": true
   },
   "outputs": [],
   "source": [
    "-- Building the neural net model\n",
    "strategy_nn = StrategyNN()\n",
    "nn_model = strategy_nn.model\n",
    "-- Building trainer:\n",
    "nn_trainer = NNTrainer(tree_data800,nn_model)\n",
    "-- Options:\n",
    "opt = {}\n",
    "opt.learningRate = 0.001\n",
    "opt.momentum = 0.95\n",
    "opt.validate = false"
   ]
  },
  {
   "cell_type": "code",
   "execution_count": null,
   "metadata": {
    "collapsed": true
   },
   "outputs": [],
   "source": []
  },
  {
   "cell_type": "code",
   "execution_count": null,
   "metadata": {
    "collapsed": true
   },
   "outputs": [],
   "source": []
  },
  {
   "cell_type": "code",
   "execution_count": null,
   "metadata": {
    "collapsed": true
   },
   "outputs": [],
   "source": [
    "cards = {}\n",
    "cards.P1 = 1\n",
    "cards.P2 = 2\n",
    "cards.board = 4\n",
    "number_of_games = 100"
   ]
  },
  {
   "cell_type": "code",
   "execution_count": null,
   "metadata": {
    "collapsed": true
   },
   "outputs": [],
   "source": [
    "tree_eval.A2_pot_tensor"
   ]
  },
  {
   "cell_type": "code",
   "execution_count": null,
   "metadata": {
    "collapsed": true
   },
   "outputs": [],
   "source": [
    "print(tree_eval.A2_pot_tensor:mean())\n",
    "print(tree_eval.A2_pot_tensor:std())"
   ]
  },
  {
   "cell_type": "code",
   "execution_count": null,
   "metadata": {
    "collapsed": true
   },
   "outputs": [],
   "source": [
    "tree_eval:display_results()"
   ]
  },
  {
   "cell_type": "code",
   "execution_count": null,
   "metadata": {
    "collapsed": true
   },
   "outputs": [],
   "source": [
    "local pot_table = {}\n",
    "local size_sample = 50\n",
    "for i = 1,50 do\n",
    "    tree_eval:play_several_games(tree1,tree2,size_sample)\n",
    "    table.insert(pot_table,tree_eval.A2_pot/size_sample)\n",
    "end\n",
    "print(\"player_2 won: \",torch.FloatTensor(pot_table):mean())"
   ]
  },
  {
   "cell_type": "code",
   "execution_count": null,
   "metadata": {
    "collapsed": true
   },
   "outputs": [],
   "source": [
    "pot_table_A2 = {}\n",
    "local number_of_games = 1000\n",
    "local cards_tensor = construct_possible_game_states()\n",
    "for i = 1,cards_tensor:size(1) do\n",
    "    local cards = distribute_cards(cards_tensor[i])\n",
    "    tree_eval:play_deterministic_games(tree1,tree2,number_of_games,cards)\n",
    "    table.insert(pot_table_A2,tree_eval.A2_pot)\n",
    "end\n",
    "print(\"player_2 won: \",torch.FloatTensor(pot_table_A2):mean())\n",
    "print(\"player_2 std: \",torch.FloatTensor(pot_table_A2):std())\n",
    "tree_eval:display_results()"
   ]
  },
  {
   "cell_type": "code",
   "execution_count": null,
   "metadata": {
    "collapsed": true
   },
   "outputs": [],
   "source": [
    "torch.sqrt(60)*(1803/150716)"
   ]
  },
  {
   "cell_type": "code",
   "execution_count": null,
   "metadata": {
    "collapsed": true
   },
   "outputs": [],
   "source": [
    "plot = Plot():histogram(torch.FloatTensor(pot_table_A2)):draw()"
   ]
  },
  {
   "cell_type": "code",
   "execution_count": null,
   "metadata": {
    "collapsed": true
   },
   "outputs": [],
   "source": []
  },
  {
   "cell_type": "code",
   "execution_count": null,
   "metadata": {
    "collapsed": true
   },
   "outputs": [],
   "source": [
    "pot_table1 = {}\n",
    "local number_of_games = 10\n",
    "local cards_tensor = construct_possible_game_states()\n",
    "for i = 1,cards_tensor:size(1) do\n",
    "    for j = 1,number_of_games do\n",
    "        local cards = distribute_cards(cards_tensor[i])\n",
    "        tree_eval:play_deterministic_games(tree1,tree2,number_of_plays,cards)\n",
    "        table.insert(pot_table1,tree_eval.A2_pot)\n",
    "    end\n",
    "end\n",
    "print(\"player_2 won: \",torch.FloatTensor(pot_table1):mean())\n",
    "print(\"player_2 std: \",torch.FloatTensor(pot_table1):std())"
   ]
  },
  {
   "cell_type": "code",
   "execution_count": null,
   "metadata": {
    "collapsed": true
   },
   "outputs": [],
   "source": [
    "pot_table1 = {}\n",
    "local number_of_games = 20\n",
    "local cards_tensor = construct_possible_game_states()\n",
    "for i = 1,cards_tensor:size(1) do\n",
    "    for j = 1,number_of_games do\n",
    "        local cards = distribute_cards(cards_tensor[i])\n",
    "        tree_eval:play_deterministic_games(tree1,tree2,number_of_plays,cards)\n",
    "        table.insert(pot_table1,tree_eval.A2_pot)\n",
    "    end\n",
    "end\n",
    "print(\"player_2 won: \",torch.FloatTensor(pot_table1):mean())\n",
    "print(\"player_2 std: \",torch.FloatTensor(pot_table1):std())"
   ]
  },
  {
   "cell_type": "code",
   "execution_count": null,
   "metadata": {
    "collapsed": true
   },
   "outputs": [],
   "source": [
    "pot_table1 = {}\n",
    "local number_of_games = 50\n",
    "local cards_tensor = construct_possible_game_states()\n",
    "for i = 1,cards_tensor:size(1) do\n",
    "    for j = 1,number_of_games do\n",
    "        local cards = distribute_cards(cards_tensor[i])\n",
    "        tree_eval:play_deterministic_games(tree1,tree2,number_of_plays,cards)   --- --> CHECK NUMBER OF GAMES!\n",
    "        table.insert(pot_table1,tree_eval.A2_pot)\n",
    "    end\n",
    "end\n",
    "print(\"player_2 won: \",torch.FloatTensor(pot_table1):mean())\n",
    "print(\"player_2 std: \",torch.FloatTensor(pot_table1):std())"
   ]
  },
  {
   "cell_type": "code",
   "execution_count": null,
   "metadata": {
    "collapsed": true
   },
   "outputs": [],
   "source": [
    " cardsInv = {}\n",
    "cardsInv.P1 = cards.P2\n",
    "cardsInv.P2 = cards.P1\n",
    "cardsInv.board = cards.board"
   ]
  },
  {
   "cell_type": "code",
   "execution_count": null,
   "metadata": {
    "collapsed": true
   },
   "outputs": [],
   "source": [
    "pot_table2 = {}\n",
    "local size_sample = 100\n",
    "for i = 1,20 do\n",
    "    tree_eval:play_deterministic_games(tree1,tree2,size_sample,cardsInv)\n",
    "    table.insert(pot_table2,tree_eval.A2_pot/size_sample)\n",
    "end\n",
    "print(\"player_2 won: \",torch.FloatTensor(pot_table2):mean())\n",
    "print(\"player_2 std: \",torch.FloatTensor(pot_table2):std())"
   ]
  },
  {
   "cell_type": "code",
   "execution_count": null,
   "metadata": {
    "collapsed": true
   },
   "outputs": [],
   "source": [
    "---plot = Plot():histogram(torch.FloatTensor(pot_table1)):draw()"
   ]
  },
  {
   "cell_type": "code",
   "execution_count": null,
   "metadata": {
    "collapsed": true
   },
   "outputs": [],
   "source": [
    "---plot = Plot():histogram(torch.FloatTensor(pot_table2)):draw()"
   ]
  },
  {
   "cell_type": "code",
   "execution_count": null,
   "metadata": {
    "collapsed": true
   },
   "outputs": [],
   "source": [
    "x[1]"
   ]
  },
  {
   "cell_type": "code",
   "execution_count": null,
   "metadata": {
    "collapsed": true
   },
   "outputs": [],
   "source": []
  },
  {
   "cell_type": "code",
   "execution_count": null,
   "metadata": {
    "collapsed": true
   },
   "outputs": [],
   "source": []
  }
 ],
 "metadata": {
  "kernelspec": {
   "display_name": "iTorch",
   "language": "lua",
   "name": "itorch"
  },
  "language_info": {
   "name": "lua",
   "version": "5.2"
  }
 },
 "nbformat": 4,
 "nbformat_minor": 2
}
