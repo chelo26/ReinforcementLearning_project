{
 "cells": [
  {
   "cell_type": "code",
   "execution_count": 1,
   "metadata": {
    "collapsed": true
   },
   "outputs": [],
   "source": [
    "--- Libraries:\n",
    "arguments = require 'Settings.arguments'\n",
    "constants = require 'Settings.constants'\n",
    "card_to_string = require 'Game.card_to_string_conversion'\n",
    "card_tools = require 'Game.card_tools'\n",
    "game_settings = require 'Settings.game_settings'\n",
    "Plot = require 'itorch.Plot'\n",
    "nninit = require 'nninit'\n",
    "require 'torch'\n",
    "require 'math'\n",
    "require 'Tree.tree_builder'\n",
    "require 'Tree.tree_data_generation'\n",
    "require 'Tree.tree_values'\n",
    "require 'Tree.tree_visualiser'\n",
    "require 'nn'\n",
    "require 'Tree.tree_cfr'\n",
    "require 'Tree.tree_cfr2'\n",
    "require 'nngraph'\n",
    "require 'optim'\n",
    "require 'image'\n",
    "require 'NN.strategy_net_builder'\n",
    "require 'NN.strategy_net_trainer'\n",
    "require 'Tree.tree_warm_start'\n",
    "---require 'Adversarials.exploitability'\n",
    "require 'Adversarials.exploitabilityVS'\n",
    "\n"
   ]
  },
  {
   "cell_type": "code",
   "execution_count": 2,
   "metadata": {
    "collapsed": true
   },
   "outputs": [],
   "source": [
    "function get_first_mask_tensor(index)\n",
    "    local output = torch.range(1,6)\n",
    "    if index ==1 then\n",
    "        return torch.range(2,6)\n",
    "    end\n",
    "    local out1 = output:clone():narrow(1,1,index-1)\n",
    "    local out2 = output:clone():narrow(1,index+1,6-index)\n",
    "    local result = out1:cat(out2)\n",
    "    return result\n",
    "end\n",
    "\n",
    "function get_second_mask_tensor(input_tensor,index)\n",
    "    local result = {}\n",
    "    local input = input_tensor:clone()\n",
    "    for i = 1,input:size(1) do\n",
    "        if input[i] ~= index then\n",
    "            table.insert(result,input[i])\n",
    "        end\n",
    "    end\n",
    "    return torch.Tensor(result)\n",
    "end\n",
    "\n",
    "\n",
    "function construct_possible_game_states()\n",
    "    local states_tensor = torch.Tensor()\n",
    "    local first_card_tensor = torch.Tensor({1,3,5})\n",
    "    for i = 1,first_card_tensor:size(1) do\n",
    "        local second_card_tensor = get_first_mask_tensor(first_card_tensor[i])\n",
    "        for j =1, second_card_tensor:size(1) do\n",
    "            local third_card_tensor = get_second_mask_tensor(second_card_tensor,second_card_tensor[j])\n",
    "            for k = 1,third_card_tensor:size(1) do\n",
    "                local states = torch.Tensor({first_card_tensor[i],second_card_tensor[j],third_card_tensor[k]}):view(1,3)\n",
    "                states_tensor = states_tensor:cat(states,1)\n",
    "            end\n",
    "        end\n",
    "    end\n",
    "    return states_tensor\n",
    "end\n",
    "\n",
    "function distribute_cards(cards_tensor)\n",
    "    local cards = {}\n",
    "    cards.P1 = cards_tensor[1]\n",
    "    cards.P2 = cards_tensor[2]\n",
    "    cards.board = cards_tensor[3]\n",
    "    return cards\n",
    "end"
   ]
  },
  {
   "cell_type": "code",
   "execution_count": 3,
   "metadata": {
    "collapsed": true
   },
   "outputs": [],
   "source": [
    "--- Create the tree\n",
    "builder = PokerTreeBuilder()\n",
    "--- Parameters for the tree\n",
    "params = {}\n",
    "params.root_node = {}\n",
    "params.root_node.board = card_to_string:string_to_board('')\n",
    "params.root_node.street = 1\n",
    "params.root_node.current_player = constants.players.P1\n",
    "params.root_node.bets = arguments.Tensor{200, 200}\n",
    "--- CFR Solver\n",
    "starting_ranges = arguments.Tensor(constants.players_count, game_settings.card_count)\n",
    "starting_ranges[1]:copy(card_tools:get_uniform_range(params.root_node.board))\n",
    "starting_ranges[2]:copy(card_tools:get_uniform_range(params.root_node.board))\n",
    "--- exploitability\n",
    "exploit = TreeValues()"
   ]
  },
  {
   "cell_type": "code",
   "execution_count": 4,
   "metadata": {
    "collapsed": true
   },
   "outputs": [],
   "source": [
    "--- Initialize trees\n",
    "tree1 = builder:build_tree(params)\n",
    "tree2 = builder:build_tree(params)"
   ]
  },
  {
   "cell_type": "code",
   "execution_count": 5,
   "metadata": {
    "collapsed": true
   },
   "outputs": [],
   "source": [
    "solver2 = TreeCFR()\n",
    "solver2:run_cfr(tree2,starting_ranges,200)"
   ]
  },
  {
   "cell_type": "code",
   "execution_count": 6,
   "metadata": {
    "collapsed": true
   },
   "outputs": [],
   "source": [
    "--- NNWarm Starting\n",
    "dataNN = TreeData(tree2)\n",
    "dataNN:get_training_set(tree2,1)"
   ]
  },
  {
   "cell_type": "code",
   "execution_count": 7,
   "metadata": {
    "collapsed": true
   },
   "outputs": [],
   "source": [
    "tree_eval = StrategyEvaluator(tree1,tree2)"
   ]
  },
  {
   "cell_type": "code",
   "execution_count": 102,
   "metadata": {},
   "outputs": [
    {
     "data": {
      "text/plain": [
       "\n"
      ]
     },
     "execution_count": 102,
     "metadata": {},
     "output_type": "execute_result"
    }
   ],
   "source": [
    "tree_eval:play_all_combinations_n_times(tree1,tree2,20,cards)"
   ]
  },
  {
   "cell_type": "code",
   "execution_count": 103,
   "metadata": {},
   "outputs": [
    {
     "data": {
      "text/plain": [
       "4.5\n"
      ]
     },
     "execution_count": 103,
     "metadata": {},
     "output_type": "execute_result"
    }
   ],
   "source": [
    "tree_eval.A2_pot_matrix:mean()"
   ]
  },
  {
   "cell_type": "code",
   "execution_count": 104,
   "metadata": {},
   "outputs": [
    {
     "data": {
      "text/plain": [
       "560.06649492027\n"
      ]
     },
     "execution_count": 104,
     "metadata": {},
     "output_type": "execute_result"
    }
   ],
   "source": [
    "tree_eval.A2_pot_matrix:std()"
   ]
  },
  {
   "cell_type": "code",
   "execution_count": 105,
   "metadata": {},
   "outputs": [],
   "source": [
    "avg_per_hand = tree_eval.A2_pot_matrix:mean(1)"
   ]
  },
  {
   "cell_type": "code",
   "execution_count": 107,
   "metadata": {},
   "outputs": [
    {
     "data": {
      "text/html": [
       "<script type=\"text/javascript\">\n",
       "$(function() {\n",
       "    if (typeof (window._bokeh_onload_callbacks) === \"undefined\"){\n",
       "  window._bokeh_onload_callbacks = [];\n",
       "    }\n",
       "    function load_lib(url, callback){\n",
       "  window._bokeh_onload_callbacks.push(callback);\n",
       "  if (window._bokeh_is_loading){\n",
       "      console.log(\"Bokeh: BokehJS is being loaded, scheduling callback at\", new Date());\n",
       "      return null;\n",
       "  }\n",
       "  console.log(\"Bokeh: BokehJS not loaded, scheduling load and callback at\", new Date());\n",
       "  window._bokeh_is_loading = true;\n",
       "  var s = document.createElement('script');\n",
       "  s.src = url;\n",
       "  s.async = true;\n",
       "  s.onreadystatechange = s.onload = function(){\n",
       "      Bokeh.embed.inject_css(\"https://cdn.pydata.org/bokeh-0.7.0.min.css\");\n",
       "      window._bokeh_onload_callbacks.forEach(function(callback){callback()});\n",
       "  };\n",
       "  s.onerror = function(){\n",
       "      console.warn(\"failed to load library \" + url);\n",
       "  };\n",
       "  document.getElementsByTagName(\"head\")[0].appendChild(s);\n",
       "    }\n",
       "\n",
       "    bokehjs_url = \"https://cdn.pydata.org/bokeh-0.7.0.min.js\"\n",
       "\n",
       "    var elt = document.getElementById(\"04c4cef0-b6c7-4b05-cbef-315736c7d5ab\");\n",
       "    if(elt==null) {\n",
       "  console.log(\"Bokeh: ERROR: autoload.js configured with elementid '04c4cef0-b6c7-4b05-cbef-315736c7d5ab'\"\n",
       "        + \"but no matching script tag was found. \")\n",
       "  return false;\n",
       "    }\n",
       "\n",
       "    if(typeof(Bokeh) !== \"undefined\") {\n",
       "  console.log(\"Bokeh: BokehJS loaded, going straight to plotting\");\n",
       "  var modelid = \"b1b9cf39-d5e5-40de-c0bf-e0ef776cd0e8\";\n",
       "  var modeltype = \"Plot\";\n",
       "  var all_models = [{\"id\":\"7bd1e0ca-e706-4232-c2e3-f49fb0f1f774\",\"type\":\"ColumnDataSource\",\"attributes\":{\"id\":\"7bd1e0ca-e706-4232-c2e3-f49fb0f1f774\",\"tags\":[],\"selected\":[],\"discrete_ranges\":{},\"cont_ranges\":{},\"column_names\":[\"x0\",\"y0\",\"y1\",\"x1\"],\"data\":{\"x0\":[-560,-548.38385009766,-536.76770019531,-525.15148925781,-513.53533935547,-501.91918945312,-490.30303955078,-478.68685913086,-467.07070922852,-455.45452880859,-443.83837890625,-432.22222900391,-420.60607910156,-408.98989868164,-397.37371826172,-385.75756835938,-374.14141845703,-362.52526855469,-350.90908813477,-339.29290771484,-327.6767578125,-316.06060791016,-304.44445800781,-292.82827758789,-281.21212768555,-269.59594726562,-257.97979736328,-246.36364746094,-234.74746704102,-223.13131713867,-211.51513671875,-199.89898681641,-188.28283691406,-176.66665649414,-165.0505065918,-153.43435668945,-141.81817626953,-130.20202636719,-118.58584594727,-106.96969604492,-95.353546142578,-83.737365722656,-72.121215820312,-60.505035400391,-48.888885498047,-37.272705078125,-25.656555175781,-14.040405273438,-2.4242553710938,9.19189453125,20.80810546875,32.424255371094,44.040405273438,55.656555175781,67.272705078125,78.888916015625,90.505065917969,102.12121582031,113.73736572266,125.353515625,136.9697265625,148.58587646484,160.20202636719,171.81817626953,183.43432617188,195.05047607422,206.66668701172,218.28283691406,229.89898681641,241.51513671875,253.13128662109,264.74749755859,276.36364746094,287.97979736328,299.59594726562,311.21209716797,322.82830810547,334.44445800781,346.06060791016,357.6767578125,369.29290771484,380.90911865234,392.52526855469,404.14141845703,415.75756835938,427.37371826172,438.98992919922,450.60607910156,462.22222900391,473.83837890625,485.45458984375,497.07067871094,508.68688964844,520.30297851562,531.91918945312,543.53540039062,555.15148925781,566.76770019531,578.3837890625,590],\"x1\":[-548.5,-536.88385009766,-525.26770019531,-513.65148925781,-502.03533935547,-490.41918945312,-478.80303955078,-467.18685913086,-455.57070922852,-443.95452880859,-432.33837890625,-420.72222900391,-409.10607910156,-397.48989868164,-385.87371826172,-374.25756835938,-362.64141845703,-351.02526855469,-339.40908813477,-327.79290771484,-316.1767578125,-304.56060791016,-292.94445800781,-281.32827758789,-269.71212768555,-258.09594726562,-246.47979736328,-234.86364746094,-223.24746704102,-211.63131713867,-200.01513671875,-188.39898681641,-176.78283691406,-165.16665649414,-153.5505065918,-141.93435668945,-130.31817626953,-118.70202636719,-107.08584594727,-95.469696044922,-83.853546142578,-72.237365722656,-60.621215820312,-49.005035400391,-37.388885498047,-25.772705078125,-14.156555175781,-2.5404052734375,9.0757446289062,20.69189453125,32.30810546875,43.924255371094,55.540405273438,67.156555175781,78.772705078125,90.388916015625,102.00506591797,113.62121582031,125.23736572266,136.853515625,148.4697265625,160.08587646484,171.70202636719,183.31817626953,194.93432617188,206.55047607422,218.16668701172,229.78283691406,241.39898681641,253.01513671875,264.63128662109,276.24749755859,287.86364746094,299.47979736328,311.09594726562,322.71209716797,334.32830810547,345.94445800781,357.56060791016,369.1767578125,380.79290771484,392.40911865234,404.02526855469,415.64141845703,427.25756835938,438.87371826172,450.48992919922,462.10607910156,473.72222900391,485.33837890625,496.95458984375,508.57067871094,520.18688964844,531.80297851562,543.41918945312,555.03540039062,566.65148925781,578.26770019531,589.8837890625,601.5],\"y1\":[2,0,0,0,0,0,2,0,0,0,2,1,2,0,2,0,0,1,0,0,2,0,1,0,0,0,0,0,0,0,1,0,0,0,1,1,0,0,1,1,0,3,0,0,3,2,3,1,4,1,0,0,2,0,0,0,1,0,0,0,0,1,0,1,0,0,0,0,0,0,0,0,0,1,0,0,2,0,1,3,0,0,1,3,1,0,2,0,0,0,0,1,0,0,0,0,0,0,1,2],\"y0\":[0,0,0,0,0,0,0,0,0,0,0,0,0,0,0,0,0,0,0,0,0,0,0,0,0,0,0,0,0,0,0,0,0,0,0,0,0,0,0,0,0,0,0,0,0,0,0,0,0,0,0,0,0,0,0,0,0,0,0,0,0,0,0,0,0,0,0,0,0,0,0,0,0,0,0,0,0,0,0,0,0,0,0,0,0,0,0,0,0,0,0,0,0,0,0,0,0,0,0,0]},\"doc\":null}},{\"id\":\"68643e80-1bfb-4b2c-cb59-625d6da7a2f1\",\"type\":\"Quad\",\"attributes\":{\"right\":{\"units\":\"data\",\"field\":\"x1\"},\"line_alpha\":{\"units\":\"data\",\"value\":1},\"top\":{\"units\":\"data\",\"field\":\"y1\"},\"tags\":[],\"id\":\"68643e80-1bfb-4b2c-cb59-625d6da7a2f1\",\"line_color\":{\"value\":\"red\"},\"fill_alpha\":{\"units\":\"data\",\"value\":0.7},\"fill_color\":{\"value\":\"red\"},\"bottom\":{\"units\":\"data\",\"field\":\"y0\"},\"left\":{\"units\":\"data\",\"field\":\"x0\"},\"doc\":null}},{\"id\":\"10fb1cb7-e62c-422b-c2cd-4fa3130a6009\",\"type\":\"Quad\",\"attributes\":{\"right\":{\"units\":\"data\",\"field\":\"x1\"},\"line_alpha\":{\"units\":\"data\",\"value\":1},\"top\":{\"units\":\"data\",\"field\":\"y1\"},\"tags\":[],\"id\":\"10fb1cb7-e62c-422b-c2cd-4fa3130a6009\",\"line_color\":{\"value\":\"red\"},\"fill_alpha\":{\"units\":\"data\",\"value\":0.7},\"fill_color\":{\"value\":\"red\"},\"bottom\":{\"units\":\"data\",\"field\":\"y0\"},\"left\":{\"units\":\"data\",\"field\":\"x0\"},\"doc\":null}},{\"id\":\"0baea373-715c-4e20-cea5-ca024da23596\",\"type\":\"GlyphRenderer\",\"attributes\":{\"data_source\":{\"id\":\"7bd1e0ca-e706-4232-c2e3-f49fb0f1f774\",\"type\":\"ColumnDataSource\"},\"server_data_source\":null,\"glyph\":{\"id\":\"68643e80-1bfb-4b2c-cb59-625d6da7a2f1\",\"type\":\"Quad\"},\"nonselection_glyph\":{\"id\":\"10fb1cb7-e62c-422b-c2cd-4fa3130a6009\",\"type\":\"Quad\"},\"tags\":[],\"selection_glyph\":null,\"id\":\"0baea373-715c-4e20-cea5-ca024da23596\",\"name\":null,\"doc\":null}},{\"id\":\"34aac190-f021-4964-c968-732163e2505a\",\"type\":\"DataRange1d\",\"attributes\":{\"id\":\"34aac190-f021-4964-c968-732163e2505a\",\"sources\":[{\"columns\":[\"x0\",\"x1\"],\"source\":{\"id\":\"7bd1e0ca-e706-4232-c2e3-f49fb0f1f774\",\"type\":\"ColumnDataSource\"}}],\"tags\":[],\"doc\":null}},{\"id\":\"27bc3d09-aa73-4298-c214-941ce0ae2d26\",\"type\":\"DataRange1d\",\"attributes\":{\"id\":\"27bc3d09-aa73-4298-c214-941ce0ae2d26\",\"sources\":[{\"columns\":[\"y0\",\"y1\"],\"source\":{\"id\":\"7bd1e0ca-e706-4232-c2e3-f49fb0f1f774\",\"type\":\"ColumnDataSource\"}}],\"tags\":[],\"doc\":null}},{\"id\":\"12fc63ca-80d0-4be9-cbb1-a00302c4dcfb\",\"type\":\"ToolEvents\",\"attributes\":{\"id\":\"12fc63ca-80d0-4be9-cbb1-a00302c4dcfb\",\"tags\":[],\"geometries\":[],\"doc\":null}},{\"id\":\"40e38707-753b-4b2c-cb79-a9fd51b195b2\",\"type\":\"BasicTickFormatter\",\"attributes\":{\"id\":\"40e38707-753b-4b2c-cb79-a9fd51b195b2\",\"tags\":[],\"doc\":null}},{\"id\":\"11c7e856-ed49-4706-c750-8026cb7b6907\",\"type\":\"BasicTicker\",\"attributes\":{\"id\":\"11c7e856-ed49-4706-c750-8026cb7b6907\",\"num_minor_ticks\":5,\"tags\":[],\"doc\":null}},{\"id\":\"db3c4f40-d513-445c-c46f-1d7cdda6faa2\",\"type\":\"LinearAxis\",\"attributes\":{\"id\":\"db3c4f40-d513-445c-c46f-1d7cdda6faa2\",\"ticker\":{\"id\":\"11c7e856-ed49-4706-c750-8026cb7b6907\",\"type\":\"BasicTicker\"},\"tags\":[],\"axis_label\":null,\"formatter\":{\"id\":\"40e38707-753b-4b2c-cb79-a9fd51b195b2\",\"type\":\"BasicTickFormatter\"},\"plot\":{\"id\":\"b1b9cf39-d5e5-40de-c0bf-e0ef776cd0e8\",\"type\":\"Plot\",\"subtype\":\"Figure\"},\"doc\":null}},{\"id\":\"085092fe-aef5-411f-c1ee-50f281fad651\",\"type\":\"Grid\",\"attributes\":{\"id\":\"085092fe-aef5-411f-c1ee-50f281fad651\",\"ticker\":{\"id\":\"11c7e856-ed49-4706-c750-8026cb7b6907\",\"type\":\"BasicTicker\"},\"dimension\":0,\"tags\":[],\"plot\":{\"id\":\"b1b9cf39-d5e5-40de-c0bf-e0ef776cd0e8\",\"type\":\"Plot\",\"subtype\":\"Figure\"},\"doc\":null}},{\"id\":\"d3610186-bd8e-4db4-cdc2-20351be327e7\",\"type\":\"BasicTickFormatter\",\"attributes\":{\"id\":\"d3610186-bd8e-4db4-cdc2-20351be327e7\",\"tags\":[],\"doc\":null}},{\"id\":\"017ef3b9-27e3-4a5c-ca67-860296a513cc\",\"type\":\"BasicTicker\",\"attributes\":{\"id\":\"017ef3b9-27e3-4a5c-ca67-860296a513cc\",\"num_minor_ticks\":5,\"tags\":[],\"doc\":null}},{\"id\":\"d70f7647-bfee-4c2d-cc57-3e9347d979e1\",\"type\":\"LinearAxis\",\"attributes\":{\"id\":\"d70f7647-bfee-4c2d-cc57-3e9347d979e1\",\"ticker\":{\"id\":\"017ef3b9-27e3-4a5c-ca67-860296a513cc\",\"type\":\"BasicTicker\"},\"tags\":[],\"axis_label\":null,\"formatter\":{\"id\":\"d3610186-bd8e-4db4-cdc2-20351be327e7\",\"type\":\"BasicTickFormatter\"},\"plot\":{\"id\":\"b1b9cf39-d5e5-40de-c0bf-e0ef776cd0e8\",\"type\":\"Plot\",\"subtype\":\"Figure\"},\"doc\":null}},{\"id\":\"6dd36830-6562-451d-c58d-e0aa6a1413d5\",\"type\":\"Grid\",\"attributes\":{\"id\":\"6dd36830-6562-451d-c58d-e0aa6a1413d5\",\"ticker\":{\"id\":\"017ef3b9-27e3-4a5c-ca67-860296a513cc\",\"type\":\"BasicTicker\"},\"dimension\":1,\"tags\":[],\"plot\":{\"id\":\"b1b9cf39-d5e5-40de-c0bf-e0ef776cd0e8\",\"type\":\"Plot\",\"subtype\":\"Figure\"},\"doc\":null}},{\"id\":\"95ab9a67-8787-4d86-cd77-a128f3dbeadd\",\"type\":\"PanTool\",\"attributes\":{\"id\":\"95ab9a67-8787-4d86-cd77-a128f3dbeadd\",\"dimensions\":[\"width\",\"height\"],\"tags\":[],\"plot\":{\"id\":\"b1b9cf39-d5e5-40de-c0bf-e0ef776cd0e8\",\"type\":\"Plot\",\"subtype\":\"Figure\"},\"doc\":null}},{\"id\":\"c30e1863-25e7-4296-c2a0-7c2dcdbbe63d\",\"type\":\"WheelZoomTool\",\"attributes\":{\"id\":\"c30e1863-25e7-4296-c2a0-7c2dcdbbe63d\",\"dimensions\":[\"width\",\"height\"],\"tags\":[],\"plot\":{\"id\":\"b1b9cf39-d5e5-40de-c0bf-e0ef776cd0e8\",\"type\":\"Plot\",\"subtype\":\"Figure\"},\"doc\":null}},{\"id\":\"64e546a8-b9df-413d-c15a-9e51604d9d75\",\"type\":\"BoxZoomTool\",\"attributes\":{\"id\":\"64e546a8-b9df-413d-c15a-9e51604d9d75\",\"tags\":[],\"plot\":{\"id\":\"b1b9cf39-d5e5-40de-c0bf-e0ef776cd0e8\",\"type\":\"Plot\",\"subtype\":\"Figure\"},\"doc\":null}},{\"id\":\"efe582be-289c-4407-c4e9-f52fc8864d98\",\"type\":\"PreviewSaveTool\",\"attributes\":{\"id\":\"efe582be-289c-4407-c4e9-f52fc8864d98\",\"tags\":[],\"plot\":{\"id\":\"b1b9cf39-d5e5-40de-c0bf-e0ef776cd0e8\",\"type\":\"Plot\",\"subtype\":\"Figure\"},\"doc\":null}},{\"id\":\"41b8c69c-a624-4fc3-cf5c-dddca0be9f1c\",\"type\":\"ResizeTool\",\"attributes\":{\"id\":\"41b8c69c-a624-4fc3-cf5c-dddca0be9f1c\",\"tags\":[],\"plot\":{\"id\":\"b1b9cf39-d5e5-40de-c0bf-e0ef776cd0e8\",\"type\":\"Plot\",\"subtype\":\"Figure\"},\"doc\":null}},{\"id\":\"405258a8-15fe-416f-c15f-ebaab1ef646c\",\"type\":\"ResetTool\",\"attributes\":{\"id\":\"405258a8-15fe-416f-c15f-ebaab1ef646c\",\"tags\":[],\"plot\":{\"id\":\"b1b9cf39-d5e5-40de-c0bf-e0ef776cd0e8\",\"type\":\"Plot\",\"subtype\":\"Figure\"},\"doc\":null}},{\"id\":\"aa565e3e-1394-4cba-cc24-151705a19edc\",\"type\":\"Legend\",\"attributes\":{\"id\":\"aa565e3e-1394-4cba-cc24-151705a19edc\",\"tags\":[],\"legends\":[[\"unnamed\",[{\"id\":\"0baea373-715c-4e20-cea5-ca024da23596\",\"type\":\"GlyphRenderer\"}]]],\"plot\":{\"id\":\"b1b9cf39-d5e5-40de-c0bf-e0ef776cd0e8\",\"type\":\"Plot\",\"subtype\":\"Figure\"},\"doc\":null}},{\"id\":\"b1b9cf39-d5e5-40de-c0bf-e0ef776cd0e8\",\"type\":\"Plot\",\"attributes\":{\"tools\":[{\"id\":\"95ab9a67-8787-4d86-cd77-a128f3dbeadd\",\"type\":\"PanTool\"},{\"id\":\"c30e1863-25e7-4296-c2a0-7c2dcdbbe63d\",\"type\":\"WheelZoomTool\"},{\"id\":\"64e546a8-b9df-413d-c15a-9e51604d9d75\",\"type\":\"BoxZoomTool\"},{\"id\":\"efe582be-289c-4407-c4e9-f52fc8864d98\",\"type\":\"PreviewSaveTool\"},{\"id\":\"41b8c69c-a624-4fc3-cf5c-dddca0be9f1c\",\"type\":\"ResizeTool\"},{\"id\":\"405258a8-15fe-416f-c15f-ebaab1ef646c\",\"type\":\"ResetTool\"}],\"extra_x_ranges\":{},\"right\":[],\"title\":\"Avg results for 100 games, each possible card dealt\",\"extra_y_ranges\":{},\"renderers\":[{\"id\":\"0baea373-715c-4e20-cea5-ca024da23596\",\"type\":\"GlyphRenderer\"},{\"id\":\"db3c4f40-d513-445c-c46f-1d7cdda6faa2\",\"type\":\"LinearAxis\"},{\"id\":\"085092fe-aef5-411f-c1ee-50f281fad651\",\"type\":\"Grid\"},{\"id\":\"d70f7647-bfee-4c2d-cc57-3e9347d979e1\",\"type\":\"LinearAxis\"},{\"id\":\"6dd36830-6562-451d-c58d-e0aa6a1413d5\",\"type\":\"Grid\"},{\"id\":\"aa565e3e-1394-4cba-cc24-151705a19edc\",\"type\":\"Legend\"}],\"tags\":[],\"id\":\"b1b9cf39-d5e5-40de-c0bf-e0ef776cd0e8\",\"y_range\":{\"id\":\"27bc3d09-aa73-4298-c214-941ce0ae2d26\",\"type\":\"DataRange1d\"},\"tool_events\":{\"id\":\"12fc63ca-80d0-4be9-cbb1-a00302c4dcfb\",\"type\":\"ToolEvents\"},\"above\":[],\"below\":[{\"id\":\"db3c4f40-d513-445c-c46f-1d7cdda6faa2\",\"type\":\"LinearAxis\"}],\"x_range\":{\"id\":\"34aac190-f021-4964-c968-732163e2505a\",\"type\":\"DataRange1d\"},\"left\":[{\"id\":\"d70f7647-bfee-4c2d-cc57-3e9347d979e1\",\"type\":\"LinearAxis\"}],\"doc\":null}}];\n",
       "  Bokeh.load_models(all_models);\n",
       "  var model = Bokeh.Collections(modeltype).get(modelid);\n",
       "  $(\"#04c4cef0-b6c7-4b05-cbef-315736c7d5ab\").html(''); // clear any previous plot in window_id\n",
       "  var view = new model.default_view({model: model, el: \"#04c4cef0-b6c7-4b05-cbef-315736c7d5ab\"});\n",
       "    } else {\n",
       "  load_lib(bokehjs_url, function() {\n",
       "      console.log(\"Bokeh: BokehJS plotting callback run at\", new Date())\n",
       "      var modelid = \"b1b9cf39-d5e5-40de-c0bf-e0ef776cd0e8\";\n",
       "      var modeltype = \"Plot\";\n",
       "      var all_models = [{\"id\":\"7bd1e0ca-e706-4232-c2e3-f49fb0f1f774\",\"type\":\"ColumnDataSource\",\"attributes\":{\"id\":\"7bd1e0ca-e706-4232-c2e3-f49fb0f1f774\",\"tags\":[],\"selected\":[],\"discrete_ranges\":{},\"cont_ranges\":{},\"column_names\":[\"x0\",\"y0\",\"y1\",\"x1\"],\"data\":{\"x0\":[-560,-548.38385009766,-536.76770019531,-525.15148925781,-513.53533935547,-501.91918945312,-490.30303955078,-478.68685913086,-467.07070922852,-455.45452880859,-443.83837890625,-432.22222900391,-420.60607910156,-408.98989868164,-397.37371826172,-385.75756835938,-374.14141845703,-362.52526855469,-350.90908813477,-339.29290771484,-327.6767578125,-316.06060791016,-304.44445800781,-292.82827758789,-281.21212768555,-269.59594726562,-257.97979736328,-246.36364746094,-234.74746704102,-223.13131713867,-211.51513671875,-199.89898681641,-188.28283691406,-176.66665649414,-165.0505065918,-153.43435668945,-141.81817626953,-130.20202636719,-118.58584594727,-106.96969604492,-95.353546142578,-83.737365722656,-72.121215820312,-60.505035400391,-48.888885498047,-37.272705078125,-25.656555175781,-14.040405273438,-2.4242553710938,9.19189453125,20.80810546875,32.424255371094,44.040405273438,55.656555175781,67.272705078125,78.888916015625,90.505065917969,102.12121582031,113.73736572266,125.353515625,136.9697265625,148.58587646484,160.20202636719,171.81817626953,183.43432617188,195.05047607422,206.66668701172,218.28283691406,229.89898681641,241.51513671875,253.13128662109,264.74749755859,276.36364746094,287.97979736328,299.59594726562,311.21209716797,322.82830810547,334.44445800781,346.06060791016,357.6767578125,369.29290771484,380.90911865234,392.52526855469,404.14141845703,415.75756835938,427.37371826172,438.98992919922,450.60607910156,462.22222900391,473.83837890625,485.45458984375,497.07067871094,508.68688964844,520.30297851562,531.91918945312,543.53540039062,555.15148925781,566.76770019531,578.3837890625,590],\"x1\":[-548.5,-536.88385009766,-525.26770019531,-513.65148925781,-502.03533935547,-490.41918945312,-478.80303955078,-467.18685913086,-455.57070922852,-443.95452880859,-432.33837890625,-420.72222900391,-409.10607910156,-397.48989868164,-385.87371826172,-374.25756835938,-362.64141845703,-351.02526855469,-339.40908813477,-327.79290771484,-316.1767578125,-304.56060791016,-292.94445800781,-281.32827758789,-269.71212768555,-258.09594726562,-246.47979736328,-234.86364746094,-223.24746704102,-211.63131713867,-200.01513671875,-188.39898681641,-176.78283691406,-165.16665649414,-153.5505065918,-141.93435668945,-130.31817626953,-118.70202636719,-107.08584594727,-95.469696044922,-83.853546142578,-72.237365722656,-60.621215820312,-49.005035400391,-37.388885498047,-25.772705078125,-14.156555175781,-2.5404052734375,9.0757446289062,20.69189453125,32.30810546875,43.924255371094,55.540405273438,67.156555175781,78.772705078125,90.388916015625,102.00506591797,113.62121582031,125.23736572266,136.853515625,148.4697265625,160.08587646484,171.70202636719,183.31817626953,194.93432617188,206.55047607422,218.16668701172,229.78283691406,241.39898681641,253.01513671875,264.63128662109,276.24749755859,287.86364746094,299.47979736328,311.09594726562,322.71209716797,334.32830810547,345.94445800781,357.56060791016,369.1767578125,380.79290771484,392.40911865234,404.02526855469,415.64141845703,427.25756835938,438.87371826172,450.48992919922,462.10607910156,473.72222900391,485.33837890625,496.95458984375,508.57067871094,520.18688964844,531.80297851562,543.41918945312,555.03540039062,566.65148925781,578.26770019531,589.8837890625,601.5],\"y1\":[2,0,0,0,0,0,2,0,0,0,2,1,2,0,2,0,0,1,0,0,2,0,1,0,0,0,0,0,0,0,1,0,0,0,1,1,0,0,1,1,0,3,0,0,3,2,3,1,4,1,0,0,2,0,0,0,1,0,0,0,0,1,0,1,0,0,0,0,0,0,0,0,0,1,0,0,2,0,1,3,0,0,1,3,1,0,2,0,0,0,0,1,0,0,0,0,0,0,1,2],\"y0\":[0,0,0,0,0,0,0,0,0,0,0,0,0,0,0,0,0,0,0,0,0,0,0,0,0,0,0,0,0,0,0,0,0,0,0,0,0,0,0,0,0,0,0,0,0,0,0,0,0,0,0,0,0,0,0,0,0,0,0,0,0,0,0,0,0,0,0,0,0,0,0,0,0,0,0,0,0,0,0,0,0,0,0,0,0,0,0,0,0,0,0,0,0,0,0,0,0,0,0,0]},\"doc\":null}},{\"id\":\"68643e80-1bfb-4b2c-cb59-625d6da7a2f1\",\"type\":\"Quad\",\"attributes\":{\"right\":{\"units\":\"data\",\"field\":\"x1\"},\"line_alpha\":{\"units\":\"data\",\"value\":1},\"top\":{\"units\":\"data\",\"field\":\"y1\"},\"tags\":[],\"id\":\"68643e80-1bfb-4b2c-cb59-625d6da7a2f1\",\"line_color\":{\"value\":\"red\"},\"fill_alpha\":{\"units\":\"data\",\"value\":0.7},\"fill_color\":{\"value\":\"red\"},\"bottom\":{\"units\":\"data\",\"field\":\"y0\"},\"left\":{\"units\":\"data\",\"field\":\"x0\"},\"doc\":null}},{\"id\":\"10fb1cb7-e62c-422b-c2cd-4fa3130a6009\",\"type\":\"Quad\",\"attributes\":{\"right\":{\"units\":\"data\",\"field\":\"x1\"},\"line_alpha\":{\"units\":\"data\",\"value\":1},\"top\":{\"units\":\"data\",\"field\":\"y1\"},\"tags\":[],\"id\":\"10fb1cb7-e62c-422b-c2cd-4fa3130a6009\",\"line_color\":{\"value\":\"red\"},\"fill_alpha\":{\"units\":\"data\",\"value\":0.7},\"fill_color\":{\"value\":\"red\"},\"bottom\":{\"units\":\"data\",\"field\":\"y0\"},\"left\":{\"units\":\"data\",\"field\":\"x0\"},\"doc\":null}},{\"id\":\"0baea373-715c-4e20-cea5-ca024da23596\",\"type\":\"GlyphRenderer\",\"attributes\":{\"data_source\":{\"id\":\"7bd1e0ca-e706-4232-c2e3-f49fb0f1f774\",\"type\":\"ColumnDataSource\"},\"server_data_source\":null,\"glyph\":{\"id\":\"68643e80-1bfb-4b2c-cb59-625d6da7a2f1\",\"type\":\"Quad\"},\"nonselection_glyph\":{\"id\":\"10fb1cb7-e62c-422b-c2cd-4fa3130a6009\",\"type\":\"Quad\"},\"tags\":[],\"selection_glyph\":null,\"id\":\"0baea373-715c-4e20-cea5-ca024da23596\",\"name\":null,\"doc\":null}},{\"id\":\"34aac190-f021-4964-c968-732163e2505a\",\"type\":\"DataRange1d\",\"attributes\":{\"id\":\"34aac190-f021-4964-c968-732163e2505a\",\"sources\":[{\"columns\":[\"x0\",\"x1\"],\"source\":{\"id\":\"7bd1e0ca-e706-4232-c2e3-f49fb0f1f774\",\"type\":\"ColumnDataSource\"}}],\"tags\":[],\"doc\":null}},{\"id\":\"27bc3d09-aa73-4298-c214-941ce0ae2d26\",\"type\":\"DataRange1d\",\"attributes\":{\"id\":\"27bc3d09-aa73-4298-c214-941ce0ae2d26\",\"sources\":[{\"columns\":[\"y0\",\"y1\"],\"source\":{\"id\":\"7bd1e0ca-e706-4232-c2e3-f49fb0f1f774\",\"type\":\"ColumnDataSource\"}}],\"tags\":[],\"doc\":null}},{\"id\":\"12fc63ca-80d0-4be9-cbb1-a00302c4dcfb\",\"type\":\"ToolEvents\",\"attributes\":{\"id\":\"12fc63ca-80d0-4be9-cbb1-a00302c4dcfb\",\"tags\":[],\"geometries\":[],\"doc\":null}},{\"id\":\"40e38707-753b-4b2c-cb79-a9fd51b195b2\",\"type\":\"BasicTickFormatter\",\"attributes\":{\"id\":\"40e38707-753b-4b2c-cb79-a9fd51b195b2\",\"tags\":[],\"doc\":null}},{\"id\":\"11c7e856-ed49-4706-c750-8026cb7b6907\",\"type\":\"BasicTicker\",\"attributes\":{\"id\":\"11c7e856-ed49-4706-c750-8026cb7b6907\",\"num_minor_ticks\":5,\"tags\":[],\"doc\":null}},{\"id\":\"db3c4f40-d513-445c-c46f-1d7cdda6faa2\",\"type\":\"LinearAxis\",\"attributes\":{\"id\":\"db3c4f40-d513-445c-c46f-1d7cdda6faa2\",\"ticker\":{\"id\":\"11c7e856-ed49-4706-c750-8026cb7b6907\",\"type\":\"BasicTicker\"},\"tags\":[],\"axis_label\":null,\"formatter\":{\"id\":\"40e38707-753b-4b2c-cb79-a9fd51b195b2\",\"type\":\"BasicTickFormatter\"},\"plot\":{\"id\":\"b1b9cf39-d5e5-40de-c0bf-e0ef776cd0e8\",\"type\":\"Plot\",\"subtype\":\"Figure\"},\"doc\":null}},{\"id\":\"085092fe-aef5-411f-c1ee-50f281fad651\",\"type\":\"Grid\",\"attributes\":{\"id\":\"085092fe-aef5-411f-c1ee-50f281fad651\",\"ticker\":{\"id\":\"11c7e856-ed49-4706-c750-8026cb7b6907\",\"type\":\"BasicTicker\"},\"dimension\":0,\"tags\":[],\"plot\":{\"id\":\"b1b9cf39-d5e5-40de-c0bf-e0ef776cd0e8\",\"type\":\"Plot\",\"subtype\":\"Figure\"},\"doc\":null}},{\"id\":\"d3610186-bd8e-4db4-cdc2-20351be327e7\",\"type\":\"BasicTickFormatter\",\"attributes\":{\"id\":\"d3610186-bd8e-4db4-cdc2-20351be327e7\",\"tags\":[],\"doc\":null}},{\"id\":\"017ef3b9-27e3-4a5c-ca67-860296a513cc\",\"type\":\"BasicTicker\",\"attributes\":{\"id\":\"017ef3b9-27e3-4a5c-ca67-860296a513cc\",\"num_minor_ticks\":5,\"tags\":[],\"doc\":null}},{\"id\":\"d70f7647-bfee-4c2d-cc57-3e9347d979e1\",\"type\":\"LinearAxis\",\"attributes\":{\"id\":\"d70f7647-bfee-4c2d-cc57-3e9347d979e1\",\"ticker\":{\"id\":\"017ef3b9-27e3-4a5c-ca67-860296a513cc\",\"type\":\"BasicTicker\"},\"tags\":[],\"axis_label\":null,\"formatter\":{\"id\":\"d3610186-bd8e-4db4-cdc2-20351be327e7\",\"type\":\"BasicTickFormatter\"},\"plot\":{\"id\":\"b1b9cf39-d5e5-40de-c0bf-e0ef776cd0e8\",\"type\":\"Plot\",\"subtype\":\"Figure\"},\"doc\":null}},{\"id\":\"6dd36830-6562-451d-c58d-e0aa6a1413d5\",\"type\":\"Grid\",\"attributes\":{\"id\":\"6dd36830-6562-451d-c58d-e0aa6a1413d5\",\"ticker\":{\"id\":\"017ef3b9-27e3-4a5c-ca67-860296a513cc\",\"type\":\"BasicTicker\"},\"dimension\":1,\"tags\":[],\"plot\":{\"id\":\"b1b9cf39-d5e5-40de-c0bf-e0ef776cd0e8\",\"type\":\"Plot\",\"subtype\":\"Figure\"},\"doc\":null}},{\"id\":\"95ab9a67-8787-4d86-cd77-a128f3dbeadd\",\"type\":\"PanTool\",\"attributes\":{\"id\":\"95ab9a67-8787-4d86-cd77-a128f3dbeadd\",\"dimensions\":[\"width\",\"height\"],\"tags\":[],\"plot\":{\"id\":\"b1b9cf39-d5e5-40de-c0bf-e0ef776cd0e8\",\"type\":\"Plot\",\"subtype\":\"Figure\"},\"doc\":null}},{\"id\":\"c30e1863-25e7-4296-c2a0-7c2dcdbbe63d\",\"type\":\"WheelZoomTool\",\"attributes\":{\"id\":\"c30e1863-25e7-4296-c2a0-7c2dcdbbe63d\",\"dimensions\":[\"width\",\"height\"],\"tags\":[],\"plot\":{\"id\":\"b1b9cf39-d5e5-40de-c0bf-e0ef776cd0e8\",\"type\":\"Plot\",\"subtype\":\"Figure\"},\"doc\":null}},{\"id\":\"64e546a8-b9df-413d-c15a-9e51604d9d75\",\"type\":\"BoxZoomTool\",\"attributes\":{\"id\":\"64e546a8-b9df-413d-c15a-9e51604d9d75\",\"tags\":[],\"plot\":{\"id\":\"b1b9cf39-d5e5-40de-c0bf-e0ef776cd0e8\",\"type\":\"Plot\",\"subtype\":\"Figure\"},\"doc\":null}},{\"id\":\"efe582be-289c-4407-c4e9-f52fc8864d98\",\"type\":\"PreviewSaveTool\",\"attributes\":{\"id\":\"efe582be-289c-4407-c4e9-f52fc8864d98\",\"tags\":[],\"plot\":{\"id\":\"b1b9cf39-d5e5-40de-c0bf-e0ef776cd0e8\",\"type\":\"Plot\",\"subtype\":\"Figure\"},\"doc\":null}},{\"id\":\"41b8c69c-a624-4fc3-cf5c-dddca0be9f1c\",\"type\":\"ResizeTool\",\"attributes\":{\"id\":\"41b8c69c-a624-4fc3-cf5c-dddca0be9f1c\",\"tags\":[],\"plot\":{\"id\":\"b1b9cf39-d5e5-40de-c0bf-e0ef776cd0e8\",\"type\":\"Plot\",\"subtype\":\"Figure\"},\"doc\":null}},{\"id\":\"405258a8-15fe-416f-c15f-ebaab1ef646c\",\"type\":\"ResetTool\",\"attributes\":{\"id\":\"405258a8-15fe-416f-c15f-ebaab1ef646c\",\"tags\":[],\"plot\":{\"id\":\"b1b9cf39-d5e5-40de-c0bf-e0ef776cd0e8\",\"type\":\"Plot\",\"subtype\":\"Figure\"},\"doc\":null}},{\"id\":\"aa565e3e-1394-4cba-cc24-151705a19edc\",\"type\":\"Legend\",\"attributes\":{\"id\":\"aa565e3e-1394-4cba-cc24-151705a19edc\",\"tags\":[],\"legends\":[[\"unnamed\",[{\"id\":\"0baea373-715c-4e20-cea5-ca024da23596\",\"type\":\"GlyphRenderer\"}]]],\"plot\":{\"id\":\"b1b9cf39-d5e5-40de-c0bf-e0ef776cd0e8\",\"type\":\"Plot\",\"subtype\":\"Figure\"},\"doc\":null}},{\"id\":\"b1b9cf39-d5e5-40de-c0bf-e0ef776cd0e8\",\"type\":\"Plot\",\"attributes\":{\"tools\":[{\"id\":\"95ab9a67-8787-4d86-cd77-a128f3dbeadd\",\"type\":\"PanTool\"},{\"id\":\"c30e1863-25e7-4296-c2a0-7c2dcdbbe63d\",\"type\":\"WheelZoomTool\"},{\"id\":\"64e546a8-b9df-413d-c15a-9e51604d9d75\",\"type\":\"BoxZoomTool\"},{\"id\":\"efe582be-289c-4407-c4e9-f52fc8864d98\",\"type\":\"PreviewSaveTool\"},{\"id\":\"41b8c69c-a624-4fc3-cf5c-dddca0be9f1c\",\"type\":\"ResizeTool\"},{\"id\":\"405258a8-15fe-416f-c15f-ebaab1ef646c\",\"type\":\"ResetTool\"}],\"extra_x_ranges\":{},\"right\":[],\"title\":\"Avg results for 100 games, each possible card dealt\",\"extra_y_ranges\":{},\"renderers\":[{\"id\":\"0baea373-715c-4e20-cea5-ca024da23596\",\"type\":\"GlyphRenderer\"},{\"id\":\"db3c4f40-d513-445c-c46f-1d7cdda6faa2\",\"type\":\"LinearAxis\"},{\"id\":\"085092fe-aef5-411f-c1ee-50f281fad651\",\"type\":\"Grid\"},{\"id\":\"d70f7647-bfee-4c2d-cc57-3e9347d979e1\",\"type\":\"LinearAxis\"},{\"id\":\"6dd36830-6562-451d-c58d-e0aa6a1413d5\",\"type\":\"Grid\"},{\"id\":\"aa565e3e-1394-4cba-cc24-151705a19edc\",\"type\":\"Legend\"}],\"tags\":[],\"id\":\"b1b9cf39-d5e5-40de-c0bf-e0ef776cd0e8\",\"y_range\":{\"id\":\"27bc3d09-aa73-4298-c214-941ce0ae2d26\",\"type\":\"DataRange1d\"},\"tool_events\":{\"id\":\"12fc63ca-80d0-4be9-cbb1-a00302c4dcfb\",\"type\":\"ToolEvents\"},\"above\":[],\"below\":[{\"id\":\"db3c4f40-d513-445c-c46f-1d7cdda6faa2\",\"type\":\"LinearAxis\"}],\"x_range\":{\"id\":\"34aac190-f021-4964-c968-732163e2505a\",\"type\":\"DataRange1d\"},\"left\":[{\"id\":\"d70f7647-bfee-4c2d-cc57-3e9347d979e1\",\"type\":\"LinearAxis\"}],\"doc\":null}}];\n",
       "      Bokeh.load_models(all_models);\n",
       "      var model = Bokeh.Collections(modeltype).get(modelid);\n",
       "      $(\"#04c4cef0-b6c7-4b05-cbef-315736c7d5ab\").html(''); // clear any previous plot in window_id\n",
       "      var view = new model.default_view({model: model, el: \"#04c4cef0-b6c7-4b05-cbef-315736c7d5ab\"});\n",
       "  });\n",
       "    }\n",
       "});\n",
       "</script>\n",
       "<div class=\"plotdiv\" id=\"04c4cef0-b6c7-4b05-cbef-315736c7d5ab\"></div>\n"
      ]
     },
     "metadata": {},
     "output_type": "display_data"
    }
   ],
   "source": [
    "plot = Plot():histogram(avg_per_hand)\n",
    "plot:legend(true):title('Avg results for 100 games, each possible card dealt'):draw()\n"
   ]
  },
  {
   "cell_type": "code",
   "execution_count": null,
   "metadata": {
    "collapsed": true
   },
   "outputs": [],
   "source": []
  },
  {
   "cell_type": "code",
   "execution_count": null,
   "metadata": {
    "collapsed": true
   },
   "outputs": [],
   "source": [
    "cards = {}\n",
    "cards.P1 = 1\n",
    "cards.P2 = 2\n",
    "cards.board = 4\n",
    "number_of_games = 100"
   ]
  },
  {
   "cell_type": "code",
   "execution_count": null,
   "metadata": {},
   "outputs": [],
   "source": [
    "tree_eval.A2_pot_tensor"
   ]
  },
  {
   "cell_type": "code",
   "execution_count": null,
   "metadata": {},
   "outputs": [],
   "source": [
    "print(tree_eval.A2_pot_tensor:mean())\n",
    "print(tree_eval.A2_pot_tensor:std())"
   ]
  },
  {
   "cell_type": "code",
   "execution_count": null,
   "metadata": {},
   "outputs": [],
   "source": [
    "tree_eval:display_results()"
   ]
  },
  {
   "cell_type": "code",
   "execution_count": null,
   "metadata": {
    "collapsed": true
   },
   "outputs": [],
   "source": [
    "local pot_table = {}\n",
    "local size_sample = 50\n",
    "for i = 1,50 do\n",
    "    tree_eval:play_several_games(tree1,tree2,size_sample)\n",
    "    table.insert(pot_table,tree_eval.A2_pot/size_sample)\n",
    "end\n",
    "print(\"player_2 won: \",torch.FloatTensor(pot_table):mean())"
   ]
  },
  {
   "cell_type": "code",
   "execution_count": null,
   "metadata": {
    "collapsed": true
   },
   "outputs": [],
   "source": [
    "pot_table_A2 = {}\n",
    "local number_of_games = 1000\n",
    "local cards_tensor = construct_possible_game_states()\n",
    "for i = 1,cards_tensor:size(1) do\n",
    "    local cards = distribute_cards(cards_tensor[i])\n",
    "    tree_eval:play_deterministic_games(tree1,tree2,number_of_games,cards)\n",
    "    table.insert(pot_table_A2,tree_eval.A2_pot)\n",
    "end\n",
    "print(\"player_2 won: \",torch.FloatTensor(pot_table_A2):mean())\n",
    "print(\"player_2 std: \",torch.FloatTensor(pot_table_A2):std())\n",
    "tree_eval:display_results()"
   ]
  },
  {
   "cell_type": "code",
   "execution_count": null,
   "metadata": {
    "collapsed": true
   },
   "outputs": [],
   "source": [
    "torch.sqrt(60)*(1803/150716)"
   ]
  },
  {
   "cell_type": "code",
   "execution_count": null,
   "metadata": {
    "collapsed": true
   },
   "outputs": [],
   "source": [
    "plot = Plot():histogram(torch.FloatTensor(pot_table_A2)):draw()"
   ]
  },
  {
   "cell_type": "code",
   "execution_count": null,
   "metadata": {
    "collapsed": true
   },
   "outputs": [],
   "source": []
  },
  {
   "cell_type": "code",
   "execution_count": null,
   "metadata": {
    "collapsed": true
   },
   "outputs": [],
   "source": [
    "pot_table1 = {}\n",
    "local number_of_games = 10\n",
    "local cards_tensor = construct_possible_game_states()\n",
    "for i = 1,cards_tensor:size(1) do\n",
    "    for j = 1,number_of_games do\n",
    "        local cards = distribute_cards(cards_tensor[i])\n",
    "        tree_eval:play_deterministic_games(tree1,tree2,number_of_plays,cards)\n",
    "        table.insert(pot_table1,tree_eval.A2_pot)\n",
    "    end\n",
    "end\n",
    "print(\"player_2 won: \",torch.FloatTensor(pot_table1):mean())\n",
    "print(\"player_2 std: \",torch.FloatTensor(pot_table1):std())"
   ]
  },
  {
   "cell_type": "code",
   "execution_count": null,
   "metadata": {
    "collapsed": true
   },
   "outputs": [],
   "source": [
    "pot_table1 = {}\n",
    "local number_of_games = 20\n",
    "local cards_tensor = construct_possible_game_states()\n",
    "for i = 1,cards_tensor:size(1) do\n",
    "    for j = 1,number_of_games do\n",
    "        local cards = distribute_cards(cards_tensor[i])\n",
    "        tree_eval:play_deterministic_games(tree1,tree2,number_of_plays,cards)\n",
    "        table.insert(pot_table1,tree_eval.A2_pot)\n",
    "    end\n",
    "end\n",
    "print(\"player_2 won: \",torch.FloatTensor(pot_table1):mean())\n",
    "print(\"player_2 std: \",torch.FloatTensor(pot_table1):std())"
   ]
  },
  {
   "cell_type": "code",
   "execution_count": null,
   "metadata": {
    "collapsed": true
   },
   "outputs": [],
   "source": [
    "pot_table1 = {}\n",
    "local number_of_games = 50\n",
    "local cards_tensor = construct_possible_game_states()\n",
    "for i = 1,cards_tensor:size(1) do\n",
    "    for j = 1,number_of_games do\n",
    "        local cards = distribute_cards(cards_tensor[i])\n",
    "        tree_eval:play_deterministic_games(tree1,tree2,number_of_plays,cards)   --- --> CHECK NUMBER OF GAMES!\n",
    "        table.insert(pot_table1,tree_eval.A2_pot)\n",
    "    end\n",
    "end\n",
    "print(\"player_2 won: \",torch.FloatTensor(pot_table1):mean())\n",
    "print(\"player_2 std: \",torch.FloatTensor(pot_table1):std())"
   ]
  },
  {
   "cell_type": "code",
   "execution_count": null,
   "metadata": {
    "collapsed": true
   },
   "outputs": [],
   "source": [
    " cardsInv = {}\n",
    "cardsInv.P1 = cards.P2\n",
    "cardsInv.P2 = cards.P1\n",
    "cardsInv.board = cards.board"
   ]
  },
  {
   "cell_type": "code",
   "execution_count": null,
   "metadata": {
    "collapsed": true
   },
   "outputs": [],
   "source": [
    "pot_table2 = {}\n",
    "local size_sample = 100\n",
    "for i = 1,20 do\n",
    "    tree_eval:play_deterministic_games(tree1,tree2,size_sample,cardsInv)\n",
    "    table.insert(pot_table2,tree_eval.A2_pot/size_sample)\n",
    "end\n",
    "print(\"player_2 won: \",torch.FloatTensor(pot_table2):mean())\n",
    "print(\"player_2 std: \",torch.FloatTensor(pot_table2):std())"
   ]
  },
  {
   "cell_type": "code",
   "execution_count": null,
   "metadata": {
    "collapsed": true
   },
   "outputs": [],
   "source": [
    "---plot = Plot():histogram(torch.FloatTensor(pot_table1)):draw()"
   ]
  },
  {
   "cell_type": "code",
   "execution_count": null,
   "metadata": {
    "collapsed": true
   },
   "outputs": [],
   "source": [
    "---plot = Plot():histogram(torch.FloatTensor(pot_table2)):draw()"
   ]
  },
  {
   "cell_type": "code",
   "execution_count": null,
   "metadata": {
    "collapsed": true
   },
   "outputs": [],
   "source": [
    "x[1]"
   ]
  },
  {
   "cell_type": "code",
   "execution_count": null,
   "metadata": {
    "collapsed": true
   },
   "outputs": [],
   "source": []
  },
  {
   "cell_type": "code",
   "execution_count": null,
   "metadata": {
    "collapsed": true
   },
   "outputs": [],
   "source": []
  }
 ],
 "metadata": {
  "kernelspec": {
   "display_name": "iTorch",
   "language": "lua",
   "name": "itorch"
  },
  "language_info": {
   "name": "lua",
   "version": "5.2"
  }
 },
 "nbformat": 4,
 "nbformat_minor": 2
}
