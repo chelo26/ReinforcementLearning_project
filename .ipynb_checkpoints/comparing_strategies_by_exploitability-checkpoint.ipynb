{
 "cells": [
  {
   "cell_type": "code",
   "execution_count": 1,
   "metadata": {
    "collapsed": true
   },
   "outputs": [],
   "source": [
    "--- Libraries:\n",
    "arguments = require 'Settings.arguments'\n",
    "constants = require 'Settings.constants'\n",
    "card_to_string = require 'Game.card_to_string_conversion'\n",
    "card_tools = require 'Game.card_tools'\n",
    "game_settings = require 'Settings.game_settings'\n",
    "Plot = require 'itorch.Plot'\n",
    "nninit = require 'nninit'\n",
    "require 'torch'\n",
    "require 'math'\n",
    "require 'Tree.tree_builder'\n",
    "require 'Tree.tree_data_generation'\n",
    "require 'Tree.tree_values'\n",
    "require 'Tree.tree_visualiser'\n",
    "require 'nn'\n",
    "require 'Tree.tree_cfr'\n",
    "require 'Tree.tree_cfr2'\n",
    "require 'nngraph'\n",
    "require 'optim'\n",
    "require 'image'\n",
    "require 'NN.strategy_net_builder'\n",
    "require 'NN.strategy_net_trainer'\n",
    "\n"
   ]
  },
  {
   "cell_type": "code",
   "execution_count": 2,
   "metadata": {
    "collapsed": true
   },
   "outputs": [],
   "source": [
    "--- FUNCTIONS\n",
    "--- Comparing with 2000\n",
    "function compare_cfrs(tree_cfr1,tree_cfr2000)\n",
    "    local difference = {}\n",
    "    local table1 = tree_cfr1.total_strategies\n",
    "    local table2 = tree_cfr2000.total_strategies\n",
    "    \n",
    "    for i = 1, #table1 do\n",
    "        difference[i] = torch.sqrt(torch.sum(torch.pow((table1[i] - table2[#table2]),2)))\n",
    "    end\n",
    "    return torch.FloatTensor(difference)\n",
    "end\n",
    "--- Comparing 2000 with itself\n",
    "function get_convergence(tree_cfr)\n",
    "    local difference = {}\n",
    "    local table_cfr = tree_cfr.total_strategies\n",
    "    local end_strategy = table_cfr[#table_cfr]\n",
    "    \n",
    "    for i = 1, #table_cfr do\n",
    "        difference[i] = torch.sqrt(torch.sum(torch.pow((table_cfr[i] - end_strategy),2)))\n",
    "    end\n",
    "    return torch.FloatTensor(difference)\n",
    "end"
   ]
  },
  {
   "cell_type": "code",
   "execution_count": 3,
   "metadata": {
    "collapsed": true
   },
   "outputs": [],
   "source": [
    "--- Create the tree\n",
    "builder = PokerTreeBuilder()\n",
    "--- Parameters for the tree\n",
    "params = {}\n",
    "params.root_node = {}\n",
    "params.root_node.board = card_to_string:string_to_board('')\n",
    "params.root_node.street = 1\n",
    "params.root_node.current_player = constants.players.P1\n",
    "params.root_node.bets = arguments.Tensor{200, 200}\n",
    "--- CFR Solver\n",
    "starting_ranges = arguments.Tensor(constants.players_count, game_settings.card_count)\n",
    "starting_ranges[1]:copy(card_tools:get_uniform_range(params.root_node.board))\n",
    "starting_ranges[2]:copy(card_tools:get_uniform_range(params.root_node.board))"
   ]
  },
  {
   "cell_type": "markdown",
   "metadata": {},
   "source": [
    "### 1. Exploitability for original CFR and modified CFR"
   ]
  },
  {
   "cell_type": "code",
   "execution_count": 4,
   "metadata": {},
   "outputs": [],
   "source": [
    "--- Building CFR Solver\n",
    "tree2000 = builder:build_tree(params)\n",
    "tree2000_cfr = TreeCFR()\n",
    "tree2000_cfr:run_cfr(tree2000, starting_ranges,2000)"
   ]
  },
  {
   "cell_type": "code",
   "execution_count": 5,
   "metadata": {},
   "outputs": [],
   "source": [
    "--- Building CFR Solver\n",
    "tree2001 = builder:build_tree(params)\n",
    "tree2001_cfr = TreeCFR2()\n",
    "tree2001_cfr:run_cfr(tree2001, starting_ranges,2000)"
   ]
  },
  {
   "cell_type": "code",
   "execution_count": 6,
   "metadata": {
    "collapsed": true
   },
   "outputs": [],
   "source": [
    "exploit_2000_original = tree2000_cfr.exploitability_vec\n",
    "exploit_2000_mod = tree2001_cfr.exploitability_vec"
   ]
  },
  {
   "cell_type": "code",
   "execution_count": 42,
   "metadata": {},
   "outputs": [
    {
     "data": {
      "text/html": [
       "<script type=\"text/javascript\">\n",
       "$(function() {\n",
       "    if (typeof (window._bokeh_onload_callbacks) === \"undefined\"){\n",
       "  window._bokeh_onload_callbacks = [];\n",
       "    }\n",
       "    function load_lib(url, callback){\n",
       "  window._bokeh_onload_callbacks.push(callback);\n",
       "  if (window._bokeh_is_loading){\n",
       "      console.log(\"Bokeh: BokehJS is being loaded, scheduling callback at\", new Date());\n",
       "      return null;\n",
       "  }\n",
       "  console.log(\"Bokeh: BokehJS not loaded, scheduling load and callback at\", new Date());\n",
       "  window._bokeh_is_loading = true;\n",
       "  var s = document.createElement('script');\n",
       "  s.src = url;\n",
       "  s.async = true;\n",
       "  s.onreadystatechange = s.onload = function(){\n",
       "      Bokeh.embed.inject_css(\"https://cdn.pydata.org/bokeh-0.7.0.min.css\");\n",
       "      window._bokeh_onload_callbacks.forEach(function(callback){callback()});\n",
       "  };\n",
       "  s.onerror = function(){\n",
       "      console.warn(\"failed to load library \" + url);\n",
       "  };\n",
       "  document.getElementsByTagName(\"head\")[0].appendChild(s);\n",
       "    }\n",
       "\n",
       "    bokehjs_url = \"https://cdn.pydata.org/bokeh-0.7.0.min.js\"\n",
       "\n",
       "    var elt = document.getElementById(\"ca35b90e-313d-477e-c7c8-0d6ecbe881e8\");\n",
       "    if(elt==null) {\n",
       "  console.log(\"Bokeh: ERROR: autoload.js configured with elementid 'ca35b90e-313d-477e-c7c8-0d6ecbe881e8'\"\n",
       "        + \"but no matching script tag was found. \")\n",
       "  return false;\n",
       "    }\n",
       "\n",
       "    if(typeof(Bokeh) !== \"undefined\") {\n",
       "  console.log(\"Bokeh: BokehJS loaded, going straight to plotting\");\n",
       "  var modelid = \"96577f2b-4afa-4878-c839-8852dac359c3\";\n",
       "  var modeltype = \"Plot\";\n",
       "  var all_models = [{\"attributes\":{\"column_names\":[\"x\",\"y\"],\"data\":{\"y\":[9.0575885772705,5.0751280784607,3.5720100402832,2.8827977180481,2.4762258529663,2.1243500709534,1.859790802002,1.6949167251587,1.5443139076233,1.4076962471008,1.2811145782471,1.1846632957458,1.1083016395569,1.0495233535767],\"x\":[1,2,3,4,5,6,7,8,9,10,11,12,13,14]},\"doc\":null,\"id\":\"b08a8f64-51fd-4d3f-cd91-b74146a2317a\",\"selected\":[],\"discrete_ranges\":{},\"cont_ranges\":{},\"tags\":[]},\"type\":\"ColumnDataSource\",\"id\":\"b08a8f64-51fd-4d3f-cd91-b74146a2317a\"},{\"attributes\":{\"line_alpha\":{\"value\":1,\"units\":\"data\"},\"doc\":null,\"id\":\"f12ce8d2-e7b4-4b94-cb24-90663bf4dc4d\",\"tags\":[],\"y\":{\"field\":\"y\",\"units\":\"data\"},\"size\":{\"value\":10,\"units\":\"screen\"},\"fill_alpha\":{\"value\":0.2,\"units\":\"data\"},\"x\":{\"field\":\"x\",\"units\":\"data\"},\"fill_color\":{\"value\":\"red\"},\"line_color\":{\"value\":\"red\"}},\"type\":\"Line\",\"id\":\"f12ce8d2-e7b4-4b94-cb24-90663bf4dc4d\"},{\"attributes\":{\"line_alpha\":{\"value\":1,\"units\":\"data\"},\"doc\":null,\"id\":\"a559c3fe-cf9a-4fc8-cfac-d7c07b3fc7f5\",\"tags\":[],\"y\":{\"field\":\"y\",\"units\":\"data\"},\"size\":{\"value\":10,\"units\":\"screen\"},\"fill_alpha\":{\"value\":0.2,\"units\":\"data\"},\"x\":{\"field\":\"x\",\"units\":\"data\"},\"fill_color\":{\"value\":\"red\"},\"line_color\":{\"value\":\"red\"}},\"type\":\"Line\",\"id\":\"a559c3fe-cf9a-4fc8-cfac-d7c07b3fc7f5\"},{\"attributes\":{\"name\":null,\"doc\":null,\"id\":\"98241083-87f2-469c-c60b-38cf38b6657c\",\"tags\":[],\"server_data_source\":null,\"glyph\":{\"type\":\"Line\",\"id\":\"f12ce8d2-e7b4-4b94-cb24-90663bf4dc4d\"},\"nonselection_glyph\":{\"type\":\"Line\",\"id\":\"a559c3fe-cf9a-4fc8-cfac-d7c07b3fc7f5\"},\"selection_glyph\":null,\"data_source\":{\"type\":\"ColumnDataSource\",\"id\":\"b08a8f64-51fd-4d3f-cd91-b74146a2317a\"}},\"type\":\"GlyphRenderer\",\"id\":\"98241083-87f2-469c-c60b-38cf38b6657c\"},{\"attributes\":{\"column_names\":[\"x\",\"y\"],\"data\":{\"y\":[10.951252937317,5.8252325057983,4.0001440048218,3.0916385650635,2.5289416313171,2.1521105766296,1.873682975769,1.6756162643433,1.481593132019,1.3615908622742,1.2754192352295,1.1583080291748,1.085967540741,1.0215539932251],\"x\":[1,2,3,4,5,6,7,8,9,10,11,12,13,14]},\"doc\":null,\"id\":\"fa5e8144-67db-402c-c0bb-82fde5b554fd\",\"selected\":[],\"discrete_ranges\":{},\"cont_ranges\":{},\"tags\":[]},\"type\":\"ColumnDataSource\",\"id\":\"fa5e8144-67db-402c-c0bb-82fde5b554fd\"},{\"attributes\":{\"line_alpha\":{\"value\":1,\"units\":\"data\"},\"doc\":null,\"id\":\"3045e343-e5e5-4e1a-ce5e-66d603bb93f6\",\"tags\":[],\"y\":{\"field\":\"y\",\"units\":\"data\"},\"size\":{\"value\":10,\"units\":\"screen\"},\"fill_alpha\":{\"value\":0.2,\"units\":\"data\"},\"x\":{\"field\":\"x\",\"units\":\"data\"},\"fill_color\":{\"value\":\"blue\"},\"line_color\":{\"value\":\"blue\"}},\"type\":\"Line\",\"id\":\"3045e343-e5e5-4e1a-ce5e-66d603bb93f6\"},{\"attributes\":{\"line_alpha\":{\"value\":1,\"units\":\"data\"},\"doc\":null,\"id\":\"e4b6629b-3bf0-4246-c21a-63925d4c0e20\",\"tags\":[],\"y\":{\"field\":\"y\",\"units\":\"data\"},\"size\":{\"value\":10,\"units\":\"screen\"},\"fill_alpha\":{\"value\":0.2,\"units\":\"data\"},\"x\":{\"field\":\"x\",\"units\":\"data\"},\"fill_color\":{\"value\":\"blue\"},\"line_color\":{\"value\":\"blue\"}},\"type\":\"Line\",\"id\":\"e4b6629b-3bf0-4246-c21a-63925d4c0e20\"},{\"attributes\":{\"name\":null,\"doc\":null,\"id\":\"02695e27-1c6f-4d49-cd2b-df8632195031\",\"tags\":[],\"server_data_source\":null,\"glyph\":{\"type\":\"Line\",\"id\":\"3045e343-e5e5-4e1a-ce5e-66d603bb93f6\"},\"nonselection_glyph\":{\"type\":\"Line\",\"id\":\"e4b6629b-3bf0-4246-c21a-63925d4c0e20\"},\"selection_glyph\":null,\"data_source\":{\"type\":\"ColumnDataSource\",\"id\":\"fa5e8144-67db-402c-c0bb-82fde5b554fd\"}},\"type\":\"GlyphRenderer\",\"id\":\"02695e27-1c6f-4d49-cd2b-df8632195031\"},{\"attributes\":{\"sources\":[{\"source\":{\"type\":\"ColumnDataSource\",\"id\":\"b08a8f64-51fd-4d3f-cd91-b74146a2317a\"},\"columns\":[\"x\"]},{\"source\":{\"type\":\"ColumnDataSource\",\"id\":\"fa5e8144-67db-402c-c0bb-82fde5b554fd\"},\"columns\":[\"x\"]}],\"tags\":[],\"doc\":null,\"id\":\"2f0c7ab4-212c-44c6-c4bf-345fa65b001a\"},\"type\":\"DataRange1d\",\"id\":\"2f0c7ab4-212c-44c6-c4bf-345fa65b001a\"},{\"attributes\":{\"sources\":[{\"source\":{\"type\":\"ColumnDataSource\",\"id\":\"b08a8f64-51fd-4d3f-cd91-b74146a2317a\"},\"columns\":[\"y\"]},{\"source\":{\"type\":\"ColumnDataSource\",\"id\":\"fa5e8144-67db-402c-c0bb-82fde5b554fd\"},\"columns\":[\"y\"]}],\"tags\":[],\"doc\":null,\"id\":\"4a1c8661-6036-4e4a-ce3d-bc8302119b8c\"},\"type\":\"DataRange1d\",\"id\":\"4a1c8661-6036-4e4a-ce3d-bc8302119b8c\"},{\"attributes\":{\"geometries\":[],\"tags\":[],\"doc\":null,\"id\":\"75ef4de7-6fdb-4f4c-cfd2-349b6b5f1238\"},\"type\":\"ToolEvents\",\"id\":\"75ef4de7-6fdb-4f4c-cfd2-349b6b5f1238\"},{\"attributes\":{\"tags\":[],\"doc\":null,\"id\":\"53bf55d4-2fb7-4101-c116-e8e6989a7004\"},\"type\":\"BasicTickFormatter\",\"id\":\"53bf55d4-2fb7-4101-c116-e8e6989a7004\"},{\"attributes\":{\"tags\":[],\"num_minor_ticks\":5,\"doc\":null,\"id\":\"c9764a7f-a3ef-42ca-c211-5d4a71e4f0ac\"},\"type\":\"BasicTicker\",\"id\":\"c9764a7f-a3ef-42ca-c211-5d4a71e4f0ac\"},{\"attributes\":{\"plot\":{\"subtype\":\"Figure\",\"type\":\"Plot\",\"id\":\"96577f2b-4afa-4878-c839-8852dac359c3\"},\"doc\":null,\"id\":\"0658008c-ed2a-45c6-c559-ae2979a12747\",\"ticker\":{\"type\":\"BasicTicker\",\"id\":\"c9764a7f-a3ef-42ca-c211-5d4a71e4f0ac\"},\"axis_label\":\"Scaled number of iterations\",\"formatter\":{\"type\":\"BasicTickFormatter\",\"id\":\"53bf55d4-2fb7-4101-c116-e8e6989a7004\"},\"tags\":[]},\"type\":\"LinearAxis\",\"id\":\"0658008c-ed2a-45c6-c559-ae2979a12747\"},{\"attributes\":{\"plot\":{\"subtype\":\"Figure\",\"type\":\"Plot\",\"id\":\"96577f2b-4afa-4878-c839-8852dac359c3\"},\"doc\":null,\"id\":\"a8fd77f5-5384-4fd0-cfda-a95ab10f2572\",\"ticker\":{\"type\":\"BasicTicker\",\"id\":\"c9764a7f-a3ef-42ca-c211-5d4a71e4f0ac\"},\"dimension\":0,\"tags\":[]},\"type\":\"Grid\",\"id\":\"a8fd77f5-5384-4fd0-cfda-a95ab10f2572\"},{\"attributes\":{\"tags\":[],\"doc\":null,\"id\":\"73899894-7e4f-4c65-cc4d-136ac3b5bed8\"},\"type\":\"BasicTickFormatter\",\"id\":\"73899894-7e4f-4c65-cc4d-136ac3b5bed8\"},{\"attributes\":{\"tags\":[],\"num_minor_ticks\":5,\"doc\":null,\"id\":\"9a9fbe92-4265-44f4-c46a-41cbd1346743\"},\"type\":\"BasicTicker\",\"id\":\"9a9fbe92-4265-44f4-c46a-41cbd1346743\"},{\"attributes\":{\"plot\":{\"subtype\":\"Figure\",\"type\":\"Plot\",\"id\":\"96577f2b-4afa-4878-c839-8852dac359c3\"},\"doc\":null,\"id\":\"157c08fd-d18a-4cbf-cc83-5e3ee7cf6161\",\"ticker\":{\"type\":\"BasicTicker\",\"id\":\"9a9fbe92-4265-44f4-c46a-41cbd1346743\"},\"axis_label\":\"Exploitability\",\"formatter\":{\"type\":\"BasicTickFormatter\",\"id\":\"73899894-7e4f-4c65-cc4d-136ac3b5bed8\"},\"tags\":[]},\"type\":\"LinearAxis\",\"id\":\"157c08fd-d18a-4cbf-cc83-5e3ee7cf6161\"},{\"attributes\":{\"plot\":{\"subtype\":\"Figure\",\"type\":\"Plot\",\"id\":\"96577f2b-4afa-4878-c839-8852dac359c3\"},\"doc\":null,\"id\":\"2e33f8ee-b9fa-487b-c88d-8ea7122617e1\",\"ticker\":{\"type\":\"BasicTicker\",\"id\":\"9a9fbe92-4265-44f4-c46a-41cbd1346743\"},\"dimension\":1,\"tags\":[]},\"type\":\"Grid\",\"id\":\"2e33f8ee-b9fa-487b-c88d-8ea7122617e1\"},{\"attributes\":{\"plot\":{\"subtype\":\"Figure\",\"type\":\"Plot\",\"id\":\"96577f2b-4afa-4878-c839-8852dac359c3\"},\"doc\":null,\"id\":\"d6fda786-5cc8-4418-c435-d83ff02901f2\",\"dimensions\":[\"width\",\"height\"],\"tags\":[]},\"type\":\"PanTool\",\"id\":\"d6fda786-5cc8-4418-c435-d83ff02901f2\"},{\"attributes\":{\"plot\":{\"subtype\":\"Figure\",\"type\":\"Plot\",\"id\":\"96577f2b-4afa-4878-c839-8852dac359c3\"},\"doc\":null,\"id\":\"8bf02db3-d108-4bba-cb6f-081679f49fcd\",\"dimensions\":[\"width\",\"height\"],\"tags\":[]},\"type\":\"WheelZoomTool\",\"id\":\"8bf02db3-d108-4bba-cb6f-081679f49fcd\"},{\"attributes\":{\"plot\":{\"subtype\":\"Figure\",\"type\":\"Plot\",\"id\":\"96577f2b-4afa-4878-c839-8852dac359c3\"},\"tags\":[],\"doc\":null,\"id\":\"16fbfa61-52e8-4afe-ca8e-e138286948fe\"},\"type\":\"BoxZoomTool\",\"id\":\"16fbfa61-52e8-4afe-ca8e-e138286948fe\"},{\"attributes\":{\"plot\":{\"subtype\":\"Figure\",\"type\":\"Plot\",\"id\":\"96577f2b-4afa-4878-c839-8852dac359c3\"},\"tags\":[],\"doc\":null,\"id\":\"750da339-4ddf-47cd-c726-687c1ff23766\"},\"type\":\"PreviewSaveTool\",\"id\":\"750da339-4ddf-47cd-c726-687c1ff23766\"},{\"attributes\":{\"plot\":{\"subtype\":\"Figure\",\"type\":\"Plot\",\"id\":\"96577f2b-4afa-4878-c839-8852dac359c3\"},\"tags\":[],\"doc\":null,\"id\":\"67604964-bc7c-4d99-cd2d-bace7ec51e64\"},\"type\":\"ResizeTool\",\"id\":\"67604964-bc7c-4d99-cd2d-bace7ec51e64\"},{\"attributes\":{\"plot\":{\"subtype\":\"Figure\",\"type\":\"Plot\",\"id\":\"96577f2b-4afa-4878-c839-8852dac359c3\"},\"tags\":[],\"doc\":null,\"id\":\"185e2524-24f1-49a0-c9ed-c7168cc3889e\"},\"type\":\"ResetTool\",\"id\":\"185e2524-24f1-49a0-c9ed-c7168cc3889e\"},{\"attributes\":{\"plot\":{\"subtype\":\"Figure\",\"type\":\"Plot\",\"id\":\"96577f2b-4afa-4878-c839-8852dac359c3\"},\"doc\":null,\"id\":\"b71fd490-2a55-4738-c73c-27cca4aaa6c2\",\"legends\":[[\"Original CFR\",[{\"type\":\"GlyphRenderer\",\"id\":\"98241083-87f2-469c-c60b-38cf38b6657c\"}]],[\"Modified CFR\",[{\"type\":\"GlyphRenderer\",\"id\":\"02695e27-1c6f-4d49-cd2b-df8632195031\"}]]],\"tags\":[]},\"type\":\"Legend\",\"id\":\"b71fd490-2a55-4738-c73c-27cca4aaa6c2\"},{\"attributes\":{\"x_range\":{\"type\":\"DataRange1d\",\"id\":\"2f0c7ab4-212c-44c6-c4bf-345fa65b001a\"},\"doc\":null,\"id\":\"96577f2b-4afa-4878-c839-8852dac359c3\",\"above\":[],\"tools\":[{\"type\":\"PanTool\",\"id\":\"d6fda786-5cc8-4418-c435-d83ff02901f2\"},{\"type\":\"WheelZoomTool\",\"id\":\"8bf02db3-d108-4bba-cb6f-081679f49fcd\"},{\"type\":\"BoxZoomTool\",\"id\":\"16fbfa61-52e8-4afe-ca8e-e138286948fe\"},{\"type\":\"PreviewSaveTool\",\"id\":\"750da339-4ddf-47cd-c726-687c1ff23766\"},{\"type\":\"ResizeTool\",\"id\":\"67604964-bc7c-4d99-cd2d-bace7ec51e64\"},{\"type\":\"ResetTool\",\"id\":\"185e2524-24f1-49a0-c9ed-c7168cc3889e\"}],\"title\":\"Exploitability of the CFRs - 2000 iterations\",\"tags\":[],\"tool_events\":{\"type\":\"ToolEvents\",\"id\":\"75ef4de7-6fdb-4f4c-cfd2-349b6b5f1238\"},\"right\":[],\"extra_y_ranges\":{},\"below\":[{\"type\":\"LinearAxis\",\"id\":\"0658008c-ed2a-45c6-c559-ae2979a12747\"}],\"extra_x_ranges\":{},\"renderers\":[{\"type\":\"GlyphRenderer\",\"id\":\"98241083-87f2-469c-c60b-38cf38b6657c\"},{\"type\":\"GlyphRenderer\",\"id\":\"02695e27-1c6f-4d49-cd2b-df8632195031\"},{\"type\":\"LinearAxis\",\"id\":\"0658008c-ed2a-45c6-c559-ae2979a12747\"},{\"type\":\"Grid\",\"id\":\"a8fd77f5-5384-4fd0-cfda-a95ab10f2572\"},{\"type\":\"LinearAxis\",\"id\":\"157c08fd-d18a-4cbf-cc83-5e3ee7cf6161\"},{\"type\":\"Grid\",\"id\":\"2e33f8ee-b9fa-487b-c88d-8ea7122617e1\"},{\"type\":\"Legend\",\"id\":\"b71fd490-2a55-4738-c73c-27cca4aaa6c2\"}],\"left\":[{\"type\":\"LinearAxis\",\"id\":\"157c08fd-d18a-4cbf-cc83-5e3ee7cf6161\"}],\"y_range\":{\"type\":\"DataRange1d\",\"id\":\"4a1c8661-6036-4e4a-ce3d-bc8302119b8c\"}},\"type\":\"Plot\",\"id\":\"96577f2b-4afa-4878-c839-8852dac359c3\"}];\n",
       "  Bokeh.load_models(all_models);\n",
       "  var model = Bokeh.Collections(modeltype).get(modelid);\n",
       "  $(\"#ca35b90e-313d-477e-c7c8-0d6ecbe881e8\").html(''); // clear any previous plot in window_id\n",
       "  var view = new model.default_view({model: model, el: \"#ca35b90e-313d-477e-c7c8-0d6ecbe881e8\"});\n",
       "    } else {\n",
       "  load_lib(bokehjs_url, function() {\n",
       "      console.log(\"Bokeh: BokehJS plotting callback run at\", new Date())\n",
       "      var modelid = \"96577f2b-4afa-4878-c839-8852dac359c3\";\n",
       "      var modeltype = \"Plot\";\n",
       "      var all_models = [{\"attributes\":{\"column_names\":[\"x\",\"y\"],\"data\":{\"y\":[9.0575885772705,5.0751280784607,3.5720100402832,2.8827977180481,2.4762258529663,2.1243500709534,1.859790802002,1.6949167251587,1.5443139076233,1.4076962471008,1.2811145782471,1.1846632957458,1.1083016395569,1.0495233535767],\"x\":[1,2,3,4,5,6,7,8,9,10,11,12,13,14]},\"doc\":null,\"id\":\"b08a8f64-51fd-4d3f-cd91-b74146a2317a\",\"selected\":[],\"discrete_ranges\":{},\"cont_ranges\":{},\"tags\":[]},\"type\":\"ColumnDataSource\",\"id\":\"b08a8f64-51fd-4d3f-cd91-b74146a2317a\"},{\"attributes\":{\"line_alpha\":{\"value\":1,\"units\":\"data\"},\"doc\":null,\"id\":\"f12ce8d2-e7b4-4b94-cb24-90663bf4dc4d\",\"tags\":[],\"y\":{\"field\":\"y\",\"units\":\"data\"},\"size\":{\"value\":10,\"units\":\"screen\"},\"fill_alpha\":{\"value\":0.2,\"units\":\"data\"},\"x\":{\"field\":\"x\",\"units\":\"data\"},\"fill_color\":{\"value\":\"red\"},\"line_color\":{\"value\":\"red\"}},\"type\":\"Line\",\"id\":\"f12ce8d2-e7b4-4b94-cb24-90663bf4dc4d\"},{\"attributes\":{\"line_alpha\":{\"value\":1,\"units\":\"data\"},\"doc\":null,\"id\":\"a559c3fe-cf9a-4fc8-cfac-d7c07b3fc7f5\",\"tags\":[],\"y\":{\"field\":\"y\",\"units\":\"data\"},\"size\":{\"value\":10,\"units\":\"screen\"},\"fill_alpha\":{\"value\":0.2,\"units\":\"data\"},\"x\":{\"field\":\"x\",\"units\":\"data\"},\"fill_color\":{\"value\":\"red\"},\"line_color\":{\"value\":\"red\"}},\"type\":\"Line\",\"id\":\"a559c3fe-cf9a-4fc8-cfac-d7c07b3fc7f5\"},{\"attributes\":{\"name\":null,\"doc\":null,\"id\":\"98241083-87f2-469c-c60b-38cf38b6657c\",\"tags\":[],\"server_data_source\":null,\"glyph\":{\"type\":\"Line\",\"id\":\"f12ce8d2-e7b4-4b94-cb24-90663bf4dc4d\"},\"nonselection_glyph\":{\"type\":\"Line\",\"id\":\"a559c3fe-cf9a-4fc8-cfac-d7c07b3fc7f5\"},\"selection_glyph\":null,\"data_source\":{\"type\":\"ColumnDataSource\",\"id\":\"b08a8f64-51fd-4d3f-cd91-b74146a2317a\"}},\"type\":\"GlyphRenderer\",\"id\":\"98241083-87f2-469c-c60b-38cf38b6657c\"},{\"attributes\":{\"column_names\":[\"x\",\"y\"],\"data\":{\"y\":[10.951252937317,5.8252325057983,4.0001440048218,3.0916385650635,2.5289416313171,2.1521105766296,1.873682975769,1.6756162643433,1.481593132019,1.3615908622742,1.2754192352295,1.1583080291748,1.085967540741,1.0215539932251],\"x\":[1,2,3,4,5,6,7,8,9,10,11,12,13,14]},\"doc\":null,\"id\":\"fa5e8144-67db-402c-c0bb-82fde5b554fd\",\"selected\":[],\"discrete_ranges\":{},\"cont_ranges\":{},\"tags\":[]},\"type\":\"ColumnDataSource\",\"id\":\"fa5e8144-67db-402c-c0bb-82fde5b554fd\"},{\"attributes\":{\"line_alpha\":{\"value\":1,\"units\":\"data\"},\"doc\":null,\"id\":\"3045e343-e5e5-4e1a-ce5e-66d603bb93f6\",\"tags\":[],\"y\":{\"field\":\"y\",\"units\":\"data\"},\"size\":{\"value\":10,\"units\":\"screen\"},\"fill_alpha\":{\"value\":0.2,\"units\":\"data\"},\"x\":{\"field\":\"x\",\"units\":\"data\"},\"fill_color\":{\"value\":\"blue\"},\"line_color\":{\"value\":\"blue\"}},\"type\":\"Line\",\"id\":\"3045e343-e5e5-4e1a-ce5e-66d603bb93f6\"},{\"attributes\":{\"line_alpha\":{\"value\":1,\"units\":\"data\"},\"doc\":null,\"id\":\"e4b6629b-3bf0-4246-c21a-63925d4c0e20\",\"tags\":[],\"y\":{\"field\":\"y\",\"units\":\"data\"},\"size\":{\"value\":10,\"units\":\"screen\"},\"fill_alpha\":{\"value\":0.2,\"units\":\"data\"},\"x\":{\"field\":\"x\",\"units\":\"data\"},\"fill_color\":{\"value\":\"blue\"},\"line_color\":{\"value\":\"blue\"}},\"type\":\"Line\",\"id\":\"e4b6629b-3bf0-4246-c21a-63925d4c0e20\"},{\"attributes\":{\"name\":null,\"doc\":null,\"id\":\"02695e27-1c6f-4d49-cd2b-df8632195031\",\"tags\":[],\"server_data_source\":null,\"glyph\":{\"type\":\"Line\",\"id\":\"3045e343-e5e5-4e1a-ce5e-66d603bb93f6\"},\"nonselection_glyph\":{\"type\":\"Line\",\"id\":\"e4b6629b-3bf0-4246-c21a-63925d4c0e20\"},\"selection_glyph\":null,\"data_source\":{\"type\":\"ColumnDataSource\",\"id\":\"fa5e8144-67db-402c-c0bb-82fde5b554fd\"}},\"type\":\"GlyphRenderer\",\"id\":\"02695e27-1c6f-4d49-cd2b-df8632195031\"},{\"attributes\":{\"sources\":[{\"source\":{\"type\":\"ColumnDataSource\",\"id\":\"b08a8f64-51fd-4d3f-cd91-b74146a2317a\"},\"columns\":[\"x\"]},{\"source\":{\"type\":\"ColumnDataSource\",\"id\":\"fa5e8144-67db-402c-c0bb-82fde5b554fd\"},\"columns\":[\"x\"]}],\"tags\":[],\"doc\":null,\"id\":\"2f0c7ab4-212c-44c6-c4bf-345fa65b001a\"},\"type\":\"DataRange1d\",\"id\":\"2f0c7ab4-212c-44c6-c4bf-345fa65b001a\"},{\"attributes\":{\"sources\":[{\"source\":{\"type\":\"ColumnDataSource\",\"id\":\"b08a8f64-51fd-4d3f-cd91-b74146a2317a\"},\"columns\":[\"y\"]},{\"source\":{\"type\":\"ColumnDataSource\",\"id\":\"fa5e8144-67db-402c-c0bb-82fde5b554fd\"},\"columns\":[\"y\"]}],\"tags\":[],\"doc\":null,\"id\":\"4a1c8661-6036-4e4a-ce3d-bc8302119b8c\"},\"type\":\"DataRange1d\",\"id\":\"4a1c8661-6036-4e4a-ce3d-bc8302119b8c\"},{\"attributes\":{\"geometries\":[],\"tags\":[],\"doc\":null,\"id\":\"75ef4de7-6fdb-4f4c-cfd2-349b6b5f1238\"},\"type\":\"ToolEvents\",\"id\":\"75ef4de7-6fdb-4f4c-cfd2-349b6b5f1238\"},{\"attributes\":{\"tags\":[],\"doc\":null,\"id\":\"53bf55d4-2fb7-4101-c116-e8e6989a7004\"},\"type\":\"BasicTickFormatter\",\"id\":\"53bf55d4-2fb7-4101-c116-e8e6989a7004\"},{\"attributes\":{\"tags\":[],\"num_minor_ticks\":5,\"doc\":null,\"id\":\"c9764a7f-a3ef-42ca-c211-5d4a71e4f0ac\"},\"type\":\"BasicTicker\",\"id\":\"c9764a7f-a3ef-42ca-c211-5d4a71e4f0ac\"},{\"attributes\":{\"plot\":{\"subtype\":\"Figure\",\"type\":\"Plot\",\"id\":\"96577f2b-4afa-4878-c839-8852dac359c3\"},\"doc\":null,\"id\":\"0658008c-ed2a-45c6-c559-ae2979a12747\",\"ticker\":{\"type\":\"BasicTicker\",\"id\":\"c9764a7f-a3ef-42ca-c211-5d4a71e4f0ac\"},\"axis_label\":\"Scaled number of iterations\",\"formatter\":{\"type\":\"BasicTickFormatter\",\"id\":\"53bf55d4-2fb7-4101-c116-e8e6989a7004\"},\"tags\":[]},\"type\":\"LinearAxis\",\"id\":\"0658008c-ed2a-45c6-c559-ae2979a12747\"},{\"attributes\":{\"plot\":{\"subtype\":\"Figure\",\"type\":\"Plot\",\"id\":\"96577f2b-4afa-4878-c839-8852dac359c3\"},\"doc\":null,\"id\":\"a8fd77f5-5384-4fd0-cfda-a95ab10f2572\",\"ticker\":{\"type\":\"BasicTicker\",\"id\":\"c9764a7f-a3ef-42ca-c211-5d4a71e4f0ac\"},\"dimension\":0,\"tags\":[]},\"type\":\"Grid\",\"id\":\"a8fd77f5-5384-4fd0-cfda-a95ab10f2572\"},{\"attributes\":{\"tags\":[],\"doc\":null,\"id\":\"73899894-7e4f-4c65-cc4d-136ac3b5bed8\"},\"type\":\"BasicTickFormatter\",\"id\":\"73899894-7e4f-4c65-cc4d-136ac3b5bed8\"},{\"attributes\":{\"tags\":[],\"num_minor_ticks\":5,\"doc\":null,\"id\":\"9a9fbe92-4265-44f4-c46a-41cbd1346743\"},\"type\":\"BasicTicker\",\"id\":\"9a9fbe92-4265-44f4-c46a-41cbd1346743\"},{\"attributes\":{\"plot\":{\"subtype\":\"Figure\",\"type\":\"Plot\",\"id\":\"96577f2b-4afa-4878-c839-8852dac359c3\"},\"doc\":null,\"id\":\"157c08fd-d18a-4cbf-cc83-5e3ee7cf6161\",\"ticker\":{\"type\":\"BasicTicker\",\"id\":\"9a9fbe92-4265-44f4-c46a-41cbd1346743\"},\"axis_label\":\"Exploitability\",\"formatter\":{\"type\":\"BasicTickFormatter\",\"id\":\"73899894-7e4f-4c65-cc4d-136ac3b5bed8\"},\"tags\":[]},\"type\":\"LinearAxis\",\"id\":\"157c08fd-d18a-4cbf-cc83-5e3ee7cf6161\"},{\"attributes\":{\"plot\":{\"subtype\":\"Figure\",\"type\":\"Plot\",\"id\":\"96577f2b-4afa-4878-c839-8852dac359c3\"},\"doc\":null,\"id\":\"2e33f8ee-b9fa-487b-c88d-8ea7122617e1\",\"ticker\":{\"type\":\"BasicTicker\",\"id\":\"9a9fbe92-4265-44f4-c46a-41cbd1346743\"},\"dimension\":1,\"tags\":[]},\"type\":\"Grid\",\"id\":\"2e33f8ee-b9fa-487b-c88d-8ea7122617e1\"},{\"attributes\":{\"plot\":{\"subtype\":\"Figure\",\"type\":\"Plot\",\"id\":\"96577f2b-4afa-4878-c839-8852dac359c3\"},\"doc\":null,\"id\":\"d6fda786-5cc8-4418-c435-d83ff02901f2\",\"dimensions\":[\"width\",\"height\"],\"tags\":[]},\"type\":\"PanTool\",\"id\":\"d6fda786-5cc8-4418-c435-d83ff02901f2\"},{\"attributes\":{\"plot\":{\"subtype\":\"Figure\",\"type\":\"Plot\",\"id\":\"96577f2b-4afa-4878-c839-8852dac359c3\"},\"doc\":null,\"id\":\"8bf02db3-d108-4bba-cb6f-081679f49fcd\",\"dimensions\":[\"width\",\"height\"],\"tags\":[]},\"type\":\"WheelZoomTool\",\"id\":\"8bf02db3-d108-4bba-cb6f-081679f49fcd\"},{\"attributes\":{\"plot\":{\"subtype\":\"Figure\",\"type\":\"Plot\",\"id\":\"96577f2b-4afa-4878-c839-8852dac359c3\"},\"tags\":[],\"doc\":null,\"id\":\"16fbfa61-52e8-4afe-ca8e-e138286948fe\"},\"type\":\"BoxZoomTool\",\"id\":\"16fbfa61-52e8-4afe-ca8e-e138286948fe\"},{\"attributes\":{\"plot\":{\"subtype\":\"Figure\",\"type\":\"Plot\",\"id\":\"96577f2b-4afa-4878-c839-8852dac359c3\"},\"tags\":[],\"doc\":null,\"id\":\"750da339-4ddf-47cd-c726-687c1ff23766\"},\"type\":\"PreviewSaveTool\",\"id\":\"750da339-4ddf-47cd-c726-687c1ff23766\"},{\"attributes\":{\"plot\":{\"subtype\":\"Figure\",\"type\":\"Plot\",\"id\":\"96577f2b-4afa-4878-c839-8852dac359c3\"},\"tags\":[],\"doc\":null,\"id\":\"67604964-bc7c-4d99-cd2d-bace7ec51e64\"},\"type\":\"ResizeTool\",\"id\":\"67604964-bc7c-4d99-cd2d-bace7ec51e64\"},{\"attributes\":{\"plot\":{\"subtype\":\"Figure\",\"type\":\"Plot\",\"id\":\"96577f2b-4afa-4878-c839-8852dac359c3\"},\"tags\":[],\"doc\":null,\"id\":\"185e2524-24f1-49a0-c9ed-c7168cc3889e\"},\"type\":\"ResetTool\",\"id\":\"185e2524-24f1-49a0-c9ed-c7168cc3889e\"},{\"attributes\":{\"plot\":{\"subtype\":\"Figure\",\"type\":\"Plot\",\"id\":\"96577f2b-4afa-4878-c839-8852dac359c3\"},\"doc\":null,\"id\":\"b71fd490-2a55-4738-c73c-27cca4aaa6c2\",\"legends\":[[\"Original CFR\",[{\"type\":\"GlyphRenderer\",\"id\":\"98241083-87f2-469c-c60b-38cf38b6657c\"}]],[\"Modified CFR\",[{\"type\":\"GlyphRenderer\",\"id\":\"02695e27-1c6f-4d49-cd2b-df8632195031\"}]]],\"tags\":[]},\"type\":\"Legend\",\"id\":\"b71fd490-2a55-4738-c73c-27cca4aaa6c2\"},{\"attributes\":{\"x_range\":{\"type\":\"DataRange1d\",\"id\":\"2f0c7ab4-212c-44c6-c4bf-345fa65b001a\"},\"doc\":null,\"id\":\"96577f2b-4afa-4878-c839-8852dac359c3\",\"above\":[],\"tools\":[{\"type\":\"PanTool\",\"id\":\"d6fda786-5cc8-4418-c435-d83ff02901f2\"},{\"type\":\"WheelZoomTool\",\"id\":\"8bf02db3-d108-4bba-cb6f-081679f49fcd\"},{\"type\":\"BoxZoomTool\",\"id\":\"16fbfa61-52e8-4afe-ca8e-e138286948fe\"},{\"type\":\"PreviewSaveTool\",\"id\":\"750da339-4ddf-47cd-c726-687c1ff23766\"},{\"type\":\"ResizeTool\",\"id\":\"67604964-bc7c-4d99-cd2d-bace7ec51e64\"},{\"type\":\"ResetTool\",\"id\":\"185e2524-24f1-49a0-c9ed-c7168cc3889e\"}],\"title\":\"Exploitability of the CFRs - 2000 iterations\",\"tags\":[],\"tool_events\":{\"type\":\"ToolEvents\",\"id\":\"75ef4de7-6fdb-4f4c-cfd2-349b6b5f1238\"},\"right\":[],\"extra_y_ranges\":{},\"below\":[{\"type\":\"LinearAxis\",\"id\":\"0658008c-ed2a-45c6-c559-ae2979a12747\"}],\"extra_x_ranges\":{},\"renderers\":[{\"type\":\"GlyphRenderer\",\"id\":\"98241083-87f2-469c-c60b-38cf38b6657c\"},{\"type\":\"GlyphRenderer\",\"id\":\"02695e27-1c6f-4d49-cd2b-df8632195031\"},{\"type\":\"LinearAxis\",\"id\":\"0658008c-ed2a-45c6-c559-ae2979a12747\"},{\"type\":\"Grid\",\"id\":\"a8fd77f5-5384-4fd0-cfda-a95ab10f2572\"},{\"type\":\"LinearAxis\",\"id\":\"157c08fd-d18a-4cbf-cc83-5e3ee7cf6161\"},{\"type\":\"Grid\",\"id\":\"2e33f8ee-b9fa-487b-c88d-8ea7122617e1\"},{\"type\":\"Legend\",\"id\":\"b71fd490-2a55-4738-c73c-27cca4aaa6c2\"}],\"left\":[{\"type\":\"LinearAxis\",\"id\":\"157c08fd-d18a-4cbf-cc83-5e3ee7cf6161\"}],\"y_range\":{\"type\":\"DataRange1d\",\"id\":\"4a1c8661-6036-4e4a-ce3d-bc8302119b8c\"}},\"type\":\"Plot\",\"id\":\"96577f2b-4afa-4878-c839-8852dac359c3\"}];\n",
       "      Bokeh.load_models(all_models);\n",
       "      var model = Bokeh.Collections(modeltype).get(modelid);\n",
       "      $(\"#ca35b90e-313d-477e-c7c8-0d6ecbe881e8\").html(''); // clear any previous plot in window_id\n",
       "      var view = new model.default_view({model: model, el: \"#ca35b90e-313d-477e-c7c8-0d6ecbe881e8\"});\n",
       "  });\n",
       "    }\n",
       "});\n",
       "</script>\n",
       "<div class=\"plotdiv\" id=\"ca35b90e-313d-477e-c7c8-0d6ecbe881e8\"></div>\n"
      ]
     },
     "metadata": {},
     "output_type": "display_data"
    }
   ],
   "source": [
    "local num_iter = torch.range(1,exploit_2000_original:size(1))\n",
    "local plot = Plot()\n",
    "\n",
    "plot:line(num_iter,exploit_2000_original,'red' ,'Original CFR')\n",
    "plot:line(num_iter,exploit_2000_mod,'blue' ,'Modified CFR')\n",
    "plot:legend(true):title('Exploitability of the CFRs - 2000 iterations')\n",
    "plot:xaxis('Scaled number of iterations'):yaxis('Exploitability'):redraw()\n"
   ]
  },
  {
   "cell_type": "markdown",
   "metadata": {},
   "source": [
    "### 2. Exploitability for different Strategies"
   ]
  },
  {
   "cell_type": "code",
   "execution_count": 43,
   "metadata": {
    "collapsed": true
   },
   "outputs": [],
   "source": [
    "number_of_iterations = 800"
   ]
  },
  {
   "cell_type": "code",
   "execution_count": 44,
   "metadata": {},
   "outputs": [],
   "source": [
    "--- Get Data from 2000 iterations\n",
    "tree800 = builder:build_tree(params)\n",
    "tree_data800 = TreeData(tree800)\n",
    "tree800_cfr = TreeCFR()\n",
    "tree800_cfr:run_cfr(tree800, starting_ranges,number_of_iterations)\n",
    "tree_data800:get_training_set(tree800,1)"
   ]
  },
  {
   "cell_type": "markdown",
   "metadata": {},
   "source": [
    "### Training the Model"
   ]
  },
  {
   "cell_type": "code",
   "execution_count": 15,
   "metadata": {
    "collapsed": true
   },
   "outputs": [],
   "source": [
    "-- Building the neural net model\n",
    "strategy_nn = StrategyNN()\n",
    "nn_model = strategy_nn.model\n",
    "-- Building trainer:\n",
    "nn_trainer = NNTrainer(tree_data800,nn_model)\n",
    "-- Options:\n",
    "opt = {}\n",
    "opt.learningRate = 0.001\n",
    "opt.momentum = 0.95\n",
    "opt.validate = false"
   ]
  },
  {
   "cell_type": "code",
   "execution_count": 16,
   "metadata": {
    "collapsed": true
   },
   "outputs": [],
   "source": [
    "current_criterion = nn.SmoothL1Criterion()\n",
    "train_loss,test_loss = nn_trainer:train(nn_model,current_criterion,opt,10000)"
   ]
  },
  {
   "cell_type": "code",
   "execution_count": 17,
   "metadata": {},
   "outputs": [
    {
     "data": {
      "text/plain": [
       "0.23972188947627\n"
      ]
     },
     "execution_count": 17,
     "metadata": {},
     "output_type": "execute_result"
    }
   ],
   "source": [
    "pred_strat = nn_model:forward({nn_trainer.all_data.features,nn_trainer.all_data.masks})\n",
    "true_strat =nn_trainer.all_data.targets\n",
    "print(torch.mean(torch.abs(pred_strat- true_strat)))"
   ]
  },
  {
   "cell_type": "markdown",
   "metadata": {},
   "source": [
    "### No Warm Start"
   ]
  },
  {
   "cell_type": "code",
   "execution_count": 18,
   "metadata": {},
   "outputs": [
    {
     "data": {
      "text/plain": [
       "Solver\n"
      ]
     },
     "execution_count": 18,
     "metadata": {},
     "output_type": "execute_result"
    }
   ],
   "source": [
    "--- Building CFR Solver\n",
    "treeNoWarm = builder:build_tree(params)\n",
    "treeNoWarm_cfr = TreeCFR2()\n",
    "print(\"Solver\")\n",
    "treeNoWarm_cfr:run_cfr(treeNoWarm, starting_ranges,number_of_iterations)"
   ]
  },
  {
   "cell_type": "markdown",
   "metadata": {},
   "source": [
    "### Neural Net Start "
   ]
  },
  {
   "cell_type": "code",
   "execution_count": 19,
   "metadata": {
    "collapsed": true
   },
   "outputs": [],
   "source": [
    "--- NNWarm Starting\n",
    "treeNNWarm = builder:build_tree(params)\n",
    "dataNN = TreeData(treeNNWarm)\n",
    "dataNN:get_training_set(treeNNWarm,1)\n",
    "dataNN:generate_new_initial_strategies(treeNNWarm,nn_trainer)"
   ]
  },
  {
   "cell_type": "code",
   "execution_count": 20,
   "metadata": {},
   "outputs": [],
   "source": [
    "--- Building CFR Solver\n",
    "treeNNWarm_cfr = TreeCFR2()\n",
    "treeNNWarm_cfr:run_cfr(treeNNWarm, starting_ranges,number_of_iterations)"
   ]
  },
  {
   "cell_type": "markdown",
   "metadata": {},
   "source": [
    "### Target Warm Start "
   ]
  },
  {
   "cell_type": "code",
   "execution_count": 21,
   "metadata": {
    "collapsed": true
   },
   "outputs": [],
   "source": [
    "--- Target Warm Starting\n",
    "treeTargWarm = builder:build_tree(params)\n",
    "dataTarg = TreeData(treeTargWarm)\n",
    "dataTarg:get_training_set(treeTargWarm,1)\n",
    "dataTarg:warm_start_from_targets(treeTargWarm,tree800)"
   ]
  },
  {
   "cell_type": "code",
   "execution_count": 22,
   "metadata": {},
   "outputs": [],
   "source": [
    "--- Building CFR Solver\n",
    "treeTargWarm_cfr = TreeCFR2()\n",
    "treeTargWarm_cfr:run_cfr(treeTargWarm, starting_ranges,number_of_iterations)"
   ]
  },
  {
   "cell_type": "markdown",
   "metadata": {},
   "source": [
    "### Plot different starts"
   ]
  },
  {
   "cell_type": "code",
   "execution_count": 45,
   "metadata": {
    "collapsed": true
   },
   "outputs": [],
   "source": [
    "exploit_unif = tree800_cfr.exploitability_vec\n",
    "exploit_NoW = treeNoWarm_cfr.exploitability_vec\n",
    "exploit_NNW = treeNNWarm_cfr.exploitability_vec\n",
    "exploit_TargW = treeTargWarm_cfr.exploitability_vec"
   ]
  },
  {
   "cell_type": "code",
   "execution_count": null,
   "metadata": {},
   "outputs": [],
   "source": [
    "local num_iter = torch.range(1,exploit_NoW:size(1))\n",
    "local plot = Plot()\n",
    "\n",
    "plot:line(num_iter,exploit_unif,'black' ,'Original CFR in the paper')\n",
    "plot:line(num_iter,exploit_NoW,'red' ,'No Warm start CFR')\n",
    "plot:line(num_iter,exploit_NNW,'blue' ,'Neural Net warm start CFR')\n",
    "plot:line(num_iter,exploit_TargW,'green' ,'Warm start with target values')\n",
    "plot:legend(true):title('Exploitability of different strategies, 800 iterations')\n",
    "plot:xaxis('Scaled number of iterations'):yaxis('Exploitability'):redraw()\n"
   ]
  },
  {
   "cell_type": "markdown",
   "metadata": {},
   "source": [
    "### Graphical Comparaison"
   ]
  },
  {
   "cell_type": "markdown",
   "metadata": {},
   "source": [
    "### 3. Comparaision with 2000 CFR2"
   ]
  },
  {
   "cell_type": "code",
   "execution_count": 25,
   "metadata": {},
   "outputs": [],
   "source": [
    "--- Get Data from 2000 iterations\n",
    "tree802 = builder:build_tree(params)\n",
    "tree_data802 = TreeData(tree802)\n",
    "tree802_cfr = TreeCFR2()\n",
    "tree802_cfr:run_cfr(tree802, starting_ranges,number_of_iterations)\n",
    "tree_data802:get_training_set(tree802,1)"
   ]
  },
  {
   "cell_type": "code",
   "execution_count": 26,
   "metadata": {},
   "outputs": [],
   "source": [
    "-- Building the neural net model\n",
    "strategy_nn2 = StrategyNN()\n",
    "nn_model2 = strategy_nn2.model\n",
    "-- Building trainer:\n",
    "nn_trainer2 = NNTrainer(tree_data802,nn_model2)\n",
    "-- Options:\n",
    "opt = {}\n",
    "opt.learningRate = 0.001\n",
    "opt.momentum = 0.95\n",
    "opt.validate = false"
   ]
  },
  {
   "cell_type": "code",
   "execution_count": 27,
   "metadata": {
    "collapsed": true
   },
   "outputs": [],
   "source": [
    "current_criterion2 = nn.SmoothL1Criterion()\n",
    "train_loss,test_loss = nn_trainer:train(nn_model2,current_criterion2,opt,10000)"
   ]
  },
  {
   "cell_type": "code",
   "execution_count": 28,
   "metadata": {},
   "outputs": [],
   "source": [
    "--- No Warm Start\n",
    "treeNoWarm2 = builder:build_tree(params)\n",
    "treeNoWarm_cfr2 = TreeCFR2()\n",
    "treeNoWarm_cfr2:run_cfr(treeNoWarm2, starting_ranges,number_of_iterations)"
   ]
  },
  {
   "cell_type": "code",
   "execution_count": 29,
   "metadata": {},
   "outputs": [],
   "source": [
    "--- NNWarm Starting\n",
    "treeNNWarm2 = builder:build_tree(params)\n",
    "dataNN2 = TreeData(treeNNWarm2)\n",
    "dataNN2:get_training_set(treeNNWarm2,1)\n",
    "dataNN2:generate_new_initial_strategies(treeNNWarm2,nn_trainer2)"
   ]
  },
  {
   "cell_type": "code",
   "execution_count": 30,
   "metadata": {},
   "outputs": [],
   "source": [
    "--- NNWarm CFR Solver\n",
    "treeNNWarm_cfr2 = TreeCFR2()\n",
    "treeNNWarm_cfr2:run_cfr(treeNNWarm2, starting_ranges,number_of_iterations)"
   ]
  },
  {
   "cell_type": "code",
   "execution_count": 31,
   "metadata": {
    "collapsed": true
   },
   "outputs": [],
   "source": [
    "--- Target Warm Starting\n",
    "treeTargWarm2 = builder:build_tree(params)\n",
    "dataTarg2 = TreeData(treeTargWarm2)\n",
    "dataTarg2:get_training_set(treeTargWarm2,1)\n",
    "dataTarg2:warm_start_from_targets(treeTargWarm2,tree802)"
   ]
  },
  {
   "cell_type": "code",
   "execution_count": 32,
   "metadata": {},
   "outputs": [],
   "source": [
    "--- Building CFR Solver\n",
    "treeTargWarm_cfr2 = TreeCFR2()\n",
    "treeTargWarm_cfr2:run_cfr(treeTargWarm2, starting_ranges,number_of_iterations)"
   ]
  },
  {
   "cell_type": "code",
   "execution_count": 33,
   "metadata": {
    "collapsed": true
   },
   "outputs": [],
   "source": [
    "exploit_unif2 = tree802_cfr.exploitability_vec\n",
    "exploit_NoW2 = treeNoWarm_cfr2.exploitability_vec\n",
    "exploit_NNW2 = treeNNWarm_cfr2.exploitability_vec\n",
    "exploit_TargW2 = treeTargWarm_cfr2.exploitability_vec"
   ]
  },
  {
   "cell_type": "code",
   "execution_count": 34,
   "metadata": {},
   "outputs": [
    {
     "data": {
      "text/html": [
       "<script type=\"text/javascript\">\n",
       "$(function() {\n",
       "    if (typeof (window._bokeh_onload_callbacks) === \"undefined\"){\n",
       "  window._bokeh_onload_callbacks = [];\n",
       "    }\n",
       "    function load_lib(url, callback){\n",
       "  window._bokeh_onload_callbacks.push(callback);\n",
       "  if (window._bokeh_is_loading){\n",
       "      console.log(\"Bokeh: BokehJS is being loaded, scheduling callback at\", new Date());\n",
       "      return null;\n",
       "  }\n",
       "  console.log(\"Bokeh: BokehJS not loaded, scheduling load and callback at\", new Date());\n",
       "  window._bokeh_is_loading = true;\n",
       "  var s = document.createElement('script');\n",
       "  s.src = url;\n",
       "  s.async = true;\n",
       "  s.onreadystatechange = s.onload = function(){\n",
       "      Bokeh.embed.inject_css(\"https://cdn.pydata.org/bokeh-0.7.0.min.css\");\n",
       "      window._bokeh_onload_callbacks.forEach(function(callback){callback()});\n",
       "  };\n",
       "  s.onerror = function(){\n",
       "      console.warn(\"failed to load library \" + url);\n",
       "  };\n",
       "  document.getElementsByTagName(\"head\")[0].appendChild(s);\n",
       "    }\n",
       "\n",
       "    bokehjs_url = \"https://cdn.pydata.org/bokeh-0.7.0.min.js\"\n",
       "\n",
       "    var elt = document.getElementById(\"79910314-5361-4da2-cd31-6f0f9c97dde2\");\n",
       "    if(elt==null) {\n",
       "  console.log(\"Bokeh: ERROR: autoload.js configured with elementid '79910314-5361-4da2-cd31-6f0f9c97dde2'\"\n",
       "        + \"but no matching script tag was found. \")\n",
       "  return false;\n",
       "    }\n",
       "\n",
       "    if(typeof(Bokeh) !== \"undefined\") {\n",
       "  console.log(\"Bokeh: BokehJS loaded, going straight to plotting\");\n",
       "  var modelid = \"5ddb5cba-a555-483d-c8cf-581ae831853b\";\n",
       "  var modeltype = \"Plot\";\n",
       "  var all_models = [{\"attributes\":{\"column_names\":[\"x\",\"y\"],\"data\":{\"y\":[19.566444396973,10.700218200684,7.556746006012,5.7459306716919,4.7490396499634,4.038369178772,3.4867277145386,3.1401491165161,2.8193330764771,2.5728120803833,2.3660087585449,2.1768827438354,2.0277948379517,1.8977565765381],\"x\":[1,2,3,4,5,6,7,8,9,10,11,12,13,14]},\"doc\":null,\"id\":\"83342e10-80fb-4087-c05d-53469c73fe7f\",\"selected\":[],\"discrete_ranges\":{},\"cont_ranges\":{},\"tags\":[]},\"type\":\"ColumnDataSource\",\"id\":\"83342e10-80fb-4087-c05d-53469c73fe7f\"},{\"attributes\":{\"line_alpha\":{\"value\":1,\"units\":\"data\"},\"doc\":null,\"id\":\"deeed272-0945-4526-c5dd-9cefd1ebf208\",\"tags\":[],\"y\":{\"field\":\"y\",\"units\":\"data\"},\"size\":{\"value\":10,\"units\":\"screen\"},\"fill_alpha\":{\"value\":0.2,\"units\":\"data\"},\"x\":{\"field\":\"x\",\"units\":\"data\"},\"fill_color\":{\"value\":\"black\"},\"line_color\":{\"value\":\"black\"}},\"type\":\"Line\",\"id\":\"deeed272-0945-4526-c5dd-9cefd1ebf208\"},{\"attributes\":{\"line_alpha\":{\"value\":1,\"units\":\"data\"},\"doc\":null,\"id\":\"612c4548-498b-4b00-cb08-1b9d3226289c\",\"tags\":[],\"y\":{\"field\":\"y\",\"units\":\"data\"},\"size\":{\"value\":10,\"units\":\"screen\"},\"fill_alpha\":{\"value\":0.2,\"units\":\"data\"},\"x\":{\"field\":\"x\",\"units\":\"data\"},\"fill_color\":{\"value\":\"black\"},\"line_color\":{\"value\":\"black\"}},\"type\":\"Line\",\"id\":\"612c4548-498b-4b00-cb08-1b9d3226289c\"},{\"attributes\":{\"name\":null,\"doc\":null,\"id\":\"8c619873-b0ba-4e24-ce1b-a1f79921a020\",\"tags\":[],\"server_data_source\":null,\"glyph\":{\"type\":\"Line\",\"id\":\"deeed272-0945-4526-c5dd-9cefd1ebf208\"},\"nonselection_glyph\":{\"type\":\"Line\",\"id\":\"612c4548-498b-4b00-cb08-1b9d3226289c\"},\"selection_glyph\":null,\"data_source\":{\"type\":\"ColumnDataSource\",\"id\":\"83342e10-80fb-4087-c05d-53469c73fe7f\"}},\"type\":\"GlyphRenderer\",\"id\":\"8c619873-b0ba-4e24-ce1b-a1f79921a020\"},{\"attributes\":{\"column_names\":[\"x\",\"y\"],\"data\":{\"y\":[19.566444396973,10.700218200684,7.556746006012,5.7459306716919,4.7490396499634,4.038369178772,3.4867277145386,3.1401491165161,2.8193330764771,2.5728120803833,2.3660087585449,2.1768827438354,2.0277948379517,1.8977565765381],\"x\":[1,2,3,4,5,6,7,8,9,10,11,12,13,14]},\"doc\":null,\"id\":\"ede4079b-af09-493b-c92a-4c11297cd0ae\",\"selected\":[],\"discrete_ranges\":{},\"cont_ranges\":{},\"tags\":[]},\"type\":\"ColumnDataSource\",\"id\":\"ede4079b-af09-493b-c92a-4c11297cd0ae\"},{\"attributes\":{\"line_alpha\":{\"value\":1,\"units\":\"data\"},\"doc\":null,\"id\":\"7e2487e8-6f3b-483f-c838-4aa735395117\",\"tags\":[],\"y\":{\"field\":\"y\",\"units\":\"data\"},\"size\":{\"value\":10,\"units\":\"screen\"},\"fill_alpha\":{\"value\":0.2,\"units\":\"data\"},\"x\":{\"field\":\"x\",\"units\":\"data\"},\"fill_color\":{\"value\":\"red\"},\"line_color\":{\"value\":\"red\"}},\"type\":\"Line\",\"id\":\"7e2487e8-6f3b-483f-c838-4aa735395117\"},{\"attributes\":{\"line_alpha\":{\"value\":1,\"units\":\"data\"},\"doc\":null,\"id\":\"5e02e0dc-32b0-4e41-cef2-1b4891321de6\",\"tags\":[],\"y\":{\"field\":\"y\",\"units\":\"data\"},\"size\":{\"value\":10,\"units\":\"screen\"},\"fill_alpha\":{\"value\":0.2,\"units\":\"data\"},\"x\":{\"field\":\"x\",\"units\":\"data\"},\"fill_color\":{\"value\":\"red\"},\"line_color\":{\"value\":\"red\"}},\"type\":\"Line\",\"id\":\"5e02e0dc-32b0-4e41-cef2-1b4891321de6\"},{\"attributes\":{\"name\":null,\"doc\":null,\"id\":\"d99c01d3-3905-4ae3-caa4-00dd3c183fdc\",\"tags\":[],\"server_data_source\":null,\"glyph\":{\"type\":\"Line\",\"id\":\"7e2487e8-6f3b-483f-c838-4aa735395117\"},\"nonselection_glyph\":{\"type\":\"Line\",\"id\":\"5e02e0dc-32b0-4e41-cef2-1b4891321de6\"},\"selection_glyph\":null,\"data_source\":{\"type\":\"ColumnDataSource\",\"id\":\"ede4079b-af09-493b-c92a-4c11297cd0ae\"}},\"type\":\"GlyphRenderer\",\"id\":\"d99c01d3-3905-4ae3-caa4-00dd3c183fdc\"},{\"attributes\":{\"column_names\":[\"x\",\"y\"],\"data\":{\"y\":[20.282001495361,11.040060997009,7.8073582649231,5.975926399231,4.9025564193726,4.0228290557861,3.5216808319092,3.1950855255127,2.8706636428833,2.6080813407898,2.3684358596802,2.1899137496948,2.0105934143066,1.917619228363],\"x\":[1,2,3,4,5,6,7,8,9,10,11,12,13,14]},\"doc\":null,\"id\":\"7384987c-c101-422a-c28d-d3f981b09eb0\",\"selected\":[],\"discrete_ranges\":{},\"cont_ranges\":{},\"tags\":[]},\"type\":\"ColumnDataSource\",\"id\":\"7384987c-c101-422a-c28d-d3f981b09eb0\"},{\"attributes\":{\"line_alpha\":{\"value\":1,\"units\":\"data\"},\"doc\":null,\"id\":\"06452e6b-fe3b-436b-c31a-576eae764fa1\",\"tags\":[],\"y\":{\"field\":\"y\",\"units\":\"data\"},\"size\":{\"value\":10,\"units\":\"screen\"},\"fill_alpha\":{\"value\":0.2,\"units\":\"data\"},\"x\":{\"field\":\"x\",\"units\":\"data\"},\"fill_color\":{\"value\":\"blue\"},\"line_color\":{\"value\":\"blue\"}},\"type\":\"Line\",\"id\":\"06452e6b-fe3b-436b-c31a-576eae764fa1\"},{\"attributes\":{\"line_alpha\":{\"value\":1,\"units\":\"data\"},\"doc\":null,\"id\":\"63c2796c-a490-416e-c19a-9d79f83b2683\",\"tags\":[],\"y\":{\"field\":\"y\",\"units\":\"data\"},\"size\":{\"value\":10,\"units\":\"screen\"},\"fill_alpha\":{\"value\":0.2,\"units\":\"data\"},\"x\":{\"field\":\"x\",\"units\":\"data\"},\"fill_color\":{\"value\":\"blue\"},\"line_color\":{\"value\":\"blue\"}},\"type\":\"Line\",\"id\":\"63c2796c-a490-416e-c19a-9d79f83b2683\"},{\"attributes\":{\"name\":null,\"doc\":null,\"id\":\"6efafd6c-d1ab-4932-c9c8-f03107254dbb\",\"tags\":[],\"server_data_source\":null,\"glyph\":{\"type\":\"Line\",\"id\":\"06452e6b-fe3b-436b-c31a-576eae764fa1\"},\"nonselection_glyph\":{\"type\":\"Line\",\"id\":\"63c2796c-a490-416e-c19a-9d79f83b2683\"},\"selection_glyph\":null,\"data_source\":{\"type\":\"ColumnDataSource\",\"id\":\"7384987c-c101-422a-c28d-d3f981b09eb0\"}},\"type\":\"GlyphRenderer\",\"id\":\"6efafd6c-d1ab-4932-c9c8-f03107254dbb\"},{\"attributes\":{\"column_names\":[\"x\",\"y\"],\"data\":{\"y\":[23.393016815186,12.661729812622,8.6256608963013,6.6014351844788,5.4475598335266,4.5761041641235,3.9637317657471,3.4843544960022,3.1740984916687,2.8938570022583,2.6448431015015,2.4384455680847,2.2535390853882,2.1386423110962],\"x\":[1,2,3,4,5,6,7,8,9,10,11,12,13,14]},\"doc\":null,\"id\":\"557cfcc3-7107-48a8-c81c-3fc787718727\",\"selected\":[],\"discrete_ranges\":{},\"cont_ranges\":{},\"tags\":[]},\"type\":\"ColumnDataSource\",\"id\":\"557cfcc3-7107-48a8-c81c-3fc787718727\"},{\"attributes\":{\"line_alpha\":{\"value\":1,\"units\":\"data\"},\"doc\":null,\"id\":\"a69824d5-e99a-4533-c57c-61b3d86840e6\",\"tags\":[],\"y\":{\"field\":\"y\",\"units\":\"data\"},\"size\":{\"value\":10,\"units\":\"screen\"},\"fill_alpha\":{\"value\":0.2,\"units\":\"data\"},\"x\":{\"field\":\"x\",\"units\":\"data\"},\"fill_color\":{\"value\":\"green\"},\"line_color\":{\"value\":\"green\"}},\"type\":\"Line\",\"id\":\"a69824d5-e99a-4533-c57c-61b3d86840e6\"},{\"attributes\":{\"line_alpha\":{\"value\":1,\"units\":\"data\"},\"doc\":null,\"id\":\"3c2cc4ec-d08f-4c7c-cc88-c897ea2809b7\",\"tags\":[],\"y\":{\"field\":\"y\",\"units\":\"data\"},\"size\":{\"value\":10,\"units\":\"screen\"},\"fill_alpha\":{\"value\":0.2,\"units\":\"data\"},\"x\":{\"field\":\"x\",\"units\":\"data\"},\"fill_color\":{\"value\":\"green\"},\"line_color\":{\"value\":\"green\"}},\"type\":\"Line\",\"id\":\"3c2cc4ec-d08f-4c7c-cc88-c897ea2809b7\"},{\"attributes\":{\"name\":null,\"doc\":null,\"id\":\"82680e02-110f-4cfa-cc3d-045c6bd2f050\",\"tags\":[],\"server_data_source\":null,\"glyph\":{\"type\":\"Line\",\"id\":\"a69824d5-e99a-4533-c57c-61b3d86840e6\"},\"nonselection_glyph\":{\"type\":\"Line\",\"id\":\"3c2cc4ec-d08f-4c7c-cc88-c897ea2809b7\"},\"selection_glyph\":null,\"data_source\":{\"type\":\"ColumnDataSource\",\"id\":\"557cfcc3-7107-48a8-c81c-3fc787718727\"}},\"type\":\"GlyphRenderer\",\"id\":\"82680e02-110f-4cfa-cc3d-045c6bd2f050\"},{\"attributes\":{\"sources\":[{\"source\":{\"type\":\"ColumnDataSource\",\"id\":\"83342e10-80fb-4087-c05d-53469c73fe7f\"},\"columns\":[\"x\"]},{\"source\":{\"type\":\"ColumnDataSource\",\"id\":\"ede4079b-af09-493b-c92a-4c11297cd0ae\"},\"columns\":[\"x\"]},{\"source\":{\"type\":\"ColumnDataSource\",\"id\":\"7384987c-c101-422a-c28d-d3f981b09eb0\"},\"columns\":[\"x\"]},{\"source\":{\"type\":\"ColumnDataSource\",\"id\":\"557cfcc3-7107-48a8-c81c-3fc787718727\"},\"columns\":[\"x\"]}],\"tags\":[],\"doc\":null,\"id\":\"8b55e5a5-875e-4927-c90b-389b39912e6a\"},\"type\":\"DataRange1d\",\"id\":\"8b55e5a5-875e-4927-c90b-389b39912e6a\"},{\"attributes\":{\"sources\":[{\"source\":{\"type\":\"ColumnDataSource\",\"id\":\"83342e10-80fb-4087-c05d-53469c73fe7f\"},\"columns\":[\"y\"]},{\"source\":{\"type\":\"ColumnDataSource\",\"id\":\"ede4079b-af09-493b-c92a-4c11297cd0ae\"},\"columns\":[\"y\"]},{\"source\":{\"type\":\"ColumnDataSource\",\"id\":\"7384987c-c101-422a-c28d-d3f981b09eb0\"},\"columns\":[\"y\"]},{\"source\":{\"type\":\"ColumnDataSource\",\"id\":\"557cfcc3-7107-48a8-c81c-3fc787718727\"},\"columns\":[\"y\"]}],\"tags\":[],\"doc\":null,\"id\":\"2ea2c7b2-093e-4ad4-caa5-f6bae85592f7\"},\"type\":\"DataRange1d\",\"id\":\"2ea2c7b2-093e-4ad4-caa5-f6bae85592f7\"},{\"attributes\":{\"geometries\":[],\"tags\":[],\"doc\":null,\"id\":\"f697a406-7f8d-4f4a-cf7f-714ded0151c0\"},\"type\":\"ToolEvents\",\"id\":\"f697a406-7f8d-4f4a-cf7f-714ded0151c0\"},{\"attributes\":{\"tags\":[],\"doc\":null,\"id\":\"fb6d1801-de73-4970-c9ac-058d5068c87e\"},\"type\":\"BasicTickFormatter\",\"id\":\"fb6d1801-de73-4970-c9ac-058d5068c87e\"},{\"attributes\":{\"tags\":[],\"num_minor_ticks\":5,\"doc\":null,\"id\":\"8a4b8edd-5f55-46dd-c61c-460394de9e17\"},\"type\":\"BasicTicker\",\"id\":\"8a4b8edd-5f55-46dd-c61c-460394de9e17\"},{\"attributes\":{\"plot\":{\"subtype\":\"Figure\",\"type\":\"Plot\",\"id\":\"5ddb5cba-a555-483d-c8cf-581ae831853b\"},\"doc\":null,\"id\":\"cde8fac2-35d9-4cfe-cc58-c53b8e8c5016\",\"ticker\":{\"type\":\"BasicTicker\",\"id\":\"8a4b8edd-5f55-46dd-c61c-460394de9e17\"},\"axis_label\":\"Scaled number of iterations\",\"formatter\":{\"type\":\"BasicTickFormatter\",\"id\":\"fb6d1801-de73-4970-c9ac-058d5068c87e\"},\"tags\":[]},\"type\":\"LinearAxis\",\"id\":\"cde8fac2-35d9-4cfe-cc58-c53b8e8c5016\"},{\"attributes\":{\"plot\":{\"subtype\":\"Figure\",\"type\":\"Plot\",\"id\":\"5ddb5cba-a555-483d-c8cf-581ae831853b\"},\"doc\":null,\"id\":\"8e3266ee-227e-495c-c9c1-5fae1c71ec8d\",\"ticker\":{\"type\":\"BasicTicker\",\"id\":\"8a4b8edd-5f55-46dd-c61c-460394de9e17\"},\"dimension\":0,\"tags\":[]},\"type\":\"Grid\",\"id\":\"8e3266ee-227e-495c-c9c1-5fae1c71ec8d\"},{\"attributes\":{\"tags\":[],\"doc\":null,\"id\":\"ecb8aab3-06c8-42db-c2ca-1e76c0810183\"},\"type\":\"BasicTickFormatter\",\"id\":\"ecb8aab3-06c8-42db-c2ca-1e76c0810183\"},{\"attributes\":{\"tags\":[],\"num_minor_ticks\":5,\"doc\":null,\"id\":\"9b04476f-2fef-4dc7-cd7e-1214a0f109b5\"},\"type\":\"BasicTicker\",\"id\":\"9b04476f-2fef-4dc7-cd7e-1214a0f109b5\"},{\"attributes\":{\"plot\":{\"subtype\":\"Figure\",\"type\":\"Plot\",\"id\":\"5ddb5cba-a555-483d-c8cf-581ae831853b\"},\"doc\":null,\"id\":\"6e826614-445d-4f5f-cf2c-7b1812f44263\",\"ticker\":{\"type\":\"BasicTicker\",\"id\":\"9b04476f-2fef-4dc7-cd7e-1214a0f109b5\"},\"axis_label\":\"Exploitability\",\"formatter\":{\"type\":\"BasicTickFormatter\",\"id\":\"ecb8aab3-06c8-42db-c2ca-1e76c0810183\"},\"tags\":[]},\"type\":\"LinearAxis\",\"id\":\"6e826614-445d-4f5f-cf2c-7b1812f44263\"},{\"attributes\":{\"plot\":{\"subtype\":\"Figure\",\"type\":\"Plot\",\"id\":\"5ddb5cba-a555-483d-c8cf-581ae831853b\"},\"doc\":null,\"id\":\"319cfc32-9374-4b5d-cbc3-581876b1f638\",\"ticker\":{\"type\":\"BasicTicker\",\"id\":\"9b04476f-2fef-4dc7-cd7e-1214a0f109b5\"},\"dimension\":1,\"tags\":[]},\"type\":\"Grid\",\"id\":\"319cfc32-9374-4b5d-cbc3-581876b1f638\"},{\"attributes\":{\"plot\":{\"subtype\":\"Figure\",\"type\":\"Plot\",\"id\":\"5ddb5cba-a555-483d-c8cf-581ae831853b\"},\"doc\":null,\"id\":\"a52de7cf-d93f-4291-c243-8372e60d5fe9\",\"dimensions\":[\"width\",\"height\"],\"tags\":[]},\"type\":\"PanTool\",\"id\":\"a52de7cf-d93f-4291-c243-8372e60d5fe9\"},{\"attributes\":{\"plot\":{\"subtype\":\"Figure\",\"type\":\"Plot\",\"id\":\"5ddb5cba-a555-483d-c8cf-581ae831853b\"},\"doc\":null,\"id\":\"87a108f9-105a-4ad9-caf6-74db04ded801\",\"dimensions\":[\"width\",\"height\"],\"tags\":[]},\"type\":\"WheelZoomTool\",\"id\":\"87a108f9-105a-4ad9-caf6-74db04ded801\"},{\"attributes\":{\"plot\":{\"subtype\":\"Figure\",\"type\":\"Plot\",\"id\":\"5ddb5cba-a555-483d-c8cf-581ae831853b\"},\"tags\":[],\"doc\":null,\"id\":\"1a5a02a0-a8be-4341-c37c-0a24c07de74b\"},\"type\":\"BoxZoomTool\",\"id\":\"1a5a02a0-a8be-4341-c37c-0a24c07de74b\"},{\"attributes\":{\"plot\":{\"subtype\":\"Figure\",\"type\":\"Plot\",\"id\":\"5ddb5cba-a555-483d-c8cf-581ae831853b\"},\"tags\":[],\"doc\":null,\"id\":\"dff71c92-23b8-43c6-c3bb-b469d2d0d786\"},\"type\":\"PreviewSaveTool\",\"id\":\"dff71c92-23b8-43c6-c3bb-b469d2d0d786\"},{\"attributes\":{\"plot\":{\"subtype\":\"Figure\",\"type\":\"Plot\",\"id\":\"5ddb5cba-a555-483d-c8cf-581ae831853b\"},\"tags\":[],\"doc\":null,\"id\":\"669671bc-bd45-45bd-c56c-69d8091de3af\"},\"type\":\"ResizeTool\",\"id\":\"669671bc-bd45-45bd-c56c-69d8091de3af\"},{\"attributes\":{\"plot\":{\"subtype\":\"Figure\",\"type\":\"Plot\",\"id\":\"5ddb5cba-a555-483d-c8cf-581ae831853b\"},\"tags\":[],\"doc\":null,\"id\":\"6949dd3f-b3a9-4b04-cb7b-532083676c7b\"},\"type\":\"ResetTool\",\"id\":\"6949dd3f-b3a9-4b04-cb7b-532083676c7b\"},{\"attributes\":{\"plot\":{\"subtype\":\"Figure\",\"type\":\"Plot\",\"id\":\"5ddb5cba-a555-483d-c8cf-581ae831853b\"},\"doc\":null,\"id\":\"ca55da0c-0066-4e9b-ce6d-5c6dcc197b79\",\"legends\":[[\"Original CFR in the paper\",[{\"type\":\"GlyphRenderer\",\"id\":\"8c619873-b0ba-4e24-ce1b-a1f79921a020\"}]],[\"No Warm start CFR\",[{\"type\":\"GlyphRenderer\",\"id\":\"d99c01d3-3905-4ae3-caa4-00dd3c183fdc\"}]],[\"Neural Net warm start CFR\",[{\"type\":\"GlyphRenderer\",\"id\":\"6efafd6c-d1ab-4932-c9c8-f03107254dbb\"}]],[\"Warm start with target values\",[{\"type\":\"GlyphRenderer\",\"id\":\"82680e02-110f-4cfa-cc3d-045c6bd2f050\"}]]],\"tags\":[]},\"type\":\"Legend\",\"id\":\"ca55da0c-0066-4e9b-ce6d-5c6dcc197b79\"},{\"attributes\":{\"x_range\":{\"type\":\"DataRange1d\",\"id\":\"8b55e5a5-875e-4927-c90b-389b39912e6a\"},\"doc\":null,\"id\":\"5ddb5cba-a555-483d-c8cf-581ae831853b\",\"above\":[],\"tools\":[{\"type\":\"PanTool\",\"id\":\"a52de7cf-d93f-4291-c243-8372e60d5fe9\"},{\"type\":\"WheelZoomTool\",\"id\":\"87a108f9-105a-4ad9-caf6-74db04ded801\"},{\"type\":\"BoxZoomTool\",\"id\":\"1a5a02a0-a8be-4341-c37c-0a24c07de74b\"},{\"type\":\"PreviewSaveTool\",\"id\":\"dff71c92-23b8-43c6-c3bb-b469d2d0d786\"},{\"type\":\"ResizeTool\",\"id\":\"669671bc-bd45-45bd-c56c-69d8091de3af\"},{\"type\":\"ResetTool\",\"id\":\"6949dd3f-b3a9-4b04-cb7b-532083676c7b\"}],\"title\":\"Exploitability of different strategoes\",\"tags\":[],\"tool_events\":{\"type\":\"ToolEvents\",\"id\":\"f697a406-7f8d-4f4a-cf7f-714ded0151c0\"},\"right\":[],\"extra_y_ranges\":{},\"below\":[{\"type\":\"LinearAxis\",\"id\":\"cde8fac2-35d9-4cfe-cc58-c53b8e8c5016\"}],\"extra_x_ranges\":{},\"renderers\":[{\"type\":\"GlyphRenderer\",\"id\":\"8c619873-b0ba-4e24-ce1b-a1f79921a020\"},{\"type\":\"GlyphRenderer\",\"id\":\"d99c01d3-3905-4ae3-caa4-00dd3c183fdc\"},{\"type\":\"GlyphRenderer\",\"id\":\"6efafd6c-d1ab-4932-c9c8-f03107254dbb\"},{\"type\":\"GlyphRenderer\",\"id\":\"82680e02-110f-4cfa-cc3d-045c6bd2f050\"},{\"type\":\"LinearAxis\",\"id\":\"cde8fac2-35d9-4cfe-cc58-c53b8e8c5016\"},{\"type\":\"Grid\",\"id\":\"8e3266ee-227e-495c-c9c1-5fae1c71ec8d\"},{\"type\":\"LinearAxis\",\"id\":\"6e826614-445d-4f5f-cf2c-7b1812f44263\"},{\"type\":\"Grid\",\"id\":\"319cfc32-9374-4b5d-cbc3-581876b1f638\"},{\"type\":\"Legend\",\"id\":\"ca55da0c-0066-4e9b-ce6d-5c6dcc197b79\"}],\"left\":[{\"type\":\"LinearAxis\",\"id\":\"6e826614-445d-4f5f-cf2c-7b1812f44263\"}],\"y_range\":{\"type\":\"DataRange1d\",\"id\":\"2ea2c7b2-093e-4ad4-caa5-f6bae85592f7\"}},\"type\":\"Plot\",\"id\":\"5ddb5cba-a555-483d-c8cf-581ae831853b\"}];\n",
       "  Bokeh.load_models(all_models);\n",
       "  var model = Bokeh.Collections(modeltype).get(modelid);\n",
       "  $(\"#79910314-5361-4da2-cd31-6f0f9c97dde2\").html(''); // clear any previous plot in window_id\n",
       "  var view = new model.default_view({model: model, el: \"#79910314-5361-4da2-cd31-6f0f9c97dde2\"});\n",
       "    } else {\n",
       "  load_lib(bokehjs_url, function() {\n",
       "      console.log(\"Bokeh: BokehJS plotting callback run at\", new Date())\n",
       "      var modelid = \"5ddb5cba-a555-483d-c8cf-581ae831853b\";\n",
       "      var modeltype = \"Plot\";\n",
       "      var all_models = [{\"attributes\":{\"column_names\":[\"x\",\"y\"],\"data\":{\"y\":[19.566444396973,10.700218200684,7.556746006012,5.7459306716919,4.7490396499634,4.038369178772,3.4867277145386,3.1401491165161,2.8193330764771,2.5728120803833,2.3660087585449,2.1768827438354,2.0277948379517,1.8977565765381],\"x\":[1,2,3,4,5,6,7,8,9,10,11,12,13,14]},\"doc\":null,\"id\":\"83342e10-80fb-4087-c05d-53469c73fe7f\",\"selected\":[],\"discrete_ranges\":{},\"cont_ranges\":{},\"tags\":[]},\"type\":\"ColumnDataSource\",\"id\":\"83342e10-80fb-4087-c05d-53469c73fe7f\"},{\"attributes\":{\"line_alpha\":{\"value\":1,\"units\":\"data\"},\"doc\":null,\"id\":\"deeed272-0945-4526-c5dd-9cefd1ebf208\",\"tags\":[],\"y\":{\"field\":\"y\",\"units\":\"data\"},\"size\":{\"value\":10,\"units\":\"screen\"},\"fill_alpha\":{\"value\":0.2,\"units\":\"data\"},\"x\":{\"field\":\"x\",\"units\":\"data\"},\"fill_color\":{\"value\":\"black\"},\"line_color\":{\"value\":\"black\"}},\"type\":\"Line\",\"id\":\"deeed272-0945-4526-c5dd-9cefd1ebf208\"},{\"attributes\":{\"line_alpha\":{\"value\":1,\"units\":\"data\"},\"doc\":null,\"id\":\"612c4548-498b-4b00-cb08-1b9d3226289c\",\"tags\":[],\"y\":{\"field\":\"y\",\"units\":\"data\"},\"size\":{\"value\":10,\"units\":\"screen\"},\"fill_alpha\":{\"value\":0.2,\"units\":\"data\"},\"x\":{\"field\":\"x\",\"units\":\"data\"},\"fill_color\":{\"value\":\"black\"},\"line_color\":{\"value\":\"black\"}},\"type\":\"Line\",\"id\":\"612c4548-498b-4b00-cb08-1b9d3226289c\"},{\"attributes\":{\"name\":null,\"doc\":null,\"id\":\"8c619873-b0ba-4e24-ce1b-a1f79921a020\",\"tags\":[],\"server_data_source\":null,\"glyph\":{\"type\":\"Line\",\"id\":\"deeed272-0945-4526-c5dd-9cefd1ebf208\"},\"nonselection_glyph\":{\"type\":\"Line\",\"id\":\"612c4548-498b-4b00-cb08-1b9d3226289c\"},\"selection_glyph\":null,\"data_source\":{\"type\":\"ColumnDataSource\",\"id\":\"83342e10-80fb-4087-c05d-53469c73fe7f\"}},\"type\":\"GlyphRenderer\",\"id\":\"8c619873-b0ba-4e24-ce1b-a1f79921a020\"},{\"attributes\":{\"column_names\":[\"x\",\"y\"],\"data\":{\"y\":[19.566444396973,10.700218200684,7.556746006012,5.7459306716919,4.7490396499634,4.038369178772,3.4867277145386,3.1401491165161,2.8193330764771,2.5728120803833,2.3660087585449,2.1768827438354,2.0277948379517,1.8977565765381],\"x\":[1,2,3,4,5,6,7,8,9,10,11,12,13,14]},\"doc\":null,\"id\":\"ede4079b-af09-493b-c92a-4c11297cd0ae\",\"selected\":[],\"discrete_ranges\":{},\"cont_ranges\":{},\"tags\":[]},\"type\":\"ColumnDataSource\",\"id\":\"ede4079b-af09-493b-c92a-4c11297cd0ae\"},{\"attributes\":{\"line_alpha\":{\"value\":1,\"units\":\"data\"},\"doc\":null,\"id\":\"7e2487e8-6f3b-483f-c838-4aa735395117\",\"tags\":[],\"y\":{\"field\":\"y\",\"units\":\"data\"},\"size\":{\"value\":10,\"units\":\"screen\"},\"fill_alpha\":{\"value\":0.2,\"units\":\"data\"},\"x\":{\"field\":\"x\",\"units\":\"data\"},\"fill_color\":{\"value\":\"red\"},\"line_color\":{\"value\":\"red\"}},\"type\":\"Line\",\"id\":\"7e2487e8-6f3b-483f-c838-4aa735395117\"},{\"attributes\":{\"line_alpha\":{\"value\":1,\"units\":\"data\"},\"doc\":null,\"id\":\"5e02e0dc-32b0-4e41-cef2-1b4891321de6\",\"tags\":[],\"y\":{\"field\":\"y\",\"units\":\"data\"},\"size\":{\"value\":10,\"units\":\"screen\"},\"fill_alpha\":{\"value\":0.2,\"units\":\"data\"},\"x\":{\"field\":\"x\",\"units\":\"data\"},\"fill_color\":{\"value\":\"red\"},\"line_color\":{\"value\":\"red\"}},\"type\":\"Line\",\"id\":\"5e02e0dc-32b0-4e41-cef2-1b4891321de6\"},{\"attributes\":{\"name\":null,\"doc\":null,\"id\":\"d99c01d3-3905-4ae3-caa4-00dd3c183fdc\",\"tags\":[],\"server_data_source\":null,\"glyph\":{\"type\":\"Line\",\"id\":\"7e2487e8-6f3b-483f-c838-4aa735395117\"},\"nonselection_glyph\":{\"type\":\"Line\",\"id\":\"5e02e0dc-32b0-4e41-cef2-1b4891321de6\"},\"selection_glyph\":null,\"data_source\":{\"type\":\"ColumnDataSource\",\"id\":\"ede4079b-af09-493b-c92a-4c11297cd0ae\"}},\"type\":\"GlyphRenderer\",\"id\":\"d99c01d3-3905-4ae3-caa4-00dd3c183fdc\"},{\"attributes\":{\"column_names\":[\"x\",\"y\"],\"data\":{\"y\":[20.282001495361,11.040060997009,7.8073582649231,5.975926399231,4.9025564193726,4.0228290557861,3.5216808319092,3.1950855255127,2.8706636428833,2.6080813407898,2.3684358596802,2.1899137496948,2.0105934143066,1.917619228363],\"x\":[1,2,3,4,5,6,7,8,9,10,11,12,13,14]},\"doc\":null,\"id\":\"7384987c-c101-422a-c28d-d3f981b09eb0\",\"selected\":[],\"discrete_ranges\":{},\"cont_ranges\":{},\"tags\":[]},\"type\":\"ColumnDataSource\",\"id\":\"7384987c-c101-422a-c28d-d3f981b09eb0\"},{\"attributes\":{\"line_alpha\":{\"value\":1,\"units\":\"data\"},\"doc\":null,\"id\":\"06452e6b-fe3b-436b-c31a-576eae764fa1\",\"tags\":[],\"y\":{\"field\":\"y\",\"units\":\"data\"},\"size\":{\"value\":10,\"units\":\"screen\"},\"fill_alpha\":{\"value\":0.2,\"units\":\"data\"},\"x\":{\"field\":\"x\",\"units\":\"data\"},\"fill_color\":{\"value\":\"blue\"},\"line_color\":{\"value\":\"blue\"}},\"type\":\"Line\",\"id\":\"06452e6b-fe3b-436b-c31a-576eae764fa1\"},{\"attributes\":{\"line_alpha\":{\"value\":1,\"units\":\"data\"},\"doc\":null,\"id\":\"63c2796c-a490-416e-c19a-9d79f83b2683\",\"tags\":[],\"y\":{\"field\":\"y\",\"units\":\"data\"},\"size\":{\"value\":10,\"units\":\"screen\"},\"fill_alpha\":{\"value\":0.2,\"units\":\"data\"},\"x\":{\"field\":\"x\",\"units\":\"data\"},\"fill_color\":{\"value\":\"blue\"},\"line_color\":{\"value\":\"blue\"}},\"type\":\"Line\",\"id\":\"63c2796c-a490-416e-c19a-9d79f83b2683\"},{\"attributes\":{\"name\":null,\"doc\":null,\"id\":\"6efafd6c-d1ab-4932-c9c8-f03107254dbb\",\"tags\":[],\"server_data_source\":null,\"glyph\":{\"type\":\"Line\",\"id\":\"06452e6b-fe3b-436b-c31a-576eae764fa1\"},\"nonselection_glyph\":{\"type\":\"Line\",\"id\":\"63c2796c-a490-416e-c19a-9d79f83b2683\"},\"selection_glyph\":null,\"data_source\":{\"type\":\"ColumnDataSource\",\"id\":\"7384987c-c101-422a-c28d-d3f981b09eb0\"}},\"type\":\"GlyphRenderer\",\"id\":\"6efafd6c-d1ab-4932-c9c8-f03107254dbb\"},{\"attributes\":{\"column_names\":[\"x\",\"y\"],\"data\":{\"y\":[23.393016815186,12.661729812622,8.6256608963013,6.6014351844788,5.4475598335266,4.5761041641235,3.9637317657471,3.4843544960022,3.1740984916687,2.8938570022583,2.6448431015015,2.4384455680847,2.2535390853882,2.1386423110962],\"x\":[1,2,3,4,5,6,7,8,9,10,11,12,13,14]},\"doc\":null,\"id\":\"557cfcc3-7107-48a8-c81c-3fc787718727\",\"selected\":[],\"discrete_ranges\":{},\"cont_ranges\":{},\"tags\":[]},\"type\":\"ColumnDataSource\",\"id\":\"557cfcc3-7107-48a8-c81c-3fc787718727\"},{\"attributes\":{\"line_alpha\":{\"value\":1,\"units\":\"data\"},\"doc\":null,\"id\":\"a69824d5-e99a-4533-c57c-61b3d86840e6\",\"tags\":[],\"y\":{\"field\":\"y\",\"units\":\"data\"},\"size\":{\"value\":10,\"units\":\"screen\"},\"fill_alpha\":{\"value\":0.2,\"units\":\"data\"},\"x\":{\"field\":\"x\",\"units\":\"data\"},\"fill_color\":{\"value\":\"green\"},\"line_color\":{\"value\":\"green\"}},\"type\":\"Line\",\"id\":\"a69824d5-e99a-4533-c57c-61b3d86840e6\"},{\"attributes\":{\"line_alpha\":{\"value\":1,\"units\":\"data\"},\"doc\":null,\"id\":\"3c2cc4ec-d08f-4c7c-cc88-c897ea2809b7\",\"tags\":[],\"y\":{\"field\":\"y\",\"units\":\"data\"},\"size\":{\"value\":10,\"units\":\"screen\"},\"fill_alpha\":{\"value\":0.2,\"units\":\"data\"},\"x\":{\"field\":\"x\",\"units\":\"data\"},\"fill_color\":{\"value\":\"green\"},\"line_color\":{\"value\":\"green\"}},\"type\":\"Line\",\"id\":\"3c2cc4ec-d08f-4c7c-cc88-c897ea2809b7\"},{\"attributes\":{\"name\":null,\"doc\":null,\"id\":\"82680e02-110f-4cfa-cc3d-045c6bd2f050\",\"tags\":[],\"server_data_source\":null,\"glyph\":{\"type\":\"Line\",\"id\":\"a69824d5-e99a-4533-c57c-61b3d86840e6\"},\"nonselection_glyph\":{\"type\":\"Line\",\"id\":\"3c2cc4ec-d08f-4c7c-cc88-c897ea2809b7\"},\"selection_glyph\":null,\"data_source\":{\"type\":\"ColumnDataSource\",\"id\":\"557cfcc3-7107-48a8-c81c-3fc787718727\"}},\"type\":\"GlyphRenderer\",\"id\":\"82680e02-110f-4cfa-cc3d-045c6bd2f050\"},{\"attributes\":{\"sources\":[{\"source\":{\"type\":\"ColumnDataSource\",\"id\":\"83342e10-80fb-4087-c05d-53469c73fe7f\"},\"columns\":[\"x\"]},{\"source\":{\"type\":\"ColumnDataSource\",\"id\":\"ede4079b-af09-493b-c92a-4c11297cd0ae\"},\"columns\":[\"x\"]},{\"source\":{\"type\":\"ColumnDataSource\",\"id\":\"7384987c-c101-422a-c28d-d3f981b09eb0\"},\"columns\":[\"x\"]},{\"source\":{\"type\":\"ColumnDataSource\",\"id\":\"557cfcc3-7107-48a8-c81c-3fc787718727\"},\"columns\":[\"x\"]}],\"tags\":[],\"doc\":null,\"id\":\"8b55e5a5-875e-4927-c90b-389b39912e6a\"},\"type\":\"DataRange1d\",\"id\":\"8b55e5a5-875e-4927-c90b-389b39912e6a\"},{\"attributes\":{\"sources\":[{\"source\":{\"type\":\"ColumnDataSource\",\"id\":\"83342e10-80fb-4087-c05d-53469c73fe7f\"},\"columns\":[\"y\"]},{\"source\":{\"type\":\"ColumnDataSource\",\"id\":\"ede4079b-af09-493b-c92a-4c11297cd0ae\"},\"columns\":[\"y\"]},{\"source\":{\"type\":\"ColumnDataSource\",\"id\":\"7384987c-c101-422a-c28d-d3f981b09eb0\"},\"columns\":[\"y\"]},{\"source\":{\"type\":\"ColumnDataSource\",\"id\":\"557cfcc3-7107-48a8-c81c-3fc787718727\"},\"columns\":[\"y\"]}],\"tags\":[],\"doc\":null,\"id\":\"2ea2c7b2-093e-4ad4-caa5-f6bae85592f7\"},\"type\":\"DataRange1d\",\"id\":\"2ea2c7b2-093e-4ad4-caa5-f6bae85592f7\"},{\"attributes\":{\"geometries\":[],\"tags\":[],\"doc\":null,\"id\":\"f697a406-7f8d-4f4a-cf7f-714ded0151c0\"},\"type\":\"ToolEvents\",\"id\":\"f697a406-7f8d-4f4a-cf7f-714ded0151c0\"},{\"attributes\":{\"tags\":[],\"doc\":null,\"id\":\"fb6d1801-de73-4970-c9ac-058d5068c87e\"},\"type\":\"BasicTickFormatter\",\"id\":\"fb6d1801-de73-4970-c9ac-058d5068c87e\"},{\"attributes\":{\"tags\":[],\"num_minor_ticks\":5,\"doc\":null,\"id\":\"8a4b8edd-5f55-46dd-c61c-460394de9e17\"},\"type\":\"BasicTicker\",\"id\":\"8a4b8edd-5f55-46dd-c61c-460394de9e17\"},{\"attributes\":{\"plot\":{\"subtype\":\"Figure\",\"type\":\"Plot\",\"id\":\"5ddb5cba-a555-483d-c8cf-581ae831853b\"},\"doc\":null,\"id\":\"cde8fac2-35d9-4cfe-cc58-c53b8e8c5016\",\"ticker\":{\"type\":\"BasicTicker\",\"id\":\"8a4b8edd-5f55-46dd-c61c-460394de9e17\"},\"axis_label\":\"Scaled number of iterations\",\"formatter\":{\"type\":\"BasicTickFormatter\",\"id\":\"fb6d1801-de73-4970-c9ac-058d5068c87e\"},\"tags\":[]},\"type\":\"LinearAxis\",\"id\":\"cde8fac2-35d9-4cfe-cc58-c53b8e8c5016\"},{\"attributes\":{\"plot\":{\"subtype\":\"Figure\",\"type\":\"Plot\",\"id\":\"5ddb5cba-a555-483d-c8cf-581ae831853b\"},\"doc\":null,\"id\":\"8e3266ee-227e-495c-c9c1-5fae1c71ec8d\",\"ticker\":{\"type\":\"BasicTicker\",\"id\":\"8a4b8edd-5f55-46dd-c61c-460394de9e17\"},\"dimension\":0,\"tags\":[]},\"type\":\"Grid\",\"id\":\"8e3266ee-227e-495c-c9c1-5fae1c71ec8d\"},{\"attributes\":{\"tags\":[],\"doc\":null,\"id\":\"ecb8aab3-06c8-42db-c2ca-1e76c0810183\"},\"type\":\"BasicTickFormatter\",\"id\":\"ecb8aab3-06c8-42db-c2ca-1e76c0810183\"},{\"attributes\":{\"tags\":[],\"num_minor_ticks\":5,\"doc\":null,\"id\":\"9b04476f-2fef-4dc7-cd7e-1214a0f109b5\"},\"type\":\"BasicTicker\",\"id\":\"9b04476f-2fef-4dc7-cd7e-1214a0f109b5\"},{\"attributes\":{\"plot\":{\"subtype\":\"Figure\",\"type\":\"Plot\",\"id\":\"5ddb5cba-a555-483d-c8cf-581ae831853b\"},\"doc\":null,\"id\":\"6e826614-445d-4f5f-cf2c-7b1812f44263\",\"ticker\":{\"type\":\"BasicTicker\",\"id\":\"9b04476f-2fef-4dc7-cd7e-1214a0f109b5\"},\"axis_label\":\"Exploitability\",\"formatter\":{\"type\":\"BasicTickFormatter\",\"id\":\"ecb8aab3-06c8-42db-c2ca-1e76c0810183\"},\"tags\":[]},\"type\":\"LinearAxis\",\"id\":\"6e826614-445d-4f5f-cf2c-7b1812f44263\"},{\"attributes\":{\"plot\":{\"subtype\":\"Figure\",\"type\":\"Plot\",\"id\":\"5ddb5cba-a555-483d-c8cf-581ae831853b\"},\"doc\":null,\"id\":\"319cfc32-9374-4b5d-cbc3-581876b1f638\",\"ticker\":{\"type\":\"BasicTicker\",\"id\":\"9b04476f-2fef-4dc7-cd7e-1214a0f109b5\"},\"dimension\":1,\"tags\":[]},\"type\":\"Grid\",\"id\":\"319cfc32-9374-4b5d-cbc3-581876b1f638\"},{\"attributes\":{\"plot\":{\"subtype\":\"Figure\",\"type\":\"Plot\",\"id\":\"5ddb5cba-a555-483d-c8cf-581ae831853b\"},\"doc\":null,\"id\":\"a52de7cf-d93f-4291-c243-8372e60d5fe9\",\"dimensions\":[\"width\",\"height\"],\"tags\":[]},\"type\":\"PanTool\",\"id\":\"a52de7cf-d93f-4291-c243-8372e60d5fe9\"},{\"attributes\":{\"plot\":{\"subtype\":\"Figure\",\"type\":\"Plot\",\"id\":\"5ddb5cba-a555-483d-c8cf-581ae831853b\"},\"doc\":null,\"id\":\"87a108f9-105a-4ad9-caf6-74db04ded801\",\"dimensions\":[\"width\",\"height\"],\"tags\":[]},\"type\":\"WheelZoomTool\",\"id\":\"87a108f9-105a-4ad9-caf6-74db04ded801\"},{\"attributes\":{\"plot\":{\"subtype\":\"Figure\",\"type\":\"Plot\",\"id\":\"5ddb5cba-a555-483d-c8cf-581ae831853b\"},\"tags\":[],\"doc\":null,\"id\":\"1a5a02a0-a8be-4341-c37c-0a24c07de74b\"},\"type\":\"BoxZoomTool\",\"id\":\"1a5a02a0-a8be-4341-c37c-0a24c07de74b\"},{\"attributes\":{\"plot\":{\"subtype\":\"Figure\",\"type\":\"Plot\",\"id\":\"5ddb5cba-a555-483d-c8cf-581ae831853b\"},\"tags\":[],\"doc\":null,\"id\":\"dff71c92-23b8-43c6-c3bb-b469d2d0d786\"},\"type\":\"PreviewSaveTool\",\"id\":\"dff71c92-23b8-43c6-c3bb-b469d2d0d786\"},{\"attributes\":{\"plot\":{\"subtype\":\"Figure\",\"type\":\"Plot\",\"id\":\"5ddb5cba-a555-483d-c8cf-581ae831853b\"},\"tags\":[],\"doc\":null,\"id\":\"669671bc-bd45-45bd-c56c-69d8091de3af\"},\"type\":\"ResizeTool\",\"id\":\"669671bc-bd45-45bd-c56c-69d8091de3af\"},{\"attributes\":{\"plot\":{\"subtype\":\"Figure\",\"type\":\"Plot\",\"id\":\"5ddb5cba-a555-483d-c8cf-581ae831853b\"},\"tags\":[],\"doc\":null,\"id\":\"6949dd3f-b3a9-4b04-cb7b-532083676c7b\"},\"type\":\"ResetTool\",\"id\":\"6949dd3f-b3a9-4b04-cb7b-532083676c7b\"},{\"attributes\":{\"plot\":{\"subtype\":\"Figure\",\"type\":\"Plot\",\"id\":\"5ddb5cba-a555-483d-c8cf-581ae831853b\"},\"doc\":null,\"id\":\"ca55da0c-0066-4e9b-ce6d-5c6dcc197b79\",\"legends\":[[\"Original CFR in the paper\",[{\"type\":\"GlyphRenderer\",\"id\":\"8c619873-b0ba-4e24-ce1b-a1f79921a020\"}]],[\"No Warm start CFR\",[{\"type\":\"GlyphRenderer\",\"id\":\"d99c01d3-3905-4ae3-caa4-00dd3c183fdc\"}]],[\"Neural Net warm start CFR\",[{\"type\":\"GlyphRenderer\",\"id\":\"6efafd6c-d1ab-4932-c9c8-f03107254dbb\"}]],[\"Warm start with target values\",[{\"type\":\"GlyphRenderer\",\"id\":\"82680e02-110f-4cfa-cc3d-045c6bd2f050\"}]]],\"tags\":[]},\"type\":\"Legend\",\"id\":\"ca55da0c-0066-4e9b-ce6d-5c6dcc197b79\"},{\"attributes\":{\"x_range\":{\"type\":\"DataRange1d\",\"id\":\"8b55e5a5-875e-4927-c90b-389b39912e6a\"},\"doc\":null,\"id\":\"5ddb5cba-a555-483d-c8cf-581ae831853b\",\"above\":[],\"tools\":[{\"type\":\"PanTool\",\"id\":\"a52de7cf-d93f-4291-c243-8372e60d5fe9\"},{\"type\":\"WheelZoomTool\",\"id\":\"87a108f9-105a-4ad9-caf6-74db04ded801\"},{\"type\":\"BoxZoomTool\",\"id\":\"1a5a02a0-a8be-4341-c37c-0a24c07de74b\"},{\"type\":\"PreviewSaveTool\",\"id\":\"dff71c92-23b8-43c6-c3bb-b469d2d0d786\"},{\"type\":\"ResizeTool\",\"id\":\"669671bc-bd45-45bd-c56c-69d8091de3af\"},{\"type\":\"ResetTool\",\"id\":\"6949dd3f-b3a9-4b04-cb7b-532083676c7b\"}],\"title\":\"Exploitability of different strategoes\",\"tags\":[],\"tool_events\":{\"type\":\"ToolEvents\",\"id\":\"f697a406-7f8d-4f4a-cf7f-714ded0151c0\"},\"right\":[],\"extra_y_ranges\":{},\"below\":[{\"type\":\"LinearAxis\",\"id\":\"cde8fac2-35d9-4cfe-cc58-c53b8e8c5016\"}],\"extra_x_ranges\":{},\"renderers\":[{\"type\":\"GlyphRenderer\",\"id\":\"8c619873-b0ba-4e24-ce1b-a1f79921a020\"},{\"type\":\"GlyphRenderer\",\"id\":\"d99c01d3-3905-4ae3-caa4-00dd3c183fdc\"},{\"type\":\"GlyphRenderer\",\"id\":\"6efafd6c-d1ab-4932-c9c8-f03107254dbb\"},{\"type\":\"GlyphRenderer\",\"id\":\"82680e02-110f-4cfa-cc3d-045c6bd2f050\"},{\"type\":\"LinearAxis\",\"id\":\"cde8fac2-35d9-4cfe-cc58-c53b8e8c5016\"},{\"type\":\"Grid\",\"id\":\"8e3266ee-227e-495c-c9c1-5fae1c71ec8d\"},{\"type\":\"LinearAxis\",\"id\":\"6e826614-445d-4f5f-cf2c-7b1812f44263\"},{\"type\":\"Grid\",\"id\":\"319cfc32-9374-4b5d-cbc3-581876b1f638\"},{\"type\":\"Legend\",\"id\":\"ca55da0c-0066-4e9b-ce6d-5c6dcc197b79\"}],\"left\":[{\"type\":\"LinearAxis\",\"id\":\"6e826614-445d-4f5f-cf2c-7b1812f44263\"}],\"y_range\":{\"type\":\"DataRange1d\",\"id\":\"2ea2c7b2-093e-4ad4-caa5-f6bae85592f7\"}},\"type\":\"Plot\",\"id\":\"5ddb5cba-a555-483d-c8cf-581ae831853b\"}];\n",
       "      Bokeh.load_models(all_models);\n",
       "      var model = Bokeh.Collections(modeltype).get(modelid);\n",
       "      $(\"#79910314-5361-4da2-cd31-6f0f9c97dde2\").html(''); // clear any previous plot in window_id\n",
       "      var view = new model.default_view({model: model, el: \"#79910314-5361-4da2-cd31-6f0f9c97dde2\"});\n",
       "  });\n",
       "    }\n",
       "});\n",
       "</script>\n",
       "<div class=\"plotdiv\" id=\"79910314-5361-4da2-cd31-6f0f9c97dde2\"></div>\n"
      ]
     },
     "metadata": {},
     "output_type": "display_data"
    }
   ],
   "source": [
    "local num_iter = torch.range(1,exploit_NoW:size(1))\n",
    "local plot = Plot()\n",
    "\n",
    "plot:line(num_iter,exploit_unif2,'black' ,'Original CFR in the paper')\n",
    "plot:line(num_iter,exploit_NoW2,'red' ,'No Warm start CFR')\n",
    "plot:line(num_iter,exploit_NNW2,'blue' ,'Neural Net warm start CFR')\n",
    "plot:line(num_iter,exploit_TargW2,'green' ,'Warm start with target values')\n",
    "plot:legend(true):title('Exploitability of different strategoes')\n",
    "plot:xaxis('Scaled number of iterations'):yaxis('Exploitability'):redraw()\n"
   ]
  },
  {
   "cell_type": "code",
   "execution_count": null,
   "metadata": {
    "collapsed": true
   },
   "outputs": [],
   "source": []
  }
 ],
 "metadata": {
  "kernelspec": {
   "display_name": "iTorch",
   "language": "lua",
   "name": "itorch"
  },
  "language_info": {
   "name": "lua",
   "version": "5.2"
  }
 },
 "nbformat": 4,
 "nbformat_minor": 2
}
