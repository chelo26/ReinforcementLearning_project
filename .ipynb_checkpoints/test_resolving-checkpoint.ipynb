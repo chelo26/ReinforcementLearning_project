{
 "cells": [
  {
   "cell_type": "code",
   "execution_count": 1,
   "metadata": {},
   "outputs": [],
   "source": [
    "arguments = require 'Settings.arguments'\n",
    "constants = require 'Settings.constants'\n",
    "card_tools = require 'Game.card_tools'\n",
    "card_to_string = require 'Game.card_to_string_conversion'\n",
    "arguments.bet_sizing = {1,2}\n",
    "arguments.stack = 1600\n",
    "require 'Lookahead.lookahead'\n",
    "require 'Lookahead.lookahead_builder'\n",
    "\n",
    "require 'Lookahead.resolving'\n",
    "require 'Tree.tree_builder'\n",
    "\n",
    "resolving = Resolving()\n",
    "\n",
    "current_node = {}\n",
    "current_node.board = card_to_string:string_to_board('As')\n",
    "current_node.street = 2\n",
    "current_node.current_player = constants.players.P1\n",
    "current_node.bets = arguments.Tensor{200, 200}\n",
    "\n",
    "player_range = card_tools:get_random_range(current_node.board, 2)\n",
    "opponent_range = card_tools:get_random_range(current_node.board, 4)\n",
    "\n",
    "---resolving:resolve_first_node(current_node, player_range, opponent_range)\n",
    "\n",
    "resolving:resolve(current_node, player_range, opponent_range)\n",
    "---print(opponent_range)"
   ]
  },
  {
   "cell_type": "code",
   "execution_count": 4,
   "metadata": {},
   "outputs": [],
   "source": [
    "builder = PokerTreeBuilder()\n",
    "params = {}\n",
    "\n",
    "params.root_node = {}\n",
    "params.root_node.board = card_to_string:string_to_board('As')\n",
    "params.root_node.street = 2\n",
    "params.root_node.current_player = constants.players.P1\n",
    "params.root_node.bets = arguments.Tensor{200, 200}\n",
    "\n",
    "tree = builder:build_tree(params)\n"
   ]
  },
  {
   "cell_type": "code",
   "execution_count": null,
   "metadata": {},
   "outputs": [],
   "source": [
    "---function TreeData:get_valid_actions(a1,a2)\n",
    "---local strategy = node.strategy:clone()\n",
    "---local indexes = get_possible_bets_indexes(self.root,node)\n",
    "action_indexes = {}\n",
    "strategy_indexes = {}\n",
    "for i = 1,a1:nElement() do\n",
    "    for j = 1,a2:nElement() do\n",
    "        if a1[i] == a2[j] then\n",
    "            action_indexes[i] = 1\n",
    "            strategy_indexes[j]= j\n",
    "            break\n",
    "        else\n",
    "            action_indexes[i] = 0\n",
    "        end\n",
    "    end\n",
    "\n",
    "end\n",
    "action_indexes = torch.Tensor(action_indexes)\n",
    "strategy_indexes = torch.Tensor(strategy_indexes)"
   ]
  },
  {
   "cell_type": "code",
   "execution_count": null,
   "metadata": {},
   "outputs": [],
   "source": [
    "node = tree.children[3]\n",
    "zero_rows= torch.Tensor(1,root.strategy:size(2)):fill(0)\n",
    "new_strategy = torch.Tensor()\n",
    "local row_to_add = 0\n",
    "local counter = 1\n",
    "for i =1,action_indexes:size(1) do\n",
    "    if action_indexes[i] >0 then\n",
    "        local strategy_row = node.strategy[counter]\n",
    "        row_to_add = strategy_row:view(1,strategy_row:nElement()):clone()\n",
    "        counter = counter +1\n",
    "    else\n",
    "        row_to_add = zero_rows    \n",
    "    end\n",
    "    new_strategy = new_strategy:cat(row_to_add,1)\n",
    "end"
   ]
  },
  {
   "cell_type": "code",
   "execution_count": null,
   "metadata": {},
   "outputs": [],
   "source": [
    "new_strategy:t()"
   ]
  },
  {
   "cell_type": "code",
   "execution_count": null,
   "metadata": {},
   "outputs": [],
   "source": [
    "tree.strategy"
   ]
  },
  {
   "cell_type": "code",
   "execution_count": null,
   "metadata": {},
   "outputs": [],
   "source": [
    "s1 = tree.strategy\n",
    "print(s1)\n",
    "s2 = tree.children[3].strategy\n",
    "print(s2)"
   ]
  },
  {
   "cell_type": "code",
   "execution_count": null,
   "metadata": {},
   "outputs": [],
   "source": [
    "card_to_string:card_to_rank(3)"
   ]
  },
  {
   "cell_type": "code",
   "execution_count": null,
   "metadata": {},
   "outputs": [],
   "source": [
    "used_hands ={}"
   ]
  },
  {
   "cell_type": "code",
   "execution_count": null,
   "metadata": {
    "collapsed": true
   },
   "outputs": [],
   "source": [
    "used_hands[1]=False\n",
    "used_hands[2]=False\n",
    "used_hands[3]=False"
   ]
  },
  {
   "cell_type": "code",
   "execution_count": null,
   "metadata": {},
   "outputs": [],
   "source": [
    "if not used_hands[1] then\n",
    "    print(\"la\")\n",
    "    used_hands[1] = true\n",
    "end"
   ]
  },
  {
   "cell_type": "code",
   "execution_count": null,
   "metadata": {
    "collapsed": true
   },
   "outputs": [],
   "source": []
  },
  {
   "cell_type": "code",
   "execution_count": null,
   "metadata": {
    "collapsed": true
   },
   "outputs": [],
   "source": []
  },
  {
   "cell_type": "code",
   "execution_count": null,
   "metadata": {},
   "outputs": [],
   "source": [
    "la = Lookahead()\n",
    "la:build_lookahead(tree)"
   ]
  },
  {
   "cell_type": "code",
   "execution_count": null,
   "metadata": {},
   "outputs": [],
   "source": [
    "---la:resolve_first_node(player_range, opponent_range)"
   ]
  },
  {
   "cell_type": "code",
   "execution_count": null,
   "metadata": {},
   "outputs": [],
   "source": [
    "lab = LookaheadBuilder(la)"
   ]
  },
  {
   "cell_type": "code",
   "execution_count": null,
   "metadata": {},
   "outputs": [],
   "source": [
    "lab:build_from_tree(params)"
   ]
  },
  {
   "cell_type": "code",
   "execution_count": null,
   "metadata": {},
   "outputs": [],
   "source": [
    "lab.lookahead.bets_count[6]"
   ]
  },
  {
   "cell_type": "code",
   "execution_count": null,
   "metadata": {},
   "outputs": [],
   "source": [
    "for i =1,#lab.lookahead.terminal_actions_count do\n",
    "    print(lab.lookahead.terminal_actions_count[i])\n",
    "    end"
   ]
  },
  {
   "cell_type": "code",
   "execution_count": null,
   "metadata": {},
   "outputs": [],
   "source": [
    "for i =1,#lab.lookahead.bets_count do\n",
    "    print(lab.lookahead.bets_count[i])\n",
    "    end"
   ]
  },
  {
   "cell_type": "code",
   "execution_count": null,
   "metadata": {},
   "outputs": [],
   "source": [
    "for i =1,#lab.lookahead.actions_count do\n",
    "    print(lab.lookahead.actions_count[i])\n",
    "    end"
   ]
  },
  {
   "cell_type": "code",
   "execution_count": null,
   "metadata": {},
   "outputs": [],
   "source": [
    "for i =1,#lab.lookahead.nonallinbets_count do\n",
    "    print(lab.lookahead.nonallinbets_count[i])\n",
    "    end"
   ]
  },
  {
   "cell_type": "code",
   "execution_count": null,
   "metadata": {},
   "outputs": [],
   "source": [
    "tree.children[2].actions"
   ]
  },
  {
   "cell_type": "code",
   "execution_count": null,
   "metadata": {},
   "outputs": [],
   "source": [
    "tree.children[2].children[4].actions"
   ]
  },
  {
   "cell_type": "code",
   "execution_count": null,
   "metadata": {
    "collapsed": true
   },
   "outputs": [],
   "source": []
  },
  {
   "cell_type": "code",
   "execution_count": null,
   "metadata": {
    "collapsed": true
   },
   "outputs": [],
   "source": []
  },
  {
   "cell_type": "code",
   "execution_count": null,
   "metadata": {
    "collapsed": true
   },
   "outputs": [],
   "source": []
  }
 ],
 "metadata": {
  "kernelspec": {
   "display_name": "iTorch",
   "language": "lua",
   "name": "itorch"
  },
  "language_info": {
   "name": "lua",
   "version": "5.2"
  }
 },
 "nbformat": 4,
 "nbformat_minor": 2
}
