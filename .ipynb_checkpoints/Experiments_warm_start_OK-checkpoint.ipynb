{
 "cells": [
  {
   "cell_type": "code",
   "execution_count": 1,
   "metadata": {
    "collapsed": true
   },
   "outputs": [],
   "source": [
    "--- Libraries:\n",
    "arguments = require 'Settings.arguments'\n",
    "constants = require 'Settings.constants'\n",
    "card_to_string = require 'Game.card_to_string_conversion'\n",
    "card_tools = require 'Game.card_tools'\n",
    "game_settings = require 'Settings.game_settings'\n",
    "Plot = require 'itorch.Plot'\n",
    "nninit = require 'nninit'\n",
    "require 'torch'\n",
    "require 'math'\n",
    "require 'Tree.tree_builder'\n",
    "require 'Tree.tree_data_generation'\n",
    "require 'Tree.tree_values'\n",
    "require 'Tree.tree_visualiser'\n",
    "require 'nn'\n",
    "require 'Tree.tree_cfr'\n",
    "require 'Tree.tree_cfr2'\n",
    "require 'nngraph'\n",
    "require 'optim'\n",
    "require 'image'\n",
    "require 'NN.strategy_net_builder'\n",
    "require 'NN.strategy_net_trainer'\n",
    "require 'Tree.tree_warm_start'\n",
    "require 'Nn.StrategyCriterion'\n",
    "\n",
    "\n",
    "\n"
   ]
  },
  {
   "cell_type": "code",
   "execution_count": 2,
   "metadata": {
    "collapsed": true
   },
   "outputs": [],
   "source": [
    "--- FUNCTIONS\n",
    "--- Comparing with 2000\n",
    "function compare_cfrs(tree_cfr1,tree_cfr2000)\n",
    "    local difference = {}\n",
    "    local table1 = tree_cfr1.total_strategies\n",
    "    local table2 = tree_cfr2000.total_strategies\n",
    "    \n",
    "    for i = 1, #table1 do\n",
    "        difference[i] = torch.sqrt(torch.sum(torch.pow((table1[i] - table2[#table2]),2)))\n",
    "    end\n",
    "    return torch.FloatTensor(difference)\n",
    "end\n",
    "--- Comparing 2000 with itself\n",
    "function get_convergence(tree_cfr)\n",
    "    local difference = {}\n",
    "    local table_cfr = tree_cfr.total_strategies\n",
    "    local end_strategy = table_cfr[#table_cfr]\n",
    "    \n",
    "    for i = 1, #table_cfr do\n",
    "        difference[i] = torch.sqrt(torch.sum(torch.pow((table_cfr[i] - end_strategy),2)))\n",
    "    end\n",
    "    return torch.FloatTensor(difference)\n",
    "end"
   ]
  },
  {
   "cell_type": "code",
   "execution_count": 3,
   "metadata": {
    "collapsed": true
   },
   "outputs": [],
   "source": [
    "--- Create the tree\n",
    "builder = PokerTreeBuilder()\n",
    "--- Parameters for the tree\n",
    "params = {}\n",
    "params.root_node = {}\n",
    "params.root_node.board = card_to_string:string_to_board('Kh')\n",
    "params.root_node.street = 2\n",
    "params.root_node.current_player = constants.players.P2\n",
    "params.root_node.bets = arguments.Tensor{200, 200}\n",
    "--- CFR Solver\n",
    "starting_ranges = arguments.Tensor(constants.players_count, game_settings.card_count)\n",
    "starting_ranges[1]:copy(card_tools:get_uniform_range(params.root_node.board))\n",
    "starting_ranges[2]:copy(card_tools:get_uniform_range(params.root_node.board))"
   ]
  },
  {
   "cell_type": "markdown",
   "metadata": {},
   "source": [
    "### 1. Exploitability for original CFR and modified CFR"
   ]
  },
  {
   "cell_type": "code",
   "execution_count": 4,
   "metadata": {},
   "outputs": [
    {
     "data": {
      "text/plain": [
       "4.4376020431519\n"
      ]
     },
     "execution_count": 4,
     "metadata": {},
     "output_type": "execute_result"
    }
   ],
   "source": [
    "--- Building CFR Solver\n",
    "tree100 = builder:build_tree(params)\n",
    "tree100_cfr = TreeCFR()\n",
    "tree100_cfr:run_cfr(tree100, starting_ranges,100)\n",
    "print(tree100.exploitability)"
   ]
  },
  {
   "cell_type": "code",
   "execution_count": 5,
   "metadata": {},
   "outputs": [
    {
     "data": {
      "text/plain": [
       "3.6448707580566\n"
      ]
     },
     "execution_count": 5,
     "metadata": {},
     "output_type": "execute_result"
    }
   ],
   "source": [
    "--- Building CFR Solver\n",
    "tree102 = builder:build_tree(params)\n",
    "tree102_cfr = TreeCFR2()\n",
    "tree102_cfr:run_cfr(tree102, starting_ranges,100)\n",
    "print(tree102.exploitability)"
   ]
  },
  {
   "cell_type": "code",
   "execution_count": 6,
   "metadata": {
    "collapsed": true
   },
   "outputs": [],
   "source": [
    "exploit_cfr100 = tree100_cfr.exploitability_vec\n",
    "exploit_cfr102 = tree102_cfr.exploitability_vec"
   ]
  },
  {
   "cell_type": "code",
   "execution_count": 7,
   "metadata": {},
   "outputs": [
    {
     "data": {
      "text/html": [
       "<script type=\"text/javascript\">\n",
       "$(function() {\n",
       "    if (typeof (window._bokeh_onload_callbacks) === \"undefined\"){\n",
       "  window._bokeh_onload_callbacks = [];\n",
       "    }\n",
       "    function load_lib(url, callback){\n",
       "  window._bokeh_onload_callbacks.push(callback);\n",
       "  if (window._bokeh_is_loading){\n",
       "      console.log(\"Bokeh: BokehJS is being loaded, scheduling callback at\", new Date());\n",
       "      return null;\n",
       "  }\n",
       "  console.log(\"Bokeh: BokehJS not loaded, scheduling load and callback at\", new Date());\n",
       "  window._bokeh_is_loading = true;\n",
       "  var s = document.createElement('script');\n",
       "  s.src = url;\n",
       "  s.async = true;\n",
       "  s.onreadystatechange = s.onload = function(){\n",
       "      Bokeh.embed.inject_css(\"https://cdn.pydata.org/bokeh-0.7.0.min.css\");\n",
       "      window._bokeh_onload_callbacks.forEach(function(callback){callback()});\n",
       "  };\n",
       "  s.onerror = function(){\n",
       "      console.warn(\"failed to load library \" + url);\n",
       "  };\n",
       "  document.getElementsByTagName(\"head\")[0].appendChild(s);\n",
       "    }\n",
       "\n",
       "    bokehjs_url = \"https://cdn.pydata.org/bokeh-0.7.0.min.js\"\n",
       "\n",
       "    var elt = document.getElementById(\"fb04eb31-f785-47b8-c7d6-d5a8baa45988\");\n",
       "    if(elt==null) {\n",
       "  console.log(\"Bokeh: ERROR: autoload.js configured with elementid 'fb04eb31-f785-47b8-c7d6-d5a8baa45988'\"\n",
       "        + \"but no matching script tag was found. \")\n",
       "  return false;\n",
       "    }\n",
       "\n",
       "    if(typeof(Bokeh) !== \"undefined\") {\n",
       "  console.log(\"Bokeh: BokehJS loaded, going straight to plotting\");\n",
       "  var modelid = \"f741121f-8628-441a-c45e-6c53b693dfc2\";\n",
       "  var modeltype = \"Plot\";\n",
       "  var all_models = [{\"id\":\"d6b363ef-9b5c-4a74-ca3d-156b784a1a37\",\"attributes\":{\"id\":\"d6b363ef-9b5c-4a74-ca3d-156b784a1a37\",\"data\":{\"y\":[150,36.715263366699,22.431365966797,15.643358230591,12.737246513367,10.30265045166,9.4708204269409,7.953408241272,7.407452583313,6.5576677322388,5.8288469314575,5.6659622192383,5.1597480773926,4.7911396026611,4.4376020431519],\"x\":[1,2,3,4,5,6,7,8,9,10,11,12,13,14,15]},\"discrete_ranges\":{},\"column_names\":[\"x\",\"y\"],\"cont_ranges\":{},\"selected\":[],\"tags\":[],\"doc\":null},\"type\":\"ColumnDataSource\"},{\"id\":\"cd87abdd-3eb6-4362-c375-3bcb7d0044aa\",\"attributes\":{\"id\":\"cd87abdd-3eb6-4362-c375-3bcb7d0044aa\",\"fill_alpha\":{\"units\":\"data\",\"value\":0.2},\"y\":{\"units\":\"data\",\"field\":\"y\"},\"fill_color\":{\"value\":\"red\"},\"x\":{\"units\":\"data\",\"field\":\"x\"},\"line_color\":{\"value\":\"red\"},\"line_alpha\":{\"units\":\"data\",\"value\":1},\"tags\":[],\"size\":{\"units\":\"screen\",\"value\":10},\"doc\":null},\"type\":\"Line\"},{\"id\":\"6c2ff622-cbf2-4b9b-cb58-4a82d3d5b954\",\"attributes\":{\"id\":\"6c2ff622-cbf2-4b9b-cb58-4a82d3d5b954\",\"fill_alpha\":{\"units\":\"data\",\"value\":0.2},\"y\":{\"units\":\"data\",\"field\":\"y\"},\"fill_color\":{\"value\":\"red\"},\"x\":{\"units\":\"data\",\"field\":\"x\"},\"line_color\":{\"value\":\"red\"},\"line_alpha\":{\"units\":\"data\",\"value\":1},\"tags\":[],\"size\":{\"units\":\"screen\",\"value\":10},\"doc\":null},\"type\":\"Line\"},{\"id\":\"cda10b0a-27c4-4f84-cf38-3416b3b47e43\",\"attributes\":{\"id\":\"cda10b0a-27c4-4f84-cf38-3416b3b47e43\",\"glyph\":{\"id\":\"cd87abdd-3eb6-4362-c375-3bcb7d0044aa\",\"type\":\"Line\"},\"nonselection_glyph\":{\"id\":\"6c2ff622-cbf2-4b9b-cb58-4a82d3d5b954\",\"type\":\"Line\"},\"selection_glyph\":null,\"server_data_source\":null,\"name\":null,\"tags\":[],\"data_source\":{\"id\":\"d6b363ef-9b5c-4a74-ca3d-156b784a1a37\",\"type\":\"ColumnDataSource\"},\"doc\":null},\"type\":\"GlyphRenderer\"},{\"id\":\"b660333b-6f78-4cfa-cc08-8608c097d254\",\"attributes\":{\"id\":\"b660333b-6f78-4cfa-cc08-8608c097d254\",\"data\":{\"y\":[150,29.393577575684,17.900430679321,12.751685142517,10.499841690063,8.2135000228882,7.7180671691895,6.7163276672363,6.0633354187012,5.467077255249,4.9374666213989,4.6703262329102,4.3098201751709,4.0962209701538,3.6448707580566],\"x\":[1,2,3,4,5,6,7,8,9,10,11,12,13,14,15]},\"discrete_ranges\":{},\"column_names\":[\"x\",\"y\"],\"cont_ranges\":{},\"selected\":[],\"tags\":[],\"doc\":null},\"type\":\"ColumnDataSource\"},{\"id\":\"3b896e67-fcf7-49de-c925-ffa377eeb0d0\",\"attributes\":{\"id\":\"3b896e67-fcf7-49de-c925-ffa377eeb0d0\",\"fill_alpha\":{\"units\":\"data\",\"value\":0.2},\"y\":{\"units\":\"data\",\"field\":\"y\"},\"fill_color\":{\"value\":\"blue\"},\"x\":{\"units\":\"data\",\"field\":\"x\"},\"line_color\":{\"value\":\"blue\"},\"line_alpha\":{\"units\":\"data\",\"value\":1},\"tags\":[],\"size\":{\"units\":\"screen\",\"value\":10},\"doc\":null},\"type\":\"Line\"},{\"id\":\"8a9228f1-d227-4a57-ca18-84058fdb84ac\",\"attributes\":{\"id\":\"8a9228f1-d227-4a57-ca18-84058fdb84ac\",\"fill_alpha\":{\"units\":\"data\",\"value\":0.2},\"y\":{\"units\":\"data\",\"field\":\"y\"},\"fill_color\":{\"value\":\"blue\"},\"x\":{\"units\":\"data\",\"field\":\"x\"},\"line_color\":{\"value\":\"blue\"},\"line_alpha\":{\"units\":\"data\",\"value\":1},\"tags\":[],\"size\":{\"units\":\"screen\",\"value\":10},\"doc\":null},\"type\":\"Line\"},{\"id\":\"bcb20531-ab58-4024-c038-61962a06b0c3\",\"attributes\":{\"id\":\"bcb20531-ab58-4024-c038-61962a06b0c3\",\"glyph\":{\"id\":\"3b896e67-fcf7-49de-c925-ffa377eeb0d0\",\"type\":\"Line\"},\"nonselection_glyph\":{\"id\":\"8a9228f1-d227-4a57-ca18-84058fdb84ac\",\"type\":\"Line\"},\"selection_glyph\":null,\"server_data_source\":null,\"name\":null,\"tags\":[],\"data_source\":{\"id\":\"b660333b-6f78-4cfa-cc08-8608c097d254\",\"type\":\"ColumnDataSource\"},\"doc\":null},\"type\":\"GlyphRenderer\"},{\"id\":\"b61396ec-ee6e-41d4-c19a-b9847d29f993\",\"attributes\":{\"id\":\"b61396ec-ee6e-41d4-c19a-b9847d29f993\",\"tags\":[],\"sources\":[{\"source\":{\"id\":\"d6b363ef-9b5c-4a74-ca3d-156b784a1a37\",\"type\":\"ColumnDataSource\"},\"columns\":[\"x\"]},{\"source\":{\"id\":\"b660333b-6f78-4cfa-cc08-8608c097d254\",\"type\":\"ColumnDataSource\"},\"columns\":[\"x\"]}],\"doc\":null},\"type\":\"DataRange1d\"},{\"id\":\"4588b2aa-188c-4caa-cc92-96702680bb08\",\"attributes\":{\"id\":\"4588b2aa-188c-4caa-cc92-96702680bb08\",\"tags\":[],\"sources\":[{\"source\":{\"id\":\"d6b363ef-9b5c-4a74-ca3d-156b784a1a37\",\"type\":\"ColumnDataSource\"},\"columns\":[\"y\"]},{\"source\":{\"id\":\"b660333b-6f78-4cfa-cc08-8608c097d254\",\"type\":\"ColumnDataSource\"},\"columns\":[\"y\"]}],\"doc\":null},\"type\":\"DataRange1d\"},{\"id\":\"0d855208-3e1b-428d-c29c-efc5837ca6b2\",\"attributes\":{\"id\":\"0d855208-3e1b-428d-c29c-efc5837ca6b2\",\"tags\":[],\"geometries\":[],\"doc\":null},\"type\":\"ToolEvents\"},{\"id\":\"687c7ab5-8846-4b47-cb87-f03c6998c8eb\",\"attributes\":{\"id\":\"687c7ab5-8846-4b47-cb87-f03c6998c8eb\",\"tags\":[],\"doc\":null},\"type\":\"BasicTickFormatter\"},{\"id\":\"aed2873a-24e6-40a6-c0ef-46db47f3811f\",\"attributes\":{\"id\":\"aed2873a-24e6-40a6-c0ef-46db47f3811f\",\"tags\":[],\"num_minor_ticks\":5,\"doc\":null},\"type\":\"BasicTicker\"},{\"id\":\"6ab36f1b-c419-4058-c0c1-56540e927c33\",\"attributes\":{\"id\":\"6ab36f1b-c419-4058-c0c1-56540e927c33\",\"axis_label\":\"Scaled number of iterations\",\"formatter\":{\"id\":\"687c7ab5-8846-4b47-cb87-f03c6998c8eb\",\"type\":\"BasicTickFormatter\"},\"ticker\":{\"id\":\"aed2873a-24e6-40a6-c0ef-46db47f3811f\",\"type\":\"BasicTicker\"},\"plot\":{\"subtype\":\"Figure\",\"id\":\"f741121f-8628-441a-c45e-6c53b693dfc2\",\"type\":\"Plot\"},\"tags\":[],\"doc\":null},\"type\":\"LinearAxis\"},{\"id\":\"1df9dd7d-5ece-4928-c926-7761e26c69a6\",\"attributes\":{\"id\":\"1df9dd7d-5ece-4928-c926-7761e26c69a6\",\"dimension\":0,\"ticker\":{\"id\":\"aed2873a-24e6-40a6-c0ef-46db47f3811f\",\"type\":\"BasicTicker\"},\"plot\":{\"subtype\":\"Figure\",\"id\":\"f741121f-8628-441a-c45e-6c53b693dfc2\",\"type\":\"Plot\"},\"tags\":[],\"doc\":null},\"type\":\"Grid\"},{\"id\":\"4e0fd0e5-ebe6-452b-c508-cd85dc46de96\",\"attributes\":{\"id\":\"4e0fd0e5-ebe6-452b-c508-cd85dc46de96\",\"tags\":[],\"doc\":null},\"type\":\"BasicTickFormatter\"},{\"id\":\"63cf86f0-6b94-4fe1-cf30-beb8e112b5e1\",\"attributes\":{\"id\":\"63cf86f0-6b94-4fe1-cf30-beb8e112b5e1\",\"tags\":[],\"num_minor_ticks\":5,\"doc\":null},\"type\":\"BasicTicker\"},{\"id\":\"5c17296a-18ac-40d0-c0c4-a2e5e07c1c60\",\"attributes\":{\"id\":\"5c17296a-18ac-40d0-c0c4-a2e5e07c1c60\",\"axis_label\":\"Exploitability\",\"formatter\":{\"id\":\"4e0fd0e5-ebe6-452b-c508-cd85dc46de96\",\"type\":\"BasicTickFormatter\"},\"ticker\":{\"id\":\"63cf86f0-6b94-4fe1-cf30-beb8e112b5e1\",\"type\":\"BasicTicker\"},\"plot\":{\"subtype\":\"Figure\",\"id\":\"f741121f-8628-441a-c45e-6c53b693dfc2\",\"type\":\"Plot\"},\"tags\":[],\"doc\":null},\"type\":\"LinearAxis\"},{\"id\":\"61b01f13-247a-453c-c5f9-a0aee85cdbcb\",\"attributes\":{\"id\":\"61b01f13-247a-453c-c5f9-a0aee85cdbcb\",\"dimension\":1,\"ticker\":{\"id\":\"63cf86f0-6b94-4fe1-cf30-beb8e112b5e1\",\"type\":\"BasicTicker\"},\"plot\":{\"subtype\":\"Figure\",\"id\":\"f741121f-8628-441a-c45e-6c53b693dfc2\",\"type\":\"Plot\"},\"tags\":[],\"doc\":null},\"type\":\"Grid\"},{\"id\":\"6d127f7b-737f-4dee-cd25-1c14f8683df6\",\"attributes\":{\"id\":\"6d127f7b-737f-4dee-cd25-1c14f8683df6\",\"dimensions\":[\"width\",\"height\"],\"plot\":{\"subtype\":\"Figure\",\"id\":\"f741121f-8628-441a-c45e-6c53b693dfc2\",\"type\":\"Plot\"},\"tags\":[],\"doc\":null},\"type\":\"PanTool\"},{\"id\":\"d5322132-5693-4095-c05e-61996d26abfe\",\"attributes\":{\"id\":\"d5322132-5693-4095-c05e-61996d26abfe\",\"dimensions\":[\"width\",\"height\"],\"plot\":{\"subtype\":\"Figure\",\"id\":\"f741121f-8628-441a-c45e-6c53b693dfc2\",\"type\":\"Plot\"},\"tags\":[],\"doc\":null},\"type\":\"WheelZoomTool\"},{\"id\":\"b267d9d1-cb5f-427a-c2a5-a5cc605b6355\",\"attributes\":{\"id\":\"b267d9d1-cb5f-427a-c2a5-a5cc605b6355\",\"tags\":[],\"plot\":{\"subtype\":\"Figure\",\"id\":\"f741121f-8628-441a-c45e-6c53b693dfc2\",\"type\":\"Plot\"},\"doc\":null},\"type\":\"BoxZoomTool\"},{\"id\":\"b1254aaa-da50-449a-c4eb-618458434ad5\",\"attributes\":{\"id\":\"b1254aaa-da50-449a-c4eb-618458434ad5\",\"tags\":[],\"plot\":{\"subtype\":\"Figure\",\"id\":\"f741121f-8628-441a-c45e-6c53b693dfc2\",\"type\":\"Plot\"},\"doc\":null},\"type\":\"PreviewSaveTool\"},{\"id\":\"1fa20c75-6027-41aa-c1cb-8f496a5283b8\",\"attributes\":{\"id\":\"1fa20c75-6027-41aa-c1cb-8f496a5283b8\",\"tags\":[],\"plot\":{\"subtype\":\"Figure\",\"id\":\"f741121f-8628-441a-c45e-6c53b693dfc2\",\"type\":\"Plot\"},\"doc\":null},\"type\":\"ResizeTool\"},{\"id\":\"d73b775f-0c12-4390-c36c-d64b2e5bef96\",\"attributes\":{\"id\":\"d73b775f-0c12-4390-c36c-d64b2e5bef96\",\"tags\":[],\"plot\":{\"subtype\":\"Figure\",\"id\":\"f741121f-8628-441a-c45e-6c53b693dfc2\",\"type\":\"Plot\"},\"doc\":null},\"type\":\"ResetTool\"},{\"id\":\"5e76a0f1-670c-4198-c1dd-211aaad594a8\",\"attributes\":{\"id\":\"5e76a0f1-670c-4198-c1dd-211aaad594a8\",\"legends\":[[\"Original\",[{\"id\":\"cda10b0a-27c4-4f84-cf38-3416b3b47e43\",\"type\":\"GlyphRenderer\"}]],[\"New CFR\",[{\"id\":\"bcb20531-ab58-4024-c038-61962a06b0c3\",\"type\":\"GlyphRenderer\"}]]],\"plot\":{\"subtype\":\"Figure\",\"id\":\"f741121f-8628-441a-c45e-6c53b693dfc2\",\"type\":\"Plot\"},\"tags\":[],\"doc\":null},\"type\":\"Legend\"},{\"id\":\"f741121f-8628-441a-c45e-6c53b693dfc2\",\"attributes\":{\"id\":\"f741121f-8628-441a-c45e-6c53b693dfc2\",\"renderers\":[{\"id\":\"cda10b0a-27c4-4f84-cf38-3416b3b47e43\",\"type\":\"GlyphRenderer\"},{\"id\":\"bcb20531-ab58-4024-c038-61962a06b0c3\",\"type\":\"GlyphRenderer\"},{\"id\":\"6ab36f1b-c419-4058-c0c1-56540e927c33\",\"type\":\"LinearAxis\"},{\"id\":\"1df9dd7d-5ece-4928-c926-7761e26c69a6\",\"type\":\"Grid\"},{\"id\":\"5c17296a-18ac-40d0-c0c4-a2e5e07c1c60\",\"type\":\"LinearAxis\"},{\"id\":\"61b01f13-247a-453c-c5f9-a0aee85cdbcb\",\"type\":\"Grid\"},{\"id\":\"5e76a0f1-670c-4198-c1dd-211aaad594a8\",\"type\":\"Legend\"}],\"above\":[],\"tool_events\":{\"id\":\"0d855208-3e1b-428d-c29c-efc5837ca6b2\",\"type\":\"ToolEvents\"},\"tools\":[{\"id\":\"6d127f7b-737f-4dee-cd25-1c14f8683df6\",\"type\":\"PanTool\"},{\"id\":\"d5322132-5693-4095-c05e-61996d26abfe\",\"type\":\"WheelZoomTool\"},{\"id\":\"b267d9d1-cb5f-427a-c2a5-a5cc605b6355\",\"type\":\"BoxZoomTool\"},{\"id\":\"b1254aaa-da50-449a-c4eb-618458434ad5\",\"type\":\"PreviewSaveTool\"},{\"id\":\"1fa20c75-6027-41aa-c1cb-8f496a5283b8\",\"type\":\"ResizeTool\"},{\"id\":\"d73b775f-0c12-4390-c36c-d64b2e5bef96\",\"type\":\"ResetTool\"}],\"left\":[{\"id\":\"5c17296a-18ac-40d0-c0c4-a2e5e07c1c60\",\"type\":\"LinearAxis\"}],\"title\":\"Exploitability of different strategies, 800 iterations\",\"extra_y_ranges\":{},\"below\":[{\"id\":\"6ab36f1b-c419-4058-c0c1-56540e927c33\",\"type\":\"LinearAxis\"}],\"right\":[],\"y_range\":{\"id\":\"4588b2aa-188c-4caa-cc92-96702680bb08\",\"type\":\"DataRange1d\"},\"extra_x_ranges\":{},\"tags\":[],\"x_range\":{\"id\":\"b61396ec-ee6e-41d4-c19a-b9847d29f993\",\"type\":\"DataRange1d\"},\"doc\":null},\"type\":\"Plot\"}];\n",
       "  Bokeh.load_models(all_models);\n",
       "  var model = Bokeh.Collections(modeltype).get(modelid);\n",
       "  $(\"#fb04eb31-f785-47b8-c7d6-d5a8baa45988\").html(''); // clear any previous plot in window_id\n",
       "  var view = new model.default_view({model: model, el: \"#fb04eb31-f785-47b8-c7d6-d5a8baa45988\"});\n",
       "    } else {\n",
       "  load_lib(bokehjs_url, function() {\n",
       "      console.log(\"Bokeh: BokehJS plotting callback run at\", new Date())\n",
       "      var modelid = \"f741121f-8628-441a-c45e-6c53b693dfc2\";\n",
       "      var modeltype = \"Plot\";\n",
       "      var all_models = [{\"id\":\"d6b363ef-9b5c-4a74-ca3d-156b784a1a37\",\"attributes\":{\"id\":\"d6b363ef-9b5c-4a74-ca3d-156b784a1a37\",\"data\":{\"y\":[150,36.715263366699,22.431365966797,15.643358230591,12.737246513367,10.30265045166,9.4708204269409,7.953408241272,7.407452583313,6.5576677322388,5.8288469314575,5.6659622192383,5.1597480773926,4.7911396026611,4.4376020431519],\"x\":[1,2,3,4,5,6,7,8,9,10,11,12,13,14,15]},\"discrete_ranges\":{},\"column_names\":[\"x\",\"y\"],\"cont_ranges\":{},\"selected\":[],\"tags\":[],\"doc\":null},\"type\":\"ColumnDataSource\"},{\"id\":\"cd87abdd-3eb6-4362-c375-3bcb7d0044aa\",\"attributes\":{\"id\":\"cd87abdd-3eb6-4362-c375-3bcb7d0044aa\",\"fill_alpha\":{\"units\":\"data\",\"value\":0.2},\"y\":{\"units\":\"data\",\"field\":\"y\"},\"fill_color\":{\"value\":\"red\"},\"x\":{\"units\":\"data\",\"field\":\"x\"},\"line_color\":{\"value\":\"red\"},\"line_alpha\":{\"units\":\"data\",\"value\":1},\"tags\":[],\"size\":{\"units\":\"screen\",\"value\":10},\"doc\":null},\"type\":\"Line\"},{\"id\":\"6c2ff622-cbf2-4b9b-cb58-4a82d3d5b954\",\"attributes\":{\"id\":\"6c2ff622-cbf2-4b9b-cb58-4a82d3d5b954\",\"fill_alpha\":{\"units\":\"data\",\"value\":0.2},\"y\":{\"units\":\"data\",\"field\":\"y\"},\"fill_color\":{\"value\":\"red\"},\"x\":{\"units\":\"data\",\"field\":\"x\"},\"line_color\":{\"value\":\"red\"},\"line_alpha\":{\"units\":\"data\",\"value\":1},\"tags\":[],\"size\":{\"units\":\"screen\",\"value\":10},\"doc\":null},\"type\":\"Line\"},{\"id\":\"cda10b0a-27c4-4f84-cf38-3416b3b47e43\",\"attributes\":{\"id\":\"cda10b0a-27c4-4f84-cf38-3416b3b47e43\",\"glyph\":{\"id\":\"cd87abdd-3eb6-4362-c375-3bcb7d0044aa\",\"type\":\"Line\"},\"nonselection_glyph\":{\"id\":\"6c2ff622-cbf2-4b9b-cb58-4a82d3d5b954\",\"type\":\"Line\"},\"selection_glyph\":null,\"server_data_source\":null,\"name\":null,\"tags\":[],\"data_source\":{\"id\":\"d6b363ef-9b5c-4a74-ca3d-156b784a1a37\",\"type\":\"ColumnDataSource\"},\"doc\":null},\"type\":\"GlyphRenderer\"},{\"id\":\"b660333b-6f78-4cfa-cc08-8608c097d254\",\"attributes\":{\"id\":\"b660333b-6f78-4cfa-cc08-8608c097d254\",\"data\":{\"y\":[150,29.393577575684,17.900430679321,12.751685142517,10.499841690063,8.2135000228882,7.7180671691895,6.7163276672363,6.0633354187012,5.467077255249,4.9374666213989,4.6703262329102,4.3098201751709,4.0962209701538,3.6448707580566],\"x\":[1,2,3,4,5,6,7,8,9,10,11,12,13,14,15]},\"discrete_ranges\":{},\"column_names\":[\"x\",\"y\"],\"cont_ranges\":{},\"selected\":[],\"tags\":[],\"doc\":null},\"type\":\"ColumnDataSource\"},{\"id\":\"3b896e67-fcf7-49de-c925-ffa377eeb0d0\",\"attributes\":{\"id\":\"3b896e67-fcf7-49de-c925-ffa377eeb0d0\",\"fill_alpha\":{\"units\":\"data\",\"value\":0.2},\"y\":{\"units\":\"data\",\"field\":\"y\"},\"fill_color\":{\"value\":\"blue\"},\"x\":{\"units\":\"data\",\"field\":\"x\"},\"line_color\":{\"value\":\"blue\"},\"line_alpha\":{\"units\":\"data\",\"value\":1},\"tags\":[],\"size\":{\"units\":\"screen\",\"value\":10},\"doc\":null},\"type\":\"Line\"},{\"id\":\"8a9228f1-d227-4a57-ca18-84058fdb84ac\",\"attributes\":{\"id\":\"8a9228f1-d227-4a57-ca18-84058fdb84ac\",\"fill_alpha\":{\"units\":\"data\",\"value\":0.2},\"y\":{\"units\":\"data\",\"field\":\"y\"},\"fill_color\":{\"value\":\"blue\"},\"x\":{\"units\":\"data\",\"field\":\"x\"},\"line_color\":{\"value\":\"blue\"},\"line_alpha\":{\"units\":\"data\",\"value\":1},\"tags\":[],\"size\":{\"units\":\"screen\",\"value\":10},\"doc\":null},\"type\":\"Line\"},{\"id\":\"bcb20531-ab58-4024-c038-61962a06b0c3\",\"attributes\":{\"id\":\"bcb20531-ab58-4024-c038-61962a06b0c3\",\"glyph\":{\"id\":\"3b896e67-fcf7-49de-c925-ffa377eeb0d0\",\"type\":\"Line\"},\"nonselection_glyph\":{\"id\":\"8a9228f1-d227-4a57-ca18-84058fdb84ac\",\"type\":\"Line\"},\"selection_glyph\":null,\"server_data_source\":null,\"name\":null,\"tags\":[],\"data_source\":{\"id\":\"b660333b-6f78-4cfa-cc08-8608c097d254\",\"type\":\"ColumnDataSource\"},\"doc\":null},\"type\":\"GlyphRenderer\"},{\"id\":\"b61396ec-ee6e-41d4-c19a-b9847d29f993\",\"attributes\":{\"id\":\"b61396ec-ee6e-41d4-c19a-b9847d29f993\",\"tags\":[],\"sources\":[{\"source\":{\"id\":\"d6b363ef-9b5c-4a74-ca3d-156b784a1a37\",\"type\":\"ColumnDataSource\"},\"columns\":[\"x\"]},{\"source\":{\"id\":\"b660333b-6f78-4cfa-cc08-8608c097d254\",\"type\":\"ColumnDataSource\"},\"columns\":[\"x\"]}],\"doc\":null},\"type\":\"DataRange1d\"},{\"id\":\"4588b2aa-188c-4caa-cc92-96702680bb08\",\"attributes\":{\"id\":\"4588b2aa-188c-4caa-cc92-96702680bb08\",\"tags\":[],\"sources\":[{\"source\":{\"id\":\"d6b363ef-9b5c-4a74-ca3d-156b784a1a37\",\"type\":\"ColumnDataSource\"},\"columns\":[\"y\"]},{\"source\":{\"id\":\"b660333b-6f78-4cfa-cc08-8608c097d254\",\"type\":\"ColumnDataSource\"},\"columns\":[\"y\"]}],\"doc\":null},\"type\":\"DataRange1d\"},{\"id\":\"0d855208-3e1b-428d-c29c-efc5837ca6b2\",\"attributes\":{\"id\":\"0d855208-3e1b-428d-c29c-efc5837ca6b2\",\"tags\":[],\"geometries\":[],\"doc\":null},\"type\":\"ToolEvents\"},{\"id\":\"687c7ab5-8846-4b47-cb87-f03c6998c8eb\",\"attributes\":{\"id\":\"687c7ab5-8846-4b47-cb87-f03c6998c8eb\",\"tags\":[],\"doc\":null},\"type\":\"BasicTickFormatter\"},{\"id\":\"aed2873a-24e6-40a6-c0ef-46db47f3811f\",\"attributes\":{\"id\":\"aed2873a-24e6-40a6-c0ef-46db47f3811f\",\"tags\":[],\"num_minor_ticks\":5,\"doc\":null},\"type\":\"BasicTicker\"},{\"id\":\"6ab36f1b-c419-4058-c0c1-56540e927c33\",\"attributes\":{\"id\":\"6ab36f1b-c419-4058-c0c1-56540e927c33\",\"axis_label\":\"Scaled number of iterations\",\"formatter\":{\"id\":\"687c7ab5-8846-4b47-cb87-f03c6998c8eb\",\"type\":\"BasicTickFormatter\"},\"ticker\":{\"id\":\"aed2873a-24e6-40a6-c0ef-46db47f3811f\",\"type\":\"BasicTicker\"},\"plot\":{\"subtype\":\"Figure\",\"id\":\"f741121f-8628-441a-c45e-6c53b693dfc2\",\"type\":\"Plot\"},\"tags\":[],\"doc\":null},\"type\":\"LinearAxis\"},{\"id\":\"1df9dd7d-5ece-4928-c926-7761e26c69a6\",\"attributes\":{\"id\":\"1df9dd7d-5ece-4928-c926-7761e26c69a6\",\"dimension\":0,\"ticker\":{\"id\":\"aed2873a-24e6-40a6-c0ef-46db47f3811f\",\"type\":\"BasicTicker\"},\"plot\":{\"subtype\":\"Figure\",\"id\":\"f741121f-8628-441a-c45e-6c53b693dfc2\",\"type\":\"Plot\"},\"tags\":[],\"doc\":null},\"type\":\"Grid\"},{\"id\":\"4e0fd0e5-ebe6-452b-c508-cd85dc46de96\",\"attributes\":{\"id\":\"4e0fd0e5-ebe6-452b-c508-cd85dc46de96\",\"tags\":[],\"doc\":null},\"type\":\"BasicTickFormatter\"},{\"id\":\"63cf86f0-6b94-4fe1-cf30-beb8e112b5e1\",\"attributes\":{\"id\":\"63cf86f0-6b94-4fe1-cf30-beb8e112b5e1\",\"tags\":[],\"num_minor_ticks\":5,\"doc\":null},\"type\":\"BasicTicker\"},{\"id\":\"5c17296a-18ac-40d0-c0c4-a2e5e07c1c60\",\"attributes\":{\"id\":\"5c17296a-18ac-40d0-c0c4-a2e5e07c1c60\",\"axis_label\":\"Exploitability\",\"formatter\":{\"id\":\"4e0fd0e5-ebe6-452b-c508-cd85dc46de96\",\"type\":\"BasicTickFormatter\"},\"ticker\":{\"id\":\"63cf86f0-6b94-4fe1-cf30-beb8e112b5e1\",\"type\":\"BasicTicker\"},\"plot\":{\"subtype\":\"Figure\",\"id\":\"f741121f-8628-441a-c45e-6c53b693dfc2\",\"type\":\"Plot\"},\"tags\":[],\"doc\":null},\"type\":\"LinearAxis\"},{\"id\":\"61b01f13-247a-453c-c5f9-a0aee85cdbcb\",\"attributes\":{\"id\":\"61b01f13-247a-453c-c5f9-a0aee85cdbcb\",\"dimension\":1,\"ticker\":{\"id\":\"63cf86f0-6b94-4fe1-cf30-beb8e112b5e1\",\"type\":\"BasicTicker\"},\"plot\":{\"subtype\":\"Figure\",\"id\":\"f741121f-8628-441a-c45e-6c53b693dfc2\",\"type\":\"Plot\"},\"tags\":[],\"doc\":null},\"type\":\"Grid\"},{\"id\":\"6d127f7b-737f-4dee-cd25-1c14f8683df6\",\"attributes\":{\"id\":\"6d127f7b-737f-4dee-cd25-1c14f8683df6\",\"dimensions\":[\"width\",\"height\"],\"plot\":{\"subtype\":\"Figure\",\"id\":\"f741121f-8628-441a-c45e-6c53b693dfc2\",\"type\":\"Plot\"},\"tags\":[],\"doc\":null},\"type\":\"PanTool\"},{\"id\":\"d5322132-5693-4095-c05e-61996d26abfe\",\"attributes\":{\"id\":\"d5322132-5693-4095-c05e-61996d26abfe\",\"dimensions\":[\"width\",\"height\"],\"plot\":{\"subtype\":\"Figure\",\"id\":\"f741121f-8628-441a-c45e-6c53b693dfc2\",\"type\":\"Plot\"},\"tags\":[],\"doc\":null},\"type\":\"WheelZoomTool\"},{\"id\":\"b267d9d1-cb5f-427a-c2a5-a5cc605b6355\",\"attributes\":{\"id\":\"b267d9d1-cb5f-427a-c2a5-a5cc605b6355\",\"tags\":[],\"plot\":{\"subtype\":\"Figure\",\"id\":\"f741121f-8628-441a-c45e-6c53b693dfc2\",\"type\":\"Plot\"},\"doc\":null},\"type\":\"BoxZoomTool\"},{\"id\":\"b1254aaa-da50-449a-c4eb-618458434ad5\",\"attributes\":{\"id\":\"b1254aaa-da50-449a-c4eb-618458434ad5\",\"tags\":[],\"plot\":{\"subtype\":\"Figure\",\"id\":\"f741121f-8628-441a-c45e-6c53b693dfc2\",\"type\":\"Plot\"},\"doc\":null},\"type\":\"PreviewSaveTool\"},{\"id\":\"1fa20c75-6027-41aa-c1cb-8f496a5283b8\",\"attributes\":{\"id\":\"1fa20c75-6027-41aa-c1cb-8f496a5283b8\",\"tags\":[],\"plot\":{\"subtype\":\"Figure\",\"id\":\"f741121f-8628-441a-c45e-6c53b693dfc2\",\"type\":\"Plot\"},\"doc\":null},\"type\":\"ResizeTool\"},{\"id\":\"d73b775f-0c12-4390-c36c-d64b2e5bef96\",\"attributes\":{\"id\":\"d73b775f-0c12-4390-c36c-d64b2e5bef96\",\"tags\":[],\"plot\":{\"subtype\":\"Figure\",\"id\":\"f741121f-8628-441a-c45e-6c53b693dfc2\",\"type\":\"Plot\"},\"doc\":null},\"type\":\"ResetTool\"},{\"id\":\"5e76a0f1-670c-4198-c1dd-211aaad594a8\",\"attributes\":{\"id\":\"5e76a0f1-670c-4198-c1dd-211aaad594a8\",\"legends\":[[\"Original\",[{\"id\":\"cda10b0a-27c4-4f84-cf38-3416b3b47e43\",\"type\":\"GlyphRenderer\"}]],[\"New CFR\",[{\"id\":\"bcb20531-ab58-4024-c038-61962a06b0c3\",\"type\":\"GlyphRenderer\"}]]],\"plot\":{\"subtype\":\"Figure\",\"id\":\"f741121f-8628-441a-c45e-6c53b693dfc2\",\"type\":\"Plot\"},\"tags\":[],\"doc\":null},\"type\":\"Legend\"},{\"id\":\"f741121f-8628-441a-c45e-6c53b693dfc2\",\"attributes\":{\"id\":\"f741121f-8628-441a-c45e-6c53b693dfc2\",\"renderers\":[{\"id\":\"cda10b0a-27c4-4f84-cf38-3416b3b47e43\",\"type\":\"GlyphRenderer\"},{\"id\":\"bcb20531-ab58-4024-c038-61962a06b0c3\",\"type\":\"GlyphRenderer\"},{\"id\":\"6ab36f1b-c419-4058-c0c1-56540e927c33\",\"type\":\"LinearAxis\"},{\"id\":\"1df9dd7d-5ece-4928-c926-7761e26c69a6\",\"type\":\"Grid\"},{\"id\":\"5c17296a-18ac-40d0-c0c4-a2e5e07c1c60\",\"type\":\"LinearAxis\"},{\"id\":\"61b01f13-247a-453c-c5f9-a0aee85cdbcb\",\"type\":\"Grid\"},{\"id\":\"5e76a0f1-670c-4198-c1dd-211aaad594a8\",\"type\":\"Legend\"}],\"above\":[],\"tool_events\":{\"id\":\"0d855208-3e1b-428d-c29c-efc5837ca6b2\",\"type\":\"ToolEvents\"},\"tools\":[{\"id\":\"6d127f7b-737f-4dee-cd25-1c14f8683df6\",\"type\":\"PanTool\"},{\"id\":\"d5322132-5693-4095-c05e-61996d26abfe\",\"type\":\"WheelZoomTool\"},{\"id\":\"b267d9d1-cb5f-427a-c2a5-a5cc605b6355\",\"type\":\"BoxZoomTool\"},{\"id\":\"b1254aaa-da50-449a-c4eb-618458434ad5\",\"type\":\"PreviewSaveTool\"},{\"id\":\"1fa20c75-6027-41aa-c1cb-8f496a5283b8\",\"type\":\"ResizeTool\"},{\"id\":\"d73b775f-0c12-4390-c36c-d64b2e5bef96\",\"type\":\"ResetTool\"}],\"left\":[{\"id\":\"5c17296a-18ac-40d0-c0c4-a2e5e07c1c60\",\"type\":\"LinearAxis\"}],\"title\":\"Exploitability of different strategies, 800 iterations\",\"extra_y_ranges\":{},\"below\":[{\"id\":\"6ab36f1b-c419-4058-c0c1-56540e927c33\",\"type\":\"LinearAxis\"}],\"right\":[],\"y_range\":{\"id\":\"4588b2aa-188c-4caa-cc92-96702680bb08\",\"type\":\"DataRange1d\"},\"extra_x_ranges\":{},\"tags\":[],\"x_range\":{\"id\":\"b61396ec-ee6e-41d4-c19a-b9847d29f993\",\"type\":\"DataRange1d\"},\"doc\":null},\"type\":\"Plot\"}];\n",
       "      Bokeh.load_models(all_models);\n",
       "      var model = Bokeh.Collections(modeltype).get(modelid);\n",
       "      $(\"#fb04eb31-f785-47b8-c7d6-d5a8baa45988\").html(''); // clear any previous plot in window_id\n",
       "      var view = new model.default_view({model: model, el: \"#fb04eb31-f785-47b8-c7d6-d5a8baa45988\"});\n",
       "  });\n",
       "    }\n",
       "});\n",
       "</script>\n",
       "<div class=\"plotdiv\" id=\"fb04eb31-f785-47b8-c7d6-d5a8baa45988\"></div>\n"
      ]
     },
     "metadata": {},
     "output_type": "display_data"
    }
   ],
   "source": [
    "local num_iter = torch.range(1,exploit_cfr100:size(1))\n",
    "local plot = Plot()\n",
    "\n",
    "plot:line(num_iter,exploit_cfr100,'red' ,'Original')\n",
    "plot:line(num_iter,exploit_cfr102,'blue' ,'New CFR')\n",
    "plot:legend(true):title('Exploitability of different strategies, 800 iterations')\n",
    "plot:xaxis('Scaled number of iterations'):yaxis('Exploitability'):redraw()\n"
   ]
  },
  {
   "cell_type": "markdown",
   "metadata": {},
   "source": [
    "### 2. Exploitability for different Strategies"
   ]
  },
  {
   "cell_type": "code",
   "execution_count": 8,
   "metadata": {
    "collapsed": true
   },
   "outputs": [],
   "source": [
    "number_of_iterations = 200"
   ]
  },
  {
   "cell_type": "code",
   "execution_count": 9,
   "metadata": {
    "collapsed": true
   },
   "outputs": [],
   "source": [
    "--- Get Data from 2000 iterations\n",
    "tree800 = builder:build_tree(params)\n",
    "tree_data800 = TreeData(tree800)\n",
    "tree800_cfr = TreeCFR()\n",
    "tree800_cfr:run_cfr(tree800, starting_ranges,number_of_iterations)\n",
    "tree_data800:get_training_set(tree800,1)"
   ]
  },
  {
   "cell_type": "markdown",
   "metadata": {},
   "source": [
    "### Training the Model"
   ]
  },
  {
   "cell_type": "code",
   "execution_count": 10,
   "metadata": {
    "collapsed": true
   },
   "outputs": [],
   "source": [
    "-- Building the neural net model\n",
    "strategy_nn = StrategyNN()\n",
    "nn_model = strategy_nn.model\n",
    "-- Building trainer:\n",
    "nn_trainer = NNTrainer(tree_data800,nn_model)\n",
    "-- Options:\n",
    "opt = {}\n",
    "opt.learningRate = 0.001\n",
    "opt.momentum = 0.95\n",
    "opt.validate = false"
   ]
  },
  {
   "cell_type": "code",
   "execution_count": 11,
   "metadata": {
    "collapsed": true
   },
   "outputs": [],
   "source": [
    "current_criterion = StrategyLoss()---nn.SmoothL1Criterion()\n",
    "train_loss,test_loss = nn_trainer:train(nn_model,current_criterion,opt,10000)"
   ]
  },
  {
   "cell_type": "code",
   "execution_count": 12,
   "metadata": {},
   "outputs": [
    {
     "data": {
      "text/plain": [
       "0.00099879202389275\n"
      ]
     },
     "execution_count": 12,
     "metadata": {},
     "output_type": "execute_result"
    }
   ],
   "source": [
    "pred_strat = nn_model:forward({nn_trainer.all_data.features,nn_trainer.all_data.masks})\n",
    "true_strat =nn_trainer.all_data.targets\n",
    "print(torch.mean(torch.abs(pred_strat- true_strat)))"
   ]
  },
  {
   "cell_type": "markdown",
   "metadata": {},
   "source": [
    "### No Warm Start"
   ]
  },
  {
   "cell_type": "code",
   "execution_count": 13,
   "metadata": {
    "collapsed": true
   },
   "outputs": [],
   "source": [
    "--- Building CFR Solver\n",
    "treeNoWarm = builder:build_tree(params)\n",
    "treeNoWarm_cfr = TreeCFR2()\n",
    "treeNoWarm_cfr:run_cfr(treeNoWarm, starting_ranges,number_of_iterations)"
   ]
  },
  {
   "cell_type": "markdown",
   "metadata": {},
   "source": [
    "### Neural Net Start "
   ]
  },
  {
   "cell_type": "code",
   "execution_count": 32,
   "metadata": {
    "collapsed": true
   },
   "outputs": [],
   "source": [
    "--- NNWarm Starting\n",
    "treeNNWarm = builder:build_tree(params)\n",
    "dataNN = TreeData(treeNNWarm)\n",
    "dataNN:get_training_set(treeNNWarm,1)\n",
    "dataNN:generate_new_initial_strategies(treeNNWarm,nn_trainer)\n",
    "---Warm start the regrets:\n",
    "dataNN:warm_start_regrets(treeNNWarm,tree800)\n",
    "---tree_warm_start = TreeWarmStart()\n",
    "---tree_warm_start:run_warm_start(treeNNWarm, starting_ranges,80)\n",
    "--- Building CFR Solver\n",
    "treeNNWarm_cfr = TreeCFR2()\n",
    "treeNNWarm_cfr:run_cfr(treeNNWarm, starting_ranges,number_of_iterations)"
   ]
  },
  {
   "cell_type": "code",
   "execution_count": 33,
   "metadata": {
    "collapsed": true
   },
   "outputs": [],
   "source": [
    "---tree_warm_start = TreeWarmStart()\n",
    "---tree_warm_start:run_warm_start(treeNNWarm, starting_ranges,80)"
   ]
  },
  {
   "cell_type": "code",
   "execution_count": 34,
   "metadata": {
    "collapsed": true
   },
   "outputs": [],
   "source": [
    "--- NNWarm Starting\n",
    "treeNN_NoRegWarm = builder:build_tree(params)\n",
    "dataNN_NoReg = TreeData(treeNN_NoRegWarm)\n",
    "dataNN_NoReg:get_training_set(treeNN_NoRegWarm,1)\n",
    "dataNN_NoReg:generate_new_initial_strategies(treeNN_NoRegWarm,nn_trainer)\n",
    "---Warm start the regrets:\n",
    "---dataNN:warm_start_regrets(treeNN_NoRegWarm,tree800)\n",
    "--- Building CFR Solver\n",
    "treeNN_NoRegWarm_cfr = TreeCFR2()\n",
    "treeNN_NoRegWarm_cfr:run_cfr(treeNN_NoRegWarm, starting_ranges,number_of_iterations)"
   ]
  },
  {
   "cell_type": "markdown",
   "metadata": {},
   "source": [
    "### Target Warm Start "
   ]
  },
  {
   "cell_type": "code",
   "execution_count": 35,
   "metadata": {
    "collapsed": true
   },
   "outputs": [],
   "source": [
    "--- Target Warm Starting\n",
    "treeTarRegWarm = builder:build_tree(params)\n",
    "dataTargReg = TreeData(treeTarRegWarm)\n",
    "---dataTarg:get_training_set(treeTargWarm,1)\n",
    "---dataTarg:warm_start_targets(treeTargWarm,tree800)\n",
    "---dataTarg:warm_start_regrets(treeTargWarm,tree800)\n",
    "---tree_warm_start = TreeWarmStart()\n",
    "---tree_warm_start:run_warm_start(treeTargWarm, starting_ranges,number_of_iterations)\n",
    "dataTargReg:warm_start_targets_and_regrets(treeTarRegWarm,tree800)\n",
    "--- Building CFR Solver\n",
    "treeTarRegWarm_cfr = TreeCFR2()\n",
    "treeTarRegWarm_cfr:run_cfr(treeTarRegWarm, starting_ranges,number_of_iterations)"
   ]
  },
  {
   "cell_type": "code",
   "execution_count": 36,
   "metadata": {
    "collapsed": true
   },
   "outputs": [],
   "source": [
    "--- Target Warm Starting\n",
    "treeTarWarm = builder:build_tree(params)\n",
    "dataTarg = TreeData(treeTarWarm)\n",
    "dataTarg:warm_start_targets(treeTarWarm,tree800)\n",
    "--- Building CFR Solver\n",
    "treeTarWarm_cfr = TreeCFR2()\n",
    "treeTarWarm_cfr:run_cfr(treeTarWarm, starting_ranges,number_of_iterations)"
   ]
  },
  {
   "cell_type": "code",
   "execution_count": 37,
   "metadata": {
    "collapsed": true
   },
   "outputs": [],
   "source": [
    "--- Target Warm Starting\n",
    "treeRegWarm = builder:build_tree(params)\n",
    "dataReg = TreeData(treeRegWarm)\n",
    "dataReg:warm_start_regrets(treeRegWarm,tree800)\n",
    "--- Building CFR Solver\n",
    "treeRegWarm_cfr = TreeCFR2()\n",
    "treeRegWarm_cfr:run_cfr(treeRegWarm, starting_ranges,number_of_iterations)"
   ]
  },
  {
   "cell_type": "markdown",
   "metadata": {},
   "source": [
    "### Plot different starts"
   ]
  },
  {
   "cell_type": "code",
   "execution_count": 38,
   "metadata": {
    "collapsed": true
   },
   "outputs": [],
   "source": [
    "exploit_unif = tree800_cfr.exploitability_vec\n",
    "exploit_NoW = treeNoWarm_cfr.exploitability_vec\n",
    "exploit_NNW = treeNNWarm_cfr.exploitability_vec\n",
    "exploit_NN_NoReg = treeNN_NoRegWarm_cfr.exploitability_vec\n",
    "exploit_TarRegW = treeTarRegWarm_cfr.exploitability_vec\n",
    "exploit_TarW = treeTarWarm_cfr.exploitability_vec\n",
    "exploit_RegW = treeRegWarm_cfr.exploitability_vec"
   ]
  },
  {
   "cell_type": "code",
   "execution_count": 44,
   "metadata": {},
   "outputs": [
    {
     "data": {
      "text/html": [
       "<script type=\"text/javascript\">\n",
       "$(function() {\n",
       "    if (typeof (window._bokeh_onload_callbacks) === \"undefined\"){\n",
       "  window._bokeh_onload_callbacks = [];\n",
       "    }\n",
       "    function load_lib(url, callback){\n",
       "  window._bokeh_onload_callbacks.push(callback);\n",
       "  if (window._bokeh_is_loading){\n",
       "      console.log(\"Bokeh: BokehJS is being loaded, scheduling callback at\", new Date());\n",
       "      return null;\n",
       "  }\n",
       "  console.log(\"Bokeh: BokehJS not loaded, scheduling load and callback at\", new Date());\n",
       "  window._bokeh_is_loading = true;\n",
       "  var s = document.createElement('script');\n",
       "  s.src = url;\n",
       "  s.async = true;\n",
       "  s.onreadystatechange = s.onload = function(){\n",
       "      Bokeh.embed.inject_css(\"https://cdn.pydata.org/bokeh-0.7.0.min.css\");\n",
       "      window._bokeh_onload_callbacks.forEach(function(callback){callback()});\n",
       "  };\n",
       "  s.onerror = function(){\n",
       "      console.warn(\"failed to load library \" + url);\n",
       "  };\n",
       "  document.getElementsByTagName(\"head\")[0].appendChild(s);\n",
       "    }\n",
       "\n",
       "    bokehjs_url = \"https://cdn.pydata.org/bokeh-0.7.0.min.js\"\n",
       "\n",
       "    var elt = document.getElementById(\"73d6ab14-4bc6-4a6f-ca13-42e3b4f73249\");\n",
       "    if(elt==null) {\n",
       "  console.log(\"Bokeh: ERROR: autoload.js configured with elementid '73d6ab14-4bc6-4a6f-ca13-42e3b4f73249'\"\n",
       "        + \"but no matching script tag was found. \")\n",
       "  return false;\n",
       "    }\n",
       "\n",
       "    if(typeof(Bokeh) !== \"undefined\") {\n",
       "  console.log(\"Bokeh: BokehJS loaded, going straight to plotting\");\n",
       "  var modelid = \"4afaf0c3-eea8-4926-c91c-015f33597d21\";\n",
       "  var modeltype = \"Plot\";\n",
       "  var all_models = [{\"id\":\"c458aadf-629c-4118-c11c-f4f75285b8ea\",\"attributes\":{\"id\":\"c458aadf-629c-4118-c11c-f4f75285b8ea\",\"data\":{\"y\":[150,22.431365966797,12.737246513367,9.4708204269409,7.407452583313,5.8288469314575,5.1597480773926,4.4376020431519,4.1616926193237,3.8038730621338,3.4493055343628,3.2544631958008,2.9868650436401,2.7921772003174,2.6643857955933],\"x\":[1,2,3,4,5,6,7,8,9,10,11,12,13,14,15]},\"discrete_ranges\":{},\"column_names\":[\"x\",\"y\"],\"cont_ranges\":{},\"selected\":[],\"tags\":[],\"doc\":null},\"type\":\"ColumnDataSource\"},{\"id\":\"5b0b4931-1130-4f70-cf11-e0166026d0a6\",\"attributes\":{\"id\":\"5b0b4931-1130-4f70-cf11-e0166026d0a6\",\"fill_alpha\":{\"units\":\"data\",\"value\":0.2},\"y\":{\"units\":\"data\",\"field\":\"y\"},\"fill_color\":{\"value\":\"black\"},\"x\":{\"units\":\"data\",\"field\":\"x\"},\"line_color\":{\"value\":\"black\"},\"line_alpha\":{\"units\":\"data\",\"value\":1},\"tags\":[],\"size\":{\"units\":\"screen\",\"value\":10},\"doc\":null},\"type\":\"Line\"},{\"id\":\"a8b1cb1b-dd05-4277-c242-c5a5df12173a\",\"attributes\":{\"id\":\"a8b1cb1b-dd05-4277-c242-c5a5df12173a\",\"fill_alpha\":{\"units\":\"data\",\"value\":0.2},\"y\":{\"units\":\"data\",\"field\":\"y\"},\"fill_color\":{\"value\":\"black\"},\"x\":{\"units\":\"data\",\"field\":\"x\"},\"line_color\":{\"value\":\"black\"},\"line_alpha\":{\"units\":\"data\",\"value\":1},\"tags\":[],\"size\":{\"units\":\"screen\",\"value\":10},\"doc\":null},\"type\":\"Line\"},{\"id\":\"3d4e7e51-1094-4906-c943-7d7d1ad800f3\",\"attributes\":{\"id\":\"3d4e7e51-1094-4906-c943-7d7d1ad800f3\",\"glyph\":{\"id\":\"5b0b4931-1130-4f70-cf11-e0166026d0a6\",\"type\":\"Line\"},\"nonselection_glyph\":{\"id\":\"a8b1cb1b-dd05-4277-c242-c5a5df12173a\",\"type\":\"Line\"},\"selection_glyph\":null,\"server_data_source\":null,\"name\":null,\"tags\":[],\"data_source\":{\"id\":\"c458aadf-629c-4118-c11c-f4f75285b8ea\",\"type\":\"ColumnDataSource\"},\"doc\":null},\"type\":\"GlyphRenderer\"},{\"id\":\"cbce5530-670f-473a-c748-4bdc82b7df38\",\"attributes\":{\"id\":\"cbce5530-670f-473a-c748-4bdc82b7df38\",\"data\":{\"y\":[2.4630479812622,8.0845127105713,1.6282558441162,1.6342277526855,1.9284811019897,0.3493127822876,1.6823625564575,0.63417720794678,0.74802494049072,1.145092010498,0.44933795928955,0.87950706481934,0.75679683685303,0.32767581939697,0.85378837585449],\"x\":[1,2,3,4,5,6,7,8,9,10,11,12,13,14,15]},\"discrete_ranges\":{},\"column_names\":[\"x\",\"y\"],\"cont_ranges\":{},\"selected\":[],\"tags\":[],\"doc\":null},\"type\":\"ColumnDataSource\"},{\"id\":\"be9aff5f-2ff4-4e1f-ce3d-bf8eafd6b508\",\"attributes\":{\"id\":\"be9aff5f-2ff4-4e1f-ce3d-bf8eafd6b508\",\"fill_alpha\":{\"units\":\"data\",\"value\":0.2},\"y\":{\"units\":\"data\",\"field\":\"y\"},\"fill_color\":{\"value\":\"blue\"},\"x\":{\"units\":\"data\",\"field\":\"x\"},\"line_color\":{\"value\":\"blue\"},\"line_alpha\":{\"units\":\"data\",\"value\":1},\"tags\":[],\"size\":{\"units\":\"screen\",\"value\":10},\"doc\":null},\"type\":\"Line\"},{\"id\":\"3dd55482-4a47-40d2-c031-3d8abc312066\",\"attributes\":{\"id\":\"3dd55482-4a47-40d2-c031-3d8abc312066\",\"fill_alpha\":{\"units\":\"data\",\"value\":0.2},\"y\":{\"units\":\"data\",\"field\":\"y\"},\"fill_color\":{\"value\":\"blue\"},\"x\":{\"units\":\"data\",\"field\":\"x\"},\"line_color\":{\"value\":\"blue\"},\"line_alpha\":{\"units\":\"data\",\"value\":1},\"tags\":[],\"size\":{\"units\":\"screen\",\"value\":10},\"doc\":null},\"type\":\"Line\"},{\"id\":\"ea71b693-ba25-4092-c0ce-b6bae8355f7d\",\"attributes\":{\"id\":\"ea71b693-ba25-4092-c0ce-b6bae8355f7d\",\"glyph\":{\"id\":\"be9aff5f-2ff4-4e1f-ce3d-bf8eafd6b508\",\"type\":\"Line\"},\"nonselection_glyph\":{\"id\":\"3dd55482-4a47-40d2-c031-3d8abc312066\",\"type\":\"Line\"},\"selection_glyph\":null,\"server_data_source\":null,\"name\":null,\"tags\":[],\"data_source\":{\"id\":\"cbce5530-670f-473a-c748-4bdc82b7df38\",\"type\":\"ColumnDataSource\"},\"doc\":null},\"type\":\"GlyphRenderer\"},{\"id\":\"a86d8b6b-f487-4b99-cb2d-c6dcaaf403df\",\"attributes\":{\"id\":\"a86d8b6b-f487-4b99-cb2d-c6dcaaf403df\",\"data\":{\"y\":[2.4630479812622,23.669212341309,12.621776580811,7.8623142242432,6.5223827362061,4.9926261901855,4.6303644180298,3.8712034225464,3.6611814498901,3.0587091445923,2.993766784668,2.4523515701294,2.6471548080444,2.3302984237671,2.3536357879639],\"x\":[1,2,3,4,5,6,7,8,9,10,11,12,13,14,15]},\"discrete_ranges\":{},\"column_names\":[\"x\",\"y\"],\"cont_ranges\":{},\"selected\":[],\"tags\":[],\"doc\":null},\"type\":\"ColumnDataSource\"},{\"id\":\"c60ed08d-a293-4687-c691-0560b375f1e7\",\"attributes\":{\"id\":\"c60ed08d-a293-4687-c691-0560b375f1e7\",\"fill_alpha\":{\"units\":\"data\",\"value\":0.2},\"y\":{\"units\":\"data\",\"field\":\"y\"},\"fill_color\":{\"value\":\"pink\"},\"x\":{\"units\":\"data\",\"field\":\"x\"},\"line_color\":{\"value\":\"pink\"},\"line_alpha\":{\"units\":\"data\",\"value\":1},\"tags\":[],\"size\":{\"units\":\"screen\",\"value\":10},\"doc\":null},\"type\":\"Line\"},{\"id\":\"077e6cfc-10f0-46ee-c6d9-05ea634205b3\",\"attributes\":{\"id\":\"077e6cfc-10f0-46ee-c6d9-05ea634205b3\",\"fill_alpha\":{\"units\":\"data\",\"value\":0.2},\"y\":{\"units\":\"data\",\"field\":\"y\"},\"fill_color\":{\"value\":\"pink\"},\"x\":{\"units\":\"data\",\"field\":\"x\"},\"line_color\":{\"value\":\"pink\"},\"line_alpha\":{\"units\":\"data\",\"value\":1},\"tags\":[],\"size\":{\"units\":\"screen\",\"value\":10},\"doc\":null},\"type\":\"Line\"},{\"id\":\"2f21391c-5818-4261-c2a4-e879f0ed4d59\",\"attributes\":{\"id\":\"2f21391c-5818-4261-c2a4-e879f0ed4d59\",\"glyph\":{\"id\":\"c60ed08d-a293-4687-c691-0560b375f1e7\",\"type\":\"Line\"},\"nonselection_glyph\":{\"id\":\"077e6cfc-10f0-46ee-c6d9-05ea634205b3\",\"type\":\"Line\"},\"selection_glyph\":null,\"server_data_source\":null,\"name\":null,\"tags\":[],\"data_source\":{\"id\":\"a86d8b6b-f487-4b99-cb2d-c6dcaaf403df\",\"type\":\"ColumnDataSource\"},\"doc\":null},\"type\":\"GlyphRenderer\"},{\"id\":\"81afaba5-5ef3-4808-c83a-abb050d11b2c\",\"attributes\":{\"id\":\"81afaba5-5ef3-4808-c83a-abb050d11b2c\",\"tags\":[],\"sources\":[{\"source\":{\"id\":\"c458aadf-629c-4118-c11c-f4f75285b8ea\",\"type\":\"ColumnDataSource\"},\"columns\":[\"x\"]},{\"source\":{\"id\":\"cbce5530-670f-473a-c748-4bdc82b7df38\",\"type\":\"ColumnDataSource\"},\"columns\":[\"x\"]},{\"source\":{\"id\":\"a86d8b6b-f487-4b99-cb2d-c6dcaaf403df\",\"type\":\"ColumnDataSource\"},\"columns\":[\"x\"]}],\"doc\":null},\"type\":\"DataRange1d\"},{\"id\":\"d72c2095-4923-49bf-c9fe-2768a3f50519\",\"attributes\":{\"id\":\"d72c2095-4923-49bf-c9fe-2768a3f50519\",\"tags\":[],\"sources\":[{\"source\":{\"id\":\"c458aadf-629c-4118-c11c-f4f75285b8ea\",\"type\":\"ColumnDataSource\"},\"columns\":[\"y\"]},{\"source\":{\"id\":\"cbce5530-670f-473a-c748-4bdc82b7df38\",\"type\":\"ColumnDataSource\"},\"columns\":[\"y\"]},{\"source\":{\"id\":\"a86d8b6b-f487-4b99-cb2d-c6dcaaf403df\",\"type\":\"ColumnDataSource\"},\"columns\":[\"y\"]}],\"doc\":null},\"type\":\"DataRange1d\"},{\"id\":\"de94c1c1-e42c-48a3-c882-dfcdb52c400e\",\"attributes\":{\"id\":\"de94c1c1-e42c-48a3-c882-dfcdb52c400e\",\"tags\":[],\"geometries\":[],\"doc\":null},\"type\":\"ToolEvents\"},{\"id\":\"19e84cc8-c742-4bb9-cbc0-f8a96d1eb1f1\",\"attributes\":{\"id\":\"19e84cc8-c742-4bb9-cbc0-f8a96d1eb1f1\",\"tags\":[],\"doc\":null},\"type\":\"BasicTickFormatter\"},{\"id\":\"2dfc159c-29fc-40b3-c0dc-e128ad3de800\",\"attributes\":{\"id\":\"2dfc159c-29fc-40b3-c0dc-e128ad3de800\",\"tags\":[],\"num_minor_ticks\":5,\"doc\":null},\"type\":\"BasicTicker\"},{\"id\":\"5cf35fc5-e18b-4d8f-cd15-de7380f78aff\",\"attributes\":{\"id\":\"5cf35fc5-e18b-4d8f-cd15-de7380f78aff\",\"axis_label\":\"Scaled number of iterations\",\"formatter\":{\"id\":\"19e84cc8-c742-4bb9-cbc0-f8a96d1eb1f1\",\"type\":\"BasicTickFormatter\"},\"ticker\":{\"id\":\"2dfc159c-29fc-40b3-c0dc-e128ad3de800\",\"type\":\"BasicTicker\"},\"plot\":{\"subtype\":\"Figure\",\"id\":\"4afaf0c3-eea8-4926-c91c-015f33597d21\",\"type\":\"Plot\"},\"tags\":[],\"doc\":null},\"type\":\"LinearAxis\"},{\"id\":\"4d101750-79cf-437d-c300-c86e3e3e054e\",\"attributes\":{\"id\":\"4d101750-79cf-437d-c300-c86e3e3e054e\",\"dimension\":0,\"ticker\":{\"id\":\"2dfc159c-29fc-40b3-c0dc-e128ad3de800\",\"type\":\"BasicTicker\"},\"plot\":{\"subtype\":\"Figure\",\"id\":\"4afaf0c3-eea8-4926-c91c-015f33597d21\",\"type\":\"Plot\"},\"tags\":[],\"doc\":null},\"type\":\"Grid\"},{\"id\":\"82a0c706-eb8e-4856-c8c0-982c038171a5\",\"attributes\":{\"id\":\"82a0c706-eb8e-4856-c8c0-982c038171a5\",\"tags\":[],\"doc\":null},\"type\":\"BasicTickFormatter\"},{\"id\":\"d5ebc4b5-cfa4-46e9-c648-4271e42b7f18\",\"attributes\":{\"id\":\"d5ebc4b5-cfa4-46e9-c648-4271e42b7f18\",\"tags\":[],\"num_minor_ticks\":5,\"doc\":null},\"type\":\"BasicTicker\"},{\"id\":\"ec558afb-3891-4d4e-cd5c-2e7e5aacdb41\",\"attributes\":{\"id\":\"ec558afb-3891-4d4e-cd5c-2e7e5aacdb41\",\"axis_label\":\"Exploitability\",\"formatter\":{\"id\":\"82a0c706-eb8e-4856-c8c0-982c038171a5\",\"type\":\"BasicTickFormatter\"},\"ticker\":{\"id\":\"d5ebc4b5-cfa4-46e9-c648-4271e42b7f18\",\"type\":\"BasicTicker\"},\"plot\":{\"subtype\":\"Figure\",\"id\":\"4afaf0c3-eea8-4926-c91c-015f33597d21\",\"type\":\"Plot\"},\"tags\":[],\"doc\":null},\"type\":\"LinearAxis\"},{\"id\":\"241e58a8-d850-4d15-cd3b-7378c4033bcc\",\"attributes\":{\"id\":\"241e58a8-d850-4d15-cd3b-7378c4033bcc\",\"dimension\":1,\"ticker\":{\"id\":\"d5ebc4b5-cfa4-46e9-c648-4271e42b7f18\",\"type\":\"BasicTicker\"},\"plot\":{\"subtype\":\"Figure\",\"id\":\"4afaf0c3-eea8-4926-c91c-015f33597d21\",\"type\":\"Plot\"},\"tags\":[],\"doc\":null},\"type\":\"Grid\"},{\"id\":\"daae56da-a97c-45ca-c5af-cfaddafa27df\",\"attributes\":{\"id\":\"daae56da-a97c-45ca-c5af-cfaddafa27df\",\"dimensions\":[\"width\",\"height\"],\"plot\":{\"subtype\":\"Figure\",\"id\":\"4afaf0c3-eea8-4926-c91c-015f33597d21\",\"type\":\"Plot\"},\"tags\":[],\"doc\":null},\"type\":\"PanTool\"},{\"id\":\"8216224f-aa41-4f95-cf23-a519aad21a57\",\"attributes\":{\"id\":\"8216224f-aa41-4f95-cf23-a519aad21a57\",\"dimensions\":[\"width\",\"height\"],\"plot\":{\"subtype\":\"Figure\",\"id\":\"4afaf0c3-eea8-4926-c91c-015f33597d21\",\"type\":\"Plot\"},\"tags\":[],\"doc\":null},\"type\":\"WheelZoomTool\"},{\"id\":\"b4302da8-1759-4db0-cd34-e9fd6092b5fe\",\"attributes\":{\"id\":\"b4302da8-1759-4db0-cd34-e9fd6092b5fe\",\"tags\":[],\"plot\":{\"subtype\":\"Figure\",\"id\":\"4afaf0c3-eea8-4926-c91c-015f33597d21\",\"type\":\"Plot\"},\"doc\":null},\"type\":\"BoxZoomTool\"},{\"id\":\"6cea250a-d041-48d6-c87e-1add8b4d6763\",\"attributes\":{\"id\":\"6cea250a-d041-48d6-c87e-1add8b4d6763\",\"tags\":[],\"plot\":{\"subtype\":\"Figure\",\"id\":\"4afaf0c3-eea8-4926-c91c-015f33597d21\",\"type\":\"Plot\"},\"doc\":null},\"type\":\"PreviewSaveTool\"},{\"id\":\"514d8ccd-6355-4ff0-cfec-314408fcff54\",\"attributes\":{\"id\":\"514d8ccd-6355-4ff0-cfec-314408fcff54\",\"tags\":[],\"plot\":{\"subtype\":\"Figure\",\"id\":\"4afaf0c3-eea8-4926-c91c-015f33597d21\",\"type\":\"Plot\"},\"doc\":null},\"type\":\"ResizeTool\"},{\"id\":\"8a616b8f-1329-46a4-c66d-68f860215674\",\"attributes\":{\"id\":\"8a616b8f-1329-46a4-c66d-68f860215674\",\"tags\":[],\"plot\":{\"subtype\":\"Figure\",\"id\":\"4afaf0c3-eea8-4926-c91c-015f33597d21\",\"type\":\"Plot\"},\"doc\":null},\"type\":\"ResetTool\"},{\"id\":\"d678bd83-b927-4aba-caa4-e0fd83ed919a\",\"attributes\":{\"id\":\"d678bd83-b927-4aba-caa4-e0fd83ed919a\",\"legends\":[[\"No Warm start CFR = Uniform warm start\",[{\"id\":\"3d4e7e51-1094-4906-c943-7d7d1ad800f3\",\"type\":\"GlyphRenderer\"}]],[\"Neural Net warm start CFR\",[{\"id\":\"ea71b693-ba25-4092-c0ce-b6bae8355f7d\",\"type\":\"GlyphRenderer\"}]],[\"Neural Net warm start CFR no Regrets\",[{\"id\":\"2f21391c-5818-4261-c2a4-e879f0ed4d59\",\"type\":\"GlyphRenderer\"}]]],\"plot\":{\"subtype\":\"Figure\",\"id\":\"4afaf0c3-eea8-4926-c91c-015f33597d21\",\"type\":\"Plot\"},\"tags\":[],\"doc\":null},\"type\":\"Legend\"},{\"id\":\"4afaf0c3-eea8-4926-c91c-015f33597d21\",\"attributes\":{\"id\":\"4afaf0c3-eea8-4926-c91c-015f33597d21\",\"renderers\":[{\"id\":\"3d4e7e51-1094-4906-c943-7d7d1ad800f3\",\"type\":\"GlyphRenderer\"},{\"id\":\"ea71b693-ba25-4092-c0ce-b6bae8355f7d\",\"type\":\"GlyphRenderer\"},{\"id\":\"2f21391c-5818-4261-c2a4-e879f0ed4d59\",\"type\":\"GlyphRenderer\"},{\"id\":\"5cf35fc5-e18b-4d8f-cd15-de7380f78aff\",\"type\":\"LinearAxis\"},{\"id\":\"4d101750-79cf-437d-c300-c86e3e3e054e\",\"type\":\"Grid\"},{\"id\":\"ec558afb-3891-4d4e-cd5c-2e7e5aacdb41\",\"type\":\"LinearAxis\"},{\"id\":\"241e58a8-d850-4d15-cd3b-7378c4033bcc\",\"type\":\"Grid\"},{\"id\":\"d678bd83-b927-4aba-caa4-e0fd83ed919a\",\"type\":\"Legend\"}],\"above\":[],\"tool_events\":{\"id\":\"de94c1c1-e42c-48a3-c882-dfcdb52c400e\",\"type\":\"ToolEvents\"},\"tools\":[{\"id\":\"daae56da-a97c-45ca-c5af-cfaddafa27df\",\"type\":\"PanTool\"},{\"id\":\"8216224f-aa41-4f95-cf23-a519aad21a57\",\"type\":\"WheelZoomTool\"},{\"id\":\"b4302da8-1759-4db0-cd34-e9fd6092b5fe\",\"type\":\"BoxZoomTool\"},{\"id\":\"6cea250a-d041-48d6-c87e-1add8b4d6763\",\"type\":\"PreviewSaveTool\"},{\"id\":\"514d8ccd-6355-4ff0-cfec-314408fcff54\",\"type\":\"ResizeTool\"},{\"id\":\"8a616b8f-1329-46a4-c66d-68f860215674\",\"type\":\"ResetTool\"}],\"left\":[{\"id\":\"ec558afb-3891-4d4e-cd5c-2e7e5aacdb41\",\"type\":\"LinearAxis\"}],\"title\":\"Exploitability of different strategies, 800 iterations\",\"extra_y_ranges\":{},\"below\":[{\"id\":\"5cf35fc5-e18b-4d8f-cd15-de7380f78aff\",\"type\":\"LinearAxis\"}],\"right\":[],\"y_range\":{\"id\":\"d72c2095-4923-49bf-c9fe-2768a3f50519\",\"type\":\"DataRange1d\"},\"extra_x_ranges\":{},\"tags\":[],\"x_range\":{\"id\":\"81afaba5-5ef3-4808-c83a-abb050d11b2c\",\"type\":\"DataRange1d\"},\"doc\":null},\"type\":\"Plot\"}];\n",
       "  Bokeh.load_models(all_models);\n",
       "  var model = Bokeh.Collections(modeltype).get(modelid);\n",
       "  $(\"#73d6ab14-4bc6-4a6f-ca13-42e3b4f73249\").html(''); // clear any previous plot in window_id\n",
       "  var view = new model.default_view({model: model, el: \"#73d6ab14-4bc6-4a6f-ca13-42e3b4f73249\"});\n",
       "    } else {\n",
       "  load_lib(bokehjs_url, function() {\n",
       "      console.log(\"Bokeh: BokehJS plotting callback run at\", new Date())\n",
       "      var modelid = \"4afaf0c3-eea8-4926-c91c-015f33597d21\";\n",
       "      var modeltype = \"Plot\";\n",
       "      var all_models = [{\"id\":\"c458aadf-629c-4118-c11c-f4f75285b8ea\",\"attributes\":{\"id\":\"c458aadf-629c-4118-c11c-f4f75285b8ea\",\"data\":{\"y\":[150,22.431365966797,12.737246513367,9.4708204269409,7.407452583313,5.8288469314575,5.1597480773926,4.4376020431519,4.1616926193237,3.8038730621338,3.4493055343628,3.2544631958008,2.9868650436401,2.7921772003174,2.6643857955933],\"x\":[1,2,3,4,5,6,7,8,9,10,11,12,13,14,15]},\"discrete_ranges\":{},\"column_names\":[\"x\",\"y\"],\"cont_ranges\":{},\"selected\":[],\"tags\":[],\"doc\":null},\"type\":\"ColumnDataSource\"},{\"id\":\"5b0b4931-1130-4f70-cf11-e0166026d0a6\",\"attributes\":{\"id\":\"5b0b4931-1130-4f70-cf11-e0166026d0a6\",\"fill_alpha\":{\"units\":\"data\",\"value\":0.2},\"y\":{\"units\":\"data\",\"field\":\"y\"},\"fill_color\":{\"value\":\"black\"},\"x\":{\"units\":\"data\",\"field\":\"x\"},\"line_color\":{\"value\":\"black\"},\"line_alpha\":{\"units\":\"data\",\"value\":1},\"tags\":[],\"size\":{\"units\":\"screen\",\"value\":10},\"doc\":null},\"type\":\"Line\"},{\"id\":\"a8b1cb1b-dd05-4277-c242-c5a5df12173a\",\"attributes\":{\"id\":\"a8b1cb1b-dd05-4277-c242-c5a5df12173a\",\"fill_alpha\":{\"units\":\"data\",\"value\":0.2},\"y\":{\"units\":\"data\",\"field\":\"y\"},\"fill_color\":{\"value\":\"black\"},\"x\":{\"units\":\"data\",\"field\":\"x\"},\"line_color\":{\"value\":\"black\"},\"line_alpha\":{\"units\":\"data\",\"value\":1},\"tags\":[],\"size\":{\"units\":\"screen\",\"value\":10},\"doc\":null},\"type\":\"Line\"},{\"id\":\"3d4e7e51-1094-4906-c943-7d7d1ad800f3\",\"attributes\":{\"id\":\"3d4e7e51-1094-4906-c943-7d7d1ad800f3\",\"glyph\":{\"id\":\"5b0b4931-1130-4f70-cf11-e0166026d0a6\",\"type\":\"Line\"},\"nonselection_glyph\":{\"id\":\"a8b1cb1b-dd05-4277-c242-c5a5df12173a\",\"type\":\"Line\"},\"selection_glyph\":null,\"server_data_source\":null,\"name\":null,\"tags\":[],\"data_source\":{\"id\":\"c458aadf-629c-4118-c11c-f4f75285b8ea\",\"type\":\"ColumnDataSource\"},\"doc\":null},\"type\":\"GlyphRenderer\"},{\"id\":\"cbce5530-670f-473a-c748-4bdc82b7df38\",\"attributes\":{\"id\":\"cbce5530-670f-473a-c748-4bdc82b7df38\",\"data\":{\"y\":[2.4630479812622,8.0845127105713,1.6282558441162,1.6342277526855,1.9284811019897,0.3493127822876,1.6823625564575,0.63417720794678,0.74802494049072,1.145092010498,0.44933795928955,0.87950706481934,0.75679683685303,0.32767581939697,0.85378837585449],\"x\":[1,2,3,4,5,6,7,8,9,10,11,12,13,14,15]},\"discrete_ranges\":{},\"column_names\":[\"x\",\"y\"],\"cont_ranges\":{},\"selected\":[],\"tags\":[],\"doc\":null},\"type\":\"ColumnDataSource\"},{\"id\":\"be9aff5f-2ff4-4e1f-ce3d-bf8eafd6b508\",\"attributes\":{\"id\":\"be9aff5f-2ff4-4e1f-ce3d-bf8eafd6b508\",\"fill_alpha\":{\"units\":\"data\",\"value\":0.2},\"y\":{\"units\":\"data\",\"field\":\"y\"},\"fill_color\":{\"value\":\"blue\"},\"x\":{\"units\":\"data\",\"field\":\"x\"},\"line_color\":{\"value\":\"blue\"},\"line_alpha\":{\"units\":\"data\",\"value\":1},\"tags\":[],\"size\":{\"units\":\"screen\",\"value\":10},\"doc\":null},\"type\":\"Line\"},{\"id\":\"3dd55482-4a47-40d2-c031-3d8abc312066\",\"attributes\":{\"id\":\"3dd55482-4a47-40d2-c031-3d8abc312066\",\"fill_alpha\":{\"units\":\"data\",\"value\":0.2},\"y\":{\"units\":\"data\",\"field\":\"y\"},\"fill_color\":{\"value\":\"blue\"},\"x\":{\"units\":\"data\",\"field\":\"x\"},\"line_color\":{\"value\":\"blue\"},\"line_alpha\":{\"units\":\"data\",\"value\":1},\"tags\":[],\"size\":{\"units\":\"screen\",\"value\":10},\"doc\":null},\"type\":\"Line\"},{\"id\":\"ea71b693-ba25-4092-c0ce-b6bae8355f7d\",\"attributes\":{\"id\":\"ea71b693-ba25-4092-c0ce-b6bae8355f7d\",\"glyph\":{\"id\":\"be9aff5f-2ff4-4e1f-ce3d-bf8eafd6b508\",\"type\":\"Line\"},\"nonselection_glyph\":{\"id\":\"3dd55482-4a47-40d2-c031-3d8abc312066\",\"type\":\"Line\"},\"selection_glyph\":null,\"server_data_source\":null,\"name\":null,\"tags\":[],\"data_source\":{\"id\":\"cbce5530-670f-473a-c748-4bdc82b7df38\",\"type\":\"ColumnDataSource\"},\"doc\":null},\"type\":\"GlyphRenderer\"},{\"id\":\"a86d8b6b-f487-4b99-cb2d-c6dcaaf403df\",\"attributes\":{\"id\":\"a86d8b6b-f487-4b99-cb2d-c6dcaaf403df\",\"data\":{\"y\":[2.4630479812622,23.669212341309,12.621776580811,7.8623142242432,6.5223827362061,4.9926261901855,4.6303644180298,3.8712034225464,3.6611814498901,3.0587091445923,2.993766784668,2.4523515701294,2.6471548080444,2.3302984237671,2.3536357879639],\"x\":[1,2,3,4,5,6,7,8,9,10,11,12,13,14,15]},\"discrete_ranges\":{},\"column_names\":[\"x\",\"y\"],\"cont_ranges\":{},\"selected\":[],\"tags\":[],\"doc\":null},\"type\":\"ColumnDataSource\"},{\"id\":\"c60ed08d-a293-4687-c691-0560b375f1e7\",\"attributes\":{\"id\":\"c60ed08d-a293-4687-c691-0560b375f1e7\",\"fill_alpha\":{\"units\":\"data\",\"value\":0.2},\"y\":{\"units\":\"data\",\"field\":\"y\"},\"fill_color\":{\"value\":\"pink\"},\"x\":{\"units\":\"data\",\"field\":\"x\"},\"line_color\":{\"value\":\"pink\"},\"line_alpha\":{\"units\":\"data\",\"value\":1},\"tags\":[],\"size\":{\"units\":\"screen\",\"value\":10},\"doc\":null},\"type\":\"Line\"},{\"id\":\"077e6cfc-10f0-46ee-c6d9-05ea634205b3\",\"attributes\":{\"id\":\"077e6cfc-10f0-46ee-c6d9-05ea634205b3\",\"fill_alpha\":{\"units\":\"data\",\"value\":0.2},\"y\":{\"units\":\"data\",\"field\":\"y\"},\"fill_color\":{\"value\":\"pink\"},\"x\":{\"units\":\"data\",\"field\":\"x\"},\"line_color\":{\"value\":\"pink\"},\"line_alpha\":{\"units\":\"data\",\"value\":1},\"tags\":[],\"size\":{\"units\":\"screen\",\"value\":10},\"doc\":null},\"type\":\"Line\"},{\"id\":\"2f21391c-5818-4261-c2a4-e879f0ed4d59\",\"attributes\":{\"id\":\"2f21391c-5818-4261-c2a4-e879f0ed4d59\",\"glyph\":{\"id\":\"c60ed08d-a293-4687-c691-0560b375f1e7\",\"type\":\"Line\"},\"nonselection_glyph\":{\"id\":\"077e6cfc-10f0-46ee-c6d9-05ea634205b3\",\"type\":\"Line\"},\"selection_glyph\":null,\"server_data_source\":null,\"name\":null,\"tags\":[],\"data_source\":{\"id\":\"a86d8b6b-f487-4b99-cb2d-c6dcaaf403df\",\"type\":\"ColumnDataSource\"},\"doc\":null},\"type\":\"GlyphRenderer\"},{\"id\":\"81afaba5-5ef3-4808-c83a-abb050d11b2c\",\"attributes\":{\"id\":\"81afaba5-5ef3-4808-c83a-abb050d11b2c\",\"tags\":[],\"sources\":[{\"source\":{\"id\":\"c458aadf-629c-4118-c11c-f4f75285b8ea\",\"type\":\"ColumnDataSource\"},\"columns\":[\"x\"]},{\"source\":{\"id\":\"cbce5530-670f-473a-c748-4bdc82b7df38\",\"type\":\"ColumnDataSource\"},\"columns\":[\"x\"]},{\"source\":{\"id\":\"a86d8b6b-f487-4b99-cb2d-c6dcaaf403df\",\"type\":\"ColumnDataSource\"},\"columns\":[\"x\"]}],\"doc\":null},\"type\":\"DataRange1d\"},{\"id\":\"d72c2095-4923-49bf-c9fe-2768a3f50519\",\"attributes\":{\"id\":\"d72c2095-4923-49bf-c9fe-2768a3f50519\",\"tags\":[],\"sources\":[{\"source\":{\"id\":\"c458aadf-629c-4118-c11c-f4f75285b8ea\",\"type\":\"ColumnDataSource\"},\"columns\":[\"y\"]},{\"source\":{\"id\":\"cbce5530-670f-473a-c748-4bdc82b7df38\",\"type\":\"ColumnDataSource\"},\"columns\":[\"y\"]},{\"source\":{\"id\":\"a86d8b6b-f487-4b99-cb2d-c6dcaaf403df\",\"type\":\"ColumnDataSource\"},\"columns\":[\"y\"]}],\"doc\":null},\"type\":\"DataRange1d\"},{\"id\":\"de94c1c1-e42c-48a3-c882-dfcdb52c400e\",\"attributes\":{\"id\":\"de94c1c1-e42c-48a3-c882-dfcdb52c400e\",\"tags\":[],\"geometries\":[],\"doc\":null},\"type\":\"ToolEvents\"},{\"id\":\"19e84cc8-c742-4bb9-cbc0-f8a96d1eb1f1\",\"attributes\":{\"id\":\"19e84cc8-c742-4bb9-cbc0-f8a96d1eb1f1\",\"tags\":[],\"doc\":null},\"type\":\"BasicTickFormatter\"},{\"id\":\"2dfc159c-29fc-40b3-c0dc-e128ad3de800\",\"attributes\":{\"id\":\"2dfc159c-29fc-40b3-c0dc-e128ad3de800\",\"tags\":[],\"num_minor_ticks\":5,\"doc\":null},\"type\":\"BasicTicker\"},{\"id\":\"5cf35fc5-e18b-4d8f-cd15-de7380f78aff\",\"attributes\":{\"id\":\"5cf35fc5-e18b-4d8f-cd15-de7380f78aff\",\"axis_label\":\"Scaled number of iterations\",\"formatter\":{\"id\":\"19e84cc8-c742-4bb9-cbc0-f8a96d1eb1f1\",\"type\":\"BasicTickFormatter\"},\"ticker\":{\"id\":\"2dfc159c-29fc-40b3-c0dc-e128ad3de800\",\"type\":\"BasicTicker\"},\"plot\":{\"subtype\":\"Figure\",\"id\":\"4afaf0c3-eea8-4926-c91c-015f33597d21\",\"type\":\"Plot\"},\"tags\":[],\"doc\":null},\"type\":\"LinearAxis\"},{\"id\":\"4d101750-79cf-437d-c300-c86e3e3e054e\",\"attributes\":{\"id\":\"4d101750-79cf-437d-c300-c86e3e3e054e\",\"dimension\":0,\"ticker\":{\"id\":\"2dfc159c-29fc-40b3-c0dc-e128ad3de800\",\"type\":\"BasicTicker\"},\"plot\":{\"subtype\":\"Figure\",\"id\":\"4afaf0c3-eea8-4926-c91c-015f33597d21\",\"type\":\"Plot\"},\"tags\":[],\"doc\":null},\"type\":\"Grid\"},{\"id\":\"82a0c706-eb8e-4856-c8c0-982c038171a5\",\"attributes\":{\"id\":\"82a0c706-eb8e-4856-c8c0-982c038171a5\",\"tags\":[],\"doc\":null},\"type\":\"BasicTickFormatter\"},{\"id\":\"d5ebc4b5-cfa4-46e9-c648-4271e42b7f18\",\"attributes\":{\"id\":\"d5ebc4b5-cfa4-46e9-c648-4271e42b7f18\",\"tags\":[],\"num_minor_ticks\":5,\"doc\":null},\"type\":\"BasicTicker\"},{\"id\":\"ec558afb-3891-4d4e-cd5c-2e7e5aacdb41\",\"attributes\":{\"id\":\"ec558afb-3891-4d4e-cd5c-2e7e5aacdb41\",\"axis_label\":\"Exploitability\",\"formatter\":{\"id\":\"82a0c706-eb8e-4856-c8c0-982c038171a5\",\"type\":\"BasicTickFormatter\"},\"ticker\":{\"id\":\"d5ebc4b5-cfa4-46e9-c648-4271e42b7f18\",\"type\":\"BasicTicker\"},\"plot\":{\"subtype\":\"Figure\",\"id\":\"4afaf0c3-eea8-4926-c91c-015f33597d21\",\"type\":\"Plot\"},\"tags\":[],\"doc\":null},\"type\":\"LinearAxis\"},{\"id\":\"241e58a8-d850-4d15-cd3b-7378c4033bcc\",\"attributes\":{\"id\":\"241e58a8-d850-4d15-cd3b-7378c4033bcc\",\"dimension\":1,\"ticker\":{\"id\":\"d5ebc4b5-cfa4-46e9-c648-4271e42b7f18\",\"type\":\"BasicTicker\"},\"plot\":{\"subtype\":\"Figure\",\"id\":\"4afaf0c3-eea8-4926-c91c-015f33597d21\",\"type\":\"Plot\"},\"tags\":[],\"doc\":null},\"type\":\"Grid\"},{\"id\":\"daae56da-a97c-45ca-c5af-cfaddafa27df\",\"attributes\":{\"id\":\"daae56da-a97c-45ca-c5af-cfaddafa27df\",\"dimensions\":[\"width\",\"height\"],\"plot\":{\"subtype\":\"Figure\",\"id\":\"4afaf0c3-eea8-4926-c91c-015f33597d21\",\"type\":\"Plot\"},\"tags\":[],\"doc\":null},\"type\":\"PanTool\"},{\"id\":\"8216224f-aa41-4f95-cf23-a519aad21a57\",\"attributes\":{\"id\":\"8216224f-aa41-4f95-cf23-a519aad21a57\",\"dimensions\":[\"width\",\"height\"],\"plot\":{\"subtype\":\"Figure\",\"id\":\"4afaf0c3-eea8-4926-c91c-015f33597d21\",\"type\":\"Plot\"},\"tags\":[],\"doc\":null},\"type\":\"WheelZoomTool\"},{\"id\":\"b4302da8-1759-4db0-cd34-e9fd6092b5fe\",\"attributes\":{\"id\":\"b4302da8-1759-4db0-cd34-e9fd6092b5fe\",\"tags\":[],\"plot\":{\"subtype\":\"Figure\",\"id\":\"4afaf0c3-eea8-4926-c91c-015f33597d21\",\"type\":\"Plot\"},\"doc\":null},\"type\":\"BoxZoomTool\"},{\"id\":\"6cea250a-d041-48d6-c87e-1add8b4d6763\",\"attributes\":{\"id\":\"6cea250a-d041-48d6-c87e-1add8b4d6763\",\"tags\":[],\"plot\":{\"subtype\":\"Figure\",\"id\":\"4afaf0c3-eea8-4926-c91c-015f33597d21\",\"type\":\"Plot\"},\"doc\":null},\"type\":\"PreviewSaveTool\"},{\"id\":\"514d8ccd-6355-4ff0-cfec-314408fcff54\",\"attributes\":{\"id\":\"514d8ccd-6355-4ff0-cfec-314408fcff54\",\"tags\":[],\"plot\":{\"subtype\":\"Figure\",\"id\":\"4afaf0c3-eea8-4926-c91c-015f33597d21\",\"type\":\"Plot\"},\"doc\":null},\"type\":\"ResizeTool\"},{\"id\":\"8a616b8f-1329-46a4-c66d-68f860215674\",\"attributes\":{\"id\":\"8a616b8f-1329-46a4-c66d-68f860215674\",\"tags\":[],\"plot\":{\"subtype\":\"Figure\",\"id\":\"4afaf0c3-eea8-4926-c91c-015f33597d21\",\"type\":\"Plot\"},\"doc\":null},\"type\":\"ResetTool\"},{\"id\":\"d678bd83-b927-4aba-caa4-e0fd83ed919a\",\"attributes\":{\"id\":\"d678bd83-b927-4aba-caa4-e0fd83ed919a\",\"legends\":[[\"No Warm start CFR = Uniform warm start\",[{\"id\":\"3d4e7e51-1094-4906-c943-7d7d1ad800f3\",\"type\":\"GlyphRenderer\"}]],[\"Neural Net warm start CFR\",[{\"id\":\"ea71b693-ba25-4092-c0ce-b6bae8355f7d\",\"type\":\"GlyphRenderer\"}]],[\"Neural Net warm start CFR no Regrets\",[{\"id\":\"2f21391c-5818-4261-c2a4-e879f0ed4d59\",\"type\":\"GlyphRenderer\"}]]],\"plot\":{\"subtype\":\"Figure\",\"id\":\"4afaf0c3-eea8-4926-c91c-015f33597d21\",\"type\":\"Plot\"},\"tags\":[],\"doc\":null},\"type\":\"Legend\"},{\"id\":\"4afaf0c3-eea8-4926-c91c-015f33597d21\",\"attributes\":{\"id\":\"4afaf0c3-eea8-4926-c91c-015f33597d21\",\"renderers\":[{\"id\":\"3d4e7e51-1094-4906-c943-7d7d1ad800f3\",\"type\":\"GlyphRenderer\"},{\"id\":\"ea71b693-ba25-4092-c0ce-b6bae8355f7d\",\"type\":\"GlyphRenderer\"},{\"id\":\"2f21391c-5818-4261-c2a4-e879f0ed4d59\",\"type\":\"GlyphRenderer\"},{\"id\":\"5cf35fc5-e18b-4d8f-cd15-de7380f78aff\",\"type\":\"LinearAxis\"},{\"id\":\"4d101750-79cf-437d-c300-c86e3e3e054e\",\"type\":\"Grid\"},{\"id\":\"ec558afb-3891-4d4e-cd5c-2e7e5aacdb41\",\"type\":\"LinearAxis\"},{\"id\":\"241e58a8-d850-4d15-cd3b-7378c4033bcc\",\"type\":\"Grid\"},{\"id\":\"d678bd83-b927-4aba-caa4-e0fd83ed919a\",\"type\":\"Legend\"}],\"above\":[],\"tool_events\":{\"id\":\"de94c1c1-e42c-48a3-c882-dfcdb52c400e\",\"type\":\"ToolEvents\"},\"tools\":[{\"id\":\"daae56da-a97c-45ca-c5af-cfaddafa27df\",\"type\":\"PanTool\"},{\"id\":\"8216224f-aa41-4f95-cf23-a519aad21a57\",\"type\":\"WheelZoomTool\"},{\"id\":\"b4302da8-1759-4db0-cd34-e9fd6092b5fe\",\"type\":\"BoxZoomTool\"},{\"id\":\"6cea250a-d041-48d6-c87e-1add8b4d6763\",\"type\":\"PreviewSaveTool\"},{\"id\":\"514d8ccd-6355-4ff0-cfec-314408fcff54\",\"type\":\"ResizeTool\"},{\"id\":\"8a616b8f-1329-46a4-c66d-68f860215674\",\"type\":\"ResetTool\"}],\"left\":[{\"id\":\"ec558afb-3891-4d4e-cd5c-2e7e5aacdb41\",\"type\":\"LinearAxis\"}],\"title\":\"Exploitability of different strategies, 800 iterations\",\"extra_y_ranges\":{},\"below\":[{\"id\":\"5cf35fc5-e18b-4d8f-cd15-de7380f78aff\",\"type\":\"LinearAxis\"}],\"right\":[],\"y_range\":{\"id\":\"d72c2095-4923-49bf-c9fe-2768a3f50519\",\"type\":\"DataRange1d\"},\"extra_x_ranges\":{},\"tags\":[],\"x_range\":{\"id\":\"81afaba5-5ef3-4808-c83a-abb050d11b2c\",\"type\":\"DataRange1d\"},\"doc\":null},\"type\":\"Plot\"}];\n",
       "      Bokeh.load_models(all_models);\n",
       "      var model = Bokeh.Collections(modeltype).get(modelid);\n",
       "      $(\"#73d6ab14-4bc6-4a6f-ca13-42e3b4f73249\").html(''); // clear any previous plot in window_id\n",
       "      var view = new model.default_view({model: model, el: \"#73d6ab14-4bc6-4a6f-ca13-42e3b4f73249\"});\n",
       "  });\n",
       "    }\n",
       "});\n",
       "</script>\n",
       "<div class=\"plotdiv\" id=\"73d6ab14-4bc6-4a6f-ca13-42e3b4f73249\"></div>\n"
      ]
     },
     "metadata": {},
     "output_type": "display_data"
    }
   ],
   "source": [
    "local num_iter = torch.range(1,exploit_NoW:size(1))\n",
    "local plot = Plot()\n",
    "\n",
    "plot:line(num_iter,exploit_unif,'black' ,'No Warm start CFR = Uniform warm start')\n",
    "---plot:line(num_iter,exploit_NoW,'red' ,'No Warm start CFR = Uniform warm start')\n",
    "plot:line(num_iter,exploit_NNW,'blue' ,'Neural Net warm start CFR')\n",
    "plot:line(num_iter,exploit_NN_NoReg,'pink' ,'Neural Net warm start CFR no Regrets')\n",
    "---plot:line(num_iter,exploit_TarRegW,'green' ,'Warm start target and regrets')\n",
    "---plot:line(num_iter,exploit_TarW,'orange' ,'Warm start only targets')\n",
    "---plot:line(num_iter,exploit_RegW,'pink' ,'Warm start with target values')\n",
    "plot:legend(true):title('Exploitability of different strategies, 800 iterations')\n",
    "plot:xaxis('Scaled number of iterations'):yaxis('Exploitability'):redraw()\n"
   ]
  },
  {
   "cell_type": "markdown",
   "metadata": {},
   "source": [
    "### Graphical Comparaison"
   ]
  },
  {
   "cell_type": "markdown",
   "metadata": {},
   "source": [
    "### 3. Comparaision with 2000 CFR2"
   ]
  },
  {
   "cell_type": "code",
   "execution_count": 22,
   "metadata": {
    "collapsed": true
   },
   "outputs": [],
   "source": [
    "--- Get Data from 2000 iterations\n",
    "tree802 = builder:build_tree(params)\n",
    "tree_data802 = TreeData(tree802)\n",
    "tree802_cfr = TreeCFR2()\n",
    "tree802_cfr:run_cfr(tree802, starting_ranges,number_of_iterations)\n",
    "tree_data802:get_training_set(tree802,1)"
   ]
  },
  {
   "cell_type": "code",
   "execution_count": 23,
   "metadata": {
    "collapsed": true
   },
   "outputs": [],
   "source": [
    "-- Building the neural net model\n",
    "strategy_nn2 = StrategyNN()\n",
    "nn_model2 = strategy_nn2.model\n",
    "-- Building trainer:\n",
    "nn_trainer2 = NNTrainer(tree_data802,nn_model2)\n",
    "-- Options:\n",
    "opt = {}\n",
    "opt.learningRate = 0.001\n",
    "opt.momentum = 0.95\n",
    "opt.validate = false"
   ]
  },
  {
   "cell_type": "code",
   "execution_count": 24,
   "metadata": {
    "collapsed": true
   },
   "outputs": [],
   "source": [
    "current_criterion2 = nn.SmoothL1Criterion()\n",
    "train_loss,test_loss = nn_trainer:train(nn_model2,current_criterion2,opt,10000)"
   ]
  },
  {
   "cell_type": "code",
   "execution_count": 25,
   "metadata": {
    "collapsed": true
   },
   "outputs": [],
   "source": [
    "--- No Warm Start\n",
    "treeNoWarm2 = builder:build_tree(params)\n",
    "treeNoWarm_cfr2 = TreeCFR2()\n",
    "treeNoWarm_cfr2:run_cfr(treeNoWarm2, starting_ranges,number_of_iterations)"
   ]
  },
  {
   "cell_type": "code",
   "execution_count": 26,
   "metadata": {
    "collapsed": true
   },
   "outputs": [],
   "source": [
    "--- NNWarm Starting\n",
    "treeNNWarm2 = builder:build_tree(params)\n",
    "dataNN2 = TreeData(treeNNWarm2)\n",
    "dataNN2:get_training_set(treeNNWarm2,1)\n",
    "dataNN2:generate_new_initial_strategies(treeNNWarm2,nn_trainer2)"
   ]
  },
  {
   "cell_type": "code",
   "execution_count": 27,
   "metadata": {
    "collapsed": true
   },
   "outputs": [],
   "source": [
    "--- NNWarm CFR Solver\n",
    "treeNNWarm_cfr2 = TreeCFR2()\n",
    "treeNNWarm_cfr2:run_cfr(treeNNWarm2, starting_ranges,number_of_iterations)"
   ]
  },
  {
   "cell_type": "code",
   "execution_count": 28,
   "metadata": {
    "collapsed": true
   },
   "outputs": [],
   "source": [
    "--- Target Warm Starting\n",
    "treeTargWarm2 = builder:build_tree(params)\n",
    "dataTarg2 = TreeData(treeTargWarm2)\n",
    "dataTarg2:get_training_set(treeTargWarm2,1)\n",
    "dataTarg2:warm_start_targets(treeTargWarm2,tree802)"
   ]
  },
  {
   "cell_type": "code",
   "execution_count": 29,
   "metadata": {
    "collapsed": true
   },
   "outputs": [],
   "source": [
    "--- Building CFR Solver\n",
    "treeTargWarm_cfr2 = TreeCFR2()\n",
    "treeTargWarm_cfr2:run_cfr(treeTargWarm2, starting_ranges,number_of_iterations)"
   ]
  },
  {
   "cell_type": "code",
   "execution_count": 30,
   "metadata": {
    "collapsed": true
   },
   "outputs": [],
   "source": [
    "exploit_unif2 = tree802_cfr.exploitability_vec\n",
    "exploit_NoW2 = treeNoWarm_cfr2.exploitability_vec\n",
    "exploit_NNW2 = treeNNWarm_cfr2.exploitability_vec\n",
    "exploit_TargW2 = treeTargWarm_cfr2.exploitability_vec"
   ]
  },
  {
   "cell_type": "code",
   "execution_count": 31,
   "metadata": {},
   "outputs": [
    {
     "data": {
      "text/html": [
       "<script type=\"text/javascript\">\n",
       "$(function() {\n",
       "    if (typeof (window._bokeh_onload_callbacks) === \"undefined\"){\n",
       "  window._bokeh_onload_callbacks = [];\n",
       "    }\n",
       "    function load_lib(url, callback){\n",
       "  window._bokeh_onload_callbacks.push(callback);\n",
       "  if (window._bokeh_is_loading){\n",
       "      console.log(\"Bokeh: BokehJS is being loaded, scheduling callback at\", new Date());\n",
       "      return null;\n",
       "  }\n",
       "  console.log(\"Bokeh: BokehJS not loaded, scheduling load and callback at\", new Date());\n",
       "  window._bokeh_is_loading = true;\n",
       "  var s = document.createElement('script');\n",
       "  s.src = url;\n",
       "  s.async = true;\n",
       "  s.onreadystatechange = s.onload = function(){\n",
       "      Bokeh.embed.inject_css(\"https://cdn.pydata.org/bokeh-0.7.0.min.css\");\n",
       "      window._bokeh_onload_callbacks.forEach(function(callback){callback()});\n",
       "  };\n",
       "  s.onerror = function(){\n",
       "      console.warn(\"failed to load library \" + url);\n",
       "  };\n",
       "  document.getElementsByTagName(\"head\")[0].appendChild(s);\n",
       "    }\n",
       "\n",
       "    bokehjs_url = \"https://cdn.pydata.org/bokeh-0.7.0.min.js\"\n",
       "\n",
       "    var elt = document.getElementById(\"de81e847-c7c5-432d-c35a-42b2c4fed59a\");\n",
       "    if(elt==null) {\n",
       "  console.log(\"Bokeh: ERROR: autoload.js configured with elementid 'de81e847-c7c5-432d-c35a-42b2c4fed59a'\"\n",
       "        + \"but no matching script tag was found. \")\n",
       "  return false;\n",
       "    }\n",
       "\n",
       "    if(typeof(Bokeh) !== \"undefined\") {\n",
       "  console.log(\"Bokeh: BokehJS loaded, going straight to plotting\");\n",
       "  var modelid = \"fb6d1801-de73-4970-c9ac-058d5068c87e\";\n",
       "  var modeltype = \"Plot\";\n",
       "  var all_models = [{\"id\":\"8a4b8edd-5f55-46dd-c61c-460394de9e17\",\"attributes\":{\"id\":\"8a4b8edd-5f55-46dd-c61c-460394de9e17\",\"data\":{\"y\":[150,17.90043258667,10.499841690063,7.7180709838867,6.0633373260498,4.9374685287476,4.3098220825195,3.6448726654053,3.5925788879395,3.1836490631104,2.9897174835205,2.7441463470459,2.6015453338623,2.3582420349121,2.3327417373657],\"x\":[1,2,3,4,5,6,7,8,9,10,11,12,13,14,15]},\"discrete_ranges\":{},\"column_names\":[\"x\",\"y\"],\"cont_ranges\":{},\"selected\":[],\"tags\":[],\"doc\":null},\"type\":\"ColumnDataSource\"},{\"id\":\"cde8fac2-35d9-4cfe-cc58-c53b8e8c5016\",\"attributes\":{\"id\":\"cde8fac2-35d9-4cfe-cc58-c53b8e8c5016\",\"fill_alpha\":{\"units\":\"data\",\"value\":0.2},\"y\":{\"units\":\"data\",\"field\":\"y\"},\"fill_color\":{\"value\":\"black\"},\"x\":{\"units\":\"data\",\"field\":\"x\"},\"line_color\":{\"value\":\"black\"},\"line_alpha\":{\"units\":\"data\",\"value\":1},\"tags\":[],\"size\":{\"units\":\"screen\",\"value\":10},\"doc\":null},\"type\":\"Line\"},{\"id\":\"8e3266ee-227e-495c-c9c1-5fae1c71ec8d\",\"attributes\":{\"id\":\"8e3266ee-227e-495c-c9c1-5fae1c71ec8d\",\"fill_alpha\":{\"units\":\"data\",\"value\":0.2},\"y\":{\"units\":\"data\",\"field\":\"y\"},\"fill_color\":{\"value\":\"black\"},\"x\":{\"units\":\"data\",\"field\":\"x\"},\"line_color\":{\"value\":\"black\"},\"line_alpha\":{\"units\":\"data\",\"value\":1},\"tags\":[],\"size\":{\"units\":\"screen\",\"value\":10},\"doc\":null},\"type\":\"Line\"},{\"id\":\"ecb8aab3-06c8-42db-c2ca-1e76c0810183\",\"attributes\":{\"id\":\"ecb8aab3-06c8-42db-c2ca-1e76c0810183\",\"glyph\":{\"id\":\"cde8fac2-35d9-4cfe-cc58-c53b8e8c5016\",\"type\":\"Line\"},\"nonselection_glyph\":{\"id\":\"8e3266ee-227e-495c-c9c1-5fae1c71ec8d\",\"type\":\"Line\"},\"selection_glyph\":null,\"server_data_source\":null,\"name\":null,\"tags\":[],\"data_source\":{\"id\":\"8a4b8edd-5f55-46dd-c61c-460394de9e17\",\"type\":\"ColumnDataSource\"},\"doc\":null},\"type\":\"GlyphRenderer\"},{\"id\":\"9b04476f-2fef-4dc7-cd7e-1214a0f109b5\",\"attributes\":{\"id\":\"9b04476f-2fef-4dc7-cd7e-1214a0f109b5\",\"data\":{\"y\":[150,17.90043258667,10.499841690063,7.7180709838867,6.0633373260498,4.9374685287476,4.3098220825195,3.6448726654053,3.5925788879395,3.1836490631104,2.9897174835205,2.7441463470459,2.6015453338623,2.3582420349121,2.3327417373657],\"x\":[1,2,3,4,5,6,7,8,9,10,11,12,13,14,15]},\"discrete_ranges\":{},\"column_names\":[\"x\",\"y\"],\"cont_ranges\":{},\"selected\":[],\"tags\":[],\"doc\":null},\"type\":\"ColumnDataSource\"},{\"id\":\"6e826614-445d-4f5f-cf2c-7b1812f44263\",\"attributes\":{\"id\":\"6e826614-445d-4f5f-cf2c-7b1812f44263\",\"fill_alpha\":{\"units\":\"data\",\"value\":0.2},\"y\":{\"units\":\"data\",\"field\":\"y\"},\"fill_color\":{\"value\":\"red\"},\"x\":{\"units\":\"data\",\"field\":\"x\"},\"line_color\":{\"value\":\"red\"},\"line_alpha\":{\"units\":\"data\",\"value\":1},\"tags\":[],\"size\":{\"units\":\"screen\",\"value\":10},\"doc\":null},\"type\":\"Line\"},{\"id\":\"319cfc32-9374-4b5d-cbc3-581876b1f638\",\"attributes\":{\"id\":\"319cfc32-9374-4b5d-cbc3-581876b1f638\",\"fill_alpha\":{\"units\":\"data\",\"value\":0.2},\"y\":{\"units\":\"data\",\"field\":\"y\"},\"fill_color\":{\"value\":\"red\"},\"x\":{\"units\":\"data\",\"field\":\"x\"},\"line_color\":{\"value\":\"red\"},\"line_alpha\":{\"units\":\"data\",\"value\":1},\"tags\":[],\"size\":{\"units\":\"screen\",\"value\":10},\"doc\":null},\"type\":\"Line\"},{\"id\":\"a52de7cf-d93f-4291-c243-8372e60d5fe9\",\"attributes\":{\"id\":\"a52de7cf-d93f-4291-c243-8372e60d5fe9\",\"glyph\":{\"id\":\"6e826614-445d-4f5f-cf2c-7b1812f44263\",\"type\":\"Line\"},\"nonselection_glyph\":{\"id\":\"319cfc32-9374-4b5d-cbc3-581876b1f638\",\"type\":\"Line\"},\"selection_glyph\":null,\"server_data_source\":null,\"name\":null,\"tags\":[],\"data_source\":{\"id\":\"9b04476f-2fef-4dc7-cd7e-1214a0f109b5\",\"type\":\"ColumnDataSource\"},\"doc\":null},\"type\":\"GlyphRenderer\"},{\"id\":\"87a108f9-105a-4ad9-caf6-74db04ded801\",\"attributes\":{\"id\":\"87a108f9-105a-4ad9-caf6-74db04ded801\",\"data\":{\"y\":[11.849899291992,39.300514221191,18.504020690918,13.584982872009,9.2702894210815,8.4121351242065,6.205114364624,6.2969169616699,5.0027284622192,4.9856576919556,4.3017015457153,3.864649772644,3.6931009292603,3.1885452270508,3.3734188079834],\"x\":[1,2,3,4,5,6,7,8,9,10,11,12,13,14,15]},\"discrete_ranges\":{},\"column_names\":[\"x\",\"y\"],\"cont_ranges\":{},\"selected\":[],\"tags\":[],\"doc\":null},\"type\":\"ColumnDataSource\"},{\"id\":\"1a5a02a0-a8be-4341-c37c-0a24c07de74b\",\"attributes\":{\"id\":\"1a5a02a0-a8be-4341-c37c-0a24c07de74b\",\"fill_alpha\":{\"units\":\"data\",\"value\":0.2},\"y\":{\"units\":\"data\",\"field\":\"y\"},\"fill_color\":{\"value\":\"blue\"},\"x\":{\"units\":\"data\",\"field\":\"x\"},\"line_color\":{\"value\":\"blue\"},\"line_alpha\":{\"units\":\"data\",\"value\":1},\"tags\":[],\"size\":{\"units\":\"screen\",\"value\":10},\"doc\":null},\"type\":\"Line\"},{\"id\":\"dff71c92-23b8-43c6-c3bb-b469d2d0d786\",\"attributes\":{\"id\":\"dff71c92-23b8-43c6-c3bb-b469d2d0d786\",\"fill_alpha\":{\"units\":\"data\",\"value\":0.2},\"y\":{\"units\":\"data\",\"field\":\"y\"},\"fill_color\":{\"value\":\"blue\"},\"x\":{\"units\":\"data\",\"field\":\"x\"},\"line_color\":{\"value\":\"blue\"},\"line_alpha\":{\"units\":\"data\",\"value\":1},\"tags\":[],\"size\":{\"units\":\"screen\",\"value\":10},\"doc\":null},\"type\":\"Line\"},{\"id\":\"669671bc-bd45-45bd-c56c-69d8091de3af\",\"attributes\":{\"id\":\"669671bc-bd45-45bd-c56c-69d8091de3af\",\"glyph\":{\"id\":\"1a5a02a0-a8be-4341-c37c-0a24c07de74b\",\"type\":\"Line\"},\"nonselection_glyph\":{\"id\":\"dff71c92-23b8-43c6-c3bb-b469d2d0d786\",\"type\":\"Line\"},\"selection_glyph\":null,\"server_data_source\":null,\"name\":null,\"tags\":[],\"data_source\":{\"id\":\"87a108f9-105a-4ad9-caf6-74db04ded801\",\"type\":\"ColumnDataSource\"},\"doc\":null},\"type\":\"GlyphRenderer\"},{\"id\":\"6949dd3f-b3a9-4b04-cb7b-532083676c7b\",\"attributes\":{\"id\":\"6949dd3f-b3a9-4b04-cb7b-532083676c7b\",\"data\":{\"y\":[2.2255220413208,32.004726409912,15.008952140808,10.360219955444,7.7540683746338,6.1530723571777,5.6360092163086,4.5069408416748,4.452657699585,3.7070331573486,3.6802701950073,3.0868349075317,3.2270412445068,2.6102848052979,2.8187322616577],\"x\":[1,2,3,4,5,6,7,8,9,10,11,12,13,14,15]},\"discrete_ranges\":{},\"column_names\":[\"x\",\"y\"],\"cont_ranges\":{},\"selected\":[],\"tags\":[],\"doc\":null},\"type\":\"ColumnDataSource\"},{\"id\":\"ca55da0c-0066-4e9b-ce6d-5c6dcc197b79\",\"attributes\":{\"id\":\"ca55da0c-0066-4e9b-ce6d-5c6dcc197b79\",\"fill_alpha\":{\"units\":\"data\",\"value\":0.2},\"y\":{\"units\":\"data\",\"field\":\"y\"},\"fill_color\":{\"value\":\"green\"},\"x\":{\"units\":\"data\",\"field\":\"x\"},\"line_color\":{\"value\":\"green\"},\"line_alpha\":{\"units\":\"data\",\"value\":1},\"tags\":[],\"size\":{\"units\":\"screen\",\"value\":10},\"doc\":null},\"type\":\"Line\"},{\"id\":\"79910314-5361-4da2-cd31-6f0f9c97dde2\",\"attributes\":{\"id\":\"79910314-5361-4da2-cd31-6f0f9c97dde2\",\"fill_alpha\":{\"units\":\"data\",\"value\":0.2},\"y\":{\"units\":\"data\",\"field\":\"y\"},\"fill_color\":{\"value\":\"green\"},\"x\":{\"units\":\"data\",\"field\":\"x\"},\"line_color\":{\"value\":\"green\"},\"line_alpha\":{\"units\":\"data\",\"value\":1},\"tags\":[],\"size\":{\"units\":\"screen\",\"value\":10},\"doc\":null},\"type\":\"Line\"},{\"id\":\"ccd00dcb-1624-4837-c84f-c69b3bf88de2\",\"attributes\":{\"id\":\"ccd00dcb-1624-4837-c84f-c69b3bf88de2\",\"glyph\":{\"id\":\"ca55da0c-0066-4e9b-ce6d-5c6dcc197b79\",\"type\":\"Line\"},\"nonselection_glyph\":{\"id\":\"79910314-5361-4da2-cd31-6f0f9c97dde2\",\"type\":\"Line\"},\"selection_glyph\":null,\"server_data_source\":null,\"name\":null,\"tags\":[],\"data_source\":{\"id\":\"6949dd3f-b3a9-4b04-cb7b-532083676c7b\",\"type\":\"ColumnDataSource\"},\"doc\":null},\"type\":\"GlyphRenderer\"},{\"id\":\"90c2a238-396a-4f1a-cf70-edc81ec6d30c\",\"attributes\":{\"id\":\"90c2a238-396a-4f1a-cf70-edc81ec6d30c\",\"tags\":[],\"sources\":[{\"source\":{\"id\":\"8a4b8edd-5f55-46dd-c61c-460394de9e17\",\"type\":\"ColumnDataSource\"},\"columns\":[\"x\"]},{\"source\":{\"id\":\"9b04476f-2fef-4dc7-cd7e-1214a0f109b5\",\"type\":\"ColumnDataSource\"},\"columns\":[\"x\"]},{\"source\":{\"id\":\"87a108f9-105a-4ad9-caf6-74db04ded801\",\"type\":\"ColumnDataSource\"},\"columns\":[\"x\"]},{\"source\":{\"id\":\"6949dd3f-b3a9-4b04-cb7b-532083676c7b\",\"type\":\"ColumnDataSource\"},\"columns\":[\"x\"]}],\"doc\":null},\"type\":\"DataRange1d\"},{\"id\":\"f5d02d8f-1f13-4a44-ca94-faa314ea24c3\",\"attributes\":{\"id\":\"f5d02d8f-1f13-4a44-ca94-faa314ea24c3\",\"tags\":[],\"sources\":[{\"source\":{\"id\":\"8a4b8edd-5f55-46dd-c61c-460394de9e17\",\"type\":\"ColumnDataSource\"},\"columns\":[\"y\"]},{\"source\":{\"id\":\"9b04476f-2fef-4dc7-cd7e-1214a0f109b5\",\"type\":\"ColumnDataSource\"},\"columns\":[\"y\"]},{\"source\":{\"id\":\"87a108f9-105a-4ad9-caf6-74db04ded801\",\"type\":\"ColumnDataSource\"},\"columns\":[\"y\"]},{\"source\":{\"id\":\"6949dd3f-b3a9-4b04-cb7b-532083676c7b\",\"type\":\"ColumnDataSource\"},\"columns\":[\"y\"]}],\"doc\":null},\"type\":\"DataRange1d\"},{\"id\":\"de8269f4-22c7-4cf4-cc8d-43e9c4691774\",\"attributes\":{\"id\":\"de8269f4-22c7-4cf4-cc8d-43e9c4691774\",\"tags\":[],\"geometries\":[],\"doc\":null},\"type\":\"ToolEvents\"},{\"id\":\"6cbba5ca-aa9f-4b8c-cbaf-3cbf02985ed3\",\"attributes\":{\"id\":\"6cbba5ca-aa9f-4b8c-cbaf-3cbf02985ed3\",\"tags\":[],\"doc\":null},\"type\":\"BasicTickFormatter\"},{\"id\":\"2f35aae6-9d4e-4853-c877-212435d1da46\",\"attributes\":{\"id\":\"2f35aae6-9d4e-4853-c877-212435d1da46\",\"tags\":[],\"num_minor_ticks\":5,\"doc\":null},\"type\":\"BasicTicker\"},{\"id\":\"c9dfafc9-be3b-4791-c7eb-fbfae9d0b2dd\",\"attributes\":{\"id\":\"c9dfafc9-be3b-4791-c7eb-fbfae9d0b2dd\",\"axis_label\":\"Scaled number of iterations\",\"formatter\":{\"id\":\"6cbba5ca-aa9f-4b8c-cbaf-3cbf02985ed3\",\"type\":\"BasicTickFormatter\"},\"ticker\":{\"id\":\"2f35aae6-9d4e-4853-c877-212435d1da46\",\"type\":\"BasicTicker\"},\"plot\":{\"subtype\":\"Figure\",\"id\":\"fb6d1801-de73-4970-c9ac-058d5068c87e\",\"type\":\"Plot\"},\"tags\":[],\"doc\":null},\"type\":\"LinearAxis\"},{\"id\":\"6be908a1-7ed4-4490-c4c7-008649a1cf10\",\"attributes\":{\"id\":\"6be908a1-7ed4-4490-c4c7-008649a1cf10\",\"dimension\":0,\"ticker\":{\"id\":\"2f35aae6-9d4e-4853-c877-212435d1da46\",\"type\":\"BasicTicker\"},\"plot\":{\"subtype\":\"Figure\",\"id\":\"fb6d1801-de73-4970-c9ac-058d5068c87e\",\"type\":\"Plot\"},\"tags\":[],\"doc\":null},\"type\":\"Grid\"},{\"id\":\"ce698aaa-805b-4282-c2a0-ecf37a6e870c\",\"attributes\":{\"id\":\"ce698aaa-805b-4282-c2a0-ecf37a6e870c\",\"tags\":[],\"doc\":null},\"type\":\"BasicTickFormatter\"},{\"id\":\"20b64522-c2c9-4873-c836-577492cdeb29\",\"attributes\":{\"id\":\"20b64522-c2c9-4873-c836-577492cdeb29\",\"tags\":[],\"num_minor_ticks\":5,\"doc\":null},\"type\":\"BasicTicker\"},{\"id\":\"92fe1663-a657-4035-c0d0-a36f0c483a5d\",\"attributes\":{\"id\":\"92fe1663-a657-4035-c0d0-a36f0c483a5d\",\"axis_label\":\"Exploitability\",\"formatter\":{\"id\":\"ce698aaa-805b-4282-c2a0-ecf37a6e870c\",\"type\":\"BasicTickFormatter\"},\"ticker\":{\"id\":\"20b64522-c2c9-4873-c836-577492cdeb29\",\"type\":\"BasicTicker\"},\"plot\":{\"subtype\":\"Figure\",\"id\":\"fb6d1801-de73-4970-c9ac-058d5068c87e\",\"type\":\"Plot\"},\"tags\":[],\"doc\":null},\"type\":\"LinearAxis\"},{\"id\":\"4d832f56-3fd6-4b89-cb62-fc152a1c2e44\",\"attributes\":{\"id\":\"4d832f56-3fd6-4b89-cb62-fc152a1c2e44\",\"dimension\":1,\"ticker\":{\"id\":\"20b64522-c2c9-4873-c836-577492cdeb29\",\"type\":\"BasicTicker\"},\"plot\":{\"subtype\":\"Figure\",\"id\":\"fb6d1801-de73-4970-c9ac-058d5068c87e\",\"type\":\"Plot\"},\"tags\":[],\"doc\":null},\"type\":\"Grid\"},{\"id\":\"e38ec0e6-48e6-493d-c9cf-cfd41e6eedbd\",\"attributes\":{\"id\":\"e38ec0e6-48e6-493d-c9cf-cfd41e6eedbd\",\"dimensions\":[\"width\",\"height\"],\"plot\":{\"subtype\":\"Figure\",\"id\":\"fb6d1801-de73-4970-c9ac-058d5068c87e\",\"type\":\"Plot\"},\"tags\":[],\"doc\":null},\"type\":\"PanTool\"},{\"id\":\"c3385696-94de-41ae-c172-fe2eb191cd70\",\"attributes\":{\"id\":\"c3385696-94de-41ae-c172-fe2eb191cd70\",\"dimensions\":[\"width\",\"height\"],\"plot\":{\"subtype\":\"Figure\",\"id\":\"fb6d1801-de73-4970-c9ac-058d5068c87e\",\"type\":\"Plot\"},\"tags\":[],\"doc\":null},\"type\":\"WheelZoomTool\"},{\"id\":\"4577716c-cb55-47ea-c722-c72553f38a62\",\"attributes\":{\"id\":\"4577716c-cb55-47ea-c722-c72553f38a62\",\"tags\":[],\"plot\":{\"subtype\":\"Figure\",\"id\":\"fb6d1801-de73-4970-c9ac-058d5068c87e\",\"type\":\"Plot\"},\"doc\":null},\"type\":\"BoxZoomTool\"},{\"id\":\"22ec61ba-288d-4cdd-cc31-2bdd6239ceeb\",\"attributes\":{\"id\":\"22ec61ba-288d-4cdd-cc31-2bdd6239ceeb\",\"tags\":[],\"plot\":{\"subtype\":\"Figure\",\"id\":\"fb6d1801-de73-4970-c9ac-058d5068c87e\",\"type\":\"Plot\"},\"doc\":null},\"type\":\"PreviewSaveTool\"},{\"id\":\"158c4247-e7cb-464a-c638-62eec5083a88\",\"attributes\":{\"id\":\"158c4247-e7cb-464a-c638-62eec5083a88\",\"tags\":[],\"plot\":{\"subtype\":\"Figure\",\"id\":\"fb6d1801-de73-4970-c9ac-058d5068c87e\",\"type\":\"Plot\"},\"doc\":null},\"type\":\"ResizeTool\"},{\"id\":\"5699ae76-798e-45c5-c572-e991434bc40f\",\"attributes\":{\"id\":\"5699ae76-798e-45c5-c572-e991434bc40f\",\"tags\":[],\"plot\":{\"subtype\":\"Figure\",\"id\":\"fb6d1801-de73-4970-c9ac-058d5068c87e\",\"type\":\"Plot\"},\"doc\":null},\"type\":\"ResetTool\"},{\"id\":\"cb882bd6-ca8d-4b44-cbe2-4dd47399e3e1\",\"attributes\":{\"id\":\"cb882bd6-ca8d-4b44-cbe2-4dd47399e3e1\",\"legends\":[[\"Original CFR in the paper\",[{\"id\":\"ecb8aab3-06c8-42db-c2ca-1e76c0810183\",\"type\":\"GlyphRenderer\"}]],[\"No Warm start CFR\",[{\"id\":\"a52de7cf-d93f-4291-c243-8372e60d5fe9\",\"type\":\"GlyphRenderer\"}]],[\"Neural Net warm start CFR\",[{\"id\":\"669671bc-bd45-45bd-c56c-69d8091de3af\",\"type\":\"GlyphRenderer\"}]],[\"Warm start with target values\",[{\"id\":\"ccd00dcb-1624-4837-c84f-c69b3bf88de2\",\"type\":\"GlyphRenderer\"}]]],\"plot\":{\"subtype\":\"Figure\",\"id\":\"fb6d1801-de73-4970-c9ac-058d5068c87e\",\"type\":\"Plot\"},\"tags\":[],\"doc\":null},\"type\":\"Legend\"},{\"id\":\"fb6d1801-de73-4970-c9ac-058d5068c87e\",\"attributes\":{\"id\":\"fb6d1801-de73-4970-c9ac-058d5068c87e\",\"renderers\":[{\"id\":\"ecb8aab3-06c8-42db-c2ca-1e76c0810183\",\"type\":\"GlyphRenderer\"},{\"id\":\"a52de7cf-d93f-4291-c243-8372e60d5fe9\",\"type\":\"GlyphRenderer\"},{\"id\":\"669671bc-bd45-45bd-c56c-69d8091de3af\",\"type\":\"GlyphRenderer\"},{\"id\":\"ccd00dcb-1624-4837-c84f-c69b3bf88de2\",\"type\":\"GlyphRenderer\"},{\"id\":\"c9dfafc9-be3b-4791-c7eb-fbfae9d0b2dd\",\"type\":\"LinearAxis\"},{\"id\":\"6be908a1-7ed4-4490-c4c7-008649a1cf10\",\"type\":\"Grid\"},{\"id\":\"92fe1663-a657-4035-c0d0-a36f0c483a5d\",\"type\":\"LinearAxis\"},{\"id\":\"4d832f56-3fd6-4b89-cb62-fc152a1c2e44\",\"type\":\"Grid\"},{\"id\":\"cb882bd6-ca8d-4b44-cbe2-4dd47399e3e1\",\"type\":\"Legend\"}],\"above\":[],\"tool_events\":{\"id\":\"de8269f4-22c7-4cf4-cc8d-43e9c4691774\",\"type\":\"ToolEvents\"},\"tools\":[{\"id\":\"e38ec0e6-48e6-493d-c9cf-cfd41e6eedbd\",\"type\":\"PanTool\"},{\"id\":\"c3385696-94de-41ae-c172-fe2eb191cd70\",\"type\":\"WheelZoomTool\"},{\"id\":\"4577716c-cb55-47ea-c722-c72553f38a62\",\"type\":\"BoxZoomTool\"},{\"id\":\"22ec61ba-288d-4cdd-cc31-2bdd6239ceeb\",\"type\":\"PreviewSaveTool\"},{\"id\":\"158c4247-e7cb-464a-c638-62eec5083a88\",\"type\":\"ResizeTool\"},{\"id\":\"5699ae76-798e-45c5-c572-e991434bc40f\",\"type\":\"ResetTool\"}],\"left\":[{\"id\":\"92fe1663-a657-4035-c0d0-a36f0c483a5d\",\"type\":\"LinearAxis\"}],\"title\":\"Exploitability of different strategoes\",\"extra_y_ranges\":{},\"below\":[{\"id\":\"c9dfafc9-be3b-4791-c7eb-fbfae9d0b2dd\",\"type\":\"LinearAxis\"}],\"right\":[],\"y_range\":{\"id\":\"f5d02d8f-1f13-4a44-ca94-faa314ea24c3\",\"type\":\"DataRange1d\"},\"extra_x_ranges\":{},\"tags\":[],\"x_range\":{\"id\":\"90c2a238-396a-4f1a-cf70-edc81ec6d30c\",\"type\":\"DataRange1d\"},\"doc\":null},\"type\":\"Plot\"}];\n",
       "  Bokeh.load_models(all_models);\n",
       "  var model = Bokeh.Collections(modeltype).get(modelid);\n",
       "  $(\"#de81e847-c7c5-432d-c35a-42b2c4fed59a\").html(''); // clear any previous plot in window_id\n",
       "  var view = new model.default_view({model: model, el: \"#de81e847-c7c5-432d-c35a-42b2c4fed59a\"});\n",
       "    } else {\n",
       "  load_lib(bokehjs_url, function() {\n",
       "      console.log(\"Bokeh: BokehJS plotting callback run at\", new Date())\n",
       "      var modelid = \"fb6d1801-de73-4970-c9ac-058d5068c87e\";\n",
       "      var modeltype = \"Plot\";\n",
       "      var all_models = [{\"id\":\"8a4b8edd-5f55-46dd-c61c-460394de9e17\",\"attributes\":{\"id\":\"8a4b8edd-5f55-46dd-c61c-460394de9e17\",\"data\":{\"y\":[150,17.90043258667,10.499841690063,7.7180709838867,6.0633373260498,4.9374685287476,4.3098220825195,3.6448726654053,3.5925788879395,3.1836490631104,2.9897174835205,2.7441463470459,2.6015453338623,2.3582420349121,2.3327417373657],\"x\":[1,2,3,4,5,6,7,8,9,10,11,12,13,14,15]},\"discrete_ranges\":{},\"column_names\":[\"x\",\"y\"],\"cont_ranges\":{},\"selected\":[],\"tags\":[],\"doc\":null},\"type\":\"ColumnDataSource\"},{\"id\":\"cde8fac2-35d9-4cfe-cc58-c53b8e8c5016\",\"attributes\":{\"id\":\"cde8fac2-35d9-4cfe-cc58-c53b8e8c5016\",\"fill_alpha\":{\"units\":\"data\",\"value\":0.2},\"y\":{\"units\":\"data\",\"field\":\"y\"},\"fill_color\":{\"value\":\"black\"},\"x\":{\"units\":\"data\",\"field\":\"x\"},\"line_color\":{\"value\":\"black\"},\"line_alpha\":{\"units\":\"data\",\"value\":1},\"tags\":[],\"size\":{\"units\":\"screen\",\"value\":10},\"doc\":null},\"type\":\"Line\"},{\"id\":\"8e3266ee-227e-495c-c9c1-5fae1c71ec8d\",\"attributes\":{\"id\":\"8e3266ee-227e-495c-c9c1-5fae1c71ec8d\",\"fill_alpha\":{\"units\":\"data\",\"value\":0.2},\"y\":{\"units\":\"data\",\"field\":\"y\"},\"fill_color\":{\"value\":\"black\"},\"x\":{\"units\":\"data\",\"field\":\"x\"},\"line_color\":{\"value\":\"black\"},\"line_alpha\":{\"units\":\"data\",\"value\":1},\"tags\":[],\"size\":{\"units\":\"screen\",\"value\":10},\"doc\":null},\"type\":\"Line\"},{\"id\":\"ecb8aab3-06c8-42db-c2ca-1e76c0810183\",\"attributes\":{\"id\":\"ecb8aab3-06c8-42db-c2ca-1e76c0810183\",\"glyph\":{\"id\":\"cde8fac2-35d9-4cfe-cc58-c53b8e8c5016\",\"type\":\"Line\"},\"nonselection_glyph\":{\"id\":\"8e3266ee-227e-495c-c9c1-5fae1c71ec8d\",\"type\":\"Line\"},\"selection_glyph\":null,\"server_data_source\":null,\"name\":null,\"tags\":[],\"data_source\":{\"id\":\"8a4b8edd-5f55-46dd-c61c-460394de9e17\",\"type\":\"ColumnDataSource\"},\"doc\":null},\"type\":\"GlyphRenderer\"},{\"id\":\"9b04476f-2fef-4dc7-cd7e-1214a0f109b5\",\"attributes\":{\"id\":\"9b04476f-2fef-4dc7-cd7e-1214a0f109b5\",\"data\":{\"y\":[150,17.90043258667,10.499841690063,7.7180709838867,6.0633373260498,4.9374685287476,4.3098220825195,3.6448726654053,3.5925788879395,3.1836490631104,2.9897174835205,2.7441463470459,2.6015453338623,2.3582420349121,2.3327417373657],\"x\":[1,2,3,4,5,6,7,8,9,10,11,12,13,14,15]},\"discrete_ranges\":{},\"column_names\":[\"x\",\"y\"],\"cont_ranges\":{},\"selected\":[],\"tags\":[],\"doc\":null},\"type\":\"ColumnDataSource\"},{\"id\":\"6e826614-445d-4f5f-cf2c-7b1812f44263\",\"attributes\":{\"id\":\"6e826614-445d-4f5f-cf2c-7b1812f44263\",\"fill_alpha\":{\"units\":\"data\",\"value\":0.2},\"y\":{\"units\":\"data\",\"field\":\"y\"},\"fill_color\":{\"value\":\"red\"},\"x\":{\"units\":\"data\",\"field\":\"x\"},\"line_color\":{\"value\":\"red\"},\"line_alpha\":{\"units\":\"data\",\"value\":1},\"tags\":[],\"size\":{\"units\":\"screen\",\"value\":10},\"doc\":null},\"type\":\"Line\"},{\"id\":\"319cfc32-9374-4b5d-cbc3-581876b1f638\",\"attributes\":{\"id\":\"319cfc32-9374-4b5d-cbc3-581876b1f638\",\"fill_alpha\":{\"units\":\"data\",\"value\":0.2},\"y\":{\"units\":\"data\",\"field\":\"y\"},\"fill_color\":{\"value\":\"red\"},\"x\":{\"units\":\"data\",\"field\":\"x\"},\"line_color\":{\"value\":\"red\"},\"line_alpha\":{\"units\":\"data\",\"value\":1},\"tags\":[],\"size\":{\"units\":\"screen\",\"value\":10},\"doc\":null},\"type\":\"Line\"},{\"id\":\"a52de7cf-d93f-4291-c243-8372e60d5fe9\",\"attributes\":{\"id\":\"a52de7cf-d93f-4291-c243-8372e60d5fe9\",\"glyph\":{\"id\":\"6e826614-445d-4f5f-cf2c-7b1812f44263\",\"type\":\"Line\"},\"nonselection_glyph\":{\"id\":\"319cfc32-9374-4b5d-cbc3-581876b1f638\",\"type\":\"Line\"},\"selection_glyph\":null,\"server_data_source\":null,\"name\":null,\"tags\":[],\"data_source\":{\"id\":\"9b04476f-2fef-4dc7-cd7e-1214a0f109b5\",\"type\":\"ColumnDataSource\"},\"doc\":null},\"type\":\"GlyphRenderer\"},{\"id\":\"87a108f9-105a-4ad9-caf6-74db04ded801\",\"attributes\":{\"id\":\"87a108f9-105a-4ad9-caf6-74db04ded801\",\"data\":{\"y\":[11.849899291992,39.300514221191,18.504020690918,13.584982872009,9.2702894210815,8.4121351242065,6.205114364624,6.2969169616699,5.0027284622192,4.9856576919556,4.3017015457153,3.864649772644,3.6931009292603,3.1885452270508,3.3734188079834],\"x\":[1,2,3,4,5,6,7,8,9,10,11,12,13,14,15]},\"discrete_ranges\":{},\"column_names\":[\"x\",\"y\"],\"cont_ranges\":{},\"selected\":[],\"tags\":[],\"doc\":null},\"type\":\"ColumnDataSource\"},{\"id\":\"1a5a02a0-a8be-4341-c37c-0a24c07de74b\",\"attributes\":{\"id\":\"1a5a02a0-a8be-4341-c37c-0a24c07de74b\",\"fill_alpha\":{\"units\":\"data\",\"value\":0.2},\"y\":{\"units\":\"data\",\"field\":\"y\"},\"fill_color\":{\"value\":\"blue\"},\"x\":{\"units\":\"data\",\"field\":\"x\"},\"line_color\":{\"value\":\"blue\"},\"line_alpha\":{\"units\":\"data\",\"value\":1},\"tags\":[],\"size\":{\"units\":\"screen\",\"value\":10},\"doc\":null},\"type\":\"Line\"},{\"id\":\"dff71c92-23b8-43c6-c3bb-b469d2d0d786\",\"attributes\":{\"id\":\"dff71c92-23b8-43c6-c3bb-b469d2d0d786\",\"fill_alpha\":{\"units\":\"data\",\"value\":0.2},\"y\":{\"units\":\"data\",\"field\":\"y\"},\"fill_color\":{\"value\":\"blue\"},\"x\":{\"units\":\"data\",\"field\":\"x\"},\"line_color\":{\"value\":\"blue\"},\"line_alpha\":{\"units\":\"data\",\"value\":1},\"tags\":[],\"size\":{\"units\":\"screen\",\"value\":10},\"doc\":null},\"type\":\"Line\"},{\"id\":\"669671bc-bd45-45bd-c56c-69d8091de3af\",\"attributes\":{\"id\":\"669671bc-bd45-45bd-c56c-69d8091de3af\",\"glyph\":{\"id\":\"1a5a02a0-a8be-4341-c37c-0a24c07de74b\",\"type\":\"Line\"},\"nonselection_glyph\":{\"id\":\"dff71c92-23b8-43c6-c3bb-b469d2d0d786\",\"type\":\"Line\"},\"selection_glyph\":null,\"server_data_source\":null,\"name\":null,\"tags\":[],\"data_source\":{\"id\":\"87a108f9-105a-4ad9-caf6-74db04ded801\",\"type\":\"ColumnDataSource\"},\"doc\":null},\"type\":\"GlyphRenderer\"},{\"id\":\"6949dd3f-b3a9-4b04-cb7b-532083676c7b\",\"attributes\":{\"id\":\"6949dd3f-b3a9-4b04-cb7b-532083676c7b\",\"data\":{\"y\":[2.2255220413208,32.004726409912,15.008952140808,10.360219955444,7.7540683746338,6.1530723571777,5.6360092163086,4.5069408416748,4.452657699585,3.7070331573486,3.6802701950073,3.0868349075317,3.2270412445068,2.6102848052979,2.8187322616577],\"x\":[1,2,3,4,5,6,7,8,9,10,11,12,13,14,15]},\"discrete_ranges\":{},\"column_names\":[\"x\",\"y\"],\"cont_ranges\":{},\"selected\":[],\"tags\":[],\"doc\":null},\"type\":\"ColumnDataSource\"},{\"id\":\"ca55da0c-0066-4e9b-ce6d-5c6dcc197b79\",\"attributes\":{\"id\":\"ca55da0c-0066-4e9b-ce6d-5c6dcc197b79\",\"fill_alpha\":{\"units\":\"data\",\"value\":0.2},\"y\":{\"units\":\"data\",\"field\":\"y\"},\"fill_color\":{\"value\":\"green\"},\"x\":{\"units\":\"data\",\"field\":\"x\"},\"line_color\":{\"value\":\"green\"},\"line_alpha\":{\"units\":\"data\",\"value\":1},\"tags\":[],\"size\":{\"units\":\"screen\",\"value\":10},\"doc\":null},\"type\":\"Line\"},{\"id\":\"79910314-5361-4da2-cd31-6f0f9c97dde2\",\"attributes\":{\"id\":\"79910314-5361-4da2-cd31-6f0f9c97dde2\",\"fill_alpha\":{\"units\":\"data\",\"value\":0.2},\"y\":{\"units\":\"data\",\"field\":\"y\"},\"fill_color\":{\"value\":\"green\"},\"x\":{\"units\":\"data\",\"field\":\"x\"},\"line_color\":{\"value\":\"green\"},\"line_alpha\":{\"units\":\"data\",\"value\":1},\"tags\":[],\"size\":{\"units\":\"screen\",\"value\":10},\"doc\":null},\"type\":\"Line\"},{\"id\":\"ccd00dcb-1624-4837-c84f-c69b3bf88de2\",\"attributes\":{\"id\":\"ccd00dcb-1624-4837-c84f-c69b3bf88de2\",\"glyph\":{\"id\":\"ca55da0c-0066-4e9b-ce6d-5c6dcc197b79\",\"type\":\"Line\"},\"nonselection_glyph\":{\"id\":\"79910314-5361-4da2-cd31-6f0f9c97dde2\",\"type\":\"Line\"},\"selection_glyph\":null,\"server_data_source\":null,\"name\":null,\"tags\":[],\"data_source\":{\"id\":\"6949dd3f-b3a9-4b04-cb7b-532083676c7b\",\"type\":\"ColumnDataSource\"},\"doc\":null},\"type\":\"GlyphRenderer\"},{\"id\":\"90c2a238-396a-4f1a-cf70-edc81ec6d30c\",\"attributes\":{\"id\":\"90c2a238-396a-4f1a-cf70-edc81ec6d30c\",\"tags\":[],\"sources\":[{\"source\":{\"id\":\"8a4b8edd-5f55-46dd-c61c-460394de9e17\",\"type\":\"ColumnDataSource\"},\"columns\":[\"x\"]},{\"source\":{\"id\":\"9b04476f-2fef-4dc7-cd7e-1214a0f109b5\",\"type\":\"ColumnDataSource\"},\"columns\":[\"x\"]},{\"source\":{\"id\":\"87a108f9-105a-4ad9-caf6-74db04ded801\",\"type\":\"ColumnDataSource\"},\"columns\":[\"x\"]},{\"source\":{\"id\":\"6949dd3f-b3a9-4b04-cb7b-532083676c7b\",\"type\":\"ColumnDataSource\"},\"columns\":[\"x\"]}],\"doc\":null},\"type\":\"DataRange1d\"},{\"id\":\"f5d02d8f-1f13-4a44-ca94-faa314ea24c3\",\"attributes\":{\"id\":\"f5d02d8f-1f13-4a44-ca94-faa314ea24c3\",\"tags\":[],\"sources\":[{\"source\":{\"id\":\"8a4b8edd-5f55-46dd-c61c-460394de9e17\",\"type\":\"ColumnDataSource\"},\"columns\":[\"y\"]},{\"source\":{\"id\":\"9b04476f-2fef-4dc7-cd7e-1214a0f109b5\",\"type\":\"ColumnDataSource\"},\"columns\":[\"y\"]},{\"source\":{\"id\":\"87a108f9-105a-4ad9-caf6-74db04ded801\",\"type\":\"ColumnDataSource\"},\"columns\":[\"y\"]},{\"source\":{\"id\":\"6949dd3f-b3a9-4b04-cb7b-532083676c7b\",\"type\":\"ColumnDataSource\"},\"columns\":[\"y\"]}],\"doc\":null},\"type\":\"DataRange1d\"},{\"id\":\"de8269f4-22c7-4cf4-cc8d-43e9c4691774\",\"attributes\":{\"id\":\"de8269f4-22c7-4cf4-cc8d-43e9c4691774\",\"tags\":[],\"geometries\":[],\"doc\":null},\"type\":\"ToolEvents\"},{\"id\":\"6cbba5ca-aa9f-4b8c-cbaf-3cbf02985ed3\",\"attributes\":{\"id\":\"6cbba5ca-aa9f-4b8c-cbaf-3cbf02985ed3\",\"tags\":[],\"doc\":null},\"type\":\"BasicTickFormatter\"},{\"id\":\"2f35aae6-9d4e-4853-c877-212435d1da46\",\"attributes\":{\"id\":\"2f35aae6-9d4e-4853-c877-212435d1da46\",\"tags\":[],\"num_minor_ticks\":5,\"doc\":null},\"type\":\"BasicTicker\"},{\"id\":\"c9dfafc9-be3b-4791-c7eb-fbfae9d0b2dd\",\"attributes\":{\"id\":\"c9dfafc9-be3b-4791-c7eb-fbfae9d0b2dd\",\"axis_label\":\"Scaled number of iterations\",\"formatter\":{\"id\":\"6cbba5ca-aa9f-4b8c-cbaf-3cbf02985ed3\",\"type\":\"BasicTickFormatter\"},\"ticker\":{\"id\":\"2f35aae6-9d4e-4853-c877-212435d1da46\",\"type\":\"BasicTicker\"},\"plot\":{\"subtype\":\"Figure\",\"id\":\"fb6d1801-de73-4970-c9ac-058d5068c87e\",\"type\":\"Plot\"},\"tags\":[],\"doc\":null},\"type\":\"LinearAxis\"},{\"id\":\"6be908a1-7ed4-4490-c4c7-008649a1cf10\",\"attributes\":{\"id\":\"6be908a1-7ed4-4490-c4c7-008649a1cf10\",\"dimension\":0,\"ticker\":{\"id\":\"2f35aae6-9d4e-4853-c877-212435d1da46\",\"type\":\"BasicTicker\"},\"plot\":{\"subtype\":\"Figure\",\"id\":\"fb6d1801-de73-4970-c9ac-058d5068c87e\",\"type\":\"Plot\"},\"tags\":[],\"doc\":null},\"type\":\"Grid\"},{\"id\":\"ce698aaa-805b-4282-c2a0-ecf37a6e870c\",\"attributes\":{\"id\":\"ce698aaa-805b-4282-c2a0-ecf37a6e870c\",\"tags\":[],\"doc\":null},\"type\":\"BasicTickFormatter\"},{\"id\":\"20b64522-c2c9-4873-c836-577492cdeb29\",\"attributes\":{\"id\":\"20b64522-c2c9-4873-c836-577492cdeb29\",\"tags\":[],\"num_minor_ticks\":5,\"doc\":null},\"type\":\"BasicTicker\"},{\"id\":\"92fe1663-a657-4035-c0d0-a36f0c483a5d\",\"attributes\":{\"id\":\"92fe1663-a657-4035-c0d0-a36f0c483a5d\",\"axis_label\":\"Exploitability\",\"formatter\":{\"id\":\"ce698aaa-805b-4282-c2a0-ecf37a6e870c\",\"type\":\"BasicTickFormatter\"},\"ticker\":{\"id\":\"20b64522-c2c9-4873-c836-577492cdeb29\",\"type\":\"BasicTicker\"},\"plot\":{\"subtype\":\"Figure\",\"id\":\"fb6d1801-de73-4970-c9ac-058d5068c87e\",\"type\":\"Plot\"},\"tags\":[],\"doc\":null},\"type\":\"LinearAxis\"},{\"id\":\"4d832f56-3fd6-4b89-cb62-fc152a1c2e44\",\"attributes\":{\"id\":\"4d832f56-3fd6-4b89-cb62-fc152a1c2e44\",\"dimension\":1,\"ticker\":{\"id\":\"20b64522-c2c9-4873-c836-577492cdeb29\",\"type\":\"BasicTicker\"},\"plot\":{\"subtype\":\"Figure\",\"id\":\"fb6d1801-de73-4970-c9ac-058d5068c87e\",\"type\":\"Plot\"},\"tags\":[],\"doc\":null},\"type\":\"Grid\"},{\"id\":\"e38ec0e6-48e6-493d-c9cf-cfd41e6eedbd\",\"attributes\":{\"id\":\"e38ec0e6-48e6-493d-c9cf-cfd41e6eedbd\",\"dimensions\":[\"width\",\"height\"],\"plot\":{\"subtype\":\"Figure\",\"id\":\"fb6d1801-de73-4970-c9ac-058d5068c87e\",\"type\":\"Plot\"},\"tags\":[],\"doc\":null},\"type\":\"PanTool\"},{\"id\":\"c3385696-94de-41ae-c172-fe2eb191cd70\",\"attributes\":{\"id\":\"c3385696-94de-41ae-c172-fe2eb191cd70\",\"dimensions\":[\"width\",\"height\"],\"plot\":{\"subtype\":\"Figure\",\"id\":\"fb6d1801-de73-4970-c9ac-058d5068c87e\",\"type\":\"Plot\"},\"tags\":[],\"doc\":null},\"type\":\"WheelZoomTool\"},{\"id\":\"4577716c-cb55-47ea-c722-c72553f38a62\",\"attributes\":{\"id\":\"4577716c-cb55-47ea-c722-c72553f38a62\",\"tags\":[],\"plot\":{\"subtype\":\"Figure\",\"id\":\"fb6d1801-de73-4970-c9ac-058d5068c87e\",\"type\":\"Plot\"},\"doc\":null},\"type\":\"BoxZoomTool\"},{\"id\":\"22ec61ba-288d-4cdd-cc31-2bdd6239ceeb\",\"attributes\":{\"id\":\"22ec61ba-288d-4cdd-cc31-2bdd6239ceeb\",\"tags\":[],\"plot\":{\"subtype\":\"Figure\",\"id\":\"fb6d1801-de73-4970-c9ac-058d5068c87e\",\"type\":\"Plot\"},\"doc\":null},\"type\":\"PreviewSaveTool\"},{\"id\":\"158c4247-e7cb-464a-c638-62eec5083a88\",\"attributes\":{\"id\":\"158c4247-e7cb-464a-c638-62eec5083a88\",\"tags\":[],\"plot\":{\"subtype\":\"Figure\",\"id\":\"fb6d1801-de73-4970-c9ac-058d5068c87e\",\"type\":\"Plot\"},\"doc\":null},\"type\":\"ResizeTool\"},{\"id\":\"5699ae76-798e-45c5-c572-e991434bc40f\",\"attributes\":{\"id\":\"5699ae76-798e-45c5-c572-e991434bc40f\",\"tags\":[],\"plot\":{\"subtype\":\"Figure\",\"id\":\"fb6d1801-de73-4970-c9ac-058d5068c87e\",\"type\":\"Plot\"},\"doc\":null},\"type\":\"ResetTool\"},{\"id\":\"cb882bd6-ca8d-4b44-cbe2-4dd47399e3e1\",\"attributes\":{\"id\":\"cb882bd6-ca8d-4b44-cbe2-4dd47399e3e1\",\"legends\":[[\"Original CFR in the paper\",[{\"id\":\"ecb8aab3-06c8-42db-c2ca-1e76c0810183\",\"type\":\"GlyphRenderer\"}]],[\"No Warm start CFR\",[{\"id\":\"a52de7cf-d93f-4291-c243-8372e60d5fe9\",\"type\":\"GlyphRenderer\"}]],[\"Neural Net warm start CFR\",[{\"id\":\"669671bc-bd45-45bd-c56c-69d8091de3af\",\"type\":\"GlyphRenderer\"}]],[\"Warm start with target values\",[{\"id\":\"ccd00dcb-1624-4837-c84f-c69b3bf88de2\",\"type\":\"GlyphRenderer\"}]]],\"plot\":{\"subtype\":\"Figure\",\"id\":\"fb6d1801-de73-4970-c9ac-058d5068c87e\",\"type\":\"Plot\"},\"tags\":[],\"doc\":null},\"type\":\"Legend\"},{\"id\":\"fb6d1801-de73-4970-c9ac-058d5068c87e\",\"attributes\":{\"id\":\"fb6d1801-de73-4970-c9ac-058d5068c87e\",\"renderers\":[{\"id\":\"ecb8aab3-06c8-42db-c2ca-1e76c0810183\",\"type\":\"GlyphRenderer\"},{\"id\":\"a52de7cf-d93f-4291-c243-8372e60d5fe9\",\"type\":\"GlyphRenderer\"},{\"id\":\"669671bc-bd45-45bd-c56c-69d8091de3af\",\"type\":\"GlyphRenderer\"},{\"id\":\"ccd00dcb-1624-4837-c84f-c69b3bf88de2\",\"type\":\"GlyphRenderer\"},{\"id\":\"c9dfafc9-be3b-4791-c7eb-fbfae9d0b2dd\",\"type\":\"LinearAxis\"},{\"id\":\"6be908a1-7ed4-4490-c4c7-008649a1cf10\",\"type\":\"Grid\"},{\"id\":\"92fe1663-a657-4035-c0d0-a36f0c483a5d\",\"type\":\"LinearAxis\"},{\"id\":\"4d832f56-3fd6-4b89-cb62-fc152a1c2e44\",\"type\":\"Grid\"},{\"id\":\"cb882bd6-ca8d-4b44-cbe2-4dd47399e3e1\",\"type\":\"Legend\"}],\"above\":[],\"tool_events\":{\"id\":\"de8269f4-22c7-4cf4-cc8d-43e9c4691774\",\"type\":\"ToolEvents\"},\"tools\":[{\"id\":\"e38ec0e6-48e6-493d-c9cf-cfd41e6eedbd\",\"type\":\"PanTool\"},{\"id\":\"c3385696-94de-41ae-c172-fe2eb191cd70\",\"type\":\"WheelZoomTool\"},{\"id\":\"4577716c-cb55-47ea-c722-c72553f38a62\",\"type\":\"BoxZoomTool\"},{\"id\":\"22ec61ba-288d-4cdd-cc31-2bdd6239ceeb\",\"type\":\"PreviewSaveTool\"},{\"id\":\"158c4247-e7cb-464a-c638-62eec5083a88\",\"type\":\"ResizeTool\"},{\"id\":\"5699ae76-798e-45c5-c572-e991434bc40f\",\"type\":\"ResetTool\"}],\"left\":[{\"id\":\"92fe1663-a657-4035-c0d0-a36f0c483a5d\",\"type\":\"LinearAxis\"}],\"title\":\"Exploitability of different strategoes\",\"extra_y_ranges\":{},\"below\":[{\"id\":\"c9dfafc9-be3b-4791-c7eb-fbfae9d0b2dd\",\"type\":\"LinearAxis\"}],\"right\":[],\"y_range\":{\"id\":\"f5d02d8f-1f13-4a44-ca94-faa314ea24c3\",\"type\":\"DataRange1d\"},\"extra_x_ranges\":{},\"tags\":[],\"x_range\":{\"id\":\"90c2a238-396a-4f1a-cf70-edc81ec6d30c\",\"type\":\"DataRange1d\"},\"doc\":null},\"type\":\"Plot\"}];\n",
       "      Bokeh.load_models(all_models);\n",
       "      var model = Bokeh.Collections(modeltype).get(modelid);\n",
       "      $(\"#de81e847-c7c5-432d-c35a-42b2c4fed59a\").html(''); // clear any previous plot in window_id\n",
       "      var view = new model.default_view({model: model, el: \"#de81e847-c7c5-432d-c35a-42b2c4fed59a\"});\n",
       "  });\n",
       "    }\n",
       "});\n",
       "</script>\n",
       "<div class=\"plotdiv\" id=\"de81e847-c7c5-432d-c35a-42b2c4fed59a\"></div>\n"
      ]
     },
     "metadata": {},
     "output_type": "display_data"
    }
   ],
   "source": [
    "local num_iter = torch.range(1,exploit_NoW:size(1))\n",
    "local plot = Plot()\n",
    "\n",
    "plot:line(num_iter,exploit_unif2,'black' ,'Original CFR in the paper')\n",
    "plot:line(num_iter,exploit_NoW2,'red' ,'No Warm start CFR')\n",
    "plot:line(num_iter,exploit_NNW2,'blue' ,'Neural Net warm start CFR')\n",
    "plot:line(num_iter,exploit_TargW2,'green' ,'Warm start with target values')\n",
    "plot:legend(true):title('Exploitability of different strategoes')\n",
    "plot:xaxis('Scaled number of iterations'):yaxis('Exploitability'):redraw()\n"
   ]
  },
  {
   "cell_type": "code",
   "execution_count": null,
   "metadata": {
    "collapsed": true
   },
   "outputs": [],
   "source": []
  }
 ],
 "metadata": {
  "kernelspec": {
   "display_name": "iTorch",
   "language": "lua",
   "name": "itorch"
  },
  "language_info": {
   "name": "lua",
   "version": "5.2"
  }
 },
 "nbformat": 4,
 "nbformat_minor": 2
}
