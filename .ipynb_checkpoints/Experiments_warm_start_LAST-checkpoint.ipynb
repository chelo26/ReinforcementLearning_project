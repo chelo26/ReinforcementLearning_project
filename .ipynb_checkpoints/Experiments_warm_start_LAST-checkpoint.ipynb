{
 "cells": [
  {
   "cell_type": "code",
   "execution_count": 1,
   "metadata": {
    "collapsed": true
   },
   "outputs": [],
   "source": [
    "--- Libraries:\n",
    "arguments = require 'Settings.arguments'\n",
    "constants = require 'Settings.constants'\n",
    "card_to_string = require 'Game.card_to_string_conversion'\n",
    "card_tools = require 'Game.card_tools'\n",
    "game_settings = require 'Settings.game_settings'\n",
    "Plot = require 'itorch.Plot'\n",
    "nninit = require 'nninit'\n",
    "require 'torch'\n",
    "require 'math'\n",
    "require 'Tree.tree_builder'\n",
    "require 'Tree.tree_data_generation'\n",
    "require 'Tree.tree_values'\n",
    "require 'Tree.tree_visualiser'\n",
    "require 'nn'\n",
    "require 'Tree.tree_cfr'\n",
    "require 'Tree.tree_cfr2'\n",
    "require 'nngraph'\n",
    "require 'optim'\n",
    "require 'image'\n",
    "require 'NN.strategy_net_builder'\n",
    "require 'NN.strategy_net_trainer'\n",
    "require 'Tree.tree_warm_start'\n",
    "require 'Nn.StrategyCriterion'\n",
    "\n",
    "\n",
    "require 'Adversarials.exploitabilityVS'\n"
   ]
  },
  {
   "cell_type": "code",
   "execution_count": 2,
   "metadata": {
    "collapsed": true
   },
   "outputs": [],
   "source": [
    "function strategies_initializer(params, starting_ranges,num_iter,num_skip)\n",
    "    local timer = torch.Timer()\n",
    "    local num_iter = num_iter or 200\n",
    "    local num_skip = num_skip or 50\n",
    "    local params = params\n",
    "    local tree_train= builder:build_tree(params)\n",
    "    local tree_data = TreeData(tree_train)\n",
    "    \n",
    "    --- running CFR for nn_iter skiping num_skip\n",
    "    local solver_train = TreeCFR2()\n",
    "    solver_train.cfr_skip = num_skip\n",
    "    solver_train:run_clean_cfr(tree_train,starting_ranges,num_iter)\n",
    "\n",
    "    --- Getting training set:\n",
    "    tree_data:get_training_set(tree_train,1)\n",
    "    print('training train tree with CFR: ')--- ..timer:time().. ' secs')\n",
    "\n",
    "    -- Building the neural net model\n",
    "    local strategy_nn = StrategyNN()\n",
    "    local nn_model = strategy_nn.model\n",
    "\n",
    "    -- Building trainer:\n",
    "    local nn_trainer = NNTrainer(tree_data,nn_model)\n",
    "    -- Options:\n",
    "    local opt = {}\n",
    "    opt.learningRate = 0.001\n",
    "    opt.momentum = 0.95\n",
    "    opt.validate = false\n",
    "    local current_criterion = StrategyLoss()---nn.SmoothL1Criterion()\n",
    "    local train,test= nn_trainer:train(nn_model,current_criterion,opt,10000)\n",
    "    print(\"training neural network: \")--- ..timer:time().. ' secs')\n",
    "\n",
    "    --- NNWarm Starting\n",
    "    local treeNNWarm = builder:build_tree(params)\n",
    "    local dataNN = TreeData(treeNNWarm)\n",
    "    dataNN:get_training_set(treeNNWarm,1)\n",
    "    dataNN:generate_new_initial_strategies(treeNNWarm,nn_trainer)\n",
    "    \n",
    "    ---Warm start the regrets for NN:\n",
    "    dataNN:warm_start_regrets(treeNNWarm,tree_train)\n",
    "    print(\"target warm-start\")\n",
    "    \n",
    "    --- Target Warm Starting\n",
    "    local treeTargetWarm = builder:build_tree(params)\n",
    "    local tree_data_target = TreeData(treeTargetWarm)\n",
    "    tree_data_target:warm_start_targets_and_regrets(treeTargetWarm,tree_train)\n",
    "    print(\"Whole Process: \")--- ..timer:time().. ' secs')\n",
    "    ---timer:stop()\n",
    "    return treeNNWarm,treeTargetWarm\n",
    "end\n",
    "\n",
    "\n",
    "function get_returns(tree1,tree2,num_iter)\n",
    "    --- default number of iterations:\n",
    "    local num_iter = num_iter or 100\n",
    "    \n",
    "    --- Evaluator : Poker match for num_iter times each combination\n",
    "    local evaluator = StrategyEvaluator(tree1,tree2)\n",
    "    evaluator:play_all_combinations_n_times(tree1,tree2,num_iter)\n",
    "    local win_rate = evaluator.A2_winning_rate\n",
    "    local avg_gain= evaluator.A2_avg_pot_won\n",
    "\n",
    "    --- Return the avg pot won and the win rate:\n",
    "    return avg_gain,win_rate\n",
    "end\n",
    "\n",
    "\n",
    "function get_tensor_returns(tree1,tree2,number_of_tests,num_iter)\n",
    "\n",
    "    --- num_iter is the number of games played all 60 combinations:\n",
    "    local num_iter = num_iter or 100\n",
    "    local number_of_tests = number_of_tests or 10\n",
    "    local avg_gain_tensor = torch.FloatTensor(1,number_of_tests)\n",
    "    local win_rate_tensor = torch.FloatTensor(1,number_of_tests)\n",
    "    \n",
    "    --- Playing for number_of_tests times the 60 combinations num iter times\n",
    "    for i =1,number_of_tests do\n",
    "        local avg_gain,win_rate = get_returns(tree1,tree2,num_iter) \n",
    "        avg_gain_tensor[{1,i}]= avg_gain\n",
    "        win_rate_tensor[{1,i}]= win_rate\n",
    "    end\n",
    "    print('avg gains: '..avg_gain_tensor:mean()..' ,win rate :'..win_rate_tensor:mean())\n",
    "    return avg_gain_tensor,win_rate_tensor\n",
    "end\n",
    "\n",
    "function get_CFR_tensor_returns(tree1,tree2,num_tests,num_games,cfr_iter,cfr_skip)\n",
    "    --- Cfr iterations and number of skpis:\n",
    "    local cfr_iter = cfr_iter or 100\n",
    "    local cfr_skip = cfr_skip or 50\n",
    "\n",
    "    --- CFR Solver:\n",
    "    local solver = TreeCFR2()\n",
    "    solver.cfr_skip = cfr_skip \n",
    "    local starting_ranges = arguments.Tensor(constants.players_count, game_settings.card_count)\n",
    "    starting_ranges[1]:copy(card_tools:get_uniform_range(tree2.board))\n",
    "    starting_ranges[2]:copy(card_tools:get_uniform_range(tree2.board))\n",
    "    \n",
    "    --- Clean CFR : without exploitability computation\n",
    "    ---local tree_data2 = TreeData(tree2)\n",
    "    local solver_train = TreeCFR2()\n",
    "    solver:run_clean_cfr(tree2, starting_ranges,cfr_iter)\n",
    "    \n",
    "    ---print(\"CFR completed iterations\")\n",
    "    --- Starts poker_match\n",
    "    local num_games = num_games or 100\n",
    "    local num_tests = num_tests or 10\n",
    "    local avg_gain_tensor = torch.FloatTensor(1,num_tests)\n",
    "    local win_rate_tensor = torch.FloatTensor(1,num_tests)\n",
    "    \n",
    "    for i =1,num_tests do\n",
    "        local avg_gain,win_rate = get_returns(tree1,tree2,num_games) \n",
    "        avg_gain_tensor[{1,i}]= avg_gain\n",
    "        win_rate_tensor[{1,i}]= win_rate\n",
    "\n",
    "    end\n",
    "    print('avg gains: '..avg_gain_tensor:mean()..' ,win rate :'..win_rate_tensor:mean())\n",
    "    return avg_gain_tensor,win_rate_tensor\n",
    "end\n"
   ]
  },
  {
   "cell_type": "code",
   "execution_count": 3,
   "metadata": {
    "collapsed": true
   },
   "outputs": [],
   "source": [
    "--- FUNCTIONS\n",
    "--- Comparing with 2000\n",
    "function compare_cfrs(tree_cfr1,tree_cfr2000)\n",
    "    local difference = {}\n",
    "    local table1 = tree_cfr1.total_strategies\n",
    "    local table2 = tree_cfr2000.total_strategies\n",
    "    \n",
    "    for i = 1, #table1 do\n",
    "        difference[i] = torch.sqrt(torch.sum(torch.pow((table1[i] - table2[#table2]),2)))\n",
    "    end\n",
    "    return torch.FloatTensor(difference)\n",
    "end\n",
    "--- Comparing 2000 with itself\n",
    "function get_convergence(tree_cfr)\n",
    "    local difference = {}\n",
    "    local table_cfr = tree_cfr.total_strategies\n",
    "    local end_strategy = table_cfr[#table_cfr]\n",
    "    \n",
    "    for i = 1, #table_cfr do\n",
    "        difference[i] = torch.sqrt(torch.sum(torch.pow((table_cfr[i] - end_strategy),2)))\n",
    "    end\n",
    "    return torch.FloatTensor(difference)\n",
    "end"
   ]
  },
  {
   "cell_type": "code",
   "execution_count": 4,
   "metadata": {
    "collapsed": true
   },
   "outputs": [],
   "source": [
    "--- Create the tree\n",
    "builder = PokerTreeBuilder()\n",
    "--- Parameters for the tree\n",
    "params = {}\n",
    "params.root_node = {}\n",
    "params.root_node.board = card_to_string:string_to_board('')\n",
    "params.root_node.street = 1\n",
    "params.root_node.current_player = constants.players.P1\n",
    "params.root_node.bets = arguments.Tensor{200, 200}\n",
    "--- CFR Solver\n",
    "starting_ranges = arguments.Tensor(constants.players_count, game_settings.card_count)\n",
    "starting_ranges[1]:copy(card_tools:get_uniform_range(params.root_node.board))\n",
    "starting_ranges[2]:copy(card_tools:get_uniform_range(params.root_node.board))"
   ]
  },
  {
   "cell_type": "markdown",
   "metadata": {},
   "source": [
    "### 1. Exploitability for original CFR and modified CFR"
   ]
  },
  {
   "cell_type": "markdown",
   "metadata": {},
   "source": [
    "### 2. Exploitability for different Strategies"
   ]
  },
  {
   "cell_type": "code",
   "execution_count": 24,
   "metadata": {
    "collapsed": true
   },
   "outputs": [],
   "source": [
    "number_of_iterations = 100"
   ]
  },
  {
   "cell_type": "code",
   "execution_count": 25,
   "metadata": {
    "collapsed": true
   },
   "outputs": [],
   "source": [
    "tree_bench = builder:build_tree(params)"
   ]
  },
  {
   "cell_type": "code",
   "execution_count": 26,
   "metadata": {
    "collapsed": true
   },
   "outputs": [],
   "source": [
    "--- Get Data from 2000 iterations\n",
    "tree800 = builder:build_tree(params)\n",
    "tree_data800 = TreeData(tree800)\n",
    "tree800_cfr = TreeCFR2()\n",
    "tree800_cfr.cfr_skip = 1"
   ]
  },
  {
   "cell_type": "code",
   "execution_count": 27,
   "metadata": {
    "collapsed": true
   },
   "outputs": [],
   "source": [
    "tree800_cfr:run_cfr(tree800, starting_ranges,number_of_iterations)\n",
    "tree_data800:get_training_set(tree800,1)"
   ]
  },
  {
   "cell_type": "markdown",
   "metadata": {},
   "source": [
    "### Training the Model"
   ]
  },
  {
   "cell_type": "code",
   "execution_count": 28,
   "metadata": {
    "collapsed": true
   },
   "outputs": [],
   "source": [
    "-- Building the neural net model\n",
    "strategy_nn = StrategyNN()\n",
    "nn_model = strategy_nn.model\n",
    "-- Building trainer:\n",
    "nn_trainer = NNTrainer(tree_data800,nn_model)\n",
    "-- Options:\n",
    "opt = {}\n",
    "opt.learningRate = 0.001\n",
    "opt.momentum = 0.95\n",
    "opt.validate = false"
   ]
  },
  {
   "cell_type": "code",
   "execution_count": 29,
   "metadata": {
    "collapsed": true
   },
   "outputs": [],
   "source": [
    "current_criterion = StrategyLoss()---nn.SmoothL1Criterion()\n",
    "train_loss,test_loss = nn_trainer:train(nn_model,current_criterion,opt,10000)"
   ]
  },
  {
   "cell_type": "code",
   "execution_count": 30,
   "metadata": {},
   "outputs": [
    {
     "data": {
      "text/plain": [
       "0.0094617262737756\n"
      ]
     },
     "execution_count": 30,
     "metadata": {},
     "output_type": "execute_result"
    }
   ],
   "source": [
    "pred_strat = nn_model:forward({nn_trainer.all_data.features,nn_trainer.all_data.masks})\n",
    "true_strat =nn_trainer.all_data.targets\n",
    "print(torch.mean(torch.abs(pred_strat- true_strat)))"
   ]
  },
  {
   "cell_type": "markdown",
   "metadata": {},
   "source": [
    "### No Warm Start"
   ]
  },
  {
   "cell_type": "code",
   "execution_count": 31,
   "metadata": {
    "collapsed": true
   },
   "outputs": [],
   "source": [
    "--- Building CFR Solver\n",
    "treeNoWarm = builder:build_tree(params)\n",
    "treeNoWarm_cfr = TreeCFR2()\n",
    "treeNoWarm_cfr.cfr_skip = 1\n",
    "treeNoWarm_cfr:run_cfr(treeNoWarm, starting_ranges,number_of_iterations)"
   ]
  },
  {
   "cell_type": "markdown",
   "metadata": {},
   "source": [
    "### Neural Net Start "
   ]
  },
  {
   "cell_type": "code",
   "execution_count": 32,
   "metadata": {
    "collapsed": true
   },
   "outputs": [],
   "source": [
    "--- NNWarm Starting\n",
    "treeNNWarm = builder:build_tree(params)\n",
    "dataNN = TreeData(treeNNWarm)\n",
    "dataNN:get_training_set(treeNNWarm,1)\n",
    "dataNN:generate_new_initial_strategies(treeNNWarm,nn_trainer)\n",
    "---Warm start the regrets:\n",
    "dataNN:warm_start_regrets(treeNNWarm,tree800)\n",
    "---tree_warm_start = TreeWarmStart()\n",
    "---tree_warm_start:run_warm_start(treeNNWarm, starting_ranges,80)\n",
    "--- Building CFR Solver\n"
   ]
  },
  {
   "cell_type": "code",
   "execution_count": 33,
   "metadata": {
    "collapsed": true
   },
   "outputs": [],
   "source": [
    "treeNNWarm_cfr = TreeCFR2()\n",
    "treeNNWarm_cfr.cfr_skip = 1\n",
    "treeNNWarm_cfr:run_cfr(treeNNWarm, starting_ranges,number_of_iterations)"
   ]
  },
  {
   "cell_type": "code",
   "execution_count": 34,
   "metadata": {
    "collapsed": true
   },
   "outputs": [],
   "source": [
    "--- NNWarm Starting\n",
    "treeNN_NoRegWarm = builder:build_tree(params)\n",
    "dataNN_NoReg = TreeData(treeNN_NoRegWarm)\n",
    "dataNN_NoReg:get_training_set(treeNN_NoRegWarm,1)\n",
    "dataNN_NoReg:generate_new_initial_strategies(treeNN_NoRegWarm,nn_trainer)\n",
    "---Warm start the regrets:\n",
    "---dataNN:warm_start_regrets(treeNN_NoRegWarm,tree800)\n",
    "--- Building CFR Solver\n",
    "treeNN_NoRegWarm_cfr = TreeCFR2()\n",
    "treeNN_NoRegWarm_cfr.cfr_skip = 1\n",
    "treeNN_NoRegWarm_cfr:run_cfr(treeNN_NoRegWarm, starting_ranges,number_of_iterations)"
   ]
  },
  {
   "cell_type": "markdown",
   "metadata": {},
   "source": [
    "### Target Warm Start "
   ]
  },
  {
   "cell_type": "code",
   "execution_count": 35,
   "metadata": {
    "collapsed": true
   },
   "outputs": [],
   "source": [
    "--- Target Warm Starting\n",
    "treeTarRegWarm = builder:build_tree(params)\n",
    "dataTargReg = TreeData(treeTarRegWarm)\n",
    "---dataTarg:get_training_set(treeTargWarm,1)\n",
    "---dataTarg:warm_start_targets(treeTargWarm,tree800)\n",
    "---dataTarg:warm_start_regrets(treeTargWarm,tree800)\n",
    "---tree_warm_start = TreeWarmStart()\n",
    "---tree_warm_start:run_warm_start(treeTargWarm, starting_ranges,number_of_iterations)\n",
    "dataTargReg:warm_start_targets_and_regrets(treeTarRegWarm,tree800)"
   ]
  },
  {
   "cell_type": "code",
   "execution_count": 36,
   "metadata": {
    "collapsed": true
   },
   "outputs": [],
   "source": [
    "--- Building CFR Solver\n",
    "treeTarRegWarm_cfr = TreeCFR2()\n",
    "treeTarRegWarm_cfr.cfr_skip = 1\n",
    "treeTarRegWarm_cfr:run_cfr(treeTarRegWarm, starting_ranges,number_of_iterations)"
   ]
  },
  {
   "cell_type": "code",
   "execution_count": 37,
   "metadata": {
    "collapsed": true
   },
   "outputs": [],
   "source": [
    "--- Target Warm Starting\n",
    "treeTarWarm = builder:build_tree(params)\n",
    "dataTarg = TreeData(treeTarWarm)\n",
    "dataTarg:warm_start_targets(treeTarWarm,tree800)\n",
    "--- Building CFR Solver\n",
    "treeTarWarm_cfr = TreeCFR2()\n",
    "treeTarWarm_cfr.cfr_skip = 1\n",
    "treeTarWarm_cfr:run_cfr(treeTarWarm, starting_ranges,number_of_iterations)"
   ]
  },
  {
   "cell_type": "code",
   "execution_count": 38,
   "metadata": {
    "collapsed": true
   },
   "outputs": [],
   "source": [
    "--- Target Warm Starting\n",
    "treeRegWarm = builder:build_tree(params)\n",
    "dataReg = TreeData(treeRegWarm)\n",
    "dataReg:warm_start_regrets(treeRegWarm,tree800)\n",
    "--- Building CFR Solver\n",
    "treeRegWarm_cfr = TreeCFR2()\n",
    "treeRegWarm_cfr.cfr_skip = 1\n",
    "treeRegWarm_cfr:run_cfr(treeRegWarm, starting_ranges,number_of_iterations)"
   ]
  },
  {
   "cell_type": "markdown",
   "metadata": {},
   "source": [
    "### Plot different starts"
   ]
  },
  {
   "cell_type": "code",
   "execution_count": 39,
   "metadata": {
    "collapsed": true
   },
   "outputs": [],
   "source": [
    "exploit_unif = tree800_cfr.exploitability_vec\n",
    "exploit_NoW = treeNoWarm_cfr.exploitability_vec\n",
    "exploit_NNW = treeNNWarm_cfr.exploitability_vec\n",
    "exploit_NN_NoReg = treeNN_NoRegWarm_cfr.exploitability_vec\n",
    "exploit_TarRegW = treeTarRegWarm_cfr.exploitability_vec\n",
    "exploit_TarW = treeTarWarm_cfr.exploitability_vec\n",
    "exploit_RegW = treeRegWarm_cfr.exploitability_vec"
   ]
  },
  {
   "cell_type": "code",
   "execution_count": 46,
   "metadata": {},
   "outputs": [
    {
     "data": {
      "text/html": [
       "<script type=\"text/javascript\">\n",
       "$(function() {\n",
       "    if (typeof (window._bokeh_onload_callbacks) === \"undefined\"){\n",
       "  window._bokeh_onload_callbacks = [];\n",
       "    }\n",
       "    function load_lib(url, callback){\n",
       "  window._bokeh_onload_callbacks.push(callback);\n",
       "  if (window._bokeh_is_loading){\n",
       "      console.log(\"Bokeh: BokehJS is being loaded, scheduling callback at\", new Date());\n",
       "      return null;\n",
       "  }\n",
       "  console.log(\"Bokeh: BokehJS not loaded, scheduling load and callback at\", new Date());\n",
       "  window._bokeh_is_loading = true;\n",
       "  var s = document.createElement('script');\n",
       "  s.src = url;\n",
       "  s.async = true;\n",
       "  s.onreadystatechange = s.onload = function(){\n",
       "      Bokeh.embed.inject_css(\"https://cdn.pydata.org/bokeh-0.7.0.min.css\");\n",
       "      window._bokeh_onload_callbacks.forEach(function(callback){callback()});\n",
       "  };\n",
       "  s.onerror = function(){\n",
       "      console.warn(\"failed to load library \" + url);\n",
       "  };\n",
       "  document.getElementsByTagName(\"head\")[0].appendChild(s);\n",
       "    }\n",
       "\n",
       "    bokehjs_url = \"https://cdn.pydata.org/bokeh-0.7.0.min.js\"\n",
       "\n",
       "    var elt = document.getElementById(\"1725984c-73e4-4183-c15e-4052212a81f0\");\n",
       "    if(elt==null) {\n",
       "  console.log(\"Bokeh: ERROR: autoload.js configured with elementid '1725984c-73e4-4183-c15e-4052212a81f0'\"\n",
       "        + \"but no matching script tag was found. \")\n",
       "  return false;\n",
       "    }\n",
       "\n",
       "    if(typeof(Bokeh) !== \"undefined\") {\n",
       "  console.log(\"Bokeh: BokehJS loaded, going straight to plotting\");\n",
       "  var modelid = \"3dd55482-4a47-40d2-c031-3d8abc312066\";\n",
       "  var modeltype = \"Plot\";\n",
       "  var all_models = [{\"attributes\":{\"data\":{\"y\":[164.95370483398,117.27606964111,86.46208190918,72.891540527344,58.317920684814,50.271202087402,43.865604400635,42.218841552734,40.967269897461,39.392150878906,34.787155151367,31.705307006836,29.735494613647,27.890766143799,26.691444396973,25.355819702148,23.979976654053,22.768564224243,21.944770812988,21.312122344971,20.679574966431,19.959644317627,19.191509246826,18.313175201416,17.232284545898,16.289377212524,15.803638458252,15.45648765564,15.049191474915,14.692914962769,14.275723457336,13.718787193298,13.14310836792,12.865229606628,12.709716796875,12.372059822083,12.142994880676,11.950262069702,11.688516616821,11.322170257568,10.984655380249,10.692081451416,10.449926376343,10.205940246582,10.019046783447,9.8855533599854,9.6588945388794,9.4313898086548,9.2288541793823,9.0421524047852,8.8606967926025],\"x\":[1,2,3,4,5,6,7,8,9,10,11,12,13,14,15,16,17,18,19,20,21,22,23,24,25,26,27,28,29,30,31,32,33,34,35,36,37,38,39,40,41,42,43,44,45,46,47,48,49,50,51]},\"discrete_ranges\":{},\"tags\":[],\"selected\":[],\"doc\":null,\"cont_ranges\":{},\"column_names\":[\"y\",\"x\"],\"id\":\"ea71b693-ba25-4092-c0ce-b6bae8355f7d\"},\"type\":\"ColumnDataSource\",\"id\":\"ea71b693-ba25-4092-c0ce-b6bae8355f7d\"},{\"attributes\":{\"fill_color\":{\"value\":\"black\"},\"line_color\":{\"value\":\"black\"},\"size\":{\"value\":10,\"units\":\"screen\"},\"id\":\"a86d8b6b-f487-4b99-cb2d-c6dcaaf403df\",\"fill_alpha\":{\"value\":0.2,\"units\":\"data\"},\"line_alpha\":{\"value\":1,\"units\":\"data\"},\"doc\":null,\"tags\":[],\"y\":{\"field\":\"y\",\"units\":\"data\"},\"x\":{\"field\":\"x\",\"units\":\"data\"}},\"type\":\"Line\",\"id\":\"a86d8b6b-f487-4b99-cb2d-c6dcaaf403df\"},{\"attributes\":{\"fill_color\":{\"value\":\"black\"},\"line_color\":{\"value\":\"black\"},\"size\":{\"value\":10,\"units\":\"screen\"},\"id\":\"c60ed08d-a293-4687-c691-0560b375f1e7\",\"fill_alpha\":{\"value\":0.2,\"units\":\"data\"},\"line_alpha\":{\"value\":1,\"units\":\"data\"},\"doc\":null,\"tags\":[],\"y\":{\"field\":\"y\",\"units\":\"data\"},\"x\":{\"field\":\"x\",\"units\":\"data\"}},\"type\":\"Line\",\"id\":\"c60ed08d-a293-4687-c691-0560b375f1e7\"},{\"attributes\":{\"name\":null,\"glyph\":{\"id\":\"a86d8b6b-f487-4b99-cb2d-c6dcaaf403df\",\"type\":\"Line\"},\"server_data_source\":null,\"id\":\"077e6cfc-10f0-46ee-c6d9-05ea634205b3\",\"data_source\":{\"id\":\"ea71b693-ba25-4092-c0ce-b6bae8355f7d\",\"type\":\"ColumnDataSource\"},\"nonselection_glyph\":{\"id\":\"c60ed08d-a293-4687-c691-0560b375f1e7\",\"type\":\"Line\"},\"doc\":null,\"selection_glyph\":null,\"tags\":[]},\"type\":\"GlyphRenderer\",\"id\":\"077e6cfc-10f0-46ee-c6d9-05ea634205b3\"},{\"attributes\":{\"data\":{\"y\":[21.630222320557,13.61248588562,11.269290924072,9.1053113937378,6.0905447006226,4.539288520813,3.7776665687561,3.1184663772583,2.6046013832092,2.6371731758118,2.3816652297974,2.3524885177612,2.2791724205017,1.7789249420166,1.690110206604,1.6428484916687,1.4800992012024,1.6904201507568,1.9434609413147,1.8299031257629,1.5538535118103,1.2258982658386,1.0489621162415,1.1885643005371,1.1168298721313,1.1305437088013,1.327654838562,1.3863592147827,1.2474284172058,1.0496311187744,0.98610687255859,1.0218706130981,1.0010356903076,1.1053605079651,1.2636098861694,1.3164978027344,1.2432289123535,1.1116995811462,0.9304051399231,0.9423565864563,0.94006633758545,0.9936957359314,1.1701526641846,1.2761616706848,1.2202801704407,1.0362672805786,0.88833379745483,0.88140487670898,0.94210529327393,0.95215797424316,1.0107173919678],\"x\":[1,2,3,4,5,6,7,8,9,10,11,12,13,14,15,16,17,18,19,20,21,22,23,24,25,26,27,28,29,30,31,32,33,34,35,36,37,38,39,40,41,42,43,44,45,46,47,48,49,50,51]},\"discrete_ranges\":{},\"tags\":[],\"selected\":[],\"doc\":null,\"cont_ranges\":{},\"column_names\":[\"y\",\"x\"],\"id\":\"2f21391c-5818-4261-c2a4-e879f0ed4d59\"},\"type\":\"ColumnDataSource\",\"id\":\"2f21391c-5818-4261-c2a4-e879f0ed4d59\"},{\"attributes\":{\"fill_color\":{\"value\":\"blue\"},\"line_color\":{\"value\":\"blue\"},\"size\":{\"value\":10,\"units\":\"screen\"},\"id\":\"81afaba5-5ef3-4808-c83a-abb050d11b2c\",\"fill_alpha\":{\"value\":0.2,\"units\":\"data\"},\"line_alpha\":{\"value\":1,\"units\":\"data\"},\"doc\":null,\"tags\":[],\"y\":{\"field\":\"y\",\"units\":\"data\"},\"x\":{\"field\":\"x\",\"units\":\"data\"}},\"type\":\"Line\",\"id\":\"81afaba5-5ef3-4808-c83a-abb050d11b2c\"},{\"attributes\":{\"fill_color\":{\"value\":\"blue\"},\"line_color\":{\"value\":\"blue\"},\"size\":{\"value\":10,\"units\":\"screen\"},\"id\":\"d72c2095-4923-49bf-c9fe-2768a3f50519\",\"fill_alpha\":{\"value\":0.2,\"units\":\"data\"},\"line_alpha\":{\"value\":1,\"units\":\"data\"},\"doc\":null,\"tags\":[],\"y\":{\"field\":\"y\",\"units\":\"data\"},\"x\":{\"field\":\"x\",\"units\":\"data\"}},\"type\":\"Line\",\"id\":\"d72c2095-4923-49bf-c9fe-2768a3f50519\"},{\"attributes\":{\"name\":null,\"glyph\":{\"id\":\"81afaba5-5ef3-4808-c83a-abb050d11b2c\",\"type\":\"Line\"},\"server_data_source\":null,\"id\":\"de94c1c1-e42c-48a3-c882-dfcdb52c400e\",\"data_source\":{\"id\":\"2f21391c-5818-4261-c2a4-e879f0ed4d59\",\"type\":\"ColumnDataSource\"},\"nonselection_glyph\":{\"id\":\"d72c2095-4923-49bf-c9fe-2768a3f50519\",\"type\":\"Line\"},\"doc\":null,\"selection_glyph\":null,\"tags\":[]},\"type\":\"GlyphRenderer\",\"id\":\"de94c1c1-e42c-48a3-c882-dfcdb52c400e\"},{\"attributes\":{\"data\":{\"y\":[8.860689163208,10.318173408508,9.2052974700928,6.9383354187012,5.3524312973022,4.4920229911804,3.1871271133423,2.1517467498779,2.2483940124512,2.2131567001343,2.4342651367188,2.7405381202698,2.2967400550842,1.7758283615112,1.8981738090515,1.9047164916992,1.9710130691528,2.1563878059387,2.0957636833191,1.7760887145996,1.3858251571655,0.99544715881348,1.1739015579224,1.1794981956482,1.2159614562988,1.2588286399841,1.2893762588501,1.2192540168762,1.1015768051147,1.0625109672546,1.076988697052,1.1013736724854,1.2597069740295,1.3342695236206,1.2767724990845,1.2338347434998,1.0743160247803,0.87558460235596,0.93260860443115,0.90143585205078,0.99070167541504,1.0916123390198,1.1787881851196,1.1366834640503,1.0248246192932,0.90403652191162,0.86503267288208,0.87002944946289,0.9111065864563,0.96443557739258,0.92616176605225],\"x\":[1,2,3,4,5,6,7,8,9,10,11,12,13,14,15,16,17,18,19,20,21,22,23,24,25,26,27,28,29,30,31,32,33,34,35,36,37,38,39,40,41,42,43,44,45,46,47,48,49,50,51]},\"discrete_ranges\":{},\"tags\":[],\"selected\":[],\"doc\":null,\"cont_ranges\":{},\"column_names\":[\"y\",\"x\"],\"id\":\"19e84cc8-c742-4bb9-cbc0-f8a96d1eb1f1\"},\"type\":\"ColumnDataSource\",\"id\":\"19e84cc8-c742-4bb9-cbc0-f8a96d1eb1f1\"},{\"attributes\":{\"fill_color\":{\"value\":\"green\"},\"line_color\":{\"value\":\"green\"},\"size\":{\"value\":10,\"units\":\"screen\"},\"id\":\"2dfc159c-29fc-40b3-c0dc-e128ad3de800\",\"fill_alpha\":{\"value\":0.2,\"units\":\"data\"},\"line_alpha\":{\"value\":1,\"units\":\"data\"},\"doc\":null,\"tags\":[],\"y\":{\"field\":\"y\",\"units\":\"data\"},\"x\":{\"field\":\"x\",\"units\":\"data\"}},\"type\":\"Line\",\"id\":\"2dfc159c-29fc-40b3-c0dc-e128ad3de800\"},{\"attributes\":{\"fill_color\":{\"value\":\"green\"},\"line_color\":{\"value\":\"green\"},\"size\":{\"value\":10,\"units\":\"screen\"},\"id\":\"5cf35fc5-e18b-4d8f-cd15-de7380f78aff\",\"fill_alpha\":{\"value\":0.2,\"units\":\"data\"},\"line_alpha\":{\"value\":1,\"units\":\"data\"},\"doc\":null,\"tags\":[],\"y\":{\"field\":\"y\",\"units\":\"data\"},\"x\":{\"field\":\"x\",\"units\":\"data\"}},\"type\":\"Line\",\"id\":\"5cf35fc5-e18b-4d8f-cd15-de7380f78aff\"},{\"attributes\":{\"name\":null,\"glyph\":{\"id\":\"2dfc159c-29fc-40b3-c0dc-e128ad3de800\",\"type\":\"Line\"},\"server_data_source\":null,\"id\":\"4d101750-79cf-437d-c300-c86e3e3e054e\",\"data_source\":{\"id\":\"19e84cc8-c742-4bb9-cbc0-f8a96d1eb1f1\",\"type\":\"ColumnDataSource\"},\"nonselection_glyph\":{\"id\":\"5cf35fc5-e18b-4d8f-cd15-de7380f78aff\",\"type\":\"Line\"},\"doc\":null,\"selection_glyph\":null,\"tags\":[]},\"type\":\"GlyphRenderer\",\"id\":\"4d101750-79cf-437d-c300-c86e3e3e054e\"},{\"attributes\":{\"doc\":null,\"sources\":[{\"columns\":[\"x\"],\"source\":{\"type\":\"ColumnDataSource\",\"id\":\"ea71b693-ba25-4092-c0ce-b6bae8355f7d\"}},{\"columns\":[\"x\"],\"source\":{\"type\":\"ColumnDataSource\",\"id\":\"2f21391c-5818-4261-c2a4-e879f0ed4d59\"}},{\"columns\":[\"x\"],\"source\":{\"type\":\"ColumnDataSource\",\"id\":\"19e84cc8-c742-4bb9-cbc0-f8a96d1eb1f1\"}}],\"tags\":[],\"id\":\"82a0c706-eb8e-4856-c8c0-982c038171a5\"},\"type\":\"DataRange1d\",\"id\":\"82a0c706-eb8e-4856-c8c0-982c038171a5\"},{\"attributes\":{\"doc\":null,\"sources\":[{\"columns\":[\"y\"],\"source\":{\"type\":\"ColumnDataSource\",\"id\":\"ea71b693-ba25-4092-c0ce-b6bae8355f7d\"}},{\"columns\":[\"y\"],\"source\":{\"type\":\"ColumnDataSource\",\"id\":\"2f21391c-5818-4261-c2a4-e879f0ed4d59\"}},{\"columns\":[\"y\"],\"source\":{\"type\":\"ColumnDataSource\",\"id\":\"19e84cc8-c742-4bb9-cbc0-f8a96d1eb1f1\"}}],\"tags\":[],\"id\":\"d5ebc4b5-cfa4-46e9-c648-4271e42b7f18\"},\"type\":\"DataRange1d\",\"id\":\"d5ebc4b5-cfa4-46e9-c648-4271e42b7f18\"},{\"attributes\":{\"doc\":null,\"geometries\":[],\"tags\":[],\"id\":\"ec558afb-3891-4d4e-cd5c-2e7e5aacdb41\"},\"type\":\"ToolEvents\",\"id\":\"ec558afb-3891-4d4e-cd5c-2e7e5aacdb41\"},{\"attributes\":{\"doc\":null,\"tags\":[],\"id\":\"241e58a8-d850-4d15-cd3b-7378c4033bcc\"},\"type\":\"BasicTickFormatter\",\"id\":\"241e58a8-d850-4d15-cd3b-7378c4033bcc\"},{\"attributes\":{\"doc\":null,\"num_minor_ticks\":5,\"tags\":[],\"id\":\"daae56da-a97c-45ca-c5af-cfaddafa27df\"},\"type\":\"BasicTicker\",\"id\":\"daae56da-a97c-45ca-c5af-cfaddafa27df\"},{\"attributes\":{\"ticker\":{\"id\":\"daae56da-a97c-45ca-c5af-cfaddafa27df\",\"type\":\"BasicTicker\"},\"tags\":[],\"axis_label\":\"Scaled number of iterations\",\"doc\":null,\"formatter\":{\"id\":\"241e58a8-d850-4d15-cd3b-7378c4033bcc\",\"type\":\"BasicTickFormatter\"},\"plot\":{\"id\":\"3dd55482-4a47-40d2-c031-3d8abc312066\",\"type\":\"Plot\",\"subtype\":\"Figure\"},\"id\":\"8216224f-aa41-4f95-cf23-a519aad21a57\"},\"type\":\"LinearAxis\",\"id\":\"8216224f-aa41-4f95-cf23-a519aad21a57\"},{\"attributes\":{\"ticker\":{\"id\":\"daae56da-a97c-45ca-c5af-cfaddafa27df\",\"type\":\"BasicTicker\"},\"tags\":[],\"doc\":null,\"dimension\":0,\"plot\":{\"id\":\"3dd55482-4a47-40d2-c031-3d8abc312066\",\"type\":\"Plot\",\"subtype\":\"Figure\"},\"id\":\"b4302da8-1759-4db0-cd34-e9fd6092b5fe\"},\"type\":\"Grid\",\"id\":\"b4302da8-1759-4db0-cd34-e9fd6092b5fe\"},{\"attributes\":{\"doc\":null,\"tags\":[],\"id\":\"6cea250a-d041-48d6-c87e-1add8b4d6763\"},\"type\":\"BasicTickFormatter\",\"id\":\"6cea250a-d041-48d6-c87e-1add8b4d6763\"},{\"attributes\":{\"doc\":null,\"num_minor_ticks\":5,\"tags\":[],\"id\":\"514d8ccd-6355-4ff0-cfec-314408fcff54\"},\"type\":\"BasicTicker\",\"id\":\"514d8ccd-6355-4ff0-cfec-314408fcff54\"},{\"attributes\":{\"ticker\":{\"id\":\"514d8ccd-6355-4ff0-cfec-314408fcff54\",\"type\":\"BasicTicker\"},\"tags\":[],\"axis_label\":\"Exploitability\",\"doc\":null,\"formatter\":{\"id\":\"6cea250a-d041-48d6-c87e-1add8b4d6763\",\"type\":\"BasicTickFormatter\"},\"plot\":{\"id\":\"3dd55482-4a47-40d2-c031-3d8abc312066\",\"type\":\"Plot\",\"subtype\":\"Figure\"},\"id\":\"8a616b8f-1329-46a4-c66d-68f860215674\"},\"type\":\"LinearAxis\",\"id\":\"8a616b8f-1329-46a4-c66d-68f860215674\"},{\"attributes\":{\"ticker\":{\"id\":\"514d8ccd-6355-4ff0-cfec-314408fcff54\",\"type\":\"BasicTicker\"},\"tags\":[],\"doc\":null,\"dimension\":1,\"plot\":{\"id\":\"3dd55482-4a47-40d2-c031-3d8abc312066\",\"type\":\"Plot\",\"subtype\":\"Figure\"},\"id\":\"d678bd83-b927-4aba-caa4-e0fd83ed919a\"},\"type\":\"Grid\",\"id\":\"d678bd83-b927-4aba-caa4-e0fd83ed919a\"},{\"attributes\":{\"tags\":[],\"doc\":null,\"dimensions\":[\"width\",\"height\"],\"plot\":{\"id\":\"3dd55482-4a47-40d2-c031-3d8abc312066\",\"type\":\"Plot\",\"subtype\":\"Figure\"},\"id\":\"73d6ab14-4bc6-4a6f-ca13-42e3b4f73249\"},\"type\":\"PanTool\",\"id\":\"73d6ab14-4bc6-4a6f-ca13-42e3b4f73249\"},{\"attributes\":{\"tags\":[],\"doc\":null,\"dimensions\":[\"width\",\"height\"],\"plot\":{\"id\":\"3dd55482-4a47-40d2-c031-3d8abc312066\",\"type\":\"Plot\",\"subtype\":\"Figure\"},\"id\":\"60b8898b-bf7c-4223-c2d0-41c4d80a4ee8\"},\"type\":\"WheelZoomTool\",\"id\":\"60b8898b-bf7c-4223-c2d0-41c4d80a4ee8\"},{\"attributes\":{\"doc\":null,\"plot\":{\"id\":\"3dd55482-4a47-40d2-c031-3d8abc312066\",\"type\":\"Plot\",\"subtype\":\"Figure\"},\"tags\":[],\"id\":\"4486526d-00c4-4315-c3d5-64d0cc9c17ee\"},\"type\":\"BoxZoomTool\",\"id\":\"4486526d-00c4-4315-c3d5-64d0cc9c17ee\"},{\"attributes\":{\"doc\":null,\"plot\":{\"id\":\"3dd55482-4a47-40d2-c031-3d8abc312066\",\"type\":\"Plot\",\"subtype\":\"Figure\"},\"tags\":[],\"id\":\"d3fde016-2144-416c-c1a5-3ff0259dcbb5\"},\"type\":\"PreviewSaveTool\",\"id\":\"d3fde016-2144-416c-c1a5-3ff0259dcbb5\"},{\"attributes\":{\"doc\":null,\"plot\":{\"id\":\"3dd55482-4a47-40d2-c031-3d8abc312066\",\"type\":\"Plot\",\"subtype\":\"Figure\"},\"tags\":[],\"id\":\"6213cb30-bcd8-48c8-c87f-66ae93d6acc1\"},\"type\":\"ResizeTool\",\"id\":\"6213cb30-bcd8-48c8-c87f-66ae93d6acc1\"},{\"attributes\":{\"doc\":null,\"plot\":{\"id\":\"3dd55482-4a47-40d2-c031-3d8abc312066\",\"type\":\"Plot\",\"subtype\":\"Figure\"},\"tags\":[],\"id\":\"569e4980-f548-43e0-c341-e6cdb2d825a5\"},\"type\":\"ResetTool\",\"id\":\"569e4980-f548-43e0-c341-e6cdb2d825a5\"},{\"attributes\":{\"tags\":[],\"doc\":null,\"legends\":[[\"No Warm start = Random initialization\",[{\"id\":\"077e6cfc-10f0-46ee-c6d9-05ea634205b3\",\"type\":\"GlyphRenderer\"}]],[\"Neural Network warm start\",[{\"id\":\"de94c1c1-e42c-48a3-c882-dfcdb52c400e\",\"type\":\"GlyphRenderer\"}]],[\"Oracle warm start\",[{\"id\":\"4d101750-79cf-437d-c300-c86e3e3e054e\",\"type\":\"GlyphRenderer\"}]]],\"plot\":{\"id\":\"3dd55482-4a47-40d2-c031-3d8abc312066\",\"type\":\"Plot\",\"subtype\":\"Figure\"},\"id\":\"5f267c00-8e21-42ff-c219-7bc099c4c137\"},\"type\":\"Legend\",\"id\":\"5f267c00-8e21-42ff-c219-7bc099c4c137\"},{\"attributes\":{\"renderers\":[{\"id\":\"077e6cfc-10f0-46ee-c6d9-05ea634205b3\",\"type\":\"GlyphRenderer\"},{\"id\":\"de94c1c1-e42c-48a3-c882-dfcdb52c400e\",\"type\":\"GlyphRenderer\"},{\"id\":\"4d101750-79cf-437d-c300-c86e3e3e054e\",\"type\":\"GlyphRenderer\"},{\"id\":\"8216224f-aa41-4f95-cf23-a519aad21a57\",\"type\":\"LinearAxis\"},{\"id\":\"b4302da8-1759-4db0-cd34-e9fd6092b5fe\",\"type\":\"Grid\"},{\"id\":\"8a616b8f-1329-46a4-c66d-68f860215674\",\"type\":\"LinearAxis\"},{\"id\":\"d678bd83-b927-4aba-caa4-e0fd83ed919a\",\"type\":\"Grid\"},{\"id\":\"5f267c00-8e21-42ff-c219-7bc099c4c137\",\"type\":\"Legend\"}],\"extra_x_ranges\":{},\"right\":[],\"x_range\":{\"id\":\"82a0c706-eb8e-4856-c8c0-982c038171a5\",\"type\":\"DataRange1d\"},\"y_range\":{\"id\":\"d5ebc4b5-cfa4-46e9-c648-4271e42b7f18\",\"type\":\"DataRange1d\"},\"extra_y_ranges\":{},\"id\":\"3dd55482-4a47-40d2-c031-3d8abc312066\",\"tool_events\":{\"id\":\"ec558afb-3891-4d4e-cd5c-2e7e5aacdb41\",\"type\":\"ToolEvents\"},\"above\":[],\"tags\":[],\"tools\":[{\"id\":\"73d6ab14-4bc6-4a6f-ca13-42e3b4f73249\",\"type\":\"PanTool\"},{\"id\":\"60b8898b-bf7c-4223-c2d0-41c4d80a4ee8\",\"type\":\"WheelZoomTool\"},{\"id\":\"4486526d-00c4-4315-c3d5-64d0cc9c17ee\",\"type\":\"BoxZoomTool\"},{\"id\":\"d3fde016-2144-416c-c1a5-3ff0259dcbb5\",\"type\":\"PreviewSaveTool\"},{\"id\":\"6213cb30-bcd8-48c8-c87f-66ae93d6acc1\",\"type\":\"ResizeTool\"},{\"id\":\"569e4980-f548-43e0-c341-e6cdb2d825a5\",\"type\":\"ResetTool\"}],\"doc\":null,\"left\":[{\"id\":\"8a616b8f-1329-46a4-c66d-68f860215674\",\"type\":\"LinearAxis\"}],\"below\":[{\"id\":\"8216224f-aa41-4f95-cf23-a519aad21a57\",\"type\":\"LinearAxis\"}],\"title\":\"Exploitability of different initializations, 200 iter.\"},\"type\":\"Plot\",\"id\":\"3dd55482-4a47-40d2-c031-3d8abc312066\"}];\n",
       "  Bokeh.load_models(all_models);\n",
       "  var model = Bokeh.Collections(modeltype).get(modelid);\n",
       "  $(\"#1725984c-73e4-4183-c15e-4052212a81f0\").html(''); // clear any previous plot in window_id\n",
       "  var view = new model.default_view({model: model, el: \"#1725984c-73e4-4183-c15e-4052212a81f0\"});\n",
       "    } else {\n",
       "  load_lib(bokehjs_url, function() {\n",
       "      console.log(\"Bokeh: BokehJS plotting callback run at\", new Date())\n",
       "      var modelid = \"3dd55482-4a47-40d2-c031-3d8abc312066\";\n",
       "      var modeltype = \"Plot\";\n",
       "      var all_models = [{\"attributes\":{\"data\":{\"y\":[164.95370483398,117.27606964111,86.46208190918,72.891540527344,58.317920684814,50.271202087402,43.865604400635,42.218841552734,40.967269897461,39.392150878906,34.787155151367,31.705307006836,29.735494613647,27.890766143799,26.691444396973,25.355819702148,23.979976654053,22.768564224243,21.944770812988,21.312122344971,20.679574966431,19.959644317627,19.191509246826,18.313175201416,17.232284545898,16.289377212524,15.803638458252,15.45648765564,15.049191474915,14.692914962769,14.275723457336,13.718787193298,13.14310836792,12.865229606628,12.709716796875,12.372059822083,12.142994880676,11.950262069702,11.688516616821,11.322170257568,10.984655380249,10.692081451416,10.449926376343,10.205940246582,10.019046783447,9.8855533599854,9.6588945388794,9.4313898086548,9.2288541793823,9.0421524047852,8.8606967926025],\"x\":[1,2,3,4,5,6,7,8,9,10,11,12,13,14,15,16,17,18,19,20,21,22,23,24,25,26,27,28,29,30,31,32,33,34,35,36,37,38,39,40,41,42,43,44,45,46,47,48,49,50,51]},\"discrete_ranges\":{},\"tags\":[],\"selected\":[],\"doc\":null,\"cont_ranges\":{},\"column_names\":[\"y\",\"x\"],\"id\":\"ea71b693-ba25-4092-c0ce-b6bae8355f7d\"},\"type\":\"ColumnDataSource\",\"id\":\"ea71b693-ba25-4092-c0ce-b6bae8355f7d\"},{\"attributes\":{\"fill_color\":{\"value\":\"black\"},\"line_color\":{\"value\":\"black\"},\"size\":{\"value\":10,\"units\":\"screen\"},\"id\":\"a86d8b6b-f487-4b99-cb2d-c6dcaaf403df\",\"fill_alpha\":{\"value\":0.2,\"units\":\"data\"},\"line_alpha\":{\"value\":1,\"units\":\"data\"},\"doc\":null,\"tags\":[],\"y\":{\"field\":\"y\",\"units\":\"data\"},\"x\":{\"field\":\"x\",\"units\":\"data\"}},\"type\":\"Line\",\"id\":\"a86d8b6b-f487-4b99-cb2d-c6dcaaf403df\"},{\"attributes\":{\"fill_color\":{\"value\":\"black\"},\"line_color\":{\"value\":\"black\"},\"size\":{\"value\":10,\"units\":\"screen\"},\"id\":\"c60ed08d-a293-4687-c691-0560b375f1e7\",\"fill_alpha\":{\"value\":0.2,\"units\":\"data\"},\"line_alpha\":{\"value\":1,\"units\":\"data\"},\"doc\":null,\"tags\":[],\"y\":{\"field\":\"y\",\"units\":\"data\"},\"x\":{\"field\":\"x\",\"units\":\"data\"}},\"type\":\"Line\",\"id\":\"c60ed08d-a293-4687-c691-0560b375f1e7\"},{\"attributes\":{\"name\":null,\"glyph\":{\"id\":\"a86d8b6b-f487-4b99-cb2d-c6dcaaf403df\",\"type\":\"Line\"},\"server_data_source\":null,\"id\":\"077e6cfc-10f0-46ee-c6d9-05ea634205b3\",\"data_source\":{\"id\":\"ea71b693-ba25-4092-c0ce-b6bae8355f7d\",\"type\":\"ColumnDataSource\"},\"nonselection_glyph\":{\"id\":\"c60ed08d-a293-4687-c691-0560b375f1e7\",\"type\":\"Line\"},\"doc\":null,\"selection_glyph\":null,\"tags\":[]},\"type\":\"GlyphRenderer\",\"id\":\"077e6cfc-10f0-46ee-c6d9-05ea634205b3\"},{\"attributes\":{\"data\":{\"y\":[21.630222320557,13.61248588562,11.269290924072,9.1053113937378,6.0905447006226,4.539288520813,3.7776665687561,3.1184663772583,2.6046013832092,2.6371731758118,2.3816652297974,2.3524885177612,2.2791724205017,1.7789249420166,1.690110206604,1.6428484916687,1.4800992012024,1.6904201507568,1.9434609413147,1.8299031257629,1.5538535118103,1.2258982658386,1.0489621162415,1.1885643005371,1.1168298721313,1.1305437088013,1.327654838562,1.3863592147827,1.2474284172058,1.0496311187744,0.98610687255859,1.0218706130981,1.0010356903076,1.1053605079651,1.2636098861694,1.3164978027344,1.2432289123535,1.1116995811462,0.9304051399231,0.9423565864563,0.94006633758545,0.9936957359314,1.1701526641846,1.2761616706848,1.2202801704407,1.0362672805786,0.88833379745483,0.88140487670898,0.94210529327393,0.95215797424316,1.0107173919678],\"x\":[1,2,3,4,5,6,7,8,9,10,11,12,13,14,15,16,17,18,19,20,21,22,23,24,25,26,27,28,29,30,31,32,33,34,35,36,37,38,39,40,41,42,43,44,45,46,47,48,49,50,51]},\"discrete_ranges\":{},\"tags\":[],\"selected\":[],\"doc\":null,\"cont_ranges\":{},\"column_names\":[\"y\",\"x\"],\"id\":\"2f21391c-5818-4261-c2a4-e879f0ed4d59\"},\"type\":\"ColumnDataSource\",\"id\":\"2f21391c-5818-4261-c2a4-e879f0ed4d59\"},{\"attributes\":{\"fill_color\":{\"value\":\"blue\"},\"line_color\":{\"value\":\"blue\"},\"size\":{\"value\":10,\"units\":\"screen\"},\"id\":\"81afaba5-5ef3-4808-c83a-abb050d11b2c\",\"fill_alpha\":{\"value\":0.2,\"units\":\"data\"},\"line_alpha\":{\"value\":1,\"units\":\"data\"},\"doc\":null,\"tags\":[],\"y\":{\"field\":\"y\",\"units\":\"data\"},\"x\":{\"field\":\"x\",\"units\":\"data\"}},\"type\":\"Line\",\"id\":\"81afaba5-5ef3-4808-c83a-abb050d11b2c\"},{\"attributes\":{\"fill_color\":{\"value\":\"blue\"},\"line_color\":{\"value\":\"blue\"},\"size\":{\"value\":10,\"units\":\"screen\"},\"id\":\"d72c2095-4923-49bf-c9fe-2768a3f50519\",\"fill_alpha\":{\"value\":0.2,\"units\":\"data\"},\"line_alpha\":{\"value\":1,\"units\":\"data\"},\"doc\":null,\"tags\":[],\"y\":{\"field\":\"y\",\"units\":\"data\"},\"x\":{\"field\":\"x\",\"units\":\"data\"}},\"type\":\"Line\",\"id\":\"d72c2095-4923-49bf-c9fe-2768a3f50519\"},{\"attributes\":{\"name\":null,\"glyph\":{\"id\":\"81afaba5-5ef3-4808-c83a-abb050d11b2c\",\"type\":\"Line\"},\"server_data_source\":null,\"id\":\"de94c1c1-e42c-48a3-c882-dfcdb52c400e\",\"data_source\":{\"id\":\"2f21391c-5818-4261-c2a4-e879f0ed4d59\",\"type\":\"ColumnDataSource\"},\"nonselection_glyph\":{\"id\":\"d72c2095-4923-49bf-c9fe-2768a3f50519\",\"type\":\"Line\"},\"doc\":null,\"selection_glyph\":null,\"tags\":[]},\"type\":\"GlyphRenderer\",\"id\":\"de94c1c1-e42c-48a3-c882-dfcdb52c400e\"},{\"attributes\":{\"data\":{\"y\":[8.860689163208,10.318173408508,9.2052974700928,6.9383354187012,5.3524312973022,4.4920229911804,3.1871271133423,2.1517467498779,2.2483940124512,2.2131567001343,2.4342651367188,2.7405381202698,2.2967400550842,1.7758283615112,1.8981738090515,1.9047164916992,1.9710130691528,2.1563878059387,2.0957636833191,1.7760887145996,1.3858251571655,0.99544715881348,1.1739015579224,1.1794981956482,1.2159614562988,1.2588286399841,1.2893762588501,1.2192540168762,1.1015768051147,1.0625109672546,1.076988697052,1.1013736724854,1.2597069740295,1.3342695236206,1.2767724990845,1.2338347434998,1.0743160247803,0.87558460235596,0.93260860443115,0.90143585205078,0.99070167541504,1.0916123390198,1.1787881851196,1.1366834640503,1.0248246192932,0.90403652191162,0.86503267288208,0.87002944946289,0.9111065864563,0.96443557739258,0.92616176605225],\"x\":[1,2,3,4,5,6,7,8,9,10,11,12,13,14,15,16,17,18,19,20,21,22,23,24,25,26,27,28,29,30,31,32,33,34,35,36,37,38,39,40,41,42,43,44,45,46,47,48,49,50,51]},\"discrete_ranges\":{},\"tags\":[],\"selected\":[],\"doc\":null,\"cont_ranges\":{},\"column_names\":[\"y\",\"x\"],\"id\":\"19e84cc8-c742-4bb9-cbc0-f8a96d1eb1f1\"},\"type\":\"ColumnDataSource\",\"id\":\"19e84cc8-c742-4bb9-cbc0-f8a96d1eb1f1\"},{\"attributes\":{\"fill_color\":{\"value\":\"green\"},\"line_color\":{\"value\":\"green\"},\"size\":{\"value\":10,\"units\":\"screen\"},\"id\":\"2dfc159c-29fc-40b3-c0dc-e128ad3de800\",\"fill_alpha\":{\"value\":0.2,\"units\":\"data\"},\"line_alpha\":{\"value\":1,\"units\":\"data\"},\"doc\":null,\"tags\":[],\"y\":{\"field\":\"y\",\"units\":\"data\"},\"x\":{\"field\":\"x\",\"units\":\"data\"}},\"type\":\"Line\",\"id\":\"2dfc159c-29fc-40b3-c0dc-e128ad3de800\"},{\"attributes\":{\"fill_color\":{\"value\":\"green\"},\"line_color\":{\"value\":\"green\"},\"size\":{\"value\":10,\"units\":\"screen\"},\"id\":\"5cf35fc5-e18b-4d8f-cd15-de7380f78aff\",\"fill_alpha\":{\"value\":0.2,\"units\":\"data\"},\"line_alpha\":{\"value\":1,\"units\":\"data\"},\"doc\":null,\"tags\":[],\"y\":{\"field\":\"y\",\"units\":\"data\"},\"x\":{\"field\":\"x\",\"units\":\"data\"}},\"type\":\"Line\",\"id\":\"5cf35fc5-e18b-4d8f-cd15-de7380f78aff\"},{\"attributes\":{\"name\":null,\"glyph\":{\"id\":\"2dfc159c-29fc-40b3-c0dc-e128ad3de800\",\"type\":\"Line\"},\"server_data_source\":null,\"id\":\"4d101750-79cf-437d-c300-c86e3e3e054e\",\"data_source\":{\"id\":\"19e84cc8-c742-4bb9-cbc0-f8a96d1eb1f1\",\"type\":\"ColumnDataSource\"},\"nonselection_glyph\":{\"id\":\"5cf35fc5-e18b-4d8f-cd15-de7380f78aff\",\"type\":\"Line\"},\"doc\":null,\"selection_glyph\":null,\"tags\":[]},\"type\":\"GlyphRenderer\",\"id\":\"4d101750-79cf-437d-c300-c86e3e3e054e\"},{\"attributes\":{\"doc\":null,\"sources\":[{\"columns\":[\"x\"],\"source\":{\"type\":\"ColumnDataSource\",\"id\":\"ea71b693-ba25-4092-c0ce-b6bae8355f7d\"}},{\"columns\":[\"x\"],\"source\":{\"type\":\"ColumnDataSource\",\"id\":\"2f21391c-5818-4261-c2a4-e879f0ed4d59\"}},{\"columns\":[\"x\"],\"source\":{\"type\":\"ColumnDataSource\",\"id\":\"19e84cc8-c742-4bb9-cbc0-f8a96d1eb1f1\"}}],\"tags\":[],\"id\":\"82a0c706-eb8e-4856-c8c0-982c038171a5\"},\"type\":\"DataRange1d\",\"id\":\"82a0c706-eb8e-4856-c8c0-982c038171a5\"},{\"attributes\":{\"doc\":null,\"sources\":[{\"columns\":[\"y\"],\"source\":{\"type\":\"ColumnDataSource\",\"id\":\"ea71b693-ba25-4092-c0ce-b6bae8355f7d\"}},{\"columns\":[\"y\"],\"source\":{\"type\":\"ColumnDataSource\",\"id\":\"2f21391c-5818-4261-c2a4-e879f0ed4d59\"}},{\"columns\":[\"y\"],\"source\":{\"type\":\"ColumnDataSource\",\"id\":\"19e84cc8-c742-4bb9-cbc0-f8a96d1eb1f1\"}}],\"tags\":[],\"id\":\"d5ebc4b5-cfa4-46e9-c648-4271e42b7f18\"},\"type\":\"DataRange1d\",\"id\":\"d5ebc4b5-cfa4-46e9-c648-4271e42b7f18\"},{\"attributes\":{\"doc\":null,\"geometries\":[],\"tags\":[],\"id\":\"ec558afb-3891-4d4e-cd5c-2e7e5aacdb41\"},\"type\":\"ToolEvents\",\"id\":\"ec558afb-3891-4d4e-cd5c-2e7e5aacdb41\"},{\"attributes\":{\"doc\":null,\"tags\":[],\"id\":\"241e58a8-d850-4d15-cd3b-7378c4033bcc\"},\"type\":\"BasicTickFormatter\",\"id\":\"241e58a8-d850-4d15-cd3b-7378c4033bcc\"},{\"attributes\":{\"doc\":null,\"num_minor_ticks\":5,\"tags\":[],\"id\":\"daae56da-a97c-45ca-c5af-cfaddafa27df\"},\"type\":\"BasicTicker\",\"id\":\"daae56da-a97c-45ca-c5af-cfaddafa27df\"},{\"attributes\":{\"ticker\":{\"id\":\"daae56da-a97c-45ca-c5af-cfaddafa27df\",\"type\":\"BasicTicker\"},\"tags\":[],\"axis_label\":\"Scaled number of iterations\",\"doc\":null,\"formatter\":{\"id\":\"241e58a8-d850-4d15-cd3b-7378c4033bcc\",\"type\":\"BasicTickFormatter\"},\"plot\":{\"id\":\"3dd55482-4a47-40d2-c031-3d8abc312066\",\"type\":\"Plot\",\"subtype\":\"Figure\"},\"id\":\"8216224f-aa41-4f95-cf23-a519aad21a57\"},\"type\":\"LinearAxis\",\"id\":\"8216224f-aa41-4f95-cf23-a519aad21a57\"},{\"attributes\":{\"ticker\":{\"id\":\"daae56da-a97c-45ca-c5af-cfaddafa27df\",\"type\":\"BasicTicker\"},\"tags\":[],\"doc\":null,\"dimension\":0,\"plot\":{\"id\":\"3dd55482-4a47-40d2-c031-3d8abc312066\",\"type\":\"Plot\",\"subtype\":\"Figure\"},\"id\":\"b4302da8-1759-4db0-cd34-e9fd6092b5fe\"},\"type\":\"Grid\",\"id\":\"b4302da8-1759-4db0-cd34-e9fd6092b5fe\"},{\"attributes\":{\"doc\":null,\"tags\":[],\"id\":\"6cea250a-d041-48d6-c87e-1add8b4d6763\"},\"type\":\"BasicTickFormatter\",\"id\":\"6cea250a-d041-48d6-c87e-1add8b4d6763\"},{\"attributes\":{\"doc\":null,\"num_minor_ticks\":5,\"tags\":[],\"id\":\"514d8ccd-6355-4ff0-cfec-314408fcff54\"},\"type\":\"BasicTicker\",\"id\":\"514d8ccd-6355-4ff0-cfec-314408fcff54\"},{\"attributes\":{\"ticker\":{\"id\":\"514d8ccd-6355-4ff0-cfec-314408fcff54\",\"type\":\"BasicTicker\"},\"tags\":[],\"axis_label\":\"Exploitability\",\"doc\":null,\"formatter\":{\"id\":\"6cea250a-d041-48d6-c87e-1add8b4d6763\",\"type\":\"BasicTickFormatter\"},\"plot\":{\"id\":\"3dd55482-4a47-40d2-c031-3d8abc312066\",\"type\":\"Plot\",\"subtype\":\"Figure\"},\"id\":\"8a616b8f-1329-46a4-c66d-68f860215674\"},\"type\":\"LinearAxis\",\"id\":\"8a616b8f-1329-46a4-c66d-68f860215674\"},{\"attributes\":{\"ticker\":{\"id\":\"514d8ccd-6355-4ff0-cfec-314408fcff54\",\"type\":\"BasicTicker\"},\"tags\":[],\"doc\":null,\"dimension\":1,\"plot\":{\"id\":\"3dd55482-4a47-40d2-c031-3d8abc312066\",\"type\":\"Plot\",\"subtype\":\"Figure\"},\"id\":\"d678bd83-b927-4aba-caa4-e0fd83ed919a\"},\"type\":\"Grid\",\"id\":\"d678bd83-b927-4aba-caa4-e0fd83ed919a\"},{\"attributes\":{\"tags\":[],\"doc\":null,\"dimensions\":[\"width\",\"height\"],\"plot\":{\"id\":\"3dd55482-4a47-40d2-c031-3d8abc312066\",\"type\":\"Plot\",\"subtype\":\"Figure\"},\"id\":\"73d6ab14-4bc6-4a6f-ca13-42e3b4f73249\"},\"type\":\"PanTool\",\"id\":\"73d6ab14-4bc6-4a6f-ca13-42e3b4f73249\"},{\"attributes\":{\"tags\":[],\"doc\":null,\"dimensions\":[\"width\",\"height\"],\"plot\":{\"id\":\"3dd55482-4a47-40d2-c031-3d8abc312066\",\"type\":\"Plot\",\"subtype\":\"Figure\"},\"id\":\"60b8898b-bf7c-4223-c2d0-41c4d80a4ee8\"},\"type\":\"WheelZoomTool\",\"id\":\"60b8898b-bf7c-4223-c2d0-41c4d80a4ee8\"},{\"attributes\":{\"doc\":null,\"plot\":{\"id\":\"3dd55482-4a47-40d2-c031-3d8abc312066\",\"type\":\"Plot\",\"subtype\":\"Figure\"},\"tags\":[],\"id\":\"4486526d-00c4-4315-c3d5-64d0cc9c17ee\"},\"type\":\"BoxZoomTool\",\"id\":\"4486526d-00c4-4315-c3d5-64d0cc9c17ee\"},{\"attributes\":{\"doc\":null,\"plot\":{\"id\":\"3dd55482-4a47-40d2-c031-3d8abc312066\",\"type\":\"Plot\",\"subtype\":\"Figure\"},\"tags\":[],\"id\":\"d3fde016-2144-416c-c1a5-3ff0259dcbb5\"},\"type\":\"PreviewSaveTool\",\"id\":\"d3fde016-2144-416c-c1a5-3ff0259dcbb5\"},{\"attributes\":{\"doc\":null,\"plot\":{\"id\":\"3dd55482-4a47-40d2-c031-3d8abc312066\",\"type\":\"Plot\",\"subtype\":\"Figure\"},\"tags\":[],\"id\":\"6213cb30-bcd8-48c8-c87f-66ae93d6acc1\"},\"type\":\"ResizeTool\",\"id\":\"6213cb30-bcd8-48c8-c87f-66ae93d6acc1\"},{\"attributes\":{\"doc\":null,\"plot\":{\"id\":\"3dd55482-4a47-40d2-c031-3d8abc312066\",\"type\":\"Plot\",\"subtype\":\"Figure\"},\"tags\":[],\"id\":\"569e4980-f548-43e0-c341-e6cdb2d825a5\"},\"type\":\"ResetTool\",\"id\":\"569e4980-f548-43e0-c341-e6cdb2d825a5\"},{\"attributes\":{\"tags\":[],\"doc\":null,\"legends\":[[\"No Warm start = Random initialization\",[{\"id\":\"077e6cfc-10f0-46ee-c6d9-05ea634205b3\",\"type\":\"GlyphRenderer\"}]],[\"Neural Network warm start\",[{\"id\":\"de94c1c1-e42c-48a3-c882-dfcdb52c400e\",\"type\":\"GlyphRenderer\"}]],[\"Oracle warm start\",[{\"id\":\"4d101750-79cf-437d-c300-c86e3e3e054e\",\"type\":\"GlyphRenderer\"}]]],\"plot\":{\"id\":\"3dd55482-4a47-40d2-c031-3d8abc312066\",\"type\":\"Plot\",\"subtype\":\"Figure\"},\"id\":\"5f267c00-8e21-42ff-c219-7bc099c4c137\"},\"type\":\"Legend\",\"id\":\"5f267c00-8e21-42ff-c219-7bc099c4c137\"},{\"attributes\":{\"renderers\":[{\"id\":\"077e6cfc-10f0-46ee-c6d9-05ea634205b3\",\"type\":\"GlyphRenderer\"},{\"id\":\"de94c1c1-e42c-48a3-c882-dfcdb52c400e\",\"type\":\"GlyphRenderer\"},{\"id\":\"4d101750-79cf-437d-c300-c86e3e3e054e\",\"type\":\"GlyphRenderer\"},{\"id\":\"8216224f-aa41-4f95-cf23-a519aad21a57\",\"type\":\"LinearAxis\"},{\"id\":\"b4302da8-1759-4db0-cd34-e9fd6092b5fe\",\"type\":\"Grid\"},{\"id\":\"8a616b8f-1329-46a4-c66d-68f860215674\",\"type\":\"LinearAxis\"},{\"id\":\"d678bd83-b927-4aba-caa4-e0fd83ed919a\",\"type\":\"Grid\"},{\"id\":\"5f267c00-8e21-42ff-c219-7bc099c4c137\",\"type\":\"Legend\"}],\"extra_x_ranges\":{},\"right\":[],\"x_range\":{\"id\":\"82a0c706-eb8e-4856-c8c0-982c038171a5\",\"type\":\"DataRange1d\"},\"y_range\":{\"id\":\"d5ebc4b5-cfa4-46e9-c648-4271e42b7f18\",\"type\":\"DataRange1d\"},\"extra_y_ranges\":{},\"id\":\"3dd55482-4a47-40d2-c031-3d8abc312066\",\"tool_events\":{\"id\":\"ec558afb-3891-4d4e-cd5c-2e7e5aacdb41\",\"type\":\"ToolEvents\"},\"above\":[],\"tags\":[],\"tools\":[{\"id\":\"73d6ab14-4bc6-4a6f-ca13-42e3b4f73249\",\"type\":\"PanTool\"},{\"id\":\"60b8898b-bf7c-4223-c2d0-41c4d80a4ee8\",\"type\":\"WheelZoomTool\"},{\"id\":\"4486526d-00c4-4315-c3d5-64d0cc9c17ee\",\"type\":\"BoxZoomTool\"},{\"id\":\"d3fde016-2144-416c-c1a5-3ff0259dcbb5\",\"type\":\"PreviewSaveTool\"},{\"id\":\"6213cb30-bcd8-48c8-c87f-66ae93d6acc1\",\"type\":\"ResizeTool\"},{\"id\":\"569e4980-f548-43e0-c341-e6cdb2d825a5\",\"type\":\"ResetTool\"}],\"doc\":null,\"left\":[{\"id\":\"8a616b8f-1329-46a4-c66d-68f860215674\",\"type\":\"LinearAxis\"}],\"below\":[{\"id\":\"8216224f-aa41-4f95-cf23-a519aad21a57\",\"type\":\"LinearAxis\"}],\"title\":\"Exploitability of different initializations, 200 iter.\"},\"type\":\"Plot\",\"id\":\"3dd55482-4a47-40d2-c031-3d8abc312066\"}];\n",
       "      Bokeh.load_models(all_models);\n",
       "      var model = Bokeh.Collections(modeltype).get(modelid);\n",
       "      $(\"#1725984c-73e4-4183-c15e-4052212a81f0\").html(''); // clear any previous plot in window_id\n",
       "      var view = new model.default_view({model: model, el: \"#1725984c-73e4-4183-c15e-4052212a81f0\"});\n",
       "  });\n",
       "    }\n",
       "});\n",
       "</script>\n",
       "<div class=\"plotdiv\" id=\"1725984c-73e4-4183-c15e-4052212a81f0\"></div>\n"
      ]
     },
     "metadata": {},
     "output_type": "display_data"
    }
   ],
   "source": [
    "local num_iter = torch.range(1,exploit_NoW:size(1))\n",
    "local plot = Plot()\n",
    "\n",
    "---plot:line(num_iter,exploit_unif,'black' ,'No Warm start CFR = Uniform warm start')\n",
    "plot:line(num_iter,exploit_NoW,'black' ,'No Warm start = Random initialization')\n",
    "plot:line(num_iter,exploit_NNW,'blue' ,'Neural Network warm start')\n",
    "---plot:line(num_iter,exploit_NN_NoReg,'orange' ,'Neural Net warm start CFR no Regrets')\n",
    "plot:line(num_iter,exploit_TarRegW,'green' ,'Oracle warm start')\n",
    "--plot:line(num_iter,exploit_TarW,'brown' ,'Warm start only targets')\n",
    "---plot:line(num_iter,exploit_RegW,'red' ,'Warm start with target values ')\n",
    "plot:legend(true):title('Exploitability of different initializations, 200 iter.')\n",
    "plot:xaxis('Scaled number of iterations'):yaxis('Exploitability'):redraw()\n"
   ]
  },
  {
   "cell_type": "code",
   "execution_count": 66,
   "metadata": {},
   "outputs": [
    {
     "data": {
      "text/plain": [
       " 164.9537\n",
       " 117.2761\n",
       "  86.4621\n",
       "  72.8915\n",
       "  58.3179\n",
       "  50.2712\n",
       "  43.8656\n",
       "  42.2188\n",
       "  40.9673\n",
       "  39.3922\n",
       "  34.7872\n",
       "  31.7053\n",
       "  29.7355\n",
       "  27.8908\n",
       "  26.6914\n",
       "  25.3558\n",
       "  23.9800\n",
       "  22.7686\n",
       "  21.9448\n",
       "  21.3121\n",
       "  20.6796\n",
       "  19.9596\n",
       "  19.1915\n",
       "  18.3132\n",
       "  17.2323\n",
       "  16.2894\n",
       "  15.8036\n",
       "  15.4565\n",
       "  15.0492\n",
       "  14.6929\n",
       "  14.2757\n",
       "  13.7188\n",
       "  13.1431\n",
       "  12.8652\n",
       "  12.7097\n",
       "  12.3721\n",
       "  12.1430\n",
       "  11.9503\n",
       "  11.6885\n",
       "  11.3222\n",
       "  10.9847\n",
       "  10.6921\n",
       "  10.4499\n",
       "  10.2059\n",
       "  10.0190\n",
       "   9.8856\n",
       "   9.6589\n",
       "   9.4314\n",
       "   9.2289\n",
       "   9.0422\n",
       "   8.8607\n",
       "[torch.FloatTensor of size 51]\n",
       "\n"
      ]
     },
     "execution_count": 66,
     "metadata": {},
     "output_type": "execute_result"
    }
   ],
   "source": [
    "exploit_NoW\n"
   ]
  },
  {
   "cell_type": "code",
   "execution_count": 69,
   "metadata": {},
   "outputs": [
    {
     "data": {
      "text/plain": [
       "12000000\n"
      ]
     },
     "execution_count": 69,
     "metadata": {},
     "output_type": "execute_result"
    }
   ],
   "source": [
    "8*1500000"
   ]
  },
  {
   "cell_type": "code",
   "execution_count": null,
   "metadata": {
    "collapsed": true
   },
   "outputs": [],
   "source": []
  },
  {
   "cell_type": "code",
   "execution_count": 45,
   "metadata": {},
   "outputs": [
    {
     "data": {
      "text/html": [
       "<script type=\"text/javascript\">\n",
       "$(function() {\n",
       "    if (typeof (window._bokeh_onload_callbacks) === \"undefined\"){\n",
       "  window._bokeh_onload_callbacks = [];\n",
       "    }\n",
       "    function load_lib(url, callback){\n",
       "  window._bokeh_onload_callbacks.push(callback);\n",
       "  if (window._bokeh_is_loading){\n",
       "      console.log(\"Bokeh: BokehJS is being loaded, scheduling callback at\", new Date());\n",
       "      return null;\n",
       "  }\n",
       "  console.log(\"Bokeh: BokehJS not loaded, scheduling load and callback at\", new Date());\n",
       "  window._bokeh_is_loading = true;\n",
       "  var s = document.createElement('script');\n",
       "  s.src = url;\n",
       "  s.async = true;\n",
       "  s.onreadystatechange = s.onload = function(){\n",
       "      Bokeh.embed.inject_css(\"https://cdn.pydata.org/bokeh-0.7.0.min.css\");\n",
       "      window._bokeh_onload_callbacks.forEach(function(callback){callback()});\n",
       "  };\n",
       "  s.onerror = function(){\n",
       "      console.warn(\"failed to load library \" + url);\n",
       "  };\n",
       "  document.getElementsByTagName(\"head\")[0].appendChild(s);\n",
       "    }\n",
       "\n",
       "    bokehjs_url = \"https://cdn.pydata.org/bokeh-0.7.0.min.js\"\n",
       "\n",
       "    var elt = document.getElementById(\"c458aadf-629c-4118-c11c-f4f75285b8ea\");\n",
       "    if(elt==null) {\n",
       "  console.log(\"Bokeh: ERROR: autoload.js configured with elementid 'c458aadf-629c-4118-c11c-f4f75285b8ea'\"\n",
       "        + \"but no matching script tag was found. \")\n",
       "  return false;\n",
       "    }\n",
       "\n",
       "    if(typeof(Bokeh) !== \"undefined\") {\n",
       "  console.log(\"Bokeh: BokehJS loaded, going straight to plotting\");\n",
       "  var modelid = \"c353503d-0f00-40ae-c0dd-308860ec8a87\";\n",
       "  var modeltype = \"Plot\";\n",
       "  var all_models = [{\"attributes\":{\"data\":{\"y\":[164.95370483398,117.27606964111,86.46208190918,72.891540527344,58.317920684814,50.271202087402,43.865604400635,42.218841552734,40.967269897461,39.392150878906,34.787155151367,31.705307006836,29.735494613647,27.890766143799,26.691444396973,25.355819702148,23.979976654053,22.768564224243,21.944770812988,21.312122344971,20.679574966431,19.959644317627,19.191509246826,18.313175201416,17.232284545898,16.289377212524,15.803638458252,15.45648765564,15.049191474915,14.692914962769,14.275723457336,13.718787193298,13.14310836792,12.865229606628,12.709716796875,12.372059822083,12.142994880676,11.950262069702,11.688516616821,11.322170257568,10.984655380249,10.692081451416,10.449926376343,10.205940246582,10.019046783447,9.8855533599854,9.6588945388794,9.4313898086548,9.2288541793823,9.0421524047852,8.8606967926025],\"x\":[1,2,3,4,5,6,7,8,9,10,11,12,13,14,15,16,17,18,19,20,21,22,23,24,25,26,27,28,29,30,31,32,33,34,35,36,37,38,39,40,41,42,43,44,45,46,47,48,49,50,51]},\"discrete_ranges\":{},\"tags\":[],\"selected\":[],\"doc\":null,\"cont_ranges\":{},\"column_names\":[\"y\",\"x\"],\"id\":\"e544fbd1-2b7a-4e88-ce56-c83764d96a3e\"},\"type\":\"ColumnDataSource\",\"id\":\"e544fbd1-2b7a-4e88-ce56-c83764d96a3e\"},{\"attributes\":{\"fill_color\":{\"value\":\"black\"},\"line_color\":{\"value\":\"black\"},\"size\":{\"value\":10,\"units\":\"screen\"},\"id\":\"f1cd5214-3881-44e5-c496-68fddda2edb8\",\"fill_alpha\":{\"value\":0.2,\"units\":\"data\"},\"line_alpha\":{\"value\":1,\"units\":\"data\"},\"doc\":null,\"tags\":[],\"y\":{\"field\":\"y\",\"units\":\"data\"},\"x\":{\"field\":\"x\",\"units\":\"data\"}},\"type\":\"Line\",\"id\":\"f1cd5214-3881-44e5-c496-68fddda2edb8\"},{\"attributes\":{\"fill_color\":{\"value\":\"black\"},\"line_color\":{\"value\":\"black\"},\"size\":{\"value\":10,\"units\":\"screen\"},\"id\":\"0f61ae53-fe7f-406f-c0d3-438bb7d4790d\",\"fill_alpha\":{\"value\":0.2,\"units\":\"data\"},\"line_alpha\":{\"value\":1,\"units\":\"data\"},\"doc\":null,\"tags\":[],\"y\":{\"field\":\"y\",\"units\":\"data\"},\"x\":{\"field\":\"x\",\"units\":\"data\"}},\"type\":\"Line\",\"id\":\"0f61ae53-fe7f-406f-c0d3-438bb7d4790d\"},{\"attributes\":{\"name\":null,\"glyph\":{\"id\":\"f1cd5214-3881-44e5-c496-68fddda2edb8\",\"type\":\"Line\"},\"server_data_source\":null,\"id\":\"e4b5b46a-1374-4501-c59d-1b3d6d43c688\",\"data_source\":{\"id\":\"e544fbd1-2b7a-4e88-ce56-c83764d96a3e\",\"type\":\"ColumnDataSource\"},\"nonselection_glyph\":{\"id\":\"0f61ae53-fe7f-406f-c0d3-438bb7d4790d\",\"type\":\"Line\"},\"doc\":null,\"selection_glyph\":null,\"tags\":[]},\"type\":\"GlyphRenderer\",\"id\":\"e4b5b46a-1374-4501-c59d-1b3d6d43c688\"},{\"attributes\":{\"data\":{\"y\":[21.630222320557,105.24452209473,106.15347290039,84.087615966797,61.581748962402,58.841567993164,56.575874328613,52.950607299805,45.925918579102,40.692226409912,37.575359344482,34.284202575684,31.039709091187,28.491458892822,26.964624404907,25.673290252686,23.939668655396,22.757026672363,21.749332427979,21.160423278809,20.632675170898,19.718881607056,18.65922164917,17.64896774292,17.140417098999,16.53814125061,15.888263702393,15.392581939697,15.009150505066,14.426321029663,13.660781860352,13.207963943481,12.874645233154,12.623603820801,12.323212623596,12.13050365448,11.887617111206,11.484323501587,10.962023735046,10.633028030396,10.556167602539,10.345592498779,10.188319206238,10.053244590759,9.8744831085205,9.6200485229492,9.3324851989746,9.078498840332,8.8834733963013,8.7115459442139,8.5774803161621],\"x\":[1,2,3,4,5,6,7,8,9,10,11,12,13,14,15,16,17,18,19,20,21,22,23,24,25,26,27,28,29,30,31,32,33,34,35,36,37,38,39,40,41,42,43,44,45,46,47,48,49,50,51]},\"discrete_ranges\":{},\"tags\":[],\"selected\":[],\"doc\":null,\"cont_ranges\":{},\"column_names\":[\"y\",\"x\"],\"id\":\"df733cda-c69f-47f0-c752-8476c52074e6\"},\"type\":\"ColumnDataSource\",\"id\":\"df733cda-c69f-47f0-c752-8476c52074e6\"},{\"attributes\":{\"fill_color\":{\"value\":\"blue\"},\"line_color\":{\"value\":\"blue\"},\"size\":{\"value\":10,\"units\":\"screen\"},\"id\":\"dfe58fc6-4edd-4962-c940-388db3eba22e\",\"fill_alpha\":{\"value\":0.2,\"units\":\"data\"},\"line_alpha\":{\"value\":1,\"units\":\"data\"},\"doc\":null,\"tags\":[],\"y\":{\"field\":\"y\",\"units\":\"data\"},\"x\":{\"field\":\"x\",\"units\":\"data\"}},\"type\":\"Line\",\"id\":\"dfe58fc6-4edd-4962-c940-388db3eba22e\"},{\"attributes\":{\"fill_color\":{\"value\":\"blue\"},\"line_color\":{\"value\":\"blue\"},\"size\":{\"value\":10,\"units\":\"screen\"},\"id\":\"91164bc2-caef-430d-c3d1-547e695fc5df\",\"fill_alpha\":{\"value\":0.2,\"units\":\"data\"},\"line_alpha\":{\"value\":1,\"units\":\"data\"},\"doc\":null,\"tags\":[],\"y\":{\"field\":\"y\",\"units\":\"data\"},\"x\":{\"field\":\"x\",\"units\":\"data\"}},\"type\":\"Line\",\"id\":\"91164bc2-caef-430d-c3d1-547e695fc5df\"},{\"attributes\":{\"name\":null,\"glyph\":{\"id\":\"dfe58fc6-4edd-4962-c940-388db3eba22e\",\"type\":\"Line\"},\"server_data_source\":null,\"id\":\"25054d6a-642c-43ef-c335-42b9484d54c4\",\"data_source\":{\"id\":\"df733cda-c69f-47f0-c752-8476c52074e6\",\"type\":\"ColumnDataSource\"},\"nonselection_glyph\":{\"id\":\"91164bc2-caef-430d-c3d1-547e695fc5df\",\"type\":\"Line\"},\"doc\":null,\"selection_glyph\":null,\"tags\":[]},\"type\":\"GlyphRenderer\",\"id\":\"25054d6a-642c-43ef-c335-42b9484d54c4\"},{\"attributes\":{\"data\":{\"y\":[8.860689163208,10.318173408508,9.2052974700928,6.9383354187012,5.3524312973022,4.4920229911804,3.1871271133423,2.1517467498779,2.2483940124512,2.2131567001343,2.4342651367188,2.7405381202698,2.2967400550842,1.7758283615112,1.8981738090515,1.9047164916992,1.9710130691528,2.1563878059387,2.0957636833191,1.7760887145996,1.3858251571655,0.99544715881348,1.1739015579224,1.1794981956482,1.2159614562988,1.2588286399841,1.2893762588501,1.2192540168762,1.1015768051147,1.0625109672546,1.076988697052,1.1013736724854,1.2597069740295,1.3342695236206,1.2767724990845,1.2338347434998,1.0743160247803,0.87558460235596,0.93260860443115,0.90143585205078,0.99070167541504,1.0916123390198,1.1787881851196,1.1366834640503,1.0248246192932,0.90403652191162,0.86503267288208,0.87002944946289,0.9111065864563,0.96443557739258,0.92616176605225],\"x\":[1,2,3,4,5,6,7,8,9,10,11,12,13,14,15,16,17,18,19,20,21,22,23,24,25,26,27,28,29,30,31,32,33,34,35,36,37,38,39,40,41,42,43,44,45,46,47,48,49,50,51]},\"discrete_ranges\":{},\"tags\":[],\"selected\":[],\"doc\":null,\"cont_ranges\":{},\"column_names\":[\"y\",\"x\"],\"id\":\"6275e131-2cf4-4bb0-cb8b-9337f7dc8490\"},\"type\":\"ColumnDataSource\",\"id\":\"6275e131-2cf4-4bb0-cb8b-9337f7dc8490\"},{\"attributes\":{\"fill_color\":{\"value\":\"brown\"},\"line_color\":{\"value\":\"brown\"},\"size\":{\"value\":10,\"units\":\"screen\"},\"id\":\"45293a75-2829-48ed-c8d8-deba538fc8a7\",\"fill_alpha\":{\"value\":0.2,\"units\":\"data\"},\"line_alpha\":{\"value\":1,\"units\":\"data\"},\"doc\":null,\"tags\":[],\"y\":{\"field\":\"y\",\"units\":\"data\"},\"x\":{\"field\":\"x\",\"units\":\"data\"}},\"type\":\"Line\",\"id\":\"45293a75-2829-48ed-c8d8-deba538fc8a7\"},{\"attributes\":{\"fill_color\":{\"value\":\"brown\"},\"line_color\":{\"value\":\"brown\"},\"size\":{\"value\":10,\"units\":\"screen\"},\"id\":\"c063b1b5-b9a3-419f-c1d7-0fa16139bf6d\",\"fill_alpha\":{\"value\":0.2,\"units\":\"data\"},\"line_alpha\":{\"value\":1,\"units\":\"data\"},\"doc\":null,\"tags\":[],\"y\":{\"field\":\"y\",\"units\":\"data\"},\"x\":{\"field\":\"x\",\"units\":\"data\"}},\"type\":\"Line\",\"id\":\"c063b1b5-b9a3-419f-c1d7-0fa16139bf6d\"},{\"attributes\":{\"name\":null,\"glyph\":{\"id\":\"45293a75-2829-48ed-c8d8-deba538fc8a7\",\"type\":\"Line\"},\"server_data_source\":null,\"id\":\"057dcd96-976d-499e-c9ff-503fe770ba99\",\"data_source\":{\"id\":\"6275e131-2cf4-4bb0-cb8b-9337f7dc8490\",\"type\":\"ColumnDataSource\"},\"nonselection_glyph\":{\"id\":\"c063b1b5-b9a3-419f-c1d7-0fa16139bf6d\",\"type\":\"Line\"},\"doc\":null,\"selection_glyph\":null,\"tags\":[]},\"type\":\"GlyphRenderer\",\"id\":\"057dcd96-976d-499e-c9ff-503fe770ba99\"},{\"attributes\":{\"data\":{\"y\":[8.860689163208,138.48237609863,135.00421142578,93.791915893555,85.321250915527,72.468719482422,60.172611236572,51.43155670166,46.595733642578,41.765182495117,37.119422912598,33.496143341064,31.741468429565,30.668651580811,29.101146697998,27.065803527832,24.867197036743,22.85990524292,22.006715774536,21.428955078125,20.791093826294,20.048511505127,18.9091796875,18.034378051758,17.740612030029,17.175825119019,16.716804504395,16.386024475098,15.88910484314,15.097690582275,14.540628433228,14.325409889221,14.018337249756,13.796004295349,13.575655937195,13.530782699585,13.379104614258,13.07212638855,12.558683395386,12.045943260193,11.709988594055,11.472869873047,11.322273254395,11.176297187805,10.899845123291,10.615471839905,10.359912872314,10.176705360413,10.022333145142,9.8537635803223,9.6503391265869],\"x\":[1,2,3,4,5,6,7,8,9,10,11,12,13,14,15,16,17,18,19,20,21,22,23,24,25,26,27,28,29,30,31,32,33,34,35,36,37,38,39,40,41,42,43,44,45,46,47,48,49,50,51]},\"discrete_ranges\":{},\"tags\":[],\"selected\":[],\"doc\":null,\"cont_ranges\":{},\"column_names\":[\"y\",\"x\"],\"id\":\"3ddc3156-3d81-46cc-c640-d879093a70e3\"},\"type\":\"ColumnDataSource\",\"id\":\"3ddc3156-3d81-46cc-c640-d879093a70e3\"},{\"attributes\":{\"fill_color\":{\"value\":\"green\"},\"line_color\":{\"value\":\"green\"},\"size\":{\"value\":10,\"units\":\"screen\"},\"id\":\"cd0d99f8-0885-4ecf-ce9e-de24b106ebdf\",\"fill_alpha\":{\"value\":0.2,\"units\":\"data\"},\"line_alpha\":{\"value\":1,\"units\":\"data\"},\"doc\":null,\"tags\":[],\"y\":{\"field\":\"y\",\"units\":\"data\"},\"x\":{\"field\":\"x\",\"units\":\"data\"}},\"type\":\"Line\",\"id\":\"cd0d99f8-0885-4ecf-ce9e-de24b106ebdf\"},{\"attributes\":{\"fill_color\":{\"value\":\"green\"},\"line_color\":{\"value\":\"green\"},\"size\":{\"value\":10,\"units\":\"screen\"},\"id\":\"43d3cd03-c863-4638-c625-1e2998aa62dd\",\"fill_alpha\":{\"value\":0.2,\"units\":\"data\"},\"line_alpha\":{\"value\":1,\"units\":\"data\"},\"doc\":null,\"tags\":[],\"y\":{\"field\":\"y\",\"units\":\"data\"},\"x\":{\"field\":\"x\",\"units\":\"data\"}},\"type\":\"Line\",\"id\":\"43d3cd03-c863-4638-c625-1e2998aa62dd\"},{\"attributes\":{\"name\":null,\"glyph\":{\"id\":\"cd0d99f8-0885-4ecf-ce9e-de24b106ebdf\",\"type\":\"Line\"},\"server_data_source\":null,\"id\":\"fc5e023f-aac7-4926-c9b5-e10f9a34a7b3\",\"data_source\":{\"id\":\"3ddc3156-3d81-46cc-c640-d879093a70e3\",\"type\":\"ColumnDataSource\"},\"nonselection_glyph\":{\"id\":\"43d3cd03-c863-4638-c625-1e2998aa62dd\",\"type\":\"Line\"},\"doc\":null,\"selection_glyph\":null,\"tags\":[]},\"type\":\"GlyphRenderer\",\"id\":\"fc5e023f-aac7-4926-c9b5-e10f9a34a7b3\"},{\"attributes\":{\"doc\":null,\"sources\":[{\"columns\":[\"x\"],\"source\":{\"type\":\"ColumnDataSource\",\"id\":\"e544fbd1-2b7a-4e88-ce56-c83764d96a3e\"}},{\"columns\":[\"x\"],\"source\":{\"type\":\"ColumnDataSource\",\"id\":\"df733cda-c69f-47f0-c752-8476c52074e6\"}},{\"columns\":[\"x\"],\"source\":{\"type\":\"ColumnDataSource\",\"id\":\"6275e131-2cf4-4bb0-cb8b-9337f7dc8490\"}},{\"columns\":[\"x\"],\"source\":{\"type\":\"ColumnDataSource\",\"id\":\"3ddc3156-3d81-46cc-c640-d879093a70e3\"}}],\"tags\":[],\"id\":\"b9298881-f445-44d3-c410-77247b5007dd\"},\"type\":\"DataRange1d\",\"id\":\"b9298881-f445-44d3-c410-77247b5007dd\"},{\"attributes\":{\"doc\":null,\"sources\":[{\"columns\":[\"y\"],\"source\":{\"type\":\"ColumnDataSource\",\"id\":\"e544fbd1-2b7a-4e88-ce56-c83764d96a3e\"}},{\"columns\":[\"y\"],\"source\":{\"type\":\"ColumnDataSource\",\"id\":\"df733cda-c69f-47f0-c752-8476c52074e6\"}},{\"columns\":[\"y\"],\"source\":{\"type\":\"ColumnDataSource\",\"id\":\"6275e131-2cf4-4bb0-cb8b-9337f7dc8490\"}},{\"columns\":[\"y\"],\"source\":{\"type\":\"ColumnDataSource\",\"id\":\"3ddc3156-3d81-46cc-c640-d879093a70e3\"}}],\"tags\":[],\"id\":\"0f77e8c3-e6a3-44c9-c442-e0d8430651d6\"},\"type\":\"DataRange1d\",\"id\":\"0f77e8c3-e6a3-44c9-c442-e0d8430651d6\"},{\"attributes\":{\"doc\":null,\"geometries\":[],\"tags\":[],\"id\":\"a18e9ae6-970a-44d9-c450-b679a17d701c\"},\"type\":\"ToolEvents\",\"id\":\"a18e9ae6-970a-44d9-c450-b679a17d701c\"},{\"attributes\":{\"doc\":null,\"tags\":[],\"id\":\"9729256d-7b45-4bf4-cb16-7dd1ec3318cc\"},\"type\":\"BasicTickFormatter\",\"id\":\"9729256d-7b45-4bf4-cb16-7dd1ec3318cc\"},{\"attributes\":{\"doc\":null,\"num_minor_ticks\":5,\"tags\":[],\"id\":\"e09baa13-7030-4014-c0a1-91e454ec32dc\"},\"type\":\"BasicTicker\",\"id\":\"e09baa13-7030-4014-c0a1-91e454ec32dc\"},{\"attributes\":{\"ticker\":{\"id\":\"e09baa13-7030-4014-c0a1-91e454ec32dc\",\"type\":\"BasicTicker\"},\"tags\":[],\"axis_label\":\"Scaled number of iterations\",\"doc\":null,\"formatter\":{\"id\":\"9729256d-7b45-4bf4-cb16-7dd1ec3318cc\",\"type\":\"BasicTickFormatter\"},\"plot\":{\"id\":\"c353503d-0f00-40ae-c0dd-308860ec8a87\",\"type\":\"Plot\",\"subtype\":\"Figure\"},\"id\":\"0663a3d1-3a24-4013-c0c0-6f3828b28254\"},\"type\":\"LinearAxis\",\"id\":\"0663a3d1-3a24-4013-c0c0-6f3828b28254\"},{\"attributes\":{\"ticker\":{\"id\":\"e09baa13-7030-4014-c0a1-91e454ec32dc\",\"type\":\"BasicTicker\"},\"tags\":[],\"doc\":null,\"dimension\":0,\"plot\":{\"id\":\"c353503d-0f00-40ae-c0dd-308860ec8a87\",\"type\":\"Plot\",\"subtype\":\"Figure\"},\"id\":\"b3174351-043c-4d0b-cd90-c2208e5cb557\"},\"type\":\"Grid\",\"id\":\"b3174351-043c-4d0b-cd90-c2208e5cb557\"},{\"attributes\":{\"doc\":null,\"tags\":[],\"id\":\"6f9505e0-25a1-4ea9-cef1-1b5fd2698e29\"},\"type\":\"BasicTickFormatter\",\"id\":\"6f9505e0-25a1-4ea9-cef1-1b5fd2698e29\"},{\"attributes\":{\"doc\":null,\"num_minor_ticks\":5,\"tags\":[],\"id\":\"4567668a-1e44-47fa-c73a-98a9f5b89725\"},\"type\":\"BasicTicker\",\"id\":\"4567668a-1e44-47fa-c73a-98a9f5b89725\"},{\"attributes\":{\"ticker\":{\"id\":\"4567668a-1e44-47fa-c73a-98a9f5b89725\",\"type\":\"BasicTicker\"},\"tags\":[],\"axis_label\":\"Exploitability\",\"doc\":null,\"formatter\":{\"id\":\"6f9505e0-25a1-4ea9-cef1-1b5fd2698e29\",\"type\":\"BasicTickFormatter\"},\"plot\":{\"id\":\"c353503d-0f00-40ae-c0dd-308860ec8a87\",\"type\":\"Plot\",\"subtype\":\"Figure\"},\"id\":\"5c213534-0066-4193-c1ef-336e6310ec0f\"},\"type\":\"LinearAxis\",\"id\":\"5c213534-0066-4193-c1ef-336e6310ec0f\"},{\"attributes\":{\"ticker\":{\"id\":\"4567668a-1e44-47fa-c73a-98a9f5b89725\",\"type\":\"BasicTicker\"},\"tags\":[],\"doc\":null,\"dimension\":1,\"plot\":{\"id\":\"c353503d-0f00-40ae-c0dd-308860ec8a87\",\"type\":\"Plot\",\"subtype\":\"Figure\"},\"id\":\"0ec1877f-333d-400a-c0e4-761601c00eb0\"},\"type\":\"Grid\",\"id\":\"0ec1877f-333d-400a-c0e4-761601c00eb0\"},{\"attributes\":{\"tags\":[],\"doc\":null,\"dimensions\":[\"width\",\"height\"],\"plot\":{\"id\":\"c353503d-0f00-40ae-c0dd-308860ec8a87\",\"type\":\"Plot\",\"subtype\":\"Figure\"},\"id\":\"d78654f9-a350-4a36-cab1-a49e1ace2850\"},\"type\":\"PanTool\",\"id\":\"d78654f9-a350-4a36-cab1-a49e1ace2850\"},{\"attributes\":{\"tags\":[],\"doc\":null,\"dimensions\":[\"width\",\"height\"],\"plot\":{\"id\":\"c353503d-0f00-40ae-c0dd-308860ec8a87\",\"type\":\"Plot\",\"subtype\":\"Figure\"},\"id\":\"8e35c837-5d41-4bde-cbea-37c2f14af631\"},\"type\":\"WheelZoomTool\",\"id\":\"8e35c837-5d41-4bde-cbea-37c2f14af631\"},{\"attributes\":{\"doc\":null,\"plot\":{\"id\":\"c353503d-0f00-40ae-c0dd-308860ec8a87\",\"type\":\"Plot\",\"subtype\":\"Figure\"},\"tags\":[],\"id\":\"6dafa698-39eb-438f-c399-4031fa0d027b\"},\"type\":\"BoxZoomTool\",\"id\":\"6dafa698-39eb-438f-c399-4031fa0d027b\"},{\"attributes\":{\"doc\":null,\"plot\":{\"id\":\"c353503d-0f00-40ae-c0dd-308860ec8a87\",\"type\":\"Plot\",\"subtype\":\"Figure\"},\"tags\":[],\"id\":\"20f99167-01de-423c-c2ed-0bff820932f8\"},\"type\":\"PreviewSaveTool\",\"id\":\"20f99167-01de-423c-c2ed-0bff820932f8\"},{\"attributes\":{\"doc\":null,\"plot\":{\"id\":\"c353503d-0f00-40ae-c0dd-308860ec8a87\",\"type\":\"Plot\",\"subtype\":\"Figure\"},\"tags\":[],\"id\":\"d33f5a7d-69c8-4239-c26d-b173d81e343e\"},\"type\":\"ResizeTool\",\"id\":\"d33f5a7d-69c8-4239-c26d-b173d81e343e\"},{\"attributes\":{\"doc\":null,\"plot\":{\"id\":\"c353503d-0f00-40ae-c0dd-308860ec8a87\",\"type\":\"Plot\",\"subtype\":\"Figure\"},\"tags\":[],\"id\":\"35e1e9b3-137a-4add-caac-d5b7594e9e39\"},\"type\":\"ResetTool\",\"id\":\"35e1e9b3-137a-4add-caac-d5b7594e9e39\"},{\"attributes\":{\"tags\":[],\"doc\":null,\"legends\":[[\"No Warm start = Random initialization\",[{\"id\":\"e4b5b46a-1374-4501-c59d-1b3d6d43c688\",\"type\":\"GlyphRenderer\"}]],[\"Neural Network warm start without regrets\",[{\"id\":\"25054d6a-642c-43ef-c335-42b9484d54c4\",\"type\":\"GlyphRenderer\"}]],[\"Oracle warm start with regrets\",[{\"id\":\"057dcd96-976d-499e-c9ff-503fe770ba99\",\"type\":\"GlyphRenderer\"}]],[\"Oracle warm start without regrets\",[{\"id\":\"fc5e023f-aac7-4926-c9b5-e10f9a34a7b3\",\"type\":\"GlyphRenderer\"}]]],\"plot\":{\"id\":\"c353503d-0f00-40ae-c0dd-308860ec8a87\",\"type\":\"Plot\",\"subtype\":\"Figure\"},\"id\":\"4afaf0c3-eea8-4926-c91c-015f33597d21\"},\"type\":\"Legend\",\"id\":\"4afaf0c3-eea8-4926-c91c-015f33597d21\"},{\"attributes\":{\"renderers\":[{\"id\":\"e4b5b46a-1374-4501-c59d-1b3d6d43c688\",\"type\":\"GlyphRenderer\"},{\"id\":\"25054d6a-642c-43ef-c335-42b9484d54c4\",\"type\":\"GlyphRenderer\"},{\"id\":\"057dcd96-976d-499e-c9ff-503fe770ba99\",\"type\":\"GlyphRenderer\"},{\"id\":\"fc5e023f-aac7-4926-c9b5-e10f9a34a7b3\",\"type\":\"GlyphRenderer\"},{\"id\":\"0663a3d1-3a24-4013-c0c0-6f3828b28254\",\"type\":\"LinearAxis\"},{\"id\":\"b3174351-043c-4d0b-cd90-c2208e5cb557\",\"type\":\"Grid\"},{\"id\":\"5c213534-0066-4193-c1ef-336e6310ec0f\",\"type\":\"LinearAxis\"},{\"id\":\"0ec1877f-333d-400a-c0e4-761601c00eb0\",\"type\":\"Grid\"},{\"id\":\"4afaf0c3-eea8-4926-c91c-015f33597d21\",\"type\":\"Legend\"}],\"extra_x_ranges\":{},\"right\":[],\"x_range\":{\"id\":\"b9298881-f445-44d3-c410-77247b5007dd\",\"type\":\"DataRange1d\"},\"y_range\":{\"id\":\"0f77e8c3-e6a3-44c9-c442-e0d8430651d6\",\"type\":\"DataRange1d\"},\"extra_y_ranges\":{},\"id\":\"c353503d-0f00-40ae-c0dd-308860ec8a87\",\"tool_events\":{\"id\":\"a18e9ae6-970a-44d9-c450-b679a17d701c\",\"type\":\"ToolEvents\"},\"above\":[],\"tags\":[],\"tools\":[{\"id\":\"d78654f9-a350-4a36-cab1-a49e1ace2850\",\"type\":\"PanTool\"},{\"id\":\"8e35c837-5d41-4bde-cbea-37c2f14af631\",\"type\":\"WheelZoomTool\"},{\"id\":\"6dafa698-39eb-438f-c399-4031fa0d027b\",\"type\":\"BoxZoomTool\"},{\"id\":\"20f99167-01de-423c-c2ed-0bff820932f8\",\"type\":\"PreviewSaveTool\"},{\"id\":\"d33f5a7d-69c8-4239-c26d-b173d81e343e\",\"type\":\"ResizeTool\"},{\"id\":\"35e1e9b3-137a-4add-caac-d5b7594e9e39\",\"type\":\"ResetTool\"}],\"doc\":null,\"left\":[{\"id\":\"5c213534-0066-4193-c1ef-336e6310ec0f\",\"type\":\"LinearAxis\"}],\"below\":[{\"id\":\"0663a3d1-3a24-4013-c0c0-6f3828b28254\",\"type\":\"LinearAxis\"}],\"title\":\"Exploitability of different initializations, 200 iter.\"},\"type\":\"Plot\",\"id\":\"c353503d-0f00-40ae-c0dd-308860ec8a87\"}];\n",
       "  Bokeh.load_models(all_models);\n",
       "  var model = Bokeh.Collections(modeltype).get(modelid);\n",
       "  $(\"#c458aadf-629c-4118-c11c-f4f75285b8ea\").html(''); // clear any previous plot in window_id\n",
       "  var view = new model.default_view({model: model, el: \"#c458aadf-629c-4118-c11c-f4f75285b8ea\"});\n",
       "    } else {\n",
       "  load_lib(bokehjs_url, function() {\n",
       "      console.log(\"Bokeh: BokehJS plotting callback run at\", new Date())\n",
       "      var modelid = \"c353503d-0f00-40ae-c0dd-308860ec8a87\";\n",
       "      var modeltype = \"Plot\";\n",
       "      var all_models = [{\"attributes\":{\"data\":{\"y\":[164.95370483398,117.27606964111,86.46208190918,72.891540527344,58.317920684814,50.271202087402,43.865604400635,42.218841552734,40.967269897461,39.392150878906,34.787155151367,31.705307006836,29.735494613647,27.890766143799,26.691444396973,25.355819702148,23.979976654053,22.768564224243,21.944770812988,21.312122344971,20.679574966431,19.959644317627,19.191509246826,18.313175201416,17.232284545898,16.289377212524,15.803638458252,15.45648765564,15.049191474915,14.692914962769,14.275723457336,13.718787193298,13.14310836792,12.865229606628,12.709716796875,12.372059822083,12.142994880676,11.950262069702,11.688516616821,11.322170257568,10.984655380249,10.692081451416,10.449926376343,10.205940246582,10.019046783447,9.8855533599854,9.6588945388794,9.4313898086548,9.2288541793823,9.0421524047852,8.8606967926025],\"x\":[1,2,3,4,5,6,7,8,9,10,11,12,13,14,15,16,17,18,19,20,21,22,23,24,25,26,27,28,29,30,31,32,33,34,35,36,37,38,39,40,41,42,43,44,45,46,47,48,49,50,51]},\"discrete_ranges\":{},\"tags\":[],\"selected\":[],\"doc\":null,\"cont_ranges\":{},\"column_names\":[\"y\",\"x\"],\"id\":\"e544fbd1-2b7a-4e88-ce56-c83764d96a3e\"},\"type\":\"ColumnDataSource\",\"id\":\"e544fbd1-2b7a-4e88-ce56-c83764d96a3e\"},{\"attributes\":{\"fill_color\":{\"value\":\"black\"},\"line_color\":{\"value\":\"black\"},\"size\":{\"value\":10,\"units\":\"screen\"},\"id\":\"f1cd5214-3881-44e5-c496-68fddda2edb8\",\"fill_alpha\":{\"value\":0.2,\"units\":\"data\"},\"line_alpha\":{\"value\":1,\"units\":\"data\"},\"doc\":null,\"tags\":[],\"y\":{\"field\":\"y\",\"units\":\"data\"},\"x\":{\"field\":\"x\",\"units\":\"data\"}},\"type\":\"Line\",\"id\":\"f1cd5214-3881-44e5-c496-68fddda2edb8\"},{\"attributes\":{\"fill_color\":{\"value\":\"black\"},\"line_color\":{\"value\":\"black\"},\"size\":{\"value\":10,\"units\":\"screen\"},\"id\":\"0f61ae53-fe7f-406f-c0d3-438bb7d4790d\",\"fill_alpha\":{\"value\":0.2,\"units\":\"data\"},\"line_alpha\":{\"value\":1,\"units\":\"data\"},\"doc\":null,\"tags\":[],\"y\":{\"field\":\"y\",\"units\":\"data\"},\"x\":{\"field\":\"x\",\"units\":\"data\"}},\"type\":\"Line\",\"id\":\"0f61ae53-fe7f-406f-c0d3-438bb7d4790d\"},{\"attributes\":{\"name\":null,\"glyph\":{\"id\":\"f1cd5214-3881-44e5-c496-68fddda2edb8\",\"type\":\"Line\"},\"server_data_source\":null,\"id\":\"e4b5b46a-1374-4501-c59d-1b3d6d43c688\",\"data_source\":{\"id\":\"e544fbd1-2b7a-4e88-ce56-c83764d96a3e\",\"type\":\"ColumnDataSource\"},\"nonselection_glyph\":{\"id\":\"0f61ae53-fe7f-406f-c0d3-438bb7d4790d\",\"type\":\"Line\"},\"doc\":null,\"selection_glyph\":null,\"tags\":[]},\"type\":\"GlyphRenderer\",\"id\":\"e4b5b46a-1374-4501-c59d-1b3d6d43c688\"},{\"attributes\":{\"data\":{\"y\":[21.630222320557,105.24452209473,106.15347290039,84.087615966797,61.581748962402,58.841567993164,56.575874328613,52.950607299805,45.925918579102,40.692226409912,37.575359344482,34.284202575684,31.039709091187,28.491458892822,26.964624404907,25.673290252686,23.939668655396,22.757026672363,21.749332427979,21.160423278809,20.632675170898,19.718881607056,18.65922164917,17.64896774292,17.140417098999,16.53814125061,15.888263702393,15.392581939697,15.009150505066,14.426321029663,13.660781860352,13.207963943481,12.874645233154,12.623603820801,12.323212623596,12.13050365448,11.887617111206,11.484323501587,10.962023735046,10.633028030396,10.556167602539,10.345592498779,10.188319206238,10.053244590759,9.8744831085205,9.6200485229492,9.3324851989746,9.078498840332,8.8834733963013,8.7115459442139,8.5774803161621],\"x\":[1,2,3,4,5,6,7,8,9,10,11,12,13,14,15,16,17,18,19,20,21,22,23,24,25,26,27,28,29,30,31,32,33,34,35,36,37,38,39,40,41,42,43,44,45,46,47,48,49,50,51]},\"discrete_ranges\":{},\"tags\":[],\"selected\":[],\"doc\":null,\"cont_ranges\":{},\"column_names\":[\"y\",\"x\"],\"id\":\"df733cda-c69f-47f0-c752-8476c52074e6\"},\"type\":\"ColumnDataSource\",\"id\":\"df733cda-c69f-47f0-c752-8476c52074e6\"},{\"attributes\":{\"fill_color\":{\"value\":\"blue\"},\"line_color\":{\"value\":\"blue\"},\"size\":{\"value\":10,\"units\":\"screen\"},\"id\":\"dfe58fc6-4edd-4962-c940-388db3eba22e\",\"fill_alpha\":{\"value\":0.2,\"units\":\"data\"},\"line_alpha\":{\"value\":1,\"units\":\"data\"},\"doc\":null,\"tags\":[],\"y\":{\"field\":\"y\",\"units\":\"data\"},\"x\":{\"field\":\"x\",\"units\":\"data\"}},\"type\":\"Line\",\"id\":\"dfe58fc6-4edd-4962-c940-388db3eba22e\"},{\"attributes\":{\"fill_color\":{\"value\":\"blue\"},\"line_color\":{\"value\":\"blue\"},\"size\":{\"value\":10,\"units\":\"screen\"},\"id\":\"91164bc2-caef-430d-c3d1-547e695fc5df\",\"fill_alpha\":{\"value\":0.2,\"units\":\"data\"},\"line_alpha\":{\"value\":1,\"units\":\"data\"},\"doc\":null,\"tags\":[],\"y\":{\"field\":\"y\",\"units\":\"data\"},\"x\":{\"field\":\"x\",\"units\":\"data\"}},\"type\":\"Line\",\"id\":\"91164bc2-caef-430d-c3d1-547e695fc5df\"},{\"attributes\":{\"name\":null,\"glyph\":{\"id\":\"dfe58fc6-4edd-4962-c940-388db3eba22e\",\"type\":\"Line\"},\"server_data_source\":null,\"id\":\"25054d6a-642c-43ef-c335-42b9484d54c4\",\"data_source\":{\"id\":\"df733cda-c69f-47f0-c752-8476c52074e6\",\"type\":\"ColumnDataSource\"},\"nonselection_glyph\":{\"id\":\"91164bc2-caef-430d-c3d1-547e695fc5df\",\"type\":\"Line\"},\"doc\":null,\"selection_glyph\":null,\"tags\":[]},\"type\":\"GlyphRenderer\",\"id\":\"25054d6a-642c-43ef-c335-42b9484d54c4\"},{\"attributes\":{\"data\":{\"y\":[8.860689163208,10.318173408508,9.2052974700928,6.9383354187012,5.3524312973022,4.4920229911804,3.1871271133423,2.1517467498779,2.2483940124512,2.2131567001343,2.4342651367188,2.7405381202698,2.2967400550842,1.7758283615112,1.8981738090515,1.9047164916992,1.9710130691528,2.1563878059387,2.0957636833191,1.7760887145996,1.3858251571655,0.99544715881348,1.1739015579224,1.1794981956482,1.2159614562988,1.2588286399841,1.2893762588501,1.2192540168762,1.1015768051147,1.0625109672546,1.076988697052,1.1013736724854,1.2597069740295,1.3342695236206,1.2767724990845,1.2338347434998,1.0743160247803,0.87558460235596,0.93260860443115,0.90143585205078,0.99070167541504,1.0916123390198,1.1787881851196,1.1366834640503,1.0248246192932,0.90403652191162,0.86503267288208,0.87002944946289,0.9111065864563,0.96443557739258,0.92616176605225],\"x\":[1,2,3,4,5,6,7,8,9,10,11,12,13,14,15,16,17,18,19,20,21,22,23,24,25,26,27,28,29,30,31,32,33,34,35,36,37,38,39,40,41,42,43,44,45,46,47,48,49,50,51]},\"discrete_ranges\":{},\"tags\":[],\"selected\":[],\"doc\":null,\"cont_ranges\":{},\"column_names\":[\"y\",\"x\"],\"id\":\"6275e131-2cf4-4bb0-cb8b-9337f7dc8490\"},\"type\":\"ColumnDataSource\",\"id\":\"6275e131-2cf4-4bb0-cb8b-9337f7dc8490\"},{\"attributes\":{\"fill_color\":{\"value\":\"brown\"},\"line_color\":{\"value\":\"brown\"},\"size\":{\"value\":10,\"units\":\"screen\"},\"id\":\"45293a75-2829-48ed-c8d8-deba538fc8a7\",\"fill_alpha\":{\"value\":0.2,\"units\":\"data\"},\"line_alpha\":{\"value\":1,\"units\":\"data\"},\"doc\":null,\"tags\":[],\"y\":{\"field\":\"y\",\"units\":\"data\"},\"x\":{\"field\":\"x\",\"units\":\"data\"}},\"type\":\"Line\",\"id\":\"45293a75-2829-48ed-c8d8-deba538fc8a7\"},{\"attributes\":{\"fill_color\":{\"value\":\"brown\"},\"line_color\":{\"value\":\"brown\"},\"size\":{\"value\":10,\"units\":\"screen\"},\"id\":\"c063b1b5-b9a3-419f-c1d7-0fa16139bf6d\",\"fill_alpha\":{\"value\":0.2,\"units\":\"data\"},\"line_alpha\":{\"value\":1,\"units\":\"data\"},\"doc\":null,\"tags\":[],\"y\":{\"field\":\"y\",\"units\":\"data\"},\"x\":{\"field\":\"x\",\"units\":\"data\"}},\"type\":\"Line\",\"id\":\"c063b1b5-b9a3-419f-c1d7-0fa16139bf6d\"},{\"attributes\":{\"name\":null,\"glyph\":{\"id\":\"45293a75-2829-48ed-c8d8-deba538fc8a7\",\"type\":\"Line\"},\"server_data_source\":null,\"id\":\"057dcd96-976d-499e-c9ff-503fe770ba99\",\"data_source\":{\"id\":\"6275e131-2cf4-4bb0-cb8b-9337f7dc8490\",\"type\":\"ColumnDataSource\"},\"nonselection_glyph\":{\"id\":\"c063b1b5-b9a3-419f-c1d7-0fa16139bf6d\",\"type\":\"Line\"},\"doc\":null,\"selection_glyph\":null,\"tags\":[]},\"type\":\"GlyphRenderer\",\"id\":\"057dcd96-976d-499e-c9ff-503fe770ba99\"},{\"attributes\":{\"data\":{\"y\":[8.860689163208,138.48237609863,135.00421142578,93.791915893555,85.321250915527,72.468719482422,60.172611236572,51.43155670166,46.595733642578,41.765182495117,37.119422912598,33.496143341064,31.741468429565,30.668651580811,29.101146697998,27.065803527832,24.867197036743,22.85990524292,22.006715774536,21.428955078125,20.791093826294,20.048511505127,18.9091796875,18.034378051758,17.740612030029,17.175825119019,16.716804504395,16.386024475098,15.88910484314,15.097690582275,14.540628433228,14.325409889221,14.018337249756,13.796004295349,13.575655937195,13.530782699585,13.379104614258,13.07212638855,12.558683395386,12.045943260193,11.709988594055,11.472869873047,11.322273254395,11.176297187805,10.899845123291,10.615471839905,10.359912872314,10.176705360413,10.022333145142,9.8537635803223,9.6503391265869],\"x\":[1,2,3,4,5,6,7,8,9,10,11,12,13,14,15,16,17,18,19,20,21,22,23,24,25,26,27,28,29,30,31,32,33,34,35,36,37,38,39,40,41,42,43,44,45,46,47,48,49,50,51]},\"discrete_ranges\":{},\"tags\":[],\"selected\":[],\"doc\":null,\"cont_ranges\":{},\"column_names\":[\"y\",\"x\"],\"id\":\"3ddc3156-3d81-46cc-c640-d879093a70e3\"},\"type\":\"ColumnDataSource\",\"id\":\"3ddc3156-3d81-46cc-c640-d879093a70e3\"},{\"attributes\":{\"fill_color\":{\"value\":\"green\"},\"line_color\":{\"value\":\"green\"},\"size\":{\"value\":10,\"units\":\"screen\"},\"id\":\"cd0d99f8-0885-4ecf-ce9e-de24b106ebdf\",\"fill_alpha\":{\"value\":0.2,\"units\":\"data\"},\"line_alpha\":{\"value\":1,\"units\":\"data\"},\"doc\":null,\"tags\":[],\"y\":{\"field\":\"y\",\"units\":\"data\"},\"x\":{\"field\":\"x\",\"units\":\"data\"}},\"type\":\"Line\",\"id\":\"cd0d99f8-0885-4ecf-ce9e-de24b106ebdf\"},{\"attributes\":{\"fill_color\":{\"value\":\"green\"},\"line_color\":{\"value\":\"green\"},\"size\":{\"value\":10,\"units\":\"screen\"},\"id\":\"43d3cd03-c863-4638-c625-1e2998aa62dd\",\"fill_alpha\":{\"value\":0.2,\"units\":\"data\"},\"line_alpha\":{\"value\":1,\"units\":\"data\"},\"doc\":null,\"tags\":[],\"y\":{\"field\":\"y\",\"units\":\"data\"},\"x\":{\"field\":\"x\",\"units\":\"data\"}},\"type\":\"Line\",\"id\":\"43d3cd03-c863-4638-c625-1e2998aa62dd\"},{\"attributes\":{\"name\":null,\"glyph\":{\"id\":\"cd0d99f8-0885-4ecf-ce9e-de24b106ebdf\",\"type\":\"Line\"},\"server_data_source\":null,\"id\":\"fc5e023f-aac7-4926-c9b5-e10f9a34a7b3\",\"data_source\":{\"id\":\"3ddc3156-3d81-46cc-c640-d879093a70e3\",\"type\":\"ColumnDataSource\"},\"nonselection_glyph\":{\"id\":\"43d3cd03-c863-4638-c625-1e2998aa62dd\",\"type\":\"Line\"},\"doc\":null,\"selection_glyph\":null,\"tags\":[]},\"type\":\"GlyphRenderer\",\"id\":\"fc5e023f-aac7-4926-c9b5-e10f9a34a7b3\"},{\"attributes\":{\"doc\":null,\"sources\":[{\"columns\":[\"x\"],\"source\":{\"type\":\"ColumnDataSource\",\"id\":\"e544fbd1-2b7a-4e88-ce56-c83764d96a3e\"}},{\"columns\":[\"x\"],\"source\":{\"type\":\"ColumnDataSource\",\"id\":\"df733cda-c69f-47f0-c752-8476c52074e6\"}},{\"columns\":[\"x\"],\"source\":{\"type\":\"ColumnDataSource\",\"id\":\"6275e131-2cf4-4bb0-cb8b-9337f7dc8490\"}},{\"columns\":[\"x\"],\"source\":{\"type\":\"ColumnDataSource\",\"id\":\"3ddc3156-3d81-46cc-c640-d879093a70e3\"}}],\"tags\":[],\"id\":\"b9298881-f445-44d3-c410-77247b5007dd\"},\"type\":\"DataRange1d\",\"id\":\"b9298881-f445-44d3-c410-77247b5007dd\"},{\"attributes\":{\"doc\":null,\"sources\":[{\"columns\":[\"y\"],\"source\":{\"type\":\"ColumnDataSource\",\"id\":\"e544fbd1-2b7a-4e88-ce56-c83764d96a3e\"}},{\"columns\":[\"y\"],\"source\":{\"type\":\"ColumnDataSource\",\"id\":\"df733cda-c69f-47f0-c752-8476c52074e6\"}},{\"columns\":[\"y\"],\"source\":{\"type\":\"ColumnDataSource\",\"id\":\"6275e131-2cf4-4bb0-cb8b-9337f7dc8490\"}},{\"columns\":[\"y\"],\"source\":{\"type\":\"ColumnDataSource\",\"id\":\"3ddc3156-3d81-46cc-c640-d879093a70e3\"}}],\"tags\":[],\"id\":\"0f77e8c3-e6a3-44c9-c442-e0d8430651d6\"},\"type\":\"DataRange1d\",\"id\":\"0f77e8c3-e6a3-44c9-c442-e0d8430651d6\"},{\"attributes\":{\"doc\":null,\"geometries\":[],\"tags\":[],\"id\":\"a18e9ae6-970a-44d9-c450-b679a17d701c\"},\"type\":\"ToolEvents\",\"id\":\"a18e9ae6-970a-44d9-c450-b679a17d701c\"},{\"attributes\":{\"doc\":null,\"tags\":[],\"id\":\"9729256d-7b45-4bf4-cb16-7dd1ec3318cc\"},\"type\":\"BasicTickFormatter\",\"id\":\"9729256d-7b45-4bf4-cb16-7dd1ec3318cc\"},{\"attributes\":{\"doc\":null,\"num_minor_ticks\":5,\"tags\":[],\"id\":\"e09baa13-7030-4014-c0a1-91e454ec32dc\"},\"type\":\"BasicTicker\",\"id\":\"e09baa13-7030-4014-c0a1-91e454ec32dc\"},{\"attributes\":{\"ticker\":{\"id\":\"e09baa13-7030-4014-c0a1-91e454ec32dc\",\"type\":\"BasicTicker\"},\"tags\":[],\"axis_label\":\"Scaled number of iterations\",\"doc\":null,\"formatter\":{\"id\":\"9729256d-7b45-4bf4-cb16-7dd1ec3318cc\",\"type\":\"BasicTickFormatter\"},\"plot\":{\"id\":\"c353503d-0f00-40ae-c0dd-308860ec8a87\",\"type\":\"Plot\",\"subtype\":\"Figure\"},\"id\":\"0663a3d1-3a24-4013-c0c0-6f3828b28254\"},\"type\":\"LinearAxis\",\"id\":\"0663a3d1-3a24-4013-c0c0-6f3828b28254\"},{\"attributes\":{\"ticker\":{\"id\":\"e09baa13-7030-4014-c0a1-91e454ec32dc\",\"type\":\"BasicTicker\"},\"tags\":[],\"doc\":null,\"dimension\":0,\"plot\":{\"id\":\"c353503d-0f00-40ae-c0dd-308860ec8a87\",\"type\":\"Plot\",\"subtype\":\"Figure\"},\"id\":\"b3174351-043c-4d0b-cd90-c2208e5cb557\"},\"type\":\"Grid\",\"id\":\"b3174351-043c-4d0b-cd90-c2208e5cb557\"},{\"attributes\":{\"doc\":null,\"tags\":[],\"id\":\"6f9505e0-25a1-4ea9-cef1-1b5fd2698e29\"},\"type\":\"BasicTickFormatter\",\"id\":\"6f9505e0-25a1-4ea9-cef1-1b5fd2698e29\"},{\"attributes\":{\"doc\":null,\"num_minor_ticks\":5,\"tags\":[],\"id\":\"4567668a-1e44-47fa-c73a-98a9f5b89725\"},\"type\":\"BasicTicker\",\"id\":\"4567668a-1e44-47fa-c73a-98a9f5b89725\"},{\"attributes\":{\"ticker\":{\"id\":\"4567668a-1e44-47fa-c73a-98a9f5b89725\",\"type\":\"BasicTicker\"},\"tags\":[],\"axis_label\":\"Exploitability\",\"doc\":null,\"formatter\":{\"id\":\"6f9505e0-25a1-4ea9-cef1-1b5fd2698e29\",\"type\":\"BasicTickFormatter\"},\"plot\":{\"id\":\"c353503d-0f00-40ae-c0dd-308860ec8a87\",\"type\":\"Plot\",\"subtype\":\"Figure\"},\"id\":\"5c213534-0066-4193-c1ef-336e6310ec0f\"},\"type\":\"LinearAxis\",\"id\":\"5c213534-0066-4193-c1ef-336e6310ec0f\"},{\"attributes\":{\"ticker\":{\"id\":\"4567668a-1e44-47fa-c73a-98a9f5b89725\",\"type\":\"BasicTicker\"},\"tags\":[],\"doc\":null,\"dimension\":1,\"plot\":{\"id\":\"c353503d-0f00-40ae-c0dd-308860ec8a87\",\"type\":\"Plot\",\"subtype\":\"Figure\"},\"id\":\"0ec1877f-333d-400a-c0e4-761601c00eb0\"},\"type\":\"Grid\",\"id\":\"0ec1877f-333d-400a-c0e4-761601c00eb0\"},{\"attributes\":{\"tags\":[],\"doc\":null,\"dimensions\":[\"width\",\"height\"],\"plot\":{\"id\":\"c353503d-0f00-40ae-c0dd-308860ec8a87\",\"type\":\"Plot\",\"subtype\":\"Figure\"},\"id\":\"d78654f9-a350-4a36-cab1-a49e1ace2850\"},\"type\":\"PanTool\",\"id\":\"d78654f9-a350-4a36-cab1-a49e1ace2850\"},{\"attributes\":{\"tags\":[],\"doc\":null,\"dimensions\":[\"width\",\"height\"],\"plot\":{\"id\":\"c353503d-0f00-40ae-c0dd-308860ec8a87\",\"type\":\"Plot\",\"subtype\":\"Figure\"},\"id\":\"8e35c837-5d41-4bde-cbea-37c2f14af631\"},\"type\":\"WheelZoomTool\",\"id\":\"8e35c837-5d41-4bde-cbea-37c2f14af631\"},{\"attributes\":{\"doc\":null,\"plot\":{\"id\":\"c353503d-0f00-40ae-c0dd-308860ec8a87\",\"type\":\"Plot\",\"subtype\":\"Figure\"},\"tags\":[],\"id\":\"6dafa698-39eb-438f-c399-4031fa0d027b\"},\"type\":\"BoxZoomTool\",\"id\":\"6dafa698-39eb-438f-c399-4031fa0d027b\"},{\"attributes\":{\"doc\":null,\"plot\":{\"id\":\"c353503d-0f00-40ae-c0dd-308860ec8a87\",\"type\":\"Plot\",\"subtype\":\"Figure\"},\"tags\":[],\"id\":\"20f99167-01de-423c-c2ed-0bff820932f8\"},\"type\":\"PreviewSaveTool\",\"id\":\"20f99167-01de-423c-c2ed-0bff820932f8\"},{\"attributes\":{\"doc\":null,\"plot\":{\"id\":\"c353503d-0f00-40ae-c0dd-308860ec8a87\",\"type\":\"Plot\",\"subtype\":\"Figure\"},\"tags\":[],\"id\":\"d33f5a7d-69c8-4239-c26d-b173d81e343e\"},\"type\":\"ResizeTool\",\"id\":\"d33f5a7d-69c8-4239-c26d-b173d81e343e\"},{\"attributes\":{\"doc\":null,\"plot\":{\"id\":\"c353503d-0f00-40ae-c0dd-308860ec8a87\",\"type\":\"Plot\",\"subtype\":\"Figure\"},\"tags\":[],\"id\":\"35e1e9b3-137a-4add-caac-d5b7594e9e39\"},\"type\":\"ResetTool\",\"id\":\"35e1e9b3-137a-4add-caac-d5b7594e9e39\"},{\"attributes\":{\"tags\":[],\"doc\":null,\"legends\":[[\"No Warm start = Random initialization\",[{\"id\":\"e4b5b46a-1374-4501-c59d-1b3d6d43c688\",\"type\":\"GlyphRenderer\"}]],[\"Neural Network warm start without regrets\",[{\"id\":\"25054d6a-642c-43ef-c335-42b9484d54c4\",\"type\":\"GlyphRenderer\"}]],[\"Oracle warm start with regrets\",[{\"id\":\"057dcd96-976d-499e-c9ff-503fe770ba99\",\"type\":\"GlyphRenderer\"}]],[\"Oracle warm start without regrets\",[{\"id\":\"fc5e023f-aac7-4926-c9b5-e10f9a34a7b3\",\"type\":\"GlyphRenderer\"}]]],\"plot\":{\"id\":\"c353503d-0f00-40ae-c0dd-308860ec8a87\",\"type\":\"Plot\",\"subtype\":\"Figure\"},\"id\":\"4afaf0c3-eea8-4926-c91c-015f33597d21\"},\"type\":\"Legend\",\"id\":\"4afaf0c3-eea8-4926-c91c-015f33597d21\"},{\"attributes\":{\"renderers\":[{\"id\":\"e4b5b46a-1374-4501-c59d-1b3d6d43c688\",\"type\":\"GlyphRenderer\"},{\"id\":\"25054d6a-642c-43ef-c335-42b9484d54c4\",\"type\":\"GlyphRenderer\"},{\"id\":\"057dcd96-976d-499e-c9ff-503fe770ba99\",\"type\":\"GlyphRenderer\"},{\"id\":\"fc5e023f-aac7-4926-c9b5-e10f9a34a7b3\",\"type\":\"GlyphRenderer\"},{\"id\":\"0663a3d1-3a24-4013-c0c0-6f3828b28254\",\"type\":\"LinearAxis\"},{\"id\":\"b3174351-043c-4d0b-cd90-c2208e5cb557\",\"type\":\"Grid\"},{\"id\":\"5c213534-0066-4193-c1ef-336e6310ec0f\",\"type\":\"LinearAxis\"},{\"id\":\"0ec1877f-333d-400a-c0e4-761601c00eb0\",\"type\":\"Grid\"},{\"id\":\"4afaf0c3-eea8-4926-c91c-015f33597d21\",\"type\":\"Legend\"}],\"extra_x_ranges\":{},\"right\":[],\"x_range\":{\"id\":\"b9298881-f445-44d3-c410-77247b5007dd\",\"type\":\"DataRange1d\"},\"y_range\":{\"id\":\"0f77e8c3-e6a3-44c9-c442-e0d8430651d6\",\"type\":\"DataRange1d\"},\"extra_y_ranges\":{},\"id\":\"c353503d-0f00-40ae-c0dd-308860ec8a87\",\"tool_events\":{\"id\":\"a18e9ae6-970a-44d9-c450-b679a17d701c\",\"type\":\"ToolEvents\"},\"above\":[],\"tags\":[],\"tools\":[{\"id\":\"d78654f9-a350-4a36-cab1-a49e1ace2850\",\"type\":\"PanTool\"},{\"id\":\"8e35c837-5d41-4bde-cbea-37c2f14af631\",\"type\":\"WheelZoomTool\"},{\"id\":\"6dafa698-39eb-438f-c399-4031fa0d027b\",\"type\":\"BoxZoomTool\"},{\"id\":\"20f99167-01de-423c-c2ed-0bff820932f8\",\"type\":\"PreviewSaveTool\"},{\"id\":\"d33f5a7d-69c8-4239-c26d-b173d81e343e\",\"type\":\"ResizeTool\"},{\"id\":\"35e1e9b3-137a-4add-caac-d5b7594e9e39\",\"type\":\"ResetTool\"}],\"doc\":null,\"left\":[{\"id\":\"5c213534-0066-4193-c1ef-336e6310ec0f\",\"type\":\"LinearAxis\"}],\"below\":[{\"id\":\"0663a3d1-3a24-4013-c0c0-6f3828b28254\",\"type\":\"LinearAxis\"}],\"title\":\"Exploitability of different initializations, 200 iter.\"},\"type\":\"Plot\",\"id\":\"c353503d-0f00-40ae-c0dd-308860ec8a87\"}];\n",
       "      Bokeh.load_models(all_models);\n",
       "      var model = Bokeh.Collections(modeltype).get(modelid);\n",
       "      $(\"#c458aadf-629c-4118-c11c-f4f75285b8ea\").html(''); // clear any previous plot in window_id\n",
       "      var view = new model.default_view({model: model, el: \"#c458aadf-629c-4118-c11c-f4f75285b8ea\"});\n",
       "  });\n",
       "    }\n",
       "});\n",
       "</script>\n",
       "<div class=\"plotdiv\" id=\"c458aadf-629c-4118-c11c-f4f75285b8ea\"></div>\n"
      ]
     },
     "metadata": {},
     "output_type": "display_data"
    }
   ],
   "source": [
    "local num_iter = torch.range(1,exploit_NoW:size(1))\n",
    "local plot = Plot()\n",
    "\n",
    "---plot:line(num_iter,exploit_unif,'black' ,'No Warm start CFR = Uniform warm start')\n",
    "plot:line(num_iter,exploit_NoW,'black' ,'No Warm start = Random initialization')\n",
    "---plot:line(num_iter,exploit_NNW,'blue' ,'Neural Net warm start CFR')\n",
    "plot:line(num_iter,exploit_NN_NoReg,'blue' ,'Neural Network warm start without regrets')\n",
    "plot:line(num_iter,exploit_TarRegW,'brown' ,'Oracle warm start with regrets')\n",
    "plot:line(num_iter,exploit_TarW,'green' ,'Oracle warm start without regrets')\n",
    "---plot:line(num_iter,exploit_RegW,'red' ,'Warm start with target values')\n",
    "plot:legend(true):title('Exploitability of different initializations, 200 iter.')\n",
    "plot:xaxis('Scaled number of iterations'):yaxis('Exploitability'):redraw()\n"
   ]
  },
  {
   "cell_type": "code",
   "execution_count": null,
   "metadata": {
    "collapsed": true
   },
   "outputs": [],
   "source": []
  },
  {
   "cell_type": "code",
   "execution_count": null,
   "metadata": {
    "collapsed": true
   },
   "outputs": [],
   "source": []
  }
 ],
 "metadata": {
  "kernelspec": {
   "display_name": "iTorch",
   "language": "lua",
   "name": "itorch"
  },
  "language_info": {
   "name": "lua",
   "version": "5.2"
  }
 },
 "nbformat": 4,
 "nbformat_minor": 2
}
