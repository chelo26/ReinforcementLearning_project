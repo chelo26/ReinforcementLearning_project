{
 "cells": [
  {
   "cell_type": "code",
   "execution_count": 1,
   "metadata": {
    "collapsed": true
   },
   "outputs": [],
   "source": [
    "--- Libraries:\n",
    "arguments = require 'Settings.arguments'\n",
    "constants = require 'Settings.constants'\n",
    "card_to_string = require 'Game.card_to_string_conversion'\n",
    "card_tools = require 'Game.card_tools'\n",
    "game_settings = require 'Settings.game_settings'\n",
    "Plot = require 'itorch.Plot'\n",
    "nninit = require 'nninit'\n",
    "require 'torch'\n",
    "require 'math'\n",
    "require 'Tree.tree_builder'\n",
    "require 'Tree.tree_data_generation'\n",
    "require 'Tree.tree_visualiser'\n",
    "require 'nn'\n",
    "require 'Tree.tree_cfr'\n",
    "require 'nngraph'\n",
    "require 'optim'\n",
    "require 'image'\n",
    "require 'NN.strategy_net_builder'\n",
    "require 'NN.strategy_net_trainer'\n",
    "\n"
   ]
  },
  {
   "cell_type": "code",
   "execution_count": 2,
   "metadata": {
    "collapsed": true
   },
   "outputs": [],
   "source": [
    "--- Create the tree\n",
    "builder = PokerTreeBuilder()\n",
    "--- Parameters for the tree\n",
    "params = {}\n",
    "params.root_node = {}\n",
    "params.root_node.board = card_to_string:string_to_board('')\n",
    "params.root_node.street = 1\n",
    "params.root_node.current_player = constants.players.P1\n",
    "params.root_node.bets = arguments.Tensor{200, 200}\n",
    "\n",
    "--- BUild tree\n",
    "tree1 = builder:build_tree(params)\n",
    "tree = builder:build_tree(params)\n",
    "--- build data\n",
    "game = TreeData(tree)\n",
    "game1 =TreeData(tree1)"
   ]
  },
  {
   "cell_type": "code",
   "execution_count": 3,
   "metadata": {},
   "outputs": [
    {
     "data": {
      "text/plain": [
       "\n"
      ]
     },
     "execution_count": 3,
     "metadata": {},
     "output_type": "execute_result"
    }
   ],
   "source": [
    "game1:get_training_set(tree1,1)"
   ]
  },
  {
   "cell_type": "code",
   "execution_count": 4,
   "metadata": {},
   "outputs": [
    {
     "data": {
      "text/plain": [
       "Solver\n"
      ]
     },
     "execution_count": 4,
     "metadata": {},
     "output_type": "execute_result"
    },
    {
     "data": {
      "text/plain": [
       "geting training set\n"
      ]
     },
     "execution_count": 4,
     "metadata": {},
     "output_type": "execute_result"
    }
   ],
   "source": [
    "--- CFR Solver\n",
    "local starting_ranges = arguments.Tensor(constants.players_count, game_settings.card_count)\n",
    "starting_ranges[1]:copy(card_tools:get_uniform_range(params.root_node.board))\n",
    "starting_ranges[2]:copy(card_tools:get_uniform_range(params.root_node.board))\n",
    "local tree_cfr = TreeCFR()\n",
    "print(\"Solver\")\n",
    "tree_cfr:run_cfr(tree, starting_ranges)\n",
    "print(\"geting training set\")\n",
    "game:get_training_set(tree,1)"
   ]
  },
  {
   "cell_type": "markdown",
   "metadata": {},
   "source": [
    "## Using the modules"
   ]
  },
  {
   "cell_type": "code",
   "execution_count": 5,
   "metadata": {},
   "outputs": [],
   "source": [
    "-- Building the neural net model\n",
    "strategy_nn = StrategyNN()\n",
    "nn_model = strategy_nn.model\n",
    "\n",
    "-- Building trainer:\n",
    "nn_trainer = NNTrainer(game,nn_model)\n",
    "\n",
    "-- Options:\n",
    "opt = {}\n",
    "opt.learningRate = 0.001\n",
    "opt.momentum = 0.95\n",
    "opt.validate = false"
   ]
  },
  {
   "cell_type": "code",
   "execution_count": 6,
   "metadata": {},
   "outputs": [],
   "source": [
    "current_criterion = nn.AbsCriterion()\n",
    "\n",
    "train_loss,test_loss = nn_trainer:train(nn_model,current_criterion,opt,100)"
   ]
  },
  {
   "cell_type": "code",
   "execution_count": 7,
   "metadata": {},
   "outputs": [],
   "source": [
    "pred_strat = nn_model:forward({nn_trainer.all_data.features,nn_trainer.all_data.masks})"
   ]
  },
  {
   "cell_type": "code",
   "execution_count": 8,
   "metadata": {},
   "outputs": [],
   "source": [
    "true_strat =nn_trainer.all_data.targets"
   ]
  },
  {
   "cell_type": "code",
   "execution_count": 9,
   "metadata": {},
   "outputs": [],
   "source": [
    "strategy_nn2 = StrategyNN()\n",
    "nn_model2 = strategy_nn2.model\n"
   ]
  },
  {
   "cell_type": "code",
   "execution_count": 10,
   "metadata": {},
   "outputs": [],
   "source": [
    "nn_trainer2 = NNTrainer(game1,nn_model2)\n",
    "pred_strat2 = nn_model:forward({nn_trainer2.all_data.features,nn_trainer2.all_data.masks})"
   ]
  },
  {
   "cell_type": "code",
   "execution_count": 11,
   "metadata": {},
   "outputs": [
    {
     "data": {
      "text/plain": [
       "0.22642631715355\n"
      ]
     },
     "execution_count": 11,
     "metadata": {},
     "output_type": "execute_result"
    }
   ],
   "source": [
    "torch.mean(torch.abs(pred_strat- true_strat))"
   ]
  },
  {
   "cell_type": "code",
   "execution_count": 12,
   "metadata": {},
   "outputs": [
    {
     "data": {
      "text/plain": [
       "0.23573242981608\n"
      ]
     },
     "execution_count": 12,
     "metadata": {},
     "output_type": "execute_result"
    }
   ],
   "source": [
    "torch.mean(torch.abs(nn_trainer2.all_data.targets- true_strat))"
   ]
  },
  {
   "cell_type": "code",
   "execution_count": 13,
   "metadata": {},
   "outputs": [
    {
     "data": {
      "text/plain": [
       " 1.2651e-12  1.2651e-12  2.8813e-12  2.8813e-12  4.1512e-02  4.1512e-02\n",
       " 3.4992e-01  3.4992e-01  6.5542e-01  6.5542e-01  7.4524e-01  7.4524e-01\n",
       " 2.1207e-01  2.1207e-01  3.0555e-01  3.0555e-01  2.3211e-02  2.3211e-02\n",
       " 4.3801e-01  4.3801e-01  3.9030e-02  3.9030e-02  1.9004e-01  1.9004e-01\n",
       "[torch.FloatTensor of size 4x6]\n",
       "\n"
      ]
     },
     "execution_count": 13,
     "metadata": {},
     "output_type": "execute_result"
    }
   ],
   "source": [
    "game.tree.strategy"
   ]
  },
  {
   "cell_type": "code",
   "execution_count": 14,
   "metadata": {},
   "outputs": [
    {
     "data": {
      "text/plain": [
       "30\n"
      ]
     },
     "execution_count": 14,
     "metadata": {},
     "output_type": "execute_result"
    }
   ],
   "source": [
    "nn_trainer:get_features(game):size(2)"
   ]
  },
  {
   "cell_type": "code",
   "execution_count": 15,
   "metadata": {},
   "outputs": [
    {
     "data": {
      "text/plain": [
       " 0.2097  0.2761  0.2474  0.2668\n",
       " 0.2007  0.2985  0.2266  0.2742\n",
       " 0.2570  0.2372  0.2707  0.2351\n",
       " 0.2130  0.2385  0.2428  0.3058\n",
       " 0.2234  0.2599  0.1928  0.3240\n",
       " 0.2481  0.2313  0.2393  0.2813\n",
       " 0.1875  0.2925  0.2188  0.3011\n",
       " 0.1960  0.3136  0.1756  0.3148\n",
       " 0.2460  0.2624  0.2231  0.2684\n",
       " 0.1979  0.2815  0.2217  0.2988\n",
       " 0.2217  0.2823  0.1719  0.3241\n",
       " 0.2381  0.2604  0.2075  0.2941\n",
       " 0.2130  0.4025  0.0000  0.3845\n",
       " 0.2310  0.3922  0.0000  0.3768\n",
       " 0.2746  0.3774  0.0000  0.3480\n",
       " 0.3080  0.6920  0.0000  0.0000\n",
       " 0.3368  0.6632  0.0000  0.0000\n",
       " 0.3552  0.6448  0.0000  0.0000\n",
       " 0.4058  0.5942  0.0000  0.0000\n",
       " 0.4386  0.5614  0.0000  0.0000\n",
       " 0.4715  0.5285  0.0000  0.0000\n",
       " 0.2027  0.4345  0.0000  0.3628\n",
       " 0.2171  0.4147  0.0000  0.3682\n",
       " 0.2619  0.4205  0.0000  0.3176\n",
       " 0.2819  0.7181  0.0000  0.0000\n",
       " 0.3039  0.6961  0.0000  0.0000\n",
       " 0.3221  0.6779  0.0000  0.0000\n",
       " 0.2944  0.7056  0.0000  0.0000\n",
       " 0.3198  0.6802  0.0000  0.0000\n",
       " 0.3446  0.6554  0.0000  0.0000\n",
       " 0.1875  0.2925  0.2188  0.3011\n",
       " 0.1960  0.3136  0.1756  0.3148\n",
       " 0.2460  0.2624  0.2231  0.2684\n",
       " 0.1979  0.2815  0.2217  0.2988\n",
       " 0.2217  0.2823  0.1719  0.3241\n",
       " 0.2381  0.2604  0.2075  0.2941\n",
       " 0.2130  0.4025  0.0000  0.3845\n",
       " 0.2310  0.3922  0.0000  0.3768\n",
       " 0.2746  0.3774  0.0000  0.3480\n",
       " 0.3080  0.6920  0.0000  0.0000\n",
       " 0.3368  0.6632  0.0000  0.0000\n",
       " 0.3552  0.6448  0.0000  0.0000\n",
       " 0.4058  0.5942  0.0000  0.0000\n",
       " 0.4386  0.5614  0.0000  0.0000\n",
       " 0.4715  0.5285  0.0000  0.0000\n",
       " 0.2027  0.4345  0.0000  0.3628\n",
       " 0.2171  0.4147  0.0000  0.3682\n",
       " 0.2619  0.4205  0.0000  0.3176\n",
       " 0.2819  0.7181  0.0000  0.0000\n",
       " 0.3039  0.6961  0.0000  0.0000\n",
       " 0.3221  0.6779  0.0000  0.0000\n",
       " 0.2944  0.7056  0.0000  0.0000\n",
       " 0.3198  0.6802  0.0000  0.0000\n",
       " 0.3446  0.6554  0.0000  0.0000\n",
       " 0.2070  0.3181  0.2450  0.2299\n",
       " 0.2387  0.3071  0.1972  0.2571\n",
       " 0.2524  0.2758  0.2468  0.2250\n",
       " 0.2236  0.2956  0.2572  0.2236\n",
       " 0.2590  0.2940  0.1963  0.2507\n",
       " 0.2570  0.2639  0.2331  0.2461\n",
       " 0.2671  0.4315  0.0000  0.3014\n",
       " 0.3100  0.3895  0.0000  0.3005\n",
       " 0.3155  0.3779  0.0000  0.3066\n",
       " 0.3325  0.6675  0.0000  0.0000\n",
       " 0.3707  0.6293  0.0000  0.0000\n",
       " 0.3619  0.6381  0.0000  0.0000\n",
       " 0.4269  0.5731  0.0000  0.0000\n",
       " 0.4602  0.5398  0.0000  0.0000\n",
       " 0.4449  0.5551  0.0000  0.0000\n",
       " 0.2436  0.4532  0.0000  0.3032\n",
       " 0.2734  0.4088  0.0000  0.3178\n",
       " 0.2887  0.4281  0.0000  0.2832\n",
       " 0.3139  0.6861  0.0000  0.0000\n",
       " 0.3628  0.6372  0.0000  0.0000\n",
       " 0.3500  0.6500  0.0000  0.0000\n",
       " 0.3313  0.6687  0.0000  0.0000\n",
       " 0.3524  0.6476  0.0000  0.0000\n",
       " 0.3483  0.6517  0.0000  0.0000\n",
       " 0.2070  0.3181  0.2450  0.2299\n",
       " 0.2387  0.3071  0.1972  0.2571\n",
       " 0.2524  0.2758  0.2468  0.2250\n",
       " 0.2236  0.2956  0.2572  0.2236\n",
       " 0.2590  0.2940  0.1963  0.2507\n",
       " 0.2570  0.2639  0.2331  0.2461\n",
       " 0.2671  0.4315  0.0000  0.3014\n",
       " 0.3100  0.3895  0.0000  0.3005\n",
       " 0.3155  0.3779  0.0000  0.3066\n",
       " 0.3325  0.6675  0.0000  0.0000\n",
       " 0.3707  0.6293  0.0000  0.0000\n",
       " 0.3619  0.6381  0.0000  0.0000\n",
       " 0.4269  0.5731  0.0000  0.0000\n",
       " 0.4602  0.5398  0.0000  0.0000\n",
       " 0.4449  0.5551  0.0000  0.0000\n",
       " 0.2436  0.4532  0.0000  0.3032\n",
       " 0.2734  0.4088  0.0000  0.3178\n",
       " 0.2887  0.4281  0.0000  0.2832\n",
       " 0.3139  0.6861  0.0000  0.0000\n",
       " 0.3628  0.6372  0.0000  0.0000\n",
       " 0.3500  0.6500  0.0000  0.0000\n",
       " 0.3313  0.6687  0.0000  0.0000\n",
       " 0.3524  0.6476  0.0000  0.0000\n",
       " 0.3483  0.6517  0.0000  0.0000\n",
       " 0.2209  0.2140  0.2744  0.2907\n",
       " 0.2347  0.2374  0.2444  0.2836\n",
       " 0.2452  0.1990  0.2949  0.2610\n",
       " 0.2235  0.1905  0.2882  0.2979\n",
       " 0.2417  0.2099  0.2381  0.3102\n",
       " 0.2406  0.1835  0.2802  0.2957\n",
       " 0.2701  0.2939  0.0000  0.4359\n",
       " 0.2838  0.3310  0.0000  0.3851\n",
       " 0.3062  0.3140  0.0000  0.3798\n",
       " 0.4083  0.5917  0.0000  0.0000\n",
       " 0.4288  0.5712  0.0000  0.0000\n",
       " 0.4055  0.5945  0.0000  0.0000\n",
       " 0.5204  0.4796  0.0000  0.0000\n",
       " 0.5166  0.4834  0.0000  0.0000\n",
       " 0.5067  0.4933  0.0000  0.0000\n",
       " 0.2752  0.3094  0.0000  0.4154\n",
       " 0.2752  0.3328  0.0000  0.3920\n",
       " 0.2982  0.3389  0.0000  0.3629\n",
       " 0.3983  0.6017  0.0000  0.0000\n",
       " 0.3809  0.6191  0.0000  0.0000\n",
       " 0.3900  0.6100  0.0000  0.0000\n",
       " 0.4341  0.5659  0.0000  0.0000\n",
       " 0.3973  0.6027  0.0000  0.0000\n",
       " 0.4493  0.5507  0.0000  0.0000\n",
       " 0.2209  0.2140  0.2744  0.2907\n",
       " 0.2347  0.2374  0.2444  0.2836\n"
      ]
     },
     "execution_count": 15,
     "metadata": {},
     "output_type": "execute_result"
    },
    {
     "data": {
      "text/plain": [
       " 0.2452  0.1990  0.2949  0.2610\n",
       " 0.2235  0.1905  0.2882  0.2979\n",
       " 0.2417  0.2099  0.2381  0.3102\n",
       " 0.2406  0.1835  0.2802  0.2957\n",
       " 0.2701  0.2939  0.0000  0.4359\n",
       " 0.2838  0.3310  0.0000  0.3851\n",
       " 0.3062  0.3140  0.0000  0.3798\n",
       " 0.4083  0.5917  0.0000  0.0000\n",
       " 0.4288  0.5712  0.0000  0.0000\n",
       " 0.4055  0.5945  0.0000  0.0000\n",
       " 0.5204  0.4796  0.0000  0.0000\n",
       " 0.5166  0.4834  0.0000  0.0000\n",
       " 0.5067  0.4933  0.0000  0.0000\n",
       " 0.2752  0.3094  0.0000  0.4154\n",
       " 0.2752  0.3328  0.0000  0.3920\n",
       " 0.2982  0.3389  0.0000  0.3629\n",
       " 0.3983  0.6017  0.0000  0.0000\n",
       " 0.3809  0.6191  0.0000  0.0000\n",
       " 0.3900  0.6100  0.0000  0.0000\n",
       " 0.4341  0.5659  0.0000  0.0000\n",
       " 0.3973  0.6027  0.0000  0.0000\n",
       " 0.4493  0.5507  0.0000  0.0000\n",
       " 0.2823  0.3115  0.0000  0.4062\n",
       " 0.2463  0.3371  0.0000  0.4166\n",
       " 0.3178  0.2790  0.0000  0.4033\n",
       " 0.2115  0.3859  0.0000  0.4026\n",
       " 0.1985  0.3858  0.0000  0.4157\n",
       " 0.2714  0.3343  0.0000  0.3943\n",
       " 0.2196  0.3740  0.0000  0.4064\n",
       " 0.2136  0.3671  0.0000  0.4192\n",
       " 0.2699  0.3087  0.0000  0.4214\n",
       " 0.3071  0.6929  0.0000  0.0000\n",
       " 0.2993  0.7007  0.0000  0.0000\n",
       " 0.3828  0.6172  0.0000  0.0000\n",
       " 0.3117  0.6883  0.0000  0.0000\n",
       " 0.3002  0.6998  0.0000  0.0000\n",
       " 0.3970  0.6030  0.0000  0.0000\n",
       " 0.2115  0.3859  0.0000  0.4026\n",
       " 0.1985  0.3858  0.0000  0.4157\n",
       " 0.2714  0.3343  0.0000  0.3943\n",
       " 0.2196  0.3740  0.0000  0.4064\n",
       " 0.2136  0.3671  0.0000  0.4192\n",
       " 0.2699  0.3087  0.0000  0.4214\n",
       " 0.3071  0.6929  0.0000  0.0000\n",
       " 0.2993  0.7007  0.0000  0.0000\n",
       " 0.3828  0.6172  0.0000  0.0000\n",
       " 0.3117  0.6883  0.0000  0.0000\n",
       " 0.3002  0.6998  0.0000  0.0000\n",
       " 0.3970  0.6030  0.0000  0.0000\n",
       " 0.2755  0.4162  0.0000  0.3083\n",
       " 0.2790  0.3811  0.0000  0.3398\n",
       " 0.3405  0.3359  0.0000  0.3236\n",
       " 0.2876  0.4084  0.0000  0.3040\n",
       " 0.2855  0.3927  0.0000  0.3218\n",
       " 0.3335  0.3305  0.0000  0.3359\n",
       " 0.3559  0.6441  0.0000  0.0000\n",
       " 0.3700  0.6300  0.0000  0.0000\n",
       " 0.4362  0.5638  0.0000  0.0000\n",
       " 0.3449  0.6551  0.0000  0.0000\n",
       " 0.3684  0.6316  0.0000  0.0000\n",
       " 0.4256  0.5744  0.0000  0.0000\n",
       " 0.2755  0.4162  0.0000  0.3083\n",
       " 0.2790  0.3811  0.0000  0.3398\n",
       " 0.3405  0.3359  0.0000  0.3236\n",
       " 0.2876  0.4084  0.0000  0.3040\n",
       " 0.2855  0.3927  0.0000  0.3218\n",
       " 0.3335  0.3305  0.0000  0.3359\n",
       " 0.3559  0.6441  0.0000  0.0000\n",
       " 0.3700  0.6300  0.0000  0.0000\n",
       " 0.4362  0.5638  0.0000  0.0000\n",
       " 0.3449  0.6551  0.0000  0.0000\n",
       " 0.3684  0.6316  0.0000  0.0000\n",
       " 0.4256  0.5744  0.0000  0.0000\n",
       " 0.3102  0.2995  0.0000  0.3903\n",
       " 0.2702  0.3285  0.0000  0.4014\n",
       " 0.3586  0.2677  0.0000  0.3737\n",
       " 0.3047  0.2784  0.0000  0.4169\n",
       " 0.2661  0.3104  0.0000  0.4235\n",
       " 0.3121  0.2520  0.0000  0.4359\n",
       " 0.4312  0.5688  0.0000  0.0000\n",
       " 0.3773  0.6227  0.0000  0.0000\n",
       " 0.4726  0.5274  0.0000  0.0000\n",
       " 0.4664  0.5336  0.0000  0.0000\n",
       " 0.3999  0.6001  0.0000  0.0000\n",
       " 0.5109  0.4891  0.0000  0.0000\n",
       " 0.3102  0.2995  0.0000  0.3903\n",
       " 0.2702  0.3285  0.0000  0.4014\n",
       " 0.3586  0.2677  0.0000  0.3737\n",
       " 0.3047  0.2784  0.0000  0.4169\n",
       " 0.2661  0.3104  0.0000  0.4235\n",
       " 0.3121  0.2520  0.0000  0.4359\n",
       " 0.4312  0.5688  0.0000  0.0000\n",
       " 0.3773  0.6227  0.0000  0.0000\n",
       " 0.4726  0.5274  0.0000  0.0000\n",
       " 0.4664  0.5336  0.0000  0.0000\n",
       " 0.3999  0.6001  0.0000  0.0000\n",
       " 0.5109  0.4891  0.0000  0.0000\n",
       " 0.5086  0.4914  0.0000  0.0000\n",
       " 0.4494  0.5506  0.0000  0.0000\n",
       " 0.5296  0.4704  0.0000  0.0000\n",
       " 0.4520  0.5480  0.0000  0.0000\n",
       " 0.4575  0.5425  0.0000  0.0000\n",
       " 0.5003  0.4997  0.0000  0.0000\n",
       " 0.2804  0.3522  0.0000  0.3674\n",
       " 0.2642  0.3593  0.0000  0.3765\n",
       " 0.3436  0.3420  0.0000  0.3144\n",
       " 0.2459  0.4048  0.0000  0.3494\n",
       " 0.2280  0.3975  0.0000  0.3744\n",
       " 0.3185  0.3662  0.0000  0.3153\n",
       " 0.2516  0.4096  0.0000  0.3388\n",
       " 0.2384  0.3852  0.0000  0.3765\n",
       " 0.2942  0.3689  0.0000  0.3369\n",
       " 0.3320  0.6680  0.0000  0.0000\n",
       " 0.3381  0.6619  0.0000  0.0000\n",
       " 0.3566  0.6434  0.0000  0.0000\n",
       " 0.3413  0.6587  0.0000  0.0000\n",
       " 0.3137  0.6863  0.0000  0.0000\n",
       " 0.3919  0.6081  0.0000  0.0000\n",
       " 0.2459  0.4048  0.0000  0.3494\n",
       " 0.2280  0.3975  0.0000  0.3744\n",
       " 0.3185  0.3662  0.0000  0.3153\n",
       " 0.2516  0.4096  0.0000  0.3388\n",
       " 0.2384  0.3852  0.0000  0.3765\n",
       " 0.2942  0.3689  0.0000  0.3369\n",
       " 0.3320  0.6680  0.0000  0.0000\n",
       " 0.3381  0.6619  0.0000  0.0000\n",
       " 0.3566  0.6434  0.0000  0.0000\n",
       " 0.3413  0.6587  0.0000  0.0000\n"
      ]
     },
     "execution_count": 15,
     "metadata": {},
     "output_type": "execute_result"
    }
   ],
   "source": [
    "nn_model:forward({nn_trainer.all_data.features,nn_trainer.all_data.masks})"
   ]
  },
  {
   "cell_type": "code",
   "execution_count": 16,
   "metadata": {},
   "outputs": [
    {
     "data": {
      "text/plain": [
       " 0.3137  0.6863  0.0000  0.0000\n",
       " 0.3919  0.6081  0.0000  0.0000\n",
       " 0.2407  0.4681  0.0000  0.2913\n",
       " 0.2710  0.4060  0.0000  0.3230\n",
       " 0.3217  0.4050  0.0000  0.2733\n",
       " 0.2781  0.4560  0.0000  0.2659\n",
       " 0.2900  0.4147  0.0000  0.2954\n",
       " 0.3330  0.4050  0.0000  0.2620\n",
       " 0.3199  0.6801  0.0000  0.0000\n",
       " 0.3673  0.6327  0.0000  0.0000\n",
       " 0.3764  0.6236  0.0000  0.0000\n",
       " 0.3382  0.6618  0.0000  0.0000\n",
       " 0.3553  0.6447  0.0000  0.0000\n",
       " 0.3721  0.6279  0.0000  0.0000\n",
       " 0.2407  0.4681  0.0000  0.2913\n",
       " 0.2710  0.4060  0.0000  0.3230\n",
       " 0.3217  0.4050  0.0000  0.2733\n",
       " 0.2781  0.4560  0.0000  0.2659\n",
       " 0.2900  0.4147  0.0000  0.2954\n",
       " 0.3330  0.4050  0.0000  0.2620\n",
       " 0.3199  0.6801  0.0000  0.0000\n",
       " 0.3673  0.6327  0.0000  0.0000\n",
       " 0.3764  0.6236  0.0000  0.0000\n",
       " 0.3382  0.6618  0.0000  0.0000\n",
       " 0.3553  0.6447  0.0000  0.0000\n",
       " 0.3721  0.6279  0.0000  0.0000\n",
       " 0.3232  0.3165  0.0000  0.3603\n",
       " 0.3093  0.3168  0.0000  0.3739\n",
       " 0.3659  0.2995  0.0000  0.3346\n",
       " 0.3164  0.2984  0.0000  0.3852\n",
       " 0.2980  0.3069  0.0000  0.3951\n",
       " 0.3295  0.3000  0.0000  0.3705\n",
       " 0.4223  0.5777  0.0000  0.0000\n",
       " 0.4143  0.5857  0.0000  0.0000\n",
       " 0.4610  0.5390  0.0000  0.0000\n",
       " 0.4476  0.5524  0.0000  0.0000\n",
       " 0.4390  0.5610  0.0000  0.0000\n",
       " 0.4739  0.5261  0.0000  0.0000\n",
       " 0.3232  0.3165  0.0000  0.3603\n",
       " 0.3093  0.3168  0.0000  0.3739\n",
       " 0.3659  0.2995  0.0000  0.3346\n",
       " 0.3164  0.2984  0.0000  0.3852\n",
       " 0.2980  0.3069  0.0000  0.3951\n",
       " 0.3295  0.3000  0.0000  0.3705\n",
       " 0.4223  0.5777  0.0000  0.0000\n",
       " 0.4143  0.5857  0.0000  0.0000\n",
       " 0.4610  0.5390  0.0000  0.0000\n",
       " 0.4476  0.5524  0.0000  0.0000\n",
       " 0.4390  0.5610  0.0000  0.0000\n",
       " 0.4739  0.5261  0.0000  0.0000\n",
       " 0.4702  0.5298  0.0000  0.0000\n",
       " 0.4033  0.5967  0.0000  0.0000\n",
       " 0.5313  0.4687  0.0000  0.0000\n",
       " 0.4988  0.5012  0.0000  0.0000\n",
       " 0.4229  0.5771  0.0000  0.0000\n",
       " 0.5229  0.4771  0.0000  0.0000\n",
       "[torch.FloatTensor of size 312x4]\n",
       "\n"
      ]
     },
     "execution_count": 16,
     "metadata": {},
     "output_type": "execute_result"
    }
   ],
   "source": [
    "board = game:get_board_from_node(tree)"
   ]
  },
  {
   "cell_type": "code",
   "execution_count": 17,
   "metadata": {},
   "outputs": [],
   "source": [
    "beting_h = game:get_beting_history(tree)"
   ]
  },
  {
   "cell_type": "code",
   "execution_count": 18,
   "metadata": {},
   "outputs": [
    {
     "data": {
      "text/plain": [
       "Columns 1 to 26\n",
       " 0  0  0  1  0  0  0  0  0  0  0  0  0  0  0  0  0  0  0  0  0  0  0  0  0  0\n",
       " 0  0  0  0  1  0  0  0  0  0  0  0  0  0  0  0  0  0  0  0  0  0  0  0  0  0\n",
       " 0  0  0  0  0  1  0  0  0  0  0  0  0  0  0  0  0  0  0  0  0  0  0  0  0  0\n",
       "\n",
       "Columns 27 to 34\n",
       " 0  0  0  0  1  1  1  1\n",
       " 0  0  0  0  1  1  1  1\n",
       " 0  0  0  0  1  1  1  1\n",
       "[torch.FloatTensor of size 3x34]\n",
       "\t 1.2651e-12  3.4992e-01  2.1207e-01  4.3801e-01\n",
       " 2.8813e-12  6.5542e-01  3.0555e-01  3.9030e-02\n",
       " 4.1512e-02  7.4524e-01  2.3211e-02  1.9004e-01\n",
       "[torch.FloatTensor of size 3x4]\n",
       "\n"
      ]
     },
     "execution_count": 18,
     "metadata": {},
     "output_type": "execute_result"
    }
   ],
   "source": [
    "game:generate_features_and_strategy(board,beting_h,tree)"
   ]
  },
  {
   "cell_type": "code",
   "execution_count": 19,
   "metadata": {},
   "outputs": [],
   "source": [
    "features_bucket = game:generate_features_and_actions(board,beting_h,tree)"
   ]
  },
  {
   "cell_type": "code",
   "execution_count": 24,
   "metadata": {},
   "outputs": [
    {
     "data": {
      "text/plain": [
       "Columns 1 to 26\n",
       " 0  0  0  1  0  0  0  0  0  0  0  0  0  0  0  0  0  0  0  0  0  0  0  0  0  0\n",
       " 0  0  0  1  0  0  0  0  0  0  0  0  0  0  0  0  0  0  0  0  0  0  0  0  0  0\n",
       " 0  0  0  0  1  0  0  0  0  0  0  0  0  0  0  0  0  0  0  0  0  0  0  0  0  0\n",
       " 0  0  0  0  1  0  0  0  0  0  0  0  0  0  0  0  0  0  0  0  0  0  0  0  0  0\n",
       " 0  0  0  0  0  1  0  0  0  0  0  0  0  0  0  0  0  0  0  0  0  0  0  0  0  0\n",
       " 0  0  0  0  0  1  0  0  0  0  0  0  0  0  0  0  0  0  0  0  0  0  0  0  0  0\n",
       "\n",
       "Columns 27 to 34\n",
       " 0  0  0  0  1  1  1  1\n",
       " 0  0  0  0  1  1  1  1\n",
       " 0  0  0  0  1  1  1  1\n",
       " 0  0  0  0  1  1  1  1\n",
       " 0  0  0  0  1  1  1  1\n",
       " 0  0  0  0  1  1  1  1\n",
       "[torch.FloatTensor of size 6x34]\n",
       "\n"
      ]
     },
     "execution_count": 24,
     "metadata": {},
     "output_type": "execute_result"
    }
   ],
   "source": [
    "features_bucket"
   ]
  },
  {
   "cell_type": "code",
   "execution_count": 21,
   "metadata": {
    "collapsed": true
   },
   "outputs": [],
   "source": [
    "-- Recursive visiting the tree:\n",
    "function TreeData:extract_strategies_and_actions(node)\n",
    "--- Getting data for non terminal and non chance nodes:\n",
    "  if (not node.terminal and node.current_player ~=0) then\n",
    "    --- Getting the board :\n",
    "    local board_bucket = self:get_board_from_node(node)\n",
    "    --- Getting the private card:\n",
    "    ---local privatecard_bucket = self:get_private_card_from_node(node)\n",
    "    --- Getting the betting history:\n",
    "    local history_bucket = self:get_beting_history(node)\n",
    "    --- Concatenating features\n",
    "\n",
    "    local features = self:generate_features_and_actions(board_bucket,history_bucket,node)\n",
    "    ----SPLITING AND ESTIMATING\n",
    "        \n",
    "    ---local features = board_bucket:cat(history_bucket)\n",
    "    self.input_tensor = self.input_tensor:cat(features,1)\n",
    "        \n",
    "        \n",
    "        --- GET \n",
    "        \n",
    "        \n",
    "  end\n",
    "  if node.children ~= nil then\n",
    "    for i =1,#node.children do\n",
    "      local child_node = node.children[i]\n",
    "      self:get_node_data(child_node)\n",
    "    end\n",
    "  end\n",
    "\n",
    "end\n"
   ]
  },
  {
   "cell_type": "code",
   "execution_count": null,
   "metadata": {
    "collapsed": true
   },
   "outputs": [],
   "source": []
  },
  {
   "cell_type": "code",
   "execution_count": 22,
   "metadata": {},
   "outputs": [
    {
     "ename": "[string \"function generate_new_strategies(game)...\"]:12: 'end' expected (to close 'if' at line 3) near <eof>",
     "evalue": "",
     "output_type": "error",
     "traceback": [
      "[string \"function generate_new_strategies(game)...\"]:12: 'end' expected (to close 'if' at line 3) near <eof>"
     ]
    }
   ],
   "source": [
    "function generate_new_strategies(game)\n",
    "    local data = 0\n",
    "    if node.terminal == true then\n",
    "        return\n",
    "    else\n",
    "        data = extract_strategies_and_actions(node)\n",
    "        node.strategy = estimate_initial_strategies(data)\n",
    "        if #node.children > 0 then\n",
    "            \n",
    "    \n",
    "end"
   ]
  },
  {
   "cell_type": "code",
   "execution_count": null,
   "metadata": {
    "collapsed": true
   },
   "outputs": [],
   "source": []
  },
  {
   "cell_type": "code",
   "execution_count": null,
   "metadata": {
    "collapsed": true
   },
   "outputs": [],
   "source": []
  },
  {
   "cell_type": "code",
   "execution_count": null,
   "metadata": {
    "collapsed": true
   },
   "outputs": [],
   "source": []
  },
  {
   "cell_type": "code",
   "execution_count": null,
   "metadata": {
    "collapsed": true
   },
   "outputs": [],
   "source": []
  },
  {
   "cell_type": "code",
   "execution_count": null,
   "metadata": {
    "collapsed": true
   },
   "outputs": [],
   "source": []
  },
  {
   "cell_type": "code",
   "execution_count": 23,
   "metadata": {},
   "outputs": [
    {
     "data": {
      "text/plain": [
       "\n"
      ]
     },
     "execution_count": 23,
     "metadata": {},
     "output_type": "execute_result"
    }
   ],
   "source": [
    "--[[\n",
    "local i = 2\n",
    "\n",
    "t2 = torch.range(1,train_loss_table[i]:size(1))\n",
    "local plot = Plot()\n",
    "plot:line(t2,train_loss_table[i],'red' ,'train loss')\n",
    "plot:line(t2,test_loss_table[i],'blue' ,'test loss')\n",
    "plot:legend(true):title('Mean Square Error')\n",
    "plot:draw\n",
    "--]]"
   ]
  },
  {
   "cell_type": "code",
   "execution_count": null,
   "metadata": {
    "collapsed": true
   },
   "outputs": [],
   "source": []
  },
  {
   "cell_type": "code",
   "execution_count": null,
   "metadata": {
    "collapsed": true
   },
   "outputs": [],
   "source": []
  },
  {
   "cell_type": "code",
   "execution_count": null,
   "metadata": {
    "collapsed": true
   },
   "outputs": [],
   "source": []
  },
  {
   "cell_type": "code",
   "execution_count": null,
   "metadata": {
    "collapsed": true
   },
   "outputs": [],
   "source": []
  },
  {
   "cell_type": "code",
   "execution_count": null,
   "metadata": {
    "collapsed": true
   },
   "outputs": [],
   "source": []
  },
  {
   "cell_type": "code",
   "execution_count": null,
   "metadata": {
    "collapsed": true
   },
   "outputs": [],
   "source": []
  },
  {
   "cell_type": "code",
   "execution_count": null,
   "metadata": {
    "collapsed": true
   },
   "outputs": [],
   "source": []
  },
  {
   "cell_type": "code",
   "execution_count": null,
   "metadata": {
    "collapsed": true
   },
   "outputs": [],
   "source": []
  }
 ],
 "metadata": {
  "kernelspec": {
   "display_name": "iTorch",
   "language": "lua",
   "name": "itorch"
  },
  "language_info": {
   "name": "lua",
   "version": "5.2"
  }
 },
 "nbformat": 4,
 "nbformat_minor": 2
}
