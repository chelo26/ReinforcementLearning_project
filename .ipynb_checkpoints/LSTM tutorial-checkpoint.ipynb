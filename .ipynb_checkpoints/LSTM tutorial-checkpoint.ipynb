{
 "cells": [
  {
   "cell_type": "code",
   "execution_count": 1,
   "metadata": {
    "collapsed": true
   },
   "outputs": [],
   "source": [
    "require 'nn'\n",
    "---LSTM"
   ]
  },
  {
   "cell_type": "code",
   "execution_count": 5,
   "metadata": {
    "collapsed": true
   },
   "outputs": [],
   "source": [
    "inputs = {}\n",
    "table.insert(inputs, nn.Identity()())   -- network input\n",
    "table.insert(inputs, nn.Identity()())   -- c at time t-1\n",
    "table.insert(inputs, nn.Identity()())   -- h at time t-1\n",
    "input = inputs[1]\n",
    "prev_c = inputs[2]\n",
    "prev_h = inputs[3]"
   ]
  },
  {
   "cell_type": "code",
   "execution_count": 37,
   "metadata": {
    "collapsed": true
   },
   "outputs": [],
   "source": [
    "pred_mlp = nn.Sequential()  -- A network that makes predictions given \n",
    "pred_mlp:add(nn.Linear(5, 4))\n",
    "pred_mlp:add(nn.Linear(4, 3))"
   ]
  },
  {
   "cell_type": "code",
   "execution_count": 38,
   "metadata": {
    "collapsed": true
   },
   "outputs": [],
   "source": [
    "xy_mlp = nn.ParallelTable() -- A network for predictions and for keeping \n",
    "xy_mlp:add(pred_mlp)        -- true label for comparison with a criterion\n",
    "xy_mlp:add(nn.Identity())   -- by forwarding both x and y through the "
   ]
  },
  {
   "cell_type": "code",
   "execution_count": 39,
   "metadata": {
    "collapsed": true
   },
   "outputs": [],
   "source": [
    "mlp = nn.Sequential()       -- The main network that takes both x and \n",
    "mlp:add(xy_mlp)             -- It feeds x and y to parallel networks;"
   ]
  },
  {
   "cell_type": "code",
   "execution_count": 40,
   "metadata": {
    "collapsed": true
   },
   "outputs": [],
   "source": [
    "cr = nn.MSECriterion()\n",
    "cr_wrap = nn.CriterionTable(cr)\n",
    "mlp:add(cr_wrap)            -- and then applies the criterion."
   ]
  },
  {
   "cell_type": "code",
   "execution_count": 45,
   "metadata": {},
   "outputs": [
    {
     "data": {
      "text/plain": [
       " 1\n",
       " 1\n",
       " 1\n",
       " 1\n",
       " 1\n",
       "[torch.DoubleTensor of size 5]\n",
       "\n",
       " 1\n",
       " 1\n",
       " 1\n",
       "[torch.DoubleTensor of size 3]\n",
       "\n",
       "6.4717166765054e-22\n",
       " 1\n",
       " 1\n",
       " 1\n",
       " 1\n",
       " 1\n",
       "[torch.DoubleTensor of size 5]\n",
       "\n",
       " 1\n",
       " 1\n",
       " 1\n",
       "[torch.DoubleTensor of size 3]\n",
       "\n",
       "4.4471736910684e-22\n",
       " 1\n",
       " 1\n",
       " 1\n",
       " 1\n",
       " 1\n",
       "[torch.DoubleTensor of size 5]\n",
       "\n",
       " 1\n",
       " 1\n",
       " 1\n",
       "[torch.DoubleTensor of size 3]\n",
       "\n",
       "3.0559557393766e-22\n",
       " 1\n",
       " 1\n",
       " 1\n",
       " 1\n",
       " 1\n",
       "[torch.DoubleTensor of size 5]\n",
       "\n",
       " 1\n",
       " 1\n",
       " 1\n",
       "[torch.DoubleTensor of size 3]\n",
       "\n",
       "2.0999618932439e-22\n",
       " 1\n",
       " 1\n",
       " 1\n",
       " 1\n",
       " 1\n",
       "[torch.DoubleTensor of size 5]\n",
       "\n",
       " 1\n",
       " 1\n",
       " 1\n",
       "[torch.DoubleTensor of size 3]\n",
       "\n",
       "1.4430106383775e-22\n"
      ]
     },
     "execution_count": 45,
     "metadata": {},
     "output_type": "execute_result"
    },
    {
     "data": {
      "text/plain": [
       " 1\n",
       " 1\n",
       " 1\n",
       " 1\n",
       " 1\n",
       "[torch.DoubleTensor of size 5]\n",
       "\n",
       " 1\n",
       " 1\n",
       " 1\n",
       "[torch.DoubleTensor of size 3]\n",
       "\n",
       "9.9161154766734e-23\n",
       " 1\n",
       " 1\n",
       " 1\n",
       " 1\n",
       " 1\n",
       "[torch.DoubleTensor of size 5]\n",
       "\n",
       " 1\n",
       " 1\n",
       " 1\n",
       "[torch.DoubleTensor of size 3]\n",
       "\n",
       "6.8139940573654e-23\n",
       " 1\n",
       " 1\n",
       " 1\n",
       " 1\n",
       " 1\n",
       "[torch.DoubleTensor of size 5]\n",
       "\n",
       " 1\n",
       " 1\n",
       " 1\n",
       "[torch.DoubleTensor of size 3]\n",
       "\n",
       "4.6822547972588e-23\n",
       " 1\n",
       " 1\n",
       " 1\n",
       " 1\n",
       " 1\n",
       "[torch.DoubleTensor of size 5]\n",
       "\n",
       " 1\n",
       " 1\n",
       " 1\n",
       "[torch.DoubleTensor of size 3]\n",
       "\n",
       "3.217670034461e-23\n",
       " 1\n",
       " 1\n",
       " 1\n",
       " 1\n",
       " 1\n",
       "[torch.DoubleTensor of size 5]\n",
       "\n",
       " 1\n",
       " 1\n",
       " 1\n",
       "[torch.DoubleTensor of size 3]\n",
       "\n",
       "2.2110394549436e-23\n"
      ]
     },
     "execution_count": 45,
     "metadata": {},
     "output_type": "execute_result"
    }
   ],
   "source": [
    "for i = 1, 10 do           -- Do a few training iterations\n",
    "   x = torch.ones(5)        -- Make input features.\n",
    "   y = torch.Tensor(3)\n",
    "   y:copy(x:narrow(1,1,3))  -- Make output label.\n",
    "   print(x)\n",
    "   print(y)\n",
    "   err = mlp:forward{x,y}   -- Forward both input and output.\n",
    "   print(err)               -- Print error from criterion.\n",
    "   mlp:zeroGradParameters() -- Do backprop...\n",
    "   mlp:backward({x, y})\n",
    "   mlp:updateParameters(0.05)\n",
    "end "
   ]
  },
  {
   "cell_type": "code",
   "execution_count": null,
   "metadata": {
    "collapsed": true
   },
   "outputs": [],
   "source": [
    "require "
   ]
  },
  {
   "cell_type": "code",
   "execution_count": null,
   "metadata": {
    "collapsed": true
   },
   "outputs": [],
   "source": []
  }
 ],
 "metadata": {
  "kernelspec": {
   "display_name": "iTorch",
   "language": "lua",
   "name": "itorch"
  },
  "language_info": {
   "name": "lua",
   "version": "5.2"
  }
 },
 "nbformat": 4,
 "nbformat_minor": 2
}
