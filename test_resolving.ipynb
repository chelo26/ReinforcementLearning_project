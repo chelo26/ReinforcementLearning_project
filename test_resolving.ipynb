{
 "cells": [
  {
   "cell_type": "code",
   "execution_count": 49,
   "metadata": {
    "collapsed": true
   },
   "outputs": [],
   "source": [
    "arguments = require 'Settings.arguments'\n",
    "constants = require 'Settings.constants'\n",
    "card_tools = require 'Game.card_tools'\n",
    "card_to_string = require 'Game.card_to_string_conversion'\n",
    "arguments.bet_sizing = {1,2}\n",
    "arguments.stack = 1600\n",
    "require 'Lookahead.lookahead'\n",
    "require 'Lookahead.lookahead_builder'\n",
    "\n",
    "require 'Lookahead.resolving'\n",
    "require 'Tree.tree_builder'\n",
    "\n",
    "resolving = Resolving()\n",
    "\n",
    "current_node = {}\n",
    "current_node.board = card_to_string:string_to_board('As')\n",
    "current_node.street = 2\n",
    "current_node.current_player = constants.players.P1\n",
    "current_node.bets = arguments.Tensor{200, 200}\n",
    "\n",
    "player_range = card_tools:get_random_range(current_node.board, 2)\n",
    "opponent_range = card_tools:get_random_range(current_node.board, 4)\n",
    "\n",
    "---resolving:resolve_first_node(current_node, player_range, opponent_range)\n",
    "\n",
    "resolving:resolve(current_node, player_range, opponent_range)\n",
    "---print(opponent_range)"
   ]
  },
  {
   "cell_type": "code",
   "execution_count": 50,
   "metadata": {
    "collapsed": true
   },
   "outputs": [],
   "source": [
    "builder = PokerTreeBuilder()\n",
    "params = {}\n",
    "\n",
    "params.root_node = {}\n",
    "params.root_node.board = card_to_string:string_to_board('As')\n",
    "params.root_node.street = 2\n",
    "params.root_node.current_player = constants.players.P1\n",
    "params.root_node.bets = arguments.Tensor{200, 200}\n",
    "\n",
    "tree = builder:build_tree(params)\n"
   ]
  },
  {
   "cell_type": "code",
   "execution_count": 54,
   "metadata": {},
   "outputs": [
    {
     "data": {
      "text/plain": [
       "(1,1,1,.,.) = \n",
       "  0.0000  0.0701  0.0098  0.3529  0.2082  0.3590\n",
       "  0.0000  1.0000  1.0000  1.0000  0.2646  0.2616\n",
       "[torch.FloatTensor of size 1x1x1x2x6]\n",
       "\n"
      ]
     },
     "execution_count": 54,
     "metadata": {},
     "output_type": "execute_result"
    }
   ],
   "source": [
    "print(resolving.lookahead.ranges_data[1])\n"
   ]
  },
  {
   "cell_type": "code",
   "execution_count": null,
   "metadata": {
    "collapsed": true
   },
   "outputs": [],
   "source": []
  }
 ],
 "metadata": {
  "kernelspec": {
   "display_name": "iTorch",
   "language": "lua",
   "name": "itorch"
  },
  "language_info": {
   "name": "lua",
   "version": "5.2"
  }
 },
 "nbformat": 4,
 "nbformat_minor": 2
}
