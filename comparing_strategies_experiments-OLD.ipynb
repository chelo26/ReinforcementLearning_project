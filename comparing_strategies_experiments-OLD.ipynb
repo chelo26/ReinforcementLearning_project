{
 "cells": [
  {
   "cell_type": "code",
   "execution_count": 1,
   "metadata": {
    "collapsed": true
   },
   "outputs": [],
   "source": [
    "--- Libraries:\n",
    "arguments = require 'Settings.arguments'\n",
    "constants = require 'Settings.constants'\n",
    "card_to_string = require 'Game.card_to_string_conversion'\n",
    "card_tools = require 'Game.card_tools'\n",
    "game_settings = require 'Settings.game_settings'\n",
    "Plot = require 'itorch.Plot'\n",
    "nninit = require 'nninit'\n",
    "require 'torch'\n",
    "require 'math'\n",
    "require 'Tree.tree_builder'\n",
    "require 'Tree.tree_data_generation'\n",
    "require 'Tree.tree_visualiser'\n",
    "require 'nn'\n",
    "require 'Tree.tree_cfr'\n",
    "require 'Tree.tree_cfr2'\n",
    "require 'nngraph'\n",
    "require 'optim'\n",
    "require 'image'\n",
    "require 'NN.strategy_net_builder'\n",
    "require 'NN.strategy_net_trainer'\n",
    "\n"
   ]
  },
  {
   "cell_type": "code",
   "execution_count": 2,
   "metadata": {
    "collapsed": true
   },
   "outputs": [],
   "source": [
    "--- FUNCTIONS\n",
    "--- Comparing with 2000\n",
    "function compare_cfrs(tree_cfr1,tree_cfr2000)\n",
    "    local difference = {}\n",
    "    local table1 = tree_cfr1.total_strategies\n",
    "    local table2 = tree_cfr2000.total_strategies\n",
    "    \n",
    "    for i = 1, #table1 do\n",
    "        difference[i] = torch.sqrt(torch.sum(torch.pow((table1[i] - table2[#table2]),2)))\n",
    "    end\n",
    "    return torch.FloatTensor(difference)\n",
    "end\n",
    "--- Comparing 2000 with itself\n",
    "function get_convergence(tree_cfr)\n",
    "    local difference = {}\n",
    "    local table_cfr = tree_cfr.total_strategies\n",
    "    local end_strategy = table_cfr[#table_cfr]\n",
    "    \n",
    "    for i = 1, #table_cfr do\n",
    "        difference[i] = torch.sqrt(torch.sum(torch.pow((table_cfr[i] - end_strategy),2)))\n",
    "    end\n",
    "    return torch.FloatTensor(difference)\n",
    "end"
   ]
  },
  {
   "cell_type": "code",
   "execution_count": 3,
   "metadata": {
    "collapsed": true
   },
   "outputs": [],
   "source": [
    "--- Create the tree\n",
    "builder = PokerTreeBuilder()\n",
    "--- Parameters for the tree\n",
    "params = {}\n",
    "params.root_node = {}\n",
    "params.root_node.board = card_to_string:string_to_board('')\n",
    "params.root_node.street = 1\n",
    "params.root_node.current_player = constants.players.P1\n",
    "params.root_node.bets = arguments.Tensor{200, 200}\n",
    "--- CFR Solver\n",
    "starting_ranges = arguments.Tensor(constants.players_count, game_settings.card_count)\n",
    "starting_ranges[1]:copy(card_tools:get_uniform_range(params.root_node.board))\n",
    "starting_ranges[2]:copy(card_tools:get_uniform_range(params.root_node.board))"
   ]
  },
  {
   "cell_type": "markdown",
   "metadata": {},
   "source": [
    "### 1. Compariaisons between CFR Solvers"
   ]
  },
  {
   "cell_type": "code",
   "execution_count": null,
   "metadata": {},
   "outputs": [
    {
     "data": {
      "text/plain": [
       "Solver\n"
      ]
     },
     "execution_count": 4,
     "metadata": {},
     "output_type": "execute_result"
    }
   ],
   "source": [
    "--- Building CFR Solver\n",
    "tree2000 = builder:build_tree(params)\n",
    "tree2000_cfr = TreeCFR2()\n",
    "print(\"Solver\")\n",
    "tree2000_cfr:run_cfr(tree2000, starting_ranges,2000)"
   ]
  },
  {
   "cell_type": "code",
   "execution_count": null,
   "metadata": {},
   "outputs": [],
   "source": [
    "--- Building CFR Solver\n",
    "treeRand1 = builder:build_tree(params)\n",
    "treeRand1_cfr = TreeCFR2()\n",
    "treeRand1_cfr:run_cfr(treeRand1, starting_ranges,800)"
   ]
  },
  {
   "cell_type": "code",
   "execution_count": null,
   "metadata": {
    "collapsed": true
   },
   "outputs": [],
   "source": []
  },
  {
   "cell_type": "code",
   "execution_count": null,
   "metadata": {
    "collapsed": true
   },
   "outputs": [],
   "source": []
  },
  {
   "cell_type": "code",
   "execution_count": null,
   "metadata": {
    "collapsed": true
   },
   "outputs": [],
   "source": []
  },
  {
   "cell_type": "code",
   "execution_count": 15,
   "metadata": {
    "collapsed": true
   },
   "outputs": [],
   "source": [
    "--- Building CFR Solver with initialization\n",
    "treeRand2 = builder:build_tree(params)\n",
    "dataRand2 = TreeData(treeRand1)\n",
    "dataRand2:get_training_set(treeRand1,1)\n",
    "dataRand2:warm_start_from_targets(treeRand2,treeRand1)"
   ]
  },
  {
   "cell_type": "code",
   "execution_count": 18,
   "metadata": {},
   "outputs": [
    {
     "data": {
      "text/plain": [
       "Solver\n"
      ]
     },
     "execution_count": 18,
     "metadata": {},
     "output_type": "execute_result"
    }
   ],
   "source": [
    "treeRand2_cfr = TreeCFR2()\n",
    "print(\"Solver\")\n",
    "treeRand2_cfr:run_cfr(treeRand2, starting_ranges,100)"
   ]
  },
  {
   "cell_type": "code",
   "execution_count": 19,
   "metadata": {},
   "outputs": [
    {
     "data": {
      "text/plain": [
       "Solver\n"
      ]
     },
     "execution_count": 19,
     "metadata": {},
     "output_type": "execute_result"
    }
   ],
   "source": [
    "--- Building CFR Solver\n",
    "treeDet = builder:build_tree(params)\n",
    "treeDet_cfr = TreeCFR()\n",
    "print(\"Solver\")\n",
    "treeDet_cfr:run_cfr(treeDet, starting_ranges,100)"
   ]
  },
  {
   "cell_type": "code",
   "execution_count": 30,
   "metadata": {},
   "outputs": [
    {
     "data": {
      "text/html": [
       "<script type=\"text/javascript\">\n",
       "$(function() {\n",
       "    if (typeof (window._bokeh_onload_callbacks) === \"undefined\"){\n",
       "  window._bokeh_onload_callbacks = [];\n",
       "    }\n",
       "    function load_lib(url, callback){\n",
       "  window._bokeh_onload_callbacks.push(callback);\n",
       "  if (window._bokeh_is_loading){\n",
       "      console.log(\"Bokeh: BokehJS is being loaded, scheduling callback at\", new Date());\n",
       "      return null;\n",
       "  }\n",
       "  console.log(\"Bokeh: BokehJS not loaded, scheduling load and callback at\", new Date());\n",
       "  window._bokeh_is_loading = true;\n",
       "  var s = document.createElement('script');\n",
       "  s.src = url;\n",
       "  s.async = true;\n",
       "  s.onreadystatechange = s.onload = function(){\n",
       "      Bokeh.embed.inject_css(\"https://cdn.pydata.org/bokeh-0.7.0.min.css\");\n",
       "      window._bokeh_onload_callbacks.forEach(function(callback){callback()});\n",
       "  };\n",
       "  s.onerror = function(){\n",
       "      console.warn(\"failed to load library \" + url);\n",
       "  };\n",
       "  document.getElementsByTagName(\"head\")[0].appendChild(s);\n",
       "    }\n",
       "\n",
       "    bokehjs_url = \"https://cdn.pydata.org/bokeh-0.7.0.min.js\"\n",
       "\n",
       "    var elt = document.getElementById(\"de0d0958-123e-4cc6-cce3-87f5bc1236f2\");\n",
       "    if(elt==null) {\n",
       "  console.log(\"Bokeh: ERROR: autoload.js configured with elementid 'de0d0958-123e-4cc6-cce3-87f5bc1236f2'\"\n",
       "        + \"but no matching script tag was found. \")\n",
       "  return false;\n",
       "    }\n",
       "\n",
       "    if(typeof(Bokeh) !== \"undefined\") {\n",
       "  console.log(\"Bokeh: BokehJS loaded, going straight to plotting\");\n",
       "  var modelid = \"f30f8f3c-1832-4d05-cd5a-26790adff4b5\";\n",
       "  var modeltype = \"Plot\";\n",
       "  var all_models = [{\"type\":\"ColumnDataSource\",\"id\":\"98dcc07c-0877-40c7-c03d-a74acce609e4\",\"attributes\":{\"doc\":null,\"cont_ranges\":{},\"id\":\"98dcc07c-0877-40c7-c03d-a74acce609e4\",\"discrete_ranges\":{},\"tags\":[],\"selected\":[],\"column_names\":[\"x\",\"y\"],\"data\":{\"x\":[1,2,3,4,5,6,7,8,9,10,11,12,13,14,15,16,17,18,19,20,21,22,23,24,25,26,27,28,29,30,31,32,33,34,35,36,37,38,39,40,41,42,43,44,45,46,47,48,49,50,51,52,53,54,55,56,57,58,59,60,61,62,63,64,65,66,67,68,69,70,71,72,73,74,75,76,77,78,79,80,81,82,83,84,85,86,87,88,89,90,91,92,93,94,95,96,97,98,99,100],\"y\":[14.043035507202,21.218078613281,17.752647399902,15.248805999756,14.197919845581,13.43265914917,12.478137969971,11.327541351318,10.723736763,10.265031814575,9.9169321060181,9.5537805557251,9.1843614578247,8.7884635925293,8.4489164352417,8.2548675537109,7.9372181892395,7.7283444404602,7.6366672515869,7.5535349845886,7.4518518447876,7.3312015533447,7.2157135009766,7.0541505813599,6.7675342559814,6.4616556167603,6.2660870552063,6.1586117744446,6.0627207756042,5.9595012664795,5.8332300186157,5.759171962738,5.7088899612427,5.6328549385071,5.4444575309753,5.1997604370117,4.9403276443481,4.7118606567383,4.517427444458,4.3573637008667,4.2244176864624,4.124927520752,3.8855390548706,3.6916837692261,3.5933122634888,3.5205147266388,3.438289642334,3.3369541168213,3.220813035965,3.07608294487,2.9080662727356,2.7564074993134,2.6597683429718,2.6025140285492,2.5509839057922,2.5021834373474,2.4483819007874,2.3935446739197,2.3429074287415,2.2953460216522,2.2458007335663,2.1902687549591,2.1282477378845,2.059326171875,1.9809081554413,1.8998818397522,1.8266596794128,1.774714589119,1.7391402721405,1.7138787508011,1.6737825870514,1.620321393013,1.5561918020248,1.4854295253754,1.4133197069168,1.3406683206558,1.2702217102051,1.2026844024658,1.140016078949,1.0838161706924,1.0386321544647,1.0058621168137,0.97785317897797,0.95091664791107,0.92616653442383,0.90239083766937,0.87869358062744,0.85572499036789,0.83341687917709,0.80905818939209,0.78223186731339,0.74967789649963,0.71311610937119,0.68226534128189,0.66098725795746,0.64774441719055,0.63783371448517,0.63016772270203,0.62509769201279,0.62246775627136]}}},{\"type\":\"Line\",\"id\":\"d4c881f9-e43c-48e9-c828-f3002c3e7061\",\"attributes\":{\"line_alpha\":{\"value\":1,\"units\":\"data\"},\"y\":{\"field\":\"y\",\"units\":\"data\"},\"id\":\"d4c881f9-e43c-48e9-c828-f3002c3e7061\",\"tags\":[],\"line_color\":{\"value\":\"red\"},\"doc\":null,\"fill_color\":{\"value\":\"red\"},\"fill_alpha\":{\"value\":0.2,\"units\":\"data\"},\"size\":{\"value\":10,\"units\":\"screen\"},\"x\":{\"field\":\"x\",\"units\":\"data\"}}},{\"type\":\"Line\",\"id\":\"6352042f-5b18-4c22-ccfa-a7f6e7a8ba27\",\"attributes\":{\"line_alpha\":{\"value\":1,\"units\":\"data\"},\"y\":{\"field\":\"y\",\"units\":\"data\"},\"id\":\"6352042f-5b18-4c22-ccfa-a7f6e7a8ba27\",\"tags\":[],\"line_color\":{\"value\":\"red\"},\"doc\":null,\"fill_color\":{\"value\":\"red\"},\"fill_alpha\":{\"value\":0.2,\"units\":\"data\"},\"size\":{\"value\":10,\"units\":\"screen\"},\"x\":{\"field\":\"x\",\"units\":\"data\"}}},{\"type\":\"GlyphRenderer\",\"id\":\"bb30f316-632c-4e7a-ce98-20947951e3ab\",\"attributes\":{\"id\":\"bb30f316-632c-4e7a-ce98-20947951e3ab\",\"name\":null,\"selection_glyph\":null,\"doc\":null,\"nonselection_glyph\":{\"type\":\"Line\",\"id\":\"6352042f-5b18-4c22-ccfa-a7f6e7a8ba27\"},\"glyph\":{\"type\":\"Line\",\"id\":\"d4c881f9-e43c-48e9-c828-f3002c3e7061\"},\"server_data_source\":null,\"tags\":[],\"data_source\":{\"type\":\"ColumnDataSource\",\"id\":\"98dcc07c-0877-40c7-c03d-a74acce609e4\"}}},{\"type\":\"ColumnDataSource\",\"id\":\"f90e0cdd-3e6d-40d1-c0bf-6bdf64311790\",\"attributes\":{\"doc\":null,\"cont_ranges\":{},\"id\":\"f90e0cdd-3e6d-40d1-c0bf-6bdf64311790\",\"discrete_ranges\":{},\"tags\":[],\"selected\":[],\"column_names\":[\"x\",\"y\"],\"data\":{\"x\":[1,2,3,4,5,6,7,8,9,10,11,12,13,14,15,16,17,18,19,20,21,22,23,24,25,26,27,28,29,30,31,32,33,34,35,36,37,38,39,40,41,42,43,44,45,46,47,48,49,50,51,52,53,54,55,56,57,58,59,60,61,62,63,64,65,66,67,68,69,70,71,72,73,74,75,76,77,78,79,80,81,82,83,84,85,86,87,88,89,90,91,92,93,94,95,96,97,98,99,100],\"y\":[0.62300032377243,21.218078613281,17.161191940308,15.487917900085,12.748940467834,11.28214263916,10.940443992615,10.201482772827,10.152240753174,9.6745576858521,9.2335615158081,8.8686056137085,8.7094497680664,8.569619178772,8.4307994842529,8.293137550354,8.1777153015137,8.0109148025513,7.8624272346497,7.7429990768433,7.6455593109131,7.5391359329224,7.4199857711792,7.3004808425903,7.2063283920288,7.1338014602661,6.9728617668152,6.7872195243835,6.6912627220154,6.6289095878601,6.5627708435059,6.5014352798462,6.4485030174255,6.4014596939087,6.3545174598694,6.3083729743958,6.2672367095947,6.2305750846863,6.1978387832642,6.1682267189026,6.1367454528809,6.1031045913696,6.0684533119202,6.0340061187744,5.9999799728394,5.9681506156921,5.937732219696,5.907883644104,5.8778729438782,5.8272466659546,5.7469081878662,5.6518106460571,5.5684337615967,5.5219855308533,5.499370098114,5.474452495575,5.4430680274963,5.4052109718323,5.3644599914551,5.3009481430054,5.2153000831604,5.1165156364441,5.0180010795593,4.9403491020203,4.9130296707153,4.8911089897156,4.8738298416138,4.8609557151794,4.8509912490845,4.8420810699463,4.8282599449158,4.8037271499634,4.7700476646423,4.7292499542236,4.6838407516479,4.6466670036316,4.6260762214661,4.6104011535645,4.5980858802795,4.5902438163757,4.5850086212158,4.5812649726868,4.5767893791199,4.5722255706787,4.5653419494629,4.5554542541504,4.5431785583496,4.5306258201599,4.5226707458496,4.5152149200439,4.5089726448059,4.5047383308411,4.5022234916687,4.5003247261047,4.4966468811035,4.4910054206848,4.4835567474365,4.4763464927673,4.4725518226624,4.4724435806274]}}},{\"type\":\"Line\",\"id\":\"069286f2-2bbc-4dbc-cd39-d80c56b00fdc\",\"attributes\":{\"line_alpha\":{\"value\":1,\"units\":\"data\"},\"y\":{\"field\":\"y\",\"units\":\"data\"},\"id\":\"069286f2-2bbc-4dbc-cd39-d80c56b00fdc\",\"tags\":[],\"line_color\":{\"value\":\"blue\"},\"doc\":null,\"fill_color\":{\"value\":\"blue\"},\"fill_alpha\":{\"value\":0.2,\"units\":\"data\"},\"size\":{\"value\":10,\"units\":\"screen\"},\"x\":{\"field\":\"x\",\"units\":\"data\"}}},{\"type\":\"Line\",\"id\":\"1282f1be-ab12-46c3-c6b8-4bba634c77f8\",\"attributes\":{\"line_alpha\":{\"value\":1,\"units\":\"data\"},\"y\":{\"field\":\"y\",\"units\":\"data\"},\"id\":\"1282f1be-ab12-46c3-c6b8-4bba634c77f8\",\"tags\":[],\"line_color\":{\"value\":\"blue\"},\"doc\":null,\"fill_color\":{\"value\":\"blue\"},\"fill_alpha\":{\"value\":0.2,\"units\":\"data\"},\"size\":{\"value\":10,\"units\":\"screen\"},\"x\":{\"field\":\"x\",\"units\":\"data\"}}},{\"type\":\"GlyphRenderer\",\"id\":\"d8e1d5fe-874a-4b7c-cb73-a1c120117310\",\"attributes\":{\"id\":\"d8e1d5fe-874a-4b7c-cb73-a1c120117310\",\"name\":null,\"selection_glyph\":null,\"doc\":null,\"nonselection_glyph\":{\"type\":\"Line\",\"id\":\"1282f1be-ab12-46c3-c6b8-4bba634c77f8\"},\"glyph\":{\"type\":\"Line\",\"id\":\"069286f2-2bbc-4dbc-cd39-d80c56b00fdc\"},\"server_data_source\":null,\"tags\":[],\"data_source\":{\"type\":\"ColumnDataSource\",\"id\":\"f90e0cdd-3e6d-40d1-c0bf-6bdf64311790\"}}},{\"type\":\"ColumnDataSource\",\"id\":\"7db53f6b-62f7-408a-c0b7-a4a3691f74b1\",\"attributes\":{\"doc\":null,\"cont_ranges\":{},\"id\":\"7db53f6b-62f7-408a-c0b7-a4a3691f74b1\",\"discrete_ranges\":{},\"tags\":[],\"selected\":[],\"column_names\":[\"x\",\"y\"],\"data\":{\"x\":[1,2,3,4,5,6,7,8,9,10,11,12,13,14,15,16,17,18,19,20,21,22,23,24,25,26,27,28,29,30,31,32,33,34,35,36,37,38,39,40,41,42,43,44,45,46,47,48,49,50,51,52,53,54,55,56,57,58,59,60,61,62,63,64,65,66,67,68,69,70,71,72,73,74,75,76,77,78,79,80,81,82,83,84,85,86,87,88,89,90,91,92,93,94,95,96,97,98,99,100],\"y\":[14.104619979858,21.218078613281,18.01623916626,15.628092765808,14.521444320679,13.44788646698,11.672814369202,10.940013885498,10.332927703857,9.5757064819336,9.2103185653687,9.0061683654785,8.8560132980347,8.7538328170776,8.5400505065918,8.2730283737183,8.0128498077393,7.8352708816528,7.7854156494141,7.6552209854126,7.4487466812134,7.2615809440613,7.1105852127075,6.9766516685486,6.852819442749,6.7261066436768,6.5827383995056,6.4524683952332,6.3256788253784,6.2334594726562,6.1663427352905,6.0959219932556,6.0136914253235,5.919548034668,5.8193707466125,5.7259130477905,5.6484341621399,5.583550453186,5.5136470794678,5.4543609619141,5.3534374237061,5.1287727355957,4.9312400817871,4.7687592506409,4.6216969490051,4.479015827179,4.3618741035461,4.2543001174927,4.1578116416931,4.0610809326172,3.9656121730804,3.8866875171661,3.8348853588104,3.8147473335266,3.794126033783,3.7665705680847,3.7314517498016,3.6804261207581,3.6111936569214,3.5270993709564,3.4428043365479,3.3471069335938,3.2454056739807,3.150497674942,3.0747096538544,3.0210046768188,2.9856386184692,2.9669148921967,2.9504733085632,2.9313387870789,2.9147522449493,2.9027507305145,2.8854763507843,2.8596231937408,2.8269748687744,2.7915556430817,2.7559010982513,2.7168288230896,2.6741309165955,2.6322643756866,2.5958316326141,2.566125869751,2.5424289703369,2.5245063304901,2.5133757591248,2.5049839019775,2.4925282001495,2.4769740104675,2.4575514793396,2.4341135025024,2.4068586826324,2.3791761398315,2.3570082187653,2.3378891944885,2.3212234973907,2.3088994026184,2.3014278411865,2.2950866222382,2.289587020874,2.2852346897125]}}},{\"type\":\"Line\",\"id\":\"5b0392a1-b753-4393-c38e-e774575a31d4\",\"attributes\":{\"line_alpha\":{\"value\":1,\"units\":\"data\"},\"y\":{\"field\":\"y\",\"units\":\"data\"},\"id\":\"5b0392a1-b753-4393-c38e-e774575a31d4\",\"tags\":[],\"line_color\":{\"value\":\"black\"},\"doc\":null,\"fill_color\":{\"value\":\"black\"},\"fill_alpha\":{\"value\":0.2,\"units\":\"data\"},\"size\":{\"value\":10,\"units\":\"screen\"},\"x\":{\"field\":\"x\",\"units\":\"data\"}}},{\"type\":\"Line\",\"id\":\"81dc83a6-4c7d-442a-c41a-3fad90ae0947\",\"attributes\":{\"line_alpha\":{\"value\":1,\"units\":\"data\"},\"y\":{\"field\":\"y\",\"units\":\"data\"},\"id\":\"81dc83a6-4c7d-442a-c41a-3fad90ae0947\",\"tags\":[],\"line_color\":{\"value\":\"black\"},\"doc\":null,\"fill_color\":{\"value\":\"black\"},\"fill_alpha\":{\"value\":0.2,\"units\":\"data\"},\"size\":{\"value\":10,\"units\":\"screen\"},\"x\":{\"field\":\"x\",\"units\":\"data\"}}},{\"type\":\"GlyphRenderer\",\"id\":\"d12b8f7f-5311-451e-c5b2-cfb0d54eb963\",\"attributes\":{\"id\":\"d12b8f7f-5311-451e-c5b2-cfb0d54eb963\",\"name\":null,\"selection_glyph\":null,\"doc\":null,\"nonselection_glyph\":{\"type\":\"Line\",\"id\":\"81dc83a6-4c7d-442a-c41a-3fad90ae0947\"},\"glyph\":{\"type\":\"Line\",\"id\":\"5b0392a1-b753-4393-c38e-e774575a31d4\"},\"server_data_source\":null,\"tags\":[],\"data_source\":{\"type\":\"ColumnDataSource\",\"id\":\"7db53f6b-62f7-408a-c0b7-a4a3691f74b1\"}}},{\"type\":\"ColumnDataSource\",\"id\":\"3df0cf9f-4586-400f-c04d-35a670ae6acf\",\"attributes\":{\"doc\":null,\"cont_ranges\":{},\"id\":\"3df0cf9f-4586-400f-c04d-35a670ae6acf\",\"discrete_ranges\":{},\"tags\":[],\"selected\":[],\"column_names\":[\"x\",\"y\"],\"data\":{\"x\":[1,2,3,4,5,6,7,8,9,10,11,12,13,14,15,16,17,18,19,20,21,22,23,24,25,26,27,28,29,30,31,32,33,34,35,36,37,38,39,40,41,42,43,44,45,46,47,48,49,50,51,52,53,54,55,56,57,58,59,60,61,62,63,64,65,66,67,68,69,70,71,72,73,74,75,76,77,78,79,80,81,82,83,84,85,86,87,88,89,90,91,92,93,94,95,96,97,98,99,100],\"y\":[14.043035507202,14.043035507202,13.256717681885,11.916692733765,11.619427680969,11.271606445312,10.723191261292,10.165752410889,9.8307523727417,9.5306491851807,9.2516422271729,8.9923915863037,8.7194366455078,8.3748388290405,8.0533447265625,7.8631691932678,7.6208009719849,7.4525246620178,7.3746666908264,7.2959332466125,7.1943826675415,7.072434425354,6.954306602478,6.7924294471741,6.5131177902222,6.2165598869324,6.0245628356934,5.9169011116028,5.8207054138184,5.7173218727112,5.6149578094482,5.5508193969727,5.5031394958496,5.4282784461975,5.2460145950317,5.0103340148926,4.7618913650513,4.5452365875244,4.3601202964783,4.2050590515137,4.0743207931519,3.9747529029846,3.7309048175812,3.5328397750854,3.4326314926147,3.3595771789551,3.2789061069489,3.1805655956268,3.0680179595947,2.9273920059204,2.7634038925171,2.6144442558289,2.5175862312317,2.4581263065338,2.4042630195618,2.353187084198,2.2972593307495,2.2404079437256,2.1877219676971,2.1379487514496,2.0863544940948,2.0292313098907,1.9660437107086,1.8955987691879,1.8153661489487,1.732288479805,1.6570416688919,1.6037783622742,1.56713783741,1.5403394699097,1.4976193904877,1.4401179552078,1.3706942796707,1.2935659885406,1.2142367362976,1.1333762407303,1.0540511608124,0.97771936655045,0.90677547454834,0.8426565527916,0.79010969400406,0.75010973215103,0.71388864517212,0.67843520641327,0.6450497508049,0.61217719316483,0.57848685979843,0.54503005743027,0.51175916194916,0.47406178712845,0.43074837327003,0.37701693177223,0.31361210346222,0.25264862179756,0.20185481011868,0.16136491298676,0.12245908379555,0.083669163286686,0.043436221778393,0]}}},{\"type\":\"Line\",\"id\":\"12df992f-796a-4ab0-ca50-ea564e0118de\",\"attributes\":{\"line_alpha\":{\"value\":1,\"units\":\"data\"},\"y\":{\"field\":\"y\",\"units\":\"data\"},\"id\":\"12df992f-796a-4ab0-ca50-ea564e0118de\",\"tags\":[],\"line_color\":{\"value\":\"green\"},\"doc\":null,\"fill_color\":{\"value\":\"green\"},\"fill_alpha\":{\"value\":0.2,\"units\":\"data\"},\"size\":{\"value\":10,\"units\":\"screen\"},\"x\":{\"field\":\"x\",\"units\":\"data\"}}},{\"type\":\"Line\",\"id\":\"e2ad9cf5-38ed-4353-c348-a7bb4f9f2bbb\",\"attributes\":{\"line_alpha\":{\"value\":1,\"units\":\"data\"},\"y\":{\"field\":\"y\",\"units\":\"data\"},\"id\":\"e2ad9cf5-38ed-4353-c348-a7bb4f9f2bbb\",\"tags\":[],\"line_color\":{\"value\":\"green\"},\"doc\":null,\"fill_color\":{\"value\":\"green\"},\"fill_alpha\":{\"value\":0.2,\"units\":\"data\"},\"size\":{\"value\":10,\"units\":\"screen\"},\"x\":{\"field\":\"x\",\"units\":\"data\"}}},{\"type\":\"GlyphRenderer\",\"id\":\"c8f46449-add7-46d0-c697-94765596a51c\",\"attributes\":{\"id\":\"c8f46449-add7-46d0-c697-94765596a51c\",\"name\":null,\"selection_glyph\":null,\"doc\":null,\"nonselection_glyph\":{\"type\":\"Line\",\"id\":\"e2ad9cf5-38ed-4353-c348-a7bb4f9f2bbb\"},\"glyph\":{\"type\":\"Line\",\"id\":\"12df992f-796a-4ab0-ca50-ea564e0118de\"},\"server_data_source\":null,\"tags\":[],\"data_source\":{\"type\":\"ColumnDataSource\",\"id\":\"3df0cf9f-4586-400f-c04d-35a670ae6acf\"}}},{\"type\":\"DataRange1d\",\"id\":\"ddaef5fe-e0ff-4c2a-cc03-54f21ed0b0d7\",\"attributes\":{\"doc\":null,\"sources\":[{\"source\":{\"id\":\"98dcc07c-0877-40c7-c03d-a74acce609e4\",\"type\":\"ColumnDataSource\"},\"columns\":[\"x\"]},{\"source\":{\"id\":\"f90e0cdd-3e6d-40d1-c0bf-6bdf64311790\",\"type\":\"ColumnDataSource\"},\"columns\":[\"x\"]},{\"source\":{\"id\":\"7db53f6b-62f7-408a-c0b7-a4a3691f74b1\",\"type\":\"ColumnDataSource\"},\"columns\":[\"x\"]},{\"source\":{\"id\":\"3df0cf9f-4586-400f-c04d-35a670ae6acf\",\"type\":\"ColumnDataSource\"},\"columns\":[\"x\"]}],\"id\":\"ddaef5fe-e0ff-4c2a-cc03-54f21ed0b0d7\",\"tags\":[]}},{\"type\":\"DataRange1d\",\"id\":\"96a5d7f8-fce2-469f-c63f-6b5dbc2cf062\",\"attributes\":{\"doc\":null,\"sources\":[{\"source\":{\"id\":\"98dcc07c-0877-40c7-c03d-a74acce609e4\",\"type\":\"ColumnDataSource\"},\"columns\":[\"y\"]},{\"source\":{\"id\":\"f90e0cdd-3e6d-40d1-c0bf-6bdf64311790\",\"type\":\"ColumnDataSource\"},\"columns\":[\"y\"]},{\"source\":{\"id\":\"7db53f6b-62f7-408a-c0b7-a4a3691f74b1\",\"type\":\"ColumnDataSource\"},\"columns\":[\"y\"]},{\"source\":{\"id\":\"3df0cf9f-4586-400f-c04d-35a670ae6acf\",\"type\":\"ColumnDataSource\"},\"columns\":[\"y\"]}],\"id\":\"96a5d7f8-fce2-469f-c63f-6b5dbc2cf062\",\"tags\":[]}},{\"type\":\"ToolEvents\",\"id\":\"17936139-ec3b-4cf4-cc90-1825427d2fd4\",\"attributes\":{\"doc\":null,\"tags\":[],\"id\":\"17936139-ec3b-4cf4-cc90-1825427d2fd4\",\"geometries\":[]}},{\"type\":\"BasicTickFormatter\",\"id\":\"4ab2e3c4-c708-4883-c866-01a7afcf8a66\",\"attributes\":{\"doc\":null,\"id\":\"4ab2e3c4-c708-4883-c866-01a7afcf8a66\",\"tags\":[]}},{\"type\":\"BasicTicker\",\"id\":\"760f177c-df3f-4499-c456-4442f781af6a\",\"attributes\":{\"doc\":null,\"num_minor_ticks\":5,\"id\":\"760f177c-df3f-4499-c456-4442f781af6a\",\"tags\":[]}},{\"type\":\"LinearAxis\",\"id\":\"0b6f48d1-dec4-4d65-cd75-55f09e661c8b\",\"attributes\":{\"doc\":null,\"id\":\"0b6f48d1-dec4-4d65-cd75-55f09e661c8b\",\"axis_label\":\"number of iterations\",\"tags\":[],\"ticker\":{\"type\":\"BasicTicker\",\"id\":\"760f177c-df3f-4499-c456-4442f781af6a\"},\"plot\":{\"type\":\"Plot\",\"id\":\"f30f8f3c-1832-4d05-cd5a-26790adff4b5\",\"subtype\":\"Figure\"},\"formatter\":{\"type\":\"BasicTickFormatter\",\"id\":\"4ab2e3c4-c708-4883-c866-01a7afcf8a66\"}}},{\"type\":\"Grid\",\"id\":\"a182f175-dc04-49cd-c996-2ff764024429\",\"attributes\":{\"doc\":null,\"id\":\"a182f175-dc04-49cd-c996-2ff764024429\",\"tags\":[],\"ticker\":{\"type\":\"BasicTicker\",\"id\":\"760f177c-df3f-4499-c456-4442f781af6a\"},\"plot\":{\"type\":\"Plot\",\"id\":\"f30f8f3c-1832-4d05-cd5a-26790adff4b5\",\"subtype\":\"Figure\"},\"dimension\":0}},{\"type\":\"BasicTickFormatter\",\"id\":\"a7836b2b-29ab-4d5d-cdc3-320c31866396\",\"attributes\":{\"doc\":null,\"id\":\"a7836b2b-29ab-4d5d-cdc3-320c31866396\",\"tags\":[]}},{\"type\":\"BasicTicker\",\"id\":\"ee33281b-1c2d-4ac2-caf0-afe76af392ae\",\"attributes\":{\"doc\":null,\"num_minor_ticks\":5,\"id\":\"ee33281b-1c2d-4ac2-caf0-afe76af392ae\",\"tags\":[]}},{\"type\":\"LinearAxis\",\"id\":\"620ba140-0e5a-4ae1-cae3-3b093a92405b\",\"attributes\":{\"doc\":null,\"id\":\"620ba140-0e5a-4ae1-cae3-3b093a92405b\",\"axis_label\":\"Distance to end policy\",\"tags\":[],\"ticker\":{\"type\":\"BasicTicker\",\"id\":\"ee33281b-1c2d-4ac2-caf0-afe76af392ae\"},\"plot\":{\"type\":\"Plot\",\"id\":\"f30f8f3c-1832-4d05-cd5a-26790adff4b5\",\"subtype\":\"Figure\"},\"formatter\":{\"type\":\"BasicTickFormatter\",\"id\":\"a7836b2b-29ab-4d5d-cdc3-320c31866396\"}}},{\"type\":\"Grid\",\"id\":\"9c41cf6f-815c-4c2c-cc21-32882f2cd70f\",\"attributes\":{\"doc\":null,\"id\":\"9c41cf6f-815c-4c2c-cc21-32882f2cd70f\",\"tags\":[],\"ticker\":{\"type\":\"BasicTicker\",\"id\":\"ee33281b-1c2d-4ac2-caf0-afe76af392ae\"},\"plot\":{\"type\":\"Plot\",\"id\":\"f30f8f3c-1832-4d05-cd5a-26790adff4b5\",\"subtype\":\"Figure\"},\"dimension\":1}},{\"type\":\"PanTool\",\"id\":\"95721b63-c575-4b8e-cb03-44b19b7283e2\",\"attributes\":{\"doc\":null,\"id\":\"95721b63-c575-4b8e-cb03-44b19b7283e2\",\"dimensions\":[\"width\",\"height\"],\"tags\":[],\"plot\":{\"type\":\"Plot\",\"id\":\"f30f8f3c-1832-4d05-cd5a-26790adff4b5\",\"subtype\":\"Figure\"}}},{\"type\":\"WheelZoomTool\",\"id\":\"9bc0076a-cce3-4379-c383-15f302d9b08d\",\"attributes\":{\"doc\":null,\"id\":\"9bc0076a-cce3-4379-c383-15f302d9b08d\",\"dimensions\":[\"width\",\"height\"],\"tags\":[],\"plot\":{\"type\":\"Plot\",\"id\":\"f30f8f3c-1832-4d05-cd5a-26790adff4b5\",\"subtype\":\"Figure\"}}},{\"type\":\"BoxZoomTool\",\"id\":\"ee1fbd35-47fe-44be-c47a-5f9e9e54ca53\",\"attributes\":{\"doc\":null,\"plot\":{\"type\":\"Plot\",\"id\":\"f30f8f3c-1832-4d05-cd5a-26790adff4b5\",\"subtype\":\"Figure\"},\"id\":\"ee1fbd35-47fe-44be-c47a-5f9e9e54ca53\",\"tags\":[]}},{\"type\":\"PreviewSaveTool\",\"id\":\"cd824e59-d15e-4729-c7b5-d43fb9d98e1e\",\"attributes\":{\"doc\":null,\"plot\":{\"type\":\"Plot\",\"id\":\"f30f8f3c-1832-4d05-cd5a-26790adff4b5\",\"subtype\":\"Figure\"},\"id\":\"cd824e59-d15e-4729-c7b5-d43fb9d98e1e\",\"tags\":[]}},{\"type\":\"ResizeTool\",\"id\":\"948acf69-ccb4-47d9-c750-2f56e0aa0f6b\",\"attributes\":{\"doc\":null,\"plot\":{\"type\":\"Plot\",\"id\":\"f30f8f3c-1832-4d05-cd5a-26790adff4b5\",\"subtype\":\"Figure\"},\"id\":\"948acf69-ccb4-47d9-c750-2f56e0aa0f6b\",\"tags\":[]}},{\"type\":\"ResetTool\",\"id\":\"957aaaef-7a13-4db6-cd06-4185d84137a0\",\"attributes\":{\"doc\":null,\"plot\":{\"type\":\"Plot\",\"id\":\"f30f8f3c-1832-4d05-cd5a-26790adff4b5\",\"subtype\":\"Figure\"},\"id\":\"957aaaef-7a13-4db6-cd06-4185d84137a0\",\"tags\":[]}},{\"type\":\"Legend\",\"id\":\"7d56539e-9f19-48cd-c8eb-c23db6d2723b\",\"attributes\":{\"doc\":null,\"id\":\"7d56539e-9f19-48cd-c8eb-c23db6d2723b\",\"tags\":[],\"plot\":{\"type\":\"Plot\",\"id\":\"f30f8f3c-1832-4d05-cd5a-26790adff4b5\",\"subtype\":\"Figure\"},\"legends\":[[\"Random Start - Mod. CFR\",[{\"type\":\"GlyphRenderer\",\"id\":\"bb30f316-632c-4e7a-ce98-20947951e3ab\"}]],[\"Warm Start with Targets (Oracle) - Mod. CFR\",[{\"type\":\"GlyphRenderer\",\"id\":\"d8e1d5fe-874a-4b7c-cb73-a1c120117310\"}]],[\"Warm Start with NN - Mod. CFR\",[{\"type\":\"GlyphRenderer\",\"id\":\"d12b8f7f-5311-451e-c5b2-cfb0d54eb963\"}]],[\"Deterministic start - Org. CFR\",[{\"type\":\"GlyphRenderer\",\"id\":\"c8f46449-add7-46d0-c697-94765596a51c\"}]]]}},{\"type\":\"Plot\",\"id\":\"f30f8f3c-1832-4d05-cd5a-26790adff4b5\",\"attributes\":{\"above\":[],\"extra_x_ranges\":{},\"id\":\"f30f8f3c-1832-4d05-cd5a-26790adff4b5\",\"tool_events\":{\"type\":\"ToolEvents\",\"id\":\"17936139-ec3b-4cf4-cc90-1825427d2fd4\"},\"tags\":[],\"y_range\":{\"type\":\"DataRange1d\",\"id\":\"96a5d7f8-fce2-469f-c63f-6b5dbc2cf062\"},\"title\":\"Convergence\",\"doc\":null,\"x_range\":{\"type\":\"DataRange1d\",\"id\":\"ddaef5fe-e0ff-4c2a-cc03-54f21ed0b0d7\"},\"renderers\":[{\"type\":\"GlyphRenderer\",\"id\":\"bb30f316-632c-4e7a-ce98-20947951e3ab\"},{\"type\":\"GlyphRenderer\",\"id\":\"d8e1d5fe-874a-4b7c-cb73-a1c120117310\"},{\"type\":\"GlyphRenderer\",\"id\":\"d12b8f7f-5311-451e-c5b2-cfb0d54eb963\"},{\"type\":\"GlyphRenderer\",\"id\":\"c8f46449-add7-46d0-c697-94765596a51c\"},{\"type\":\"LinearAxis\",\"id\":\"0b6f48d1-dec4-4d65-cd75-55f09e661c8b\"},{\"type\":\"Grid\",\"id\":\"a182f175-dc04-49cd-c996-2ff764024429\"},{\"type\":\"LinearAxis\",\"id\":\"620ba140-0e5a-4ae1-cae3-3b093a92405b\"},{\"type\":\"Grid\",\"id\":\"9c41cf6f-815c-4c2c-cc21-32882f2cd70f\"},{\"type\":\"Legend\",\"id\":\"7d56539e-9f19-48cd-c8eb-c23db6d2723b\"}],\"tools\":[{\"type\":\"PanTool\",\"id\":\"95721b63-c575-4b8e-cb03-44b19b7283e2\"},{\"type\":\"WheelZoomTool\",\"id\":\"9bc0076a-cce3-4379-c383-15f302d9b08d\"},{\"type\":\"BoxZoomTool\",\"id\":\"ee1fbd35-47fe-44be-c47a-5f9e9e54ca53\"},{\"type\":\"PreviewSaveTool\",\"id\":\"cd824e59-d15e-4729-c7b5-d43fb9d98e1e\"},{\"type\":\"ResizeTool\",\"id\":\"948acf69-ccb4-47d9-c750-2f56e0aa0f6b\"},{\"type\":\"ResetTool\",\"id\":\"957aaaef-7a13-4db6-cd06-4185d84137a0\"}],\"right\":[],\"extra_y_ranges\":{},\"below\":[{\"type\":\"LinearAxis\",\"id\":\"0b6f48d1-dec4-4d65-cd75-55f09e661c8b\"}],\"left\":[{\"type\":\"LinearAxis\",\"id\":\"620ba140-0e5a-4ae1-cae3-3b093a92405b\"}]}}];\n",
       "  Bokeh.load_models(all_models);\n",
       "  var model = Bokeh.Collections(modeltype).get(modelid);\n",
       "  $(\"#de0d0958-123e-4cc6-cce3-87f5bc1236f2\").html(''); // clear any previous plot in window_id\n",
       "  var view = new model.default_view({model: model, el: \"#de0d0958-123e-4cc6-cce3-87f5bc1236f2\"});\n",
       "    } else {\n",
       "  load_lib(bokehjs_url, function() {\n",
       "      console.log(\"Bokeh: BokehJS plotting callback run at\", new Date())\n",
       "      var modelid = \"f30f8f3c-1832-4d05-cd5a-26790adff4b5\";\n",
       "      var modeltype = \"Plot\";\n",
       "      var all_models = [{\"type\":\"ColumnDataSource\",\"id\":\"98dcc07c-0877-40c7-c03d-a74acce609e4\",\"attributes\":{\"doc\":null,\"cont_ranges\":{},\"id\":\"98dcc07c-0877-40c7-c03d-a74acce609e4\",\"discrete_ranges\":{},\"tags\":[],\"selected\":[],\"column_names\":[\"x\",\"y\"],\"data\":{\"x\":[1,2,3,4,5,6,7,8,9,10,11,12,13,14,15,16,17,18,19,20,21,22,23,24,25,26,27,28,29,30,31,32,33,34,35,36,37,38,39,40,41,42,43,44,45,46,47,48,49,50,51,52,53,54,55,56,57,58,59,60,61,62,63,64,65,66,67,68,69,70,71,72,73,74,75,76,77,78,79,80,81,82,83,84,85,86,87,88,89,90,91,92,93,94,95,96,97,98,99,100],\"y\":[14.043035507202,21.218078613281,17.752647399902,15.248805999756,14.197919845581,13.43265914917,12.478137969971,11.327541351318,10.723736763,10.265031814575,9.9169321060181,9.5537805557251,9.1843614578247,8.7884635925293,8.4489164352417,8.2548675537109,7.9372181892395,7.7283444404602,7.6366672515869,7.5535349845886,7.4518518447876,7.3312015533447,7.2157135009766,7.0541505813599,6.7675342559814,6.4616556167603,6.2660870552063,6.1586117744446,6.0627207756042,5.9595012664795,5.8332300186157,5.759171962738,5.7088899612427,5.6328549385071,5.4444575309753,5.1997604370117,4.9403276443481,4.7118606567383,4.517427444458,4.3573637008667,4.2244176864624,4.124927520752,3.8855390548706,3.6916837692261,3.5933122634888,3.5205147266388,3.438289642334,3.3369541168213,3.220813035965,3.07608294487,2.9080662727356,2.7564074993134,2.6597683429718,2.6025140285492,2.5509839057922,2.5021834373474,2.4483819007874,2.3935446739197,2.3429074287415,2.2953460216522,2.2458007335663,2.1902687549591,2.1282477378845,2.059326171875,1.9809081554413,1.8998818397522,1.8266596794128,1.774714589119,1.7391402721405,1.7138787508011,1.6737825870514,1.620321393013,1.5561918020248,1.4854295253754,1.4133197069168,1.3406683206558,1.2702217102051,1.2026844024658,1.140016078949,1.0838161706924,1.0386321544647,1.0058621168137,0.97785317897797,0.95091664791107,0.92616653442383,0.90239083766937,0.87869358062744,0.85572499036789,0.83341687917709,0.80905818939209,0.78223186731339,0.74967789649963,0.71311610937119,0.68226534128189,0.66098725795746,0.64774441719055,0.63783371448517,0.63016772270203,0.62509769201279,0.62246775627136]}}},{\"type\":\"Line\",\"id\":\"d4c881f9-e43c-48e9-c828-f3002c3e7061\",\"attributes\":{\"line_alpha\":{\"value\":1,\"units\":\"data\"},\"y\":{\"field\":\"y\",\"units\":\"data\"},\"id\":\"d4c881f9-e43c-48e9-c828-f3002c3e7061\",\"tags\":[],\"line_color\":{\"value\":\"red\"},\"doc\":null,\"fill_color\":{\"value\":\"red\"},\"fill_alpha\":{\"value\":0.2,\"units\":\"data\"},\"size\":{\"value\":10,\"units\":\"screen\"},\"x\":{\"field\":\"x\",\"units\":\"data\"}}},{\"type\":\"Line\",\"id\":\"6352042f-5b18-4c22-ccfa-a7f6e7a8ba27\",\"attributes\":{\"line_alpha\":{\"value\":1,\"units\":\"data\"},\"y\":{\"field\":\"y\",\"units\":\"data\"},\"id\":\"6352042f-5b18-4c22-ccfa-a7f6e7a8ba27\",\"tags\":[],\"line_color\":{\"value\":\"red\"},\"doc\":null,\"fill_color\":{\"value\":\"red\"},\"fill_alpha\":{\"value\":0.2,\"units\":\"data\"},\"size\":{\"value\":10,\"units\":\"screen\"},\"x\":{\"field\":\"x\",\"units\":\"data\"}}},{\"type\":\"GlyphRenderer\",\"id\":\"bb30f316-632c-4e7a-ce98-20947951e3ab\",\"attributes\":{\"id\":\"bb30f316-632c-4e7a-ce98-20947951e3ab\",\"name\":null,\"selection_glyph\":null,\"doc\":null,\"nonselection_glyph\":{\"type\":\"Line\",\"id\":\"6352042f-5b18-4c22-ccfa-a7f6e7a8ba27\"},\"glyph\":{\"type\":\"Line\",\"id\":\"d4c881f9-e43c-48e9-c828-f3002c3e7061\"},\"server_data_source\":null,\"tags\":[],\"data_source\":{\"type\":\"ColumnDataSource\",\"id\":\"98dcc07c-0877-40c7-c03d-a74acce609e4\"}}},{\"type\":\"ColumnDataSource\",\"id\":\"f90e0cdd-3e6d-40d1-c0bf-6bdf64311790\",\"attributes\":{\"doc\":null,\"cont_ranges\":{},\"id\":\"f90e0cdd-3e6d-40d1-c0bf-6bdf64311790\",\"discrete_ranges\":{},\"tags\":[],\"selected\":[],\"column_names\":[\"x\",\"y\"],\"data\":{\"x\":[1,2,3,4,5,6,7,8,9,10,11,12,13,14,15,16,17,18,19,20,21,22,23,24,25,26,27,28,29,30,31,32,33,34,35,36,37,38,39,40,41,42,43,44,45,46,47,48,49,50,51,52,53,54,55,56,57,58,59,60,61,62,63,64,65,66,67,68,69,70,71,72,73,74,75,76,77,78,79,80,81,82,83,84,85,86,87,88,89,90,91,92,93,94,95,96,97,98,99,100],\"y\":[0.62300032377243,21.218078613281,17.161191940308,15.487917900085,12.748940467834,11.28214263916,10.940443992615,10.201482772827,10.152240753174,9.6745576858521,9.2335615158081,8.8686056137085,8.7094497680664,8.569619178772,8.4307994842529,8.293137550354,8.1777153015137,8.0109148025513,7.8624272346497,7.7429990768433,7.6455593109131,7.5391359329224,7.4199857711792,7.3004808425903,7.2063283920288,7.1338014602661,6.9728617668152,6.7872195243835,6.6912627220154,6.6289095878601,6.5627708435059,6.5014352798462,6.4485030174255,6.4014596939087,6.3545174598694,6.3083729743958,6.2672367095947,6.2305750846863,6.1978387832642,6.1682267189026,6.1367454528809,6.1031045913696,6.0684533119202,6.0340061187744,5.9999799728394,5.9681506156921,5.937732219696,5.907883644104,5.8778729438782,5.8272466659546,5.7469081878662,5.6518106460571,5.5684337615967,5.5219855308533,5.499370098114,5.474452495575,5.4430680274963,5.4052109718323,5.3644599914551,5.3009481430054,5.2153000831604,5.1165156364441,5.0180010795593,4.9403491020203,4.9130296707153,4.8911089897156,4.8738298416138,4.8609557151794,4.8509912490845,4.8420810699463,4.8282599449158,4.8037271499634,4.7700476646423,4.7292499542236,4.6838407516479,4.6466670036316,4.6260762214661,4.6104011535645,4.5980858802795,4.5902438163757,4.5850086212158,4.5812649726868,4.5767893791199,4.5722255706787,4.5653419494629,4.5554542541504,4.5431785583496,4.5306258201599,4.5226707458496,4.5152149200439,4.5089726448059,4.5047383308411,4.5022234916687,4.5003247261047,4.4966468811035,4.4910054206848,4.4835567474365,4.4763464927673,4.4725518226624,4.4724435806274]}}},{\"type\":\"Line\",\"id\":\"069286f2-2bbc-4dbc-cd39-d80c56b00fdc\",\"attributes\":{\"line_alpha\":{\"value\":1,\"units\":\"data\"},\"y\":{\"field\":\"y\",\"units\":\"data\"},\"id\":\"069286f2-2bbc-4dbc-cd39-d80c56b00fdc\",\"tags\":[],\"line_color\":{\"value\":\"blue\"},\"doc\":null,\"fill_color\":{\"value\":\"blue\"},\"fill_alpha\":{\"value\":0.2,\"units\":\"data\"},\"size\":{\"value\":10,\"units\":\"screen\"},\"x\":{\"field\":\"x\",\"units\":\"data\"}}},{\"type\":\"Line\",\"id\":\"1282f1be-ab12-46c3-c6b8-4bba634c77f8\",\"attributes\":{\"line_alpha\":{\"value\":1,\"units\":\"data\"},\"y\":{\"field\":\"y\",\"units\":\"data\"},\"id\":\"1282f1be-ab12-46c3-c6b8-4bba634c77f8\",\"tags\":[],\"line_color\":{\"value\":\"blue\"},\"doc\":null,\"fill_color\":{\"value\":\"blue\"},\"fill_alpha\":{\"value\":0.2,\"units\":\"data\"},\"size\":{\"value\":10,\"units\":\"screen\"},\"x\":{\"field\":\"x\",\"units\":\"data\"}}},{\"type\":\"GlyphRenderer\",\"id\":\"d8e1d5fe-874a-4b7c-cb73-a1c120117310\",\"attributes\":{\"id\":\"d8e1d5fe-874a-4b7c-cb73-a1c120117310\",\"name\":null,\"selection_glyph\":null,\"doc\":null,\"nonselection_glyph\":{\"type\":\"Line\",\"id\":\"1282f1be-ab12-46c3-c6b8-4bba634c77f8\"},\"glyph\":{\"type\":\"Line\",\"id\":\"069286f2-2bbc-4dbc-cd39-d80c56b00fdc\"},\"server_data_source\":null,\"tags\":[],\"data_source\":{\"type\":\"ColumnDataSource\",\"id\":\"f90e0cdd-3e6d-40d1-c0bf-6bdf64311790\"}}},{\"type\":\"ColumnDataSource\",\"id\":\"7db53f6b-62f7-408a-c0b7-a4a3691f74b1\",\"attributes\":{\"doc\":null,\"cont_ranges\":{},\"id\":\"7db53f6b-62f7-408a-c0b7-a4a3691f74b1\",\"discrete_ranges\":{},\"tags\":[],\"selected\":[],\"column_names\":[\"x\",\"y\"],\"data\":{\"x\":[1,2,3,4,5,6,7,8,9,10,11,12,13,14,15,16,17,18,19,20,21,22,23,24,25,26,27,28,29,30,31,32,33,34,35,36,37,38,39,40,41,42,43,44,45,46,47,48,49,50,51,52,53,54,55,56,57,58,59,60,61,62,63,64,65,66,67,68,69,70,71,72,73,74,75,76,77,78,79,80,81,82,83,84,85,86,87,88,89,90,91,92,93,94,95,96,97,98,99,100],\"y\":[14.104619979858,21.218078613281,18.01623916626,15.628092765808,14.521444320679,13.44788646698,11.672814369202,10.940013885498,10.332927703857,9.5757064819336,9.2103185653687,9.0061683654785,8.8560132980347,8.7538328170776,8.5400505065918,8.2730283737183,8.0128498077393,7.8352708816528,7.7854156494141,7.6552209854126,7.4487466812134,7.2615809440613,7.1105852127075,6.9766516685486,6.852819442749,6.7261066436768,6.5827383995056,6.4524683952332,6.3256788253784,6.2334594726562,6.1663427352905,6.0959219932556,6.0136914253235,5.919548034668,5.8193707466125,5.7259130477905,5.6484341621399,5.583550453186,5.5136470794678,5.4543609619141,5.3534374237061,5.1287727355957,4.9312400817871,4.7687592506409,4.6216969490051,4.479015827179,4.3618741035461,4.2543001174927,4.1578116416931,4.0610809326172,3.9656121730804,3.8866875171661,3.8348853588104,3.8147473335266,3.794126033783,3.7665705680847,3.7314517498016,3.6804261207581,3.6111936569214,3.5270993709564,3.4428043365479,3.3471069335938,3.2454056739807,3.150497674942,3.0747096538544,3.0210046768188,2.9856386184692,2.9669148921967,2.9504733085632,2.9313387870789,2.9147522449493,2.9027507305145,2.8854763507843,2.8596231937408,2.8269748687744,2.7915556430817,2.7559010982513,2.7168288230896,2.6741309165955,2.6322643756866,2.5958316326141,2.566125869751,2.5424289703369,2.5245063304901,2.5133757591248,2.5049839019775,2.4925282001495,2.4769740104675,2.4575514793396,2.4341135025024,2.4068586826324,2.3791761398315,2.3570082187653,2.3378891944885,2.3212234973907,2.3088994026184,2.3014278411865,2.2950866222382,2.289587020874,2.2852346897125]}}},{\"type\":\"Line\",\"id\":\"5b0392a1-b753-4393-c38e-e774575a31d4\",\"attributes\":{\"line_alpha\":{\"value\":1,\"units\":\"data\"},\"y\":{\"field\":\"y\",\"units\":\"data\"},\"id\":\"5b0392a1-b753-4393-c38e-e774575a31d4\",\"tags\":[],\"line_color\":{\"value\":\"black\"},\"doc\":null,\"fill_color\":{\"value\":\"black\"},\"fill_alpha\":{\"value\":0.2,\"units\":\"data\"},\"size\":{\"value\":10,\"units\":\"screen\"},\"x\":{\"field\":\"x\",\"units\":\"data\"}}},{\"type\":\"Line\",\"id\":\"81dc83a6-4c7d-442a-c41a-3fad90ae0947\",\"attributes\":{\"line_alpha\":{\"value\":1,\"units\":\"data\"},\"y\":{\"field\":\"y\",\"units\":\"data\"},\"id\":\"81dc83a6-4c7d-442a-c41a-3fad90ae0947\",\"tags\":[],\"line_color\":{\"value\":\"black\"},\"doc\":null,\"fill_color\":{\"value\":\"black\"},\"fill_alpha\":{\"value\":0.2,\"units\":\"data\"},\"size\":{\"value\":10,\"units\":\"screen\"},\"x\":{\"field\":\"x\",\"units\":\"data\"}}},{\"type\":\"GlyphRenderer\",\"id\":\"d12b8f7f-5311-451e-c5b2-cfb0d54eb963\",\"attributes\":{\"id\":\"d12b8f7f-5311-451e-c5b2-cfb0d54eb963\",\"name\":null,\"selection_glyph\":null,\"doc\":null,\"nonselection_glyph\":{\"type\":\"Line\",\"id\":\"81dc83a6-4c7d-442a-c41a-3fad90ae0947\"},\"glyph\":{\"type\":\"Line\",\"id\":\"5b0392a1-b753-4393-c38e-e774575a31d4\"},\"server_data_source\":null,\"tags\":[],\"data_source\":{\"type\":\"ColumnDataSource\",\"id\":\"7db53f6b-62f7-408a-c0b7-a4a3691f74b1\"}}},{\"type\":\"ColumnDataSource\",\"id\":\"3df0cf9f-4586-400f-c04d-35a670ae6acf\",\"attributes\":{\"doc\":null,\"cont_ranges\":{},\"id\":\"3df0cf9f-4586-400f-c04d-35a670ae6acf\",\"discrete_ranges\":{},\"tags\":[],\"selected\":[],\"column_names\":[\"x\",\"y\"],\"data\":{\"x\":[1,2,3,4,5,6,7,8,9,10,11,12,13,14,15,16,17,18,19,20,21,22,23,24,25,26,27,28,29,30,31,32,33,34,35,36,37,38,39,40,41,42,43,44,45,46,47,48,49,50,51,52,53,54,55,56,57,58,59,60,61,62,63,64,65,66,67,68,69,70,71,72,73,74,75,76,77,78,79,80,81,82,83,84,85,86,87,88,89,90,91,92,93,94,95,96,97,98,99,100],\"y\":[14.043035507202,14.043035507202,13.256717681885,11.916692733765,11.619427680969,11.271606445312,10.723191261292,10.165752410889,9.8307523727417,9.5306491851807,9.2516422271729,8.9923915863037,8.7194366455078,8.3748388290405,8.0533447265625,7.8631691932678,7.6208009719849,7.4525246620178,7.3746666908264,7.2959332466125,7.1943826675415,7.072434425354,6.954306602478,6.7924294471741,6.5131177902222,6.2165598869324,6.0245628356934,5.9169011116028,5.8207054138184,5.7173218727112,5.6149578094482,5.5508193969727,5.5031394958496,5.4282784461975,5.2460145950317,5.0103340148926,4.7618913650513,4.5452365875244,4.3601202964783,4.2050590515137,4.0743207931519,3.9747529029846,3.7309048175812,3.5328397750854,3.4326314926147,3.3595771789551,3.2789061069489,3.1805655956268,3.0680179595947,2.9273920059204,2.7634038925171,2.6144442558289,2.5175862312317,2.4581263065338,2.4042630195618,2.353187084198,2.2972593307495,2.2404079437256,2.1877219676971,2.1379487514496,2.0863544940948,2.0292313098907,1.9660437107086,1.8955987691879,1.8153661489487,1.732288479805,1.6570416688919,1.6037783622742,1.56713783741,1.5403394699097,1.4976193904877,1.4401179552078,1.3706942796707,1.2935659885406,1.2142367362976,1.1333762407303,1.0540511608124,0.97771936655045,0.90677547454834,0.8426565527916,0.79010969400406,0.75010973215103,0.71388864517212,0.67843520641327,0.6450497508049,0.61217719316483,0.57848685979843,0.54503005743027,0.51175916194916,0.47406178712845,0.43074837327003,0.37701693177223,0.31361210346222,0.25264862179756,0.20185481011868,0.16136491298676,0.12245908379555,0.083669163286686,0.043436221778393,0]}}},{\"type\":\"Line\",\"id\":\"12df992f-796a-4ab0-ca50-ea564e0118de\",\"attributes\":{\"line_alpha\":{\"value\":1,\"units\":\"data\"},\"y\":{\"field\":\"y\",\"units\":\"data\"},\"id\":\"12df992f-796a-4ab0-ca50-ea564e0118de\",\"tags\":[],\"line_color\":{\"value\":\"green\"},\"doc\":null,\"fill_color\":{\"value\":\"green\"},\"fill_alpha\":{\"value\":0.2,\"units\":\"data\"},\"size\":{\"value\":10,\"units\":\"screen\"},\"x\":{\"field\":\"x\",\"units\":\"data\"}}},{\"type\":\"Line\",\"id\":\"e2ad9cf5-38ed-4353-c348-a7bb4f9f2bbb\",\"attributes\":{\"line_alpha\":{\"value\":1,\"units\":\"data\"},\"y\":{\"field\":\"y\",\"units\":\"data\"},\"id\":\"e2ad9cf5-38ed-4353-c348-a7bb4f9f2bbb\",\"tags\":[],\"line_color\":{\"value\":\"green\"},\"doc\":null,\"fill_color\":{\"value\":\"green\"},\"fill_alpha\":{\"value\":0.2,\"units\":\"data\"},\"size\":{\"value\":10,\"units\":\"screen\"},\"x\":{\"field\":\"x\",\"units\":\"data\"}}},{\"type\":\"GlyphRenderer\",\"id\":\"c8f46449-add7-46d0-c697-94765596a51c\",\"attributes\":{\"id\":\"c8f46449-add7-46d0-c697-94765596a51c\",\"name\":null,\"selection_glyph\":null,\"doc\":null,\"nonselection_glyph\":{\"type\":\"Line\",\"id\":\"e2ad9cf5-38ed-4353-c348-a7bb4f9f2bbb\"},\"glyph\":{\"type\":\"Line\",\"id\":\"12df992f-796a-4ab0-ca50-ea564e0118de\"},\"server_data_source\":null,\"tags\":[],\"data_source\":{\"type\":\"ColumnDataSource\",\"id\":\"3df0cf9f-4586-400f-c04d-35a670ae6acf\"}}},{\"type\":\"DataRange1d\",\"id\":\"ddaef5fe-e0ff-4c2a-cc03-54f21ed0b0d7\",\"attributes\":{\"doc\":null,\"sources\":[{\"source\":{\"id\":\"98dcc07c-0877-40c7-c03d-a74acce609e4\",\"type\":\"ColumnDataSource\"},\"columns\":[\"x\"]},{\"source\":{\"id\":\"f90e0cdd-3e6d-40d1-c0bf-6bdf64311790\",\"type\":\"ColumnDataSource\"},\"columns\":[\"x\"]},{\"source\":{\"id\":\"7db53f6b-62f7-408a-c0b7-a4a3691f74b1\",\"type\":\"ColumnDataSource\"},\"columns\":[\"x\"]},{\"source\":{\"id\":\"3df0cf9f-4586-400f-c04d-35a670ae6acf\",\"type\":\"ColumnDataSource\"},\"columns\":[\"x\"]}],\"id\":\"ddaef5fe-e0ff-4c2a-cc03-54f21ed0b0d7\",\"tags\":[]}},{\"type\":\"DataRange1d\",\"id\":\"96a5d7f8-fce2-469f-c63f-6b5dbc2cf062\",\"attributes\":{\"doc\":null,\"sources\":[{\"source\":{\"id\":\"98dcc07c-0877-40c7-c03d-a74acce609e4\",\"type\":\"ColumnDataSource\"},\"columns\":[\"y\"]},{\"source\":{\"id\":\"f90e0cdd-3e6d-40d1-c0bf-6bdf64311790\",\"type\":\"ColumnDataSource\"},\"columns\":[\"y\"]},{\"source\":{\"id\":\"7db53f6b-62f7-408a-c0b7-a4a3691f74b1\",\"type\":\"ColumnDataSource\"},\"columns\":[\"y\"]},{\"source\":{\"id\":\"3df0cf9f-4586-400f-c04d-35a670ae6acf\",\"type\":\"ColumnDataSource\"},\"columns\":[\"y\"]}],\"id\":\"96a5d7f8-fce2-469f-c63f-6b5dbc2cf062\",\"tags\":[]}},{\"type\":\"ToolEvents\",\"id\":\"17936139-ec3b-4cf4-cc90-1825427d2fd4\",\"attributes\":{\"doc\":null,\"tags\":[],\"id\":\"17936139-ec3b-4cf4-cc90-1825427d2fd4\",\"geometries\":[]}},{\"type\":\"BasicTickFormatter\",\"id\":\"4ab2e3c4-c708-4883-c866-01a7afcf8a66\",\"attributes\":{\"doc\":null,\"id\":\"4ab2e3c4-c708-4883-c866-01a7afcf8a66\",\"tags\":[]}},{\"type\":\"BasicTicker\",\"id\":\"760f177c-df3f-4499-c456-4442f781af6a\",\"attributes\":{\"doc\":null,\"num_minor_ticks\":5,\"id\":\"760f177c-df3f-4499-c456-4442f781af6a\",\"tags\":[]}},{\"type\":\"LinearAxis\",\"id\":\"0b6f48d1-dec4-4d65-cd75-55f09e661c8b\",\"attributes\":{\"doc\":null,\"id\":\"0b6f48d1-dec4-4d65-cd75-55f09e661c8b\",\"axis_label\":\"number of iterations\",\"tags\":[],\"ticker\":{\"type\":\"BasicTicker\",\"id\":\"760f177c-df3f-4499-c456-4442f781af6a\"},\"plot\":{\"type\":\"Plot\",\"id\":\"f30f8f3c-1832-4d05-cd5a-26790adff4b5\",\"subtype\":\"Figure\"},\"formatter\":{\"type\":\"BasicTickFormatter\",\"id\":\"4ab2e3c4-c708-4883-c866-01a7afcf8a66\"}}},{\"type\":\"Grid\",\"id\":\"a182f175-dc04-49cd-c996-2ff764024429\",\"attributes\":{\"doc\":null,\"id\":\"a182f175-dc04-49cd-c996-2ff764024429\",\"tags\":[],\"ticker\":{\"type\":\"BasicTicker\",\"id\":\"760f177c-df3f-4499-c456-4442f781af6a\"},\"plot\":{\"type\":\"Plot\",\"id\":\"f30f8f3c-1832-4d05-cd5a-26790adff4b5\",\"subtype\":\"Figure\"},\"dimension\":0}},{\"type\":\"BasicTickFormatter\",\"id\":\"a7836b2b-29ab-4d5d-cdc3-320c31866396\",\"attributes\":{\"doc\":null,\"id\":\"a7836b2b-29ab-4d5d-cdc3-320c31866396\",\"tags\":[]}},{\"type\":\"BasicTicker\",\"id\":\"ee33281b-1c2d-4ac2-caf0-afe76af392ae\",\"attributes\":{\"doc\":null,\"num_minor_ticks\":5,\"id\":\"ee33281b-1c2d-4ac2-caf0-afe76af392ae\",\"tags\":[]}},{\"type\":\"LinearAxis\",\"id\":\"620ba140-0e5a-4ae1-cae3-3b093a92405b\",\"attributes\":{\"doc\":null,\"id\":\"620ba140-0e5a-4ae1-cae3-3b093a92405b\",\"axis_label\":\"Distance to end policy\",\"tags\":[],\"ticker\":{\"type\":\"BasicTicker\",\"id\":\"ee33281b-1c2d-4ac2-caf0-afe76af392ae\"},\"plot\":{\"type\":\"Plot\",\"id\":\"f30f8f3c-1832-4d05-cd5a-26790adff4b5\",\"subtype\":\"Figure\"},\"formatter\":{\"type\":\"BasicTickFormatter\",\"id\":\"a7836b2b-29ab-4d5d-cdc3-320c31866396\"}}},{\"type\":\"Grid\",\"id\":\"9c41cf6f-815c-4c2c-cc21-32882f2cd70f\",\"attributes\":{\"doc\":null,\"id\":\"9c41cf6f-815c-4c2c-cc21-32882f2cd70f\",\"tags\":[],\"ticker\":{\"type\":\"BasicTicker\",\"id\":\"ee33281b-1c2d-4ac2-caf0-afe76af392ae\"},\"plot\":{\"type\":\"Plot\",\"id\":\"f30f8f3c-1832-4d05-cd5a-26790adff4b5\",\"subtype\":\"Figure\"},\"dimension\":1}},{\"type\":\"PanTool\",\"id\":\"95721b63-c575-4b8e-cb03-44b19b7283e2\",\"attributes\":{\"doc\":null,\"id\":\"95721b63-c575-4b8e-cb03-44b19b7283e2\",\"dimensions\":[\"width\",\"height\"],\"tags\":[],\"plot\":{\"type\":\"Plot\",\"id\":\"f30f8f3c-1832-4d05-cd5a-26790adff4b5\",\"subtype\":\"Figure\"}}},{\"type\":\"WheelZoomTool\",\"id\":\"9bc0076a-cce3-4379-c383-15f302d9b08d\",\"attributes\":{\"doc\":null,\"id\":\"9bc0076a-cce3-4379-c383-15f302d9b08d\",\"dimensions\":[\"width\",\"height\"],\"tags\":[],\"plot\":{\"type\":\"Plot\",\"id\":\"f30f8f3c-1832-4d05-cd5a-26790adff4b5\",\"subtype\":\"Figure\"}}},{\"type\":\"BoxZoomTool\",\"id\":\"ee1fbd35-47fe-44be-c47a-5f9e9e54ca53\",\"attributes\":{\"doc\":null,\"plot\":{\"type\":\"Plot\",\"id\":\"f30f8f3c-1832-4d05-cd5a-26790adff4b5\",\"subtype\":\"Figure\"},\"id\":\"ee1fbd35-47fe-44be-c47a-5f9e9e54ca53\",\"tags\":[]}},{\"type\":\"PreviewSaveTool\",\"id\":\"cd824e59-d15e-4729-c7b5-d43fb9d98e1e\",\"attributes\":{\"doc\":null,\"plot\":{\"type\":\"Plot\",\"id\":\"f30f8f3c-1832-4d05-cd5a-26790adff4b5\",\"subtype\":\"Figure\"},\"id\":\"cd824e59-d15e-4729-c7b5-d43fb9d98e1e\",\"tags\":[]}},{\"type\":\"ResizeTool\",\"id\":\"948acf69-ccb4-47d9-c750-2f56e0aa0f6b\",\"attributes\":{\"doc\":null,\"plot\":{\"type\":\"Plot\",\"id\":\"f30f8f3c-1832-4d05-cd5a-26790adff4b5\",\"subtype\":\"Figure\"},\"id\":\"948acf69-ccb4-47d9-c750-2f56e0aa0f6b\",\"tags\":[]}},{\"type\":\"ResetTool\",\"id\":\"957aaaef-7a13-4db6-cd06-4185d84137a0\",\"attributes\":{\"doc\":null,\"plot\":{\"type\":\"Plot\",\"id\":\"f30f8f3c-1832-4d05-cd5a-26790adff4b5\",\"subtype\":\"Figure\"},\"id\":\"957aaaef-7a13-4db6-cd06-4185d84137a0\",\"tags\":[]}},{\"type\":\"Legend\",\"id\":\"7d56539e-9f19-48cd-c8eb-c23db6d2723b\",\"attributes\":{\"doc\":null,\"id\":\"7d56539e-9f19-48cd-c8eb-c23db6d2723b\",\"tags\":[],\"plot\":{\"type\":\"Plot\",\"id\":\"f30f8f3c-1832-4d05-cd5a-26790adff4b5\",\"subtype\":\"Figure\"},\"legends\":[[\"Random Start - Mod. CFR\",[{\"type\":\"GlyphRenderer\",\"id\":\"bb30f316-632c-4e7a-ce98-20947951e3ab\"}]],[\"Warm Start with Targets (Oracle) - Mod. CFR\",[{\"type\":\"GlyphRenderer\",\"id\":\"d8e1d5fe-874a-4b7c-cb73-a1c120117310\"}]],[\"Warm Start with NN - Mod. CFR\",[{\"type\":\"GlyphRenderer\",\"id\":\"d12b8f7f-5311-451e-c5b2-cfb0d54eb963\"}]],[\"Deterministic start - Org. CFR\",[{\"type\":\"GlyphRenderer\",\"id\":\"c8f46449-add7-46d0-c697-94765596a51c\"}]]]}},{\"type\":\"Plot\",\"id\":\"f30f8f3c-1832-4d05-cd5a-26790adff4b5\",\"attributes\":{\"above\":[],\"extra_x_ranges\":{},\"id\":\"f30f8f3c-1832-4d05-cd5a-26790adff4b5\",\"tool_events\":{\"type\":\"ToolEvents\",\"id\":\"17936139-ec3b-4cf4-cc90-1825427d2fd4\"},\"tags\":[],\"y_range\":{\"type\":\"DataRange1d\",\"id\":\"96a5d7f8-fce2-469f-c63f-6b5dbc2cf062\"},\"title\":\"Convergence\",\"doc\":null,\"x_range\":{\"type\":\"DataRange1d\",\"id\":\"ddaef5fe-e0ff-4c2a-cc03-54f21ed0b0d7\"},\"renderers\":[{\"type\":\"GlyphRenderer\",\"id\":\"bb30f316-632c-4e7a-ce98-20947951e3ab\"},{\"type\":\"GlyphRenderer\",\"id\":\"d8e1d5fe-874a-4b7c-cb73-a1c120117310\"},{\"type\":\"GlyphRenderer\",\"id\":\"d12b8f7f-5311-451e-c5b2-cfb0d54eb963\"},{\"type\":\"GlyphRenderer\",\"id\":\"c8f46449-add7-46d0-c697-94765596a51c\"},{\"type\":\"LinearAxis\",\"id\":\"0b6f48d1-dec4-4d65-cd75-55f09e661c8b\"},{\"type\":\"Grid\",\"id\":\"a182f175-dc04-49cd-c996-2ff764024429\"},{\"type\":\"LinearAxis\",\"id\":\"620ba140-0e5a-4ae1-cae3-3b093a92405b\"},{\"type\":\"Grid\",\"id\":\"9c41cf6f-815c-4c2c-cc21-32882f2cd70f\"},{\"type\":\"Legend\",\"id\":\"7d56539e-9f19-48cd-c8eb-c23db6d2723b\"}],\"tools\":[{\"type\":\"PanTool\",\"id\":\"95721b63-c575-4b8e-cb03-44b19b7283e2\"},{\"type\":\"WheelZoomTool\",\"id\":\"9bc0076a-cce3-4379-c383-15f302d9b08d\"},{\"type\":\"BoxZoomTool\",\"id\":\"ee1fbd35-47fe-44be-c47a-5f9e9e54ca53\"},{\"type\":\"PreviewSaveTool\",\"id\":\"cd824e59-d15e-4729-c7b5-d43fb9d98e1e\"},{\"type\":\"ResizeTool\",\"id\":\"948acf69-ccb4-47d9-c750-2f56e0aa0f6b\"},{\"type\":\"ResetTool\",\"id\":\"957aaaef-7a13-4db6-cd06-4185d84137a0\"}],\"right\":[],\"extra_y_ranges\":{},\"below\":[{\"type\":\"LinearAxis\",\"id\":\"0b6f48d1-dec4-4d65-cd75-55f09e661c8b\"}],\"left\":[{\"type\":\"LinearAxis\",\"id\":\"620ba140-0e5a-4ae1-cae3-3b093a92405b\"}]}}];\n",
       "      Bokeh.load_models(all_models);\n",
       "      var model = Bokeh.Collections(modeltype).get(modelid);\n",
       "      $(\"#de0d0958-123e-4cc6-cce3-87f5bc1236f2\").html(''); // clear any previous plot in window_id\n",
       "      var view = new model.default_view({model: model, el: \"#de0d0958-123e-4cc6-cce3-87f5bc1236f2\"});\n",
       "  });\n",
       "    }\n",
       "});\n",
       "</script>\n",
       "<div class=\"plotdiv\" id=\"de0d0958-123e-4cc6-cce3-87f5bc1236f2\"></div>\n"
      ]
     },
     "metadata": {},
     "output_type": "display_data"
    }
   ],
   "source": [
    "convRand1 = compare_cfrs(treeRand1_cfr,treeDet_cfr)---:narrow(1,101,700)\n",
    "convRand2 = compare_cfrs(treeRand2_cfr,treeDet_cfr)---:narrow(1,101,700)\n",
    "convNN = compare_cfrs(treeNNWarm_cfr,treeDet_cfr)---:narrow(1,101,700)\n",
    "convDet = compare_cfrs(treeDet_cfr,treeDet_cfr)---:narrow(1,101,700)\n",
    "local num_iter = torch.range(1,convDet:size(1))\n",
    "local plot = Plot()\n",
    "\n",
    "plot:line(num_iter,convRand1,'red' ,'Random Start - Mod. CFR')\n",
    "plot:line(num_iter,convRand2,'blue' ,'Warm Start with Targets (Oracle) - Mod. CFR')\n",
    "plot:line(num_iter,convNN,'black' ,'Warm Start with NN - Mod. CFR')\n",
    "plot:line(num_iter,convDet,'green' ,'Deterministic start - Org. CFR')\n",
    "plot:legend(true):title('Convergence')\n",
    "plot:xaxis('number of iterations'):yaxis('Distance to end policy'):redraw()"
   ]
  },
  {
   "cell_type": "code",
   "execution_count": 32,
   "metadata": {},
   "outputs": [
    {
     "data": {
      "text/html": [
       "<script type=\"text/javascript\">\n",
       "$(function() {\n",
       "    if (typeof (window._bokeh_onload_callbacks) === \"undefined\"){\n",
       "  window._bokeh_onload_callbacks = [];\n",
       "    }\n",
       "    function load_lib(url, callback){\n",
       "  window._bokeh_onload_callbacks.push(callback);\n",
       "  if (window._bokeh_is_loading){\n",
       "      console.log(\"Bokeh: BokehJS is being loaded, scheduling callback at\", new Date());\n",
       "      return null;\n",
       "  }\n",
       "  console.log(\"Bokeh: BokehJS not loaded, scheduling load and callback at\", new Date());\n",
       "  window._bokeh_is_loading = true;\n",
       "  var s = document.createElement('script');\n",
       "  s.src = url;\n",
       "  s.async = true;\n",
       "  s.onreadystatechange = s.onload = function(){\n",
       "      Bokeh.embed.inject_css(\"https://cdn.pydata.org/bokeh-0.7.0.min.css\");\n",
       "      window._bokeh_onload_callbacks.forEach(function(callback){callback()});\n",
       "  };\n",
       "  s.onerror = function(){\n",
       "      console.warn(\"failed to load library \" + url);\n",
       "  };\n",
       "  document.getElementsByTagName(\"head\")[0].appendChild(s);\n",
       "    }\n",
       "\n",
       "    bokehjs_url = \"https://cdn.pydata.org/bokeh-0.7.0.min.js\"\n",
       "\n",
       "    var elt = document.getElementById(\"de94c1c1-e42c-48a3-c882-dfcdb52c400e\");\n",
       "    if(elt==null) {\n",
       "  console.log(\"Bokeh: ERROR: autoload.js configured with elementid 'de94c1c1-e42c-48a3-c882-dfcdb52c400e'\"\n",
       "        + \"but no matching script tag was found. \")\n",
       "  return false;\n",
       "    }\n",
       "\n",
       "    if(typeof(Bokeh) !== \"undefined\") {\n",
       "  console.log(\"Bokeh: BokehJS loaded, going straight to plotting\");\n",
       "  var modelid = \"cd0d99f8-0885-4ecf-ce9e-de24b106ebdf\";\n",
       "  var modeltype = \"Plot\";\n",
       "  var all_models = [{\"type\":\"ColumnDataSource\",\"id\":\"43d3cd03-c863-4638-c625-1e2998aa62dd\",\"attributes\":{\"doc\":null,\"cont_ranges\":{},\"id\":\"43d3cd03-c863-4638-c625-1e2998aa62dd\",\"discrete_ranges\":{},\"tags\":[],\"selected\":[],\"column_names\":[\"x\",\"y\"],\"data\":{\"x\":[1,2,3,4,5,6,7,8,9,10,11,12,13,14,15,16,17,18,19,20,21,22,23,24,25,26,27,28,29,30,31,32,33,34,35,36,37,38,39,40,41,42,43,44,45,46,47,48,49,50,51,52,53,54,55,56,57,58,59,60,61,62,63,64,65,66,67,68,69,70,71,72,73,74,75,76,77,78,79,80,81,82,83,84,85,86,87,88,89,90,91,92,93,94,95,96,97,98,99,100],\"y\":[14.056824684143,20.98228263855,17.521932601929,15.020151138306,13.980237960815,13.223446846008,12.296234130859,11.189341545105,10.601965904236,10.15168094635,9.8059959411621,9.4486312866211,9.0859813690186,8.6949682235718,8.3578901290894,8.1645841598511,7.8480496406555,7.6420116424561,7.5524425506592,7.4701976776123,7.3683891296387,7.2469301223755,7.1304636001587,6.9677085876465,6.679349899292,6.3717246055603,6.1750416755676,6.0669379234314,5.9704594612122,5.8668384552002,5.7439546585083,5.672070980072,5.6226921081543,5.546669960022,5.3573694229126,5.1109504699707,4.8496260643005,4.6205453872681,4.4261717796326,4.2657475471497,4.1319627761841,4.0313787460327,3.7874195575714,3.5896489620209,3.4894115924835,3.4153792858124,3.3320953845978,3.2295734882355,3.1119847297668,2.9655363559723,2.7955460548401,2.6419746875763,2.5435945987701,2.4841685295105,2.4304840564728,2.3795776367188,2.3235974311829,2.2666141986847,2.2139189243317,2.1642520427704,2.1125466823578,2.0548672676086,1.9906126260757,1.9187947511673,1.8368459939957,1.752000451088,1.6752581596375,1.6210632324219,1.5839248895645,1.5570313930511,1.5139552354813,1.4558609724045,1.3856019973755,1.3074659109116,1.2270584106445,1.1450836658478,1.0646303892136,0.98701441287994,0.91467452049255,0.8492733836174,0.79580372571945,0.75539529323578,0.71898293495178,0.68335509300232,0.64983189105988,0.6168367266655,0.58302885293961,0.54944342374802,0.51600646972656,0.47809970378876,0.43450170755386,0.38005566596985,0.31559672951698,0.25388577580452,0.20263585448265,0.16191834211349,0.12282967567444,0.083911098539829,0.043570179492235,0]}}},{\"type\":\"Line\",\"id\":\"fc5e023f-aac7-4926-c9b5-e10f9a34a7b3\",\"attributes\":{\"line_alpha\":{\"value\":1,\"units\":\"data\"},\"y\":{\"field\":\"y\",\"units\":\"data\"},\"id\":\"fc5e023f-aac7-4926-c9b5-e10f9a34a7b3\",\"tags\":[],\"line_color\":{\"value\":\"red\"},\"doc\":null,\"fill_color\":{\"value\":\"red\"},\"fill_alpha\":{\"value\":0.2,\"units\":\"data\"},\"size\":{\"value\":10,\"units\":\"screen\"},\"x\":{\"field\":\"x\",\"units\":\"data\"}}},{\"type\":\"Line\",\"id\":\"b9298881-f445-44d3-c410-77247b5007dd\",\"attributes\":{\"line_alpha\":{\"value\":1,\"units\":\"data\"},\"y\":{\"field\":\"y\",\"units\":\"data\"},\"id\":\"b9298881-f445-44d3-c410-77247b5007dd\",\"tags\":[],\"line_color\":{\"value\":\"red\"},\"doc\":null,\"fill_color\":{\"value\":\"red\"},\"fill_alpha\":{\"value\":0.2,\"units\":\"data\"},\"size\":{\"value\":10,\"units\":\"screen\"},\"x\":{\"field\":\"x\",\"units\":\"data\"}}},{\"type\":\"GlyphRenderer\",\"id\":\"0f77e8c3-e6a3-44c9-c442-e0d8430651d6\",\"attributes\":{\"id\":\"0f77e8c3-e6a3-44c9-c442-e0d8430651d6\",\"name\":null,\"selection_glyph\":null,\"doc\":null,\"nonselection_glyph\":{\"type\":\"Line\",\"id\":\"b9298881-f445-44d3-c410-77247b5007dd\"},\"glyph\":{\"type\":\"Line\",\"id\":\"fc5e023f-aac7-4926-c9b5-e10f9a34a7b3\"},\"server_data_source\":null,\"tags\":[],\"data_source\":{\"type\":\"ColumnDataSource\",\"id\":\"43d3cd03-c863-4638-c625-1e2998aa62dd\"}}},{\"type\":\"ColumnDataSource\",\"id\":\"a18e9ae6-970a-44d9-c450-b679a17d701c\",\"attributes\":{\"doc\":null,\"cont_ranges\":{},\"id\":\"a18e9ae6-970a-44d9-c450-b679a17d701c\",\"discrete_ranges\":{},\"tags\":[],\"selected\":[],\"column_names\":[\"x\",\"y\"],\"data\":{\"x\":[1,2,3,4,5,6,7,8,9,10,11,12,13,14,15,16,17,18,19,20,21,22,23,24,25,26,27,28,29,30,31,32,33,34,35,36,37,38,39,40,41,42,43,44,45,46,47,48,49,50,51,52,53,54,55,56,57,58,59,60,61,62,63,64,65,66,67,68,69,70,71,72,73,74,75,76,77,78,79,80,81,82,83,84,85,86,87,88,89,90,91,92,93,94,95,96,97,98,99,100],\"y\":[0.046765275299549,20.98228263855,16.89040184021,15.219679832458,12.507748603821,11.093005180359,10.795876502991,10.091453552246,10.045951843262,9.6140727996826,9.1747732162476,8.8098096847534,8.6511039733887,8.5115365982056,8.3728857040405,8.2353067398071,8.1199989318848,7.9530024528503,7.8043508529663,7.6848125457764,7.5872931480408,7.4806180000305,7.3610911369324,7.2412095069885,7.1468005180359,7.074070930481,6.912456035614,6.7257041931152,6.62917137146,6.5664601325989,6.4999027252197,6.4381914138794,6.3849754333496,6.3376936912537,6.2904977798462,6.2440838813782,6.2026996612549,6.1658225059509,6.1328916549683,6.1031260490417,6.071496963501,6.0377016067505,6.0028915405273,5.9682884216309,5.9341144561768,5.9021596908569,5.8716263771057,5.8416619300842,5.8115224838257,5.7605257034302,5.6794600486755,5.5834259986877,5.4991960525513,5.452305316925,5.4295153617859,5.4043874740601,5.372718334198,5.3344974517822,5.2933440208435,5.2291350364685,5.1424779891968,5.0424728393555,4.942699432373,4.8640508651733,4.8364634513855,4.8143339157104,4.7968897819519,4.7838912010193,4.7738270759583,4.7648234367371,4.750834941864,4.7259697914124,4.6918144226074,4.6504254341125,4.604350566864,4.5666499137878,4.5458102226257,4.5299639701843,4.5175318717957,4.5096497535706,4.504412651062,4.5006699562073,4.4961500167847,4.491539478302,4.4845733642578,4.4745545387268,4.4621109962463,4.4493923187256,4.4413557052612,4.4338412284851,4.4275779724121,4.4233641624451,4.4208950996399,4.4190373420715,4.4153523445129,4.409649848938,4.4021058082581,4.394802570343,4.3909726142883,4.3908915519714]}}},{\"type\":\"Line\",\"id\":\"9729256d-7b45-4bf4-cb16-7dd1ec3318cc\",\"attributes\":{\"line_alpha\":{\"value\":1,\"units\":\"data\"},\"y\":{\"field\":\"y\",\"units\":\"data\"},\"id\":\"9729256d-7b45-4bf4-cb16-7dd1ec3318cc\",\"tags\":[],\"line_color\":{\"value\":\"blue\"},\"doc\":null,\"fill_color\":{\"value\":\"blue\"},\"fill_alpha\":{\"value\":0.2,\"units\":\"data\"},\"size\":{\"value\":10,\"units\":\"screen\"},\"x\":{\"field\":\"x\",\"units\":\"data\"}}},{\"type\":\"Line\",\"id\":\"e09baa13-7030-4014-c0a1-91e454ec32dc\",\"attributes\":{\"line_alpha\":{\"value\":1,\"units\":\"data\"},\"y\":{\"field\":\"y\",\"units\":\"data\"},\"id\":\"e09baa13-7030-4014-c0a1-91e454ec32dc\",\"tags\":[],\"line_color\":{\"value\":\"blue\"},\"doc\":null,\"fill_color\":{\"value\":\"blue\"},\"fill_alpha\":{\"value\":0.2,\"units\":\"data\"},\"size\":{\"value\":10,\"units\":\"screen\"},\"x\":{\"field\":\"x\",\"units\":\"data\"}}},{\"type\":\"GlyphRenderer\",\"id\":\"0663a3d1-3a24-4013-c0c0-6f3828b28254\",\"attributes\":{\"id\":\"0663a3d1-3a24-4013-c0c0-6f3828b28254\",\"name\":null,\"selection_glyph\":null,\"doc\":null,\"nonselection_glyph\":{\"type\":\"Line\",\"id\":\"e09baa13-7030-4014-c0a1-91e454ec32dc\"},\"glyph\":{\"type\":\"Line\",\"id\":\"9729256d-7b45-4bf4-cb16-7dd1ec3318cc\"},\"server_data_source\":null,\"tags\":[],\"data_source\":{\"type\":\"ColumnDataSource\",\"id\":\"a18e9ae6-970a-44d9-c450-b679a17d701c\"}}},{\"type\":\"ColumnDataSource\",\"id\":\"b3174351-043c-4d0b-cd90-c2208e5cb557\",\"attributes\":{\"doc\":null,\"cont_ranges\":{},\"id\":\"b3174351-043c-4d0b-cd90-c2208e5cb557\",\"discrete_ranges\":{},\"tags\":[],\"selected\":[],\"column_names\":[\"x\",\"y\"],\"data\":{\"x\":[1,2,3,4,5,6,7,8,9,10,11,12,13,14,15,16,17,18,19,20,21,22,23,24,25,26,27,28,29,30,31,32,33,34,35,36,37,38,39,40,41,42,43,44,45,46,47,48,49,50,51,52,53,54,55,56,57,58,59,60,61,62,63,64,65,66,67,68,69,70,71,72,73,74,75,76,77,78,79,80,81,82,83,84,85,86,87,88,89,90,91,92,93,94,95,96,97,98,99,100],\"y\":[14.118348121643,20.98228263855,17.778549194336,15.400069236755,14.30362033844,13.236715316772,11.483504295349,10.782811164856,10.20059299469,9.4654178619385,9.1088571548462,8.9079570770264,8.7593822479248,8.6586275100708,8.4452266693115,8.1780815124512,7.9190721511841,7.7465496063232,7.7018690109253,7.5750923156738,7.3720121383667,7.1881718635559,7.0388669967651,6.904284954071,6.7800068855286,6.6529583930969,6.5095911026001,6.379289150238,6.2518935203552,6.1589894294739,6.0912356376648,6.0202260017395,5.9374451637268,5.8428149223328,5.7422876358032,5.6486086845398,5.5711832046509,5.5067181587219,5.437349319458,5.3784847259521,5.2771401405334,5.0516729354858,4.8536043167114,4.6909050941467,4.5436706542969,4.4007711410522,4.2832198143005,4.1750826835632,4.078115940094,3.9811232089996,3.8856732845306,3.8069770336151,3.7553946971893,3.7352044582367,3.7142751216888,3.68634724617,3.650780916214,3.5990967750549,3.5289030075073,3.4435214996338,3.3578696250916,3.2609057426453,3.1582565307617,3.0627729892731,2.9867298603058,2.9328854084015,2.8972878456116,2.8782699108124,2.8617956638336,2.8427076339722,2.8261804580688,2.8141992092133,2.7966575622559,2.7703375816345,2.7370355129242,2.7008447647095,2.6644792556763,2.6248569488525,2.5817153453827,2.5395121574402,2.503123998642,2.4736788272858,2.450208902359,2.43230676651,2.4210433959961,2.4125788211823,2.3999371528625,2.3841850757599,2.3646483421326,2.3411378860474,2.3137412071228,2.2858209609985,2.2634966373444,2.2442154884338,2.2273781299591,2.21488904953,2.2073547840118,2.2009892463684,2.1954874992371,2.1911671161652]}}},{\"type\":\"Line\",\"id\":\"6f9505e0-25a1-4ea9-cef1-1b5fd2698e29\",\"attributes\":{\"line_alpha\":{\"value\":1,\"units\":\"data\"},\"y\":{\"field\":\"y\",\"units\":\"data\"},\"id\":\"6f9505e0-25a1-4ea9-cef1-1b5fd2698e29\",\"tags\":[],\"line_color\":{\"value\":\"black\"},\"doc\":null,\"fill_color\":{\"value\":\"black\"},\"fill_alpha\":{\"value\":0.2,\"units\":\"data\"},\"size\":{\"value\":10,\"units\":\"screen\"},\"x\":{\"field\":\"x\",\"units\":\"data\"}}},{\"type\":\"Line\",\"id\":\"4567668a-1e44-47fa-c73a-98a9f5b89725\",\"attributes\":{\"line_alpha\":{\"value\":1,\"units\":\"data\"},\"y\":{\"field\":\"y\",\"units\":\"data\"},\"id\":\"4567668a-1e44-47fa-c73a-98a9f5b89725\",\"tags\":[],\"line_color\":{\"value\":\"black\"},\"doc\":null,\"fill_color\":{\"value\":\"black\"},\"fill_alpha\":{\"value\":0.2,\"units\":\"data\"},\"size\":{\"value\":10,\"units\":\"screen\"},\"x\":{\"field\":\"x\",\"units\":\"data\"}}},{\"type\":\"GlyphRenderer\",\"id\":\"5c213534-0066-4193-c1ef-336e6310ec0f\",\"attributes\":{\"id\":\"5c213534-0066-4193-c1ef-336e6310ec0f\",\"name\":null,\"selection_glyph\":null,\"doc\":null,\"nonselection_glyph\":{\"type\":\"Line\",\"id\":\"4567668a-1e44-47fa-c73a-98a9f5b89725\"},\"glyph\":{\"type\":\"Line\",\"id\":\"6f9505e0-25a1-4ea9-cef1-1b5fd2698e29\"},\"server_data_source\":null,\"tags\":[],\"data_source\":{\"type\":\"ColumnDataSource\",\"id\":\"b3174351-043c-4d0b-cd90-c2208e5cb557\"}}},{\"type\":\"ColumnDataSource\",\"id\":\"0ec1877f-333d-400a-c0e4-761601c00eb0\",\"attributes\":{\"doc\":null,\"cont_ranges\":{},\"id\":\"0ec1877f-333d-400a-c0e4-761601c00eb0\",\"discrete_ranges\":{},\"tags\":[],\"selected\":[],\"column_names\":[\"x\",\"y\"],\"data\":{\"x\":[1,2,3,4,5,6,7,8,9,10,11,12,13,14,15,16,17,18,19,20,21,22,23,24,25,26,27,28,29,30,31,32,33,34,35,36,37,38,39,40,41,42,43,44,45,46,47,48,49,50,51,52,53,54,55,56,57,58,59,60,61,62,63,64,65,66,67,68,69,70,71,72,73,74,75,76,77,78,79,80,81,82,83,84,85,86,87,88,89,90,91,92,93,94,95,96,97,98,99,100],\"y\":[14.056824684143,14.056824684143,13.271324157715,11.932939529419,11.636089324951,11.288780212402,10.741242408752,10.184791564941,9.8504390716553,9.5509548187256,9.2725591659546,9.0139102935791,8.741626739502,8.3979396820068,8.0773649215698,7.8877687454224,7.6461801528931,7.4784746170044,7.4008898735046,7.3224382400513,7.2212610244751,7.0997743606567,6.9821085929871,6.8208913803101,6.5427951812744,6.24764585495,6.0566344261169,5.9495530128479,5.8538937568665,5.7511072158813,5.6493558883667,5.5856118202209,5.5382318496704,5.4638514518738,5.2828149795532,5.0488524436951,4.802402973175,4.5876617431641,4.4043292999268,4.2508807182312,4.1215958595276,4.0231986045837,3.7824749946594,3.5872583389282,3.4886136054993,3.4167563915253,3.3374676704407,3.2409045696259,3.1305272579193,2.9928395748138,2.832643032074,2.6875238418579,2.5933966636658,2.5357151031494,2.4835350513458,2.4341230392456,2.3800978660583,2.3252727985382,2.2745532989502,2.2267217636108,2.1772322654724,2.1225562095642,2.062230348587,1.99518430233,1.9191195964813,1.8407306671143,1.7700997591019,1.7203403711319,1.6862344741821,1.6613582372665,1.6218291521072,1.5688866376877,1.5054131746292,1.4355412721634,1.3644914627075,1.2930612564087,1.2241281270981,1.1590517759323,1.099867105484,1.0476335287094,1.0058524608612,0.97474634647369,0.94715511798859,0.92072808742523,0.89641225337982,0.87305593490601,0.84977221488953,0.82735937833786,0.80583077669144,0.78243237733841,0.75697427988052,0.72774142026901,0.69700676202774,0.67178654670715,0.65437853336334,0.64304322004318,0.63439911603928,0.62806576490402,0.62398141622543,0.62246775627136]}}},{\"type\":\"Line\",\"id\":\"d78654f9-a350-4a36-cab1-a49e1ace2850\",\"attributes\":{\"line_alpha\":{\"value\":1,\"units\":\"data\"},\"y\":{\"field\":\"y\",\"units\":\"data\"},\"id\":\"d78654f9-a350-4a36-cab1-a49e1ace2850\",\"tags\":[],\"line_color\":{\"value\":\"green\"},\"doc\":null,\"fill_color\":{\"value\":\"green\"},\"fill_alpha\":{\"value\":0.2,\"units\":\"data\"},\"size\":{\"value\":10,\"units\":\"screen\"},\"x\":{\"field\":\"x\",\"units\":\"data\"}}},{\"type\":\"Line\",\"id\":\"8e35c837-5d41-4bde-cbea-37c2f14af631\",\"attributes\":{\"line_alpha\":{\"value\":1,\"units\":\"data\"},\"y\":{\"field\":\"y\",\"units\":\"data\"},\"id\":\"8e35c837-5d41-4bde-cbea-37c2f14af631\",\"tags\":[],\"line_color\":{\"value\":\"green\"},\"doc\":null,\"fill_color\":{\"value\":\"green\"},\"fill_alpha\":{\"value\":0.2,\"units\":\"data\"},\"size\":{\"value\":10,\"units\":\"screen\"},\"x\":{\"field\":\"x\",\"units\":\"data\"}}},{\"type\":\"GlyphRenderer\",\"id\":\"6dafa698-39eb-438f-c399-4031fa0d027b\",\"attributes\":{\"id\":\"6dafa698-39eb-438f-c399-4031fa0d027b\",\"name\":null,\"selection_glyph\":null,\"doc\":null,\"nonselection_glyph\":{\"type\":\"Line\",\"id\":\"8e35c837-5d41-4bde-cbea-37c2f14af631\"},\"glyph\":{\"type\":\"Line\",\"id\":\"d78654f9-a350-4a36-cab1-a49e1ace2850\"},\"server_data_source\":null,\"tags\":[],\"data_source\":{\"type\":\"ColumnDataSource\",\"id\":\"0ec1877f-333d-400a-c0e4-761601c00eb0\"}}},{\"type\":\"DataRange1d\",\"id\":\"20f99167-01de-423c-c2ed-0bff820932f8\",\"attributes\":{\"doc\":null,\"sources\":[{\"source\":{\"id\":\"43d3cd03-c863-4638-c625-1e2998aa62dd\",\"type\":\"ColumnDataSource\"},\"columns\":[\"x\"]},{\"source\":{\"id\":\"a18e9ae6-970a-44d9-c450-b679a17d701c\",\"type\":\"ColumnDataSource\"},\"columns\":[\"x\"]},{\"source\":{\"id\":\"b3174351-043c-4d0b-cd90-c2208e5cb557\",\"type\":\"ColumnDataSource\"},\"columns\":[\"x\"]},{\"source\":{\"id\":\"0ec1877f-333d-400a-c0e4-761601c00eb0\",\"type\":\"ColumnDataSource\"},\"columns\":[\"x\"]}],\"id\":\"20f99167-01de-423c-c2ed-0bff820932f8\",\"tags\":[]}},{\"type\":\"DataRange1d\",\"id\":\"d33f5a7d-69c8-4239-c26d-b173d81e343e\",\"attributes\":{\"doc\":null,\"sources\":[{\"source\":{\"id\":\"43d3cd03-c863-4638-c625-1e2998aa62dd\",\"type\":\"ColumnDataSource\"},\"columns\":[\"y\"]},{\"source\":{\"id\":\"a18e9ae6-970a-44d9-c450-b679a17d701c\",\"type\":\"ColumnDataSource\"},\"columns\":[\"y\"]},{\"source\":{\"id\":\"b3174351-043c-4d0b-cd90-c2208e5cb557\",\"type\":\"ColumnDataSource\"},\"columns\":[\"y\"]},{\"source\":{\"id\":\"0ec1877f-333d-400a-c0e4-761601c00eb0\",\"type\":\"ColumnDataSource\"},\"columns\":[\"y\"]}],\"id\":\"d33f5a7d-69c8-4239-c26d-b173d81e343e\",\"tags\":[]}},{\"type\":\"ToolEvents\",\"id\":\"35e1e9b3-137a-4add-caac-d5b7594e9e39\",\"attributes\":{\"doc\":null,\"tags\":[],\"id\":\"35e1e9b3-137a-4add-caac-d5b7594e9e39\",\"geometries\":[]}},{\"type\":\"BasicTickFormatter\",\"id\":\"4afaf0c3-eea8-4926-c91c-015f33597d21\",\"attributes\":{\"doc\":null,\"id\":\"4afaf0c3-eea8-4926-c91c-015f33597d21\",\"tags\":[]}},{\"type\":\"BasicTicker\",\"id\":\"c458aadf-629c-4118-c11c-f4f75285b8ea\",\"attributes\":{\"doc\":null,\"num_minor_ticks\":5,\"id\":\"c458aadf-629c-4118-c11c-f4f75285b8ea\",\"tags\":[]}},{\"type\":\"LinearAxis\",\"id\":\"5b0b4931-1130-4f70-cf11-e0166026d0a6\",\"attributes\":{\"doc\":null,\"id\":\"5b0b4931-1130-4f70-cf11-e0166026d0a6\",\"axis_label\":\"number of iterations\",\"tags\":[],\"ticker\":{\"type\":\"BasicTicker\",\"id\":\"c458aadf-629c-4118-c11c-f4f75285b8ea\"},\"plot\":{\"type\":\"Plot\",\"id\":\"cd0d99f8-0885-4ecf-ce9e-de24b106ebdf\",\"subtype\":\"Figure\"},\"formatter\":{\"type\":\"BasicTickFormatter\",\"id\":\"4afaf0c3-eea8-4926-c91c-015f33597d21\"}}},{\"type\":\"Grid\",\"id\":\"a8b1cb1b-dd05-4277-c242-c5a5df12173a\",\"attributes\":{\"doc\":null,\"id\":\"a8b1cb1b-dd05-4277-c242-c5a5df12173a\",\"tags\":[],\"ticker\":{\"type\":\"BasicTicker\",\"id\":\"c458aadf-629c-4118-c11c-f4f75285b8ea\"},\"plot\":{\"type\":\"Plot\",\"id\":\"cd0d99f8-0885-4ecf-ce9e-de24b106ebdf\",\"subtype\":\"Figure\"},\"dimension\":0}},{\"type\":\"BasicTickFormatter\",\"id\":\"3d4e7e51-1094-4906-c943-7d7d1ad800f3\",\"attributes\":{\"doc\":null,\"id\":\"3d4e7e51-1094-4906-c943-7d7d1ad800f3\",\"tags\":[]}},{\"type\":\"BasicTicker\",\"id\":\"cbce5530-670f-473a-c748-4bdc82b7df38\",\"attributes\":{\"doc\":null,\"num_minor_ticks\":5,\"id\":\"cbce5530-670f-473a-c748-4bdc82b7df38\",\"tags\":[]}},{\"type\":\"LinearAxis\",\"id\":\"be9aff5f-2ff4-4e1f-ce3d-bf8eafd6b508\",\"attributes\":{\"doc\":null,\"id\":\"be9aff5f-2ff4-4e1f-ce3d-bf8eafd6b508\",\"axis_label\":\"Distance to end policy\",\"tags\":[],\"ticker\":{\"type\":\"BasicTicker\",\"id\":\"cbce5530-670f-473a-c748-4bdc82b7df38\"},\"plot\":{\"type\":\"Plot\",\"id\":\"cd0d99f8-0885-4ecf-ce9e-de24b106ebdf\",\"subtype\":\"Figure\"},\"formatter\":{\"type\":\"BasicTickFormatter\",\"id\":\"3d4e7e51-1094-4906-c943-7d7d1ad800f3\"}}},{\"type\":\"Grid\",\"id\":\"3dd55482-4a47-40d2-c031-3d8abc312066\",\"attributes\":{\"doc\":null,\"id\":\"3dd55482-4a47-40d2-c031-3d8abc312066\",\"tags\":[],\"ticker\":{\"type\":\"BasicTicker\",\"id\":\"cbce5530-670f-473a-c748-4bdc82b7df38\"},\"plot\":{\"type\":\"Plot\",\"id\":\"cd0d99f8-0885-4ecf-ce9e-de24b106ebdf\",\"subtype\":\"Figure\"},\"dimension\":1}},{\"type\":\"PanTool\",\"id\":\"ea71b693-ba25-4092-c0ce-b6bae8355f7d\",\"attributes\":{\"doc\":null,\"id\":\"ea71b693-ba25-4092-c0ce-b6bae8355f7d\",\"dimensions\":[\"width\",\"height\"],\"tags\":[],\"plot\":{\"type\":\"Plot\",\"id\":\"cd0d99f8-0885-4ecf-ce9e-de24b106ebdf\",\"subtype\":\"Figure\"}}},{\"type\":\"WheelZoomTool\",\"id\":\"a86d8b6b-f487-4b99-cb2d-c6dcaaf403df\",\"attributes\":{\"doc\":null,\"id\":\"a86d8b6b-f487-4b99-cb2d-c6dcaaf403df\",\"dimensions\":[\"width\",\"height\"],\"tags\":[],\"plot\":{\"type\":\"Plot\",\"id\":\"cd0d99f8-0885-4ecf-ce9e-de24b106ebdf\",\"subtype\":\"Figure\"}}},{\"type\":\"BoxZoomTool\",\"id\":\"c60ed08d-a293-4687-c691-0560b375f1e7\",\"attributes\":{\"doc\":null,\"plot\":{\"type\":\"Plot\",\"id\":\"cd0d99f8-0885-4ecf-ce9e-de24b106ebdf\",\"subtype\":\"Figure\"},\"id\":\"c60ed08d-a293-4687-c691-0560b375f1e7\",\"tags\":[]}},{\"type\":\"PreviewSaveTool\",\"id\":\"077e6cfc-10f0-46ee-c6d9-05ea634205b3\",\"attributes\":{\"doc\":null,\"plot\":{\"type\":\"Plot\",\"id\":\"cd0d99f8-0885-4ecf-ce9e-de24b106ebdf\",\"subtype\":\"Figure\"},\"id\":\"077e6cfc-10f0-46ee-c6d9-05ea634205b3\",\"tags\":[]}},{\"type\":\"ResizeTool\",\"id\":\"2f21391c-5818-4261-c2a4-e879f0ed4d59\",\"attributes\":{\"doc\":null,\"plot\":{\"type\":\"Plot\",\"id\":\"cd0d99f8-0885-4ecf-ce9e-de24b106ebdf\",\"subtype\":\"Figure\"},\"id\":\"2f21391c-5818-4261-c2a4-e879f0ed4d59\",\"tags\":[]}},{\"type\":\"ResetTool\",\"id\":\"81afaba5-5ef3-4808-c83a-abb050d11b2c\",\"attributes\":{\"doc\":null,\"plot\":{\"type\":\"Plot\",\"id\":\"cd0d99f8-0885-4ecf-ce9e-de24b106ebdf\",\"subtype\":\"Figure\"},\"id\":\"81afaba5-5ef3-4808-c83a-abb050d11b2c\",\"tags\":[]}},{\"type\":\"Legend\",\"id\":\"d72c2095-4923-49bf-c9fe-2768a3f50519\",\"attributes\":{\"doc\":null,\"id\":\"d72c2095-4923-49bf-c9fe-2768a3f50519\",\"tags\":[],\"plot\":{\"type\":\"Plot\",\"id\":\"cd0d99f8-0885-4ecf-ce9e-de24b106ebdf\",\"subtype\":\"Figure\"},\"legends\":[[\"Random Start - Mod. CFR\",[{\"type\":\"GlyphRenderer\",\"id\":\"0f77e8c3-e6a3-44c9-c442-e0d8430651d6\"}]],[\"Warm Start with Targets (Oracle) - Mod. CFR\",[{\"type\":\"GlyphRenderer\",\"id\":\"0663a3d1-3a24-4013-c0c0-6f3828b28254\"}]],[\"Warm Start with NN - Mod. CFR\",[{\"type\":\"GlyphRenderer\",\"id\":\"5c213534-0066-4193-c1ef-336e6310ec0f\"}]],[\"Deterministic start - Org. CFR\",[{\"type\":\"GlyphRenderer\",\"id\":\"6dafa698-39eb-438f-c399-4031fa0d027b\"}]]]}},{\"type\":\"Plot\",\"id\":\"cd0d99f8-0885-4ecf-ce9e-de24b106ebdf\",\"attributes\":{\"above\":[],\"extra_x_ranges\":{},\"id\":\"cd0d99f8-0885-4ecf-ce9e-de24b106ebdf\",\"tool_events\":{\"type\":\"ToolEvents\",\"id\":\"35e1e9b3-137a-4add-caac-d5b7594e9e39\"},\"tags\":[],\"y_range\":{\"type\":\"DataRange1d\",\"id\":\"d33f5a7d-69c8-4239-c26d-b173d81e343e\"},\"title\":\"Convergence\",\"doc\":null,\"x_range\":{\"type\":\"DataRange1d\",\"id\":\"20f99167-01de-423c-c2ed-0bff820932f8\"},\"renderers\":[{\"type\":\"GlyphRenderer\",\"id\":\"0f77e8c3-e6a3-44c9-c442-e0d8430651d6\"},{\"type\":\"GlyphRenderer\",\"id\":\"0663a3d1-3a24-4013-c0c0-6f3828b28254\"},{\"type\":\"GlyphRenderer\",\"id\":\"5c213534-0066-4193-c1ef-336e6310ec0f\"},{\"type\":\"GlyphRenderer\",\"id\":\"6dafa698-39eb-438f-c399-4031fa0d027b\"},{\"type\":\"LinearAxis\",\"id\":\"5b0b4931-1130-4f70-cf11-e0166026d0a6\"},{\"type\":\"Grid\",\"id\":\"a8b1cb1b-dd05-4277-c242-c5a5df12173a\"},{\"type\":\"LinearAxis\",\"id\":\"be9aff5f-2ff4-4e1f-ce3d-bf8eafd6b508\"},{\"type\":\"Grid\",\"id\":\"3dd55482-4a47-40d2-c031-3d8abc312066\"},{\"type\":\"Legend\",\"id\":\"d72c2095-4923-49bf-c9fe-2768a3f50519\"}],\"tools\":[{\"type\":\"PanTool\",\"id\":\"ea71b693-ba25-4092-c0ce-b6bae8355f7d\"},{\"type\":\"WheelZoomTool\",\"id\":\"a86d8b6b-f487-4b99-cb2d-c6dcaaf403df\"},{\"type\":\"BoxZoomTool\",\"id\":\"c60ed08d-a293-4687-c691-0560b375f1e7\"},{\"type\":\"PreviewSaveTool\",\"id\":\"077e6cfc-10f0-46ee-c6d9-05ea634205b3\"},{\"type\":\"ResizeTool\",\"id\":\"2f21391c-5818-4261-c2a4-e879f0ed4d59\"},{\"type\":\"ResetTool\",\"id\":\"81afaba5-5ef3-4808-c83a-abb050d11b2c\"}],\"right\":[],\"extra_y_ranges\":{},\"below\":[{\"type\":\"LinearAxis\",\"id\":\"5b0b4931-1130-4f70-cf11-e0166026d0a6\"}],\"left\":[{\"type\":\"LinearAxis\",\"id\":\"be9aff5f-2ff4-4e1f-ce3d-bf8eafd6b508\"}]}}];\n",
       "  Bokeh.load_models(all_models);\n",
       "  var model = Bokeh.Collections(modeltype).get(modelid);\n",
       "  $(\"#de94c1c1-e42c-48a3-c882-dfcdb52c400e\").html(''); // clear any previous plot in window_id\n",
       "  var view = new model.default_view({model: model, el: \"#de94c1c1-e42c-48a3-c882-dfcdb52c400e\"});\n",
       "    } else {\n",
       "  load_lib(bokehjs_url, function() {\n",
       "      console.log(\"Bokeh: BokehJS plotting callback run at\", new Date())\n",
       "      var modelid = \"cd0d99f8-0885-4ecf-ce9e-de24b106ebdf\";\n",
       "      var modeltype = \"Plot\";\n",
       "      var all_models = [{\"type\":\"ColumnDataSource\",\"id\":\"43d3cd03-c863-4638-c625-1e2998aa62dd\",\"attributes\":{\"doc\":null,\"cont_ranges\":{},\"id\":\"43d3cd03-c863-4638-c625-1e2998aa62dd\",\"discrete_ranges\":{},\"tags\":[],\"selected\":[],\"column_names\":[\"x\",\"y\"],\"data\":{\"x\":[1,2,3,4,5,6,7,8,9,10,11,12,13,14,15,16,17,18,19,20,21,22,23,24,25,26,27,28,29,30,31,32,33,34,35,36,37,38,39,40,41,42,43,44,45,46,47,48,49,50,51,52,53,54,55,56,57,58,59,60,61,62,63,64,65,66,67,68,69,70,71,72,73,74,75,76,77,78,79,80,81,82,83,84,85,86,87,88,89,90,91,92,93,94,95,96,97,98,99,100],\"y\":[14.056824684143,20.98228263855,17.521932601929,15.020151138306,13.980237960815,13.223446846008,12.296234130859,11.189341545105,10.601965904236,10.15168094635,9.8059959411621,9.4486312866211,9.0859813690186,8.6949682235718,8.3578901290894,8.1645841598511,7.8480496406555,7.6420116424561,7.5524425506592,7.4701976776123,7.3683891296387,7.2469301223755,7.1304636001587,6.9677085876465,6.679349899292,6.3717246055603,6.1750416755676,6.0669379234314,5.9704594612122,5.8668384552002,5.7439546585083,5.672070980072,5.6226921081543,5.546669960022,5.3573694229126,5.1109504699707,4.8496260643005,4.6205453872681,4.4261717796326,4.2657475471497,4.1319627761841,4.0313787460327,3.7874195575714,3.5896489620209,3.4894115924835,3.4153792858124,3.3320953845978,3.2295734882355,3.1119847297668,2.9655363559723,2.7955460548401,2.6419746875763,2.5435945987701,2.4841685295105,2.4304840564728,2.3795776367188,2.3235974311829,2.2666141986847,2.2139189243317,2.1642520427704,2.1125466823578,2.0548672676086,1.9906126260757,1.9187947511673,1.8368459939957,1.752000451088,1.6752581596375,1.6210632324219,1.5839248895645,1.5570313930511,1.5139552354813,1.4558609724045,1.3856019973755,1.3074659109116,1.2270584106445,1.1450836658478,1.0646303892136,0.98701441287994,0.91467452049255,0.8492733836174,0.79580372571945,0.75539529323578,0.71898293495178,0.68335509300232,0.64983189105988,0.6168367266655,0.58302885293961,0.54944342374802,0.51600646972656,0.47809970378876,0.43450170755386,0.38005566596985,0.31559672951698,0.25388577580452,0.20263585448265,0.16191834211349,0.12282967567444,0.083911098539829,0.043570179492235,0]}}},{\"type\":\"Line\",\"id\":\"fc5e023f-aac7-4926-c9b5-e10f9a34a7b3\",\"attributes\":{\"line_alpha\":{\"value\":1,\"units\":\"data\"},\"y\":{\"field\":\"y\",\"units\":\"data\"},\"id\":\"fc5e023f-aac7-4926-c9b5-e10f9a34a7b3\",\"tags\":[],\"line_color\":{\"value\":\"red\"},\"doc\":null,\"fill_color\":{\"value\":\"red\"},\"fill_alpha\":{\"value\":0.2,\"units\":\"data\"},\"size\":{\"value\":10,\"units\":\"screen\"},\"x\":{\"field\":\"x\",\"units\":\"data\"}}},{\"type\":\"Line\",\"id\":\"b9298881-f445-44d3-c410-77247b5007dd\",\"attributes\":{\"line_alpha\":{\"value\":1,\"units\":\"data\"},\"y\":{\"field\":\"y\",\"units\":\"data\"},\"id\":\"b9298881-f445-44d3-c410-77247b5007dd\",\"tags\":[],\"line_color\":{\"value\":\"red\"},\"doc\":null,\"fill_color\":{\"value\":\"red\"},\"fill_alpha\":{\"value\":0.2,\"units\":\"data\"},\"size\":{\"value\":10,\"units\":\"screen\"},\"x\":{\"field\":\"x\",\"units\":\"data\"}}},{\"type\":\"GlyphRenderer\",\"id\":\"0f77e8c3-e6a3-44c9-c442-e0d8430651d6\",\"attributes\":{\"id\":\"0f77e8c3-e6a3-44c9-c442-e0d8430651d6\",\"name\":null,\"selection_glyph\":null,\"doc\":null,\"nonselection_glyph\":{\"type\":\"Line\",\"id\":\"b9298881-f445-44d3-c410-77247b5007dd\"},\"glyph\":{\"type\":\"Line\",\"id\":\"fc5e023f-aac7-4926-c9b5-e10f9a34a7b3\"},\"server_data_source\":null,\"tags\":[],\"data_source\":{\"type\":\"ColumnDataSource\",\"id\":\"43d3cd03-c863-4638-c625-1e2998aa62dd\"}}},{\"type\":\"ColumnDataSource\",\"id\":\"a18e9ae6-970a-44d9-c450-b679a17d701c\",\"attributes\":{\"doc\":null,\"cont_ranges\":{},\"id\":\"a18e9ae6-970a-44d9-c450-b679a17d701c\",\"discrete_ranges\":{},\"tags\":[],\"selected\":[],\"column_names\":[\"x\",\"y\"],\"data\":{\"x\":[1,2,3,4,5,6,7,8,9,10,11,12,13,14,15,16,17,18,19,20,21,22,23,24,25,26,27,28,29,30,31,32,33,34,35,36,37,38,39,40,41,42,43,44,45,46,47,48,49,50,51,52,53,54,55,56,57,58,59,60,61,62,63,64,65,66,67,68,69,70,71,72,73,74,75,76,77,78,79,80,81,82,83,84,85,86,87,88,89,90,91,92,93,94,95,96,97,98,99,100],\"y\":[0.046765275299549,20.98228263855,16.89040184021,15.219679832458,12.507748603821,11.093005180359,10.795876502991,10.091453552246,10.045951843262,9.6140727996826,9.1747732162476,8.8098096847534,8.6511039733887,8.5115365982056,8.3728857040405,8.2353067398071,8.1199989318848,7.9530024528503,7.8043508529663,7.6848125457764,7.5872931480408,7.4806180000305,7.3610911369324,7.2412095069885,7.1468005180359,7.074070930481,6.912456035614,6.7257041931152,6.62917137146,6.5664601325989,6.4999027252197,6.4381914138794,6.3849754333496,6.3376936912537,6.2904977798462,6.2440838813782,6.2026996612549,6.1658225059509,6.1328916549683,6.1031260490417,6.071496963501,6.0377016067505,6.0028915405273,5.9682884216309,5.9341144561768,5.9021596908569,5.8716263771057,5.8416619300842,5.8115224838257,5.7605257034302,5.6794600486755,5.5834259986877,5.4991960525513,5.452305316925,5.4295153617859,5.4043874740601,5.372718334198,5.3344974517822,5.2933440208435,5.2291350364685,5.1424779891968,5.0424728393555,4.942699432373,4.8640508651733,4.8364634513855,4.8143339157104,4.7968897819519,4.7838912010193,4.7738270759583,4.7648234367371,4.750834941864,4.7259697914124,4.6918144226074,4.6504254341125,4.604350566864,4.5666499137878,4.5458102226257,4.5299639701843,4.5175318717957,4.5096497535706,4.504412651062,4.5006699562073,4.4961500167847,4.491539478302,4.4845733642578,4.4745545387268,4.4621109962463,4.4493923187256,4.4413557052612,4.4338412284851,4.4275779724121,4.4233641624451,4.4208950996399,4.4190373420715,4.4153523445129,4.409649848938,4.4021058082581,4.394802570343,4.3909726142883,4.3908915519714]}}},{\"type\":\"Line\",\"id\":\"9729256d-7b45-4bf4-cb16-7dd1ec3318cc\",\"attributes\":{\"line_alpha\":{\"value\":1,\"units\":\"data\"},\"y\":{\"field\":\"y\",\"units\":\"data\"},\"id\":\"9729256d-7b45-4bf4-cb16-7dd1ec3318cc\",\"tags\":[],\"line_color\":{\"value\":\"blue\"},\"doc\":null,\"fill_color\":{\"value\":\"blue\"},\"fill_alpha\":{\"value\":0.2,\"units\":\"data\"},\"size\":{\"value\":10,\"units\":\"screen\"},\"x\":{\"field\":\"x\",\"units\":\"data\"}}},{\"type\":\"Line\",\"id\":\"e09baa13-7030-4014-c0a1-91e454ec32dc\",\"attributes\":{\"line_alpha\":{\"value\":1,\"units\":\"data\"},\"y\":{\"field\":\"y\",\"units\":\"data\"},\"id\":\"e09baa13-7030-4014-c0a1-91e454ec32dc\",\"tags\":[],\"line_color\":{\"value\":\"blue\"},\"doc\":null,\"fill_color\":{\"value\":\"blue\"},\"fill_alpha\":{\"value\":0.2,\"units\":\"data\"},\"size\":{\"value\":10,\"units\":\"screen\"},\"x\":{\"field\":\"x\",\"units\":\"data\"}}},{\"type\":\"GlyphRenderer\",\"id\":\"0663a3d1-3a24-4013-c0c0-6f3828b28254\",\"attributes\":{\"id\":\"0663a3d1-3a24-4013-c0c0-6f3828b28254\",\"name\":null,\"selection_glyph\":null,\"doc\":null,\"nonselection_glyph\":{\"type\":\"Line\",\"id\":\"e09baa13-7030-4014-c0a1-91e454ec32dc\"},\"glyph\":{\"type\":\"Line\",\"id\":\"9729256d-7b45-4bf4-cb16-7dd1ec3318cc\"},\"server_data_source\":null,\"tags\":[],\"data_source\":{\"type\":\"ColumnDataSource\",\"id\":\"a18e9ae6-970a-44d9-c450-b679a17d701c\"}}},{\"type\":\"ColumnDataSource\",\"id\":\"b3174351-043c-4d0b-cd90-c2208e5cb557\",\"attributes\":{\"doc\":null,\"cont_ranges\":{},\"id\":\"b3174351-043c-4d0b-cd90-c2208e5cb557\",\"discrete_ranges\":{},\"tags\":[],\"selected\":[],\"column_names\":[\"x\",\"y\"],\"data\":{\"x\":[1,2,3,4,5,6,7,8,9,10,11,12,13,14,15,16,17,18,19,20,21,22,23,24,25,26,27,28,29,30,31,32,33,34,35,36,37,38,39,40,41,42,43,44,45,46,47,48,49,50,51,52,53,54,55,56,57,58,59,60,61,62,63,64,65,66,67,68,69,70,71,72,73,74,75,76,77,78,79,80,81,82,83,84,85,86,87,88,89,90,91,92,93,94,95,96,97,98,99,100],\"y\":[14.118348121643,20.98228263855,17.778549194336,15.400069236755,14.30362033844,13.236715316772,11.483504295349,10.782811164856,10.20059299469,9.4654178619385,9.1088571548462,8.9079570770264,8.7593822479248,8.6586275100708,8.4452266693115,8.1780815124512,7.9190721511841,7.7465496063232,7.7018690109253,7.5750923156738,7.3720121383667,7.1881718635559,7.0388669967651,6.904284954071,6.7800068855286,6.6529583930969,6.5095911026001,6.379289150238,6.2518935203552,6.1589894294739,6.0912356376648,6.0202260017395,5.9374451637268,5.8428149223328,5.7422876358032,5.6486086845398,5.5711832046509,5.5067181587219,5.437349319458,5.3784847259521,5.2771401405334,5.0516729354858,4.8536043167114,4.6909050941467,4.5436706542969,4.4007711410522,4.2832198143005,4.1750826835632,4.078115940094,3.9811232089996,3.8856732845306,3.8069770336151,3.7553946971893,3.7352044582367,3.7142751216888,3.68634724617,3.650780916214,3.5990967750549,3.5289030075073,3.4435214996338,3.3578696250916,3.2609057426453,3.1582565307617,3.0627729892731,2.9867298603058,2.9328854084015,2.8972878456116,2.8782699108124,2.8617956638336,2.8427076339722,2.8261804580688,2.8141992092133,2.7966575622559,2.7703375816345,2.7370355129242,2.7008447647095,2.6644792556763,2.6248569488525,2.5817153453827,2.5395121574402,2.503123998642,2.4736788272858,2.450208902359,2.43230676651,2.4210433959961,2.4125788211823,2.3999371528625,2.3841850757599,2.3646483421326,2.3411378860474,2.3137412071228,2.2858209609985,2.2634966373444,2.2442154884338,2.2273781299591,2.21488904953,2.2073547840118,2.2009892463684,2.1954874992371,2.1911671161652]}}},{\"type\":\"Line\",\"id\":\"6f9505e0-25a1-4ea9-cef1-1b5fd2698e29\",\"attributes\":{\"line_alpha\":{\"value\":1,\"units\":\"data\"},\"y\":{\"field\":\"y\",\"units\":\"data\"},\"id\":\"6f9505e0-25a1-4ea9-cef1-1b5fd2698e29\",\"tags\":[],\"line_color\":{\"value\":\"black\"},\"doc\":null,\"fill_color\":{\"value\":\"black\"},\"fill_alpha\":{\"value\":0.2,\"units\":\"data\"},\"size\":{\"value\":10,\"units\":\"screen\"},\"x\":{\"field\":\"x\",\"units\":\"data\"}}},{\"type\":\"Line\",\"id\":\"4567668a-1e44-47fa-c73a-98a9f5b89725\",\"attributes\":{\"line_alpha\":{\"value\":1,\"units\":\"data\"},\"y\":{\"field\":\"y\",\"units\":\"data\"},\"id\":\"4567668a-1e44-47fa-c73a-98a9f5b89725\",\"tags\":[],\"line_color\":{\"value\":\"black\"},\"doc\":null,\"fill_color\":{\"value\":\"black\"},\"fill_alpha\":{\"value\":0.2,\"units\":\"data\"},\"size\":{\"value\":10,\"units\":\"screen\"},\"x\":{\"field\":\"x\",\"units\":\"data\"}}},{\"type\":\"GlyphRenderer\",\"id\":\"5c213534-0066-4193-c1ef-336e6310ec0f\",\"attributes\":{\"id\":\"5c213534-0066-4193-c1ef-336e6310ec0f\",\"name\":null,\"selection_glyph\":null,\"doc\":null,\"nonselection_glyph\":{\"type\":\"Line\",\"id\":\"4567668a-1e44-47fa-c73a-98a9f5b89725\"},\"glyph\":{\"type\":\"Line\",\"id\":\"6f9505e0-25a1-4ea9-cef1-1b5fd2698e29\"},\"server_data_source\":null,\"tags\":[],\"data_source\":{\"type\":\"ColumnDataSource\",\"id\":\"b3174351-043c-4d0b-cd90-c2208e5cb557\"}}},{\"type\":\"ColumnDataSource\",\"id\":\"0ec1877f-333d-400a-c0e4-761601c00eb0\",\"attributes\":{\"doc\":null,\"cont_ranges\":{},\"id\":\"0ec1877f-333d-400a-c0e4-761601c00eb0\",\"discrete_ranges\":{},\"tags\":[],\"selected\":[],\"column_names\":[\"x\",\"y\"],\"data\":{\"x\":[1,2,3,4,5,6,7,8,9,10,11,12,13,14,15,16,17,18,19,20,21,22,23,24,25,26,27,28,29,30,31,32,33,34,35,36,37,38,39,40,41,42,43,44,45,46,47,48,49,50,51,52,53,54,55,56,57,58,59,60,61,62,63,64,65,66,67,68,69,70,71,72,73,74,75,76,77,78,79,80,81,82,83,84,85,86,87,88,89,90,91,92,93,94,95,96,97,98,99,100],\"y\":[14.056824684143,14.056824684143,13.271324157715,11.932939529419,11.636089324951,11.288780212402,10.741242408752,10.184791564941,9.8504390716553,9.5509548187256,9.2725591659546,9.0139102935791,8.741626739502,8.3979396820068,8.0773649215698,7.8877687454224,7.6461801528931,7.4784746170044,7.4008898735046,7.3224382400513,7.2212610244751,7.0997743606567,6.9821085929871,6.8208913803101,6.5427951812744,6.24764585495,6.0566344261169,5.9495530128479,5.8538937568665,5.7511072158813,5.6493558883667,5.5856118202209,5.5382318496704,5.4638514518738,5.2828149795532,5.0488524436951,4.802402973175,4.5876617431641,4.4043292999268,4.2508807182312,4.1215958595276,4.0231986045837,3.7824749946594,3.5872583389282,3.4886136054993,3.4167563915253,3.3374676704407,3.2409045696259,3.1305272579193,2.9928395748138,2.832643032074,2.6875238418579,2.5933966636658,2.5357151031494,2.4835350513458,2.4341230392456,2.3800978660583,2.3252727985382,2.2745532989502,2.2267217636108,2.1772322654724,2.1225562095642,2.062230348587,1.99518430233,1.9191195964813,1.8407306671143,1.7700997591019,1.7203403711319,1.6862344741821,1.6613582372665,1.6218291521072,1.5688866376877,1.5054131746292,1.4355412721634,1.3644914627075,1.2930612564087,1.2241281270981,1.1590517759323,1.099867105484,1.0476335287094,1.0058524608612,0.97474634647369,0.94715511798859,0.92072808742523,0.89641225337982,0.87305593490601,0.84977221488953,0.82735937833786,0.80583077669144,0.78243237733841,0.75697427988052,0.72774142026901,0.69700676202774,0.67178654670715,0.65437853336334,0.64304322004318,0.63439911603928,0.62806576490402,0.62398141622543,0.62246775627136]}}},{\"type\":\"Line\",\"id\":\"d78654f9-a350-4a36-cab1-a49e1ace2850\",\"attributes\":{\"line_alpha\":{\"value\":1,\"units\":\"data\"},\"y\":{\"field\":\"y\",\"units\":\"data\"},\"id\":\"d78654f9-a350-4a36-cab1-a49e1ace2850\",\"tags\":[],\"line_color\":{\"value\":\"green\"},\"doc\":null,\"fill_color\":{\"value\":\"green\"},\"fill_alpha\":{\"value\":0.2,\"units\":\"data\"},\"size\":{\"value\":10,\"units\":\"screen\"},\"x\":{\"field\":\"x\",\"units\":\"data\"}}},{\"type\":\"Line\",\"id\":\"8e35c837-5d41-4bde-cbea-37c2f14af631\",\"attributes\":{\"line_alpha\":{\"value\":1,\"units\":\"data\"},\"y\":{\"field\":\"y\",\"units\":\"data\"},\"id\":\"8e35c837-5d41-4bde-cbea-37c2f14af631\",\"tags\":[],\"line_color\":{\"value\":\"green\"},\"doc\":null,\"fill_color\":{\"value\":\"green\"},\"fill_alpha\":{\"value\":0.2,\"units\":\"data\"},\"size\":{\"value\":10,\"units\":\"screen\"},\"x\":{\"field\":\"x\",\"units\":\"data\"}}},{\"type\":\"GlyphRenderer\",\"id\":\"6dafa698-39eb-438f-c399-4031fa0d027b\",\"attributes\":{\"id\":\"6dafa698-39eb-438f-c399-4031fa0d027b\",\"name\":null,\"selection_glyph\":null,\"doc\":null,\"nonselection_glyph\":{\"type\":\"Line\",\"id\":\"8e35c837-5d41-4bde-cbea-37c2f14af631\"},\"glyph\":{\"type\":\"Line\",\"id\":\"d78654f9-a350-4a36-cab1-a49e1ace2850\"},\"server_data_source\":null,\"tags\":[],\"data_source\":{\"type\":\"ColumnDataSource\",\"id\":\"0ec1877f-333d-400a-c0e4-761601c00eb0\"}}},{\"type\":\"DataRange1d\",\"id\":\"20f99167-01de-423c-c2ed-0bff820932f8\",\"attributes\":{\"doc\":null,\"sources\":[{\"source\":{\"id\":\"43d3cd03-c863-4638-c625-1e2998aa62dd\",\"type\":\"ColumnDataSource\"},\"columns\":[\"x\"]},{\"source\":{\"id\":\"a18e9ae6-970a-44d9-c450-b679a17d701c\",\"type\":\"ColumnDataSource\"},\"columns\":[\"x\"]},{\"source\":{\"id\":\"b3174351-043c-4d0b-cd90-c2208e5cb557\",\"type\":\"ColumnDataSource\"},\"columns\":[\"x\"]},{\"source\":{\"id\":\"0ec1877f-333d-400a-c0e4-761601c00eb0\",\"type\":\"ColumnDataSource\"},\"columns\":[\"x\"]}],\"id\":\"20f99167-01de-423c-c2ed-0bff820932f8\",\"tags\":[]}},{\"type\":\"DataRange1d\",\"id\":\"d33f5a7d-69c8-4239-c26d-b173d81e343e\",\"attributes\":{\"doc\":null,\"sources\":[{\"source\":{\"id\":\"43d3cd03-c863-4638-c625-1e2998aa62dd\",\"type\":\"ColumnDataSource\"},\"columns\":[\"y\"]},{\"source\":{\"id\":\"a18e9ae6-970a-44d9-c450-b679a17d701c\",\"type\":\"ColumnDataSource\"},\"columns\":[\"y\"]},{\"source\":{\"id\":\"b3174351-043c-4d0b-cd90-c2208e5cb557\",\"type\":\"ColumnDataSource\"},\"columns\":[\"y\"]},{\"source\":{\"id\":\"0ec1877f-333d-400a-c0e4-761601c00eb0\",\"type\":\"ColumnDataSource\"},\"columns\":[\"y\"]}],\"id\":\"d33f5a7d-69c8-4239-c26d-b173d81e343e\",\"tags\":[]}},{\"type\":\"ToolEvents\",\"id\":\"35e1e9b3-137a-4add-caac-d5b7594e9e39\",\"attributes\":{\"doc\":null,\"tags\":[],\"id\":\"35e1e9b3-137a-4add-caac-d5b7594e9e39\",\"geometries\":[]}},{\"type\":\"BasicTickFormatter\",\"id\":\"4afaf0c3-eea8-4926-c91c-015f33597d21\",\"attributes\":{\"doc\":null,\"id\":\"4afaf0c3-eea8-4926-c91c-015f33597d21\",\"tags\":[]}},{\"type\":\"BasicTicker\",\"id\":\"c458aadf-629c-4118-c11c-f4f75285b8ea\",\"attributes\":{\"doc\":null,\"num_minor_ticks\":5,\"id\":\"c458aadf-629c-4118-c11c-f4f75285b8ea\",\"tags\":[]}},{\"type\":\"LinearAxis\",\"id\":\"5b0b4931-1130-4f70-cf11-e0166026d0a6\",\"attributes\":{\"doc\":null,\"id\":\"5b0b4931-1130-4f70-cf11-e0166026d0a6\",\"axis_label\":\"number of iterations\",\"tags\":[],\"ticker\":{\"type\":\"BasicTicker\",\"id\":\"c458aadf-629c-4118-c11c-f4f75285b8ea\"},\"plot\":{\"type\":\"Plot\",\"id\":\"cd0d99f8-0885-4ecf-ce9e-de24b106ebdf\",\"subtype\":\"Figure\"},\"formatter\":{\"type\":\"BasicTickFormatter\",\"id\":\"4afaf0c3-eea8-4926-c91c-015f33597d21\"}}},{\"type\":\"Grid\",\"id\":\"a8b1cb1b-dd05-4277-c242-c5a5df12173a\",\"attributes\":{\"doc\":null,\"id\":\"a8b1cb1b-dd05-4277-c242-c5a5df12173a\",\"tags\":[],\"ticker\":{\"type\":\"BasicTicker\",\"id\":\"c458aadf-629c-4118-c11c-f4f75285b8ea\"},\"plot\":{\"type\":\"Plot\",\"id\":\"cd0d99f8-0885-4ecf-ce9e-de24b106ebdf\",\"subtype\":\"Figure\"},\"dimension\":0}},{\"type\":\"BasicTickFormatter\",\"id\":\"3d4e7e51-1094-4906-c943-7d7d1ad800f3\",\"attributes\":{\"doc\":null,\"id\":\"3d4e7e51-1094-4906-c943-7d7d1ad800f3\",\"tags\":[]}},{\"type\":\"BasicTicker\",\"id\":\"cbce5530-670f-473a-c748-4bdc82b7df38\",\"attributes\":{\"doc\":null,\"num_minor_ticks\":5,\"id\":\"cbce5530-670f-473a-c748-4bdc82b7df38\",\"tags\":[]}},{\"type\":\"LinearAxis\",\"id\":\"be9aff5f-2ff4-4e1f-ce3d-bf8eafd6b508\",\"attributes\":{\"doc\":null,\"id\":\"be9aff5f-2ff4-4e1f-ce3d-bf8eafd6b508\",\"axis_label\":\"Distance to end policy\",\"tags\":[],\"ticker\":{\"type\":\"BasicTicker\",\"id\":\"cbce5530-670f-473a-c748-4bdc82b7df38\"},\"plot\":{\"type\":\"Plot\",\"id\":\"cd0d99f8-0885-4ecf-ce9e-de24b106ebdf\",\"subtype\":\"Figure\"},\"formatter\":{\"type\":\"BasicTickFormatter\",\"id\":\"3d4e7e51-1094-4906-c943-7d7d1ad800f3\"}}},{\"type\":\"Grid\",\"id\":\"3dd55482-4a47-40d2-c031-3d8abc312066\",\"attributes\":{\"doc\":null,\"id\":\"3dd55482-4a47-40d2-c031-3d8abc312066\",\"tags\":[],\"ticker\":{\"type\":\"BasicTicker\",\"id\":\"cbce5530-670f-473a-c748-4bdc82b7df38\"},\"plot\":{\"type\":\"Plot\",\"id\":\"cd0d99f8-0885-4ecf-ce9e-de24b106ebdf\",\"subtype\":\"Figure\"},\"dimension\":1}},{\"type\":\"PanTool\",\"id\":\"ea71b693-ba25-4092-c0ce-b6bae8355f7d\",\"attributes\":{\"doc\":null,\"id\":\"ea71b693-ba25-4092-c0ce-b6bae8355f7d\",\"dimensions\":[\"width\",\"height\"],\"tags\":[],\"plot\":{\"type\":\"Plot\",\"id\":\"cd0d99f8-0885-4ecf-ce9e-de24b106ebdf\",\"subtype\":\"Figure\"}}},{\"type\":\"WheelZoomTool\",\"id\":\"a86d8b6b-f487-4b99-cb2d-c6dcaaf403df\",\"attributes\":{\"doc\":null,\"id\":\"a86d8b6b-f487-4b99-cb2d-c6dcaaf403df\",\"dimensions\":[\"width\",\"height\"],\"tags\":[],\"plot\":{\"type\":\"Plot\",\"id\":\"cd0d99f8-0885-4ecf-ce9e-de24b106ebdf\",\"subtype\":\"Figure\"}}},{\"type\":\"BoxZoomTool\",\"id\":\"c60ed08d-a293-4687-c691-0560b375f1e7\",\"attributes\":{\"doc\":null,\"plot\":{\"type\":\"Plot\",\"id\":\"cd0d99f8-0885-4ecf-ce9e-de24b106ebdf\",\"subtype\":\"Figure\"},\"id\":\"c60ed08d-a293-4687-c691-0560b375f1e7\",\"tags\":[]}},{\"type\":\"PreviewSaveTool\",\"id\":\"077e6cfc-10f0-46ee-c6d9-05ea634205b3\",\"attributes\":{\"doc\":null,\"plot\":{\"type\":\"Plot\",\"id\":\"cd0d99f8-0885-4ecf-ce9e-de24b106ebdf\",\"subtype\":\"Figure\"},\"id\":\"077e6cfc-10f0-46ee-c6d9-05ea634205b3\",\"tags\":[]}},{\"type\":\"ResizeTool\",\"id\":\"2f21391c-5818-4261-c2a4-e879f0ed4d59\",\"attributes\":{\"doc\":null,\"plot\":{\"type\":\"Plot\",\"id\":\"cd0d99f8-0885-4ecf-ce9e-de24b106ebdf\",\"subtype\":\"Figure\"},\"id\":\"2f21391c-5818-4261-c2a4-e879f0ed4d59\",\"tags\":[]}},{\"type\":\"ResetTool\",\"id\":\"81afaba5-5ef3-4808-c83a-abb050d11b2c\",\"attributes\":{\"doc\":null,\"plot\":{\"type\":\"Plot\",\"id\":\"cd0d99f8-0885-4ecf-ce9e-de24b106ebdf\",\"subtype\":\"Figure\"},\"id\":\"81afaba5-5ef3-4808-c83a-abb050d11b2c\",\"tags\":[]}},{\"type\":\"Legend\",\"id\":\"d72c2095-4923-49bf-c9fe-2768a3f50519\",\"attributes\":{\"doc\":null,\"id\":\"d72c2095-4923-49bf-c9fe-2768a3f50519\",\"tags\":[],\"plot\":{\"type\":\"Plot\",\"id\":\"cd0d99f8-0885-4ecf-ce9e-de24b106ebdf\",\"subtype\":\"Figure\"},\"legends\":[[\"Random Start - Mod. CFR\",[{\"type\":\"GlyphRenderer\",\"id\":\"0f77e8c3-e6a3-44c9-c442-e0d8430651d6\"}]],[\"Warm Start with Targets (Oracle) - Mod. CFR\",[{\"type\":\"GlyphRenderer\",\"id\":\"0663a3d1-3a24-4013-c0c0-6f3828b28254\"}]],[\"Warm Start with NN - Mod. CFR\",[{\"type\":\"GlyphRenderer\",\"id\":\"5c213534-0066-4193-c1ef-336e6310ec0f\"}]],[\"Deterministic start - Org. CFR\",[{\"type\":\"GlyphRenderer\",\"id\":\"6dafa698-39eb-438f-c399-4031fa0d027b\"}]]]}},{\"type\":\"Plot\",\"id\":\"cd0d99f8-0885-4ecf-ce9e-de24b106ebdf\",\"attributes\":{\"above\":[],\"extra_x_ranges\":{},\"id\":\"cd0d99f8-0885-4ecf-ce9e-de24b106ebdf\",\"tool_events\":{\"type\":\"ToolEvents\",\"id\":\"35e1e9b3-137a-4add-caac-d5b7594e9e39\"},\"tags\":[],\"y_range\":{\"type\":\"DataRange1d\",\"id\":\"d33f5a7d-69c8-4239-c26d-b173d81e343e\"},\"title\":\"Convergence\",\"doc\":null,\"x_range\":{\"type\":\"DataRange1d\",\"id\":\"20f99167-01de-423c-c2ed-0bff820932f8\"},\"renderers\":[{\"type\":\"GlyphRenderer\",\"id\":\"0f77e8c3-e6a3-44c9-c442-e0d8430651d6\"},{\"type\":\"GlyphRenderer\",\"id\":\"0663a3d1-3a24-4013-c0c0-6f3828b28254\"},{\"type\":\"GlyphRenderer\",\"id\":\"5c213534-0066-4193-c1ef-336e6310ec0f\"},{\"type\":\"GlyphRenderer\",\"id\":\"6dafa698-39eb-438f-c399-4031fa0d027b\"},{\"type\":\"LinearAxis\",\"id\":\"5b0b4931-1130-4f70-cf11-e0166026d0a6\"},{\"type\":\"Grid\",\"id\":\"a8b1cb1b-dd05-4277-c242-c5a5df12173a\"},{\"type\":\"LinearAxis\",\"id\":\"be9aff5f-2ff4-4e1f-ce3d-bf8eafd6b508\"},{\"type\":\"Grid\",\"id\":\"3dd55482-4a47-40d2-c031-3d8abc312066\"},{\"type\":\"Legend\",\"id\":\"d72c2095-4923-49bf-c9fe-2768a3f50519\"}],\"tools\":[{\"type\":\"PanTool\",\"id\":\"ea71b693-ba25-4092-c0ce-b6bae8355f7d\"},{\"type\":\"WheelZoomTool\",\"id\":\"a86d8b6b-f487-4b99-cb2d-c6dcaaf403df\"},{\"type\":\"BoxZoomTool\",\"id\":\"c60ed08d-a293-4687-c691-0560b375f1e7\"},{\"type\":\"PreviewSaveTool\",\"id\":\"077e6cfc-10f0-46ee-c6d9-05ea634205b3\"},{\"type\":\"ResizeTool\",\"id\":\"2f21391c-5818-4261-c2a4-e879f0ed4d59\"},{\"type\":\"ResetTool\",\"id\":\"81afaba5-5ef3-4808-c83a-abb050d11b2c\"}],\"right\":[],\"extra_y_ranges\":{},\"below\":[{\"type\":\"LinearAxis\",\"id\":\"5b0b4931-1130-4f70-cf11-e0166026d0a6\"}],\"left\":[{\"type\":\"LinearAxis\",\"id\":\"be9aff5f-2ff4-4e1f-ce3d-bf8eafd6b508\"}]}}];\n",
       "      Bokeh.load_models(all_models);\n",
       "      var model = Bokeh.Collections(modeltype).get(modelid);\n",
       "      $(\"#de94c1c1-e42c-48a3-c882-dfcdb52c400e\").html(''); // clear any previous plot in window_id\n",
       "      var view = new model.default_view({model: model, el: \"#de94c1c1-e42c-48a3-c882-dfcdb52c400e\"});\n",
       "  });\n",
       "    }\n",
       "});\n",
       "</script>\n",
       "<div class=\"plotdiv\" id=\"de94c1c1-e42c-48a3-c882-dfcdb52c400e\"></div>\n"
      ]
     },
     "metadata": {},
     "output_type": "display_data"
    }
   ],
   "source": [
    "convRand1 = compare_cfrs(treeRand1_cfr,treeRand1_cfr)---:narrow(1,101,700)\n",
    "convRand2 = compare_cfrs(treeRand2_cfr,treeRand1_cfr)---:narrow(1,101,700)\n",
    "convNN = compare_cfrs(treeNNWarm_cfr,treeRand1_cfr)---:narrow(1,101,700)\n",
    "convDet = compare_cfrs(treeDet_cfr,treeRand1_cfr)---:narrow(1,101,700)\n",
    "local num_iter = torch.range(1,convDet:size(1))\n",
    "local plot = Plot()\n",
    "\n",
    "plot:line(num_iter,convRand1,'red' ,'Random Start - Mod. CFR')\n",
    "plot:line(num_iter,convRand2,'blue' ,'Warm Start with Targets (Oracle) - Mod. CFR')\n",
    "plot:line(num_iter,convNN,'black' ,'Warm Start with NN - Mod. CFR')\n",
    "plot:line(num_iter,convDet,'green' ,'Deterministic start - Org. CFR')\n",
    "plot:legend(true):title('Convergence')\n",
    "plot:xaxis('number of iterations'):yaxis('Distance to end policy'):redraw()"
   ]
  },
  {
   "cell_type": "markdown",
   "metadata": {},
   "source": [
    "### 2. Comparision between different Starts"
   ]
  },
  {
   "cell_type": "code",
   "execution_count": 6,
   "metadata": {
    "collapsed": true
   },
   "outputs": [],
   "source": [
    "number_of_iterations = 80"
   ]
  },
  {
   "cell_type": "code",
   "execution_count": 7,
   "metadata": {},
   "outputs": [
    {
     "data": {
      "text/plain": [
       "Solver\n"
      ]
     },
     "execution_count": 7,
     "metadata": {},
     "output_type": "execute_result"
    }
   ],
   "source": [
    "--- Get Data from 2000 iterations\n",
    "tree800 = builder:build_tree(params)\n",
    "tree_data800 = TreeData(tree800)\n",
    "tree800_cfr = TreeCFR()\n",
    "print(\"Solver\")\n",
    "tree800_cfr:run_cfr(tree800, starting_ranges,number_of_iterations)\n",
    "tree_data800:get_training_set(tree800,1)"
   ]
  },
  {
   "cell_type": "markdown",
   "metadata": {},
   "source": [
    "### Training the Model"
   ]
  },
  {
   "cell_type": "code",
   "execution_count": 8,
   "metadata": {
    "collapsed": true
   },
   "outputs": [],
   "source": [
    "-- Building the neural net model\n",
    "strategy_nn = StrategyNN()\n",
    "nn_model = strategy_nn.model\n",
    "-- Building trainer:\n",
    "nn_trainer = NNTrainer(tree_data800,nn_model)\n",
    "-- Options:\n",
    "opt = {}\n",
    "opt.learningRate = 0.001\n",
    "opt.momentum = 0.95\n",
    "opt.validate = false"
   ]
  },
  {
   "cell_type": "code",
   "execution_count": 9,
   "metadata": {
    "collapsed": true
   },
   "outputs": [],
   "source": [
    "current_criterion = nn.SmoothL1Criterion()\n",
    "train_loss,test_loss = nn_trainer:train(nn_model,current_criterion,opt,10000)"
   ]
  },
  {
   "cell_type": "code",
   "execution_count": 10,
   "metadata": {},
   "outputs": [
    {
     "data": {
      "text/plain": [
       "0.21671660775199\n"
      ]
     },
     "execution_count": 10,
     "metadata": {},
     "output_type": "execute_result"
    }
   ],
   "source": [
    "pred_strat = nn_model:forward({nn_trainer.all_data.features,nn_trainer.all_data.masks})\n",
    "true_strat =nn_trainer.all_data.targets\n",
    "print(torch.mean(torch.abs(pred_strat- true_strat)))"
   ]
  },
  {
   "cell_type": "markdown",
   "metadata": {},
   "source": [
    "### No Warm Start"
   ]
  },
  {
   "cell_type": "code",
   "execution_count": null,
   "metadata": {
    "collapsed": true
   },
   "outputs": [],
   "source": [
    "--- Building CFR Solver\n",
    "treeNoWarm = builder:build_tree(params)\n",
    "treeNoWarm_cfr = TreeCFR2()\n",
    "print(\"Solver\")\n",
    "treeNoWarm_cfr:run_cfr(treeNoWarm, starting_ranges,number_of_iterations)"
   ]
  },
  {
   "cell_type": "markdown",
   "metadata": {},
   "source": [
    "### Neural Net Start "
   ]
  },
  {
   "cell_type": "code",
   "execution_count": 23,
   "metadata": {
    "collapsed": true
   },
   "outputs": [],
   "source": [
    "--- NNWarm Starting\n",
    "treeNNWarm = builder:build_tree(params)\n",
    "dataNN = TreeData(treeNNWarm)\n",
    "dataNN:get_training_set(treeNNWarm,1)\n",
    "dataNN:generate_new_initial_strategies(treeNNWarm,nn_trainer)"
   ]
  },
  {
   "cell_type": "code",
   "execution_count": 25,
   "metadata": {
    "collapsed": true
   },
   "outputs": [],
   "source": [
    "--- Building CFR Solver\n",
    "treeNNWarm_cfr = TreeCFR2()\n",
    "treeNNWarm_cfr:run_cfr(treeNNWarm, starting_ranges,100)"
   ]
  },
  {
   "cell_type": "markdown",
   "metadata": {},
   "source": [
    "### Target Warm Start "
   ]
  },
  {
   "cell_type": "code",
   "execution_count": null,
   "metadata": {
    "collapsed": true
   },
   "outputs": [],
   "source": [
    "--- Target Warm Starting\n",
    "treeTargWarm = builder:build_tree(params)\n",
    "dataTarg = TreeData(treeTargWarm)\n",
    "dataTarg:get_training_set(treeTargWarm,1)\n",
    "dataTarg:warm_start_from_targets(treeTargWarm,tree800)"
   ]
  },
  {
   "cell_type": "code",
   "execution_count": null,
   "metadata": {
    "collapsed": true
   },
   "outputs": [],
   "source": [
    "--- Building CFR Solver\n",
    "treeTargWarm_cfr = TreeCFR2()\n",
    "treeTargWarm_cfr:run_cfr(treeTargWarm, starting_ranges,number_of_iterations)"
   ]
  },
  {
   "cell_type": "markdown",
   "metadata": {},
   "source": [
    "### 2000 Iterations"
   ]
  },
  {
   "cell_type": "code",
   "execution_count": null,
   "metadata": {
    "collapsed": true
   },
   "outputs": [],
   "source": [
    "--- Building CFR Solver\n",
    "tree2000 = builder:build_tree(params)\n",
    "tree2000_cfr = TreeCFR()\n",
    "print(\"Solver\")\n",
    "tree2000_cfr:run_cfr(tree2000, starting_ranges,2000)"
   ]
  },
  {
   "cell_type": "markdown",
   "metadata": {},
   "source": [
    "### Graphical Comparaison"
   ]
  },
  {
   "cell_type": "code",
   "execution_count": null,
   "metadata": {
    "collapsed": true
   },
   "outputs": [],
   "source": [
    "diff_NoW = compare_cfrs(treeNoWarm_cfr,tree2000_cfr)---:narrow(1,101,700)\n",
    "diff_NNW = compare_cfrs(treeNNWarm_cfr,tree2000_cfr)---:narrow(1,101,700)\n",
    "diff_TargW = compare_cfrs(treeTargWarm_cfr,tree2000_cfr)---:narrow(1,101,700)"
   ]
  },
  {
   "cell_type": "code",
   "execution_count": null,
   "metadata": {
    "collapsed": true
   },
   "outputs": [],
   "source": [
    "local num_iter = torch.range(1,diff_NoW:size(1))\n",
    "local plot = Plot()\n",
    "\n",
    "plot:line(num_iter,diff_NoW,'red' ,'NW: Strategy without WS')\n",
    "plot:line(num_iter,diff_NNW,'blue' ,'NN : Strategy initialized with NN')\n",
    "plot:line(num_iter,diff_TargW,'green' ,'SNN : Strategy initialized with target values')\n",
    "plot:legend(true):title('MSE between strategies and 200 iter CFR ')\n",
    "plot:xaxis('number of iterations'):yaxis('Distance to end policy'):redraw()"
   ]
  },
  {
   "cell_type": "markdown",
   "metadata": {},
   "source": [
    "### 3. Comparaision with 2000 CFR2"
   ]
  },
  {
   "cell_type": "code",
   "execution_count": null,
   "metadata": {
    "collapsed": true
   },
   "outputs": [],
   "source": [
    "--- Building CFR Solver\n",
    "tree2001 = builder:build_tree(params)\n",
    "tree2001_cfr = TreeCFR2()\n",
    "print(\"Solver\")\n",
    "tree2001_cfr:run_cfr(tree2001, starting_ranges,2000)"
   ]
  },
  {
   "cell_type": "code",
   "execution_count": null,
   "metadata": {
    "collapsed": true
   },
   "outputs": [],
   "source": [
    "diff_NoW2 = compare_cfrs(treeNoWarm_cfr,tree2001_cfr)---:narrow(1,101,700)\n",
    "diff_NNW2 = compare_cfrs(treeNNWarm_cfr,tree2001_cfr)---:narrow(1,101,700)\n",
    "diff_TargW2 = compare_cfrs(treeTargWarm_cfr,tree2001_cfr)---:narrow(1,101,700)"
   ]
  },
  {
   "cell_type": "code",
   "execution_count": null,
   "metadata": {
    "collapsed": true
   },
   "outputs": [],
   "source": [
    "local num_iter = torch.range(1,diff_NoW2:size(1))\n",
    "local plot = Plot()\n",
    "\n",
    "plot:line(num_iter,diff_NoW2,'red' ,'NW: Strategy without WS')\n",
    "plot:line(num_iter,diff_NNW2,'blue' ,'NN : Strategy initialized with NN')\n",
    "plot:line(num_iter,diff_TargW2,'green' ,'SNN : Strategy initialized with target values')\n",
    "plot:legend(true):title('MSE between strategies and 2000 iter CFR ')\n",
    "plot:xaxis('number of iterations'):yaxis('Distance to end policy'):redraw()"
   ]
  },
  {
   "cell_type": "markdown",
   "metadata": {},
   "source": [
    "### Comparing two different strats"
   ]
  },
  {
   "cell_type": "code",
   "execution_count": null,
   "metadata": {
    "collapsed": true
   },
   "outputs": [],
   "source": [
    "cfr_01 = compare_cfrs(tree2001_cfr,tree2000_cfr)---:narrow(1,101,700)\n",
    "cfr_00 = compare_cfrs(tree2000_cfr,tree2000_cfr)---:narrow(1,101,700)"
   ]
  },
  {
   "cell_type": "code",
   "execution_count": null,
   "metadata": {
    "collapsed": true
   },
   "outputs": [],
   "source": [
    "local num_iter = torch.range(1,#tree2001_cfr.total_strategies)\n",
    "local plot = Plot()\n",
    "plot:line(num_iter,cfr_01,'blue' ,'Solver modified')\n",
    "plot:line(num_iter,cfr_00,'green' ,'Original Solver')\n",
    "plot:legend(true):title('2000 iterations run vs Original Solver end Policy')\n",
    "plot:xaxis('number of iterations'):yaxis('MSE Distance to end policy'):redraw()"
   ]
  },
  {
   "cell_type": "markdown",
   "metadata": {},
   "source": [
    "### Second 2000 iterations"
   ]
  },
  {
   "cell_type": "code",
   "execution_count": null,
   "metadata": {
    "collapsed": true
   },
   "outputs": [],
   "source": [
    "--- Comparing with 2000\n",
    "function compare2000(tree_cfr1,tree_cfr2000)\n",
    "    local difference = {}\n",
    "    local table1 = tree_cfr1.total_strategies\n",
    "    local table2 = tree_cfr2000.total_strategies\n",
    "    \n",
    "    for i = 1, #table1 do\n",
    "        difference[i] = torch.sqrt(torch.sum(torch.pow((table1[i] - table2[#table1]),2)))\n",
    "    end\n",
    "    return torch.FloatTensor(difference)\n",
    "end"
   ]
  },
  {
   "cell_type": "code",
   "execution_count": null,
   "metadata": {
    "collapsed": true
   },
   "outputs": [],
   "source": [
    "---diff2000 = get_convergence(tree2000_cfr):narrow(1,101,1899)\n",
    "---diff2001 = get_convergence(tree2001_cfr):narrow(1,101,1899)"
   ]
  },
  {
   "cell_type": "code",
   "execution_count": null,
   "metadata": {
    "collapsed": true
   },
   "outputs": [],
   "source": [
    "--[[local num_iter = torch.range(1,diff2000:size(1))\n",
    "local plot = Plot()\n",
    "\n",
    "plot:line(num_iter,diff2000,'red' ,'NW: Strategy without WS')\n",
    "plot:line(num_iter,diff2001,'blue' ,'NW: Strategy without WS')\n",
    "plot:legend(true):title('MSE between strategies and 2000 iter CFR ')\n",
    "plot:draw()--]]"
   ]
  },
  {
   "cell_type": "code",
   "execution_count": null,
   "metadata": {
    "collapsed": true
   },
   "outputs": [],
   "source": []
  }
 ],
 "metadata": {
  "kernelspec": {
   "display_name": "iTorch",
   "language": "lua",
   "name": "itorch"
  },
  "language_info": {
   "name": "lua",
   "version": "5.2"
  }
 },
 "nbformat": 4,
 "nbformat_minor": 2
}
