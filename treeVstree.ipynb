{
 "cells": [
  {
   "cell_type": "code",
   "execution_count": 1,
   "metadata": {
    "collapsed": true
   },
   "outputs": [],
   "source": [
    "--- Libraries:\n",
    "arguments = require 'Settings.arguments'\n",
    "constants = require 'Settings.constants'\n",
    "card_to_string = require 'Game.card_to_string_conversion'\n",
    "card_tools = require 'Game.card_tools'\n",
    "game_settings = require 'Settings.game_settings'\n",
    "Plot = require 'itorch.Plot'\n",
    "nninit = require 'nninit'\n",
    "require 'torch'\n",
    "require 'math'\n",
    "require 'Tree.tree_builder'\n",
    "require 'Tree.tree_data_generation'\n",
    "require 'Tree.tree_values'\n",
    "require 'Tree.tree_visualiser'\n",
    "require 'nn'\n",
    "require 'Tree.tree_cfr'\n",
    "require 'Tree.tree_cfr2'\n",
    "require 'nngraph'\n",
    "require 'optim'\n",
    "require 'image'\n",
    "require 'NN.strategy_net_builder'\n",
    "require 'NN.strategy_net_trainer'\n",
    "require 'Tree.tree_warm_start'\n",
    "---require 'Adversarials.exploitability'\n",
    "require 'Adversarials.exploitabilityVS'\n",
    "\n"
   ]
  },
  {
   "cell_type": "code",
   "execution_count": 2,
   "metadata": {
    "collapsed": true
   },
   "outputs": [],
   "source": [
    "--- Create the tree\n",
    "builder = PokerTreeBuilder()\n",
    "--- Parameters for the tree\n",
    "params = {}\n",
    "params.root_node = {}\n",
    "params.root_node.board = card_to_string:string_to_board('')\n",
    "params.root_node.street = 1\n",
    "params.root_node.current_player = constants.players.P1\n",
    "params.root_node.bets = arguments.Tensor{200, 200}\n",
    "--- CFR Solver\n",
    "starting_ranges = arguments.Tensor(constants.players_count, game_settings.card_count)\n",
    "starting_ranges[1]:copy(card_tools:get_uniform_range(params.root_node.board))\n",
    "starting_ranges[2]:copy(card_tools:get_uniform_range(params.root_node.board))\n",
    "--- exploitability\n",
    "exploit = TreeValues()"
   ]
  },
  {
   "cell_type": "code",
   "execution_count": 3,
   "metadata": {
    "collapsed": true
   },
   "outputs": [],
   "source": [
    "--- Initialize trees\n",
    "tree1 = builder:build_tree(params)\n",
    "tree2 = builder:build_tree(params)"
   ]
  },
  {
   "cell_type": "code",
   "execution_count": 4,
   "metadata": {
    "collapsed": true
   },
   "outputs": [],
   "source": [
    "solver2 = TreeCFR()\n",
    "solver2:run_cfr(tree2,starting_ranges,100)"
   ]
  },
  {
   "cell_type": "code",
   "execution_count": 5,
   "metadata": {
    "collapsed": true
   },
   "outputs": [],
   "source": [
    "--- NNWarm Starting\n",
    "dataNN = TreeData(tree2)\n",
    "dataNN:get_training_set(tree2,1)"
   ]
  },
  {
   "cell_type": "code",
   "execution_count": 6,
   "metadata": {
    "collapsed": true
   },
   "outputs": [],
   "source": [
    "tree_eval = StrategyEvaluator(tree1,tree2)"
   ]
  },
  {
   "cell_type": "code",
   "execution_count": 7,
   "metadata": {},
   "outputs": [],
   "source": [
    "local pot_table = {}\n",
    "local size_sample = 50\n",
    "for i = 1,50 do\n",
    "    tree_eval:play_several_games(tree1,tree2,size_sample)\n",
    "    table.insert(pot_table,tree_eval.A2_pot/size_sample)\n",
    "end\n",
    "print(\"player_2 won: \",torch.FloatTensor(pot_table):mean())"
   ]
  },
  {
   "cell_type": "code",
   "execution_count": 8,
   "metadata": {},
   "outputs": [
    {
     "data": {
      "text/plain": [
       "player_2 won: \t-14.56\n"
      ]
     },
     "execution_count": 8,
     "metadata": {},
     "output_type": "execute_result"
    }
   ],
   "source": [
    "cards = {}\n",
    "cards.P1 = 3\n",
    "cards.P2 = 4\n",
    "cards.board = 1"
   ]
  },
  {
   "cell_type": "code",
   "execution_count": 308,
   "metadata": {},
   "outputs": [
    {
     "data": {
      "text/plain": [
       "player_2 won: \t4.5999999046326\n",
       "player_2 std: \t14.990663626285\n"
      ]
     },
     "execution_count": 308,
     "metadata": {},
     "output_type": "execute_result"
    }
   ],
   "source": [
    "pot_table1 = {}\n",
    "local size_sample = 1000\n",
    "for i = 1,2 do\n",
    "    tree_eval:play_deterministic_games(tree1,tree2,size_sample,cards)\n",
    "    table.insert(pot_table1,tree_eval.A2_pot/size_sample)\n",
    "end\n",
    "print(\"player_2 won: \",torch.FloatTensor(pot_table1):mean())\n",
    "print(\"player_2 std: \",torch.FloatTensor(pot_table1):std())"
   ]
  },
  {
   "cell_type": "code",
   "execution_count": 28,
   "metadata": {},
   "outputs": [],
   "source": [
    "cardsInv = {}\n",
    "cardsInv.P1 = cards.P2\n",
    "cardsInv.P2 = cards.P1\n",
    "cardsInv.board = cards.board"
   ]
  },
  {
   "cell_type": "code",
   "execution_count": 307,
   "metadata": {},
   "outputs": [
    {
     "data": {
      "text/plain": [
       "player_2 won: \t-5.7999999523163\n",
       "player_2 std: \t2.5455843448366\n"
      ]
     },
     "execution_count": 307,
     "metadata": {},
     "output_type": "execute_result"
    }
   ],
   "source": [
    "pot_table2 = {}\n",
    "local size_sample = 500\n",
    "for i = 1,2 do\n",
    "    tree_eval:play_deterministic_games(tree1,tree2,size_sample,cardsInv)\n",
    "    table.insert(pot_table2,tree_eval.A2_pot/size_sample)\n",
    "end\n",
    "print(\"player_2 won: \",torch.FloatTensor(pot_table2):mean())\n",
    "print(\"player_2 std: \",torch.FloatTensor(pot_table2):std())"
   ]
  },
  {
   "cell_type": "code",
   "execution_count": 30,
   "metadata": {},
   "outputs": [],
   "source": [
    "---plot = Plot():histogram(torch.FloatTensor(pot_table1)):draw()"
   ]
  },
  {
   "cell_type": "code",
   "execution_count": 31,
   "metadata": {},
   "outputs": [],
   "source": [
    "---plot = Plot():histogram(torch.FloatTensor(pot_table2)):draw()"
   ]
  },
  {
   "cell_type": "code",
   "execution_count": 304,
   "metadata": {},
   "outputs": [],
   "source": [
    "function get_first_mask_tensor(index)\n",
    "    local output = torch.range(1,6)\n",
    "    if index ==1 then\n",
    "        return torch.range(2,6)\n",
    "    end\n",
    "    local out1 = output:clone():narrow(1,1,index-1)\n",
    "    local out2 = output:clone():narrow(1,index+1,6-index)\n",
    "    local result = out1:cat(out2)\n",
    "    return result\n",
    "end\n",
    "\n",
    "function get_second_mask_tensor(input_tensor,index)\n",
    "    local result = {}\n",
    "    local input = input_tensor:clone()\n",
    "    for i = 1,input:size(1) do\n",
    "        if input[i] ~= index then\n",
    "            table.insert(result,input[i])\n",
    "        end\n",
    "    end\n",
    "    return torch.Tensor(result)\n",
    "end\n",
    "\n",
    "\n",
    "function construct_possible_game_states()\n",
    "    local states_tensor = torch.Tensor()\n",
    "    local first_card_tensor = torch.Tensor({1,3,5})\n",
    "    for i = 1,first_card_tensor:size(1) do\n",
    "        local second_card_tensor = get_first_mask_tensor(first_card_tensor[i])\n",
    "        for j =1, second_card_tensor:size(1) do\n",
    "            local third_card_tensor = get_second_mask_tensor(second_card_tensor,second_card_tensor[j])\n",
    "            for k = 1,third_card_tensor:size(1) do\n",
    "                local states = torch.Tensor({first_card_tensor[i],second_card_tensor[j],third_card_tensor[k]}):view(1,3)\n",
    "                states_tensor = states_tensor:cat(states,1)\n",
    "            end\n",
    "        end\n",
    "    end\n",
    "    return states_tensor\n",
    "end\n",
    "    \n"
   ]
  },
  {
   "cell_type": "code",
   "execution_count": 305,
   "metadata": {},
   "outputs": [],
   "source": [
    "x = construct_possible_game_states()"
   ]
  },
  {
   "cell_type": "code",
   "execution_count": 297,
   "metadata": {},
   "outputs": [],
   "source": []
  },
  {
   "cell_type": "code",
   "execution_count": 299,
   "metadata": {},
   "outputs": [],
   "source": [
    " f = get_first_mask_tensor(1)"
   ]
  },
  {
   "cell_type": "code",
   "execution_count": 300,
   "metadata": {},
   "outputs": [
    {
     "data": {
      "text/plain": [
       " 2\n",
       " 3\n",
       " 4\n",
       " 5\n",
       " 6\n",
       "[torch.FloatTensor of size 5]\n",
       "\n"
      ]
     },
     "execution_count": 300,
     "metadata": {},
     "output_type": "execute_result"
    }
   ],
   "source": [
    "f"
   ]
  },
  {
   "cell_type": "code",
   "execution_count": 278,
   "metadata": {},
   "outputs": [],
   "source": [
    "f1= get_second_mask_tensor(f,3)"
   ]
  },
  {
   "cell_type": "code",
   "execution_count": 279,
   "metadata": {},
   "outputs": [
    {
     "data": {
      "text/plain": [
       " 1\n",
       " 2\n",
       " 4\n",
       " 5\n",
       " 6\n",
       "[torch.FloatTensor of size 5]\n",
       "\n"
      ]
     },
     "execution_count": 279,
     "metadata": {},
     "output_type": "execute_result"
    }
   ],
   "source": [
    "f1"
   ]
  },
  {
   "cell_type": "code",
   "execution_count": null,
   "metadata": {
    "collapsed": true
   },
   "outputs": [],
   "source": []
  }
 ],
 "metadata": {
  "kernelspec": {
   "display_name": "iTorch",
   "language": "lua",
   "name": "itorch"
  },
  "language_info": {
   "name": "lua",
   "version": "5.2"
  }
 },
 "nbformat": 4,
 "nbformat_minor": 2
}
