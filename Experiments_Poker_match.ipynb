{
 "cells": [
  {
   "cell_type": "code",
   "execution_count": 1,
   "metadata": {
    "collapsed": true
   },
   "outputs": [],
   "source": [
    "--- Libraries:\n",
    "arguments = require 'Settings.arguments'\n",
    "constants = require 'Settings.constants'\n",
    "card_to_string = require 'Game.card_to_string_conversion'\n",
    "card_tools = require 'Game.card_tools'\n",
    "game_settings = require 'Settings.game_settings'\n",
    "Plot = require 'itorch.Plot'\n",
    "nninit = require 'nninit'\n",
    "require 'torch'\n",
    "require 'math'\n",
    "require 'Tree.tree_builder'\n",
    "require 'Tree.tree_data_generation'\n",
    "require 'Tree.tree_values'\n",
    "require 'Tree.tree_visualiser'\n",
    "require 'nn'\n",
    "require 'Tree.tree_cfr'\n",
    "require 'Tree.tree_cfr2'\n",
    "require 'nngraph'\n",
    "require 'optim'\n",
    "require 'image'\n",
    "require 'NN.strategy_net_builder'\n",
    "require 'NN.strategy_net_trainer'\n",
    "require 'Tree.tree_warm_start'\n",
    "---require 'Adversarials.exploitability'\n",
    "require 'Adversarials.exploitabilityVS'\n",
    "\n"
   ]
  },
  {
   "cell_type": "code",
   "execution_count": 2,
   "metadata": {
    "collapsed": true
   },
   "outputs": [],
   "source": [
    "function get_first_mask_tensor(index)\n",
    "    local output = torch.range(1,6)\n",
    "    if index ==1 then\n",
    "        return torch.range(2,6)\n",
    "    end\n",
    "    local out1 = output:clone():narrow(1,1,index-1)\n",
    "    local out2 = output:clone():narrow(1,index+1,6-index)\n",
    "    local result = out1:cat(out2)\n",
    "    return result\n",
    "end\n",
    "\n",
    "function get_second_mask_tensor(input_tensor,index)\n",
    "    local result = {}\n",
    "    local input = input_tensor:clone()\n",
    "    for i = 1,input:size(1) do\n",
    "        if input[i] ~= index then\n",
    "            table.insert(result,input[i])\n",
    "        end\n",
    "    end\n",
    "    return torch.Tensor(result)\n",
    "end\n",
    "\n",
    "\n",
    "function construct_possible_game_states()\n",
    "    local states_tensor = torch.Tensor()\n",
    "    local first_card_tensor = torch.Tensor({1,3,5})\n",
    "    for i = 1,first_card_tensor:size(1) do\n",
    "        local second_card_tensor = get_first_mask_tensor(first_card_tensor[i])\n",
    "        for j =1, second_card_tensor:size(1) do\n",
    "            local third_card_tensor = get_second_mask_tensor(second_card_tensor,second_card_tensor[j])\n",
    "            for k = 1,third_card_tensor:size(1) do\n",
    "                local states = torch.Tensor({first_card_tensor[i],second_card_tensor[j],third_card_tensor[k]}):view(1,3)\n",
    "                states_tensor = states_tensor:cat(states,1)\n",
    "            end\n",
    "        end\n",
    "    end\n",
    "    return states_tensor\n",
    "end\n",
    "\n",
    "function distribute_cards(cards_tensor)\n",
    "    local cards = {}\n",
    "    cards.P1 = cards_tensor[1]\n",
    "    cards.P2 = cards_tensor[2]\n",
    "    cards.board = cards_tensor[3]\n",
    "    return cards\n",
    "end"
   ]
  },
  {
   "cell_type": "code",
   "execution_count": 3,
   "metadata": {
    "collapsed": true
   },
   "outputs": [],
   "source": [
    "--- Create the tree\n",
    "builder = PokerTreeBuilder()\n",
    "--- Parameters for the tree\n",
    "params = {}\n",
    "params.root_node = {}\n",
    "params.root_node.board = card_to_string:string_to_board('')\n",
    "params.root_node.street = 1\n",
    "params.root_node.current_player = constants.players.P1\n",
    "params.root_node.bets = arguments.Tensor{200,200}\n",
    "--- CFR Solver\n",
    "starting_ranges = arguments.Tensor(constants.players_count, game_settings.card_count)\n",
    "starting_ranges[1]:copy(card_tools:get_uniform_range(params.root_node.board))\n",
    "starting_ranges[2]:copy(card_tools:get_uniform_range(params.root_node.board))\n",
    "--- exploitability\n",
    "exploit = TreeValues()"
   ]
  },
  {
   "cell_type": "code",
   "execution_count": 4,
   "metadata": {},
   "outputs": [],
   "source": [
    "--- Initialize trees\n",
    "tree1 = builder:build_tree(params)\n",
    "tree2 = builder:build_tree(params)"
   ]
  },
  {
   "cell_type": "code",
   "execution_count": 5,
   "metadata": {
    "collapsed": true
   },
   "outputs": [],
   "source": [
    "---visualiser = TreeVisualiser()\n",
    "---visualiser:graphviz(tree1, \"zero_blind\")"
   ]
  },
  {
   "cell_type": "code",
   "execution_count": 6,
   "metadata": {},
   "outputs": [],
   "source": [
    "solver2 = TreeCFR()\n",
    "solver2.cfr_skip = 0\n",
    "solver2:run_cfr(tree2,starting_ranges,500)"
   ]
  },
  {
   "cell_type": "code",
   "execution_count": 7,
   "metadata": {},
   "outputs": [],
   "source": [
    "--- NNWarm Starting\n",
    "dataNN = TreeData(tree2)\n",
    "dataNN:get_training_set(tree2,1)"
   ]
  },
  {
   "cell_type": "code",
   "execution_count": 28,
   "metadata": {
    "collapsed": true
   },
   "outputs": [],
   "source": [
    "tree_eval = StrategyEvaluator(tree1,tree2)"
   ]
  },
  {
   "cell_type": "code",
   "execution_count": null,
   "metadata": {
    "collapsed": true
   },
   "outputs": [],
   "source": []
  },
  {
   "cell_type": "code",
   "execution_count": 99,
   "metadata": {},
   "outputs": [
    {
     "data": {
      "text/plain": [
       " 3\n",
       "[torch.LongStorage of size 1]\n",
       "\n"
      ]
     },
     "execution_count": 99,
     "metadata": {},
     "output_type": "execute_result"
    }
   ],
   "source": [
    "#range_games"
   ]
  },
  {
   "cell_type": "code",
   "execution_count": null,
   "metadata": {},
   "outputs": [
    {
     "data": {
      "text/plain": [
       "Total number of pots won : \t0.102\n",
       "average amount won per game\t0.34\n"
      ]
     },
     "execution_count": 136,
     "metadata": {},
     "output_type": "execute_result"
    },
    {
     "data": {
      "text/plain": [
       "Total number of pots won : \t1.51\n",
       "average amount won per game\t5.0333333333333\n"
      ]
     },
     "execution_count": 136,
     "metadata": {},
     "output_type": "execute_result"
    },
    {
     "data": {
      "text/plain": [
       "Total number of pots won : \t2.866\n",
       "average amount won per game\t9.5533333333333\n"
      ]
     },
     "execution_count": 136,
     "metadata": {},
     "output_type": "execute_result"
    },
    {
     "data": {
      "text/plain": [
       "Total number of pots won : \t4.122\n",
       "average amount won per game\t13.74\n"
      ]
     },
     "execution_count": 136,
     "metadata": {},
     "output_type": "execute_result"
    },
    {
     "data": {
      "text/plain": [
       "Total number of pots won : \t4.982\n",
       "average amount won per game\t16.606666666667\n"
      ]
     },
     "execution_count": 136,
     "metadata": {},
     "output_type": "execute_result"
    },
    {
     "data": {
      "text/plain": [
       "Total number of pots won : \t6.282\n",
       "average amount won per game\t20.94\n"
      ]
     },
     "execution_count": 136,
     "metadata": {},
     "output_type": "execute_result"
    },
    {
     "data": {
      "text/plain": [
       "Total number of pots won : \t8.586\n",
       "average amount won per game\t28.62\n"
      ]
     },
     "execution_count": 136,
     "metadata": {},
     "output_type": "execute_result"
    },
    {
     "data": {
      "text/plain": [
       "Total number of pots won : \t9.538\n",
       "average amount won per game\t31.793333333333\n"
      ]
     },
     "execution_count": 136,
     "metadata": {},
     "output_type": "execute_result"
    },
    {
     "data": {
      "text/plain": [
       "Total number of pots won : \t11.688\n",
       "average amount won per game\t38.96\n"
      ]
     },
     "execution_count": 136,
     "metadata": {},
     "output_type": "execute_result"
    },
    {
     "data": {
      "text/plain": [
       "Total number of pots won : \t12.556\n",
       "average amount won per game\t41.853333333333\n"
      ]
     },
     "execution_count": 136,
     "metadata": {},
     "output_type": "execute_result"
    },
    {
     "data": {
      "text/plain": [
       "Total number of pots won : \t14.074\n",
       "average amount won per game\t46.913333333333\n"
      ]
     },
     "execution_count": 136,
     "metadata": {},
     "output_type": "execute_result"
    },
    {
     "data": {
      "text/plain": [
       "Total number of pots won : \t15.42\n",
       "average amount won per game\t51.4\n"
      ]
     },
     "execution_count": 136,
     "metadata": {},
     "output_type": "execute_result"
    }
   ],
   "source": [
    "min_pot = 200\n",
    "number_of_times = 500\n",
    "range_games = torch.range(0,number_of_times,20)\n",
    "pots_won_tensor = torch.FloatTensor(1,range_games:size(1))\n",
    "avg_gain_per_game = torch.FloatTensor(1,range_games:size(1))\n",
    "range_games[1] = 1\n",
    "for i = 1,range_games:size(1) do\n",
    "    tree_eval:play_all_combinations_n_times(tree1,tree2,range_games[i])\n",
    "    pots_won_tensor[{1,i}] = tree_eval.A2_pot_matrix:sum()/(min_pot*number_of_times)\n",
    "    avg_gain_per_game[{1,i}] = tree_eval.A2_pot_matrix:sum()/(number_of_times*60)\n",
    "    print(\"Total number of pots won : \",tree_eval.A2_pot_matrix:sum()/(min_pot*number_of_times))\n",
    "    print(\"average amount won per game\",tree_eval.A2_pot_matrix:sum()/(number_of_times*60))\n",
    "end"
   ]
  },
  {
   "cell_type": "code",
   "execution_count": 131,
   "metadata": {},
   "outputs": [],
   "source": [
    "avg_won = avg_gain_per_game:clone():cdiv(range_games)"
   ]
  },
  {
   "cell_type": "code",
   "execution_count": 135,
   "metadata": {},
   "outputs": [
    {
     "data": {
      "text/html": [
       "<script type=\"text/javascript\">\n",
       "$(function() {\n",
       "    if (typeof (window._bokeh_onload_callbacks) === \"undefined\"){\n",
       "  window._bokeh_onload_callbacks = [];\n",
       "    }\n",
       "    function load_lib(url, callback){\n",
       "  window._bokeh_onload_callbacks.push(callback);\n",
       "  if (window._bokeh_is_loading){\n",
       "      console.log(\"Bokeh: BokehJS is being loaded, scheduling callback at\", new Date());\n",
       "      return null;\n",
       "  }\n",
       "  console.log(\"Bokeh: BokehJS not loaded, scheduling load and callback at\", new Date());\n",
       "  window._bokeh_is_loading = true;\n",
       "  var s = document.createElement('script');\n",
       "  s.src = url;\n",
       "  s.async = true;\n",
       "  s.onreadystatechange = s.onload = function(){\n",
       "      Bokeh.embed.inject_css(\"https://cdn.pydata.org/bokeh-0.7.0.min.css\");\n",
       "      window._bokeh_onload_callbacks.forEach(function(callback){callback()});\n",
       "  };\n",
       "  s.onerror = function(){\n",
       "      console.warn(\"failed to load library \" + url);\n",
       "  };\n",
       "  document.getElementsByTagName(\"head\")[0].appendChild(s);\n",
       "    }\n",
       "\n",
       "    bokehjs_url = \"https://cdn.pydata.org/bokeh-0.7.0.min.js\"\n",
       "\n",
       "    var elt = document.getElementById(\"b908fe27-0661-4bb9-cbd9-a89239024450\");\n",
       "    if(elt==null) {\n",
       "  console.log(\"Bokeh: ERROR: autoload.js configured with elementid 'b908fe27-0661-4bb9-cbd9-a89239024450'\"\n",
       "        + \"but no matching script tag was found. \")\n",
       "  return false;\n",
       "    }\n",
       "\n",
       "    if(typeof(Bokeh) !== \"undefined\") {\n",
       "  console.log(\"Bokeh: BokehJS loaded, going straight to plotting\");\n",
       "  var modelid = \"fdd4f279-c262-4320-c30d-48a95f026b18\";\n",
       "  var modeltype = \"Plot\";\n",
       "  var all_models = [{\"type\":\"ColumnDataSource\",\"attributes\":{\"tags\":[],\"cont_ranges\":{},\"data\":{\"x\":[1,2,3,4,5,6,7,8,9,10,11],\"y\":[0.48333331942558,0.62999999523163,0.67750000953674,0.56277775764465,0.58812499046326,0.59966665506363,0.54013890028,0.62345236539841,0.5818749666214,0.58685183525085,0.60049998760223]},\"selected\":[],\"column_names\":[\"x\",\"y\"],\"discrete_ranges\":{},\"doc\":null,\"id\":\"b1306a2c-513a-4f80-cfbb-756310ea3b7b\"},\"id\":\"b1306a2c-513a-4f80-cfbb-756310ea3b7b\"},{\"type\":\"Line\",\"attributes\":{\"line_alpha\":{\"units\":\"data\",\"value\":1},\"x\":{\"units\":\"data\",\"field\":\"x\"},\"line_color\":{\"value\":\"blue\"},\"fill_color\":{\"value\":\"blue\"},\"size\":{\"units\":\"screen\",\"value\":10},\"fill_alpha\":{\"units\":\"data\",\"value\":0.2},\"tags\":[],\"y\":{\"units\":\"data\",\"field\":\"y\"},\"doc\":null,\"id\":\"60129e2c-fed4-4865-c89d-ad44d6fd1889\"},\"id\":\"60129e2c-fed4-4865-c89d-ad44d6fd1889\"},{\"type\":\"Line\",\"attributes\":{\"line_alpha\":{\"units\":\"data\",\"value\":1},\"x\":{\"units\":\"data\",\"field\":\"x\"},\"line_color\":{\"value\":\"blue\"},\"fill_color\":{\"value\":\"blue\"},\"size\":{\"units\":\"screen\",\"value\":10},\"fill_alpha\":{\"units\":\"data\",\"value\":0.2},\"tags\":[],\"y\":{\"units\":\"data\",\"field\":\"y\"},\"doc\":null,\"id\":\"8445947b-1cdd-4728-c758-b6fb108713b1\"},\"id\":\"8445947b-1cdd-4728-c758-b6fb108713b1\"},{\"type\":\"GlyphRenderer\",\"attributes\":{\"tags\":[],\"glyph\":{\"type\":\"Line\",\"id\":\"60129e2c-fed4-4865-c89d-ad44d6fd1889\"},\"data_source\":{\"type\":\"ColumnDataSource\",\"id\":\"b1306a2c-513a-4f80-cfbb-756310ea3b7b\"},\"nonselection_glyph\":{\"type\":\"Line\",\"id\":\"8445947b-1cdd-4728-c758-b6fb108713b1\"},\"name\":null,\"selection_glyph\":null,\"server_data_source\":null,\"doc\":null,\"id\":\"ed53826b-515a-4807-c815-2de624550305\"},\"id\":\"ed53826b-515a-4807-c815-2de624550305\"},{\"type\":\"DataRange1d\",\"attributes\":{\"tags\":[],\"sources\":[{\"source\":{\"type\":\"ColumnDataSource\",\"id\":\"b1306a2c-513a-4f80-cfbb-756310ea3b7b\"},\"columns\":[\"x\"]}],\"doc\":null,\"id\":\"38f6832f-24e3-4a87-ca2c-b3f0758f0933\"},\"id\":\"38f6832f-24e3-4a87-ca2c-b3f0758f0933\"},{\"type\":\"DataRange1d\",\"attributes\":{\"tags\":[],\"sources\":[{\"source\":{\"type\":\"ColumnDataSource\",\"id\":\"b1306a2c-513a-4f80-cfbb-756310ea3b7b\"},\"columns\":[\"y\"]}],\"doc\":null,\"id\":\"88a5a086-a3c2-4641-c6d8-0d4a52fdf0ac\"},\"id\":\"88a5a086-a3c2-4641-c6d8-0d4a52fdf0ac\"},{\"type\":\"ToolEvents\",\"attributes\":{\"tags\":[],\"geometries\":[],\"doc\":null,\"id\":\"d9c25eca-7406-44d4-c401-393e0963b226\"},\"id\":\"d9c25eca-7406-44d4-c401-393e0963b226\"},{\"type\":\"BasicTickFormatter\",\"attributes\":{\"tags\":[],\"doc\":null,\"id\":\"c3a5507b-68e7-4589-c55e-40de5106d166\"},\"id\":\"c3a5507b-68e7-4589-c55e-40de5106d166\"},{\"type\":\"BasicTicker\",\"attributes\":{\"tags\":[],\"num_minor_ticks\":5,\"doc\":null,\"id\":\"57c13979-3230-4c03-cc48-7f896f66e7e4\"},\"id\":\"57c13979-3230-4c03-cc48-7f896f66e7e4\"},{\"type\":\"LinearAxis\",\"attributes\":{\"tags\":[],\"axis_label\":null,\"ticker\":{\"type\":\"BasicTicker\",\"id\":\"57c13979-3230-4c03-cc48-7f896f66e7e4\"},\"formatter\":{\"type\":\"BasicTickFormatter\",\"id\":\"c3a5507b-68e7-4589-c55e-40de5106d166\"},\"plot\":{\"type\":\"Plot\",\"subtype\":\"Figure\",\"id\":\"fdd4f279-c262-4320-c30d-48a95f026b18\"},\"doc\":null,\"id\":\"d8ede500-acef-480d-c832-08e919767ced\"},\"id\":\"d8ede500-acef-480d-c832-08e919767ced\"},{\"type\":\"Grid\",\"attributes\":{\"tags\":[],\"dimension\":0,\"ticker\":{\"type\":\"BasicTicker\",\"id\":\"57c13979-3230-4c03-cc48-7f896f66e7e4\"},\"plot\":{\"type\":\"Plot\",\"subtype\":\"Figure\",\"id\":\"fdd4f279-c262-4320-c30d-48a95f026b18\"},\"doc\":null,\"id\":\"3c62d9f8-169c-4c1f-ccc5-a1f01ff048b6\"},\"id\":\"3c62d9f8-169c-4c1f-ccc5-a1f01ff048b6\"},{\"type\":\"BasicTickFormatter\",\"attributes\":{\"tags\":[],\"doc\":null,\"id\":\"fa98fe02-515e-473f-c72e-1b27ffc3251c\"},\"id\":\"fa98fe02-515e-473f-c72e-1b27ffc3251c\"},{\"type\":\"BasicTicker\",\"attributes\":{\"tags\":[],\"num_minor_ticks\":5,\"doc\":null,\"id\":\"5b4ae7bb-1ac6-4ae4-cac5-21782e6e4cc3\"},\"id\":\"5b4ae7bb-1ac6-4ae4-cac5-21782e6e4cc3\"},{\"type\":\"LinearAxis\",\"attributes\":{\"tags\":[],\"axis_label\":null,\"ticker\":{\"type\":\"BasicTicker\",\"id\":\"5b4ae7bb-1ac6-4ae4-cac5-21782e6e4cc3\"},\"formatter\":{\"type\":\"BasicTickFormatter\",\"id\":\"fa98fe02-515e-473f-c72e-1b27ffc3251c\"},\"plot\":{\"type\":\"Plot\",\"subtype\":\"Figure\",\"id\":\"fdd4f279-c262-4320-c30d-48a95f026b18\"},\"doc\":null,\"id\":\"3d06498e-b194-4822-c8ed-887ec1129b9d\"},\"id\":\"3d06498e-b194-4822-c8ed-887ec1129b9d\"},{\"type\":\"Grid\",\"attributes\":{\"tags\":[],\"dimension\":1,\"ticker\":{\"type\":\"BasicTicker\",\"id\":\"5b4ae7bb-1ac6-4ae4-cac5-21782e6e4cc3\"},\"plot\":{\"type\":\"Plot\",\"subtype\":\"Figure\",\"id\":\"fdd4f279-c262-4320-c30d-48a95f026b18\"},\"doc\":null,\"id\":\"38316d48-881c-42eb-c246-0a55b19f218b\"},\"id\":\"38316d48-881c-42eb-c246-0a55b19f218b\"},{\"type\":\"PanTool\",\"attributes\":{\"tags\":[],\"dimensions\":[\"width\",\"height\"],\"plot\":{\"type\":\"Plot\",\"subtype\":\"Figure\",\"id\":\"fdd4f279-c262-4320-c30d-48a95f026b18\"},\"doc\":null,\"id\":\"fc7a977f-d9a0-4039-c02f-fb54edb9ce92\"},\"id\":\"fc7a977f-d9a0-4039-c02f-fb54edb9ce92\"},{\"type\":\"WheelZoomTool\",\"attributes\":{\"tags\":[],\"dimensions\":[\"width\",\"height\"],\"plot\":{\"type\":\"Plot\",\"subtype\":\"Figure\",\"id\":\"fdd4f279-c262-4320-c30d-48a95f026b18\"},\"doc\":null,\"id\":\"1d1d41df-299e-4520-c594-18c7dfa19ba4\"},\"id\":\"1d1d41df-299e-4520-c594-18c7dfa19ba4\"},{\"type\":\"BoxZoomTool\",\"attributes\":{\"tags\":[],\"plot\":{\"type\":\"Plot\",\"subtype\":\"Figure\",\"id\":\"fdd4f279-c262-4320-c30d-48a95f026b18\"},\"doc\":null,\"id\":\"66d14274-ae7b-4065-c0c7-663130f72e92\"},\"id\":\"66d14274-ae7b-4065-c0c7-663130f72e92\"},{\"type\":\"PreviewSaveTool\",\"attributes\":{\"tags\":[],\"plot\":{\"type\":\"Plot\",\"subtype\":\"Figure\",\"id\":\"fdd4f279-c262-4320-c30d-48a95f026b18\"},\"doc\":null,\"id\":\"599c0df2-56f0-48f5-c84c-a8038eba847c\"},\"id\":\"599c0df2-56f0-48f5-c84c-a8038eba847c\"},{\"type\":\"ResizeTool\",\"attributes\":{\"tags\":[],\"plot\":{\"type\":\"Plot\",\"subtype\":\"Figure\",\"id\":\"fdd4f279-c262-4320-c30d-48a95f026b18\"},\"doc\":null,\"id\":\"21d23264-e501-43da-c3bb-7da6fb87ff34\"},\"id\":\"21d23264-e501-43da-c3bb-7da6fb87ff34\"},{\"type\":\"ResetTool\",\"attributes\":{\"tags\":[],\"plot\":{\"type\":\"Plot\",\"subtype\":\"Figure\",\"id\":\"fdd4f279-c262-4320-c30d-48a95f026b18\"},\"doc\":null,\"id\":\"76fd1384-7afc-422f-c2f8-111a09f12994\"},\"id\":\"76fd1384-7afc-422f-c2f8-111a09f12994\"},{\"type\":\"Plot\",\"attributes\":{\"right\":[],\"extra_y_ranges\":{},\"above\":[],\"title\":\"Untitled Plot\",\"tools\":[{\"type\":\"PanTool\",\"id\":\"fc7a977f-d9a0-4039-c02f-fb54edb9ce92\"},{\"type\":\"WheelZoomTool\",\"id\":\"1d1d41df-299e-4520-c594-18c7dfa19ba4\"},{\"type\":\"BoxZoomTool\",\"id\":\"66d14274-ae7b-4065-c0c7-663130f72e92\"},{\"type\":\"PreviewSaveTool\",\"id\":\"599c0df2-56f0-48f5-c84c-a8038eba847c\"},{\"type\":\"ResizeTool\",\"id\":\"21d23264-e501-43da-c3bb-7da6fb87ff34\"},{\"type\":\"ResetTool\",\"id\":\"76fd1384-7afc-422f-c2f8-111a09f12994\"}],\"renderers\":[{\"type\":\"GlyphRenderer\",\"id\":\"ed53826b-515a-4807-c815-2de624550305\"},{\"type\":\"LinearAxis\",\"id\":\"d8ede500-acef-480d-c832-08e919767ced\"},{\"type\":\"Grid\",\"id\":\"3c62d9f8-169c-4c1f-ccc5-a1f01ff048b6\"},{\"type\":\"LinearAxis\",\"id\":\"3d06498e-b194-4822-c8ed-887ec1129b9d\"},{\"type\":\"Grid\",\"id\":\"38316d48-881c-42eb-c246-0a55b19f218b\"}],\"left\":[{\"type\":\"LinearAxis\",\"id\":\"3d06498e-b194-4822-c8ed-887ec1129b9d\"}],\"tool_events\":{\"type\":\"ToolEvents\",\"id\":\"d9c25eca-7406-44d4-c401-393e0963b226\"},\"extra_x_ranges\":{},\"below\":[{\"type\":\"LinearAxis\",\"id\":\"d8ede500-acef-480d-c832-08e919767ced\"}],\"tags\":[],\"x_range\":{\"type\":\"DataRange1d\",\"id\":\"38f6832f-24e3-4a87-ca2c-b3f0758f0933\"},\"y_range\":{\"type\":\"DataRange1d\",\"id\":\"88a5a086-a3c2-4641-c6d8-0d4a52fdf0ac\"},\"doc\":null,\"id\":\"fdd4f279-c262-4320-c30d-48a95f026b18\"},\"id\":\"fdd4f279-c262-4320-c30d-48a95f026b18\"}];\n",
       "  Bokeh.load_models(all_models);\n",
       "  var model = Bokeh.Collections(modeltype).get(modelid);\n",
       "  $(\"#b908fe27-0661-4bb9-cbd9-a89239024450\").html(''); // clear any previous plot in window_id\n",
       "  var view = new model.default_view({model: model, el: \"#b908fe27-0661-4bb9-cbd9-a89239024450\"});\n",
       "    } else {\n",
       "  load_lib(bokehjs_url, function() {\n",
       "      console.log(\"Bokeh: BokehJS plotting callback run at\", new Date())\n",
       "      var modelid = \"fdd4f279-c262-4320-c30d-48a95f026b18\";\n",
       "      var modeltype = \"Plot\";\n",
       "      var all_models = [{\"type\":\"ColumnDataSource\",\"attributes\":{\"tags\":[],\"cont_ranges\":{},\"data\":{\"x\":[1,2,3,4,5,6,7,8,9,10,11],\"y\":[0.48333331942558,0.62999999523163,0.67750000953674,0.56277775764465,0.58812499046326,0.59966665506363,0.54013890028,0.62345236539841,0.5818749666214,0.58685183525085,0.60049998760223]},\"selected\":[],\"column_names\":[\"x\",\"y\"],\"discrete_ranges\":{},\"doc\":null,\"id\":\"b1306a2c-513a-4f80-cfbb-756310ea3b7b\"},\"id\":\"b1306a2c-513a-4f80-cfbb-756310ea3b7b\"},{\"type\":\"Line\",\"attributes\":{\"line_alpha\":{\"units\":\"data\",\"value\":1},\"x\":{\"units\":\"data\",\"field\":\"x\"},\"line_color\":{\"value\":\"blue\"},\"fill_color\":{\"value\":\"blue\"},\"size\":{\"units\":\"screen\",\"value\":10},\"fill_alpha\":{\"units\":\"data\",\"value\":0.2},\"tags\":[],\"y\":{\"units\":\"data\",\"field\":\"y\"},\"doc\":null,\"id\":\"60129e2c-fed4-4865-c89d-ad44d6fd1889\"},\"id\":\"60129e2c-fed4-4865-c89d-ad44d6fd1889\"},{\"type\":\"Line\",\"attributes\":{\"line_alpha\":{\"units\":\"data\",\"value\":1},\"x\":{\"units\":\"data\",\"field\":\"x\"},\"line_color\":{\"value\":\"blue\"},\"fill_color\":{\"value\":\"blue\"},\"size\":{\"units\":\"screen\",\"value\":10},\"fill_alpha\":{\"units\":\"data\",\"value\":0.2},\"tags\":[],\"y\":{\"units\":\"data\",\"field\":\"y\"},\"doc\":null,\"id\":\"8445947b-1cdd-4728-c758-b6fb108713b1\"},\"id\":\"8445947b-1cdd-4728-c758-b6fb108713b1\"},{\"type\":\"GlyphRenderer\",\"attributes\":{\"tags\":[],\"glyph\":{\"type\":\"Line\",\"id\":\"60129e2c-fed4-4865-c89d-ad44d6fd1889\"},\"data_source\":{\"type\":\"ColumnDataSource\",\"id\":\"b1306a2c-513a-4f80-cfbb-756310ea3b7b\"},\"nonselection_glyph\":{\"type\":\"Line\",\"id\":\"8445947b-1cdd-4728-c758-b6fb108713b1\"},\"name\":null,\"selection_glyph\":null,\"server_data_source\":null,\"doc\":null,\"id\":\"ed53826b-515a-4807-c815-2de624550305\"},\"id\":\"ed53826b-515a-4807-c815-2de624550305\"},{\"type\":\"DataRange1d\",\"attributes\":{\"tags\":[],\"sources\":[{\"source\":{\"type\":\"ColumnDataSource\",\"id\":\"b1306a2c-513a-4f80-cfbb-756310ea3b7b\"},\"columns\":[\"x\"]}],\"doc\":null,\"id\":\"38f6832f-24e3-4a87-ca2c-b3f0758f0933\"},\"id\":\"38f6832f-24e3-4a87-ca2c-b3f0758f0933\"},{\"type\":\"DataRange1d\",\"attributes\":{\"tags\":[],\"sources\":[{\"source\":{\"type\":\"ColumnDataSource\",\"id\":\"b1306a2c-513a-4f80-cfbb-756310ea3b7b\"},\"columns\":[\"y\"]}],\"doc\":null,\"id\":\"88a5a086-a3c2-4641-c6d8-0d4a52fdf0ac\"},\"id\":\"88a5a086-a3c2-4641-c6d8-0d4a52fdf0ac\"},{\"type\":\"ToolEvents\",\"attributes\":{\"tags\":[],\"geometries\":[],\"doc\":null,\"id\":\"d9c25eca-7406-44d4-c401-393e0963b226\"},\"id\":\"d9c25eca-7406-44d4-c401-393e0963b226\"},{\"type\":\"BasicTickFormatter\",\"attributes\":{\"tags\":[],\"doc\":null,\"id\":\"c3a5507b-68e7-4589-c55e-40de5106d166\"},\"id\":\"c3a5507b-68e7-4589-c55e-40de5106d166\"},{\"type\":\"BasicTicker\",\"attributes\":{\"tags\":[],\"num_minor_ticks\":5,\"doc\":null,\"id\":\"57c13979-3230-4c03-cc48-7f896f66e7e4\"},\"id\":\"57c13979-3230-4c03-cc48-7f896f66e7e4\"},{\"type\":\"LinearAxis\",\"attributes\":{\"tags\":[],\"axis_label\":null,\"ticker\":{\"type\":\"BasicTicker\",\"id\":\"57c13979-3230-4c03-cc48-7f896f66e7e4\"},\"formatter\":{\"type\":\"BasicTickFormatter\",\"id\":\"c3a5507b-68e7-4589-c55e-40de5106d166\"},\"plot\":{\"type\":\"Plot\",\"subtype\":\"Figure\",\"id\":\"fdd4f279-c262-4320-c30d-48a95f026b18\"},\"doc\":null,\"id\":\"d8ede500-acef-480d-c832-08e919767ced\"},\"id\":\"d8ede500-acef-480d-c832-08e919767ced\"},{\"type\":\"Grid\",\"attributes\":{\"tags\":[],\"dimension\":0,\"ticker\":{\"type\":\"BasicTicker\",\"id\":\"57c13979-3230-4c03-cc48-7f896f66e7e4\"},\"plot\":{\"type\":\"Plot\",\"subtype\":\"Figure\",\"id\":\"fdd4f279-c262-4320-c30d-48a95f026b18\"},\"doc\":null,\"id\":\"3c62d9f8-169c-4c1f-ccc5-a1f01ff048b6\"},\"id\":\"3c62d9f8-169c-4c1f-ccc5-a1f01ff048b6\"},{\"type\":\"BasicTickFormatter\",\"attributes\":{\"tags\":[],\"doc\":null,\"id\":\"fa98fe02-515e-473f-c72e-1b27ffc3251c\"},\"id\":\"fa98fe02-515e-473f-c72e-1b27ffc3251c\"},{\"type\":\"BasicTicker\",\"attributes\":{\"tags\":[],\"num_minor_ticks\":5,\"doc\":null,\"id\":\"5b4ae7bb-1ac6-4ae4-cac5-21782e6e4cc3\"},\"id\":\"5b4ae7bb-1ac6-4ae4-cac5-21782e6e4cc3\"},{\"type\":\"LinearAxis\",\"attributes\":{\"tags\":[],\"axis_label\":null,\"ticker\":{\"type\":\"BasicTicker\",\"id\":\"5b4ae7bb-1ac6-4ae4-cac5-21782e6e4cc3\"},\"formatter\":{\"type\":\"BasicTickFormatter\",\"id\":\"fa98fe02-515e-473f-c72e-1b27ffc3251c\"},\"plot\":{\"type\":\"Plot\",\"subtype\":\"Figure\",\"id\":\"fdd4f279-c262-4320-c30d-48a95f026b18\"},\"doc\":null,\"id\":\"3d06498e-b194-4822-c8ed-887ec1129b9d\"},\"id\":\"3d06498e-b194-4822-c8ed-887ec1129b9d\"},{\"type\":\"Grid\",\"attributes\":{\"tags\":[],\"dimension\":1,\"ticker\":{\"type\":\"BasicTicker\",\"id\":\"5b4ae7bb-1ac6-4ae4-cac5-21782e6e4cc3\"},\"plot\":{\"type\":\"Plot\",\"subtype\":\"Figure\",\"id\":\"fdd4f279-c262-4320-c30d-48a95f026b18\"},\"doc\":null,\"id\":\"38316d48-881c-42eb-c246-0a55b19f218b\"},\"id\":\"38316d48-881c-42eb-c246-0a55b19f218b\"},{\"type\":\"PanTool\",\"attributes\":{\"tags\":[],\"dimensions\":[\"width\",\"height\"],\"plot\":{\"type\":\"Plot\",\"subtype\":\"Figure\",\"id\":\"fdd4f279-c262-4320-c30d-48a95f026b18\"},\"doc\":null,\"id\":\"fc7a977f-d9a0-4039-c02f-fb54edb9ce92\"},\"id\":\"fc7a977f-d9a0-4039-c02f-fb54edb9ce92\"},{\"type\":\"WheelZoomTool\",\"attributes\":{\"tags\":[],\"dimensions\":[\"width\",\"height\"],\"plot\":{\"type\":\"Plot\",\"subtype\":\"Figure\",\"id\":\"fdd4f279-c262-4320-c30d-48a95f026b18\"},\"doc\":null,\"id\":\"1d1d41df-299e-4520-c594-18c7dfa19ba4\"},\"id\":\"1d1d41df-299e-4520-c594-18c7dfa19ba4\"},{\"type\":\"BoxZoomTool\",\"attributes\":{\"tags\":[],\"plot\":{\"type\":\"Plot\",\"subtype\":\"Figure\",\"id\":\"fdd4f279-c262-4320-c30d-48a95f026b18\"},\"doc\":null,\"id\":\"66d14274-ae7b-4065-c0c7-663130f72e92\"},\"id\":\"66d14274-ae7b-4065-c0c7-663130f72e92\"},{\"type\":\"PreviewSaveTool\",\"attributes\":{\"tags\":[],\"plot\":{\"type\":\"Plot\",\"subtype\":\"Figure\",\"id\":\"fdd4f279-c262-4320-c30d-48a95f026b18\"},\"doc\":null,\"id\":\"599c0df2-56f0-48f5-c84c-a8038eba847c\"},\"id\":\"599c0df2-56f0-48f5-c84c-a8038eba847c\"},{\"type\":\"ResizeTool\",\"attributes\":{\"tags\":[],\"plot\":{\"type\":\"Plot\",\"subtype\":\"Figure\",\"id\":\"fdd4f279-c262-4320-c30d-48a95f026b18\"},\"doc\":null,\"id\":\"21d23264-e501-43da-c3bb-7da6fb87ff34\"},\"id\":\"21d23264-e501-43da-c3bb-7da6fb87ff34\"},{\"type\":\"ResetTool\",\"attributes\":{\"tags\":[],\"plot\":{\"type\":\"Plot\",\"subtype\":\"Figure\",\"id\":\"fdd4f279-c262-4320-c30d-48a95f026b18\"},\"doc\":null,\"id\":\"76fd1384-7afc-422f-c2f8-111a09f12994\"},\"id\":\"76fd1384-7afc-422f-c2f8-111a09f12994\"},{\"type\":\"Plot\",\"attributes\":{\"right\":[],\"extra_y_ranges\":{},\"above\":[],\"title\":\"Untitled Plot\",\"tools\":[{\"type\":\"PanTool\",\"id\":\"fc7a977f-d9a0-4039-c02f-fb54edb9ce92\"},{\"type\":\"WheelZoomTool\",\"id\":\"1d1d41df-299e-4520-c594-18c7dfa19ba4\"},{\"type\":\"BoxZoomTool\",\"id\":\"66d14274-ae7b-4065-c0c7-663130f72e92\"},{\"type\":\"PreviewSaveTool\",\"id\":\"599c0df2-56f0-48f5-c84c-a8038eba847c\"},{\"type\":\"ResizeTool\",\"id\":\"21d23264-e501-43da-c3bb-7da6fb87ff34\"},{\"type\":\"ResetTool\",\"id\":\"76fd1384-7afc-422f-c2f8-111a09f12994\"}],\"renderers\":[{\"type\":\"GlyphRenderer\",\"id\":\"ed53826b-515a-4807-c815-2de624550305\"},{\"type\":\"LinearAxis\",\"id\":\"d8ede500-acef-480d-c832-08e919767ced\"},{\"type\":\"Grid\",\"id\":\"3c62d9f8-169c-4c1f-ccc5-a1f01ff048b6\"},{\"type\":\"LinearAxis\",\"id\":\"3d06498e-b194-4822-c8ed-887ec1129b9d\"},{\"type\":\"Grid\",\"id\":\"38316d48-881c-42eb-c246-0a55b19f218b\"}],\"left\":[{\"type\":\"LinearAxis\",\"id\":\"3d06498e-b194-4822-c8ed-887ec1129b9d\"}],\"tool_events\":{\"type\":\"ToolEvents\",\"id\":\"d9c25eca-7406-44d4-c401-393e0963b226\"},\"extra_x_ranges\":{},\"below\":[{\"type\":\"LinearAxis\",\"id\":\"d8ede500-acef-480d-c832-08e919767ced\"}],\"tags\":[],\"x_range\":{\"type\":\"DataRange1d\",\"id\":\"38f6832f-24e3-4a87-ca2c-b3f0758f0933\"},\"y_range\":{\"type\":\"DataRange1d\",\"id\":\"88a5a086-a3c2-4641-c6d8-0d4a52fdf0ac\"},\"doc\":null,\"id\":\"fdd4f279-c262-4320-c30d-48a95f026b18\"},\"id\":\"fdd4f279-c262-4320-c30d-48a95f026b18\"}];\n",
       "      Bokeh.load_models(all_models);\n",
       "      var model = Bokeh.Collections(modeltype).get(modelid);\n",
       "      $(\"#b908fe27-0661-4bb9-cbd9-a89239024450\").html(''); // clear any previous plot in window_id\n",
       "      var view = new model.default_view({model: model, el: \"#b908fe27-0661-4bb9-cbd9-a89239024450\"});\n",
       "  });\n",
       "    }\n",
       "});\n",
       "</script>\n",
       "<div class=\"plotdiv\" id=\"b908fe27-0661-4bb9-cbd9-a89239024450\"></div>\n"
      ]
     },
     "metadata": {},
     "output_type": "display_data"
    }
   ],
   "source": [
    "x = torch.range(1,avg_gain_per_game:size(2))\n",
    "local plot = Plot()\n",
    "\n",
    "---plot:line(x,avg_gain_per_game:view(-1),'black' ,'Original CFR in the paper')\n",
    "plot:line(x,avg_won:view(-1),'blue' ,'Original CFR in the paper'):draw()\n",
    "---plot:line(x,pots_won_tensor:view(-1),'red' ,'No Warm start CFR'):draw()\n"
   ]
  },
  {
   "cell_type": "code",
   "execution_count": null,
   "metadata": {
    "collapsed": true
   },
   "outputs": [],
   "source": []
  },
  {
   "cell_type": "code",
   "execution_count": 75,
   "metadata": {},
   "outputs": [
    {
     "data": {
      "text/plain": [
       "ties: \t615\n",
       "P1 won: \t4882\n",
       "P2 won: \t6503\n",
       "\n"
      ]
     },
     "execution_count": 75,
     "metadata": {},
     "output_type": "execute_result"
    }
   ],
   "source": [
    "tree_eval:display_results()"
   ]
  },
  {
   "cell_type": "code",
   "execution_count": 76,
   "metadata": {},
   "outputs": [],
   "source": [
    "print(tree_eval.A2_pot_matrix:sum())\n",
    "print(tree_eval.A2_pot_matrix:std())"
   ]
  },
  {
   "cell_type": "code",
   "execution_count": 77,
   "metadata": {},
   "outputs": [
    {
     "data": {
      "text/plain": [
       "1375400\n",
       "544.20372980212\n"
      ]
     },
     "execution_count": 76,
     "metadata": {},
     "output_type": "execute_result"
    },
    {
     "data": {
      "text/plain": [
       "Total number of pots won : \t6877\n"
      ]
     },
     "execution_count": 77,
     "metadata": {},
     "output_type": "execute_result"
    }
   ],
   "source": [
    "print(\"Total number of pots won : \",tree_eval.A2_pot_matrix:sum()/min_pot)"
   ]
  },
  {
   "cell_type": "code",
   "execution_count": 78,
   "metadata": {},
   "outputs": [
    {
     "data": {
      "text/plain": [
       "average amount won per game\t114.61666666667\n"
      ]
     },
     "execution_count": 78,
     "metadata": {},
     "output_type": "execute_result"
    }
   ],
   "source": [
    "print(\"average amount won per game\",tree_eval.A2_pot_matrix:sum()/(number_of_times*60))"
   ]
  },
  {
   "cell_type": "code",
   "execution_count": null,
   "metadata": {
    "collapsed": true
   },
   "outputs": [],
   "source": []
  },
  {
   "cell_type": "code",
   "execution_count": 21,
   "metadata": {},
   "outputs": [],
   "source": [
    "avg_per_hand = tree_eval.A2_pot_matrix:mean(2)"
   ]
  },
  {
   "cell_type": "code",
   "execution_count": 22,
   "metadata": {},
   "outputs": [
    {
     "data": {
      "text/html": [
       "<script type=\"text/javascript\">\n",
       "$(function() {\n",
       "    if (typeof (window._bokeh_onload_callbacks) === \"undefined\"){\n",
       "  window._bokeh_onload_callbacks = [];\n",
       "    }\n",
       "    function load_lib(url, callback){\n",
       "  window._bokeh_onload_callbacks.push(callback);\n",
       "  if (window._bokeh_is_loading){\n",
       "      console.log(\"Bokeh: BokehJS is being loaded, scheduling callback at\", new Date());\n",
       "      return null;\n",
       "  }\n",
       "  console.log(\"Bokeh: BokehJS not loaded, scheduling load and callback at\", new Date());\n",
       "  window._bokeh_is_loading = true;\n",
       "  var s = document.createElement('script');\n",
       "  s.src = url;\n",
       "  s.async = true;\n",
       "  s.onreadystatechange = s.onload = function(){\n",
       "      Bokeh.embed.inject_css(\"https://cdn.pydata.org/bokeh-0.7.0.min.css\");\n",
       "      window._bokeh_onload_callbacks.forEach(function(callback){callback()});\n",
       "  };\n",
       "  s.onerror = function(){\n",
       "      console.warn(\"failed to load library \" + url);\n",
       "  };\n",
       "  document.getElementsByTagName(\"head\")[0].appendChild(s);\n",
       "    }\n",
       "\n",
       "    bokehjs_url = \"https://cdn.pydata.org/bokeh-0.7.0.min.js\"\n",
       "\n",
       "    var elt = document.getElementById(\"492b71ed-2465-4f32-cfcd-ded354929a15\");\n",
       "    if(elt==null) {\n",
       "  console.log(\"Bokeh: ERROR: autoload.js configured with elementid '492b71ed-2465-4f32-cfcd-ded354929a15'\"\n",
       "        + \"but no matching script tag was found. \")\n",
       "  return false;\n",
       "    }\n",
       "\n",
       "    if(typeof(Bokeh) !== \"undefined\") {\n",
       "  console.log(\"Bokeh: BokehJS loaded, going straight to plotting\");\n",
       "  var modelid = \"543c73ae-4225-4499-c412-e13337bbc9f5\";\n",
       "  var modeltype = \"Plot\";\n",
       "  var all_models = [{\"type\":\"ColumnDataSource\",\"attributes\":{\"tags\":[],\"cont_ranges\":{},\"data\":{\"x\":[1,2,3,4,5,6,7,8,9,10,11,12,13,14,15,16,17,18,19,20,21,22,23,24,25,26,27,28,29,30,31,32,33,34,35,36,37,38,39,40,41,42,43,44,45,46,47,48,49,50,51,52,53,54,55,56,57,58,59,60],\"y\":[115,109,129,127,-137,317,-140,-129,-174,264,-145,-147,-113,-173,-143,184,-146,-95,-101,250,728,-446,688,709,713,-413,729,666,7,-2,-13,-38,-134,-77,-164,241,-186,-188,-83,254,718,662,710,-467,755,649,690,-426,212,161,261,-118,193,208,216,-83,-42,-9,-15,-23]},\"selected\":[],\"column_names\":[\"x\",\"y\"],\"discrete_ranges\":{},\"doc\":null,\"id\":\"b7bd3137-05d6-4237-c245-add50c9fa275\"},\"id\":\"b7bd3137-05d6-4237-c245-add50c9fa275\"},{\"type\":\"Circle\",\"attributes\":{\"line_alpha\":{\"units\":\"data\",\"value\":1},\"x\":{\"units\":\"data\",\"field\":\"x\"},\"line_color\":{\"value\":\"red\"},\"fill_color\":{\"value\":\"red\"},\"size\":{\"units\":\"screen\",\"value\":10},\"fill_alpha\":{\"units\":\"data\",\"value\":0.2},\"tags\":[],\"y\":{\"units\":\"data\",\"field\":\"y\"},\"doc\":null,\"id\":\"1cb90469-891a-436f-c33e-54a1608bc414\"},\"id\":\"1cb90469-891a-436f-c33e-54a1608bc414\"},{\"type\":\"Circle\",\"attributes\":{\"line_alpha\":{\"units\":\"data\",\"value\":1},\"x\":{\"units\":\"data\",\"field\":\"x\"},\"line_color\":{\"value\":\"red\"},\"fill_color\":{\"value\":\"red\"},\"size\":{\"units\":\"screen\",\"value\":10},\"fill_alpha\":{\"units\":\"data\",\"value\":0.2},\"tags\":[],\"y\":{\"units\":\"data\",\"field\":\"y\"},\"doc\":null,\"id\":\"c30c2f78-d656-4eda-ce47-d0b4e5de692e\"},\"id\":\"c30c2f78-d656-4eda-ce47-d0b4e5de692e\"},{\"type\":\"GlyphRenderer\",\"attributes\":{\"tags\":[],\"glyph\":{\"type\":\"Circle\",\"id\":\"1cb90469-891a-436f-c33e-54a1608bc414\"},\"data_source\":{\"type\":\"ColumnDataSource\",\"id\":\"b7bd3137-05d6-4237-c245-add50c9fa275\"},\"nonselection_glyph\":{\"type\":\"Circle\",\"id\":\"c30c2f78-d656-4eda-ce47-d0b4e5de692e\"},\"name\":null,\"selection_glyph\":null,\"server_data_source\":null,\"doc\":null,\"id\":\"8d8759b9-f83c-443c-c4d2-66de9a09c17c\"},\"id\":\"8d8759b9-f83c-443c-c4d2-66de9a09c17c\"},{\"type\":\"DataRange1d\",\"attributes\":{\"tags\":[],\"sources\":[{\"source\":{\"type\":\"ColumnDataSource\",\"id\":\"b7bd3137-05d6-4237-c245-add50c9fa275\"},\"columns\":[\"x\"]}],\"doc\":null,\"id\":\"fa5aba2a-e04f-4d26-cde8-0597f1d49136\"},\"id\":\"fa5aba2a-e04f-4d26-cde8-0597f1d49136\"},{\"type\":\"DataRange1d\",\"attributes\":{\"tags\":[],\"sources\":[{\"source\":{\"type\":\"ColumnDataSource\",\"id\":\"b7bd3137-05d6-4237-c245-add50c9fa275\"},\"columns\":[\"y\"]}],\"doc\":null,\"id\":\"0795a427-114e-435e-c308-c11046c55f4d\"},\"id\":\"0795a427-114e-435e-c308-c11046c55f4d\"},{\"type\":\"ToolEvents\",\"attributes\":{\"tags\":[],\"geometries\":[],\"doc\":null,\"id\":\"5af79fb2-5827-4490-c4b0-ce75bc295303\"},\"id\":\"5af79fb2-5827-4490-c4b0-ce75bc295303\"},{\"type\":\"BasicTickFormatter\",\"attributes\":{\"tags\":[],\"doc\":null,\"id\":\"70ceee90-9193-4cba-cc82-71798b9526b9\"},\"id\":\"70ceee90-9193-4cba-cc82-71798b9526b9\"},{\"type\":\"BasicTicker\",\"attributes\":{\"tags\":[],\"num_minor_ticks\":5,\"doc\":null,\"id\":\"86589608-e8c1-4268-c229-b108b12b40f2\"},\"id\":\"86589608-e8c1-4268-c229-b108b12b40f2\"},{\"type\":\"LinearAxis\",\"attributes\":{\"tags\":[],\"axis_label\":null,\"ticker\":{\"type\":\"BasicTicker\",\"id\":\"86589608-e8c1-4268-c229-b108b12b40f2\"},\"formatter\":{\"type\":\"BasicTickFormatter\",\"id\":\"70ceee90-9193-4cba-cc82-71798b9526b9\"},\"plot\":{\"type\":\"Plot\",\"subtype\":\"Figure\",\"id\":\"543c73ae-4225-4499-c412-e13337bbc9f5\"},\"doc\":null,\"id\":\"bed14955-a7d5-4c70-cc0f-62a48435bcb0\"},\"id\":\"bed14955-a7d5-4c70-cc0f-62a48435bcb0\"},{\"type\":\"Grid\",\"attributes\":{\"tags\":[],\"dimension\":0,\"ticker\":{\"type\":\"BasicTicker\",\"id\":\"86589608-e8c1-4268-c229-b108b12b40f2\"},\"plot\":{\"type\":\"Plot\",\"subtype\":\"Figure\",\"id\":\"543c73ae-4225-4499-c412-e13337bbc9f5\"},\"doc\":null,\"id\":\"835d801f-6ad0-478a-c7bb-a18c82b483b8\"},\"id\":\"835d801f-6ad0-478a-c7bb-a18c82b483b8\"},{\"type\":\"BasicTickFormatter\",\"attributes\":{\"tags\":[],\"doc\":null,\"id\":\"f9b4f261-a12f-4d4d-cdb3-d97dcc2d733b\"},\"id\":\"f9b4f261-a12f-4d4d-cdb3-d97dcc2d733b\"},{\"type\":\"BasicTicker\",\"attributes\":{\"tags\":[],\"num_minor_ticks\":5,\"doc\":null,\"id\":\"0687df56-75ac-4098-c0d2-6c0dd823ecdb\"},\"id\":\"0687df56-75ac-4098-c0d2-6c0dd823ecdb\"},{\"type\":\"LinearAxis\",\"attributes\":{\"tags\":[],\"axis_label\":null,\"ticker\":{\"type\":\"BasicTicker\",\"id\":\"0687df56-75ac-4098-c0d2-6c0dd823ecdb\"},\"formatter\":{\"type\":\"BasicTickFormatter\",\"id\":\"f9b4f261-a12f-4d4d-cdb3-d97dcc2d733b\"},\"plot\":{\"type\":\"Plot\",\"subtype\":\"Figure\",\"id\":\"543c73ae-4225-4499-c412-e13337bbc9f5\"},\"doc\":null,\"id\":\"d105f946-bc19-44c8-c4cc-9a048ca0074f\"},\"id\":\"d105f946-bc19-44c8-c4cc-9a048ca0074f\"},{\"type\":\"Grid\",\"attributes\":{\"tags\":[],\"dimension\":1,\"ticker\":{\"type\":\"BasicTicker\",\"id\":\"0687df56-75ac-4098-c0d2-6c0dd823ecdb\"},\"plot\":{\"type\":\"Plot\",\"subtype\":\"Figure\",\"id\":\"543c73ae-4225-4499-c412-e13337bbc9f5\"},\"doc\":null,\"id\":\"9352a6d0-bcbc-4f21-cf50-001a91e2369d\"},\"id\":\"9352a6d0-bcbc-4f21-cf50-001a91e2369d\"},{\"type\":\"PanTool\",\"attributes\":{\"tags\":[],\"dimensions\":[\"width\",\"height\"],\"plot\":{\"type\":\"Plot\",\"subtype\":\"Figure\",\"id\":\"543c73ae-4225-4499-c412-e13337bbc9f5\"},\"doc\":null,\"id\":\"3de01660-97cd-43a5-c310-fb97f654dd40\"},\"id\":\"3de01660-97cd-43a5-c310-fb97f654dd40\"},{\"type\":\"WheelZoomTool\",\"attributes\":{\"tags\":[],\"dimensions\":[\"width\",\"height\"],\"plot\":{\"type\":\"Plot\",\"subtype\":\"Figure\",\"id\":\"543c73ae-4225-4499-c412-e13337bbc9f5\"},\"doc\":null,\"id\":\"7928deb6-0a12-4a2f-ca3c-ae31a6584551\"},\"id\":\"7928deb6-0a12-4a2f-ca3c-ae31a6584551\"},{\"type\":\"BoxZoomTool\",\"attributes\":{\"tags\":[],\"plot\":{\"type\":\"Plot\",\"subtype\":\"Figure\",\"id\":\"543c73ae-4225-4499-c412-e13337bbc9f5\"},\"doc\":null,\"id\":\"05fa3aa9-38ed-4fc9-cfa6-622ebd418806\"},\"id\":\"05fa3aa9-38ed-4fc9-cfa6-622ebd418806\"},{\"type\":\"PreviewSaveTool\",\"attributes\":{\"tags\":[],\"plot\":{\"type\":\"Plot\",\"subtype\":\"Figure\",\"id\":\"543c73ae-4225-4499-c412-e13337bbc9f5\"},\"doc\":null,\"id\":\"487beff7-96e2-48de-c831-4f3982d1388b\"},\"id\":\"487beff7-96e2-48de-c831-4f3982d1388b\"},{\"type\":\"ResizeTool\",\"attributes\":{\"tags\":[],\"plot\":{\"type\":\"Plot\",\"subtype\":\"Figure\",\"id\":\"543c73ae-4225-4499-c412-e13337bbc9f5\"},\"doc\":null,\"id\":\"312ea5e4-7e47-435a-c3b1-150b5c3e4b92\"},\"id\":\"312ea5e4-7e47-435a-c3b1-150b5c3e4b92\"},{\"type\":\"ResetTool\",\"attributes\":{\"tags\":[],\"plot\":{\"type\":\"Plot\",\"subtype\":\"Figure\",\"id\":\"543c73ae-4225-4499-c412-e13337bbc9f5\"},\"doc\":null,\"id\":\"6259dd4a-eb52-4fa9-cfef-84cbcf4e9352\"},\"id\":\"6259dd4a-eb52-4fa9-cfef-84cbcf4e9352\"},{\"type\":\"Legend\",\"attributes\":{\"tags\":[],\"legends\":[[\"unnamed\",[{\"type\":\"GlyphRenderer\",\"id\":\"8d8759b9-f83c-443c-c4d2-66de9a09c17c\"}]]],\"plot\":{\"type\":\"Plot\",\"subtype\":\"Figure\",\"id\":\"543c73ae-4225-4499-c412-e13337bbc9f5\"},\"doc\":null,\"id\":\"190fb031-6e84-428b-c29c-01fb86a4a030\"},\"id\":\"190fb031-6e84-428b-c29c-01fb86a4a030\"},{\"type\":\"Plot\",\"attributes\":{\"right\":[],\"extra_y_ranges\":{},\"above\":[],\"title\":\"Player 2 pot distribution, 10000 games, each possible card dealt\",\"tools\":[{\"type\":\"PanTool\",\"id\":\"3de01660-97cd-43a5-c310-fb97f654dd40\"},{\"type\":\"WheelZoomTool\",\"id\":\"7928deb6-0a12-4a2f-ca3c-ae31a6584551\"},{\"type\":\"BoxZoomTool\",\"id\":\"05fa3aa9-38ed-4fc9-cfa6-622ebd418806\"},{\"type\":\"PreviewSaveTool\",\"id\":\"487beff7-96e2-48de-c831-4f3982d1388b\"},{\"type\":\"ResizeTool\",\"id\":\"312ea5e4-7e47-435a-c3b1-150b5c3e4b92\"},{\"type\":\"ResetTool\",\"id\":\"6259dd4a-eb52-4fa9-cfef-84cbcf4e9352\"}],\"renderers\":[{\"type\":\"GlyphRenderer\",\"id\":\"8d8759b9-f83c-443c-c4d2-66de9a09c17c\"},{\"type\":\"LinearAxis\",\"id\":\"bed14955-a7d5-4c70-cc0f-62a48435bcb0\"},{\"type\":\"Grid\",\"id\":\"835d801f-6ad0-478a-c7bb-a18c82b483b8\"},{\"type\":\"LinearAxis\",\"id\":\"d105f946-bc19-44c8-c4cc-9a048ca0074f\"},{\"type\":\"Grid\",\"id\":\"9352a6d0-bcbc-4f21-cf50-001a91e2369d\"},{\"type\":\"Legend\",\"id\":\"190fb031-6e84-428b-c29c-01fb86a4a030\"}],\"left\":[{\"type\":\"LinearAxis\",\"id\":\"d105f946-bc19-44c8-c4cc-9a048ca0074f\"}],\"tool_events\":{\"type\":\"ToolEvents\",\"id\":\"5af79fb2-5827-4490-c4b0-ce75bc295303\"},\"extra_x_ranges\":{},\"below\":[{\"type\":\"LinearAxis\",\"id\":\"bed14955-a7d5-4c70-cc0f-62a48435bcb0\"}],\"tags\":[],\"x_range\":{\"type\":\"DataRange1d\",\"id\":\"fa5aba2a-e04f-4d26-cde8-0597f1d49136\"},\"y_range\":{\"type\":\"DataRange1d\",\"id\":\"0795a427-114e-435e-c308-c11046c55f4d\"},\"doc\":null,\"id\":\"543c73ae-4225-4499-c412-e13337bbc9f5\"},\"id\":\"543c73ae-4225-4499-c412-e13337bbc9f5\"}];\n",
       "  Bokeh.load_models(all_models);\n",
       "  var model = Bokeh.Collections(modeltype).get(modelid);\n",
       "  $(\"#492b71ed-2465-4f32-cfcd-ded354929a15\").html(''); // clear any previous plot in window_id\n",
       "  var view = new model.default_view({model: model, el: \"#492b71ed-2465-4f32-cfcd-ded354929a15\"});\n",
       "    } else {\n",
       "  load_lib(bokehjs_url, function() {\n",
       "      console.log(\"Bokeh: BokehJS plotting callback run at\", new Date())\n",
       "      var modelid = \"543c73ae-4225-4499-c412-e13337bbc9f5\";\n",
       "      var modeltype = \"Plot\";\n",
       "      var all_models = [{\"type\":\"ColumnDataSource\",\"attributes\":{\"tags\":[],\"cont_ranges\":{},\"data\":{\"x\":[1,2,3,4,5,6,7,8,9,10,11,12,13,14,15,16,17,18,19,20,21,22,23,24,25,26,27,28,29,30,31,32,33,34,35,36,37,38,39,40,41,42,43,44,45,46,47,48,49,50,51,52,53,54,55,56,57,58,59,60],\"y\":[115,109,129,127,-137,317,-140,-129,-174,264,-145,-147,-113,-173,-143,184,-146,-95,-101,250,728,-446,688,709,713,-413,729,666,7,-2,-13,-38,-134,-77,-164,241,-186,-188,-83,254,718,662,710,-467,755,649,690,-426,212,161,261,-118,193,208,216,-83,-42,-9,-15,-23]},\"selected\":[],\"column_names\":[\"x\",\"y\"],\"discrete_ranges\":{},\"doc\":null,\"id\":\"b7bd3137-05d6-4237-c245-add50c9fa275\"},\"id\":\"b7bd3137-05d6-4237-c245-add50c9fa275\"},{\"type\":\"Circle\",\"attributes\":{\"line_alpha\":{\"units\":\"data\",\"value\":1},\"x\":{\"units\":\"data\",\"field\":\"x\"},\"line_color\":{\"value\":\"red\"},\"fill_color\":{\"value\":\"red\"},\"size\":{\"units\":\"screen\",\"value\":10},\"fill_alpha\":{\"units\":\"data\",\"value\":0.2},\"tags\":[],\"y\":{\"units\":\"data\",\"field\":\"y\"},\"doc\":null,\"id\":\"1cb90469-891a-436f-c33e-54a1608bc414\"},\"id\":\"1cb90469-891a-436f-c33e-54a1608bc414\"},{\"type\":\"Circle\",\"attributes\":{\"line_alpha\":{\"units\":\"data\",\"value\":1},\"x\":{\"units\":\"data\",\"field\":\"x\"},\"line_color\":{\"value\":\"red\"},\"fill_color\":{\"value\":\"red\"},\"size\":{\"units\":\"screen\",\"value\":10},\"fill_alpha\":{\"units\":\"data\",\"value\":0.2},\"tags\":[],\"y\":{\"units\":\"data\",\"field\":\"y\"},\"doc\":null,\"id\":\"c30c2f78-d656-4eda-ce47-d0b4e5de692e\"},\"id\":\"c30c2f78-d656-4eda-ce47-d0b4e5de692e\"},{\"type\":\"GlyphRenderer\",\"attributes\":{\"tags\":[],\"glyph\":{\"type\":\"Circle\",\"id\":\"1cb90469-891a-436f-c33e-54a1608bc414\"},\"data_source\":{\"type\":\"ColumnDataSource\",\"id\":\"b7bd3137-05d6-4237-c245-add50c9fa275\"},\"nonselection_glyph\":{\"type\":\"Circle\",\"id\":\"c30c2f78-d656-4eda-ce47-d0b4e5de692e\"},\"name\":null,\"selection_glyph\":null,\"server_data_source\":null,\"doc\":null,\"id\":\"8d8759b9-f83c-443c-c4d2-66de9a09c17c\"},\"id\":\"8d8759b9-f83c-443c-c4d2-66de9a09c17c\"},{\"type\":\"DataRange1d\",\"attributes\":{\"tags\":[],\"sources\":[{\"source\":{\"type\":\"ColumnDataSource\",\"id\":\"b7bd3137-05d6-4237-c245-add50c9fa275\"},\"columns\":[\"x\"]}],\"doc\":null,\"id\":\"fa5aba2a-e04f-4d26-cde8-0597f1d49136\"},\"id\":\"fa5aba2a-e04f-4d26-cde8-0597f1d49136\"},{\"type\":\"DataRange1d\",\"attributes\":{\"tags\":[],\"sources\":[{\"source\":{\"type\":\"ColumnDataSource\",\"id\":\"b7bd3137-05d6-4237-c245-add50c9fa275\"},\"columns\":[\"y\"]}],\"doc\":null,\"id\":\"0795a427-114e-435e-c308-c11046c55f4d\"},\"id\":\"0795a427-114e-435e-c308-c11046c55f4d\"},{\"type\":\"ToolEvents\",\"attributes\":{\"tags\":[],\"geometries\":[],\"doc\":null,\"id\":\"5af79fb2-5827-4490-c4b0-ce75bc295303\"},\"id\":\"5af79fb2-5827-4490-c4b0-ce75bc295303\"},{\"type\":\"BasicTickFormatter\",\"attributes\":{\"tags\":[],\"doc\":null,\"id\":\"70ceee90-9193-4cba-cc82-71798b9526b9\"},\"id\":\"70ceee90-9193-4cba-cc82-71798b9526b9\"},{\"type\":\"BasicTicker\",\"attributes\":{\"tags\":[],\"num_minor_ticks\":5,\"doc\":null,\"id\":\"86589608-e8c1-4268-c229-b108b12b40f2\"},\"id\":\"86589608-e8c1-4268-c229-b108b12b40f2\"},{\"type\":\"LinearAxis\",\"attributes\":{\"tags\":[],\"axis_label\":null,\"ticker\":{\"type\":\"BasicTicker\",\"id\":\"86589608-e8c1-4268-c229-b108b12b40f2\"},\"formatter\":{\"type\":\"BasicTickFormatter\",\"id\":\"70ceee90-9193-4cba-cc82-71798b9526b9\"},\"plot\":{\"type\":\"Plot\",\"subtype\":\"Figure\",\"id\":\"543c73ae-4225-4499-c412-e13337bbc9f5\"},\"doc\":null,\"id\":\"bed14955-a7d5-4c70-cc0f-62a48435bcb0\"},\"id\":\"bed14955-a7d5-4c70-cc0f-62a48435bcb0\"},{\"type\":\"Grid\",\"attributes\":{\"tags\":[],\"dimension\":0,\"ticker\":{\"type\":\"BasicTicker\",\"id\":\"86589608-e8c1-4268-c229-b108b12b40f2\"},\"plot\":{\"type\":\"Plot\",\"subtype\":\"Figure\",\"id\":\"543c73ae-4225-4499-c412-e13337bbc9f5\"},\"doc\":null,\"id\":\"835d801f-6ad0-478a-c7bb-a18c82b483b8\"},\"id\":\"835d801f-6ad0-478a-c7bb-a18c82b483b8\"},{\"type\":\"BasicTickFormatter\",\"attributes\":{\"tags\":[],\"doc\":null,\"id\":\"f9b4f261-a12f-4d4d-cdb3-d97dcc2d733b\"},\"id\":\"f9b4f261-a12f-4d4d-cdb3-d97dcc2d733b\"},{\"type\":\"BasicTicker\",\"attributes\":{\"tags\":[],\"num_minor_ticks\":5,\"doc\":null,\"id\":\"0687df56-75ac-4098-c0d2-6c0dd823ecdb\"},\"id\":\"0687df56-75ac-4098-c0d2-6c0dd823ecdb\"},{\"type\":\"LinearAxis\",\"attributes\":{\"tags\":[],\"axis_label\":null,\"ticker\":{\"type\":\"BasicTicker\",\"id\":\"0687df56-75ac-4098-c0d2-6c0dd823ecdb\"},\"formatter\":{\"type\":\"BasicTickFormatter\",\"id\":\"f9b4f261-a12f-4d4d-cdb3-d97dcc2d733b\"},\"plot\":{\"type\":\"Plot\",\"subtype\":\"Figure\",\"id\":\"543c73ae-4225-4499-c412-e13337bbc9f5\"},\"doc\":null,\"id\":\"d105f946-bc19-44c8-c4cc-9a048ca0074f\"},\"id\":\"d105f946-bc19-44c8-c4cc-9a048ca0074f\"},{\"type\":\"Grid\",\"attributes\":{\"tags\":[],\"dimension\":1,\"ticker\":{\"type\":\"BasicTicker\",\"id\":\"0687df56-75ac-4098-c0d2-6c0dd823ecdb\"},\"plot\":{\"type\":\"Plot\",\"subtype\":\"Figure\",\"id\":\"543c73ae-4225-4499-c412-e13337bbc9f5\"},\"doc\":null,\"id\":\"9352a6d0-bcbc-4f21-cf50-001a91e2369d\"},\"id\":\"9352a6d0-bcbc-4f21-cf50-001a91e2369d\"},{\"type\":\"PanTool\",\"attributes\":{\"tags\":[],\"dimensions\":[\"width\",\"height\"],\"plot\":{\"type\":\"Plot\",\"subtype\":\"Figure\",\"id\":\"543c73ae-4225-4499-c412-e13337bbc9f5\"},\"doc\":null,\"id\":\"3de01660-97cd-43a5-c310-fb97f654dd40\"},\"id\":\"3de01660-97cd-43a5-c310-fb97f654dd40\"},{\"type\":\"WheelZoomTool\",\"attributes\":{\"tags\":[],\"dimensions\":[\"width\",\"height\"],\"plot\":{\"type\":\"Plot\",\"subtype\":\"Figure\",\"id\":\"543c73ae-4225-4499-c412-e13337bbc9f5\"},\"doc\":null,\"id\":\"7928deb6-0a12-4a2f-ca3c-ae31a6584551\"},\"id\":\"7928deb6-0a12-4a2f-ca3c-ae31a6584551\"},{\"type\":\"BoxZoomTool\",\"attributes\":{\"tags\":[],\"plot\":{\"type\":\"Plot\",\"subtype\":\"Figure\",\"id\":\"543c73ae-4225-4499-c412-e13337bbc9f5\"},\"doc\":null,\"id\":\"05fa3aa9-38ed-4fc9-cfa6-622ebd418806\"},\"id\":\"05fa3aa9-38ed-4fc9-cfa6-622ebd418806\"},{\"type\":\"PreviewSaveTool\",\"attributes\":{\"tags\":[],\"plot\":{\"type\":\"Plot\",\"subtype\":\"Figure\",\"id\":\"543c73ae-4225-4499-c412-e13337bbc9f5\"},\"doc\":null,\"id\":\"487beff7-96e2-48de-c831-4f3982d1388b\"},\"id\":\"487beff7-96e2-48de-c831-4f3982d1388b\"},{\"type\":\"ResizeTool\",\"attributes\":{\"tags\":[],\"plot\":{\"type\":\"Plot\",\"subtype\":\"Figure\",\"id\":\"543c73ae-4225-4499-c412-e13337bbc9f5\"},\"doc\":null,\"id\":\"312ea5e4-7e47-435a-c3b1-150b5c3e4b92\"},\"id\":\"312ea5e4-7e47-435a-c3b1-150b5c3e4b92\"},{\"type\":\"ResetTool\",\"attributes\":{\"tags\":[],\"plot\":{\"type\":\"Plot\",\"subtype\":\"Figure\",\"id\":\"543c73ae-4225-4499-c412-e13337bbc9f5\"},\"doc\":null,\"id\":\"6259dd4a-eb52-4fa9-cfef-84cbcf4e9352\"},\"id\":\"6259dd4a-eb52-4fa9-cfef-84cbcf4e9352\"},{\"type\":\"Legend\",\"attributes\":{\"tags\":[],\"legends\":[[\"unnamed\",[{\"type\":\"GlyphRenderer\",\"id\":\"8d8759b9-f83c-443c-c4d2-66de9a09c17c\"}]]],\"plot\":{\"type\":\"Plot\",\"subtype\":\"Figure\",\"id\":\"543c73ae-4225-4499-c412-e13337bbc9f5\"},\"doc\":null,\"id\":\"190fb031-6e84-428b-c29c-01fb86a4a030\"},\"id\":\"190fb031-6e84-428b-c29c-01fb86a4a030\"},{\"type\":\"Plot\",\"attributes\":{\"right\":[],\"extra_y_ranges\":{},\"above\":[],\"title\":\"Player 2 pot distribution, 10000 games, each possible card dealt\",\"tools\":[{\"type\":\"PanTool\",\"id\":\"3de01660-97cd-43a5-c310-fb97f654dd40\"},{\"type\":\"WheelZoomTool\",\"id\":\"7928deb6-0a12-4a2f-ca3c-ae31a6584551\"},{\"type\":\"BoxZoomTool\",\"id\":\"05fa3aa9-38ed-4fc9-cfa6-622ebd418806\"},{\"type\":\"PreviewSaveTool\",\"id\":\"487beff7-96e2-48de-c831-4f3982d1388b\"},{\"type\":\"ResizeTool\",\"id\":\"312ea5e4-7e47-435a-c3b1-150b5c3e4b92\"},{\"type\":\"ResetTool\",\"id\":\"6259dd4a-eb52-4fa9-cfef-84cbcf4e9352\"}],\"renderers\":[{\"type\":\"GlyphRenderer\",\"id\":\"8d8759b9-f83c-443c-c4d2-66de9a09c17c\"},{\"type\":\"LinearAxis\",\"id\":\"bed14955-a7d5-4c70-cc0f-62a48435bcb0\"},{\"type\":\"Grid\",\"id\":\"835d801f-6ad0-478a-c7bb-a18c82b483b8\"},{\"type\":\"LinearAxis\",\"id\":\"d105f946-bc19-44c8-c4cc-9a048ca0074f\"},{\"type\":\"Grid\",\"id\":\"9352a6d0-bcbc-4f21-cf50-001a91e2369d\"},{\"type\":\"Legend\",\"id\":\"190fb031-6e84-428b-c29c-01fb86a4a030\"}],\"left\":[{\"type\":\"LinearAxis\",\"id\":\"d105f946-bc19-44c8-c4cc-9a048ca0074f\"}],\"tool_events\":{\"type\":\"ToolEvents\",\"id\":\"5af79fb2-5827-4490-c4b0-ce75bc295303\"},\"extra_x_ranges\":{},\"below\":[{\"type\":\"LinearAxis\",\"id\":\"bed14955-a7d5-4c70-cc0f-62a48435bcb0\"}],\"tags\":[],\"x_range\":{\"type\":\"DataRange1d\",\"id\":\"fa5aba2a-e04f-4d26-cde8-0597f1d49136\"},\"y_range\":{\"type\":\"DataRange1d\",\"id\":\"0795a427-114e-435e-c308-c11046c55f4d\"},\"doc\":null,\"id\":\"543c73ae-4225-4499-c412-e13337bbc9f5\"},\"id\":\"543c73ae-4225-4499-c412-e13337bbc9f5\"}];\n",
       "      Bokeh.load_models(all_models);\n",
       "      var model = Bokeh.Collections(modeltype).get(modelid);\n",
       "      $(\"#492b71ed-2465-4f32-cfcd-ded354929a15\").html(''); // clear any previous plot in window_id\n",
       "      var view = new model.default_view({model: model, el: \"#492b71ed-2465-4f32-cfcd-ded354929a15\"});\n",
       "  });\n",
       "    }\n",
       "});\n",
       "</script>\n",
       "<div class=\"plotdiv\" id=\"492b71ed-2465-4f32-cfcd-ded354929a15\"></div>\n"
      ]
     },
     "metadata": {},
     "output_type": "display_data"
    }
   ],
   "source": [
    "plot = Plot():circle(torch.range(1,avg_per_hand:size(1)),avg_per_hand:view(-1))\n",
    "plot:legend(true):title('Player 2 pot distribution, 10000 games, each possible card dealt'):draw()\n"
   ]
  },
  {
   "cell_type": "code",
   "execution_count": null,
   "metadata": {
    "collapsed": true
   },
   "outputs": [],
   "source": []
  },
  {
   "cell_type": "code",
   "execution_count": null,
   "metadata": {
    "collapsed": true
   },
   "outputs": [],
   "source": []
  },
  {
   "cell_type": "code",
   "execution_count": null,
   "metadata": {
    "collapsed": true
   },
   "outputs": [],
   "source": []
  },
  {
   "cell_type": "code",
   "execution_count": null,
   "metadata": {
    "collapsed": true
   },
   "outputs": [],
   "source": [
    "cards = {}\n",
    "cards.P1 = 1\n",
    "cards.P2 = 2\n",
    "cards.board = 4\n",
    "number_of_games = 100"
   ]
  },
  {
   "cell_type": "code",
   "execution_count": null,
   "metadata": {
    "collapsed": true
   },
   "outputs": [],
   "source": [
    "tree_eval.A2_pot_tensor"
   ]
  },
  {
   "cell_type": "code",
   "execution_count": null,
   "metadata": {
    "collapsed": true
   },
   "outputs": [],
   "source": [
    "print(tree_eval.A2_pot_tensor:mean())\n",
    "print(tree_eval.A2_pot_tensor:std())"
   ]
  },
  {
   "cell_type": "code",
   "execution_count": null,
   "metadata": {
    "collapsed": true
   },
   "outputs": [],
   "source": [
    "tree_eval:display_results()"
   ]
  },
  {
   "cell_type": "code",
   "execution_count": null,
   "metadata": {
    "collapsed": true
   },
   "outputs": [],
   "source": [
    "local pot_table = {}\n",
    "local size_sample = 50\n",
    "for i = 1,50 do\n",
    "    tree_eval:play_several_games(tree1,tree2,size_sample)\n",
    "    table.insert(pot_table,tree_eval.A2_pot/size_sample)\n",
    "end\n",
    "print(\"player_2 won: \",torch.FloatTensor(pot_table):mean())"
   ]
  },
  {
   "cell_type": "code",
   "execution_count": null,
   "metadata": {
    "collapsed": true
   },
   "outputs": [],
   "source": [
    "pot_table_A2 = {}\n",
    "local number_of_games = 1000\n",
    "local cards_tensor = construct_possible_game_states()\n",
    "for i = 1,cards_tensor:size(1) do\n",
    "    local cards = distribute_cards(cards_tensor[i])\n",
    "    tree_eval:play_deterministic_games(tree1,tree2,number_of_games,cards)\n",
    "    table.insert(pot_table_A2,tree_eval.A2_pot)\n",
    "end\n",
    "print(\"player_2 won: \",torch.FloatTensor(pot_table_A2):mean())\n",
    "print(\"player_2 std: \",torch.FloatTensor(pot_table_A2):std())\n",
    "tree_eval:display_results()"
   ]
  },
  {
   "cell_type": "code",
   "execution_count": null,
   "metadata": {
    "collapsed": true
   },
   "outputs": [],
   "source": [
    "torch.sqrt(60)*(1803/150716)"
   ]
  },
  {
   "cell_type": "code",
   "execution_count": null,
   "metadata": {
    "collapsed": true
   },
   "outputs": [],
   "source": [
    "plot = Plot():histogram(torch.FloatTensor(pot_table_A2)):draw()"
   ]
  },
  {
   "cell_type": "code",
   "execution_count": null,
   "metadata": {
    "collapsed": true
   },
   "outputs": [],
   "source": []
  },
  {
   "cell_type": "code",
   "execution_count": null,
   "metadata": {
    "collapsed": true
   },
   "outputs": [],
   "source": [
    "pot_table1 = {}\n",
    "local number_of_games = 10\n",
    "local cards_tensor = construct_possible_game_states()\n",
    "for i = 1,cards_tensor:size(1) do\n",
    "    for j = 1,number_of_games do\n",
    "        local cards = distribute_cards(cards_tensor[i])\n",
    "        tree_eval:play_deterministic_games(tree1,tree2,number_of_plays,cards)\n",
    "        table.insert(pot_table1,tree_eval.A2_pot)\n",
    "    end\n",
    "end\n",
    "print(\"player_2 won: \",torch.FloatTensor(pot_table1):mean())\n",
    "print(\"player_2 std: \",torch.FloatTensor(pot_table1):std())"
   ]
  },
  {
   "cell_type": "code",
   "execution_count": null,
   "metadata": {
    "collapsed": true
   },
   "outputs": [],
   "source": [
    "pot_table1 = {}\n",
    "local number_of_games = 20\n",
    "local cards_tensor = construct_possible_game_states()\n",
    "for i = 1,cards_tensor:size(1) do\n",
    "    for j = 1,number_of_games do\n",
    "        local cards = distribute_cards(cards_tensor[i])\n",
    "        tree_eval:play_deterministic_games(tree1,tree2,number_of_plays,cards)\n",
    "        table.insert(pot_table1,tree_eval.A2_pot)\n",
    "    end\n",
    "end\n",
    "print(\"player_2 won: \",torch.FloatTensor(pot_table1):mean())\n",
    "print(\"player_2 std: \",torch.FloatTensor(pot_table1):std())"
   ]
  },
  {
   "cell_type": "code",
   "execution_count": null,
   "metadata": {
    "collapsed": true
   },
   "outputs": [],
   "source": [
    "pot_table1 = {}\n",
    "local number_of_games = 50\n",
    "local cards_tensor = construct_possible_game_states()\n",
    "for i = 1,cards_tensor:size(1) do\n",
    "    for j = 1,number_of_games do\n",
    "        local cards = distribute_cards(cards_tensor[i])\n",
    "        tree_eval:play_deterministic_games(tree1,tree2,number_of_plays,cards)   --- --> CHECK NUMBER OF GAMES!\n",
    "        table.insert(pot_table1,tree_eval.A2_pot)\n",
    "    end\n",
    "end\n",
    "print(\"player_2 won: \",torch.FloatTensor(pot_table1):mean())\n",
    "print(\"player_2 std: \",torch.FloatTensor(pot_table1):std())"
   ]
  },
  {
   "cell_type": "code",
   "execution_count": null,
   "metadata": {
    "collapsed": true
   },
   "outputs": [],
   "source": [
    " cardsInv = {}\n",
    "cardsInv.P1 = cards.P2\n",
    "cardsInv.P2 = cards.P1\n",
    "cardsInv.board = cards.board"
   ]
  },
  {
   "cell_type": "code",
   "execution_count": null,
   "metadata": {
    "collapsed": true
   },
   "outputs": [],
   "source": [
    "pot_table2 = {}\n",
    "local size_sample = 100\n",
    "for i = 1,20 do\n",
    "    tree_eval:play_deterministic_games(tree1,tree2,size_sample,cardsInv)\n",
    "    table.insert(pot_table2,tree_eval.A2_pot/size_sample)\n",
    "end\n",
    "print(\"player_2 won: \",torch.FloatTensor(pot_table2):mean())\n",
    "print(\"player_2 std: \",torch.FloatTensor(pot_table2):std())"
   ]
  },
  {
   "cell_type": "code",
   "execution_count": null,
   "metadata": {
    "collapsed": true
   },
   "outputs": [],
   "source": [
    "---plot = Plot():histogram(torch.FloatTensor(pot_table1)):draw()"
   ]
  },
  {
   "cell_type": "code",
   "execution_count": null,
   "metadata": {
    "collapsed": true
   },
   "outputs": [],
   "source": [
    "---plot = Plot():histogram(torch.FloatTensor(pot_table2)):draw()"
   ]
  },
  {
   "cell_type": "code",
   "execution_count": null,
   "metadata": {
    "collapsed": true
   },
   "outputs": [],
   "source": [
    "x[1]"
   ]
  },
  {
   "cell_type": "code",
   "execution_count": null,
   "metadata": {
    "collapsed": true
   },
   "outputs": [],
   "source": []
  },
  {
   "cell_type": "code",
   "execution_count": null,
   "metadata": {
    "collapsed": true
   },
   "outputs": [],
   "source": []
  }
 ],
 "metadata": {
  "kernelspec": {
   "display_name": "iTorch",
   "language": "lua",
   "name": "itorch"
  },
  "language_info": {
   "name": "lua",
   "version": "5.2"
  }
 },
 "nbformat": 4,
 "nbformat_minor": 2
}
