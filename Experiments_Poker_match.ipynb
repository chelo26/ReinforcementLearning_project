{
 "cells": [
  {
   "cell_type": "code",
   "execution_count": 1,
   "metadata": {
    "collapsed": true
   },
   "outputs": [],
   "source": [
    "--- Libraries:\n",
    "arguments = require 'Settings.arguments'\n",
    "constants = require 'Settings.constants'\n",
    "card_to_string = require 'Game.card_to_string_conversion'\n",
    "card_tools = require 'Game.card_tools'\n",
    "game_settings = require 'Settings.game_settings'\n",
    "Plot = require 'itorch.Plot'\n",
    "nninit = require 'nninit'\n",
    "require 'torch'\n",
    "require 'math'\n",
    "require 'Tree.tree_builder'\n",
    "require 'Tree.tree_data_generation'\n",
    "require 'Tree.tree_values'\n",
    "require 'Tree.tree_visualiser'\n",
    "require 'nn'\n",
    "require 'Tree.tree_cfr'\n",
    "require 'Tree.tree_cfr2'\n",
    "require 'nngraph'\n",
    "require 'optim'\n",
    "require 'image'\n",
    "require 'NN.strategy_net_builder'\n",
    "require 'NN.strategy_net_trainer'\n",
    "require 'Tree.tree_warm_start'\n",
    "---require 'Adversarials.exploitability'\n",
    "require 'Adversarials.exploitabilityVS'\n",
    "\n"
   ]
  },
  {
   "cell_type": "code",
   "execution_count": 2,
   "metadata": {
    "collapsed": true
   },
   "outputs": [],
   "source": [
    "function get_first_mask_tensor(index)\n",
    "    local output = torch.range(1,6)\n",
    "    if index ==1 then\n",
    "        return torch.range(2,6)\n",
    "    end\n",
    "    local out1 = output:clone():narrow(1,1,index-1)\n",
    "    local out2 = output:clone():narrow(1,index+1,6-index)\n",
    "    local result = out1:cat(out2)\n",
    "    return result\n",
    "end\n",
    "\n",
    "function get_second_mask_tensor(input_tensor,index)\n",
    "    local result = {}\n",
    "    local input = input_tensor:clone()\n",
    "    for i = 1,input:size(1) do\n",
    "        if input[i] ~= index then\n",
    "            table.insert(result,input[i])\n",
    "        end\n",
    "    end\n",
    "    return torch.Tensor(result)\n",
    "end\n",
    "\n",
    "\n",
    "function construct_possible_game_states()\n",
    "    local states_tensor = torch.Tensor()\n",
    "    local first_card_tensor = torch.Tensor({1,3,5})\n",
    "    for i = 1,first_card_tensor:size(1) do\n",
    "        local second_card_tensor = get_first_mask_tensor(first_card_tensor[i])\n",
    "        for j =1, second_card_tensor:size(1) do\n",
    "            local third_card_tensor = get_second_mask_tensor(second_card_tensor,second_card_tensor[j])\n",
    "            for k = 1,third_card_tensor:size(1) do\n",
    "                local states = torch.Tensor({first_card_tensor[i],second_card_tensor[j],third_card_tensor[k]}):view(1,3)\n",
    "                states_tensor = states_tensor:cat(states,1)\n",
    "            end\n",
    "        end\n",
    "    end\n",
    "    return states_tensor\n",
    "end\n",
    "\n",
    "function distribute_cards(cards_tensor)\n",
    "    local cards = {}\n",
    "    cards.P1 = cards_tensor[1]\n",
    "    cards.P2 = cards_tensor[2]\n",
    "    cards.board = cards_tensor[3]\n",
    "    return cards\n",
    "end"
   ]
  },
  {
   "cell_type": "code",
   "execution_count": 3,
   "metadata": {
    "collapsed": true
   },
   "outputs": [],
   "source": [
    "--- Important variables:\n",
    "pot = 200"
   ]
  },
  {
   "cell_type": "code",
   "execution_count": 4,
   "metadata": {
    "collapsed": true
   },
   "outputs": [],
   "source": [
    "--- Create the tree\n",
    "builder = PokerTreeBuilder()\n",
    "--- Parameters for the tree\n",
    "params = {}\n",
    "params.root_node = {}\n",
    "params.root_node.board = card_to_string:string_to_board('')\n",
    "params.root_node.street = 1\n",
    "params.root_node.current_player = constants.players.P1\n",
    "params.root_node.bets = arguments.Tensor{pot,pot}\n",
    "--- CFR Solver\n",
    "starting_ranges = arguments.Tensor(constants.players_count, game_settings.card_count)\n",
    "starting_ranges[1]:copy(card_tools:get_uniform_range(params.root_node.board))\n",
    "starting_ranges[2]:copy(card_tools:get_uniform_range(params.root_node.board))\n",
    "--- exploitability\n",
    "exploit = TreeValues()"
   ]
  },
  {
   "cell_type": "code",
   "execution_count": 5,
   "metadata": {
    "collapsed": true
   },
   "outputs": [],
   "source": [
    "--- Initialize trees\n",
    "tree_bench = builder:build_tree(params)\n",
    "tree_500 = builder:build_tree(params)\n",
    "tree_200 = builder:build_tree(params)\n",
    "\n"
   ]
  },
  {
   "cell_type": "code",
   "execution_count": 6,
   "metadata": {
    "collapsed": true
   },
   "outputs": [],
   "source": [
    "---visualiser = TreeVisualiser()\n",
    "---visualiser:graphviz(tree1, \"zero_blind\")"
   ]
  },
  {
   "cell_type": "code",
   "execution_count": 7,
   "metadata": {
    "collapsed": true
   },
   "outputs": [],
   "source": [
    "solver5 = TreeCFR2()\n",
    "solver5.cfr_skip = 20\n",
    "solver5:run_cfr(tree_500,starting_ranges,500)"
   ]
  },
  {
   "cell_type": "code",
   "execution_count": 8,
   "metadata": {
    "collapsed": true
   },
   "outputs": [],
   "source": [
    "solver2 = TreeCFR2()\n",
    "solver2.cfr_skip = 20\n",
    "solver2:run_cfr(tree_200,starting_ranges,50)"
   ]
  },
  {
   "cell_type": "code",
   "execution_count": null,
   "metadata": {},
   "outputs": [],
   "source": []
  },
  {
   "cell_type": "code",
   "execution_count": 9,
   "metadata": {},
   "outputs": [],
   "source": [
    "--- NNWarm Starting\n",
    "dataNN = TreeData(tree_200)\n",
    "dataNN:get_training_set(tree_200,1)\n",
    "\n",
    "dataNN5 = TreeData(tree_500)\n",
    "dataNN5:get_training_set(tree_500,1)\n",
    "\n"
   ]
  },
  {
   "cell_type": "code",
   "execution_count": 10,
   "metadata": {
    "collapsed": true
   },
   "outputs": [],
   "source": [
    "tree_eval_200 = StrategyEvaluator(tree_bench,tree_200)\n",
    "tree_eval_500 = StrategyEvaluator(tree_bench,tree_500)\n",
    "tree_eval = StrategyEvaluator(tree_200,tree_500)\n"
   ]
  },
  {
   "cell_type": "code",
   "execution_count": 24,
   "metadata": {},
   "outputs": [
    {
     "data": {
      "text/plain": [
       "ties: \t67\n",
       "P1 won: \t457\n",
       "P2 won: \t676\n"
      ]
     },
     "execution_count": 24,
     "metadata": {},
     "output_type": "execute_result"
    }
   ],
   "source": [
    "tree_eval_200:play_all_combinations_n_times(tree_bench,tree_200,20)\n",
    "tree_eval_200:display_results()"
   ]
  },
  {
   "cell_type": "code",
   "execution_count": 22,
   "metadata": {},
   "outputs": [
    {
     "data": {
      "text/plain": [
       "ties: \t61\n",
       "P1 won: \t440\n",
       "P2 won: \t699\n"
      ]
     },
     "execution_count": 22,
     "metadata": {},
     "output_type": "execute_result"
    }
   ],
   "source": [
    "tree_eval_500:play_all_combinations_n_times(tree_bench,tree_500,20)\n",
    "tree_eval_500:display_results()"
   ]
  },
  {
   "cell_type": "code",
   "execution_count": 23,
   "metadata": {},
   "outputs": [
    {
     "data": {
      "text/plain": [
       "ties: \t407\n",
       "P1 won: \t1253\n",
       "P2 won: \t1340\n"
      ]
     },
     "execution_count": 23,
     "metadata": {},
     "output_type": "execute_result"
    }
   ],
   "source": [
    "tree_eval:play_all_combinations_n_times(tree_200,tree_500,50)\n",
    "tree_eval:display_results()"
   ]
  },
  {
   "cell_type": "code",
   "execution_count": 49,
   "metadata": {},
   "outputs": [
    {
     "data": {
      "text/plain": [
       "iteration: \t1\n",
       "Total number of pots won : \t0.2\n"
      ]
     },
     "execution_count": 49,
     "metadata": {},
     "output_type": "execute_result"
    },
    {
     "data": {
      "text/plain": [
       "iteration: \t50\n",
       "Total number of pots won : \t0.0026666666666667\n"
      ]
     },
     "execution_count": 49,
     "metadata": {},
     "output_type": "execute_result"
    },
    {
     "data": {
      "text/plain": [
       "iteration: \t100\n",
       "Total number of pots won : \t0.0093333333333333\n"
      ]
     },
     "execution_count": 49,
     "metadata": {},
     "output_type": "execute_result"
    },
    {
     "data": {
      "text/plain": [
       "iteration: \t150\n",
       "Total number of pots won : \t0.0077777777777778\n"
      ]
     },
     "execution_count": 49,
     "metadata": {},
     "output_type": "execute_result"
    },
    {
     "data": {
      "text/plain": [
       "iteration: \t200\n",
       "Total number of pots won : \t0.020166666666667\n"
      ]
     },
     "execution_count": 49,
     "metadata": {},
     "output_type": "execute_result"
    },
    {
     "data": {
      "text/plain": [
       "iteration: \t250\n",
       "Total number of pots won : \t0.016133333333333\n"
      ]
     },
     "execution_count": 49,
     "metadata": {},
     "output_type": "execute_result"
    },
    {
     "data": {
      "text/plain": [
       "iteration: \t300\n",
       "Total number of pots won : \t0.013777777777778\n"
      ]
     },
     "execution_count": 49,
     "metadata": {},
     "output_type": "execute_result"
    },
    {
     "data": {
      "text/plain": [
       "iteration: \t350\n",
       "Total number of pots won : \t0.024619047619048\n"
      ]
     },
     "execution_count": 49,
     "metadata": {},
     "output_type": "execute_result"
    },
    {
     "data": {
      "text/plain": [
       "iteration: \t400\n",
       "Total number of pots won : \t0.0051666666666667\n"
      ]
     },
     "execution_count": 49,
     "metadata": {},
     "output_type": "execute_result"
    },
    {
     "data": {
      "text/plain": [
       "iteration: \t450\n",
       "Total number of pots won : \t0.012814814814815\n"
      ]
     },
     "execution_count": 49,
     "metadata": {},
     "output_type": "execute_result"
    },
    {
     "data": {
      "text/plain": [
       "iteration: \t500\n",
       "Total number of pots won : \t0.023766666666667\n"
      ]
     },
     "execution_count": 49,
     "metadata": {},
     "output_type": "execute_result"
    }
   ],
   "source": [
    "avg_pot_won = tree_eval:calculate_return(tree_200,tree_500,500,50)"
   ]
  },
  {
   "cell_type": "code",
   "execution_count": 32,
   "metadata": {
    "collapsed": true
   },
   "outputs": [],
   "source": [
    "---timer = torch.Timer()\n",
    "--print('Time elapsed ' .. timer:time().real .. ' seconds')"
   ]
  },
  {
   "cell_type": "code",
   "execution_count": 47,
   "metadata": {},
   "outputs": [
    {
     "data": {
      "text/plain": [
       "iteration: "
      ]
     },
     "execution_count": 47,
     "metadata": {},
     "output_type": "execute_result"
    },
    {
     "data": {
      "text/plain": [
       "\t1\n",
       "Total number of pots won : \t0.93333333333333\n"
      ]
     },
     "execution_count": 47,
     "metadata": {},
     "output_type": "execute_result"
    },
    {
     "data": {
      "text/plain": [
       "iteration: \t50\n",
       "Total number of pots won : \t0.66233333333333\n"
      ]
     },
     "execution_count": 47,
     "metadata": {},
     "output_type": "execute_result"
    },
    {
     "data": {
      "text/plain": [
       "iteration: \t100\n",
       "Total number of pots won : \t0.716\n"
      ]
     },
     "execution_count": 47,
     "metadata": {},
     "output_type": "execute_result"
    },
    {
     "data": {
      "text/plain": [
       "iteration: \t150\n",
       "Total number of pots won : \t0.66744444444444\n"
      ]
     },
     "execution_count": 47,
     "metadata": {},
     "output_type": "execute_result"
    },
    {
     "data": {
      "text/plain": [
       "iteration: \t200\n",
       "Total number of pots won : \t0.73283333333333\n"
      ]
     },
     "execution_count": 47,
     "metadata": {},
     "output_type": "execute_result"
    }
   ],
   "source": [
    "avg_pot_won2 = tree_eval_200:calculate_return(tree_bench,tree_200,200,50)"
   ]
  },
  {
   "cell_type": "code",
   "execution_count": 44,
   "metadata": {},
   "outputs": [
    {
     "data": {
      "text/plain": [
       "iteration: \t1\n",
       "Total number of pots won : \t0.76666666666667\n"
      ]
     },
     "execution_count": 44,
     "metadata": {},
     "output_type": "execute_result"
    },
    {
     "data": {
      "text/plain": [
       "iteration: \t50\n",
       "Total number of pots won : \t0.62333333333333\n"
      ]
     },
     "execution_count": 44,
     "metadata": {},
     "output_type": "execute_result"
    },
    {
     "data": {
      "text/plain": [
       "iteration: \t100\n",
       "Total number of pots won : \t0.6705\n"
      ]
     },
     "execution_count": 44,
     "metadata": {},
     "output_type": "execute_result"
    },
    {
     "data": {
      "text/plain": [
       "iteration: \t150\n",
       "Total number of pots won : \t0.69944444444444\n"
      ]
     },
     "execution_count": 44,
     "metadata": {},
     "output_type": "execute_result"
    },
    {
     "data": {
      "text/plain": [
       "iteration: \t200\n",
       "Total number of pots won : \t0.69008333333333\n"
      ]
     },
     "execution_count": 44,
     "metadata": {},
     "output_type": "execute_result"
    }
   ],
   "source": [
    "avg_pot_won5 = tree_eval_500:calculate_return(tree_bench,tree_500,200,50)"
   ]
  },
  {
   "cell_type": "code",
   "execution_count": 48,
   "metadata": {},
   "outputs": [
    {
     "data": {
      "text/html": [
       "<script type=\"text/javascript\">\n",
       "$(function() {\n",
       "    if (typeof (window._bokeh_onload_callbacks) === \"undefined\"){\n",
       "  window._bokeh_onload_callbacks = [];\n",
       "    }\n",
       "    function load_lib(url, callback){\n",
       "  window._bokeh_onload_callbacks.push(callback);\n",
       "  if (window._bokeh_is_loading){\n",
       "      console.log(\"Bokeh: BokehJS is being loaded, scheduling callback at\", new Date());\n",
       "      return null;\n",
       "  }\n",
       "  console.log(\"Bokeh: BokehJS not loaded, scheduling load and callback at\", new Date());\n",
       "  window._bokeh_is_loading = true;\n",
       "  var s = document.createElement('script');\n",
       "  s.src = url;\n",
       "  s.async = true;\n",
       "  s.onreadystatechange = s.onload = function(){\n",
       "      Bokeh.embed.inject_css(\"https://cdn.pydata.org/bokeh-0.7.0.min.css\");\n",
       "      window._bokeh_onload_callbacks.forEach(function(callback){callback()});\n",
       "  };\n",
       "  s.onerror = function(){\n",
       "      console.warn(\"failed to load library \" + url);\n",
       "  };\n",
       "  document.getElementsByTagName(\"head\")[0].appendChild(s);\n",
       "    }\n",
       "\n",
       "    bokehjs_url = \"https://cdn.pydata.org/bokeh-0.7.0.min.js\"\n",
       "\n",
       "    var elt = document.getElementById(\"25054d6a-642c-43ef-c335-42b9484d54c4\");\n",
       "    if(elt==null) {\n",
       "  console.log(\"Bokeh: ERROR: autoload.js configured with elementid '25054d6a-642c-43ef-c335-42b9484d54c4'\"\n",
       "        + \"but no matching script tag was found. \")\n",
       "  return false;\n",
       "    }\n",
       "\n",
       "    if(typeof(Bokeh) !== \"undefined\") {\n",
       "  console.log(\"Bokeh: BokehJS loaded, going straight to plotting\");\n",
       "  var modelid = \"9ef7a281-b9e5-492b-c9c5-bfbb0cd3f77b\";\n",
       "  var modeltype = \"Plot\";\n",
       "  var all_models = [{\"attributes\":{\"tags\":[],\"data\":{\"y\":[0.7423889040947,0.7423889040947,0.7423889040947,0.7423889040947,0.7423889040947],\"x\":[1,50,100,150,200]},\"doc\":null,\"discrete_ranges\":{},\"cont_ranges\":{},\"selected\":[],\"column_names\":[\"y\",\"x\"],\"id\":\"6b530af1-8221-47fd-c733-9e7f1b187b99\"},\"type\":\"ColumnDataSource\",\"id\":\"6b530af1-8221-47fd-c733-9e7f1b187b99\"},{\"attributes\":{\"fill_alpha\":{\"units\":\"data\",\"value\":0.2},\"size\":{\"units\":\"screen\",\"value\":10},\"line_color\":{\"value\":\"red\"},\"line_alpha\":{\"units\":\"data\",\"value\":1},\"y\":{\"units\":\"data\",\"field\":\"y\"},\"tags\":[],\"fill_color\":{\"value\":\"red\"},\"x\":{\"units\":\"data\",\"field\":\"x\"},\"doc\":null,\"id\":\"b9c91219-b049-484a-c824-2c6edb828825\"},\"type\":\"Line\",\"id\":\"b9c91219-b049-484a-c824-2c6edb828825\"},{\"attributes\":{\"fill_alpha\":{\"units\":\"data\",\"value\":0.2},\"size\":{\"units\":\"screen\",\"value\":10},\"line_color\":{\"value\":\"red\"},\"line_alpha\":{\"units\":\"data\",\"value\":1},\"y\":{\"units\":\"data\",\"field\":\"y\"},\"tags\":[],\"fill_color\":{\"value\":\"red\"},\"x\":{\"units\":\"data\",\"field\":\"x\"},\"doc\":null,\"id\":\"c69455fb-f890-4f72-cf39-4490152f02ca\"},\"type\":\"Line\",\"id\":\"c69455fb-f890-4f72-cf39-4490152f02ca\"},{\"attributes\":{\"selection_glyph\":null,\"tags\":[],\"glyph\":{\"id\":\"b9c91219-b049-484a-c824-2c6edb828825\",\"type\":\"Line\"},\"data_source\":{\"id\":\"6b530af1-8221-47fd-c733-9e7f1b187b99\",\"type\":\"ColumnDataSource\"},\"nonselection_glyph\":{\"id\":\"c69455fb-f890-4f72-cf39-4490152f02ca\",\"type\":\"Line\"},\"server_data_source\":null,\"doc\":null,\"name\":null,\"id\":\"f410b869-c0da-4e38-cefa-f68b8d4c5780\"},\"type\":\"GlyphRenderer\",\"id\":\"f410b869-c0da-4e38-cefa-f68b8d4c5780\"},{\"attributes\":{\"tags\":[],\"data\":{\"y\":[0.93333333730698,0.66233330965042,0.716000020504,0.66744446754456,0.73283332586288],\"x\":[1,50,100,150,200]},\"doc\":null,\"discrete_ranges\":{},\"cont_ranges\":{},\"selected\":[],\"column_names\":[\"y\",\"x\"],\"id\":\"eeebb025-2561-4fbd-cfe9-cc30be9db87f\"},\"type\":\"ColumnDataSource\",\"id\":\"eeebb025-2561-4fbd-cfe9-cc30be9db87f\"},{\"attributes\":{\"fill_alpha\":{\"units\":\"data\",\"value\":0.2},\"size\":{\"units\":\"screen\",\"value\":10},\"line_color\":{\"value\":\"brown\"},\"line_alpha\":{\"units\":\"data\",\"value\":1},\"y\":{\"units\":\"data\",\"field\":\"y\"},\"tags\":[],\"fill_color\":{\"value\":\"brown\"},\"x\":{\"units\":\"data\",\"field\":\"x\"},\"doc\":null,\"id\":\"22a43ae6-e1e0-4e98-ce1c-42f2993967f9\"},\"type\":\"Line\",\"id\":\"22a43ae6-e1e0-4e98-ce1c-42f2993967f9\"},{\"attributes\":{\"fill_alpha\":{\"units\":\"data\",\"value\":0.2},\"size\":{\"units\":\"screen\",\"value\":10},\"line_color\":{\"value\":\"brown\"},\"line_alpha\":{\"units\":\"data\",\"value\":1},\"y\":{\"units\":\"data\",\"field\":\"y\"},\"tags\":[],\"fill_color\":{\"value\":\"brown\"},\"x\":{\"units\":\"data\",\"field\":\"x\"},\"doc\":null,\"id\":\"78feca92-9bee-4061-c0e8-f8789c0cae4c\"},\"type\":\"Line\",\"id\":\"78feca92-9bee-4061-c0e8-f8789c0cae4c\"},{\"attributes\":{\"selection_glyph\":null,\"tags\":[],\"glyph\":{\"id\":\"22a43ae6-e1e0-4e98-ce1c-42f2993967f9\",\"type\":\"Line\"},\"data_source\":{\"id\":\"eeebb025-2561-4fbd-cfe9-cc30be9db87f\",\"type\":\"ColumnDataSource\"},\"nonselection_glyph\":{\"id\":\"78feca92-9bee-4061-c0e8-f8789c0cae4c\",\"type\":\"Line\"},\"server_data_source\":null,\"doc\":null,\"name\":null,\"id\":\"38287ac7-49b1-4607-c660-2f5cf2df08cb\"},\"type\":\"GlyphRenderer\",\"id\":\"38287ac7-49b1-4607-c660-2f5cf2df08cb\"},{\"attributes\":{\"tags\":[],\"data\":{\"y\":[0.69000554084778,0.69000554084778,0.69000554084778,0.69000554084778,0.69000554084778],\"x\":[1,50,100,150,200]},\"doc\":null,\"discrete_ranges\":{},\"cont_ranges\":{},\"selected\":[],\"column_names\":[\"y\",\"x\"],\"id\":\"7883b76c-7b34-4d79-cd7a-65d18b185632\"},\"type\":\"ColumnDataSource\",\"id\":\"7883b76c-7b34-4d79-cd7a-65d18b185632\"},{\"attributes\":{\"fill_alpha\":{\"units\":\"data\",\"value\":0.2},\"size\":{\"units\":\"screen\",\"value\":10},\"line_color\":{\"value\":\"blue\"},\"line_alpha\":{\"units\":\"data\",\"value\":1},\"y\":{\"units\":\"data\",\"field\":\"y\"},\"tags\":[],\"fill_color\":{\"value\":\"blue\"},\"x\":{\"units\":\"data\",\"field\":\"x\"},\"doc\":null,\"id\":\"ef571f1f-8314-4068-c092-f94e26dd18fa\"},\"type\":\"Line\",\"id\":\"ef571f1f-8314-4068-c092-f94e26dd18fa\"},{\"attributes\":{\"fill_alpha\":{\"units\":\"data\",\"value\":0.2},\"size\":{\"units\":\"screen\",\"value\":10},\"line_color\":{\"value\":\"blue\"},\"line_alpha\":{\"units\":\"data\",\"value\":1},\"y\":{\"units\":\"data\",\"field\":\"y\"},\"tags\":[],\"fill_color\":{\"value\":\"blue\"},\"x\":{\"units\":\"data\",\"field\":\"x\"},\"doc\":null,\"id\":\"c42289f6-d27b-4f8b-cf48-ae4379a1e1a3\"},\"type\":\"Line\",\"id\":\"c42289f6-d27b-4f8b-cf48-ae4379a1e1a3\"},{\"attributes\":{\"selection_glyph\":null,\"tags\":[],\"glyph\":{\"id\":\"ef571f1f-8314-4068-c092-f94e26dd18fa\",\"type\":\"Line\"},\"data_source\":{\"id\":\"7883b76c-7b34-4d79-cd7a-65d18b185632\",\"type\":\"ColumnDataSource\"},\"nonselection_glyph\":{\"id\":\"c42289f6-d27b-4f8b-cf48-ae4379a1e1a3\",\"type\":\"Line\"},\"server_data_source\":null,\"doc\":null,\"name\":null,\"id\":\"9c309c7e-7da5-41a3-c161-80ebcd51c3be\"},\"type\":\"GlyphRenderer\",\"id\":\"9c309c7e-7da5-41a3-c161-80ebcd51c3be\"},{\"attributes\":{\"tags\":[],\"data\":{\"y\":[0.76666665077209,0.62333333492279,0.67049998044968,0.69944447278976,0.69008332490921],\"x\":[1,50,100,150,200]},\"doc\":null,\"discrete_ranges\":{},\"cont_ranges\":{},\"selected\":[],\"column_names\":[\"y\",\"x\"],\"id\":\"35381ada-de50-44ef-c45d-5dde947a286a\"},\"type\":\"ColumnDataSource\",\"id\":\"35381ada-de50-44ef-c45d-5dde947a286a\"},{\"attributes\":{\"fill_alpha\":{\"units\":\"data\",\"value\":0.2},\"size\":{\"units\":\"screen\",\"value\":10},\"line_color\":{\"value\":\"black\"},\"line_alpha\":{\"units\":\"data\",\"value\":1},\"y\":{\"units\":\"data\",\"field\":\"y\"},\"tags\":[],\"fill_color\":{\"value\":\"black\"},\"x\":{\"units\":\"data\",\"field\":\"x\"},\"doc\":null,\"id\":\"2850c30c-cebd-43a5-c33e-d327804ddfd1\"},\"type\":\"Line\",\"id\":\"2850c30c-cebd-43a5-c33e-d327804ddfd1\"},{\"attributes\":{\"fill_alpha\":{\"units\":\"data\",\"value\":0.2},\"size\":{\"units\":\"screen\",\"value\":10},\"line_color\":{\"value\":\"black\"},\"line_alpha\":{\"units\":\"data\",\"value\":1},\"y\":{\"units\":\"data\",\"field\":\"y\"},\"tags\":[],\"fill_color\":{\"value\":\"black\"},\"x\":{\"units\":\"data\",\"field\":\"x\"},\"doc\":null,\"id\":\"5976e0f8-9eea-45e8-c5e5-e7ccf3730fd2\"},\"type\":\"Line\",\"id\":\"5976e0f8-9eea-45e8-c5e5-e7ccf3730fd2\"},{\"attributes\":{\"selection_glyph\":null,\"tags\":[],\"glyph\":{\"id\":\"2850c30c-cebd-43a5-c33e-d327804ddfd1\",\"type\":\"Line\"},\"data_source\":{\"id\":\"35381ada-de50-44ef-c45d-5dde947a286a\",\"type\":\"ColumnDataSource\"},\"nonselection_glyph\":{\"id\":\"5976e0f8-9eea-45e8-c5e5-e7ccf3730fd2\",\"type\":\"Line\"},\"server_data_source\":null,\"doc\":null,\"name\":null,\"id\":\"8a70de35-0cf8-49f8-c98f-bcf24a60dedb\"},\"type\":\"GlyphRenderer\",\"id\":\"8a70de35-0cf8-49f8-c98f-bcf24a60dedb\"},{\"attributes\":{\"tags\":[],\"doc\":null,\"sources\":[{\"source\":{\"type\":\"ColumnDataSource\",\"id\":\"6b530af1-8221-47fd-c733-9e7f1b187b99\"},\"columns\":[\"x\"]},{\"source\":{\"type\":\"ColumnDataSource\",\"id\":\"eeebb025-2561-4fbd-cfe9-cc30be9db87f\"},\"columns\":[\"x\"]},{\"source\":{\"type\":\"ColumnDataSource\",\"id\":\"7883b76c-7b34-4d79-cd7a-65d18b185632\"},\"columns\":[\"x\"]},{\"source\":{\"type\":\"ColumnDataSource\",\"id\":\"35381ada-de50-44ef-c45d-5dde947a286a\"},\"columns\":[\"x\"]}],\"id\":\"797428cf-6e7a-47a7-c7d1-1d5dc05afb97\"},\"type\":\"DataRange1d\",\"id\":\"797428cf-6e7a-47a7-c7d1-1d5dc05afb97\"},{\"attributes\":{\"tags\":[],\"doc\":null,\"sources\":[{\"source\":{\"type\":\"ColumnDataSource\",\"id\":\"6b530af1-8221-47fd-c733-9e7f1b187b99\"},\"columns\":[\"y\"]},{\"source\":{\"type\":\"ColumnDataSource\",\"id\":\"eeebb025-2561-4fbd-cfe9-cc30be9db87f\"},\"columns\":[\"y\"]},{\"source\":{\"type\":\"ColumnDataSource\",\"id\":\"7883b76c-7b34-4d79-cd7a-65d18b185632\"},\"columns\":[\"y\"]},{\"source\":{\"type\":\"ColumnDataSource\",\"id\":\"35381ada-de50-44ef-c45d-5dde947a286a\"},\"columns\":[\"y\"]}],\"id\":\"48e6c531-838c-4922-c9c9-6706605a6a33\"},\"type\":\"DataRange1d\",\"id\":\"48e6c531-838c-4922-c9c9-6706605a6a33\"},{\"attributes\":{\"tags\":[],\"geometries\":[],\"doc\":null,\"id\":\"34f91ba7-2209-42aa-c269-1e331a434c50\"},\"type\":\"ToolEvents\",\"id\":\"34f91ba7-2209-42aa-c269-1e331a434c50\"},{\"attributes\":{\"tags\":[],\"doc\":null,\"id\":\"800a004b-30c4-4436-c436-0e8ce08382cf\"},\"type\":\"BasicTickFormatter\",\"id\":\"800a004b-30c4-4436-c436-0e8ce08382cf\"},{\"attributes\":{\"tags\":[],\"num_minor_ticks\":5,\"doc\":null,\"id\":\"db112ccc-efa7-45fc-c526-72d31c43fca4\"},\"type\":\"BasicTicker\",\"id\":\"db112ccc-efa7-45fc-c526-72d31c43fca4\"},{\"attributes\":{\"tags\":[],\"axis_label\":null,\"ticker\":{\"id\":\"db112ccc-efa7-45fc-c526-72d31c43fca4\",\"type\":\"BasicTicker\"},\"doc\":null,\"plot\":{\"id\":\"9ef7a281-b9e5-492b-c9c5-bfbb0cd3f77b\",\"type\":\"Plot\",\"subtype\":\"Figure\"},\"formatter\":{\"id\":\"800a004b-30c4-4436-c436-0e8ce08382cf\",\"type\":\"BasicTickFormatter\"},\"id\":\"daaa8937-2bb3-49ca-c98d-94f2a402059d\"},\"type\":\"LinearAxis\",\"id\":\"daaa8937-2bb3-49ca-c98d-94f2a402059d\"},{\"attributes\":{\"tags\":[],\"ticker\":{\"id\":\"db112ccc-efa7-45fc-c526-72d31c43fca4\",\"type\":\"BasicTicker\"},\"dimension\":0,\"plot\":{\"id\":\"9ef7a281-b9e5-492b-c9c5-bfbb0cd3f77b\",\"type\":\"Plot\",\"subtype\":\"Figure\"},\"doc\":null,\"id\":\"a73c92d8-c7a4-4d2f-cdd3-bba68b3c5164\"},\"type\":\"Grid\",\"id\":\"a73c92d8-c7a4-4d2f-cdd3-bba68b3c5164\"},{\"attributes\":{\"tags\":[],\"doc\":null,\"id\":\"2fb1f678-42dc-4d0b-cd86-9e1c51635f59\"},\"type\":\"BasicTickFormatter\",\"id\":\"2fb1f678-42dc-4d0b-cd86-9e1c51635f59\"},{\"attributes\":{\"tags\":[],\"num_minor_ticks\":5,\"doc\":null,\"id\":\"b299a1d2-1ec4-41f5-c137-e0cd4082c97a\"},\"type\":\"BasicTicker\",\"id\":\"b299a1d2-1ec4-41f5-c137-e0cd4082c97a\"},{\"attributes\":{\"tags\":[],\"axis_label\":null,\"ticker\":{\"id\":\"b299a1d2-1ec4-41f5-c137-e0cd4082c97a\",\"type\":\"BasicTicker\"},\"doc\":null,\"plot\":{\"id\":\"9ef7a281-b9e5-492b-c9c5-bfbb0cd3f77b\",\"type\":\"Plot\",\"subtype\":\"Figure\"},\"formatter\":{\"id\":\"2fb1f678-42dc-4d0b-cd86-9e1c51635f59\",\"type\":\"BasicTickFormatter\"},\"id\":\"c353503d-0f00-40ae-c0dd-308860ec8a87\"},\"type\":\"LinearAxis\",\"id\":\"c353503d-0f00-40ae-c0dd-308860ec8a87\"},{\"attributes\":{\"tags\":[],\"ticker\":{\"id\":\"b299a1d2-1ec4-41f5-c137-e0cd4082c97a\",\"type\":\"BasicTicker\"},\"dimension\":1,\"plot\":{\"id\":\"9ef7a281-b9e5-492b-c9c5-bfbb0cd3f77b\",\"type\":\"Plot\",\"subtype\":\"Figure\"},\"doc\":null,\"id\":\"e544fbd1-2b7a-4e88-ce56-c83764d96a3e\"},\"type\":\"Grid\",\"id\":\"e544fbd1-2b7a-4e88-ce56-c83764d96a3e\"},{\"attributes\":{\"tags\":[],\"doc\":null,\"plot\":{\"id\":\"9ef7a281-b9e5-492b-c9c5-bfbb0cd3f77b\",\"type\":\"Plot\",\"subtype\":\"Figure\"},\"dimensions\":[\"width\",\"height\"],\"id\":\"f1cd5214-3881-44e5-c496-68fddda2edb8\"},\"type\":\"PanTool\",\"id\":\"f1cd5214-3881-44e5-c496-68fddda2edb8\"},{\"attributes\":{\"tags\":[],\"doc\":null,\"plot\":{\"id\":\"9ef7a281-b9e5-492b-c9c5-bfbb0cd3f77b\",\"type\":\"Plot\",\"subtype\":\"Figure\"},\"dimensions\":[\"width\",\"height\"],\"id\":\"0f61ae53-fe7f-406f-c0d3-438bb7d4790d\"},\"type\":\"WheelZoomTool\",\"id\":\"0f61ae53-fe7f-406f-c0d3-438bb7d4790d\"},{\"attributes\":{\"tags\":[],\"plot\":{\"id\":\"9ef7a281-b9e5-492b-c9c5-bfbb0cd3f77b\",\"type\":\"Plot\",\"subtype\":\"Figure\"},\"doc\":null,\"id\":\"e4b5b46a-1374-4501-c59d-1b3d6d43c688\"},\"type\":\"BoxZoomTool\",\"id\":\"e4b5b46a-1374-4501-c59d-1b3d6d43c688\"},{\"attributes\":{\"tags\":[],\"plot\":{\"id\":\"9ef7a281-b9e5-492b-c9c5-bfbb0cd3f77b\",\"type\":\"Plot\",\"subtype\":\"Figure\"},\"doc\":null,\"id\":\"df733cda-c69f-47f0-c752-8476c52074e6\"},\"type\":\"PreviewSaveTool\",\"id\":\"df733cda-c69f-47f0-c752-8476c52074e6\"},{\"attributes\":{\"tags\":[],\"plot\":{\"id\":\"9ef7a281-b9e5-492b-c9c5-bfbb0cd3f77b\",\"type\":\"Plot\",\"subtype\":\"Figure\"},\"doc\":null,\"id\":\"dfe58fc6-4edd-4962-c940-388db3eba22e\"},\"type\":\"ResizeTool\",\"id\":\"dfe58fc6-4edd-4962-c940-388db3eba22e\"},{\"attributes\":{\"tags\":[],\"plot\":{\"id\":\"9ef7a281-b9e5-492b-c9c5-bfbb0cd3f77b\",\"type\":\"Plot\",\"subtype\":\"Figure\"},\"doc\":null,\"id\":\"91164bc2-caef-430d-c3d1-547e695fc5df\"},\"type\":\"ResetTool\",\"id\":\"91164bc2-caef-430d-c3d1-547e695fc5df\"},{\"attributes\":{\"left\":[{\"id\":\"c353503d-0f00-40ae-c0dd-308860ec8a87\",\"type\":\"LinearAxis\"}],\"below\":[{\"id\":\"daaa8937-2bb3-49ca-c98d-94f2a402059d\",\"type\":\"LinearAxis\"}],\"tool_events\":{\"id\":\"34f91ba7-2209-42aa-c269-1e331a434c50\",\"type\":\"ToolEvents\"},\"extra_y_ranges\":{},\"doc\":null,\"title\":\"Untitled Plot\",\"x_range\":{\"id\":\"797428cf-6e7a-47a7-c7d1-1d5dc05afb97\",\"type\":\"DataRange1d\"},\"tags\":[],\"renderers\":[{\"id\":\"f410b869-c0da-4e38-cefa-f68b8d4c5780\",\"type\":\"GlyphRenderer\"},{\"id\":\"38287ac7-49b1-4607-c660-2f5cf2df08cb\",\"type\":\"GlyphRenderer\"},{\"id\":\"9c309c7e-7da5-41a3-c161-80ebcd51c3be\",\"type\":\"GlyphRenderer\"},{\"id\":\"8a70de35-0cf8-49f8-c98f-bcf24a60dedb\",\"type\":\"GlyphRenderer\"},{\"id\":\"daaa8937-2bb3-49ca-c98d-94f2a402059d\",\"type\":\"LinearAxis\"},{\"id\":\"a73c92d8-c7a4-4d2f-cdd3-bba68b3c5164\",\"type\":\"Grid\"},{\"id\":\"c353503d-0f00-40ae-c0dd-308860ec8a87\",\"type\":\"LinearAxis\"},{\"id\":\"e544fbd1-2b7a-4e88-ce56-c83764d96a3e\",\"type\":\"Grid\"}],\"extra_x_ranges\":{},\"y_range\":{\"id\":\"48e6c531-838c-4922-c9c9-6706605a6a33\",\"type\":\"DataRange1d\"},\"right\":[],\"above\":[],\"tools\":[{\"id\":\"f1cd5214-3881-44e5-c496-68fddda2edb8\",\"type\":\"PanTool\"},{\"id\":\"0f61ae53-fe7f-406f-c0d3-438bb7d4790d\",\"type\":\"WheelZoomTool\"},{\"id\":\"e4b5b46a-1374-4501-c59d-1b3d6d43c688\",\"type\":\"BoxZoomTool\"},{\"id\":\"df733cda-c69f-47f0-c752-8476c52074e6\",\"type\":\"PreviewSaveTool\"},{\"id\":\"dfe58fc6-4edd-4962-c940-388db3eba22e\",\"type\":\"ResizeTool\"},{\"id\":\"91164bc2-caef-430d-c3d1-547e695fc5df\",\"type\":\"ResetTool\"}],\"id\":\"9ef7a281-b9e5-492b-c9c5-bfbb0cd3f77b\"},\"type\":\"Plot\",\"id\":\"9ef7a281-b9e5-492b-c9c5-bfbb0cd3f77b\"}];\n",
       "  Bokeh.load_models(all_models);\n",
       "  var model = Bokeh.Collections(modeltype).get(modelid);\n",
       "  $(\"#25054d6a-642c-43ef-c335-42b9484d54c4\").html(''); // clear any previous plot in window_id\n",
       "  var view = new model.default_view({model: model, el: \"#25054d6a-642c-43ef-c335-42b9484d54c4\"});\n",
       "    } else {\n",
       "  load_lib(bokehjs_url, function() {\n",
       "      console.log(\"Bokeh: BokehJS plotting callback run at\", new Date())\n",
       "      var modelid = \"9ef7a281-b9e5-492b-c9c5-bfbb0cd3f77b\";\n",
       "      var modeltype = \"Plot\";\n",
       "      var all_models = [{\"attributes\":{\"tags\":[],\"data\":{\"y\":[0.7423889040947,0.7423889040947,0.7423889040947,0.7423889040947,0.7423889040947],\"x\":[1,50,100,150,200]},\"doc\":null,\"discrete_ranges\":{},\"cont_ranges\":{},\"selected\":[],\"column_names\":[\"y\",\"x\"],\"id\":\"6b530af1-8221-47fd-c733-9e7f1b187b99\"},\"type\":\"ColumnDataSource\",\"id\":\"6b530af1-8221-47fd-c733-9e7f1b187b99\"},{\"attributes\":{\"fill_alpha\":{\"units\":\"data\",\"value\":0.2},\"size\":{\"units\":\"screen\",\"value\":10},\"line_color\":{\"value\":\"red\"},\"line_alpha\":{\"units\":\"data\",\"value\":1},\"y\":{\"units\":\"data\",\"field\":\"y\"},\"tags\":[],\"fill_color\":{\"value\":\"red\"},\"x\":{\"units\":\"data\",\"field\":\"x\"},\"doc\":null,\"id\":\"b9c91219-b049-484a-c824-2c6edb828825\"},\"type\":\"Line\",\"id\":\"b9c91219-b049-484a-c824-2c6edb828825\"},{\"attributes\":{\"fill_alpha\":{\"units\":\"data\",\"value\":0.2},\"size\":{\"units\":\"screen\",\"value\":10},\"line_color\":{\"value\":\"red\"},\"line_alpha\":{\"units\":\"data\",\"value\":1},\"y\":{\"units\":\"data\",\"field\":\"y\"},\"tags\":[],\"fill_color\":{\"value\":\"red\"},\"x\":{\"units\":\"data\",\"field\":\"x\"},\"doc\":null,\"id\":\"c69455fb-f890-4f72-cf39-4490152f02ca\"},\"type\":\"Line\",\"id\":\"c69455fb-f890-4f72-cf39-4490152f02ca\"},{\"attributes\":{\"selection_glyph\":null,\"tags\":[],\"glyph\":{\"id\":\"b9c91219-b049-484a-c824-2c6edb828825\",\"type\":\"Line\"},\"data_source\":{\"id\":\"6b530af1-8221-47fd-c733-9e7f1b187b99\",\"type\":\"ColumnDataSource\"},\"nonselection_glyph\":{\"id\":\"c69455fb-f890-4f72-cf39-4490152f02ca\",\"type\":\"Line\"},\"server_data_source\":null,\"doc\":null,\"name\":null,\"id\":\"f410b869-c0da-4e38-cefa-f68b8d4c5780\"},\"type\":\"GlyphRenderer\",\"id\":\"f410b869-c0da-4e38-cefa-f68b8d4c5780\"},{\"attributes\":{\"tags\":[],\"data\":{\"y\":[0.93333333730698,0.66233330965042,0.716000020504,0.66744446754456,0.73283332586288],\"x\":[1,50,100,150,200]},\"doc\":null,\"discrete_ranges\":{},\"cont_ranges\":{},\"selected\":[],\"column_names\":[\"y\",\"x\"],\"id\":\"eeebb025-2561-4fbd-cfe9-cc30be9db87f\"},\"type\":\"ColumnDataSource\",\"id\":\"eeebb025-2561-4fbd-cfe9-cc30be9db87f\"},{\"attributes\":{\"fill_alpha\":{\"units\":\"data\",\"value\":0.2},\"size\":{\"units\":\"screen\",\"value\":10},\"line_color\":{\"value\":\"brown\"},\"line_alpha\":{\"units\":\"data\",\"value\":1},\"y\":{\"units\":\"data\",\"field\":\"y\"},\"tags\":[],\"fill_color\":{\"value\":\"brown\"},\"x\":{\"units\":\"data\",\"field\":\"x\"},\"doc\":null,\"id\":\"22a43ae6-e1e0-4e98-ce1c-42f2993967f9\"},\"type\":\"Line\",\"id\":\"22a43ae6-e1e0-4e98-ce1c-42f2993967f9\"},{\"attributes\":{\"fill_alpha\":{\"units\":\"data\",\"value\":0.2},\"size\":{\"units\":\"screen\",\"value\":10},\"line_color\":{\"value\":\"brown\"},\"line_alpha\":{\"units\":\"data\",\"value\":1},\"y\":{\"units\":\"data\",\"field\":\"y\"},\"tags\":[],\"fill_color\":{\"value\":\"brown\"},\"x\":{\"units\":\"data\",\"field\":\"x\"},\"doc\":null,\"id\":\"78feca92-9bee-4061-c0e8-f8789c0cae4c\"},\"type\":\"Line\",\"id\":\"78feca92-9bee-4061-c0e8-f8789c0cae4c\"},{\"attributes\":{\"selection_glyph\":null,\"tags\":[],\"glyph\":{\"id\":\"22a43ae6-e1e0-4e98-ce1c-42f2993967f9\",\"type\":\"Line\"},\"data_source\":{\"id\":\"eeebb025-2561-4fbd-cfe9-cc30be9db87f\",\"type\":\"ColumnDataSource\"},\"nonselection_glyph\":{\"id\":\"78feca92-9bee-4061-c0e8-f8789c0cae4c\",\"type\":\"Line\"},\"server_data_source\":null,\"doc\":null,\"name\":null,\"id\":\"38287ac7-49b1-4607-c660-2f5cf2df08cb\"},\"type\":\"GlyphRenderer\",\"id\":\"38287ac7-49b1-4607-c660-2f5cf2df08cb\"},{\"attributes\":{\"tags\":[],\"data\":{\"y\":[0.69000554084778,0.69000554084778,0.69000554084778,0.69000554084778,0.69000554084778],\"x\":[1,50,100,150,200]},\"doc\":null,\"discrete_ranges\":{},\"cont_ranges\":{},\"selected\":[],\"column_names\":[\"y\",\"x\"],\"id\":\"7883b76c-7b34-4d79-cd7a-65d18b185632\"},\"type\":\"ColumnDataSource\",\"id\":\"7883b76c-7b34-4d79-cd7a-65d18b185632\"},{\"attributes\":{\"fill_alpha\":{\"units\":\"data\",\"value\":0.2},\"size\":{\"units\":\"screen\",\"value\":10},\"line_color\":{\"value\":\"blue\"},\"line_alpha\":{\"units\":\"data\",\"value\":1},\"y\":{\"units\":\"data\",\"field\":\"y\"},\"tags\":[],\"fill_color\":{\"value\":\"blue\"},\"x\":{\"units\":\"data\",\"field\":\"x\"},\"doc\":null,\"id\":\"ef571f1f-8314-4068-c092-f94e26dd18fa\"},\"type\":\"Line\",\"id\":\"ef571f1f-8314-4068-c092-f94e26dd18fa\"},{\"attributes\":{\"fill_alpha\":{\"units\":\"data\",\"value\":0.2},\"size\":{\"units\":\"screen\",\"value\":10},\"line_color\":{\"value\":\"blue\"},\"line_alpha\":{\"units\":\"data\",\"value\":1},\"y\":{\"units\":\"data\",\"field\":\"y\"},\"tags\":[],\"fill_color\":{\"value\":\"blue\"},\"x\":{\"units\":\"data\",\"field\":\"x\"},\"doc\":null,\"id\":\"c42289f6-d27b-4f8b-cf48-ae4379a1e1a3\"},\"type\":\"Line\",\"id\":\"c42289f6-d27b-4f8b-cf48-ae4379a1e1a3\"},{\"attributes\":{\"selection_glyph\":null,\"tags\":[],\"glyph\":{\"id\":\"ef571f1f-8314-4068-c092-f94e26dd18fa\",\"type\":\"Line\"},\"data_source\":{\"id\":\"7883b76c-7b34-4d79-cd7a-65d18b185632\",\"type\":\"ColumnDataSource\"},\"nonselection_glyph\":{\"id\":\"c42289f6-d27b-4f8b-cf48-ae4379a1e1a3\",\"type\":\"Line\"},\"server_data_source\":null,\"doc\":null,\"name\":null,\"id\":\"9c309c7e-7da5-41a3-c161-80ebcd51c3be\"},\"type\":\"GlyphRenderer\",\"id\":\"9c309c7e-7da5-41a3-c161-80ebcd51c3be\"},{\"attributes\":{\"tags\":[],\"data\":{\"y\":[0.76666665077209,0.62333333492279,0.67049998044968,0.69944447278976,0.69008332490921],\"x\":[1,50,100,150,200]},\"doc\":null,\"discrete_ranges\":{},\"cont_ranges\":{},\"selected\":[],\"column_names\":[\"y\",\"x\"],\"id\":\"35381ada-de50-44ef-c45d-5dde947a286a\"},\"type\":\"ColumnDataSource\",\"id\":\"35381ada-de50-44ef-c45d-5dde947a286a\"},{\"attributes\":{\"fill_alpha\":{\"units\":\"data\",\"value\":0.2},\"size\":{\"units\":\"screen\",\"value\":10},\"line_color\":{\"value\":\"black\"},\"line_alpha\":{\"units\":\"data\",\"value\":1},\"y\":{\"units\":\"data\",\"field\":\"y\"},\"tags\":[],\"fill_color\":{\"value\":\"black\"},\"x\":{\"units\":\"data\",\"field\":\"x\"},\"doc\":null,\"id\":\"2850c30c-cebd-43a5-c33e-d327804ddfd1\"},\"type\":\"Line\",\"id\":\"2850c30c-cebd-43a5-c33e-d327804ddfd1\"},{\"attributes\":{\"fill_alpha\":{\"units\":\"data\",\"value\":0.2},\"size\":{\"units\":\"screen\",\"value\":10},\"line_color\":{\"value\":\"black\"},\"line_alpha\":{\"units\":\"data\",\"value\":1},\"y\":{\"units\":\"data\",\"field\":\"y\"},\"tags\":[],\"fill_color\":{\"value\":\"black\"},\"x\":{\"units\":\"data\",\"field\":\"x\"},\"doc\":null,\"id\":\"5976e0f8-9eea-45e8-c5e5-e7ccf3730fd2\"},\"type\":\"Line\",\"id\":\"5976e0f8-9eea-45e8-c5e5-e7ccf3730fd2\"},{\"attributes\":{\"selection_glyph\":null,\"tags\":[],\"glyph\":{\"id\":\"2850c30c-cebd-43a5-c33e-d327804ddfd1\",\"type\":\"Line\"},\"data_source\":{\"id\":\"35381ada-de50-44ef-c45d-5dde947a286a\",\"type\":\"ColumnDataSource\"},\"nonselection_glyph\":{\"id\":\"5976e0f8-9eea-45e8-c5e5-e7ccf3730fd2\",\"type\":\"Line\"},\"server_data_source\":null,\"doc\":null,\"name\":null,\"id\":\"8a70de35-0cf8-49f8-c98f-bcf24a60dedb\"},\"type\":\"GlyphRenderer\",\"id\":\"8a70de35-0cf8-49f8-c98f-bcf24a60dedb\"},{\"attributes\":{\"tags\":[],\"doc\":null,\"sources\":[{\"source\":{\"type\":\"ColumnDataSource\",\"id\":\"6b530af1-8221-47fd-c733-9e7f1b187b99\"},\"columns\":[\"x\"]},{\"source\":{\"type\":\"ColumnDataSource\",\"id\":\"eeebb025-2561-4fbd-cfe9-cc30be9db87f\"},\"columns\":[\"x\"]},{\"source\":{\"type\":\"ColumnDataSource\",\"id\":\"7883b76c-7b34-4d79-cd7a-65d18b185632\"},\"columns\":[\"x\"]},{\"source\":{\"type\":\"ColumnDataSource\",\"id\":\"35381ada-de50-44ef-c45d-5dde947a286a\"},\"columns\":[\"x\"]}],\"id\":\"797428cf-6e7a-47a7-c7d1-1d5dc05afb97\"},\"type\":\"DataRange1d\",\"id\":\"797428cf-6e7a-47a7-c7d1-1d5dc05afb97\"},{\"attributes\":{\"tags\":[],\"doc\":null,\"sources\":[{\"source\":{\"type\":\"ColumnDataSource\",\"id\":\"6b530af1-8221-47fd-c733-9e7f1b187b99\"},\"columns\":[\"y\"]},{\"source\":{\"type\":\"ColumnDataSource\",\"id\":\"eeebb025-2561-4fbd-cfe9-cc30be9db87f\"},\"columns\":[\"y\"]},{\"source\":{\"type\":\"ColumnDataSource\",\"id\":\"7883b76c-7b34-4d79-cd7a-65d18b185632\"},\"columns\":[\"y\"]},{\"source\":{\"type\":\"ColumnDataSource\",\"id\":\"35381ada-de50-44ef-c45d-5dde947a286a\"},\"columns\":[\"y\"]}],\"id\":\"48e6c531-838c-4922-c9c9-6706605a6a33\"},\"type\":\"DataRange1d\",\"id\":\"48e6c531-838c-4922-c9c9-6706605a6a33\"},{\"attributes\":{\"tags\":[],\"geometries\":[],\"doc\":null,\"id\":\"34f91ba7-2209-42aa-c269-1e331a434c50\"},\"type\":\"ToolEvents\",\"id\":\"34f91ba7-2209-42aa-c269-1e331a434c50\"},{\"attributes\":{\"tags\":[],\"doc\":null,\"id\":\"800a004b-30c4-4436-c436-0e8ce08382cf\"},\"type\":\"BasicTickFormatter\",\"id\":\"800a004b-30c4-4436-c436-0e8ce08382cf\"},{\"attributes\":{\"tags\":[],\"num_minor_ticks\":5,\"doc\":null,\"id\":\"db112ccc-efa7-45fc-c526-72d31c43fca4\"},\"type\":\"BasicTicker\",\"id\":\"db112ccc-efa7-45fc-c526-72d31c43fca4\"},{\"attributes\":{\"tags\":[],\"axis_label\":null,\"ticker\":{\"id\":\"db112ccc-efa7-45fc-c526-72d31c43fca4\",\"type\":\"BasicTicker\"},\"doc\":null,\"plot\":{\"id\":\"9ef7a281-b9e5-492b-c9c5-bfbb0cd3f77b\",\"type\":\"Plot\",\"subtype\":\"Figure\"},\"formatter\":{\"id\":\"800a004b-30c4-4436-c436-0e8ce08382cf\",\"type\":\"BasicTickFormatter\"},\"id\":\"daaa8937-2bb3-49ca-c98d-94f2a402059d\"},\"type\":\"LinearAxis\",\"id\":\"daaa8937-2bb3-49ca-c98d-94f2a402059d\"},{\"attributes\":{\"tags\":[],\"ticker\":{\"id\":\"db112ccc-efa7-45fc-c526-72d31c43fca4\",\"type\":\"BasicTicker\"},\"dimension\":0,\"plot\":{\"id\":\"9ef7a281-b9e5-492b-c9c5-bfbb0cd3f77b\",\"type\":\"Plot\",\"subtype\":\"Figure\"},\"doc\":null,\"id\":\"a73c92d8-c7a4-4d2f-cdd3-bba68b3c5164\"},\"type\":\"Grid\",\"id\":\"a73c92d8-c7a4-4d2f-cdd3-bba68b3c5164\"},{\"attributes\":{\"tags\":[],\"doc\":null,\"id\":\"2fb1f678-42dc-4d0b-cd86-9e1c51635f59\"},\"type\":\"BasicTickFormatter\",\"id\":\"2fb1f678-42dc-4d0b-cd86-9e1c51635f59\"},{\"attributes\":{\"tags\":[],\"num_minor_ticks\":5,\"doc\":null,\"id\":\"b299a1d2-1ec4-41f5-c137-e0cd4082c97a\"},\"type\":\"BasicTicker\",\"id\":\"b299a1d2-1ec4-41f5-c137-e0cd4082c97a\"},{\"attributes\":{\"tags\":[],\"axis_label\":null,\"ticker\":{\"id\":\"b299a1d2-1ec4-41f5-c137-e0cd4082c97a\",\"type\":\"BasicTicker\"},\"doc\":null,\"plot\":{\"id\":\"9ef7a281-b9e5-492b-c9c5-bfbb0cd3f77b\",\"type\":\"Plot\",\"subtype\":\"Figure\"},\"formatter\":{\"id\":\"2fb1f678-42dc-4d0b-cd86-9e1c51635f59\",\"type\":\"BasicTickFormatter\"},\"id\":\"c353503d-0f00-40ae-c0dd-308860ec8a87\"},\"type\":\"LinearAxis\",\"id\":\"c353503d-0f00-40ae-c0dd-308860ec8a87\"},{\"attributes\":{\"tags\":[],\"ticker\":{\"id\":\"b299a1d2-1ec4-41f5-c137-e0cd4082c97a\",\"type\":\"BasicTicker\"},\"dimension\":1,\"plot\":{\"id\":\"9ef7a281-b9e5-492b-c9c5-bfbb0cd3f77b\",\"type\":\"Plot\",\"subtype\":\"Figure\"},\"doc\":null,\"id\":\"e544fbd1-2b7a-4e88-ce56-c83764d96a3e\"},\"type\":\"Grid\",\"id\":\"e544fbd1-2b7a-4e88-ce56-c83764d96a3e\"},{\"attributes\":{\"tags\":[],\"doc\":null,\"plot\":{\"id\":\"9ef7a281-b9e5-492b-c9c5-bfbb0cd3f77b\",\"type\":\"Plot\",\"subtype\":\"Figure\"},\"dimensions\":[\"width\",\"height\"],\"id\":\"f1cd5214-3881-44e5-c496-68fddda2edb8\"},\"type\":\"PanTool\",\"id\":\"f1cd5214-3881-44e5-c496-68fddda2edb8\"},{\"attributes\":{\"tags\":[],\"doc\":null,\"plot\":{\"id\":\"9ef7a281-b9e5-492b-c9c5-bfbb0cd3f77b\",\"type\":\"Plot\",\"subtype\":\"Figure\"},\"dimensions\":[\"width\",\"height\"],\"id\":\"0f61ae53-fe7f-406f-c0d3-438bb7d4790d\"},\"type\":\"WheelZoomTool\",\"id\":\"0f61ae53-fe7f-406f-c0d3-438bb7d4790d\"},{\"attributes\":{\"tags\":[],\"plot\":{\"id\":\"9ef7a281-b9e5-492b-c9c5-bfbb0cd3f77b\",\"type\":\"Plot\",\"subtype\":\"Figure\"},\"doc\":null,\"id\":\"e4b5b46a-1374-4501-c59d-1b3d6d43c688\"},\"type\":\"BoxZoomTool\",\"id\":\"e4b5b46a-1374-4501-c59d-1b3d6d43c688\"},{\"attributes\":{\"tags\":[],\"plot\":{\"id\":\"9ef7a281-b9e5-492b-c9c5-bfbb0cd3f77b\",\"type\":\"Plot\",\"subtype\":\"Figure\"},\"doc\":null,\"id\":\"df733cda-c69f-47f0-c752-8476c52074e6\"},\"type\":\"PreviewSaveTool\",\"id\":\"df733cda-c69f-47f0-c752-8476c52074e6\"},{\"attributes\":{\"tags\":[],\"plot\":{\"id\":\"9ef7a281-b9e5-492b-c9c5-bfbb0cd3f77b\",\"type\":\"Plot\",\"subtype\":\"Figure\"},\"doc\":null,\"id\":\"dfe58fc6-4edd-4962-c940-388db3eba22e\"},\"type\":\"ResizeTool\",\"id\":\"dfe58fc6-4edd-4962-c940-388db3eba22e\"},{\"attributes\":{\"tags\":[],\"plot\":{\"id\":\"9ef7a281-b9e5-492b-c9c5-bfbb0cd3f77b\",\"type\":\"Plot\",\"subtype\":\"Figure\"},\"doc\":null,\"id\":\"91164bc2-caef-430d-c3d1-547e695fc5df\"},\"type\":\"ResetTool\",\"id\":\"91164bc2-caef-430d-c3d1-547e695fc5df\"},{\"attributes\":{\"left\":[{\"id\":\"c353503d-0f00-40ae-c0dd-308860ec8a87\",\"type\":\"LinearAxis\"}],\"below\":[{\"id\":\"daaa8937-2bb3-49ca-c98d-94f2a402059d\",\"type\":\"LinearAxis\"}],\"tool_events\":{\"id\":\"34f91ba7-2209-42aa-c269-1e331a434c50\",\"type\":\"ToolEvents\"},\"extra_y_ranges\":{},\"doc\":null,\"title\":\"Untitled Plot\",\"x_range\":{\"id\":\"797428cf-6e7a-47a7-c7d1-1d5dc05afb97\",\"type\":\"DataRange1d\"},\"tags\":[],\"renderers\":[{\"id\":\"f410b869-c0da-4e38-cefa-f68b8d4c5780\",\"type\":\"GlyphRenderer\"},{\"id\":\"38287ac7-49b1-4607-c660-2f5cf2df08cb\",\"type\":\"GlyphRenderer\"},{\"id\":\"9c309c7e-7da5-41a3-c161-80ebcd51c3be\",\"type\":\"GlyphRenderer\"},{\"id\":\"8a70de35-0cf8-49f8-c98f-bcf24a60dedb\",\"type\":\"GlyphRenderer\"},{\"id\":\"daaa8937-2bb3-49ca-c98d-94f2a402059d\",\"type\":\"LinearAxis\"},{\"id\":\"a73c92d8-c7a4-4d2f-cdd3-bba68b3c5164\",\"type\":\"Grid\"},{\"id\":\"c353503d-0f00-40ae-c0dd-308860ec8a87\",\"type\":\"LinearAxis\"},{\"id\":\"e544fbd1-2b7a-4e88-ce56-c83764d96a3e\",\"type\":\"Grid\"}],\"extra_x_ranges\":{},\"y_range\":{\"id\":\"48e6c531-838c-4922-c9c9-6706605a6a33\",\"type\":\"DataRange1d\"},\"right\":[],\"above\":[],\"tools\":[{\"id\":\"f1cd5214-3881-44e5-c496-68fddda2edb8\",\"type\":\"PanTool\"},{\"id\":\"0f61ae53-fe7f-406f-c0d3-438bb7d4790d\",\"type\":\"WheelZoomTool\"},{\"id\":\"e4b5b46a-1374-4501-c59d-1b3d6d43c688\",\"type\":\"BoxZoomTool\"},{\"id\":\"df733cda-c69f-47f0-c752-8476c52074e6\",\"type\":\"PreviewSaveTool\"},{\"id\":\"dfe58fc6-4edd-4962-c940-388db3eba22e\",\"type\":\"ResizeTool\"},{\"id\":\"91164bc2-caef-430d-c3d1-547e695fc5df\",\"type\":\"ResetTool\"}],\"id\":\"9ef7a281-b9e5-492b-c9c5-bfbb0cd3f77b\"},\"type\":\"Plot\",\"id\":\"9ef7a281-b9e5-492b-c9c5-bfbb0cd3f77b\"}];\n",
       "      Bokeh.load_models(all_models);\n",
       "      var model = Bokeh.Collections(modeltype).get(modelid);\n",
       "      $(\"#25054d6a-642c-43ef-c335-42b9484d54c4\").html(''); // clear any previous plot in window_id\n",
       "      var view = new model.default_view({model: model, el: \"#25054d6a-642c-43ef-c335-42b9484d54c4\"});\n",
       "  });\n",
       "    }\n",
       "});\n",
       "</script>\n",
       "<div class=\"plotdiv\" id=\"25054d6a-642c-43ef-c335-42b9484d54c4\"></div>\n"
      ]
     },
     "metadata": {},
     "output_type": "display_data"
    }
   ],
   "source": [
    "local plot = Plot()\n",
    "local x = tree_eval_200.range_games\n",
    "\n",
    "plot:line(x,x:clone():fill(avg_pot_won2:mean()),'red' ,'Original CFR in the paper')\n",
    "plot:line(x,avg_pot_won2:view(-1),'brown' ,'No Warm start CFR')\n",
    "\n",
    "plot:line(x,x:clone():fill(avg_pot_won5:mean()),'blue' ,'Original CFR in the paper')\n",
    "plot:line(x,avg_pot_won5:view(-1),'black' ,'No Warm start CFR')\n",
    "\n",
    "plot:draw()\n",
    "\n"
   ]
  },
  {
   "cell_type": "code",
   "execution_count": 50,
   "metadata": {},
   "outputs": [
    {
     "data": {
      "text/plain": [
       "ties: \t4013\n",
       "P1 won: \t12608\n",
       "P2 won: \t13379\n",
       "\n"
      ]
     },
     "execution_count": 50,
     "metadata": {},
     "output_type": "execute_result"
    }
   ],
   "source": [
    "tree_eval:display_results()"
   ]
  },
  {
   "cell_type": "code",
   "execution_count": 61,
   "metadata": {},
   "outputs": [
    {
     "data": {
      "text/plain": [
       "142600\n"
      ]
     },
     "execution_count": 61,
     "metadata": {},
     "output_type": "execute_result"
    }
   ],
   "source": [
    "tree_eval.A2_pot_matrix:sum()"
   ]
  },
  {
   "cell_type": "code",
   "execution_count": 65,
   "metadata": {},
   "outputs": [
    {
     "data": {
      "text/plain": [
       "0.43333333333333\n"
      ]
     },
     "execution_count": 65,
     "metadata": {},
     "output_type": "execute_result"
    }
   ],
   "source": [
    "tree_eval.A2_pot_tensor:sum()/(60*500)"
   ]
  },
  {
   "cell_type": "code",
   "execution_count": null,
   "metadata": {
    "collapsed": true
   },
   "outputs": [],
   "source": []
  },
  {
   "cell_type": "code",
   "execution_count": null,
   "metadata": {
    "collapsed": true
   },
   "outputs": [],
   "source": []
  },
  {
   "cell_type": "code",
   "execution_count": 51,
   "metadata": {},
   "outputs": [
    {
     "data": {
      "text/html": [
       "<script type=\"text/javascript\">\n",
       "$(function() {\n",
       "    if (typeof (window._bokeh_onload_callbacks) === \"undefined\"){\n",
       "  window._bokeh_onload_callbacks = [];\n",
       "    }\n",
       "    function load_lib(url, callback){\n",
       "  window._bokeh_onload_callbacks.push(callback);\n",
       "  if (window._bokeh_is_loading){\n",
       "      console.log(\"Bokeh: BokehJS is being loaded, scheduling callback at\", new Date());\n",
       "      return null;\n",
       "  }\n",
       "  console.log(\"Bokeh: BokehJS not loaded, scheduling load and callback at\", new Date());\n",
       "  window._bokeh_is_loading = true;\n",
       "  var s = document.createElement('script');\n",
       "  s.src = url;\n",
       "  s.async = true;\n",
       "  s.onreadystatechange = s.onload = function(){\n",
       "      Bokeh.embed.inject_css(\"https://cdn.pydata.org/bokeh-0.7.0.min.css\");\n",
       "      window._bokeh_onload_callbacks.forEach(function(callback){callback()});\n",
       "  };\n",
       "  s.onerror = function(){\n",
       "      console.warn(\"failed to load library \" + url);\n",
       "  };\n",
       "  document.getElementsByTagName(\"head\")[0].appendChild(s);\n",
       "    }\n",
       "\n",
       "    bokehjs_url = \"https://cdn.pydata.org/bokeh-0.7.0.min.js\"\n",
       "\n",
       "    var elt = document.getElementById(\"d72c2095-4923-49bf-c9fe-2768a3f50519\");\n",
       "    if(elt==null) {\n",
       "  console.log(\"Bokeh: ERROR: autoload.js configured with elementid 'd72c2095-4923-49bf-c9fe-2768a3f50519'\"\n",
       "        + \"but no matching script tag was found. \")\n",
       "  return false;\n",
       "    }\n",
       "\n",
       "    if(typeof(Bokeh) !== \"undefined\") {\n",
       "  console.log(\"Bokeh: BokehJS loaded, going straight to plotting\");\n",
       "  var modelid = \"0663a3d1-3a24-4013-c0c0-6f3828b28254\";\n",
       "  var modeltype = \"Plot\";\n",
       "  var all_models = [{\"attributes\":{\"tags\":[],\"data\":{\"y\":[0.030565705150366,0.030565705150366,0.030565705150366,0.030565705150366,0.030565705150366,0.030565705150366,0.030565705150366,0.030565705150366,0.030565705150366,0.030565705150366,0.030565705150366],\"x\":[1,50,100,150,200,250,300,350,400,450,500]},\"doc\":null,\"discrete_ranges\":{},\"cont_ranges\":{},\"selected\":[],\"column_names\":[\"y\",\"x\"],\"id\":\"b3174351-043c-4d0b-cd90-c2208e5cb557\"},\"type\":\"ColumnDataSource\",\"id\":\"b3174351-043c-4d0b-cd90-c2208e5cb557\"},{\"attributes\":{\"fill_alpha\":{\"units\":\"data\",\"value\":0.2},\"size\":{\"units\":\"screen\",\"value\":10},\"line_color\":{\"value\":\"red\"},\"line_alpha\":{\"units\":\"data\",\"value\":1},\"y\":{\"units\":\"data\",\"field\":\"y\"},\"tags\":[],\"fill_color\":{\"value\":\"red\"},\"x\":{\"units\":\"data\",\"field\":\"x\"},\"doc\":null,\"id\":\"6f9505e0-25a1-4ea9-cef1-1b5fd2698e29\"},\"type\":\"Line\",\"id\":\"6f9505e0-25a1-4ea9-cef1-1b5fd2698e29\"},{\"attributes\":{\"fill_alpha\":{\"units\":\"data\",\"value\":0.2},\"size\":{\"units\":\"screen\",\"value\":10},\"line_color\":{\"value\":\"red\"},\"line_alpha\":{\"units\":\"data\",\"value\":1},\"y\":{\"units\":\"data\",\"field\":\"y\"},\"tags\":[],\"fill_color\":{\"value\":\"red\"},\"x\":{\"units\":\"data\",\"field\":\"x\"},\"doc\":null,\"id\":\"4567668a-1e44-47fa-c73a-98a9f5b89725\"},\"type\":\"Line\",\"id\":\"4567668a-1e44-47fa-c73a-98a9f5b89725\"},{\"attributes\":{\"selection_glyph\":null,\"tags\":[],\"glyph\":{\"id\":\"6f9505e0-25a1-4ea9-cef1-1b5fd2698e29\",\"type\":\"Line\"},\"data_source\":{\"id\":\"b3174351-043c-4d0b-cd90-c2208e5cb557\",\"type\":\"ColumnDataSource\"},\"nonselection_glyph\":{\"id\":\"4567668a-1e44-47fa-c73a-98a9f5b89725\",\"type\":\"Line\"},\"server_data_source\":null,\"doc\":null,\"name\":null,\"id\":\"5c213534-0066-4193-c1ef-336e6310ec0f\"},\"type\":\"GlyphRenderer\",\"id\":\"5c213534-0066-4193-c1ef-336e6310ec0f\"},{\"attributes\":{\"tags\":[],\"data\":{\"y\":[0.20000000298023,0.0026666666381061,0.0093333330005407,0.0077777779661119,0.020166667178273,0.016133332625031,0.013777777552605,0.024619048461318,0.0051666665822268,0.012814815156162,0.023766666650772],\"x\":[1,50,100,150,200,250,300,350,400,450,500]},\"doc\":null,\"discrete_ranges\":{},\"cont_ranges\":{},\"selected\":[],\"column_names\":[\"y\",\"x\"],\"id\":\"0ec1877f-333d-400a-c0e4-761601c00eb0\"},\"type\":\"ColumnDataSource\",\"id\":\"0ec1877f-333d-400a-c0e4-761601c00eb0\"},{\"attributes\":{\"fill_alpha\":{\"units\":\"data\",\"value\":0.2},\"size\":{\"units\":\"screen\",\"value\":10},\"line_color\":{\"value\":\"brown\"},\"line_alpha\":{\"units\":\"data\",\"value\":1},\"y\":{\"units\":\"data\",\"field\":\"y\"},\"tags\":[],\"fill_color\":{\"value\":\"brown\"},\"x\":{\"units\":\"data\",\"field\":\"x\"},\"doc\":null,\"id\":\"d78654f9-a350-4a36-cab1-a49e1ace2850\"},\"type\":\"Line\",\"id\":\"d78654f9-a350-4a36-cab1-a49e1ace2850\"},{\"attributes\":{\"fill_alpha\":{\"units\":\"data\",\"value\":0.2},\"size\":{\"units\":\"screen\",\"value\":10},\"line_color\":{\"value\":\"brown\"},\"line_alpha\":{\"units\":\"data\",\"value\":1},\"y\":{\"units\":\"data\",\"field\":\"y\"},\"tags\":[],\"fill_color\":{\"value\":\"brown\"},\"x\":{\"units\":\"data\",\"field\":\"x\"},\"doc\":null,\"id\":\"8e35c837-5d41-4bde-cbea-37c2f14af631\"},\"type\":\"Line\",\"id\":\"8e35c837-5d41-4bde-cbea-37c2f14af631\"},{\"attributes\":{\"selection_glyph\":null,\"tags\":[],\"glyph\":{\"id\":\"d78654f9-a350-4a36-cab1-a49e1ace2850\",\"type\":\"Line\"},\"data_source\":{\"id\":\"0ec1877f-333d-400a-c0e4-761601c00eb0\",\"type\":\"ColumnDataSource\"},\"nonselection_glyph\":{\"id\":\"8e35c837-5d41-4bde-cbea-37c2f14af631\",\"type\":\"Line\"},\"server_data_source\":null,\"doc\":null,\"name\":null,\"id\":\"6dafa698-39eb-438f-c399-4031fa0d027b\"},\"type\":\"GlyphRenderer\",\"id\":\"6dafa698-39eb-438f-c399-4031fa0d027b\"},{\"attributes\":{\"tags\":[],\"doc\":null,\"sources\":[{\"source\":{\"type\":\"ColumnDataSource\",\"id\":\"b3174351-043c-4d0b-cd90-c2208e5cb557\"},\"columns\":[\"x\"]},{\"source\":{\"type\":\"ColumnDataSource\",\"id\":\"0ec1877f-333d-400a-c0e4-761601c00eb0\"},\"columns\":[\"x\"]}],\"id\":\"20f99167-01de-423c-c2ed-0bff820932f8\"},\"type\":\"DataRange1d\",\"id\":\"20f99167-01de-423c-c2ed-0bff820932f8\"},{\"attributes\":{\"tags\":[],\"doc\":null,\"sources\":[{\"source\":{\"type\":\"ColumnDataSource\",\"id\":\"b3174351-043c-4d0b-cd90-c2208e5cb557\"},\"columns\":[\"y\"]},{\"source\":{\"type\":\"ColumnDataSource\",\"id\":\"0ec1877f-333d-400a-c0e4-761601c00eb0\"},\"columns\":[\"y\"]}],\"id\":\"d33f5a7d-69c8-4239-c26d-b173d81e343e\"},\"type\":\"DataRange1d\",\"id\":\"d33f5a7d-69c8-4239-c26d-b173d81e343e\"},{\"attributes\":{\"tags\":[],\"geometries\":[],\"doc\":null,\"id\":\"35e1e9b3-137a-4add-caac-d5b7594e9e39\"},\"type\":\"ToolEvents\",\"id\":\"35e1e9b3-137a-4add-caac-d5b7594e9e39\"},{\"attributes\":{\"tags\":[],\"doc\":null,\"id\":\"4afaf0c3-eea8-4926-c91c-015f33597d21\"},\"type\":\"BasicTickFormatter\",\"id\":\"4afaf0c3-eea8-4926-c91c-015f33597d21\"},{\"attributes\":{\"tags\":[],\"num_minor_ticks\":5,\"doc\":null,\"id\":\"c458aadf-629c-4118-c11c-f4f75285b8ea\"},\"type\":\"BasicTicker\",\"id\":\"c458aadf-629c-4118-c11c-f4f75285b8ea\"},{\"attributes\":{\"tags\":[],\"axis_label\":null,\"ticker\":{\"id\":\"c458aadf-629c-4118-c11c-f4f75285b8ea\",\"type\":\"BasicTicker\"},\"doc\":null,\"plot\":{\"id\":\"0663a3d1-3a24-4013-c0c0-6f3828b28254\",\"type\":\"Plot\",\"subtype\":\"Figure\"},\"formatter\":{\"id\":\"4afaf0c3-eea8-4926-c91c-015f33597d21\",\"type\":\"BasicTickFormatter\"},\"id\":\"5b0b4931-1130-4f70-cf11-e0166026d0a6\"},\"type\":\"LinearAxis\",\"id\":\"5b0b4931-1130-4f70-cf11-e0166026d0a6\"},{\"attributes\":{\"tags\":[],\"ticker\":{\"id\":\"c458aadf-629c-4118-c11c-f4f75285b8ea\",\"type\":\"BasicTicker\"},\"dimension\":0,\"plot\":{\"id\":\"0663a3d1-3a24-4013-c0c0-6f3828b28254\",\"type\":\"Plot\",\"subtype\":\"Figure\"},\"doc\":null,\"id\":\"a8b1cb1b-dd05-4277-c242-c5a5df12173a\"},\"type\":\"Grid\",\"id\":\"a8b1cb1b-dd05-4277-c242-c5a5df12173a\"},{\"attributes\":{\"tags\":[],\"doc\":null,\"id\":\"3d4e7e51-1094-4906-c943-7d7d1ad800f3\"},\"type\":\"BasicTickFormatter\",\"id\":\"3d4e7e51-1094-4906-c943-7d7d1ad800f3\"},{\"attributes\":{\"tags\":[],\"num_minor_ticks\":5,\"doc\":null,\"id\":\"cbce5530-670f-473a-c748-4bdc82b7df38\"},\"type\":\"BasicTicker\",\"id\":\"cbce5530-670f-473a-c748-4bdc82b7df38\"},{\"attributes\":{\"tags\":[],\"axis_label\":null,\"ticker\":{\"id\":\"cbce5530-670f-473a-c748-4bdc82b7df38\",\"type\":\"BasicTicker\"},\"doc\":null,\"plot\":{\"id\":\"0663a3d1-3a24-4013-c0c0-6f3828b28254\",\"type\":\"Plot\",\"subtype\":\"Figure\"},\"formatter\":{\"id\":\"3d4e7e51-1094-4906-c943-7d7d1ad800f3\",\"type\":\"BasicTickFormatter\"},\"id\":\"be9aff5f-2ff4-4e1f-ce3d-bf8eafd6b508\"},\"type\":\"LinearAxis\",\"id\":\"be9aff5f-2ff4-4e1f-ce3d-bf8eafd6b508\"},{\"attributes\":{\"tags\":[],\"ticker\":{\"id\":\"cbce5530-670f-473a-c748-4bdc82b7df38\",\"type\":\"BasicTicker\"},\"dimension\":1,\"plot\":{\"id\":\"0663a3d1-3a24-4013-c0c0-6f3828b28254\",\"type\":\"Plot\",\"subtype\":\"Figure\"},\"doc\":null,\"id\":\"3dd55482-4a47-40d2-c031-3d8abc312066\"},\"type\":\"Grid\",\"id\":\"3dd55482-4a47-40d2-c031-3d8abc312066\"},{\"attributes\":{\"tags\":[],\"doc\":null,\"plot\":{\"id\":\"0663a3d1-3a24-4013-c0c0-6f3828b28254\",\"type\":\"Plot\",\"subtype\":\"Figure\"},\"dimensions\":[\"width\",\"height\"],\"id\":\"ea71b693-ba25-4092-c0ce-b6bae8355f7d\"},\"type\":\"PanTool\",\"id\":\"ea71b693-ba25-4092-c0ce-b6bae8355f7d\"},{\"attributes\":{\"tags\":[],\"doc\":null,\"plot\":{\"id\":\"0663a3d1-3a24-4013-c0c0-6f3828b28254\",\"type\":\"Plot\",\"subtype\":\"Figure\"},\"dimensions\":[\"width\",\"height\"],\"id\":\"a86d8b6b-f487-4b99-cb2d-c6dcaaf403df\"},\"type\":\"WheelZoomTool\",\"id\":\"a86d8b6b-f487-4b99-cb2d-c6dcaaf403df\"},{\"attributes\":{\"tags\":[],\"plot\":{\"id\":\"0663a3d1-3a24-4013-c0c0-6f3828b28254\",\"type\":\"Plot\",\"subtype\":\"Figure\"},\"doc\":null,\"id\":\"c60ed08d-a293-4687-c691-0560b375f1e7\"},\"type\":\"BoxZoomTool\",\"id\":\"c60ed08d-a293-4687-c691-0560b375f1e7\"},{\"attributes\":{\"tags\":[],\"plot\":{\"id\":\"0663a3d1-3a24-4013-c0c0-6f3828b28254\",\"type\":\"Plot\",\"subtype\":\"Figure\"},\"doc\":null,\"id\":\"077e6cfc-10f0-46ee-c6d9-05ea634205b3\"},\"type\":\"PreviewSaveTool\",\"id\":\"077e6cfc-10f0-46ee-c6d9-05ea634205b3\"},{\"attributes\":{\"tags\":[],\"plot\":{\"id\":\"0663a3d1-3a24-4013-c0c0-6f3828b28254\",\"type\":\"Plot\",\"subtype\":\"Figure\"},\"doc\":null,\"id\":\"2f21391c-5818-4261-c2a4-e879f0ed4d59\"},\"type\":\"ResizeTool\",\"id\":\"2f21391c-5818-4261-c2a4-e879f0ed4d59\"},{\"attributes\":{\"tags\":[],\"plot\":{\"id\":\"0663a3d1-3a24-4013-c0c0-6f3828b28254\",\"type\":\"Plot\",\"subtype\":\"Figure\"},\"doc\":null,\"id\":\"81afaba5-5ef3-4808-c83a-abb050d11b2c\"},\"type\":\"ResetTool\",\"id\":\"81afaba5-5ef3-4808-c83a-abb050d11b2c\"},{\"attributes\":{\"left\":[{\"id\":\"be9aff5f-2ff4-4e1f-ce3d-bf8eafd6b508\",\"type\":\"LinearAxis\"}],\"below\":[{\"id\":\"5b0b4931-1130-4f70-cf11-e0166026d0a6\",\"type\":\"LinearAxis\"}],\"tool_events\":{\"id\":\"35e1e9b3-137a-4add-caac-d5b7594e9e39\",\"type\":\"ToolEvents\"},\"extra_y_ranges\":{},\"doc\":null,\"title\":\"Untitled Plot\",\"x_range\":{\"id\":\"20f99167-01de-423c-c2ed-0bff820932f8\",\"type\":\"DataRange1d\"},\"tags\":[],\"renderers\":[{\"id\":\"5c213534-0066-4193-c1ef-336e6310ec0f\",\"type\":\"GlyphRenderer\"},{\"id\":\"6dafa698-39eb-438f-c399-4031fa0d027b\",\"type\":\"GlyphRenderer\"},{\"id\":\"5b0b4931-1130-4f70-cf11-e0166026d0a6\",\"type\":\"LinearAxis\"},{\"id\":\"a8b1cb1b-dd05-4277-c242-c5a5df12173a\",\"type\":\"Grid\"},{\"id\":\"be9aff5f-2ff4-4e1f-ce3d-bf8eafd6b508\",\"type\":\"LinearAxis\"},{\"id\":\"3dd55482-4a47-40d2-c031-3d8abc312066\",\"type\":\"Grid\"}],\"extra_x_ranges\":{},\"y_range\":{\"id\":\"d33f5a7d-69c8-4239-c26d-b173d81e343e\",\"type\":\"DataRange1d\"},\"right\":[],\"above\":[],\"tools\":[{\"id\":\"ea71b693-ba25-4092-c0ce-b6bae8355f7d\",\"type\":\"PanTool\"},{\"id\":\"a86d8b6b-f487-4b99-cb2d-c6dcaaf403df\",\"type\":\"WheelZoomTool\"},{\"id\":\"c60ed08d-a293-4687-c691-0560b375f1e7\",\"type\":\"BoxZoomTool\"},{\"id\":\"077e6cfc-10f0-46ee-c6d9-05ea634205b3\",\"type\":\"PreviewSaveTool\"},{\"id\":\"2f21391c-5818-4261-c2a4-e879f0ed4d59\",\"type\":\"ResizeTool\"},{\"id\":\"81afaba5-5ef3-4808-c83a-abb050d11b2c\",\"type\":\"ResetTool\"}],\"id\":\"0663a3d1-3a24-4013-c0c0-6f3828b28254\"},\"type\":\"Plot\",\"id\":\"0663a3d1-3a24-4013-c0c0-6f3828b28254\"}];\n",
       "  Bokeh.load_models(all_models);\n",
       "  var model = Bokeh.Collections(modeltype).get(modelid);\n",
       "  $(\"#d72c2095-4923-49bf-c9fe-2768a3f50519\").html(''); // clear any previous plot in window_id\n",
       "  var view = new model.default_view({model: model, el: \"#d72c2095-4923-49bf-c9fe-2768a3f50519\"});\n",
       "    } else {\n",
       "  load_lib(bokehjs_url, function() {\n",
       "      console.log(\"Bokeh: BokehJS plotting callback run at\", new Date())\n",
       "      var modelid = \"0663a3d1-3a24-4013-c0c0-6f3828b28254\";\n",
       "      var modeltype = \"Plot\";\n",
       "      var all_models = [{\"attributes\":{\"tags\":[],\"data\":{\"y\":[0.030565705150366,0.030565705150366,0.030565705150366,0.030565705150366,0.030565705150366,0.030565705150366,0.030565705150366,0.030565705150366,0.030565705150366,0.030565705150366,0.030565705150366],\"x\":[1,50,100,150,200,250,300,350,400,450,500]},\"doc\":null,\"discrete_ranges\":{},\"cont_ranges\":{},\"selected\":[],\"column_names\":[\"y\",\"x\"],\"id\":\"b3174351-043c-4d0b-cd90-c2208e5cb557\"},\"type\":\"ColumnDataSource\",\"id\":\"b3174351-043c-4d0b-cd90-c2208e5cb557\"},{\"attributes\":{\"fill_alpha\":{\"units\":\"data\",\"value\":0.2},\"size\":{\"units\":\"screen\",\"value\":10},\"line_color\":{\"value\":\"red\"},\"line_alpha\":{\"units\":\"data\",\"value\":1},\"y\":{\"units\":\"data\",\"field\":\"y\"},\"tags\":[],\"fill_color\":{\"value\":\"red\"},\"x\":{\"units\":\"data\",\"field\":\"x\"},\"doc\":null,\"id\":\"6f9505e0-25a1-4ea9-cef1-1b5fd2698e29\"},\"type\":\"Line\",\"id\":\"6f9505e0-25a1-4ea9-cef1-1b5fd2698e29\"},{\"attributes\":{\"fill_alpha\":{\"units\":\"data\",\"value\":0.2},\"size\":{\"units\":\"screen\",\"value\":10},\"line_color\":{\"value\":\"red\"},\"line_alpha\":{\"units\":\"data\",\"value\":1},\"y\":{\"units\":\"data\",\"field\":\"y\"},\"tags\":[],\"fill_color\":{\"value\":\"red\"},\"x\":{\"units\":\"data\",\"field\":\"x\"},\"doc\":null,\"id\":\"4567668a-1e44-47fa-c73a-98a9f5b89725\"},\"type\":\"Line\",\"id\":\"4567668a-1e44-47fa-c73a-98a9f5b89725\"},{\"attributes\":{\"selection_glyph\":null,\"tags\":[],\"glyph\":{\"id\":\"6f9505e0-25a1-4ea9-cef1-1b5fd2698e29\",\"type\":\"Line\"},\"data_source\":{\"id\":\"b3174351-043c-4d0b-cd90-c2208e5cb557\",\"type\":\"ColumnDataSource\"},\"nonselection_glyph\":{\"id\":\"4567668a-1e44-47fa-c73a-98a9f5b89725\",\"type\":\"Line\"},\"server_data_source\":null,\"doc\":null,\"name\":null,\"id\":\"5c213534-0066-4193-c1ef-336e6310ec0f\"},\"type\":\"GlyphRenderer\",\"id\":\"5c213534-0066-4193-c1ef-336e6310ec0f\"},{\"attributes\":{\"tags\":[],\"data\":{\"y\":[0.20000000298023,0.0026666666381061,0.0093333330005407,0.0077777779661119,0.020166667178273,0.016133332625031,0.013777777552605,0.024619048461318,0.0051666665822268,0.012814815156162,0.023766666650772],\"x\":[1,50,100,150,200,250,300,350,400,450,500]},\"doc\":null,\"discrete_ranges\":{},\"cont_ranges\":{},\"selected\":[],\"column_names\":[\"y\",\"x\"],\"id\":\"0ec1877f-333d-400a-c0e4-761601c00eb0\"},\"type\":\"ColumnDataSource\",\"id\":\"0ec1877f-333d-400a-c0e4-761601c00eb0\"},{\"attributes\":{\"fill_alpha\":{\"units\":\"data\",\"value\":0.2},\"size\":{\"units\":\"screen\",\"value\":10},\"line_color\":{\"value\":\"brown\"},\"line_alpha\":{\"units\":\"data\",\"value\":1},\"y\":{\"units\":\"data\",\"field\":\"y\"},\"tags\":[],\"fill_color\":{\"value\":\"brown\"},\"x\":{\"units\":\"data\",\"field\":\"x\"},\"doc\":null,\"id\":\"d78654f9-a350-4a36-cab1-a49e1ace2850\"},\"type\":\"Line\",\"id\":\"d78654f9-a350-4a36-cab1-a49e1ace2850\"},{\"attributes\":{\"fill_alpha\":{\"units\":\"data\",\"value\":0.2},\"size\":{\"units\":\"screen\",\"value\":10},\"line_color\":{\"value\":\"brown\"},\"line_alpha\":{\"units\":\"data\",\"value\":1},\"y\":{\"units\":\"data\",\"field\":\"y\"},\"tags\":[],\"fill_color\":{\"value\":\"brown\"},\"x\":{\"units\":\"data\",\"field\":\"x\"},\"doc\":null,\"id\":\"8e35c837-5d41-4bde-cbea-37c2f14af631\"},\"type\":\"Line\",\"id\":\"8e35c837-5d41-4bde-cbea-37c2f14af631\"},{\"attributes\":{\"selection_glyph\":null,\"tags\":[],\"glyph\":{\"id\":\"d78654f9-a350-4a36-cab1-a49e1ace2850\",\"type\":\"Line\"},\"data_source\":{\"id\":\"0ec1877f-333d-400a-c0e4-761601c00eb0\",\"type\":\"ColumnDataSource\"},\"nonselection_glyph\":{\"id\":\"8e35c837-5d41-4bde-cbea-37c2f14af631\",\"type\":\"Line\"},\"server_data_source\":null,\"doc\":null,\"name\":null,\"id\":\"6dafa698-39eb-438f-c399-4031fa0d027b\"},\"type\":\"GlyphRenderer\",\"id\":\"6dafa698-39eb-438f-c399-4031fa0d027b\"},{\"attributes\":{\"tags\":[],\"doc\":null,\"sources\":[{\"source\":{\"type\":\"ColumnDataSource\",\"id\":\"b3174351-043c-4d0b-cd90-c2208e5cb557\"},\"columns\":[\"x\"]},{\"source\":{\"type\":\"ColumnDataSource\",\"id\":\"0ec1877f-333d-400a-c0e4-761601c00eb0\"},\"columns\":[\"x\"]}],\"id\":\"20f99167-01de-423c-c2ed-0bff820932f8\"},\"type\":\"DataRange1d\",\"id\":\"20f99167-01de-423c-c2ed-0bff820932f8\"},{\"attributes\":{\"tags\":[],\"doc\":null,\"sources\":[{\"source\":{\"type\":\"ColumnDataSource\",\"id\":\"b3174351-043c-4d0b-cd90-c2208e5cb557\"},\"columns\":[\"y\"]},{\"source\":{\"type\":\"ColumnDataSource\",\"id\":\"0ec1877f-333d-400a-c0e4-761601c00eb0\"},\"columns\":[\"y\"]}],\"id\":\"d33f5a7d-69c8-4239-c26d-b173d81e343e\"},\"type\":\"DataRange1d\",\"id\":\"d33f5a7d-69c8-4239-c26d-b173d81e343e\"},{\"attributes\":{\"tags\":[],\"geometries\":[],\"doc\":null,\"id\":\"35e1e9b3-137a-4add-caac-d5b7594e9e39\"},\"type\":\"ToolEvents\",\"id\":\"35e1e9b3-137a-4add-caac-d5b7594e9e39\"},{\"attributes\":{\"tags\":[],\"doc\":null,\"id\":\"4afaf0c3-eea8-4926-c91c-015f33597d21\"},\"type\":\"BasicTickFormatter\",\"id\":\"4afaf0c3-eea8-4926-c91c-015f33597d21\"},{\"attributes\":{\"tags\":[],\"num_minor_ticks\":5,\"doc\":null,\"id\":\"c458aadf-629c-4118-c11c-f4f75285b8ea\"},\"type\":\"BasicTicker\",\"id\":\"c458aadf-629c-4118-c11c-f4f75285b8ea\"},{\"attributes\":{\"tags\":[],\"axis_label\":null,\"ticker\":{\"id\":\"c458aadf-629c-4118-c11c-f4f75285b8ea\",\"type\":\"BasicTicker\"},\"doc\":null,\"plot\":{\"id\":\"0663a3d1-3a24-4013-c0c0-6f3828b28254\",\"type\":\"Plot\",\"subtype\":\"Figure\"},\"formatter\":{\"id\":\"4afaf0c3-eea8-4926-c91c-015f33597d21\",\"type\":\"BasicTickFormatter\"},\"id\":\"5b0b4931-1130-4f70-cf11-e0166026d0a6\"},\"type\":\"LinearAxis\",\"id\":\"5b0b4931-1130-4f70-cf11-e0166026d0a6\"},{\"attributes\":{\"tags\":[],\"ticker\":{\"id\":\"c458aadf-629c-4118-c11c-f4f75285b8ea\",\"type\":\"BasicTicker\"},\"dimension\":0,\"plot\":{\"id\":\"0663a3d1-3a24-4013-c0c0-6f3828b28254\",\"type\":\"Plot\",\"subtype\":\"Figure\"},\"doc\":null,\"id\":\"a8b1cb1b-dd05-4277-c242-c5a5df12173a\"},\"type\":\"Grid\",\"id\":\"a8b1cb1b-dd05-4277-c242-c5a5df12173a\"},{\"attributes\":{\"tags\":[],\"doc\":null,\"id\":\"3d4e7e51-1094-4906-c943-7d7d1ad800f3\"},\"type\":\"BasicTickFormatter\",\"id\":\"3d4e7e51-1094-4906-c943-7d7d1ad800f3\"},{\"attributes\":{\"tags\":[],\"num_minor_ticks\":5,\"doc\":null,\"id\":\"cbce5530-670f-473a-c748-4bdc82b7df38\"},\"type\":\"BasicTicker\",\"id\":\"cbce5530-670f-473a-c748-4bdc82b7df38\"},{\"attributes\":{\"tags\":[],\"axis_label\":null,\"ticker\":{\"id\":\"cbce5530-670f-473a-c748-4bdc82b7df38\",\"type\":\"BasicTicker\"},\"doc\":null,\"plot\":{\"id\":\"0663a3d1-3a24-4013-c0c0-6f3828b28254\",\"type\":\"Plot\",\"subtype\":\"Figure\"},\"formatter\":{\"id\":\"3d4e7e51-1094-4906-c943-7d7d1ad800f3\",\"type\":\"BasicTickFormatter\"},\"id\":\"be9aff5f-2ff4-4e1f-ce3d-bf8eafd6b508\"},\"type\":\"LinearAxis\",\"id\":\"be9aff5f-2ff4-4e1f-ce3d-bf8eafd6b508\"},{\"attributes\":{\"tags\":[],\"ticker\":{\"id\":\"cbce5530-670f-473a-c748-4bdc82b7df38\",\"type\":\"BasicTicker\"},\"dimension\":1,\"plot\":{\"id\":\"0663a3d1-3a24-4013-c0c0-6f3828b28254\",\"type\":\"Plot\",\"subtype\":\"Figure\"},\"doc\":null,\"id\":\"3dd55482-4a47-40d2-c031-3d8abc312066\"},\"type\":\"Grid\",\"id\":\"3dd55482-4a47-40d2-c031-3d8abc312066\"},{\"attributes\":{\"tags\":[],\"doc\":null,\"plot\":{\"id\":\"0663a3d1-3a24-4013-c0c0-6f3828b28254\",\"type\":\"Plot\",\"subtype\":\"Figure\"},\"dimensions\":[\"width\",\"height\"],\"id\":\"ea71b693-ba25-4092-c0ce-b6bae8355f7d\"},\"type\":\"PanTool\",\"id\":\"ea71b693-ba25-4092-c0ce-b6bae8355f7d\"},{\"attributes\":{\"tags\":[],\"doc\":null,\"plot\":{\"id\":\"0663a3d1-3a24-4013-c0c0-6f3828b28254\",\"type\":\"Plot\",\"subtype\":\"Figure\"},\"dimensions\":[\"width\",\"height\"],\"id\":\"a86d8b6b-f487-4b99-cb2d-c6dcaaf403df\"},\"type\":\"WheelZoomTool\",\"id\":\"a86d8b6b-f487-4b99-cb2d-c6dcaaf403df\"},{\"attributes\":{\"tags\":[],\"plot\":{\"id\":\"0663a3d1-3a24-4013-c0c0-6f3828b28254\",\"type\":\"Plot\",\"subtype\":\"Figure\"},\"doc\":null,\"id\":\"c60ed08d-a293-4687-c691-0560b375f1e7\"},\"type\":\"BoxZoomTool\",\"id\":\"c60ed08d-a293-4687-c691-0560b375f1e7\"},{\"attributes\":{\"tags\":[],\"plot\":{\"id\":\"0663a3d1-3a24-4013-c0c0-6f3828b28254\",\"type\":\"Plot\",\"subtype\":\"Figure\"},\"doc\":null,\"id\":\"077e6cfc-10f0-46ee-c6d9-05ea634205b3\"},\"type\":\"PreviewSaveTool\",\"id\":\"077e6cfc-10f0-46ee-c6d9-05ea634205b3\"},{\"attributes\":{\"tags\":[],\"plot\":{\"id\":\"0663a3d1-3a24-4013-c0c0-6f3828b28254\",\"type\":\"Plot\",\"subtype\":\"Figure\"},\"doc\":null,\"id\":\"2f21391c-5818-4261-c2a4-e879f0ed4d59\"},\"type\":\"ResizeTool\",\"id\":\"2f21391c-5818-4261-c2a4-e879f0ed4d59\"},{\"attributes\":{\"tags\":[],\"plot\":{\"id\":\"0663a3d1-3a24-4013-c0c0-6f3828b28254\",\"type\":\"Plot\",\"subtype\":\"Figure\"},\"doc\":null,\"id\":\"81afaba5-5ef3-4808-c83a-abb050d11b2c\"},\"type\":\"ResetTool\",\"id\":\"81afaba5-5ef3-4808-c83a-abb050d11b2c\"},{\"attributes\":{\"left\":[{\"id\":\"be9aff5f-2ff4-4e1f-ce3d-bf8eafd6b508\",\"type\":\"LinearAxis\"}],\"below\":[{\"id\":\"5b0b4931-1130-4f70-cf11-e0166026d0a6\",\"type\":\"LinearAxis\"}],\"tool_events\":{\"id\":\"35e1e9b3-137a-4add-caac-d5b7594e9e39\",\"type\":\"ToolEvents\"},\"extra_y_ranges\":{},\"doc\":null,\"title\":\"Untitled Plot\",\"x_range\":{\"id\":\"20f99167-01de-423c-c2ed-0bff820932f8\",\"type\":\"DataRange1d\"},\"tags\":[],\"renderers\":[{\"id\":\"5c213534-0066-4193-c1ef-336e6310ec0f\",\"type\":\"GlyphRenderer\"},{\"id\":\"6dafa698-39eb-438f-c399-4031fa0d027b\",\"type\":\"GlyphRenderer\"},{\"id\":\"5b0b4931-1130-4f70-cf11-e0166026d0a6\",\"type\":\"LinearAxis\"},{\"id\":\"a8b1cb1b-dd05-4277-c242-c5a5df12173a\",\"type\":\"Grid\"},{\"id\":\"be9aff5f-2ff4-4e1f-ce3d-bf8eafd6b508\",\"type\":\"LinearAxis\"},{\"id\":\"3dd55482-4a47-40d2-c031-3d8abc312066\",\"type\":\"Grid\"}],\"extra_x_ranges\":{},\"y_range\":{\"id\":\"d33f5a7d-69c8-4239-c26d-b173d81e343e\",\"type\":\"DataRange1d\"},\"right\":[],\"above\":[],\"tools\":[{\"id\":\"ea71b693-ba25-4092-c0ce-b6bae8355f7d\",\"type\":\"PanTool\"},{\"id\":\"a86d8b6b-f487-4b99-cb2d-c6dcaaf403df\",\"type\":\"WheelZoomTool\"},{\"id\":\"c60ed08d-a293-4687-c691-0560b375f1e7\",\"type\":\"BoxZoomTool\"},{\"id\":\"077e6cfc-10f0-46ee-c6d9-05ea634205b3\",\"type\":\"PreviewSaveTool\"},{\"id\":\"2f21391c-5818-4261-c2a4-e879f0ed4d59\",\"type\":\"ResizeTool\"},{\"id\":\"81afaba5-5ef3-4808-c83a-abb050d11b2c\",\"type\":\"ResetTool\"}],\"id\":\"0663a3d1-3a24-4013-c0c0-6f3828b28254\"},\"type\":\"Plot\",\"id\":\"0663a3d1-3a24-4013-c0c0-6f3828b28254\"}];\n",
       "      Bokeh.load_models(all_models);\n",
       "      var model = Bokeh.Collections(modeltype).get(modelid);\n",
       "      $(\"#d72c2095-4923-49bf-c9fe-2768a3f50519\").html(''); // clear any previous plot in window_id\n",
       "      var view = new model.default_view({model: model, el: \"#d72c2095-4923-49bf-c9fe-2768a3f50519\"});\n",
       "  });\n",
       "    }\n",
       "});\n",
       "</script>\n",
       "<div class=\"plotdiv\" id=\"d72c2095-4923-49bf-c9fe-2768a3f50519\"></div>\n"
      ]
     },
     "metadata": {},
     "output_type": "display_data"
    }
   ],
   "source": [
    "local plot = Plot()\n",
    "local x = tree_eval.range_games\n",
    "\n",
    "plot:line(x,x:clone():fill(avg_pot_won:mean()),'red' ,'Original CFR in the paper')\n",
    "plot:line(x,avg_pot_won:view(-1),'brown' ,'No Warm start CFR')\n",
    "\n",
    "plot:draw()\n",
    "\n"
   ]
  },
  {
   "cell_type": "code",
   "execution_count": null,
   "metadata": {
    "collapsed": true
   },
   "outputs": [],
   "source": []
  },
  {
   "cell_type": "code",
   "execution_count": 37,
   "metadata": {},
   "outputs": [
    {
     "data": {
      "text/plain": [
       "ties: \t1587\n",
       "P1 won: \t5059\n",
       "P2 won: \t5354\n",
       "\n"
      ]
     },
     "execution_count": 36,
     "metadata": {},
     "output_type": "execute_result"
    },
    {
     "data": {
      "text/plain": [
       "12200\n",
       "451.32317405549\n"
      ]
     },
     "execution_count": 37,
     "metadata": {},
     "output_type": "execute_result"
    }
   ],
   "source": [
    "print(tree_eval.A2_pot_matrix:sum())\n",
    "print(tree_eval.A2_pot_matrix:std())"
   ]
  },
  {
   "cell_type": "code",
   "execution_count": null,
   "metadata": {
    "collapsed": true
   },
   "outputs": [],
   "source": [
    "print(\"Total number of pots won : \",tree_eval.A2_pot_matrix:sum()/min_pot)"
   ]
  },
  {
   "cell_type": "code",
   "execution_count": null,
   "metadata": {
    "collapsed": true
   },
   "outputs": [],
   "source": [
    "print(\"average amount won per game\",tree_eval.A2_pot_matrix:sum()/(number_of_times*60))"
   ]
  },
  {
   "cell_type": "code",
   "execution_count": null,
   "metadata": {
    "collapsed": true
   },
   "outputs": [],
   "source": [
    "avg_per_hand = tree_eval.A2_pot_matrix:mean(2)"
   ]
  },
  {
   "cell_type": "code",
   "execution_count": null,
   "metadata": {
    "collapsed": true
   },
   "outputs": [],
   "source": [
    "plot = Plot():circle(torch.range(1,avg_per_hand:size(1)),avg_per_hand:view(-1))\n",
    "plot:legend(true):title('Player 2 pot distribution, 10000 games, each possible card dealt'):draw()\n"
   ]
  },
  {
   "cell_type": "code",
   "execution_count": null,
   "metadata": {
    "collapsed": true
   },
   "outputs": [],
   "source": [
    "-- Building the neural net model\n",
    "strategy_nn = StrategyNN()\n",
    "nn_model = strategy_nn.model\n",
    "-- Building trainer:\n",
    "nn_trainer = NNTrainer(tree_data800,nn_model)\n",
    "-- Options:\n",
    "opt = {}\n",
    "opt.learningRate = 0.001\n",
    "opt.momentum = 0.95\n",
    "opt.validate = false"
   ]
  },
  {
   "cell_type": "code",
   "execution_count": null,
   "metadata": {
    "collapsed": true
   },
   "outputs": [],
   "source": []
  },
  {
   "cell_type": "code",
   "execution_count": null,
   "metadata": {
    "collapsed": true
   },
   "outputs": [],
   "source": []
  },
  {
   "cell_type": "code",
   "execution_count": null,
   "metadata": {
    "collapsed": true
   },
   "outputs": [],
   "source": [
    "cards = {}\n",
    "cards.P1 = 1\n",
    "cards.P2 = 2\n",
    "cards.board = 4\n",
    "number_of_games = 100"
   ]
  },
  {
   "cell_type": "code",
   "execution_count": null,
   "metadata": {
    "collapsed": true
   },
   "outputs": [],
   "source": [
    "tree_eval.A2_pot_tensor"
   ]
  },
  {
   "cell_type": "code",
   "execution_count": null,
   "metadata": {
    "collapsed": true
   },
   "outputs": [],
   "source": [
    "print(tree_eval.A2_pot_tensor:mean())\n",
    "print(tree_eval.A2_pot_tensor:std())"
   ]
  },
  {
   "cell_type": "code",
   "execution_count": null,
   "metadata": {
    "collapsed": true
   },
   "outputs": [],
   "source": [
    "tree_eval:display_results()"
   ]
  },
  {
   "cell_type": "code",
   "execution_count": null,
   "metadata": {
    "collapsed": true
   },
   "outputs": [],
   "source": [
    "local pot_table = {}\n",
    "local size_sample = 50\n",
    "for i = 1,50 do\n",
    "    tree_eval:play_several_games(tree1,tree2,size_sample)\n",
    "    table.insert(pot_table,tree_eval.A2_pot/size_sample)\n",
    "end\n",
    "print(\"player_2 won: \",torch.FloatTensor(pot_table):mean())"
   ]
  },
  {
   "cell_type": "code",
   "execution_count": null,
   "metadata": {
    "collapsed": true
   },
   "outputs": [],
   "source": [
    "pot_table_A2 = {}\n",
    "local number_of_games = 1000\n",
    "local cards_tensor = construct_possible_game_states()\n",
    "for i = 1,cards_tensor:size(1) do\n",
    "    local cards = distribute_cards(cards_tensor[i])\n",
    "    tree_eval:play_deterministic_games(tree1,tree2,number_of_games,cards)\n",
    "    table.insert(pot_table_A2,tree_eval.A2_pot)\n",
    "end\n",
    "print(\"player_2 won: \",torch.FloatTensor(pot_table_A2):mean())\n",
    "print(\"player_2 std: \",torch.FloatTensor(pot_table_A2):std())\n",
    "tree_eval:display_results()"
   ]
  },
  {
   "cell_type": "code",
   "execution_count": null,
   "metadata": {
    "collapsed": true
   },
   "outputs": [],
   "source": [
    "torch.sqrt(60)*(1803/150716)"
   ]
  },
  {
   "cell_type": "code",
   "execution_count": null,
   "metadata": {
    "collapsed": true
   },
   "outputs": [],
   "source": [
    "plot = Plot():histogram(torch.FloatTensor(pot_table_A2)):draw()"
   ]
  },
  {
   "cell_type": "code",
   "execution_count": null,
   "metadata": {
    "collapsed": true
   },
   "outputs": [],
   "source": []
  },
  {
   "cell_type": "code",
   "execution_count": null,
   "metadata": {
    "collapsed": true
   },
   "outputs": [],
   "source": [
    "pot_table1 = {}\n",
    "local number_of_games = 10\n",
    "local cards_tensor = construct_possible_game_states()\n",
    "for i = 1,cards_tensor:size(1) do\n",
    "    for j = 1,number_of_games do\n",
    "        local cards = distribute_cards(cards_tensor[i])\n",
    "        tree_eval:play_deterministic_games(tree1,tree2,number_of_plays,cards)\n",
    "        table.insert(pot_table1,tree_eval.A2_pot)\n",
    "    end\n",
    "end\n",
    "print(\"player_2 won: \",torch.FloatTensor(pot_table1):mean())\n",
    "print(\"player_2 std: \",torch.FloatTensor(pot_table1):std())"
   ]
  },
  {
   "cell_type": "code",
   "execution_count": null,
   "metadata": {
    "collapsed": true
   },
   "outputs": [],
   "source": [
    "pot_table1 = {}\n",
    "local number_of_games = 20\n",
    "local cards_tensor = construct_possible_game_states()\n",
    "for i = 1,cards_tensor:size(1) do\n",
    "    for j = 1,number_of_games do\n",
    "        local cards = distribute_cards(cards_tensor[i])\n",
    "        tree_eval:play_deterministic_games(tree1,tree2,number_of_plays,cards)\n",
    "        table.insert(pot_table1,tree_eval.A2_pot)\n",
    "    end\n",
    "end\n",
    "print(\"player_2 won: \",torch.FloatTensor(pot_table1):mean())\n",
    "print(\"player_2 std: \",torch.FloatTensor(pot_table1):std())"
   ]
  },
  {
   "cell_type": "code",
   "execution_count": null,
   "metadata": {
    "collapsed": true
   },
   "outputs": [],
   "source": [
    "pot_table1 = {}\n",
    "local number_of_games = 50\n",
    "local cards_tensor = construct_possible_game_states()\n",
    "for i = 1,cards_tensor:size(1) do\n",
    "    for j = 1,number_of_games do\n",
    "        local cards = distribute_cards(cards_tensor[i])\n",
    "        tree_eval:play_deterministic_games(tree1,tree2,number_of_plays,cards)   --- --> CHECK NUMBER OF GAMES!\n",
    "        table.insert(pot_table1,tree_eval.A2_pot)\n",
    "    end\n",
    "end\n",
    "print(\"player_2 won: \",torch.FloatTensor(pot_table1):mean())\n",
    "print(\"player_2 std: \",torch.FloatTensor(pot_table1):std())"
   ]
  },
  {
   "cell_type": "code",
   "execution_count": null,
   "metadata": {
    "collapsed": true
   },
   "outputs": [],
   "source": [
    " cardsInv = {}\n",
    "cardsInv.P1 = cards.P2\n",
    "cardsInv.P2 = cards.P1\n",
    "cardsInv.board = cards.board"
   ]
  },
  {
   "cell_type": "code",
   "execution_count": null,
   "metadata": {
    "collapsed": true
   },
   "outputs": [],
   "source": [
    "pot_table2 = {}\n",
    "local size_sample = 100\n",
    "for i = 1,20 do\n",
    "    tree_eval:play_deterministic_games(tree1,tree2,size_sample,cardsInv)\n",
    "    table.insert(pot_table2,tree_eval.A2_pot/size_sample)\n",
    "end\n",
    "print(\"player_2 won: \",torch.FloatTensor(pot_table2):mean())\n",
    "print(\"player_2 std: \",torch.FloatTensor(pot_table2):std())"
   ]
  },
  {
   "cell_type": "code",
   "execution_count": null,
   "metadata": {
    "collapsed": true
   },
   "outputs": [],
   "source": [
    "---plot = Plot():histogram(torch.FloatTensor(pot_table1)):draw()"
   ]
  },
  {
   "cell_type": "code",
   "execution_count": null,
   "metadata": {
    "collapsed": true
   },
   "outputs": [],
   "source": [
    "---plot = Plot():histogram(torch.FloatTensor(pot_table2)):draw()"
   ]
  },
  {
   "cell_type": "code",
   "execution_count": null,
   "metadata": {
    "collapsed": true
   },
   "outputs": [],
   "source": [
    "x[1]"
   ]
  },
  {
   "cell_type": "code",
   "execution_count": null,
   "metadata": {
    "collapsed": true
   },
   "outputs": [],
   "source": []
  },
  {
   "cell_type": "code",
   "execution_count": null,
   "metadata": {
    "collapsed": true
   },
   "outputs": [],
   "source": [
    "number_of_times = 100\n",
    "interval = 20\n",
    "range_games = torch.range(0,number_of_times,interval)\n",
    "pots_won_tensor = torch.FlaoatTensor(1,range_games:size(1))\n",
    "avg_gain_per_game = torch.FloatTensor(1,range_games:size(1))\n",
    "range_games[1] = 1\n",
    "for i = 1,range_games:size(1) do\n",
    "    print(\"iteration: \", range_games[i])\n",
    "    tree_eval:play_all_combinations_n_times(tree_bench,tree_200,range_games[i])\n",
    "    local pot_won = tree_eval.A2_pot_matrix:sum()/(pot*range_games[i]*60)\n",
    "    local avg_gain = tree_eval.A2_pot_matrix:sum()/(range_games[i]*60)\n",
    "    pots_won_tensor[{1,i}] = pot_won\n",
    "    avg_gain_per_game[{1,i}] = avg_gain\n",
    "    print(\"Total number of pots won : \",pot_won)\n",
    "    print(\"average amount won per game\",avg_gain)\n",
    "    collectgarbage()\n",
    "end\n"
   ]
  }
 ],
 "metadata": {
  "kernelspec": {
   "display_name": "iTorch",
   "language": "lua",
   "name": "itorch"
  },
  "language_info": {
   "name": "lua",
   "version": "5.2"
  }
 },
 "nbformat": 4,
 "nbformat_minor": 2
}
