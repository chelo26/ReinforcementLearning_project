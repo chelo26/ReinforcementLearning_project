{
 "cells": [
  {
   "cell_type": "code",
   "execution_count": 1,
   "metadata": {
    "collapsed": true
   },
   "outputs": [],
   "source": [
    "--- Libraries:\n",
    "arguments = require 'Settings.arguments'\n",
    "constants = require 'Settings.constants'\n",
    "card_to_string = require 'Game.card_to_string_conversion'\n",
    "card_tools = require 'Game.card_tools'\n",
    "game_settings = require 'Settings.game_settings'\n",
    "Plot = require 'itorch.Plot'\n",
    "nninit = require 'nninit'\n",
    "require 'torch'\n",
    "require 'math'\n",
    "require 'Tree.tree_builder'\n",
    "require 'Tree.tree_data_generation'\n",
    "require 'Tree.tree_values'\n",
    "require 'Tree.tree_visualiser'\n",
    "require 'nn'\n",
    "require 'Tree.tree_cfr'\n",
    "require 'Tree.tree_cfr2'\n",
    "require 'nngraph'\n",
    "require 'optim'\n",
    "require 'image'\n",
    "require 'NN.strategy_net_builder'\n",
    "require 'NN.strategy_net_trainer'\n",
    "require 'Tree.tree_warm_start'\n",
    "require 'Adversarials.exploitabilityVS'\n",
    "require 'Nn.StrategyCriterion'\n",
    "require 'csvigo'"
   ]
  },
  {
   "cell_type": "code",
   "execution_count": 2,
   "metadata": {
    "collapsed": true
   },
   "outputs": [],
   "source": [
    "function strategies_initializer(params, starting_ranges,num_iter,num_skip)\n",
    "    local timer = torch.Timer()\n",
    "    local num_iter = num_iter or 200\n",
    "    local num_skip = num_skip or 50\n",
    "    local params = params\n",
    "    local tree_train= builder:build_tree(params)\n",
    "    local tree_data = TreeData(tree_train)\n",
    "\n",
    "    --- running CFR for nn_iter skiping num_skip\n",
    "    local solver_train = TreeCFR2()\n",
    "    solver_train.cfr_skip = num_skip\n",
    "    solver_train:run_clean_cfr(tree_train,starting_ranges,num_iter)\n",
    "\n",
    "    --- Getting training set:\n",
    "    tree_data:get_training_set(tree_train,1)\n",
    "    print('training train tree with CFR: ')--- ..timer:time().. ' secs')\n",
    "\n",
    "    -- Building the neural net model\n",
    "    local strategy_nn = StrategyNN()\n",
    "    local nn_model = strategy_nn.model\n",
    "\n",
    "    -- Building trainer:\n",
    "    local nn_trainer = NNTrainer(tree_data,nn_model)\n",
    "    -- Options:\n",
    "    local opt = {}\n",
    "    opt.learningRate = 0.001\n",
    "    opt.momentum = 0.95\n",
    "    opt.validate = false\n",
    "    local current_criterion = StrategyLoss()---nn.SmoothL1Criterion()\n",
    "    local train,test= nn_trainer:train(nn_model,current_criterion,opt,10000)\n",
    "    print(\"training neural network: \")--- ..timer:time().. ' secs')\n",
    "\n",
    "    --- NNWarm Starting\n",
    "    local treeNNWarm = builder:build_tree(params)\n",
    "    local dataNN = TreeData(treeNNWarm)\n",
    "    dataNN:get_training_set(treeNNWarm,1)\n",
    "    dataNN:generate_new_initial_strategies(treeNNWarm,nn_trainer)\n",
    "\n",
    "    ---Warm start the regrets for NN:\n",
    "    dataNN:warm_start_regrets(treeNNWarm,tree_train)\n",
    "    print(\"target warm-start\")\n",
    "\n",
    "    --- Target Warm Starting\n",
    "    local treeTargetWarm = builder:build_tree(params)\n",
    "    local tree_data_target = TreeData(treeTargetWarm)\n",
    "    tree_data_target:warm_start_targets_and_regrets(treeTargetWarm,tree_train)\n",
    "    print(\"Whole Process: \")--- ..timer:time().. ' secs')\n",
    "    ---timer:stop()\n",
    "    return treeNNWarm,treeTargetWarm\n",
    "end\n",
    "\n",
    "\n",
    "function get_returns(tree1,tree2,num_iter)\n",
    "    --- default number of iterations:\n",
    "    local num_iter = num_iter or 100\n",
    "\n",
    "    --- Evaluator : Poker match for num_iter times each combination\n",
    "    local evaluator = StrategyEvaluator(tree1,tree2)\n",
    "    evaluator:play_all_combinations_n_times(tree1,tree2,num_iter)\n",
    "    local win_rate = evaluator.A2_winning_rate\n",
    "    local avg_gain= evaluator.A2_avg_pot_won\n",
    "\n",
    "    --- Return the avg pot won and the win rate:\n",
    "    return avg_gain,win_rate\n",
    "end\n",
    "\n",
    "\n",
    "function get_tensor_returns(tree1,tree2,number_of_tests,num_iter)\n",
    "\n",
    "    --- num_iter is the number of games played all 60 combinations:\n",
    "    local num_iter = num_iter or 100\n",
    "    local number_of_tests = number_of_tests or 10\n",
    "    local avg_gain_tensor = torch.FloatTensor(1,number_of_tests)\n",
    "    local win_rate_tensor = torch.FloatTensor(1,number_of_tests)\n",
    "\n",
    "    --- Playing for number_of_tests times the 60 combinations num iter times\n",
    "    for i =1,number_of_tests do\n",
    "        local avg_gain,win_rate = get_returns(tree1,tree2,num_iter) \n",
    "        avg_gain_tensor[{1,i}]= avg_gain\n",
    "        win_rate_tensor[{1,i}]= win_rate\n",
    "    end\n",
    "    print('avg gains: '..avg_gain_tensor:mean()..' ,win rate :'..win_rate_tensor:mean())\n",
    "    return avg_gain_tensor,win_rate_tensor\n",
    "end\n",
    "\n",
    "function get_CFR_tensor_returns(tree1,tree2,num_tests,num_games,cfr_iter,cfr_skip)\n",
    "    --- Cfr iterations and number of skpis:\n",
    "    local cfr_iter = cfr_iter or 100\n",
    "    local cfr_skip = cfr_skip or 50\n",
    "\n",
    "    --- CFR Solver:\n",
    "    local solver = TreeCFR2()\n",
    "    solver.cfr_skip = cfr_skip \n",
    "    local starting_ranges = arguments.Tensor(constants.players_count, game_settings.card_count)\n",
    "    starting_ranges[1]:copy(card_tools:get_uniform_range(tree2.board))\n",
    "    starting_ranges[2]:copy(card_tools:get_uniform_range(tree2.board))\n",
    "\n",
    "    --- Clean CFR : without exploitability computation\n",
    "    ---local tree_data2 = TreeData(tree2)\n",
    "---    local solver_train = TreeCFR2()\n",
    "    solver:run_clean_cfr(tree2, starting_ranges,cfr_iter)\n",
    "\n",
    "    ---print(\"CFR completed iterations\")\n",
    "    --- Starts poker_match\n",
    "    local num_games = num_games or 100\n",
    "    local num_tests = num_tests or 10\n",
    "    local avg_gain_tensor = torch.FloatTensor(1,num_tests)\n",
    "    local win_rate_tensor = torch.FloatTensor(1,num_tests)\n",
    "\n",
    "    for i =1,num_tests do\n",
    "        local avg_gain,win_rate = get_returns(tree1,tree2,num_games) \n",
    "        avg_gain_tensor[{1,i}]= avg_gain\n",
    "        win_rate_tensor[{1,i}]= win_rate\n",
    "\n",
    "    end\n",
    "    print('avg gains: '..avg_gain_tensor:mean()..' ,win rate :'..win_rate_tensor:mean())\n",
    "    return avg_gain_tensor,win_rate_tensor,solver\n",
    "end\n"
   ]
  },
  {
   "cell_type": "code",
   "execution_count": 3,
   "metadata": {
    "collapsed": true
   },
   "outputs": [],
   "source": [
    "--- Important variables:\n",
    "pot = 200\n",
    "total_combinations = 60"
   ]
  },
  {
   "cell_type": "code",
   "execution_count": 39,
   "metadata": {
    "collapsed": true
   },
   "outputs": [],
   "source": [
    "--- Create the tree\n",
    "builder = PokerTreeBuilder()\n",
    "--- Parameters for the tree\n",
    "params = {}\n",
    "params.root_node = {}\n",
    "params.root_node.board = card_to_string:string_to_board('')\n",
    "params.root_node.street = 1\n",
    "params.root_node.current_player = constants.players.P1\n",
    "params.root_node.bets = arguments.Tensor{pot,pot}\n",
    "--- CFR Solver\n",
    "starting_ranges = arguments.Tensor(constants.players_count, game_settings.card_count)\n",
    "starting_ranges[1]:copy(card_tools:get_uniform_range(params.root_node.board))\n",
    "starting_ranges[2]:copy(card_tools:get_uniform_range(params.root_node.board))\n",
    "--- exploitability\n",
    "---exploit = TreeValues()"
   ]
  },
  {
   "cell_type": "code",
   "execution_count": 51,
   "metadata": {},
   "outputs": [
    {
     "data": {
      "text/plain": [
       "training train tree with CFR: \n"
      ]
     },
     "execution_count": 51,
     "metadata": {},
     "output_type": "execute_result"
    },
    {
     "data": {
      "text/plain": [
       "training neural network: \n"
      ]
     },
     "execution_count": 51,
     "metadata": {},
     "output_type": "execute_result"
    },
    {
     "data": {
      "text/plain": [
       "target warm-start\n"
      ]
     },
     "execution_count": 51,
     "metadata": {},
     "output_type": "execute_result"
    },
    {
     "data": {
      "text/plain": [
       "Whole Process: \n"
      ]
     },
     "execution_count": 51,
     "metadata": {},
     "output_type": "execute_result"
    }
   ],
   "source": [
    "--- Initialize trees\n",
    "nn_iter_init = 20\n",
    "nn_iter_skip = 15\n",
    "tree_bench = builder:build_tree(params)\n",
    "tree_unif = builder:build_tree(params)\n",
    "tree_NN, tree_targ,tree_train= strategies_initializer(params,starting_ranges,nn_iter_init,nn_iter_skip)"
   ]
  },
  {
   "cell_type": "code",
   "execution_count": 32,
   "metadata": {
    "collapsed": true
   },
   "outputs": [],
   "source": [
    "num_tests = 5\n",
    "num_games = 100"
   ]
  },
  {
   "cell_type": "code",
   "execution_count": 33,
   "metadata": {},
   "outputs": [],
   "source": [
    "local cfr_iter = 100\n",
    "tree_unif1 = builder:build_tree(params)\n",
    "solver1 = TreeCFR2()\n",
    "solver1.cfr_skip = 50\n",
    "solver1:run_cfr(tree_unif1, starting_ranges,cfr_iter)\n",
    "---a1,b1 = get_tensor_returns(tree_bench,tree_unif1,num_tests,num_games)"
   ]
  },
  {
   "cell_type": "code",
   "execution_count": 34,
   "metadata": {
    "collapsed": true
   },
   "outputs": [],
   "source": [
    "local cfr_iter = 500\n",
    "tree_unif2 = builder:build_tree(params)\n",
    "solver2 = TreeCFR2()\n",
    "solver2.cfr_skip = 400\n",
    "solver2:run_cfr(tree_unif2, starting_ranges,cfr_iter)"
   ]
  },
  {
   "cell_type": "code",
   "execution_count": 35,
   "metadata": {},
   "outputs": [
    {
     "data": {
      "text/plain": [
       "avg gains: -0.00026666651829146 ,win rate :0.50486981868744\n"
      ]
     },
     "execution_count": 35,
     "metadata": {},
     "output_type": "execute_result"
    }
   ],
   "source": [
    "a,b = get_tensor_returns(tree_unif1,tree_unif2,num_tests,num_games)"
   ]
  },
  {
   "cell_type": "code",
   "execution_count": 36,
   "metadata": {},
   "outputs": [
    {
     "data": {
      "text/plain": [
       " 164.9537\n",
       " 164.9537\n",
       " 164.9537\n",
       " 164.9537\n",
       " 164.9537\n",
       " 164.9537\n",
       " 164.9537\n",
       " 164.9537\n",
       "  21.0075\n",
       "   8.1652\n",
       "   5.6186\n",
       "   3.7363\n",
       "   3.0580\n",
       "   2.6466\n",
       "   2.7383\n",
       "[torch.FloatTensor of size 15]\n",
       "\t 164.9537\n",
       " 164.9537\n",
       " 164.9537\n",
       " 164.9537\n",
       " 164.9537\n",
       " 164.9537\n",
       " 164.9537\n",
       " 164.9537\n",
       "   0.9191\n",
       "   0.4792\n",
       "   0.5076\n",
       "   0.2924\n",
       "   0.3513\n",
       "   0.2917\n",
       "   0.3158\n",
       "[torch.FloatTensor of size 15]\n",
       "\n"
      ]
     },
     "execution_count": 36,
     "metadata": {},
     "output_type": "execute_result"
    }
   ],
   "source": [
    "print(solver1.exploitability_vec,solver2.exploitability_vec)"
   ]
  },
  {
   "cell_type": "code",
   "execution_count": null,
   "metadata": {
    "collapsed": true
   },
   "outputs": [],
   "source": []
  },
  {
   "cell_type": "code",
   "execution_count": 37,
   "metadata": {},
   "outputs": [],
   "source": [
    "---a2,b2 = get_tensor_returns(tree_bench,tree_unif2,num_tests,num_games)"
   ]
  },
  {
   "cell_type": "code",
   "execution_count": null,
   "metadata": {
    "collapsed": true
   },
   "outputs": [],
   "source": []
  },
  {
   "cell_type": "code",
   "execution_count": 47,
   "metadata": {
    "collapsed": true
   },
   "outputs": [],
   "source": [
    "num_tests =10\n",
    "num_games = 100"
   ]
  },
  {
   "cell_type": "code",
   "execution_count": 48,
   "metadata": {},
   "outputs": [
    {
     "data": {
      "text/plain": [
       "avg gains: -0.0055499997339211 ,win rate :0.50091035366058\n"
      ]
     },
     "execution_count": 48,
     "metadata": {},
     "output_type": "execute_result"
    },
    {
     "data": {
      "text/plain": [
       "avg gains: 0.66606668233871 ,win rate :0.61289432644844\n"
      ]
     },
     "execution_count": 48,
     "metadata": {},
     "output_type": "execute_result"
    },
    {
     "data": {
      "text/plain": [
       "avg gains: 0.69851666092873 ,win rate :0.61887218356133\n"
      ]
     },
     "execution_count": 48,
     "metadata": {},
     "output_type": "execute_result"
    }
   ],
   "source": [
    "--- Gains Before\n",
    "gain_unif_before,win_unif_before=get_tensor_returns(tree_bench,tree_unif,num_tests,num_games)\n",
    "gain_nn_before,win_nn_before=get_tensor_returns(tree_bench,tree_NN,num_tests,num_games)\n",
    "gain_target_before,win_target_before=get_tensor_returns(tree_bench,tree_targ,num_tests,num_games)"
   ]
  },
  {
   "cell_type": "code",
   "execution_count": 49,
   "metadata": {
    "collapsed": true
   },
   "outputs": [],
   "source": [
    "cfr_iter = 20\n",
    "cfr_skip = 10"
   ]
  },
  {
   "cell_type": "code",
   "execution_count": 50,
   "metadata": {},
   "outputs": [
    {
     "data": {
      "text/plain": [
       "avg gains: 0.67951667308807 ,win rate :0.61953836083412\n"
      ]
     },
     "execution_count": 50,
     "metadata": {},
     "output_type": "execute_result"
    },
    {
     "data": {
      "text/plain": [
       "avg gains: 0.60031667351723 ,win rate :0.57670522928238\n"
      ]
     },
     "execution_count": 50,
     "metadata": {},
     "output_type": "execute_result"
    },
    {
     "data": {
      "text/plain": [
       "avg gains: 0.61846667528152 ,win rate :0.58098089694977\n"
      ]
     },
     "execution_count": 50,
     "metadata": {},
     "output_type": "execute_result"
    }
   ],
   "source": [
    "gain_unif_after,win_unif_after = get_CFR_tensor_returns(tree_bench,tree_unif,num_tests,num_games,cfr_iter,cfr_skip)\n",
    "gain_nn_after,win_nn_after = get_CFR_tensor_returns(tree_bench,tree_NN,num_tests,num_games,cfr_iter,cfr_skip)\n",
    "gain_target_after,win_target_after = get_CFR_tensor_returns(tree_bench,tree_targ,num_tests,num_games,cfr_iter,cfr_skip)"
   ]
  },
  {
   "cell_type": "code",
   "execution_count": null,
   "metadata": {
    "collapsed": true
   },
   "outputs": [],
   "source": []
  },
  {
   "cell_type": "code",
   "execution_count": null,
   "metadata": {
    "collapsed": true
   },
   "outputs": [],
   "source": []
  },
  {
   "cell_type": "code",
   "execution_count": null,
   "metadata": {},
   "outputs": [],
   "source": [
    "gb = gain_unif_before:cat(gain_nn_before,1):cat(gain_target_before,1)\n",
    "ga = gain_unif_after:cat(gain_nn_after,1):cat(gain_target_after,1)\n",
    "wb = win_unif_before:cat(win_nn_before,1):cat(win_target_before,1)\n",
    "wa = win_unif_after:cat(win_nn_after,1):cat(win_target_after,1)\n",
    "res = gb:cat(ga,1):cat(wb,1):cat(wa,1)\n",
    "res_table = torch.totable(res)\n",
    "csvigo.save(\"res_match_last.csv\",res_table)"
   ]
  },
  {
   "cell_type": "code",
   "execution_count": null,
   "metadata": {
    "collapsed": true
   },
   "outputs": [],
   "source": []
  },
  {
   "cell_type": "code",
   "execution_count": null,
   "metadata": {
    "collapsed": true
   },
   "outputs": [],
   "source": [
    "local num_iter = torch.range(1,gain_unif_before:size(2))\n",
    "local plot = Plot()\n",
    "\n",
    "plot:line(num_iter,gain_unif_before:view(-1),'black' ,'No Warm start CFR = Uniform warm start')\n",
    "plot:line(num_iter,gain_unif_after:view(-1),'black' ,'No Warm start CFR = Uniform warm start')\n",
    "---plot:line(num_iter,gain_nn_before:view(-1),'blue' ,'No Warm start CFR = Uniform warm start')\n",
    "---plot:line(num_iter,gain_target_before:view(-1),'red' ,'No Warm start CFR = Uniform warm start')\n",
    "plot:legend(true):title('Average Gain per Match')\n",
    "plot:xaxis('Number of iterations'):yaxis('Loss'):redraw()"
   ]
  },
  {
   "cell_type": "code",
   "execution_count": null,
   "metadata": {
    "collapsed": true
   },
   "outputs": [],
   "source": [
    "local num_iter = torch.range(1,win_unif_before:size(2))\n",
    "local plot = Plot()\n",
    "\n",
    "plot:line(num_iter,win_unif_before:view(-1),'black' ,'No Warm start CFR = Uniform warm start')\n",
    "plot:line(num_iter,win_nn_after:view(-1),'blue' ,'No Warm start CFR = Uniform warm start')\n",
    "plot:line(num_iter,win_target_after:view(-1),'red' ,'No Warm start CFR = Uniform warm start')\n",
    "plot:xaxis('Number of iterations'):yaxis('Loss'):redraw()"
   ]
  },
  {
   "cell_type": "code",
   "execution_count": null,
   "metadata": {
    "collapsed": true
   },
   "outputs": [],
   "source": []
  },
  {
   "cell_type": "code",
   "execution_count": null,
   "metadata": {
    "collapsed": true
   },
   "outputs": [],
   "source": [
    "local num_iter = torch.range(1,gain_unif_before:size(2))\n",
    "local plot = Plot()\n",
    "\n",
    "plot:line(num_iter,gain_unif_before:view(-1),'black' ,'No Warm start CFR = Uniform warm start')\n",
    "plot:line(num_iter,gain_nn_after:view(-1),'blue' ,'No Warm start CFR = Uniform warm start')\n",
    "plot:line(num_iter,gain_target_before:view(-1),'red' ,'No Warm start CFR = Uniform warm start')\n",
    "plot:xaxis('Number of iterations'):yaxis('Loss'):redraw()"
   ]
  },
  {
   "cell_type": "code",
   "execution_count": null,
   "metadata": {
    "collapsed": true
   },
   "outputs": [],
   "source": [
    "--- Initialize trees\n",
    "nn_iter_init = 5\n",
    "nn_iter_skip = 0\n",
    "tree_bench2 = builder:build_tree(params)\n",
    "tree_unif2 = builder:build_tree(params)\n",
    "tree_NN2, tree_targ2 = strategies_initializer(params,starting_ranges,nn_iter_init,nn_iter_skip)\n",
    "--- Gains Before\n",
    "gain_unif_before2,win_unif_before2 = get_tensor_returns(tree_bench2,tree_unif2,num_tests,num_games)\n",
    "gain_nn_before2,win_nn_before2 = get_tensor_returns(tree_bench2,tree_NN2,num_tests,num_games)\n",
    "gain_target_before2,win_target_before2 = get_tensor_returns(tree_bench2,tree_targ2,num_tests,num_games)"
   ]
  },
  {
   "cell_type": "code",
   "execution_count": null,
   "metadata": {
    "collapsed": true
   },
   "outputs": [],
   "source": []
  },
  {
   "cell_type": "code",
   "execution_count": null,
   "metadata": {
    "collapsed": true
   },
   "outputs": [],
   "source": []
  },
  {
   "cell_type": "code",
   "execution_count": null,
   "metadata": {
    "collapsed": true
   },
   "outputs": [],
   "source": []
  },
  {
   "cell_type": "code",
   "execution_count": null,
   "metadata": {
    "collapsed": true
   },
   "outputs": [],
   "source": []
  },
  {
   "cell_type": "code",
   "execution_count": null,
   "metadata": {
    "collapsed": true
   },
   "outputs": [],
   "source": []
  },
  {
   "cell_type": "code",
   "execution_count": null,
   "metadata": {
    "collapsed": true
   },
   "outputs": [],
   "source": []
  },
  {
   "cell_type": "code",
   "execution_count": null,
   "metadata": {
    "collapsed": true
   },
   "outputs": [],
   "source": []
  },
  {
   "cell_type": "code",
   "execution_count": null,
   "metadata": {
    "collapsed": true
   },
   "outputs": [],
   "source": [
    "solver_train = TreeCFR2()\n",
    "solver_train.cfr_skip = 0\n",
    "solver_train.number_of_explo_points = 10\n",
    "t1,t2= solver_train:run_match_cfr(tree_unif, starting_ranges,tree_bench ,200,10,50)"
   ]
  },
  {
   "cell_type": "code",
   "execution_count": null,
   "metadata": {
    "collapsed": true
   },
   "outputs": [],
   "source": [
    "print(t1:mean())\n",
    "print(t2:mean())"
   ]
  },
  {
   "cell_type": "code",
   "execution_count": null,
   "metadata": {
    "collapsed": true
   },
   "outputs": [],
   "source": [
    "gain_tensor,win_rate_tensor = get_final_results(tree_bench,tree_targ,10,50)"
   ]
  },
  {
   "cell_type": "code",
   "execution_count": null,
   "metadata": {
    "collapsed": true
   },
   "outputs": [],
   "source": [
    "print(gain_tensor:std())\n",
    "print(win_rate_tensor:std())"
   ]
  },
  {
   "cell_type": "code",
   "execution_count": null,
   "metadata": {
    "collapsed": true
   },
   "outputs": [],
   "source": [
    "function get_all_results(tree1,tree2,num_cfr_iter,num_repetitions,num_games_per_card)\n",
    "    local num_cfr_iter = num_cfr_iter or 100\n",
    "    local num_repetitions =  num_repetitions or 10\n",
    "    local num_games_per_card = num_games_per_card or 50\n",
    "    local = interval = num_cfr_iter/15\n",
    "    \n",
    "    for i in \n",
    "    \n",
    "    \n",
    "    \n",
    "end"
   ]
  },
  {
   "cell_type": "code",
   "execution_count": null,
   "metadata": {
    "collapsed": true
   },
   "outputs": [],
   "source": [
    "torch.round(400/15)"
   ]
  },
  {
   "cell_type": "code",
   "execution_count": null,
   "metadata": {
    "collapsed": true
   },
   "outputs": [],
   "source": []
  },
  {
   "cell_type": "code",
   "execution_count": null,
   "metadata": {
    "collapsed": true
   },
   "outputs": [],
   "source": [
    "x = torch.range(1,400,28)"
   ]
  },
  {
   "cell_type": "code",
   "execution_count": null,
   "metadata": {
    "collapsed": true
   },
   "outputs": [],
   "source": [
    "x:size(1)"
   ]
  },
  {
   "cell_type": "code",
   "execution_count": null,
   "metadata": {
    "collapsed": true
   },
   "outputs": [],
   "source": []
  },
  {
   "cell_type": "code",
   "execution_count": null,
   "metadata": {
    "collapsed": true
   },
   "outputs": [],
   "source": [
    "num_iter = 200\n",
    "match_NN_targ= StrategyEvaluator(tree_targ,tree_NN)\n",
    "match_NN_targ:play_all_combinations_n_times(tree_targ,tree_NN,num_iter)\n",
    "match_NN_targ:display_results()\n",
    "sd=match_NN_targ.A2_pot_tensor:clone():div(60*num_iter*pot):std()\n",
    "print(\"pots won: \" ,match_NN_targ.A2_total_pot)\n",
    "print(\"avg number of pots won: \" ,match_NN_targ.A2_avg_pot_won)\n",
    "print(\"standard deviation, \",sd )\n",
    "print(\"win_rate\", match_NN_targ.A2_winning_rate)"
   ]
  },
  {
   "cell_type": "code",
   "execution_count": null,
   "metadata": {
    "collapsed": true
   },
   "outputs": [],
   "source": [
    "num_iter = 20\n",
    "match_NN_targ= StrategyEvaluator(tree_targ,tree_NN)\n",
    "match_NN_targ:play_all_combinations_n_times(tree_targ,tree_NN,num_iter)\n",
    "match_NN_targ:display_results()\n",
    "sd=match_NN_targ.A2_pot_tensor:clone():div(60*num_iter*pot):std()\n",
    "print(\"pots won: \" ,match_NN_targ.A2_total_pot)\n",
    "print(\"avg number of pots won: \" ,match_NN_targ.A2_avg_pot_won)\n",
    "print(\"standard deviation, \",sd )\n",
    "print(\"win_rate\", match_NN_targ.A2_winning_rate)"
   ]
  },
  {
   "cell_type": "code",
   "execution_count": null,
   "metadata": {
    "collapsed": true
   },
   "outputs": [],
   "source": [
    "num_iter = 500\n",
    "match_NN_targ= StrategyEvaluator(tree_targ,tree_NN)\n",
    "match_NN_targ:play_all_combinations_n_times(tree_targ,tree_NN,num_iter)\n",
    "match_NN_targ:display_results()\n",
    "sd=match_NN_targ.A2_pot_tensor:clone():div(60*num_iter*pot):std()\n",
    "print(\"pots won: \" ,match_NN_targ.A2_total_pot)\n",
    "print(\"avg number of pots won: \" ,match_NN_targ.A2_avg_pot_won)\n",
    "print(\"standard deviation, \",sd )\n",
    "print(\"win_rate\", match_NN_targ.A2_winning_rate)"
   ]
  },
  {
   "cell_type": "code",
   "execution_count": null,
   "metadata": {
    "collapsed": true
   },
   "outputs": [],
   "source": []
  },
  {
   "cell_type": "code",
   "execution_count": null,
   "metadata": {
    "collapsed": true
   },
   "outputs": [],
   "source": []
  },
  {
   "cell_type": "code",
   "execution_count": null,
   "metadata": {
    "collapsed": true
   },
   "outputs": [],
   "source": [
    "local num_iter = 100\n",
    "match_NN_targ= StrategyEvaluator(tree_bench,tree_targ)\n",
    "match_NN_targ:play_all_combinations_n_times(tree_bench,tree_targ,num_iter)\n",
    "match_NN_targ:display_results()\n",
    "print(\"avg number of pots won: \" ,match_NN_targ.A2_total_pot/(total_combinations*num_iter*pot))"
   ]
  },
  {
   "cell_type": "code",
   "execution_count": null,
   "metadata": {
    "collapsed": true
   },
   "outputs": [],
   "source": [
    "local num_iter = 100\n",
    "match_NN_targ= StrategyEvaluator(tree_NN,tree_targ)\n",
    "match_NN_targ:play_all_combinations_n_times(tree_NN,tree_targ,num_iter)\n",
    "match_NN_targ:display_results()\n",
    "print(\"avg number of pots won: \" ,match_NN_targ.A2_total_pot/(total_combinations*num_iter*pot))"
   ]
  },
  {
   "cell_type": "code",
   "execution_count": null,
   "metadata": {
    "collapsed": true
   },
   "outputs": [],
   "source": [
    "local num_iter = 500\n",
    "match_NN_targ= StrategyEvaluator(tree_unif,tree_targ)\n",
    "match_NN_targ:play_all_combinations_n_times(tree_unif,tree_targ,num_iter)\n",
    "match_NN_targ:display_results()\n",
    "print(\"avg number of pots won: \" ,match_NN_targ.A2_total_pot/(total_combinations*num_iter*pot))"
   ]
  },
  {
   "cell_type": "code",
   "execution_count": null,
   "metadata": {
    "collapsed": true
   },
   "outputs": [],
   "source": [
    "cards = {}\n",
    "cards.P1 = 1\n",
    "cards.P2 = 3\n",
    "cards.board = 4\n",
    "number_of_games = 100"
   ]
  },
  {
   "cell_type": "code",
   "execution_count": null,
   "metadata": {
    "collapsed": true
   },
   "outputs": [],
   "source": [
    "match_NN_targ= StrategyEvaluator(tree_unif,tree_targ)\n",
    "match_NN_targ:play_cards_n_times(tree_unif,tree_targ,number_of_games,cards)\n",
    "match_NN_targ:display_results()\n",
    "print(\"avg number of pots won: \" ,match_NN_targ.A2_pot)"
   ]
  },
  {
   "cell_type": "code",
   "execution_count": null,
   "metadata": {
    "collapsed": true
   },
   "outputs": [],
   "source": [
    "torch.FloatTensor(1,6):fill(0)"
   ]
  },
  {
   "cell_type": "code",
   "execution_count": null,
   "metadata": {
    "collapsed": true
   },
   "outputs": [],
   "source": []
  },
  {
   "cell_type": "code",
   "execution_count": null,
   "metadata": {
    "collapsed": true
   },
   "outputs": [],
   "source": []
  },
  {
   "cell_type": "code",
   "execution_count": null,
   "metadata": {
    "collapsed": true
   },
   "outputs": [],
   "source": [
    "solver_train = TreeCFR2()\n",
    "solver_train.cfr_skip = 50\n",
    "solver_train:run_cfr(tree_unif,starting_ranges,200)"
   ]
  },
  {
   "cell_type": "code",
   "execution_count": null,
   "metadata": {
    "collapsed": true
   },
   "outputs": [],
   "source": [
    "treeNNWarm_cfr = TreeCFR2()\n",
    "treeNNWarm_cfr.cfr_skip = 0\n",
    "treeNNWarm_cfr:run_cfr(treeNNWarm, starting_ranges,number_of_iterations)\n",
    "treeTargetWarm_cfr = TreeCFR2()\n",
    "treeTargetWarm_cfr.cfr_skip = 0\n",
    "treeTargetWarm_cfr:run_cfr(treeTargetWarm, starting_ranges,number_of_iterations)"
   ]
  },
  {
   "cell_type": "code",
   "execution_count": null,
   "metadata": {
    "collapsed": true
   },
   "outputs": [],
   "source": []
  },
  {
   "cell_type": "code",
   "execution_count": null,
   "metadata": {
    "collapsed": true
   },
   "outputs": [],
   "source": []
  },
  {
   "cell_type": "code",
   "execution_count": null,
   "metadata": {
    "collapsed": true
   },
   "outputs": [],
   "source": []
  },
  {
   "cell_type": "code",
   "execution_count": null,
   "metadata": {
    "collapsed": true
   },
   "outputs": [],
   "source": []
  },
  {
   "cell_type": "code",
   "execution_count": null,
   "metadata": {
    "collapsed": true
   },
   "outputs": [],
   "source": [
    "print(\"board: \", match_NN_targ.board)\n",
    "print(\"card1: \", match_NN_targ.card1)\n",
    "print(\"card2: \", match_NN_targ.card2)\n",
    "\n",
    "print(\"pot_before\",match_NN_targ.A2_pot)\n",
    "match_NN_targ:play_game(tree_bench,tree_NN,1)\n",
    "print(\"pot_after\",match_NN_targ.A2_pot)\n",
    "\n",
    "print(\"pot_before\",match_NN_targ.A2_pot)\n",
    "match_NN_targ:play_game(tree_NN,tree_bench,2)\n",
    "print(\"pot_after\",match_NN_targ.A2_pot)"
   ]
  },
  {
   "cell_type": "code",
   "execution_count": null,
   "metadata": {
    "collapsed": true
   },
   "outputs": [],
   "source": []
  },
  {
   "cell_type": "code",
   "execution_count": null,
   "metadata": {
    "collapsed": true
   },
   "outputs": [],
   "source": [
    "---visualiser = TreeVisualiser()\n",
    "---visualiser:graphviz(tree1, \"zero_blind\")"
   ]
  },
  {
   "cell_type": "code",
   "execution_count": null,
   "metadata": {
    "collapsed": true
   },
   "outputs": [],
   "source": [
    "solver5 = TreeCFR2()\n",
    "solver5.cfr_skip = 20\n",
    "solver5:run_cfr(tree_500,starting_ranges,500)"
   ]
  },
  {
   "cell_type": "code",
   "execution_count": null,
   "metadata": {
    "collapsed": true
   },
   "outputs": [],
   "source": [
    "solver2 = TreeCFR2()\n",
    "solver2.cfr_skip = 20\n",
    "solver2:run_cfr(tree_200,starting_ranges,50)"
   ]
  },
  {
   "cell_type": "code",
   "execution_count": null,
   "metadata": {
    "collapsed": true
   },
   "outputs": [],
   "source": []
  },
  {
   "cell_type": "code",
   "execution_count": null,
   "metadata": {
    "collapsed": true
   },
   "outputs": [],
   "source": [
    "--- NNWarm Starting\n",
    "dataNN = TreeData(tree_200)\n",
    "dataNN:get_training_set(tree_200,1)\n",
    "\n",
    "dataNN5 = TreeData(tree_500)\n",
    "dataNN5:get_training_set(tree_500,1)\n",
    "\n"
   ]
  },
  {
   "cell_type": "code",
   "execution_count": null,
   "metadata": {
    "collapsed": true
   },
   "outputs": [],
   "source": [
    "tree_eval_200 = StrategyEvaluator(tree_bench,tree_200)\n",
    "tree_eval_500 = StrategyEvaluator(tree_bench,tree_500)\n",
    "tree_eval = StrategyEvaluator(tree_200,tree_500)\n"
   ]
  },
  {
   "cell_type": "code",
   "execution_count": null,
   "metadata": {
    "collapsed": true
   },
   "outputs": [],
   "source": [
    "tree_eval_200:play_all_combinations_n_times(tree_bench,tree_200,20)\n",
    "tree_eval_200:display_results()"
   ]
  },
  {
   "cell_type": "code",
   "execution_count": null,
   "metadata": {
    "collapsed": true
   },
   "outputs": [],
   "source": [
    "tree_eval_500:play_all_combinations_n_times(tree_bench,tree_500,20)\n",
    "tree_eval_500:display_results()"
   ]
  },
  {
   "cell_type": "code",
   "execution_count": null,
   "metadata": {
    "collapsed": true
   },
   "outputs": [],
   "source": [
    "tree_eval:play_all_combinations_n_times(tree_200,tree_500,50)\n",
    "tree_eval:display_results()"
   ]
  },
  {
   "cell_type": "code",
   "execution_count": null,
   "metadata": {
    "collapsed": true
   },
   "outputs": [],
   "source": [
    "avg_pot_won = tree_eval:calculate_return(tree_200,tree_500,500,50)"
   ]
  },
  {
   "cell_type": "code",
   "execution_count": null,
   "metadata": {
    "collapsed": true
   },
   "outputs": [],
   "source": [
    "---timer = torch.Timer()\n",
    "--print('Time elapsed ' .. timer:time().real .. ' seconds')"
   ]
  },
  {
   "cell_type": "code",
   "execution_count": null,
   "metadata": {
    "collapsed": true
   },
   "outputs": [],
   "source": [
    "avg_pot_won2 = tree_eval_200:calculate_return(tree_bench,tree_200,200,50)"
   ]
  },
  {
   "cell_type": "code",
   "execution_count": null,
   "metadata": {
    "collapsed": true
   },
   "outputs": [],
   "source": [
    "avg_pot_won5 = tree_eval_500:calculate_return(tree_bench,tree_500,200,50)"
   ]
  },
  {
   "cell_type": "code",
   "execution_count": null,
   "metadata": {
    "collapsed": true
   },
   "outputs": [],
   "source": [
    "local plot = Plot()\n",
    "local x = tree_eval_200.range_games\n",
    "\n",
    "plot:line(x,x:clone():fill(avg_pot_won2:mean()),'red' ,'Original CFR in the paper')\n",
    "plot:line(x,avg_pot_won2:view(-1),'brown' ,'No Warm start CFR')\n",
    "\n",
    "plot:line(x,x:clone():fill(avg_pot_won5:mean()),'blue' ,'Original CFR in the paper')\n",
    "plot:line(x,avg_pot_won5:view(-1),'black' ,'No Warm start CFR')\n",
    "\n",
    "plot:draw()\n",
    "\n"
   ]
  },
  {
   "cell_type": "code",
   "execution_count": null,
   "metadata": {
    "collapsed": true
   },
   "outputs": [],
   "source": [
    "tree_eval:display_results()"
   ]
  },
  {
   "cell_type": "code",
   "execution_count": null,
   "metadata": {
    "collapsed": true
   },
   "outputs": [],
   "source": [
    "print(tree_eval.A2_pot_matrix:sum())\n",
    "print(tree_eval.A2_pot_matrix:std())"
   ]
  },
  {
   "cell_type": "code",
   "execution_count": null,
   "metadata": {
    "collapsed": true
   },
   "outputs": [],
   "source": [
    "print(\"Total number of pots won : \",tree_eval.A2_pot_matrix:sum()/min_pot)"
   ]
  },
  {
   "cell_type": "code",
   "execution_count": null,
   "metadata": {
    "collapsed": true
   },
   "outputs": [],
   "source": [
    "print(\"average amount won per game\",tree_eval.A2_pot_matrix:sum()/(number_of_times*60))"
   ]
  },
  {
   "cell_type": "code",
   "execution_count": null,
   "metadata": {
    "collapsed": true
   },
   "outputs": [],
   "source": [
    "avg_per_hand = tree_eval.A2_pot_matrix:mean(2)"
   ]
  },
  {
   "cell_type": "code",
   "execution_count": null,
   "metadata": {
    "collapsed": true
   },
   "outputs": [],
   "source": [
    "plot = Plot():circle(torch.range(1,avg_per_hand:size(1)),avg_per_hand:view(-1))\n",
    "plot:legend(true):title('Player 2 pot distribution, 10000 games, each possible card dealt'):draw()\n"
   ]
  },
  {
   "cell_type": "code",
   "execution_count": null,
   "metadata": {
    "collapsed": true
   },
   "outputs": [],
   "source": [
    "-- Building the neural net model\n",
    "strategy_nn = StrategyNN()\n",
    "nn_model = strategy_nn.model\n",
    "-- Building trainer:\n",
    "nn_trainer = NNTrainer(tree_data800,nn_model)\n",
    "-- Options:\n",
    "opt = {}\n",
    "opt.learningRate = 0.001\n",
    "opt.momentum = 0.95\n",
    "opt.validate = false"
   ]
  },
  {
   "cell_type": "code",
   "execution_count": null,
   "metadata": {
    "collapsed": true
   },
   "outputs": [],
   "source": []
  },
  {
   "cell_type": "code",
   "execution_count": null,
   "metadata": {
    "collapsed": true
   },
   "outputs": [],
   "source": []
  },
  {
   "cell_type": "code",
   "execution_count": null,
   "metadata": {
    "collapsed": true
   },
   "outputs": [],
   "source": [
    "cards = {}\n",
    "cards.P1 = 1\n",
    "cards.P2 = 2\n",
    "cards.board = 4\n",
    "number_of_games = 100"
   ]
  },
  {
   "cell_type": "code",
   "execution_count": null,
   "metadata": {
    "collapsed": true
   },
   "outputs": [],
   "source": [
    "tree_eval.A2_pot_tensor"
   ]
  },
  {
   "cell_type": "code",
   "execution_count": null,
   "metadata": {
    "collapsed": true
   },
   "outputs": [],
   "source": [
    "print(tree_eval.A2_pot_tensor:mean())\n",
    "print(tree_eval.A2_pot_tensor:std())"
   ]
  },
  {
   "cell_type": "code",
   "execution_count": null,
   "metadata": {
    "collapsed": true
   },
   "outputs": [],
   "source": [
    "tree_eval:display_results()"
   ]
  },
  {
   "cell_type": "code",
   "execution_count": null,
   "metadata": {
    "collapsed": true
   },
   "outputs": [],
   "source": [
    "local pot_table = {}\n",
    "local size_sample = 50\n",
    "for i = 1,50 do\n",
    "    tree_eval:play_several_games(tree1,tree2,size_sample)\n",
    "    table.insert(pot_table,tree_eval.A2_pot/size_sample)\n",
    "end\n",
    "print(\"player_2 won: \",torch.FloatTensor(pot_table):mean())"
   ]
  },
  {
   "cell_type": "code",
   "execution_count": null,
   "metadata": {
    "collapsed": true
   },
   "outputs": [],
   "source": [
    "pot_table_A2 = {}\n",
    "local number_of_games = 1000\n",
    "local cards_tensor = construct_possible_game_states()\n",
    "for i = 1,cards_tensor:size(1) do\n",
    "    local cards = distribute_cards(cards_tensor[i])\n",
    "    tree_eval:play_deterministic_games(tree1,tree2,number_of_games,cards)\n",
    "    table.insert(pot_table_A2,tree_eval.A2_pot)\n",
    "end\n",
    "print(\"player_2 won: \",torch.FloatTensor(pot_table_A2):mean())\n",
    "print(\"player_2 std: \",torch.FloatTensor(pot_table_A2):std())\n",
    "tree_eval:display_results()"
   ]
  },
  {
   "cell_type": "code",
   "execution_count": null,
   "metadata": {
    "collapsed": true
   },
   "outputs": [],
   "source": [
    "torch.sqrt(60)*(1803/150716)"
   ]
  },
  {
   "cell_type": "code",
   "execution_count": null,
   "metadata": {
    "collapsed": true
   },
   "outputs": [],
   "source": [
    "plot = Plot():histogram(torch.FloatTensor(pot_table_A2)):draw()"
   ]
  },
  {
   "cell_type": "code",
   "execution_count": null,
   "metadata": {
    "collapsed": true
   },
   "outputs": [],
   "source": []
  },
  {
   "cell_type": "code",
   "execution_count": null,
   "metadata": {
    "collapsed": true
   },
   "outputs": [],
   "source": [
    "pot_table1 = {}\n",
    "local number_of_games = 10\n",
    "local cards_tensor = construct_possible_game_states()\n",
    "for i = 1,cards_tensor:size(1) do\n",
    "    for j = 1,number_of_games do\n",
    "        local cards = distribute_cards(cards_tensor[i])\n",
    "        tree_eval:play_deterministic_games(tree1,tree2,number_of_plays,cards)\n",
    "        table.insert(pot_table1,tree_eval.A2_pot)\n",
    "    end\n",
    "end\n",
    "print(\"player_2 won: \",torch.FloatTensor(pot_table1):mean())\n",
    "print(\"player_2 std: \",torch.FloatTensor(pot_table1):std())"
   ]
  },
  {
   "cell_type": "code",
   "execution_count": null,
   "metadata": {
    "collapsed": true
   },
   "outputs": [],
   "source": [
    "pot_table1 = {}\n",
    "local number_of_games = 20\n",
    "local cards_tensor = construct_possible_game_states()\n",
    "for i = 1,cards_tensor:size(1) do\n",
    "    for j = 1,number_of_games do\n",
    "        local cards = distribute_cards(cards_tensor[i])\n",
    "        tree_eval:play_deterministic_games(tree1,tree2,number_of_plays,cards)\n",
    "        table.insert(pot_table1,tree_eval.A2_pot)\n",
    "    end\n",
    "end\n",
    "print(\"player_2 won: \",torch.FloatTensor(pot_table1):mean())\n",
    "print(\"player_2 std: \",torch.FloatTensor(pot_table1):std())"
   ]
  },
  {
   "cell_type": "code",
   "execution_count": null,
   "metadata": {
    "collapsed": true
   },
   "outputs": [],
   "source": [
    "pot_table1 = {}\n",
    "local number_of_games = 50\n",
    "local cards_tensor = construct_possible_game_states()\n",
    "for i = 1,cards_tensor:size(1) do\n",
    "    for j = 1,number_of_games do\n",
    "        local cards = distribute_cards(cards_tensor[i])\n",
    "        tree_eval:play_deterministic_games(tree1,tree2,number_of_plays,cards)   --- --> CHECK NUMBER OF GAMES!\n",
    "        table.insert(pot_table1,tree_eval.A2_pot)\n",
    "    end\n",
    "end\n",
    "print(\"player_2 won: \",torch.FloatTensor(pot_table1):mean())\n",
    "print(\"player_2 std: \",torch.FloatTensor(pot_table1):std())"
   ]
  },
  {
   "cell_type": "code",
   "execution_count": null,
   "metadata": {
    "collapsed": true
   },
   "outputs": [],
   "source": [
    " cardsInv = {}\n",
    "cardsInv.P1 = cards.P2\n",
    "cardsInv.P2 = cards.P1\n",
    "cardsInv.board = cards.board"
   ]
  },
  {
   "cell_type": "code",
   "execution_count": null,
   "metadata": {
    "collapsed": true
   },
   "outputs": [],
   "source": [
    "pot_table2 = {}\n",
    "local size_sample = 100\n",
    "for i = 1,20 do\n",
    "    tree_eval:play_deterministic_games(tree1,tree2,size_sample,cardsInv)\n",
    "    table.insert(pot_table2,tree_eval.A2_pot/size_sample)\n",
    "end\n",
    "print(\"player_2 won: \",torch.FloatTensor(pot_table2):mean())\n",
    "print(\"player_2 std: \",torch.FloatTensor(pot_table2):std())"
   ]
  },
  {
   "cell_type": "code",
   "execution_count": null,
   "metadata": {
    "collapsed": true
   },
   "outputs": [],
   "source": [
    "---plot = Plot():histogram(torch.FloatTensor(pot_table1)):draw()"
   ]
  },
  {
   "cell_type": "code",
   "execution_count": null,
   "metadata": {
    "collapsed": true
   },
   "outputs": [],
   "source": [
    "---plot = Plot():histogram(torch.FloatTensor(pot_table2)):draw()"
   ]
  },
  {
   "cell_type": "code",
   "execution_count": null,
   "metadata": {
    "collapsed": true
   },
   "outputs": [],
   "source": [
    "x[1]"
   ]
  },
  {
   "cell_type": "code",
   "execution_count": null,
   "metadata": {
    "collapsed": true
   },
   "outputs": [],
   "source": [
    "      local winner = self:compute_winner(tree_current_agent)\n",
    "      if agent_to_act == 1 then\n",
    "        self.current_winner = winner\n",
    "        print(\"winner\", winner)\n",
    "        self:update_pot(winner,tree_current_agent)\n",
    "      else\n",
    "        self.current_winner = winner%2+1\n",
    "        print(\"winner\", winner)\n",
    "        self:update_pot(winner,tree_current_agent)\n",
    "      end\n"
   ]
  },
  {
   "cell_type": "code",
   "execution_count": null,
   "metadata": {
    "collapsed": true
   },
   "outputs": [],
   "source": [
    "number_of_times = 100\n",
    "interval = 20\n",
    "range_games = torch.range(0,number_of_times,interval)\n",
    "pots_won_tensor = torch.FlaoatTensor(1,range_games:size(1))\n",
    "avg_gain_per_game = torch.FloatTensor(1,range_games:size(1))\n",
    "range_games[1] = 1\n",
    "for i = 1,range_games:size(1) do\n",
    "    print(\"iteration: \", range_games[i])\n",
    "    tree_eval:play_all_combinations_n_times(tree_bench,tree_200,range_games[i])\n",
    "    local pot_won = tree_eval.A2_pot_matrix:sum()/(pot*range_games[i]*60)\n",
    "    local avg_gain = tree_eval.A2_pot_matrix:sum()/(range_games[i]*60)\n",
    "    pots_won_tensor[{1,i}] = pot_won\n",
    "    avg_gain_per_game[{1,i}] = avg_gain\n",
    "    print(\"Total number of pots won : \",pot_won)\n",
    "    print(\"average amount won per game\",avg_gain)\n",
    "    collectgarbage()\n",
    "end\n"
   ]
  }
 ],
 "metadata": {
  "kernelspec": {
   "display_name": "iTorch",
   "language": "lua",
   "name": "itorch"
  },
  "language_info": {
   "name": "lua",
   "version": "5.2"
  }
 },
 "nbformat": 4,
 "nbformat_minor": 2
}
